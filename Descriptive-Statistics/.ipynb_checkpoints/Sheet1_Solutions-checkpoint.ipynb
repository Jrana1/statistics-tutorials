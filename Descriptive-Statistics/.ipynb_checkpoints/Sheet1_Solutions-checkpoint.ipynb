{
 "cells": [
  {
   "cell_type": "markdown",
   "id": "687ab97d",
   "metadata": {},
   "source": [
    "<h1 style=\"color:green;text-align:center\">Basic terms and definitions</h1>"
   ]
  },
  {
   "cell_type": "markdown",
   "id": "ee2dbb96",
   "metadata": {},
   "source": [
    "**Qualitative** \n",
    "  + categorical\n",
    "  + non-numeric\n",
    "  "
   ]
  },
  {
   "cell_type": "markdown",
   "id": "d8050f04",
   "metadata": {},
   "source": [
    "<h1 style=\"color:green;text-align:center\">Introduction to R and RStudio</h1>"
   ]
  },
  {
   "cell_type": "markdown",
   "id": "f330c19d",
   "metadata": {},
   "source": [
    "<h3 style=\"color:blue;text-align:center\">Exercise 1</h3>"
   ]
  },
  {
   "cell_type": "markdown",
   "id": "f09ac0cb",
   "metadata": {},
   "source": [
    "+ the sum of 52.3, 74.8, 3.17\n"
   ]
  },
  {
   "cell_type": "code",
   "execution_count": 2,
   "id": "fd466234",
   "metadata": {},
   "outputs": [
    {
     "data": {
      "text/html": [
       "130.27"
      ],
      "text/latex": [
       "130.27"
      ],
      "text/markdown": [
       "130.27"
      ],
      "text/plain": [
       "[1] 130.27"
      ]
     },
     "metadata": {},
     "output_type": "display_data"
    }
   ],
   "source": [
    " 52.3 + 74.8 + 3.17"
   ]
  },
  {
   "cell_type": "markdown",
   "id": "b82cc28a",
   "metadata": {},
   "source": [
    " ## Math functions in R  "
   ]
  },
  {
   "cell_type": "markdown",
   "id": "850eec5e",
   "metadata": {},
   "source": [
    "   + \n",
    "        + <code>abs()</code>: Compute the absolute value of a number.\n",
    "        + <code>sqrt()</code>: Calculate the square root of a number.\n",
    "        + <code>exp()</code>: Compute the exponential function, e^x.\n",
    "        + <code>log()</code>: Compute the natural logarithm (base e) of a number.\n",
    "        + <code>log10()</code>: Compute the base-10 logarithm of a number.\n",
    "        + <code>log2()</code>: Compute the base-2 logarithm of a number.\n",
    "        + <code>cos()</code>: Calculate the cosine of an angle in radians.\n",
    "        + <code>sin()</code>: Calculate the sine of an angle in radians.\n",
    "        + <code>tan()</code>: Calculate the tangent of an angle in radians.\n",
    "        + <code>acos()</code>: Calculate the arccosine (inverse cosine) of a value.\n",
    "        + <code>asin()</code>: Calculate the arcsine (inverse sine) of a value.\n",
    "        + <code>atan()</code>: Calculate the arctangent (inverse tangent) of a value.\n",
    "        + <code>atan2()</code>: Calculate the arctangent of y/x, taking both coordinates into account.\n",
    "        + <code>cospi()</code>: Calculate the cosine of an angle in degrees.\n",
    "        + <code>sinpi()</code>: Calculate the sine of an angle in degrees.\n",
    "        + <code>tanpi()</code>: Calculate the tangent of an angle in degrees.\n",
    "        + <code>floor()</code>: Round down to the nearest integer.\n",
    "        + <code>ceiling()</code>: Round up to the nearest integer.\n",
    "        + <code>round()</code>: Round to the nearest integer.\n",
    "        + <code>trunc()</code>: Truncate decimal parts (remove fractional part).\n",
    "        + <code>sign()</code>: Determine the sign of a number (positive, negative, or zero).\n",
    "        + <code>max()</code>: Find the maximum value in a vector or set of values.\n",
    "        + <code>min()</code>: Find the minimum value in a vector or set of values.\n",
    "        + <code>sum()</code>: Calculate the sum of all elements in a vector.\n",
    "        + <code>prod()</code>: Calculate the product of all elements in a vector.\n",
    "        + <code>mean()</code>: Calculate the mean (average) of a vector of values.\n",
    "        + <code>median()</code>: Calculate the median (middle value) of a vector.\n",
    "        + <code>var()</code>: Calculate the variance of a vector of values.\n",
    "        + <code>sd()</code>: Calculate the standard deviation of a vector of values.\n",
    "        + <code>cor()</code>: Calculate the correlation coefficient between two vectors.\n",
    "        + <code>cov()</code>: Calculate the covariance between two vectors.\n",
    "\n"
   ]
  },
  {
   "cell_type": "code",
   "execution_count": 3,
   "id": "aabd4bc5",
   "metadata": {},
   "outputs": [
    {
     "data": {
      "text/html": [
       "12"
      ],
      "text/latex": [
       "12"
      ],
      "text/markdown": [
       "12"
      ],
      "text/plain": [
       "[1] 12"
      ]
     },
     "metadata": {},
     "output_type": "display_data"
    }
   ],
   "source": [
    "# the square root of 144\n",
    "sqrt(144)"
   ]
  },
  {
   "cell_type": "code",
   "execution_count": 8,
   "id": "c77b0e27",
   "metadata": {},
   "outputs": [
    {
     "data": {
      "text/html": [
       "1"
      ],
      "text/latex": [
       "1"
      ],
      "text/markdown": [
       "1"
      ],
      "text/plain": [
       "[1] 1"
      ]
     },
     "metadata": {},
     "output_type": "display_data"
    }
   ],
   "source": [
    "# test\n",
    "sin(pi/2)"
   ]
  },
  {
   "cell_type": "code",
   "execution_count": 6,
   "id": "7359996c",
   "metadata": {},
   "outputs": [
    {
     "data": {
      "text/html": [
       "1.62707391364765"
      ],
      "text/latex": [
       "1.62707391364765"
      ],
      "text/markdown": [
       "1.62707391364765"
      ],
      "text/plain": [
       "[1] 1.627074"
      ]
     },
     "metadata": {},
     "output_type": "display_data"
    }
   ],
   "source": [
    "# the 10-based logarithm of 200 multiplied with sin of π/4\n",
    "log10(200)*sin((pi/4))"
   ]
  },
  {
   "cell_type": "code",
   "execution_count": 9,
   "id": "a8695a0d",
   "metadata": {},
   "outputs": [
    {
     "data": {
      "text/html": [
       "<style>\n",
       ".list-inline {list-style: none; margin:0; padding: 0}\n",
       ".list-inline>li {display: inline-block}\n",
       ".list-inline>li:not(:last-child)::after {content: \"\\00b7\"; padding: 0 .5ex}\n",
       "</style>\n",
       "<ol class=list-inline><li>1</li><li>4</li><li>22</li><li>42</li><li>44</li></ol>\n"
      ],
      "text/latex": [
       "\\begin{enumerate*}\n",
       "\\item 1\n",
       "\\item 4\n",
       "\\item 22\n",
       "\\item 42\n",
       "\\item 44\n",
       "\\end{enumerate*}\n"
      ],
      "text/markdown": [
       "1. 1\n",
       "2. 4\n",
       "3. 22\n",
       "4. 42\n",
       "5. 44\n",
       "\n",
       "\n"
      ],
      "text/plain": [
       "[1]  1  4 22 42 44"
      ]
     },
     "metadata": {},
     "output_type": "display_data"
    }
   ],
   "source": [
    "# the cumulative sum of the numbers 1,3,18,20,2 (use the cumsum() command)\n",
    "vec<-c(1,3,18,20,2)\n",
    "cumsum(vec)"
   ]
  },
  {
   "cell_type": "markdown",
   "id": "cfc24d7e",
   "metadata": {},
   "source": [
    "+ Find 10 numbers between 0 and 20 rounded to the nearest integer\n",
    "  value (hint use the command <code>sample()</code> or a combination of  the\n",
    "  commands <code>round()</code> and <code>runif()</code>"
   ]
  },
  {
   "cell_type": "markdown",
   "id": "d00b13e9",
   "metadata": {},
   "source": [
    " using <code>sample()</code>"
   ]
  },
  {
   "cell_type": "code",
   "execution_count": 21,
   "id": "6d7f9633",
   "metadata": {},
   "outputs": [
    {
     "data": {
      "text/html": [
       "<style>\n",
       ".list-inline {list-style: none; margin:0; padding: 0}\n",
       ".list-inline>li {display: inline-block}\n",
       ".list-inline>li:not(:last-child)::after {content: \"\\00b7\"; padding: 0 .5ex}\n",
       "</style>\n",
       "<ol class=list-inline><li>0</li><li>1</li><li>2</li><li>3</li><li>4</li><li>5</li><li>6</li><li>7</li><li>8</li><li>9</li><li>10</li><li>11</li><li>12</li><li>13</li><li>14</li><li>15</li><li>16</li><li>17</li><li>18</li><li>19</li><li>20</li></ol>\n"
      ],
      "text/latex": [
       "\\begin{enumerate*}\n",
       "\\item 0\n",
       "\\item 1\n",
       "\\item 2\n",
       "\\item 3\n",
       "\\item 4\n",
       "\\item 5\n",
       "\\item 6\n",
       "\\item 7\n",
       "\\item 8\n",
       "\\item 9\n",
       "\\item 10\n",
       "\\item 11\n",
       "\\item 12\n",
       "\\item 13\n",
       "\\item 14\n",
       "\\item 15\n",
       "\\item 16\n",
       "\\item 17\n",
       "\\item 18\n",
       "\\item 19\n",
       "\\item 20\n",
       "\\end{enumerate*}\n"
      ],
      "text/markdown": [
       "1. 0\n",
       "2. 1\n",
       "3. 2\n",
       "4. 3\n",
       "5. 4\n",
       "6. 5\n",
       "7. 6\n",
       "8. 7\n",
       "9. 8\n",
       "10. 9\n",
       "11. 10\n",
       "12. 11\n",
       "13. 12\n",
       "14. 13\n",
       "15. 14\n",
       "16. 15\n",
       "17. 16\n",
       "18. 17\n",
       "19. 18\n",
       "20. 19\n",
       "21. 20\n",
       "\n",
       "\n"
      ],
      "text/plain": [
       " [1]  0  1  2  3  4  5  6  7  8  9 10 11 12 13 14 15 16 17 18 19 20"
      ]
     },
     "metadata": {},
     "output_type": "display_data"
    }
   ],
   "source": [
    "c(0:20)"
   ]
  },
  {
   "cell_type": "code",
   "execution_count": 11,
   "id": "b1db3482",
   "metadata": {},
   "outputs": [
    {
     "data": {
      "text/html": [
       "<style>\n",
       ".list-inline {list-style: none; margin:0; padding: 0}\n",
       ".list-inline>li {display: inline-block}\n",
       ".list-inline>li:not(:last-child)::after {content: \"\\00b7\"; padding: 0 .5ex}\n",
       "</style>\n",
       "<ol class=list-inline><li>12</li><li>8</li><li>4</li><li>9</li><li>10</li><li>0</li><li>6</li><li>18</li><li>15</li><li>20</li></ol>\n"
      ],
      "text/latex": [
       "\\begin{enumerate*}\n",
       "\\item 12\n",
       "\\item 8\n",
       "\\item 4\n",
       "\\item 9\n",
       "\\item 10\n",
       "\\item 0\n",
       "\\item 6\n",
       "\\item 18\n",
       "\\item 15\n",
       "\\item 20\n",
       "\\end{enumerate*}\n"
      ],
      "text/markdown": [
       "1. 12\n",
       "2. 8\n",
       "3. 4\n",
       "4. 9\n",
       "5. 10\n",
       "6. 0\n",
       "7. 6\n",
       "8. 18\n",
       "9. 15\n",
       "10. 20\n",
       "\n",
       "\n"
      ],
      "text/plain": [
       " [1] 12  8  4  9 10  0  6 18 15 20"
      ]
     },
     "metadata": {},
     "output_type": "display_data"
    }
   ],
   "source": [
    "sample(x=c(0:20),size = 10,replace = F)"
   ]
  },
  {
   "cell_type": "markdown",
   "id": "c9d4a39f",
   "metadata": {},
   "source": [
    "using <code>runif()</code>"
   ]
  },
  {
   "cell_type": "code",
   "execution_count": 16,
   "id": "b8db91e5",
   "metadata": {
    "scrolled": true
   },
   "outputs": [
    {
     "data": {
      "text/html": [
       "<style>\n",
       ".list-inline {list-style: none; margin:0; padding: 0}\n",
       ".list-inline>li {display: inline-block}\n",
       ".list-inline>li:not(:last-child)::after {content: \"\\00b7\"; padding: 0 .5ex}\n",
       "</style>\n",
       "<ol class=list-inline><li>2.68411754164845</li><li>9.08004242694005</li><li>6.48323894012719</li><li>8.1227572564967</li><li>9.98008915688843</li><li>2.46913866372779</li><li>8.98737626615912</li><li>5.61209798557684</li><li>4.18034312548116</li><li>8.4738403884694</li></ol>\n"
      ],
      "text/latex": [
       "\\begin{enumerate*}\n",
       "\\item 2.68411754164845\n",
       "\\item 9.08004242694005\n",
       "\\item 6.48323894012719\n",
       "\\item 8.1227572564967\n",
       "\\item 9.98008915688843\n",
       "\\item 2.46913866372779\n",
       "\\item 8.98737626615912\n",
       "\\item 5.61209798557684\n",
       "\\item 4.18034312548116\n",
       "\\item 8.4738403884694\n",
       "\\end{enumerate*}\n"
      ],
      "text/markdown": [
       "1. 2.68411754164845\n",
       "2. 9.08004242694005\n",
       "3. 6.48323894012719\n",
       "4. 8.1227572564967\n",
       "5. 9.98008915688843\n",
       "6. 2.46913866372779\n",
       "7. 8.98737626615912\n",
       "8. 5.61209798557684\n",
       "9. 4.18034312548116\n",
       "10. 8.4738403884694\n",
       "\n",
       "\n"
      ],
      "text/plain": [
       " [1] 2.684118 9.080042 6.483239 8.122757 9.980089 2.469139 8.987376 5.612098\n",
       " [9] 4.180343 8.473840"
      ]
     },
     "metadata": {},
     "output_type": "display_data"
    }
   ],
   "source": [
    "sm<-runif(n=10,min = 0,max=10)\n",
    "sm"
   ]
  },
  {
   "cell_type": "code",
   "execution_count": 20,
   "id": "abc7d4bf",
   "metadata": {},
   "outputs": [
    {
     "data": {
      "text/html": [
       "<style>\n",
       ".list-inline {list-style: none; margin:0; padding: 0}\n",
       ".list-inline>li {display: inline-block}\n",
       ".list-inline>li:not(:last-child)::after {content: \"\\00b7\"; padding: 0 .5ex}\n",
       "</style>\n",
       "<ol class=list-inline><li>3</li><li>9</li><li>6</li><li>8</li><li>10</li><li>2</li><li>9</li><li>6</li><li>4</li><li>8</li></ol>\n"
      ],
      "text/latex": [
       "\\begin{enumerate*}\n",
       "\\item 3\n",
       "\\item 9\n",
       "\\item 6\n",
       "\\item 8\n",
       "\\item 10\n",
       "\\item 2\n",
       "\\item 9\n",
       "\\item 6\n",
       "\\item 4\n",
       "\\item 8\n",
       "\\end{enumerate*}\n"
      ],
      "text/markdown": [
       "1. 3\n",
       "2. 9\n",
       "3. 6\n",
       "4. 8\n",
       "5. 10\n",
       "6. 2\n",
       "7. 9\n",
       "8. 6\n",
       "9. 4\n",
       "10. 8\n",
       "\n",
       "\n"
      ],
      "text/plain": [
       " [1]  3  9  6  8 10  2  9  6  4  8"
      ]
     },
     "metadata": {},
     "output_type": "display_data"
    }
   ],
   "source": [
    "round(sm,0)"
   ]
  },
  {
   "cell_type": "code",
   "execution_count": 26,
   "id": "851cd9d4",
   "metadata": {},
   "outputs": [],
   "source": [
    "help(runif) # to get docum"
   ]
  },
  {
   "cell_type": "markdown",
   "id": "50d488cc",
   "metadata": {},
   "source": [
    "<h3 style=\"color:blue;text-align:center\">Exercise 2</h3>"
   ]
  },
  {
   "cell_type": "markdown",
   "id": "7437a429",
   "metadata": {},
   "source": [
    "+ Assign the number 5 to x and the number 10 to y.\n"
   ]
  },
  {
   "cell_type": "code",
   "execution_count": 27,
   "id": "9ebd8536",
   "metadata": {},
   "outputs": [],
   "source": [
    "x<-5\n",
    "y<-10"
   ]
  },
  {
   "cell_type": "markdown",
   "id": "4eef7328",
   "metadata": {},
   "source": [
    "+ Calculate the product of x and y.\n"
   ]
  },
  {
   "cell_type": "code",
   "execution_count": 28,
   "id": "62510b95",
   "metadata": {},
   "outputs": [
    {
     "name": "stdout",
     "output_type": "stream",
     "text": [
      "[1] 50\n"
     ]
    }
   ],
   "source": [
    "print(x*y)"
   ]
  },
  {
   "cell_type": "markdown",
   "id": "385a2ed4",
   "metadata": {},
   "source": [
    "+ Store the result in a new variable z."
   ]
  },
  {
   "cell_type": "code",
   "execution_count": 29,
   "id": "87e20498",
   "metadata": {},
   "outputs": [],
   "source": [
    "z<-x*y"
   ]
  },
  {
   "cell_type": "markdown",
   "id": "d65cec5f",
   "metadata": {},
   "source": [
    "+ Inspect workspace"
   ]
  },
  {
   "cell_type": "code",
   "execution_count": 30,
   "id": "f2efa6c6",
   "metadata": {},
   "outputs": [
    {
     "data": {
      "text/html": [
       "<style>\n",
       ".list-inline {list-style: none; margin:0; padding: 0}\n",
       ".list-inline>li {display: inline-block}\n",
       ".list-inline>li:not(:last-child)::after {content: \"\\00b7\"; padding: 0 .5ex}\n",
       "</style>\n",
       "<ol class=list-inline><li>'sm'</li><li>'vec'</li><li>'x'</li><li>'y'</li><li>'z'</li></ol>\n"
      ],
      "text/latex": [
       "\\begin{enumerate*}\n",
       "\\item 'sm'\n",
       "\\item 'vec'\n",
       "\\item 'x'\n",
       "\\item 'y'\n",
       "\\item 'z'\n",
       "\\end{enumerate*}\n"
      ],
      "text/markdown": [
       "1. 'sm'\n",
       "2. 'vec'\n",
       "3. 'x'\n",
       "4. 'y'\n",
       "5. 'z'\n",
       "\n",
       "\n"
      ],
      "text/plain": [
       "[1] \"sm\"  \"vec\" \"x\"   \"y\"   \"z\"  "
      ]
     },
     "metadata": {},
     "output_type": "display_data"
    }
   ],
   "source": [
    "ls()"
   ]
  },
  {
   "cell_type": "markdown",
   "id": "814086f3",
   "metadata": {},
   "source": [
    "+ Make a vector myvec of the objects x,y,z."
   ]
  },
  {
   "cell_type": "code",
   "execution_count": 32,
   "id": "7fb888a7",
   "metadata": {
    "scrolled": false
   },
   "outputs": [
    {
     "data": {
      "text/html": [
       "<style>\n",
       ".list-inline {list-style: none; margin:0; padding: 0}\n",
       ".list-inline>li {display: inline-block}\n",
       ".list-inline>li:not(:last-child)::after {content: \"\\00b7\"; padding: 0 .5ex}\n",
       "</style>\n",
       "<ol class=list-inline><li>5</li><li>10</li><li>50</li></ol>\n"
      ],
      "text/latex": [
       "\\begin{enumerate*}\n",
       "\\item 5\n",
       "\\item 10\n",
       "\\item 50\n",
       "\\end{enumerate*}\n"
      ],
      "text/markdown": [
       "1. 5\n",
       "2. 10\n",
       "3. 50\n",
       "\n",
       "\n"
      ],
      "text/plain": [
       "[1]  5 10 50"
      ]
     },
     "metadata": {},
     "output_type": "display_data"
    }
   ],
   "source": [
    "myvec<-c(x,y,z)\n",
    "myvec"
   ]
  },
  {
   "cell_type": "markdown",
   "id": "0c7876bc",
   "metadata": {},
   "source": [
    "+ Find the minimum, the maximum and the mean of the vector"
   ]
  },
  {
   "cell_type": "code",
   "execution_count": 34,
   "id": "f8474355",
   "metadata": {},
   "outputs": [
    {
     "name": "stdout",
     "output_type": "stream",
     "text": [
      "[1] 5\n",
      "[1] 50\n",
      "[1] 21.66667\n"
     ]
    }
   ],
   "source": [
    "print(min(myvec)) # find min\n",
    "print(max(myvec)) # find max\n",
    "print(mean(myvec)) # find mean\n"
   ]
  },
  {
   "cell_type": "markdown",
   "id": "52280b56",
   "metadata": {},
   "source": [
    "+ Remove myvec from the workspace"
   ]
  },
  {
   "cell_type": "code",
   "execution_count": 35,
   "id": "7ae0d62a",
   "metadata": {},
   "outputs": [],
   "source": [
    "rm(x) # remove only one var"
   ]
  },
  {
   "cell_type": "code",
   "execution_count": 36,
   "id": "668d152e",
   "metadata": {
    "scrolled": true
   },
   "outputs": [
    {
     "data": {
      "text/html": [
       "<style>\n",
       ".list-inline {list-style: none; margin:0; padding: 0}\n",
       ".list-inline>li {display: inline-block}\n",
       ".list-inline>li:not(:last-child)::after {content: \"\\00b7\"; padding: 0 .5ex}\n",
       "</style>\n",
       "<ol class=list-inline><li>'myvec'</li><li>'sm'</li><li>'vec'</li><li>'y'</li><li>'z'</li></ol>\n"
      ],
      "text/latex": [
       "\\begin{enumerate*}\n",
       "\\item 'myvec'\n",
       "\\item 'sm'\n",
       "\\item 'vec'\n",
       "\\item 'y'\n",
       "\\item 'z'\n",
       "\\end{enumerate*}\n"
      ],
      "text/markdown": [
       "1. 'myvec'\n",
       "2. 'sm'\n",
       "3. 'vec'\n",
       "4. 'y'\n",
       "5. 'z'\n",
       "\n",
       "\n"
      ],
      "text/plain": [
       "[1] \"myvec\" \"sm\"    \"vec\"   \"y\"     \"z\"    "
      ]
     },
     "metadata": {},
     "output_type": "display_data"
    }
   ],
   "source": [
    "ls()"
   ]
  },
  {
   "cell_type": "code",
   "execution_count": 37,
   "id": "542b0fc5",
   "metadata": {},
   "outputs": [],
   "source": [
    "rm(y,z) # remove multiple vars"
   ]
  },
  {
   "cell_type": "code",
   "execution_count": 38,
   "id": "15bcf98c",
   "metadata": {},
   "outputs": [
    {
     "data": {
      "text/html": [
       "<style>\n",
       ".list-inline {list-style: none; margin:0; padding: 0}\n",
       ".list-inline>li {display: inline-block}\n",
       ".list-inline>li:not(:last-child)::after {content: \"\\00b7\"; padding: 0 .5ex}\n",
       "</style>\n",
       "<ol class=list-inline><li>'myvec'</li><li>'sm'</li><li>'vec'</li></ol>\n"
      ],
      "text/latex": [
       "\\begin{enumerate*}\n",
       "\\item 'myvec'\n",
       "\\item 'sm'\n",
       "\\item 'vec'\n",
       "\\end{enumerate*}\n"
      ],
      "text/markdown": [
       "1. 'myvec'\n",
       "2. 'sm'\n",
       "3. 'vec'\n",
       "\n",
       "\n"
      ],
      "text/plain": [
       "[1] \"myvec\" \"sm\"    \"vec\"  "
      ]
     },
     "metadata": {},
     "output_type": "display_data"
    }
   ],
   "source": [
    "ls()"
   ]
  },
  {
   "cell_type": "markdown",
   "id": "c751e270",
   "metadata": {},
   "source": [
    "<h3 style=\"color:blue;text-align:center\">Exercise 3</h3>"
   ]
  },
  {
   "cell_type": "markdown",
   "id": "70c862c8",
   "metadata": {},
   "source": [
    "The numbers below are the first ten days of rainfall in a year\n",
    "0.1 0.5 2.3 1.1 11.3 14.7 23.4 15.7 0 0.9"
   ]
  },
  {
   "cell_type": "markdown",
   "id": "d5e67bc5",
   "metadata": {},
   "source": [
    "+ Read them into a vector using the c() command."
   ]
  },
  {
   "cell_type": "code",
   "execution_count": 40,
   "id": "2dccf2fb",
   "metadata": {},
   "outputs": [
    {
     "data": {
      "text/html": [
       "<style>\n",
       ".list-inline {list-style: none; margin:0; padding: 0}\n",
       ".list-inline>li {display: inline-block}\n",
       ".list-inline>li:not(:last-child)::after {content: \"\\00b7\"; padding: 0 .5ex}\n",
       "</style>\n",
       "<ol class=list-inline><li>0.1</li><li>0.5</li><li>2.3</li><li>1.1</li><li>11.3</li><li>14.7</li><li>23.4</li><li>15.7</li><li>0</li><li>0.9</li></ol>\n"
      ],
      "text/latex": [
       "\\begin{enumerate*}\n",
       "\\item 0.1\n",
       "\\item 0.5\n",
       "\\item 2.3\n",
       "\\item 1.1\n",
       "\\item 11.3\n",
       "\\item 14.7\n",
       "\\item 23.4\n",
       "\\item 15.7\n",
       "\\item 0\n",
       "\\item 0.9\n",
       "\\end{enumerate*}\n"
      ],
      "text/markdown": [
       "1. 0.1\n",
       "2. 0.5\n",
       "3. 2.3\n",
       "4. 1.1\n",
       "5. 11.3\n",
       "6. 14.7\n",
       "7. 23.4\n",
       "8. 15.7\n",
       "9. 0\n",
       "10. 0.9\n",
       "\n",
       "\n"
      ],
      "text/plain": [
       " [1]  0.1  0.5  2.3  1.1 11.3 14.7 23.4 15.7  0.0  0.9"
      ]
     },
     "metadata": {},
     "output_type": "display_data"
    }
   ],
   "source": [
    "rf<-c( 0.1, 0.5 ,2.3 ,1.1 ,11.3 ,14.7, 23.4 ,15.7, 0 ,0.9)\n",
    "rf"
   ]
  },
  {
   "cell_type": "markdown",
   "id": "c5436721",
   "metadata": {},
   "source": [
    "+ Calulate the mean and the standard deviation.\n"
   ]
  },
  {
   "cell_type": "code",
   "execution_count": 41,
   "id": "75e04294",
   "metadata": {},
   "outputs": [
    {
     "name": "stdout",
     "output_type": "stream",
     "text": [
      "mean =  7 and sd =  8.53359374602648"
     ]
    }
   ],
   "source": [
    "mn<-mean(rf)\n",
    "sd<-sd(rf)\n",
    "cat(paste(\"mean = \",mn,\"and sd = \",sd))"
   ]
  },
  {
   "cell_type": "markdown",
   "id": "902f52fa",
   "metadata": {},
   "source": [
    "+ Calculate the cumulative rainfall over these ten days. What is\n",
    "   total sum of the rainfall?\n"
   ]
  },
  {
   "cell_type": "code",
   "execution_count": 43,
   "id": "b8c75501",
   "metadata": {
    "scrolled": true
   },
   "outputs": [
    {
     "data": {
      "text/html": [
       "<style>\n",
       ".list-inline {list-style: none; margin:0; padding: 0}\n",
       ".list-inline>li {display: inline-block}\n",
       ".list-inline>li:not(:last-child)::after {content: \"\\00b7\"; padding: 0 .5ex}\n",
       "</style>\n",
       "<ol class=list-inline><li>0.1</li><li>0.6</li><li>2.9</li><li>4</li><li>15.3</li><li>30</li><li>53.4</li><li>69.1</li><li>69.1</li><li>70</li></ol>\n"
      ],
      "text/latex": [
       "\\begin{enumerate*}\n",
       "\\item 0.1\n",
       "\\item 0.6\n",
       "\\item 2.9\n",
       "\\item 4\n",
       "\\item 15.3\n",
       "\\item 30\n",
       "\\item 53.4\n",
       "\\item 69.1\n",
       "\\item 69.1\n",
       "\\item 70\n",
       "\\end{enumerate*}\n"
      ],
      "text/markdown": [
       "1. 0.1\n",
       "2. 0.6\n",
       "3. 2.9\n",
       "4. 4\n",
       "5. 15.3\n",
       "6. 30\n",
       "7. 53.4\n",
       "8. 69.1\n",
       "9. 69.1\n",
       "10. 70\n",
       "\n",
       "\n"
      ],
      "text/plain": [
       " [1]  0.1  0.6  2.9  4.0 15.3 30.0 53.4 69.1 69.1 70.0"
      ]
     },
     "metadata": {},
     "output_type": "display_data"
    }
   ],
   "source": [
    "cumsum(rf) "
   ]
  },
  {
   "cell_type": "code",
   "execution_count": 44,
   "id": "b7317752",
   "metadata": {
    "scrolled": false
   },
   "outputs": [
    {
     "data": {
      "text/html": [
       "70"
      ],
      "text/latex": [
       "70"
      ],
      "text/markdown": [
       "70"
      ],
      "text/plain": [
       "[1] 70"
      ]
     },
     "metadata": {},
     "output_type": "display_data"
    }
   ],
   "source": [
    "sum(rf)"
   ]
  },
  {
   "cell_type": "markdown",
   "id": "2e33a329",
   "metadata": {},
   "source": [
    "+ Which day saw the highest rainfall? Find an appropriate R com\u0002mand.\n"
   ]
  },
  {
   "cell_type": "code",
   "execution_count": 46,
   "id": "30f505bb",
   "metadata": {},
   "outputs": [
    {
     "data": {
      "text/html": [
       "<style>\n",
       ".list-inline {list-style: none; margin:0; padding: 0}\n",
       ".list-inline>li {display: inline-block}\n",
       ".list-inline>li:not(:last-child)::after {content: \"\\00b7\"; padding: 0 .5ex}\n",
       "</style>\n",
       "<ol class=list-inline><li>FALSE</li><li>FALSE</li><li>FALSE</li><li>FALSE</li><li>FALSE</li><li>FALSE</li><li>TRUE</li><li>FALSE</li><li>FALSE</li><li>FALSE</li></ol>\n"
      ],
      "text/latex": [
       "\\begin{enumerate*}\n",
       "\\item FALSE\n",
       "\\item FALSE\n",
       "\\item FALSE\n",
       "\\item FALSE\n",
       "\\item FALSE\n",
       "\\item FALSE\n",
       "\\item TRUE\n",
       "\\item FALSE\n",
       "\\item FALSE\n",
       "\\item FALSE\n",
       "\\end{enumerate*}\n"
      ],
      "text/markdown": [
       "1. FALSE\n",
       "2. FALSE\n",
       "3. FALSE\n",
       "4. FALSE\n",
       "5. FALSE\n",
       "6. FALSE\n",
       "7. TRUE\n",
       "8. FALSE\n",
       "9. FALSE\n",
       "10. FALSE\n",
       "\n",
       "\n"
      ],
      "text/plain": [
       " [1] FALSE FALSE FALSE FALSE FALSE FALSE  TRUE FALSE FALSE FALSE"
      ]
     },
     "metadata": {},
     "output_type": "display_data"
    }
   ],
   "source": [
    "rf==max(rf)"
   ]
  },
  {
   "cell_type": "code",
   "execution_count": 45,
   "id": "e47f9207",
   "metadata": {
    "scrolled": false
   },
   "outputs": [
    {
     "data": {
      "text/html": [
       "7"
      ],
      "text/latex": [
       "7"
      ],
      "text/markdown": [
       "7"
      ],
      "text/plain": [
       "[1] 7"
      ]
     },
     "metadata": {},
     "output_type": "display_data"
    }
   ],
   "source": [
    "which(rf==max(rf))"
   ]
  },
  {
   "cell_type": "markdown",
   "id": "26d6d288",
   "metadata": {},
   "source": [
    "+ Take a subset of the rainfall data where rain is larger than 10"
   ]
  },
  {
   "cell_type": "code",
   "execution_count": 47,
   "id": "9fea0c22",
   "metadata": {
    "scrolled": true
   },
   "outputs": [
    {
     "data": {
      "text/html": [
       "<style>\n",
       ".list-inline {list-style: none; margin:0; padding: 0}\n",
       ".list-inline>li {display: inline-block}\n",
       ".list-inline>li:not(:last-child)::after {content: \"\\00b7\"; padding: 0 .5ex}\n",
       "</style>\n",
       "<ol class=list-inline><li>FALSE</li><li>FALSE</li><li>FALSE</li><li>FALSE</li><li>TRUE</li><li>TRUE</li><li>TRUE</li><li>TRUE</li><li>FALSE</li><li>FALSE</li></ol>\n"
      ],
      "text/latex": [
       "\\begin{enumerate*}\n",
       "\\item FALSE\n",
       "\\item FALSE\n",
       "\\item FALSE\n",
       "\\item FALSE\n",
       "\\item TRUE\n",
       "\\item TRUE\n",
       "\\item TRUE\n",
       "\\item TRUE\n",
       "\\item FALSE\n",
       "\\item FALSE\n",
       "\\end{enumerate*}\n"
      ],
      "text/markdown": [
       "1. FALSE\n",
       "2. FALSE\n",
       "3. FALSE\n",
       "4. FALSE\n",
       "5. TRUE\n",
       "6. TRUE\n",
       "7. TRUE\n",
       "8. TRUE\n",
       "9. FALSE\n",
       "10. FALSE\n",
       "\n",
       "\n"
      ],
      "text/plain": [
       " [1] FALSE FALSE FALSE FALSE  TRUE  TRUE  TRUE  TRUE FALSE FALSE"
      ]
     },
     "metadata": {},
     "output_type": "display_data"
    }
   ],
   "source": [
    "rf>10"
   ]
  },
  {
   "cell_type": "code",
   "execution_count": 49,
   "id": "bf3a6100",
   "metadata": {},
   "outputs": [
    {
     "data": {
      "text/html": [
       "<style>\n",
       ".list-inline {list-style: none; margin:0; padding: 0}\n",
       ".list-inline>li {display: inline-block}\n",
       ".list-inline>li:not(:last-child)::after {content: \"\\00b7\"; padding: 0 .5ex}\n",
       "</style>\n",
       "<ol class=list-inline><li>11.3</li><li>14.7</li><li>23.4</li><li>15.7</li></ol>\n"
      ],
      "text/latex": [
       "\\begin{enumerate*}\n",
       "\\item 11.3\n",
       "\\item 14.7\n",
       "\\item 23.4\n",
       "\\item 15.7\n",
       "\\end{enumerate*}\n"
      ],
      "text/markdown": [
       "1. 11.3\n",
       "2. 14.7\n",
       "3. 23.4\n",
       "4. 15.7\n",
       "\n",
       "\n"
      ],
      "text/plain": [
       "[1] 11.3 14.7 23.4 15.7"
      ]
     },
     "metadata": {},
     "output_type": "display_data"
    }
   ],
   "source": [
    "rf[rf>10]"
   ]
  },
  {
   "cell_type": "markdown",
   "id": "81a5d709",
   "metadata": {},
   "source": [
    "+ What is mean rainfall for days where the rainfall was at least 5?"
   ]
  },
  {
   "cell_type": "code",
   "execution_count": 50,
   "id": "8293cf9e",
   "metadata": {
    "scrolled": true
   },
   "outputs": [
    {
     "data": {
      "text/html": [
       "<style>\n",
       ".list-inline {list-style: none; margin:0; padding: 0}\n",
       ".list-inline>li {display: inline-block}\n",
       ".list-inline>li:not(:last-child)::after {content: \"\\00b7\"; padding: 0 .5ex}\n",
       "</style>\n",
       "<ol class=list-inline><li>FALSE</li><li>FALSE</li><li>FALSE</li><li>FALSE</li><li>TRUE</li><li>TRUE</li><li>TRUE</li><li>TRUE</li><li>FALSE</li><li>FALSE</li></ol>\n"
      ],
      "text/latex": [
       "\\begin{enumerate*}\n",
       "\\item FALSE\n",
       "\\item FALSE\n",
       "\\item FALSE\n",
       "\\item FALSE\n",
       "\\item TRUE\n",
       "\\item TRUE\n",
       "\\item TRUE\n",
       "\\item TRUE\n",
       "\\item FALSE\n",
       "\\item FALSE\n",
       "\\end{enumerate*}\n"
      ],
      "text/markdown": [
       "1. FALSE\n",
       "2. FALSE\n",
       "3. FALSE\n",
       "4. FALSE\n",
       "5. TRUE\n",
       "6. TRUE\n",
       "7. TRUE\n",
       "8. TRUE\n",
       "9. FALSE\n",
       "10. FALSE\n",
       "\n",
       "\n"
      ],
      "text/plain": [
       " [1] FALSE FALSE FALSE FALSE  TRUE  TRUE  TRUE  TRUE FALSE FALSE"
      ]
     },
     "metadata": {},
     "output_type": "display_data"
    }
   ],
   "source": [
    "rf>=5"
   ]
  },
  {
   "cell_type": "code",
   "execution_count": 51,
   "id": "eafe739f",
   "metadata": {},
   "outputs": [
    {
     "data": {
      "text/html": [
       "<style>\n",
       ".list-inline {list-style: none; margin:0; padding: 0}\n",
       ".list-inline>li {display: inline-block}\n",
       ".list-inline>li:not(:last-child)::after {content: \"\\00b7\"; padding: 0 .5ex}\n",
       "</style>\n",
       "<ol class=list-inline><li>11.3</li><li>14.7</li><li>23.4</li><li>15.7</li></ol>\n"
      ],
      "text/latex": [
       "\\begin{enumerate*}\n",
       "\\item 11.3\n",
       "\\item 14.7\n",
       "\\item 23.4\n",
       "\\item 15.7\n",
       "\\end{enumerate*}\n"
      ],
      "text/markdown": [
       "1. 11.3\n",
       "2. 14.7\n",
       "3. 23.4\n",
       "4. 15.7\n",
       "\n",
       "\n"
      ],
      "text/plain": [
       "[1] 11.3 14.7 23.4 15.7"
      ]
     },
     "metadata": {},
     "output_type": "display_data"
    }
   ],
   "source": [
    "rf[rf>=5]"
   ]
  },
  {
   "cell_type": "code",
   "execution_count": 52,
   "id": "3fac4dfb",
   "metadata": {
    "scrolled": true
   },
   "outputs": [
    {
     "data": {
      "text/html": [
       "16.275"
      ],
      "text/latex": [
       "16.275"
      ],
      "text/markdown": [
       "16.275"
      ],
      "text/plain": [
       "[1] 16.275"
      ]
     },
     "metadata": {},
     "output_type": "display_data"
    }
   ],
   "source": [
    "mean(rf[rf>=5])"
   ]
  },
  {
   "cell_type": "markdown",
   "id": "183609a6",
   "metadata": {},
   "source": [
    "+ Subset the vector where it is either exactly 0 or 1.1 and find the\n",
    "   corresponding days.\n"
   ]
  },
  {
   "cell_type": "code",
   "execution_count": 54,
   "id": "b4b2c1ea",
   "metadata": {},
   "outputs": [
    {
     "data": {
      "text/html": [
       "<style>\n",
       ".list-inline {list-style: none; margin:0; padding: 0}\n",
       ".list-inline>li {display: inline-block}\n",
       ".list-inline>li:not(:last-child)::after {content: \"\\00b7\"; padding: 0 .5ex}\n",
       "</style>\n",
       "<ol class=list-inline><li>1.1</li><li>0</li></ol>\n"
      ],
      "text/latex": [
       "\\begin{enumerate*}\n",
       "\\item 1.1\n",
       "\\item 0\n",
       "\\end{enumerate*}\n"
      ],
      "text/markdown": [
       "1. 1.1\n",
       "2. 0\n",
       "\n",
       "\n"
      ],
      "text/plain": [
       "[1] 1.1 0.0"
      ]
     },
     "metadata": {},
     "output_type": "display_data"
    }
   ],
   "source": [
    "rf[rf==0 | rf==1.1]"
   ]
  },
  {
   "cell_type": "markdown",
   "id": "f40adcc0",
   "metadata": {},
   "source": [
    "+ Alternative"
   ]
  },
  {
   "cell_type": "code",
   "execution_count": 55,
   "id": "26f03ec5",
   "metadata": {
    "scrolled": true
   },
   "outputs": [
    {
     "data": {
      "text/html": [
       "<style>\n",
       ".list-inline {list-style: none; margin:0; padding: 0}\n",
       ".list-inline>li {display: inline-block}\n",
       ".list-inline>li:not(:last-child)::after {content: \"\\00b7\"; padding: 0 .5ex}\n",
       "</style>\n",
       "<ol class=list-inline><li>FALSE</li><li>FALSE</li><li>FALSE</li><li>TRUE</li><li>FALSE</li><li>FALSE</li><li>FALSE</li><li>FALSE</li><li>TRUE</li><li>FALSE</li></ol>\n"
      ],
      "text/latex": [
       "\\begin{enumerate*}\n",
       "\\item FALSE\n",
       "\\item FALSE\n",
       "\\item FALSE\n",
       "\\item TRUE\n",
       "\\item FALSE\n",
       "\\item FALSE\n",
       "\\item FALSE\n",
       "\\item FALSE\n",
       "\\item TRUE\n",
       "\\item FALSE\n",
       "\\end{enumerate*}\n"
      ],
      "text/markdown": [
       "1. FALSE\n",
       "2. FALSE\n",
       "3. FALSE\n",
       "4. TRUE\n",
       "5. FALSE\n",
       "6. FALSE\n",
       "7. FALSE\n",
       "8. FALSE\n",
       "9. TRUE\n",
       "10. FALSE\n",
       "\n",
       "\n"
      ],
      "text/plain": [
       " [1] FALSE FALSE FALSE  TRUE FALSE FALSE FALSE FALSE  TRUE FALSE"
      ]
     },
     "metadata": {},
     "output_type": "display_data"
    }
   ],
   "source": [
    "rf %in% c(0,1.1)"
   ]
  },
  {
   "cell_type": "code",
   "execution_count": 56,
   "id": "5f6a1a1c",
   "metadata": {},
   "outputs": [
    {
     "data": {
      "text/html": [
       "<style>\n",
       ".list-inline {list-style: none; margin:0; padding: 0}\n",
       ".list-inline>li {display: inline-block}\n",
       ".list-inline>li:not(:last-child)::after {content: \"\\00b7\"; padding: 0 .5ex}\n",
       "</style>\n",
       "<ol class=list-inline><li>1.1</li><li>0</li></ol>\n"
      ],
      "text/latex": [
       "\\begin{enumerate*}\n",
       "\\item 1.1\n",
       "\\item 0\n",
       "\\end{enumerate*}\n"
      ],
      "text/markdown": [
       "1. 1.1\n",
       "2. 0\n",
       "\n",
       "\n"
      ],
      "text/plain": [
       "[1] 1.1 0.0"
      ]
     },
     "metadata": {},
     "output_type": "display_data"
    }
   ],
   "source": [
    "rf[rf %in% c(0,1.1)]"
   ]
  },
  {
   "cell_type": "code",
   "execution_count": 59,
   "id": "e5900560",
   "metadata": {},
   "outputs": [
    {
     "data": {
      "text/html": [
       "<style>\n",
       ".list-inline {list-style: none; margin:0; padding: 0}\n",
       ".list-inline>li {display: inline-block}\n",
       ".list-inline>li:not(:last-child)::after {content: \"\\00b7\"; padding: 0 .5ex}\n",
       "</style>\n",
       "<ol class=list-inline><li>4</li><li>9</li></ol>\n"
      ],
      "text/latex": [
       "\\begin{enumerate*}\n",
       "\\item 4\n",
       "\\item 9\n",
       "\\end{enumerate*}\n"
      ],
      "text/markdown": [
       "1. 4\n",
       "2. 9\n",
       "\n",
       "\n"
      ],
      "text/plain": [
       "[1] 4 9"
      ]
     },
     "metadata": {},
     "output_type": "display_data"
    }
   ],
   "source": [
    "which(rf %in% c(0,1.1)) # gives indexs (corresponding days)"
   ]
  },
  {
   "cell_type": "markdown",
   "id": "208e4944",
   "metadata": {},
   "source": [
    "<h3 style=\"color:blue;text-align:center\">Exercise 4</h3>"
   ]
  },
  {
   "cell_type": "markdown",
   "id": "87f95904",
   "metadata": {},
   "source": [
    "The length of five cylinders are 2.5, 3.4, 4.8, 3.1, 1.7 and their diameters\n",
    "are 0.7, 0.4, 0.5, 0.5, 0.9.\n"
   ]
  },
  {
   "cell_type": "markdown",
   "id": "f30d1cd0",
   "metadata": {},
   "source": [
    "+ Read these vectors into two vectors with appropriate names."
   ]
  },
  {
   "cell_type": "code",
   "execution_count": 62,
   "id": "3035b68f",
   "metadata": {},
   "outputs": [
    {
     "data": {
      "text/html": [
       "<style>\n",
       ".list-inline {list-style: none; margin:0; padding: 0}\n",
       ".list-inline>li {display: inline-block}\n",
       ".list-inline>li:not(:last-child)::after {content: \"\\00b7\"; padding: 0 .5ex}\n",
       "</style>\n",
       "<ol class=list-inline><li>0.35</li><li>0.2</li><li>0.25</li><li>0.25</li><li>0.45</li></ol>\n"
      ],
      "text/latex": [
       "\\begin{enumerate*}\n",
       "\\item 0.35\n",
       "\\item 0.2\n",
       "\\item 0.25\n",
       "\\item 0.25\n",
       "\\item 0.45\n",
       "\\end{enumerate*}\n"
      ],
      "text/markdown": [
       "1. 0.35\n",
       "2. 0.2\n",
       "3. 0.25\n",
       "4. 0.25\n",
       "5. 0.45\n",
       "\n",
       "\n"
      ],
      "text/plain": [
       "[1] 0.35 0.20 0.25 0.25 0.45"
      ]
     },
     "metadata": {},
     "output_type": "display_data"
    }
   ],
   "source": [
    "len<-c(2.5, 3.4, 4.8, 3.1, 1.7) # h\n",
    "diam<-c(0.7, 0.4, 0.5, 0.5, 0.9) # d \n",
    "r = diam/2 # as we need rad to calculate vol\n",
    "r"
   ]
  },
  {
   "cell_type": "markdown",
   "id": "08075533",
   "metadata": {},
   "source": [
    "Formula to calculate the Vol of a Cylinder, $$ V=\\pi r^2h $$\n",
    "where $r=\\frac{diam}{2}$"
   ]
  },
  {
   "cell_type": "code",
   "execution_count": 63,
   "id": "f3b84bee",
   "metadata": {
    "scrolled": false
   },
   "outputs": [
    {
     "data": {
      "text/html": [
       "<style>\n",
       ".list-inline {list-style: none; margin:0; padding: 0}\n",
       ".list-inline>li {display: inline-block}\n",
       ".list-inline>li:not(:last-child)::after {content: \"\\00b7\"; padding: 0 .5ex}\n",
       "</style>\n",
       "<ol class=list-inline><li>0.962112750161874</li><li>0.427256600888212</li><li>0.942477796076938</li><li>0.608683576633022</li><li>1.08149327099829</li></ol>\n"
      ],
      "text/latex": [
       "\\begin{enumerate*}\n",
       "\\item 0.962112750161874\n",
       "\\item 0.427256600888212\n",
       "\\item 0.942477796076938\n",
       "\\item 0.608683576633022\n",
       "\\item 1.08149327099829\n",
       "\\end{enumerate*}\n"
      ],
      "text/markdown": [
       "1. 0.962112750161874\n",
       "2. 0.427256600888212\n",
       "3. 0.942477796076938\n",
       "4. 0.608683576633022\n",
       "5. 1.08149327099829\n",
       "\n",
       "\n"
      ],
      "text/plain": [
       "[1] 0.9621128 0.4272566 0.9424778 0.6086836 1.0814933"
      ]
     },
     "metadata": {},
     "output_type": "display_data"
    }
   ],
   "source": [
    "vols<- pi * r**2 * len\n",
    "vols"
   ]
  },
  {
   "cell_type": "markdown",
   "id": "1a0bfe45",
   "metadata": {},
   "source": [
    "+ Assume the values are given in centimeter. Recalculate the vol\u0002umes       so that their units are cubic millime"
   ]
  },
  {
   "cell_type": "code",
   "execution_count": 66,
   "id": "a8b529ed",
   "metadata": {},
   "outputs": [
    {
     "data": {
      "text/html": [
       "<style>\n",
       ".list-inline {list-style: none; margin:0; padding: 0}\n",
       ".list-inline>li {display: inline-block}\n",
       ".list-inline>li:not(:last-child)::after {content: \"\\00b7\"; padding: 0 .5ex}\n",
       "</style>\n",
       "<ol class=list-inline><li>9.62112750161874</li><li>4.27256600888212</li><li>9.42477796076938</li><li>6.08683576633022</li><li>10.8149327099829</li></ol>\n"
      ],
      "text/latex": [
       "\\begin{enumerate*}\n",
       "\\item 9.62112750161874\n",
       "\\item 4.27256600888212\n",
       "\\item 9.42477796076938\n",
       "\\item 6.08683576633022\n",
       "\\item 10.8149327099829\n",
       "\\end{enumerate*}\n"
      ],
      "text/markdown": [
       "1. 9.62112750161874\n",
       "2. 4.27256600888212\n",
       "3. 9.42477796076938\n",
       "4. 6.08683576633022\n",
       "5. 10.8149327099829\n",
       "\n",
       "\n"
      ],
      "text/plain": [
       "[1]  9.621128  4.272566  9.424778  6.086836 10.814933"
      ]
     },
     "metadata": {},
     "output_type": "display_data"
    }
   ],
   "source": [
    "vol.cm<-(pi * r**2 * len) * 10\n",
    "vol.cm"
   ]
  },
  {
   "cell_type": "markdown",
   "id": "17d61fb2",
   "metadata": {},
   "source": [
    "<h3 style=\"color:blue;text-align:center\">Exercise 5</h3>"
   ]
  },
  {
   "cell_type": "markdown",
   "id": "10aa2211",
   "metadata": {},
   "source": [
    "Inspect the R commands <code>union()</code>, <code>setdiff()</code> and <code>intersect()</code> implying set\n",
    "operations. Make two vectors\n",
    "<code>x <- c(1,2,3,4,5)</code>\n",
    "    <code> y <- c(3,5,7,9)</code>\n"
   ]
  },
  {
   "cell_type": "code",
   "execution_count": 67,
   "id": "200a89af",
   "metadata": {},
   "outputs": [],
   "source": [
    "x <- c(1,2,3,4,5)\n",
    "y <- c(3,5,7,9)"
   ]
  },
  {
   "cell_type": "code",
   "execution_count": 68,
   "id": "cdfc9696",
   "metadata": {
    "scrolled": true
   },
   "outputs": [
    {
     "name": "stdout",
     "output_type": "stream",
     "text": [
      "1 2 3 4 5"
     ]
    }
   ],
   "source": [
    "cat(x)"
   ]
  },
  {
   "cell_type": "code",
   "execution_count": 69,
   "id": "15bc7374",
   "metadata": {},
   "outputs": [
    {
     "name": "stdout",
     "output_type": "stream",
     "text": [
      "3 5 7 9"
     ]
    }
   ],
   "source": [
    "cat(y)"
   ]
  },
  {
   "cell_type": "markdown",
   "id": "14860568",
   "metadata": {},
   "source": [
    "+ Find values that are contained in both x and y."
   ]
  },
  {
   "cell_type": "code",
   "execution_count": 70,
   "id": "c1fab2c8",
   "metadata": {
    "scrolled": true
   },
   "outputs": [
    {
     "data": {
      "text/html": [
       "<style>\n",
       ".list-inline {list-style: none; margin:0; padding: 0}\n",
       ".list-inline>li {display: inline-block}\n",
       ".list-inline>li:not(:last-child)::after {content: \"\\00b7\"; padding: 0 .5ex}\n",
       "</style>\n",
       "<ol class=list-inline><li>3</li><li>5</li></ol>\n"
      ],
      "text/latex": [
       "\\begin{enumerate*}\n",
       "\\item 3\n",
       "\\item 5\n",
       "\\end{enumerate*}\n"
      ],
      "text/markdown": [
       "1. 3\n",
       "2. 5\n",
       "\n",
       "\n"
      ],
      "text/plain": [
       "[1] 3 5"
      ]
     },
     "metadata": {},
     "output_type": "display_data"
    }
   ],
   "source": [
    "intersect(x,y)"
   ]
  },
  {
   "cell_type": "markdown",
   "id": "9ddffd9e",
   "metadata": {},
   "source": [
    "+ Find values that are in x but not y and vice versa"
   ]
  },
  {
   "cell_type": "code",
   "execution_count": 71,
   "id": "520190f2",
   "metadata": {
    "scrolled": true
   },
   "outputs": [
    {
     "data": {
      "text/html": [
       "<style>\n",
       ".list-inline {list-style: none; margin:0; padding: 0}\n",
       ".list-inline>li {display: inline-block}\n",
       ".list-inline>li:not(:last-child)::after {content: \"\\00b7\"; padding: 0 .5ex}\n",
       "</style>\n",
       "<ol class=list-inline><li>1</li><li>2</li><li>4</li></ol>\n"
      ],
      "text/latex": [
       "\\begin{enumerate*}\n",
       "\\item 1\n",
       "\\item 2\n",
       "\\item 4\n",
       "\\end{enumerate*}\n"
      ],
      "text/markdown": [
       "1. 1\n",
       "2. 2\n",
       "3. 4\n",
       "\n",
       "\n"
      ],
      "text/plain": [
       "[1] 1 2 4"
      ]
     },
     "metadata": {},
     "output_type": "display_data"
    }
   ],
   "source": [
    "setdiff(x,y)"
   ]
  },
  {
   "cell_type": "code",
   "execution_count": 72,
   "id": "d7dab57f",
   "metadata": {
    "scrolled": true
   },
   "outputs": [
    {
     "data": {
      "text/html": [
       "<style>\n",
       ".list-inline {list-style: none; margin:0; padding: 0}\n",
       ".list-inline>li {display: inline-block}\n",
       ".list-inline>li:not(:last-child)::after {content: \"\\00b7\"; padding: 0 .5ex}\n",
       "</style>\n",
       "<ol class=list-inline><li>7</li><li>9</li></ol>\n"
      ],
      "text/latex": [
       "\\begin{enumerate*}\n",
       "\\item 7\n",
       "\\item 9\n",
       "\\end{enumerate*}\n"
      ],
      "text/markdown": [
       "1. 7\n",
       "2. 9\n",
       "\n",
       "\n"
      ],
      "text/plain": [
       "[1] 7 9"
      ]
     },
     "metadata": {},
     "output_type": "display_data"
    }
   ],
   "source": [
    "setdiff(y,x)"
   ]
  },
  {
   "cell_type": "markdown",
   "id": "a35c7cc7",
   "metadata": {},
   "source": [
    "+ Construct a vector that contains all values contained in either x\n",
    "   or y. Compare the result with <code>c(x,y)</code>"
   ]
  },
  {
   "cell_type": "code",
   "execution_count": 73,
   "id": "b88559ee",
   "metadata": {
    "scrolled": true
   },
   "outputs": [
    {
     "data": {
      "text/html": [
       "<style>\n",
       ".list-inline {list-style: none; margin:0; padding: 0}\n",
       ".list-inline>li {display: inline-block}\n",
       ".list-inline>li:not(:last-child)::after {content: \"\\00b7\"; padding: 0 .5ex}\n",
       "</style>\n",
       "<ol class=list-inline><li>1</li><li>2</li><li>3</li><li>4</li><li>5</li><li>7</li><li>9</li></ol>\n"
      ],
      "text/latex": [
       "\\begin{enumerate*}\n",
       "\\item 1\n",
       "\\item 2\n",
       "\\item 3\n",
       "\\item 4\n",
       "\\item 5\n",
       "\\item 7\n",
       "\\item 9\n",
       "\\end{enumerate*}\n"
      ],
      "text/markdown": [
       "1. 1\n",
       "2. 2\n",
       "3. 3\n",
       "4. 4\n",
       "5. 5\n",
       "6. 7\n",
       "7. 9\n",
       "\n",
       "\n"
      ],
      "text/plain": [
       "[1] 1 2 3 4 5 7 9"
      ]
     },
     "metadata": {},
     "output_type": "display_data"
    }
   ],
   "source": [
    "union(x,y)"
   ]
  },
  {
   "cell_type": "code",
   "execution_count": 74,
   "id": "d8d7eb03",
   "metadata": {},
   "outputs": [
    {
     "data": {
      "text/html": [
       "<style>\n",
       ".list-inline {list-style: none; margin:0; padding: 0}\n",
       ".list-inline>li {display: inline-block}\n",
       ".list-inline>li:not(:last-child)::after {content: \"\\00b7\"; padding: 0 .5ex}\n",
       "</style>\n",
       "<ol class=list-inline><li>1</li><li>2</li><li>3</li><li>4</li><li>5</li><li>3</li><li>5</li><li>7</li><li>9</li></ol>\n"
      ],
      "text/latex": [
       "\\begin{enumerate*}\n",
       "\\item 1\n",
       "\\item 2\n",
       "\\item 3\n",
       "\\item 4\n",
       "\\item 5\n",
       "\\item 3\n",
       "\\item 5\n",
       "\\item 7\n",
       "\\item 9\n",
       "\\end{enumerate*}\n"
      ],
      "text/markdown": [
       "1. 1\n",
       "2. 2\n",
       "3. 3\n",
       "4. 4\n",
       "5. 5\n",
       "6. 3\n",
       "7. 5\n",
       "8. 7\n",
       "9. 9\n",
       "\n",
       "\n"
      ],
      "text/plain": [
       "[1] 1 2 3 4 5 3 5 7 9"
      ]
     },
     "metadata": {},
     "output_type": "display_data"
    }
   ],
   "source": [
    "c(x,y) # compare"
   ]
  },
  {
   "cell_type": "code",
   "execution_count": 76,
   "id": "9f27752a",
   "metadata": {
    "scrolled": true
   },
   "outputs": [
    {
     "data": {
      "text/html": [
       "<style>\n",
       ".list-inline {list-style: none; margin:0; padding: 0}\n",
       ".list-inline>li {display: inline-block}\n",
       ".list-inline>li:not(:last-child)::after {content: \"\\00b7\"; padding: 0 .5ex}\n",
       "</style>\n",
       "<ol class=list-inline><li>2</li><li>4</li><li>6</li><li>8</li><li>10</li></ol>\n"
      ],
      "text/latex": [
       "\\begin{enumerate*}\n",
       "\\item 2\n",
       "\\item 4\n",
       "\\item 6\n",
       "\\item 8\n",
       "\\item 10\n",
       "\\end{enumerate*}\n"
      ],
      "text/markdown": [
       "1. 2\n",
       "2. 4\n",
       "3. 6\n",
       "4. 8\n",
       "5. 10\n",
       "\n",
       "\n"
      ],
      "text/plain": [
       "[1]  2  4  6  8 10"
      ]
     },
     "metadata": {},
     "output_type": "display_data"
    }
   ],
   "source": [
    "seq(from=2,to = 10,by=2)"
   ]
  },
  {
   "cell_type": "code",
   "execution_count": 80,
   "id": "50809221",
   "metadata": {},
   "outputs": [
    {
     "data": {
      "text/html": [
       "<style>\n",
       ".list-inline {list-style: none; margin:0; padding: 0}\n",
       ".list-inline>li {display: inline-block}\n",
       ".list-inline>li:not(:last-child)::after {content: \"\\00b7\"; padding: 0 .5ex}\n",
       "</style>\n",
       "<ol class=list-inline><li>'rep'</li><li>'rep'</li><li>'rep'</li><li>'rep'</li><li>'rep'</li><li>'rep'</li><li>'rep'</li><li>'rep'</li><li>'rep'</li><li>'rep'</li></ol>\n"
      ],
      "text/latex": [
       "\\begin{enumerate*}\n",
       "\\item 'rep'\n",
       "\\item 'rep'\n",
       "\\item 'rep'\n",
       "\\item 'rep'\n",
       "\\item 'rep'\n",
       "\\item 'rep'\n",
       "\\item 'rep'\n",
       "\\item 'rep'\n",
       "\\item 'rep'\n",
       "\\item 'rep'\n",
       "\\end{enumerate*}\n"
      ],
      "text/markdown": [
       "1. 'rep'\n",
       "2. 'rep'\n",
       "3. 'rep'\n",
       "4. 'rep'\n",
       "5. 'rep'\n",
       "6. 'rep'\n",
       "7. 'rep'\n",
       "8. 'rep'\n",
       "9. 'rep'\n",
       "10. 'rep'\n",
       "\n",
       "\n"
      ],
      "text/plain": [
       " [1] \"rep\" \"rep\" \"rep\" \"rep\" \"rep\" \"rep\" \"rep\" \"rep\" \"rep\" \"rep\""
      ]
     },
     "metadata": {},
     "output_type": "display_data"
    }
   ],
   "source": [
    "rep(x = \"rep\",times=10)"
   ]
  },
  {
   "cell_type": "code",
   "execution_count": 81,
   "id": "78a9b0bb",
   "metadata": {},
   "outputs": [
    {
     "data": {
      "text/html": [
       "<style>\n",
       ".list-inline {list-style: none; margin:0; padding: 0}\n",
       ".list-inline>li {display: inline-block}\n",
       ".list-inline>li:not(:last-child)::after {content: \"\\00b7\"; padding: 0 .5ex}\n",
       "</style>\n",
       "<ol class=list-inline><li>2</li><li>4</li><li>6</li><li>8</li><li>10</li><li>2</li><li>4</li><li>6</li><li>8</li><li>10</li><li>2</li><li>4</li><li>6</li><li>8</li><li>10</li><li>2</li><li>4</li><li>6</li><li>8</li><li>10</li><li>2</li><li>4</li><li>6</li><li>8</li><li>10</li><li>2</li><li>4</li><li>6</li><li>8</li><li>10</li><li>2</li><li>4</li><li>6</li><li>8</li><li>10</li><li>2</li><li>4</li><li>6</li><li>8</li><li>10</li><li>2</li><li>4</li><li>6</li><li>8</li><li>10</li><li>2</li><li>4</li><li>6</li><li>8</li><li>10</li></ol>\n"
      ],
      "text/latex": [
       "\\begin{enumerate*}\n",
       "\\item 2\n",
       "\\item 4\n",
       "\\item 6\n",
       "\\item 8\n",
       "\\item 10\n",
       "\\item 2\n",
       "\\item 4\n",
       "\\item 6\n",
       "\\item 8\n",
       "\\item 10\n",
       "\\item 2\n",
       "\\item 4\n",
       "\\item 6\n",
       "\\item 8\n",
       "\\item 10\n",
       "\\item 2\n",
       "\\item 4\n",
       "\\item 6\n",
       "\\item 8\n",
       "\\item 10\n",
       "\\item 2\n",
       "\\item 4\n",
       "\\item 6\n",
       "\\item 8\n",
       "\\item 10\n",
       "\\item 2\n",
       "\\item 4\n",
       "\\item 6\n",
       "\\item 8\n",
       "\\item 10\n",
       "\\item 2\n",
       "\\item 4\n",
       "\\item 6\n",
       "\\item 8\n",
       "\\item 10\n",
       "\\item 2\n",
       "\\item 4\n",
       "\\item 6\n",
       "\\item 8\n",
       "\\item 10\n",
       "\\item 2\n",
       "\\item 4\n",
       "\\item 6\n",
       "\\item 8\n",
       "\\item 10\n",
       "\\item 2\n",
       "\\item 4\n",
       "\\item 6\n",
       "\\item 8\n",
       "\\item 10\n",
       "\\end{enumerate*}\n"
      ],
      "text/markdown": [
       "1. 2\n",
       "2. 4\n",
       "3. 6\n",
       "4. 8\n",
       "5. 10\n",
       "6. 2\n",
       "7. 4\n",
       "8. 6\n",
       "9. 8\n",
       "10. 10\n",
       "11. 2\n",
       "12. 4\n",
       "13. 6\n",
       "14. 8\n",
       "15. 10\n",
       "16. 2\n",
       "17. 4\n",
       "18. 6\n",
       "19. 8\n",
       "20. 10\n",
       "21. 2\n",
       "22. 4\n",
       "23. 6\n",
       "24. 8\n",
       "25. 10\n",
       "26. 2\n",
       "27. 4\n",
       "28. 6\n",
       "29. 8\n",
       "30. 10\n",
       "31. 2\n",
       "32. 4\n",
       "33. 6\n",
       "34. 8\n",
       "35. 10\n",
       "36. 2\n",
       "37. 4\n",
       "38. 6\n",
       "39. 8\n",
       "40. 10\n",
       "41. 2\n",
       "42. 4\n",
       "43. 6\n",
       "44. 8\n",
       "45. 10\n",
       "46. 2\n",
       "47. 4\n",
       "48. 6\n",
       "49. 8\n",
       "50. 10\n",
       "\n",
       "\n"
      ],
      "text/plain": [
       " [1]  2  4  6  8 10  2  4  6  8 10  2  4  6  8 10  2  4  6  8 10  2  4  6  8 10\n",
       "[26]  2  4  6  8 10  2  4  6  8 10  2  4  6  8 10  2  4  6  8 10  2  4  6  8 10"
      ]
     },
     "metadata": {},
     "output_type": "display_data"
    }
   ],
   "source": [
    "rep(seq(from=2,to = 10,by=2),times=10)"
   ]
  }
 ],
 "metadata": {
  "kernelspec": {
   "display_name": "R",
   "language": "R",
   "name": "ir"
  },
  "language_info": {
   "codemirror_mode": "r",
   "file_extension": ".r",
   "mimetype": "text/x-r-source",
   "name": "R",
   "pygments_lexer": "r",
   "version": "4.2.2"
  }
 },
 "nbformat": 4,
 "nbformat_minor": 5
}

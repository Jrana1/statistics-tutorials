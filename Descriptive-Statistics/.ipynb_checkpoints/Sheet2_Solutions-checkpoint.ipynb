{
 "cells": [
  {
   "cell_type": "code",
   "execution_count": 11,
   "id": "75f65631",
   "metadata": {},
   "outputs": [
    {
     "name": "stderr",
     "output_type": "stream",
     "text": [
      "Installing package into ‘/home/jrana/R/x86_64-pc-linux-gnu-library/4.2’\n",
      "(as ‘lib’ is unspecified)\n",
      "\n"
     ]
    }
   ],
   "source": [
    "install.packages(\"dplyr\")"
   ]
  },
  {
   "cell_type": "code",
   "execution_count": 12,
   "id": "96b3ed03",
   "metadata": {
    "scrolled": true
   },
   "outputs": [],
   "source": [
    "library(\"dplyr\")"
   ]
  },
  {
   "cell_type": "code",
   "execution_count": 3,
   "id": "bd679a08",
   "metadata": {},
   "outputs": [],
   "source": [
    "s1 <- tibble(\n",
    "student = c(\"Adam\",\"Bernd\",\"Christian\",\"Doris\"),\n",
    "algebra = c(NA, 5, 3, 4),\n",
    "analysis = c(2, NA, 1,3),\n",
    "diskrete.math = c(3,NA,2,4),\n",
    ")\n",
    "s2 <- tibble(\n",
    "name = rep(c(\"Adam\", \"Bernd\", \"Christian\", \"Doris\"), each = 2),\n",
    "type = rep(c(\"height\", \"weight\"), 4),\n",
    "measure = c(1.83, 81, 1.75, 71, 1.69, 55, 1.57, 62))\n",
    "s3 <- tibble(\n",
    "name = c(\"Adam\", \"Bernd\", \"Christian\", \"Doris\"),\n",
    "ratio = c(\"81/1.83\", \"71/1.75\", \"55/1.69\", \"62/1.57\"))"
   ]
  },
  {
   "cell_type": "code",
   "execution_count": 10,
   "id": "b90b81c2",
   "metadata": {
    "scrolled": true
   },
   "outputs": [
    {
     "data": {
      "text/html": [
       "<table class=\"dataframe\">\n",
       "<caption>A tibble: 4 × 4</caption>\n",
       "<thead>\n",
       "\t<tr><th scope=col>student</th><th scope=col>algebra</th><th scope=col>analysis</th><th scope=col>diskrete.math</th></tr>\n",
       "\t<tr><th scope=col>&lt;chr&gt;</th><th scope=col>&lt;dbl&gt;</th><th scope=col>&lt;dbl&gt;</th><th scope=col>&lt;dbl&gt;</th></tr>\n",
       "</thead>\n",
       "<tbody>\n",
       "\t<tr><td>Adam     </td><td>NA</td><td> 2</td><td> 3</td></tr>\n",
       "\t<tr><td>Bernd    </td><td> 5</td><td>NA</td><td>NA</td></tr>\n",
       "\t<tr><td>Christian</td><td> 3</td><td> 1</td><td> 2</td></tr>\n",
       "\t<tr><td>Doris    </td><td> 4</td><td> 3</td><td> 4</td></tr>\n",
       "</tbody>\n",
       "</table>\n"
      ],
      "text/latex": [
       "A tibble: 4 × 4\n",
       "\\begin{tabular}{llll}\n",
       " student & algebra & analysis & diskrete.math\\\\\n",
       " <chr> & <dbl> & <dbl> & <dbl>\\\\\n",
       "\\hline\n",
       "\t Adam      & NA &  2 &  3\\\\\n",
       "\t Bernd     &  5 & NA & NA\\\\\n",
       "\t Christian &  3 &  1 &  2\\\\\n",
       "\t Doris     &  4 &  3 &  4\\\\\n",
       "\\end{tabular}\n"
      ],
      "text/markdown": [
       "\n",
       "A tibble: 4 × 4\n",
       "\n",
       "| student &lt;chr&gt; | algebra &lt;dbl&gt; | analysis &lt;dbl&gt; | diskrete.math &lt;dbl&gt; |\n",
       "|---|---|---|---|\n",
       "| Adam      | NA |  2 |  3 |\n",
       "| Bernd     |  5 | NA | NA |\n",
       "| Christian |  3 |  1 |  2 |\n",
       "| Doris     |  4 |  3 |  4 |\n",
       "\n"
      ],
      "text/plain": [
       "  student   algebra analysis diskrete.math\n",
       "1 Adam      NA       2        3           \n",
       "2 Bernd      5      NA       NA           \n",
       "3 Christian  3       1        2           \n",
       "4 Doris      4       3        4           "
      ]
     },
     "metadata": {},
     "output_type": "display_data"
    }
   ],
   "source": [
    "s1"
   ]
  },
  {
   "cell_type": "code",
   "execution_count": 5,
   "id": "317cc1f7",
   "metadata": {
    "scrolled": true
   },
   "outputs": [
    {
     "data": {
      "text/html": [
       "<table class=\"dataframe\">\n",
       "<caption>A tibble: 8 × 3</caption>\n",
       "<thead>\n",
       "\t<tr><th scope=col>name</th><th scope=col>type</th><th scope=col>measure</th></tr>\n",
       "\t<tr><th scope=col>&lt;chr&gt;</th><th scope=col>&lt;chr&gt;</th><th scope=col>&lt;dbl&gt;</th></tr>\n",
       "</thead>\n",
       "<tbody>\n",
       "\t<tr><td>Adam     </td><td>height</td><td> 1.83</td></tr>\n",
       "\t<tr><td>Adam     </td><td>weight</td><td>81.00</td></tr>\n",
       "\t<tr><td>Bernd    </td><td>height</td><td> 1.75</td></tr>\n",
       "\t<tr><td>Bernd    </td><td>weight</td><td>71.00</td></tr>\n",
       "\t<tr><td>Christian</td><td>height</td><td> 1.69</td></tr>\n",
       "\t<tr><td>Christian</td><td>weight</td><td>55.00</td></tr>\n",
       "\t<tr><td>Doris    </td><td>height</td><td> 1.57</td></tr>\n",
       "\t<tr><td>Doris    </td><td>weight</td><td>62.00</td></tr>\n",
       "</tbody>\n",
       "</table>\n"
      ],
      "text/latex": [
       "A tibble: 8 × 3\n",
       "\\begin{tabular}{lll}\n",
       " name & type & measure\\\\\n",
       " <chr> & <chr> & <dbl>\\\\\n",
       "\\hline\n",
       "\t Adam      & height &  1.83\\\\\n",
       "\t Adam      & weight & 81.00\\\\\n",
       "\t Bernd     & height &  1.75\\\\\n",
       "\t Bernd     & weight & 71.00\\\\\n",
       "\t Christian & height &  1.69\\\\\n",
       "\t Christian & weight & 55.00\\\\\n",
       "\t Doris     & height &  1.57\\\\\n",
       "\t Doris     & weight & 62.00\\\\\n",
       "\\end{tabular}\n"
      ],
      "text/markdown": [
       "\n",
       "A tibble: 8 × 3\n",
       "\n",
       "| name &lt;chr&gt; | type &lt;chr&gt; | measure &lt;dbl&gt; |\n",
       "|---|---|---|\n",
       "| Adam      | height |  1.83 |\n",
       "| Adam      | weight | 81.00 |\n",
       "| Bernd     | height |  1.75 |\n",
       "| Bernd     | weight | 71.00 |\n",
       "| Christian | height |  1.69 |\n",
       "| Christian | weight | 55.00 |\n",
       "| Doris     | height |  1.57 |\n",
       "| Doris     | weight | 62.00 |\n",
       "\n"
      ],
      "text/plain": [
       "  name      type   measure\n",
       "1 Adam      height  1.83  \n",
       "2 Adam      weight 81.00  \n",
       "3 Bernd     height  1.75  \n",
       "4 Bernd     weight 71.00  \n",
       "5 Christian height  1.69  \n",
       "6 Christian weight 55.00  \n",
       "7 Doris     height  1.57  \n",
       "8 Doris     weight 62.00  "
      ]
     },
     "metadata": {},
     "output_type": "display_data"
    }
   ],
   "source": [
    "s2"
   ]
  },
  {
   "cell_type": "code",
   "execution_count": 6,
   "id": "3d0578e4",
   "metadata": {
    "scrolled": true
   },
   "outputs": [
    {
     "data": {
      "text/html": [
       "<table class=\"dataframe\">\n",
       "<caption>A tibble: 4 × 2</caption>\n",
       "<thead>\n",
       "\t<tr><th scope=col>name</th><th scope=col>ratio</th></tr>\n",
       "\t<tr><th scope=col>&lt;chr&gt;</th><th scope=col>&lt;chr&gt;</th></tr>\n",
       "</thead>\n",
       "<tbody>\n",
       "\t<tr><td>Adam     </td><td>81/1.83</td></tr>\n",
       "\t<tr><td>Bernd    </td><td>71/1.75</td></tr>\n",
       "\t<tr><td>Christian</td><td>55/1.69</td></tr>\n",
       "\t<tr><td>Doris    </td><td>62/1.57</td></tr>\n",
       "</tbody>\n",
       "</table>\n"
      ],
      "text/latex": [
       "A tibble: 4 × 2\n",
       "\\begin{tabular}{ll}\n",
       " name & ratio\\\\\n",
       " <chr> & <chr>\\\\\n",
       "\\hline\n",
       "\t Adam      & 81/1.83\\\\\n",
       "\t Bernd     & 71/1.75\\\\\n",
       "\t Christian & 55/1.69\\\\\n",
       "\t Doris     & 62/1.57\\\\\n",
       "\\end{tabular}\n"
      ],
      "text/markdown": [
       "\n",
       "A tibble: 4 × 2\n",
       "\n",
       "| name &lt;chr&gt; | ratio &lt;chr&gt; |\n",
       "|---|---|\n",
       "| Adam      | 81/1.83 |\n",
       "| Bernd     | 71/1.75 |\n",
       "| Christian | 55/1.69 |\n",
       "| Doris     | 62/1.57 |\n",
       "\n"
      ],
      "text/plain": [
       "  name      ratio  \n",
       "1 Adam      81/1.83\n",
       "2 Bernd     71/1.75\n",
       "3 Christian 55/1.69\n",
       "4 Doris     62/1.57"
      ]
     },
     "metadata": {},
     "output_type": "display_data"
    }
   ],
   "source": [
    "s3"
   ]
  },
  {
   "cell_type": "markdown",
   "id": "cd115aef",
   "metadata": {},
   "source": [
    "## s1\n",
    " + contains 3 variables\n",
    "   + name, exam, grade\n",
    " + 36 values and 12 observations  \n",
    " "
   ]
  },
  {
   "cell_type": "markdown",
   "id": "2e0cc4aa",
   "metadata": {},
   "source": [
    "## s2 & s3\n",
    " + contains 12 values\n",
    " + three variables\n",
    "   + name, type, measure\n",
    " + 3 observation for every student  "
   ]
  },
  {
   "cell_type": "markdown",
   "id": "55635ebb",
   "metadata": {},
   "source": [
    "## why are these datasets not tidy?\n",
    "  + **s1**\n",
    "     + column headers are values of the variable exam, not variable name.\n",
    "  + **s2**\n",
    "    + the variable weight and height are stored both in cols and rows\n",
    "  + **s3**\n",
    "    + the values of weight and height are stored in one column"
   ]
  },
  {
   "cell_type": "code",
   "execution_count": 13,
   "id": "8599243e",
   "metadata": {
    "scrolled": true
   },
   "outputs": [
    {
     "name": "stderr",
     "output_type": "stream",
     "text": [
      "Installing package into ‘/home/jrana/R/x86_64-pc-linux-gnu-library/4.2’\n",
      "(as ‘lib’ is unspecified)\n",
      "\n"
     ]
    }
   ],
   "source": [
    "install.packages(\"tidyr\")"
   ]
  },
  {
   "cell_type": "code",
   "execution_count": 14,
   "id": "d7d44f9d",
   "metadata": {},
   "outputs": [],
   "source": [
    "library(\"tidyr\")"
   ]
  },
  {
   "cell_type": "code",
   "execution_count": null,
   "id": "3fd569c9",
   "metadata": {},
   "outputs": [],
   "source": []
  },
  {
   "cell_type": "code",
   "execution_count": 18,
   "id": "1efdb7f3",
   "metadata": {
    "scrolled": true
   },
   "outputs": [
    {
     "data": {
      "text/html": [
       "<table class=\"dataframe\">\n",
       "<caption>A tibble: 12 × 3</caption>\n",
       "<thead>\n",
       "\t<tr><th scope=col>student</th><th scope=col>exam</th><th scope=col>grade</th></tr>\n",
       "\t<tr><th scope=col>&lt;chr&gt;</th><th scope=col>&lt;chr&gt;</th><th scope=col>&lt;dbl&gt;</th></tr>\n",
       "</thead>\n",
       "<tbody>\n",
       "\t<tr><td>Adam     </td><td>algebra      </td><td>NA</td></tr>\n",
       "\t<tr><td>Bernd    </td><td>algebra      </td><td> 5</td></tr>\n",
       "\t<tr><td>Christian</td><td>algebra      </td><td> 3</td></tr>\n",
       "\t<tr><td>Doris    </td><td>algebra      </td><td> 4</td></tr>\n",
       "\t<tr><td>Adam     </td><td>analysis     </td><td> 2</td></tr>\n",
       "\t<tr><td>Bernd    </td><td>analysis     </td><td>NA</td></tr>\n",
       "\t<tr><td>Christian</td><td>analysis     </td><td> 1</td></tr>\n",
       "\t<tr><td>Doris    </td><td>analysis     </td><td> 3</td></tr>\n",
       "\t<tr><td>Adam     </td><td>diskrete.math</td><td> 3</td></tr>\n",
       "\t<tr><td>Bernd    </td><td>diskrete.math</td><td>NA</td></tr>\n",
       "\t<tr><td>Christian</td><td>diskrete.math</td><td> 2</td></tr>\n",
       "\t<tr><td>Doris    </td><td>diskrete.math</td><td> 4</td></tr>\n",
       "</tbody>\n",
       "</table>\n"
      ],
      "text/latex": [
       "A tibble: 12 × 3\n",
       "\\begin{tabular}{lll}\n",
       " student & exam & grade\\\\\n",
       " <chr> & <chr> & <dbl>\\\\\n",
       "\\hline\n",
       "\t Adam      & algebra       & NA\\\\\n",
       "\t Bernd     & algebra       &  5\\\\\n",
       "\t Christian & algebra       &  3\\\\\n",
       "\t Doris     & algebra       &  4\\\\\n",
       "\t Adam      & analysis      &  2\\\\\n",
       "\t Bernd     & analysis      & NA\\\\\n",
       "\t Christian & analysis      &  1\\\\\n",
       "\t Doris     & analysis      &  3\\\\\n",
       "\t Adam      & diskrete.math &  3\\\\\n",
       "\t Bernd     & diskrete.math & NA\\\\\n",
       "\t Christian & diskrete.math &  2\\\\\n",
       "\t Doris     & diskrete.math &  4\\\\\n",
       "\\end{tabular}\n"
      ],
      "text/markdown": [
       "\n",
       "A tibble: 12 × 3\n",
       "\n",
       "| student &lt;chr&gt; | exam &lt;chr&gt; | grade &lt;dbl&gt; |\n",
       "|---|---|---|\n",
       "| Adam      | algebra       | NA |\n",
       "| Bernd     | algebra       |  5 |\n",
       "| Christian | algebra       |  3 |\n",
       "| Doris     | algebra       |  4 |\n",
       "| Adam      | analysis      |  2 |\n",
       "| Bernd     | analysis      | NA |\n",
       "| Christian | analysis      |  1 |\n",
       "| Doris     | analysis      |  3 |\n",
       "| Adam      | diskrete.math |  3 |\n",
       "| Bernd     | diskrete.math | NA |\n",
       "| Christian | diskrete.math |  2 |\n",
       "| Doris     | diskrete.math |  4 |\n",
       "\n"
      ],
      "text/plain": [
       "   student   exam          grade\n",
       "1  Adam      algebra       NA   \n",
       "2  Bernd     algebra        5   \n",
       "3  Christian algebra        3   \n",
       "4  Doris     algebra        4   \n",
       "5  Adam      analysis       2   \n",
       "6  Bernd     analysis      NA   \n",
       "7  Christian analysis       1   \n",
       "8  Doris     analysis       3   \n",
       "9  Adam      diskrete.math  3   \n",
       "10 Bernd     diskrete.math NA   \n",
       "11 Christian diskrete.math  2   \n",
       "12 Doris     diskrete.math  4   "
      ]
     },
     "metadata": {},
     "output_type": "display_data"
    }
   ],
   "source": [
    "s1  %>% gather(\"algebra\",\"analysis\",\"diskrete.math\",\n",
    "               key=\"exam\",value=\"grade\")->s1_new\n",
    "s1_new"
   ]
  },
  {
   "cell_type": "code",
   "execution_count": 19,
   "id": "273034c2",
   "metadata": {},
   "outputs": [
    {
     "data": {
      "text/html": [
       "<style>\n",
       ".list-inline {list-style: none; margin:0; padding: 0}\n",
       ".list-inline>li {display: inline-block}\n",
       ".list-inline>li:not(:last-child)::after {content: \"\\00b7\"; padding: 0 .5ex}\n",
       "</style>\n",
       "<ol class=list-inline><li>12</li><li>3</li></ol>\n"
      ],
      "text/latex": [
       "\\begin{enumerate*}\n",
       "\\item 12\n",
       "\\item 3\n",
       "\\end{enumerate*}\n"
      ],
      "text/markdown": [
       "1. 12\n",
       "2. 3\n",
       "\n",
       "\n"
      ],
      "text/plain": [
       "[1] 12  3"
      ]
     },
     "metadata": {},
     "output_type": "display_data"
    }
   ],
   "source": [
    "dim(s1_new)"
   ]
  },
  {
   "cell_type": "code",
   "execution_count": 20,
   "id": "910b739b",
   "metadata": {},
   "outputs": [
    {
     "data": {
      "text/html": [
       "<table class=\"dataframe\">\n",
       "<caption>A tibble: 8 × 3</caption>\n",
       "<thead>\n",
       "\t<tr><th scope=col>name</th><th scope=col>type</th><th scope=col>measure</th></tr>\n",
       "\t<tr><th scope=col>&lt;chr&gt;</th><th scope=col>&lt;chr&gt;</th><th scope=col>&lt;dbl&gt;</th></tr>\n",
       "</thead>\n",
       "<tbody>\n",
       "\t<tr><td>Adam     </td><td>height</td><td> 1.83</td></tr>\n",
       "\t<tr><td>Adam     </td><td>weight</td><td>81.00</td></tr>\n",
       "\t<tr><td>Bernd    </td><td>height</td><td> 1.75</td></tr>\n",
       "\t<tr><td>Bernd    </td><td>weight</td><td>71.00</td></tr>\n",
       "\t<tr><td>Christian</td><td>height</td><td> 1.69</td></tr>\n",
       "\t<tr><td>Christian</td><td>weight</td><td>55.00</td></tr>\n",
       "\t<tr><td>Doris    </td><td>height</td><td> 1.57</td></tr>\n",
       "\t<tr><td>Doris    </td><td>weight</td><td>62.00</td></tr>\n",
       "</tbody>\n",
       "</table>\n"
      ],
      "text/latex": [
       "A tibble: 8 × 3\n",
       "\\begin{tabular}{lll}\n",
       " name & type & measure\\\\\n",
       " <chr> & <chr> & <dbl>\\\\\n",
       "\\hline\n",
       "\t Adam      & height &  1.83\\\\\n",
       "\t Adam      & weight & 81.00\\\\\n",
       "\t Bernd     & height &  1.75\\\\\n",
       "\t Bernd     & weight & 71.00\\\\\n",
       "\t Christian & height &  1.69\\\\\n",
       "\t Christian & weight & 55.00\\\\\n",
       "\t Doris     & height &  1.57\\\\\n",
       "\t Doris     & weight & 62.00\\\\\n",
       "\\end{tabular}\n"
      ],
      "text/markdown": [
       "\n",
       "A tibble: 8 × 3\n",
       "\n",
       "| name &lt;chr&gt; | type &lt;chr&gt; | measure &lt;dbl&gt; |\n",
       "|---|---|---|\n",
       "| Adam      | height |  1.83 |\n",
       "| Adam      | weight | 81.00 |\n",
       "| Bernd     | height |  1.75 |\n",
       "| Bernd     | weight | 71.00 |\n",
       "| Christian | height |  1.69 |\n",
       "| Christian | weight | 55.00 |\n",
       "| Doris     | height |  1.57 |\n",
       "| Doris     | weight | 62.00 |\n",
       "\n"
      ],
      "text/plain": [
       "  name      type   measure\n",
       "1 Adam      height  1.83  \n",
       "2 Adam      weight 81.00  \n",
       "3 Bernd     height  1.75  \n",
       "4 Bernd     weight 71.00  \n",
       "5 Christian height  1.69  \n",
       "6 Christian weight 55.00  \n",
       "7 Doris     height  1.57  \n",
       "8 Doris     weight 62.00  "
      ]
     },
     "metadata": {},
     "output_type": "display_data"
    }
   ],
   "source": [
    "s2"
   ]
  },
  {
   "cell_type": "code",
   "execution_count": 18,
   "id": "d4195af2",
   "metadata": {},
   "outputs": [
    {
     "data": {
      "text/html": [
       "<table class=\"dataframe\">\n",
       "<caption>A tibble: 4 × 3</caption>\n",
       "<thead>\n",
       "\t<tr><th scope=col>name</th><th scope=col>height</th><th scope=col>weight</th></tr>\n",
       "\t<tr><th scope=col>&lt;chr&gt;</th><th scope=col>&lt;dbl&gt;</th><th scope=col>&lt;dbl&gt;</th></tr>\n",
       "</thead>\n",
       "<tbody>\n",
       "\t<tr><td>Adam     </td><td>1.83</td><td>81</td></tr>\n",
       "\t<tr><td>Bernd    </td><td>1.75</td><td>71</td></tr>\n",
       "\t<tr><td>Christian</td><td>1.69</td><td>55</td></tr>\n",
       "\t<tr><td>Doris    </td><td>1.57</td><td>62</td></tr>\n",
       "</tbody>\n",
       "</table>\n"
      ],
      "text/latex": [
       "A tibble: 4 × 3\n",
       "\\begin{tabular}{lll}\n",
       " name & height & weight\\\\\n",
       " <chr> & <dbl> & <dbl>\\\\\n",
       "\\hline\n",
       "\t Adam      & 1.83 & 81\\\\\n",
       "\t Bernd     & 1.75 & 71\\\\\n",
       "\t Christian & 1.69 & 55\\\\\n",
       "\t Doris     & 1.57 & 62\\\\\n",
       "\\end{tabular}\n"
      ],
      "text/markdown": [
       "\n",
       "A tibble: 4 × 3\n",
       "\n",
       "| name &lt;chr&gt; | height &lt;dbl&gt; | weight &lt;dbl&gt; |\n",
       "|---|---|---|\n",
       "| Adam      | 1.83 | 81 |\n",
       "| Bernd     | 1.75 | 71 |\n",
       "| Christian | 1.69 | 55 |\n",
       "| Doris     | 1.57 | 62 |\n",
       "\n"
      ],
      "text/plain": [
       "  name      height weight\n",
       "1 Adam      1.83   81    \n",
       "2 Bernd     1.75   71    \n",
       "3 Christian 1.69   55    \n",
       "4 Doris     1.57   62    "
      ]
     },
     "metadata": {},
     "output_type": "display_data"
    }
   ],
   "source": [
    "s2 %>% spread(key=type, value=measure)"
   ]
  }
 ],
 "metadata": {
  "kernelspec": {
   "display_name": "R",
   "language": "R",
   "name": "ir"
  },
  "language_info": {
   "codemirror_mode": "r",
   "file_extension": ".r",
   "mimetype": "text/x-r-source",
   "name": "R",
   "pygments_lexer": "r",
   "version": "4.2.2"
  }
 },
 "nbformat": 4,
 "nbformat_minor": 5
}

{
 "cells": [
  {
   "cell_type": "markdown",
   "id": "d14d5262",
   "metadata": {},
   "source": [
    " <h1 style=\"color:blue;text-align:center\">Sheet II</h1>"
   ]
  },
  {
   "cell_type": "markdown",
   "id": "26e9cc7a",
   "metadata": {},
   "source": [
    " <h4 style=\"color:green;text-align:center\">Exercise 1</h4>"
   ]
  },
  {
   "cell_type": "code",
   "execution_count": 1,
   "id": "75f65631",
   "metadata": {},
   "outputs": [
    {
     "name": "stderr",
     "output_type": "stream",
     "text": [
      "Installing package into ‘/home/jrana/R/x86_64-pc-linux-gnu-library/4.2’\n",
      "(as ‘lib’ is unspecified)\n",
      "\n"
     ]
    }
   ],
   "source": [
    "install.packages(\"dplyr\")"
   ]
  },
  {
   "cell_type": "code",
   "execution_count": 2,
   "id": "96b3ed03",
   "metadata": {
    "scrolled": true
   },
   "outputs": [
    {
     "name": "stderr",
     "output_type": "stream",
     "text": [
      "\n",
      "Attaching package: ‘dplyr’\n",
      "\n",
      "\n",
      "The following objects are masked from ‘package:stats’:\n",
      "\n",
      "    filter, lag\n",
      "\n",
      "\n",
      "The following objects are masked from ‘package:base’:\n",
      "\n",
      "    intersect, setdiff, setequal, union\n",
      "\n",
      "\n"
     ]
    }
   ],
   "source": [
    "library(\"dplyr\")"
   ]
  },
  {
   "cell_type": "code",
   "execution_count": 3,
   "id": "bd679a08",
   "metadata": {},
   "outputs": [],
   "source": [
    "s1 <- tibble(\n",
    "student = c(\"Adam\",\"Bernd\",\"Christian\",\"Doris\"),\n",
    "algebra = c(NA, 5, 3, 4),\n",
    "analysis = c(2, NA, 1,3),\n",
    "diskrete.math = c(3,NA,2,4),\n",
    ")\n",
    "s2 <- tibble(\n",
    "name = rep(c(\"Adam\", \"Bernd\", \"Christian\", \"Doris\"), each = 2),\n",
    "type = rep(c(\"height\", \"weight\"), 4),\n",
    "measure = c(1.83, 81, 1.75, 71, 1.69, 55, 1.57, 62))\n",
    "s3 <- tibble(\n",
    "name = c(\"Adam\", \"Bernd\", \"Christian\", \"Doris\"),\n",
    "ratio = c(\"81/1.83\", \"71/1.75\", \"55/1.69\", \"62/1.57\"))"
   ]
  },
  {
   "cell_type": "code",
   "execution_count": 4,
   "id": "b90b81c2",
   "metadata": {
    "scrolled": true
   },
   "outputs": [
    {
     "data": {
      "text/html": [
       "<table class=\"dataframe\">\n",
       "<caption>A tibble: 4 × 4</caption>\n",
       "<thead>\n",
       "\t<tr><th scope=col>student</th><th scope=col>algebra</th><th scope=col>analysis</th><th scope=col>diskrete.math</th></tr>\n",
       "\t<tr><th scope=col>&lt;chr&gt;</th><th scope=col>&lt;dbl&gt;</th><th scope=col>&lt;dbl&gt;</th><th scope=col>&lt;dbl&gt;</th></tr>\n",
       "</thead>\n",
       "<tbody>\n",
       "\t<tr><td>Adam     </td><td>NA</td><td> 2</td><td> 3</td></tr>\n",
       "\t<tr><td>Bernd    </td><td> 5</td><td>NA</td><td>NA</td></tr>\n",
       "\t<tr><td>Christian</td><td> 3</td><td> 1</td><td> 2</td></tr>\n",
       "\t<tr><td>Doris    </td><td> 4</td><td> 3</td><td> 4</td></tr>\n",
       "</tbody>\n",
       "</table>\n"
      ],
      "text/latex": [
       "A tibble: 4 × 4\n",
       "\\begin{tabular}{llll}\n",
       " student & algebra & analysis & diskrete.math\\\\\n",
       " <chr> & <dbl> & <dbl> & <dbl>\\\\\n",
       "\\hline\n",
       "\t Adam      & NA &  2 &  3\\\\\n",
       "\t Bernd     &  5 & NA & NA\\\\\n",
       "\t Christian &  3 &  1 &  2\\\\\n",
       "\t Doris     &  4 &  3 &  4\\\\\n",
       "\\end{tabular}\n"
      ],
      "text/markdown": [
       "\n",
       "A tibble: 4 × 4\n",
       "\n",
       "| student &lt;chr&gt; | algebra &lt;dbl&gt; | analysis &lt;dbl&gt; | diskrete.math &lt;dbl&gt; |\n",
       "|---|---|---|---|\n",
       "| Adam      | NA |  2 |  3 |\n",
       "| Bernd     |  5 | NA | NA |\n",
       "| Christian |  3 |  1 |  2 |\n",
       "| Doris     |  4 |  3 |  4 |\n",
       "\n"
      ],
      "text/plain": [
       "  student   algebra analysis diskrete.math\n",
       "1 Adam      NA       2        3           \n",
       "2 Bernd      5      NA       NA           \n",
       "3 Christian  3       1        2           \n",
       "4 Doris      4       3        4           "
      ]
     },
     "metadata": {},
     "output_type": "display_data"
    }
   ],
   "source": [
    "s1"
   ]
  },
  {
   "cell_type": "code",
   "execution_count": 5,
   "id": "317cc1f7",
   "metadata": {
    "scrolled": true
   },
   "outputs": [
    {
     "data": {
      "text/html": [
       "<table class=\"dataframe\">\n",
       "<caption>A tibble: 8 × 3</caption>\n",
       "<thead>\n",
       "\t<tr><th scope=col>name</th><th scope=col>type</th><th scope=col>measure</th></tr>\n",
       "\t<tr><th scope=col>&lt;chr&gt;</th><th scope=col>&lt;chr&gt;</th><th scope=col>&lt;dbl&gt;</th></tr>\n",
       "</thead>\n",
       "<tbody>\n",
       "\t<tr><td>Adam     </td><td>height</td><td> 1.83</td></tr>\n",
       "\t<tr><td>Adam     </td><td>weight</td><td>81.00</td></tr>\n",
       "\t<tr><td>Bernd    </td><td>height</td><td> 1.75</td></tr>\n",
       "\t<tr><td>Bernd    </td><td>weight</td><td>71.00</td></tr>\n",
       "\t<tr><td>Christian</td><td>height</td><td> 1.69</td></tr>\n",
       "\t<tr><td>Christian</td><td>weight</td><td>55.00</td></tr>\n",
       "\t<tr><td>Doris    </td><td>height</td><td> 1.57</td></tr>\n",
       "\t<tr><td>Doris    </td><td>weight</td><td>62.00</td></tr>\n",
       "</tbody>\n",
       "</table>\n"
      ],
      "text/latex": [
       "A tibble: 8 × 3\n",
       "\\begin{tabular}{lll}\n",
       " name & type & measure\\\\\n",
       " <chr> & <chr> & <dbl>\\\\\n",
       "\\hline\n",
       "\t Adam      & height &  1.83\\\\\n",
       "\t Adam      & weight & 81.00\\\\\n",
       "\t Bernd     & height &  1.75\\\\\n",
       "\t Bernd     & weight & 71.00\\\\\n",
       "\t Christian & height &  1.69\\\\\n",
       "\t Christian & weight & 55.00\\\\\n",
       "\t Doris     & height &  1.57\\\\\n",
       "\t Doris     & weight & 62.00\\\\\n",
       "\\end{tabular}\n"
      ],
      "text/markdown": [
       "\n",
       "A tibble: 8 × 3\n",
       "\n",
       "| name &lt;chr&gt; | type &lt;chr&gt; | measure &lt;dbl&gt; |\n",
       "|---|---|---|\n",
       "| Adam      | height |  1.83 |\n",
       "| Adam      | weight | 81.00 |\n",
       "| Bernd     | height |  1.75 |\n",
       "| Bernd     | weight | 71.00 |\n",
       "| Christian | height |  1.69 |\n",
       "| Christian | weight | 55.00 |\n",
       "| Doris     | height |  1.57 |\n",
       "| Doris     | weight | 62.00 |\n",
       "\n"
      ],
      "text/plain": [
       "  name      type   measure\n",
       "1 Adam      height  1.83  \n",
       "2 Adam      weight 81.00  \n",
       "3 Bernd     height  1.75  \n",
       "4 Bernd     weight 71.00  \n",
       "5 Christian height  1.69  \n",
       "6 Christian weight 55.00  \n",
       "7 Doris     height  1.57  \n",
       "8 Doris     weight 62.00  "
      ]
     },
     "metadata": {},
     "output_type": "display_data"
    }
   ],
   "source": [
    "s2"
   ]
  },
  {
   "cell_type": "code",
   "execution_count": 6,
   "id": "3d0578e4",
   "metadata": {
    "scrolled": true
   },
   "outputs": [
    {
     "data": {
      "text/html": [
       "<table class=\"dataframe\">\n",
       "<caption>A tibble: 4 × 2</caption>\n",
       "<thead>\n",
       "\t<tr><th scope=col>name</th><th scope=col>ratio</th></tr>\n",
       "\t<tr><th scope=col>&lt;chr&gt;</th><th scope=col>&lt;chr&gt;</th></tr>\n",
       "</thead>\n",
       "<tbody>\n",
       "\t<tr><td>Adam     </td><td>81/1.83</td></tr>\n",
       "\t<tr><td>Bernd    </td><td>71/1.75</td></tr>\n",
       "\t<tr><td>Christian</td><td>55/1.69</td></tr>\n",
       "\t<tr><td>Doris    </td><td>62/1.57</td></tr>\n",
       "</tbody>\n",
       "</table>\n"
      ],
      "text/latex": [
       "A tibble: 4 × 2\n",
       "\\begin{tabular}{ll}\n",
       " name & ratio\\\\\n",
       " <chr> & <chr>\\\\\n",
       "\\hline\n",
       "\t Adam      & 81/1.83\\\\\n",
       "\t Bernd     & 71/1.75\\\\\n",
       "\t Christian & 55/1.69\\\\\n",
       "\t Doris     & 62/1.57\\\\\n",
       "\\end{tabular}\n"
      ],
      "text/markdown": [
       "\n",
       "A tibble: 4 × 2\n",
       "\n",
       "| name &lt;chr&gt; | ratio &lt;chr&gt; |\n",
       "|---|---|\n",
       "| Adam      | 81/1.83 |\n",
       "| Bernd     | 71/1.75 |\n",
       "| Christian | 55/1.69 |\n",
       "| Doris     | 62/1.57 |\n",
       "\n"
      ],
      "text/plain": [
       "  name      ratio  \n",
       "1 Adam      81/1.83\n",
       "2 Bernd     71/1.75\n",
       "3 Christian 55/1.69\n",
       "4 Doris     62/1.57"
      ]
     },
     "metadata": {},
     "output_type": "display_data"
    }
   ],
   "source": [
    "s3"
   ]
  },
  {
   "cell_type": "markdown",
   "id": "cd115aef",
   "metadata": {},
   "source": [
    "## s1\n",
    " + contains 3 variables\n",
    "   + name, exam, grade\n",
    " + 36 values and 12 observations  \n",
    " "
   ]
  },
  {
   "cell_type": "markdown",
   "id": "2e0cc4aa",
   "metadata": {},
   "source": [
    "## s2 & s3\n",
    " + contains 12 values\n",
    " + three variables\n",
    "   + name, type, measure\n",
    " + 3 observation for every student  "
   ]
  },
  {
   "cell_type": "markdown",
   "id": "55635ebb",
   "metadata": {},
   "source": [
    "## why are these datasets not tidy?\n",
    "  + **s1**\n",
    "     + column headers are values of the variable exam, not variable name.\n",
    "  + **s2**\n",
    "    + the variable weight and height are stored both in cols and rows\n",
    "  + **s3**\n",
    "    + the values of weight and height are stored in one column"
   ]
  },
  {
   "cell_type": "code",
   "execution_count": 7,
   "id": "8599243e",
   "metadata": {
    "scrolled": true
   },
   "outputs": [
    {
     "name": "stderr",
     "output_type": "stream",
     "text": [
      "Installing package into ‘/home/jrana/R/x86_64-pc-linux-gnu-library/4.2’\n",
      "(as ‘lib’ is unspecified)\n",
      "\n"
     ]
    }
   ],
   "source": [
    "install.packages(\"tidyr\")"
   ]
  },
  {
   "cell_type": "code",
   "execution_count": 8,
   "id": "d7d44f9d",
   "metadata": {},
   "outputs": [],
   "source": [
    "library(\"tidyr\")"
   ]
  },
  {
   "cell_type": "markdown",
   "id": "efc487d1",
   "metadata": {},
   "source": [
    "## Make a tidy version of all datasets."
   ]
  },
  {
   "cell_type": "code",
   "execution_count": 9,
   "id": "f3d5071e",
   "metadata": {},
   "outputs": [
    {
     "data": {
      "text/html": [
       "<table class=\"dataframe\">\n",
       "<caption>A tibble: 4 × 4</caption>\n",
       "<thead>\n",
       "\t<tr><th scope=col>student</th><th scope=col>algebra</th><th scope=col>analysis</th><th scope=col>diskrete.math</th></tr>\n",
       "\t<tr><th scope=col>&lt;chr&gt;</th><th scope=col>&lt;dbl&gt;</th><th scope=col>&lt;dbl&gt;</th><th scope=col>&lt;dbl&gt;</th></tr>\n",
       "</thead>\n",
       "<tbody>\n",
       "\t<tr><td>Adam     </td><td>NA</td><td> 2</td><td> 3</td></tr>\n",
       "\t<tr><td>Bernd    </td><td> 5</td><td>NA</td><td>NA</td></tr>\n",
       "\t<tr><td>Christian</td><td> 3</td><td> 1</td><td> 2</td></tr>\n",
       "\t<tr><td>Doris    </td><td> 4</td><td> 3</td><td> 4</td></tr>\n",
       "</tbody>\n",
       "</table>\n"
      ],
      "text/latex": [
       "A tibble: 4 × 4\n",
       "\\begin{tabular}{llll}\n",
       " student & algebra & analysis & diskrete.math\\\\\n",
       " <chr> & <dbl> & <dbl> & <dbl>\\\\\n",
       "\\hline\n",
       "\t Adam      & NA &  2 &  3\\\\\n",
       "\t Bernd     &  5 & NA & NA\\\\\n",
       "\t Christian &  3 &  1 &  2\\\\\n",
       "\t Doris     &  4 &  3 &  4\\\\\n",
       "\\end{tabular}\n"
      ],
      "text/markdown": [
       "\n",
       "A tibble: 4 × 4\n",
       "\n",
       "| student &lt;chr&gt; | algebra &lt;dbl&gt; | analysis &lt;dbl&gt; | diskrete.math &lt;dbl&gt; |\n",
       "|---|---|---|---|\n",
       "| Adam      | NA |  2 |  3 |\n",
       "| Bernd     |  5 | NA | NA |\n",
       "| Christian |  3 |  1 |  2 |\n",
       "| Doris     |  4 |  3 |  4 |\n",
       "\n"
      ],
      "text/plain": [
       "  student   algebra analysis diskrete.math\n",
       "1 Adam      NA       2        3           \n",
       "2 Bernd      5      NA       NA           \n",
       "3 Christian  3       1        2           \n",
       "4 Doris      4       3        4           "
      ]
     },
     "metadata": {},
     "output_type": "display_data"
    }
   ],
   "source": [
    "s1"
   ]
  },
  {
   "cell_type": "code",
   "execution_count": 10,
   "id": "1efdb7f3",
   "metadata": {
    "scrolled": true
   },
   "outputs": [
    {
     "data": {
      "text/html": [
       "<table class=\"dataframe\">\n",
       "<caption>A tibble: 12 × 3</caption>\n",
       "<thead>\n",
       "\t<tr><th scope=col>student</th><th scope=col>exam</th><th scope=col>grade</th></tr>\n",
       "\t<tr><th scope=col>&lt;chr&gt;</th><th scope=col>&lt;chr&gt;</th><th scope=col>&lt;dbl&gt;</th></tr>\n",
       "</thead>\n",
       "<tbody>\n",
       "\t<tr><td>Adam     </td><td>algebra      </td><td>NA</td></tr>\n",
       "\t<tr><td>Bernd    </td><td>algebra      </td><td> 5</td></tr>\n",
       "\t<tr><td>Christian</td><td>algebra      </td><td> 3</td></tr>\n",
       "\t<tr><td>Doris    </td><td>algebra      </td><td> 4</td></tr>\n",
       "\t<tr><td>Adam     </td><td>analysis     </td><td> 2</td></tr>\n",
       "\t<tr><td>Bernd    </td><td>analysis     </td><td>NA</td></tr>\n",
       "\t<tr><td>Christian</td><td>analysis     </td><td> 1</td></tr>\n",
       "\t<tr><td>Doris    </td><td>analysis     </td><td> 3</td></tr>\n",
       "\t<tr><td>Adam     </td><td>diskrete.math</td><td> 3</td></tr>\n",
       "\t<tr><td>Bernd    </td><td>diskrete.math</td><td>NA</td></tr>\n",
       "\t<tr><td>Christian</td><td>diskrete.math</td><td> 2</td></tr>\n",
       "\t<tr><td>Doris    </td><td>diskrete.math</td><td> 4</td></tr>\n",
       "</tbody>\n",
       "</table>\n"
      ],
      "text/latex": [
       "A tibble: 12 × 3\n",
       "\\begin{tabular}{lll}\n",
       " student & exam & grade\\\\\n",
       " <chr> & <chr> & <dbl>\\\\\n",
       "\\hline\n",
       "\t Adam      & algebra       & NA\\\\\n",
       "\t Bernd     & algebra       &  5\\\\\n",
       "\t Christian & algebra       &  3\\\\\n",
       "\t Doris     & algebra       &  4\\\\\n",
       "\t Adam      & analysis      &  2\\\\\n",
       "\t Bernd     & analysis      & NA\\\\\n",
       "\t Christian & analysis      &  1\\\\\n",
       "\t Doris     & analysis      &  3\\\\\n",
       "\t Adam      & diskrete.math &  3\\\\\n",
       "\t Bernd     & diskrete.math & NA\\\\\n",
       "\t Christian & diskrete.math &  2\\\\\n",
       "\t Doris     & diskrete.math &  4\\\\\n",
       "\\end{tabular}\n"
      ],
      "text/markdown": [
       "\n",
       "A tibble: 12 × 3\n",
       "\n",
       "| student &lt;chr&gt; | exam &lt;chr&gt; | grade &lt;dbl&gt; |\n",
       "|---|---|---|\n",
       "| Adam      | algebra       | NA |\n",
       "| Bernd     | algebra       |  5 |\n",
       "| Christian | algebra       |  3 |\n",
       "| Doris     | algebra       |  4 |\n",
       "| Adam      | analysis      |  2 |\n",
       "| Bernd     | analysis      | NA |\n",
       "| Christian | analysis      |  1 |\n",
       "| Doris     | analysis      |  3 |\n",
       "| Adam      | diskrete.math |  3 |\n",
       "| Bernd     | diskrete.math | NA |\n",
       "| Christian | diskrete.math |  2 |\n",
       "| Doris     | diskrete.math |  4 |\n",
       "\n"
      ],
      "text/plain": [
       "   student   exam          grade\n",
       "1  Adam      algebra       NA   \n",
       "2  Bernd     algebra        5   \n",
       "3  Christian algebra        3   \n",
       "4  Doris     algebra        4   \n",
       "5  Adam      analysis       2   \n",
       "6  Bernd     analysis      NA   \n",
       "7  Christian analysis       1   \n",
       "8  Doris     analysis       3   \n",
       "9  Adam      diskrete.math  3   \n",
       "10 Bernd     diskrete.math NA   \n",
       "11 Christian diskrete.math  2   \n",
       "12 Doris     diskrete.math  4   "
      ]
     },
     "metadata": {},
     "output_type": "display_data"
    }
   ],
   "source": [
    "s1  %>% gather(\"algebra\",\"analysis\",\"diskrete.math\",\n",
    "               key=\"exam\",value=\"grade\")->s1_new\n",
    "s1_new"
   ]
  },
  {
   "cell_type": "code",
   "execution_count": 11,
   "id": "e7b1f4d2",
   "metadata": {},
   "outputs": [
    {
     "data": {
      "text/html": [
       "<style>\n",
       ".list-inline {list-style: none; margin:0; padding: 0}\n",
       ".list-inline>li {display: inline-block}\n",
       ".list-inline>li:not(:last-child)::after {content: \"\\00b7\"; padding: 0 .5ex}\n",
       "</style>\n",
       "<ol class=list-inline><li>12</li><li>3</li></ol>\n"
      ],
      "text/latex": [
       "\\begin{enumerate*}\n",
       "\\item 12\n",
       "\\item 3\n",
       "\\end{enumerate*}\n"
      ],
      "text/markdown": [
       "1. 12\n",
       "2. 3\n",
       "\n",
       "\n"
      ],
      "text/plain": [
       "[1] 12  3"
      ]
     },
     "metadata": {},
     "output_type": "display_data"
    }
   ],
   "source": [
    "dim(s1_new)"
   ]
  },
  {
   "cell_type": "code",
   "execution_count": 12,
   "id": "d5494555",
   "metadata": {},
   "outputs": [
    {
     "data": {
      "text/html": [
       "<table class=\"dataframe\">\n",
       "<caption>A tibble: 8 × 3</caption>\n",
       "<thead>\n",
       "\t<tr><th scope=col>name</th><th scope=col>type</th><th scope=col>measure</th></tr>\n",
       "\t<tr><th scope=col>&lt;chr&gt;</th><th scope=col>&lt;chr&gt;</th><th scope=col>&lt;dbl&gt;</th></tr>\n",
       "</thead>\n",
       "<tbody>\n",
       "\t<tr><td>Adam     </td><td>height</td><td> 1.83</td></tr>\n",
       "\t<tr><td>Adam     </td><td>weight</td><td>81.00</td></tr>\n",
       "\t<tr><td>Bernd    </td><td>height</td><td> 1.75</td></tr>\n",
       "\t<tr><td>Bernd    </td><td>weight</td><td>71.00</td></tr>\n",
       "\t<tr><td>Christian</td><td>height</td><td> 1.69</td></tr>\n",
       "\t<tr><td>Christian</td><td>weight</td><td>55.00</td></tr>\n",
       "\t<tr><td>Doris    </td><td>height</td><td> 1.57</td></tr>\n",
       "\t<tr><td>Doris    </td><td>weight</td><td>62.00</td></tr>\n",
       "</tbody>\n",
       "</table>\n"
      ],
      "text/latex": [
       "A tibble: 8 × 3\n",
       "\\begin{tabular}{lll}\n",
       " name & type & measure\\\\\n",
       " <chr> & <chr> & <dbl>\\\\\n",
       "\\hline\n",
       "\t Adam      & height &  1.83\\\\\n",
       "\t Adam      & weight & 81.00\\\\\n",
       "\t Bernd     & height &  1.75\\\\\n",
       "\t Bernd     & weight & 71.00\\\\\n",
       "\t Christian & height &  1.69\\\\\n",
       "\t Christian & weight & 55.00\\\\\n",
       "\t Doris     & height &  1.57\\\\\n",
       "\t Doris     & weight & 62.00\\\\\n",
       "\\end{tabular}\n"
      ],
      "text/markdown": [
       "\n",
       "A tibble: 8 × 3\n",
       "\n",
       "| name &lt;chr&gt; | type &lt;chr&gt; | measure &lt;dbl&gt; |\n",
       "|---|---|---|\n",
       "| Adam      | height |  1.83 |\n",
       "| Adam      | weight | 81.00 |\n",
       "| Bernd     | height |  1.75 |\n",
       "| Bernd     | weight | 71.00 |\n",
       "| Christian | height |  1.69 |\n",
       "| Christian | weight | 55.00 |\n",
       "| Doris     | height |  1.57 |\n",
       "| Doris     | weight | 62.00 |\n",
       "\n"
      ],
      "text/plain": [
       "  name      type   measure\n",
       "1 Adam      height  1.83  \n",
       "2 Adam      weight 81.00  \n",
       "3 Bernd     height  1.75  \n",
       "4 Bernd     weight 71.00  \n",
       "5 Christian height  1.69  \n",
       "6 Christian weight 55.00  \n",
       "7 Doris     height  1.57  \n",
       "8 Doris     weight 62.00  "
      ]
     },
     "metadata": {},
     "output_type": "display_data"
    }
   ],
   "source": [
    "s2"
   ]
  },
  {
   "cell_type": "code",
   "execution_count": 13,
   "id": "d4195af2",
   "metadata": {
    "scrolled": false
   },
   "outputs": [
    {
     "data": {
      "text/html": [
       "<table class=\"dataframe\">\n",
       "<caption>A tibble: 4 × 3</caption>\n",
       "<thead>\n",
       "\t<tr><th scope=col>name</th><th scope=col>height</th><th scope=col>weight</th></tr>\n",
       "\t<tr><th scope=col>&lt;chr&gt;</th><th scope=col>&lt;dbl&gt;</th><th scope=col>&lt;dbl&gt;</th></tr>\n",
       "</thead>\n",
       "<tbody>\n",
       "\t<tr><td>Adam     </td><td>1.83</td><td>81</td></tr>\n",
       "\t<tr><td>Bernd    </td><td>1.75</td><td>71</td></tr>\n",
       "\t<tr><td>Christian</td><td>1.69</td><td>55</td></tr>\n",
       "\t<tr><td>Doris    </td><td>1.57</td><td>62</td></tr>\n",
       "</tbody>\n",
       "</table>\n"
      ],
      "text/latex": [
       "A tibble: 4 × 3\n",
       "\\begin{tabular}{lll}\n",
       " name & height & weight\\\\\n",
       " <chr> & <dbl> & <dbl>\\\\\n",
       "\\hline\n",
       "\t Adam      & 1.83 & 81\\\\\n",
       "\t Bernd     & 1.75 & 71\\\\\n",
       "\t Christian & 1.69 & 55\\\\\n",
       "\t Doris     & 1.57 & 62\\\\\n",
       "\\end{tabular}\n"
      ],
      "text/markdown": [
       "\n",
       "A tibble: 4 × 3\n",
       "\n",
       "| name &lt;chr&gt; | height &lt;dbl&gt; | weight &lt;dbl&gt; |\n",
       "|---|---|---|\n",
       "| Adam      | 1.83 | 81 |\n",
       "| Bernd     | 1.75 | 71 |\n",
       "| Christian | 1.69 | 55 |\n",
       "| Doris     | 1.57 | 62 |\n",
       "\n"
      ],
      "text/plain": [
       "  name      height weight\n",
       "1 Adam      1.83   81    \n",
       "2 Bernd     1.75   71    \n",
       "3 Christian 1.69   55    \n",
       "4 Doris     1.57   62    "
      ]
     },
     "metadata": {},
     "output_type": "display_data"
    }
   ],
   "source": [
    "s2 %>% spread(key=type, value=measure)"
   ]
  },
  {
   "cell_type": "code",
   "execution_count": 14,
   "id": "0eb14f7e",
   "metadata": {
    "scrolled": true
   },
   "outputs": [
    {
     "data": {
      "text/html": [
       "<table class=\"dataframe\">\n",
       "<caption>A tibble: 4 × 2</caption>\n",
       "<thead>\n",
       "\t<tr><th scope=col>name</th><th scope=col>ratio</th></tr>\n",
       "\t<tr><th scope=col>&lt;chr&gt;</th><th scope=col>&lt;chr&gt;</th></tr>\n",
       "</thead>\n",
       "<tbody>\n",
       "\t<tr><td>Adam     </td><td>81/1.83</td></tr>\n",
       "\t<tr><td>Bernd    </td><td>71/1.75</td></tr>\n",
       "\t<tr><td>Christian</td><td>55/1.69</td></tr>\n",
       "\t<tr><td>Doris    </td><td>62/1.57</td></tr>\n",
       "</tbody>\n",
       "</table>\n"
      ],
      "text/latex": [
       "A tibble: 4 × 2\n",
       "\\begin{tabular}{ll}\n",
       " name & ratio\\\\\n",
       " <chr> & <chr>\\\\\n",
       "\\hline\n",
       "\t Adam      & 81/1.83\\\\\n",
       "\t Bernd     & 71/1.75\\\\\n",
       "\t Christian & 55/1.69\\\\\n",
       "\t Doris     & 62/1.57\\\\\n",
       "\\end{tabular}\n"
      ],
      "text/markdown": [
       "\n",
       "A tibble: 4 × 2\n",
       "\n",
       "| name &lt;chr&gt; | ratio &lt;chr&gt; |\n",
       "|---|---|\n",
       "| Adam      | 81/1.83 |\n",
       "| Bernd     | 71/1.75 |\n",
       "| Christian | 55/1.69 |\n",
       "| Doris     | 62/1.57 |\n",
       "\n"
      ],
      "text/plain": [
       "  name      ratio  \n",
       "1 Adam      81/1.83\n",
       "2 Bernd     71/1.75\n",
       "3 Christian 55/1.69\n",
       "4 Doris     62/1.57"
      ]
     },
     "metadata": {},
     "output_type": "display_data"
    }
   ],
   "source": [
    "s3"
   ]
  },
  {
   "cell_type": "code",
   "execution_count": 15,
   "id": "d753a2c3",
   "metadata": {
    "scrolled": true
   },
   "outputs": [
    {
     "data": {
      "text/html": [
       "<table class=\"dataframe\">\n",
       "<caption>A tibble: 4 × 3</caption>\n",
       "<thead>\n",
       "\t<tr><th scope=col>name</th><th scope=col>weight</th><th scope=col>height</th></tr>\n",
       "\t<tr><th scope=col>&lt;chr&gt;</th><th scope=col>&lt;chr&gt;</th><th scope=col>&lt;chr&gt;</th></tr>\n",
       "</thead>\n",
       "<tbody>\n",
       "\t<tr><td>Adam     </td><td>81</td><td>1.83</td></tr>\n",
       "\t<tr><td>Bernd    </td><td>71</td><td>1.75</td></tr>\n",
       "\t<tr><td>Christian</td><td>55</td><td>1.69</td></tr>\n",
       "\t<tr><td>Doris    </td><td>62</td><td>1.57</td></tr>\n",
       "</tbody>\n",
       "</table>\n"
      ],
      "text/latex": [
       "A tibble: 4 × 3\n",
       "\\begin{tabular}{lll}\n",
       " name & weight & height\\\\\n",
       " <chr> & <chr> & <chr>\\\\\n",
       "\\hline\n",
       "\t Adam      & 81 & 1.83\\\\\n",
       "\t Bernd     & 71 & 1.75\\\\\n",
       "\t Christian & 55 & 1.69\\\\\n",
       "\t Doris     & 62 & 1.57\\\\\n",
       "\\end{tabular}\n"
      ],
      "text/markdown": [
       "\n",
       "A tibble: 4 × 3\n",
       "\n",
       "| name &lt;chr&gt; | weight &lt;chr&gt; | height &lt;chr&gt; |\n",
       "|---|---|---|\n",
       "| Adam      | 81 | 1.83 |\n",
       "| Bernd     | 71 | 1.75 |\n",
       "| Christian | 55 | 1.69 |\n",
       "| Doris     | 62 | 1.57 |\n",
       "\n"
      ],
      "text/plain": [
       "  name      weight height\n",
       "1 Adam      81     1.83  \n",
       "2 Bernd     71     1.75  \n",
       "3 Christian 55     1.69  \n",
       "4 Doris     62     1.57  "
      ]
     },
     "metadata": {},
     "output_type": "display_data"
    }
   ],
   "source": [
    "s3 %>% separate(col = ratio, into=c(\"weight\",\"height\"),sep = \"/\")->s3_nw\n",
    "s3_nw"
   ]
  },
  {
   "cell_type": "code",
   "execution_count": 16,
   "id": "3699cd0f",
   "metadata": {
    "scrolled": true
   },
   "outputs": [
    {
     "data": {
      "text/html": [
       "<table class=\"dataframe\">\n",
       "<caption>A tibble: 4 × 2</caption>\n",
       "<thead>\n",
       "\t<tr><th scope=col>name</th><th scope=col>ratio</th></tr>\n",
       "\t<tr><th scope=col>&lt;chr&gt;</th><th scope=col>&lt;chr&gt;</th></tr>\n",
       "</thead>\n",
       "<tbody>\n",
       "\t<tr><td>Adam     </td><td>81-1.83</td></tr>\n",
       "\t<tr><td>Bernd    </td><td>71-1.75</td></tr>\n",
       "\t<tr><td>Christian</td><td>55-1.69</td></tr>\n",
       "\t<tr><td>Doris    </td><td>62-1.57</td></tr>\n",
       "</tbody>\n",
       "</table>\n"
      ],
      "text/latex": [
       "A tibble: 4 × 2\n",
       "\\begin{tabular}{ll}\n",
       " name & ratio\\\\\n",
       " <chr> & <chr>\\\\\n",
       "\\hline\n",
       "\t Adam      & 81-1.83\\\\\n",
       "\t Bernd     & 71-1.75\\\\\n",
       "\t Christian & 55-1.69\\\\\n",
       "\t Doris     & 62-1.57\\\\\n",
       "\\end{tabular}\n"
      ],
      "text/markdown": [
       "\n",
       "A tibble: 4 × 2\n",
       "\n",
       "| name &lt;chr&gt; | ratio &lt;chr&gt; |\n",
       "|---|---|\n",
       "| Adam      | 81-1.83 |\n",
       "| Bernd     | 71-1.75 |\n",
       "| Christian | 55-1.69 |\n",
       "| Doris     | 62-1.57 |\n",
       "\n"
      ],
      "text/plain": [
       "  name      ratio  \n",
       "1 Adam      81-1.83\n",
       "2 Bernd     71-1.75\n",
       "3 Christian 55-1.69\n",
       "4 Doris     62-1.57"
      ]
     },
     "metadata": {},
     "output_type": "display_data"
    }
   ],
   "source": [
    "s3_nw %>% unite(col=\"ratio\",weight,height,sep=\"-\")"
   ]
  },
  {
   "cell_type": "markdown",
   "id": "6cad4190",
   "metadata": {},
   "source": [
    "## some more examples of <code style=\"color:green\">gather()</code>, <code style=\"color:green\">seperate()</code>, <code style=\"color:green\">spread()</code>,<code style=\"color:green\">unite()</code>"
   ]
  },
  {
   "cell_type": "code",
   "execution_count": 17,
   "id": "8ed01423",
   "metadata": {
    "scrolled": false
   },
   "outputs": [
    {
     "data": {
      "text/html": [
       "<table class=\"dataframe\">\n",
       "<caption>A tibble: 6 × 4</caption>\n",
       "<thead>\n",
       "\t<tr><th scope=col>country</th><th scope=col>year</th><th scope=col>cases</th><th scope=col>population</th></tr>\n",
       "\t<tr><th scope=col>&lt;chr&gt;</th><th scope=col>&lt;dbl&gt;</th><th scope=col>&lt;dbl&gt;</th><th scope=col>&lt;dbl&gt;</th></tr>\n",
       "</thead>\n",
       "<tbody>\n",
       "\t<tr><td>Afghanistan</td><td>1999</td><td>   745</td><td>  19987071</td></tr>\n",
       "\t<tr><td>Afghanistan</td><td>2000</td><td>  2666</td><td>  20595360</td></tr>\n",
       "\t<tr><td>Brazil     </td><td>1999</td><td> 37737</td><td> 172006362</td></tr>\n",
       "\t<tr><td>Brazil     </td><td>2000</td><td> 80488</td><td> 174504898</td></tr>\n",
       "\t<tr><td>China      </td><td>1999</td><td>212258</td><td>1272915272</td></tr>\n",
       "\t<tr><td>China      </td><td>2000</td><td>213766</td><td>1280428583</td></tr>\n",
       "</tbody>\n",
       "</table>\n"
      ],
      "text/latex": [
       "A tibble: 6 × 4\n",
       "\\begin{tabular}{llll}\n",
       " country & year & cases & population\\\\\n",
       " <chr> & <dbl> & <dbl> & <dbl>\\\\\n",
       "\\hline\n",
       "\t Afghanistan & 1999 &    745 &   19987071\\\\\n",
       "\t Afghanistan & 2000 &   2666 &   20595360\\\\\n",
       "\t Brazil      & 1999 &  37737 &  172006362\\\\\n",
       "\t Brazil      & 2000 &  80488 &  174504898\\\\\n",
       "\t China       & 1999 & 212258 & 1272915272\\\\\n",
       "\t China       & 2000 & 213766 & 1280428583\\\\\n",
       "\\end{tabular}\n"
      ],
      "text/markdown": [
       "\n",
       "A tibble: 6 × 4\n",
       "\n",
       "| country &lt;chr&gt; | year &lt;dbl&gt; | cases &lt;dbl&gt; | population &lt;dbl&gt; |\n",
       "|---|---|---|---|\n",
       "| Afghanistan | 1999 |    745 |   19987071 |\n",
       "| Afghanistan | 2000 |   2666 |   20595360 |\n",
       "| Brazil      | 1999 |  37737 |  172006362 |\n",
       "| Brazil      | 2000 |  80488 |  174504898 |\n",
       "| China       | 1999 | 212258 | 1272915272 |\n",
       "| China       | 2000 | 213766 | 1280428583 |\n",
       "\n"
      ],
      "text/plain": [
       "  country     year cases  population\n",
       "1 Afghanistan 1999    745   19987071\n",
       "2 Afghanistan 2000   2666   20595360\n",
       "3 Brazil      1999  37737  172006362\n",
       "4 Brazil      2000  80488  174504898\n",
       "5 China       1999 212258 1272915272\n",
       "6 China       2000 213766 1280428583"
      ]
     },
     "metadata": {},
     "output_type": "display_data"
    }
   ],
   "source": [
    "table1"
   ]
  },
  {
   "cell_type": "code",
   "execution_count": 18,
   "id": "fe030056",
   "metadata": {
    "scrolled": true
   },
   "outputs": [
    {
     "data": {
      "text/html": [
       "<table class=\"dataframe\">\n",
       "<caption>A tibble: 3 × 3</caption>\n",
       "<thead>\n",
       "\t<tr><th scope=col>country</th><th scope=col>1999</th><th scope=col>2000</th></tr>\n",
       "\t<tr><th scope=col>&lt;chr&gt;</th><th scope=col>&lt;dbl&gt;</th><th scope=col>&lt;dbl&gt;</th></tr>\n",
       "</thead>\n",
       "<tbody>\n",
       "\t<tr><td>Afghanistan</td><td>   745</td><td>  2666</td></tr>\n",
       "\t<tr><td>Brazil     </td><td> 37737</td><td> 80488</td></tr>\n",
       "\t<tr><td>China      </td><td>212258</td><td>213766</td></tr>\n",
       "</tbody>\n",
       "</table>\n"
      ],
      "text/latex": [
       "A tibble: 3 × 3\n",
       "\\begin{tabular}{lll}\n",
       " country & 1999 & 2000\\\\\n",
       " <chr> & <dbl> & <dbl>\\\\\n",
       "\\hline\n",
       "\t Afghanistan &    745 &   2666\\\\\n",
       "\t Brazil      &  37737 &  80488\\\\\n",
       "\t China       & 212258 & 213766\\\\\n",
       "\\end{tabular}\n"
      ],
      "text/markdown": [
       "\n",
       "A tibble: 3 × 3\n",
       "\n",
       "| country &lt;chr&gt; | 1999 &lt;dbl&gt; | 2000 &lt;dbl&gt; |\n",
       "|---|---|---|\n",
       "| Afghanistan |    745 |   2666 |\n",
       "| Brazil      |  37737 |  80488 |\n",
       "| China       | 212258 | 213766 |\n",
       "\n"
      ],
      "text/plain": [
       "  country     1999   2000  \n",
       "1 Afghanistan    745   2666\n",
       "2 Brazil       37737  80488\n",
       "3 China       212258 213766"
      ]
     },
     "metadata": {},
     "output_type": "display_data"
    }
   ],
   "source": [
    "table1 %>% select(-population) %>% spread(key=year,value=cases)"
   ]
  },
  {
   "cell_type": "code",
   "execution_count": 19,
   "id": "456bde3e",
   "metadata": {
    "scrolled": true
   },
   "outputs": [
    {
     "data": {
      "text/html": [
       "<table class=\"dataframe\">\n",
       "<caption>A tibble: 3 × 3</caption>\n",
       "<thead>\n",
       "\t<tr><th scope=col>country</th><th scope=col>1999</th><th scope=col>2000</th></tr>\n",
       "\t<tr><th scope=col>&lt;chr&gt;</th><th scope=col>&lt;dbl&gt;</th><th scope=col>&lt;dbl&gt;</th></tr>\n",
       "</thead>\n",
       "<tbody>\n",
       "\t<tr><td>Afghanistan</td><td>  19987071</td><td>  20595360</td></tr>\n",
       "\t<tr><td>Brazil     </td><td> 172006362</td><td> 174504898</td></tr>\n",
       "\t<tr><td>China      </td><td>1272915272</td><td>1280428583</td></tr>\n",
       "</tbody>\n",
       "</table>\n"
      ],
      "text/latex": [
       "A tibble: 3 × 3\n",
       "\\begin{tabular}{lll}\n",
       " country & 1999 & 2000\\\\\n",
       " <chr> & <dbl> & <dbl>\\\\\n",
       "\\hline\n",
       "\t Afghanistan &   19987071 &   20595360\\\\\n",
       "\t Brazil      &  172006362 &  174504898\\\\\n",
       "\t China       & 1272915272 & 1280428583\\\\\n",
       "\\end{tabular}\n"
      ],
      "text/markdown": [
       "\n",
       "A tibble: 3 × 3\n",
       "\n",
       "| country &lt;chr&gt; | 1999 &lt;dbl&gt; | 2000 &lt;dbl&gt; |\n",
       "|---|---|---|\n",
       "| Afghanistan |   19987071 |   20595360 |\n",
       "| Brazil      |  172006362 |  174504898 |\n",
       "| China       | 1272915272 | 1280428583 |\n",
       "\n"
      ],
      "text/plain": [
       "  country     1999       2000      \n",
       "1 Afghanistan   19987071   20595360\n",
       "2 Brazil       172006362  174504898\n",
       "3 China       1272915272 1280428583"
      ]
     },
     "metadata": {},
     "output_type": "display_data"
    }
   ],
   "source": [
    "table1 %>% select(-cases) %>% spread(key=year,value=population)"
   ]
  },
  {
   "cell_type": "markdown",
   "id": "a3815084",
   "metadata": {},
   "source": [
    "## table1 > table2"
   ]
  },
  {
   "cell_type": "code",
   "execution_count": 20,
   "id": "ebfff26c",
   "metadata": {
    "scrolled": true
   },
   "outputs": [
    {
     "data": {
      "text/html": [
       "<table class=\"dataframe\">\n",
       "<caption>A tibble: 12 × 4</caption>\n",
       "<thead>\n",
       "\t<tr><th scope=col>country</th><th scope=col>year</th><th scope=col>type</th><th scope=col>count</th></tr>\n",
       "\t<tr><th scope=col>&lt;chr&gt;</th><th scope=col>&lt;dbl&gt;</th><th scope=col>&lt;chr&gt;</th><th scope=col>&lt;dbl&gt;</th></tr>\n",
       "</thead>\n",
       "<tbody>\n",
       "\t<tr><td>Afghanistan</td><td>1999</td><td>cases     </td><td>       745</td></tr>\n",
       "\t<tr><td>Afghanistan</td><td>2000</td><td>cases     </td><td>      2666</td></tr>\n",
       "\t<tr><td>Afghanistan</td><td>1999</td><td>population</td><td>  19987071</td></tr>\n",
       "\t<tr><td>Afghanistan</td><td>2000</td><td>population</td><td>  20595360</td></tr>\n",
       "\t<tr><td>Brazil     </td><td>1999</td><td>cases     </td><td>     37737</td></tr>\n",
       "\t<tr><td>Brazil     </td><td>2000</td><td>cases     </td><td>     80488</td></tr>\n",
       "\t<tr><td>Brazil     </td><td>1999</td><td>population</td><td> 172006362</td></tr>\n",
       "\t<tr><td>Brazil     </td><td>2000</td><td>population</td><td> 174504898</td></tr>\n",
       "\t<tr><td>China      </td><td>1999</td><td>cases     </td><td>    212258</td></tr>\n",
       "\t<tr><td>China      </td><td>2000</td><td>cases     </td><td>    213766</td></tr>\n",
       "\t<tr><td>China      </td><td>1999</td><td>population</td><td>1272915272</td></tr>\n",
       "\t<tr><td>China      </td><td>2000</td><td>population</td><td>1280428583</td></tr>\n",
       "</tbody>\n",
       "</table>\n"
      ],
      "text/latex": [
       "A tibble: 12 × 4\n",
       "\\begin{tabular}{llll}\n",
       " country & year & type & count\\\\\n",
       " <chr> & <dbl> & <chr> & <dbl>\\\\\n",
       "\\hline\n",
       "\t Afghanistan & 1999 & cases      &        745\\\\\n",
       "\t Afghanistan & 2000 & cases      &       2666\\\\\n",
       "\t Afghanistan & 1999 & population &   19987071\\\\\n",
       "\t Afghanistan & 2000 & population &   20595360\\\\\n",
       "\t Brazil      & 1999 & cases      &      37737\\\\\n",
       "\t Brazil      & 2000 & cases      &      80488\\\\\n",
       "\t Brazil      & 1999 & population &  172006362\\\\\n",
       "\t Brazil      & 2000 & population &  174504898\\\\\n",
       "\t China       & 1999 & cases      &     212258\\\\\n",
       "\t China       & 2000 & cases      &     213766\\\\\n",
       "\t China       & 1999 & population & 1272915272\\\\\n",
       "\t China       & 2000 & population & 1280428583\\\\\n",
       "\\end{tabular}\n"
      ],
      "text/markdown": [
       "\n",
       "A tibble: 12 × 4\n",
       "\n",
       "| country &lt;chr&gt; | year &lt;dbl&gt; | type &lt;chr&gt; | count &lt;dbl&gt; |\n",
       "|---|---|---|---|\n",
       "| Afghanistan | 1999 | cases      |        745 |\n",
       "| Afghanistan | 2000 | cases      |       2666 |\n",
       "| Afghanistan | 1999 | population |   19987071 |\n",
       "| Afghanistan | 2000 | population |   20595360 |\n",
       "| Brazil      | 1999 | cases      |      37737 |\n",
       "| Brazil      | 2000 | cases      |      80488 |\n",
       "| Brazil      | 1999 | population |  172006362 |\n",
       "| Brazil      | 2000 | population |  174504898 |\n",
       "| China       | 1999 | cases      |     212258 |\n",
       "| China       | 2000 | cases      |     213766 |\n",
       "| China       | 1999 | population | 1272915272 |\n",
       "| China       | 2000 | population | 1280428583 |\n",
       "\n"
      ],
      "text/plain": [
       "   country     year type       count     \n",
       "1  Afghanistan 1999 cases             745\n",
       "2  Afghanistan 2000 cases            2666\n",
       "3  Afghanistan 1999 population   19987071\n",
       "4  Afghanistan 2000 population   20595360\n",
       "5  Brazil      1999 cases           37737\n",
       "6  Brazil      2000 cases           80488\n",
       "7  Brazil      1999 population  172006362\n",
       "8  Brazil      2000 population  174504898\n",
       "9  China       1999 cases          212258\n",
       "10 China       2000 cases          213766\n",
       "11 China       1999 population 1272915272\n",
       "12 China       2000 population 1280428583"
      ]
     },
     "metadata": {},
     "output_type": "display_data"
    }
   ],
   "source": [
    "table1 %>% gather(cases,population,key=\"type\",value=\"count\") %>% arrange(country)"
   ]
  },
  {
   "cell_type": "code",
   "execution_count": 21,
   "id": "4f729c1d",
   "metadata": {
    "scrolled": false
   },
   "outputs": [
    {
     "data": {
      "text/html": [
       "<table class=\"dataframe\">\n",
       "<caption>A tibble: 12 × 4</caption>\n",
       "<thead>\n",
       "\t<tr><th scope=col>country</th><th scope=col>year</th><th scope=col>type</th><th scope=col>count</th></tr>\n",
       "\t<tr><th scope=col>&lt;chr&gt;</th><th scope=col>&lt;dbl&gt;</th><th scope=col>&lt;chr&gt;</th><th scope=col>&lt;dbl&gt;</th></tr>\n",
       "</thead>\n",
       "<tbody>\n",
       "\t<tr><td>Afghanistan</td><td>1999</td><td>cases     </td><td>       745</td></tr>\n",
       "\t<tr><td>Afghanistan</td><td>1999</td><td>population</td><td>  19987071</td></tr>\n",
       "\t<tr><td>Afghanistan</td><td>2000</td><td>cases     </td><td>      2666</td></tr>\n",
       "\t<tr><td>Afghanistan</td><td>2000</td><td>population</td><td>  20595360</td></tr>\n",
       "\t<tr><td>Brazil     </td><td>1999</td><td>cases     </td><td>     37737</td></tr>\n",
       "\t<tr><td>Brazil     </td><td>1999</td><td>population</td><td> 172006362</td></tr>\n",
       "\t<tr><td>Brazil     </td><td>2000</td><td>cases     </td><td>     80488</td></tr>\n",
       "\t<tr><td>Brazil     </td><td>2000</td><td>population</td><td> 174504898</td></tr>\n",
       "\t<tr><td>China      </td><td>1999</td><td>cases     </td><td>    212258</td></tr>\n",
       "\t<tr><td>China      </td><td>1999</td><td>population</td><td>1272915272</td></tr>\n",
       "\t<tr><td>China      </td><td>2000</td><td>cases     </td><td>    213766</td></tr>\n",
       "\t<tr><td>China      </td><td>2000</td><td>population</td><td>1280428583</td></tr>\n",
       "</tbody>\n",
       "</table>\n"
      ],
      "text/latex": [
       "A tibble: 12 × 4\n",
       "\\begin{tabular}{llll}\n",
       " country & year & type & count\\\\\n",
       " <chr> & <dbl> & <chr> & <dbl>\\\\\n",
       "\\hline\n",
       "\t Afghanistan & 1999 & cases      &        745\\\\\n",
       "\t Afghanistan & 1999 & population &   19987071\\\\\n",
       "\t Afghanistan & 2000 & cases      &       2666\\\\\n",
       "\t Afghanistan & 2000 & population &   20595360\\\\\n",
       "\t Brazil      & 1999 & cases      &      37737\\\\\n",
       "\t Brazil      & 1999 & population &  172006362\\\\\n",
       "\t Brazil      & 2000 & cases      &      80488\\\\\n",
       "\t Brazil      & 2000 & population &  174504898\\\\\n",
       "\t China       & 1999 & cases      &     212258\\\\\n",
       "\t China       & 1999 & population & 1272915272\\\\\n",
       "\t China       & 2000 & cases      &     213766\\\\\n",
       "\t China       & 2000 & population & 1280428583\\\\\n",
       "\\end{tabular}\n"
      ],
      "text/markdown": [
       "\n",
       "A tibble: 12 × 4\n",
       "\n",
       "| country &lt;chr&gt; | year &lt;dbl&gt; | type &lt;chr&gt; | count &lt;dbl&gt; |\n",
       "|---|---|---|---|\n",
       "| Afghanistan | 1999 | cases      |        745 |\n",
       "| Afghanistan | 1999 | population |   19987071 |\n",
       "| Afghanistan | 2000 | cases      |       2666 |\n",
       "| Afghanistan | 2000 | population |   20595360 |\n",
       "| Brazil      | 1999 | cases      |      37737 |\n",
       "| Brazil      | 1999 | population |  172006362 |\n",
       "| Brazil      | 2000 | cases      |      80488 |\n",
       "| Brazil      | 2000 | population |  174504898 |\n",
       "| China       | 1999 | cases      |     212258 |\n",
       "| China       | 1999 | population | 1272915272 |\n",
       "| China       | 2000 | cases      |     213766 |\n",
       "| China       | 2000 | population | 1280428583 |\n",
       "\n"
      ],
      "text/plain": [
       "   country     year type       count     \n",
       "1  Afghanistan 1999 cases             745\n",
       "2  Afghanistan 1999 population   19987071\n",
       "3  Afghanistan 2000 cases            2666\n",
       "4  Afghanistan 2000 population   20595360\n",
       "5  Brazil      1999 cases           37737\n",
       "6  Brazil      1999 population  172006362\n",
       "7  Brazil      2000 cases           80488\n",
       "8  Brazil      2000 population  174504898\n",
       "9  China       1999 cases          212258\n",
       "10 China       1999 population 1272915272\n",
       "11 China       2000 cases          213766\n",
       "12 China       2000 population 1280428583"
      ]
     },
     "metadata": {},
     "output_type": "display_data"
    }
   ],
   "source": [
    "table2"
   ]
  },
  {
   "cell_type": "markdown",
   "id": "b0f98230",
   "metadata": {},
   "source": [
    "## table2 > table1"
   ]
  },
  {
   "cell_type": "code",
   "execution_count": 22,
   "id": "c1504fdc",
   "metadata": {},
   "outputs": [
    {
     "data": {
      "text/html": [
       "<table class=\"dataframe\">\n",
       "<caption>A tibble: 6 × 4</caption>\n",
       "<thead>\n",
       "\t<tr><th scope=col>country</th><th scope=col>year</th><th scope=col>cases</th><th scope=col>population</th></tr>\n",
       "\t<tr><th scope=col>&lt;chr&gt;</th><th scope=col>&lt;dbl&gt;</th><th scope=col>&lt;dbl&gt;</th><th scope=col>&lt;dbl&gt;</th></tr>\n",
       "</thead>\n",
       "<tbody>\n",
       "\t<tr><td>Afghanistan</td><td>1999</td><td>   745</td><td>  19987071</td></tr>\n",
       "\t<tr><td>Afghanistan</td><td>2000</td><td>  2666</td><td>  20595360</td></tr>\n",
       "\t<tr><td>Brazil     </td><td>1999</td><td> 37737</td><td> 172006362</td></tr>\n",
       "\t<tr><td>Brazil     </td><td>2000</td><td> 80488</td><td> 174504898</td></tr>\n",
       "\t<tr><td>China      </td><td>1999</td><td>212258</td><td>1272915272</td></tr>\n",
       "\t<tr><td>China      </td><td>2000</td><td>213766</td><td>1280428583</td></tr>\n",
       "</tbody>\n",
       "</table>\n"
      ],
      "text/latex": [
       "A tibble: 6 × 4\n",
       "\\begin{tabular}{llll}\n",
       " country & year & cases & population\\\\\n",
       " <chr> & <dbl> & <dbl> & <dbl>\\\\\n",
       "\\hline\n",
       "\t Afghanistan & 1999 &    745 &   19987071\\\\\n",
       "\t Afghanistan & 2000 &   2666 &   20595360\\\\\n",
       "\t Brazil      & 1999 &  37737 &  172006362\\\\\n",
       "\t Brazil      & 2000 &  80488 &  174504898\\\\\n",
       "\t China       & 1999 & 212258 & 1272915272\\\\\n",
       "\t China       & 2000 & 213766 & 1280428583\\\\\n",
       "\\end{tabular}\n"
      ],
      "text/markdown": [
       "\n",
       "A tibble: 6 × 4\n",
       "\n",
       "| country &lt;chr&gt; | year &lt;dbl&gt; | cases &lt;dbl&gt; | population &lt;dbl&gt; |\n",
       "|---|---|---|---|\n",
       "| Afghanistan | 1999 |    745 |   19987071 |\n",
       "| Afghanistan | 2000 |   2666 |   20595360 |\n",
       "| Brazil      | 1999 |  37737 |  172006362 |\n",
       "| Brazil      | 2000 |  80488 |  174504898 |\n",
       "| China       | 1999 | 212258 | 1272915272 |\n",
       "| China       | 2000 | 213766 | 1280428583 |\n",
       "\n"
      ],
      "text/plain": [
       "  country     year cases  population\n",
       "1 Afghanistan 1999    745   19987071\n",
       "2 Afghanistan 2000   2666   20595360\n",
       "3 Brazil      1999  37737  172006362\n",
       "4 Brazil      2000  80488  174504898\n",
       "5 China       1999 212258 1272915272\n",
       "6 China       2000 213766 1280428583"
      ]
     },
     "metadata": {},
     "output_type": "display_data"
    }
   ],
   "source": [
    "table2 %>% spread(key =type,value=count )"
   ]
  },
  {
   "cell_type": "code",
   "execution_count": 23,
   "id": "a41df13e",
   "metadata": {
    "scrolled": false
   },
   "outputs": [
    {
     "data": {
      "text/html": [
       "<table class=\"dataframe\">\n",
       "<caption>A tibble: 6 × 3</caption>\n",
       "<thead>\n",
       "\t<tr><th scope=col>country</th><th scope=col>year</th><th scope=col>rate</th></tr>\n",
       "\t<tr><th scope=col>&lt;chr&gt;</th><th scope=col>&lt;dbl&gt;</th><th scope=col>&lt;chr&gt;</th></tr>\n",
       "</thead>\n",
       "<tbody>\n",
       "\t<tr><td>Afghanistan</td><td>1999</td><td>745/19987071     </td></tr>\n",
       "\t<tr><td>Afghanistan</td><td>2000</td><td>2666/20595360    </td></tr>\n",
       "\t<tr><td>Brazil     </td><td>1999</td><td>37737/172006362  </td></tr>\n",
       "\t<tr><td>Brazil     </td><td>2000</td><td>80488/174504898  </td></tr>\n",
       "\t<tr><td>China      </td><td>1999</td><td>212258/1272915272</td></tr>\n",
       "\t<tr><td>China      </td><td>2000</td><td>213766/1280428583</td></tr>\n",
       "</tbody>\n",
       "</table>\n"
      ],
      "text/latex": [
       "A tibble: 6 × 3\n",
       "\\begin{tabular}{lll}\n",
       " country & year & rate\\\\\n",
       " <chr> & <dbl> & <chr>\\\\\n",
       "\\hline\n",
       "\t Afghanistan & 1999 & 745/19987071     \\\\\n",
       "\t Afghanistan & 2000 & 2666/20595360    \\\\\n",
       "\t Brazil      & 1999 & 37737/172006362  \\\\\n",
       "\t Brazil      & 2000 & 80488/174504898  \\\\\n",
       "\t China       & 1999 & 212258/1272915272\\\\\n",
       "\t China       & 2000 & 213766/1280428583\\\\\n",
       "\\end{tabular}\n"
      ],
      "text/markdown": [
       "\n",
       "A tibble: 6 × 3\n",
       "\n",
       "| country &lt;chr&gt; | year &lt;dbl&gt; | rate &lt;chr&gt; |\n",
       "|---|---|---|\n",
       "| Afghanistan | 1999 | 745/19987071      |\n",
       "| Afghanistan | 2000 | 2666/20595360     |\n",
       "| Brazil      | 1999 | 37737/172006362   |\n",
       "| Brazil      | 2000 | 80488/174504898   |\n",
       "| China       | 1999 | 212258/1272915272 |\n",
       "| China       | 2000 | 213766/1280428583 |\n",
       "\n"
      ],
      "text/plain": [
       "  country     year rate             \n",
       "1 Afghanistan 1999 745/19987071     \n",
       "2 Afghanistan 2000 2666/20595360    \n",
       "3 Brazil      1999 37737/172006362  \n",
       "4 Brazil      2000 80488/174504898  \n",
       "5 China       1999 212258/1272915272\n",
       "6 China       2000 213766/1280428583"
      ]
     },
     "metadata": {},
     "output_type": "display_data"
    }
   ],
   "source": [
    "table3"
   ]
  },
  {
   "cell_type": "code",
   "execution_count": 24,
   "id": "a8cc3546",
   "metadata": {},
   "outputs": [
    {
     "data": {
      "text/html": [
       "<table class=\"dataframe\">\n",
       "<caption>A tibble: 6 × 4</caption>\n",
       "<thead>\n",
       "\t<tr><th scope=col>country</th><th scope=col>year</th><th scope=col>cases</th><th scope=col>population</th></tr>\n",
       "\t<tr><th scope=col>&lt;chr&gt;</th><th scope=col>&lt;dbl&gt;</th><th scope=col>&lt;chr&gt;</th><th scope=col>&lt;chr&gt;</th></tr>\n",
       "</thead>\n",
       "<tbody>\n",
       "\t<tr><td>Afghanistan</td><td>1999</td><td>745   </td><td>19987071  </td></tr>\n",
       "\t<tr><td>Afghanistan</td><td>2000</td><td>2666  </td><td>20595360  </td></tr>\n",
       "\t<tr><td>Brazil     </td><td>1999</td><td>37737 </td><td>172006362 </td></tr>\n",
       "\t<tr><td>Brazil     </td><td>2000</td><td>80488 </td><td>174504898 </td></tr>\n",
       "\t<tr><td>China      </td><td>1999</td><td>212258</td><td>1272915272</td></tr>\n",
       "\t<tr><td>China      </td><td>2000</td><td>213766</td><td>1280428583</td></tr>\n",
       "</tbody>\n",
       "</table>\n"
      ],
      "text/latex": [
       "A tibble: 6 × 4\n",
       "\\begin{tabular}{llll}\n",
       " country & year & cases & population\\\\\n",
       " <chr> & <dbl> & <chr> & <chr>\\\\\n",
       "\\hline\n",
       "\t Afghanistan & 1999 & 745    & 19987071  \\\\\n",
       "\t Afghanistan & 2000 & 2666   & 20595360  \\\\\n",
       "\t Brazil      & 1999 & 37737  & 172006362 \\\\\n",
       "\t Brazil      & 2000 & 80488  & 174504898 \\\\\n",
       "\t China       & 1999 & 212258 & 1272915272\\\\\n",
       "\t China       & 2000 & 213766 & 1280428583\\\\\n",
       "\\end{tabular}\n"
      ],
      "text/markdown": [
       "\n",
       "A tibble: 6 × 4\n",
       "\n",
       "| country &lt;chr&gt; | year &lt;dbl&gt; | cases &lt;chr&gt; | population &lt;chr&gt; |\n",
       "|---|---|---|---|\n",
       "| Afghanistan | 1999 | 745    | 19987071   |\n",
       "| Afghanistan | 2000 | 2666   | 20595360   |\n",
       "| Brazil      | 1999 | 37737  | 172006362  |\n",
       "| Brazil      | 2000 | 80488  | 174504898  |\n",
       "| China       | 1999 | 212258 | 1272915272 |\n",
       "| China       | 2000 | 213766 | 1280428583 |\n",
       "\n"
      ],
      "text/plain": [
       "  country     year cases  population\n",
       "1 Afghanistan 1999 745    19987071  \n",
       "2 Afghanistan 2000 2666   20595360  \n",
       "3 Brazil      1999 37737  172006362 \n",
       "4 Brazil      2000 80488  174504898 \n",
       "5 China       1999 212258 1272915272\n",
       "6 China       2000 213766 1280428583"
      ]
     },
     "metadata": {},
     "output_type": "display_data"
    }
   ],
   "source": [
    "table3 %>% separate(col = rate,into=c(\"cases\",\"population\"),sep=\"/\")"
   ]
  },
  {
   "cell_type": "code",
   "execution_count": 25,
   "id": "7cfcdb9e",
   "metadata": {
    "scrolled": true
   },
   "outputs": [
    {
     "data": {
      "text/html": [
       "<table class=\"dataframe\">\n",
       "<caption>A tibble: 3 × 3</caption>\n",
       "<thead>\n",
       "\t<tr><th scope=col>country</th><th scope=col>1999</th><th scope=col>2000</th></tr>\n",
       "\t<tr><th scope=col>&lt;chr&gt;</th><th scope=col>&lt;dbl&gt;</th><th scope=col>&lt;dbl&gt;</th></tr>\n",
       "</thead>\n",
       "<tbody>\n",
       "\t<tr><td>Afghanistan</td><td>   745</td><td>  2666</td></tr>\n",
       "\t<tr><td>Brazil     </td><td> 37737</td><td> 80488</td></tr>\n",
       "\t<tr><td>China      </td><td>212258</td><td>213766</td></tr>\n",
       "</tbody>\n",
       "</table>\n"
      ],
      "text/latex": [
       "A tibble: 3 × 3\n",
       "\\begin{tabular}{lll}\n",
       " country & 1999 & 2000\\\\\n",
       " <chr> & <dbl> & <dbl>\\\\\n",
       "\\hline\n",
       "\t Afghanistan &    745 &   2666\\\\\n",
       "\t Brazil      &  37737 &  80488\\\\\n",
       "\t China       & 212258 & 213766\\\\\n",
       "\\end{tabular}\n"
      ],
      "text/markdown": [
       "\n",
       "A tibble: 3 × 3\n",
       "\n",
       "| country &lt;chr&gt; | 1999 &lt;dbl&gt; | 2000 &lt;dbl&gt; |\n",
       "|---|---|---|\n",
       "| Afghanistan |    745 |   2666 |\n",
       "| Brazil      |  37737 |  80488 |\n",
       "| China       | 212258 | 213766 |\n",
       "\n"
      ],
      "text/plain": [
       "  country     1999   2000  \n",
       "1 Afghanistan    745   2666\n",
       "2 Brazil       37737  80488\n",
       "3 China       212258 213766"
      ]
     },
     "metadata": {},
     "output_type": "display_data"
    }
   ],
   "source": [
    "table4a"
   ]
  },
  {
   "cell_type": "code",
   "execution_count": 26,
   "id": "59d7e42b",
   "metadata": {
    "scrolled": true
   },
   "outputs": [
    {
     "data": {
      "text/html": [
       "<table class=\"dataframe\">\n",
       "<caption>A tibble: 3 × 3</caption>\n",
       "<thead>\n",
       "\t<tr><th scope=col>country</th><th scope=col>1999</th><th scope=col>2000</th></tr>\n",
       "\t<tr><th scope=col>&lt;chr&gt;</th><th scope=col>&lt;dbl&gt;</th><th scope=col>&lt;dbl&gt;</th></tr>\n",
       "</thead>\n",
       "<tbody>\n",
       "\t<tr><td>Afghanistan</td><td>  19987071</td><td>  20595360</td></tr>\n",
       "\t<tr><td>Brazil     </td><td> 172006362</td><td> 174504898</td></tr>\n",
       "\t<tr><td>China      </td><td>1272915272</td><td>1280428583</td></tr>\n",
       "</tbody>\n",
       "</table>\n"
      ],
      "text/latex": [
       "A tibble: 3 × 3\n",
       "\\begin{tabular}{lll}\n",
       " country & 1999 & 2000\\\\\n",
       " <chr> & <dbl> & <dbl>\\\\\n",
       "\\hline\n",
       "\t Afghanistan &   19987071 &   20595360\\\\\n",
       "\t Brazil      &  172006362 &  174504898\\\\\n",
       "\t China       & 1272915272 & 1280428583\\\\\n",
       "\\end{tabular}\n"
      ],
      "text/markdown": [
       "\n",
       "A tibble: 3 × 3\n",
       "\n",
       "| country &lt;chr&gt; | 1999 &lt;dbl&gt; | 2000 &lt;dbl&gt; |\n",
       "|---|---|---|\n",
       "| Afghanistan |   19987071 |   20595360 |\n",
       "| Brazil      |  172006362 |  174504898 |\n",
       "| China       | 1272915272 | 1280428583 |\n",
       "\n"
      ],
      "text/plain": [
       "  country     1999       2000      \n",
       "1 Afghanistan   19987071   20595360\n",
       "2 Brazil       172006362  174504898\n",
       "3 China       1272915272 1280428583"
      ]
     },
     "metadata": {},
     "output_type": "display_data"
    }
   ],
   "source": [
    "table4b"
   ]
  },
  {
   "cell_type": "code",
   "execution_count": 27,
   "id": "a07be5b4",
   "metadata": {
    "scrolled": true
   },
   "outputs": [
    {
     "data": {
      "text/html": [
       "<table class=\"dataframe\">\n",
       "<caption>A tibble: 6 × 4</caption>\n",
       "<thead>\n",
       "\t<tr><th scope=col>country</th><th scope=col>century</th><th scope=col>year</th><th scope=col>rate</th></tr>\n",
       "\t<tr><th scope=col>&lt;chr&gt;</th><th scope=col>&lt;chr&gt;</th><th scope=col>&lt;chr&gt;</th><th scope=col>&lt;chr&gt;</th></tr>\n",
       "</thead>\n",
       "<tbody>\n",
       "\t<tr><td>Afghanistan</td><td>19</td><td>99</td><td>745/19987071     </td></tr>\n",
       "\t<tr><td>Afghanistan</td><td>20</td><td>00</td><td>2666/20595360    </td></tr>\n",
       "\t<tr><td>Brazil     </td><td>19</td><td>99</td><td>37737/172006362  </td></tr>\n",
       "\t<tr><td>Brazil     </td><td>20</td><td>00</td><td>80488/174504898  </td></tr>\n",
       "\t<tr><td>China      </td><td>19</td><td>99</td><td>212258/1272915272</td></tr>\n",
       "\t<tr><td>China      </td><td>20</td><td>00</td><td>213766/1280428583</td></tr>\n",
       "</tbody>\n",
       "</table>\n"
      ],
      "text/latex": [
       "A tibble: 6 × 4\n",
       "\\begin{tabular}{llll}\n",
       " country & century & year & rate\\\\\n",
       " <chr> & <chr> & <chr> & <chr>\\\\\n",
       "\\hline\n",
       "\t Afghanistan & 19 & 99 & 745/19987071     \\\\\n",
       "\t Afghanistan & 20 & 00 & 2666/20595360    \\\\\n",
       "\t Brazil      & 19 & 99 & 37737/172006362  \\\\\n",
       "\t Brazil      & 20 & 00 & 80488/174504898  \\\\\n",
       "\t China       & 19 & 99 & 212258/1272915272\\\\\n",
       "\t China       & 20 & 00 & 213766/1280428583\\\\\n",
       "\\end{tabular}\n"
      ],
      "text/markdown": [
       "\n",
       "A tibble: 6 × 4\n",
       "\n",
       "| country &lt;chr&gt; | century &lt;chr&gt; | year &lt;chr&gt; | rate &lt;chr&gt; |\n",
       "|---|---|---|---|\n",
       "| Afghanistan | 19 | 99 | 745/19987071      |\n",
       "| Afghanistan | 20 | 00 | 2666/20595360     |\n",
       "| Brazil      | 19 | 99 | 37737/172006362   |\n",
       "| Brazil      | 20 | 00 | 80488/174504898   |\n",
       "| China       | 19 | 99 | 212258/1272915272 |\n",
       "| China       | 20 | 00 | 213766/1280428583 |\n",
       "\n"
      ],
      "text/plain": [
       "  country     century year rate             \n",
       "1 Afghanistan 19      99   745/19987071     \n",
       "2 Afghanistan 20      00   2666/20595360    \n",
       "3 Brazil      19      99   37737/172006362  \n",
       "4 Brazil      20      00   80488/174504898  \n",
       "5 China       19      99   212258/1272915272\n",
       "6 China       20      00   213766/1280428583"
      ]
     },
     "metadata": {},
     "output_type": "display_data"
    }
   ],
   "source": [
    "table5"
   ]
  },
  {
   "cell_type": "markdown",
   "id": "9c86d36c",
   "metadata": {},
   "source": [
    " <h4 style=\"color:green;text-align:center\">Exercise 2</h4>"
   ]
  },
  {
   "cell_type": "markdown",
   "id": "f7d6d830",
   "metadata": {},
   "source": [
    "+ Calculate the value of $sin(log( \\sqrt{5 + 3}))$ directly and using the % >\n",
    "   %-operator."
   ]
  },
  {
   "cell_type": "code",
   "execution_count": 28,
   "id": "b65cf67f",
   "metadata": {
    "scrolled": false
   },
   "outputs": [
    {
     "data": {
      "text/html": [
       "0.862262842167567"
      ],
      "text/latex": [
       "0.862262842167567"
      ],
      "text/markdown": [
       "0.862262842167567"
      ],
      "text/plain": [
       "[1] 0.8622628"
      ]
     },
     "metadata": {},
     "output_type": "display_data"
    }
   ],
   "source": [
    "sin(log(sqrt(5+3))) ## nested"
   ]
  },
  {
   "cell_type": "code",
   "execution_count": 29,
   "id": "c31080fb",
   "metadata": {
    "scrolled": true
   },
   "outputs": [
    {
     "data": {
      "text/html": [
       "0.862262842167567"
      ],
      "text/latex": [
       "0.862262842167567"
      ],
      "text/markdown": [
       "0.862262842167567"
      ],
      "text/plain": [
       "[1] 0.8622628"
      ]
     },
     "metadata": {},
     "output_type": "display_data"
    }
   ],
   "source": [
    "c(5+3) %>% sum() %>% sqrt() %>% log() %>% sin() ## using %>% operator"
   ]
  },
  {
   "cell_type": "markdown",
   "id": "7c9254d3",
   "metadata": {},
   "source": [
    "+ Define a vector v with values 0.5,1,1.5,...,5 and calculate the by 2\n",
    "  digits rounded sum of the logarithms of the squared values of v\n",
    "  with nested operations and using the % > %-operator."
   ]
  },
  {
   "cell_type": "code",
   "execution_count": 30,
   "id": "f1ed94fe",
   "metadata": {},
   "outputs": [
    {
     "data": {
      "text/html": [
       "<style>\n",
       ".list-inline {list-style: none; margin:0; padding: 0}\n",
       ".list-inline>li {display: inline-block}\n",
       ".list-inline>li:not(:last-child)::after {content: \"\\00b7\"; padding: 0 .5ex}\n",
       "</style>\n",
       "<ol class=list-inline><li>0.5</li><li>1</li><li>1.5</li><li>2</li><li>2.5</li><li>3</li><li>3.5</li><li>4</li><li>4.5</li><li>5</li></ol>\n"
      ],
      "text/latex": [
       "\\begin{enumerate*}\n",
       "\\item 0.5\n",
       "\\item 1\n",
       "\\item 1.5\n",
       "\\item 2\n",
       "\\item 2.5\n",
       "\\item 3\n",
       "\\item 3.5\n",
       "\\item 4\n",
       "\\item 4.5\n",
       "\\item 5\n",
       "\\end{enumerate*}\n"
      ],
      "text/markdown": [
       "1. 0.5\n",
       "2. 1\n",
       "3. 1.5\n",
       "4. 2\n",
       "5. 2.5\n",
       "6. 3\n",
       "7. 3.5\n",
       "8. 4\n",
       "9. 4.5\n",
       "10. 5\n",
       "\n",
       "\n"
      ],
      "text/plain": [
       " [1] 0.5 1.0 1.5 2.0 2.5 3.0 3.5 4.0 4.5 5.0"
      ]
     },
     "metadata": {},
     "output_type": "display_data"
    }
   ],
   "source": [
    "v<-seq(from = 0.5 ,to=5,by=0.5)\n",
    "v"
   ]
  },
  {
   "cell_type": "code",
   "execution_count": 31,
   "id": "ea8dd1c8",
   "metadata": {
    "scrolled": true
   },
   "outputs": [
    {
     "data": {
      "text/html": [
       "7.1"
      ],
      "text/latex": [
       "7.1"
      ],
      "text/markdown": [
       "7.1"
      ],
      "text/plain": [
       "[1] 7.1"
      ]
     },
     "metadata": {},
     "output_type": "display_data"
    }
   ],
   "source": [
    "round(sum(log10(v**2)),2) ## nested"
   ]
  },
  {
   "cell_type": "code",
   "execution_count": 32,
   "id": "1b1f6aae",
   "metadata": {},
   "outputs": [],
   "source": [
    "myfun<-function(vec){\n",
    "    return(vec**2)\n",
    "}"
   ]
  },
  {
   "cell_type": "code",
   "execution_count": 33,
   "id": "4b18c7cd",
   "metadata": {
    "scrolled": true
   },
   "outputs": [
    {
     "data": {
      "text/html": [
       "4"
      ],
      "text/latex": [
       "4"
      ],
      "text/markdown": [
       "4"
      ],
      "text/plain": [
       "[1] 4"
      ]
     },
     "metadata": {},
     "output_type": "display_data"
    }
   ],
   "source": [
    "myfun(2)"
   ]
  },
  {
   "cell_type": "code",
   "execution_count": 34,
   "id": "cfa18fdb",
   "metadata": {},
   "outputs": [
    {
     "data": {
      "text/html": [
       "<style>\n",
       ".list-inline {list-style: none; margin:0; padding: 0}\n",
       ".list-inline>li {display: inline-block}\n",
       ".list-inline>li:not(:last-child)::after {content: \"\\00b7\"; padding: 0 .5ex}\n",
       "</style>\n",
       "<ol class=list-inline><li>4</li><li>9</li><li>16</li></ol>\n"
      ],
      "text/latex": [
       "\\begin{enumerate*}\n",
       "\\item 4\n",
       "\\item 9\n",
       "\\item 16\n",
       "\\end{enumerate*}\n"
      ],
      "text/markdown": [
       "1. 4\n",
       "2. 9\n",
       "3. 16\n",
       "\n",
       "\n"
      ],
      "text/plain": [
       "[1]  4  9 16"
      ]
     },
     "metadata": {},
     "output_type": "display_data"
    }
   ],
   "source": [
    "myfun(c(2,3,4))"
   ]
  },
  {
   "cell_type": "code",
   "execution_count": 35,
   "id": "45c86f99",
   "metadata": {
    "scrolled": false
   },
   "outputs": [
    {
     "data": {
      "text/html": [
       "7.1"
      ],
      "text/latex": [
       "7.1"
      ],
      "text/markdown": [
       "7.1"
      ],
      "text/plain": [
       "[1] 7.1"
      ]
     },
     "metadata": {},
     "output_type": "display_data"
    }
   ],
   "source": [
    "v %>% myfun() %>% log10() %>% sum() %>% round(2) ## using %>% op"
   ]
  },
  {
   "cell_type": "markdown",
   "id": "f4a9fa4f",
   "metadata": {},
   "source": [
    " <h4 style=\"color:green;text-align:center\">Exercise 3</h4>"
   ]
  },
  {
   "cell_type": "markdown",
   "id": "0ab401f7",
   "metadata": {},
   "source": [
    "Create a tibble df with the data of 10 students, i.e. with 10 rows and\n",
    "the columns id (values 1,2,..., 10), sex (values are “f” and “m”, age\n",
    "(integer values between 20 and 35) and score1 (integer values between\n",
    "0 and 25). You can choose arbitrary values in the columns. If you do\n",
    "not like coding the values by hand you can use:"
   ]
  },
  {
   "cell_type": "code",
   "execution_count": 36,
   "id": "726fdfec",
   "metadata": {
    "scrolled": true
   },
   "outputs": [
    {
     "data": {
      "text/html": [
       "<table class=\"dataframe\">\n",
       "<caption>A tibble: 10 × 4</caption>\n",
       "<thead>\n",
       "\t<tr><th scope=col>id</th><th scope=col>sex</th><th scope=col>age</th><th scope=col>score1</th></tr>\n",
       "\t<tr><th scope=col>&lt;int&gt;</th><th scope=col>&lt;chr&gt;</th><th scope=col>&lt;dbl&gt;</th><th scope=col>&lt;dbl&gt;</th></tr>\n",
       "</thead>\n",
       "<tbody>\n",
       "\t<tr><td> 1</td><td>M</td><td>24</td><td>19</td></tr>\n",
       "\t<tr><td> 2</td><td>F</td><td>33</td><td>15</td></tr>\n",
       "\t<tr><td> 3</td><td>M</td><td>21</td><td> 5</td></tr>\n",
       "\t<tr><td> 4</td><td>F</td><td>25</td><td>14</td></tr>\n",
       "\t<tr><td> 5</td><td>M</td><td>32</td><td>19</td></tr>\n",
       "\t<tr><td> 6</td><td>F</td><td>33</td><td> 8</td></tr>\n",
       "\t<tr><td> 7</td><td>F</td><td>27</td><td> 2</td></tr>\n",
       "\t<tr><td> 8</td><td>F</td><td>29</td><td> 6</td></tr>\n",
       "\t<tr><td> 9</td><td>M</td><td>26</td><td>10</td></tr>\n",
       "\t<tr><td>10</td><td>F</td><td>24</td><td>11</td></tr>\n",
       "</tbody>\n",
       "</table>\n"
      ],
      "text/latex": [
       "A tibble: 10 × 4\n",
       "\\begin{tabular}{llll}\n",
       " id & sex & age & score1\\\\\n",
       " <int> & <chr> & <dbl> & <dbl>\\\\\n",
       "\\hline\n",
       "\t  1 & M & 24 & 19\\\\\n",
       "\t  2 & F & 33 & 15\\\\\n",
       "\t  3 & M & 21 &  5\\\\\n",
       "\t  4 & F & 25 & 14\\\\\n",
       "\t  5 & M & 32 & 19\\\\\n",
       "\t  6 & F & 33 &  8\\\\\n",
       "\t  7 & F & 27 &  2\\\\\n",
       "\t  8 & F & 29 &  6\\\\\n",
       "\t  9 & M & 26 & 10\\\\\n",
       "\t 10 & F & 24 & 11\\\\\n",
       "\\end{tabular}\n"
      ],
      "text/markdown": [
       "\n",
       "A tibble: 10 × 4\n",
       "\n",
       "| id &lt;int&gt; | sex &lt;chr&gt; | age &lt;dbl&gt; | score1 &lt;dbl&gt; |\n",
       "|---|---|---|---|\n",
       "|  1 | M | 24 | 19 |\n",
       "|  2 | F | 33 | 15 |\n",
       "|  3 | M | 21 |  5 |\n",
       "|  4 | F | 25 | 14 |\n",
       "|  5 | M | 32 | 19 |\n",
       "|  6 | F | 33 |  8 |\n",
       "|  7 | F | 27 |  2 |\n",
       "|  8 | F | 29 |  6 |\n",
       "|  9 | M | 26 | 10 |\n",
       "| 10 | F | 24 | 11 |\n",
       "\n"
      ],
      "text/plain": [
       "   id sex age score1\n",
       "1   1 M   24  19    \n",
       "2   2 F   33  15    \n",
       "3   3 M   21   5    \n",
       "4   4 F   25  14    \n",
       "5   5 M   32  19    \n",
       "6   6 F   33   8    \n",
       "7   7 F   27   2    \n",
       "8   8 F   29   6    \n",
       "9   9 M   26  10    \n",
       "10 10 F   24  11    "
      ]
     },
     "metadata": {},
     "output_type": "display_data"
    }
   ],
   "source": [
    "df<-tibble(id=1:10,sex=sample(x=c(\"F\",\"M\"),size=10,replace=T),\n",
    "          age=round(runif(10,20,35)),\n",
    "          score1=round(runif(10,0,25))\n",
    "          )\n",
    "df"
   ]
  },
  {
   "cell_type": "markdown",
   "id": "abb3c434",
   "metadata": {},
   "source": [
    "+ Select the date of all male students"
   ]
  },
  {
   "cell_type": "code",
   "execution_count": 37,
   "id": "90edcfcb",
   "metadata": {
    "scrolled": true
   },
   "outputs": [
    {
     "data": {
      "text/html": [
       "<table class=\"dataframe\">\n",
       "<caption>A tibble: 4 × 4</caption>\n",
       "<thead>\n",
       "\t<tr><th scope=col>id</th><th scope=col>sex</th><th scope=col>age</th><th scope=col>score1</th></tr>\n",
       "\t<tr><th scope=col>&lt;int&gt;</th><th scope=col>&lt;chr&gt;</th><th scope=col>&lt;dbl&gt;</th><th scope=col>&lt;dbl&gt;</th></tr>\n",
       "</thead>\n",
       "<tbody>\n",
       "\t<tr><td>1</td><td>M</td><td>24</td><td>19</td></tr>\n",
       "\t<tr><td>3</td><td>M</td><td>21</td><td> 5</td></tr>\n",
       "\t<tr><td>5</td><td>M</td><td>32</td><td>19</td></tr>\n",
       "\t<tr><td>9</td><td>M</td><td>26</td><td>10</td></tr>\n",
       "</tbody>\n",
       "</table>\n"
      ],
      "text/latex": [
       "A tibble: 4 × 4\n",
       "\\begin{tabular}{llll}\n",
       " id & sex & age & score1\\\\\n",
       " <int> & <chr> & <dbl> & <dbl>\\\\\n",
       "\\hline\n",
       "\t 1 & M & 24 & 19\\\\\n",
       "\t 3 & M & 21 &  5\\\\\n",
       "\t 5 & M & 32 & 19\\\\\n",
       "\t 9 & M & 26 & 10\\\\\n",
       "\\end{tabular}\n"
      ],
      "text/markdown": [
       "\n",
       "A tibble: 4 × 4\n",
       "\n",
       "| id &lt;int&gt; | sex &lt;chr&gt; | age &lt;dbl&gt; | score1 &lt;dbl&gt; |\n",
       "|---|---|---|---|\n",
       "| 1 | M | 24 | 19 |\n",
       "| 3 | M | 21 |  5 |\n",
       "| 5 | M | 32 | 19 |\n",
       "| 9 | M | 26 | 10 |\n",
       "\n"
      ],
      "text/plain": [
       "  id sex age score1\n",
       "1 1  M   24  19    \n",
       "2 3  M   21   5    \n",
       "3 5  M   32  19    \n",
       "4 9  M   26  10    "
      ]
     },
     "metadata": {},
     "output_type": "display_data"
    }
   ],
   "source": [
    "df %>% filter(sex==\"M\")"
   ]
  },
  {
   "cell_type": "markdown",
   "id": "1e662873",
   "metadata": {},
   "source": [
    "+ Add the data of a new student with id = 11, sex = “m”, age =\n",
    "   25 and score1 = 4."
   ]
  },
  {
   "cell_type": "code",
   "execution_count": 38,
   "id": "679b4972",
   "metadata": {
    "scrolled": false
   },
   "outputs": [
    {
     "data": {
      "text/html": [
       "<table class=\"dataframe\">\n",
       "<caption>A tibble: 11 × 4</caption>\n",
       "<thead>\n",
       "\t<tr><th scope=col>id</th><th scope=col>sex</th><th scope=col>age</th><th scope=col>score1</th></tr>\n",
       "\t<tr><th scope=col>&lt;dbl&gt;</th><th scope=col>&lt;chr&gt;</th><th scope=col>&lt;dbl&gt;</th><th scope=col>&lt;dbl&gt;</th></tr>\n",
       "</thead>\n",
       "<tbody>\n",
       "\t<tr><td> 1</td><td>M</td><td>24</td><td>19</td></tr>\n",
       "\t<tr><td> 2</td><td>F</td><td>33</td><td>15</td></tr>\n",
       "\t<tr><td> 3</td><td>M</td><td>21</td><td> 5</td></tr>\n",
       "\t<tr><td> 4</td><td>F</td><td>25</td><td>14</td></tr>\n",
       "\t<tr><td> 5</td><td>M</td><td>32</td><td>19</td></tr>\n",
       "\t<tr><td> 6</td><td>F</td><td>33</td><td> 8</td></tr>\n",
       "\t<tr><td> 7</td><td>F</td><td>27</td><td> 2</td></tr>\n",
       "\t<tr><td> 8</td><td>F</td><td>29</td><td> 6</td></tr>\n",
       "\t<tr><td> 9</td><td>M</td><td>26</td><td>10</td></tr>\n",
       "\t<tr><td>10</td><td>F</td><td>24</td><td>11</td></tr>\n",
       "\t<tr><td>11</td><td>M</td><td>25</td><td> 4</td></tr>\n",
       "</tbody>\n",
       "</table>\n"
      ],
      "text/latex": [
       "A tibble: 11 × 4\n",
       "\\begin{tabular}{llll}\n",
       " id & sex & age & score1\\\\\n",
       " <dbl> & <chr> & <dbl> & <dbl>\\\\\n",
       "\\hline\n",
       "\t  1 & M & 24 & 19\\\\\n",
       "\t  2 & F & 33 & 15\\\\\n",
       "\t  3 & M & 21 &  5\\\\\n",
       "\t  4 & F & 25 & 14\\\\\n",
       "\t  5 & M & 32 & 19\\\\\n",
       "\t  6 & F & 33 &  8\\\\\n",
       "\t  7 & F & 27 &  2\\\\\n",
       "\t  8 & F & 29 &  6\\\\\n",
       "\t  9 & M & 26 & 10\\\\\n",
       "\t 10 & F & 24 & 11\\\\\n",
       "\t 11 & M & 25 &  4\\\\\n",
       "\\end{tabular}\n"
      ],
      "text/markdown": [
       "\n",
       "A tibble: 11 × 4\n",
       "\n",
       "| id &lt;dbl&gt; | sex &lt;chr&gt; | age &lt;dbl&gt; | score1 &lt;dbl&gt; |\n",
       "|---|---|---|---|\n",
       "|  1 | M | 24 | 19 |\n",
       "|  2 | F | 33 | 15 |\n",
       "|  3 | M | 21 |  5 |\n",
       "|  4 | F | 25 | 14 |\n",
       "|  5 | M | 32 | 19 |\n",
       "|  6 | F | 33 |  8 |\n",
       "|  7 | F | 27 |  2 |\n",
       "|  8 | F | 29 |  6 |\n",
       "|  9 | M | 26 | 10 |\n",
       "| 10 | F | 24 | 11 |\n",
       "| 11 | M | 25 |  4 |\n",
       "\n"
      ],
      "text/plain": [
       "   id sex age score1\n",
       "1   1 M   24  19    \n",
       "2   2 F   33  15    \n",
       "3   3 M   21   5    \n",
       "4   4 F   25  14    \n",
       "5   5 M   32  19    \n",
       "6   6 F   33   8    \n",
       "7   7 F   27   2    \n",
       "8   8 F   29   6    \n",
       "9   9 M   26  10    \n",
       "10 10 F   24  11    \n",
       "11 11 M   25   4    "
      ]
     },
     "metadata": {},
     "output_type": "display_data"
    }
   ],
   "source": [
    "add_row(.data=df,id=11,sex='M',age=25,score1=4 )->df\n",
    "df"
   ]
  },
  {
   "cell_type": "markdown",
   "id": "4de99ea5",
   "metadata": {},
   "source": [
    "+ Add two columns score2 and score3 with random integer numbers\n",
    "  between 0 and 25."
   ]
  },
  {
   "cell_type": "code",
   "execution_count": 39,
   "id": "030261de",
   "metadata": {
    "scrolled": false
   },
   "outputs": [
    {
     "data": {
      "text/html": [
       "<table class=\"dataframe\">\n",
       "<caption>A tibble: 11 × 6</caption>\n",
       "<thead>\n",
       "\t<tr><th scope=col>id</th><th scope=col>sex</th><th scope=col>age</th><th scope=col>score1</th><th scope=col>score2</th><th scope=col>score3</th></tr>\n",
       "\t<tr><th scope=col>&lt;dbl&gt;</th><th scope=col>&lt;chr&gt;</th><th scope=col>&lt;dbl&gt;</th><th scope=col>&lt;dbl&gt;</th><th scope=col>&lt;int&gt;</th><th scope=col>&lt;int&gt;</th></tr>\n",
       "</thead>\n",
       "<tbody>\n",
       "\t<tr><td> 1</td><td>M</td><td>24</td><td>19</td><td> 8</td><td>19</td></tr>\n",
       "\t<tr><td> 2</td><td>F</td><td>33</td><td>15</td><td>16</td><td> 3</td></tr>\n",
       "\t<tr><td> 3</td><td>M</td><td>21</td><td> 5</td><td>12</td><td> 5</td></tr>\n",
       "\t<tr><td> 4</td><td>F</td><td>25</td><td>14</td><td>12</td><td>11</td></tr>\n",
       "\t<tr><td> 5</td><td>M</td><td>32</td><td>19</td><td> 7</td><td>25</td></tr>\n",
       "\t<tr><td> 6</td><td>F</td><td>33</td><td> 8</td><td>23</td><td>20</td></tr>\n",
       "\t<tr><td> 7</td><td>F</td><td>27</td><td> 2</td><td> 3</td><td>10</td></tr>\n",
       "\t<tr><td> 8</td><td>F</td><td>29</td><td> 6</td><td> 0</td><td>22</td></tr>\n",
       "\t<tr><td> 9</td><td>M</td><td>26</td><td>10</td><td> 0</td><td> 4</td></tr>\n",
       "\t<tr><td>10</td><td>F</td><td>24</td><td>11</td><td>16</td><td>13</td></tr>\n",
       "\t<tr><td>11</td><td>M</td><td>25</td><td> 4</td><td>13</td><td>12</td></tr>\n",
       "</tbody>\n",
       "</table>\n"
      ],
      "text/latex": [
       "A tibble: 11 × 6\n",
       "\\begin{tabular}{llllll}\n",
       " id & sex & age & score1 & score2 & score3\\\\\n",
       " <dbl> & <chr> & <dbl> & <dbl> & <int> & <int>\\\\\n",
       "\\hline\n",
       "\t  1 & M & 24 & 19 &  8 & 19\\\\\n",
       "\t  2 & F & 33 & 15 & 16 &  3\\\\\n",
       "\t  3 & M & 21 &  5 & 12 &  5\\\\\n",
       "\t  4 & F & 25 & 14 & 12 & 11\\\\\n",
       "\t  5 & M & 32 & 19 &  7 & 25\\\\\n",
       "\t  6 & F & 33 &  8 & 23 & 20\\\\\n",
       "\t  7 & F & 27 &  2 &  3 & 10\\\\\n",
       "\t  8 & F & 29 &  6 &  0 & 22\\\\\n",
       "\t  9 & M & 26 & 10 &  0 &  4\\\\\n",
       "\t 10 & F & 24 & 11 & 16 & 13\\\\\n",
       "\t 11 & M & 25 &  4 & 13 & 12\\\\\n",
       "\\end{tabular}\n"
      ],
      "text/markdown": [
       "\n",
       "A tibble: 11 × 6\n",
       "\n",
       "| id &lt;dbl&gt; | sex &lt;chr&gt; | age &lt;dbl&gt; | score1 &lt;dbl&gt; | score2 &lt;int&gt; | score3 &lt;int&gt; |\n",
       "|---|---|---|---|---|---|\n",
       "|  1 | M | 24 | 19 |  8 | 19 |\n",
       "|  2 | F | 33 | 15 | 16 |  3 |\n",
       "|  3 | M | 21 |  5 | 12 |  5 |\n",
       "|  4 | F | 25 | 14 | 12 | 11 |\n",
       "|  5 | M | 32 | 19 |  7 | 25 |\n",
       "|  6 | F | 33 |  8 | 23 | 20 |\n",
       "|  7 | F | 27 |  2 |  3 | 10 |\n",
       "|  8 | F | 29 |  6 |  0 | 22 |\n",
       "|  9 | M | 26 | 10 |  0 |  4 |\n",
       "| 10 | F | 24 | 11 | 16 | 13 |\n",
       "| 11 | M | 25 |  4 | 13 | 12 |\n",
       "\n"
      ],
      "text/plain": [
       "   id sex age score1 score2 score3\n",
       "1   1 M   24  19      8     19    \n",
       "2   2 F   33  15     16      3    \n",
       "3   3 M   21   5     12      5    \n",
       "4   4 F   25  14     12     11    \n",
       "5   5 M   32  19      7     25    \n",
       "6   6 F   33   8     23     20    \n",
       "7   7 F   27   2      3     10    \n",
       "8   8 F   29   6      0     22    \n",
       "9   9 M   26  10      0      4    \n",
       "10 10 F   24  11     16     13    \n",
       "11 11 M   25   4     13     12    "
      ]
     },
     "metadata": {},
     "output_type": "display_data"
    }
   ],
   "source": [
    "df %>% mutate(\"score2\"=sample(x = 0:25,size=11,replace=T),\n",
    "              \"score3\"=sample(x = 0:25,size=11,replace=T)\n",
    "             ) -> df\n",
    "df"
   ]
  },
  {
   "cell_type": "markdown",
   "id": "4cf27c32",
   "metadata": {},
   "source": [
    "+ Add a column containing sum of all scores."
   ]
  },
  {
   "cell_type": "code",
   "execution_count": 40,
   "id": "a2db8414",
   "metadata": {
    "scrolled": false
   },
   "outputs": [
    {
     "data": {
      "text/html": [
       "<table class=\"dataframe\">\n",
       "<caption>A tibble: 11 × 7</caption>\n",
       "<thead>\n",
       "\t<tr><th scope=col>id</th><th scope=col>sex</th><th scope=col>age</th><th scope=col>score1</th><th scope=col>score2</th><th scope=col>score3</th><th scope=col>total</th></tr>\n",
       "\t<tr><th scope=col>&lt;dbl&gt;</th><th scope=col>&lt;chr&gt;</th><th scope=col>&lt;dbl&gt;</th><th scope=col>&lt;dbl&gt;</th><th scope=col>&lt;int&gt;</th><th scope=col>&lt;int&gt;</th><th scope=col>&lt;dbl&gt;</th></tr>\n",
       "</thead>\n",
       "<tbody>\n",
       "\t<tr><td> 1</td><td>M</td><td>24</td><td>19</td><td> 8</td><td>19</td><td>46</td></tr>\n",
       "\t<tr><td> 2</td><td>F</td><td>33</td><td>15</td><td>16</td><td> 3</td><td>34</td></tr>\n",
       "\t<tr><td> 3</td><td>M</td><td>21</td><td> 5</td><td>12</td><td> 5</td><td>22</td></tr>\n",
       "\t<tr><td> 4</td><td>F</td><td>25</td><td>14</td><td>12</td><td>11</td><td>37</td></tr>\n",
       "\t<tr><td> 5</td><td>M</td><td>32</td><td>19</td><td> 7</td><td>25</td><td>51</td></tr>\n",
       "\t<tr><td> 6</td><td>F</td><td>33</td><td> 8</td><td>23</td><td>20</td><td>51</td></tr>\n",
       "\t<tr><td> 7</td><td>F</td><td>27</td><td> 2</td><td> 3</td><td>10</td><td>15</td></tr>\n",
       "\t<tr><td> 8</td><td>F</td><td>29</td><td> 6</td><td> 0</td><td>22</td><td>28</td></tr>\n",
       "\t<tr><td> 9</td><td>M</td><td>26</td><td>10</td><td> 0</td><td> 4</td><td>14</td></tr>\n",
       "\t<tr><td>10</td><td>F</td><td>24</td><td>11</td><td>16</td><td>13</td><td>40</td></tr>\n",
       "\t<tr><td>11</td><td>M</td><td>25</td><td> 4</td><td>13</td><td>12</td><td>29</td></tr>\n",
       "</tbody>\n",
       "</table>\n"
      ],
      "text/latex": [
       "A tibble: 11 × 7\n",
       "\\begin{tabular}{lllllll}\n",
       " id & sex & age & score1 & score2 & score3 & total\\\\\n",
       " <dbl> & <chr> & <dbl> & <dbl> & <int> & <int> & <dbl>\\\\\n",
       "\\hline\n",
       "\t  1 & M & 24 & 19 &  8 & 19 & 46\\\\\n",
       "\t  2 & F & 33 & 15 & 16 &  3 & 34\\\\\n",
       "\t  3 & M & 21 &  5 & 12 &  5 & 22\\\\\n",
       "\t  4 & F & 25 & 14 & 12 & 11 & 37\\\\\n",
       "\t  5 & M & 32 & 19 &  7 & 25 & 51\\\\\n",
       "\t  6 & F & 33 &  8 & 23 & 20 & 51\\\\\n",
       "\t  7 & F & 27 &  2 &  3 & 10 & 15\\\\\n",
       "\t  8 & F & 29 &  6 &  0 & 22 & 28\\\\\n",
       "\t  9 & M & 26 & 10 &  0 &  4 & 14\\\\\n",
       "\t 10 & F & 24 & 11 & 16 & 13 & 40\\\\\n",
       "\t 11 & M & 25 &  4 & 13 & 12 & 29\\\\\n",
       "\\end{tabular}\n"
      ],
      "text/markdown": [
       "\n",
       "A tibble: 11 × 7\n",
       "\n",
       "| id &lt;dbl&gt; | sex &lt;chr&gt; | age &lt;dbl&gt; | score1 &lt;dbl&gt; | score2 &lt;int&gt; | score3 &lt;int&gt; | total &lt;dbl&gt; |\n",
       "|---|---|---|---|---|---|---|\n",
       "|  1 | M | 24 | 19 |  8 | 19 | 46 |\n",
       "|  2 | F | 33 | 15 | 16 |  3 | 34 |\n",
       "|  3 | M | 21 |  5 | 12 |  5 | 22 |\n",
       "|  4 | F | 25 | 14 | 12 | 11 | 37 |\n",
       "|  5 | M | 32 | 19 |  7 | 25 | 51 |\n",
       "|  6 | F | 33 |  8 | 23 | 20 | 51 |\n",
       "|  7 | F | 27 |  2 |  3 | 10 | 15 |\n",
       "|  8 | F | 29 |  6 |  0 | 22 | 28 |\n",
       "|  9 | M | 26 | 10 |  0 |  4 | 14 |\n",
       "| 10 | F | 24 | 11 | 16 | 13 | 40 |\n",
       "| 11 | M | 25 |  4 | 13 | 12 | 29 |\n",
       "\n"
      ],
      "text/plain": [
       "   id sex age score1 score2 score3 total\n",
       "1   1 M   24  19      8     19     46   \n",
       "2   2 F   33  15     16      3     34   \n",
       "3   3 M   21   5     12      5     22   \n",
       "4   4 F   25  14     12     11     37   \n",
       "5   5 M   32  19      7     25     51   \n",
       "6   6 F   33   8     23     20     51   \n",
       "7   7 F   27   2      3     10     15   \n",
       "8   8 F   29   6      0     22     28   \n",
       "9   9 M   26  10      0      4     14   \n",
       "10 10 F   24  11     16     13     40   \n",
       "11 11 M   25   4     13     12     29   "
      ]
     },
     "metadata": {},
     "output_type": "display_data"
    }
   ],
   "source": [
    "df %>% mutate(\"total\"=score1+score2+score3) ->df\n",
    "df"
   ]
  },
  {
   "cell_type": "markdown",
   "id": "5a395abf",
   "metadata": {},
   "source": [
    " + Add a column which denote the grades according to the scheme\n",
    " </br>\n",
    "$$ \n",
    "grad =\n",
    "\\begin{cases}\n",
    "    5 & \\text{if} & \\text{total} \\leq 37 \\\\\n",
    "    4 & \\text{if} & 45 \\ge \\text{total} > 37 \\\\\n",
    "    3 & \\text{if} & 55 \\ge \\text{total} > 45 \\\\\n",
    "    2 & \\text{if} & 65 \\ge \\text{total} > 55 \\\\\n",
    "    1 & \\text{if} & \\text{total} \\ge 65 \\\\\n",
    "\\end{cases}\n",
    "$$"
   ]
  },
  {
   "cell_type": "code",
   "execution_count": 41,
   "id": "f2247acd",
   "metadata": {},
   "outputs": [
    {
     "data": {
      "text/html": [
       "<table class=\"dataframe\">\n",
       "<caption>A tibble: 11 × 8</caption>\n",
       "<thead>\n",
       "\t<tr><th scope=col>id</th><th scope=col>sex</th><th scope=col>age</th><th scope=col>score1</th><th scope=col>score2</th><th scope=col>score3</th><th scope=col>total</th><th scope=col>grad</th></tr>\n",
       "\t<tr><th scope=col>&lt;dbl&gt;</th><th scope=col>&lt;chr&gt;</th><th scope=col>&lt;dbl&gt;</th><th scope=col>&lt;dbl&gt;</th><th scope=col>&lt;int&gt;</th><th scope=col>&lt;int&gt;</th><th scope=col>&lt;dbl&gt;</th><th scope=col>&lt;dbl&gt;</th></tr>\n",
       "</thead>\n",
       "<tbody>\n",
       "\t<tr><td> 1</td><td>M</td><td>24</td><td>19</td><td> 8</td><td>19</td><td>46</td><td>3</td></tr>\n",
       "\t<tr><td> 2</td><td>F</td><td>33</td><td>15</td><td>16</td><td> 3</td><td>34</td><td>5</td></tr>\n",
       "\t<tr><td> 3</td><td>M</td><td>21</td><td> 5</td><td>12</td><td> 5</td><td>22</td><td>5</td></tr>\n",
       "\t<tr><td> 4</td><td>F</td><td>25</td><td>14</td><td>12</td><td>11</td><td>37</td><td>5</td></tr>\n",
       "\t<tr><td> 5</td><td>M</td><td>32</td><td>19</td><td> 7</td><td>25</td><td>51</td><td>3</td></tr>\n",
       "\t<tr><td> 6</td><td>F</td><td>33</td><td> 8</td><td>23</td><td>20</td><td>51</td><td>3</td></tr>\n",
       "\t<tr><td> 7</td><td>F</td><td>27</td><td> 2</td><td> 3</td><td>10</td><td>15</td><td>5</td></tr>\n",
       "\t<tr><td> 8</td><td>F</td><td>29</td><td> 6</td><td> 0</td><td>22</td><td>28</td><td>5</td></tr>\n",
       "\t<tr><td> 9</td><td>M</td><td>26</td><td>10</td><td> 0</td><td> 4</td><td>14</td><td>5</td></tr>\n",
       "\t<tr><td>10</td><td>F</td><td>24</td><td>11</td><td>16</td><td>13</td><td>40</td><td>4</td></tr>\n",
       "\t<tr><td>11</td><td>M</td><td>25</td><td> 4</td><td>13</td><td>12</td><td>29</td><td>5</td></tr>\n",
       "</tbody>\n",
       "</table>\n"
      ],
      "text/latex": [
       "A tibble: 11 × 8\n",
       "\\begin{tabular}{llllllll}\n",
       " id & sex & age & score1 & score2 & score3 & total & grad\\\\\n",
       " <dbl> & <chr> & <dbl> & <dbl> & <int> & <int> & <dbl> & <dbl>\\\\\n",
       "\\hline\n",
       "\t  1 & M & 24 & 19 &  8 & 19 & 46 & 3\\\\\n",
       "\t  2 & F & 33 & 15 & 16 &  3 & 34 & 5\\\\\n",
       "\t  3 & M & 21 &  5 & 12 &  5 & 22 & 5\\\\\n",
       "\t  4 & F & 25 & 14 & 12 & 11 & 37 & 5\\\\\n",
       "\t  5 & M & 32 & 19 &  7 & 25 & 51 & 3\\\\\n",
       "\t  6 & F & 33 &  8 & 23 & 20 & 51 & 3\\\\\n",
       "\t  7 & F & 27 &  2 &  3 & 10 & 15 & 5\\\\\n",
       "\t  8 & F & 29 &  6 &  0 & 22 & 28 & 5\\\\\n",
       "\t  9 & M & 26 & 10 &  0 &  4 & 14 & 5\\\\\n",
       "\t 10 & F & 24 & 11 & 16 & 13 & 40 & 4\\\\\n",
       "\t 11 & M & 25 &  4 & 13 & 12 & 29 & 5\\\\\n",
       "\\end{tabular}\n"
      ],
      "text/markdown": [
       "\n",
       "A tibble: 11 × 8\n",
       "\n",
       "| id &lt;dbl&gt; | sex &lt;chr&gt; | age &lt;dbl&gt; | score1 &lt;dbl&gt; | score2 &lt;int&gt; | score3 &lt;int&gt; | total &lt;dbl&gt; | grad &lt;dbl&gt; |\n",
       "|---|---|---|---|---|---|---|---|\n",
       "|  1 | M | 24 | 19 |  8 | 19 | 46 | 3 |\n",
       "|  2 | F | 33 | 15 | 16 |  3 | 34 | 5 |\n",
       "|  3 | M | 21 |  5 | 12 |  5 | 22 | 5 |\n",
       "|  4 | F | 25 | 14 | 12 | 11 | 37 | 5 |\n",
       "|  5 | M | 32 | 19 |  7 | 25 | 51 | 3 |\n",
       "|  6 | F | 33 |  8 | 23 | 20 | 51 | 3 |\n",
       "|  7 | F | 27 |  2 |  3 | 10 | 15 | 5 |\n",
       "|  8 | F | 29 |  6 |  0 | 22 | 28 | 5 |\n",
       "|  9 | M | 26 | 10 |  0 |  4 | 14 | 5 |\n",
       "| 10 | F | 24 | 11 | 16 | 13 | 40 | 4 |\n",
       "| 11 | M | 25 |  4 | 13 | 12 | 29 | 5 |\n",
       "\n"
      ],
      "text/plain": [
       "   id sex age score1 score2 score3 total grad\n",
       "1   1 M   24  19      8     19     46    3   \n",
       "2   2 F   33  15     16      3     34    5   \n",
       "3   3 M   21   5     12      5     22    5   \n",
       "4   4 F   25  14     12     11     37    5   \n",
       "5   5 M   32  19      7     25     51    3   \n",
       "6   6 F   33   8     23     20     51    3   \n",
       "7   7 F   27   2      3     10     15    5   \n",
       "8   8 F   29   6      0     22     28    5   \n",
       "9   9 M   26  10      0      4     14    5   \n",
       "10 10 F   24  11     16     13     40    4   \n",
       "11 11 M   25   4     13     12     29    5   "
      ]
     },
     "metadata": {},
     "output_type": "display_data"
    }
   ],
   "source": [
    "df %>% mutate(\"grad\" = case_when(\n",
    "    total <= 37 ~ 5,\n",
    "    total > 37 & total <= 45 ~ 4,\n",
    "    total > 45 & total <= 55 ~ 3,\n",
    "    total > 55 & total <= 65 ~ 2,\n",
    "    total > 65 ~ 1\n",
    "  )) ->df\n",
    "df"
   ]
  },
  {
   "cell_type": "markdown",
   "id": "c0f78ec7",
   "metadata": {},
   "source": [
    "+ Find the values of the variables id, sex and grade sorted by the\n",
    "   values of sex of all students who have passed"
   ]
  },
  {
   "cell_type": "code",
   "execution_count": 42,
   "id": "453793e8",
   "metadata": {
    "scrolled": true
   },
   "outputs": [
    {
     "data": {
      "text/html": [
       "<table class=\"dataframe\">\n",
       "<caption>A tibble: 8 × 3</caption>\n",
       "<thead>\n",
       "\t<tr><th scope=col>id</th><th scope=col>sex</th><th scope=col>grad</th></tr>\n",
       "\t<tr><th scope=col>&lt;dbl&gt;</th><th scope=col>&lt;chr&gt;</th><th scope=col>&lt;dbl&gt;</th></tr>\n",
       "</thead>\n",
       "<tbody>\n",
       "\t<tr><td> 2</td><td>F</td><td>5</td></tr>\n",
       "\t<tr><td> 4</td><td>F</td><td>5</td></tr>\n",
       "\t<tr><td> 7</td><td>F</td><td>5</td></tr>\n",
       "\t<tr><td> 8</td><td>F</td><td>5</td></tr>\n",
       "\t<tr><td>10</td><td>F</td><td>4</td></tr>\n",
       "\t<tr><td> 3</td><td>M</td><td>5</td></tr>\n",
       "\t<tr><td> 9</td><td>M</td><td>5</td></tr>\n",
       "\t<tr><td>11</td><td>M</td><td>5</td></tr>\n",
       "</tbody>\n",
       "</table>\n"
      ],
      "text/latex": [
       "A tibble: 8 × 3\n",
       "\\begin{tabular}{lll}\n",
       " id & sex & grad\\\\\n",
       " <dbl> & <chr> & <dbl>\\\\\n",
       "\\hline\n",
       "\t  2 & F & 5\\\\\n",
       "\t  4 & F & 5\\\\\n",
       "\t  7 & F & 5\\\\\n",
       "\t  8 & F & 5\\\\\n",
       "\t 10 & F & 4\\\\\n",
       "\t  3 & M & 5\\\\\n",
       "\t  9 & M & 5\\\\\n",
       "\t 11 & M & 5\\\\\n",
       "\\end{tabular}\n"
      ],
      "text/markdown": [
       "\n",
       "A tibble: 8 × 3\n",
       "\n",
       "| id &lt;dbl&gt; | sex &lt;chr&gt; | grad &lt;dbl&gt; |\n",
       "|---|---|---|\n",
       "|  2 | F | 5 |\n",
       "|  4 | F | 5 |\n",
       "|  7 | F | 5 |\n",
       "|  8 | F | 5 |\n",
       "| 10 | F | 4 |\n",
       "|  3 | M | 5 |\n",
       "|  9 | M | 5 |\n",
       "| 11 | M | 5 |\n",
       "\n"
      ],
      "text/plain": [
       "  id sex grad\n",
       "1  2 F   5   \n",
       "2  4 F   5   \n",
       "3  7 F   5   \n",
       "4  8 F   5   \n",
       "5 10 F   4   \n",
       "6  3 M   5   \n",
       "7  9 M   5   \n",
       "8 11 M   5   "
      ]
     },
     "metadata": {},
     "output_type": "display_data"
    }
   ],
   "source": [
    "df %>% filter(grad>=4) %>% select(id,sex,grad) %>% arrange(sex)"
   ]
  },
  {
   "cell_type": "markdown",
   "id": "c7108503",
   "metadata": {},
   "source": [
    "+ Calculate the mean, minimum, maximum and median of the vari-\n",
    "  able sum of scores grouped by the variable sex."
   ]
  },
  {
   "cell_type": "code",
   "execution_count": 43,
   "id": "239af03d",
   "metadata": {
    "scrolled": true
   },
   "outputs": [
    {
     "data": {
      "text/html": [
       "<table class=\"dataframe\">\n",
       "<caption>A tibble: 2 × 5</caption>\n",
       "<thead>\n",
       "\t<tr><th scope=col>sex</th><th scope=col>mean</th><th scope=col>min</th><th scope=col>max</th><th scope=col>mid</th></tr>\n",
       "\t<tr><th scope=col>&lt;chr&gt;</th><th scope=col>&lt;dbl&gt;</th><th scope=col>&lt;dbl&gt;</th><th scope=col>&lt;dbl&gt;</th><th scope=col>&lt;dbl&gt;</th></tr>\n",
       "</thead>\n",
       "<tbody>\n",
       "\t<tr><td>F</td><td>34.16667</td><td>15</td><td>51</td><td>35.5</td></tr>\n",
       "\t<tr><td>M</td><td>32.40000</td><td>14</td><td>51</td><td>29.0</td></tr>\n",
       "</tbody>\n",
       "</table>\n"
      ],
      "text/latex": [
       "A tibble: 2 × 5\n",
       "\\begin{tabular}{lllll}\n",
       " sex & mean & min & max & mid\\\\\n",
       " <chr> & <dbl> & <dbl> & <dbl> & <dbl>\\\\\n",
       "\\hline\n",
       "\t F & 34.16667 & 15 & 51 & 35.5\\\\\n",
       "\t M & 32.40000 & 14 & 51 & 29.0\\\\\n",
       "\\end{tabular}\n"
      ],
      "text/markdown": [
       "\n",
       "A tibble: 2 × 5\n",
       "\n",
       "| sex &lt;chr&gt; | mean &lt;dbl&gt; | min &lt;dbl&gt; | max &lt;dbl&gt; | mid &lt;dbl&gt; |\n",
       "|---|---|---|---|---|\n",
       "| F | 34.16667 | 15 | 51 | 35.5 |\n",
       "| M | 32.40000 | 14 | 51 | 29.0 |\n",
       "\n"
      ],
      "text/plain": [
       "  sex mean     min max mid \n",
       "1 F   34.16667 15  51  35.5\n",
       "2 M   32.40000 14  51  29.0"
      ]
     },
     "metadata": {},
     "output_type": "display_data"
    }
   ],
   "source": [
    "df %>% group_by(sex) %>% summarise(\n",
    "    mean=mean(total),\n",
    "    min=min(total),\n",
    "    max=max(total),\n",
    "    mid=median(total)\n",
    ")"
   ]
  },
  {
   "cell_type": "code",
   "execution_count": 44,
   "id": "91dd9af4",
   "metadata": {},
   "outputs": [],
   "source": [
    "df %>% group_by(sex) -> df_groupd"
   ]
  },
  {
   "cell_type": "code",
   "execution_count": 45,
   "id": "ae7e997d",
   "metadata": {
    "scrolled": true
   },
   "outputs": [
    {
     "data": {
      "text/html": [
       "<ol>\n",
       "\t<li><table class=\"dataframe\">\n",
       "<caption>A tibble: 6 × 8</caption>\n",
       "<thead>\n",
       "\t<tr><th scope=col>id</th><th scope=col>sex</th><th scope=col>age</th><th scope=col>score1</th><th scope=col>score2</th><th scope=col>score3</th><th scope=col>total</th><th scope=col>grad</th></tr>\n",
       "\t<tr><th scope=col>&lt;dbl&gt;</th><th scope=col>&lt;chr&gt;</th><th scope=col>&lt;dbl&gt;</th><th scope=col>&lt;dbl&gt;</th><th scope=col>&lt;int&gt;</th><th scope=col>&lt;int&gt;</th><th scope=col>&lt;dbl&gt;</th><th scope=col>&lt;dbl&gt;</th></tr>\n",
       "</thead>\n",
       "<tbody>\n",
       "\t<tr><td> 2</td><td>F</td><td>33</td><td>15</td><td>16</td><td> 3</td><td>34</td><td>5</td></tr>\n",
       "\t<tr><td> 4</td><td>F</td><td>25</td><td>14</td><td>12</td><td>11</td><td>37</td><td>5</td></tr>\n",
       "\t<tr><td> 6</td><td>F</td><td>33</td><td> 8</td><td>23</td><td>20</td><td>51</td><td>3</td></tr>\n",
       "\t<tr><td> 7</td><td>F</td><td>27</td><td> 2</td><td> 3</td><td>10</td><td>15</td><td>5</td></tr>\n",
       "\t<tr><td> 8</td><td>F</td><td>29</td><td> 6</td><td> 0</td><td>22</td><td>28</td><td>5</td></tr>\n",
       "\t<tr><td>10</td><td>F</td><td>24</td><td>11</td><td>16</td><td>13</td><td>40</td><td>4</td></tr>\n",
       "</tbody>\n",
       "</table>\n",
       "</li>\n",
       "\t<li><table class=\"dataframe\">\n",
       "<caption>A tibble: 5 × 8</caption>\n",
       "<thead>\n",
       "\t<tr><th scope=col>id</th><th scope=col>sex</th><th scope=col>age</th><th scope=col>score1</th><th scope=col>score2</th><th scope=col>score3</th><th scope=col>total</th><th scope=col>grad</th></tr>\n",
       "\t<tr><th scope=col>&lt;dbl&gt;</th><th scope=col>&lt;chr&gt;</th><th scope=col>&lt;dbl&gt;</th><th scope=col>&lt;dbl&gt;</th><th scope=col>&lt;int&gt;</th><th scope=col>&lt;int&gt;</th><th scope=col>&lt;dbl&gt;</th><th scope=col>&lt;dbl&gt;</th></tr>\n",
       "</thead>\n",
       "<tbody>\n",
       "\t<tr><td> 1</td><td>M</td><td>24</td><td>19</td><td> 8</td><td>19</td><td>46</td><td>3</td></tr>\n",
       "\t<tr><td> 3</td><td>M</td><td>21</td><td> 5</td><td>12</td><td> 5</td><td>22</td><td>5</td></tr>\n",
       "\t<tr><td> 5</td><td>M</td><td>32</td><td>19</td><td> 7</td><td>25</td><td>51</td><td>3</td></tr>\n",
       "\t<tr><td> 9</td><td>M</td><td>26</td><td>10</td><td> 0</td><td> 4</td><td>14</td><td>5</td></tr>\n",
       "\t<tr><td>11</td><td>M</td><td>25</td><td> 4</td><td>13</td><td>12</td><td>29</td><td>5</td></tr>\n",
       "</tbody>\n",
       "</table>\n",
       "</li>\n",
       "</ol>\n"
      ],
      "text/latex": [
       "\\begin{enumerate}\n",
       "\\item A tibble: 6 × 8\n",
       "\\begin{tabular}{llllllll}\n",
       " id & sex & age & score1 & score2 & score3 & total & grad\\\\\n",
       " <dbl> & <chr> & <dbl> & <dbl> & <int> & <int> & <dbl> & <dbl>\\\\\n",
       "\\hline\n",
       "\t  2 & F & 33 & 15 & 16 &  3 & 34 & 5\\\\\n",
       "\t  4 & F & 25 & 14 & 12 & 11 & 37 & 5\\\\\n",
       "\t  6 & F & 33 &  8 & 23 & 20 & 51 & 3\\\\\n",
       "\t  7 & F & 27 &  2 &  3 & 10 & 15 & 5\\\\\n",
       "\t  8 & F & 29 &  6 &  0 & 22 & 28 & 5\\\\\n",
       "\t 10 & F & 24 & 11 & 16 & 13 & 40 & 4\\\\\n",
       "\\end{tabular}\n",
       "\n",
       "\\item A tibble: 5 × 8\n",
       "\\begin{tabular}{llllllll}\n",
       " id & sex & age & score1 & score2 & score3 & total & grad\\\\\n",
       " <dbl> & <chr> & <dbl> & <dbl> & <int> & <int> & <dbl> & <dbl>\\\\\n",
       "\\hline\n",
       "\t  1 & M & 24 & 19 &  8 & 19 & 46 & 3\\\\\n",
       "\t  3 & M & 21 &  5 & 12 &  5 & 22 & 5\\\\\n",
       "\t  5 & M & 32 & 19 &  7 & 25 & 51 & 3\\\\\n",
       "\t  9 & M & 26 & 10 &  0 &  4 & 14 & 5\\\\\n",
       "\t 11 & M & 25 &  4 & 13 & 12 & 29 & 5\\\\\n",
       "\\end{tabular}\n",
       "\n",
       "\\end{enumerate}\n"
      ],
      "text/markdown": [
       "1. \n",
       "A tibble: 6 × 8\n",
       "\n",
       "| id &lt;dbl&gt; | sex &lt;chr&gt; | age &lt;dbl&gt; | score1 &lt;dbl&gt; | score2 &lt;int&gt; | score3 &lt;int&gt; | total &lt;dbl&gt; | grad &lt;dbl&gt; |\n",
       "|---|---|---|---|---|---|---|---|\n",
       "|  2 | F | 33 | 15 | 16 |  3 | 34 | 5 |\n",
       "|  4 | F | 25 | 14 | 12 | 11 | 37 | 5 |\n",
       "|  6 | F | 33 |  8 | 23 | 20 | 51 | 3 |\n",
       "|  7 | F | 27 |  2 |  3 | 10 | 15 | 5 |\n",
       "|  8 | F | 29 |  6 |  0 | 22 | 28 | 5 |\n",
       "| 10 | F | 24 | 11 | 16 | 13 | 40 | 4 |\n",
       "\n",
       "\n",
       "2. \n",
       "A tibble: 5 × 8\n",
       "\n",
       "| id &lt;dbl&gt; | sex &lt;chr&gt; | age &lt;dbl&gt; | score1 &lt;dbl&gt; | score2 &lt;int&gt; | score3 &lt;int&gt; | total &lt;dbl&gt; | grad &lt;dbl&gt; |\n",
       "|---|---|---|---|---|---|---|---|\n",
       "|  1 | M | 24 | 19 |  8 | 19 | 46 | 3 |\n",
       "|  3 | M | 21 |  5 | 12 |  5 | 22 | 5 |\n",
       "|  5 | M | 32 | 19 |  7 | 25 | 51 | 3 |\n",
       "|  9 | M | 26 | 10 |  0 |  4 | 14 | 5 |\n",
       "| 11 | M | 25 |  4 | 13 | 12 | 29 | 5 |\n",
       "\n",
       "\n",
       "\n",
       "\n"
      ],
      "text/plain": [
       "<list_of<\n",
       "  tbl_df<\n",
       "    id    : double\n",
       "    sex   : character\n",
       "    age   : double\n",
       "    score1: double\n",
       "    score2: integer\n",
       "    score3: integer\n",
       "    total : double\n",
       "    grad  : double\n",
       "  >\n",
       ">[2]>\n",
       "[[1]]\n",
       "\u001b[90m# A tibble: 6 × 8\u001b[39m\n",
       "     id sex     age score1 score2 score3 total  grad\n",
       "  \u001b[3m\u001b[90m<dbl>\u001b[39m\u001b[23m \u001b[3m\u001b[90m<chr>\u001b[39m\u001b[23m \u001b[3m\u001b[90m<dbl>\u001b[39m\u001b[23m  \u001b[3m\u001b[90m<dbl>\u001b[39m\u001b[23m  \u001b[3m\u001b[90m<int>\u001b[39m\u001b[23m  \u001b[3m\u001b[90m<int>\u001b[39m\u001b[23m \u001b[3m\u001b[90m<dbl>\u001b[39m\u001b[23m \u001b[3m\u001b[90m<dbl>\u001b[39m\u001b[23m\n",
       "\u001b[90m1\u001b[39m     2 F        33     15     16      3    34     5\n",
       "\u001b[90m2\u001b[39m     4 F        25     14     12     11    37     5\n",
       "\u001b[90m3\u001b[39m     6 F        33      8     23     20    51     3\n",
       "\u001b[90m4\u001b[39m     7 F        27      2      3     10    15     5\n",
       "\u001b[90m5\u001b[39m     8 F        29      6      0     22    28     5\n",
       "\u001b[90m6\u001b[39m    10 F        24     11     16     13    40     4\n",
       "\n",
       "[[2]]\n",
       "\u001b[90m# A tibble: 5 × 8\u001b[39m\n",
       "     id sex     age score1 score2 score3 total  grad\n",
       "  \u001b[3m\u001b[90m<dbl>\u001b[39m\u001b[23m \u001b[3m\u001b[90m<chr>\u001b[39m\u001b[23m \u001b[3m\u001b[90m<dbl>\u001b[39m\u001b[23m  \u001b[3m\u001b[90m<dbl>\u001b[39m\u001b[23m  \u001b[3m\u001b[90m<int>\u001b[39m\u001b[23m  \u001b[3m\u001b[90m<int>\u001b[39m\u001b[23m \u001b[3m\u001b[90m<dbl>\u001b[39m\u001b[23m \u001b[3m\u001b[90m<dbl>\u001b[39m\u001b[23m\n",
       "\u001b[90m1\u001b[39m     1 M        24     19      8     19    46     3\n",
       "\u001b[90m2\u001b[39m     3 M        21      5     12      5    22     5\n",
       "\u001b[90m3\u001b[39m     5 M        32     19      7     25    51     3\n",
       "\u001b[90m4\u001b[39m     9 M        26     10      0      4    14     5\n",
       "\u001b[90m5\u001b[39m    11 M        25      4     13     12    29     5\n"
      ]
     },
     "metadata": {},
     "output_type": "display_data"
    }
   ],
   "source": [
    "df_groupd %>% group_split()"
   ]
  },
  {
   "cell_type": "markdown",
   "id": "7c10008d",
   "metadata": {},
   "source": [
    " <h4 style=\"color:green;text-align:center\">Exercise 4</h4>"
   ]
  },
  {
   "cell_type": "code",
   "execution_count": 46,
   "id": "c2ebab0c",
   "metadata": {
    "scrolled": false
   },
   "outputs": [
    {
     "data": {
      "text/html": [
       "<table class=\"dataframe\">\n",
       "<caption>A tibble: 6 × 7</caption>\n",
       "<thead>\n",
       "\t<tr><th scope=col>stud.id</th><th scope=col>group</th><th scope=col>ex1</th><th scope=col>ex2</th><th scope=col>ex3</th><th scope=col>ex4</th><th scope=col>ex5</th></tr>\n",
       "\t<tr><th scope=col>&lt;int&gt;</th><th scope=col>&lt;chr&gt;</th><th scope=col>&lt;int&gt;</th><th scope=col>&lt;int&gt;</th><th scope=col>&lt;int&gt;</th><th scope=col>&lt;int&gt;</th><th scope=col>&lt;int&gt;</th></tr>\n",
       "</thead>\n",
       "<tbody>\n",
       "\t<tr><td>1</td><td>B</td><td>1</td><td> 4</td><td> 8</td><td>10</td><td>4</td></tr>\n",
       "\t<tr><td>2</td><td>A</td><td>6</td><td>10</td><td> 2</td><td> 6</td><td>3</td></tr>\n",
       "\t<tr><td>3</td><td>B</td><td>5</td><td> 4</td><td>10</td><td> 4</td><td>3</td></tr>\n",
       "\t<tr><td>4</td><td>B</td><td>1</td><td> 6</td><td>10</td><td> 1</td><td>8</td></tr>\n",
       "\t<tr><td>5</td><td>A</td><td>7</td><td> 5</td><td> 3</td><td> 2</td><td>7</td></tr>\n",
       "\t<tr><td>6</td><td>A</td><td>8</td><td>10</td><td> 1</td><td> 2</td><td>1</td></tr>\n",
       "</tbody>\n",
       "</table>\n"
      ],
      "text/latex": [
       "A tibble: 6 × 7\n",
       "\\begin{tabular}{lllllll}\n",
       " stud.id & group & ex1 & ex2 & ex3 & ex4 & ex5\\\\\n",
       " <int> & <chr> & <int> & <int> & <int> & <int> & <int>\\\\\n",
       "\\hline\n",
       "\t 1 & B & 1 &  4 &  8 & 10 & 4\\\\\n",
       "\t 2 & A & 6 & 10 &  2 &  6 & 3\\\\\n",
       "\t 3 & B & 5 &  4 & 10 &  4 & 3\\\\\n",
       "\t 4 & B & 1 &  6 & 10 &  1 & 8\\\\\n",
       "\t 5 & A & 7 &  5 &  3 &  2 & 7\\\\\n",
       "\t 6 & A & 8 & 10 &  1 &  2 & 1\\\\\n",
       "\\end{tabular}\n"
      ],
      "text/markdown": [
       "\n",
       "A tibble: 6 × 7\n",
       "\n",
       "| stud.id &lt;int&gt; | group &lt;chr&gt; | ex1 &lt;int&gt; | ex2 &lt;int&gt; | ex3 &lt;int&gt; | ex4 &lt;int&gt; | ex5 &lt;int&gt; |\n",
       "|---|---|---|---|---|---|---|\n",
       "| 1 | B | 1 |  4 |  8 | 10 | 4 |\n",
       "| 2 | A | 6 | 10 |  2 |  6 | 3 |\n",
       "| 3 | B | 5 |  4 | 10 |  4 | 3 |\n",
       "| 4 | B | 1 |  6 | 10 |  1 | 8 |\n",
       "| 5 | A | 7 |  5 |  3 |  2 | 7 |\n",
       "| 6 | A | 8 | 10 |  1 |  2 | 1 |\n",
       "\n"
      ],
      "text/plain": [
       "  stud.id group ex1 ex2 ex3 ex4 ex5\n",
       "1 1       B     1    4   8  10  4  \n",
       "2 2       A     6   10   2   6  3  \n",
       "3 3       B     5    4  10   4  3  \n",
       "4 4       B     1    6  10   1  8  \n",
       "5 5       A     7    5   3   2  7  \n",
       "6 6       A     8   10   1   2  1  "
      ]
     },
     "metadata": {},
     "output_type": "display_data"
    }
   ],
   "source": [
    "no <- 30\n",
    "df <- tibble(\n",
    "stud.id = 1:no,\n",
    "group = sample(x=c(\"A\",\"B\",\"C\"), size=no, replace = TRUE),\n",
    "ex1 = sample(x=1:10, size=no, replace = TRUE),\n",
    "ex2= sample(x=1:10, size=no, replace = TRUE),\n",
    "ex3 = sample(x=1:10, size=no, replace = TRUE),\n",
    "ex4 = sample(x=1:10, size=no, replace = TRUE),\n",
    "ex5 = sample(x=1:10, size=no, replace = TRUE)\n",
    ")\n",
    "df %>% slice(1:6)"
   ]
  },
  {
   "cell_type": "markdown",
   "id": "9e9583d4",
   "metadata": {},
   "source": [
    "+ Apply n() and count() to get the number of students in the dif-\n",
    "  ferent groups. What are the difference between n() and count()?"
   ]
  },
  {
   "cell_type": "code",
   "execution_count": 47,
   "id": "59c0d09f",
   "metadata": {
    "scrolled": true
   },
   "outputs": [
    {
     "data": {
      "text/html": [
       "<table class=\"dataframe\">\n",
       "<caption>A tibble: 3 × 2</caption>\n",
       "<thead>\n",
       "\t<tr><th scope=col>group</th><th scope=col>cnt</th></tr>\n",
       "\t<tr><th scope=col>&lt;chr&gt;</th><th scope=col>&lt;int&gt;</th></tr>\n",
       "</thead>\n",
       "<tbody>\n",
       "\t<tr><td>A</td><td> 9</td></tr>\n",
       "\t<tr><td>B</td><td>11</td></tr>\n",
       "\t<tr><td>C</td><td>10</td></tr>\n",
       "</tbody>\n",
       "</table>\n"
      ],
      "text/latex": [
       "A tibble: 3 × 2\n",
       "\\begin{tabular}{ll}\n",
       " group & cnt\\\\\n",
       " <chr> & <int>\\\\\n",
       "\\hline\n",
       "\t A &  9\\\\\n",
       "\t B & 11\\\\\n",
       "\t C & 10\\\\\n",
       "\\end{tabular}\n"
      ],
      "text/markdown": [
       "\n",
       "A tibble: 3 × 2\n",
       "\n",
       "| group &lt;chr&gt; | cnt &lt;int&gt; |\n",
       "|---|---|\n",
       "| A |  9 |\n",
       "| B | 11 |\n",
       "| C | 10 |\n",
       "\n"
      ],
      "text/plain": [
       "  group cnt\n",
       "1 A      9 \n",
       "2 B     11 \n",
       "3 C     10 "
      ]
     },
     "metadata": {},
     "output_type": "display_data"
    }
   ],
   "source": [
    "df %>% group_by(group) %>% summarise(cnt=n())"
   ]
  },
  {
   "cell_type": "code",
   "execution_count": 48,
   "id": "0cf96b6b",
   "metadata": {
    "scrolled": false
   },
   "outputs": [
    {
     "data": {
      "text/html": [
       "<table class=\"dataframe\">\n",
       "<caption>A tibble: 3 × 2</caption>\n",
       "<thead>\n",
       "\t<tr><th scope=col>group</th><th scope=col>n</th></tr>\n",
       "\t<tr><th scope=col>&lt;chr&gt;</th><th scope=col>&lt;int&gt;</th></tr>\n",
       "</thead>\n",
       "<tbody>\n",
       "\t<tr><td>A</td><td> 9</td></tr>\n",
       "\t<tr><td>B</td><td>11</td></tr>\n",
       "\t<tr><td>C</td><td>10</td></tr>\n",
       "</tbody>\n",
       "</table>\n"
      ],
      "text/latex": [
       "A tibble: 3 × 2\n",
       "\\begin{tabular}{ll}\n",
       " group & n\\\\\n",
       " <chr> & <int>\\\\\n",
       "\\hline\n",
       "\t A &  9\\\\\n",
       "\t B & 11\\\\\n",
       "\t C & 10\\\\\n",
       "\\end{tabular}\n"
      ],
      "text/markdown": [
       "\n",
       "A tibble: 3 × 2\n",
       "\n",
       "| group &lt;chr&gt; | n &lt;int&gt; |\n",
       "|---|---|\n",
       "| A |  9 |\n",
       "| B | 11 |\n",
       "| C | 10 |\n",
       "\n"
      ],
      "text/plain": [
       "  group n \n",
       "1 A      9\n",
       "2 B     11\n",
       "3 C     10"
      ]
     },
     "metadata": {},
     "output_type": "display_data"
    }
   ],
   "source": [
    "df %>% count(group) # first group by then count num of obs in each group"
   ]
  },
  {
   "cell_type": "markdown",
   "id": "c973b997",
   "metadata": {},
   "source": [
    "+ add the variables sum.scores and mean.scores containing the sum\n",
    "    and the of the scores in the exercises for every student by apply-\n",
    "    ing the the functions sum() and mean(). What is the result if\n",
    "    rowwise() is appplied before the mutate()?"
   ]
  },
  {
   "cell_type": "code",
   "execution_count": 49,
   "id": "dc3d16bc",
   "metadata": {
    "scrolled": true
   },
   "outputs": [
    {
     "data": {
      "text/html": [
       "<table class=\"dataframe\">\n",
       "<caption>A tibble: 30 × 9</caption>\n",
       "<thead>\n",
       "\t<tr><th scope=col>stud.id</th><th scope=col>group</th><th scope=col>ex1</th><th scope=col>ex2</th><th scope=col>ex3</th><th scope=col>ex4</th><th scope=col>ex5</th><th scope=col>sum.scores</th><th scope=col>mean.scores</th></tr>\n",
       "\t<tr><th scope=col>&lt;int&gt;</th><th scope=col>&lt;chr&gt;</th><th scope=col>&lt;int&gt;</th><th scope=col>&lt;int&gt;</th><th scope=col>&lt;int&gt;</th><th scope=col>&lt;int&gt;</th><th scope=col>&lt;int&gt;</th><th scope=col>&lt;int&gt;</th><th scope=col>&lt;dbl&gt;</th></tr>\n",
       "</thead>\n",
       "<tbody>\n",
       "\t<tr><td> 1</td><td>B</td><td> 1</td><td> 4</td><td> 8</td><td>10</td><td> 4</td><td>871</td><td>5.806667</td></tr>\n",
       "\t<tr><td> 2</td><td>A</td><td> 6</td><td>10</td><td> 2</td><td> 6</td><td> 3</td><td>871</td><td>5.806667</td></tr>\n",
       "\t<tr><td> 3</td><td>B</td><td> 5</td><td> 4</td><td>10</td><td> 4</td><td> 3</td><td>871</td><td>5.806667</td></tr>\n",
       "\t<tr><td> 4</td><td>B</td><td> 1</td><td> 6</td><td>10</td><td> 1</td><td> 8</td><td>871</td><td>5.806667</td></tr>\n",
       "\t<tr><td> 5</td><td>A</td><td> 7</td><td> 5</td><td> 3</td><td> 2</td><td> 7</td><td>871</td><td>5.806667</td></tr>\n",
       "\t<tr><td> 6</td><td>A</td><td> 8</td><td>10</td><td> 1</td><td> 2</td><td> 1</td><td>871</td><td>5.806667</td></tr>\n",
       "\t<tr><td> 7</td><td>B</td><td> 2</td><td> 4</td><td> 4</td><td> 5</td><td> 4</td><td>871</td><td>5.806667</td></tr>\n",
       "\t<tr><td> 8</td><td>C</td><td> 6</td><td>10</td><td>10</td><td> 7</td><td>10</td><td>871</td><td>5.806667</td></tr>\n",
       "\t<tr><td> 9</td><td>C</td><td> 2</td><td>10</td><td> 1</td><td> 6</td><td>10</td><td>871</td><td>5.806667</td></tr>\n",
       "\t<tr><td>10</td><td>C</td><td> 1</td><td> 6</td><td> 9</td><td> 5</td><td> 2</td><td>871</td><td>5.806667</td></tr>\n",
       "\t<tr><td>11</td><td>A</td><td> 9</td><td> 7</td><td>10</td><td>10</td><td> 7</td><td>871</td><td>5.806667</td></tr>\n",
       "\t<tr><td>12</td><td>B</td><td> 8</td><td> 9</td><td> 1</td><td> 2</td><td> 2</td><td>871</td><td>5.806667</td></tr>\n",
       "\t<tr><td>13</td><td>B</td><td> 7</td><td> 1</td><td> 1</td><td> 2</td><td> 3</td><td>871</td><td>5.806667</td></tr>\n",
       "\t<tr><td>14</td><td>B</td><td>10</td><td> 3</td><td> 2</td><td> 3</td><td> 9</td><td>871</td><td>5.806667</td></tr>\n",
       "\t<tr><td>15</td><td>A</td><td> 4</td><td> 5</td><td> 9</td><td> 6</td><td> 4</td><td>871</td><td>5.806667</td></tr>\n",
       "\t<tr><td>16</td><td>A</td><td> 8</td><td> 5</td><td> 7</td><td> 6</td><td> 8</td><td>871</td><td>5.806667</td></tr>\n",
       "\t<tr><td>17</td><td>A</td><td> 8</td><td> 8</td><td> 8</td><td>10</td><td> 8</td><td>871</td><td>5.806667</td></tr>\n",
       "\t<tr><td>18</td><td>C</td><td> 5</td><td> 7</td><td> 7</td><td>10</td><td> 2</td><td>871</td><td>5.806667</td></tr>\n",
       "\t<tr><td>19</td><td>B</td><td> 5</td><td> 9</td><td> 8</td><td> 8</td><td> 6</td><td>871</td><td>5.806667</td></tr>\n",
       "\t<tr><td>20</td><td>A</td><td> 7</td><td> 8</td><td> 2</td><td> 4</td><td> 7</td><td>871</td><td>5.806667</td></tr>\n",
       "\t<tr><td>21</td><td>B</td><td> 1</td><td> 5</td><td>10</td><td> 7</td><td> 7</td><td>871</td><td>5.806667</td></tr>\n",
       "\t<tr><td>22</td><td>C</td><td> 6</td><td> 7</td><td> 5</td><td> 2</td><td> 4</td><td>871</td><td>5.806667</td></tr>\n",
       "\t<tr><td>23</td><td>C</td><td>10</td><td> 9</td><td> 7</td><td> 8</td><td> 8</td><td>871</td><td>5.806667</td></tr>\n",
       "\t<tr><td>24</td><td>B</td><td> 4</td><td> 1</td><td> 5</td><td> 4</td><td> 3</td><td>871</td><td>5.806667</td></tr>\n",
       "\t<tr><td>25</td><td>C</td><td> 5</td><td>10</td><td> 5</td><td> 4</td><td> 6</td><td>871</td><td>5.806667</td></tr>\n",
       "\t<tr><td>26</td><td>B</td><td> 4</td><td> 6</td><td> 3</td><td> 5</td><td> 3</td><td>871</td><td>5.806667</td></tr>\n",
       "\t<tr><td>27</td><td>A</td><td> 8</td><td> 8</td><td>10</td><td> 6</td><td>10</td><td>871</td><td>5.806667</td></tr>\n",
       "\t<tr><td>28</td><td>C</td><td>10</td><td> 7</td><td> 3</td><td> 6</td><td> 6</td><td>871</td><td>5.806667</td></tr>\n",
       "\t<tr><td>29</td><td>C</td><td> 9</td><td> 1</td><td> 5</td><td> 5</td><td> 9</td><td>871</td><td>5.806667</td></tr>\n",
       "\t<tr><td>30</td><td>C</td><td> 8</td><td>10</td><td> 6</td><td> 4</td><td> 5</td><td>871</td><td>5.806667</td></tr>\n",
       "</tbody>\n",
       "</table>\n"
      ],
      "text/latex": [
       "A tibble: 30 × 9\n",
       "\\begin{tabular}{lllllllll}\n",
       " stud.id & group & ex1 & ex2 & ex3 & ex4 & ex5 & sum.scores & mean.scores\\\\\n",
       " <int> & <chr> & <int> & <int> & <int> & <int> & <int> & <int> & <dbl>\\\\\n",
       "\\hline\n",
       "\t  1 & B &  1 &  4 &  8 & 10 &  4 & 871 & 5.806667\\\\\n",
       "\t  2 & A &  6 & 10 &  2 &  6 &  3 & 871 & 5.806667\\\\\n",
       "\t  3 & B &  5 &  4 & 10 &  4 &  3 & 871 & 5.806667\\\\\n",
       "\t  4 & B &  1 &  6 & 10 &  1 &  8 & 871 & 5.806667\\\\\n",
       "\t  5 & A &  7 &  5 &  3 &  2 &  7 & 871 & 5.806667\\\\\n",
       "\t  6 & A &  8 & 10 &  1 &  2 &  1 & 871 & 5.806667\\\\\n",
       "\t  7 & B &  2 &  4 &  4 &  5 &  4 & 871 & 5.806667\\\\\n",
       "\t  8 & C &  6 & 10 & 10 &  7 & 10 & 871 & 5.806667\\\\\n",
       "\t  9 & C &  2 & 10 &  1 &  6 & 10 & 871 & 5.806667\\\\\n",
       "\t 10 & C &  1 &  6 &  9 &  5 &  2 & 871 & 5.806667\\\\\n",
       "\t 11 & A &  9 &  7 & 10 & 10 &  7 & 871 & 5.806667\\\\\n",
       "\t 12 & B &  8 &  9 &  1 &  2 &  2 & 871 & 5.806667\\\\\n",
       "\t 13 & B &  7 &  1 &  1 &  2 &  3 & 871 & 5.806667\\\\\n",
       "\t 14 & B & 10 &  3 &  2 &  3 &  9 & 871 & 5.806667\\\\\n",
       "\t 15 & A &  4 &  5 &  9 &  6 &  4 & 871 & 5.806667\\\\\n",
       "\t 16 & A &  8 &  5 &  7 &  6 &  8 & 871 & 5.806667\\\\\n",
       "\t 17 & A &  8 &  8 &  8 & 10 &  8 & 871 & 5.806667\\\\\n",
       "\t 18 & C &  5 &  7 &  7 & 10 &  2 & 871 & 5.806667\\\\\n",
       "\t 19 & B &  5 &  9 &  8 &  8 &  6 & 871 & 5.806667\\\\\n",
       "\t 20 & A &  7 &  8 &  2 &  4 &  7 & 871 & 5.806667\\\\\n",
       "\t 21 & B &  1 &  5 & 10 &  7 &  7 & 871 & 5.806667\\\\\n",
       "\t 22 & C &  6 &  7 &  5 &  2 &  4 & 871 & 5.806667\\\\\n",
       "\t 23 & C & 10 &  9 &  7 &  8 &  8 & 871 & 5.806667\\\\\n",
       "\t 24 & B &  4 &  1 &  5 &  4 &  3 & 871 & 5.806667\\\\\n",
       "\t 25 & C &  5 & 10 &  5 &  4 &  6 & 871 & 5.806667\\\\\n",
       "\t 26 & B &  4 &  6 &  3 &  5 &  3 & 871 & 5.806667\\\\\n",
       "\t 27 & A &  8 &  8 & 10 &  6 & 10 & 871 & 5.806667\\\\\n",
       "\t 28 & C & 10 &  7 &  3 &  6 &  6 & 871 & 5.806667\\\\\n",
       "\t 29 & C &  9 &  1 &  5 &  5 &  9 & 871 & 5.806667\\\\\n",
       "\t 30 & C &  8 & 10 &  6 &  4 &  5 & 871 & 5.806667\\\\\n",
       "\\end{tabular}\n"
      ],
      "text/markdown": [
       "\n",
       "A tibble: 30 × 9\n",
       "\n",
       "| stud.id &lt;int&gt; | group &lt;chr&gt; | ex1 &lt;int&gt; | ex2 &lt;int&gt; | ex3 &lt;int&gt; | ex4 &lt;int&gt; | ex5 &lt;int&gt; | sum.scores &lt;int&gt; | mean.scores &lt;dbl&gt; |\n",
       "|---|---|---|---|---|---|---|---|---|\n",
       "|  1 | B |  1 |  4 |  8 | 10 |  4 | 871 | 5.806667 |\n",
       "|  2 | A |  6 | 10 |  2 |  6 |  3 | 871 | 5.806667 |\n",
       "|  3 | B |  5 |  4 | 10 |  4 |  3 | 871 | 5.806667 |\n",
       "|  4 | B |  1 |  6 | 10 |  1 |  8 | 871 | 5.806667 |\n",
       "|  5 | A |  7 |  5 |  3 |  2 |  7 | 871 | 5.806667 |\n",
       "|  6 | A |  8 | 10 |  1 |  2 |  1 | 871 | 5.806667 |\n",
       "|  7 | B |  2 |  4 |  4 |  5 |  4 | 871 | 5.806667 |\n",
       "|  8 | C |  6 | 10 | 10 |  7 | 10 | 871 | 5.806667 |\n",
       "|  9 | C |  2 | 10 |  1 |  6 | 10 | 871 | 5.806667 |\n",
       "| 10 | C |  1 |  6 |  9 |  5 |  2 | 871 | 5.806667 |\n",
       "| 11 | A |  9 |  7 | 10 | 10 |  7 | 871 | 5.806667 |\n",
       "| 12 | B |  8 |  9 |  1 |  2 |  2 | 871 | 5.806667 |\n",
       "| 13 | B |  7 |  1 |  1 |  2 |  3 | 871 | 5.806667 |\n",
       "| 14 | B | 10 |  3 |  2 |  3 |  9 | 871 | 5.806667 |\n",
       "| 15 | A |  4 |  5 |  9 |  6 |  4 | 871 | 5.806667 |\n",
       "| 16 | A |  8 |  5 |  7 |  6 |  8 | 871 | 5.806667 |\n",
       "| 17 | A |  8 |  8 |  8 | 10 |  8 | 871 | 5.806667 |\n",
       "| 18 | C |  5 |  7 |  7 | 10 |  2 | 871 | 5.806667 |\n",
       "| 19 | B |  5 |  9 |  8 |  8 |  6 | 871 | 5.806667 |\n",
       "| 20 | A |  7 |  8 |  2 |  4 |  7 | 871 | 5.806667 |\n",
       "| 21 | B |  1 |  5 | 10 |  7 |  7 | 871 | 5.806667 |\n",
       "| 22 | C |  6 |  7 |  5 |  2 |  4 | 871 | 5.806667 |\n",
       "| 23 | C | 10 |  9 |  7 |  8 |  8 | 871 | 5.806667 |\n",
       "| 24 | B |  4 |  1 |  5 |  4 |  3 | 871 | 5.806667 |\n",
       "| 25 | C |  5 | 10 |  5 |  4 |  6 | 871 | 5.806667 |\n",
       "| 26 | B |  4 |  6 |  3 |  5 |  3 | 871 | 5.806667 |\n",
       "| 27 | A |  8 |  8 | 10 |  6 | 10 | 871 | 5.806667 |\n",
       "| 28 | C | 10 |  7 |  3 |  6 |  6 | 871 | 5.806667 |\n",
       "| 29 | C |  9 |  1 |  5 |  5 |  9 | 871 | 5.806667 |\n",
       "| 30 | C |  8 | 10 |  6 |  4 |  5 | 871 | 5.806667 |\n",
       "\n"
      ],
      "text/plain": [
       "   stud.id group ex1 ex2 ex3 ex4 ex5 sum.scores mean.scores\n",
       "1   1      B      1   4   8  10   4  871        5.806667   \n",
       "2   2      A      6  10   2   6   3  871        5.806667   \n",
       "3   3      B      5   4  10   4   3  871        5.806667   \n",
       "4   4      B      1   6  10   1   8  871        5.806667   \n",
       "5   5      A      7   5   3   2   7  871        5.806667   \n",
       "6   6      A      8  10   1   2   1  871        5.806667   \n",
       "7   7      B      2   4   4   5   4  871        5.806667   \n",
       "8   8      C      6  10  10   7  10  871        5.806667   \n",
       "9   9      C      2  10   1   6  10  871        5.806667   \n",
       "10 10      C      1   6   9   5   2  871        5.806667   \n",
       "11 11      A      9   7  10  10   7  871        5.806667   \n",
       "12 12      B      8   9   1   2   2  871        5.806667   \n",
       "13 13      B      7   1   1   2   3  871        5.806667   \n",
       "14 14      B     10   3   2   3   9  871        5.806667   \n",
       "15 15      A      4   5   9   6   4  871        5.806667   \n",
       "16 16      A      8   5   7   6   8  871        5.806667   \n",
       "17 17      A      8   8   8  10   8  871        5.806667   \n",
       "18 18      C      5   7   7  10   2  871        5.806667   \n",
       "19 19      B      5   9   8   8   6  871        5.806667   \n",
       "20 20      A      7   8   2   4   7  871        5.806667   \n",
       "21 21      B      1   5  10   7   7  871        5.806667   \n",
       "22 22      C      6   7   5   2   4  871        5.806667   \n",
       "23 23      C     10   9   7   8   8  871        5.806667   \n",
       "24 24      B      4   1   5   4   3  871        5.806667   \n",
       "25 25      C      5  10   5   4   6  871        5.806667   \n",
       "26 26      B      4   6   3   5   3  871        5.806667   \n",
       "27 27      A      8   8  10   6  10  871        5.806667   \n",
       "28 28      C     10   7   3   6   6  871        5.806667   \n",
       "29 29      C      9   1   5   5   9  871        5.806667   \n",
       "30 30      C      8  10   6   4   5  871        5.806667   "
      ]
     },
     "metadata": {},
     "output_type": "display_data"
    }
   ],
   "source": [
    "df %>% mutate( sum.scores=sum(c(ex1,ex2,ex3,ex4,ex5)),\n",
    "               mean.scores=mean(c(ex1,ex2,ex3,ex4,ex5))\n",
    "             )"
   ]
  },
  {
   "cell_type": "code",
   "execution_count": 50,
   "id": "c53e1f43",
   "metadata": {
    "scrolled": true
   },
   "outputs": [
    {
     "data": {
      "text/html": [
       "871"
      ],
      "text/latex": [
       "871"
      ],
      "text/markdown": [
       "871"
      ],
      "text/plain": [
       "[1] 871"
      ]
     },
     "metadata": {},
     "output_type": "display_data"
    }
   ],
   "source": [
    "sum(df$ex1) + sum(df$ex2) + sum(df$ex3) + sum(df$ex4) + sum(df$ex5)"
   ]
  },
  {
   "cell_type": "code",
   "execution_count": 51,
   "id": "42823af8",
   "metadata": {},
   "outputs": [
    {
     "data": {
      "text/html": [
       "5.80666666666667"
      ],
      "text/latex": [
       "5.80666666666667"
      ],
      "text/markdown": [
       "5.80666666666667"
      ],
      "text/plain": [
       "[1] 5.806667"
      ]
     },
     "metadata": {},
     "output_type": "display_data"
    }
   ],
   "source": [
    "len<-length(c(df$ex1,df$ex2,df$ex3,df$ex4,df$ex5))\n",
    "total<-sum(c(df$ex1,df$ex2,df$ex3,df$ex4,df$ex5))\n",
    "total/len"
   ]
  },
  {
   "cell_type": "code",
   "execution_count": 52,
   "id": "e5248b00",
   "metadata": {
    "scrolled": true
   },
   "outputs": [
    {
     "data": {
      "text/html": [
       "<table class=\"dataframe\">\n",
       "<caption>A rowwise_df: 30 × 9</caption>\n",
       "<thead>\n",
       "\t<tr><th scope=col>stud.id</th><th scope=col>group</th><th scope=col>ex1</th><th scope=col>ex2</th><th scope=col>ex3</th><th scope=col>ex4</th><th scope=col>ex5</th><th scope=col>sum.scores</th><th scope=col>mean.scores</th></tr>\n",
       "\t<tr><th scope=col>&lt;int&gt;</th><th scope=col>&lt;chr&gt;</th><th scope=col>&lt;int&gt;</th><th scope=col>&lt;int&gt;</th><th scope=col>&lt;int&gt;</th><th scope=col>&lt;int&gt;</th><th scope=col>&lt;int&gt;</th><th scope=col>&lt;int&gt;</th><th scope=col>&lt;dbl&gt;</th></tr>\n",
       "</thead>\n",
       "<tbody>\n",
       "\t<tr><td> 1</td><td>B</td><td> 1</td><td> 4</td><td> 8</td><td>10</td><td> 4</td><td>27</td><td>5.4</td></tr>\n",
       "\t<tr><td> 2</td><td>A</td><td> 6</td><td>10</td><td> 2</td><td> 6</td><td> 3</td><td>27</td><td>5.4</td></tr>\n",
       "\t<tr><td> 3</td><td>B</td><td> 5</td><td> 4</td><td>10</td><td> 4</td><td> 3</td><td>26</td><td>5.2</td></tr>\n",
       "\t<tr><td> 4</td><td>B</td><td> 1</td><td> 6</td><td>10</td><td> 1</td><td> 8</td><td>26</td><td>5.2</td></tr>\n",
       "\t<tr><td> 5</td><td>A</td><td> 7</td><td> 5</td><td> 3</td><td> 2</td><td> 7</td><td>24</td><td>4.8</td></tr>\n",
       "\t<tr><td> 6</td><td>A</td><td> 8</td><td>10</td><td> 1</td><td> 2</td><td> 1</td><td>22</td><td>4.4</td></tr>\n",
       "\t<tr><td> 7</td><td>B</td><td> 2</td><td> 4</td><td> 4</td><td> 5</td><td> 4</td><td>19</td><td>3.8</td></tr>\n",
       "\t<tr><td> 8</td><td>C</td><td> 6</td><td>10</td><td>10</td><td> 7</td><td>10</td><td>43</td><td>8.6</td></tr>\n",
       "\t<tr><td> 9</td><td>C</td><td> 2</td><td>10</td><td> 1</td><td> 6</td><td>10</td><td>29</td><td>5.8</td></tr>\n",
       "\t<tr><td>10</td><td>C</td><td> 1</td><td> 6</td><td> 9</td><td> 5</td><td> 2</td><td>23</td><td>4.6</td></tr>\n",
       "\t<tr><td>11</td><td>A</td><td> 9</td><td> 7</td><td>10</td><td>10</td><td> 7</td><td>43</td><td>8.6</td></tr>\n",
       "\t<tr><td>12</td><td>B</td><td> 8</td><td> 9</td><td> 1</td><td> 2</td><td> 2</td><td>22</td><td>4.4</td></tr>\n",
       "\t<tr><td>13</td><td>B</td><td> 7</td><td> 1</td><td> 1</td><td> 2</td><td> 3</td><td>14</td><td>2.8</td></tr>\n",
       "\t<tr><td>14</td><td>B</td><td>10</td><td> 3</td><td> 2</td><td> 3</td><td> 9</td><td>27</td><td>5.4</td></tr>\n",
       "\t<tr><td>15</td><td>A</td><td> 4</td><td> 5</td><td> 9</td><td> 6</td><td> 4</td><td>28</td><td>5.6</td></tr>\n",
       "\t<tr><td>16</td><td>A</td><td> 8</td><td> 5</td><td> 7</td><td> 6</td><td> 8</td><td>34</td><td>6.8</td></tr>\n",
       "\t<tr><td>17</td><td>A</td><td> 8</td><td> 8</td><td> 8</td><td>10</td><td> 8</td><td>42</td><td>8.4</td></tr>\n",
       "\t<tr><td>18</td><td>C</td><td> 5</td><td> 7</td><td> 7</td><td>10</td><td> 2</td><td>31</td><td>6.2</td></tr>\n",
       "\t<tr><td>19</td><td>B</td><td> 5</td><td> 9</td><td> 8</td><td> 8</td><td> 6</td><td>36</td><td>7.2</td></tr>\n",
       "\t<tr><td>20</td><td>A</td><td> 7</td><td> 8</td><td> 2</td><td> 4</td><td> 7</td><td>28</td><td>5.6</td></tr>\n",
       "\t<tr><td>21</td><td>B</td><td> 1</td><td> 5</td><td>10</td><td> 7</td><td> 7</td><td>30</td><td>6.0</td></tr>\n",
       "\t<tr><td>22</td><td>C</td><td> 6</td><td> 7</td><td> 5</td><td> 2</td><td> 4</td><td>24</td><td>4.8</td></tr>\n",
       "\t<tr><td>23</td><td>C</td><td>10</td><td> 9</td><td> 7</td><td> 8</td><td> 8</td><td>42</td><td>8.4</td></tr>\n",
       "\t<tr><td>24</td><td>B</td><td> 4</td><td> 1</td><td> 5</td><td> 4</td><td> 3</td><td>17</td><td>3.4</td></tr>\n",
       "\t<tr><td>25</td><td>C</td><td> 5</td><td>10</td><td> 5</td><td> 4</td><td> 6</td><td>30</td><td>6.0</td></tr>\n",
       "\t<tr><td>26</td><td>B</td><td> 4</td><td> 6</td><td> 3</td><td> 5</td><td> 3</td><td>21</td><td>4.2</td></tr>\n",
       "\t<tr><td>27</td><td>A</td><td> 8</td><td> 8</td><td>10</td><td> 6</td><td>10</td><td>42</td><td>8.4</td></tr>\n",
       "\t<tr><td>28</td><td>C</td><td>10</td><td> 7</td><td> 3</td><td> 6</td><td> 6</td><td>32</td><td>6.4</td></tr>\n",
       "\t<tr><td>29</td><td>C</td><td> 9</td><td> 1</td><td> 5</td><td> 5</td><td> 9</td><td>29</td><td>5.8</td></tr>\n",
       "\t<tr><td>30</td><td>C</td><td> 8</td><td>10</td><td> 6</td><td> 4</td><td> 5</td><td>33</td><td>6.6</td></tr>\n",
       "</tbody>\n",
       "</table>\n"
      ],
      "text/latex": [
       "A rowwise\\_df: 30 × 9\n",
       "\\begin{tabular}{lllllllll}\n",
       " stud.id & group & ex1 & ex2 & ex3 & ex4 & ex5 & sum.scores & mean.scores\\\\\n",
       " <int> & <chr> & <int> & <int> & <int> & <int> & <int> & <int> & <dbl>\\\\\n",
       "\\hline\n",
       "\t  1 & B &  1 &  4 &  8 & 10 &  4 & 27 & 5.4\\\\\n",
       "\t  2 & A &  6 & 10 &  2 &  6 &  3 & 27 & 5.4\\\\\n",
       "\t  3 & B &  5 &  4 & 10 &  4 &  3 & 26 & 5.2\\\\\n",
       "\t  4 & B &  1 &  6 & 10 &  1 &  8 & 26 & 5.2\\\\\n",
       "\t  5 & A &  7 &  5 &  3 &  2 &  7 & 24 & 4.8\\\\\n",
       "\t  6 & A &  8 & 10 &  1 &  2 &  1 & 22 & 4.4\\\\\n",
       "\t  7 & B &  2 &  4 &  4 &  5 &  4 & 19 & 3.8\\\\\n",
       "\t  8 & C &  6 & 10 & 10 &  7 & 10 & 43 & 8.6\\\\\n",
       "\t  9 & C &  2 & 10 &  1 &  6 & 10 & 29 & 5.8\\\\\n",
       "\t 10 & C &  1 &  6 &  9 &  5 &  2 & 23 & 4.6\\\\\n",
       "\t 11 & A &  9 &  7 & 10 & 10 &  7 & 43 & 8.6\\\\\n",
       "\t 12 & B &  8 &  9 &  1 &  2 &  2 & 22 & 4.4\\\\\n",
       "\t 13 & B &  7 &  1 &  1 &  2 &  3 & 14 & 2.8\\\\\n",
       "\t 14 & B & 10 &  3 &  2 &  3 &  9 & 27 & 5.4\\\\\n",
       "\t 15 & A &  4 &  5 &  9 &  6 &  4 & 28 & 5.6\\\\\n",
       "\t 16 & A &  8 &  5 &  7 &  6 &  8 & 34 & 6.8\\\\\n",
       "\t 17 & A &  8 &  8 &  8 & 10 &  8 & 42 & 8.4\\\\\n",
       "\t 18 & C &  5 &  7 &  7 & 10 &  2 & 31 & 6.2\\\\\n",
       "\t 19 & B &  5 &  9 &  8 &  8 &  6 & 36 & 7.2\\\\\n",
       "\t 20 & A &  7 &  8 &  2 &  4 &  7 & 28 & 5.6\\\\\n",
       "\t 21 & B &  1 &  5 & 10 &  7 &  7 & 30 & 6.0\\\\\n",
       "\t 22 & C &  6 &  7 &  5 &  2 &  4 & 24 & 4.8\\\\\n",
       "\t 23 & C & 10 &  9 &  7 &  8 &  8 & 42 & 8.4\\\\\n",
       "\t 24 & B &  4 &  1 &  5 &  4 &  3 & 17 & 3.4\\\\\n",
       "\t 25 & C &  5 & 10 &  5 &  4 &  6 & 30 & 6.0\\\\\n",
       "\t 26 & B &  4 &  6 &  3 &  5 &  3 & 21 & 4.2\\\\\n",
       "\t 27 & A &  8 &  8 & 10 &  6 & 10 & 42 & 8.4\\\\\n",
       "\t 28 & C & 10 &  7 &  3 &  6 &  6 & 32 & 6.4\\\\\n",
       "\t 29 & C &  9 &  1 &  5 &  5 &  9 & 29 & 5.8\\\\\n",
       "\t 30 & C &  8 & 10 &  6 &  4 &  5 & 33 & 6.6\\\\\n",
       "\\end{tabular}\n"
      ],
      "text/markdown": [
       "\n",
       "A rowwise_df: 30 × 9\n",
       "\n",
       "| stud.id &lt;int&gt; | group &lt;chr&gt; | ex1 &lt;int&gt; | ex2 &lt;int&gt; | ex3 &lt;int&gt; | ex4 &lt;int&gt; | ex5 &lt;int&gt; | sum.scores &lt;int&gt; | mean.scores &lt;dbl&gt; |\n",
       "|---|---|---|---|---|---|---|---|---|\n",
       "|  1 | B |  1 |  4 |  8 | 10 |  4 | 27 | 5.4 |\n",
       "|  2 | A |  6 | 10 |  2 |  6 |  3 | 27 | 5.4 |\n",
       "|  3 | B |  5 |  4 | 10 |  4 |  3 | 26 | 5.2 |\n",
       "|  4 | B |  1 |  6 | 10 |  1 |  8 | 26 | 5.2 |\n",
       "|  5 | A |  7 |  5 |  3 |  2 |  7 | 24 | 4.8 |\n",
       "|  6 | A |  8 | 10 |  1 |  2 |  1 | 22 | 4.4 |\n",
       "|  7 | B |  2 |  4 |  4 |  5 |  4 | 19 | 3.8 |\n",
       "|  8 | C |  6 | 10 | 10 |  7 | 10 | 43 | 8.6 |\n",
       "|  9 | C |  2 | 10 |  1 |  6 | 10 | 29 | 5.8 |\n",
       "| 10 | C |  1 |  6 |  9 |  5 |  2 | 23 | 4.6 |\n",
       "| 11 | A |  9 |  7 | 10 | 10 |  7 | 43 | 8.6 |\n",
       "| 12 | B |  8 |  9 |  1 |  2 |  2 | 22 | 4.4 |\n",
       "| 13 | B |  7 |  1 |  1 |  2 |  3 | 14 | 2.8 |\n",
       "| 14 | B | 10 |  3 |  2 |  3 |  9 | 27 | 5.4 |\n",
       "| 15 | A |  4 |  5 |  9 |  6 |  4 | 28 | 5.6 |\n",
       "| 16 | A |  8 |  5 |  7 |  6 |  8 | 34 | 6.8 |\n",
       "| 17 | A |  8 |  8 |  8 | 10 |  8 | 42 | 8.4 |\n",
       "| 18 | C |  5 |  7 |  7 | 10 |  2 | 31 | 6.2 |\n",
       "| 19 | B |  5 |  9 |  8 |  8 |  6 | 36 | 7.2 |\n",
       "| 20 | A |  7 |  8 |  2 |  4 |  7 | 28 | 5.6 |\n",
       "| 21 | B |  1 |  5 | 10 |  7 |  7 | 30 | 6.0 |\n",
       "| 22 | C |  6 |  7 |  5 |  2 |  4 | 24 | 4.8 |\n",
       "| 23 | C | 10 |  9 |  7 |  8 |  8 | 42 | 8.4 |\n",
       "| 24 | B |  4 |  1 |  5 |  4 |  3 | 17 | 3.4 |\n",
       "| 25 | C |  5 | 10 |  5 |  4 |  6 | 30 | 6.0 |\n",
       "| 26 | B |  4 |  6 |  3 |  5 |  3 | 21 | 4.2 |\n",
       "| 27 | A |  8 |  8 | 10 |  6 | 10 | 42 | 8.4 |\n",
       "| 28 | C | 10 |  7 |  3 |  6 |  6 | 32 | 6.4 |\n",
       "| 29 | C |  9 |  1 |  5 |  5 |  9 | 29 | 5.8 |\n",
       "| 30 | C |  8 | 10 |  6 |  4 |  5 | 33 | 6.6 |\n",
       "\n"
      ],
      "text/plain": [
       "   stud.id group ex1 ex2 ex3 ex4 ex5 sum.scores mean.scores\n",
       "1   1      B      1   4   8  10   4  27         5.4        \n",
       "2   2      A      6  10   2   6   3  27         5.4        \n",
       "3   3      B      5   4  10   4   3  26         5.2        \n",
       "4   4      B      1   6  10   1   8  26         5.2        \n",
       "5   5      A      7   5   3   2   7  24         4.8        \n",
       "6   6      A      8  10   1   2   1  22         4.4        \n",
       "7   7      B      2   4   4   5   4  19         3.8        \n",
       "8   8      C      6  10  10   7  10  43         8.6        \n",
       "9   9      C      2  10   1   6  10  29         5.8        \n",
       "10 10      C      1   6   9   5   2  23         4.6        \n",
       "11 11      A      9   7  10  10   7  43         8.6        \n",
       "12 12      B      8   9   1   2   2  22         4.4        \n",
       "13 13      B      7   1   1   2   3  14         2.8        \n",
       "14 14      B     10   3   2   3   9  27         5.4        \n",
       "15 15      A      4   5   9   6   4  28         5.6        \n",
       "16 16      A      8   5   7   6   8  34         6.8        \n",
       "17 17      A      8   8   8  10   8  42         8.4        \n",
       "18 18      C      5   7   7  10   2  31         6.2        \n",
       "19 19      B      5   9   8   8   6  36         7.2        \n",
       "20 20      A      7   8   2   4   7  28         5.6        \n",
       "21 21      B      1   5  10   7   7  30         6.0        \n",
       "22 22      C      6   7   5   2   4  24         4.8        \n",
       "23 23      C     10   9   7   8   8  42         8.4        \n",
       "24 24      B      4   1   5   4   3  17         3.4        \n",
       "25 25      C      5  10   5   4   6  30         6.0        \n",
       "26 26      B      4   6   3   5   3  21         4.2        \n",
       "27 27      A      8   8  10   6  10  42         8.4        \n",
       "28 28      C     10   7   3   6   6  32         6.4        \n",
       "29 29      C      9   1   5   5   9  29         5.8        \n",
       "30 30      C      8  10   6   4   5  33         6.6        "
      ]
     },
     "metadata": {},
     "output_type": "display_data"
    }
   ],
   "source": [
    "df %>%  rowwise() %>% mutate( sum.scores=sum(c(ex1,ex2,ex3,ex4,ex5)),\n",
    "               mean.scores=mean(c(ex1,ex2,ex3,ex4,ex5))\n",
    "             )"
   ]
  },
  {
   "cell_type": "markdown",
   "id": "d5fbb37e",
   "metadata": {},
   "source": [
    " <h4 style=\"color:green;text-align:center\">Exercise 5</h4>"
   ]
  },
  {
   "cell_type": "code",
   "execution_count": 126,
   "id": "3048572f",
   "metadata": {
    "scrolled": false
   },
   "outputs": [
    {
     "name": "stderr",
     "output_type": "stream",
     "text": [
      "Installing package into ‘/home/jrana/R/x86_64-pc-linux-gnu-library/4.2’\n",
      "(as ‘lib’ is unspecified)\n",
      "\n"
     ]
    }
   ],
   "source": [
    "install.packages(\"nycflights13\")\n",
    "library(nycflights13)"
   ]
  },
  {
   "cell_type": "code",
   "execution_count": 127,
   "id": "407ffe47",
   "metadata": {},
   "outputs": [],
   "source": [
    "df<-flights"
   ]
  },
  {
   "cell_type": "markdown",
   "id": "92cd54d2",
   "metadata": {},
   "source": [
    "+ Load the libraries tidyverse and nycflight13 and inspect the vari-\n",
    "  able of flights."
   ]
  },
  {
   "cell_type": "code",
   "execution_count": 55,
   "id": "a4ab3318",
   "metadata": {
    "scrolled": true
   },
   "outputs": [
    {
     "data": {
      "text/html": [
       "<table class=\"dataframe\">\n",
       "<caption>A tibble: 10 × 19</caption>\n",
       "<thead>\n",
       "\t<tr><th scope=col>year</th><th scope=col>month</th><th scope=col>day</th><th scope=col>dep_time</th><th scope=col>sched_dep_time</th><th scope=col>dep_delay</th><th scope=col>arr_time</th><th scope=col>sched_arr_time</th><th scope=col>arr_delay</th><th scope=col>carrier</th><th scope=col>flight</th><th scope=col>tailnum</th><th scope=col>origin</th><th scope=col>dest</th><th scope=col>air_time</th><th scope=col>distance</th><th scope=col>hour</th><th scope=col>minute</th><th scope=col>time_hour</th></tr>\n",
       "\t<tr><th scope=col>&lt;int&gt;</th><th scope=col>&lt;int&gt;</th><th scope=col>&lt;int&gt;</th><th scope=col>&lt;int&gt;</th><th scope=col>&lt;int&gt;</th><th scope=col>&lt;dbl&gt;</th><th scope=col>&lt;int&gt;</th><th scope=col>&lt;int&gt;</th><th scope=col>&lt;dbl&gt;</th><th scope=col>&lt;chr&gt;</th><th scope=col>&lt;int&gt;</th><th scope=col>&lt;chr&gt;</th><th scope=col>&lt;chr&gt;</th><th scope=col>&lt;chr&gt;</th><th scope=col>&lt;dbl&gt;</th><th scope=col>&lt;dbl&gt;</th><th scope=col>&lt;dbl&gt;</th><th scope=col>&lt;dbl&gt;</th><th scope=col>&lt;dttm&gt;</th></tr>\n",
       "</thead>\n",
       "<tbody>\n",
       "\t<tr><td>2013</td><td>1</td><td>1</td><td>517</td><td>515</td><td> 2</td><td> 830</td><td> 819</td><td> 11</td><td>UA</td><td>1545</td><td>N14228</td><td>EWR</td><td>IAH</td><td>227</td><td>1400</td><td>5</td><td>15</td><td>2013-01-01 05:00:00</td></tr>\n",
       "\t<tr><td>2013</td><td>1</td><td>1</td><td>533</td><td>529</td><td> 4</td><td> 850</td><td> 830</td><td> 20</td><td>UA</td><td>1714</td><td>N24211</td><td>LGA</td><td>IAH</td><td>227</td><td>1416</td><td>5</td><td>29</td><td>2013-01-01 05:00:00</td></tr>\n",
       "\t<tr><td>2013</td><td>1</td><td>1</td><td>542</td><td>540</td><td> 2</td><td> 923</td><td> 850</td><td> 33</td><td>AA</td><td>1141</td><td>N619AA</td><td>JFK</td><td>MIA</td><td>160</td><td>1089</td><td>5</td><td>40</td><td>2013-01-01 05:00:00</td></tr>\n",
       "\t<tr><td>2013</td><td>1</td><td>1</td><td>544</td><td>545</td><td>-1</td><td>1004</td><td>1022</td><td>-18</td><td>B6</td><td> 725</td><td>N804JB</td><td>JFK</td><td>BQN</td><td>183</td><td>1576</td><td>5</td><td>45</td><td>2013-01-01 05:00:00</td></tr>\n",
       "\t<tr><td>2013</td><td>1</td><td>1</td><td>554</td><td>600</td><td>-6</td><td> 812</td><td> 837</td><td>-25</td><td>DL</td><td> 461</td><td>N668DN</td><td>LGA</td><td>ATL</td><td>116</td><td> 762</td><td>6</td><td> 0</td><td>2013-01-01 06:00:00</td></tr>\n",
       "\t<tr><td>2013</td><td>1</td><td>1</td><td>554</td><td>558</td><td>-4</td><td> 740</td><td> 728</td><td> 12</td><td>UA</td><td>1696</td><td>N39463</td><td>EWR</td><td>ORD</td><td>150</td><td> 719</td><td>5</td><td>58</td><td>2013-01-01 05:00:00</td></tr>\n",
       "\t<tr><td>2013</td><td>1</td><td>1</td><td>555</td><td>600</td><td>-5</td><td> 913</td><td> 854</td><td> 19</td><td>B6</td><td> 507</td><td>N516JB</td><td>EWR</td><td>FLL</td><td>158</td><td>1065</td><td>6</td><td> 0</td><td>2013-01-01 06:00:00</td></tr>\n",
       "\t<tr><td>2013</td><td>1</td><td>1</td><td>557</td><td>600</td><td>-3</td><td> 709</td><td> 723</td><td>-14</td><td>EV</td><td>5708</td><td>N829AS</td><td>LGA</td><td>IAD</td><td> 53</td><td> 229</td><td>6</td><td> 0</td><td>2013-01-01 06:00:00</td></tr>\n",
       "\t<tr><td>2013</td><td>1</td><td>1</td><td>557</td><td>600</td><td>-3</td><td> 838</td><td> 846</td><td> -8</td><td>B6</td><td>  79</td><td>N593JB</td><td>JFK</td><td>MCO</td><td>140</td><td> 944</td><td>6</td><td> 0</td><td>2013-01-01 06:00:00</td></tr>\n",
       "\t<tr><td>2013</td><td>1</td><td>1</td><td>558</td><td>600</td><td>-2</td><td> 753</td><td> 745</td><td>  8</td><td>AA</td><td> 301</td><td>N3ALAA</td><td>LGA</td><td>ORD</td><td>138</td><td> 733</td><td>6</td><td> 0</td><td>2013-01-01 06:00:00</td></tr>\n",
       "</tbody>\n",
       "</table>\n"
      ],
      "text/latex": [
       "A tibble: 10 × 19\n",
       "\\begin{tabular}{lllllllllllllllllll}\n",
       " year & month & day & dep\\_time & sched\\_dep\\_time & dep\\_delay & arr\\_time & sched\\_arr\\_time & arr\\_delay & carrier & flight & tailnum & origin & dest & air\\_time & distance & hour & minute & time\\_hour\\\\\n",
       " <int> & <int> & <int> & <int> & <int> & <dbl> & <int> & <int> & <dbl> & <chr> & <int> & <chr> & <chr> & <chr> & <dbl> & <dbl> & <dbl> & <dbl> & <dttm>\\\\\n",
       "\\hline\n",
       "\t 2013 & 1 & 1 & 517 & 515 &  2 &  830 &  819 &  11 & UA & 1545 & N14228 & EWR & IAH & 227 & 1400 & 5 & 15 & 2013-01-01 05:00:00\\\\\n",
       "\t 2013 & 1 & 1 & 533 & 529 &  4 &  850 &  830 &  20 & UA & 1714 & N24211 & LGA & IAH & 227 & 1416 & 5 & 29 & 2013-01-01 05:00:00\\\\\n",
       "\t 2013 & 1 & 1 & 542 & 540 &  2 &  923 &  850 &  33 & AA & 1141 & N619AA & JFK & MIA & 160 & 1089 & 5 & 40 & 2013-01-01 05:00:00\\\\\n",
       "\t 2013 & 1 & 1 & 544 & 545 & -1 & 1004 & 1022 & -18 & B6 &  725 & N804JB & JFK & BQN & 183 & 1576 & 5 & 45 & 2013-01-01 05:00:00\\\\\n",
       "\t 2013 & 1 & 1 & 554 & 600 & -6 &  812 &  837 & -25 & DL &  461 & N668DN & LGA & ATL & 116 &  762 & 6 &  0 & 2013-01-01 06:00:00\\\\\n",
       "\t 2013 & 1 & 1 & 554 & 558 & -4 &  740 &  728 &  12 & UA & 1696 & N39463 & EWR & ORD & 150 &  719 & 5 & 58 & 2013-01-01 05:00:00\\\\\n",
       "\t 2013 & 1 & 1 & 555 & 600 & -5 &  913 &  854 &  19 & B6 &  507 & N516JB & EWR & FLL & 158 & 1065 & 6 &  0 & 2013-01-01 06:00:00\\\\\n",
       "\t 2013 & 1 & 1 & 557 & 600 & -3 &  709 &  723 & -14 & EV & 5708 & N829AS & LGA & IAD &  53 &  229 & 6 &  0 & 2013-01-01 06:00:00\\\\\n",
       "\t 2013 & 1 & 1 & 557 & 600 & -3 &  838 &  846 &  -8 & B6 &   79 & N593JB & JFK & MCO & 140 &  944 & 6 &  0 & 2013-01-01 06:00:00\\\\\n",
       "\t 2013 & 1 & 1 & 558 & 600 & -2 &  753 &  745 &   8 & AA &  301 & N3ALAA & LGA & ORD & 138 &  733 & 6 &  0 & 2013-01-01 06:00:00\\\\\n",
       "\\end{tabular}\n"
      ],
      "text/markdown": [
       "\n",
       "A tibble: 10 × 19\n",
       "\n",
       "| year &lt;int&gt; | month &lt;int&gt; | day &lt;int&gt; | dep_time &lt;int&gt; | sched_dep_time &lt;int&gt; | dep_delay &lt;dbl&gt; | arr_time &lt;int&gt; | sched_arr_time &lt;int&gt; | arr_delay &lt;dbl&gt; | carrier &lt;chr&gt; | flight &lt;int&gt; | tailnum &lt;chr&gt; | origin &lt;chr&gt; | dest &lt;chr&gt; | air_time &lt;dbl&gt; | distance &lt;dbl&gt; | hour &lt;dbl&gt; | minute &lt;dbl&gt; | time_hour &lt;dttm&gt; |\n",
       "|---|---|---|---|---|---|---|---|---|---|---|---|---|---|---|---|---|---|---|\n",
       "| 2013 | 1 | 1 | 517 | 515 |  2 |  830 |  819 |  11 | UA | 1545 | N14228 | EWR | IAH | 227 | 1400 | 5 | 15 | 2013-01-01 05:00:00 |\n",
       "| 2013 | 1 | 1 | 533 | 529 |  4 |  850 |  830 |  20 | UA | 1714 | N24211 | LGA | IAH | 227 | 1416 | 5 | 29 | 2013-01-01 05:00:00 |\n",
       "| 2013 | 1 | 1 | 542 | 540 |  2 |  923 |  850 |  33 | AA | 1141 | N619AA | JFK | MIA | 160 | 1089 | 5 | 40 | 2013-01-01 05:00:00 |\n",
       "| 2013 | 1 | 1 | 544 | 545 | -1 | 1004 | 1022 | -18 | B6 |  725 | N804JB | JFK | BQN | 183 | 1576 | 5 | 45 | 2013-01-01 05:00:00 |\n",
       "| 2013 | 1 | 1 | 554 | 600 | -6 |  812 |  837 | -25 | DL |  461 | N668DN | LGA | ATL | 116 |  762 | 6 |  0 | 2013-01-01 06:00:00 |\n",
       "| 2013 | 1 | 1 | 554 | 558 | -4 |  740 |  728 |  12 | UA | 1696 | N39463 | EWR | ORD | 150 |  719 | 5 | 58 | 2013-01-01 05:00:00 |\n",
       "| 2013 | 1 | 1 | 555 | 600 | -5 |  913 |  854 |  19 | B6 |  507 | N516JB | EWR | FLL | 158 | 1065 | 6 |  0 | 2013-01-01 06:00:00 |\n",
       "| 2013 | 1 | 1 | 557 | 600 | -3 |  709 |  723 | -14 | EV | 5708 | N829AS | LGA | IAD |  53 |  229 | 6 |  0 | 2013-01-01 06:00:00 |\n",
       "| 2013 | 1 | 1 | 557 | 600 | -3 |  838 |  846 |  -8 | B6 |   79 | N593JB | JFK | MCO | 140 |  944 | 6 |  0 | 2013-01-01 06:00:00 |\n",
       "| 2013 | 1 | 1 | 558 | 600 | -2 |  753 |  745 |   8 | AA |  301 | N3ALAA | LGA | ORD | 138 |  733 | 6 |  0 | 2013-01-01 06:00:00 |\n",
       "\n"
      ],
      "text/plain": [
       "   year month day dep_time sched_dep_time dep_delay arr_time sched_arr_time\n",
       "1  2013 1     1   517      515             2         830      819          \n",
       "2  2013 1     1   533      529             4         850      830          \n",
       "3  2013 1     1   542      540             2         923      850          \n",
       "4  2013 1     1   544      545            -1        1004     1022          \n",
       "5  2013 1     1   554      600            -6         812      837          \n",
       "6  2013 1     1   554      558            -4         740      728          \n",
       "7  2013 1     1   555      600            -5         913      854          \n",
       "8  2013 1     1   557      600            -3         709      723          \n",
       "9  2013 1     1   557      600            -3         838      846          \n",
       "10 2013 1     1   558      600            -2         753      745          \n",
       "   arr_delay carrier flight tailnum origin dest air_time distance hour minute\n",
       "1   11       UA      1545   N14228  EWR    IAH  227      1400     5    15    \n",
       "2   20       UA      1714   N24211  LGA    IAH  227      1416     5    29    \n",
       "3   33       AA      1141   N619AA  JFK    MIA  160      1089     5    40    \n",
       "4  -18       B6       725   N804JB  JFK    BQN  183      1576     5    45    \n",
       "5  -25       DL       461   N668DN  LGA    ATL  116       762     6     0    \n",
       "6   12       UA      1696   N39463  EWR    ORD  150       719     5    58    \n",
       "7   19       B6       507   N516JB  EWR    FLL  158      1065     6     0    \n",
       "8  -14       EV      5708   N829AS  LGA    IAD   53       229     6     0    \n",
       "9   -8       B6        79   N593JB  JFK    MCO  140       944     6     0    \n",
       "10   8       AA       301   N3ALAA  LGA    ORD  138       733     6     0    \n",
       "   time_hour          \n",
       "1  2013-01-01 05:00:00\n",
       "2  2013-01-01 05:00:00\n",
       "3  2013-01-01 05:00:00\n",
       "4  2013-01-01 05:00:00\n",
       "5  2013-01-01 06:00:00\n",
       "6  2013-01-01 05:00:00\n",
       "7  2013-01-01 06:00:00\n",
       "8  2013-01-01 06:00:00\n",
       "9  2013-01-01 06:00:00\n",
       "10 2013-01-01 06:00:00"
      ]
     },
     "metadata": {},
     "output_type": "display_data"
    }
   ],
   "source": [
    "df %>% slice(1:10)"
   ]
  },
  {
   "cell_type": "code",
   "execution_count": 56,
   "id": "f2846beb",
   "metadata": {
    "scrolled": true
   },
   "outputs": [
    {
     "data": {
      "text/html": [
       "<style>\n",
       ".list-inline {list-style: none; margin:0; padding: 0}\n",
       ".list-inline>li {display: inline-block}\n",
       ".list-inline>li:not(:last-child)::after {content: \"\\00b7\"; padding: 0 .5ex}\n",
       "</style>\n",
       "<ol class=list-inline><li>336776</li><li>19</li></ol>\n"
      ],
      "text/latex": [
       "\\begin{enumerate*}\n",
       "\\item 336776\n",
       "\\item 19\n",
       "\\end{enumerate*}\n"
      ],
      "text/markdown": [
       "1. 336776\n",
       "2. 19\n",
       "\n",
       "\n"
      ],
      "text/plain": [
       "[1] 336776     19"
      ]
     },
     "metadata": {},
     "output_type": "display_data"
    }
   ],
   "source": [
    "dim(df)"
   ]
  },
  {
   "cell_type": "code",
   "execution_count": 57,
   "id": "d2b2be52",
   "metadata": {
    "scrolled": true
   },
   "outputs": [
    {
     "data": {
      "text/html": [
       "<style>\n",
       ".list-inline {list-style: none; margin:0; padding: 0}\n",
       ".list-inline>li {display: inline-block}\n",
       ".list-inline>li:not(:last-child)::after {content: \"\\00b7\"; padding: 0 .5ex}\n",
       "</style>\n",
       "<ol class=list-inline><li>'year'</li><li>'month'</li><li>'day'</li><li>'dep_time'</li><li>'sched_dep_time'</li><li>'dep_delay'</li><li>'arr_time'</li><li>'sched_arr_time'</li><li>'arr_delay'</li><li>'carrier'</li><li>'flight'</li><li>'tailnum'</li><li>'origin'</li><li>'dest'</li><li>'air_time'</li><li>'distance'</li><li>'hour'</li><li>'minute'</li><li>'time_hour'</li></ol>\n"
      ],
      "text/latex": [
       "\\begin{enumerate*}\n",
       "\\item 'year'\n",
       "\\item 'month'\n",
       "\\item 'day'\n",
       "\\item 'dep\\_time'\n",
       "\\item 'sched\\_dep\\_time'\n",
       "\\item 'dep\\_delay'\n",
       "\\item 'arr\\_time'\n",
       "\\item 'sched\\_arr\\_time'\n",
       "\\item 'arr\\_delay'\n",
       "\\item 'carrier'\n",
       "\\item 'flight'\n",
       "\\item 'tailnum'\n",
       "\\item 'origin'\n",
       "\\item 'dest'\n",
       "\\item 'air\\_time'\n",
       "\\item 'distance'\n",
       "\\item 'hour'\n",
       "\\item 'minute'\n",
       "\\item 'time\\_hour'\n",
       "\\end{enumerate*}\n"
      ],
      "text/markdown": [
       "1. 'year'\n",
       "2. 'month'\n",
       "3. 'day'\n",
       "4. 'dep_time'\n",
       "5. 'sched_dep_time'\n",
       "6. 'dep_delay'\n",
       "7. 'arr_time'\n",
       "8. 'sched_arr_time'\n",
       "9. 'arr_delay'\n",
       "10. 'carrier'\n",
       "11. 'flight'\n",
       "12. 'tailnum'\n",
       "13. 'origin'\n",
       "14. 'dest'\n",
       "15. 'air_time'\n",
       "16. 'distance'\n",
       "17. 'hour'\n",
       "18. 'minute'\n",
       "19. 'time_hour'\n",
       "\n",
       "\n"
      ],
      "text/plain": [
       " [1] \"year\"           \"month\"          \"day\"            \"dep_time\"      \n",
       " [5] \"sched_dep_time\" \"dep_delay\"      \"arr_time\"       \"sched_arr_time\"\n",
       " [9] \"arr_delay\"      \"carrier\"        \"flight\"         \"tailnum\"       \n",
       "[13] \"origin\"         \"dest\"           \"air_time\"       \"distance\"      \n",
       "[17] \"hour\"           \"minute\"         \"time_hour\"     "
      ]
     },
     "metadata": {},
     "output_type": "display_data"
    }
   ],
   "source": [
    "names(df)"
   ]
  },
  {
   "cell_type": "markdown",
   "id": "b16d3da1",
   "metadata": {},
   "source": [
    "## check for null values"
   ]
  },
  {
   "cell_type": "code",
   "execution_count": 58,
   "id": "6622c468",
   "metadata": {
    "scrolled": true
   },
   "outputs": [
    {
     "data": {
      "text/html": [
       "<style>\n",
       ".dl-inline {width: auto; margin:0; padding: 0}\n",
       ".dl-inline>dt, .dl-inline>dd {float: none; width: auto; display: inline-block}\n",
       ".dl-inline>dt::after {content: \":\\0020\"; padding-right: .5ex}\n",
       ".dl-inline>dt:not(:first-of-type) {padding-left: .5ex}\n",
       "</style><dl class=dl-inline><dt>year</dt><dd>0</dd><dt>month</dt><dd>0</dd><dt>day</dt><dd>0</dd><dt>dep_time</dt><dd>8255</dd><dt>sched_dep_time</dt><dd>0</dd><dt>dep_delay</dt><dd>8255</dd><dt>arr_time</dt><dd>8713</dd><dt>sched_arr_time</dt><dd>0</dd><dt>arr_delay</dt><dd>9430</dd><dt>carrier</dt><dd>0</dd><dt>flight</dt><dd>0</dd><dt>tailnum</dt><dd>2512</dd><dt>origin</dt><dd>0</dd><dt>dest</dt><dd>0</dd><dt>air_time</dt><dd>9430</dd><dt>distance</dt><dd>0</dd><dt>hour</dt><dd>0</dd><dt>minute</dt><dd>0</dd><dt>time_hour</dt><dd>0</dd></dl>\n"
      ],
      "text/latex": [
       "\\begin{description*}\n",
       "\\item[year] 0\n",
       "\\item[month] 0\n",
       "\\item[day] 0\n",
       "\\item[dep\\textbackslash{}\\_time] 8255\n",
       "\\item[sched\\textbackslash{}\\_dep\\textbackslash{}\\_time] 0\n",
       "\\item[dep\\textbackslash{}\\_delay] 8255\n",
       "\\item[arr\\textbackslash{}\\_time] 8713\n",
       "\\item[sched\\textbackslash{}\\_arr\\textbackslash{}\\_time] 0\n",
       "\\item[arr\\textbackslash{}\\_delay] 9430\n",
       "\\item[carrier] 0\n",
       "\\item[flight] 0\n",
       "\\item[tailnum] 2512\n",
       "\\item[origin] 0\n",
       "\\item[dest] 0\n",
       "\\item[air\\textbackslash{}\\_time] 9430\n",
       "\\item[distance] 0\n",
       "\\item[hour] 0\n",
       "\\item[minute] 0\n",
       "\\item[time\\textbackslash{}\\_hour] 0\n",
       "\\end{description*}\n"
      ],
      "text/markdown": [
       "year\n",
       ":   0month\n",
       ":   0day\n",
       ":   0dep_time\n",
       ":   8255sched_dep_time\n",
       ":   0dep_delay\n",
       ":   8255arr_time\n",
       ":   8713sched_arr_time\n",
       ":   0arr_delay\n",
       ":   9430carrier\n",
       ":   0flight\n",
       ":   0tailnum\n",
       ":   2512origin\n",
       ":   0dest\n",
       ":   0air_time\n",
       ":   9430distance\n",
       ":   0hour\n",
       ":   0minute\n",
       ":   0time_hour\n",
       ":   0\n",
       "\n"
      ],
      "text/plain": [
       "          year          month            day       dep_time sched_dep_time \n",
       "             0              0              0           8255              0 \n",
       "     dep_delay       arr_time sched_arr_time      arr_delay        carrier \n",
       "          8255           8713              0           9430              0 \n",
       "        flight        tailnum         origin           dest       air_time \n",
       "             0           2512              0              0           9430 \n",
       "      distance           hour         minute      time_hour \n",
       "             0              0              0              0 "
      ]
     },
     "metadata": {},
     "output_type": "display_data"
    }
   ],
   "source": [
    "colSums(is.na(df))"
   ]
  },
  {
   "cell_type": "code",
   "execution_count": 59,
   "id": "d6bf7a88",
   "metadata": {
    "scrolled": true
   },
   "outputs": [
    {
     "data": {
      "text/html": [
       "0"
      ],
      "text/latex": [
       "0"
      ],
      "text/markdown": [
       "0"
      ],
      "text/plain": [
       "[1] 0"
      ]
     },
     "metadata": {},
     "output_type": "display_data"
    }
   ],
   "source": [
    "sum(is.na(df$year))"
   ]
  },
  {
   "cell_type": "code",
   "execution_count": 60,
   "id": "b41e7f9b",
   "metadata": {
    "scrolled": true
   },
   "outputs": [
    {
     "data": {
      "text/html": [
       "9430"
      ],
      "text/latex": [
       "9430"
      ],
      "text/markdown": [
       "9430"
      ],
      "text/plain": [
       "[1] 9430"
      ]
     },
     "metadata": {},
     "output_type": "display_data"
    }
   ],
   "source": [
    "sum(is.na(df$air_time))\n"
   ]
  },
  {
   "cell_type": "code",
   "execution_count": 61,
   "id": "c12b40cf",
   "metadata": {
    "scrolled": true
   },
   "outputs": [
    {
     "name": "stdout",
     "output_type": "stream",
     "text": [
      "tibble [336,776 × 19] (S3: tbl_df/tbl/data.frame)\n",
      " $ year          : int [1:336776] 2013 2013 2013 2013 2013 2013 2013 2013 2013 2013 ...\n",
      " $ month         : int [1:336776] 1 1 1 1 1 1 1 1 1 1 ...\n",
      " $ day           : int [1:336776] 1 1 1 1 1 1 1 1 1 1 ...\n",
      " $ dep_time      : int [1:336776] 517 533 542 544 554 554 555 557 557 558 ...\n",
      " $ sched_dep_time: int [1:336776] 515 529 540 545 600 558 600 600 600 600 ...\n",
      " $ dep_delay     : num [1:336776] 2 4 2 -1 -6 -4 -5 -3 -3 -2 ...\n",
      " $ arr_time      : int [1:336776] 830 850 923 1004 812 740 913 709 838 753 ...\n",
      " $ sched_arr_time: int [1:336776] 819 830 850 1022 837 728 854 723 846 745 ...\n",
      " $ arr_delay     : num [1:336776] 11 20 33 -18 -25 12 19 -14 -8 8 ...\n",
      " $ carrier       : chr [1:336776] \"UA\" \"UA\" \"AA\" \"B6\" ...\n",
      " $ flight        : int [1:336776] 1545 1714 1141 725 461 1696 507 5708 79 301 ...\n",
      " $ tailnum       : chr [1:336776] \"N14228\" \"N24211\" \"N619AA\" \"N804JB\" ...\n",
      " $ origin        : chr [1:336776] \"EWR\" \"LGA\" \"JFK\" \"JFK\" ...\n",
      " $ dest          : chr [1:336776] \"IAH\" \"IAH\" \"MIA\" \"BQN\" ...\n",
      " $ air_time      : num [1:336776] 227 227 160 183 116 150 158 53 140 138 ...\n",
      " $ distance      : num [1:336776] 1400 1416 1089 1576 762 ...\n",
      " $ hour          : num [1:336776] 5 5 5 5 6 5 6 6 6 6 ...\n",
      " $ minute        : num [1:336776] 15 29 40 45 0 58 0 0 0 0 ...\n",
      " $ time_hour     : POSIXct[1:336776], format: \"2013-01-01 05:00:00\" \"2013-01-01 05:00:00\" ...\n",
      "NULL\n"
     ]
    }
   ],
   "source": [
    "print(str(df))"
   ]
  },
  {
   "cell_type": "code",
   "execution_count": 62,
   "id": "2d1cf412",
   "metadata": {
    "scrolled": true
   },
   "outputs": [
    {
     "data": {
      "text/html": [
       "<table class=\"dataframe\">\n",
       "<caption>A tibble: 16 × 2</caption>\n",
       "<thead>\n",
       "\t<tr><th scope=col>.</th><th scope=col>n</th></tr>\n",
       "\t<tr><th scope=col>&lt;chr&gt;</th><th scope=col>&lt;int&gt;</th></tr>\n",
       "</thead>\n",
       "<tbody>\n",
       "\t<tr><td>9E</td><td>18460</td></tr>\n",
       "\t<tr><td>AA</td><td>32729</td></tr>\n",
       "\t<tr><td>AS</td><td>  714</td></tr>\n",
       "\t<tr><td>B6</td><td>54635</td></tr>\n",
       "\t<tr><td>DL</td><td>48110</td></tr>\n",
       "\t<tr><td>EV</td><td>54173</td></tr>\n",
       "\t<tr><td>F9</td><td>  685</td></tr>\n",
       "\t<tr><td>FL</td><td> 3260</td></tr>\n",
       "\t<tr><td>HA</td><td>  342</td></tr>\n",
       "\t<tr><td>MQ</td><td>26397</td></tr>\n",
       "\t<tr><td>OO</td><td>   32</td></tr>\n",
       "\t<tr><td>UA</td><td>58665</td></tr>\n",
       "\t<tr><td>US</td><td>20536</td></tr>\n",
       "\t<tr><td>VX</td><td> 5162</td></tr>\n",
       "\t<tr><td>WN</td><td>12275</td></tr>\n",
       "\t<tr><td>YV</td><td>  601</td></tr>\n",
       "</tbody>\n",
       "</table>\n"
      ],
      "text/latex": [
       "A tibble: 16 × 2\n",
       "\\begin{tabular}{ll}\n",
       " . & n\\\\\n",
       " <chr> & <int>\\\\\n",
       "\\hline\n",
       "\t 9E & 18460\\\\\n",
       "\t AA & 32729\\\\\n",
       "\t AS &   714\\\\\n",
       "\t B6 & 54635\\\\\n",
       "\t DL & 48110\\\\\n",
       "\t EV & 54173\\\\\n",
       "\t F9 &   685\\\\\n",
       "\t FL &  3260\\\\\n",
       "\t HA &   342\\\\\n",
       "\t MQ & 26397\\\\\n",
       "\t OO &    32\\\\\n",
       "\t UA & 58665\\\\\n",
       "\t US & 20536\\\\\n",
       "\t VX &  5162\\\\\n",
       "\t WN & 12275\\\\\n",
       "\t YV &   601\\\\\n",
       "\\end{tabular}\n"
      ],
      "text/markdown": [
       "\n",
       "A tibble: 16 × 2\n",
       "\n",
       "| . &lt;chr&gt; | n &lt;int&gt; |\n",
       "|---|---|\n",
       "| 9E | 18460 |\n",
       "| AA | 32729 |\n",
       "| AS |   714 |\n",
       "| B6 | 54635 |\n",
       "| DL | 48110 |\n",
       "| EV | 54173 |\n",
       "| F9 |   685 |\n",
       "| FL |  3260 |\n",
       "| HA |   342 |\n",
       "| MQ | 26397 |\n",
       "| OO |    32 |\n",
       "| UA | 58665 |\n",
       "| US | 20536 |\n",
       "| VX |  5162 |\n",
       "| WN | 12275 |\n",
       "| YV |   601 |\n",
       "\n"
      ],
      "text/plain": [
       "   .  n    \n",
       "1  9E 18460\n",
       "2  AA 32729\n",
       "3  AS   714\n",
       "4  B6 54635\n",
       "5  DL 48110\n",
       "6  EV 54173\n",
       "7  F9   685\n",
       "8  FL  3260\n",
       "9  HA   342\n",
       "10 MQ 26397\n",
       "11 OO    32\n",
       "12 UA 58665\n",
       "13 US 20536\n",
       "14 VX  5162\n",
       "15 WN 12275\n",
       "16 YV   601"
      ]
     },
     "metadata": {},
     "output_type": "display_data"
    }
   ],
   "source": [
    "df$carrier %>% table() %>% as_tibble()"
   ]
  },
  {
   "cell_type": "markdown",
   "id": "958abb09",
   "metadata": {},
   "source": [
    "+ Find all flights with more than 2 hours arrival delay."
   ]
  },
  {
   "cell_type": "code",
   "execution_count": 63,
   "id": "a04470d8",
   "metadata": {
    "scrolled": true
   },
   "outputs": [
    {
     "data": {
      "text/html": [
       "<table class=\"dataframe\">\n",
       "<caption>A tibble: 19464 × 1</caption>\n",
       "<thead>\n",
       "\t<tr><th scope=col>value</th></tr>\n",
       "\t<tr><th scope=col>&lt;dbl&gt;</th></tr>\n",
       "</thead>\n",
       "<tbody>\n",
       "\t<tr><td>137</td></tr>\n",
       "\t<tr><td>851</td></tr>\n",
       "\t<tr><td>123</td></tr>\n",
       "\t<tr><td>145</td></tr>\n",
       "\t<tr><td>127</td></tr>\n",
       "\t<tr><td>125</td></tr>\n",
       "\t<tr><td> NA</td></tr>\n",
       "\t<tr><td> NA</td></tr>\n",
       "\t<tr><td>136</td></tr>\n",
       "\t<tr><td>123</td></tr>\n",
       "\t<tr><td>123</td></tr>\n",
       "\t<tr><td> NA</td></tr>\n",
       "\t<tr><td>138</td></tr>\n",
       "\t<tr><td> NA</td></tr>\n",
       "\t<tr><td>338</td></tr>\n",
       "\t<tr><td>263</td></tr>\n",
       "\t<tr><td>127</td></tr>\n",
       "\t<tr><td>151</td></tr>\n",
       "\t<tr><td>166</td></tr>\n",
       "\t<tr><td> NA</td></tr>\n",
       "\t<tr><td>174</td></tr>\n",
       "\t<tr><td> NA</td></tr>\n",
       "\t<tr><td>222</td></tr>\n",
       "\t<tr><td>123</td></tr>\n",
       "\t<tr><td> NA</td></tr>\n",
       "\t<tr><td>250</td></tr>\n",
       "\t<tr><td>142</td></tr>\n",
       "\t<tr><td>246</td></tr>\n",
       "\t<tr><td>127</td></tr>\n",
       "\t<tr><td>191</td></tr>\n",
       "\t<tr><td>⋮</td></tr>\n",
       "\t<tr><td> NA</td></tr>\n",
       "\t<tr><td> NA</td></tr>\n",
       "\t<tr><td>134</td></tr>\n",
       "\t<tr><td>137</td></tr>\n",
       "\t<tr><td>208</td></tr>\n",
       "\t<tr><td> NA</td></tr>\n",
       "\t<tr><td>236</td></tr>\n",
       "\t<tr><td>181</td></tr>\n",
       "\t<tr><td>141</td></tr>\n",
       "\t<tr><td>124</td></tr>\n",
       "\t<tr><td>183</td></tr>\n",
       "\t<tr><td> NA</td></tr>\n",
       "\t<tr><td> NA</td></tr>\n",
       "\t<tr><td> NA</td></tr>\n",
       "\t<tr><td> NA</td></tr>\n",
       "\t<tr><td>131</td></tr>\n",
       "\t<tr><td>129</td></tr>\n",
       "\t<tr><td>272</td></tr>\n",
       "\t<tr><td>137</td></tr>\n",
       "\t<tr><td>121</td></tr>\n",
       "\t<tr><td>174</td></tr>\n",
       "\t<tr><td>136</td></tr>\n",
       "\t<tr><td>194</td></tr>\n",
       "\t<tr><td>130</td></tr>\n",
       "\t<tr><td> NA</td></tr>\n",
       "\t<tr><td> NA</td></tr>\n",
       "\t<tr><td> NA</td></tr>\n",
       "\t<tr><td> NA</td></tr>\n",
       "\t<tr><td> NA</td></tr>\n",
       "\t<tr><td> NA</td></tr>\n",
       "</tbody>\n",
       "</table>\n"
      ],
      "text/latex": [
       "A tibble: 19464 × 1\n",
       "\\begin{tabular}{l}\n",
       " value\\\\\n",
       " <dbl>\\\\\n",
       "\\hline\n",
       "\t 137\\\\\n",
       "\t 851\\\\\n",
       "\t 123\\\\\n",
       "\t 145\\\\\n",
       "\t 127\\\\\n",
       "\t 125\\\\\n",
       "\t  NA\\\\\n",
       "\t  NA\\\\\n",
       "\t 136\\\\\n",
       "\t 123\\\\\n",
       "\t 123\\\\\n",
       "\t  NA\\\\\n",
       "\t 138\\\\\n",
       "\t  NA\\\\\n",
       "\t 338\\\\\n",
       "\t 263\\\\\n",
       "\t 127\\\\\n",
       "\t 151\\\\\n",
       "\t 166\\\\\n",
       "\t  NA\\\\\n",
       "\t 174\\\\\n",
       "\t  NA\\\\\n",
       "\t 222\\\\\n",
       "\t 123\\\\\n",
       "\t  NA\\\\\n",
       "\t 250\\\\\n",
       "\t 142\\\\\n",
       "\t 246\\\\\n",
       "\t 127\\\\\n",
       "\t 191\\\\\n",
       "\t ⋮\\\\\n",
       "\t  NA\\\\\n",
       "\t  NA\\\\\n",
       "\t 134\\\\\n",
       "\t 137\\\\\n",
       "\t 208\\\\\n",
       "\t  NA\\\\\n",
       "\t 236\\\\\n",
       "\t 181\\\\\n",
       "\t 141\\\\\n",
       "\t 124\\\\\n",
       "\t 183\\\\\n",
       "\t  NA\\\\\n",
       "\t  NA\\\\\n",
       "\t  NA\\\\\n",
       "\t  NA\\\\\n",
       "\t 131\\\\\n",
       "\t 129\\\\\n",
       "\t 272\\\\\n",
       "\t 137\\\\\n",
       "\t 121\\\\\n",
       "\t 174\\\\\n",
       "\t 136\\\\\n",
       "\t 194\\\\\n",
       "\t 130\\\\\n",
       "\t  NA\\\\\n",
       "\t  NA\\\\\n",
       "\t  NA\\\\\n",
       "\t  NA\\\\\n",
       "\t  NA\\\\\n",
       "\t  NA\\\\\n",
       "\\end{tabular}\n"
      ],
      "text/markdown": [
       "\n",
       "A tibble: 19464 × 1\n",
       "\n",
       "| value &lt;dbl&gt; |\n",
       "|---|\n",
       "| 137 |\n",
       "| 851 |\n",
       "| 123 |\n",
       "| 145 |\n",
       "| 127 |\n",
       "| 125 |\n",
       "|  NA |\n",
       "|  NA |\n",
       "| 136 |\n",
       "| 123 |\n",
       "| 123 |\n",
       "|  NA |\n",
       "| 138 |\n",
       "|  NA |\n",
       "| 338 |\n",
       "| 263 |\n",
       "| 127 |\n",
       "| 151 |\n",
       "| 166 |\n",
       "|  NA |\n",
       "| 174 |\n",
       "|  NA |\n",
       "| 222 |\n",
       "| 123 |\n",
       "|  NA |\n",
       "| 250 |\n",
       "| 142 |\n",
       "| 246 |\n",
       "| 127 |\n",
       "| 191 |\n",
       "| ⋮ |\n",
       "|  NA |\n",
       "|  NA |\n",
       "| 134 |\n",
       "| 137 |\n",
       "| 208 |\n",
       "|  NA |\n",
       "| 236 |\n",
       "| 181 |\n",
       "| 141 |\n",
       "| 124 |\n",
       "| 183 |\n",
       "|  NA |\n",
       "|  NA |\n",
       "|  NA |\n",
       "|  NA |\n",
       "| 131 |\n",
       "| 129 |\n",
       "| 272 |\n",
       "| 137 |\n",
       "| 121 |\n",
       "| 174 |\n",
       "| 136 |\n",
       "| 194 |\n",
       "| 130 |\n",
       "|  NA |\n",
       "|  NA |\n",
       "|  NA |\n",
       "|  NA |\n",
       "|  NA |\n",
       "|  NA |\n",
       "\n"
      ],
      "text/plain": [
       "      value\n",
       "1     137  \n",
       "2     851  \n",
       "3     123  \n",
       "4     145  \n",
       "5     127  \n",
       "6     125  \n",
       "7      NA  \n",
       "8      NA  \n",
       "9     136  \n",
       "10    123  \n",
       "11    123  \n",
       "12     NA  \n",
       "13    138  \n",
       "14     NA  \n",
       "15    338  \n",
       "16    263  \n",
       "17    127  \n",
       "18    151  \n",
       "19    166  \n",
       "20     NA  \n",
       "21    174  \n",
       "22     NA  \n",
       "23    222  \n",
       "24    123  \n",
       "25     NA  \n",
       "26    250  \n",
       "27    142  \n",
       "28    246  \n",
       "29    127  \n",
       "30    191  \n",
       "⋮     ⋮    \n",
       "19435  NA  \n",
       "19436  NA  \n",
       "19437 134  \n",
       "19438 137  \n",
       "19439 208  \n",
       "19440  NA  \n",
       "19441 236  \n",
       "19442 181  \n",
       "19443 141  \n",
       "19444 124  \n",
       "19445 183  \n",
       "19446  NA  \n",
       "19447  NA  \n",
       "19448  NA  \n",
       "19449  NA  \n",
       "19450 131  \n",
       "19451 129  \n",
       "19452 272  \n",
       "19453 137  \n",
       "19454 121  \n",
       "19455 174  \n",
       "19456 136  \n",
       "19457 194  \n",
       "19458 130  \n",
       "19459  NA  \n",
       "19460  NA  \n",
       "19461  NA  \n",
       "19462  NA  \n",
       "19463  NA  \n",
       "19464  NA  "
      ]
     },
     "metadata": {},
     "output_type": "display_data"
    }
   ],
   "source": [
    "df$arr_delay[df$arr_delay>2*60] %>% as_tibble()"
   ]
  },
  {
   "cell_type": "code",
   "execution_count": 64,
   "id": "db8c0615",
   "metadata": {
    "scrolled": true
   },
   "outputs": [
    {
     "data": {
      "text/html": [
       "<table class=\"dataframe\">\n",
       "<caption>A tibble: 10 × 19</caption>\n",
       "<thead>\n",
       "\t<tr><th scope=col>year</th><th scope=col>month</th><th scope=col>day</th><th scope=col>dep_time</th><th scope=col>sched_dep_time</th><th scope=col>dep_delay</th><th scope=col>arr_time</th><th scope=col>sched_arr_time</th><th scope=col>arr_delay</th><th scope=col>carrier</th><th scope=col>flight</th><th scope=col>tailnum</th><th scope=col>origin</th><th scope=col>dest</th><th scope=col>air_time</th><th scope=col>distance</th><th scope=col>hour</th><th scope=col>minute</th><th scope=col>time_hour</th></tr>\n",
       "\t<tr><th scope=col>&lt;int&gt;</th><th scope=col>&lt;int&gt;</th><th scope=col>&lt;int&gt;</th><th scope=col>&lt;int&gt;</th><th scope=col>&lt;int&gt;</th><th scope=col>&lt;dbl&gt;</th><th scope=col>&lt;int&gt;</th><th scope=col>&lt;int&gt;</th><th scope=col>&lt;dbl&gt;</th><th scope=col>&lt;chr&gt;</th><th scope=col>&lt;int&gt;</th><th scope=col>&lt;chr&gt;</th><th scope=col>&lt;chr&gt;</th><th scope=col>&lt;chr&gt;</th><th scope=col>&lt;dbl&gt;</th><th scope=col>&lt;dbl&gt;</th><th scope=col>&lt;dbl&gt;</th><th scope=col>&lt;dbl&gt;</th><th scope=col>&lt;dttm&gt;</th></tr>\n",
       "</thead>\n",
       "<tbody>\n",
       "\t<tr><td>2013</td><td>1</td><td>1</td><td> 811</td><td> 630</td><td>101</td><td>1047</td><td> 830</td><td>137</td><td>MQ</td><td>4576</td><td>N531MQ</td><td>LGA</td><td>CLT</td><td>118</td><td> 544</td><td> 6</td><td>30</td><td>2013-01-01 06:00:00</td></tr>\n",
       "\t<tr><td>2013</td><td>1</td><td>1</td><td> 848</td><td>1835</td><td>853</td><td>1001</td><td>1950</td><td>851</td><td>MQ</td><td>3944</td><td>N942MQ</td><td>JFK</td><td>BWI</td><td> 41</td><td> 184</td><td>18</td><td>35</td><td>2013-01-01 18:00:00</td></tr>\n",
       "\t<tr><td>2013</td><td>1</td><td>1</td><td> 957</td><td> 733</td><td>144</td><td>1056</td><td> 853</td><td>123</td><td>UA</td><td> 856</td><td>N534UA</td><td>EWR</td><td>BOS</td><td> 37</td><td> 200</td><td> 7</td><td>33</td><td>2013-01-01 07:00:00</td></tr>\n",
       "\t<tr><td>2013</td><td>1</td><td>1</td><td>1114</td><td> 900</td><td>134</td><td>1447</td><td>1222</td><td>145</td><td>UA</td><td>1086</td><td>N76502</td><td>LGA</td><td>IAH</td><td>248</td><td>1416</td><td> 9</td><td> 0</td><td>2013-01-01 09:00:00</td></tr>\n",
       "\t<tr><td>2013</td><td>1</td><td>1</td><td>1505</td><td>1310</td><td>115</td><td>1638</td><td>1431</td><td>127</td><td>EV</td><td>4497</td><td>N17984</td><td>EWR</td><td>RIC</td><td> 63</td><td> 277</td><td>13</td><td>10</td><td>2013-01-01 13:00:00</td></tr>\n",
       "\t<tr><td>2013</td><td>1</td><td>1</td><td>1525</td><td>1340</td><td>105</td><td>1831</td><td>1626</td><td>125</td><td>B6</td><td> 525</td><td>N231JB</td><td>EWR</td><td>MCO</td><td>152</td><td> 937</td><td>13</td><td>40</td><td>2013-01-01 13:00:00</td></tr>\n",
       "\t<tr><td>2013</td><td>1</td><td>1</td><td>1549</td><td>1445</td><td> 64</td><td>1912</td><td>1656</td><td>136</td><td>EV</td><td>4181</td><td>N21197</td><td>EWR</td><td>MCI</td><td>234</td><td>1092</td><td>14</td><td>45</td><td>2013-01-01 14:00:00</td></tr>\n",
       "\t<tr><td>2013</td><td>1</td><td>1</td><td>1558</td><td>1359</td><td>119</td><td>1718</td><td>1515</td><td>123</td><td>EV</td><td>5712</td><td>N826AS</td><td>JFK</td><td>IAD</td><td> 53</td><td> 228</td><td>13</td><td>59</td><td>2013-01-01 13:00:00</td></tr>\n",
       "\t<tr><td>2013</td><td>1</td><td>1</td><td>1732</td><td>1630</td><td> 62</td><td>2028</td><td>1825</td><td>123</td><td>EV</td><td>4092</td><td>N16911</td><td>EWR</td><td>DAY</td><td>119</td><td> 533</td><td>16</td><td>30</td><td>2013-01-01 16:00:00</td></tr>\n",
       "\t<tr><td>2013</td><td>1</td><td>1</td><td>1803</td><td>1620</td><td>103</td><td>2008</td><td>1750</td><td>138</td><td>MQ</td><td>4622</td><td>N504MQ</td><td>LGA</td><td>BNA</td><td>154</td><td> 764</td><td>16</td><td>20</td><td>2013-01-01 16:00:00</td></tr>\n",
       "</tbody>\n",
       "</table>\n"
      ],
      "text/latex": [
       "A tibble: 10 × 19\n",
       "\\begin{tabular}{lllllllllllllllllll}\n",
       " year & month & day & dep\\_time & sched\\_dep\\_time & dep\\_delay & arr\\_time & sched\\_arr\\_time & arr\\_delay & carrier & flight & tailnum & origin & dest & air\\_time & distance & hour & minute & time\\_hour\\\\\n",
       " <int> & <int> & <int> & <int> & <int> & <dbl> & <int> & <int> & <dbl> & <chr> & <int> & <chr> & <chr> & <chr> & <dbl> & <dbl> & <dbl> & <dbl> & <dttm>\\\\\n",
       "\\hline\n",
       "\t 2013 & 1 & 1 &  811 &  630 & 101 & 1047 &  830 & 137 & MQ & 4576 & N531MQ & LGA & CLT & 118 &  544 &  6 & 30 & 2013-01-01 06:00:00\\\\\n",
       "\t 2013 & 1 & 1 &  848 & 1835 & 853 & 1001 & 1950 & 851 & MQ & 3944 & N942MQ & JFK & BWI &  41 &  184 & 18 & 35 & 2013-01-01 18:00:00\\\\\n",
       "\t 2013 & 1 & 1 &  957 &  733 & 144 & 1056 &  853 & 123 & UA &  856 & N534UA & EWR & BOS &  37 &  200 &  7 & 33 & 2013-01-01 07:00:00\\\\\n",
       "\t 2013 & 1 & 1 & 1114 &  900 & 134 & 1447 & 1222 & 145 & UA & 1086 & N76502 & LGA & IAH & 248 & 1416 &  9 &  0 & 2013-01-01 09:00:00\\\\\n",
       "\t 2013 & 1 & 1 & 1505 & 1310 & 115 & 1638 & 1431 & 127 & EV & 4497 & N17984 & EWR & RIC &  63 &  277 & 13 & 10 & 2013-01-01 13:00:00\\\\\n",
       "\t 2013 & 1 & 1 & 1525 & 1340 & 105 & 1831 & 1626 & 125 & B6 &  525 & N231JB & EWR & MCO & 152 &  937 & 13 & 40 & 2013-01-01 13:00:00\\\\\n",
       "\t 2013 & 1 & 1 & 1549 & 1445 &  64 & 1912 & 1656 & 136 & EV & 4181 & N21197 & EWR & MCI & 234 & 1092 & 14 & 45 & 2013-01-01 14:00:00\\\\\n",
       "\t 2013 & 1 & 1 & 1558 & 1359 & 119 & 1718 & 1515 & 123 & EV & 5712 & N826AS & JFK & IAD &  53 &  228 & 13 & 59 & 2013-01-01 13:00:00\\\\\n",
       "\t 2013 & 1 & 1 & 1732 & 1630 &  62 & 2028 & 1825 & 123 & EV & 4092 & N16911 & EWR & DAY & 119 &  533 & 16 & 30 & 2013-01-01 16:00:00\\\\\n",
       "\t 2013 & 1 & 1 & 1803 & 1620 & 103 & 2008 & 1750 & 138 & MQ & 4622 & N504MQ & LGA & BNA & 154 &  764 & 16 & 20 & 2013-01-01 16:00:00\\\\\n",
       "\\end{tabular}\n"
      ],
      "text/markdown": [
       "\n",
       "A tibble: 10 × 19\n",
       "\n",
       "| year &lt;int&gt; | month &lt;int&gt; | day &lt;int&gt; | dep_time &lt;int&gt; | sched_dep_time &lt;int&gt; | dep_delay &lt;dbl&gt; | arr_time &lt;int&gt; | sched_arr_time &lt;int&gt; | arr_delay &lt;dbl&gt; | carrier &lt;chr&gt; | flight &lt;int&gt; | tailnum &lt;chr&gt; | origin &lt;chr&gt; | dest &lt;chr&gt; | air_time &lt;dbl&gt; | distance &lt;dbl&gt; | hour &lt;dbl&gt; | minute &lt;dbl&gt; | time_hour &lt;dttm&gt; |\n",
       "|---|---|---|---|---|---|---|---|---|---|---|---|---|---|---|---|---|---|---|\n",
       "| 2013 | 1 | 1 |  811 |  630 | 101 | 1047 |  830 | 137 | MQ | 4576 | N531MQ | LGA | CLT | 118 |  544 |  6 | 30 | 2013-01-01 06:00:00 |\n",
       "| 2013 | 1 | 1 |  848 | 1835 | 853 | 1001 | 1950 | 851 | MQ | 3944 | N942MQ | JFK | BWI |  41 |  184 | 18 | 35 | 2013-01-01 18:00:00 |\n",
       "| 2013 | 1 | 1 |  957 |  733 | 144 | 1056 |  853 | 123 | UA |  856 | N534UA | EWR | BOS |  37 |  200 |  7 | 33 | 2013-01-01 07:00:00 |\n",
       "| 2013 | 1 | 1 | 1114 |  900 | 134 | 1447 | 1222 | 145 | UA | 1086 | N76502 | LGA | IAH | 248 | 1416 |  9 |  0 | 2013-01-01 09:00:00 |\n",
       "| 2013 | 1 | 1 | 1505 | 1310 | 115 | 1638 | 1431 | 127 | EV | 4497 | N17984 | EWR | RIC |  63 |  277 | 13 | 10 | 2013-01-01 13:00:00 |\n",
       "| 2013 | 1 | 1 | 1525 | 1340 | 105 | 1831 | 1626 | 125 | B6 |  525 | N231JB | EWR | MCO | 152 |  937 | 13 | 40 | 2013-01-01 13:00:00 |\n",
       "| 2013 | 1 | 1 | 1549 | 1445 |  64 | 1912 | 1656 | 136 | EV | 4181 | N21197 | EWR | MCI | 234 | 1092 | 14 | 45 | 2013-01-01 14:00:00 |\n",
       "| 2013 | 1 | 1 | 1558 | 1359 | 119 | 1718 | 1515 | 123 | EV | 5712 | N826AS | JFK | IAD |  53 |  228 | 13 | 59 | 2013-01-01 13:00:00 |\n",
       "| 2013 | 1 | 1 | 1732 | 1630 |  62 | 2028 | 1825 | 123 | EV | 4092 | N16911 | EWR | DAY | 119 |  533 | 16 | 30 | 2013-01-01 16:00:00 |\n",
       "| 2013 | 1 | 1 | 1803 | 1620 | 103 | 2008 | 1750 | 138 | MQ | 4622 | N504MQ | LGA | BNA | 154 |  764 | 16 | 20 | 2013-01-01 16:00:00 |\n",
       "\n"
      ],
      "text/plain": [
       "   year month day dep_time sched_dep_time dep_delay arr_time sched_arr_time\n",
       "1  2013 1     1    811      630           101       1047      830          \n",
       "2  2013 1     1    848     1835           853       1001     1950          \n",
       "3  2013 1     1    957      733           144       1056      853          \n",
       "4  2013 1     1   1114      900           134       1447     1222          \n",
       "5  2013 1     1   1505     1310           115       1638     1431          \n",
       "6  2013 1     1   1525     1340           105       1831     1626          \n",
       "7  2013 1     1   1549     1445            64       1912     1656          \n",
       "8  2013 1     1   1558     1359           119       1718     1515          \n",
       "9  2013 1     1   1732     1630            62       2028     1825          \n",
       "10 2013 1     1   1803     1620           103       2008     1750          \n",
       "   arr_delay carrier flight tailnum origin dest air_time distance hour minute\n",
       "1  137       MQ      4576   N531MQ  LGA    CLT  118       544      6   30    \n",
       "2  851       MQ      3944   N942MQ  JFK    BWI   41       184     18   35    \n",
       "3  123       UA       856   N534UA  EWR    BOS   37       200      7   33    \n",
       "4  145       UA      1086   N76502  LGA    IAH  248      1416      9    0    \n",
       "5  127       EV      4497   N17984  EWR    RIC   63       277     13   10    \n",
       "6  125       B6       525   N231JB  EWR    MCO  152       937     13   40    \n",
       "7  136       EV      4181   N21197  EWR    MCI  234      1092     14   45    \n",
       "8  123       EV      5712   N826AS  JFK    IAD   53       228     13   59    \n",
       "9  123       EV      4092   N16911  EWR    DAY  119       533     16   30    \n",
       "10 138       MQ      4622   N504MQ  LGA    BNA  154       764     16   20    \n",
       "   time_hour          \n",
       "1  2013-01-01 06:00:00\n",
       "2  2013-01-01 18:00:00\n",
       "3  2013-01-01 07:00:00\n",
       "4  2013-01-01 09:00:00\n",
       "5  2013-01-01 13:00:00\n",
       "6  2013-01-01 13:00:00\n",
       "7  2013-01-01 14:00:00\n",
       "8  2013-01-01 13:00:00\n",
       "9  2013-01-01 16:00:00\n",
       "10 2013-01-01 16:00:00"
      ]
     },
     "metadata": {},
     "output_type": "display_data"
    }
   ],
   "source": [
    "df %>% filter(arr_delay>2*60) %>% slice(1:10)"
   ]
  },
  {
   "cell_type": "markdown",
   "id": "26ccbaa2",
   "metadata": {},
   "source": [
    "+ Find all flights with more tahn 2 hours arrival delay and no de-\n",
    "  parture delay."
   ]
  },
  {
   "cell_type": "code",
   "execution_count": 65,
   "id": "8c853f0d",
   "metadata": {},
   "outputs": [
    {
     "data": {
      "text/html": [
       "<table class=\"dataframe\">\n",
       "<caption>A tibble: 10 × 19</caption>\n",
       "<thead>\n",
       "\t<tr><th scope=col>year</th><th scope=col>month</th><th scope=col>day</th><th scope=col>dep_time</th><th scope=col>sched_dep_time</th><th scope=col>dep_delay</th><th scope=col>arr_time</th><th scope=col>sched_arr_time</th><th scope=col>arr_delay</th><th scope=col>carrier</th><th scope=col>flight</th><th scope=col>tailnum</th><th scope=col>origin</th><th scope=col>dest</th><th scope=col>air_time</th><th scope=col>distance</th><th scope=col>hour</th><th scope=col>minute</th><th scope=col>time_hour</th></tr>\n",
       "\t<tr><th scope=col>&lt;int&gt;</th><th scope=col>&lt;int&gt;</th><th scope=col>&lt;int&gt;</th><th scope=col>&lt;int&gt;</th><th scope=col>&lt;int&gt;</th><th scope=col>&lt;dbl&gt;</th><th scope=col>&lt;int&gt;</th><th scope=col>&lt;int&gt;</th><th scope=col>&lt;dbl&gt;</th><th scope=col>&lt;chr&gt;</th><th scope=col>&lt;int&gt;</th><th scope=col>&lt;chr&gt;</th><th scope=col>&lt;chr&gt;</th><th scope=col>&lt;chr&gt;</th><th scope=col>&lt;dbl&gt;</th><th scope=col>&lt;dbl&gt;</th><th scope=col>&lt;dbl&gt;</th><th scope=col>&lt;dbl&gt;</th><th scope=col>&lt;dttm&gt;</th></tr>\n",
       "</thead>\n",
       "<tbody>\n",
       "\t<tr><td>2013</td><td> 1</td><td>27</td><td>1419</td><td>1420</td><td>-1</td><td>1754</td><td>1550</td><td>124</td><td>MQ</td><td>3728</td><td>N1EAMQ</td><td>EWR</td><td>ORD</td><td>135</td><td> 719</td><td>14</td><td>20</td><td>2013-01-27 14:00:00</td></tr>\n",
       "\t<tr><td>2013</td><td>10</td><td> 7</td><td>1350</td><td>1350</td><td> 0</td><td>1736</td><td>1526</td><td>130</td><td>EV</td><td>5181</td><td>N611QX</td><td>LGA</td><td>MSN</td><td>117</td><td> 812</td><td>13</td><td>50</td><td>2013-10-07 13:00:00</td></tr>\n",
       "\t<tr><td>2013</td><td>10</td><td> 7</td><td>1357</td><td>1359</td><td>-2</td><td>1858</td><td>1654</td><td>124</td><td>AA</td><td>1151</td><td>N3CMAA</td><td>LGA</td><td>DFW</td><td>192</td><td>1389</td><td>13</td><td>59</td><td>2013-10-07 13:00:00</td></tr>\n",
       "\t<tr><td>2013</td><td>10</td><td>16</td><td> 657</td><td> 700</td><td>-3</td><td>1258</td><td>1056</td><td>122</td><td>B6</td><td>   3</td><td>N703JB</td><td>JFK</td><td>SJU</td><td>225</td><td>1598</td><td> 7</td><td> 0</td><td>2013-10-16 07:00:00</td></tr>\n",
       "\t<tr><td>2013</td><td>11</td><td> 1</td><td> 658</td><td> 700</td><td>-2</td><td>1329</td><td>1015</td><td>194</td><td>VX</td><td> 399</td><td>N629VA</td><td>JFK</td><td>LAX</td><td>336</td><td>2475</td><td> 7</td><td> 0</td><td>2013-11-01 07:00:00</td></tr>\n",
       "\t<tr><td>2013</td><td> 3</td><td>18</td><td>1844</td><td>1847</td><td>-3</td><td>  39</td><td>2219</td><td>140</td><td>UA</td><td> 389</td><td>N560UA</td><td>JFK</td><td>SFO</td><td>386</td><td>2586</td><td>18</td><td>47</td><td>2013-03-18 18:00:00</td></tr>\n",
       "\t<tr><td>2013</td><td> 4</td><td>17</td><td>1635</td><td>1640</td><td>-5</td><td>2049</td><td>1845</td><td>124</td><td>MQ</td><td>4540</td><td>N721MQ</td><td>LGA</td><td>DTW</td><td>130</td><td> 502</td><td>16</td><td>40</td><td>2013-04-17 16:00:00</td></tr>\n",
       "\t<tr><td>2013</td><td> 4</td><td>18</td><td> 558</td><td> 600</td><td>-2</td><td>1149</td><td> 850</td><td>179</td><td>AA</td><td> 707</td><td>N3EXAA</td><td>LGA</td><td>DFW</td><td>234</td><td>1389</td><td> 6</td><td> 0</td><td>2013-04-18 06:00:00</td></tr>\n",
       "\t<tr><td>2013</td><td> 4</td><td>18</td><td> 655</td><td> 700</td><td>-5</td><td>1213</td><td> 950</td><td>143</td><td>AA</td><td>2083</td><td>N565AA</td><td>EWR</td><td>DFW</td><td>230</td><td>1372</td><td> 7</td><td> 0</td><td>2013-04-18 07:00:00</td></tr>\n",
       "\t<tr><td>2013</td><td> 5</td><td>22</td><td>1827</td><td>1830</td><td>-3</td><td>2217</td><td>2010</td><td>127</td><td>MQ</td><td>4674</td><td>N518MQ</td><td>LGA</td><td>CLE</td><td> 90</td><td> 419</td><td>18</td><td>30</td><td>2013-05-22 18:00:00</td></tr>\n",
       "</tbody>\n",
       "</table>\n"
      ],
      "text/latex": [
       "A tibble: 10 × 19\n",
       "\\begin{tabular}{lllllllllllllllllll}\n",
       " year & month & day & dep\\_time & sched\\_dep\\_time & dep\\_delay & arr\\_time & sched\\_arr\\_time & arr\\_delay & carrier & flight & tailnum & origin & dest & air\\_time & distance & hour & minute & time\\_hour\\\\\n",
       " <int> & <int> & <int> & <int> & <int> & <dbl> & <int> & <int> & <dbl> & <chr> & <int> & <chr> & <chr> & <chr> & <dbl> & <dbl> & <dbl> & <dbl> & <dttm>\\\\\n",
       "\\hline\n",
       "\t 2013 &  1 & 27 & 1419 & 1420 & -1 & 1754 & 1550 & 124 & MQ & 3728 & N1EAMQ & EWR & ORD & 135 &  719 & 14 & 20 & 2013-01-27 14:00:00\\\\\n",
       "\t 2013 & 10 &  7 & 1350 & 1350 &  0 & 1736 & 1526 & 130 & EV & 5181 & N611QX & LGA & MSN & 117 &  812 & 13 & 50 & 2013-10-07 13:00:00\\\\\n",
       "\t 2013 & 10 &  7 & 1357 & 1359 & -2 & 1858 & 1654 & 124 & AA & 1151 & N3CMAA & LGA & DFW & 192 & 1389 & 13 & 59 & 2013-10-07 13:00:00\\\\\n",
       "\t 2013 & 10 & 16 &  657 &  700 & -3 & 1258 & 1056 & 122 & B6 &    3 & N703JB & JFK & SJU & 225 & 1598 &  7 &  0 & 2013-10-16 07:00:00\\\\\n",
       "\t 2013 & 11 &  1 &  658 &  700 & -2 & 1329 & 1015 & 194 & VX &  399 & N629VA & JFK & LAX & 336 & 2475 &  7 &  0 & 2013-11-01 07:00:00\\\\\n",
       "\t 2013 &  3 & 18 & 1844 & 1847 & -3 &   39 & 2219 & 140 & UA &  389 & N560UA & JFK & SFO & 386 & 2586 & 18 & 47 & 2013-03-18 18:00:00\\\\\n",
       "\t 2013 &  4 & 17 & 1635 & 1640 & -5 & 2049 & 1845 & 124 & MQ & 4540 & N721MQ & LGA & DTW & 130 &  502 & 16 & 40 & 2013-04-17 16:00:00\\\\\n",
       "\t 2013 &  4 & 18 &  558 &  600 & -2 & 1149 &  850 & 179 & AA &  707 & N3EXAA & LGA & DFW & 234 & 1389 &  6 &  0 & 2013-04-18 06:00:00\\\\\n",
       "\t 2013 &  4 & 18 &  655 &  700 & -5 & 1213 &  950 & 143 & AA & 2083 & N565AA & EWR & DFW & 230 & 1372 &  7 &  0 & 2013-04-18 07:00:00\\\\\n",
       "\t 2013 &  5 & 22 & 1827 & 1830 & -3 & 2217 & 2010 & 127 & MQ & 4674 & N518MQ & LGA & CLE &  90 &  419 & 18 & 30 & 2013-05-22 18:00:00\\\\\n",
       "\\end{tabular}\n"
      ],
      "text/markdown": [
       "\n",
       "A tibble: 10 × 19\n",
       "\n",
       "| year &lt;int&gt; | month &lt;int&gt; | day &lt;int&gt; | dep_time &lt;int&gt; | sched_dep_time &lt;int&gt; | dep_delay &lt;dbl&gt; | arr_time &lt;int&gt; | sched_arr_time &lt;int&gt; | arr_delay &lt;dbl&gt; | carrier &lt;chr&gt; | flight &lt;int&gt; | tailnum &lt;chr&gt; | origin &lt;chr&gt; | dest &lt;chr&gt; | air_time &lt;dbl&gt; | distance &lt;dbl&gt; | hour &lt;dbl&gt; | minute &lt;dbl&gt; | time_hour &lt;dttm&gt; |\n",
       "|---|---|---|---|---|---|---|---|---|---|---|---|---|---|---|---|---|---|---|\n",
       "| 2013 |  1 | 27 | 1419 | 1420 | -1 | 1754 | 1550 | 124 | MQ | 3728 | N1EAMQ | EWR | ORD | 135 |  719 | 14 | 20 | 2013-01-27 14:00:00 |\n",
       "| 2013 | 10 |  7 | 1350 | 1350 |  0 | 1736 | 1526 | 130 | EV | 5181 | N611QX | LGA | MSN | 117 |  812 | 13 | 50 | 2013-10-07 13:00:00 |\n",
       "| 2013 | 10 |  7 | 1357 | 1359 | -2 | 1858 | 1654 | 124 | AA | 1151 | N3CMAA | LGA | DFW | 192 | 1389 | 13 | 59 | 2013-10-07 13:00:00 |\n",
       "| 2013 | 10 | 16 |  657 |  700 | -3 | 1258 | 1056 | 122 | B6 |    3 | N703JB | JFK | SJU | 225 | 1598 |  7 |  0 | 2013-10-16 07:00:00 |\n",
       "| 2013 | 11 |  1 |  658 |  700 | -2 | 1329 | 1015 | 194 | VX |  399 | N629VA | JFK | LAX | 336 | 2475 |  7 |  0 | 2013-11-01 07:00:00 |\n",
       "| 2013 |  3 | 18 | 1844 | 1847 | -3 |   39 | 2219 | 140 | UA |  389 | N560UA | JFK | SFO | 386 | 2586 | 18 | 47 | 2013-03-18 18:00:00 |\n",
       "| 2013 |  4 | 17 | 1635 | 1640 | -5 | 2049 | 1845 | 124 | MQ | 4540 | N721MQ | LGA | DTW | 130 |  502 | 16 | 40 | 2013-04-17 16:00:00 |\n",
       "| 2013 |  4 | 18 |  558 |  600 | -2 | 1149 |  850 | 179 | AA |  707 | N3EXAA | LGA | DFW | 234 | 1389 |  6 |  0 | 2013-04-18 06:00:00 |\n",
       "| 2013 |  4 | 18 |  655 |  700 | -5 | 1213 |  950 | 143 | AA | 2083 | N565AA | EWR | DFW | 230 | 1372 |  7 |  0 | 2013-04-18 07:00:00 |\n",
       "| 2013 |  5 | 22 | 1827 | 1830 | -3 | 2217 | 2010 | 127 | MQ | 4674 | N518MQ | LGA | CLE |  90 |  419 | 18 | 30 | 2013-05-22 18:00:00 |\n",
       "\n"
      ],
      "text/plain": [
       "   year month day dep_time sched_dep_time dep_delay arr_time sched_arr_time\n",
       "1  2013  1    27  1419     1420           -1        1754     1550          \n",
       "2  2013 10     7  1350     1350            0        1736     1526          \n",
       "3  2013 10     7  1357     1359           -2        1858     1654          \n",
       "4  2013 10    16   657      700           -3        1258     1056          \n",
       "5  2013 11     1   658      700           -2        1329     1015          \n",
       "6  2013  3    18  1844     1847           -3          39     2219          \n",
       "7  2013  4    17  1635     1640           -5        2049     1845          \n",
       "8  2013  4    18   558      600           -2        1149      850          \n",
       "9  2013  4    18   655      700           -5        1213      950          \n",
       "10 2013  5    22  1827     1830           -3        2217     2010          \n",
       "   arr_delay carrier flight tailnum origin dest air_time distance hour minute\n",
       "1  124       MQ      3728   N1EAMQ  EWR    ORD  135       719     14   20    \n",
       "2  130       EV      5181   N611QX  LGA    MSN  117       812     13   50    \n",
       "3  124       AA      1151   N3CMAA  LGA    DFW  192      1389     13   59    \n",
       "4  122       B6         3   N703JB  JFK    SJU  225      1598      7    0    \n",
       "5  194       VX       399   N629VA  JFK    LAX  336      2475      7    0    \n",
       "6  140       UA       389   N560UA  JFK    SFO  386      2586     18   47    \n",
       "7  124       MQ      4540   N721MQ  LGA    DTW  130       502     16   40    \n",
       "8  179       AA       707   N3EXAA  LGA    DFW  234      1389      6    0    \n",
       "9  143       AA      2083   N565AA  EWR    DFW  230      1372      7    0    \n",
       "10 127       MQ      4674   N518MQ  LGA    CLE   90       419     18   30    \n",
       "   time_hour          \n",
       "1  2013-01-27 14:00:00\n",
       "2  2013-10-07 13:00:00\n",
       "3  2013-10-07 13:00:00\n",
       "4  2013-10-16 07:00:00\n",
       "5  2013-11-01 07:00:00\n",
       "6  2013-03-18 18:00:00\n",
       "7  2013-04-17 16:00:00\n",
       "8  2013-04-18 06:00:00\n",
       "9  2013-04-18 07:00:00\n",
       "10 2013-05-22 18:00:00"
      ]
     },
     "metadata": {},
     "output_type": "display_data"
    }
   ],
   "source": [
    "df %>% filter(arr_delay>2*60 & dep_delay<=0) %>% slice(1:10)"
   ]
  },
  {
   "cell_type": "markdown",
   "id": "bea7cd5b",
   "metadata": {},
   "source": [
    "+ Find all flights from United, American and Delta with no arrival\n",
    "   delay."
   ]
  },
  {
   "cell_type": "code",
   "execution_count": 66,
   "id": "591b5a87",
   "metadata": {
    "scrolled": true
   },
   "outputs": [
    {
     "data": {
      "text/html": [
       "<style>\n",
       ".list-inline {list-style: none; margin:0; padding: 0}\n",
       ".list-inline>li {display: inline-block}\n",
       ".list-inline>li:not(:last-child)::after {content: \"\\00b7\"; padding: 0 .5ex}\n",
       "</style>\n",
       "<ol class=list-inline><li>'UA'</li><li>'AA'</li><li>'B6'</li><li>'DL'</li><li>'EV'</li><li>'MQ'</li><li>'US'</li><li>'WN'</li><li>'VX'</li><li>'FL'</li><li>'AS'</li><li>'9E'</li><li>'F9'</li><li>'HA'</li><li>'YV'</li><li>'OO'</li></ol>\n"
      ],
      "text/latex": [
       "\\begin{enumerate*}\n",
       "\\item 'UA'\n",
       "\\item 'AA'\n",
       "\\item 'B6'\n",
       "\\item 'DL'\n",
       "\\item 'EV'\n",
       "\\item 'MQ'\n",
       "\\item 'US'\n",
       "\\item 'WN'\n",
       "\\item 'VX'\n",
       "\\item 'FL'\n",
       "\\item 'AS'\n",
       "\\item '9E'\n",
       "\\item 'F9'\n",
       "\\item 'HA'\n",
       "\\item 'YV'\n",
       "\\item 'OO'\n",
       "\\end{enumerate*}\n"
      ],
      "text/markdown": [
       "1. 'UA'\n",
       "2. 'AA'\n",
       "3. 'B6'\n",
       "4. 'DL'\n",
       "5. 'EV'\n",
       "6. 'MQ'\n",
       "7. 'US'\n",
       "8. 'WN'\n",
       "9. 'VX'\n",
       "10. 'FL'\n",
       "11. 'AS'\n",
       "12. '9E'\n",
       "13. 'F9'\n",
       "14. 'HA'\n",
       "15. 'YV'\n",
       "16. 'OO'\n",
       "\n",
       "\n"
      ],
      "text/plain": [
       " [1] \"UA\" \"AA\" \"B6\" \"DL\" \"EV\" \"MQ\" \"US\" \"WN\" \"VX\" \"FL\" \"AS\" \"9E\" \"F9\" \"HA\" \"YV\"\n",
       "[16] \"OO\""
      ]
     },
     "metadata": {},
     "output_type": "display_data"
    }
   ],
   "source": [
    "df$carrier  %>% unique()"
   ]
  },
  {
   "cell_type": "code",
   "execution_count": 67,
   "id": "ff1f487d",
   "metadata": {
    "scrolled": true
   },
   "outputs": [
    {
     "data": {
      "text/html": [
       "<table class=\"dataframe\">\n",
       "<caption>A tibble: 10 × 19</caption>\n",
       "<thead>\n",
       "\t<tr><th scope=col>year</th><th scope=col>month</th><th scope=col>day</th><th scope=col>dep_time</th><th scope=col>sched_dep_time</th><th scope=col>dep_delay</th><th scope=col>arr_time</th><th scope=col>sched_arr_time</th><th scope=col>arr_delay</th><th scope=col>carrier</th><th scope=col>flight</th><th scope=col>tailnum</th><th scope=col>origin</th><th scope=col>dest</th><th scope=col>air_time</th><th scope=col>distance</th><th scope=col>hour</th><th scope=col>minute</th><th scope=col>time_hour</th></tr>\n",
       "\t<tr><th scope=col>&lt;int&gt;</th><th scope=col>&lt;int&gt;</th><th scope=col>&lt;int&gt;</th><th scope=col>&lt;int&gt;</th><th scope=col>&lt;int&gt;</th><th scope=col>&lt;dbl&gt;</th><th scope=col>&lt;int&gt;</th><th scope=col>&lt;int&gt;</th><th scope=col>&lt;dbl&gt;</th><th scope=col>&lt;chr&gt;</th><th scope=col>&lt;int&gt;</th><th scope=col>&lt;chr&gt;</th><th scope=col>&lt;chr&gt;</th><th scope=col>&lt;chr&gt;</th><th scope=col>&lt;dbl&gt;</th><th scope=col>&lt;dbl&gt;</th><th scope=col>&lt;dbl&gt;</th><th scope=col>&lt;dbl&gt;</th><th scope=col>&lt;dttm&gt;</th></tr>\n",
       "</thead>\n",
       "<tbody>\n",
       "\t<tr><td>2013</td><td>1</td><td>1</td><td>554</td><td>600</td><td>-6</td><td>812</td><td>837</td><td>-25</td><td>DL</td><td> 461</td><td>N668DN</td><td>LGA</td><td>ATL</td><td>116</td><td> 762</td><td>6</td><td> 0</td><td>2013-01-01 06:00:00</td></tr>\n",
       "\t<tr><td>2013</td><td>1</td><td>1</td><td>554</td><td>558</td><td>-4</td><td>740</td><td>728</td><td> 12</td><td>UA</td><td>1696</td><td>N39463</td><td>EWR</td><td>ORD</td><td>150</td><td> 719</td><td>5</td><td>58</td><td>2013-01-01 05:00:00</td></tr>\n",
       "\t<tr><td>2013</td><td>1</td><td>1</td><td>558</td><td>600</td><td>-2</td><td>753</td><td>745</td><td>  8</td><td>AA</td><td> 301</td><td>N3ALAA</td><td>LGA</td><td>ORD</td><td>138</td><td> 733</td><td>6</td><td> 0</td><td>2013-01-01 06:00:00</td></tr>\n",
       "\t<tr><td>2013</td><td>1</td><td>1</td><td>558</td><td>600</td><td>-2</td><td>924</td><td>917</td><td>  7</td><td>UA</td><td> 194</td><td>N29129</td><td>JFK</td><td>LAX</td><td>345</td><td>2475</td><td>6</td><td> 0</td><td>2013-01-01 06:00:00</td></tr>\n",
       "\t<tr><td>2013</td><td>1</td><td>1</td><td>558</td><td>600</td><td>-2</td><td>923</td><td>937</td><td>-14</td><td>UA</td><td>1124</td><td>N53441</td><td>EWR</td><td>SFO</td><td>361</td><td>2565</td><td>6</td><td> 0</td><td>2013-01-01 06:00:00</td></tr>\n",
       "\t<tr><td>2013</td><td>1</td><td>1</td><td>559</td><td>600</td><td>-1</td><td>941</td><td>910</td><td> 31</td><td>AA</td><td> 707</td><td>N3DUAA</td><td>LGA</td><td>DFW</td><td>257</td><td>1389</td><td>6</td><td> 0</td><td>2013-01-01 06:00:00</td></tr>\n",
       "\t<tr><td>2013</td><td>1</td><td>1</td><td>559</td><td>600</td><td>-1</td><td>854</td><td>902</td><td> -8</td><td>UA</td><td>1187</td><td>N76515</td><td>EWR</td><td>LAS</td><td>337</td><td>2227</td><td>6</td><td> 0</td><td>2013-01-01 06:00:00</td></tr>\n",
       "\t<tr><td>2013</td><td>1</td><td>1</td><td>602</td><td>610</td><td>-8</td><td>812</td><td>820</td><td> -8</td><td>DL</td><td>1919</td><td>N971DL</td><td>LGA</td><td>MSP</td><td>170</td><td>1020</td><td>6</td><td>10</td><td>2013-01-01 06:00:00</td></tr>\n",
       "\t<tr><td>2013</td><td>1</td><td>1</td><td>606</td><td>610</td><td>-4</td><td>858</td><td>910</td><td>-12</td><td>AA</td><td>1895</td><td>N633AA</td><td>EWR</td><td>MIA</td><td>152</td><td>1085</td><td>6</td><td>10</td><td>2013-01-01 06:00:00</td></tr>\n",
       "\t<tr><td>2013</td><td>1</td><td>1</td><td>606</td><td>610</td><td>-4</td><td>837</td><td>845</td><td> -8</td><td>DL</td><td>1743</td><td>N3739P</td><td>JFK</td><td>ATL</td><td>128</td><td> 760</td><td>6</td><td>10</td><td>2013-01-01 06:00:00</td></tr>\n",
       "</tbody>\n",
       "</table>\n"
      ],
      "text/latex": [
       "A tibble: 10 × 19\n",
       "\\begin{tabular}{lllllllllllllllllll}\n",
       " year & month & day & dep\\_time & sched\\_dep\\_time & dep\\_delay & arr\\_time & sched\\_arr\\_time & arr\\_delay & carrier & flight & tailnum & origin & dest & air\\_time & distance & hour & minute & time\\_hour\\\\\n",
       " <int> & <int> & <int> & <int> & <int> & <dbl> & <int> & <int> & <dbl> & <chr> & <int> & <chr> & <chr> & <chr> & <dbl> & <dbl> & <dbl> & <dbl> & <dttm>\\\\\n",
       "\\hline\n",
       "\t 2013 & 1 & 1 & 554 & 600 & -6 & 812 & 837 & -25 & DL &  461 & N668DN & LGA & ATL & 116 &  762 & 6 &  0 & 2013-01-01 06:00:00\\\\\n",
       "\t 2013 & 1 & 1 & 554 & 558 & -4 & 740 & 728 &  12 & UA & 1696 & N39463 & EWR & ORD & 150 &  719 & 5 & 58 & 2013-01-01 05:00:00\\\\\n",
       "\t 2013 & 1 & 1 & 558 & 600 & -2 & 753 & 745 &   8 & AA &  301 & N3ALAA & LGA & ORD & 138 &  733 & 6 &  0 & 2013-01-01 06:00:00\\\\\n",
       "\t 2013 & 1 & 1 & 558 & 600 & -2 & 924 & 917 &   7 & UA &  194 & N29129 & JFK & LAX & 345 & 2475 & 6 &  0 & 2013-01-01 06:00:00\\\\\n",
       "\t 2013 & 1 & 1 & 558 & 600 & -2 & 923 & 937 & -14 & UA & 1124 & N53441 & EWR & SFO & 361 & 2565 & 6 &  0 & 2013-01-01 06:00:00\\\\\n",
       "\t 2013 & 1 & 1 & 559 & 600 & -1 & 941 & 910 &  31 & AA &  707 & N3DUAA & LGA & DFW & 257 & 1389 & 6 &  0 & 2013-01-01 06:00:00\\\\\n",
       "\t 2013 & 1 & 1 & 559 & 600 & -1 & 854 & 902 &  -8 & UA & 1187 & N76515 & EWR & LAS & 337 & 2227 & 6 &  0 & 2013-01-01 06:00:00\\\\\n",
       "\t 2013 & 1 & 1 & 602 & 610 & -8 & 812 & 820 &  -8 & DL & 1919 & N971DL & LGA & MSP & 170 & 1020 & 6 & 10 & 2013-01-01 06:00:00\\\\\n",
       "\t 2013 & 1 & 1 & 606 & 610 & -4 & 858 & 910 & -12 & AA & 1895 & N633AA & EWR & MIA & 152 & 1085 & 6 & 10 & 2013-01-01 06:00:00\\\\\n",
       "\t 2013 & 1 & 1 & 606 & 610 & -4 & 837 & 845 &  -8 & DL & 1743 & N3739P & JFK & ATL & 128 &  760 & 6 & 10 & 2013-01-01 06:00:00\\\\\n",
       "\\end{tabular}\n"
      ],
      "text/markdown": [
       "\n",
       "A tibble: 10 × 19\n",
       "\n",
       "| year &lt;int&gt; | month &lt;int&gt; | day &lt;int&gt; | dep_time &lt;int&gt; | sched_dep_time &lt;int&gt; | dep_delay &lt;dbl&gt; | arr_time &lt;int&gt; | sched_arr_time &lt;int&gt; | arr_delay &lt;dbl&gt; | carrier &lt;chr&gt; | flight &lt;int&gt; | tailnum &lt;chr&gt; | origin &lt;chr&gt; | dest &lt;chr&gt; | air_time &lt;dbl&gt; | distance &lt;dbl&gt; | hour &lt;dbl&gt; | minute &lt;dbl&gt; | time_hour &lt;dttm&gt; |\n",
       "|---|---|---|---|---|---|---|---|---|---|---|---|---|---|---|---|---|---|---|\n",
       "| 2013 | 1 | 1 | 554 | 600 | -6 | 812 | 837 | -25 | DL |  461 | N668DN | LGA | ATL | 116 |  762 | 6 |  0 | 2013-01-01 06:00:00 |\n",
       "| 2013 | 1 | 1 | 554 | 558 | -4 | 740 | 728 |  12 | UA | 1696 | N39463 | EWR | ORD | 150 |  719 | 5 | 58 | 2013-01-01 05:00:00 |\n",
       "| 2013 | 1 | 1 | 558 | 600 | -2 | 753 | 745 |   8 | AA |  301 | N3ALAA | LGA | ORD | 138 |  733 | 6 |  0 | 2013-01-01 06:00:00 |\n",
       "| 2013 | 1 | 1 | 558 | 600 | -2 | 924 | 917 |   7 | UA |  194 | N29129 | JFK | LAX | 345 | 2475 | 6 |  0 | 2013-01-01 06:00:00 |\n",
       "| 2013 | 1 | 1 | 558 | 600 | -2 | 923 | 937 | -14 | UA | 1124 | N53441 | EWR | SFO | 361 | 2565 | 6 |  0 | 2013-01-01 06:00:00 |\n",
       "| 2013 | 1 | 1 | 559 | 600 | -1 | 941 | 910 |  31 | AA |  707 | N3DUAA | LGA | DFW | 257 | 1389 | 6 |  0 | 2013-01-01 06:00:00 |\n",
       "| 2013 | 1 | 1 | 559 | 600 | -1 | 854 | 902 |  -8 | UA | 1187 | N76515 | EWR | LAS | 337 | 2227 | 6 |  0 | 2013-01-01 06:00:00 |\n",
       "| 2013 | 1 | 1 | 602 | 610 | -8 | 812 | 820 |  -8 | DL | 1919 | N971DL | LGA | MSP | 170 | 1020 | 6 | 10 | 2013-01-01 06:00:00 |\n",
       "| 2013 | 1 | 1 | 606 | 610 | -4 | 858 | 910 | -12 | AA | 1895 | N633AA | EWR | MIA | 152 | 1085 | 6 | 10 | 2013-01-01 06:00:00 |\n",
       "| 2013 | 1 | 1 | 606 | 610 | -4 | 837 | 845 |  -8 | DL | 1743 | N3739P | JFK | ATL | 128 |  760 | 6 | 10 | 2013-01-01 06:00:00 |\n",
       "\n"
      ],
      "text/plain": [
       "   year month day dep_time sched_dep_time dep_delay arr_time sched_arr_time\n",
       "1  2013 1     1   554      600            -6        812      837           \n",
       "2  2013 1     1   554      558            -4        740      728           \n",
       "3  2013 1     1   558      600            -2        753      745           \n",
       "4  2013 1     1   558      600            -2        924      917           \n",
       "5  2013 1     1   558      600            -2        923      937           \n",
       "6  2013 1     1   559      600            -1        941      910           \n",
       "7  2013 1     1   559      600            -1        854      902           \n",
       "8  2013 1     1   602      610            -8        812      820           \n",
       "9  2013 1     1   606      610            -4        858      910           \n",
       "10 2013 1     1   606      610            -4        837      845           \n",
       "   arr_delay carrier flight tailnum origin dest air_time distance hour minute\n",
       "1  -25       DL       461   N668DN  LGA    ATL  116       762     6     0    \n",
       "2   12       UA      1696   N39463  EWR    ORD  150       719     5    58    \n",
       "3    8       AA       301   N3ALAA  LGA    ORD  138       733     6     0    \n",
       "4    7       UA       194   N29129  JFK    LAX  345      2475     6     0    \n",
       "5  -14       UA      1124   N53441  EWR    SFO  361      2565     6     0    \n",
       "6   31       AA       707   N3DUAA  LGA    DFW  257      1389     6     0    \n",
       "7   -8       UA      1187   N76515  EWR    LAS  337      2227     6     0    \n",
       "8   -8       DL      1919   N971DL  LGA    MSP  170      1020     6    10    \n",
       "9  -12       AA      1895   N633AA  EWR    MIA  152      1085     6    10    \n",
       "10  -8       DL      1743   N3739P  JFK    ATL  128       760     6    10    \n",
       "   time_hour          \n",
       "1  2013-01-01 06:00:00\n",
       "2  2013-01-01 05:00:00\n",
       "3  2013-01-01 06:00:00\n",
       "4  2013-01-01 06:00:00\n",
       "5  2013-01-01 06:00:00\n",
       "6  2013-01-01 06:00:00\n",
       "7  2013-01-01 06:00:00\n",
       "8  2013-01-01 06:00:00\n",
       "9  2013-01-01 06:00:00\n",
       "10 2013-01-01 06:00:00"
      ]
     },
     "metadata": {},
     "output_type": "display_data"
    }
   ],
   "source": [
    "df %>% filter(carrier %in% c(\"AA\",\"DL\",\"UA\") & dep_delay<=0) %>% \n",
    "                                            slice(1:10)"
   ]
  },
  {
   "cell_type": "markdown",
   "id": "00ee8a6e",
   "metadata": {},
   "source": [
    "+ Find all flights from United, American and Delta in the month May with more than 5 hours arrival delay sorted by carrier and\n",
    "  flight number."
   ]
  },
  {
   "cell_type": "code",
   "execution_count": 68,
   "id": "a917db7f",
   "metadata": {},
   "outputs": [
    {
     "data": {
      "text/html": [
       "<style>\n",
       ".list-inline {list-style: none; margin:0; padding: 0}\n",
       ".list-inline>li {display: inline-block}\n",
       ".list-inline>li:not(:last-child)::after {content: \"\\00b7\"; padding: 0 .5ex}\n",
       "</style>\n",
       "<ol class=list-inline><li>1</li><li>10</li><li>11</li><li>12</li><li>2</li><li>3</li><li>4</li><li>5</li><li>6</li><li>7</li><li>8</li><li>9</li></ol>\n"
      ],
      "text/latex": [
       "\\begin{enumerate*}\n",
       "\\item 1\n",
       "\\item 10\n",
       "\\item 11\n",
       "\\item 12\n",
       "\\item 2\n",
       "\\item 3\n",
       "\\item 4\n",
       "\\item 5\n",
       "\\item 6\n",
       "\\item 7\n",
       "\\item 8\n",
       "\\item 9\n",
       "\\end{enumerate*}\n"
      ],
      "text/markdown": [
       "1. 1\n",
       "2. 10\n",
       "3. 11\n",
       "4. 12\n",
       "5. 2\n",
       "6. 3\n",
       "7. 4\n",
       "8. 5\n",
       "9. 6\n",
       "10. 7\n",
       "11. 8\n",
       "12. 9\n",
       "\n",
       "\n"
      ],
      "text/plain": [
       " [1]  1 10 11 12  2  3  4  5  6  7  8  9"
      ]
     },
     "metadata": {},
     "output_type": "display_data"
    }
   ],
   "source": [
    "df$month %>% unique()"
   ]
  },
  {
   "cell_type": "code",
   "execution_count": 69,
   "id": "c5af8c30",
   "metadata": {
    "scrolled": true
   },
   "outputs": [
    {
     "data": {
      "text/html": [
       "<table class=\"dataframe\">\n",
       "<caption>A tibble: 10 × 19</caption>\n",
       "<thead>\n",
       "\t<tr><th scope=col>year</th><th scope=col>month</th><th scope=col>day</th><th scope=col>dep_time</th><th scope=col>sched_dep_time</th><th scope=col>dep_delay</th><th scope=col>arr_time</th><th scope=col>sched_arr_time</th><th scope=col>arr_delay</th><th scope=col>carrier</th><th scope=col>flight</th><th scope=col>tailnum</th><th scope=col>origin</th><th scope=col>dest</th><th scope=col>air_time</th><th scope=col>distance</th><th scope=col>hour</th><th scope=col>minute</th><th scope=col>time_hour</th></tr>\n",
       "\t<tr><th scope=col>&lt;int&gt;</th><th scope=col>&lt;int&gt;</th><th scope=col>&lt;int&gt;</th><th scope=col>&lt;int&gt;</th><th scope=col>&lt;int&gt;</th><th scope=col>&lt;dbl&gt;</th><th scope=col>&lt;int&gt;</th><th scope=col>&lt;int&gt;</th><th scope=col>&lt;dbl&gt;</th><th scope=col>&lt;chr&gt;</th><th scope=col>&lt;int&gt;</th><th scope=col>&lt;chr&gt;</th><th scope=col>&lt;chr&gt;</th><th scope=col>&lt;chr&gt;</th><th scope=col>&lt;dbl&gt;</th><th scope=col>&lt;dbl&gt;</th><th scope=col>&lt;dbl&gt;</th><th scope=col>&lt;dbl&gt;</th><th scope=col>&lt;dttm&gt;</th></tr>\n",
       "</thead>\n",
       "<tbody>\n",
       "\t<tr><td>2013</td><td>5</td><td>19</td><td> 713</td><td>1700</td><td>853</td><td>1007</td><td>1955</td><td>852</td><td>AA</td><td> 257</td><td>N3HEAA</td><td>JFK</td><td>LAS</td><td>323</td><td>2248</td><td>17</td><td> 0</td><td>2013-05-19 17:00:00</td></tr>\n",
       "\t<tr><td>2013</td><td>5</td><td>23</td><td>2246</td><td>1500</td><td>466</td><td>  13</td><td>1645</td><td>448</td><td>AA</td><td> 341</td><td>N424AA</td><td>LGA</td><td>ORD</td><td>121</td><td> 733</td><td>15</td><td> 0</td><td>2013-05-23 15:00:00</td></tr>\n",
       "\t<tr><td>2013</td><td>5</td><td> 9</td><td>1839</td><td>1015</td><td>504</td><td>2123</td><td>1310</td><td>493</td><td>AA</td><td> 731</td><td>N3BEAA</td><td>LGA</td><td>DFW</td><td>197</td><td>1389</td><td>10</td><td>15</td><td>2013-05-09 10:00:00</td></tr>\n",
       "\t<tr><td>2013</td><td>5</td><td>16</td><td>2233</td><td>1340</td><td>533</td><td>  59</td><td>1640</td><td>499</td><td>AA</td><td> 753</td><td>N3ERAA</td><td>LGA</td><td>DFW</td><td>184</td><td>1389</td><td>13</td><td>40</td><td>2013-05-16 13:00:00</td></tr>\n",
       "\t<tr><td>2013</td><td>5</td><td>23</td><td>2136</td><td>1545</td><td>351</td><td> 113</td><td>1901</td><td>372</td><td>DL</td><td> 141</td><td>N371NW</td><td>JFK</td><td>FLL</td><td>152</td><td>1069</td><td>15</td><td>45</td><td>2013-05-23 15:00:00</td></tr>\n",
       "\t<tr><td>2013</td><td>5</td><td>17</td><td>2113</td><td>1259</td><td>494</td><td>2345</td><td>1530</td><td>495</td><td>DL</td><td> 781</td><td>N960DL</td><td>LGA</td><td>ATL</td><td> 93</td><td> 762</td><td>12</td><td>59</td><td>2013-05-17 12:00:00</td></tr>\n",
       "\t<tr><td>2013</td><td>5</td><td>19</td><td> 241</td><td>2000</td><td>401</td><td> 355</td><td>2130</td><td>385</td><td>DL</td><td> 985</td><td>N326US</td><td>JFK</td><td>BOS</td><td> 35</td><td> 187</td><td>20</td><td> 0</td><td>2013-05-19 20:00:00</td></tr>\n",
       "\t<tr><td>2013</td><td>5</td><td>25</td><td>1825</td><td>1159</td><td>386</td><td>2100</td><td>1454</td><td>366</td><td>DL</td><td>1174</td><td>N900DE</td><td>LGA</td><td>PBI</td><td>127</td><td>1035</td><td>11</td><td>59</td><td>2013-05-25 11:00:00</td></tr>\n",
       "\t<tr><td>2013</td><td>5</td><td>23</td><td>2042</td><td>1625</td><td>257</td><td>2340</td><td>1835</td><td>305</td><td>DL</td><td>1619</td><td>N377NW</td><td>LGA</td><td>MSP</td><td>143</td><td>1020</td><td>16</td><td>25</td><td>2013-05-23 16:00:00</td></tr>\n",
       "\t<tr><td>2013</td><td>5</td><td>18</td><td>1809</td><td>1200</td><td>369</td><td>2034</td><td>1432</td><td>362</td><td>DL</td><td>1947</td><td>N963DL</td><td>LGA</td><td>ATL</td><td>104</td><td> 762</td><td>12</td><td> 0</td><td>2013-05-18 12:00:00</td></tr>\n",
       "</tbody>\n",
       "</table>\n"
      ],
      "text/latex": [
       "A tibble: 10 × 19\n",
       "\\begin{tabular}{lllllllllllllllllll}\n",
       " year & month & day & dep\\_time & sched\\_dep\\_time & dep\\_delay & arr\\_time & sched\\_arr\\_time & arr\\_delay & carrier & flight & tailnum & origin & dest & air\\_time & distance & hour & minute & time\\_hour\\\\\n",
       " <int> & <int> & <int> & <int> & <int> & <dbl> & <int> & <int> & <dbl> & <chr> & <int> & <chr> & <chr> & <chr> & <dbl> & <dbl> & <dbl> & <dbl> & <dttm>\\\\\n",
       "\\hline\n",
       "\t 2013 & 5 & 19 &  713 & 1700 & 853 & 1007 & 1955 & 852 & AA &  257 & N3HEAA & JFK & LAS & 323 & 2248 & 17 &  0 & 2013-05-19 17:00:00\\\\\n",
       "\t 2013 & 5 & 23 & 2246 & 1500 & 466 &   13 & 1645 & 448 & AA &  341 & N424AA & LGA & ORD & 121 &  733 & 15 &  0 & 2013-05-23 15:00:00\\\\\n",
       "\t 2013 & 5 &  9 & 1839 & 1015 & 504 & 2123 & 1310 & 493 & AA &  731 & N3BEAA & LGA & DFW & 197 & 1389 & 10 & 15 & 2013-05-09 10:00:00\\\\\n",
       "\t 2013 & 5 & 16 & 2233 & 1340 & 533 &   59 & 1640 & 499 & AA &  753 & N3ERAA & LGA & DFW & 184 & 1389 & 13 & 40 & 2013-05-16 13:00:00\\\\\n",
       "\t 2013 & 5 & 23 & 2136 & 1545 & 351 &  113 & 1901 & 372 & DL &  141 & N371NW & JFK & FLL & 152 & 1069 & 15 & 45 & 2013-05-23 15:00:00\\\\\n",
       "\t 2013 & 5 & 17 & 2113 & 1259 & 494 & 2345 & 1530 & 495 & DL &  781 & N960DL & LGA & ATL &  93 &  762 & 12 & 59 & 2013-05-17 12:00:00\\\\\n",
       "\t 2013 & 5 & 19 &  241 & 2000 & 401 &  355 & 2130 & 385 & DL &  985 & N326US & JFK & BOS &  35 &  187 & 20 &  0 & 2013-05-19 20:00:00\\\\\n",
       "\t 2013 & 5 & 25 & 1825 & 1159 & 386 & 2100 & 1454 & 366 & DL & 1174 & N900DE & LGA & PBI & 127 & 1035 & 11 & 59 & 2013-05-25 11:00:00\\\\\n",
       "\t 2013 & 5 & 23 & 2042 & 1625 & 257 & 2340 & 1835 & 305 & DL & 1619 & N377NW & LGA & MSP & 143 & 1020 & 16 & 25 & 2013-05-23 16:00:00\\\\\n",
       "\t 2013 & 5 & 18 & 1809 & 1200 & 369 & 2034 & 1432 & 362 & DL & 1947 & N963DL & LGA & ATL & 104 &  762 & 12 &  0 & 2013-05-18 12:00:00\\\\\n",
       "\\end{tabular}\n"
      ],
      "text/markdown": [
       "\n",
       "A tibble: 10 × 19\n",
       "\n",
       "| year &lt;int&gt; | month &lt;int&gt; | day &lt;int&gt; | dep_time &lt;int&gt; | sched_dep_time &lt;int&gt; | dep_delay &lt;dbl&gt; | arr_time &lt;int&gt; | sched_arr_time &lt;int&gt; | arr_delay &lt;dbl&gt; | carrier &lt;chr&gt; | flight &lt;int&gt; | tailnum &lt;chr&gt; | origin &lt;chr&gt; | dest &lt;chr&gt; | air_time &lt;dbl&gt; | distance &lt;dbl&gt; | hour &lt;dbl&gt; | minute &lt;dbl&gt; | time_hour &lt;dttm&gt; |\n",
       "|---|---|---|---|---|---|---|---|---|---|---|---|---|---|---|---|---|---|---|\n",
       "| 2013 | 5 | 19 |  713 | 1700 | 853 | 1007 | 1955 | 852 | AA |  257 | N3HEAA | JFK | LAS | 323 | 2248 | 17 |  0 | 2013-05-19 17:00:00 |\n",
       "| 2013 | 5 | 23 | 2246 | 1500 | 466 |   13 | 1645 | 448 | AA |  341 | N424AA | LGA | ORD | 121 |  733 | 15 |  0 | 2013-05-23 15:00:00 |\n",
       "| 2013 | 5 |  9 | 1839 | 1015 | 504 | 2123 | 1310 | 493 | AA |  731 | N3BEAA | LGA | DFW | 197 | 1389 | 10 | 15 | 2013-05-09 10:00:00 |\n",
       "| 2013 | 5 | 16 | 2233 | 1340 | 533 |   59 | 1640 | 499 | AA |  753 | N3ERAA | LGA | DFW | 184 | 1389 | 13 | 40 | 2013-05-16 13:00:00 |\n",
       "| 2013 | 5 | 23 | 2136 | 1545 | 351 |  113 | 1901 | 372 | DL |  141 | N371NW | JFK | FLL | 152 | 1069 | 15 | 45 | 2013-05-23 15:00:00 |\n",
       "| 2013 | 5 | 17 | 2113 | 1259 | 494 | 2345 | 1530 | 495 | DL |  781 | N960DL | LGA | ATL |  93 |  762 | 12 | 59 | 2013-05-17 12:00:00 |\n",
       "| 2013 | 5 | 19 |  241 | 2000 | 401 |  355 | 2130 | 385 | DL |  985 | N326US | JFK | BOS |  35 |  187 | 20 |  0 | 2013-05-19 20:00:00 |\n",
       "| 2013 | 5 | 25 | 1825 | 1159 | 386 | 2100 | 1454 | 366 | DL | 1174 | N900DE | LGA | PBI | 127 | 1035 | 11 | 59 | 2013-05-25 11:00:00 |\n",
       "| 2013 | 5 | 23 | 2042 | 1625 | 257 | 2340 | 1835 | 305 | DL | 1619 | N377NW | LGA | MSP | 143 | 1020 | 16 | 25 | 2013-05-23 16:00:00 |\n",
       "| 2013 | 5 | 18 | 1809 | 1200 | 369 | 2034 | 1432 | 362 | DL | 1947 | N963DL | LGA | ATL | 104 |  762 | 12 |  0 | 2013-05-18 12:00:00 |\n",
       "\n"
      ],
      "text/plain": [
       "   year month day dep_time sched_dep_time dep_delay arr_time sched_arr_time\n",
       "1  2013 5     19   713     1700           853       1007     1955          \n",
       "2  2013 5     23  2246     1500           466         13     1645          \n",
       "3  2013 5      9  1839     1015           504       2123     1310          \n",
       "4  2013 5     16  2233     1340           533         59     1640          \n",
       "5  2013 5     23  2136     1545           351        113     1901          \n",
       "6  2013 5     17  2113     1259           494       2345     1530          \n",
       "7  2013 5     19   241     2000           401        355     2130          \n",
       "8  2013 5     25  1825     1159           386       2100     1454          \n",
       "9  2013 5     23  2042     1625           257       2340     1835          \n",
       "10 2013 5     18  1809     1200           369       2034     1432          \n",
       "   arr_delay carrier flight tailnum origin dest air_time distance hour minute\n",
       "1  852       AA       257   N3HEAA  JFK    LAS  323      2248     17    0    \n",
       "2  448       AA       341   N424AA  LGA    ORD  121       733     15    0    \n",
       "3  493       AA       731   N3BEAA  LGA    DFW  197      1389     10   15    \n",
       "4  499       AA       753   N3ERAA  LGA    DFW  184      1389     13   40    \n",
       "5  372       DL       141   N371NW  JFK    FLL  152      1069     15   45    \n",
       "6  495       DL       781   N960DL  LGA    ATL   93       762     12   59    \n",
       "7  385       DL       985   N326US  JFK    BOS   35       187     20    0    \n",
       "8  366       DL      1174   N900DE  LGA    PBI  127      1035     11   59    \n",
       "9  305       DL      1619   N377NW  LGA    MSP  143      1020     16   25    \n",
       "10 362       DL      1947   N963DL  LGA    ATL  104       762     12    0    \n",
       "   time_hour          \n",
       "1  2013-05-19 17:00:00\n",
       "2  2013-05-23 15:00:00\n",
       "3  2013-05-09 10:00:00\n",
       "4  2013-05-16 13:00:00\n",
       "5  2013-05-23 15:00:00\n",
       "6  2013-05-17 12:00:00\n",
       "7  2013-05-19 20:00:00\n",
       "8  2013-05-25 11:00:00\n",
       "9  2013-05-23 16:00:00\n",
       "10 2013-05-18 12:00:00"
      ]
     },
     "metadata": {},
     "output_type": "display_data"
    }
   ],
   "source": [
    "df %>% filter(\n",
    "    carrier %in% c(\"AA\",\"DL\",\"UA\") &\n",
    "    month==5 & \n",
    "    arr_delay>5*60) %>% arrange(carrier,flight) %>% slice(1:10)"
   ]
  },
  {
   "cell_type": "markdown",
   "id": "68cfac57",
   "metadata": {},
   "source": [
    "+ Add a column speed which denotes the average speed of the flight\n",
    "   and determine the carrier, flight of the top 10 values of speed."
   ]
  },
  {
   "cell_type": "code",
   "execution_count": 70,
   "id": "4cc4dd1b",
   "metadata": {
    "scrolled": false
   },
   "outputs": [
    {
     "data": {
      "text/html": [
       "<table class=\"dataframe\">\n",
       "<caption>A tibble: 15 × 20</caption>\n",
       "<thead>\n",
       "\t<tr><th scope=col>year</th><th scope=col>month</th><th scope=col>day</th><th scope=col>dep_time</th><th scope=col>sched_dep_time</th><th scope=col>dep_delay</th><th scope=col>arr_time</th><th scope=col>sched_arr_time</th><th scope=col>arr_delay</th><th scope=col>carrier</th><th scope=col>flight</th><th scope=col>tailnum</th><th scope=col>origin</th><th scope=col>dest</th><th scope=col>air_time</th><th scope=col>distance</th><th scope=col>hour</th><th scope=col>minute</th><th scope=col>time_hour</th><th scope=col>speed</th></tr>\n",
       "\t<tr><th scope=col>&lt;int&gt;</th><th scope=col>&lt;int&gt;</th><th scope=col>&lt;int&gt;</th><th scope=col>&lt;int&gt;</th><th scope=col>&lt;int&gt;</th><th scope=col>&lt;dbl&gt;</th><th scope=col>&lt;int&gt;</th><th scope=col>&lt;int&gt;</th><th scope=col>&lt;dbl&gt;</th><th scope=col>&lt;chr&gt;</th><th scope=col>&lt;int&gt;</th><th scope=col>&lt;chr&gt;</th><th scope=col>&lt;chr&gt;</th><th scope=col>&lt;chr&gt;</th><th scope=col>&lt;dbl&gt;</th><th scope=col>&lt;dbl&gt;</th><th scope=col>&lt;dbl&gt;</th><th scope=col>&lt;dbl&gt;</th><th scope=col>&lt;dttm&gt;</th><th scope=col>&lt;dbl&gt;</th></tr>\n",
       "</thead>\n",
       "<tbody>\n",
       "\t<tr><td>2013</td><td> 5</td><td>25</td><td>1709</td><td>1700</td><td>  9</td><td>1923</td><td>1937</td><td>-14</td><td>DL</td><td>1499</td><td>N666DN</td><td>LGA</td><td>ATL</td><td> 65</td><td> 762</td><td>17</td><td> 0</td><td>2013-05-25 17:00:00</td><td>703.3846</td></tr>\n",
       "\t<tr><td>2013</td><td> 7</td><td> 2</td><td>1558</td><td>1513</td><td> 45</td><td>1745</td><td>1719</td><td> 26</td><td>EV</td><td>4667</td><td>N17196</td><td>EWR</td><td>MSP</td><td> 93</td><td>1008</td><td>15</td><td>13</td><td>2013-07-02 15:00:00</td><td>650.3226</td></tr>\n",
       "\t<tr><td>2013</td><td> 5</td><td>13</td><td>2040</td><td>2025</td><td> 15</td><td>2225</td><td>2226</td><td> -1</td><td>EV</td><td>4292</td><td>N14568</td><td>EWR</td><td>GSP</td><td> 55</td><td> 594</td><td>20</td><td>25</td><td>2013-05-13 20:00:00</td><td>648.0000</td></tr>\n",
       "\t<tr><td>2013</td><td> 3</td><td>23</td><td>1914</td><td>1910</td><td>  4</td><td>2045</td><td>2043</td><td>  2</td><td>EV</td><td>3805</td><td>N12567</td><td>EWR</td><td>BNA</td><td> 70</td><td> 748</td><td>19</td><td>10</td><td>2013-03-23 19:00:00</td><td>641.1429</td></tr>\n",
       "\t<tr><td>2013</td><td> 1</td><td>12</td><td>1559</td><td>1600</td><td> -1</td><td>1849</td><td>1917</td><td>-28</td><td>DL</td><td>1902</td><td>N956DL</td><td>LGA</td><td>PBI</td><td>105</td><td>1035</td><td>16</td><td> 0</td><td>2013-01-12 16:00:00</td><td>591.4286</td></tr>\n",
       "\t<tr><td>2013</td><td>11</td><td>17</td><td> 650</td><td> 655</td><td> -5</td><td>1059</td><td>1150</td><td>-51</td><td>DL</td><td> 315</td><td>N3768 </td><td>JFK</td><td>SJU</td><td>170</td><td>1598</td><td> 6</td><td>55</td><td>2013-11-17 06:00:00</td><td>564.0000</td></tr>\n",
       "\t<tr><td>2013</td><td> 2</td><td>21</td><td>2355</td><td>2358</td><td> -3</td><td> 412</td><td> 438</td><td>-26</td><td>B6</td><td> 707</td><td>N779JB</td><td>JFK</td><td>SJU</td><td>172</td><td>1598</td><td>23</td><td>58</td><td>2013-02-21 23:00:00</td><td>557.4419</td></tr>\n",
       "\t<tr><td>2013</td><td>11</td><td>17</td><td> 759</td><td> 800</td><td> -1</td><td>1212</td><td>1255</td><td>-43</td><td>AA</td><td> 936</td><td>N5FFAA</td><td>JFK</td><td>STT</td><td>175</td><td>1623</td><td> 8</td><td> 0</td><td>2013-11-17 08:00:00</td><td>556.4571</td></tr>\n",
       "\t<tr><td>2013</td><td>11</td><td>16</td><td>2003</td><td>1925</td><td> 38</td><td>  17</td><td>  36</td><td>-19</td><td>DL</td><td> 347</td><td>N3773D</td><td>JFK</td><td>SJU</td><td>173</td><td>1598</td><td>19</td><td>25</td><td>2013-11-16 19:00:00</td><td>554.2197</td></tr>\n",
       "\t<tr><td>2013</td><td>11</td><td>16</td><td>2349</td><td>2359</td><td>-10</td><td> 402</td><td> 440</td><td>-38</td><td>B6</td><td>1503</td><td>N571JB</td><td>JFK</td><td>SJU</td><td>173</td><td>1598</td><td>23</td><td>59</td><td>2013-11-16 23:00:00</td><td>554.2197</td></tr>\n",
       "\t<tr><td>2013</td><td>11</td><td>17</td><td> 851</td><td> 855</td><td> -4</td><td>1307</td><td>1345</td><td>-38</td><td>DL</td><td> 301</td><td>N624AG</td><td>JFK</td><td>SJU</td><td>173</td><td>1598</td><td> 8</td><td>55</td><td>2013-11-17 08:00:00</td><td>554.2197</td></tr>\n",
       "\t<tr><td>2013</td><td>11</td><td>17</td><td>1926</td><td>1925</td><td>  1</td><td>   7</td><td>  39</td><td>-32</td><td>DL</td><td> 347</td><td>N382DA</td><td>JFK</td><td>SJU</td><td>173</td><td>1598</td><td>19</td><td>25</td><td>2013-11-17 19:00:00</td><td>554.2197</td></tr>\n",
       "\t<tr><td>2013</td><td>12</td><td> 5</td><td>1858</td><td>1900</td><td> -2</td><td>2313</td><td>2359</td><td>-46</td><td>AA</td><td>1029</td><td>N617AA</td><td>JFK</td><td>SJU</td><td>173</td><td>1598</td><td>19</td><td> 0</td><td>2013-12-05 19:00:00</td><td>554.2197</td></tr>\n",
       "\t<tr><td>2013</td><td> 2</td><td>10</td><td>1658</td><td>1700</td><td> -2</td><td>2125</td><td>2204</td><td>-39</td><td>DL</td><td> 329</td><td>N371DA</td><td>JFK</td><td>SJU</td><td>173</td><td>1598</td><td>17</td><td> 0</td><td>2013-02-10 17:00:00</td><td>554.2197</td></tr>\n",
       "\t<tr><td>2013</td><td> 2</td><td>10</td><td>1958</td><td>1855</td><td> 63</td><td>  31</td><td>2355</td><td> 36</td><td>AA</td><td>1613</td><td>N625AA</td><td>JFK</td><td>SJU</td><td>173</td><td>1598</td><td>18</td><td>55</td><td>2013-02-10 18:00:00</td><td>554.2197</td></tr>\n",
       "</tbody>\n",
       "</table>\n"
      ],
      "text/latex": [
       "A tibble: 15 × 20\n",
       "\\begin{tabular}{llllllllllllllllllll}\n",
       " year & month & day & dep\\_time & sched\\_dep\\_time & dep\\_delay & arr\\_time & sched\\_arr\\_time & arr\\_delay & carrier & flight & tailnum & origin & dest & air\\_time & distance & hour & minute & time\\_hour & speed\\\\\n",
       " <int> & <int> & <int> & <int> & <int> & <dbl> & <int> & <int> & <dbl> & <chr> & <int> & <chr> & <chr> & <chr> & <dbl> & <dbl> & <dbl> & <dbl> & <dttm> & <dbl>\\\\\n",
       "\\hline\n",
       "\t 2013 &  5 & 25 & 1709 & 1700 &   9 & 1923 & 1937 & -14 & DL & 1499 & N666DN & LGA & ATL &  65 &  762 & 17 &  0 & 2013-05-25 17:00:00 & 703.3846\\\\\n",
       "\t 2013 &  7 &  2 & 1558 & 1513 &  45 & 1745 & 1719 &  26 & EV & 4667 & N17196 & EWR & MSP &  93 & 1008 & 15 & 13 & 2013-07-02 15:00:00 & 650.3226\\\\\n",
       "\t 2013 &  5 & 13 & 2040 & 2025 &  15 & 2225 & 2226 &  -1 & EV & 4292 & N14568 & EWR & GSP &  55 &  594 & 20 & 25 & 2013-05-13 20:00:00 & 648.0000\\\\\n",
       "\t 2013 &  3 & 23 & 1914 & 1910 &   4 & 2045 & 2043 &   2 & EV & 3805 & N12567 & EWR & BNA &  70 &  748 & 19 & 10 & 2013-03-23 19:00:00 & 641.1429\\\\\n",
       "\t 2013 &  1 & 12 & 1559 & 1600 &  -1 & 1849 & 1917 & -28 & DL & 1902 & N956DL & LGA & PBI & 105 & 1035 & 16 &  0 & 2013-01-12 16:00:00 & 591.4286\\\\\n",
       "\t 2013 & 11 & 17 &  650 &  655 &  -5 & 1059 & 1150 & -51 & DL &  315 & N3768  & JFK & SJU & 170 & 1598 &  6 & 55 & 2013-11-17 06:00:00 & 564.0000\\\\\n",
       "\t 2013 &  2 & 21 & 2355 & 2358 &  -3 &  412 &  438 & -26 & B6 &  707 & N779JB & JFK & SJU & 172 & 1598 & 23 & 58 & 2013-02-21 23:00:00 & 557.4419\\\\\n",
       "\t 2013 & 11 & 17 &  759 &  800 &  -1 & 1212 & 1255 & -43 & AA &  936 & N5FFAA & JFK & STT & 175 & 1623 &  8 &  0 & 2013-11-17 08:00:00 & 556.4571\\\\\n",
       "\t 2013 & 11 & 16 & 2003 & 1925 &  38 &   17 &   36 & -19 & DL &  347 & N3773D & JFK & SJU & 173 & 1598 & 19 & 25 & 2013-11-16 19:00:00 & 554.2197\\\\\n",
       "\t 2013 & 11 & 16 & 2349 & 2359 & -10 &  402 &  440 & -38 & B6 & 1503 & N571JB & JFK & SJU & 173 & 1598 & 23 & 59 & 2013-11-16 23:00:00 & 554.2197\\\\\n",
       "\t 2013 & 11 & 17 &  851 &  855 &  -4 & 1307 & 1345 & -38 & DL &  301 & N624AG & JFK & SJU & 173 & 1598 &  8 & 55 & 2013-11-17 08:00:00 & 554.2197\\\\\n",
       "\t 2013 & 11 & 17 & 1926 & 1925 &   1 &    7 &   39 & -32 & DL &  347 & N382DA & JFK & SJU & 173 & 1598 & 19 & 25 & 2013-11-17 19:00:00 & 554.2197\\\\\n",
       "\t 2013 & 12 &  5 & 1858 & 1900 &  -2 & 2313 & 2359 & -46 & AA & 1029 & N617AA & JFK & SJU & 173 & 1598 & 19 &  0 & 2013-12-05 19:00:00 & 554.2197\\\\\n",
       "\t 2013 &  2 & 10 & 1658 & 1700 &  -2 & 2125 & 2204 & -39 & DL &  329 & N371DA & JFK & SJU & 173 & 1598 & 17 &  0 & 2013-02-10 17:00:00 & 554.2197\\\\\n",
       "\t 2013 &  2 & 10 & 1958 & 1855 &  63 &   31 & 2355 &  36 & AA & 1613 & N625AA & JFK & SJU & 173 & 1598 & 18 & 55 & 2013-02-10 18:00:00 & 554.2197\\\\\n",
       "\\end{tabular}\n"
      ],
      "text/markdown": [
       "\n",
       "A tibble: 15 × 20\n",
       "\n",
       "| year &lt;int&gt; | month &lt;int&gt; | day &lt;int&gt; | dep_time &lt;int&gt; | sched_dep_time &lt;int&gt; | dep_delay &lt;dbl&gt; | arr_time &lt;int&gt; | sched_arr_time &lt;int&gt; | arr_delay &lt;dbl&gt; | carrier &lt;chr&gt; | flight &lt;int&gt; | tailnum &lt;chr&gt; | origin &lt;chr&gt; | dest &lt;chr&gt; | air_time &lt;dbl&gt; | distance &lt;dbl&gt; | hour &lt;dbl&gt; | minute &lt;dbl&gt; | time_hour &lt;dttm&gt; | speed &lt;dbl&gt; |\n",
       "|---|---|---|---|---|---|---|---|---|---|---|---|---|---|---|---|---|---|---|---|\n",
       "| 2013 |  5 | 25 | 1709 | 1700 |   9 | 1923 | 1937 | -14 | DL | 1499 | N666DN | LGA | ATL |  65 |  762 | 17 |  0 | 2013-05-25 17:00:00 | 703.3846 |\n",
       "| 2013 |  7 |  2 | 1558 | 1513 |  45 | 1745 | 1719 |  26 | EV | 4667 | N17196 | EWR | MSP |  93 | 1008 | 15 | 13 | 2013-07-02 15:00:00 | 650.3226 |\n",
       "| 2013 |  5 | 13 | 2040 | 2025 |  15 | 2225 | 2226 |  -1 | EV | 4292 | N14568 | EWR | GSP |  55 |  594 | 20 | 25 | 2013-05-13 20:00:00 | 648.0000 |\n",
       "| 2013 |  3 | 23 | 1914 | 1910 |   4 | 2045 | 2043 |   2 | EV | 3805 | N12567 | EWR | BNA |  70 |  748 | 19 | 10 | 2013-03-23 19:00:00 | 641.1429 |\n",
       "| 2013 |  1 | 12 | 1559 | 1600 |  -1 | 1849 | 1917 | -28 | DL | 1902 | N956DL | LGA | PBI | 105 | 1035 | 16 |  0 | 2013-01-12 16:00:00 | 591.4286 |\n",
       "| 2013 | 11 | 17 |  650 |  655 |  -5 | 1059 | 1150 | -51 | DL |  315 | N3768  | JFK | SJU | 170 | 1598 |  6 | 55 | 2013-11-17 06:00:00 | 564.0000 |\n",
       "| 2013 |  2 | 21 | 2355 | 2358 |  -3 |  412 |  438 | -26 | B6 |  707 | N779JB | JFK | SJU | 172 | 1598 | 23 | 58 | 2013-02-21 23:00:00 | 557.4419 |\n",
       "| 2013 | 11 | 17 |  759 |  800 |  -1 | 1212 | 1255 | -43 | AA |  936 | N5FFAA | JFK | STT | 175 | 1623 |  8 |  0 | 2013-11-17 08:00:00 | 556.4571 |\n",
       "| 2013 | 11 | 16 | 2003 | 1925 |  38 |   17 |   36 | -19 | DL |  347 | N3773D | JFK | SJU | 173 | 1598 | 19 | 25 | 2013-11-16 19:00:00 | 554.2197 |\n",
       "| 2013 | 11 | 16 | 2349 | 2359 | -10 |  402 |  440 | -38 | B6 | 1503 | N571JB | JFK | SJU | 173 | 1598 | 23 | 59 | 2013-11-16 23:00:00 | 554.2197 |\n",
       "| 2013 | 11 | 17 |  851 |  855 |  -4 | 1307 | 1345 | -38 | DL |  301 | N624AG | JFK | SJU | 173 | 1598 |  8 | 55 | 2013-11-17 08:00:00 | 554.2197 |\n",
       "| 2013 | 11 | 17 | 1926 | 1925 |   1 |    7 |   39 | -32 | DL |  347 | N382DA | JFK | SJU | 173 | 1598 | 19 | 25 | 2013-11-17 19:00:00 | 554.2197 |\n",
       "| 2013 | 12 |  5 | 1858 | 1900 |  -2 | 2313 | 2359 | -46 | AA | 1029 | N617AA | JFK | SJU | 173 | 1598 | 19 |  0 | 2013-12-05 19:00:00 | 554.2197 |\n",
       "| 2013 |  2 | 10 | 1658 | 1700 |  -2 | 2125 | 2204 | -39 | DL |  329 | N371DA | JFK | SJU | 173 | 1598 | 17 |  0 | 2013-02-10 17:00:00 | 554.2197 |\n",
       "| 2013 |  2 | 10 | 1958 | 1855 |  63 |   31 | 2355 |  36 | AA | 1613 | N625AA | JFK | SJU | 173 | 1598 | 18 | 55 | 2013-02-10 18:00:00 | 554.2197 |\n",
       "\n"
      ],
      "text/plain": [
       "   year month day dep_time sched_dep_time dep_delay arr_time sched_arr_time\n",
       "1  2013  5    25  1709     1700             9       1923     1937          \n",
       "2  2013  7     2  1558     1513            45       1745     1719          \n",
       "3  2013  5    13  2040     2025            15       2225     2226          \n",
       "4  2013  3    23  1914     1910             4       2045     2043          \n",
       "5  2013  1    12  1559     1600            -1       1849     1917          \n",
       "6  2013 11    17   650      655            -5       1059     1150          \n",
       "7  2013  2    21  2355     2358            -3        412      438          \n",
       "8  2013 11    17   759      800            -1       1212     1255          \n",
       "9  2013 11    16  2003     1925            38         17       36          \n",
       "10 2013 11    16  2349     2359           -10        402      440          \n",
       "11 2013 11    17   851      855            -4       1307     1345          \n",
       "12 2013 11    17  1926     1925             1          7       39          \n",
       "13 2013 12     5  1858     1900            -2       2313     2359          \n",
       "14 2013  2    10  1658     1700            -2       2125     2204          \n",
       "15 2013  2    10  1958     1855            63         31     2355          \n",
       "   arr_delay carrier flight tailnum origin dest air_time distance hour minute\n",
       "1  -14       DL      1499   N666DN  LGA    ATL   65       762     17    0    \n",
       "2   26       EV      4667   N17196  EWR    MSP   93      1008     15   13    \n",
       "3   -1       EV      4292   N14568  EWR    GSP   55       594     20   25    \n",
       "4    2       EV      3805   N12567  EWR    BNA   70       748     19   10    \n",
       "5  -28       DL      1902   N956DL  LGA    PBI  105      1035     16    0    \n",
       "6  -51       DL       315   N3768   JFK    SJU  170      1598      6   55    \n",
       "7  -26       B6       707   N779JB  JFK    SJU  172      1598     23   58    \n",
       "8  -43       AA       936   N5FFAA  JFK    STT  175      1623      8    0    \n",
       "9  -19       DL       347   N3773D  JFK    SJU  173      1598     19   25    \n",
       "10 -38       B6      1503   N571JB  JFK    SJU  173      1598     23   59    \n",
       "11 -38       DL       301   N624AG  JFK    SJU  173      1598      8   55    \n",
       "12 -32       DL       347   N382DA  JFK    SJU  173      1598     19   25    \n",
       "13 -46       AA      1029   N617AA  JFK    SJU  173      1598     19    0    \n",
       "14 -39       DL       329   N371DA  JFK    SJU  173      1598     17    0    \n",
       "15  36       AA      1613   N625AA  JFK    SJU  173      1598     18   55    \n",
       "   time_hour           speed   \n",
       "1  2013-05-25 17:00:00 703.3846\n",
       "2  2013-07-02 15:00:00 650.3226\n",
       "3  2013-05-13 20:00:00 648.0000\n",
       "4  2013-03-23 19:00:00 641.1429\n",
       "5  2013-01-12 16:00:00 591.4286\n",
       "6  2013-11-17 06:00:00 564.0000\n",
       "7  2013-02-21 23:00:00 557.4419\n",
       "8  2013-11-17 08:00:00 556.4571\n",
       "9  2013-11-16 19:00:00 554.2197\n",
       "10 2013-11-16 23:00:00 554.2197\n",
       "11 2013-11-17 08:00:00 554.2197\n",
       "12 2013-11-17 19:00:00 554.2197\n",
       "13 2013-12-05 19:00:00 554.2197\n",
       "14 2013-02-10 17:00:00 554.2197\n",
       "15 2013-02-10 18:00:00 554.2197"
      ]
     },
     "metadata": {},
     "output_type": "display_data"
    }
   ],
   "source": [
    "df %>% mutate(speed=distance/air_time*60) %>%\n",
    "        arrange(desc(speed)) %>% unique()  %>% top_n(n = 10,speed)"
   ]
  },
  {
   "cell_type": "markdown",
   "id": "8a9712dd",
   "metadata": {},
   "source": [
    "+ Find a list of carriers with a column ratio which denotes the number of flights with arr delay less than 10 minutes to the total\n",
    "    number of flights. The list should be sorted by ratio."
   ]
  },
  {
   "cell_type": "code",
   "execution_count": 138,
   "id": "0c19b55f",
   "metadata": {},
   "outputs": [],
   "source": [
    "df %>% filter(!is.na(arr_delay)) %>% ## remove null values\n",
    "       mutate(bool_del=if_else(arr_delay<10,1,0)) %>% ## create new col\n",
    "       group_by(month,carrier) %>%  ## group by month, carrier\n",
    "       mutate(\n",
    "          nof=n(),\n",
    "          ndel=sum(bool_del),\n",
    "          del_ratio=ndel/nof \n",
    "       ) %>%\n",
    "       group_by(month)%>%\n",
    "       filter(del_ratio==max(del_ratio)) %>%\n",
    "       unique() %>%\n",
    "       arrange(month) ->y"
   ]
  },
  {
   "cell_type": "code",
   "execution_count": 137,
   "id": "80690682",
   "metadata": {},
   "outputs": [],
   "source": [
    "df %>% filter(!is.na(arr_delay)) %>% ## remove null values\n",
    "       mutate(bool_del=if_else(arr_delay<10,1,0)) %>% ## create new col\n",
    "       group_by(month,carrier) %>%  ## group by month, carrier\n",
    "       mutate(\n",
    "          nof=n(),\n",
    "          ndel=sum(bool_del),\n",
    "          del_ratio=ndel/nof \n",
    "       ) %>%\n",
    "      # group_by(month)%>%\n",
    "       filter(del_ratio==max(del_ratio)) %>%\n",
    "       unique() %>%\n",
    "       arrange(month)->x"
   ]
  },
  {
   "cell_type": "code",
   "execution_count": 142,
   "id": "e01763a6",
   "metadata": {
    "scrolled": false
   },
   "outputs": [
    {
     "data": {
      "text/html": [
       "<table class=\"dataframe\">\n",
       "<caption>A grouped_df: 552 × 23</caption>\n",
       "<thead>\n",
       "\t<tr><th scope=col>year</th><th scope=col>month</th><th scope=col>day</th><th scope=col>dep_time</th><th scope=col>sched_dep_time</th><th scope=col>dep_delay</th><th scope=col>arr_time</th><th scope=col>sched_arr_time</th><th scope=col>arr_delay</th><th scope=col>carrier</th><th scope=col>⋯</th><th scope=col>dest</th><th scope=col>air_time</th><th scope=col>distance</th><th scope=col>hour</th><th scope=col>minute</th><th scope=col>time_hour</th><th scope=col>bool_del</th><th scope=col>nof</th><th scope=col>ndel</th><th scope=col>del_ratio</th></tr>\n",
       "\t<tr><th scope=col>&lt;int&gt;</th><th scope=col>&lt;int&gt;</th><th scope=col>&lt;int&gt;</th><th scope=col>&lt;int&gt;</th><th scope=col>&lt;int&gt;</th><th scope=col>&lt;dbl&gt;</th><th scope=col>&lt;int&gt;</th><th scope=col>&lt;int&gt;</th><th scope=col>&lt;dbl&gt;</th><th scope=col>&lt;chr&gt;</th><th scope=col>⋯</th><th scope=col>&lt;chr&gt;</th><th scope=col>&lt;dbl&gt;</th><th scope=col>&lt;dbl&gt;</th><th scope=col>&lt;dbl&gt;</th><th scope=col>&lt;dbl&gt;</th><th scope=col>&lt;dttm&gt;</th><th scope=col>&lt;dbl&gt;</th><th scope=col>&lt;int&gt;</th><th scope=col>&lt;dbl&gt;</th><th scope=col>&lt;dbl&gt;</th></tr>\n",
       "</thead>\n",
       "<tbody>\n",
       "\t<tr><td>2013</td><td>1</td><td>1</td><td> 810</td><td> 810</td><td>  0</td><td>1048</td><td>1037</td><td> 11</td><td>9E</td><td>⋯</td><td>MSP</td><td>189</td><td>1029</td><td> 8</td><td>10</td><td>2013-01-01 08:00:00</td><td>0</td><td>1480</td><td>1042</td><td>0.7040541</td></tr>\n",
       "\t<tr><td>2013</td><td>1</td><td>1</td><td>1451</td><td>1500</td><td> -9</td><td>1634</td><td>1636</td><td> -2</td><td>9E</td><td>⋯</td><td>IAD</td><td> 57</td><td> 228</td><td>15</td><td> 0</td><td>2013-01-01 15:00:00</td><td>1</td><td>1480</td><td>1042</td><td>0.7040541</td></tr>\n",
       "\t<tr><td>2013</td><td>1</td><td>1</td><td>1452</td><td>1455</td><td> -3</td><td>1637</td><td>1639</td><td> -2</td><td>9E</td><td>⋯</td><td>BUF</td><td> 68</td><td> 301</td><td>14</td><td>55</td><td>2013-01-01 14:00:00</td><td>1</td><td>1480</td><td>1042</td><td>0.7040541</td></tr>\n",
       "\t<tr><td>2013</td><td>1</td><td>1</td><td> 542</td><td> 540</td><td>  2</td><td> 923</td><td> 850</td><td> 33</td><td>AA</td><td>⋯</td><td>MIA</td><td>160</td><td>1089</td><td> 5</td><td>40</td><td>2013-01-01 05:00:00</td><td>0</td><td>2724</td><td>2053</td><td>0.7536711</td></tr>\n",
       "\t<tr><td>2013</td><td>1</td><td>1</td><td> 558</td><td> 600</td><td> -2</td><td> 753</td><td> 745</td><td>  8</td><td>AA</td><td>⋯</td><td>ORD</td><td>138</td><td> 733</td><td> 6</td><td> 0</td><td>2013-01-01 06:00:00</td><td>1</td><td>2724</td><td>2053</td><td>0.7536711</td></tr>\n",
       "\t<tr><td>2013</td><td>1</td><td>1</td><td> 559</td><td> 600</td><td> -1</td><td> 941</td><td> 910</td><td> 31</td><td>AA</td><td>⋯</td><td>DFW</td><td>257</td><td>1389</td><td> 6</td><td> 0</td><td>2013-01-01 06:00:00</td><td>0</td><td>2724</td><td>2053</td><td>0.7536711</td></tr>\n",
       "\t<tr><td>2013</td><td>1</td><td>1</td><td> 724</td><td> 725</td><td> -1</td><td>1020</td><td>1030</td><td>-10</td><td>AS</td><td>⋯</td><td>SEA</td><td>338</td><td>2402</td><td> 7</td><td>25</td><td>2013-01-01 07:00:00</td><td>1</td><td>  62</td><td>  36</td><td>0.5806452</td></tr>\n",
       "\t<tr><td>2013</td><td>1</td><td>1</td><td>1808</td><td>1815</td><td> -7</td><td>2111</td><td>2130</td><td>-19</td><td>AS</td><td>⋯</td><td>SEA</td><td>336</td><td>2402</td><td>18</td><td>15</td><td>2013-01-01 18:00:00</td><td>1</td><td>  62</td><td>  36</td><td>0.5806452</td></tr>\n",
       "\t<tr><td>2013</td><td>1</td><td>2</td><td> 722</td><td> 725</td><td> -3</td><td> 949</td><td>1030</td><td>-41</td><td>AS</td><td>⋯</td><td>SEA</td><td>314</td><td>2402</td><td> 7</td><td>25</td><td>2013-01-02 07:00:00</td><td>1</td><td>  62</td><td>  36</td><td>0.5806452</td></tr>\n",
       "\t<tr><td>2013</td><td>1</td><td>1</td><td> 544</td><td> 545</td><td> -1</td><td>1004</td><td>1022</td><td>-18</td><td>B6</td><td>⋯</td><td>BQN</td><td>183</td><td>1576</td><td> 5</td><td>45</td><td>2013-01-01 05:00:00</td><td>1</td><td>4413</td><td>3175</td><td>0.7194652</td></tr>\n",
       "\t<tr><td>2013</td><td>1</td><td>1</td><td> 555</td><td> 600</td><td> -5</td><td> 913</td><td> 854</td><td> 19</td><td>B6</td><td>⋯</td><td>FLL</td><td>158</td><td>1065</td><td> 6</td><td> 0</td><td>2013-01-01 06:00:00</td><td>0</td><td>4413</td><td>3175</td><td>0.7194652</td></tr>\n",
       "\t<tr><td>2013</td><td>1</td><td>1</td><td> 557</td><td> 600</td><td> -3</td><td> 838</td><td> 846</td><td> -8</td><td>B6</td><td>⋯</td><td>MCO</td><td>140</td><td> 944</td><td> 6</td><td> 0</td><td>2013-01-01 06:00:00</td><td>1</td><td>4413</td><td>3175</td><td>0.7194652</td></tr>\n",
       "\t<tr><td>2013</td><td>1</td><td>1</td><td> 554</td><td> 600</td><td> -6</td><td> 812</td><td> 837</td><td>-25</td><td>DL</td><td>⋯</td><td>ATL</td><td>116</td><td> 762</td><td> 6</td><td> 0</td><td>2013-01-01 06:00:00</td><td>1</td><td>3655</td><td>3024</td><td>0.8273598</td></tr>\n",
       "\t<tr><td>2013</td><td>1</td><td>1</td><td> 602</td><td> 610</td><td> -8</td><td> 812</td><td> 820</td><td> -8</td><td>DL</td><td>⋯</td><td>MSP</td><td>170</td><td>1020</td><td> 6</td><td>10</td><td>2013-01-01 06:00:00</td><td>1</td><td>3655</td><td>3024</td><td>0.8273598</td></tr>\n",
       "\t<tr><td>2013</td><td>1</td><td>1</td><td> 606</td><td> 610</td><td> -4</td><td> 837</td><td> 845</td><td> -8</td><td>DL</td><td>⋯</td><td>ATL</td><td>128</td><td> 760</td><td> 6</td><td>10</td><td>2013-01-01 06:00:00</td><td>1</td><td>3655</td><td>3024</td><td>0.8273598</td></tr>\n",
       "\t<tr><td>2013</td><td>1</td><td>1</td><td> 557</td><td> 600</td><td> -3</td><td> 709</td><td> 723</td><td>-14</td><td>EV</td><td>⋯</td><td>IAD</td><td> 53</td><td> 229</td><td> 6</td><td> 0</td><td>2013-01-01 06:00:00</td><td>1</td><td>3964</td><td>2127</td><td>0.5365792</td></tr>\n",
       "\t<tr><td>2013</td><td>1</td><td>1</td><td> 624</td><td> 630</td><td> -6</td><td> 909</td><td> 840</td><td> 29</td><td>EV</td><td>⋯</td><td>MSP</td><td>190</td><td>1008</td><td> 6</td><td>30</td><td>2013-01-01 06:00:00</td><td>0</td><td>3964</td><td>2127</td><td>0.5365792</td></tr>\n",
       "\t<tr><td>2013</td><td>1</td><td>1</td><td> 632</td><td> 608</td><td> 24</td><td> 740</td><td> 728</td><td> 12</td><td>EV</td><td>⋯</td><td>IAD</td><td> 52</td><td> 212</td><td> 6</td><td> 8</td><td>2013-01-01 06:00:00</td><td>0</td><td>3964</td><td>2127</td><td>0.5365792</td></tr>\n",
       "\t<tr><td>2013</td><td>1</td><td>1</td><td> 833</td><td> 835</td><td> -2</td><td>1134</td><td>1102</td><td> 32</td><td>F9</td><td>⋯</td><td>DEN</td><td>257</td><td>1620</td><td> 8</td><td>35</td><td>2013-01-01 08:00:00</td><td>0</td><td>  59</td><td>  28</td><td>0.4745763</td></tr>\n",
       "\t<tr><td>2013</td><td>1</td><td>1</td><td>1716</td><td>1730</td><td>-14</td><td>1947</td><td>1953</td><td> -6</td><td>F9</td><td>⋯</td><td>DEN</td><td>242</td><td>1620</td><td>17</td><td>30</td><td>2013-01-01 17:00:00</td><td>1</td><td>  59</td><td>  28</td><td>0.4745763</td></tr>\n",
       "\t<tr><td>2013</td><td>1</td><td>2</td><td> 827</td><td> 835</td><td> -8</td><td>1120</td><td>1102</td><td> 18</td><td>F9</td><td>⋯</td><td>DEN</td><td>239</td><td>1620</td><td> 8</td><td>35</td><td>2013-01-02 08:00:00</td><td>0</td><td>  59</td><td>  28</td><td>0.4745763</td></tr>\n",
       "\t<tr><td>2013</td><td>1</td><td>1</td><td> 717</td><td> 720</td><td> -3</td><td> 850</td><td> 840</td><td> 10</td><td>FL</td><td>⋯</td><td>MKE</td><td>134</td><td> 738</td><td> 7</td><td>20</td><td>2013-01-01 07:00:00</td><td>0</td><td> 324</td><td> 244</td><td>0.7530864</td></tr>\n",
       "\t<tr><td>2013</td><td>1</td><td>1</td><td> 814</td><td> 810</td><td>  4</td><td>1047</td><td>1030</td><td> 17</td><td>FL</td><td>⋯</td><td>ATL</td><td>132</td><td> 762</td><td> 8</td><td>10</td><td>2013-01-01 08:00:00</td><td>0</td><td> 324</td><td> 244</td><td>0.7530864</td></tr>\n",
       "\t<tr><td>2013</td><td>1</td><td>1</td><td>1021</td><td>1023</td><td> -2</td><td>1254</td><td>1252</td><td>  2</td><td>FL</td><td>⋯</td><td>ATL</td><td>129</td><td> 762</td><td>10</td><td>23</td><td>2013-01-01 10:00:00</td><td>1</td><td> 324</td><td> 244</td><td>0.7530864</td></tr>\n",
       "\t<tr><td>2013</td><td>1</td><td>1</td><td> 857</td><td> 900</td><td> -3</td><td>1516</td><td>1530</td><td>-14</td><td>HA</td><td>⋯</td><td>HNL</td><td>659</td><td>4983</td><td> 9</td><td> 0</td><td>2013-01-01 09:00:00</td><td>1</td><td>  31</td><td>  26</td><td>0.8387097</td></tr>\n",
       "\t<tr><td>2013</td><td>1</td><td>2</td><td> 909</td><td> 900</td><td>  9</td><td>1525</td><td>1530</td><td> -5</td><td>HA</td><td>⋯</td><td>HNL</td><td>638</td><td>4983</td><td> 9</td><td> 0</td><td>2013-01-02 09:00:00</td><td>1</td><td>  31</td><td>  26</td><td>0.8387097</td></tr>\n",
       "\t<tr><td>2013</td><td>1</td><td>3</td><td> 914</td><td> 900</td><td> 14</td><td>1504</td><td>1530</td><td>-26</td><td>HA</td><td>⋯</td><td>HNL</td><td>616</td><td>4983</td><td> 9</td><td> 0</td><td>2013-01-03 09:00:00</td><td>1</td><td>  31</td><td>  26</td><td>0.8387097</td></tr>\n",
       "\t<tr><td>2013</td><td>1</td><td>1</td><td> 600</td><td> 600</td><td>  0</td><td> 837</td><td> 825</td><td> 12</td><td>MQ</td><td>⋯</td><td>ATL</td><td>134</td><td> 762</td><td> 6</td><td> 0</td><td>2013-01-01 06:00:00</td><td>0</td><td>2203</td><td>1543</td><td>0.7004085</td></tr>\n",
       "\t<tr><td>2013</td><td>1</td><td>1</td><td> 602</td><td> 605</td><td> -3</td><td> 821</td><td> 805</td><td> 16</td><td>MQ</td><td>⋯</td><td>DTW</td><td>105</td><td> 502</td><td> 6</td><td> 5</td><td>2013-01-01 06:00:00</td><td>0</td><td>2203</td><td>1543</td><td>0.7004085</td></tr>\n",
       "\t<tr><td>2013</td><td>1</td><td>1</td><td> 608</td><td> 600</td><td>  8</td><td> 807</td><td> 735</td><td> 32</td><td>MQ</td><td>⋯</td><td>ORD</td><td>139</td><td> 719</td><td> 6</td><td> 0</td><td>2013-01-01 06:00:00</td><td>0</td><td>2203</td><td>1543</td><td>0.7004085</td></tr>\n",
       "\t<tr><td>⋮</td><td>⋮</td><td>⋮</td><td>⋮</td><td>⋮</td><td>⋮</td><td>⋮</td><td>⋮</td><td>⋮</td><td>⋮</td><td>⋱</td><td>⋮</td><td>⋮</td><td>⋮</td><td>⋮</td><td>⋮</td><td>⋮</td><td>⋮</td><td>⋮</td><td>⋮</td><td>⋮</td></tr>\n",
       "\t<tr><td>2013</td><td>12</td><td>1</td><td> 541</td><td> 545</td><td> -4</td><td> 734</td><td> 755</td><td>-21</td><td>EV</td><td>⋯</td><td>CVG</td><td> 95</td><td> 569</td><td> 5</td><td>45</td><td>2013-12-01 05:00:00</td><td>1</td><td>3891</td><td>2074</td><td>0.5330249</td></tr>\n",
       "\t<tr><td>2013</td><td>12</td><td>1</td><td> 554</td><td> 601</td><td> -7</td><td> 748</td><td> 811</td><td>-23</td><td>EV</td><td>⋯</td><td>CLT</td><td> 86</td><td> 529</td><td> 6</td><td> 1</td><td>2013-12-01 06:00:00</td><td>1</td><td>3891</td><td>2074</td><td>0.5330249</td></tr>\n",
       "\t<tr><td>2013</td><td>12</td><td>1</td><td> 554</td><td> 600</td><td> -6</td><td> 712</td><td> 719</td><td> -7</td><td>EV</td><td>⋯</td><td>IAD</td><td> 44</td><td> 229</td><td> 6</td><td> 0</td><td>2013-12-01 06:00:00</td><td>1</td><td>3891</td><td>2074</td><td>0.5330249</td></tr>\n",
       "\t<tr><td>2013</td><td>12</td><td>1</td><td> 822</td><td> 830</td><td> -8</td><td>1044</td><td>1059</td><td>-15</td><td>F9</td><td>⋯</td><td>DEN</td><td>236</td><td>1620</td><td> 8</td><td>30</td><td>2013-12-01 08:00:00</td><td>1</td><td>  61</td><td>  31</td><td>0.5081967</td></tr>\n",
       "\t<tr><td>2013</td><td>12</td><td>1</td><td>1729</td><td>1729</td><td>  0</td><td>2000</td><td>1953</td><td>  7</td><td>F9</td><td>⋯</td><td>DEN</td><td>229</td><td>1620</td><td>17</td><td>29</td><td>2013-12-01 17:00:00</td><td>1</td><td>  61</td><td>  31</td><td>0.5081967</td></tr>\n",
       "\t<tr><td>2013</td><td>12</td><td>2</td><td> 827</td><td> 830</td><td> -3</td><td>1056</td><td>1059</td><td> -3</td><td>F9</td><td>⋯</td><td>DEN</td><td>236</td><td>1620</td><td> 8</td><td>30</td><td>2013-12-02 08:00:00</td><td>1</td><td>  61</td><td>  31</td><td>0.5081967</td></tr>\n",
       "\t<tr><td>2013</td><td>12</td><td>1</td><td> 916</td><td> 925</td><td> -9</td><td>1148</td><td>1153</td><td> -5</td><td>FL</td><td>⋯</td><td>ATL</td><td>116</td><td> 762</td><td> 9</td><td>25</td><td>2013-12-01 09:00:00</td><td>1</td><td> 208</td><td>  95</td><td>0.4567308</td></tr>\n",
       "\t<tr><td>2013</td><td>12</td><td>1</td><td> 958</td><td> 950</td><td>  8</td><td>1131</td><td>1123</td><td>  8</td><td>FL</td><td>⋯</td><td>CAK</td><td> 63</td><td> 397</td><td> 9</td><td>50</td><td>2013-12-01 09:00:00</td><td>1</td><td> 208</td><td>  95</td><td>0.4567308</td></tr>\n",
       "\t<tr><td>2013</td><td>12</td><td>1</td><td>1220</td><td>1156</td><td> 24</td><td>1502</td><td>1424</td><td> 38</td><td>FL</td><td>⋯</td><td>ATL</td><td>117</td><td> 762</td><td>11</td><td>56</td><td>2013-12-01 11:00:00</td><td>0</td><td> 208</td><td>  95</td><td>0.4567308</td></tr>\n",
       "\t<tr><td>2013</td><td>12</td><td>1</td><td> 928</td><td> 930</td><td> -2</td><td>1532</td><td>1535</td><td> -3</td><td>HA</td><td>⋯</td><td>HNL</td><td>625</td><td>4983</td><td> 9</td><td>30</td><td>2013-12-01 09:00:00</td><td>1</td><td>  28</td><td>  24</td><td>0.8571429</td></tr>\n",
       "\t<tr><td>2013</td><td>12</td><td>2</td><td> 920</td><td> 930</td><td>-10</td><td>1525</td><td>1535</td><td>-10</td><td>HA</td><td>⋯</td><td>HNL</td><td>640</td><td>4983</td><td> 9</td><td>30</td><td>2013-12-02 09:00:00</td><td>1</td><td>  28</td><td>  24</td><td>0.8571429</td></tr>\n",
       "\t<tr><td>2013</td><td>12</td><td>4</td><td> 933</td><td> 930</td><td>  3</td><td>1519</td><td>1535</td><td>-16</td><td>HA</td><td>⋯</td><td>HNL</td><td>628</td><td>4983</td><td> 9</td><td>30</td><td>2013-12-04 09:00:00</td><td>1</td><td>  28</td><td>  24</td><td>0.8571429</td></tr>\n",
       "\t<tr><td>2013</td><td>12</td><td>1</td><td> 739</td><td> 745</td><td> -6</td><td>1015</td><td>1040</td><td>-25</td><td>MQ</td><td>⋯</td><td>TPA</td><td>138</td><td>1005</td><td> 7</td><td>45</td><td>2013-12-01 07:00:00</td><td>1</td><td>1988</td><td>1194</td><td>0.6006036</td></tr>\n",
       "\t<tr><td>2013</td><td>12</td><td>1</td><td> 759</td><td> 805</td><td> -6</td><td> 944</td><td> 945</td><td> -1</td><td>MQ</td><td>⋯</td><td>RDU</td><td> 71</td><td> 431</td><td> 8</td><td> 5</td><td>2013-12-01 08:00:00</td><td>1</td><td>1988</td><td>1194</td><td>0.6006036</td></tr>\n",
       "\t<tr><td>2013</td><td>12</td><td>1</td><td> 816</td><td> 825</td><td> -9</td><td> 952</td><td>1005</td><td>-13</td><td>MQ</td><td>⋯</td><td>CLE</td><td> 70</td><td> 419</td><td> 8</td><td>25</td><td>2013-12-01 08:00:00</td><td>1</td><td>1988</td><td>1194</td><td>0.6006036</td></tr>\n",
       "\t<tr><td>2013</td><td>12</td><td>1</td><td> 520</td><td> 515</td><td>  5</td><td> 749</td><td> 808</td><td>-19</td><td>UA</td><td>⋯</td><td>IAH</td><td>193</td><td>1400</td><td> 5</td><td>15</td><td>2013-12-01 05:00:00</td><td>1</td><td>4819</td><td>2787</td><td>0.5783358</td></tr>\n",
       "\t<tr><td>2013</td><td>12</td><td>1</td><td> 546</td><td> 545</td><td>  1</td><td> 826</td><td> 835</td><td> -9</td><td>UA</td><td>⋯</td><td>IAH</td><td>204</td><td>1416</td><td> 5</td><td>45</td><td>2013-12-01 05:00:00</td><td>1</td><td>4819</td><td>2787</td><td>0.5783358</td></tr>\n",
       "\t<tr><td>2013</td><td>12</td><td>1</td><td> 558</td><td> 600</td><td> -2</td><td> 724</td><td> 743</td><td>-19</td><td>UA</td><td>⋯</td><td>CLE</td><td> 62</td><td> 404</td><td> 6</td><td> 0</td><td>2013-12-01 06:00:00</td><td>1</td><td>4819</td><td>2787</td><td>0.5783358</td></tr>\n",
       "\t<tr><td>2013</td><td>12</td><td>1</td><td> 453</td><td> 500</td><td> -7</td><td> 636</td><td> 651</td><td>-15</td><td>US</td><td>⋯</td><td>CLT</td><td> 86</td><td> 529</td><td> 5</td><td> 0</td><td>2013-12-01 05:00:00</td><td>1</td><td>1539</td><td>1121</td><td>0.7283951</td></tr>\n",
       "\t<tr><td>2013</td><td>12</td><td>1</td><td> 549</td><td> 600</td><td>-11</td><td> 648</td><td> 659</td><td>-11</td><td>US</td><td>⋯</td><td>DCA</td><td> 42</td><td> 214</td><td> 6</td><td> 0</td><td>2013-12-01 06:00:00</td><td>1</td><td>1539</td><td>1121</td><td>0.7283951</td></tr>\n",
       "\t<tr><td>2013</td><td>12</td><td>1</td><td> 554</td><td> 600</td><td> -6</td><td> 645</td><td> 705</td><td>-20</td><td>US</td><td>⋯</td><td>PHL</td><td> 36</td><td>  96</td><td> 6</td><td> 0</td><td>2013-12-01 06:00:00</td><td>1</td><td>1539</td><td>1121</td><td>0.7283951</td></tr>\n",
       "\t<tr><td>2013</td><td>12</td><td>1</td><td> 656</td><td> 700</td><td> -4</td><td>1005</td><td>1025</td><td>-20</td><td>VX</td><td>⋯</td><td>LAX</td><td>338</td><td>2475</td><td> 7</td><td> 0</td><td>2013-12-01 07:00:00</td><td>1</td><td> 462</td><td> 297</td><td>0.6428571</td></tr>\n",
       "\t<tr><td>2013</td><td>12</td><td>1</td><td> 724</td><td> 730</td><td> -6</td><td>1021</td><td>1105</td><td>-44</td><td>VX</td><td>⋯</td><td>SFO</td><td>343</td><td>2565</td><td> 7</td><td>30</td><td>2013-12-01 07:00:00</td><td>1</td><td> 462</td><td> 297</td><td>0.6428571</td></tr>\n",
       "\t<tr><td>2013</td><td>12</td><td>1</td><td> 726</td><td> 730</td><td> -4</td><td>1038</td><td>1110</td><td>-32</td><td>VX</td><td>⋯</td><td>SFO</td><td>350</td><td>2586</td><td> 7</td><td>30</td><td>2013-12-01 07:00:00</td><td>1</td><td> 462</td><td> 297</td><td>0.6428571</td></tr>\n",
       "\t<tr><td>2013</td><td>12</td><td>1</td><td> 558</td><td> 600</td><td> -2</td><td> 718</td><td> 725</td><td> -7</td><td>WN</td><td>⋯</td><td>MDW</td><td>109</td><td> 711</td><td> 6</td><td> 0</td><td>2013-12-01 06:00:00</td><td>1</td><td>1074</td><td> 526</td><td>0.4897579</td></tr>\n",
       "\t<tr><td>2013</td><td>12</td><td>1</td><td> 603</td><td> 605</td><td> -2</td><td> 731</td><td> 735</td><td> -4</td><td>WN</td><td>⋯</td><td>MDW</td><td>106</td><td> 725</td><td> 6</td><td> 5</td><td>2013-12-01 06:00:00</td><td>1</td><td>1074</td><td> 526</td><td>0.4897579</td></tr>\n",
       "\t<tr><td>2013</td><td>12</td><td>1</td><td> 613</td><td> 615</td><td> -2</td><td> 912</td><td> 930</td><td>-18</td><td>WN</td><td>⋯</td><td>HOU</td><td>206</td><td>1411</td><td> 6</td><td>15</td><td>2013-12-01 06:00:00</td><td>1</td><td>1074</td><td> 526</td><td>0.4897579</td></tr>\n",
       "\t<tr><td>2013</td><td>12</td><td>1</td><td>1659</td><td>1646</td><td> 13</td><td>1850</td><td>1810</td><td> 40</td><td>YV</td><td>⋯</td><td>IAD</td><td> 83</td><td> 229</td><td>16</td><td>46</td><td>2013-12-01 16:00:00</td><td>0</td><td>  43</td><td>  27</td><td>0.6279070</td></tr>\n",
       "\t<tr><td>2013</td><td>12</td><td>2</td><td>1146</td><td>1148</td><td> -2</td><td>1335</td><td>1404</td><td>-29</td><td>YV</td><td>⋯</td><td>CLT</td><td> 86</td><td> 544</td><td>11</td><td>48</td><td>2013-12-02 11:00:00</td><td>1</td><td>  43</td><td>  27</td><td>0.6279070</td></tr>\n",
       "\t<tr><td>2013</td><td>12</td><td>2</td><td>1724</td><td>1646</td><td> 38</td><td>1845</td><td>1810</td><td> 35</td><td>YV</td><td>⋯</td><td>IAD</td><td> 50</td><td> 229</td><td>16</td><td>46</td><td>2013-12-02 16:00:00</td><td>0</td><td>  43</td><td>  27</td><td>0.6279070</td></tr>\n",
       "</tbody>\n",
       "</table>\n"
      ],
      "text/latex": [
       "A grouped\\_df: 552 × 23\n",
       "\\begin{tabular}{lllllllllllllllllllll}\n",
       " year & month & day & dep\\_time & sched\\_dep\\_time & dep\\_delay & arr\\_time & sched\\_arr\\_time & arr\\_delay & carrier & ⋯ & dest & air\\_time & distance & hour & minute & time\\_hour & bool\\_del & nof & ndel & del\\_ratio\\\\\n",
       " <int> & <int> & <int> & <int> & <int> & <dbl> & <int> & <int> & <dbl> & <chr> & ⋯ & <chr> & <dbl> & <dbl> & <dbl> & <dbl> & <dttm> & <dbl> & <int> & <dbl> & <dbl>\\\\\n",
       "\\hline\n",
       "\t 2013 & 1 & 1 &  810 &  810 &   0 & 1048 & 1037 &  11 & 9E & ⋯ & MSP & 189 & 1029 &  8 & 10 & 2013-01-01 08:00:00 & 0 & 1480 & 1042 & 0.7040541\\\\\n",
       "\t 2013 & 1 & 1 & 1451 & 1500 &  -9 & 1634 & 1636 &  -2 & 9E & ⋯ & IAD &  57 &  228 & 15 &  0 & 2013-01-01 15:00:00 & 1 & 1480 & 1042 & 0.7040541\\\\\n",
       "\t 2013 & 1 & 1 & 1452 & 1455 &  -3 & 1637 & 1639 &  -2 & 9E & ⋯ & BUF &  68 &  301 & 14 & 55 & 2013-01-01 14:00:00 & 1 & 1480 & 1042 & 0.7040541\\\\\n",
       "\t 2013 & 1 & 1 &  542 &  540 &   2 &  923 &  850 &  33 & AA & ⋯ & MIA & 160 & 1089 &  5 & 40 & 2013-01-01 05:00:00 & 0 & 2724 & 2053 & 0.7536711\\\\\n",
       "\t 2013 & 1 & 1 &  558 &  600 &  -2 &  753 &  745 &   8 & AA & ⋯ & ORD & 138 &  733 &  6 &  0 & 2013-01-01 06:00:00 & 1 & 2724 & 2053 & 0.7536711\\\\\n",
       "\t 2013 & 1 & 1 &  559 &  600 &  -1 &  941 &  910 &  31 & AA & ⋯ & DFW & 257 & 1389 &  6 &  0 & 2013-01-01 06:00:00 & 0 & 2724 & 2053 & 0.7536711\\\\\n",
       "\t 2013 & 1 & 1 &  724 &  725 &  -1 & 1020 & 1030 & -10 & AS & ⋯ & SEA & 338 & 2402 &  7 & 25 & 2013-01-01 07:00:00 & 1 &   62 &   36 & 0.5806452\\\\\n",
       "\t 2013 & 1 & 1 & 1808 & 1815 &  -7 & 2111 & 2130 & -19 & AS & ⋯ & SEA & 336 & 2402 & 18 & 15 & 2013-01-01 18:00:00 & 1 &   62 &   36 & 0.5806452\\\\\n",
       "\t 2013 & 1 & 2 &  722 &  725 &  -3 &  949 & 1030 & -41 & AS & ⋯ & SEA & 314 & 2402 &  7 & 25 & 2013-01-02 07:00:00 & 1 &   62 &   36 & 0.5806452\\\\\n",
       "\t 2013 & 1 & 1 &  544 &  545 &  -1 & 1004 & 1022 & -18 & B6 & ⋯ & BQN & 183 & 1576 &  5 & 45 & 2013-01-01 05:00:00 & 1 & 4413 & 3175 & 0.7194652\\\\\n",
       "\t 2013 & 1 & 1 &  555 &  600 &  -5 &  913 &  854 &  19 & B6 & ⋯ & FLL & 158 & 1065 &  6 &  0 & 2013-01-01 06:00:00 & 0 & 4413 & 3175 & 0.7194652\\\\\n",
       "\t 2013 & 1 & 1 &  557 &  600 &  -3 &  838 &  846 &  -8 & B6 & ⋯ & MCO & 140 &  944 &  6 &  0 & 2013-01-01 06:00:00 & 1 & 4413 & 3175 & 0.7194652\\\\\n",
       "\t 2013 & 1 & 1 &  554 &  600 &  -6 &  812 &  837 & -25 & DL & ⋯ & ATL & 116 &  762 &  6 &  0 & 2013-01-01 06:00:00 & 1 & 3655 & 3024 & 0.8273598\\\\\n",
       "\t 2013 & 1 & 1 &  602 &  610 &  -8 &  812 &  820 &  -8 & DL & ⋯ & MSP & 170 & 1020 &  6 & 10 & 2013-01-01 06:00:00 & 1 & 3655 & 3024 & 0.8273598\\\\\n",
       "\t 2013 & 1 & 1 &  606 &  610 &  -4 &  837 &  845 &  -8 & DL & ⋯ & ATL & 128 &  760 &  6 & 10 & 2013-01-01 06:00:00 & 1 & 3655 & 3024 & 0.8273598\\\\\n",
       "\t 2013 & 1 & 1 &  557 &  600 &  -3 &  709 &  723 & -14 & EV & ⋯ & IAD &  53 &  229 &  6 &  0 & 2013-01-01 06:00:00 & 1 & 3964 & 2127 & 0.5365792\\\\\n",
       "\t 2013 & 1 & 1 &  624 &  630 &  -6 &  909 &  840 &  29 & EV & ⋯ & MSP & 190 & 1008 &  6 & 30 & 2013-01-01 06:00:00 & 0 & 3964 & 2127 & 0.5365792\\\\\n",
       "\t 2013 & 1 & 1 &  632 &  608 &  24 &  740 &  728 &  12 & EV & ⋯ & IAD &  52 &  212 &  6 &  8 & 2013-01-01 06:00:00 & 0 & 3964 & 2127 & 0.5365792\\\\\n",
       "\t 2013 & 1 & 1 &  833 &  835 &  -2 & 1134 & 1102 &  32 & F9 & ⋯ & DEN & 257 & 1620 &  8 & 35 & 2013-01-01 08:00:00 & 0 &   59 &   28 & 0.4745763\\\\\n",
       "\t 2013 & 1 & 1 & 1716 & 1730 & -14 & 1947 & 1953 &  -6 & F9 & ⋯ & DEN & 242 & 1620 & 17 & 30 & 2013-01-01 17:00:00 & 1 &   59 &   28 & 0.4745763\\\\\n",
       "\t 2013 & 1 & 2 &  827 &  835 &  -8 & 1120 & 1102 &  18 & F9 & ⋯ & DEN & 239 & 1620 &  8 & 35 & 2013-01-02 08:00:00 & 0 &   59 &   28 & 0.4745763\\\\\n",
       "\t 2013 & 1 & 1 &  717 &  720 &  -3 &  850 &  840 &  10 & FL & ⋯ & MKE & 134 &  738 &  7 & 20 & 2013-01-01 07:00:00 & 0 &  324 &  244 & 0.7530864\\\\\n",
       "\t 2013 & 1 & 1 &  814 &  810 &   4 & 1047 & 1030 &  17 & FL & ⋯ & ATL & 132 &  762 &  8 & 10 & 2013-01-01 08:00:00 & 0 &  324 &  244 & 0.7530864\\\\\n",
       "\t 2013 & 1 & 1 & 1021 & 1023 &  -2 & 1254 & 1252 &   2 & FL & ⋯ & ATL & 129 &  762 & 10 & 23 & 2013-01-01 10:00:00 & 1 &  324 &  244 & 0.7530864\\\\\n",
       "\t 2013 & 1 & 1 &  857 &  900 &  -3 & 1516 & 1530 & -14 & HA & ⋯ & HNL & 659 & 4983 &  9 &  0 & 2013-01-01 09:00:00 & 1 &   31 &   26 & 0.8387097\\\\\n",
       "\t 2013 & 1 & 2 &  909 &  900 &   9 & 1525 & 1530 &  -5 & HA & ⋯ & HNL & 638 & 4983 &  9 &  0 & 2013-01-02 09:00:00 & 1 &   31 &   26 & 0.8387097\\\\\n",
       "\t 2013 & 1 & 3 &  914 &  900 &  14 & 1504 & 1530 & -26 & HA & ⋯ & HNL & 616 & 4983 &  9 &  0 & 2013-01-03 09:00:00 & 1 &   31 &   26 & 0.8387097\\\\\n",
       "\t 2013 & 1 & 1 &  600 &  600 &   0 &  837 &  825 &  12 & MQ & ⋯ & ATL & 134 &  762 &  6 &  0 & 2013-01-01 06:00:00 & 0 & 2203 & 1543 & 0.7004085\\\\\n",
       "\t 2013 & 1 & 1 &  602 &  605 &  -3 &  821 &  805 &  16 & MQ & ⋯ & DTW & 105 &  502 &  6 &  5 & 2013-01-01 06:00:00 & 0 & 2203 & 1543 & 0.7004085\\\\\n",
       "\t 2013 & 1 & 1 &  608 &  600 &   8 &  807 &  735 &  32 & MQ & ⋯ & ORD & 139 &  719 &  6 &  0 & 2013-01-01 06:00:00 & 0 & 2203 & 1543 & 0.7004085\\\\\n",
       "\t ⋮ & ⋮ & ⋮ & ⋮ & ⋮ & ⋮ & ⋮ & ⋮ & ⋮ & ⋮ & ⋱ & ⋮ & ⋮ & ⋮ & ⋮ & ⋮ & ⋮ & ⋮ & ⋮ & ⋮ & ⋮\\\\\n",
       "\t 2013 & 12 & 1 &  541 &  545 &  -4 &  734 &  755 & -21 & EV & ⋯ & CVG &  95 &  569 &  5 & 45 & 2013-12-01 05:00:00 & 1 & 3891 & 2074 & 0.5330249\\\\\n",
       "\t 2013 & 12 & 1 &  554 &  601 &  -7 &  748 &  811 & -23 & EV & ⋯ & CLT &  86 &  529 &  6 &  1 & 2013-12-01 06:00:00 & 1 & 3891 & 2074 & 0.5330249\\\\\n",
       "\t 2013 & 12 & 1 &  554 &  600 &  -6 &  712 &  719 &  -7 & EV & ⋯ & IAD &  44 &  229 &  6 &  0 & 2013-12-01 06:00:00 & 1 & 3891 & 2074 & 0.5330249\\\\\n",
       "\t 2013 & 12 & 1 &  822 &  830 &  -8 & 1044 & 1059 & -15 & F9 & ⋯ & DEN & 236 & 1620 &  8 & 30 & 2013-12-01 08:00:00 & 1 &   61 &   31 & 0.5081967\\\\\n",
       "\t 2013 & 12 & 1 & 1729 & 1729 &   0 & 2000 & 1953 &   7 & F9 & ⋯ & DEN & 229 & 1620 & 17 & 29 & 2013-12-01 17:00:00 & 1 &   61 &   31 & 0.5081967\\\\\n",
       "\t 2013 & 12 & 2 &  827 &  830 &  -3 & 1056 & 1059 &  -3 & F9 & ⋯ & DEN & 236 & 1620 &  8 & 30 & 2013-12-02 08:00:00 & 1 &   61 &   31 & 0.5081967\\\\\n",
       "\t 2013 & 12 & 1 &  916 &  925 &  -9 & 1148 & 1153 &  -5 & FL & ⋯ & ATL & 116 &  762 &  9 & 25 & 2013-12-01 09:00:00 & 1 &  208 &   95 & 0.4567308\\\\\n",
       "\t 2013 & 12 & 1 &  958 &  950 &   8 & 1131 & 1123 &   8 & FL & ⋯ & CAK &  63 &  397 &  9 & 50 & 2013-12-01 09:00:00 & 1 &  208 &   95 & 0.4567308\\\\\n",
       "\t 2013 & 12 & 1 & 1220 & 1156 &  24 & 1502 & 1424 &  38 & FL & ⋯ & ATL & 117 &  762 & 11 & 56 & 2013-12-01 11:00:00 & 0 &  208 &   95 & 0.4567308\\\\\n",
       "\t 2013 & 12 & 1 &  928 &  930 &  -2 & 1532 & 1535 &  -3 & HA & ⋯ & HNL & 625 & 4983 &  9 & 30 & 2013-12-01 09:00:00 & 1 &   28 &   24 & 0.8571429\\\\\n",
       "\t 2013 & 12 & 2 &  920 &  930 & -10 & 1525 & 1535 & -10 & HA & ⋯ & HNL & 640 & 4983 &  9 & 30 & 2013-12-02 09:00:00 & 1 &   28 &   24 & 0.8571429\\\\\n",
       "\t 2013 & 12 & 4 &  933 &  930 &   3 & 1519 & 1535 & -16 & HA & ⋯ & HNL & 628 & 4983 &  9 & 30 & 2013-12-04 09:00:00 & 1 &   28 &   24 & 0.8571429\\\\\n",
       "\t 2013 & 12 & 1 &  739 &  745 &  -6 & 1015 & 1040 & -25 & MQ & ⋯ & TPA & 138 & 1005 &  7 & 45 & 2013-12-01 07:00:00 & 1 & 1988 & 1194 & 0.6006036\\\\\n",
       "\t 2013 & 12 & 1 &  759 &  805 &  -6 &  944 &  945 &  -1 & MQ & ⋯ & RDU &  71 &  431 &  8 &  5 & 2013-12-01 08:00:00 & 1 & 1988 & 1194 & 0.6006036\\\\\n",
       "\t 2013 & 12 & 1 &  816 &  825 &  -9 &  952 & 1005 & -13 & MQ & ⋯ & CLE &  70 &  419 &  8 & 25 & 2013-12-01 08:00:00 & 1 & 1988 & 1194 & 0.6006036\\\\\n",
       "\t 2013 & 12 & 1 &  520 &  515 &   5 &  749 &  808 & -19 & UA & ⋯ & IAH & 193 & 1400 &  5 & 15 & 2013-12-01 05:00:00 & 1 & 4819 & 2787 & 0.5783358\\\\\n",
       "\t 2013 & 12 & 1 &  546 &  545 &   1 &  826 &  835 &  -9 & UA & ⋯ & IAH & 204 & 1416 &  5 & 45 & 2013-12-01 05:00:00 & 1 & 4819 & 2787 & 0.5783358\\\\\n",
       "\t 2013 & 12 & 1 &  558 &  600 &  -2 &  724 &  743 & -19 & UA & ⋯ & CLE &  62 &  404 &  6 &  0 & 2013-12-01 06:00:00 & 1 & 4819 & 2787 & 0.5783358\\\\\n",
       "\t 2013 & 12 & 1 &  453 &  500 &  -7 &  636 &  651 & -15 & US & ⋯ & CLT &  86 &  529 &  5 &  0 & 2013-12-01 05:00:00 & 1 & 1539 & 1121 & 0.7283951\\\\\n",
       "\t 2013 & 12 & 1 &  549 &  600 & -11 &  648 &  659 & -11 & US & ⋯ & DCA &  42 &  214 &  6 &  0 & 2013-12-01 06:00:00 & 1 & 1539 & 1121 & 0.7283951\\\\\n",
       "\t 2013 & 12 & 1 &  554 &  600 &  -6 &  645 &  705 & -20 & US & ⋯ & PHL &  36 &   96 &  6 &  0 & 2013-12-01 06:00:00 & 1 & 1539 & 1121 & 0.7283951\\\\\n",
       "\t 2013 & 12 & 1 &  656 &  700 &  -4 & 1005 & 1025 & -20 & VX & ⋯ & LAX & 338 & 2475 &  7 &  0 & 2013-12-01 07:00:00 & 1 &  462 &  297 & 0.6428571\\\\\n",
       "\t 2013 & 12 & 1 &  724 &  730 &  -6 & 1021 & 1105 & -44 & VX & ⋯ & SFO & 343 & 2565 &  7 & 30 & 2013-12-01 07:00:00 & 1 &  462 &  297 & 0.6428571\\\\\n",
       "\t 2013 & 12 & 1 &  726 &  730 &  -4 & 1038 & 1110 & -32 & VX & ⋯ & SFO & 350 & 2586 &  7 & 30 & 2013-12-01 07:00:00 & 1 &  462 &  297 & 0.6428571\\\\\n",
       "\t 2013 & 12 & 1 &  558 &  600 &  -2 &  718 &  725 &  -7 & WN & ⋯ & MDW & 109 &  711 &  6 &  0 & 2013-12-01 06:00:00 & 1 & 1074 &  526 & 0.4897579\\\\\n",
       "\t 2013 & 12 & 1 &  603 &  605 &  -2 &  731 &  735 &  -4 & WN & ⋯ & MDW & 106 &  725 &  6 &  5 & 2013-12-01 06:00:00 & 1 & 1074 &  526 & 0.4897579\\\\\n",
       "\t 2013 & 12 & 1 &  613 &  615 &  -2 &  912 &  930 & -18 & WN & ⋯ & HOU & 206 & 1411 &  6 & 15 & 2013-12-01 06:00:00 & 1 & 1074 &  526 & 0.4897579\\\\\n",
       "\t 2013 & 12 & 1 & 1659 & 1646 &  13 & 1850 & 1810 &  40 & YV & ⋯ & IAD &  83 &  229 & 16 & 46 & 2013-12-01 16:00:00 & 0 &   43 &   27 & 0.6279070\\\\\n",
       "\t 2013 & 12 & 2 & 1146 & 1148 &  -2 & 1335 & 1404 & -29 & YV & ⋯ & CLT &  86 &  544 & 11 & 48 & 2013-12-02 11:00:00 & 1 &   43 &   27 & 0.6279070\\\\\n",
       "\t 2013 & 12 & 2 & 1724 & 1646 &  38 & 1845 & 1810 &  35 & YV & ⋯ & IAD &  50 &  229 & 16 & 46 & 2013-12-02 16:00:00 & 0 &   43 &   27 & 0.6279070\\\\\n",
       "\\end{tabular}\n"
      ],
      "text/markdown": [
       "\n",
       "A grouped_df: 552 × 23\n",
       "\n",
       "| year &lt;int&gt; | month &lt;int&gt; | day &lt;int&gt; | dep_time &lt;int&gt; | sched_dep_time &lt;int&gt; | dep_delay &lt;dbl&gt; | arr_time &lt;int&gt; | sched_arr_time &lt;int&gt; | arr_delay &lt;dbl&gt; | carrier &lt;chr&gt; | ⋯ ⋯ | dest &lt;chr&gt; | air_time &lt;dbl&gt; | distance &lt;dbl&gt; | hour &lt;dbl&gt; | minute &lt;dbl&gt; | time_hour &lt;dttm&gt; | bool_del &lt;dbl&gt; | nof &lt;int&gt; | ndel &lt;dbl&gt; | del_ratio &lt;dbl&gt; |\n",
       "|---|---|---|---|---|---|---|---|---|---|---|---|---|---|---|---|---|---|---|---|---|\n",
       "| 2013 | 1 | 1 |  810 |  810 |   0 | 1048 | 1037 |  11 | 9E | ⋯ | MSP | 189 | 1029 |  8 | 10 | 2013-01-01 08:00:00 | 0 | 1480 | 1042 | 0.7040541 |\n",
       "| 2013 | 1 | 1 | 1451 | 1500 |  -9 | 1634 | 1636 |  -2 | 9E | ⋯ | IAD |  57 |  228 | 15 |  0 | 2013-01-01 15:00:00 | 1 | 1480 | 1042 | 0.7040541 |\n",
       "| 2013 | 1 | 1 | 1452 | 1455 |  -3 | 1637 | 1639 |  -2 | 9E | ⋯ | BUF |  68 |  301 | 14 | 55 | 2013-01-01 14:00:00 | 1 | 1480 | 1042 | 0.7040541 |\n",
       "| 2013 | 1 | 1 |  542 |  540 |   2 |  923 |  850 |  33 | AA | ⋯ | MIA | 160 | 1089 |  5 | 40 | 2013-01-01 05:00:00 | 0 | 2724 | 2053 | 0.7536711 |\n",
       "| 2013 | 1 | 1 |  558 |  600 |  -2 |  753 |  745 |   8 | AA | ⋯ | ORD | 138 |  733 |  6 |  0 | 2013-01-01 06:00:00 | 1 | 2724 | 2053 | 0.7536711 |\n",
       "| 2013 | 1 | 1 |  559 |  600 |  -1 |  941 |  910 |  31 | AA | ⋯ | DFW | 257 | 1389 |  6 |  0 | 2013-01-01 06:00:00 | 0 | 2724 | 2053 | 0.7536711 |\n",
       "| 2013 | 1 | 1 |  724 |  725 |  -1 | 1020 | 1030 | -10 | AS | ⋯ | SEA | 338 | 2402 |  7 | 25 | 2013-01-01 07:00:00 | 1 |   62 |   36 | 0.5806452 |\n",
       "| 2013 | 1 | 1 | 1808 | 1815 |  -7 | 2111 | 2130 | -19 | AS | ⋯ | SEA | 336 | 2402 | 18 | 15 | 2013-01-01 18:00:00 | 1 |   62 |   36 | 0.5806452 |\n",
       "| 2013 | 1 | 2 |  722 |  725 |  -3 |  949 | 1030 | -41 | AS | ⋯ | SEA | 314 | 2402 |  7 | 25 | 2013-01-02 07:00:00 | 1 |   62 |   36 | 0.5806452 |\n",
       "| 2013 | 1 | 1 |  544 |  545 |  -1 | 1004 | 1022 | -18 | B6 | ⋯ | BQN | 183 | 1576 |  5 | 45 | 2013-01-01 05:00:00 | 1 | 4413 | 3175 | 0.7194652 |\n",
       "| 2013 | 1 | 1 |  555 |  600 |  -5 |  913 |  854 |  19 | B6 | ⋯ | FLL | 158 | 1065 |  6 |  0 | 2013-01-01 06:00:00 | 0 | 4413 | 3175 | 0.7194652 |\n",
       "| 2013 | 1 | 1 |  557 |  600 |  -3 |  838 |  846 |  -8 | B6 | ⋯ | MCO | 140 |  944 |  6 |  0 | 2013-01-01 06:00:00 | 1 | 4413 | 3175 | 0.7194652 |\n",
       "| 2013 | 1 | 1 |  554 |  600 |  -6 |  812 |  837 | -25 | DL | ⋯ | ATL | 116 |  762 |  6 |  0 | 2013-01-01 06:00:00 | 1 | 3655 | 3024 | 0.8273598 |\n",
       "| 2013 | 1 | 1 |  602 |  610 |  -8 |  812 |  820 |  -8 | DL | ⋯ | MSP | 170 | 1020 |  6 | 10 | 2013-01-01 06:00:00 | 1 | 3655 | 3024 | 0.8273598 |\n",
       "| 2013 | 1 | 1 |  606 |  610 |  -4 |  837 |  845 |  -8 | DL | ⋯ | ATL | 128 |  760 |  6 | 10 | 2013-01-01 06:00:00 | 1 | 3655 | 3024 | 0.8273598 |\n",
       "| 2013 | 1 | 1 |  557 |  600 |  -3 |  709 |  723 | -14 | EV | ⋯ | IAD |  53 |  229 |  6 |  0 | 2013-01-01 06:00:00 | 1 | 3964 | 2127 | 0.5365792 |\n",
       "| 2013 | 1 | 1 |  624 |  630 |  -6 |  909 |  840 |  29 | EV | ⋯ | MSP | 190 | 1008 |  6 | 30 | 2013-01-01 06:00:00 | 0 | 3964 | 2127 | 0.5365792 |\n",
       "| 2013 | 1 | 1 |  632 |  608 |  24 |  740 |  728 |  12 | EV | ⋯ | IAD |  52 |  212 |  6 |  8 | 2013-01-01 06:00:00 | 0 | 3964 | 2127 | 0.5365792 |\n",
       "| 2013 | 1 | 1 |  833 |  835 |  -2 | 1134 | 1102 |  32 | F9 | ⋯ | DEN | 257 | 1620 |  8 | 35 | 2013-01-01 08:00:00 | 0 |   59 |   28 | 0.4745763 |\n",
       "| 2013 | 1 | 1 | 1716 | 1730 | -14 | 1947 | 1953 |  -6 | F9 | ⋯ | DEN | 242 | 1620 | 17 | 30 | 2013-01-01 17:00:00 | 1 |   59 |   28 | 0.4745763 |\n",
       "| 2013 | 1 | 2 |  827 |  835 |  -8 | 1120 | 1102 |  18 | F9 | ⋯ | DEN | 239 | 1620 |  8 | 35 | 2013-01-02 08:00:00 | 0 |   59 |   28 | 0.4745763 |\n",
       "| 2013 | 1 | 1 |  717 |  720 |  -3 |  850 |  840 |  10 | FL | ⋯ | MKE | 134 |  738 |  7 | 20 | 2013-01-01 07:00:00 | 0 |  324 |  244 | 0.7530864 |\n",
       "| 2013 | 1 | 1 |  814 |  810 |   4 | 1047 | 1030 |  17 | FL | ⋯ | ATL | 132 |  762 |  8 | 10 | 2013-01-01 08:00:00 | 0 |  324 |  244 | 0.7530864 |\n",
       "| 2013 | 1 | 1 | 1021 | 1023 |  -2 | 1254 | 1252 |   2 | FL | ⋯ | ATL | 129 |  762 | 10 | 23 | 2013-01-01 10:00:00 | 1 |  324 |  244 | 0.7530864 |\n",
       "| 2013 | 1 | 1 |  857 |  900 |  -3 | 1516 | 1530 | -14 | HA | ⋯ | HNL | 659 | 4983 |  9 |  0 | 2013-01-01 09:00:00 | 1 |   31 |   26 | 0.8387097 |\n",
       "| 2013 | 1 | 2 |  909 |  900 |   9 | 1525 | 1530 |  -5 | HA | ⋯ | HNL | 638 | 4983 |  9 |  0 | 2013-01-02 09:00:00 | 1 |   31 |   26 | 0.8387097 |\n",
       "| 2013 | 1 | 3 |  914 |  900 |  14 | 1504 | 1530 | -26 | HA | ⋯ | HNL | 616 | 4983 |  9 |  0 | 2013-01-03 09:00:00 | 1 |   31 |   26 | 0.8387097 |\n",
       "| 2013 | 1 | 1 |  600 |  600 |   0 |  837 |  825 |  12 | MQ | ⋯ | ATL | 134 |  762 |  6 |  0 | 2013-01-01 06:00:00 | 0 | 2203 | 1543 | 0.7004085 |\n",
       "| 2013 | 1 | 1 |  602 |  605 |  -3 |  821 |  805 |  16 | MQ | ⋯ | DTW | 105 |  502 |  6 |  5 | 2013-01-01 06:00:00 | 0 | 2203 | 1543 | 0.7004085 |\n",
       "| 2013 | 1 | 1 |  608 |  600 |   8 |  807 |  735 |  32 | MQ | ⋯ | ORD | 139 |  719 |  6 |  0 | 2013-01-01 06:00:00 | 0 | 2203 | 1543 | 0.7004085 |\n",
       "| ⋮ | ⋮ | ⋮ | ⋮ | ⋮ | ⋮ | ⋮ | ⋮ | ⋮ | ⋮ | ⋱ | ⋮ | ⋮ | ⋮ | ⋮ | ⋮ | ⋮ | ⋮ | ⋮ | ⋮ | ⋮ |\n",
       "| 2013 | 12 | 1 |  541 |  545 |  -4 |  734 |  755 | -21 | EV | ⋯ | CVG |  95 |  569 |  5 | 45 | 2013-12-01 05:00:00 | 1 | 3891 | 2074 | 0.5330249 |\n",
       "| 2013 | 12 | 1 |  554 |  601 |  -7 |  748 |  811 | -23 | EV | ⋯ | CLT |  86 |  529 |  6 |  1 | 2013-12-01 06:00:00 | 1 | 3891 | 2074 | 0.5330249 |\n",
       "| 2013 | 12 | 1 |  554 |  600 |  -6 |  712 |  719 |  -7 | EV | ⋯ | IAD |  44 |  229 |  6 |  0 | 2013-12-01 06:00:00 | 1 | 3891 | 2074 | 0.5330249 |\n",
       "| 2013 | 12 | 1 |  822 |  830 |  -8 | 1044 | 1059 | -15 | F9 | ⋯ | DEN | 236 | 1620 |  8 | 30 | 2013-12-01 08:00:00 | 1 |   61 |   31 | 0.5081967 |\n",
       "| 2013 | 12 | 1 | 1729 | 1729 |   0 | 2000 | 1953 |   7 | F9 | ⋯ | DEN | 229 | 1620 | 17 | 29 | 2013-12-01 17:00:00 | 1 |   61 |   31 | 0.5081967 |\n",
       "| 2013 | 12 | 2 |  827 |  830 |  -3 | 1056 | 1059 |  -3 | F9 | ⋯ | DEN | 236 | 1620 |  8 | 30 | 2013-12-02 08:00:00 | 1 |   61 |   31 | 0.5081967 |\n",
       "| 2013 | 12 | 1 |  916 |  925 |  -9 | 1148 | 1153 |  -5 | FL | ⋯ | ATL | 116 |  762 |  9 | 25 | 2013-12-01 09:00:00 | 1 |  208 |   95 | 0.4567308 |\n",
       "| 2013 | 12 | 1 |  958 |  950 |   8 | 1131 | 1123 |   8 | FL | ⋯ | CAK |  63 |  397 |  9 | 50 | 2013-12-01 09:00:00 | 1 |  208 |   95 | 0.4567308 |\n",
       "| 2013 | 12 | 1 | 1220 | 1156 |  24 | 1502 | 1424 |  38 | FL | ⋯ | ATL | 117 |  762 | 11 | 56 | 2013-12-01 11:00:00 | 0 |  208 |   95 | 0.4567308 |\n",
       "| 2013 | 12 | 1 |  928 |  930 |  -2 | 1532 | 1535 |  -3 | HA | ⋯ | HNL | 625 | 4983 |  9 | 30 | 2013-12-01 09:00:00 | 1 |   28 |   24 | 0.8571429 |\n",
       "| 2013 | 12 | 2 |  920 |  930 | -10 | 1525 | 1535 | -10 | HA | ⋯ | HNL | 640 | 4983 |  9 | 30 | 2013-12-02 09:00:00 | 1 |   28 |   24 | 0.8571429 |\n",
       "| 2013 | 12 | 4 |  933 |  930 |   3 | 1519 | 1535 | -16 | HA | ⋯ | HNL | 628 | 4983 |  9 | 30 | 2013-12-04 09:00:00 | 1 |   28 |   24 | 0.8571429 |\n",
       "| 2013 | 12 | 1 |  739 |  745 |  -6 | 1015 | 1040 | -25 | MQ | ⋯ | TPA | 138 | 1005 |  7 | 45 | 2013-12-01 07:00:00 | 1 | 1988 | 1194 | 0.6006036 |\n",
       "| 2013 | 12 | 1 |  759 |  805 |  -6 |  944 |  945 |  -1 | MQ | ⋯ | RDU |  71 |  431 |  8 |  5 | 2013-12-01 08:00:00 | 1 | 1988 | 1194 | 0.6006036 |\n",
       "| 2013 | 12 | 1 |  816 |  825 |  -9 |  952 | 1005 | -13 | MQ | ⋯ | CLE |  70 |  419 |  8 | 25 | 2013-12-01 08:00:00 | 1 | 1988 | 1194 | 0.6006036 |\n",
       "| 2013 | 12 | 1 |  520 |  515 |   5 |  749 |  808 | -19 | UA | ⋯ | IAH | 193 | 1400 |  5 | 15 | 2013-12-01 05:00:00 | 1 | 4819 | 2787 | 0.5783358 |\n",
       "| 2013 | 12 | 1 |  546 |  545 |   1 |  826 |  835 |  -9 | UA | ⋯ | IAH | 204 | 1416 |  5 | 45 | 2013-12-01 05:00:00 | 1 | 4819 | 2787 | 0.5783358 |\n",
       "| 2013 | 12 | 1 |  558 |  600 |  -2 |  724 |  743 | -19 | UA | ⋯ | CLE |  62 |  404 |  6 |  0 | 2013-12-01 06:00:00 | 1 | 4819 | 2787 | 0.5783358 |\n",
       "| 2013 | 12 | 1 |  453 |  500 |  -7 |  636 |  651 | -15 | US | ⋯ | CLT |  86 |  529 |  5 |  0 | 2013-12-01 05:00:00 | 1 | 1539 | 1121 | 0.7283951 |\n",
       "| 2013 | 12 | 1 |  549 |  600 | -11 |  648 |  659 | -11 | US | ⋯ | DCA |  42 |  214 |  6 |  0 | 2013-12-01 06:00:00 | 1 | 1539 | 1121 | 0.7283951 |\n",
       "| 2013 | 12 | 1 |  554 |  600 |  -6 |  645 |  705 | -20 | US | ⋯ | PHL |  36 |   96 |  6 |  0 | 2013-12-01 06:00:00 | 1 | 1539 | 1121 | 0.7283951 |\n",
       "| 2013 | 12 | 1 |  656 |  700 |  -4 | 1005 | 1025 | -20 | VX | ⋯ | LAX | 338 | 2475 |  7 |  0 | 2013-12-01 07:00:00 | 1 |  462 |  297 | 0.6428571 |\n",
       "| 2013 | 12 | 1 |  724 |  730 |  -6 | 1021 | 1105 | -44 | VX | ⋯ | SFO | 343 | 2565 |  7 | 30 | 2013-12-01 07:00:00 | 1 |  462 |  297 | 0.6428571 |\n",
       "| 2013 | 12 | 1 |  726 |  730 |  -4 | 1038 | 1110 | -32 | VX | ⋯ | SFO | 350 | 2586 |  7 | 30 | 2013-12-01 07:00:00 | 1 |  462 |  297 | 0.6428571 |\n",
       "| 2013 | 12 | 1 |  558 |  600 |  -2 |  718 |  725 |  -7 | WN | ⋯ | MDW | 109 |  711 |  6 |  0 | 2013-12-01 06:00:00 | 1 | 1074 |  526 | 0.4897579 |\n",
       "| 2013 | 12 | 1 |  603 |  605 |  -2 |  731 |  735 |  -4 | WN | ⋯ | MDW | 106 |  725 |  6 |  5 | 2013-12-01 06:00:00 | 1 | 1074 |  526 | 0.4897579 |\n",
       "| 2013 | 12 | 1 |  613 |  615 |  -2 |  912 |  930 | -18 | WN | ⋯ | HOU | 206 | 1411 |  6 | 15 | 2013-12-01 06:00:00 | 1 | 1074 |  526 | 0.4897579 |\n",
       "| 2013 | 12 | 1 | 1659 | 1646 |  13 | 1850 | 1810 |  40 | YV | ⋯ | IAD |  83 |  229 | 16 | 46 | 2013-12-01 16:00:00 | 0 |   43 |   27 | 0.6279070 |\n",
       "| 2013 | 12 | 2 | 1146 | 1148 |  -2 | 1335 | 1404 | -29 | YV | ⋯ | CLT |  86 |  544 | 11 | 48 | 2013-12-02 11:00:00 | 1 |   43 |   27 | 0.6279070 |\n",
       "| 2013 | 12 | 2 | 1724 | 1646 |  38 | 1845 | 1810 |  35 | YV | ⋯ | IAD |  50 |  229 | 16 | 46 | 2013-12-02 16:00:00 | 0 |   43 |   27 | 0.6279070 |\n",
       "\n"
      ],
      "text/plain": [
       "    year month day dep_time sched_dep_time dep_delay arr_time sched_arr_time\n",
       "1   2013 1     1    810      810             0       1048     1037          \n",
       "2   2013 1     1   1451     1500            -9       1634     1636          \n",
       "3   2013 1     1   1452     1455            -3       1637     1639          \n",
       "4   2013 1     1    542      540             2        923      850          \n",
       "5   2013 1     1    558      600            -2        753      745          \n",
       "6   2013 1     1    559      600            -1        941      910          \n",
       "7   2013 1     1    724      725            -1       1020     1030          \n",
       "8   2013 1     1   1808     1815            -7       2111     2130          \n",
       "9   2013 1     2    722      725            -3        949     1030          \n",
       "10  2013 1     1    544      545            -1       1004     1022          \n",
       "11  2013 1     1    555      600            -5        913      854          \n",
       "12  2013 1     1    557      600            -3        838      846          \n",
       "13  2013 1     1    554      600            -6        812      837          \n",
       "14  2013 1     1    602      610            -8        812      820          \n",
       "15  2013 1     1    606      610            -4        837      845          \n",
       "16  2013 1     1    557      600            -3        709      723          \n",
       "17  2013 1     1    624      630            -6        909      840          \n",
       "18  2013 1     1    632      608            24        740      728          \n",
       "19  2013 1     1    833      835            -2       1134     1102          \n",
       "20  2013 1     1   1716     1730           -14       1947     1953          \n",
       "21  2013 1     2    827      835            -8       1120     1102          \n",
       "22  2013 1     1    717      720            -3        850      840          \n",
       "23  2013 1     1    814      810             4       1047     1030          \n",
       "24  2013 1     1   1021     1023            -2       1254     1252          \n",
       "25  2013 1     1    857      900            -3       1516     1530          \n",
       "26  2013 1     2    909      900             9       1525     1530          \n",
       "27  2013 1     3    914      900            14       1504     1530          \n",
       "28  2013 1     1    600      600             0        837      825          \n",
       "29  2013 1     1    602      605            -3        821      805          \n",
       "30  2013 1     1    608      600             8        807      735          \n",
       "⋮   ⋮    ⋮     ⋮   ⋮        ⋮              ⋮         ⋮        ⋮             \n",
       "523 2013 12    1    541      545            -4        734      755          \n",
       "524 2013 12    1    554      601            -7        748      811          \n",
       "525 2013 12    1    554      600            -6        712      719          \n",
       "526 2013 12    1    822      830            -8       1044     1059          \n",
       "527 2013 12    1   1729     1729             0       2000     1953          \n",
       "528 2013 12    2    827      830            -3       1056     1059          \n",
       "529 2013 12    1    916      925            -9       1148     1153          \n",
       "530 2013 12    1    958      950             8       1131     1123          \n",
       "531 2013 12    1   1220     1156            24       1502     1424          \n",
       "532 2013 12    1    928      930            -2       1532     1535          \n",
       "533 2013 12    2    920      930           -10       1525     1535          \n",
       "534 2013 12    4    933      930             3       1519     1535          \n",
       "535 2013 12    1    739      745            -6       1015     1040          \n",
       "536 2013 12    1    759      805            -6        944      945          \n",
       "537 2013 12    1    816      825            -9        952     1005          \n",
       "538 2013 12    1    520      515             5        749      808          \n",
       "539 2013 12    1    546      545             1        826      835          \n",
       "540 2013 12    1    558      600            -2        724      743          \n",
       "541 2013 12    1    453      500            -7        636      651          \n",
       "542 2013 12    1    549      600           -11        648      659          \n",
       "543 2013 12    1    554      600            -6        645      705          \n",
       "544 2013 12    1    656      700            -4       1005     1025          \n",
       "545 2013 12    1    724      730            -6       1021     1105          \n",
       "546 2013 12    1    726      730            -4       1038     1110          \n",
       "547 2013 12    1    558      600            -2        718      725          \n",
       "548 2013 12    1    603      605            -2        731      735          \n",
       "549 2013 12    1    613      615            -2        912      930          \n",
       "550 2013 12    1   1659     1646            13       1850     1810          \n",
       "551 2013 12    2   1146     1148            -2       1335     1404          \n",
       "552 2013 12    2   1724     1646            38       1845     1810          \n",
       "    arr_delay carrier ⋯ dest air_time distance hour minute time_hour          \n",
       "1    11       9E      ⋯ MSP  189      1029      8   10     2013-01-01 08:00:00\n",
       "2    -2       9E      ⋯ IAD   57       228     15    0     2013-01-01 15:00:00\n",
       "3    -2       9E      ⋯ BUF   68       301     14   55     2013-01-01 14:00:00\n",
       "4    33       AA      ⋯ MIA  160      1089      5   40     2013-01-01 05:00:00\n",
       "5     8       AA      ⋯ ORD  138       733      6    0     2013-01-01 06:00:00\n",
       "6    31       AA      ⋯ DFW  257      1389      6    0     2013-01-01 06:00:00\n",
       "7   -10       AS      ⋯ SEA  338      2402      7   25     2013-01-01 07:00:00\n",
       "8   -19       AS      ⋯ SEA  336      2402     18   15     2013-01-01 18:00:00\n",
       "9   -41       AS      ⋯ SEA  314      2402      7   25     2013-01-02 07:00:00\n",
       "10  -18       B6      ⋯ BQN  183      1576      5   45     2013-01-01 05:00:00\n",
       "11   19       B6      ⋯ FLL  158      1065      6    0     2013-01-01 06:00:00\n",
       "12   -8       B6      ⋯ MCO  140       944      6    0     2013-01-01 06:00:00\n",
       "13  -25       DL      ⋯ ATL  116       762      6    0     2013-01-01 06:00:00\n",
       "14   -8       DL      ⋯ MSP  170      1020      6   10     2013-01-01 06:00:00\n",
       "15   -8       DL      ⋯ ATL  128       760      6   10     2013-01-01 06:00:00\n",
       "16  -14       EV      ⋯ IAD   53       229      6    0     2013-01-01 06:00:00\n",
       "17   29       EV      ⋯ MSP  190      1008      6   30     2013-01-01 06:00:00\n",
       "18   12       EV      ⋯ IAD   52       212      6    8     2013-01-01 06:00:00\n",
       "19   32       F9      ⋯ DEN  257      1620      8   35     2013-01-01 08:00:00\n",
       "20   -6       F9      ⋯ DEN  242      1620     17   30     2013-01-01 17:00:00\n",
       "21   18       F9      ⋯ DEN  239      1620      8   35     2013-01-02 08:00:00\n",
       "22   10       FL      ⋯ MKE  134       738      7   20     2013-01-01 07:00:00\n",
       "23   17       FL      ⋯ ATL  132       762      8   10     2013-01-01 08:00:00\n",
       "24    2       FL      ⋯ ATL  129       762     10   23     2013-01-01 10:00:00\n",
       "25  -14       HA      ⋯ HNL  659      4983      9    0     2013-01-01 09:00:00\n",
       "26   -5       HA      ⋯ HNL  638      4983      9    0     2013-01-02 09:00:00\n",
       "27  -26       HA      ⋯ HNL  616      4983      9    0     2013-01-03 09:00:00\n",
       "28   12       MQ      ⋯ ATL  134       762      6    0     2013-01-01 06:00:00\n",
       "29   16       MQ      ⋯ DTW  105       502      6    5     2013-01-01 06:00:00\n",
       "30   32       MQ      ⋯ ORD  139       719      6    0     2013-01-01 06:00:00\n",
       "⋮   ⋮         ⋮       ⋱ ⋮    ⋮        ⋮        ⋮    ⋮      ⋮                  \n",
       "523 -21       EV      ⋯ CVG   95       569      5   45     2013-12-01 05:00:00\n",
       "524 -23       EV      ⋯ CLT   86       529      6    1     2013-12-01 06:00:00\n",
       "525  -7       EV      ⋯ IAD   44       229      6    0     2013-12-01 06:00:00\n",
       "526 -15       F9      ⋯ DEN  236      1620      8   30     2013-12-01 08:00:00\n",
       "527   7       F9      ⋯ DEN  229      1620     17   29     2013-12-01 17:00:00\n",
       "528  -3       F9      ⋯ DEN  236      1620      8   30     2013-12-02 08:00:00\n",
       "529  -5       FL      ⋯ ATL  116       762      9   25     2013-12-01 09:00:00\n",
       "530   8       FL      ⋯ CAK   63       397      9   50     2013-12-01 09:00:00\n",
       "531  38       FL      ⋯ ATL  117       762     11   56     2013-12-01 11:00:00\n",
       "532  -3       HA      ⋯ HNL  625      4983      9   30     2013-12-01 09:00:00\n",
       "533 -10       HA      ⋯ HNL  640      4983      9   30     2013-12-02 09:00:00\n",
       "534 -16       HA      ⋯ HNL  628      4983      9   30     2013-12-04 09:00:00\n",
       "535 -25       MQ      ⋯ TPA  138      1005      7   45     2013-12-01 07:00:00\n",
       "536  -1       MQ      ⋯ RDU   71       431      8    5     2013-12-01 08:00:00\n",
       "537 -13       MQ      ⋯ CLE   70       419      8   25     2013-12-01 08:00:00\n",
       "538 -19       UA      ⋯ IAH  193      1400      5   15     2013-12-01 05:00:00\n",
       "539  -9       UA      ⋯ IAH  204      1416      5   45     2013-12-01 05:00:00\n",
       "540 -19       UA      ⋯ CLE   62       404      6    0     2013-12-01 06:00:00\n",
       "541 -15       US      ⋯ CLT   86       529      5    0     2013-12-01 05:00:00\n",
       "542 -11       US      ⋯ DCA   42       214      6    0     2013-12-01 06:00:00\n",
       "543 -20       US      ⋯ PHL   36        96      6    0     2013-12-01 06:00:00\n",
       "544 -20       VX      ⋯ LAX  338      2475      7    0     2013-12-01 07:00:00\n",
       "545 -44       VX      ⋯ SFO  343      2565      7   30     2013-12-01 07:00:00\n",
       "546 -32       VX      ⋯ SFO  350      2586      7   30     2013-12-01 07:00:00\n",
       "547  -7       WN      ⋯ MDW  109       711      6    0     2013-12-01 06:00:00\n",
       "548  -4       WN      ⋯ MDW  106       725      6    5     2013-12-01 06:00:00\n",
       "549 -18       WN      ⋯ HOU  206      1411      6   15     2013-12-01 06:00:00\n",
       "550  40       YV      ⋯ IAD   83       229     16   46     2013-12-01 16:00:00\n",
       "551 -29       YV      ⋯ CLT   86       544     11   48     2013-12-02 11:00:00\n",
       "552  35       YV      ⋯ IAD   50       229     16   46     2013-12-02 16:00:00\n",
       "    bool_del nof  ndel del_ratio\n",
       "1   0        1480 1042 0.7040541\n",
       "2   1        1480 1042 0.7040541\n",
       "3   1        1480 1042 0.7040541\n",
       "4   0        2724 2053 0.7536711\n",
       "5   1        2724 2053 0.7536711\n",
       "6   0        2724 2053 0.7536711\n",
       "7   1          62   36 0.5806452\n",
       "8   1          62   36 0.5806452\n",
       "9   1          62   36 0.5806452\n",
       "10  1        4413 3175 0.7194652\n",
       "11  0        4413 3175 0.7194652\n",
       "12  1        4413 3175 0.7194652\n",
       "13  1        3655 3024 0.8273598\n",
       "14  1        3655 3024 0.8273598\n",
       "15  1        3655 3024 0.8273598\n",
       "16  1        3964 2127 0.5365792\n",
       "17  0        3964 2127 0.5365792\n",
       "18  0        3964 2127 0.5365792\n",
       "19  0          59   28 0.4745763\n",
       "20  1          59   28 0.4745763\n",
       "21  0          59   28 0.4745763\n",
       "22  0         324  244 0.7530864\n",
       "23  0         324  244 0.7530864\n",
       "24  1         324  244 0.7530864\n",
       "25  1          31   26 0.8387097\n",
       "26  1          31   26 0.8387097\n",
       "27  1          31   26 0.8387097\n",
       "28  0        2203 1543 0.7004085\n",
       "29  0        2203 1543 0.7004085\n",
       "30  0        2203 1543 0.7004085\n",
       "⋮   ⋮        ⋮    ⋮    ⋮        \n",
       "523 1        3891 2074 0.5330249\n",
       "524 1        3891 2074 0.5330249\n",
       "525 1        3891 2074 0.5330249\n",
       "526 1          61   31 0.5081967\n",
       "527 1          61   31 0.5081967\n",
       "528 1          61   31 0.5081967\n",
       "529 1         208   95 0.4567308\n",
       "530 1         208   95 0.4567308\n",
       "531 0         208   95 0.4567308\n",
       "532 1          28   24 0.8571429\n",
       "533 1          28   24 0.8571429\n",
       "534 1          28   24 0.8571429\n",
       "535 1        1988 1194 0.6006036\n",
       "536 1        1988 1194 0.6006036\n",
       "537 1        1988 1194 0.6006036\n",
       "538 1        4819 2787 0.5783358\n",
       "539 1        4819 2787 0.5783358\n",
       "540 1        4819 2787 0.5783358\n",
       "541 1        1539 1121 0.7283951\n",
       "542 1        1539 1121 0.7283951\n",
       "543 1        1539 1121 0.7283951\n",
       "544 1         462  297 0.6428571\n",
       "545 1         462  297 0.6428571\n",
       "546 1         462  297 0.6428571\n",
       "547 1        1074  526 0.4897579\n",
       "548 1        1074  526 0.4897579\n",
       "549 1        1074  526 0.4897579\n",
       "550 0          43   27 0.6279070\n",
       "551 1          43   27 0.6279070\n",
       "552 0          43   27 0.6279070"
      ]
     },
     "metadata": {},
     "output_type": "display_data"
    }
   ],
   "source": [
    "x %>% slice(1:3)"
   ]
  },
  {
   "cell_type": "code",
   "execution_count": 141,
   "id": "a95ee3b8",
   "metadata": {},
   "outputs": [
    {
     "data": {
      "text/html": [
       "<table class=\"dataframe\">\n",
       "<caption>A grouped_df: 60 × 23</caption>\n",
       "<thead>\n",
       "\t<tr><th scope=col>year</th><th scope=col>month</th><th scope=col>day</th><th scope=col>dep_time</th><th scope=col>sched_dep_time</th><th scope=col>dep_delay</th><th scope=col>arr_time</th><th scope=col>sched_arr_time</th><th scope=col>arr_delay</th><th scope=col>carrier</th><th scope=col>⋯</th><th scope=col>dest</th><th scope=col>air_time</th><th scope=col>distance</th><th scope=col>hour</th><th scope=col>minute</th><th scope=col>time_hour</th><th scope=col>bool_del</th><th scope=col>nof</th><th scope=col>ndel</th><th scope=col>del_ratio</th></tr>\n",
       "\t<tr><th scope=col>&lt;int&gt;</th><th scope=col>&lt;int&gt;</th><th scope=col>&lt;int&gt;</th><th scope=col>&lt;int&gt;</th><th scope=col>&lt;int&gt;</th><th scope=col>&lt;dbl&gt;</th><th scope=col>&lt;int&gt;</th><th scope=col>&lt;int&gt;</th><th scope=col>&lt;dbl&gt;</th><th scope=col>&lt;chr&gt;</th><th scope=col>⋯</th><th scope=col>&lt;chr&gt;</th><th scope=col>&lt;dbl&gt;</th><th scope=col>&lt;dbl&gt;</th><th scope=col>&lt;dbl&gt;</th><th scope=col>&lt;dbl&gt;</th><th scope=col>&lt;dttm&gt;</th><th scope=col>&lt;dbl&gt;</th><th scope=col>&lt;int&gt;</th><th scope=col>&lt;dbl&gt;</th><th scope=col>&lt;dbl&gt;</th></tr>\n",
       "</thead>\n",
       "<tbody>\n",
       "\t<tr><td>2013</td><td> 1</td><td>1</td><td> 658</td><td> 700</td><td> -2</td><td>1027</td><td>1025</td><td>  2</td><td>VX</td><td>⋯</td><td>LAX</td><td>361</td><td>2475</td><td> 7</td><td> 0</td><td>2013-01-01 07:00:00</td><td>1</td><td>314</td><td>290</td><td>0.9235669</td></tr>\n",
       "\t<tr><td>2013</td><td> 1</td><td>1</td><td> 729</td><td> 730</td><td> -1</td><td>1049</td><td>1115</td><td>-26</td><td>VX</td><td>⋯</td><td>SFO</td><td>356</td><td>2586</td><td> 7</td><td>30</td><td>2013-01-01 07:00:00</td><td>1</td><td>314</td><td>290</td><td>0.9235669</td></tr>\n",
       "\t<tr><td>2013</td><td> 1</td><td>1</td><td> 859</td><td> 900</td><td> -1</td><td>1223</td><td>1225</td><td> -2</td><td>VX</td><td>⋯</td><td>LAX</td><td>359</td><td>2475</td><td> 9</td><td> 0</td><td>2013-01-01 09:00:00</td><td>1</td><td>314</td><td>290</td><td>0.9235669</td></tr>\n",
       "\t<tr><td>2013</td><td> 1</td><td>1</td><td> 932</td><td> 930</td><td>  2</td><td>1219</td><td>1225</td><td> -6</td><td>VX</td><td>⋯</td><td>LAS</td><td>324</td><td>2248</td><td> 9</td><td>30</td><td>2013-01-01 09:00:00</td><td>1</td><td>314</td><td>290</td><td>0.9235669</td></tr>\n",
       "\t<tr><td>2013</td><td> 1</td><td>1</td><td>1031</td><td>1030</td><td>  1</td><td>1353</td><td>1415</td><td>-22</td><td>VX</td><td>⋯</td><td>SFO</td><td>363</td><td>2586</td><td>10</td><td>30</td><td>2013-01-01 10:00:00</td><td>1</td><td>314</td><td>290</td><td>0.9235669</td></tr>\n",
       "\t<tr><td>2013</td><td> 2</td><td>1</td><td> 855</td><td> 900</td><td> -5</td><td>1442</td><td>1540</td><td>-58</td><td>HA</td><td>⋯</td><td>HNL</td><td>620</td><td>4983</td><td> 9</td><td> 0</td><td>2013-02-01 09:00:00</td><td>1</td><td> 28</td><td> 25</td><td>0.8928571</td></tr>\n",
       "\t<tr><td>2013</td><td> 2</td><td>2</td><td> 858</td><td> 900</td><td> -2</td><td>1440</td><td>1540</td><td>-60</td><td>HA</td><td>⋯</td><td>HNL</td><td>629</td><td>4983</td><td> 9</td><td> 0</td><td>2013-02-02 09:00:00</td><td>1</td><td> 28</td><td> 25</td><td>0.8928571</td></tr>\n",
       "\t<tr><td>2013</td><td> 2</td><td>3</td><td> 857</td><td> 900</td><td> -3</td><td>1446</td><td>1540</td><td>-54</td><td>HA</td><td>⋯</td><td>HNL</td><td>614</td><td>4983</td><td> 9</td><td> 0</td><td>2013-02-03 09:00:00</td><td>1</td><td> 28</td><td> 25</td><td>0.8928571</td></tr>\n",
       "\t<tr><td>2013</td><td> 2</td><td>4</td><td> 857</td><td> 900</td><td> -3</td><td>1521</td><td>1540</td><td>-19</td><td>HA</td><td>⋯</td><td>HNL</td><td>655</td><td>4983</td><td> 9</td><td> 0</td><td>2013-02-04 09:00:00</td><td>1</td><td> 28</td><td> 25</td><td>0.8928571</td></tr>\n",
       "\t<tr><td>2013</td><td> 2</td><td>5</td><td> 900</td><td> 900</td><td>  0</td><td>1555</td><td>1540</td><td> 15</td><td>HA</td><td>⋯</td><td>HNL</td><td>679</td><td>4983</td><td> 9</td><td> 0</td><td>2013-02-05 09:00:00</td><td>0</td><td> 28</td><td> 25</td><td>0.8928571</td></tr>\n",
       "\t<tr><td>2013</td><td> 3</td><td>1</td><td> 716</td><td> 710</td><td>  6</td><td> 958</td><td>1035</td><td>-37</td><td>VX</td><td>⋯</td><td>LAX</td><td>315</td><td>2475</td><td> 7</td><td>10</td><td>2013-03-01 07:00:00</td><td>1</td><td>303</td><td>257</td><td>0.8481848</td></tr>\n",
       "\t<tr><td>2013</td><td> 3</td><td>1</td><td> 739</td><td> 730</td><td>  9</td><td>1036</td><td>1110</td><td>-34</td><td>VX</td><td>⋯</td><td>SFO</td><td>338</td><td>2586</td><td> 7</td><td>30</td><td>2013-03-01 07:00:00</td><td>1</td><td>303</td><td>257</td><td>0.8481848</td></tr>\n",
       "\t<tr><td>2013</td><td> 3</td><td>1</td><td> 917</td><td> 910</td><td>  7</td><td>1150</td><td>1235</td><td>-45</td><td>VX</td><td>⋯</td><td>LAX</td><td>309</td><td>2475</td><td> 9</td><td>10</td><td>2013-03-01 09:00:00</td><td>1</td><td>303</td><td>257</td><td>0.8481848</td></tr>\n",
       "\t<tr><td>2013</td><td> 3</td><td>1</td><td> 946</td><td> 935</td><td> 11</td><td>1158</td><td>1230</td><td>-32</td><td>VX</td><td>⋯</td><td>LAS</td><td>290</td><td>2248</td><td> 9</td><td>35</td><td>2013-03-01 09:00:00</td><td>1</td><td>303</td><td>257</td><td>0.8481848</td></tr>\n",
       "\t<tr><td>2013</td><td> 3</td><td>1</td><td>1039</td><td>1030</td><td>  9</td><td>1342</td><td>1410</td><td>-28</td><td>VX</td><td>⋯</td><td>SFO</td><td>341</td><td>2586</td><td>10</td><td>30</td><td>2013-03-01 10:00:00</td><td>1</td><td>303</td><td>257</td><td>0.8481848</td></tr>\n",
       "\t<tr><td>2013</td><td> 4</td><td>1</td><td>1000</td><td>1000</td><td>  0</td><td>1450</td><td>1510</td><td>-20</td><td>HA</td><td>⋯</td><td>HNL</td><td>633</td><td>4983</td><td>10</td><td> 0</td><td>2013-04-01 10:00:00</td><td>1</td><td> 30</td><td> 26</td><td>0.8666667</td></tr>\n",
       "\t<tr><td>2013</td><td> 4</td><td>2</td><td> 958</td><td>1000</td><td> -2</td><td>1457</td><td>1510</td><td>-13</td><td>HA</td><td>⋯</td><td>HNL</td><td>637</td><td>4983</td><td>10</td><td> 0</td><td>2013-04-02 10:00:00</td><td>1</td><td> 30</td><td> 26</td><td>0.8666667</td></tr>\n",
       "\t<tr><td>2013</td><td> 4</td><td>3</td><td> 957</td><td>1000</td><td> -3</td><td>1535</td><td>1510</td><td> 25</td><td>HA</td><td>⋯</td><td>HNL</td><td>671</td><td>4983</td><td>10</td><td> 0</td><td>2013-04-03 10:00:00</td><td>0</td><td> 30</td><td> 26</td><td>0.8666667</td></tr>\n",
       "\t<tr><td>2013</td><td> 4</td><td>4</td><td>1006</td><td>1000</td><td>  6</td><td>1502</td><td>1510</td><td> -8</td><td>HA</td><td>⋯</td><td>HNL</td><td>636</td><td>4983</td><td>10</td><td> 0</td><td>2013-04-04 10:00:00</td><td>1</td><td> 30</td><td> 26</td><td>0.8666667</td></tr>\n",
       "\t<tr><td>2013</td><td> 4</td><td>5</td><td> 954</td><td>1000</td><td> -6</td><td>1505</td><td>1510</td><td> -5</td><td>HA</td><td>⋯</td><td>HNL</td><td>646</td><td>4983</td><td>10</td><td> 0</td><td>2013-04-05 10:00:00</td><td>1</td><td> 30</td><td> 26</td><td>0.8666667</td></tr>\n",
       "\t<tr><td>2013</td><td> 5</td><td>1</td><td>1000</td><td>1000</td><td>  0</td><td>1430</td><td>1500</td><td>-30</td><td>HA</td><td>⋯</td><td>HNL</td><td>607</td><td>4983</td><td>10</td><td> 0</td><td>2013-05-01 10:00:00</td><td>1</td><td> 31</td><td> 29</td><td>0.9354839</td></tr>\n",
       "\t<tr><td>2013</td><td> 5</td><td>2</td><td> 953</td><td>1000</td><td> -7</td><td>1423</td><td>1500</td><td>-37</td><td>HA</td><td>⋯</td><td>HNL</td><td>603</td><td>4983</td><td>10</td><td> 0</td><td>2013-05-02 10:00:00</td><td>1</td><td> 31</td><td> 29</td><td>0.9354839</td></tr>\n",
       "\t<tr><td>2013</td><td> 5</td><td>3</td><td>1001</td><td>1000</td><td>  1</td><td>1424</td><td>1500</td><td>-36</td><td>HA</td><td>⋯</td><td>HNL</td><td>600</td><td>4983</td><td>10</td><td> 0</td><td>2013-05-03 10:00:00</td><td>1</td><td> 31</td><td> 29</td><td>0.9354839</td></tr>\n",
       "\t<tr><td>2013</td><td> 5</td><td>4</td><td> 958</td><td>1000</td><td> -2</td><td>1421</td><td>1500</td><td>-39</td><td>HA</td><td>⋯</td><td>HNL</td><td>595</td><td>4983</td><td>10</td><td> 0</td><td>2013-05-04 10:00:00</td><td>1</td><td> 31</td><td> 29</td><td>0.9354839</td></tr>\n",
       "\t<tr><td>2013</td><td> 5</td><td>5</td><td>1000</td><td>1000</td><td>  0</td><td>1436</td><td>1500</td><td>-24</td><td>HA</td><td>⋯</td><td>HNL</td><td>607</td><td>4983</td><td>10</td><td> 0</td><td>2013-05-05 10:00:00</td><td>1</td><td> 31</td><td> 29</td><td>0.9354839</td></tr>\n",
       "\t<tr><td>2013</td><td> 6</td><td>1</td><td> 720</td><td> 725</td><td> -5</td><td> 944</td><td>1015</td><td>-31</td><td>AS</td><td>⋯</td><td>SEA</td><td>312</td><td>2402</td><td> 7</td><td>25</td><td>2013-06-01 07:00:00</td><td>1</td><td> 60</td><td> 47</td><td>0.7833333</td></tr>\n",
       "\t<tr><td>2013</td><td> 6</td><td>1</td><td>1805</td><td>1820</td><td>-15</td><td>2149</td><td>2133</td><td> 16</td><td>AS</td><td>⋯</td><td>SEA</td><td>357</td><td>2402</td><td>18</td><td>20</td><td>2013-06-01 18:00:00</td><td>0</td><td> 60</td><td> 47</td><td>0.7833333</td></tr>\n",
       "\t<tr><td>2013</td><td> 6</td><td>2</td><td> 716</td><td> 725</td><td> -9</td><td>1001</td><td>1015</td><td>-14</td><td>AS</td><td>⋯</td><td>SEA</td><td>329</td><td>2402</td><td> 7</td><td>25</td><td>2013-06-02 07:00:00</td><td>1</td><td> 60</td><td> 47</td><td>0.7833333</td></tr>\n",
       "\t<tr><td>2013</td><td> 6</td><td>2</td><td>2145</td><td>1820</td><td>205</td><td>  23</td><td>2133</td><td>170</td><td>AS</td><td>⋯</td><td>SEA</td><td>324</td><td>2402</td><td>18</td><td>20</td><td>2013-06-02 18:00:00</td><td>0</td><td> 60</td><td> 47</td><td>0.7833333</td></tr>\n",
       "\t<tr><td>2013</td><td> 6</td><td>3</td><td> 723</td><td> 725</td><td> -2</td><td>1027</td><td>1015</td><td> 12</td><td>AS</td><td>⋯</td><td>SEA</td><td>331</td><td>2402</td><td> 7</td><td>25</td><td>2013-06-03 07:00:00</td><td>0</td><td> 60</td><td> 47</td><td>0.7833333</td></tr>\n",
       "\t<tr><td>2013</td><td> 7</td><td>1</td><td> 720</td><td> 720</td><td>  0</td><td> 946</td><td>1022</td><td>-36</td><td>AS</td><td>⋯</td><td>SEA</td><td>306</td><td>2402</td><td> 7</td><td>20</td><td>2013-07-01 07:00:00</td><td>1</td><td> 62</td><td> 51</td><td>0.8225806</td></tr>\n",
       "\t<tr><td>2013</td><td> 7</td><td>1</td><td>1939</td><td>1825</td><td> 74</td><td>2204</td><td>2145</td><td> 19</td><td>AS</td><td>⋯</td><td>SEA</td><td>302</td><td>2402</td><td>18</td><td>25</td><td>2013-07-01 18:00:00</td><td>0</td><td> 62</td><td> 51</td><td>0.8225806</td></tr>\n",
       "\t<tr><td>2013</td><td> 7</td><td>2</td><td> 715</td><td> 720</td><td> -5</td><td> 942</td><td>1022</td><td>-40</td><td>AS</td><td>⋯</td><td>SEA</td><td>301</td><td>2402</td><td> 7</td><td>20</td><td>2013-07-02 07:00:00</td><td>1</td><td> 62</td><td> 51</td><td>0.8225806</td></tr>\n",
       "\t<tr><td>2013</td><td> 7</td><td>2</td><td>1820</td><td>1825</td><td> -5</td><td>2104</td><td>2145</td><td>-41</td><td>AS</td><td>⋯</td><td>SEA</td><td>311</td><td>2402</td><td>18</td><td>25</td><td>2013-07-02 18:00:00</td><td>1</td><td> 62</td><td> 51</td><td>0.8225806</td></tr>\n",
       "\t<tr><td>2013</td><td> 7</td><td>3</td><td> 711</td><td> 720</td><td> -9</td><td> 938</td><td>1022</td><td>-44</td><td>AS</td><td>⋯</td><td>SEA</td><td>303</td><td>2402</td><td> 7</td><td>20</td><td>2013-07-03 07:00:00</td><td>1</td><td> 62</td><td> 51</td><td>0.8225806</td></tr>\n",
       "\t<tr><td>2013</td><td> 8</td><td>1</td><td> 715</td><td> 720</td><td> -5</td><td>1010</td><td>1025</td><td>-15</td><td>AS</td><td>⋯</td><td>SEA</td><td>329</td><td>2402</td><td> 7</td><td>20</td><td>2013-08-01 07:00:00</td><td>1</td><td> 62</td><td> 56</td><td>0.9032258</td></tr>\n",
       "\t<tr><td>2013</td><td> 8</td><td>1</td><td>1931</td><td>1825</td><td> 66</td><td>2235</td><td>2147</td><td> 48</td><td>AS</td><td>⋯</td><td>SEA</td><td>331</td><td>2402</td><td>18</td><td>25</td><td>2013-08-01 18:00:00</td><td>0</td><td> 62</td><td> 56</td><td>0.9032258</td></tr>\n",
       "\t<tr><td>2013</td><td> 8</td><td>2</td><td> 716</td><td> 720</td><td> -4</td><td>1027</td><td>1025</td><td>  2</td><td>AS</td><td>⋯</td><td>SEA</td><td>342</td><td>2402</td><td> 7</td><td>20</td><td>2013-08-02 07:00:00</td><td>1</td><td> 62</td><td> 56</td><td>0.9032258</td></tr>\n",
       "\t<tr><td>2013</td><td> 8</td><td>2</td><td>1831</td><td>1825</td><td>  6</td><td>2139</td><td>2147</td><td> -8</td><td>AS</td><td>⋯</td><td>SEA</td><td>335</td><td>2402</td><td>18</td><td>25</td><td>2013-08-02 18:00:00</td><td>1</td><td> 62</td><td> 56</td><td>0.9032258</td></tr>\n",
       "\t<tr><td>2013</td><td> 8</td><td>3</td><td> 706</td><td> 720</td><td>-14</td><td>1024</td><td>1025</td><td> -1</td><td>AS</td><td>⋯</td><td>SEA</td><td>351</td><td>2402</td><td> 7</td><td>20</td><td>2013-08-03 07:00:00</td><td>1</td><td> 62</td><td> 56</td><td>0.9032258</td></tr>\n",
       "\t<tr><td>2013</td><td> 9</td><td>1</td><td> 714</td><td> 720</td><td> -6</td><td> 955</td><td>1025</td><td>-30</td><td>AS</td><td>⋯</td><td>SEA</td><td>325</td><td>2402</td><td> 7</td><td>20</td><td>2013-09-01 07:00:00</td><td>1</td><td> 60</td><td> 58</td><td>0.9666667</td></tr>\n",
       "\t<tr><td>2013</td><td> 9</td><td>1</td><td>1831</td><td>1835</td><td> -4</td><td>2137</td><td>2158</td><td>-21</td><td>AS</td><td>⋯</td><td>SEA</td><td>328</td><td>2402</td><td>18</td><td>35</td><td>2013-09-01 18:00:00</td><td>1</td><td> 60</td><td> 58</td><td>0.9666667</td></tr>\n",
       "\t<tr><td>2013</td><td> 9</td><td>2</td><td> 715</td><td> 720</td><td> -5</td><td> 952</td><td>1025</td><td>-33</td><td>AS</td><td>⋯</td><td>SEA</td><td>322</td><td>2402</td><td> 7</td><td>20</td><td>2013-09-02 07:00:00</td><td>1</td><td> 60</td><td> 58</td><td>0.9666667</td></tr>\n",
       "\t<tr><td>2013</td><td> 9</td><td>2</td><td>1837</td><td>1835</td><td>  2</td><td>2119</td><td>2158</td><td>-39</td><td>AS</td><td>⋯</td><td>SEA</td><td>322</td><td>2402</td><td>18</td><td>35</td><td>2013-09-02 18:00:00</td><td>1</td><td> 60</td><td> 58</td><td>0.9666667</td></tr>\n",
       "\t<tr><td>2013</td><td> 9</td><td>3</td><td> 714</td><td> 720</td><td> -6</td><td>1000</td><td>1025</td><td>-25</td><td>AS</td><td>⋯</td><td>SEA</td><td>321</td><td>2402</td><td> 7</td><td>20</td><td>2013-09-03 07:00:00</td><td>1</td><td> 60</td><td> 58</td><td>0.9666667</td></tr>\n",
       "\t<tr><td>2013</td><td>10</td><td>2</td><td> 951</td><td>1000</td><td> -9</td><td>1438</td><td>1450</td><td>-12</td><td>HA</td><td>⋯</td><td>HNL</td><td>623</td><td>4983</td><td>10</td><td> 0</td><td>2013-10-02 10:00:00</td><td>1</td><td> 21</td><td> 20</td><td>0.9523810</td></tr>\n",
       "\t<tr><td>2013</td><td>10</td><td>4</td><td> 954</td><td>1000</td><td> -6</td><td>1438</td><td>1450</td><td>-12</td><td>HA</td><td>⋯</td><td>HNL</td><td>618</td><td>4983</td><td>10</td><td> 0</td><td>2013-10-04 10:00:00</td><td>1</td><td> 21</td><td> 20</td><td>0.9523810</td></tr>\n",
       "\t<tr><td>2013</td><td>10</td><td>5</td><td>1002</td><td>1000</td><td>  2</td><td>1418</td><td>1450</td><td>-32</td><td>HA</td><td>⋯</td><td>HNL</td><td>593</td><td>4983</td><td>10</td><td> 0</td><td>2013-10-05 10:00:00</td><td>1</td><td> 21</td><td> 20</td><td>0.9523810</td></tr>\n",
       "\t<tr><td>2013</td><td>10</td><td>6</td><td> 958</td><td>1000</td><td> -2</td><td>1415</td><td>1450</td><td>-35</td><td>HA</td><td>⋯</td><td>HNL</td><td>601</td><td>4983</td><td>10</td><td> 0</td><td>2013-10-06 10:00:00</td><td>1</td><td> 21</td><td> 20</td><td>0.9523810</td></tr>\n",
       "\t<tr><td>2013</td><td>10</td><td>7</td><td> 957</td><td>1000</td><td> -3</td><td>1504</td><td>1450</td><td> 14</td><td>HA</td><td>⋯</td><td>HNL</td><td>642</td><td>4983</td><td>10</td><td> 0</td><td>2013-10-07 10:00:00</td><td>0</td><td> 21</td><td> 20</td><td>0.9523810</td></tr>\n",
       "\t<tr><td>2013</td><td>11</td><td>1</td><td> 714</td><td> 720</td><td> -6</td><td>1008</td><td>1030</td><td>-22</td><td>AS</td><td>⋯</td><td>SEA</td><td>331</td><td>2402</td><td> 7</td><td>20</td><td>2013-11-01 07:00:00</td><td>1</td><td> 52</td><td> 45</td><td>0.8653846</td></tr>\n",
       "\t<tr><td>2013</td><td>11</td><td>1</td><td>2013</td><td>1835</td><td> 98</td><td>2317</td><td>2148</td><td> 89</td><td>AS</td><td>⋯</td><td>SEA</td><td>333</td><td>2402</td><td>18</td><td>35</td><td>2013-11-01 18:00:00</td><td>0</td><td> 52</td><td> 45</td><td>0.8653846</td></tr>\n",
       "\t<tr><td>2013</td><td>11</td><td>2</td><td> 713</td><td> 720</td><td> -7</td><td>1014</td><td>1030</td><td>-16</td><td>AS</td><td>⋯</td><td>SEA</td><td>335</td><td>2402</td><td> 7</td><td>20</td><td>2013-11-02 07:00:00</td><td>1</td><td> 52</td><td> 45</td><td>0.8653846</td></tr>\n",
       "\t<tr><td>2013</td><td>11</td><td>2</td><td>1829</td><td>1835</td><td> -6</td><td>2137</td><td>2148</td><td>-11</td><td>AS</td><td>⋯</td><td>SEA</td><td>332</td><td>2402</td><td>18</td><td>35</td><td>2013-11-02 18:00:00</td><td>1</td><td> 52</td><td> 45</td><td>0.8653846</td></tr>\n",
       "\t<tr><td>2013</td><td>11</td><td>3</td><td> 716</td><td> 720</td><td> -4</td><td>1007</td><td>1030</td><td>-23</td><td>AS</td><td>⋯</td><td>SEA</td><td>327</td><td>2402</td><td> 7</td><td>20</td><td>2013-11-03 07:00:00</td><td>1</td><td> 52</td><td> 45</td><td>0.8653846</td></tr>\n",
       "\t<tr><td>2013</td><td>12</td><td>1</td><td> 928</td><td> 930</td><td> -2</td><td>1532</td><td>1535</td><td> -3</td><td>HA</td><td>⋯</td><td>HNL</td><td>625</td><td>4983</td><td> 9</td><td>30</td><td>2013-12-01 09:00:00</td><td>1</td><td> 28</td><td> 24</td><td>0.8571429</td></tr>\n",
       "\t<tr><td>2013</td><td>12</td><td>2</td><td> 920</td><td> 930</td><td>-10</td><td>1525</td><td>1535</td><td>-10</td><td>HA</td><td>⋯</td><td>HNL</td><td>640</td><td>4983</td><td> 9</td><td>30</td><td>2013-12-02 09:00:00</td><td>1</td><td> 28</td><td> 24</td><td>0.8571429</td></tr>\n",
       "\t<tr><td>2013</td><td>12</td><td>4</td><td> 933</td><td> 930</td><td>  3</td><td>1519</td><td>1535</td><td>-16</td><td>HA</td><td>⋯</td><td>HNL</td><td>628</td><td>4983</td><td> 9</td><td>30</td><td>2013-12-04 09:00:00</td><td>1</td><td> 28</td><td> 24</td><td>0.8571429</td></tr>\n",
       "\t<tr><td>2013</td><td>12</td><td>5</td><td> 920</td><td> 930</td><td>-10</td><td>1609</td><td>1535</td><td> 34</td><td>HA</td><td>⋯</td><td>HNL</td><td>659</td><td>4983</td><td> 9</td><td>30</td><td>2013-12-05 09:00:00</td><td>0</td><td> 28</td><td> 24</td><td>0.8571429</td></tr>\n",
       "\t<tr><td>2013</td><td>12</td><td>6</td><td> 924</td><td> 930</td><td> -6</td><td>1545</td><td>1535</td><td> 10</td><td>HA</td><td>⋯</td><td>HNL</td><td>660</td><td>4983</td><td> 9</td><td>30</td><td>2013-12-06 09:00:00</td><td>0</td><td> 28</td><td> 24</td><td>0.8571429</td></tr>\n",
       "</tbody>\n",
       "</table>\n"
      ],
      "text/latex": [
       "A grouped\\_df: 60 × 23\n",
       "\\begin{tabular}{lllllllllllllllllllll}\n",
       " year & month & day & dep\\_time & sched\\_dep\\_time & dep\\_delay & arr\\_time & sched\\_arr\\_time & arr\\_delay & carrier & ⋯ & dest & air\\_time & distance & hour & minute & time\\_hour & bool\\_del & nof & ndel & del\\_ratio\\\\\n",
       " <int> & <int> & <int> & <int> & <int> & <dbl> & <int> & <int> & <dbl> & <chr> & ⋯ & <chr> & <dbl> & <dbl> & <dbl> & <dbl> & <dttm> & <dbl> & <int> & <dbl> & <dbl>\\\\\n",
       "\\hline\n",
       "\t 2013 &  1 & 1 &  658 &  700 &  -2 & 1027 & 1025 &   2 & VX & ⋯ & LAX & 361 & 2475 &  7 &  0 & 2013-01-01 07:00:00 & 1 & 314 & 290 & 0.9235669\\\\\n",
       "\t 2013 &  1 & 1 &  729 &  730 &  -1 & 1049 & 1115 & -26 & VX & ⋯ & SFO & 356 & 2586 &  7 & 30 & 2013-01-01 07:00:00 & 1 & 314 & 290 & 0.9235669\\\\\n",
       "\t 2013 &  1 & 1 &  859 &  900 &  -1 & 1223 & 1225 &  -2 & VX & ⋯ & LAX & 359 & 2475 &  9 &  0 & 2013-01-01 09:00:00 & 1 & 314 & 290 & 0.9235669\\\\\n",
       "\t 2013 &  1 & 1 &  932 &  930 &   2 & 1219 & 1225 &  -6 & VX & ⋯ & LAS & 324 & 2248 &  9 & 30 & 2013-01-01 09:00:00 & 1 & 314 & 290 & 0.9235669\\\\\n",
       "\t 2013 &  1 & 1 & 1031 & 1030 &   1 & 1353 & 1415 & -22 & VX & ⋯ & SFO & 363 & 2586 & 10 & 30 & 2013-01-01 10:00:00 & 1 & 314 & 290 & 0.9235669\\\\\n",
       "\t 2013 &  2 & 1 &  855 &  900 &  -5 & 1442 & 1540 & -58 & HA & ⋯ & HNL & 620 & 4983 &  9 &  0 & 2013-02-01 09:00:00 & 1 &  28 &  25 & 0.8928571\\\\\n",
       "\t 2013 &  2 & 2 &  858 &  900 &  -2 & 1440 & 1540 & -60 & HA & ⋯ & HNL & 629 & 4983 &  9 &  0 & 2013-02-02 09:00:00 & 1 &  28 &  25 & 0.8928571\\\\\n",
       "\t 2013 &  2 & 3 &  857 &  900 &  -3 & 1446 & 1540 & -54 & HA & ⋯ & HNL & 614 & 4983 &  9 &  0 & 2013-02-03 09:00:00 & 1 &  28 &  25 & 0.8928571\\\\\n",
       "\t 2013 &  2 & 4 &  857 &  900 &  -3 & 1521 & 1540 & -19 & HA & ⋯ & HNL & 655 & 4983 &  9 &  0 & 2013-02-04 09:00:00 & 1 &  28 &  25 & 0.8928571\\\\\n",
       "\t 2013 &  2 & 5 &  900 &  900 &   0 & 1555 & 1540 &  15 & HA & ⋯ & HNL & 679 & 4983 &  9 &  0 & 2013-02-05 09:00:00 & 0 &  28 &  25 & 0.8928571\\\\\n",
       "\t 2013 &  3 & 1 &  716 &  710 &   6 &  958 & 1035 & -37 & VX & ⋯ & LAX & 315 & 2475 &  7 & 10 & 2013-03-01 07:00:00 & 1 & 303 & 257 & 0.8481848\\\\\n",
       "\t 2013 &  3 & 1 &  739 &  730 &   9 & 1036 & 1110 & -34 & VX & ⋯ & SFO & 338 & 2586 &  7 & 30 & 2013-03-01 07:00:00 & 1 & 303 & 257 & 0.8481848\\\\\n",
       "\t 2013 &  3 & 1 &  917 &  910 &   7 & 1150 & 1235 & -45 & VX & ⋯ & LAX & 309 & 2475 &  9 & 10 & 2013-03-01 09:00:00 & 1 & 303 & 257 & 0.8481848\\\\\n",
       "\t 2013 &  3 & 1 &  946 &  935 &  11 & 1158 & 1230 & -32 & VX & ⋯ & LAS & 290 & 2248 &  9 & 35 & 2013-03-01 09:00:00 & 1 & 303 & 257 & 0.8481848\\\\\n",
       "\t 2013 &  3 & 1 & 1039 & 1030 &   9 & 1342 & 1410 & -28 & VX & ⋯ & SFO & 341 & 2586 & 10 & 30 & 2013-03-01 10:00:00 & 1 & 303 & 257 & 0.8481848\\\\\n",
       "\t 2013 &  4 & 1 & 1000 & 1000 &   0 & 1450 & 1510 & -20 & HA & ⋯ & HNL & 633 & 4983 & 10 &  0 & 2013-04-01 10:00:00 & 1 &  30 &  26 & 0.8666667\\\\\n",
       "\t 2013 &  4 & 2 &  958 & 1000 &  -2 & 1457 & 1510 & -13 & HA & ⋯ & HNL & 637 & 4983 & 10 &  0 & 2013-04-02 10:00:00 & 1 &  30 &  26 & 0.8666667\\\\\n",
       "\t 2013 &  4 & 3 &  957 & 1000 &  -3 & 1535 & 1510 &  25 & HA & ⋯ & HNL & 671 & 4983 & 10 &  0 & 2013-04-03 10:00:00 & 0 &  30 &  26 & 0.8666667\\\\\n",
       "\t 2013 &  4 & 4 & 1006 & 1000 &   6 & 1502 & 1510 &  -8 & HA & ⋯ & HNL & 636 & 4983 & 10 &  0 & 2013-04-04 10:00:00 & 1 &  30 &  26 & 0.8666667\\\\\n",
       "\t 2013 &  4 & 5 &  954 & 1000 &  -6 & 1505 & 1510 &  -5 & HA & ⋯ & HNL & 646 & 4983 & 10 &  0 & 2013-04-05 10:00:00 & 1 &  30 &  26 & 0.8666667\\\\\n",
       "\t 2013 &  5 & 1 & 1000 & 1000 &   0 & 1430 & 1500 & -30 & HA & ⋯ & HNL & 607 & 4983 & 10 &  0 & 2013-05-01 10:00:00 & 1 &  31 &  29 & 0.9354839\\\\\n",
       "\t 2013 &  5 & 2 &  953 & 1000 &  -7 & 1423 & 1500 & -37 & HA & ⋯ & HNL & 603 & 4983 & 10 &  0 & 2013-05-02 10:00:00 & 1 &  31 &  29 & 0.9354839\\\\\n",
       "\t 2013 &  5 & 3 & 1001 & 1000 &   1 & 1424 & 1500 & -36 & HA & ⋯ & HNL & 600 & 4983 & 10 &  0 & 2013-05-03 10:00:00 & 1 &  31 &  29 & 0.9354839\\\\\n",
       "\t 2013 &  5 & 4 &  958 & 1000 &  -2 & 1421 & 1500 & -39 & HA & ⋯ & HNL & 595 & 4983 & 10 &  0 & 2013-05-04 10:00:00 & 1 &  31 &  29 & 0.9354839\\\\\n",
       "\t 2013 &  5 & 5 & 1000 & 1000 &   0 & 1436 & 1500 & -24 & HA & ⋯ & HNL & 607 & 4983 & 10 &  0 & 2013-05-05 10:00:00 & 1 &  31 &  29 & 0.9354839\\\\\n",
       "\t 2013 &  6 & 1 &  720 &  725 &  -5 &  944 & 1015 & -31 & AS & ⋯ & SEA & 312 & 2402 &  7 & 25 & 2013-06-01 07:00:00 & 1 &  60 &  47 & 0.7833333\\\\\n",
       "\t 2013 &  6 & 1 & 1805 & 1820 & -15 & 2149 & 2133 &  16 & AS & ⋯ & SEA & 357 & 2402 & 18 & 20 & 2013-06-01 18:00:00 & 0 &  60 &  47 & 0.7833333\\\\\n",
       "\t 2013 &  6 & 2 &  716 &  725 &  -9 & 1001 & 1015 & -14 & AS & ⋯ & SEA & 329 & 2402 &  7 & 25 & 2013-06-02 07:00:00 & 1 &  60 &  47 & 0.7833333\\\\\n",
       "\t 2013 &  6 & 2 & 2145 & 1820 & 205 &   23 & 2133 & 170 & AS & ⋯ & SEA & 324 & 2402 & 18 & 20 & 2013-06-02 18:00:00 & 0 &  60 &  47 & 0.7833333\\\\\n",
       "\t 2013 &  6 & 3 &  723 &  725 &  -2 & 1027 & 1015 &  12 & AS & ⋯ & SEA & 331 & 2402 &  7 & 25 & 2013-06-03 07:00:00 & 0 &  60 &  47 & 0.7833333\\\\\n",
       "\t 2013 &  7 & 1 &  720 &  720 &   0 &  946 & 1022 & -36 & AS & ⋯ & SEA & 306 & 2402 &  7 & 20 & 2013-07-01 07:00:00 & 1 &  62 &  51 & 0.8225806\\\\\n",
       "\t 2013 &  7 & 1 & 1939 & 1825 &  74 & 2204 & 2145 &  19 & AS & ⋯ & SEA & 302 & 2402 & 18 & 25 & 2013-07-01 18:00:00 & 0 &  62 &  51 & 0.8225806\\\\\n",
       "\t 2013 &  7 & 2 &  715 &  720 &  -5 &  942 & 1022 & -40 & AS & ⋯ & SEA & 301 & 2402 &  7 & 20 & 2013-07-02 07:00:00 & 1 &  62 &  51 & 0.8225806\\\\\n",
       "\t 2013 &  7 & 2 & 1820 & 1825 &  -5 & 2104 & 2145 & -41 & AS & ⋯ & SEA & 311 & 2402 & 18 & 25 & 2013-07-02 18:00:00 & 1 &  62 &  51 & 0.8225806\\\\\n",
       "\t 2013 &  7 & 3 &  711 &  720 &  -9 &  938 & 1022 & -44 & AS & ⋯ & SEA & 303 & 2402 &  7 & 20 & 2013-07-03 07:00:00 & 1 &  62 &  51 & 0.8225806\\\\\n",
       "\t 2013 &  8 & 1 &  715 &  720 &  -5 & 1010 & 1025 & -15 & AS & ⋯ & SEA & 329 & 2402 &  7 & 20 & 2013-08-01 07:00:00 & 1 &  62 &  56 & 0.9032258\\\\\n",
       "\t 2013 &  8 & 1 & 1931 & 1825 &  66 & 2235 & 2147 &  48 & AS & ⋯ & SEA & 331 & 2402 & 18 & 25 & 2013-08-01 18:00:00 & 0 &  62 &  56 & 0.9032258\\\\\n",
       "\t 2013 &  8 & 2 &  716 &  720 &  -4 & 1027 & 1025 &   2 & AS & ⋯ & SEA & 342 & 2402 &  7 & 20 & 2013-08-02 07:00:00 & 1 &  62 &  56 & 0.9032258\\\\\n",
       "\t 2013 &  8 & 2 & 1831 & 1825 &   6 & 2139 & 2147 &  -8 & AS & ⋯ & SEA & 335 & 2402 & 18 & 25 & 2013-08-02 18:00:00 & 1 &  62 &  56 & 0.9032258\\\\\n",
       "\t 2013 &  8 & 3 &  706 &  720 & -14 & 1024 & 1025 &  -1 & AS & ⋯ & SEA & 351 & 2402 &  7 & 20 & 2013-08-03 07:00:00 & 1 &  62 &  56 & 0.9032258\\\\\n",
       "\t 2013 &  9 & 1 &  714 &  720 &  -6 &  955 & 1025 & -30 & AS & ⋯ & SEA & 325 & 2402 &  7 & 20 & 2013-09-01 07:00:00 & 1 &  60 &  58 & 0.9666667\\\\\n",
       "\t 2013 &  9 & 1 & 1831 & 1835 &  -4 & 2137 & 2158 & -21 & AS & ⋯ & SEA & 328 & 2402 & 18 & 35 & 2013-09-01 18:00:00 & 1 &  60 &  58 & 0.9666667\\\\\n",
       "\t 2013 &  9 & 2 &  715 &  720 &  -5 &  952 & 1025 & -33 & AS & ⋯ & SEA & 322 & 2402 &  7 & 20 & 2013-09-02 07:00:00 & 1 &  60 &  58 & 0.9666667\\\\\n",
       "\t 2013 &  9 & 2 & 1837 & 1835 &   2 & 2119 & 2158 & -39 & AS & ⋯ & SEA & 322 & 2402 & 18 & 35 & 2013-09-02 18:00:00 & 1 &  60 &  58 & 0.9666667\\\\\n",
       "\t 2013 &  9 & 3 &  714 &  720 &  -6 & 1000 & 1025 & -25 & AS & ⋯ & SEA & 321 & 2402 &  7 & 20 & 2013-09-03 07:00:00 & 1 &  60 &  58 & 0.9666667\\\\\n",
       "\t 2013 & 10 & 2 &  951 & 1000 &  -9 & 1438 & 1450 & -12 & HA & ⋯ & HNL & 623 & 4983 & 10 &  0 & 2013-10-02 10:00:00 & 1 &  21 &  20 & 0.9523810\\\\\n",
       "\t 2013 & 10 & 4 &  954 & 1000 &  -6 & 1438 & 1450 & -12 & HA & ⋯ & HNL & 618 & 4983 & 10 &  0 & 2013-10-04 10:00:00 & 1 &  21 &  20 & 0.9523810\\\\\n",
       "\t 2013 & 10 & 5 & 1002 & 1000 &   2 & 1418 & 1450 & -32 & HA & ⋯ & HNL & 593 & 4983 & 10 &  0 & 2013-10-05 10:00:00 & 1 &  21 &  20 & 0.9523810\\\\\n",
       "\t 2013 & 10 & 6 &  958 & 1000 &  -2 & 1415 & 1450 & -35 & HA & ⋯ & HNL & 601 & 4983 & 10 &  0 & 2013-10-06 10:00:00 & 1 &  21 &  20 & 0.9523810\\\\\n",
       "\t 2013 & 10 & 7 &  957 & 1000 &  -3 & 1504 & 1450 &  14 & HA & ⋯ & HNL & 642 & 4983 & 10 &  0 & 2013-10-07 10:00:00 & 0 &  21 &  20 & 0.9523810\\\\\n",
       "\t 2013 & 11 & 1 &  714 &  720 &  -6 & 1008 & 1030 & -22 & AS & ⋯ & SEA & 331 & 2402 &  7 & 20 & 2013-11-01 07:00:00 & 1 &  52 &  45 & 0.8653846\\\\\n",
       "\t 2013 & 11 & 1 & 2013 & 1835 &  98 & 2317 & 2148 &  89 & AS & ⋯ & SEA & 333 & 2402 & 18 & 35 & 2013-11-01 18:00:00 & 0 &  52 &  45 & 0.8653846\\\\\n",
       "\t 2013 & 11 & 2 &  713 &  720 &  -7 & 1014 & 1030 & -16 & AS & ⋯ & SEA & 335 & 2402 &  7 & 20 & 2013-11-02 07:00:00 & 1 &  52 &  45 & 0.8653846\\\\\n",
       "\t 2013 & 11 & 2 & 1829 & 1835 &  -6 & 2137 & 2148 & -11 & AS & ⋯ & SEA & 332 & 2402 & 18 & 35 & 2013-11-02 18:00:00 & 1 &  52 &  45 & 0.8653846\\\\\n",
       "\t 2013 & 11 & 3 &  716 &  720 &  -4 & 1007 & 1030 & -23 & AS & ⋯ & SEA & 327 & 2402 &  7 & 20 & 2013-11-03 07:00:00 & 1 &  52 &  45 & 0.8653846\\\\\n",
       "\t 2013 & 12 & 1 &  928 &  930 &  -2 & 1532 & 1535 &  -3 & HA & ⋯ & HNL & 625 & 4983 &  9 & 30 & 2013-12-01 09:00:00 & 1 &  28 &  24 & 0.8571429\\\\\n",
       "\t 2013 & 12 & 2 &  920 &  930 & -10 & 1525 & 1535 & -10 & HA & ⋯ & HNL & 640 & 4983 &  9 & 30 & 2013-12-02 09:00:00 & 1 &  28 &  24 & 0.8571429\\\\\n",
       "\t 2013 & 12 & 4 &  933 &  930 &   3 & 1519 & 1535 & -16 & HA & ⋯ & HNL & 628 & 4983 &  9 & 30 & 2013-12-04 09:00:00 & 1 &  28 &  24 & 0.8571429\\\\\n",
       "\t 2013 & 12 & 5 &  920 &  930 & -10 & 1609 & 1535 &  34 & HA & ⋯ & HNL & 659 & 4983 &  9 & 30 & 2013-12-05 09:00:00 & 0 &  28 &  24 & 0.8571429\\\\\n",
       "\t 2013 & 12 & 6 &  924 &  930 &  -6 & 1545 & 1535 &  10 & HA & ⋯ & HNL & 660 & 4983 &  9 & 30 & 2013-12-06 09:00:00 & 0 &  28 &  24 & 0.8571429\\\\\n",
       "\\end{tabular}\n"
      ],
      "text/markdown": [
       "\n",
       "A grouped_df: 60 × 23\n",
       "\n",
       "| year &lt;int&gt; | month &lt;int&gt; | day &lt;int&gt; | dep_time &lt;int&gt; | sched_dep_time &lt;int&gt; | dep_delay &lt;dbl&gt; | arr_time &lt;int&gt; | sched_arr_time &lt;int&gt; | arr_delay &lt;dbl&gt; | carrier &lt;chr&gt; | ⋯ ⋯ | dest &lt;chr&gt; | air_time &lt;dbl&gt; | distance &lt;dbl&gt; | hour &lt;dbl&gt; | minute &lt;dbl&gt; | time_hour &lt;dttm&gt; | bool_del &lt;dbl&gt; | nof &lt;int&gt; | ndel &lt;dbl&gt; | del_ratio &lt;dbl&gt; |\n",
       "|---|---|---|---|---|---|---|---|---|---|---|---|---|---|---|---|---|---|---|---|---|\n",
       "| 2013 |  1 | 1 |  658 |  700 |  -2 | 1027 | 1025 |   2 | VX | ⋯ | LAX | 361 | 2475 |  7 |  0 | 2013-01-01 07:00:00 | 1 | 314 | 290 | 0.9235669 |\n",
       "| 2013 |  1 | 1 |  729 |  730 |  -1 | 1049 | 1115 | -26 | VX | ⋯ | SFO | 356 | 2586 |  7 | 30 | 2013-01-01 07:00:00 | 1 | 314 | 290 | 0.9235669 |\n",
       "| 2013 |  1 | 1 |  859 |  900 |  -1 | 1223 | 1225 |  -2 | VX | ⋯ | LAX | 359 | 2475 |  9 |  0 | 2013-01-01 09:00:00 | 1 | 314 | 290 | 0.9235669 |\n",
       "| 2013 |  1 | 1 |  932 |  930 |   2 | 1219 | 1225 |  -6 | VX | ⋯ | LAS | 324 | 2248 |  9 | 30 | 2013-01-01 09:00:00 | 1 | 314 | 290 | 0.9235669 |\n",
       "| 2013 |  1 | 1 | 1031 | 1030 |   1 | 1353 | 1415 | -22 | VX | ⋯ | SFO | 363 | 2586 | 10 | 30 | 2013-01-01 10:00:00 | 1 | 314 | 290 | 0.9235669 |\n",
       "| 2013 |  2 | 1 |  855 |  900 |  -5 | 1442 | 1540 | -58 | HA | ⋯ | HNL | 620 | 4983 |  9 |  0 | 2013-02-01 09:00:00 | 1 |  28 |  25 | 0.8928571 |\n",
       "| 2013 |  2 | 2 |  858 |  900 |  -2 | 1440 | 1540 | -60 | HA | ⋯ | HNL | 629 | 4983 |  9 |  0 | 2013-02-02 09:00:00 | 1 |  28 |  25 | 0.8928571 |\n",
       "| 2013 |  2 | 3 |  857 |  900 |  -3 | 1446 | 1540 | -54 | HA | ⋯ | HNL | 614 | 4983 |  9 |  0 | 2013-02-03 09:00:00 | 1 |  28 |  25 | 0.8928571 |\n",
       "| 2013 |  2 | 4 |  857 |  900 |  -3 | 1521 | 1540 | -19 | HA | ⋯ | HNL | 655 | 4983 |  9 |  0 | 2013-02-04 09:00:00 | 1 |  28 |  25 | 0.8928571 |\n",
       "| 2013 |  2 | 5 |  900 |  900 |   0 | 1555 | 1540 |  15 | HA | ⋯ | HNL | 679 | 4983 |  9 |  0 | 2013-02-05 09:00:00 | 0 |  28 |  25 | 0.8928571 |\n",
       "| 2013 |  3 | 1 |  716 |  710 |   6 |  958 | 1035 | -37 | VX | ⋯ | LAX | 315 | 2475 |  7 | 10 | 2013-03-01 07:00:00 | 1 | 303 | 257 | 0.8481848 |\n",
       "| 2013 |  3 | 1 |  739 |  730 |   9 | 1036 | 1110 | -34 | VX | ⋯ | SFO | 338 | 2586 |  7 | 30 | 2013-03-01 07:00:00 | 1 | 303 | 257 | 0.8481848 |\n",
       "| 2013 |  3 | 1 |  917 |  910 |   7 | 1150 | 1235 | -45 | VX | ⋯ | LAX | 309 | 2475 |  9 | 10 | 2013-03-01 09:00:00 | 1 | 303 | 257 | 0.8481848 |\n",
       "| 2013 |  3 | 1 |  946 |  935 |  11 | 1158 | 1230 | -32 | VX | ⋯ | LAS | 290 | 2248 |  9 | 35 | 2013-03-01 09:00:00 | 1 | 303 | 257 | 0.8481848 |\n",
       "| 2013 |  3 | 1 | 1039 | 1030 |   9 | 1342 | 1410 | -28 | VX | ⋯ | SFO | 341 | 2586 | 10 | 30 | 2013-03-01 10:00:00 | 1 | 303 | 257 | 0.8481848 |\n",
       "| 2013 |  4 | 1 | 1000 | 1000 |   0 | 1450 | 1510 | -20 | HA | ⋯ | HNL | 633 | 4983 | 10 |  0 | 2013-04-01 10:00:00 | 1 |  30 |  26 | 0.8666667 |\n",
       "| 2013 |  4 | 2 |  958 | 1000 |  -2 | 1457 | 1510 | -13 | HA | ⋯ | HNL | 637 | 4983 | 10 |  0 | 2013-04-02 10:00:00 | 1 |  30 |  26 | 0.8666667 |\n",
       "| 2013 |  4 | 3 |  957 | 1000 |  -3 | 1535 | 1510 |  25 | HA | ⋯ | HNL | 671 | 4983 | 10 |  0 | 2013-04-03 10:00:00 | 0 |  30 |  26 | 0.8666667 |\n",
       "| 2013 |  4 | 4 | 1006 | 1000 |   6 | 1502 | 1510 |  -8 | HA | ⋯ | HNL | 636 | 4983 | 10 |  0 | 2013-04-04 10:00:00 | 1 |  30 |  26 | 0.8666667 |\n",
       "| 2013 |  4 | 5 |  954 | 1000 |  -6 | 1505 | 1510 |  -5 | HA | ⋯ | HNL | 646 | 4983 | 10 |  0 | 2013-04-05 10:00:00 | 1 |  30 |  26 | 0.8666667 |\n",
       "| 2013 |  5 | 1 | 1000 | 1000 |   0 | 1430 | 1500 | -30 | HA | ⋯ | HNL | 607 | 4983 | 10 |  0 | 2013-05-01 10:00:00 | 1 |  31 |  29 | 0.9354839 |\n",
       "| 2013 |  5 | 2 |  953 | 1000 |  -7 | 1423 | 1500 | -37 | HA | ⋯ | HNL | 603 | 4983 | 10 |  0 | 2013-05-02 10:00:00 | 1 |  31 |  29 | 0.9354839 |\n",
       "| 2013 |  5 | 3 | 1001 | 1000 |   1 | 1424 | 1500 | -36 | HA | ⋯ | HNL | 600 | 4983 | 10 |  0 | 2013-05-03 10:00:00 | 1 |  31 |  29 | 0.9354839 |\n",
       "| 2013 |  5 | 4 |  958 | 1000 |  -2 | 1421 | 1500 | -39 | HA | ⋯ | HNL | 595 | 4983 | 10 |  0 | 2013-05-04 10:00:00 | 1 |  31 |  29 | 0.9354839 |\n",
       "| 2013 |  5 | 5 | 1000 | 1000 |   0 | 1436 | 1500 | -24 | HA | ⋯ | HNL | 607 | 4983 | 10 |  0 | 2013-05-05 10:00:00 | 1 |  31 |  29 | 0.9354839 |\n",
       "| 2013 |  6 | 1 |  720 |  725 |  -5 |  944 | 1015 | -31 | AS | ⋯ | SEA | 312 | 2402 |  7 | 25 | 2013-06-01 07:00:00 | 1 |  60 |  47 | 0.7833333 |\n",
       "| 2013 |  6 | 1 | 1805 | 1820 | -15 | 2149 | 2133 |  16 | AS | ⋯ | SEA | 357 | 2402 | 18 | 20 | 2013-06-01 18:00:00 | 0 |  60 |  47 | 0.7833333 |\n",
       "| 2013 |  6 | 2 |  716 |  725 |  -9 | 1001 | 1015 | -14 | AS | ⋯ | SEA | 329 | 2402 |  7 | 25 | 2013-06-02 07:00:00 | 1 |  60 |  47 | 0.7833333 |\n",
       "| 2013 |  6 | 2 | 2145 | 1820 | 205 |   23 | 2133 | 170 | AS | ⋯ | SEA | 324 | 2402 | 18 | 20 | 2013-06-02 18:00:00 | 0 |  60 |  47 | 0.7833333 |\n",
       "| 2013 |  6 | 3 |  723 |  725 |  -2 | 1027 | 1015 |  12 | AS | ⋯ | SEA | 331 | 2402 |  7 | 25 | 2013-06-03 07:00:00 | 0 |  60 |  47 | 0.7833333 |\n",
       "| 2013 |  7 | 1 |  720 |  720 |   0 |  946 | 1022 | -36 | AS | ⋯ | SEA | 306 | 2402 |  7 | 20 | 2013-07-01 07:00:00 | 1 |  62 |  51 | 0.8225806 |\n",
       "| 2013 |  7 | 1 | 1939 | 1825 |  74 | 2204 | 2145 |  19 | AS | ⋯ | SEA | 302 | 2402 | 18 | 25 | 2013-07-01 18:00:00 | 0 |  62 |  51 | 0.8225806 |\n",
       "| 2013 |  7 | 2 |  715 |  720 |  -5 |  942 | 1022 | -40 | AS | ⋯ | SEA | 301 | 2402 |  7 | 20 | 2013-07-02 07:00:00 | 1 |  62 |  51 | 0.8225806 |\n",
       "| 2013 |  7 | 2 | 1820 | 1825 |  -5 | 2104 | 2145 | -41 | AS | ⋯ | SEA | 311 | 2402 | 18 | 25 | 2013-07-02 18:00:00 | 1 |  62 |  51 | 0.8225806 |\n",
       "| 2013 |  7 | 3 |  711 |  720 |  -9 |  938 | 1022 | -44 | AS | ⋯ | SEA | 303 | 2402 |  7 | 20 | 2013-07-03 07:00:00 | 1 |  62 |  51 | 0.8225806 |\n",
       "| 2013 |  8 | 1 |  715 |  720 |  -5 | 1010 | 1025 | -15 | AS | ⋯ | SEA | 329 | 2402 |  7 | 20 | 2013-08-01 07:00:00 | 1 |  62 |  56 | 0.9032258 |\n",
       "| 2013 |  8 | 1 | 1931 | 1825 |  66 | 2235 | 2147 |  48 | AS | ⋯ | SEA | 331 | 2402 | 18 | 25 | 2013-08-01 18:00:00 | 0 |  62 |  56 | 0.9032258 |\n",
       "| 2013 |  8 | 2 |  716 |  720 |  -4 | 1027 | 1025 |   2 | AS | ⋯ | SEA | 342 | 2402 |  7 | 20 | 2013-08-02 07:00:00 | 1 |  62 |  56 | 0.9032258 |\n",
       "| 2013 |  8 | 2 | 1831 | 1825 |   6 | 2139 | 2147 |  -8 | AS | ⋯ | SEA | 335 | 2402 | 18 | 25 | 2013-08-02 18:00:00 | 1 |  62 |  56 | 0.9032258 |\n",
       "| 2013 |  8 | 3 |  706 |  720 | -14 | 1024 | 1025 |  -1 | AS | ⋯ | SEA | 351 | 2402 |  7 | 20 | 2013-08-03 07:00:00 | 1 |  62 |  56 | 0.9032258 |\n",
       "| 2013 |  9 | 1 |  714 |  720 |  -6 |  955 | 1025 | -30 | AS | ⋯ | SEA | 325 | 2402 |  7 | 20 | 2013-09-01 07:00:00 | 1 |  60 |  58 | 0.9666667 |\n",
       "| 2013 |  9 | 1 | 1831 | 1835 |  -4 | 2137 | 2158 | -21 | AS | ⋯ | SEA | 328 | 2402 | 18 | 35 | 2013-09-01 18:00:00 | 1 |  60 |  58 | 0.9666667 |\n",
       "| 2013 |  9 | 2 |  715 |  720 |  -5 |  952 | 1025 | -33 | AS | ⋯ | SEA | 322 | 2402 |  7 | 20 | 2013-09-02 07:00:00 | 1 |  60 |  58 | 0.9666667 |\n",
       "| 2013 |  9 | 2 | 1837 | 1835 |   2 | 2119 | 2158 | -39 | AS | ⋯ | SEA | 322 | 2402 | 18 | 35 | 2013-09-02 18:00:00 | 1 |  60 |  58 | 0.9666667 |\n",
       "| 2013 |  9 | 3 |  714 |  720 |  -6 | 1000 | 1025 | -25 | AS | ⋯ | SEA | 321 | 2402 |  7 | 20 | 2013-09-03 07:00:00 | 1 |  60 |  58 | 0.9666667 |\n",
       "| 2013 | 10 | 2 |  951 | 1000 |  -9 | 1438 | 1450 | -12 | HA | ⋯ | HNL | 623 | 4983 | 10 |  0 | 2013-10-02 10:00:00 | 1 |  21 |  20 | 0.9523810 |\n",
       "| 2013 | 10 | 4 |  954 | 1000 |  -6 | 1438 | 1450 | -12 | HA | ⋯ | HNL | 618 | 4983 | 10 |  0 | 2013-10-04 10:00:00 | 1 |  21 |  20 | 0.9523810 |\n",
       "| 2013 | 10 | 5 | 1002 | 1000 |   2 | 1418 | 1450 | -32 | HA | ⋯ | HNL | 593 | 4983 | 10 |  0 | 2013-10-05 10:00:00 | 1 |  21 |  20 | 0.9523810 |\n",
       "| 2013 | 10 | 6 |  958 | 1000 |  -2 | 1415 | 1450 | -35 | HA | ⋯ | HNL | 601 | 4983 | 10 |  0 | 2013-10-06 10:00:00 | 1 |  21 |  20 | 0.9523810 |\n",
       "| 2013 | 10 | 7 |  957 | 1000 |  -3 | 1504 | 1450 |  14 | HA | ⋯ | HNL | 642 | 4983 | 10 |  0 | 2013-10-07 10:00:00 | 0 |  21 |  20 | 0.9523810 |\n",
       "| 2013 | 11 | 1 |  714 |  720 |  -6 | 1008 | 1030 | -22 | AS | ⋯ | SEA | 331 | 2402 |  7 | 20 | 2013-11-01 07:00:00 | 1 |  52 |  45 | 0.8653846 |\n",
       "| 2013 | 11 | 1 | 2013 | 1835 |  98 | 2317 | 2148 |  89 | AS | ⋯ | SEA | 333 | 2402 | 18 | 35 | 2013-11-01 18:00:00 | 0 |  52 |  45 | 0.8653846 |\n",
       "| 2013 | 11 | 2 |  713 |  720 |  -7 | 1014 | 1030 | -16 | AS | ⋯ | SEA | 335 | 2402 |  7 | 20 | 2013-11-02 07:00:00 | 1 |  52 |  45 | 0.8653846 |\n",
       "| 2013 | 11 | 2 | 1829 | 1835 |  -6 | 2137 | 2148 | -11 | AS | ⋯ | SEA | 332 | 2402 | 18 | 35 | 2013-11-02 18:00:00 | 1 |  52 |  45 | 0.8653846 |\n",
       "| 2013 | 11 | 3 |  716 |  720 |  -4 | 1007 | 1030 | -23 | AS | ⋯ | SEA | 327 | 2402 |  7 | 20 | 2013-11-03 07:00:00 | 1 |  52 |  45 | 0.8653846 |\n",
       "| 2013 | 12 | 1 |  928 |  930 |  -2 | 1532 | 1535 |  -3 | HA | ⋯ | HNL | 625 | 4983 |  9 | 30 | 2013-12-01 09:00:00 | 1 |  28 |  24 | 0.8571429 |\n",
       "| 2013 | 12 | 2 |  920 |  930 | -10 | 1525 | 1535 | -10 | HA | ⋯ | HNL | 640 | 4983 |  9 | 30 | 2013-12-02 09:00:00 | 1 |  28 |  24 | 0.8571429 |\n",
       "| 2013 | 12 | 4 |  933 |  930 |   3 | 1519 | 1535 | -16 | HA | ⋯ | HNL | 628 | 4983 |  9 | 30 | 2013-12-04 09:00:00 | 1 |  28 |  24 | 0.8571429 |\n",
       "| 2013 | 12 | 5 |  920 |  930 | -10 | 1609 | 1535 |  34 | HA | ⋯ | HNL | 659 | 4983 |  9 | 30 | 2013-12-05 09:00:00 | 0 |  28 |  24 | 0.8571429 |\n",
       "| 2013 | 12 | 6 |  924 |  930 |  -6 | 1545 | 1535 |  10 | HA | ⋯ | HNL | 660 | 4983 |  9 | 30 | 2013-12-06 09:00:00 | 0 |  28 |  24 | 0.8571429 |\n",
       "\n"
      ],
      "text/plain": [
       "   year month day dep_time sched_dep_time dep_delay arr_time sched_arr_time\n",
       "1  2013  1    1    658      700            -2       1027     1025          \n",
       "2  2013  1    1    729      730            -1       1049     1115          \n",
       "3  2013  1    1    859      900            -1       1223     1225          \n",
       "4  2013  1    1    932      930             2       1219     1225          \n",
       "5  2013  1    1   1031     1030             1       1353     1415          \n",
       "6  2013  2    1    855      900            -5       1442     1540          \n",
       "7  2013  2    2    858      900            -2       1440     1540          \n",
       "8  2013  2    3    857      900            -3       1446     1540          \n",
       "9  2013  2    4    857      900            -3       1521     1540          \n",
       "10 2013  2    5    900      900             0       1555     1540          \n",
       "11 2013  3    1    716      710             6        958     1035          \n",
       "12 2013  3    1    739      730             9       1036     1110          \n",
       "13 2013  3    1    917      910             7       1150     1235          \n",
       "14 2013  3    1    946      935            11       1158     1230          \n",
       "15 2013  3    1   1039     1030             9       1342     1410          \n",
       "16 2013  4    1   1000     1000             0       1450     1510          \n",
       "17 2013  4    2    958     1000            -2       1457     1510          \n",
       "18 2013  4    3    957     1000            -3       1535     1510          \n",
       "19 2013  4    4   1006     1000             6       1502     1510          \n",
       "20 2013  4    5    954     1000            -6       1505     1510          \n",
       "21 2013  5    1   1000     1000             0       1430     1500          \n",
       "22 2013  5    2    953     1000            -7       1423     1500          \n",
       "23 2013  5    3   1001     1000             1       1424     1500          \n",
       "24 2013  5    4    958     1000            -2       1421     1500          \n",
       "25 2013  5    5   1000     1000             0       1436     1500          \n",
       "26 2013  6    1    720      725            -5        944     1015          \n",
       "27 2013  6    1   1805     1820           -15       2149     2133          \n",
       "28 2013  6    2    716      725            -9       1001     1015          \n",
       "29 2013  6    2   2145     1820           205         23     2133          \n",
       "30 2013  6    3    723      725            -2       1027     1015          \n",
       "31 2013  7    1    720      720             0        946     1022          \n",
       "32 2013  7    1   1939     1825            74       2204     2145          \n",
       "33 2013  7    2    715      720            -5        942     1022          \n",
       "34 2013  7    2   1820     1825            -5       2104     2145          \n",
       "35 2013  7    3    711      720            -9        938     1022          \n",
       "36 2013  8    1    715      720            -5       1010     1025          \n",
       "37 2013  8    1   1931     1825            66       2235     2147          \n",
       "38 2013  8    2    716      720            -4       1027     1025          \n",
       "39 2013  8    2   1831     1825             6       2139     2147          \n",
       "40 2013  8    3    706      720           -14       1024     1025          \n",
       "41 2013  9    1    714      720            -6        955     1025          \n",
       "42 2013  9    1   1831     1835            -4       2137     2158          \n",
       "43 2013  9    2    715      720            -5        952     1025          \n",
       "44 2013  9    2   1837     1835             2       2119     2158          \n",
       "45 2013  9    3    714      720            -6       1000     1025          \n",
       "46 2013 10    2    951     1000            -9       1438     1450          \n",
       "47 2013 10    4    954     1000            -6       1438     1450          \n",
       "48 2013 10    5   1002     1000             2       1418     1450          \n",
       "49 2013 10    6    958     1000            -2       1415     1450          \n",
       "50 2013 10    7    957     1000            -3       1504     1450          \n",
       "51 2013 11    1    714      720            -6       1008     1030          \n",
       "52 2013 11    1   2013     1835            98       2317     2148          \n",
       "53 2013 11    2    713      720            -7       1014     1030          \n",
       "54 2013 11    2   1829     1835            -6       2137     2148          \n",
       "55 2013 11    3    716      720            -4       1007     1030          \n",
       "56 2013 12    1    928      930            -2       1532     1535          \n",
       "57 2013 12    2    920      930           -10       1525     1535          \n",
       "58 2013 12    4    933      930             3       1519     1535          \n",
       "59 2013 12    5    920      930           -10       1609     1535          \n",
       "60 2013 12    6    924      930            -6       1545     1535          \n",
       "   arr_delay carrier ⋯ dest air_time distance hour minute time_hour          \n",
       "1    2       VX      ⋯ LAX  361      2475      7    0     2013-01-01 07:00:00\n",
       "2  -26       VX      ⋯ SFO  356      2586      7   30     2013-01-01 07:00:00\n",
       "3   -2       VX      ⋯ LAX  359      2475      9    0     2013-01-01 09:00:00\n",
       "4   -6       VX      ⋯ LAS  324      2248      9   30     2013-01-01 09:00:00\n",
       "5  -22       VX      ⋯ SFO  363      2586     10   30     2013-01-01 10:00:00\n",
       "6  -58       HA      ⋯ HNL  620      4983      9    0     2013-02-01 09:00:00\n",
       "7  -60       HA      ⋯ HNL  629      4983      9    0     2013-02-02 09:00:00\n",
       "8  -54       HA      ⋯ HNL  614      4983      9    0     2013-02-03 09:00:00\n",
       "9  -19       HA      ⋯ HNL  655      4983      9    0     2013-02-04 09:00:00\n",
       "10  15       HA      ⋯ HNL  679      4983      9    0     2013-02-05 09:00:00\n",
       "11 -37       VX      ⋯ LAX  315      2475      7   10     2013-03-01 07:00:00\n",
       "12 -34       VX      ⋯ SFO  338      2586      7   30     2013-03-01 07:00:00\n",
       "13 -45       VX      ⋯ LAX  309      2475      9   10     2013-03-01 09:00:00\n",
       "14 -32       VX      ⋯ LAS  290      2248      9   35     2013-03-01 09:00:00\n",
       "15 -28       VX      ⋯ SFO  341      2586     10   30     2013-03-01 10:00:00\n",
       "16 -20       HA      ⋯ HNL  633      4983     10    0     2013-04-01 10:00:00\n",
       "17 -13       HA      ⋯ HNL  637      4983     10    0     2013-04-02 10:00:00\n",
       "18  25       HA      ⋯ HNL  671      4983     10    0     2013-04-03 10:00:00\n",
       "19  -8       HA      ⋯ HNL  636      4983     10    0     2013-04-04 10:00:00\n",
       "20  -5       HA      ⋯ HNL  646      4983     10    0     2013-04-05 10:00:00\n",
       "21 -30       HA      ⋯ HNL  607      4983     10    0     2013-05-01 10:00:00\n",
       "22 -37       HA      ⋯ HNL  603      4983     10    0     2013-05-02 10:00:00\n",
       "23 -36       HA      ⋯ HNL  600      4983     10    0     2013-05-03 10:00:00\n",
       "24 -39       HA      ⋯ HNL  595      4983     10    0     2013-05-04 10:00:00\n",
       "25 -24       HA      ⋯ HNL  607      4983     10    0     2013-05-05 10:00:00\n",
       "26 -31       AS      ⋯ SEA  312      2402      7   25     2013-06-01 07:00:00\n",
       "27  16       AS      ⋯ SEA  357      2402     18   20     2013-06-01 18:00:00\n",
       "28 -14       AS      ⋯ SEA  329      2402      7   25     2013-06-02 07:00:00\n",
       "29 170       AS      ⋯ SEA  324      2402     18   20     2013-06-02 18:00:00\n",
       "30  12       AS      ⋯ SEA  331      2402      7   25     2013-06-03 07:00:00\n",
       "31 -36       AS      ⋯ SEA  306      2402      7   20     2013-07-01 07:00:00\n",
       "32  19       AS      ⋯ SEA  302      2402     18   25     2013-07-01 18:00:00\n",
       "33 -40       AS      ⋯ SEA  301      2402      7   20     2013-07-02 07:00:00\n",
       "34 -41       AS      ⋯ SEA  311      2402     18   25     2013-07-02 18:00:00\n",
       "35 -44       AS      ⋯ SEA  303      2402      7   20     2013-07-03 07:00:00\n",
       "36 -15       AS      ⋯ SEA  329      2402      7   20     2013-08-01 07:00:00\n",
       "37  48       AS      ⋯ SEA  331      2402     18   25     2013-08-01 18:00:00\n",
       "38   2       AS      ⋯ SEA  342      2402      7   20     2013-08-02 07:00:00\n",
       "39  -8       AS      ⋯ SEA  335      2402     18   25     2013-08-02 18:00:00\n",
       "40  -1       AS      ⋯ SEA  351      2402      7   20     2013-08-03 07:00:00\n",
       "41 -30       AS      ⋯ SEA  325      2402      7   20     2013-09-01 07:00:00\n",
       "42 -21       AS      ⋯ SEA  328      2402     18   35     2013-09-01 18:00:00\n",
       "43 -33       AS      ⋯ SEA  322      2402      7   20     2013-09-02 07:00:00\n",
       "44 -39       AS      ⋯ SEA  322      2402     18   35     2013-09-02 18:00:00\n",
       "45 -25       AS      ⋯ SEA  321      2402      7   20     2013-09-03 07:00:00\n",
       "46 -12       HA      ⋯ HNL  623      4983     10    0     2013-10-02 10:00:00\n",
       "47 -12       HA      ⋯ HNL  618      4983     10    0     2013-10-04 10:00:00\n",
       "48 -32       HA      ⋯ HNL  593      4983     10    0     2013-10-05 10:00:00\n",
       "49 -35       HA      ⋯ HNL  601      4983     10    0     2013-10-06 10:00:00\n",
       "50  14       HA      ⋯ HNL  642      4983     10    0     2013-10-07 10:00:00\n",
       "51 -22       AS      ⋯ SEA  331      2402      7   20     2013-11-01 07:00:00\n",
       "52  89       AS      ⋯ SEA  333      2402     18   35     2013-11-01 18:00:00\n",
       "53 -16       AS      ⋯ SEA  335      2402      7   20     2013-11-02 07:00:00\n",
       "54 -11       AS      ⋯ SEA  332      2402     18   35     2013-11-02 18:00:00\n",
       "55 -23       AS      ⋯ SEA  327      2402      7   20     2013-11-03 07:00:00\n",
       "56  -3       HA      ⋯ HNL  625      4983      9   30     2013-12-01 09:00:00\n",
       "57 -10       HA      ⋯ HNL  640      4983      9   30     2013-12-02 09:00:00\n",
       "58 -16       HA      ⋯ HNL  628      4983      9   30     2013-12-04 09:00:00\n",
       "59  34       HA      ⋯ HNL  659      4983      9   30     2013-12-05 09:00:00\n",
       "60  10       HA      ⋯ HNL  660      4983      9   30     2013-12-06 09:00:00\n",
       "   bool_del nof ndel del_ratio\n",
       "1  1        314 290  0.9235669\n",
       "2  1        314 290  0.9235669\n",
       "3  1        314 290  0.9235669\n",
       "4  1        314 290  0.9235669\n",
       "5  1        314 290  0.9235669\n",
       "6  1         28  25  0.8928571\n",
       "7  1         28  25  0.8928571\n",
       "8  1         28  25  0.8928571\n",
       "9  1         28  25  0.8928571\n",
       "10 0         28  25  0.8928571\n",
       "11 1        303 257  0.8481848\n",
       "12 1        303 257  0.8481848\n",
       "13 1        303 257  0.8481848\n",
       "14 1        303 257  0.8481848\n",
       "15 1        303 257  0.8481848\n",
       "16 1         30  26  0.8666667\n",
       "17 1         30  26  0.8666667\n",
       "18 0         30  26  0.8666667\n",
       "19 1         30  26  0.8666667\n",
       "20 1         30  26  0.8666667\n",
       "21 1         31  29  0.9354839\n",
       "22 1         31  29  0.9354839\n",
       "23 1         31  29  0.9354839\n",
       "24 1         31  29  0.9354839\n",
       "25 1         31  29  0.9354839\n",
       "26 1         60  47  0.7833333\n",
       "27 0         60  47  0.7833333\n",
       "28 1         60  47  0.7833333\n",
       "29 0         60  47  0.7833333\n",
       "30 0         60  47  0.7833333\n",
       "31 1         62  51  0.8225806\n",
       "32 0         62  51  0.8225806\n",
       "33 1         62  51  0.8225806\n",
       "34 1         62  51  0.8225806\n",
       "35 1         62  51  0.8225806\n",
       "36 1         62  56  0.9032258\n",
       "37 0         62  56  0.9032258\n",
       "38 1         62  56  0.9032258\n",
       "39 1         62  56  0.9032258\n",
       "40 1         62  56  0.9032258\n",
       "41 1         60  58  0.9666667\n",
       "42 1         60  58  0.9666667\n",
       "43 1         60  58  0.9666667\n",
       "44 1         60  58  0.9666667\n",
       "45 1         60  58  0.9666667\n",
       "46 1         21  20  0.9523810\n",
       "47 1         21  20  0.9523810\n",
       "48 1         21  20  0.9523810\n",
       "49 1         21  20  0.9523810\n",
       "50 0         21  20  0.9523810\n",
       "51 1         52  45  0.8653846\n",
       "52 0         52  45  0.8653846\n",
       "53 1         52  45  0.8653846\n",
       "54 1         52  45  0.8653846\n",
       "55 1         52  45  0.8653846\n",
       "56 1         28  24  0.8571429\n",
       "57 1         28  24  0.8571429\n",
       "58 1         28  24  0.8571429\n",
       "59 0         28  24  0.8571429\n",
       "60 0         28  24  0.8571429"
      ]
     },
     "metadata": {},
     "output_type": "display_data"
    }
   ],
   "source": [
    "y %>% slice(1:5)"
   ]
  },
  {
   "cell_type": "markdown",
   "id": "f08ff0a7",
   "metadata": {},
   "source": [
    " <h4 style=\"color:green;text-align:center\">Exercise 6</h4>"
   ]
  },
  {
   "cell_type": "markdown",
   "id": "4aa02152",
   "metadata": {},
   "source": [
    "### Applications of <code>gather()</code>, <code>spread()</code> and <code>separate()</code>\n"
   ]
  },
  {
   "cell_type": "markdown",
   "id": "e23e3f0e",
   "metadata": {},
   "source": [
    "## import the dataset <code>who</code>"
   ]
  },
  {
   "cell_type": "code",
   "execution_count": 2,
   "id": "13a20a3c",
   "metadata": {
    "scrolled": true
   },
   "outputs": [
    {
     "name": "stderr",
     "output_type": "stream",
     "text": [
      "Installing package into ‘/home/jrana/R/x86_64-pc-linux-gnu-library/4.2’\n",
      "(as ‘lib’ is unspecified)\n",
      "\n"
     ]
    }
   ],
   "source": [
    "install.packages(\"tidyr\")"
   ]
  },
  {
   "cell_type": "code",
   "execution_count": 3,
   "id": "215b0ab6",
   "metadata": {},
   "outputs": [],
   "source": [
    "library(\"tidyr\")"
   ]
  },
  {
   "cell_type": "code",
   "execution_count": 5,
   "id": "660a2456",
   "metadata": {},
   "outputs": [
    {
     "name": "stderr",
     "output_type": "stream",
     "text": [
      "Installing package into ‘/home/jrana/R/x86_64-pc-linux-gnu-library/4.2’\n",
      "(as ‘lib’ is unspecified)\n",
      "\n"
     ]
    }
   ],
   "source": [
    "install.packages(\"dplyr\")"
   ]
  },
  {
   "cell_type": "code",
   "execution_count": 6,
   "id": "40efe9b7",
   "metadata": {},
   "outputs": [
    {
     "name": "stderr",
     "output_type": "stream",
     "text": [
      "\n",
      "Attaching package: ‘dplyr’\n",
      "\n",
      "\n",
      "The following objects are masked from ‘package:stats’:\n",
      "\n",
      "    filter, lag\n",
      "\n",
      "\n",
      "The following objects are masked from ‘package:base’:\n",
      "\n",
      "    intersect, setdiff, setequal, union\n",
      "\n",
      "\n"
     ]
    }
   ],
   "source": [
    "library(\"dplyr\")"
   ]
  },
  {
   "cell_type": "code",
   "execution_count": 7,
   "id": "8ae2ab37",
   "metadata": {
    "scrolled": false
   },
   "outputs": [
    {
     "data": {
      "text/html": [
       "<table class=\"dataframe\">\n",
       "<caption>A tibble: 10 × 60</caption>\n",
       "<thead>\n",
       "\t<tr><th scope=col>country</th><th scope=col>iso2</th><th scope=col>iso3</th><th scope=col>year</th><th scope=col>new_sp_m014</th><th scope=col>new_sp_m1524</th><th scope=col>new_sp_m2534</th><th scope=col>new_sp_m3544</th><th scope=col>new_sp_m4554</th><th scope=col>new_sp_m5564</th><th scope=col>⋯</th><th scope=col>newrel_m4554</th><th scope=col>newrel_m5564</th><th scope=col>newrel_m65</th><th scope=col>newrel_f014</th><th scope=col>newrel_f1524</th><th scope=col>newrel_f2534</th><th scope=col>newrel_f3544</th><th scope=col>newrel_f4554</th><th scope=col>newrel_f5564</th><th scope=col>newrel_f65</th></tr>\n",
       "\t<tr><th scope=col>&lt;chr&gt;</th><th scope=col>&lt;chr&gt;</th><th scope=col>&lt;chr&gt;</th><th scope=col>&lt;dbl&gt;</th><th scope=col>&lt;dbl&gt;</th><th scope=col>&lt;dbl&gt;</th><th scope=col>&lt;dbl&gt;</th><th scope=col>&lt;dbl&gt;</th><th scope=col>&lt;dbl&gt;</th><th scope=col>&lt;dbl&gt;</th><th scope=col>⋯</th><th scope=col>&lt;dbl&gt;</th><th scope=col>&lt;dbl&gt;</th><th scope=col>&lt;dbl&gt;</th><th scope=col>&lt;dbl&gt;</th><th scope=col>&lt;dbl&gt;</th><th scope=col>&lt;dbl&gt;</th><th scope=col>&lt;dbl&gt;</th><th scope=col>&lt;dbl&gt;</th><th scope=col>&lt;dbl&gt;</th><th scope=col>&lt;dbl&gt;</th></tr>\n",
       "</thead>\n",
       "<tbody>\n",
       "\t<tr><td>Afghanistan</td><td>AF</td><td>AFG</td><td>1980</td><td>NA</td><td>NA</td><td>NA</td><td>NA</td><td>NA</td><td>NA</td><td>⋯</td><td>NA</td><td>NA</td><td>NA</td><td>NA</td><td>NA</td><td>NA</td><td>NA</td><td>NA</td><td>NA</td><td>NA</td></tr>\n",
       "\t<tr><td>Afghanistan</td><td>AF</td><td>AFG</td><td>1981</td><td>NA</td><td>NA</td><td>NA</td><td>NA</td><td>NA</td><td>NA</td><td>⋯</td><td>NA</td><td>NA</td><td>NA</td><td>NA</td><td>NA</td><td>NA</td><td>NA</td><td>NA</td><td>NA</td><td>NA</td></tr>\n",
       "\t<tr><td>Afghanistan</td><td>AF</td><td>AFG</td><td>1982</td><td>NA</td><td>NA</td><td>NA</td><td>NA</td><td>NA</td><td>NA</td><td>⋯</td><td>NA</td><td>NA</td><td>NA</td><td>NA</td><td>NA</td><td>NA</td><td>NA</td><td>NA</td><td>NA</td><td>NA</td></tr>\n",
       "\t<tr><td>Afghanistan</td><td>AF</td><td>AFG</td><td>1983</td><td>NA</td><td>NA</td><td>NA</td><td>NA</td><td>NA</td><td>NA</td><td>⋯</td><td>NA</td><td>NA</td><td>NA</td><td>NA</td><td>NA</td><td>NA</td><td>NA</td><td>NA</td><td>NA</td><td>NA</td></tr>\n",
       "\t<tr><td>Afghanistan</td><td>AF</td><td>AFG</td><td>1984</td><td>NA</td><td>NA</td><td>NA</td><td>NA</td><td>NA</td><td>NA</td><td>⋯</td><td>NA</td><td>NA</td><td>NA</td><td>NA</td><td>NA</td><td>NA</td><td>NA</td><td>NA</td><td>NA</td><td>NA</td></tr>\n",
       "\t<tr><td>Afghanistan</td><td>AF</td><td>AFG</td><td>1985</td><td>NA</td><td>NA</td><td>NA</td><td>NA</td><td>NA</td><td>NA</td><td>⋯</td><td>NA</td><td>NA</td><td>NA</td><td>NA</td><td>NA</td><td>NA</td><td>NA</td><td>NA</td><td>NA</td><td>NA</td></tr>\n",
       "\t<tr><td>Afghanistan</td><td>AF</td><td>AFG</td><td>1986</td><td>NA</td><td>NA</td><td>NA</td><td>NA</td><td>NA</td><td>NA</td><td>⋯</td><td>NA</td><td>NA</td><td>NA</td><td>NA</td><td>NA</td><td>NA</td><td>NA</td><td>NA</td><td>NA</td><td>NA</td></tr>\n",
       "\t<tr><td>Afghanistan</td><td>AF</td><td>AFG</td><td>1987</td><td>NA</td><td>NA</td><td>NA</td><td>NA</td><td>NA</td><td>NA</td><td>⋯</td><td>NA</td><td>NA</td><td>NA</td><td>NA</td><td>NA</td><td>NA</td><td>NA</td><td>NA</td><td>NA</td><td>NA</td></tr>\n",
       "\t<tr><td>Afghanistan</td><td>AF</td><td>AFG</td><td>1988</td><td>NA</td><td>NA</td><td>NA</td><td>NA</td><td>NA</td><td>NA</td><td>⋯</td><td>NA</td><td>NA</td><td>NA</td><td>NA</td><td>NA</td><td>NA</td><td>NA</td><td>NA</td><td>NA</td><td>NA</td></tr>\n",
       "\t<tr><td>Afghanistan</td><td>AF</td><td>AFG</td><td>1989</td><td>NA</td><td>NA</td><td>NA</td><td>NA</td><td>NA</td><td>NA</td><td>⋯</td><td>NA</td><td>NA</td><td>NA</td><td>NA</td><td>NA</td><td>NA</td><td>NA</td><td>NA</td><td>NA</td><td>NA</td></tr>\n",
       "</tbody>\n",
       "</table>\n"
      ],
      "text/latex": [
       "A tibble: 10 × 60\n",
       "\\begin{tabular}{lllllllllllllllllllll}\n",
       " country & iso2 & iso3 & year & new\\_sp\\_m014 & new\\_sp\\_m1524 & new\\_sp\\_m2534 & new\\_sp\\_m3544 & new\\_sp\\_m4554 & new\\_sp\\_m5564 & ⋯ & newrel\\_m4554 & newrel\\_m5564 & newrel\\_m65 & newrel\\_f014 & newrel\\_f1524 & newrel\\_f2534 & newrel\\_f3544 & newrel\\_f4554 & newrel\\_f5564 & newrel\\_f65\\\\\n",
       " <chr> & <chr> & <chr> & <dbl> & <dbl> & <dbl> & <dbl> & <dbl> & <dbl> & <dbl> & ⋯ & <dbl> & <dbl> & <dbl> & <dbl> & <dbl> & <dbl> & <dbl> & <dbl> & <dbl> & <dbl>\\\\\n",
       "\\hline\n",
       "\t Afghanistan & AF & AFG & 1980 & NA & NA & NA & NA & NA & NA & ⋯ & NA & NA & NA & NA & NA & NA & NA & NA & NA & NA\\\\\n",
       "\t Afghanistan & AF & AFG & 1981 & NA & NA & NA & NA & NA & NA & ⋯ & NA & NA & NA & NA & NA & NA & NA & NA & NA & NA\\\\\n",
       "\t Afghanistan & AF & AFG & 1982 & NA & NA & NA & NA & NA & NA & ⋯ & NA & NA & NA & NA & NA & NA & NA & NA & NA & NA\\\\\n",
       "\t Afghanistan & AF & AFG & 1983 & NA & NA & NA & NA & NA & NA & ⋯ & NA & NA & NA & NA & NA & NA & NA & NA & NA & NA\\\\\n",
       "\t Afghanistan & AF & AFG & 1984 & NA & NA & NA & NA & NA & NA & ⋯ & NA & NA & NA & NA & NA & NA & NA & NA & NA & NA\\\\\n",
       "\t Afghanistan & AF & AFG & 1985 & NA & NA & NA & NA & NA & NA & ⋯ & NA & NA & NA & NA & NA & NA & NA & NA & NA & NA\\\\\n",
       "\t Afghanistan & AF & AFG & 1986 & NA & NA & NA & NA & NA & NA & ⋯ & NA & NA & NA & NA & NA & NA & NA & NA & NA & NA\\\\\n",
       "\t Afghanistan & AF & AFG & 1987 & NA & NA & NA & NA & NA & NA & ⋯ & NA & NA & NA & NA & NA & NA & NA & NA & NA & NA\\\\\n",
       "\t Afghanistan & AF & AFG & 1988 & NA & NA & NA & NA & NA & NA & ⋯ & NA & NA & NA & NA & NA & NA & NA & NA & NA & NA\\\\\n",
       "\t Afghanistan & AF & AFG & 1989 & NA & NA & NA & NA & NA & NA & ⋯ & NA & NA & NA & NA & NA & NA & NA & NA & NA & NA\\\\\n",
       "\\end{tabular}\n"
      ],
      "text/markdown": [
       "\n",
       "A tibble: 10 × 60\n",
       "\n",
       "| country &lt;chr&gt; | iso2 &lt;chr&gt; | iso3 &lt;chr&gt; | year &lt;dbl&gt; | new_sp_m014 &lt;dbl&gt; | new_sp_m1524 &lt;dbl&gt; | new_sp_m2534 &lt;dbl&gt; | new_sp_m3544 &lt;dbl&gt; | new_sp_m4554 &lt;dbl&gt; | new_sp_m5564 &lt;dbl&gt; | ⋯ ⋯ | newrel_m4554 &lt;dbl&gt; | newrel_m5564 &lt;dbl&gt; | newrel_m65 &lt;dbl&gt; | newrel_f014 &lt;dbl&gt; | newrel_f1524 &lt;dbl&gt; | newrel_f2534 &lt;dbl&gt; | newrel_f3544 &lt;dbl&gt; | newrel_f4554 &lt;dbl&gt; | newrel_f5564 &lt;dbl&gt; | newrel_f65 &lt;dbl&gt; |\n",
       "|---|---|---|---|---|---|---|---|---|---|---|---|---|---|---|---|---|---|---|---|---|\n",
       "| Afghanistan | AF | AFG | 1980 | NA | NA | NA | NA | NA | NA | ⋯ | NA | NA | NA | NA | NA | NA | NA | NA | NA | NA |\n",
       "| Afghanistan | AF | AFG | 1981 | NA | NA | NA | NA | NA | NA | ⋯ | NA | NA | NA | NA | NA | NA | NA | NA | NA | NA |\n",
       "| Afghanistan | AF | AFG | 1982 | NA | NA | NA | NA | NA | NA | ⋯ | NA | NA | NA | NA | NA | NA | NA | NA | NA | NA |\n",
       "| Afghanistan | AF | AFG | 1983 | NA | NA | NA | NA | NA | NA | ⋯ | NA | NA | NA | NA | NA | NA | NA | NA | NA | NA |\n",
       "| Afghanistan | AF | AFG | 1984 | NA | NA | NA | NA | NA | NA | ⋯ | NA | NA | NA | NA | NA | NA | NA | NA | NA | NA |\n",
       "| Afghanistan | AF | AFG | 1985 | NA | NA | NA | NA | NA | NA | ⋯ | NA | NA | NA | NA | NA | NA | NA | NA | NA | NA |\n",
       "| Afghanistan | AF | AFG | 1986 | NA | NA | NA | NA | NA | NA | ⋯ | NA | NA | NA | NA | NA | NA | NA | NA | NA | NA |\n",
       "| Afghanistan | AF | AFG | 1987 | NA | NA | NA | NA | NA | NA | ⋯ | NA | NA | NA | NA | NA | NA | NA | NA | NA | NA |\n",
       "| Afghanistan | AF | AFG | 1988 | NA | NA | NA | NA | NA | NA | ⋯ | NA | NA | NA | NA | NA | NA | NA | NA | NA | NA |\n",
       "| Afghanistan | AF | AFG | 1989 | NA | NA | NA | NA | NA | NA | ⋯ | NA | NA | NA | NA | NA | NA | NA | NA | NA | NA |\n",
       "\n"
      ],
      "text/plain": [
       "   country     iso2 iso3 year new_sp_m014 new_sp_m1524 new_sp_m2534\n",
       "1  Afghanistan AF   AFG  1980 NA          NA           NA          \n",
       "2  Afghanistan AF   AFG  1981 NA          NA           NA          \n",
       "3  Afghanistan AF   AFG  1982 NA          NA           NA          \n",
       "4  Afghanistan AF   AFG  1983 NA          NA           NA          \n",
       "5  Afghanistan AF   AFG  1984 NA          NA           NA          \n",
       "6  Afghanistan AF   AFG  1985 NA          NA           NA          \n",
       "7  Afghanistan AF   AFG  1986 NA          NA           NA          \n",
       "8  Afghanistan AF   AFG  1987 NA          NA           NA          \n",
       "9  Afghanistan AF   AFG  1988 NA          NA           NA          \n",
       "10 Afghanistan AF   AFG  1989 NA          NA           NA          \n",
       "   new_sp_m3544 new_sp_m4554 new_sp_m5564 ⋯ newrel_m4554 newrel_m5564\n",
       "1  NA           NA           NA           ⋯ NA           NA          \n",
       "2  NA           NA           NA           ⋯ NA           NA          \n",
       "3  NA           NA           NA           ⋯ NA           NA          \n",
       "4  NA           NA           NA           ⋯ NA           NA          \n",
       "5  NA           NA           NA           ⋯ NA           NA          \n",
       "6  NA           NA           NA           ⋯ NA           NA          \n",
       "7  NA           NA           NA           ⋯ NA           NA          \n",
       "8  NA           NA           NA           ⋯ NA           NA          \n",
       "9  NA           NA           NA           ⋯ NA           NA          \n",
       "10 NA           NA           NA           ⋯ NA           NA          \n",
       "   newrel_m65 newrel_f014 newrel_f1524 newrel_f2534 newrel_f3544 newrel_f4554\n",
       "1  NA         NA          NA           NA           NA           NA          \n",
       "2  NA         NA          NA           NA           NA           NA          \n",
       "3  NA         NA          NA           NA           NA           NA          \n",
       "4  NA         NA          NA           NA           NA           NA          \n",
       "5  NA         NA          NA           NA           NA           NA          \n",
       "6  NA         NA          NA           NA           NA           NA          \n",
       "7  NA         NA          NA           NA           NA           NA          \n",
       "8  NA         NA          NA           NA           NA           NA          \n",
       "9  NA         NA          NA           NA           NA           NA          \n",
       "10 NA         NA          NA           NA           NA           NA          \n",
       "   newrel_f5564 newrel_f65\n",
       "1  NA           NA        \n",
       "2  NA           NA        \n",
       "3  NA           NA        \n",
       "4  NA           NA        \n",
       "5  NA           NA        \n",
       "6  NA           NA        \n",
       "7  NA           NA        \n",
       "8  NA           NA        \n",
       "9  NA           NA        \n",
       "10 NA           NA        "
      ]
     },
     "metadata": {},
     "output_type": "display_data"
    }
   ],
   "source": [
    "df<-who\n",
    "df %>% slice(1:10)"
   ]
  },
  {
   "cell_type": "code",
   "execution_count": 8,
   "id": "73215fa7",
   "metadata": {},
   "outputs": [
    {
     "data": {
      "text/html": [
       "<style>\n",
       ".list-inline {list-style: none; margin:0; padding: 0}\n",
       ".list-inline>li {display: inline-block}\n",
       ".list-inline>li:not(:last-child)::after {content: \"\\00b7\"; padding: 0 .5ex}\n",
       "</style>\n",
       "<ol class=list-inline><li>'country'</li><li>'iso2'</li><li>'iso3'</li><li>'year'</li><li>'new_sp_m014'</li><li>'new_sp_m1524'</li><li>'new_sp_m2534'</li><li>'new_sp_m3544'</li><li>'new_sp_m4554'</li><li>'new_sp_m5564'</li><li>'new_sp_m65'</li><li>'new_sp_f014'</li><li>'new_sp_f1524'</li><li>'new_sp_f2534'</li><li>'new_sp_f3544'</li><li>'new_sp_f4554'</li><li>'new_sp_f5564'</li><li>'new_sp_f65'</li><li>'new_sn_m014'</li><li>'new_sn_m1524'</li><li>'new_sn_m2534'</li><li>'new_sn_m3544'</li><li>'new_sn_m4554'</li><li>'new_sn_m5564'</li><li>'new_sn_m65'</li><li>'new_sn_f014'</li><li>'new_sn_f1524'</li><li>'new_sn_f2534'</li><li>'new_sn_f3544'</li><li>'new_sn_f4554'</li><li>'new_sn_f5564'</li><li>'new_sn_f65'</li><li>'new_ep_m014'</li><li>'new_ep_m1524'</li><li>'new_ep_m2534'</li><li>'new_ep_m3544'</li><li>'new_ep_m4554'</li><li>'new_ep_m5564'</li><li>'new_ep_m65'</li><li>'new_ep_f014'</li><li>'new_ep_f1524'</li><li>'new_ep_f2534'</li><li>'new_ep_f3544'</li><li>'new_ep_f4554'</li><li>'new_ep_f5564'</li><li>'new_ep_f65'</li><li>'newrel_m014'</li><li>'newrel_m1524'</li><li>'newrel_m2534'</li><li>'newrel_m3544'</li><li>'newrel_m4554'</li><li>'newrel_m5564'</li><li>'newrel_m65'</li><li>'newrel_f014'</li><li>'newrel_f1524'</li><li>'newrel_f2534'</li><li>'newrel_f3544'</li><li>'newrel_f4554'</li><li>'newrel_f5564'</li><li>'newrel_f65'</li></ol>\n"
      ],
      "text/latex": [
       "\\begin{enumerate*}\n",
       "\\item 'country'\n",
       "\\item 'iso2'\n",
       "\\item 'iso3'\n",
       "\\item 'year'\n",
       "\\item 'new\\_sp\\_m014'\n",
       "\\item 'new\\_sp\\_m1524'\n",
       "\\item 'new\\_sp\\_m2534'\n",
       "\\item 'new\\_sp\\_m3544'\n",
       "\\item 'new\\_sp\\_m4554'\n",
       "\\item 'new\\_sp\\_m5564'\n",
       "\\item 'new\\_sp\\_m65'\n",
       "\\item 'new\\_sp\\_f014'\n",
       "\\item 'new\\_sp\\_f1524'\n",
       "\\item 'new\\_sp\\_f2534'\n",
       "\\item 'new\\_sp\\_f3544'\n",
       "\\item 'new\\_sp\\_f4554'\n",
       "\\item 'new\\_sp\\_f5564'\n",
       "\\item 'new\\_sp\\_f65'\n",
       "\\item 'new\\_sn\\_m014'\n",
       "\\item 'new\\_sn\\_m1524'\n",
       "\\item 'new\\_sn\\_m2534'\n",
       "\\item 'new\\_sn\\_m3544'\n",
       "\\item 'new\\_sn\\_m4554'\n",
       "\\item 'new\\_sn\\_m5564'\n",
       "\\item 'new\\_sn\\_m65'\n",
       "\\item 'new\\_sn\\_f014'\n",
       "\\item 'new\\_sn\\_f1524'\n",
       "\\item 'new\\_sn\\_f2534'\n",
       "\\item 'new\\_sn\\_f3544'\n",
       "\\item 'new\\_sn\\_f4554'\n",
       "\\item 'new\\_sn\\_f5564'\n",
       "\\item 'new\\_sn\\_f65'\n",
       "\\item 'new\\_ep\\_m014'\n",
       "\\item 'new\\_ep\\_m1524'\n",
       "\\item 'new\\_ep\\_m2534'\n",
       "\\item 'new\\_ep\\_m3544'\n",
       "\\item 'new\\_ep\\_m4554'\n",
       "\\item 'new\\_ep\\_m5564'\n",
       "\\item 'new\\_ep\\_m65'\n",
       "\\item 'new\\_ep\\_f014'\n",
       "\\item 'new\\_ep\\_f1524'\n",
       "\\item 'new\\_ep\\_f2534'\n",
       "\\item 'new\\_ep\\_f3544'\n",
       "\\item 'new\\_ep\\_f4554'\n",
       "\\item 'new\\_ep\\_f5564'\n",
       "\\item 'new\\_ep\\_f65'\n",
       "\\item 'newrel\\_m014'\n",
       "\\item 'newrel\\_m1524'\n",
       "\\item 'newrel\\_m2534'\n",
       "\\item 'newrel\\_m3544'\n",
       "\\item 'newrel\\_m4554'\n",
       "\\item 'newrel\\_m5564'\n",
       "\\item 'newrel\\_m65'\n",
       "\\item 'newrel\\_f014'\n",
       "\\item 'newrel\\_f1524'\n",
       "\\item 'newrel\\_f2534'\n",
       "\\item 'newrel\\_f3544'\n",
       "\\item 'newrel\\_f4554'\n",
       "\\item 'newrel\\_f5564'\n",
       "\\item 'newrel\\_f65'\n",
       "\\end{enumerate*}\n"
      ],
      "text/markdown": [
       "1. 'country'\n",
       "2. 'iso2'\n",
       "3. 'iso3'\n",
       "4. 'year'\n",
       "5. 'new_sp_m014'\n",
       "6. 'new_sp_m1524'\n",
       "7. 'new_sp_m2534'\n",
       "8. 'new_sp_m3544'\n",
       "9. 'new_sp_m4554'\n",
       "10. 'new_sp_m5564'\n",
       "11. 'new_sp_m65'\n",
       "12. 'new_sp_f014'\n",
       "13. 'new_sp_f1524'\n",
       "14. 'new_sp_f2534'\n",
       "15. 'new_sp_f3544'\n",
       "16. 'new_sp_f4554'\n",
       "17. 'new_sp_f5564'\n",
       "18. 'new_sp_f65'\n",
       "19. 'new_sn_m014'\n",
       "20. 'new_sn_m1524'\n",
       "21. 'new_sn_m2534'\n",
       "22. 'new_sn_m3544'\n",
       "23. 'new_sn_m4554'\n",
       "24. 'new_sn_m5564'\n",
       "25. 'new_sn_m65'\n",
       "26. 'new_sn_f014'\n",
       "27. 'new_sn_f1524'\n",
       "28. 'new_sn_f2534'\n",
       "29. 'new_sn_f3544'\n",
       "30. 'new_sn_f4554'\n",
       "31. 'new_sn_f5564'\n",
       "32. 'new_sn_f65'\n",
       "33. 'new_ep_m014'\n",
       "34. 'new_ep_m1524'\n",
       "35. 'new_ep_m2534'\n",
       "36. 'new_ep_m3544'\n",
       "37. 'new_ep_m4554'\n",
       "38. 'new_ep_m5564'\n",
       "39. 'new_ep_m65'\n",
       "40. 'new_ep_f014'\n",
       "41. 'new_ep_f1524'\n",
       "42. 'new_ep_f2534'\n",
       "43. 'new_ep_f3544'\n",
       "44. 'new_ep_f4554'\n",
       "45. 'new_ep_f5564'\n",
       "46. 'new_ep_f65'\n",
       "47. 'newrel_m014'\n",
       "48. 'newrel_m1524'\n",
       "49. 'newrel_m2534'\n",
       "50. 'newrel_m3544'\n",
       "51. 'newrel_m4554'\n",
       "52. 'newrel_m5564'\n",
       "53. 'newrel_m65'\n",
       "54. 'newrel_f014'\n",
       "55. 'newrel_f1524'\n",
       "56. 'newrel_f2534'\n",
       "57. 'newrel_f3544'\n",
       "58. 'newrel_f4554'\n",
       "59. 'newrel_f5564'\n",
       "60. 'newrel_f65'\n",
       "\n",
       "\n"
      ],
      "text/plain": [
       " [1] \"country\"      \"iso2\"         \"iso3\"         \"year\"         \"new_sp_m014\" \n",
       " [6] \"new_sp_m1524\" \"new_sp_m2534\" \"new_sp_m3544\" \"new_sp_m4554\" \"new_sp_m5564\"\n",
       "[11] \"new_sp_m65\"   \"new_sp_f014\"  \"new_sp_f1524\" \"new_sp_f2534\" \"new_sp_f3544\"\n",
       "[16] \"new_sp_f4554\" \"new_sp_f5564\" \"new_sp_f65\"   \"new_sn_m014\"  \"new_sn_m1524\"\n",
       "[21] \"new_sn_m2534\" \"new_sn_m3544\" \"new_sn_m4554\" \"new_sn_m5564\" \"new_sn_m65\"  \n",
       "[26] \"new_sn_f014\"  \"new_sn_f1524\" \"new_sn_f2534\" \"new_sn_f3544\" \"new_sn_f4554\"\n",
       "[31] \"new_sn_f5564\" \"new_sn_f65\"   \"new_ep_m014\"  \"new_ep_m1524\" \"new_ep_m2534\"\n",
       "[36] \"new_ep_m3544\" \"new_ep_m4554\" \"new_ep_m5564\" \"new_ep_m65\"   \"new_ep_f014\" \n",
       "[41] \"new_ep_f1524\" \"new_ep_f2534\" \"new_ep_f3544\" \"new_ep_f4554\" \"new_ep_f5564\"\n",
       "[46] \"new_ep_f65\"   \"newrel_m014\"  \"newrel_m1524\" \"newrel_m2534\" \"newrel_m3544\"\n",
       "[51] \"newrel_m4554\" \"newrel_m5564\" \"newrel_m65\"   \"newrel_f014\"  \"newrel_f1524\"\n",
       "[56] \"newrel_f2534\" \"newrel_f3544\" \"newrel_f4554\" \"newrel_f5564\" \"newrel_f65\"  "
      ]
     },
     "metadata": {},
     "output_type": "display_data"
    }
   ],
   "source": [
    "df %>% names()"
   ]
  },
  {
   "cell_type": "code",
   "execution_count": 79,
   "id": "22c9c341",
   "metadata": {
    "scrolled": true
   },
   "outputs": [
    {
     "data": {
      "text/html": [
       "<style>\n",
       ".list-inline {list-style: none; margin:0; padding: 0}\n",
       ".list-inline>li {display: inline-block}\n",
       ".list-inline>li:not(:last-child)::after {content: \"\\00b7\"; padding: 0 .5ex}\n",
       "</style>\n",
       "<ol class=list-inline><li>7240</li><li>60</li></ol>\n"
      ],
      "text/latex": [
       "\\begin{enumerate*}\n",
       "\\item 7240\n",
       "\\item 60\n",
       "\\end{enumerate*}\n"
      ],
      "text/markdown": [
       "1. 7240\n",
       "2. 60\n",
       "\n",
       "\n"
      ],
      "text/plain": [
       "[1] 7240   60"
      ]
     },
     "metadata": {},
     "output_type": "display_data"
    }
   ],
   "source": [
    "dim(df)"
   ]
  },
  {
   "cell_type": "code",
   "execution_count": 80,
   "id": "4c700eea",
   "metadata": {
    "scrolled": true
   },
   "outputs": [
    {
     "name": "stdout",
     "output_type": "stream",
     "text": [
      "tibble [7,240 × 60] (S3: tbl_df/tbl/data.frame)\n",
      " $ country     : chr [1:7240] \"Afghanistan\" \"Afghanistan\" \"Afghanistan\" \"Afghanistan\" ...\n",
      " $ iso2        : chr [1:7240] \"AF\" \"AF\" \"AF\" \"AF\" ...\n",
      " $ iso3        : chr [1:7240] \"AFG\" \"AFG\" \"AFG\" \"AFG\" ...\n",
      " $ year        : num [1:7240] 1980 1981 1982 1983 1984 ...\n",
      " $ new_sp_m014 : num [1:7240] NA NA NA NA NA NA NA NA NA NA ...\n",
      " $ new_sp_m1524: num [1:7240] NA NA NA NA NA NA NA NA NA NA ...\n",
      " $ new_sp_m2534: num [1:7240] NA NA NA NA NA NA NA NA NA NA ...\n",
      " $ new_sp_m3544: num [1:7240] NA NA NA NA NA NA NA NA NA NA ...\n",
      " $ new_sp_m4554: num [1:7240] NA NA NA NA NA NA NA NA NA NA ...\n",
      " $ new_sp_m5564: num [1:7240] NA NA NA NA NA NA NA NA NA NA ...\n",
      " $ new_sp_m65  : num [1:7240] NA NA NA NA NA NA NA NA NA NA ...\n",
      " $ new_sp_f014 : num [1:7240] NA NA NA NA NA NA NA NA NA NA ...\n",
      " $ new_sp_f1524: num [1:7240] NA NA NA NA NA NA NA NA NA NA ...\n",
      " $ new_sp_f2534: num [1:7240] NA NA NA NA NA NA NA NA NA NA ...\n",
      " $ new_sp_f3544: num [1:7240] NA NA NA NA NA NA NA NA NA NA ...\n",
      " $ new_sp_f4554: num [1:7240] NA NA NA NA NA NA NA NA NA NA ...\n",
      " $ new_sp_f5564: num [1:7240] NA NA NA NA NA NA NA NA NA NA ...\n",
      " $ new_sp_f65  : num [1:7240] NA NA NA NA NA NA NA NA NA NA ...\n",
      " $ new_sn_m014 : num [1:7240] NA NA NA NA NA NA NA NA NA NA ...\n",
      " $ new_sn_m1524: num [1:7240] NA NA NA NA NA NA NA NA NA NA ...\n",
      " $ new_sn_m2534: num [1:7240] NA NA NA NA NA NA NA NA NA NA ...\n",
      " $ new_sn_m3544: num [1:7240] NA NA NA NA NA NA NA NA NA NA ...\n",
      " $ new_sn_m4554: num [1:7240] NA NA NA NA NA NA NA NA NA NA ...\n",
      " $ new_sn_m5564: num [1:7240] NA NA NA NA NA NA NA NA NA NA ...\n",
      " $ new_sn_m65  : num [1:7240] NA NA NA NA NA NA NA NA NA NA ...\n",
      " $ new_sn_f014 : num [1:7240] NA NA NA NA NA NA NA NA NA NA ...\n",
      " $ new_sn_f1524: num [1:7240] NA NA NA NA NA NA NA NA NA NA ...\n",
      " $ new_sn_f2534: num [1:7240] NA NA NA NA NA NA NA NA NA NA ...\n",
      " $ new_sn_f3544: num [1:7240] NA NA NA NA NA NA NA NA NA NA ...\n",
      " $ new_sn_f4554: num [1:7240] NA NA NA NA NA NA NA NA NA NA ...\n",
      " $ new_sn_f5564: num [1:7240] NA NA NA NA NA NA NA NA NA NA ...\n",
      " $ new_sn_f65  : num [1:7240] NA NA NA NA NA NA NA NA NA NA ...\n",
      " $ new_ep_m014 : num [1:7240] NA NA NA NA NA NA NA NA NA NA ...\n",
      " $ new_ep_m1524: num [1:7240] NA NA NA NA NA NA NA NA NA NA ...\n",
      " $ new_ep_m2534: num [1:7240] NA NA NA NA NA NA NA NA NA NA ...\n",
      " $ new_ep_m3544: num [1:7240] NA NA NA NA NA NA NA NA NA NA ...\n",
      " $ new_ep_m4554: num [1:7240] NA NA NA NA NA NA NA NA NA NA ...\n",
      " $ new_ep_m5564: num [1:7240] NA NA NA NA NA NA NA NA NA NA ...\n",
      " $ new_ep_m65  : num [1:7240] NA NA NA NA NA NA NA NA NA NA ...\n",
      " $ new_ep_f014 : num [1:7240] NA NA NA NA NA NA NA NA NA NA ...\n",
      " $ new_ep_f1524: num [1:7240] NA NA NA NA NA NA NA NA NA NA ...\n",
      " $ new_ep_f2534: num [1:7240] NA NA NA NA NA NA NA NA NA NA ...\n",
      " $ new_ep_f3544: num [1:7240] NA NA NA NA NA NA NA NA NA NA ...\n",
      " $ new_ep_f4554: num [1:7240] NA NA NA NA NA NA NA NA NA NA ...\n",
      " $ new_ep_f5564: num [1:7240] NA NA NA NA NA NA NA NA NA NA ...\n",
      " $ new_ep_f65  : num [1:7240] NA NA NA NA NA NA NA NA NA NA ...\n",
      " $ newrel_m014 : num [1:7240] NA NA NA NA NA NA NA NA NA NA ...\n",
      " $ newrel_m1524: num [1:7240] NA NA NA NA NA NA NA NA NA NA ...\n",
      " $ newrel_m2534: num [1:7240] NA NA NA NA NA NA NA NA NA NA ...\n",
      " $ newrel_m3544: num [1:7240] NA NA NA NA NA NA NA NA NA NA ...\n",
      " $ newrel_m4554: num [1:7240] NA NA NA NA NA NA NA NA NA NA ...\n",
      " $ newrel_m5564: num [1:7240] NA NA NA NA NA NA NA NA NA NA ...\n",
      " $ newrel_m65  : num [1:7240] NA NA NA NA NA NA NA NA NA NA ...\n",
      " $ newrel_f014 : num [1:7240] NA NA NA NA NA NA NA NA NA NA ...\n",
      " $ newrel_f1524: num [1:7240] NA NA NA NA NA NA NA NA NA NA ...\n",
      " $ newrel_f2534: num [1:7240] NA NA NA NA NA NA NA NA NA NA ...\n",
      " $ newrel_f3544: num [1:7240] NA NA NA NA NA NA NA NA NA NA ...\n",
      " $ newrel_f4554: num [1:7240] NA NA NA NA NA NA NA NA NA NA ...\n",
      " $ newrel_f5564: num [1:7240] NA NA NA NA NA NA NA NA NA NA ...\n",
      " $ newrel_f65  : num [1:7240] NA NA NA NA NA NA NA NA NA NA ...\n"
     ]
    }
   ],
   "source": [
    "str(df)"
   ]
  },
  {
   "cell_type": "code",
   "execution_count": 81,
   "id": "c02efeac",
   "metadata": {
    "scrolled": true
   },
   "outputs": [
    {
     "data": {
      "text/html": [
       "<style>\n",
       ".list-inline {list-style: none; margin:0; padding: 0}\n",
       ".list-inline>li {display: inline-block}\n",
       ".list-inline>li:not(:last-child)::after {content: \"\\00b7\"; padding: 0 .5ex}\n",
       "</style>\n",
       "<ol class=list-inline><li>'country'</li><li>'iso2'</li><li>'iso3'</li><li>'year'</li><li>'new_sp_m014'</li><li>'new_sp_m1524'</li><li>'new_sp_m2534'</li><li>'new_sp_m3544'</li><li>'new_sp_m4554'</li><li>'new_sp_m5564'</li><li>'new_sp_m65'</li><li>'new_sp_f014'</li><li>'new_sp_f1524'</li><li>'new_sp_f2534'</li><li>'new_sp_f3544'</li><li>'new_sp_f4554'</li><li>'new_sp_f5564'</li><li>'new_sp_f65'</li><li>'new_sn_m014'</li><li>'new_sn_m1524'</li><li>'new_sn_m2534'</li><li>'new_sn_m3544'</li><li>'new_sn_m4554'</li><li>'new_sn_m5564'</li><li>'new_sn_m65'</li><li>'new_sn_f014'</li><li>'new_sn_f1524'</li><li>'new_sn_f2534'</li><li>'new_sn_f3544'</li><li>'new_sn_f4554'</li><li>'new_sn_f5564'</li><li>'new_sn_f65'</li><li>'new_ep_m014'</li><li>'new_ep_m1524'</li><li>'new_ep_m2534'</li><li>'new_ep_m3544'</li><li>'new_ep_m4554'</li><li>'new_ep_m5564'</li><li>'new_ep_m65'</li><li>'new_ep_f014'</li><li>'new_ep_f1524'</li><li>'new_ep_f2534'</li><li>'new_ep_f3544'</li><li>'new_ep_f4554'</li><li>'new_ep_f5564'</li><li>'new_ep_f65'</li><li>'newrel_m014'</li><li>'newrel_m1524'</li><li>'newrel_m2534'</li><li>'newrel_m3544'</li><li>'newrel_m4554'</li><li>'newrel_m5564'</li><li>'newrel_m65'</li><li>'newrel_f014'</li><li>'newrel_f1524'</li><li>'newrel_f2534'</li><li>'newrel_f3544'</li><li>'newrel_f4554'</li><li>'newrel_f5564'</li><li>'newrel_f65'</li></ol>\n"
      ],
      "text/latex": [
       "\\begin{enumerate*}\n",
       "\\item 'country'\n",
       "\\item 'iso2'\n",
       "\\item 'iso3'\n",
       "\\item 'year'\n",
       "\\item 'new\\_sp\\_m014'\n",
       "\\item 'new\\_sp\\_m1524'\n",
       "\\item 'new\\_sp\\_m2534'\n",
       "\\item 'new\\_sp\\_m3544'\n",
       "\\item 'new\\_sp\\_m4554'\n",
       "\\item 'new\\_sp\\_m5564'\n",
       "\\item 'new\\_sp\\_m65'\n",
       "\\item 'new\\_sp\\_f014'\n",
       "\\item 'new\\_sp\\_f1524'\n",
       "\\item 'new\\_sp\\_f2534'\n",
       "\\item 'new\\_sp\\_f3544'\n",
       "\\item 'new\\_sp\\_f4554'\n",
       "\\item 'new\\_sp\\_f5564'\n",
       "\\item 'new\\_sp\\_f65'\n",
       "\\item 'new\\_sn\\_m014'\n",
       "\\item 'new\\_sn\\_m1524'\n",
       "\\item 'new\\_sn\\_m2534'\n",
       "\\item 'new\\_sn\\_m3544'\n",
       "\\item 'new\\_sn\\_m4554'\n",
       "\\item 'new\\_sn\\_m5564'\n",
       "\\item 'new\\_sn\\_m65'\n",
       "\\item 'new\\_sn\\_f014'\n",
       "\\item 'new\\_sn\\_f1524'\n",
       "\\item 'new\\_sn\\_f2534'\n",
       "\\item 'new\\_sn\\_f3544'\n",
       "\\item 'new\\_sn\\_f4554'\n",
       "\\item 'new\\_sn\\_f5564'\n",
       "\\item 'new\\_sn\\_f65'\n",
       "\\item 'new\\_ep\\_m014'\n",
       "\\item 'new\\_ep\\_m1524'\n",
       "\\item 'new\\_ep\\_m2534'\n",
       "\\item 'new\\_ep\\_m3544'\n",
       "\\item 'new\\_ep\\_m4554'\n",
       "\\item 'new\\_ep\\_m5564'\n",
       "\\item 'new\\_ep\\_m65'\n",
       "\\item 'new\\_ep\\_f014'\n",
       "\\item 'new\\_ep\\_f1524'\n",
       "\\item 'new\\_ep\\_f2534'\n",
       "\\item 'new\\_ep\\_f3544'\n",
       "\\item 'new\\_ep\\_f4554'\n",
       "\\item 'new\\_ep\\_f5564'\n",
       "\\item 'new\\_ep\\_f65'\n",
       "\\item 'newrel\\_m014'\n",
       "\\item 'newrel\\_m1524'\n",
       "\\item 'newrel\\_m2534'\n",
       "\\item 'newrel\\_m3544'\n",
       "\\item 'newrel\\_m4554'\n",
       "\\item 'newrel\\_m5564'\n",
       "\\item 'newrel\\_m65'\n",
       "\\item 'newrel\\_f014'\n",
       "\\item 'newrel\\_f1524'\n",
       "\\item 'newrel\\_f2534'\n",
       "\\item 'newrel\\_f3544'\n",
       "\\item 'newrel\\_f4554'\n",
       "\\item 'newrel\\_f5564'\n",
       "\\item 'newrel\\_f65'\n",
       "\\end{enumerate*}\n"
      ],
      "text/markdown": [
       "1. 'country'\n",
       "2. 'iso2'\n",
       "3. 'iso3'\n",
       "4. 'year'\n",
       "5. 'new_sp_m014'\n",
       "6. 'new_sp_m1524'\n",
       "7. 'new_sp_m2534'\n",
       "8. 'new_sp_m3544'\n",
       "9. 'new_sp_m4554'\n",
       "10. 'new_sp_m5564'\n",
       "11. 'new_sp_m65'\n",
       "12. 'new_sp_f014'\n",
       "13. 'new_sp_f1524'\n",
       "14. 'new_sp_f2534'\n",
       "15. 'new_sp_f3544'\n",
       "16. 'new_sp_f4554'\n",
       "17. 'new_sp_f5564'\n",
       "18. 'new_sp_f65'\n",
       "19. 'new_sn_m014'\n",
       "20. 'new_sn_m1524'\n",
       "21. 'new_sn_m2534'\n",
       "22. 'new_sn_m3544'\n",
       "23. 'new_sn_m4554'\n",
       "24. 'new_sn_m5564'\n",
       "25. 'new_sn_m65'\n",
       "26. 'new_sn_f014'\n",
       "27. 'new_sn_f1524'\n",
       "28. 'new_sn_f2534'\n",
       "29. 'new_sn_f3544'\n",
       "30. 'new_sn_f4554'\n",
       "31. 'new_sn_f5564'\n",
       "32. 'new_sn_f65'\n",
       "33. 'new_ep_m014'\n",
       "34. 'new_ep_m1524'\n",
       "35. 'new_ep_m2534'\n",
       "36. 'new_ep_m3544'\n",
       "37. 'new_ep_m4554'\n",
       "38. 'new_ep_m5564'\n",
       "39. 'new_ep_m65'\n",
       "40. 'new_ep_f014'\n",
       "41. 'new_ep_f1524'\n",
       "42. 'new_ep_f2534'\n",
       "43. 'new_ep_f3544'\n",
       "44. 'new_ep_f4554'\n",
       "45. 'new_ep_f5564'\n",
       "46. 'new_ep_f65'\n",
       "47. 'newrel_m014'\n",
       "48. 'newrel_m1524'\n",
       "49. 'newrel_m2534'\n",
       "50. 'newrel_m3544'\n",
       "51. 'newrel_m4554'\n",
       "52. 'newrel_m5564'\n",
       "53. 'newrel_m65'\n",
       "54. 'newrel_f014'\n",
       "55. 'newrel_f1524'\n",
       "56. 'newrel_f2534'\n",
       "57. 'newrel_f3544'\n",
       "58. 'newrel_f4554'\n",
       "59. 'newrel_f5564'\n",
       "60. 'newrel_f65'\n",
       "\n",
       "\n"
      ],
      "text/plain": [
       " [1] \"country\"      \"iso2\"         \"iso3\"         \"year\"         \"new_sp_m014\" \n",
       " [6] \"new_sp_m1524\" \"new_sp_m2534\" \"new_sp_m3544\" \"new_sp_m4554\" \"new_sp_m5564\"\n",
       "[11] \"new_sp_m65\"   \"new_sp_f014\"  \"new_sp_f1524\" \"new_sp_f2534\" \"new_sp_f3544\"\n",
       "[16] \"new_sp_f4554\" \"new_sp_f5564\" \"new_sp_f65\"   \"new_sn_m014\"  \"new_sn_m1524\"\n",
       "[21] \"new_sn_m2534\" \"new_sn_m3544\" \"new_sn_m4554\" \"new_sn_m5564\" \"new_sn_m65\"  \n",
       "[26] \"new_sn_f014\"  \"new_sn_f1524\" \"new_sn_f2534\" \"new_sn_f3544\" \"new_sn_f4554\"\n",
       "[31] \"new_sn_f5564\" \"new_sn_f65\"   \"new_ep_m014\"  \"new_ep_m1524\" \"new_ep_m2534\"\n",
       "[36] \"new_ep_m3544\" \"new_ep_m4554\" \"new_ep_m5564\" \"new_ep_m65\"   \"new_ep_f014\" \n",
       "[41] \"new_ep_f1524\" \"new_ep_f2534\" \"new_ep_f3544\" \"new_ep_f4554\" \"new_ep_f5564\"\n",
       "[46] \"new_ep_f65\"   \"newrel_m014\"  \"newrel_m1524\" \"newrel_m2534\" \"newrel_m3544\"\n",
       "[51] \"newrel_m4554\" \"newrel_m5564\" \"newrel_m65\"   \"newrel_f014\"  \"newrel_f1524\"\n",
       "[56] \"newrel_f2534\" \"newrel_f3544\" \"newrel_f4554\" \"newrel_f5564\" \"newrel_f65\"  "
      ]
     },
     "metadata": {},
     "output_type": "display_data"
    }
   ],
   "source": [
    "df %>% names()"
   ]
  },
  {
   "cell_type": "markdown",
   "id": "19de5875",
   "metadata": {},
   "source": [
    "Consider the dataset who of the package tidyr.\n",
    "country, iso2, iso3, and year are already variables, so they can\n",
    "be left as is. But the columns from new sp m014 to newrel f65\n",
    "encode four variables in their names:\n",
    "   + The new /new prefix indicates these are counts of new cases.\n",
    "     This dataset only contains new cases, so we’ll ignore it here\n",
    "     because it’s constant.\n",
    "   +  sp/rel/ep describe how the case was diagnosed.\n",
    "   + m/f gives the gender.\n",
    "   + 014/1524/2535/3544/4554/65 supplies the age range.\n",
    "Break these variables up by specifying multiple column names and\n",
    "make the dataset tidy."
   ]
  },
  {
   "cell_type": "code",
   "execution_count": 90,
   "id": "2d90be31",
   "metadata": {},
   "outputs": [
    {
     "data": {
      "text/html": [
       "<table class=\"dataframe\">\n",
       "<caption>A tibble: 10 × 6</caption>\n",
       "<thead>\n",
       "\t<tr><th scope=col>country</th><th scope=col>iso2</th><th scope=col>iso3</th><th scope=col>year</th><th scope=col>key</th><th scope=col>value</th></tr>\n",
       "\t<tr><th scope=col>&lt;chr&gt;</th><th scope=col>&lt;chr&gt;</th><th scope=col>&lt;chr&gt;</th><th scope=col>&lt;dbl&gt;</th><th scope=col>&lt;chr&gt;</th><th scope=col>&lt;dbl&gt;</th></tr>\n",
       "</thead>\n",
       "<tbody>\n",
       "\t<tr><td>Afghanistan</td><td>AF</td><td>AFG</td><td>1997</td><td>new_sp_m014</td><td>  0</td></tr>\n",
       "\t<tr><td>Afghanistan</td><td>AF</td><td>AFG</td><td>1998</td><td>new_sp_m014</td><td> 30</td></tr>\n",
       "\t<tr><td>Afghanistan</td><td>AF</td><td>AFG</td><td>1999</td><td>new_sp_m014</td><td>  8</td></tr>\n",
       "\t<tr><td>Afghanistan</td><td>AF</td><td>AFG</td><td>2000</td><td>new_sp_m014</td><td> 52</td></tr>\n",
       "\t<tr><td>Afghanistan</td><td>AF</td><td>AFG</td><td>2001</td><td>new_sp_m014</td><td>129</td></tr>\n",
       "\t<tr><td>Afghanistan</td><td>AF</td><td>AFG</td><td>2002</td><td>new_sp_m014</td><td> 90</td></tr>\n",
       "\t<tr><td>Afghanistan</td><td>AF</td><td>AFG</td><td>2003</td><td>new_sp_m014</td><td>127</td></tr>\n",
       "\t<tr><td>Afghanistan</td><td>AF</td><td>AFG</td><td>2004</td><td>new_sp_m014</td><td>139</td></tr>\n",
       "\t<tr><td>Afghanistan</td><td>AF</td><td>AFG</td><td>2005</td><td>new_sp_m014</td><td>151</td></tr>\n",
       "\t<tr><td>Afghanistan</td><td>AF</td><td>AFG</td><td>2006</td><td>new_sp_m014</td><td>193</td></tr>\n",
       "</tbody>\n",
       "</table>\n"
      ],
      "text/latex": [
       "A tibble: 10 × 6\n",
       "\\begin{tabular}{llllll}\n",
       " country & iso2 & iso3 & year & key & value\\\\\n",
       " <chr> & <chr> & <chr> & <dbl> & <chr> & <dbl>\\\\\n",
       "\\hline\n",
       "\t Afghanistan & AF & AFG & 1997 & new\\_sp\\_m014 &   0\\\\\n",
       "\t Afghanistan & AF & AFG & 1998 & new\\_sp\\_m014 &  30\\\\\n",
       "\t Afghanistan & AF & AFG & 1999 & new\\_sp\\_m014 &   8\\\\\n",
       "\t Afghanistan & AF & AFG & 2000 & new\\_sp\\_m014 &  52\\\\\n",
       "\t Afghanistan & AF & AFG & 2001 & new\\_sp\\_m014 & 129\\\\\n",
       "\t Afghanistan & AF & AFG & 2002 & new\\_sp\\_m014 &  90\\\\\n",
       "\t Afghanistan & AF & AFG & 2003 & new\\_sp\\_m014 & 127\\\\\n",
       "\t Afghanistan & AF & AFG & 2004 & new\\_sp\\_m014 & 139\\\\\n",
       "\t Afghanistan & AF & AFG & 2005 & new\\_sp\\_m014 & 151\\\\\n",
       "\t Afghanistan & AF & AFG & 2006 & new\\_sp\\_m014 & 193\\\\\n",
       "\\end{tabular}\n"
      ],
      "text/markdown": [
       "\n",
       "A tibble: 10 × 6\n",
       "\n",
       "| country &lt;chr&gt; | iso2 &lt;chr&gt; | iso3 &lt;chr&gt; | year &lt;dbl&gt; | key &lt;chr&gt; | value &lt;dbl&gt; |\n",
       "|---|---|---|---|---|---|\n",
       "| Afghanistan | AF | AFG | 1997 | new_sp_m014 |   0 |\n",
       "| Afghanistan | AF | AFG | 1998 | new_sp_m014 |  30 |\n",
       "| Afghanistan | AF | AFG | 1999 | new_sp_m014 |   8 |\n",
       "| Afghanistan | AF | AFG | 2000 | new_sp_m014 |  52 |\n",
       "| Afghanistan | AF | AFG | 2001 | new_sp_m014 | 129 |\n",
       "| Afghanistan | AF | AFG | 2002 | new_sp_m014 |  90 |\n",
       "| Afghanistan | AF | AFG | 2003 | new_sp_m014 | 127 |\n",
       "| Afghanistan | AF | AFG | 2004 | new_sp_m014 | 139 |\n",
       "| Afghanistan | AF | AFG | 2005 | new_sp_m014 | 151 |\n",
       "| Afghanistan | AF | AFG | 2006 | new_sp_m014 | 193 |\n",
       "\n"
      ],
      "text/plain": [
       "   country     iso2 iso3 year key         value\n",
       "1  Afghanistan AF   AFG  1997 new_sp_m014   0  \n",
       "2  Afghanistan AF   AFG  1998 new_sp_m014  30  \n",
       "3  Afghanistan AF   AFG  1999 new_sp_m014   8  \n",
       "4  Afghanistan AF   AFG  2000 new_sp_m014  52  \n",
       "5  Afghanistan AF   AFG  2001 new_sp_m014 129  \n",
       "6  Afghanistan AF   AFG  2002 new_sp_m014  90  \n",
       "7  Afghanistan AF   AFG  2003 new_sp_m014 127  \n",
       "8  Afghanistan AF   AFG  2004 new_sp_m014 139  \n",
       "9  Afghanistan AF   AFG  2005 new_sp_m014 151  \n",
       "10 Afghanistan AF   AFG  2006 new_sp_m014 193  "
      ]
     },
     "metadata": {},
     "output_type": "display_data"
    }
   ],
   "source": [
    "df %>% gather(new_sp_m014:newrel_f65,key=\"key\",value = \"value\",\n",
    "              na.rm=T) %>% slice(1:10)"
   ]
  },
  {
   "cell_type": "code",
   "execution_count": 89,
   "id": "fec0671c",
   "metadata": {
    "scrolled": true
   },
   "outputs": [
    {
     "data": {
      "text/html": [
       "<style>\n",
       ".list-inline {list-style: none; margin:0; padding: 0}\n",
       ".list-inline>li {display: inline-block}\n",
       ".list-inline>li:not(:last-child)::after {content: \"\\00b7\"; padding: 0 .5ex}\n",
       "</style>\n",
       "<ol class=list-inline><li>76046</li><li>6</li></ol>\n"
      ],
      "text/latex": [
       "\\begin{enumerate*}\n",
       "\\item 76046\n",
       "\\item 6\n",
       "\\end{enumerate*}\n"
      ],
      "text/markdown": [
       "1. 76046\n",
       "2. 6\n",
       "\n",
       "\n"
      ],
      "text/plain": [
       "[1] 76046     6"
      ]
     },
     "metadata": {},
     "output_type": "display_data"
    }
   ],
   "source": [
    "dim(x)"
   ]
  },
  {
   "cell_type": "code",
   "execution_count": 100,
   "id": "cb6d9047",
   "metadata": {},
   "outputs": [],
   "source": [
    "library(stringr)\n"
   ]
  },
  {
   "cell_type": "code",
   "execution_count": 102,
   "id": "6d409863",
   "metadata": {},
   "outputs": [
    {
     "data": {
      "text/html": [
       "<table class=\"dataframe\">\n",
       "<caption>A tibble: 76046 × 6</caption>\n",
       "<thead>\n",
       "\t<tr><th scope=col>country</th><th scope=col>iso2</th><th scope=col>iso3</th><th scope=col>year</th><th scope=col>key</th><th scope=col>value</th></tr>\n",
       "\t<tr><th scope=col>&lt;chr&gt;</th><th scope=col>&lt;chr&gt;</th><th scope=col>&lt;chr&gt;</th><th scope=col>&lt;dbl&gt;</th><th scope=col>&lt;chr&gt;</th><th scope=col>&lt;dbl&gt;</th></tr>\n",
       "</thead>\n",
       "<tbody>\n",
       "\t<tr><td>Afghanistan</td><td>AF</td><td>AFG</td><td>1997</td><td>new_sp_m014</td><td>  0</td></tr>\n",
       "\t<tr><td>Afghanistan</td><td>AF</td><td>AFG</td><td>1998</td><td>new_sp_m014</td><td> 30</td></tr>\n",
       "\t<tr><td>Afghanistan</td><td>AF</td><td>AFG</td><td>1999</td><td>new_sp_m014</td><td>  8</td></tr>\n",
       "\t<tr><td>Afghanistan</td><td>AF</td><td>AFG</td><td>2000</td><td>new_sp_m014</td><td> 52</td></tr>\n",
       "\t<tr><td>Afghanistan</td><td>AF</td><td>AFG</td><td>2001</td><td>new_sp_m014</td><td>129</td></tr>\n",
       "\t<tr><td>Afghanistan</td><td>AF</td><td>AFG</td><td>2002</td><td>new_sp_m014</td><td> 90</td></tr>\n",
       "\t<tr><td>Afghanistan</td><td>AF</td><td>AFG</td><td>2003</td><td>new_sp_m014</td><td>127</td></tr>\n",
       "\t<tr><td>Afghanistan</td><td>AF</td><td>AFG</td><td>2004</td><td>new_sp_m014</td><td>139</td></tr>\n",
       "\t<tr><td>Afghanistan</td><td>AF</td><td>AFG</td><td>2005</td><td>new_sp_m014</td><td>151</td></tr>\n",
       "\t<tr><td>Afghanistan</td><td>AF</td><td>AFG</td><td>2006</td><td>new_sp_m014</td><td>193</td></tr>\n",
       "\t<tr><td>Afghanistan</td><td>AF</td><td>AFG</td><td>2007</td><td>new_sp_m014</td><td>186</td></tr>\n",
       "\t<tr><td>Afghanistan</td><td>AF</td><td>AFG</td><td>2008</td><td>new_sp_m014</td><td>187</td></tr>\n",
       "\t<tr><td>Afghanistan</td><td>AF</td><td>AFG</td><td>2009</td><td>new_sp_m014</td><td>200</td></tr>\n",
       "\t<tr><td>Afghanistan</td><td>AF</td><td>AFG</td><td>2010</td><td>new_sp_m014</td><td>197</td></tr>\n",
       "\t<tr><td>Afghanistan</td><td>AF</td><td>AFG</td><td>2011</td><td>new_sp_m014</td><td>204</td></tr>\n",
       "\t<tr><td>Afghanistan</td><td>AF</td><td>AFG</td><td>2012</td><td>new_sp_m014</td><td>188</td></tr>\n",
       "\t<tr><td>Albania    </td><td>AL</td><td>ALB</td><td>1995</td><td>new_sp_m014</td><td>  0</td></tr>\n",
       "\t<tr><td>Albania    </td><td>AL</td><td>ALB</td><td>1997</td><td>new_sp_m014</td><td>  0</td></tr>\n",
       "\t<tr><td>Albania    </td><td>AL</td><td>ALB</td><td>1998</td><td>new_sp_m014</td><td>  1</td></tr>\n",
       "\t<tr><td>Albania    </td><td>AL</td><td>ALB</td><td>1999</td><td>new_sp_m014</td><td>  0</td></tr>\n",
       "\t<tr><td>Albania    </td><td>AL</td><td>ALB</td><td>2000</td><td>new_sp_m014</td><td>  2</td></tr>\n",
       "\t<tr><td>Albania    </td><td>AL</td><td>ALB</td><td>2001</td><td>new_sp_m014</td><td>  3</td></tr>\n",
       "\t<tr><td>Albania    </td><td>AL</td><td>ALB</td><td>2002</td><td>new_sp_m014</td><td>  0</td></tr>\n",
       "\t<tr><td>Albania    </td><td>AL</td><td>ALB</td><td>2003</td><td>new_sp_m014</td><td>  0</td></tr>\n",
       "\t<tr><td>Albania    </td><td>AL</td><td>ALB</td><td>2004</td><td>new_sp_m014</td><td>  5</td></tr>\n",
       "\t<tr><td>Albania    </td><td>AL</td><td>ALB</td><td>2005</td><td>new_sp_m014</td><td>  0</td></tr>\n",
       "\t<tr><td>Albania    </td><td>AL</td><td>ALB</td><td>2006</td><td>new_sp_m014</td><td>  5</td></tr>\n",
       "\t<tr><td>Albania    </td><td>AL</td><td>ALB</td><td>2007</td><td>new_sp_m014</td><td>  0</td></tr>\n",
       "\t<tr><td>Albania    </td><td>AL</td><td>ALB</td><td>2008</td><td>new_sp_m014</td><td>  1</td></tr>\n",
       "\t<tr><td>Albania    </td><td>AL</td><td>ALB</td><td>2009</td><td>new_sp_m014</td><td>  0</td></tr>\n",
       "\t<tr><td>⋮</td><td>⋮</td><td>⋮</td><td>⋮</td><td>⋮</td><td>⋮</td></tr>\n",
       "\t<tr><td>Spain                                               </td><td>ES</td><td>ESP</td><td>2013</td><td>new_rel_f65</td><td> 427</td></tr>\n",
       "\t<tr><td>Sri Lanka                                           </td><td>LK</td><td>LKA</td><td>2013</td><td>new_rel_f65</td><td> 418</td></tr>\n",
       "\t<tr><td>Suriname                                            </td><td>SR</td><td>SUR</td><td>2013</td><td>new_rel_f65</td><td>   1</td></tr>\n",
       "\t<tr><td>Swaziland                                           </td><td>SZ</td><td>SWZ</td><td>2013</td><td>new_rel_f65</td><td> 113</td></tr>\n",
       "\t<tr><td>Sweden                                              </td><td>SE</td><td>SWE</td><td>2013</td><td>new_rel_f65</td><td>  30</td></tr>\n",
       "\t<tr><td>Switzerland                                         </td><td>CH</td><td>CHE</td><td>2013</td><td>new_rel_f65</td><td>  37</td></tr>\n",
       "\t<tr><td>Syrian Arab Republic                                </td><td>SY</td><td>SYR</td><td>2013</td><td>new_rel_f65</td><td>  80</td></tr>\n",
       "\t<tr><td>Tajikistan                                          </td><td>TJ</td><td>TJK</td><td>2013</td><td>new_rel_f65</td><td> 165</td></tr>\n",
       "\t<tr><td>The Former Yugoslav Republic of Macedonia           </td><td>MK</td><td>MKD</td><td>2013</td><td>new_rel_f65</td><td>  20</td></tr>\n",
       "\t<tr><td>Togo                                                </td><td>TG</td><td>TGO</td><td>2013</td><td>new_rel_f65</td><td>  53</td></tr>\n",
       "\t<tr><td>Tokelau                                             </td><td>TK</td><td>TKL</td><td>2013</td><td>new_rel_f65</td><td>   0</td></tr>\n",
       "\t<tr><td>Tonga                                               </td><td>TO</td><td>TON</td><td>2013</td><td>new_rel_f65</td><td>   2</td></tr>\n",
       "\t<tr><td>Trinidad and Tobago                                 </td><td>TT</td><td>TTO</td><td>2013</td><td>new_rel_f65</td><td>  10</td></tr>\n",
       "\t<tr><td>Tunisia                                             </td><td>TN</td><td>TUN</td><td>2013</td><td>new_rel_f65</td><td> 171</td></tr>\n",
       "\t<tr><td>Turkey                                              </td><td>TR</td><td>TUR</td><td>2013</td><td>new_rel_f65</td><td> 960</td></tr>\n",
       "\t<tr><td>Tuvalu                                              </td><td>TV</td><td>TUV</td><td>2013</td><td>new_rel_f65</td><td>   0</td></tr>\n",
       "\t<tr><td>Uganda                                              </td><td>UG</td><td>UGA</td><td>2013</td><td>new_rel_f65</td><td> 341</td></tr>\n",
       "\t<tr><td>Ukraine                                             </td><td>UA</td><td>UKR</td><td>2013</td><td>new_rel_f65</td><td>1241</td></tr>\n",
       "\t<tr><td>United Arab Emirates                                </td><td>AE</td><td>ARE</td><td>2013</td><td>new_rel_f65</td><td>   6</td></tr>\n",
       "\t<tr><td>United Kingdom of Great Britain and Northern Ireland</td><td>GB</td><td>GBR</td><td>2013</td><td>new_rel_f65</td><td> 462</td></tr>\n",
       "\t<tr><td>United States of America                            </td><td>US</td><td>USA</td><td>2013</td><td>new_rel_f65</td><td> 786</td></tr>\n",
       "\t<tr><td>Uruguay                                             </td><td>UY</td><td>URY</td><td>2013</td><td>new_rel_f65</td><td>  35</td></tr>\n",
       "\t<tr><td>Uzbekistan                                          </td><td>UZ</td><td>UZB</td><td>2013</td><td>new_rel_f65</td><td>1120</td></tr>\n",
       "\t<tr><td>Vanuatu                                             </td><td>VU</td><td>VUT</td><td>2013</td><td>new_rel_f65</td><td>   7</td></tr>\n",
       "\t<tr><td>Venezuela (Bolivarian Republic of)                  </td><td>VE</td><td>VEN</td><td>2013</td><td>new_rel_f65</td><td> 402</td></tr>\n",
       "\t<tr><td>Viet Nam                                            </td><td>VN</td><td>VNM</td><td>2013</td><td>new_rel_f65</td><td>3110</td></tr>\n",
       "\t<tr><td>Wallis and Futuna Islands                           </td><td>WF</td><td>WLF</td><td>2013</td><td>new_rel_f65</td><td>   2</td></tr>\n",
       "\t<tr><td>Yemen                                               </td><td>YE</td><td>YEM</td><td>2013</td><td>new_rel_f65</td><td> 360</td></tr>\n",
       "\t<tr><td>Zambia                                              </td><td>ZM</td><td>ZMB</td><td>2013</td><td>new_rel_f65</td><td> 669</td></tr>\n",
       "\t<tr><td>Zimbabwe                                            </td><td>ZW</td><td>ZWE</td><td>2013</td><td>new_rel_f65</td><td> 725</td></tr>\n",
       "</tbody>\n",
       "</table>\n"
      ],
      "text/latex": [
       "A tibble: 76046 × 6\n",
       "\\begin{tabular}{llllll}\n",
       " country & iso2 & iso3 & year & key & value\\\\\n",
       " <chr> & <chr> & <chr> & <dbl> & <chr> & <dbl>\\\\\n",
       "\\hline\n",
       "\t Afghanistan & AF & AFG & 1997 & new\\_sp\\_m014 &   0\\\\\n",
       "\t Afghanistan & AF & AFG & 1998 & new\\_sp\\_m014 &  30\\\\\n",
       "\t Afghanistan & AF & AFG & 1999 & new\\_sp\\_m014 &   8\\\\\n",
       "\t Afghanistan & AF & AFG & 2000 & new\\_sp\\_m014 &  52\\\\\n",
       "\t Afghanistan & AF & AFG & 2001 & new\\_sp\\_m014 & 129\\\\\n",
       "\t Afghanistan & AF & AFG & 2002 & new\\_sp\\_m014 &  90\\\\\n",
       "\t Afghanistan & AF & AFG & 2003 & new\\_sp\\_m014 & 127\\\\\n",
       "\t Afghanistan & AF & AFG & 2004 & new\\_sp\\_m014 & 139\\\\\n",
       "\t Afghanistan & AF & AFG & 2005 & new\\_sp\\_m014 & 151\\\\\n",
       "\t Afghanistan & AF & AFG & 2006 & new\\_sp\\_m014 & 193\\\\\n",
       "\t Afghanistan & AF & AFG & 2007 & new\\_sp\\_m014 & 186\\\\\n",
       "\t Afghanistan & AF & AFG & 2008 & new\\_sp\\_m014 & 187\\\\\n",
       "\t Afghanistan & AF & AFG & 2009 & new\\_sp\\_m014 & 200\\\\\n",
       "\t Afghanistan & AF & AFG & 2010 & new\\_sp\\_m014 & 197\\\\\n",
       "\t Afghanistan & AF & AFG & 2011 & new\\_sp\\_m014 & 204\\\\\n",
       "\t Afghanistan & AF & AFG & 2012 & new\\_sp\\_m014 & 188\\\\\n",
       "\t Albania     & AL & ALB & 1995 & new\\_sp\\_m014 &   0\\\\\n",
       "\t Albania     & AL & ALB & 1997 & new\\_sp\\_m014 &   0\\\\\n",
       "\t Albania     & AL & ALB & 1998 & new\\_sp\\_m014 &   1\\\\\n",
       "\t Albania     & AL & ALB & 1999 & new\\_sp\\_m014 &   0\\\\\n",
       "\t Albania     & AL & ALB & 2000 & new\\_sp\\_m014 &   2\\\\\n",
       "\t Albania     & AL & ALB & 2001 & new\\_sp\\_m014 &   3\\\\\n",
       "\t Albania     & AL & ALB & 2002 & new\\_sp\\_m014 &   0\\\\\n",
       "\t Albania     & AL & ALB & 2003 & new\\_sp\\_m014 &   0\\\\\n",
       "\t Albania     & AL & ALB & 2004 & new\\_sp\\_m014 &   5\\\\\n",
       "\t Albania     & AL & ALB & 2005 & new\\_sp\\_m014 &   0\\\\\n",
       "\t Albania     & AL & ALB & 2006 & new\\_sp\\_m014 &   5\\\\\n",
       "\t Albania     & AL & ALB & 2007 & new\\_sp\\_m014 &   0\\\\\n",
       "\t Albania     & AL & ALB & 2008 & new\\_sp\\_m014 &   1\\\\\n",
       "\t Albania     & AL & ALB & 2009 & new\\_sp\\_m014 &   0\\\\\n",
       "\t ⋮ & ⋮ & ⋮ & ⋮ & ⋮ & ⋮\\\\\n",
       "\t Spain                                                & ES & ESP & 2013 & new\\_rel\\_f65 &  427\\\\\n",
       "\t Sri Lanka                                            & LK & LKA & 2013 & new\\_rel\\_f65 &  418\\\\\n",
       "\t Suriname                                             & SR & SUR & 2013 & new\\_rel\\_f65 &    1\\\\\n",
       "\t Swaziland                                            & SZ & SWZ & 2013 & new\\_rel\\_f65 &  113\\\\\n",
       "\t Sweden                                               & SE & SWE & 2013 & new\\_rel\\_f65 &   30\\\\\n",
       "\t Switzerland                                          & CH & CHE & 2013 & new\\_rel\\_f65 &   37\\\\\n",
       "\t Syrian Arab Republic                                 & SY & SYR & 2013 & new\\_rel\\_f65 &   80\\\\\n",
       "\t Tajikistan                                           & TJ & TJK & 2013 & new\\_rel\\_f65 &  165\\\\\n",
       "\t The Former Yugoslav Republic of Macedonia            & MK & MKD & 2013 & new\\_rel\\_f65 &   20\\\\\n",
       "\t Togo                                                 & TG & TGO & 2013 & new\\_rel\\_f65 &   53\\\\\n",
       "\t Tokelau                                              & TK & TKL & 2013 & new\\_rel\\_f65 &    0\\\\\n",
       "\t Tonga                                                & TO & TON & 2013 & new\\_rel\\_f65 &    2\\\\\n",
       "\t Trinidad and Tobago                                  & TT & TTO & 2013 & new\\_rel\\_f65 &   10\\\\\n",
       "\t Tunisia                                              & TN & TUN & 2013 & new\\_rel\\_f65 &  171\\\\\n",
       "\t Turkey                                               & TR & TUR & 2013 & new\\_rel\\_f65 &  960\\\\\n",
       "\t Tuvalu                                               & TV & TUV & 2013 & new\\_rel\\_f65 &    0\\\\\n",
       "\t Uganda                                               & UG & UGA & 2013 & new\\_rel\\_f65 &  341\\\\\n",
       "\t Ukraine                                              & UA & UKR & 2013 & new\\_rel\\_f65 & 1241\\\\\n",
       "\t United Arab Emirates                                 & AE & ARE & 2013 & new\\_rel\\_f65 &    6\\\\\n",
       "\t United Kingdom of Great Britain and Northern Ireland & GB & GBR & 2013 & new\\_rel\\_f65 &  462\\\\\n",
       "\t United States of America                             & US & USA & 2013 & new\\_rel\\_f65 &  786\\\\\n",
       "\t Uruguay                                              & UY & URY & 2013 & new\\_rel\\_f65 &   35\\\\\n",
       "\t Uzbekistan                                           & UZ & UZB & 2013 & new\\_rel\\_f65 & 1120\\\\\n",
       "\t Vanuatu                                              & VU & VUT & 2013 & new\\_rel\\_f65 &    7\\\\\n",
       "\t Venezuela (Bolivarian Republic of)                   & VE & VEN & 2013 & new\\_rel\\_f65 &  402\\\\\n",
       "\t Viet Nam                                             & VN & VNM & 2013 & new\\_rel\\_f65 & 3110\\\\\n",
       "\t Wallis and Futuna Islands                            & WF & WLF & 2013 & new\\_rel\\_f65 &    2\\\\\n",
       "\t Yemen                                                & YE & YEM & 2013 & new\\_rel\\_f65 &  360\\\\\n",
       "\t Zambia                                               & ZM & ZMB & 2013 & new\\_rel\\_f65 &  669\\\\\n",
       "\t Zimbabwe                                             & ZW & ZWE & 2013 & new\\_rel\\_f65 &  725\\\\\n",
       "\\end{tabular}\n"
      ],
      "text/markdown": [
       "\n",
       "A tibble: 76046 × 6\n",
       "\n",
       "| country &lt;chr&gt; | iso2 &lt;chr&gt; | iso3 &lt;chr&gt; | year &lt;dbl&gt; | key &lt;chr&gt; | value &lt;dbl&gt; |\n",
       "|---|---|---|---|---|---|\n",
       "| Afghanistan | AF | AFG | 1997 | new_sp_m014 |   0 |\n",
       "| Afghanistan | AF | AFG | 1998 | new_sp_m014 |  30 |\n",
       "| Afghanistan | AF | AFG | 1999 | new_sp_m014 |   8 |\n",
       "| Afghanistan | AF | AFG | 2000 | new_sp_m014 |  52 |\n",
       "| Afghanistan | AF | AFG | 2001 | new_sp_m014 | 129 |\n",
       "| Afghanistan | AF | AFG | 2002 | new_sp_m014 |  90 |\n",
       "| Afghanistan | AF | AFG | 2003 | new_sp_m014 | 127 |\n",
       "| Afghanistan | AF | AFG | 2004 | new_sp_m014 | 139 |\n",
       "| Afghanistan | AF | AFG | 2005 | new_sp_m014 | 151 |\n",
       "| Afghanistan | AF | AFG | 2006 | new_sp_m014 | 193 |\n",
       "| Afghanistan | AF | AFG | 2007 | new_sp_m014 | 186 |\n",
       "| Afghanistan | AF | AFG | 2008 | new_sp_m014 | 187 |\n",
       "| Afghanistan | AF | AFG | 2009 | new_sp_m014 | 200 |\n",
       "| Afghanistan | AF | AFG | 2010 | new_sp_m014 | 197 |\n",
       "| Afghanistan | AF | AFG | 2011 | new_sp_m014 | 204 |\n",
       "| Afghanistan | AF | AFG | 2012 | new_sp_m014 | 188 |\n",
       "| Albania     | AL | ALB | 1995 | new_sp_m014 |   0 |\n",
       "| Albania     | AL | ALB | 1997 | new_sp_m014 |   0 |\n",
       "| Albania     | AL | ALB | 1998 | new_sp_m014 |   1 |\n",
       "| Albania     | AL | ALB | 1999 | new_sp_m014 |   0 |\n",
       "| Albania     | AL | ALB | 2000 | new_sp_m014 |   2 |\n",
       "| Albania     | AL | ALB | 2001 | new_sp_m014 |   3 |\n",
       "| Albania     | AL | ALB | 2002 | new_sp_m014 |   0 |\n",
       "| Albania     | AL | ALB | 2003 | new_sp_m014 |   0 |\n",
       "| Albania     | AL | ALB | 2004 | new_sp_m014 |   5 |\n",
       "| Albania     | AL | ALB | 2005 | new_sp_m014 |   0 |\n",
       "| Albania     | AL | ALB | 2006 | new_sp_m014 |   5 |\n",
       "| Albania     | AL | ALB | 2007 | new_sp_m014 |   0 |\n",
       "| Albania     | AL | ALB | 2008 | new_sp_m014 |   1 |\n",
       "| Albania     | AL | ALB | 2009 | new_sp_m014 |   0 |\n",
       "| ⋮ | ⋮ | ⋮ | ⋮ | ⋮ | ⋮ |\n",
       "| Spain                                                | ES | ESP | 2013 | new_rel_f65 |  427 |\n",
       "| Sri Lanka                                            | LK | LKA | 2013 | new_rel_f65 |  418 |\n",
       "| Suriname                                             | SR | SUR | 2013 | new_rel_f65 |    1 |\n",
       "| Swaziland                                            | SZ | SWZ | 2013 | new_rel_f65 |  113 |\n",
       "| Sweden                                               | SE | SWE | 2013 | new_rel_f65 |   30 |\n",
       "| Switzerland                                          | CH | CHE | 2013 | new_rel_f65 |   37 |\n",
       "| Syrian Arab Republic                                 | SY | SYR | 2013 | new_rel_f65 |   80 |\n",
       "| Tajikistan                                           | TJ | TJK | 2013 | new_rel_f65 |  165 |\n",
       "| The Former Yugoslav Republic of Macedonia            | MK | MKD | 2013 | new_rel_f65 |   20 |\n",
       "| Togo                                                 | TG | TGO | 2013 | new_rel_f65 |   53 |\n",
       "| Tokelau                                              | TK | TKL | 2013 | new_rel_f65 |    0 |\n",
       "| Tonga                                                | TO | TON | 2013 | new_rel_f65 |    2 |\n",
       "| Trinidad and Tobago                                  | TT | TTO | 2013 | new_rel_f65 |   10 |\n",
       "| Tunisia                                              | TN | TUN | 2013 | new_rel_f65 |  171 |\n",
       "| Turkey                                               | TR | TUR | 2013 | new_rel_f65 |  960 |\n",
       "| Tuvalu                                               | TV | TUV | 2013 | new_rel_f65 |    0 |\n",
       "| Uganda                                               | UG | UGA | 2013 | new_rel_f65 |  341 |\n",
       "| Ukraine                                              | UA | UKR | 2013 | new_rel_f65 | 1241 |\n",
       "| United Arab Emirates                                 | AE | ARE | 2013 | new_rel_f65 |    6 |\n",
       "| United Kingdom of Great Britain and Northern Ireland | GB | GBR | 2013 | new_rel_f65 |  462 |\n",
       "| United States of America                             | US | USA | 2013 | new_rel_f65 |  786 |\n",
       "| Uruguay                                              | UY | URY | 2013 | new_rel_f65 |   35 |\n",
       "| Uzbekistan                                           | UZ | UZB | 2013 | new_rel_f65 | 1120 |\n",
       "| Vanuatu                                              | VU | VUT | 2013 | new_rel_f65 |    7 |\n",
       "| Venezuela (Bolivarian Republic of)                   | VE | VEN | 2013 | new_rel_f65 |  402 |\n",
       "| Viet Nam                                             | VN | VNM | 2013 | new_rel_f65 | 3110 |\n",
       "| Wallis and Futuna Islands                            | WF | WLF | 2013 | new_rel_f65 |    2 |\n",
       "| Yemen                                                | YE | YEM | 2013 | new_rel_f65 |  360 |\n",
       "| Zambia                                               | ZM | ZMB | 2013 | new_rel_f65 |  669 |\n",
       "| Zimbabwe                                             | ZW | ZWE | 2013 | new_rel_f65 |  725 |\n",
       "\n"
      ],
      "text/plain": [
       "      country                                              iso2 iso3 year\n",
       "1     Afghanistan                                          AF   AFG  1997\n",
       "2     Afghanistan                                          AF   AFG  1998\n",
       "3     Afghanistan                                          AF   AFG  1999\n",
       "4     Afghanistan                                          AF   AFG  2000\n",
       "5     Afghanistan                                          AF   AFG  2001\n",
       "6     Afghanistan                                          AF   AFG  2002\n",
       "7     Afghanistan                                          AF   AFG  2003\n",
       "8     Afghanistan                                          AF   AFG  2004\n",
       "9     Afghanistan                                          AF   AFG  2005\n",
       "10    Afghanistan                                          AF   AFG  2006\n",
       "11    Afghanistan                                          AF   AFG  2007\n",
       "12    Afghanistan                                          AF   AFG  2008\n",
       "13    Afghanistan                                          AF   AFG  2009\n",
       "14    Afghanistan                                          AF   AFG  2010\n",
       "15    Afghanistan                                          AF   AFG  2011\n",
       "16    Afghanistan                                          AF   AFG  2012\n",
       "17    Albania                                              AL   ALB  1995\n",
       "18    Albania                                              AL   ALB  1997\n",
       "19    Albania                                              AL   ALB  1998\n",
       "20    Albania                                              AL   ALB  1999\n",
       "21    Albania                                              AL   ALB  2000\n",
       "22    Albania                                              AL   ALB  2001\n",
       "23    Albania                                              AL   ALB  2002\n",
       "24    Albania                                              AL   ALB  2003\n",
       "25    Albania                                              AL   ALB  2004\n",
       "26    Albania                                              AL   ALB  2005\n",
       "27    Albania                                              AL   ALB  2006\n",
       "28    Albania                                              AL   ALB  2007\n",
       "29    Albania                                              AL   ALB  2008\n",
       "30    Albania                                              AL   ALB  2009\n",
       "⋮     ⋮                                                    ⋮    ⋮    ⋮   \n",
       "76017 Spain                                                ES   ESP  2013\n",
       "76018 Sri Lanka                                            LK   LKA  2013\n",
       "76019 Suriname                                             SR   SUR  2013\n",
       "76020 Swaziland                                            SZ   SWZ  2013\n",
       "76021 Sweden                                               SE   SWE  2013\n",
       "76022 Switzerland                                          CH   CHE  2013\n",
       "76023 Syrian Arab Republic                                 SY   SYR  2013\n",
       "76024 Tajikistan                                           TJ   TJK  2013\n",
       "76025 The Former Yugoslav Republic of Macedonia            MK   MKD  2013\n",
       "76026 Togo                                                 TG   TGO  2013\n",
       "76027 Tokelau                                              TK   TKL  2013\n",
       "76028 Tonga                                                TO   TON  2013\n",
       "76029 Trinidad and Tobago                                  TT   TTO  2013\n",
       "76030 Tunisia                                              TN   TUN  2013\n",
       "76031 Turkey                                               TR   TUR  2013\n",
       "76032 Tuvalu                                               TV   TUV  2013\n",
       "76033 Uganda                                               UG   UGA  2013\n",
       "76034 Ukraine                                              UA   UKR  2013\n",
       "76035 United Arab Emirates                                 AE   ARE  2013\n",
       "76036 United Kingdom of Great Britain and Northern Ireland GB   GBR  2013\n",
       "76037 United States of America                             US   USA  2013\n",
       "76038 Uruguay                                              UY   URY  2013\n",
       "76039 Uzbekistan                                           UZ   UZB  2013\n",
       "76040 Vanuatu                                              VU   VUT  2013\n",
       "76041 Venezuela (Bolivarian Republic of)                   VE   VEN  2013\n",
       "76042 Viet Nam                                             VN   VNM  2013\n",
       "76043 Wallis and Futuna Islands                            WF   WLF  2013\n",
       "76044 Yemen                                                YE   YEM  2013\n",
       "76045 Zambia                                               ZM   ZMB  2013\n",
       "76046 Zimbabwe                                             ZW   ZWE  2013\n",
       "      key         value\n",
       "1     new_sp_m014   0  \n",
       "2     new_sp_m014  30  \n",
       "3     new_sp_m014   8  \n",
       "4     new_sp_m014  52  \n",
       "5     new_sp_m014 129  \n",
       "6     new_sp_m014  90  \n",
       "7     new_sp_m014 127  \n",
       "8     new_sp_m014 139  \n",
       "9     new_sp_m014 151  \n",
       "10    new_sp_m014 193  \n",
       "11    new_sp_m014 186  \n",
       "12    new_sp_m014 187  \n",
       "13    new_sp_m014 200  \n",
       "14    new_sp_m014 197  \n",
       "15    new_sp_m014 204  \n",
       "16    new_sp_m014 188  \n",
       "17    new_sp_m014   0  \n",
       "18    new_sp_m014   0  \n",
       "19    new_sp_m014   1  \n",
       "20    new_sp_m014   0  \n",
       "21    new_sp_m014   2  \n",
       "22    new_sp_m014   3  \n",
       "23    new_sp_m014   0  \n",
       "24    new_sp_m014   0  \n",
       "25    new_sp_m014   5  \n",
       "26    new_sp_m014   0  \n",
       "27    new_sp_m014   5  \n",
       "28    new_sp_m014   0  \n",
       "29    new_sp_m014   1  \n",
       "30    new_sp_m014   0  \n",
       "⋮     ⋮           ⋮    \n",
       "76017 new_rel_f65  427 \n",
       "76018 new_rel_f65  418 \n",
       "76019 new_rel_f65    1 \n",
       "76020 new_rel_f65  113 \n",
       "76021 new_rel_f65   30 \n",
       "76022 new_rel_f65   37 \n",
       "76023 new_rel_f65   80 \n",
       "76024 new_rel_f65  165 \n",
       "76025 new_rel_f65   20 \n",
       "76026 new_rel_f65   53 \n",
       "76027 new_rel_f65    0 \n",
       "76028 new_rel_f65    2 \n",
       "76029 new_rel_f65   10 \n",
       "76030 new_rel_f65  171 \n",
       "76031 new_rel_f65  960 \n",
       "76032 new_rel_f65    0 \n",
       "76033 new_rel_f65  341 \n",
       "76034 new_rel_f65 1241 \n",
       "76035 new_rel_f65    6 \n",
       "76036 new_rel_f65  462 \n",
       "76037 new_rel_f65  786 \n",
       "76038 new_rel_f65   35 \n",
       "76039 new_rel_f65 1120 \n",
       "76040 new_rel_f65    7 \n",
       "76041 new_rel_f65  402 \n",
       "76042 new_rel_f65 3110 \n",
       "76043 new_rel_f65    2 \n",
       "76044 new_rel_f65  360 \n",
       "76045 new_rel_f65  669 \n",
       "76046 new_rel_f65  725 "
      ]
     },
     "metadata": {},
     "output_type": "display_data"
    }
   ],
   "source": [
    "df %>% gather(new_sp_m014:newrel_f65,key=\"key\",value = \"value\",\n",
    "              na.rm=T) %>% \n",
    "              mutate(key=str_replace(key,\"newrel\",\"new_rel\"))\n",
    "              \n",
    "              "
   ]
  },
  {
   "cell_type": "code",
   "execution_count": 103,
   "id": "a8432f99",
   "metadata": {},
   "outputs": [
    {
     "data": {
      "text/html": [
       "<table class=\"dataframe\">\n",
       "<caption>A tibble: 76046 × 8</caption>\n",
       "<thead>\n",
       "\t<tr><th scope=col>country</th><th scope=col>iso2</th><th scope=col>iso3</th><th scope=col>year</th><th scope=col>new</th><th scope=col>type</th><th scope=col>sex/age</th><th scope=col>value</th></tr>\n",
       "\t<tr><th scope=col>&lt;chr&gt;</th><th scope=col>&lt;chr&gt;</th><th scope=col>&lt;chr&gt;</th><th scope=col>&lt;dbl&gt;</th><th scope=col>&lt;chr&gt;</th><th scope=col>&lt;chr&gt;</th><th scope=col>&lt;chr&gt;</th><th scope=col>&lt;dbl&gt;</th></tr>\n",
       "</thead>\n",
       "<tbody>\n",
       "\t<tr><td>Afghanistan</td><td>AF</td><td>AFG</td><td>1997</td><td>new</td><td>sp</td><td>m014</td><td>  0</td></tr>\n",
       "\t<tr><td>Afghanistan</td><td>AF</td><td>AFG</td><td>1998</td><td>new</td><td>sp</td><td>m014</td><td> 30</td></tr>\n",
       "\t<tr><td>Afghanistan</td><td>AF</td><td>AFG</td><td>1999</td><td>new</td><td>sp</td><td>m014</td><td>  8</td></tr>\n",
       "\t<tr><td>Afghanistan</td><td>AF</td><td>AFG</td><td>2000</td><td>new</td><td>sp</td><td>m014</td><td> 52</td></tr>\n",
       "\t<tr><td>Afghanistan</td><td>AF</td><td>AFG</td><td>2001</td><td>new</td><td>sp</td><td>m014</td><td>129</td></tr>\n",
       "\t<tr><td>Afghanistan</td><td>AF</td><td>AFG</td><td>2002</td><td>new</td><td>sp</td><td>m014</td><td> 90</td></tr>\n",
       "\t<tr><td>Afghanistan</td><td>AF</td><td>AFG</td><td>2003</td><td>new</td><td>sp</td><td>m014</td><td>127</td></tr>\n",
       "\t<tr><td>Afghanistan</td><td>AF</td><td>AFG</td><td>2004</td><td>new</td><td>sp</td><td>m014</td><td>139</td></tr>\n",
       "\t<tr><td>Afghanistan</td><td>AF</td><td>AFG</td><td>2005</td><td>new</td><td>sp</td><td>m014</td><td>151</td></tr>\n",
       "\t<tr><td>Afghanistan</td><td>AF</td><td>AFG</td><td>2006</td><td>new</td><td>sp</td><td>m014</td><td>193</td></tr>\n",
       "\t<tr><td>Afghanistan</td><td>AF</td><td>AFG</td><td>2007</td><td>new</td><td>sp</td><td>m014</td><td>186</td></tr>\n",
       "\t<tr><td>Afghanistan</td><td>AF</td><td>AFG</td><td>2008</td><td>new</td><td>sp</td><td>m014</td><td>187</td></tr>\n",
       "\t<tr><td>Afghanistan</td><td>AF</td><td>AFG</td><td>2009</td><td>new</td><td>sp</td><td>m014</td><td>200</td></tr>\n",
       "\t<tr><td>Afghanistan</td><td>AF</td><td>AFG</td><td>2010</td><td>new</td><td>sp</td><td>m014</td><td>197</td></tr>\n",
       "\t<tr><td>Afghanistan</td><td>AF</td><td>AFG</td><td>2011</td><td>new</td><td>sp</td><td>m014</td><td>204</td></tr>\n",
       "\t<tr><td>Afghanistan</td><td>AF</td><td>AFG</td><td>2012</td><td>new</td><td>sp</td><td>m014</td><td>188</td></tr>\n",
       "\t<tr><td>Albania    </td><td>AL</td><td>ALB</td><td>1995</td><td>new</td><td>sp</td><td>m014</td><td>  0</td></tr>\n",
       "\t<tr><td>Albania    </td><td>AL</td><td>ALB</td><td>1997</td><td>new</td><td>sp</td><td>m014</td><td>  0</td></tr>\n",
       "\t<tr><td>Albania    </td><td>AL</td><td>ALB</td><td>1998</td><td>new</td><td>sp</td><td>m014</td><td>  1</td></tr>\n",
       "\t<tr><td>Albania    </td><td>AL</td><td>ALB</td><td>1999</td><td>new</td><td>sp</td><td>m014</td><td>  0</td></tr>\n",
       "\t<tr><td>Albania    </td><td>AL</td><td>ALB</td><td>2000</td><td>new</td><td>sp</td><td>m014</td><td>  2</td></tr>\n",
       "\t<tr><td>Albania    </td><td>AL</td><td>ALB</td><td>2001</td><td>new</td><td>sp</td><td>m014</td><td>  3</td></tr>\n",
       "\t<tr><td>Albania    </td><td>AL</td><td>ALB</td><td>2002</td><td>new</td><td>sp</td><td>m014</td><td>  0</td></tr>\n",
       "\t<tr><td>Albania    </td><td>AL</td><td>ALB</td><td>2003</td><td>new</td><td>sp</td><td>m014</td><td>  0</td></tr>\n",
       "\t<tr><td>Albania    </td><td>AL</td><td>ALB</td><td>2004</td><td>new</td><td>sp</td><td>m014</td><td>  5</td></tr>\n",
       "\t<tr><td>Albania    </td><td>AL</td><td>ALB</td><td>2005</td><td>new</td><td>sp</td><td>m014</td><td>  0</td></tr>\n",
       "\t<tr><td>Albania    </td><td>AL</td><td>ALB</td><td>2006</td><td>new</td><td>sp</td><td>m014</td><td>  5</td></tr>\n",
       "\t<tr><td>Albania    </td><td>AL</td><td>ALB</td><td>2007</td><td>new</td><td>sp</td><td>m014</td><td>  0</td></tr>\n",
       "\t<tr><td>Albania    </td><td>AL</td><td>ALB</td><td>2008</td><td>new</td><td>sp</td><td>m014</td><td>  1</td></tr>\n",
       "\t<tr><td>Albania    </td><td>AL</td><td>ALB</td><td>2009</td><td>new</td><td>sp</td><td>m014</td><td>  0</td></tr>\n",
       "\t<tr><td>⋮</td><td>⋮</td><td>⋮</td><td>⋮</td><td>⋮</td><td>⋮</td><td>⋮</td><td>⋮</td></tr>\n",
       "\t<tr><td>Spain                                               </td><td>ES</td><td>ESP</td><td>2013</td><td>new</td><td>rel</td><td>f65</td><td> 427</td></tr>\n",
       "\t<tr><td>Sri Lanka                                           </td><td>LK</td><td>LKA</td><td>2013</td><td>new</td><td>rel</td><td>f65</td><td> 418</td></tr>\n",
       "\t<tr><td>Suriname                                            </td><td>SR</td><td>SUR</td><td>2013</td><td>new</td><td>rel</td><td>f65</td><td>   1</td></tr>\n",
       "\t<tr><td>Swaziland                                           </td><td>SZ</td><td>SWZ</td><td>2013</td><td>new</td><td>rel</td><td>f65</td><td> 113</td></tr>\n",
       "\t<tr><td>Sweden                                              </td><td>SE</td><td>SWE</td><td>2013</td><td>new</td><td>rel</td><td>f65</td><td>  30</td></tr>\n",
       "\t<tr><td>Switzerland                                         </td><td>CH</td><td>CHE</td><td>2013</td><td>new</td><td>rel</td><td>f65</td><td>  37</td></tr>\n",
       "\t<tr><td>Syrian Arab Republic                                </td><td>SY</td><td>SYR</td><td>2013</td><td>new</td><td>rel</td><td>f65</td><td>  80</td></tr>\n",
       "\t<tr><td>Tajikistan                                          </td><td>TJ</td><td>TJK</td><td>2013</td><td>new</td><td>rel</td><td>f65</td><td> 165</td></tr>\n",
       "\t<tr><td>The Former Yugoslav Republic of Macedonia           </td><td>MK</td><td>MKD</td><td>2013</td><td>new</td><td>rel</td><td>f65</td><td>  20</td></tr>\n",
       "\t<tr><td>Togo                                                </td><td>TG</td><td>TGO</td><td>2013</td><td>new</td><td>rel</td><td>f65</td><td>  53</td></tr>\n",
       "\t<tr><td>Tokelau                                             </td><td>TK</td><td>TKL</td><td>2013</td><td>new</td><td>rel</td><td>f65</td><td>   0</td></tr>\n",
       "\t<tr><td>Tonga                                               </td><td>TO</td><td>TON</td><td>2013</td><td>new</td><td>rel</td><td>f65</td><td>   2</td></tr>\n",
       "\t<tr><td>Trinidad and Tobago                                 </td><td>TT</td><td>TTO</td><td>2013</td><td>new</td><td>rel</td><td>f65</td><td>  10</td></tr>\n",
       "\t<tr><td>Tunisia                                             </td><td>TN</td><td>TUN</td><td>2013</td><td>new</td><td>rel</td><td>f65</td><td> 171</td></tr>\n",
       "\t<tr><td>Turkey                                              </td><td>TR</td><td>TUR</td><td>2013</td><td>new</td><td>rel</td><td>f65</td><td> 960</td></tr>\n",
       "\t<tr><td>Tuvalu                                              </td><td>TV</td><td>TUV</td><td>2013</td><td>new</td><td>rel</td><td>f65</td><td>   0</td></tr>\n",
       "\t<tr><td>Uganda                                              </td><td>UG</td><td>UGA</td><td>2013</td><td>new</td><td>rel</td><td>f65</td><td> 341</td></tr>\n",
       "\t<tr><td>Ukraine                                             </td><td>UA</td><td>UKR</td><td>2013</td><td>new</td><td>rel</td><td>f65</td><td>1241</td></tr>\n",
       "\t<tr><td>United Arab Emirates                                </td><td>AE</td><td>ARE</td><td>2013</td><td>new</td><td>rel</td><td>f65</td><td>   6</td></tr>\n",
       "\t<tr><td>United Kingdom of Great Britain and Northern Ireland</td><td>GB</td><td>GBR</td><td>2013</td><td>new</td><td>rel</td><td>f65</td><td> 462</td></tr>\n",
       "\t<tr><td>United States of America                            </td><td>US</td><td>USA</td><td>2013</td><td>new</td><td>rel</td><td>f65</td><td> 786</td></tr>\n",
       "\t<tr><td>Uruguay                                             </td><td>UY</td><td>URY</td><td>2013</td><td>new</td><td>rel</td><td>f65</td><td>  35</td></tr>\n",
       "\t<tr><td>Uzbekistan                                          </td><td>UZ</td><td>UZB</td><td>2013</td><td>new</td><td>rel</td><td>f65</td><td>1120</td></tr>\n",
       "\t<tr><td>Vanuatu                                             </td><td>VU</td><td>VUT</td><td>2013</td><td>new</td><td>rel</td><td>f65</td><td>   7</td></tr>\n",
       "\t<tr><td>Venezuela (Bolivarian Republic of)                  </td><td>VE</td><td>VEN</td><td>2013</td><td>new</td><td>rel</td><td>f65</td><td> 402</td></tr>\n",
       "\t<tr><td>Viet Nam                                            </td><td>VN</td><td>VNM</td><td>2013</td><td>new</td><td>rel</td><td>f65</td><td>3110</td></tr>\n",
       "\t<tr><td>Wallis and Futuna Islands                           </td><td>WF</td><td>WLF</td><td>2013</td><td>new</td><td>rel</td><td>f65</td><td>   2</td></tr>\n",
       "\t<tr><td>Yemen                                               </td><td>YE</td><td>YEM</td><td>2013</td><td>new</td><td>rel</td><td>f65</td><td> 360</td></tr>\n",
       "\t<tr><td>Zambia                                              </td><td>ZM</td><td>ZMB</td><td>2013</td><td>new</td><td>rel</td><td>f65</td><td> 669</td></tr>\n",
       "\t<tr><td>Zimbabwe                                            </td><td>ZW</td><td>ZWE</td><td>2013</td><td>new</td><td>rel</td><td>f65</td><td> 725</td></tr>\n",
       "</tbody>\n",
       "</table>\n"
      ],
      "text/latex": [
       "A tibble: 76046 × 8\n",
       "\\begin{tabular}{llllllll}\n",
       " country & iso2 & iso3 & year & new & type & sex/age & value\\\\\n",
       " <chr> & <chr> & <chr> & <dbl> & <chr> & <chr> & <chr> & <dbl>\\\\\n",
       "\\hline\n",
       "\t Afghanistan & AF & AFG & 1997 & new & sp & m014 &   0\\\\\n",
       "\t Afghanistan & AF & AFG & 1998 & new & sp & m014 &  30\\\\\n",
       "\t Afghanistan & AF & AFG & 1999 & new & sp & m014 &   8\\\\\n",
       "\t Afghanistan & AF & AFG & 2000 & new & sp & m014 &  52\\\\\n",
       "\t Afghanistan & AF & AFG & 2001 & new & sp & m014 & 129\\\\\n",
       "\t Afghanistan & AF & AFG & 2002 & new & sp & m014 &  90\\\\\n",
       "\t Afghanistan & AF & AFG & 2003 & new & sp & m014 & 127\\\\\n",
       "\t Afghanistan & AF & AFG & 2004 & new & sp & m014 & 139\\\\\n",
       "\t Afghanistan & AF & AFG & 2005 & new & sp & m014 & 151\\\\\n",
       "\t Afghanistan & AF & AFG & 2006 & new & sp & m014 & 193\\\\\n",
       "\t Afghanistan & AF & AFG & 2007 & new & sp & m014 & 186\\\\\n",
       "\t Afghanistan & AF & AFG & 2008 & new & sp & m014 & 187\\\\\n",
       "\t Afghanistan & AF & AFG & 2009 & new & sp & m014 & 200\\\\\n",
       "\t Afghanistan & AF & AFG & 2010 & new & sp & m014 & 197\\\\\n",
       "\t Afghanistan & AF & AFG & 2011 & new & sp & m014 & 204\\\\\n",
       "\t Afghanistan & AF & AFG & 2012 & new & sp & m014 & 188\\\\\n",
       "\t Albania     & AL & ALB & 1995 & new & sp & m014 &   0\\\\\n",
       "\t Albania     & AL & ALB & 1997 & new & sp & m014 &   0\\\\\n",
       "\t Albania     & AL & ALB & 1998 & new & sp & m014 &   1\\\\\n",
       "\t Albania     & AL & ALB & 1999 & new & sp & m014 &   0\\\\\n",
       "\t Albania     & AL & ALB & 2000 & new & sp & m014 &   2\\\\\n",
       "\t Albania     & AL & ALB & 2001 & new & sp & m014 &   3\\\\\n",
       "\t Albania     & AL & ALB & 2002 & new & sp & m014 &   0\\\\\n",
       "\t Albania     & AL & ALB & 2003 & new & sp & m014 &   0\\\\\n",
       "\t Albania     & AL & ALB & 2004 & new & sp & m014 &   5\\\\\n",
       "\t Albania     & AL & ALB & 2005 & new & sp & m014 &   0\\\\\n",
       "\t Albania     & AL & ALB & 2006 & new & sp & m014 &   5\\\\\n",
       "\t Albania     & AL & ALB & 2007 & new & sp & m014 &   0\\\\\n",
       "\t Albania     & AL & ALB & 2008 & new & sp & m014 &   1\\\\\n",
       "\t Albania     & AL & ALB & 2009 & new & sp & m014 &   0\\\\\n",
       "\t ⋮ & ⋮ & ⋮ & ⋮ & ⋮ & ⋮ & ⋮ & ⋮\\\\\n",
       "\t Spain                                                & ES & ESP & 2013 & new & rel & f65 &  427\\\\\n",
       "\t Sri Lanka                                            & LK & LKA & 2013 & new & rel & f65 &  418\\\\\n",
       "\t Suriname                                             & SR & SUR & 2013 & new & rel & f65 &    1\\\\\n",
       "\t Swaziland                                            & SZ & SWZ & 2013 & new & rel & f65 &  113\\\\\n",
       "\t Sweden                                               & SE & SWE & 2013 & new & rel & f65 &   30\\\\\n",
       "\t Switzerland                                          & CH & CHE & 2013 & new & rel & f65 &   37\\\\\n",
       "\t Syrian Arab Republic                                 & SY & SYR & 2013 & new & rel & f65 &   80\\\\\n",
       "\t Tajikistan                                           & TJ & TJK & 2013 & new & rel & f65 &  165\\\\\n",
       "\t The Former Yugoslav Republic of Macedonia            & MK & MKD & 2013 & new & rel & f65 &   20\\\\\n",
       "\t Togo                                                 & TG & TGO & 2013 & new & rel & f65 &   53\\\\\n",
       "\t Tokelau                                              & TK & TKL & 2013 & new & rel & f65 &    0\\\\\n",
       "\t Tonga                                                & TO & TON & 2013 & new & rel & f65 &    2\\\\\n",
       "\t Trinidad and Tobago                                  & TT & TTO & 2013 & new & rel & f65 &   10\\\\\n",
       "\t Tunisia                                              & TN & TUN & 2013 & new & rel & f65 &  171\\\\\n",
       "\t Turkey                                               & TR & TUR & 2013 & new & rel & f65 &  960\\\\\n",
       "\t Tuvalu                                               & TV & TUV & 2013 & new & rel & f65 &    0\\\\\n",
       "\t Uganda                                               & UG & UGA & 2013 & new & rel & f65 &  341\\\\\n",
       "\t Ukraine                                              & UA & UKR & 2013 & new & rel & f65 & 1241\\\\\n",
       "\t United Arab Emirates                                 & AE & ARE & 2013 & new & rel & f65 &    6\\\\\n",
       "\t United Kingdom of Great Britain and Northern Ireland & GB & GBR & 2013 & new & rel & f65 &  462\\\\\n",
       "\t United States of America                             & US & USA & 2013 & new & rel & f65 &  786\\\\\n",
       "\t Uruguay                                              & UY & URY & 2013 & new & rel & f65 &   35\\\\\n",
       "\t Uzbekistan                                           & UZ & UZB & 2013 & new & rel & f65 & 1120\\\\\n",
       "\t Vanuatu                                              & VU & VUT & 2013 & new & rel & f65 &    7\\\\\n",
       "\t Venezuela (Bolivarian Republic of)                   & VE & VEN & 2013 & new & rel & f65 &  402\\\\\n",
       "\t Viet Nam                                             & VN & VNM & 2013 & new & rel & f65 & 3110\\\\\n",
       "\t Wallis and Futuna Islands                            & WF & WLF & 2013 & new & rel & f65 &    2\\\\\n",
       "\t Yemen                                                & YE & YEM & 2013 & new & rel & f65 &  360\\\\\n",
       "\t Zambia                                               & ZM & ZMB & 2013 & new & rel & f65 &  669\\\\\n",
       "\t Zimbabwe                                             & ZW & ZWE & 2013 & new & rel & f65 &  725\\\\\n",
       "\\end{tabular}\n"
      ],
      "text/markdown": [
       "\n",
       "A tibble: 76046 × 8\n",
       "\n",
       "| country &lt;chr&gt; | iso2 &lt;chr&gt; | iso3 &lt;chr&gt; | year &lt;dbl&gt; | new &lt;chr&gt; | type &lt;chr&gt; | sex/age &lt;chr&gt; | value &lt;dbl&gt; |\n",
       "|---|---|---|---|---|---|---|---|\n",
       "| Afghanistan | AF | AFG | 1997 | new | sp | m014 |   0 |\n",
       "| Afghanistan | AF | AFG | 1998 | new | sp | m014 |  30 |\n",
       "| Afghanistan | AF | AFG | 1999 | new | sp | m014 |   8 |\n",
       "| Afghanistan | AF | AFG | 2000 | new | sp | m014 |  52 |\n",
       "| Afghanistan | AF | AFG | 2001 | new | sp | m014 | 129 |\n",
       "| Afghanistan | AF | AFG | 2002 | new | sp | m014 |  90 |\n",
       "| Afghanistan | AF | AFG | 2003 | new | sp | m014 | 127 |\n",
       "| Afghanistan | AF | AFG | 2004 | new | sp | m014 | 139 |\n",
       "| Afghanistan | AF | AFG | 2005 | new | sp | m014 | 151 |\n",
       "| Afghanistan | AF | AFG | 2006 | new | sp | m014 | 193 |\n",
       "| Afghanistan | AF | AFG | 2007 | new | sp | m014 | 186 |\n",
       "| Afghanistan | AF | AFG | 2008 | new | sp | m014 | 187 |\n",
       "| Afghanistan | AF | AFG | 2009 | new | sp | m014 | 200 |\n",
       "| Afghanistan | AF | AFG | 2010 | new | sp | m014 | 197 |\n",
       "| Afghanistan | AF | AFG | 2011 | new | sp | m014 | 204 |\n",
       "| Afghanistan | AF | AFG | 2012 | new | sp | m014 | 188 |\n",
       "| Albania     | AL | ALB | 1995 | new | sp | m014 |   0 |\n",
       "| Albania     | AL | ALB | 1997 | new | sp | m014 |   0 |\n",
       "| Albania     | AL | ALB | 1998 | new | sp | m014 |   1 |\n",
       "| Albania     | AL | ALB | 1999 | new | sp | m014 |   0 |\n",
       "| Albania     | AL | ALB | 2000 | new | sp | m014 |   2 |\n",
       "| Albania     | AL | ALB | 2001 | new | sp | m014 |   3 |\n",
       "| Albania     | AL | ALB | 2002 | new | sp | m014 |   0 |\n",
       "| Albania     | AL | ALB | 2003 | new | sp | m014 |   0 |\n",
       "| Albania     | AL | ALB | 2004 | new | sp | m014 |   5 |\n",
       "| Albania     | AL | ALB | 2005 | new | sp | m014 |   0 |\n",
       "| Albania     | AL | ALB | 2006 | new | sp | m014 |   5 |\n",
       "| Albania     | AL | ALB | 2007 | new | sp | m014 |   0 |\n",
       "| Albania     | AL | ALB | 2008 | new | sp | m014 |   1 |\n",
       "| Albania     | AL | ALB | 2009 | new | sp | m014 |   0 |\n",
       "| ⋮ | ⋮ | ⋮ | ⋮ | ⋮ | ⋮ | ⋮ | ⋮ |\n",
       "| Spain                                                | ES | ESP | 2013 | new | rel | f65 |  427 |\n",
       "| Sri Lanka                                            | LK | LKA | 2013 | new | rel | f65 |  418 |\n",
       "| Suriname                                             | SR | SUR | 2013 | new | rel | f65 |    1 |\n",
       "| Swaziland                                            | SZ | SWZ | 2013 | new | rel | f65 |  113 |\n",
       "| Sweden                                               | SE | SWE | 2013 | new | rel | f65 |   30 |\n",
       "| Switzerland                                          | CH | CHE | 2013 | new | rel | f65 |   37 |\n",
       "| Syrian Arab Republic                                 | SY | SYR | 2013 | new | rel | f65 |   80 |\n",
       "| Tajikistan                                           | TJ | TJK | 2013 | new | rel | f65 |  165 |\n",
       "| The Former Yugoslav Republic of Macedonia            | MK | MKD | 2013 | new | rel | f65 |   20 |\n",
       "| Togo                                                 | TG | TGO | 2013 | new | rel | f65 |   53 |\n",
       "| Tokelau                                              | TK | TKL | 2013 | new | rel | f65 |    0 |\n",
       "| Tonga                                                | TO | TON | 2013 | new | rel | f65 |    2 |\n",
       "| Trinidad and Tobago                                  | TT | TTO | 2013 | new | rel | f65 |   10 |\n",
       "| Tunisia                                              | TN | TUN | 2013 | new | rel | f65 |  171 |\n",
       "| Turkey                                               | TR | TUR | 2013 | new | rel | f65 |  960 |\n",
       "| Tuvalu                                               | TV | TUV | 2013 | new | rel | f65 |    0 |\n",
       "| Uganda                                               | UG | UGA | 2013 | new | rel | f65 |  341 |\n",
       "| Ukraine                                              | UA | UKR | 2013 | new | rel | f65 | 1241 |\n",
       "| United Arab Emirates                                 | AE | ARE | 2013 | new | rel | f65 |    6 |\n",
       "| United Kingdom of Great Britain and Northern Ireland | GB | GBR | 2013 | new | rel | f65 |  462 |\n",
       "| United States of America                             | US | USA | 2013 | new | rel | f65 |  786 |\n",
       "| Uruguay                                              | UY | URY | 2013 | new | rel | f65 |   35 |\n",
       "| Uzbekistan                                           | UZ | UZB | 2013 | new | rel | f65 | 1120 |\n",
       "| Vanuatu                                              | VU | VUT | 2013 | new | rel | f65 |    7 |\n",
       "| Venezuela (Bolivarian Republic of)                   | VE | VEN | 2013 | new | rel | f65 |  402 |\n",
       "| Viet Nam                                             | VN | VNM | 2013 | new | rel | f65 | 3110 |\n",
       "| Wallis and Futuna Islands                            | WF | WLF | 2013 | new | rel | f65 |    2 |\n",
       "| Yemen                                                | YE | YEM | 2013 | new | rel | f65 |  360 |\n",
       "| Zambia                                               | ZM | ZMB | 2013 | new | rel | f65 |  669 |\n",
       "| Zimbabwe                                             | ZW | ZWE | 2013 | new | rel | f65 |  725 |\n",
       "\n"
      ],
      "text/plain": [
       "      country                                              iso2 iso3 year new\n",
       "1     Afghanistan                                          AF   AFG  1997 new\n",
       "2     Afghanistan                                          AF   AFG  1998 new\n",
       "3     Afghanistan                                          AF   AFG  1999 new\n",
       "4     Afghanistan                                          AF   AFG  2000 new\n",
       "5     Afghanistan                                          AF   AFG  2001 new\n",
       "6     Afghanistan                                          AF   AFG  2002 new\n",
       "7     Afghanistan                                          AF   AFG  2003 new\n",
       "8     Afghanistan                                          AF   AFG  2004 new\n",
       "9     Afghanistan                                          AF   AFG  2005 new\n",
       "10    Afghanistan                                          AF   AFG  2006 new\n",
       "11    Afghanistan                                          AF   AFG  2007 new\n",
       "12    Afghanistan                                          AF   AFG  2008 new\n",
       "13    Afghanistan                                          AF   AFG  2009 new\n",
       "14    Afghanistan                                          AF   AFG  2010 new\n",
       "15    Afghanistan                                          AF   AFG  2011 new\n",
       "16    Afghanistan                                          AF   AFG  2012 new\n",
       "17    Albania                                              AL   ALB  1995 new\n",
       "18    Albania                                              AL   ALB  1997 new\n",
       "19    Albania                                              AL   ALB  1998 new\n",
       "20    Albania                                              AL   ALB  1999 new\n",
       "21    Albania                                              AL   ALB  2000 new\n",
       "22    Albania                                              AL   ALB  2001 new\n",
       "23    Albania                                              AL   ALB  2002 new\n",
       "24    Albania                                              AL   ALB  2003 new\n",
       "25    Albania                                              AL   ALB  2004 new\n",
       "26    Albania                                              AL   ALB  2005 new\n",
       "27    Albania                                              AL   ALB  2006 new\n",
       "28    Albania                                              AL   ALB  2007 new\n",
       "29    Albania                                              AL   ALB  2008 new\n",
       "30    Albania                                              AL   ALB  2009 new\n",
       "⋮     ⋮                                                    ⋮    ⋮    ⋮    ⋮  \n",
       "76017 Spain                                                ES   ESP  2013 new\n",
       "76018 Sri Lanka                                            LK   LKA  2013 new\n",
       "76019 Suriname                                             SR   SUR  2013 new\n",
       "76020 Swaziland                                            SZ   SWZ  2013 new\n",
       "76021 Sweden                                               SE   SWE  2013 new\n",
       "76022 Switzerland                                          CH   CHE  2013 new\n",
       "76023 Syrian Arab Republic                                 SY   SYR  2013 new\n",
       "76024 Tajikistan                                           TJ   TJK  2013 new\n",
       "76025 The Former Yugoslav Republic of Macedonia            MK   MKD  2013 new\n",
       "76026 Togo                                                 TG   TGO  2013 new\n",
       "76027 Tokelau                                              TK   TKL  2013 new\n",
       "76028 Tonga                                                TO   TON  2013 new\n",
       "76029 Trinidad and Tobago                                  TT   TTO  2013 new\n",
       "76030 Tunisia                                              TN   TUN  2013 new\n",
       "76031 Turkey                                               TR   TUR  2013 new\n",
       "76032 Tuvalu                                               TV   TUV  2013 new\n",
       "76033 Uganda                                               UG   UGA  2013 new\n",
       "76034 Ukraine                                              UA   UKR  2013 new\n",
       "76035 United Arab Emirates                                 AE   ARE  2013 new\n",
       "76036 United Kingdom of Great Britain and Northern Ireland GB   GBR  2013 new\n",
       "76037 United States of America                             US   USA  2013 new\n",
       "76038 Uruguay                                              UY   URY  2013 new\n",
       "76039 Uzbekistan                                           UZ   UZB  2013 new\n",
       "76040 Vanuatu                                              VU   VUT  2013 new\n",
       "76041 Venezuela (Bolivarian Republic of)                   VE   VEN  2013 new\n",
       "76042 Viet Nam                                             VN   VNM  2013 new\n",
       "76043 Wallis and Futuna Islands                            WF   WLF  2013 new\n",
       "76044 Yemen                                                YE   YEM  2013 new\n",
       "76045 Zambia                                               ZM   ZMB  2013 new\n",
       "76046 Zimbabwe                                             ZW   ZWE  2013 new\n",
       "      type sex/age value\n",
       "1     sp   m014      0  \n",
       "2     sp   m014     30  \n",
       "3     sp   m014      8  \n",
       "4     sp   m014     52  \n",
       "5     sp   m014    129  \n",
       "6     sp   m014     90  \n",
       "7     sp   m014    127  \n",
       "8     sp   m014    139  \n",
       "9     sp   m014    151  \n",
       "10    sp   m014    193  \n",
       "11    sp   m014    186  \n",
       "12    sp   m014    187  \n",
       "13    sp   m014    200  \n",
       "14    sp   m014    197  \n",
       "15    sp   m014    204  \n",
       "16    sp   m014    188  \n",
       "17    sp   m014      0  \n",
       "18    sp   m014      0  \n",
       "19    sp   m014      1  \n",
       "20    sp   m014      0  \n",
       "21    sp   m014      2  \n",
       "22    sp   m014      3  \n",
       "23    sp   m014      0  \n",
       "24    sp   m014      0  \n",
       "25    sp   m014      5  \n",
       "26    sp   m014      0  \n",
       "27    sp   m014      5  \n",
       "28    sp   m014      0  \n",
       "29    sp   m014      1  \n",
       "30    sp   m014      0  \n",
       "⋮     ⋮    ⋮       ⋮    \n",
       "76017 rel  f65      427 \n",
       "76018 rel  f65      418 \n",
       "76019 rel  f65        1 \n",
       "76020 rel  f65      113 \n",
       "76021 rel  f65       30 \n",
       "76022 rel  f65       37 \n",
       "76023 rel  f65       80 \n",
       "76024 rel  f65      165 \n",
       "76025 rel  f65       20 \n",
       "76026 rel  f65       53 \n",
       "76027 rel  f65        0 \n",
       "76028 rel  f65        2 \n",
       "76029 rel  f65       10 \n",
       "76030 rel  f65      171 \n",
       "76031 rel  f65      960 \n",
       "76032 rel  f65        0 \n",
       "76033 rel  f65      341 \n",
       "76034 rel  f65     1241 \n",
       "76035 rel  f65        6 \n",
       "76036 rel  f65      462 \n",
       "76037 rel  f65      786 \n",
       "76038 rel  f65       35 \n",
       "76039 rel  f65     1120 \n",
       "76040 rel  f65        7 \n",
       "76041 rel  f65      402 \n",
       "76042 rel  f65     3110 \n",
       "76043 rel  f65        2 \n",
       "76044 rel  f65      360 \n",
       "76045 rel  f65      669 \n",
       "76046 rel  f65      725 "
      ]
     },
     "metadata": {},
     "output_type": "display_data"
    }
   ],
   "source": [
    "df %>% gather(new_sp_m014:newrel_f65,key=\"key\",value = \"value\",\n",
    "        na.rm=T) %>% \n",
    "        mutate(key=str_replace(key,\"newrel\",\"new_rel\")) %>%\n",
    "        separate(col = key,into=c(\"new\",\"type\",\"sex/age\"),sep=\"_\")"
   ]
  },
  {
   "cell_type": "code",
   "execution_count": 109,
   "id": "5a342729",
   "metadata": {},
   "outputs": [
    {
     "data": {
      "text/html": [
       "<table class=\"dataframe\">\n",
       "<caption>A tibble: 76046 × 9</caption>\n",
       "<thead>\n",
       "\t<tr><th scope=col>country</th><th scope=col>iso2</th><th scope=col>iso3</th><th scope=col>year</th><th scope=col>new</th><th scope=col>type</th><th scope=col>sex</th><th scope=col>age</th><th scope=col>value</th></tr>\n",
       "\t<tr><th scope=col>&lt;chr&gt;</th><th scope=col>&lt;chr&gt;</th><th scope=col>&lt;chr&gt;</th><th scope=col>&lt;dbl&gt;</th><th scope=col>&lt;chr&gt;</th><th scope=col>&lt;chr&gt;</th><th scope=col>&lt;chr&gt;</th><th scope=col>&lt;chr&gt;</th><th scope=col>&lt;dbl&gt;</th></tr>\n",
       "</thead>\n",
       "<tbody>\n",
       "\t<tr><td>Afghanistan</td><td>AF</td><td>AFG</td><td>1997</td><td>new</td><td>sp</td><td>m</td><td>014</td><td>  0</td></tr>\n",
       "\t<tr><td>Afghanistan</td><td>AF</td><td>AFG</td><td>1998</td><td>new</td><td>sp</td><td>m</td><td>014</td><td> 30</td></tr>\n",
       "\t<tr><td>Afghanistan</td><td>AF</td><td>AFG</td><td>1999</td><td>new</td><td>sp</td><td>m</td><td>014</td><td>  8</td></tr>\n",
       "\t<tr><td>Afghanistan</td><td>AF</td><td>AFG</td><td>2000</td><td>new</td><td>sp</td><td>m</td><td>014</td><td> 52</td></tr>\n",
       "\t<tr><td>Afghanistan</td><td>AF</td><td>AFG</td><td>2001</td><td>new</td><td>sp</td><td>m</td><td>014</td><td>129</td></tr>\n",
       "\t<tr><td>Afghanistan</td><td>AF</td><td>AFG</td><td>2002</td><td>new</td><td>sp</td><td>m</td><td>014</td><td> 90</td></tr>\n",
       "\t<tr><td>Afghanistan</td><td>AF</td><td>AFG</td><td>2003</td><td>new</td><td>sp</td><td>m</td><td>014</td><td>127</td></tr>\n",
       "\t<tr><td>Afghanistan</td><td>AF</td><td>AFG</td><td>2004</td><td>new</td><td>sp</td><td>m</td><td>014</td><td>139</td></tr>\n",
       "\t<tr><td>Afghanistan</td><td>AF</td><td>AFG</td><td>2005</td><td>new</td><td>sp</td><td>m</td><td>014</td><td>151</td></tr>\n",
       "\t<tr><td>Afghanistan</td><td>AF</td><td>AFG</td><td>2006</td><td>new</td><td>sp</td><td>m</td><td>014</td><td>193</td></tr>\n",
       "\t<tr><td>Afghanistan</td><td>AF</td><td>AFG</td><td>2007</td><td>new</td><td>sp</td><td>m</td><td>014</td><td>186</td></tr>\n",
       "\t<tr><td>Afghanistan</td><td>AF</td><td>AFG</td><td>2008</td><td>new</td><td>sp</td><td>m</td><td>014</td><td>187</td></tr>\n",
       "\t<tr><td>Afghanistan</td><td>AF</td><td>AFG</td><td>2009</td><td>new</td><td>sp</td><td>m</td><td>014</td><td>200</td></tr>\n",
       "\t<tr><td>Afghanistan</td><td>AF</td><td>AFG</td><td>2010</td><td>new</td><td>sp</td><td>m</td><td>014</td><td>197</td></tr>\n",
       "\t<tr><td>Afghanistan</td><td>AF</td><td>AFG</td><td>2011</td><td>new</td><td>sp</td><td>m</td><td>014</td><td>204</td></tr>\n",
       "\t<tr><td>Afghanistan</td><td>AF</td><td>AFG</td><td>2012</td><td>new</td><td>sp</td><td>m</td><td>014</td><td>188</td></tr>\n",
       "\t<tr><td>Albania    </td><td>AL</td><td>ALB</td><td>1995</td><td>new</td><td>sp</td><td>m</td><td>014</td><td>  0</td></tr>\n",
       "\t<tr><td>Albania    </td><td>AL</td><td>ALB</td><td>1997</td><td>new</td><td>sp</td><td>m</td><td>014</td><td>  0</td></tr>\n",
       "\t<tr><td>Albania    </td><td>AL</td><td>ALB</td><td>1998</td><td>new</td><td>sp</td><td>m</td><td>014</td><td>  1</td></tr>\n",
       "\t<tr><td>Albania    </td><td>AL</td><td>ALB</td><td>1999</td><td>new</td><td>sp</td><td>m</td><td>014</td><td>  0</td></tr>\n",
       "\t<tr><td>Albania    </td><td>AL</td><td>ALB</td><td>2000</td><td>new</td><td>sp</td><td>m</td><td>014</td><td>  2</td></tr>\n",
       "\t<tr><td>Albania    </td><td>AL</td><td>ALB</td><td>2001</td><td>new</td><td>sp</td><td>m</td><td>014</td><td>  3</td></tr>\n",
       "\t<tr><td>Albania    </td><td>AL</td><td>ALB</td><td>2002</td><td>new</td><td>sp</td><td>m</td><td>014</td><td>  0</td></tr>\n",
       "\t<tr><td>Albania    </td><td>AL</td><td>ALB</td><td>2003</td><td>new</td><td>sp</td><td>m</td><td>014</td><td>  0</td></tr>\n",
       "\t<tr><td>Albania    </td><td>AL</td><td>ALB</td><td>2004</td><td>new</td><td>sp</td><td>m</td><td>014</td><td>  5</td></tr>\n",
       "\t<tr><td>Albania    </td><td>AL</td><td>ALB</td><td>2005</td><td>new</td><td>sp</td><td>m</td><td>014</td><td>  0</td></tr>\n",
       "\t<tr><td>Albania    </td><td>AL</td><td>ALB</td><td>2006</td><td>new</td><td>sp</td><td>m</td><td>014</td><td>  5</td></tr>\n",
       "\t<tr><td>Albania    </td><td>AL</td><td>ALB</td><td>2007</td><td>new</td><td>sp</td><td>m</td><td>014</td><td>  0</td></tr>\n",
       "\t<tr><td>Albania    </td><td>AL</td><td>ALB</td><td>2008</td><td>new</td><td>sp</td><td>m</td><td>014</td><td>  1</td></tr>\n",
       "\t<tr><td>Albania    </td><td>AL</td><td>ALB</td><td>2009</td><td>new</td><td>sp</td><td>m</td><td>014</td><td>  0</td></tr>\n",
       "\t<tr><td>⋮</td><td>⋮</td><td>⋮</td><td>⋮</td><td>⋮</td><td>⋮</td><td>⋮</td><td>⋮</td><td>⋮</td></tr>\n",
       "\t<tr><td>Spain                                               </td><td>ES</td><td>ESP</td><td>2013</td><td>new</td><td>rel</td><td>f</td><td>65</td><td> 427</td></tr>\n",
       "\t<tr><td>Sri Lanka                                           </td><td>LK</td><td>LKA</td><td>2013</td><td>new</td><td>rel</td><td>f</td><td>65</td><td> 418</td></tr>\n",
       "\t<tr><td>Suriname                                            </td><td>SR</td><td>SUR</td><td>2013</td><td>new</td><td>rel</td><td>f</td><td>65</td><td>   1</td></tr>\n",
       "\t<tr><td>Swaziland                                           </td><td>SZ</td><td>SWZ</td><td>2013</td><td>new</td><td>rel</td><td>f</td><td>65</td><td> 113</td></tr>\n",
       "\t<tr><td>Sweden                                              </td><td>SE</td><td>SWE</td><td>2013</td><td>new</td><td>rel</td><td>f</td><td>65</td><td>  30</td></tr>\n",
       "\t<tr><td>Switzerland                                         </td><td>CH</td><td>CHE</td><td>2013</td><td>new</td><td>rel</td><td>f</td><td>65</td><td>  37</td></tr>\n",
       "\t<tr><td>Syrian Arab Republic                                </td><td>SY</td><td>SYR</td><td>2013</td><td>new</td><td>rel</td><td>f</td><td>65</td><td>  80</td></tr>\n",
       "\t<tr><td>Tajikistan                                          </td><td>TJ</td><td>TJK</td><td>2013</td><td>new</td><td>rel</td><td>f</td><td>65</td><td> 165</td></tr>\n",
       "\t<tr><td>The Former Yugoslav Republic of Macedonia           </td><td>MK</td><td>MKD</td><td>2013</td><td>new</td><td>rel</td><td>f</td><td>65</td><td>  20</td></tr>\n",
       "\t<tr><td>Togo                                                </td><td>TG</td><td>TGO</td><td>2013</td><td>new</td><td>rel</td><td>f</td><td>65</td><td>  53</td></tr>\n",
       "\t<tr><td>Tokelau                                             </td><td>TK</td><td>TKL</td><td>2013</td><td>new</td><td>rel</td><td>f</td><td>65</td><td>   0</td></tr>\n",
       "\t<tr><td>Tonga                                               </td><td>TO</td><td>TON</td><td>2013</td><td>new</td><td>rel</td><td>f</td><td>65</td><td>   2</td></tr>\n",
       "\t<tr><td>Trinidad and Tobago                                 </td><td>TT</td><td>TTO</td><td>2013</td><td>new</td><td>rel</td><td>f</td><td>65</td><td>  10</td></tr>\n",
       "\t<tr><td>Tunisia                                             </td><td>TN</td><td>TUN</td><td>2013</td><td>new</td><td>rel</td><td>f</td><td>65</td><td> 171</td></tr>\n",
       "\t<tr><td>Turkey                                              </td><td>TR</td><td>TUR</td><td>2013</td><td>new</td><td>rel</td><td>f</td><td>65</td><td> 960</td></tr>\n",
       "\t<tr><td>Tuvalu                                              </td><td>TV</td><td>TUV</td><td>2013</td><td>new</td><td>rel</td><td>f</td><td>65</td><td>   0</td></tr>\n",
       "\t<tr><td>Uganda                                              </td><td>UG</td><td>UGA</td><td>2013</td><td>new</td><td>rel</td><td>f</td><td>65</td><td> 341</td></tr>\n",
       "\t<tr><td>Ukraine                                             </td><td>UA</td><td>UKR</td><td>2013</td><td>new</td><td>rel</td><td>f</td><td>65</td><td>1241</td></tr>\n",
       "\t<tr><td>United Arab Emirates                                </td><td>AE</td><td>ARE</td><td>2013</td><td>new</td><td>rel</td><td>f</td><td>65</td><td>   6</td></tr>\n",
       "\t<tr><td>United Kingdom of Great Britain and Northern Ireland</td><td>GB</td><td>GBR</td><td>2013</td><td>new</td><td>rel</td><td>f</td><td>65</td><td> 462</td></tr>\n",
       "\t<tr><td>United States of America                            </td><td>US</td><td>USA</td><td>2013</td><td>new</td><td>rel</td><td>f</td><td>65</td><td> 786</td></tr>\n",
       "\t<tr><td>Uruguay                                             </td><td>UY</td><td>URY</td><td>2013</td><td>new</td><td>rel</td><td>f</td><td>65</td><td>  35</td></tr>\n",
       "\t<tr><td>Uzbekistan                                          </td><td>UZ</td><td>UZB</td><td>2013</td><td>new</td><td>rel</td><td>f</td><td>65</td><td>1120</td></tr>\n",
       "\t<tr><td>Vanuatu                                             </td><td>VU</td><td>VUT</td><td>2013</td><td>new</td><td>rel</td><td>f</td><td>65</td><td>   7</td></tr>\n",
       "\t<tr><td>Venezuela (Bolivarian Republic of)                  </td><td>VE</td><td>VEN</td><td>2013</td><td>new</td><td>rel</td><td>f</td><td>65</td><td> 402</td></tr>\n",
       "\t<tr><td>Viet Nam                                            </td><td>VN</td><td>VNM</td><td>2013</td><td>new</td><td>rel</td><td>f</td><td>65</td><td>3110</td></tr>\n",
       "\t<tr><td>Wallis and Futuna Islands                           </td><td>WF</td><td>WLF</td><td>2013</td><td>new</td><td>rel</td><td>f</td><td>65</td><td>   2</td></tr>\n",
       "\t<tr><td>Yemen                                               </td><td>YE</td><td>YEM</td><td>2013</td><td>new</td><td>rel</td><td>f</td><td>65</td><td> 360</td></tr>\n",
       "\t<tr><td>Zambia                                              </td><td>ZM</td><td>ZMB</td><td>2013</td><td>new</td><td>rel</td><td>f</td><td>65</td><td> 669</td></tr>\n",
       "\t<tr><td>Zimbabwe                                            </td><td>ZW</td><td>ZWE</td><td>2013</td><td>new</td><td>rel</td><td>f</td><td>65</td><td> 725</td></tr>\n",
       "</tbody>\n",
       "</table>\n"
      ],
      "text/latex": [
       "A tibble: 76046 × 9\n",
       "\\begin{tabular}{lllllllll}\n",
       " country & iso2 & iso3 & year & new & type & sex & age & value\\\\\n",
       " <chr> & <chr> & <chr> & <dbl> & <chr> & <chr> & <chr> & <chr> & <dbl>\\\\\n",
       "\\hline\n",
       "\t Afghanistan & AF & AFG & 1997 & new & sp & m & 014 &   0\\\\\n",
       "\t Afghanistan & AF & AFG & 1998 & new & sp & m & 014 &  30\\\\\n",
       "\t Afghanistan & AF & AFG & 1999 & new & sp & m & 014 &   8\\\\\n",
       "\t Afghanistan & AF & AFG & 2000 & new & sp & m & 014 &  52\\\\\n",
       "\t Afghanistan & AF & AFG & 2001 & new & sp & m & 014 & 129\\\\\n",
       "\t Afghanistan & AF & AFG & 2002 & new & sp & m & 014 &  90\\\\\n",
       "\t Afghanistan & AF & AFG & 2003 & new & sp & m & 014 & 127\\\\\n",
       "\t Afghanistan & AF & AFG & 2004 & new & sp & m & 014 & 139\\\\\n",
       "\t Afghanistan & AF & AFG & 2005 & new & sp & m & 014 & 151\\\\\n",
       "\t Afghanistan & AF & AFG & 2006 & new & sp & m & 014 & 193\\\\\n",
       "\t Afghanistan & AF & AFG & 2007 & new & sp & m & 014 & 186\\\\\n",
       "\t Afghanistan & AF & AFG & 2008 & new & sp & m & 014 & 187\\\\\n",
       "\t Afghanistan & AF & AFG & 2009 & new & sp & m & 014 & 200\\\\\n",
       "\t Afghanistan & AF & AFG & 2010 & new & sp & m & 014 & 197\\\\\n",
       "\t Afghanistan & AF & AFG & 2011 & new & sp & m & 014 & 204\\\\\n",
       "\t Afghanistan & AF & AFG & 2012 & new & sp & m & 014 & 188\\\\\n",
       "\t Albania     & AL & ALB & 1995 & new & sp & m & 014 &   0\\\\\n",
       "\t Albania     & AL & ALB & 1997 & new & sp & m & 014 &   0\\\\\n",
       "\t Albania     & AL & ALB & 1998 & new & sp & m & 014 &   1\\\\\n",
       "\t Albania     & AL & ALB & 1999 & new & sp & m & 014 &   0\\\\\n",
       "\t Albania     & AL & ALB & 2000 & new & sp & m & 014 &   2\\\\\n",
       "\t Albania     & AL & ALB & 2001 & new & sp & m & 014 &   3\\\\\n",
       "\t Albania     & AL & ALB & 2002 & new & sp & m & 014 &   0\\\\\n",
       "\t Albania     & AL & ALB & 2003 & new & sp & m & 014 &   0\\\\\n",
       "\t Albania     & AL & ALB & 2004 & new & sp & m & 014 &   5\\\\\n",
       "\t Albania     & AL & ALB & 2005 & new & sp & m & 014 &   0\\\\\n",
       "\t Albania     & AL & ALB & 2006 & new & sp & m & 014 &   5\\\\\n",
       "\t Albania     & AL & ALB & 2007 & new & sp & m & 014 &   0\\\\\n",
       "\t Albania     & AL & ALB & 2008 & new & sp & m & 014 &   1\\\\\n",
       "\t Albania     & AL & ALB & 2009 & new & sp & m & 014 &   0\\\\\n",
       "\t ⋮ & ⋮ & ⋮ & ⋮ & ⋮ & ⋮ & ⋮ & ⋮ & ⋮\\\\\n",
       "\t Spain                                                & ES & ESP & 2013 & new & rel & f & 65 &  427\\\\\n",
       "\t Sri Lanka                                            & LK & LKA & 2013 & new & rel & f & 65 &  418\\\\\n",
       "\t Suriname                                             & SR & SUR & 2013 & new & rel & f & 65 &    1\\\\\n",
       "\t Swaziland                                            & SZ & SWZ & 2013 & new & rel & f & 65 &  113\\\\\n",
       "\t Sweden                                               & SE & SWE & 2013 & new & rel & f & 65 &   30\\\\\n",
       "\t Switzerland                                          & CH & CHE & 2013 & new & rel & f & 65 &   37\\\\\n",
       "\t Syrian Arab Republic                                 & SY & SYR & 2013 & new & rel & f & 65 &   80\\\\\n",
       "\t Tajikistan                                           & TJ & TJK & 2013 & new & rel & f & 65 &  165\\\\\n",
       "\t The Former Yugoslav Republic of Macedonia            & MK & MKD & 2013 & new & rel & f & 65 &   20\\\\\n",
       "\t Togo                                                 & TG & TGO & 2013 & new & rel & f & 65 &   53\\\\\n",
       "\t Tokelau                                              & TK & TKL & 2013 & new & rel & f & 65 &    0\\\\\n",
       "\t Tonga                                                & TO & TON & 2013 & new & rel & f & 65 &    2\\\\\n",
       "\t Trinidad and Tobago                                  & TT & TTO & 2013 & new & rel & f & 65 &   10\\\\\n",
       "\t Tunisia                                              & TN & TUN & 2013 & new & rel & f & 65 &  171\\\\\n",
       "\t Turkey                                               & TR & TUR & 2013 & new & rel & f & 65 &  960\\\\\n",
       "\t Tuvalu                                               & TV & TUV & 2013 & new & rel & f & 65 &    0\\\\\n",
       "\t Uganda                                               & UG & UGA & 2013 & new & rel & f & 65 &  341\\\\\n",
       "\t Ukraine                                              & UA & UKR & 2013 & new & rel & f & 65 & 1241\\\\\n",
       "\t United Arab Emirates                                 & AE & ARE & 2013 & new & rel & f & 65 &    6\\\\\n",
       "\t United Kingdom of Great Britain and Northern Ireland & GB & GBR & 2013 & new & rel & f & 65 &  462\\\\\n",
       "\t United States of America                             & US & USA & 2013 & new & rel & f & 65 &  786\\\\\n",
       "\t Uruguay                                              & UY & URY & 2013 & new & rel & f & 65 &   35\\\\\n",
       "\t Uzbekistan                                           & UZ & UZB & 2013 & new & rel & f & 65 & 1120\\\\\n",
       "\t Vanuatu                                              & VU & VUT & 2013 & new & rel & f & 65 &    7\\\\\n",
       "\t Venezuela (Bolivarian Republic of)                   & VE & VEN & 2013 & new & rel & f & 65 &  402\\\\\n",
       "\t Viet Nam                                             & VN & VNM & 2013 & new & rel & f & 65 & 3110\\\\\n",
       "\t Wallis and Futuna Islands                            & WF & WLF & 2013 & new & rel & f & 65 &    2\\\\\n",
       "\t Yemen                                                & YE & YEM & 2013 & new & rel & f & 65 &  360\\\\\n",
       "\t Zambia                                               & ZM & ZMB & 2013 & new & rel & f & 65 &  669\\\\\n",
       "\t Zimbabwe                                             & ZW & ZWE & 2013 & new & rel & f & 65 &  725\\\\\n",
       "\\end{tabular}\n"
      ],
      "text/markdown": [
       "\n",
       "A tibble: 76046 × 9\n",
       "\n",
       "| country &lt;chr&gt; | iso2 &lt;chr&gt; | iso3 &lt;chr&gt; | year &lt;dbl&gt; | new &lt;chr&gt; | type &lt;chr&gt; | sex &lt;chr&gt; | age &lt;chr&gt; | value &lt;dbl&gt; |\n",
       "|---|---|---|---|---|---|---|---|---|\n",
       "| Afghanistan | AF | AFG | 1997 | new | sp | m | 014 |   0 |\n",
       "| Afghanistan | AF | AFG | 1998 | new | sp | m | 014 |  30 |\n",
       "| Afghanistan | AF | AFG | 1999 | new | sp | m | 014 |   8 |\n",
       "| Afghanistan | AF | AFG | 2000 | new | sp | m | 014 |  52 |\n",
       "| Afghanistan | AF | AFG | 2001 | new | sp | m | 014 | 129 |\n",
       "| Afghanistan | AF | AFG | 2002 | new | sp | m | 014 |  90 |\n",
       "| Afghanistan | AF | AFG | 2003 | new | sp | m | 014 | 127 |\n",
       "| Afghanistan | AF | AFG | 2004 | new | sp | m | 014 | 139 |\n",
       "| Afghanistan | AF | AFG | 2005 | new | sp | m | 014 | 151 |\n",
       "| Afghanistan | AF | AFG | 2006 | new | sp | m | 014 | 193 |\n",
       "| Afghanistan | AF | AFG | 2007 | new | sp | m | 014 | 186 |\n",
       "| Afghanistan | AF | AFG | 2008 | new | sp | m | 014 | 187 |\n",
       "| Afghanistan | AF | AFG | 2009 | new | sp | m | 014 | 200 |\n",
       "| Afghanistan | AF | AFG | 2010 | new | sp | m | 014 | 197 |\n",
       "| Afghanistan | AF | AFG | 2011 | new | sp | m | 014 | 204 |\n",
       "| Afghanistan | AF | AFG | 2012 | new | sp | m | 014 | 188 |\n",
       "| Albania     | AL | ALB | 1995 | new | sp | m | 014 |   0 |\n",
       "| Albania     | AL | ALB | 1997 | new | sp | m | 014 |   0 |\n",
       "| Albania     | AL | ALB | 1998 | new | sp | m | 014 |   1 |\n",
       "| Albania     | AL | ALB | 1999 | new | sp | m | 014 |   0 |\n",
       "| Albania     | AL | ALB | 2000 | new | sp | m | 014 |   2 |\n",
       "| Albania     | AL | ALB | 2001 | new | sp | m | 014 |   3 |\n",
       "| Albania     | AL | ALB | 2002 | new | sp | m | 014 |   0 |\n",
       "| Albania     | AL | ALB | 2003 | new | sp | m | 014 |   0 |\n",
       "| Albania     | AL | ALB | 2004 | new | sp | m | 014 |   5 |\n",
       "| Albania     | AL | ALB | 2005 | new | sp | m | 014 |   0 |\n",
       "| Albania     | AL | ALB | 2006 | new | sp | m | 014 |   5 |\n",
       "| Albania     | AL | ALB | 2007 | new | sp | m | 014 |   0 |\n",
       "| Albania     | AL | ALB | 2008 | new | sp | m | 014 |   1 |\n",
       "| Albania     | AL | ALB | 2009 | new | sp | m | 014 |   0 |\n",
       "| ⋮ | ⋮ | ⋮ | ⋮ | ⋮ | ⋮ | ⋮ | ⋮ | ⋮ |\n",
       "| Spain                                                | ES | ESP | 2013 | new | rel | f | 65 |  427 |\n",
       "| Sri Lanka                                            | LK | LKA | 2013 | new | rel | f | 65 |  418 |\n",
       "| Suriname                                             | SR | SUR | 2013 | new | rel | f | 65 |    1 |\n",
       "| Swaziland                                            | SZ | SWZ | 2013 | new | rel | f | 65 |  113 |\n",
       "| Sweden                                               | SE | SWE | 2013 | new | rel | f | 65 |   30 |\n",
       "| Switzerland                                          | CH | CHE | 2013 | new | rel | f | 65 |   37 |\n",
       "| Syrian Arab Republic                                 | SY | SYR | 2013 | new | rel | f | 65 |   80 |\n",
       "| Tajikistan                                           | TJ | TJK | 2013 | new | rel | f | 65 |  165 |\n",
       "| The Former Yugoslav Republic of Macedonia            | MK | MKD | 2013 | new | rel | f | 65 |   20 |\n",
       "| Togo                                                 | TG | TGO | 2013 | new | rel | f | 65 |   53 |\n",
       "| Tokelau                                              | TK | TKL | 2013 | new | rel | f | 65 |    0 |\n",
       "| Tonga                                                | TO | TON | 2013 | new | rel | f | 65 |    2 |\n",
       "| Trinidad and Tobago                                  | TT | TTO | 2013 | new | rel | f | 65 |   10 |\n",
       "| Tunisia                                              | TN | TUN | 2013 | new | rel | f | 65 |  171 |\n",
       "| Turkey                                               | TR | TUR | 2013 | new | rel | f | 65 |  960 |\n",
       "| Tuvalu                                               | TV | TUV | 2013 | new | rel | f | 65 |    0 |\n",
       "| Uganda                                               | UG | UGA | 2013 | new | rel | f | 65 |  341 |\n",
       "| Ukraine                                              | UA | UKR | 2013 | new | rel | f | 65 | 1241 |\n",
       "| United Arab Emirates                                 | AE | ARE | 2013 | new | rel | f | 65 |    6 |\n",
       "| United Kingdom of Great Britain and Northern Ireland | GB | GBR | 2013 | new | rel | f | 65 |  462 |\n",
       "| United States of America                             | US | USA | 2013 | new | rel | f | 65 |  786 |\n",
       "| Uruguay                                              | UY | URY | 2013 | new | rel | f | 65 |   35 |\n",
       "| Uzbekistan                                           | UZ | UZB | 2013 | new | rel | f | 65 | 1120 |\n",
       "| Vanuatu                                              | VU | VUT | 2013 | new | rel | f | 65 |    7 |\n",
       "| Venezuela (Bolivarian Republic of)                   | VE | VEN | 2013 | new | rel | f | 65 |  402 |\n",
       "| Viet Nam                                             | VN | VNM | 2013 | new | rel | f | 65 | 3110 |\n",
       "| Wallis and Futuna Islands                            | WF | WLF | 2013 | new | rel | f | 65 |    2 |\n",
       "| Yemen                                                | YE | YEM | 2013 | new | rel | f | 65 |  360 |\n",
       "| Zambia                                               | ZM | ZMB | 2013 | new | rel | f | 65 |  669 |\n",
       "| Zimbabwe                                             | ZW | ZWE | 2013 | new | rel | f | 65 |  725 |\n",
       "\n"
      ],
      "text/plain": [
       "      country                                              iso2 iso3 year new\n",
       "1     Afghanistan                                          AF   AFG  1997 new\n",
       "2     Afghanistan                                          AF   AFG  1998 new\n",
       "3     Afghanistan                                          AF   AFG  1999 new\n",
       "4     Afghanistan                                          AF   AFG  2000 new\n",
       "5     Afghanistan                                          AF   AFG  2001 new\n",
       "6     Afghanistan                                          AF   AFG  2002 new\n",
       "7     Afghanistan                                          AF   AFG  2003 new\n",
       "8     Afghanistan                                          AF   AFG  2004 new\n",
       "9     Afghanistan                                          AF   AFG  2005 new\n",
       "10    Afghanistan                                          AF   AFG  2006 new\n",
       "11    Afghanistan                                          AF   AFG  2007 new\n",
       "12    Afghanistan                                          AF   AFG  2008 new\n",
       "13    Afghanistan                                          AF   AFG  2009 new\n",
       "14    Afghanistan                                          AF   AFG  2010 new\n",
       "15    Afghanistan                                          AF   AFG  2011 new\n",
       "16    Afghanistan                                          AF   AFG  2012 new\n",
       "17    Albania                                              AL   ALB  1995 new\n",
       "18    Albania                                              AL   ALB  1997 new\n",
       "19    Albania                                              AL   ALB  1998 new\n",
       "20    Albania                                              AL   ALB  1999 new\n",
       "21    Albania                                              AL   ALB  2000 new\n",
       "22    Albania                                              AL   ALB  2001 new\n",
       "23    Albania                                              AL   ALB  2002 new\n",
       "24    Albania                                              AL   ALB  2003 new\n",
       "25    Albania                                              AL   ALB  2004 new\n",
       "26    Albania                                              AL   ALB  2005 new\n",
       "27    Albania                                              AL   ALB  2006 new\n",
       "28    Albania                                              AL   ALB  2007 new\n",
       "29    Albania                                              AL   ALB  2008 new\n",
       "30    Albania                                              AL   ALB  2009 new\n",
       "⋮     ⋮                                                    ⋮    ⋮    ⋮    ⋮  \n",
       "76017 Spain                                                ES   ESP  2013 new\n",
       "76018 Sri Lanka                                            LK   LKA  2013 new\n",
       "76019 Suriname                                             SR   SUR  2013 new\n",
       "76020 Swaziland                                            SZ   SWZ  2013 new\n",
       "76021 Sweden                                               SE   SWE  2013 new\n",
       "76022 Switzerland                                          CH   CHE  2013 new\n",
       "76023 Syrian Arab Republic                                 SY   SYR  2013 new\n",
       "76024 Tajikistan                                           TJ   TJK  2013 new\n",
       "76025 The Former Yugoslav Republic of Macedonia            MK   MKD  2013 new\n",
       "76026 Togo                                                 TG   TGO  2013 new\n",
       "76027 Tokelau                                              TK   TKL  2013 new\n",
       "76028 Tonga                                                TO   TON  2013 new\n",
       "76029 Trinidad and Tobago                                  TT   TTO  2013 new\n",
       "76030 Tunisia                                              TN   TUN  2013 new\n",
       "76031 Turkey                                               TR   TUR  2013 new\n",
       "76032 Tuvalu                                               TV   TUV  2013 new\n",
       "76033 Uganda                                               UG   UGA  2013 new\n",
       "76034 Ukraine                                              UA   UKR  2013 new\n",
       "76035 United Arab Emirates                                 AE   ARE  2013 new\n",
       "76036 United Kingdom of Great Britain and Northern Ireland GB   GBR  2013 new\n",
       "76037 United States of America                             US   USA  2013 new\n",
       "76038 Uruguay                                              UY   URY  2013 new\n",
       "76039 Uzbekistan                                           UZ   UZB  2013 new\n",
       "76040 Vanuatu                                              VU   VUT  2013 new\n",
       "76041 Venezuela (Bolivarian Republic of)                   VE   VEN  2013 new\n",
       "76042 Viet Nam                                             VN   VNM  2013 new\n",
       "76043 Wallis and Futuna Islands                            WF   WLF  2013 new\n",
       "76044 Yemen                                                YE   YEM  2013 new\n",
       "76045 Zambia                                               ZM   ZMB  2013 new\n",
       "76046 Zimbabwe                                             ZW   ZWE  2013 new\n",
       "      type sex age value\n",
       "1     sp   m   014   0  \n",
       "2     sp   m   014  30  \n",
       "3     sp   m   014   8  \n",
       "4     sp   m   014  52  \n",
       "5     sp   m   014 129  \n",
       "6     sp   m   014  90  \n",
       "7     sp   m   014 127  \n",
       "8     sp   m   014 139  \n",
       "9     sp   m   014 151  \n",
       "10    sp   m   014 193  \n",
       "11    sp   m   014 186  \n",
       "12    sp   m   014 187  \n",
       "13    sp   m   014 200  \n",
       "14    sp   m   014 197  \n",
       "15    sp   m   014 204  \n",
       "16    sp   m   014 188  \n",
       "17    sp   m   014   0  \n",
       "18    sp   m   014   0  \n",
       "19    sp   m   014   1  \n",
       "20    sp   m   014   0  \n",
       "21    sp   m   014   2  \n",
       "22    sp   m   014   3  \n",
       "23    sp   m   014   0  \n",
       "24    sp   m   014   0  \n",
       "25    sp   m   014   5  \n",
       "26    sp   m   014   0  \n",
       "27    sp   m   014   5  \n",
       "28    sp   m   014   0  \n",
       "29    sp   m   014   1  \n",
       "30    sp   m   014   0  \n",
       "⋮     ⋮    ⋮   ⋮   ⋮    \n",
       "76017 rel  f   65   427 \n",
       "76018 rel  f   65   418 \n",
       "76019 rel  f   65     1 \n",
       "76020 rel  f   65   113 \n",
       "76021 rel  f   65    30 \n",
       "76022 rel  f   65    37 \n",
       "76023 rel  f   65    80 \n",
       "76024 rel  f   65   165 \n",
       "76025 rel  f   65    20 \n",
       "76026 rel  f   65    53 \n",
       "76027 rel  f   65     0 \n",
       "76028 rel  f   65     2 \n",
       "76029 rel  f   65    10 \n",
       "76030 rel  f   65   171 \n",
       "76031 rel  f   65   960 \n",
       "76032 rel  f   65     0 \n",
       "76033 rel  f   65   341 \n",
       "76034 rel  f   65  1241 \n",
       "76035 rel  f   65     6 \n",
       "76036 rel  f   65   462 \n",
       "76037 rel  f   65   786 \n",
       "76038 rel  f   65    35 \n",
       "76039 rel  f   65  1120 \n",
       "76040 rel  f   65     7 \n",
       "76041 rel  f   65   402 \n",
       "76042 rel  f   65  3110 \n",
       "76043 rel  f   65     2 \n",
       "76044 rel  f   65   360 \n",
       "76045 rel  f   65   669 \n",
       "76046 rel  f   65   725 "
      ]
     },
     "metadata": {},
     "output_type": "display_data"
    }
   ],
   "source": [
    "df %>% gather(new_sp_m014:newrel_f65,key=\"key\",value = \"value\",\n",
    "        na.rm=T) %>% \n",
    "        mutate(key=str_replace(key,\"newrel\",\"new_rel\")) %>%\n",
    "        separate(col = key,into=c(\"new\",\"type\",\"sexage\"),sep=\"_\")%>%\n",
    "        separate(col=sexage,into=c(\"sex\",\"age\"),sep=1)"
   ]
  },
  {
   "cell_type": "code",
   "execution_count": 110,
   "id": "7e2aee84",
   "metadata": {},
   "outputs": [
    {
     "data": {
      "text/html": [
       "<table class=\"dataframe\">\n",
       "<caption>A tibble: 76046 × 6</caption>\n",
       "<thead>\n",
       "\t<tr><th scope=col>country</th><th scope=col>year</th><th scope=col>type</th><th scope=col>sex</th><th scope=col>age</th><th scope=col>value</th></tr>\n",
       "\t<tr><th scope=col>&lt;chr&gt;</th><th scope=col>&lt;dbl&gt;</th><th scope=col>&lt;chr&gt;</th><th scope=col>&lt;chr&gt;</th><th scope=col>&lt;chr&gt;</th><th scope=col>&lt;dbl&gt;</th></tr>\n",
       "</thead>\n",
       "<tbody>\n",
       "\t<tr><td>Afghanistan</td><td>1997</td><td>sp</td><td>m</td><td>014</td><td>  0</td></tr>\n",
       "\t<tr><td>Afghanistan</td><td>1998</td><td>sp</td><td>m</td><td>014</td><td> 30</td></tr>\n",
       "\t<tr><td>Afghanistan</td><td>1999</td><td>sp</td><td>m</td><td>014</td><td>  8</td></tr>\n",
       "\t<tr><td>Afghanistan</td><td>2000</td><td>sp</td><td>m</td><td>014</td><td> 52</td></tr>\n",
       "\t<tr><td>Afghanistan</td><td>2001</td><td>sp</td><td>m</td><td>014</td><td>129</td></tr>\n",
       "\t<tr><td>Afghanistan</td><td>2002</td><td>sp</td><td>m</td><td>014</td><td> 90</td></tr>\n",
       "\t<tr><td>Afghanistan</td><td>2003</td><td>sp</td><td>m</td><td>014</td><td>127</td></tr>\n",
       "\t<tr><td>Afghanistan</td><td>2004</td><td>sp</td><td>m</td><td>014</td><td>139</td></tr>\n",
       "\t<tr><td>Afghanistan</td><td>2005</td><td>sp</td><td>m</td><td>014</td><td>151</td></tr>\n",
       "\t<tr><td>Afghanistan</td><td>2006</td><td>sp</td><td>m</td><td>014</td><td>193</td></tr>\n",
       "\t<tr><td>Afghanistan</td><td>2007</td><td>sp</td><td>m</td><td>014</td><td>186</td></tr>\n",
       "\t<tr><td>Afghanistan</td><td>2008</td><td>sp</td><td>m</td><td>014</td><td>187</td></tr>\n",
       "\t<tr><td>Afghanistan</td><td>2009</td><td>sp</td><td>m</td><td>014</td><td>200</td></tr>\n",
       "\t<tr><td>Afghanistan</td><td>2010</td><td>sp</td><td>m</td><td>014</td><td>197</td></tr>\n",
       "\t<tr><td>Afghanistan</td><td>2011</td><td>sp</td><td>m</td><td>014</td><td>204</td></tr>\n",
       "\t<tr><td>Afghanistan</td><td>2012</td><td>sp</td><td>m</td><td>014</td><td>188</td></tr>\n",
       "\t<tr><td>Albania    </td><td>1995</td><td>sp</td><td>m</td><td>014</td><td>  0</td></tr>\n",
       "\t<tr><td>Albania    </td><td>1997</td><td>sp</td><td>m</td><td>014</td><td>  0</td></tr>\n",
       "\t<tr><td>Albania    </td><td>1998</td><td>sp</td><td>m</td><td>014</td><td>  1</td></tr>\n",
       "\t<tr><td>Albania    </td><td>1999</td><td>sp</td><td>m</td><td>014</td><td>  0</td></tr>\n",
       "\t<tr><td>Albania    </td><td>2000</td><td>sp</td><td>m</td><td>014</td><td>  2</td></tr>\n",
       "\t<tr><td>Albania    </td><td>2001</td><td>sp</td><td>m</td><td>014</td><td>  3</td></tr>\n",
       "\t<tr><td>Albania    </td><td>2002</td><td>sp</td><td>m</td><td>014</td><td>  0</td></tr>\n",
       "\t<tr><td>Albania    </td><td>2003</td><td>sp</td><td>m</td><td>014</td><td>  0</td></tr>\n",
       "\t<tr><td>Albania    </td><td>2004</td><td>sp</td><td>m</td><td>014</td><td>  5</td></tr>\n",
       "\t<tr><td>Albania    </td><td>2005</td><td>sp</td><td>m</td><td>014</td><td>  0</td></tr>\n",
       "\t<tr><td>Albania    </td><td>2006</td><td>sp</td><td>m</td><td>014</td><td>  5</td></tr>\n",
       "\t<tr><td>Albania    </td><td>2007</td><td>sp</td><td>m</td><td>014</td><td>  0</td></tr>\n",
       "\t<tr><td>Albania    </td><td>2008</td><td>sp</td><td>m</td><td>014</td><td>  1</td></tr>\n",
       "\t<tr><td>Albania    </td><td>2009</td><td>sp</td><td>m</td><td>014</td><td>  0</td></tr>\n",
       "\t<tr><td>⋮</td><td>⋮</td><td>⋮</td><td>⋮</td><td>⋮</td><td>⋮</td></tr>\n",
       "\t<tr><td>Spain                                               </td><td>2013</td><td>rel</td><td>f</td><td>65</td><td> 427</td></tr>\n",
       "\t<tr><td>Sri Lanka                                           </td><td>2013</td><td>rel</td><td>f</td><td>65</td><td> 418</td></tr>\n",
       "\t<tr><td>Suriname                                            </td><td>2013</td><td>rel</td><td>f</td><td>65</td><td>   1</td></tr>\n",
       "\t<tr><td>Swaziland                                           </td><td>2013</td><td>rel</td><td>f</td><td>65</td><td> 113</td></tr>\n",
       "\t<tr><td>Sweden                                              </td><td>2013</td><td>rel</td><td>f</td><td>65</td><td>  30</td></tr>\n",
       "\t<tr><td>Switzerland                                         </td><td>2013</td><td>rel</td><td>f</td><td>65</td><td>  37</td></tr>\n",
       "\t<tr><td>Syrian Arab Republic                                </td><td>2013</td><td>rel</td><td>f</td><td>65</td><td>  80</td></tr>\n",
       "\t<tr><td>Tajikistan                                          </td><td>2013</td><td>rel</td><td>f</td><td>65</td><td> 165</td></tr>\n",
       "\t<tr><td>The Former Yugoslav Republic of Macedonia           </td><td>2013</td><td>rel</td><td>f</td><td>65</td><td>  20</td></tr>\n",
       "\t<tr><td>Togo                                                </td><td>2013</td><td>rel</td><td>f</td><td>65</td><td>  53</td></tr>\n",
       "\t<tr><td>Tokelau                                             </td><td>2013</td><td>rel</td><td>f</td><td>65</td><td>   0</td></tr>\n",
       "\t<tr><td>Tonga                                               </td><td>2013</td><td>rel</td><td>f</td><td>65</td><td>   2</td></tr>\n",
       "\t<tr><td>Trinidad and Tobago                                 </td><td>2013</td><td>rel</td><td>f</td><td>65</td><td>  10</td></tr>\n",
       "\t<tr><td>Tunisia                                             </td><td>2013</td><td>rel</td><td>f</td><td>65</td><td> 171</td></tr>\n",
       "\t<tr><td>Turkey                                              </td><td>2013</td><td>rel</td><td>f</td><td>65</td><td> 960</td></tr>\n",
       "\t<tr><td>Tuvalu                                              </td><td>2013</td><td>rel</td><td>f</td><td>65</td><td>   0</td></tr>\n",
       "\t<tr><td>Uganda                                              </td><td>2013</td><td>rel</td><td>f</td><td>65</td><td> 341</td></tr>\n",
       "\t<tr><td>Ukraine                                             </td><td>2013</td><td>rel</td><td>f</td><td>65</td><td>1241</td></tr>\n",
       "\t<tr><td>United Arab Emirates                                </td><td>2013</td><td>rel</td><td>f</td><td>65</td><td>   6</td></tr>\n",
       "\t<tr><td>United Kingdom of Great Britain and Northern Ireland</td><td>2013</td><td>rel</td><td>f</td><td>65</td><td> 462</td></tr>\n",
       "\t<tr><td>United States of America                            </td><td>2013</td><td>rel</td><td>f</td><td>65</td><td> 786</td></tr>\n",
       "\t<tr><td>Uruguay                                             </td><td>2013</td><td>rel</td><td>f</td><td>65</td><td>  35</td></tr>\n",
       "\t<tr><td>Uzbekistan                                          </td><td>2013</td><td>rel</td><td>f</td><td>65</td><td>1120</td></tr>\n",
       "\t<tr><td>Vanuatu                                             </td><td>2013</td><td>rel</td><td>f</td><td>65</td><td>   7</td></tr>\n",
       "\t<tr><td>Venezuela (Bolivarian Republic of)                  </td><td>2013</td><td>rel</td><td>f</td><td>65</td><td> 402</td></tr>\n",
       "\t<tr><td>Viet Nam                                            </td><td>2013</td><td>rel</td><td>f</td><td>65</td><td>3110</td></tr>\n",
       "\t<tr><td>Wallis and Futuna Islands                           </td><td>2013</td><td>rel</td><td>f</td><td>65</td><td>   2</td></tr>\n",
       "\t<tr><td>Yemen                                               </td><td>2013</td><td>rel</td><td>f</td><td>65</td><td> 360</td></tr>\n",
       "\t<tr><td>Zambia                                              </td><td>2013</td><td>rel</td><td>f</td><td>65</td><td> 669</td></tr>\n",
       "\t<tr><td>Zimbabwe                                            </td><td>2013</td><td>rel</td><td>f</td><td>65</td><td> 725</td></tr>\n",
       "</tbody>\n",
       "</table>\n"
      ],
      "text/latex": [
       "A tibble: 76046 × 6\n",
       "\\begin{tabular}{llllll}\n",
       " country & year & type & sex & age & value\\\\\n",
       " <chr> & <dbl> & <chr> & <chr> & <chr> & <dbl>\\\\\n",
       "\\hline\n",
       "\t Afghanistan & 1997 & sp & m & 014 &   0\\\\\n",
       "\t Afghanistan & 1998 & sp & m & 014 &  30\\\\\n",
       "\t Afghanistan & 1999 & sp & m & 014 &   8\\\\\n",
       "\t Afghanistan & 2000 & sp & m & 014 &  52\\\\\n",
       "\t Afghanistan & 2001 & sp & m & 014 & 129\\\\\n",
       "\t Afghanistan & 2002 & sp & m & 014 &  90\\\\\n",
       "\t Afghanistan & 2003 & sp & m & 014 & 127\\\\\n",
       "\t Afghanistan & 2004 & sp & m & 014 & 139\\\\\n",
       "\t Afghanistan & 2005 & sp & m & 014 & 151\\\\\n",
       "\t Afghanistan & 2006 & sp & m & 014 & 193\\\\\n",
       "\t Afghanistan & 2007 & sp & m & 014 & 186\\\\\n",
       "\t Afghanistan & 2008 & sp & m & 014 & 187\\\\\n",
       "\t Afghanistan & 2009 & sp & m & 014 & 200\\\\\n",
       "\t Afghanistan & 2010 & sp & m & 014 & 197\\\\\n",
       "\t Afghanistan & 2011 & sp & m & 014 & 204\\\\\n",
       "\t Afghanistan & 2012 & sp & m & 014 & 188\\\\\n",
       "\t Albania     & 1995 & sp & m & 014 &   0\\\\\n",
       "\t Albania     & 1997 & sp & m & 014 &   0\\\\\n",
       "\t Albania     & 1998 & sp & m & 014 &   1\\\\\n",
       "\t Albania     & 1999 & sp & m & 014 &   0\\\\\n",
       "\t Albania     & 2000 & sp & m & 014 &   2\\\\\n",
       "\t Albania     & 2001 & sp & m & 014 &   3\\\\\n",
       "\t Albania     & 2002 & sp & m & 014 &   0\\\\\n",
       "\t Albania     & 2003 & sp & m & 014 &   0\\\\\n",
       "\t Albania     & 2004 & sp & m & 014 &   5\\\\\n",
       "\t Albania     & 2005 & sp & m & 014 &   0\\\\\n",
       "\t Albania     & 2006 & sp & m & 014 &   5\\\\\n",
       "\t Albania     & 2007 & sp & m & 014 &   0\\\\\n",
       "\t Albania     & 2008 & sp & m & 014 &   1\\\\\n",
       "\t Albania     & 2009 & sp & m & 014 &   0\\\\\n",
       "\t ⋮ & ⋮ & ⋮ & ⋮ & ⋮ & ⋮\\\\\n",
       "\t Spain                                                & 2013 & rel & f & 65 &  427\\\\\n",
       "\t Sri Lanka                                            & 2013 & rel & f & 65 &  418\\\\\n",
       "\t Suriname                                             & 2013 & rel & f & 65 &    1\\\\\n",
       "\t Swaziland                                            & 2013 & rel & f & 65 &  113\\\\\n",
       "\t Sweden                                               & 2013 & rel & f & 65 &   30\\\\\n",
       "\t Switzerland                                          & 2013 & rel & f & 65 &   37\\\\\n",
       "\t Syrian Arab Republic                                 & 2013 & rel & f & 65 &   80\\\\\n",
       "\t Tajikistan                                           & 2013 & rel & f & 65 &  165\\\\\n",
       "\t The Former Yugoslav Republic of Macedonia            & 2013 & rel & f & 65 &   20\\\\\n",
       "\t Togo                                                 & 2013 & rel & f & 65 &   53\\\\\n",
       "\t Tokelau                                              & 2013 & rel & f & 65 &    0\\\\\n",
       "\t Tonga                                                & 2013 & rel & f & 65 &    2\\\\\n",
       "\t Trinidad and Tobago                                  & 2013 & rel & f & 65 &   10\\\\\n",
       "\t Tunisia                                              & 2013 & rel & f & 65 &  171\\\\\n",
       "\t Turkey                                               & 2013 & rel & f & 65 &  960\\\\\n",
       "\t Tuvalu                                               & 2013 & rel & f & 65 &    0\\\\\n",
       "\t Uganda                                               & 2013 & rel & f & 65 &  341\\\\\n",
       "\t Ukraine                                              & 2013 & rel & f & 65 & 1241\\\\\n",
       "\t United Arab Emirates                                 & 2013 & rel & f & 65 &    6\\\\\n",
       "\t United Kingdom of Great Britain and Northern Ireland & 2013 & rel & f & 65 &  462\\\\\n",
       "\t United States of America                             & 2013 & rel & f & 65 &  786\\\\\n",
       "\t Uruguay                                              & 2013 & rel & f & 65 &   35\\\\\n",
       "\t Uzbekistan                                           & 2013 & rel & f & 65 & 1120\\\\\n",
       "\t Vanuatu                                              & 2013 & rel & f & 65 &    7\\\\\n",
       "\t Venezuela (Bolivarian Republic of)                   & 2013 & rel & f & 65 &  402\\\\\n",
       "\t Viet Nam                                             & 2013 & rel & f & 65 & 3110\\\\\n",
       "\t Wallis and Futuna Islands                            & 2013 & rel & f & 65 &    2\\\\\n",
       "\t Yemen                                                & 2013 & rel & f & 65 &  360\\\\\n",
       "\t Zambia                                               & 2013 & rel & f & 65 &  669\\\\\n",
       "\t Zimbabwe                                             & 2013 & rel & f & 65 &  725\\\\\n",
       "\\end{tabular}\n"
      ],
      "text/markdown": [
       "\n",
       "A tibble: 76046 × 6\n",
       "\n",
       "| country &lt;chr&gt; | year &lt;dbl&gt; | type &lt;chr&gt; | sex &lt;chr&gt; | age &lt;chr&gt; | value &lt;dbl&gt; |\n",
       "|---|---|---|---|---|---|\n",
       "| Afghanistan | 1997 | sp | m | 014 |   0 |\n",
       "| Afghanistan | 1998 | sp | m | 014 |  30 |\n",
       "| Afghanistan | 1999 | sp | m | 014 |   8 |\n",
       "| Afghanistan | 2000 | sp | m | 014 |  52 |\n",
       "| Afghanistan | 2001 | sp | m | 014 | 129 |\n",
       "| Afghanistan | 2002 | sp | m | 014 |  90 |\n",
       "| Afghanistan | 2003 | sp | m | 014 | 127 |\n",
       "| Afghanistan | 2004 | sp | m | 014 | 139 |\n",
       "| Afghanistan | 2005 | sp | m | 014 | 151 |\n",
       "| Afghanistan | 2006 | sp | m | 014 | 193 |\n",
       "| Afghanistan | 2007 | sp | m | 014 | 186 |\n",
       "| Afghanistan | 2008 | sp | m | 014 | 187 |\n",
       "| Afghanistan | 2009 | sp | m | 014 | 200 |\n",
       "| Afghanistan | 2010 | sp | m | 014 | 197 |\n",
       "| Afghanistan | 2011 | sp | m | 014 | 204 |\n",
       "| Afghanistan | 2012 | sp | m | 014 | 188 |\n",
       "| Albania     | 1995 | sp | m | 014 |   0 |\n",
       "| Albania     | 1997 | sp | m | 014 |   0 |\n",
       "| Albania     | 1998 | sp | m | 014 |   1 |\n",
       "| Albania     | 1999 | sp | m | 014 |   0 |\n",
       "| Albania     | 2000 | sp | m | 014 |   2 |\n",
       "| Albania     | 2001 | sp | m | 014 |   3 |\n",
       "| Albania     | 2002 | sp | m | 014 |   0 |\n",
       "| Albania     | 2003 | sp | m | 014 |   0 |\n",
       "| Albania     | 2004 | sp | m | 014 |   5 |\n",
       "| Albania     | 2005 | sp | m | 014 |   0 |\n",
       "| Albania     | 2006 | sp | m | 014 |   5 |\n",
       "| Albania     | 2007 | sp | m | 014 |   0 |\n",
       "| Albania     | 2008 | sp | m | 014 |   1 |\n",
       "| Albania     | 2009 | sp | m | 014 |   0 |\n",
       "| ⋮ | ⋮ | ⋮ | ⋮ | ⋮ | ⋮ |\n",
       "| Spain                                                | 2013 | rel | f | 65 |  427 |\n",
       "| Sri Lanka                                            | 2013 | rel | f | 65 |  418 |\n",
       "| Suriname                                             | 2013 | rel | f | 65 |    1 |\n",
       "| Swaziland                                            | 2013 | rel | f | 65 |  113 |\n",
       "| Sweden                                               | 2013 | rel | f | 65 |   30 |\n",
       "| Switzerland                                          | 2013 | rel | f | 65 |   37 |\n",
       "| Syrian Arab Republic                                 | 2013 | rel | f | 65 |   80 |\n",
       "| Tajikistan                                           | 2013 | rel | f | 65 |  165 |\n",
       "| The Former Yugoslav Republic of Macedonia            | 2013 | rel | f | 65 |   20 |\n",
       "| Togo                                                 | 2013 | rel | f | 65 |   53 |\n",
       "| Tokelau                                              | 2013 | rel | f | 65 |    0 |\n",
       "| Tonga                                                | 2013 | rel | f | 65 |    2 |\n",
       "| Trinidad and Tobago                                  | 2013 | rel | f | 65 |   10 |\n",
       "| Tunisia                                              | 2013 | rel | f | 65 |  171 |\n",
       "| Turkey                                               | 2013 | rel | f | 65 |  960 |\n",
       "| Tuvalu                                               | 2013 | rel | f | 65 |    0 |\n",
       "| Uganda                                               | 2013 | rel | f | 65 |  341 |\n",
       "| Ukraine                                              | 2013 | rel | f | 65 | 1241 |\n",
       "| United Arab Emirates                                 | 2013 | rel | f | 65 |    6 |\n",
       "| United Kingdom of Great Britain and Northern Ireland | 2013 | rel | f | 65 |  462 |\n",
       "| United States of America                             | 2013 | rel | f | 65 |  786 |\n",
       "| Uruguay                                              | 2013 | rel | f | 65 |   35 |\n",
       "| Uzbekistan                                           | 2013 | rel | f | 65 | 1120 |\n",
       "| Vanuatu                                              | 2013 | rel | f | 65 |    7 |\n",
       "| Venezuela (Bolivarian Republic of)                   | 2013 | rel | f | 65 |  402 |\n",
       "| Viet Nam                                             | 2013 | rel | f | 65 | 3110 |\n",
       "| Wallis and Futuna Islands                            | 2013 | rel | f | 65 |    2 |\n",
       "| Yemen                                                | 2013 | rel | f | 65 |  360 |\n",
       "| Zambia                                               | 2013 | rel | f | 65 |  669 |\n",
       "| Zimbabwe                                             | 2013 | rel | f | 65 |  725 |\n",
       "\n"
      ],
      "text/plain": [
       "      country                                              year type sex age\n",
       "1     Afghanistan                                          1997 sp   m   014\n",
       "2     Afghanistan                                          1998 sp   m   014\n",
       "3     Afghanistan                                          1999 sp   m   014\n",
       "4     Afghanistan                                          2000 sp   m   014\n",
       "5     Afghanistan                                          2001 sp   m   014\n",
       "6     Afghanistan                                          2002 sp   m   014\n",
       "7     Afghanistan                                          2003 sp   m   014\n",
       "8     Afghanistan                                          2004 sp   m   014\n",
       "9     Afghanistan                                          2005 sp   m   014\n",
       "10    Afghanistan                                          2006 sp   m   014\n",
       "11    Afghanistan                                          2007 sp   m   014\n",
       "12    Afghanistan                                          2008 sp   m   014\n",
       "13    Afghanistan                                          2009 sp   m   014\n",
       "14    Afghanistan                                          2010 sp   m   014\n",
       "15    Afghanistan                                          2011 sp   m   014\n",
       "16    Afghanistan                                          2012 sp   m   014\n",
       "17    Albania                                              1995 sp   m   014\n",
       "18    Albania                                              1997 sp   m   014\n",
       "19    Albania                                              1998 sp   m   014\n",
       "20    Albania                                              1999 sp   m   014\n",
       "21    Albania                                              2000 sp   m   014\n",
       "22    Albania                                              2001 sp   m   014\n",
       "23    Albania                                              2002 sp   m   014\n",
       "24    Albania                                              2003 sp   m   014\n",
       "25    Albania                                              2004 sp   m   014\n",
       "26    Albania                                              2005 sp   m   014\n",
       "27    Albania                                              2006 sp   m   014\n",
       "28    Albania                                              2007 sp   m   014\n",
       "29    Albania                                              2008 sp   m   014\n",
       "30    Albania                                              2009 sp   m   014\n",
       "⋮     ⋮                                                    ⋮    ⋮    ⋮   ⋮  \n",
       "76017 Spain                                                2013 rel  f   65 \n",
       "76018 Sri Lanka                                            2013 rel  f   65 \n",
       "76019 Suriname                                             2013 rel  f   65 \n",
       "76020 Swaziland                                            2013 rel  f   65 \n",
       "76021 Sweden                                               2013 rel  f   65 \n",
       "76022 Switzerland                                          2013 rel  f   65 \n",
       "76023 Syrian Arab Republic                                 2013 rel  f   65 \n",
       "76024 Tajikistan                                           2013 rel  f   65 \n",
       "76025 The Former Yugoslav Republic of Macedonia            2013 rel  f   65 \n",
       "76026 Togo                                                 2013 rel  f   65 \n",
       "76027 Tokelau                                              2013 rel  f   65 \n",
       "76028 Tonga                                                2013 rel  f   65 \n",
       "76029 Trinidad and Tobago                                  2013 rel  f   65 \n",
       "76030 Tunisia                                              2013 rel  f   65 \n",
       "76031 Turkey                                               2013 rel  f   65 \n",
       "76032 Tuvalu                                               2013 rel  f   65 \n",
       "76033 Uganda                                               2013 rel  f   65 \n",
       "76034 Ukraine                                              2013 rel  f   65 \n",
       "76035 United Arab Emirates                                 2013 rel  f   65 \n",
       "76036 United Kingdom of Great Britain and Northern Ireland 2013 rel  f   65 \n",
       "76037 United States of America                             2013 rel  f   65 \n",
       "76038 Uruguay                                              2013 rel  f   65 \n",
       "76039 Uzbekistan                                           2013 rel  f   65 \n",
       "76040 Vanuatu                                              2013 rel  f   65 \n",
       "76041 Venezuela (Bolivarian Republic of)                   2013 rel  f   65 \n",
       "76042 Viet Nam                                             2013 rel  f   65 \n",
       "76043 Wallis and Futuna Islands                            2013 rel  f   65 \n",
       "76044 Yemen                                                2013 rel  f   65 \n",
       "76045 Zambia                                               2013 rel  f   65 \n",
       "76046 Zimbabwe                                             2013 rel  f   65 \n",
       "      value\n",
       "1       0  \n",
       "2      30  \n",
       "3       8  \n",
       "4      52  \n",
       "5     129  \n",
       "6      90  \n",
       "7     127  \n",
       "8     139  \n",
       "9     151  \n",
       "10    193  \n",
       "11    186  \n",
       "12    187  \n",
       "13    200  \n",
       "14    197  \n",
       "15    204  \n",
       "16    188  \n",
       "17      0  \n",
       "18      0  \n",
       "19      1  \n",
       "20      0  \n",
       "21      2  \n",
       "22      3  \n",
       "23      0  \n",
       "24      0  \n",
       "25      5  \n",
       "26      0  \n",
       "27      5  \n",
       "28      0  \n",
       "29      1  \n",
       "30      0  \n",
       "⋮     ⋮    \n",
       "76017  427 \n",
       "76018  418 \n",
       "76019    1 \n",
       "76020  113 \n",
       "76021   30 \n",
       "76022   37 \n",
       "76023   80 \n",
       "76024  165 \n",
       "76025   20 \n",
       "76026   53 \n",
       "76027    0 \n",
       "76028    2 \n",
       "76029   10 \n",
       "76030  171 \n",
       "76031  960 \n",
       "76032    0 \n",
       "76033  341 \n",
       "76034 1241 \n",
       "76035    6 \n",
       "76036  462 \n",
       "76037  786 \n",
       "76038   35 \n",
       "76039 1120 \n",
       "76040    7 \n",
       "76041  402 \n",
       "76042 3110 \n",
       "76043    2 \n",
       "76044  360 \n",
       "76045  669 \n",
       "76046  725 "
      ]
     },
     "metadata": {},
     "output_type": "display_data"
    }
   ],
   "source": [
    "df %>% gather(new_sp_m014:newrel_f65,key=\"key\",value = \"value\",\n",
    "        na.rm=T) %>% \n",
    "        mutate(key=str_replace(key,\"newrel\",\"new_rel\")) %>%\n",
    "        separate(col = key,into=c(\"new\",\"type\",\"sexage\"),sep=\"_\")%>%\n",
    "        separate(col=sexage,into=c(\"sex\",\"age\"),sep=1) %>% \n",
    "        select(-iso2,-iso3,-new)"
   ]
  },
  {
   "cell_type": "code",
   "execution_count": 97,
   "id": "579e0515",
   "metadata": {
    "scrolled": true
   },
   "outputs": [
    {
     "data": {
      "text/html": [
       "<style>\n",
       ".list-inline {list-style: none; margin:0; padding: 0}\n",
       ".list-inline>li {display: inline-block}\n",
       ".list-inline>li:not(:last-child)::after {content: \"\\00b7\"; padding: 0 .5ex}\n",
       "</style>\n",
       "<ol class=list-inline><li>'new_sp_m014'</li><li>'new_sp_m1524'</li><li>'new_sp_m2534'</li><li>'new_sp_m3544'</li><li>'new_sp_m4554'</li><li>'new_sp_m5564'</li><li>'new_sp_m65'</li><li>'new_sp_f014'</li><li>'new_sp_f1524'</li><li>'new_sp_f2534'</li><li>'new_sp_f3544'</li><li>'new_sp_f4554'</li><li>'new_sp_f5564'</li><li>'new_sp_f65'</li><li>'new_sn_m014'</li><li>'new_sn_m1524'</li><li>'new_sn_m2534'</li><li>'new_sn_m3544'</li><li>'new_sn_m4554'</li><li>'new_sn_m5564'</li><li>'new_sn_m65'</li><li>'new_sn_f014'</li><li>'new_sn_f1524'</li><li>'new_sn_f2534'</li><li>'new_sn_f3544'</li><li>'new_sn_f4554'</li><li>'new_sn_f5564'</li><li>'new_sn_f65'</li><li>'new_ep_m014'</li><li>'new_ep_m1524'</li><li>'new_ep_m2534'</li><li>'new_ep_m3544'</li><li>'new_ep_m4554'</li><li>'new_ep_m5564'</li><li>'new_ep_m65'</li><li>'new_ep_f014'</li><li>'new_ep_f1524'</li><li>'new_ep_f2534'</li><li>'new_ep_f3544'</li><li>'new_ep_f4554'</li><li>'new_ep_f5564'</li><li>'new_ep_f65'</li><li>'newrel_m014'</li><li>'newrel_m1524'</li><li>'newrel_m2534'</li><li>'newrel_m3544'</li><li>'newrel_m4554'</li><li>'newrel_m5564'</li><li>'newrel_m65'</li><li>'newrel_f014'</li><li>'newrel_f1524'</li><li>'newrel_f2534'</li><li>'newrel_f3544'</li><li>'newrel_f4554'</li><li>'newrel_f5564'</li><li>'newrel_f65'</li></ol>\n"
      ],
      "text/latex": [
       "\\begin{enumerate*}\n",
       "\\item 'new\\_sp\\_m014'\n",
       "\\item 'new\\_sp\\_m1524'\n",
       "\\item 'new\\_sp\\_m2534'\n",
       "\\item 'new\\_sp\\_m3544'\n",
       "\\item 'new\\_sp\\_m4554'\n",
       "\\item 'new\\_sp\\_m5564'\n",
       "\\item 'new\\_sp\\_m65'\n",
       "\\item 'new\\_sp\\_f014'\n",
       "\\item 'new\\_sp\\_f1524'\n",
       "\\item 'new\\_sp\\_f2534'\n",
       "\\item 'new\\_sp\\_f3544'\n",
       "\\item 'new\\_sp\\_f4554'\n",
       "\\item 'new\\_sp\\_f5564'\n",
       "\\item 'new\\_sp\\_f65'\n",
       "\\item 'new\\_sn\\_m014'\n",
       "\\item 'new\\_sn\\_m1524'\n",
       "\\item 'new\\_sn\\_m2534'\n",
       "\\item 'new\\_sn\\_m3544'\n",
       "\\item 'new\\_sn\\_m4554'\n",
       "\\item 'new\\_sn\\_m5564'\n",
       "\\item 'new\\_sn\\_m65'\n",
       "\\item 'new\\_sn\\_f014'\n",
       "\\item 'new\\_sn\\_f1524'\n",
       "\\item 'new\\_sn\\_f2534'\n",
       "\\item 'new\\_sn\\_f3544'\n",
       "\\item 'new\\_sn\\_f4554'\n",
       "\\item 'new\\_sn\\_f5564'\n",
       "\\item 'new\\_sn\\_f65'\n",
       "\\item 'new\\_ep\\_m014'\n",
       "\\item 'new\\_ep\\_m1524'\n",
       "\\item 'new\\_ep\\_m2534'\n",
       "\\item 'new\\_ep\\_m3544'\n",
       "\\item 'new\\_ep\\_m4554'\n",
       "\\item 'new\\_ep\\_m5564'\n",
       "\\item 'new\\_ep\\_m65'\n",
       "\\item 'new\\_ep\\_f014'\n",
       "\\item 'new\\_ep\\_f1524'\n",
       "\\item 'new\\_ep\\_f2534'\n",
       "\\item 'new\\_ep\\_f3544'\n",
       "\\item 'new\\_ep\\_f4554'\n",
       "\\item 'new\\_ep\\_f5564'\n",
       "\\item 'new\\_ep\\_f65'\n",
       "\\item 'newrel\\_m014'\n",
       "\\item 'newrel\\_m1524'\n",
       "\\item 'newrel\\_m2534'\n",
       "\\item 'newrel\\_m3544'\n",
       "\\item 'newrel\\_m4554'\n",
       "\\item 'newrel\\_m5564'\n",
       "\\item 'newrel\\_m65'\n",
       "\\item 'newrel\\_f014'\n",
       "\\item 'newrel\\_f1524'\n",
       "\\item 'newrel\\_f2534'\n",
       "\\item 'newrel\\_f3544'\n",
       "\\item 'newrel\\_f4554'\n",
       "\\item 'newrel\\_f5564'\n",
       "\\item 'newrel\\_f65'\n",
       "\\end{enumerate*}\n"
      ],
      "text/markdown": [
       "1. 'new_sp_m014'\n",
       "2. 'new_sp_m1524'\n",
       "3. 'new_sp_m2534'\n",
       "4. 'new_sp_m3544'\n",
       "5. 'new_sp_m4554'\n",
       "6. 'new_sp_m5564'\n",
       "7. 'new_sp_m65'\n",
       "8. 'new_sp_f014'\n",
       "9. 'new_sp_f1524'\n",
       "10. 'new_sp_f2534'\n",
       "11. 'new_sp_f3544'\n",
       "12. 'new_sp_f4554'\n",
       "13. 'new_sp_f5564'\n",
       "14. 'new_sp_f65'\n",
       "15. 'new_sn_m014'\n",
       "16. 'new_sn_m1524'\n",
       "17. 'new_sn_m2534'\n",
       "18. 'new_sn_m3544'\n",
       "19. 'new_sn_m4554'\n",
       "20. 'new_sn_m5564'\n",
       "21. 'new_sn_m65'\n",
       "22. 'new_sn_f014'\n",
       "23. 'new_sn_f1524'\n",
       "24. 'new_sn_f2534'\n",
       "25. 'new_sn_f3544'\n",
       "26. 'new_sn_f4554'\n",
       "27. 'new_sn_f5564'\n",
       "28. 'new_sn_f65'\n",
       "29. 'new_ep_m014'\n",
       "30. 'new_ep_m1524'\n",
       "31. 'new_ep_m2534'\n",
       "32. 'new_ep_m3544'\n",
       "33. 'new_ep_m4554'\n",
       "34. 'new_ep_m5564'\n",
       "35. 'new_ep_m65'\n",
       "36. 'new_ep_f014'\n",
       "37. 'new_ep_f1524'\n",
       "38. 'new_ep_f2534'\n",
       "39. 'new_ep_f3544'\n",
       "40. 'new_ep_f4554'\n",
       "41. 'new_ep_f5564'\n",
       "42. 'new_ep_f65'\n",
       "43. 'newrel_m014'\n",
       "44. 'newrel_m1524'\n",
       "45. 'newrel_m2534'\n",
       "46. 'newrel_m3544'\n",
       "47. 'newrel_m4554'\n",
       "48. 'newrel_m5564'\n",
       "49. 'newrel_m65'\n",
       "50. 'newrel_f014'\n",
       "51. 'newrel_f1524'\n",
       "52. 'newrel_f2534'\n",
       "53. 'newrel_f3544'\n",
       "54. 'newrel_f4554'\n",
       "55. 'newrel_f5564'\n",
       "56. 'newrel_f65'\n",
       "\n",
       "\n"
      ],
      "text/plain": [
       " [1] \"new_sp_m014\"  \"new_sp_m1524\" \"new_sp_m2534\" \"new_sp_m3544\" \"new_sp_m4554\"\n",
       " [6] \"new_sp_m5564\" \"new_sp_m65\"   \"new_sp_f014\"  \"new_sp_f1524\" \"new_sp_f2534\"\n",
       "[11] \"new_sp_f3544\" \"new_sp_f4554\" \"new_sp_f5564\" \"new_sp_f65\"   \"new_sn_m014\" \n",
       "[16] \"new_sn_m1524\" \"new_sn_m2534\" \"new_sn_m3544\" \"new_sn_m4554\" \"new_sn_m5564\"\n",
       "[21] \"new_sn_m65\"   \"new_sn_f014\"  \"new_sn_f1524\" \"new_sn_f2534\" \"new_sn_f3544\"\n",
       "[26] \"new_sn_f4554\" \"new_sn_f5564\" \"new_sn_f65\"   \"new_ep_m014\"  \"new_ep_m1524\"\n",
       "[31] \"new_ep_m2534\" \"new_ep_m3544\" \"new_ep_m4554\" \"new_ep_m5564\" \"new_ep_m65\"  \n",
       "[36] \"new_ep_f014\"  \"new_ep_f1524\" \"new_ep_f2534\" \"new_ep_f3544\" \"new_ep_f4554\"\n",
       "[41] \"new_ep_f5564\" \"new_ep_f65\"   \"newrel_m014\"  \"newrel_m1524\" \"newrel_m2534\"\n",
       "[46] \"newrel_m3544\" \"newrel_m4554\" \"newrel_m5564\" \"newrel_m65\"   \"newrel_f014\" \n",
       "[51] \"newrel_f1524\" \"newrel_f2534\" \"newrel_f3544\" \"newrel_f4554\" \"newrel_f5564\"\n",
       "[56] \"newrel_f65\"  "
      ]
     },
     "metadata": {},
     "output_type": "display_data"
    }
   ],
   "source": [
    "x$key %>% unique()"
   ]
  },
  {
   "cell_type": "code",
   "execution_count": 99,
   "id": "67c8168d",
   "metadata": {},
   "outputs": [
    {
     "data": {
      "text/html": [
       "'rana_f1524'"
      ],
      "text/latex": [
       "'rana\\_f1524'"
      ],
      "text/markdown": [
       "'rana_f1524'"
      ],
      "text/plain": [
       "[1] \"rana_f1524\""
      ]
     },
     "metadata": {},
     "output_type": "display_data"
    }
   ],
   "source": [
    "library(stringr)\n",
    "str_replace(\"newrel_f1524\",\"newrel\",\"rana\")"
   ]
  },
  {
   "cell_type": "code",
   "execution_count": 119,
   "id": "f2939b9b",
   "metadata": {},
   "outputs": [],
   "source": [
    "p<-expand_grid(\n",
    "product = c(\"A\", \"B\"),\n",
    "country = c(\"AI\", \"EI\"),\n",
    "year = 2000:2014\n",
    ") %>%\n",
    "filter((product == \"A\" & country == \"AI\") | product == \"B\") %>%\n",
    "mutate(production = rnorm(nrow(.)))"
   ]
  },
  {
   "cell_type": "code",
   "execution_count": 120,
   "id": "1e40192f",
   "metadata": {
    "scrolled": true
   },
   "outputs": [
    {
     "data": {
      "text/html": [
       "<table class=\"dataframe\">\n",
       "<caption>A tibble: 45 × 4</caption>\n",
       "<thead>\n",
       "\t<tr><th scope=col>product</th><th scope=col>country</th><th scope=col>year</th><th scope=col>production</th></tr>\n",
       "\t<tr><th scope=col>&lt;chr&gt;</th><th scope=col>&lt;chr&gt;</th><th scope=col>&lt;int&gt;</th><th scope=col>&lt;dbl&gt;</th></tr>\n",
       "</thead>\n",
       "<tbody>\n",
       "\t<tr><td>A</td><td>AI</td><td>2000</td><td>-0.10036442</td></tr>\n",
       "\t<tr><td>A</td><td>AI</td><td>2001</td><td>-0.90747509</td></tr>\n",
       "\t<tr><td>A</td><td>AI</td><td>2002</td><td>-0.40145148</td></tr>\n",
       "\t<tr><td>A</td><td>AI</td><td>2003</td><td>-0.81486839</td></tr>\n",
       "\t<tr><td>A</td><td>AI</td><td>2004</td><td> 1.12426940</td></tr>\n",
       "\t<tr><td>A</td><td>AI</td><td>2005</td><td> 1.66027485</td></tr>\n",
       "\t<tr><td>A</td><td>AI</td><td>2006</td><td> 0.15510180</td></tr>\n",
       "\t<tr><td>A</td><td>AI</td><td>2007</td><td> 0.34522012</td></tr>\n",
       "\t<tr><td>A</td><td>AI</td><td>2008</td><td>-0.22103465</td></tr>\n",
       "\t<tr><td>A</td><td>AI</td><td>2009</td><td>-1.38497303</td></tr>\n",
       "\t<tr><td>A</td><td>AI</td><td>2010</td><td> 1.09422449</td></tr>\n",
       "\t<tr><td>A</td><td>AI</td><td>2011</td><td>-1.25620171</td></tr>\n",
       "\t<tr><td>A</td><td>AI</td><td>2012</td><td> 0.46203357</td></tr>\n",
       "\t<tr><td>A</td><td>AI</td><td>2013</td><td> 0.99500803</td></tr>\n",
       "\t<tr><td>A</td><td>AI</td><td>2014</td><td> 0.02339508</td></tr>\n",
       "\t<tr><td>B</td><td>AI</td><td>2000</td><td> 0.40861087</td></tr>\n",
       "\t<tr><td>B</td><td>AI</td><td>2001</td><td> 1.16635544</td></tr>\n",
       "\t<tr><td>B</td><td>AI</td><td>2002</td><td>-0.18321987</td></tr>\n",
       "\t<tr><td>B</td><td>AI</td><td>2003</td><td>-0.48290724</td></tr>\n",
       "\t<tr><td>B</td><td>AI</td><td>2004</td><td> 0.83682544</td></tr>\n",
       "\t<tr><td>B</td><td>AI</td><td>2005</td><td>-1.60240682</td></tr>\n",
       "\t<tr><td>B</td><td>AI</td><td>2006</td><td> 0.71674004</td></tr>\n",
       "\t<tr><td>B</td><td>AI</td><td>2007</td><td> 0.50615087</td></tr>\n",
       "\t<tr><td>B</td><td>AI</td><td>2008</td><td>-1.57621352</td></tr>\n",
       "\t<tr><td>B</td><td>AI</td><td>2009</td><td>-0.12872297</td></tr>\n",
       "\t<tr><td>B</td><td>AI</td><td>2010</td><td> 0.71608035</td></tr>\n",
       "\t<tr><td>B</td><td>AI</td><td>2011</td><td>-1.70924118</td></tr>\n",
       "\t<tr><td>B</td><td>AI</td><td>2012</td><td>-0.93039795</td></tr>\n",
       "\t<tr><td>B</td><td>AI</td><td>2013</td><td>-2.35878306</td></tr>\n",
       "\t<tr><td>B</td><td>AI</td><td>2014</td><td>-0.27662414</td></tr>\n",
       "\t<tr><td>B</td><td>EI</td><td>2000</td><td>-0.34756108</td></tr>\n",
       "\t<tr><td>B</td><td>EI</td><td>2001</td><td> 1.59080833</td></tr>\n",
       "\t<tr><td>B</td><td>EI</td><td>2002</td><td>-0.62806766</td></tr>\n",
       "\t<tr><td>B</td><td>EI</td><td>2003</td><td>-0.06541961</td></tr>\n",
       "\t<tr><td>B</td><td>EI</td><td>2004</td><td> 0.11646677</td></tr>\n",
       "\t<tr><td>B</td><td>EI</td><td>2005</td><td> 1.22502873</td></tr>\n",
       "\t<tr><td>B</td><td>EI</td><td>2006</td><td> 1.30363015</td></tr>\n",
       "\t<tr><td>B</td><td>EI</td><td>2007</td><td> 1.27358726</td></tr>\n",
       "\t<tr><td>B</td><td>EI</td><td>2008</td><td>-0.46603081</td></tr>\n",
       "\t<tr><td>B</td><td>EI</td><td>2009</td><td> 1.72418989</td></tr>\n",
       "\t<tr><td>B</td><td>EI</td><td>2010</td><td>-1.41534621</td></tr>\n",
       "\t<tr><td>B</td><td>EI</td><td>2011</td><td>-0.13289187</td></tr>\n",
       "\t<tr><td>B</td><td>EI</td><td>2012</td><td>-1.51970932</td></tr>\n",
       "\t<tr><td>B</td><td>EI</td><td>2013</td><td> 1.29490381</td></tr>\n",
       "\t<tr><td>B</td><td>EI</td><td>2014</td><td>-1.16691601</td></tr>\n",
       "</tbody>\n",
       "</table>\n"
      ],
      "text/latex": [
       "A tibble: 45 × 4\n",
       "\\begin{tabular}{llll}\n",
       " product & country & year & production\\\\\n",
       " <chr> & <chr> & <int> & <dbl>\\\\\n",
       "\\hline\n",
       "\t A & AI & 2000 & -0.10036442\\\\\n",
       "\t A & AI & 2001 & -0.90747509\\\\\n",
       "\t A & AI & 2002 & -0.40145148\\\\\n",
       "\t A & AI & 2003 & -0.81486839\\\\\n",
       "\t A & AI & 2004 &  1.12426940\\\\\n",
       "\t A & AI & 2005 &  1.66027485\\\\\n",
       "\t A & AI & 2006 &  0.15510180\\\\\n",
       "\t A & AI & 2007 &  0.34522012\\\\\n",
       "\t A & AI & 2008 & -0.22103465\\\\\n",
       "\t A & AI & 2009 & -1.38497303\\\\\n",
       "\t A & AI & 2010 &  1.09422449\\\\\n",
       "\t A & AI & 2011 & -1.25620171\\\\\n",
       "\t A & AI & 2012 &  0.46203357\\\\\n",
       "\t A & AI & 2013 &  0.99500803\\\\\n",
       "\t A & AI & 2014 &  0.02339508\\\\\n",
       "\t B & AI & 2000 &  0.40861087\\\\\n",
       "\t B & AI & 2001 &  1.16635544\\\\\n",
       "\t B & AI & 2002 & -0.18321987\\\\\n",
       "\t B & AI & 2003 & -0.48290724\\\\\n",
       "\t B & AI & 2004 &  0.83682544\\\\\n",
       "\t B & AI & 2005 & -1.60240682\\\\\n",
       "\t B & AI & 2006 &  0.71674004\\\\\n",
       "\t B & AI & 2007 &  0.50615087\\\\\n",
       "\t B & AI & 2008 & -1.57621352\\\\\n",
       "\t B & AI & 2009 & -0.12872297\\\\\n",
       "\t B & AI & 2010 &  0.71608035\\\\\n",
       "\t B & AI & 2011 & -1.70924118\\\\\n",
       "\t B & AI & 2012 & -0.93039795\\\\\n",
       "\t B & AI & 2013 & -2.35878306\\\\\n",
       "\t B & AI & 2014 & -0.27662414\\\\\n",
       "\t B & EI & 2000 & -0.34756108\\\\\n",
       "\t B & EI & 2001 &  1.59080833\\\\\n",
       "\t B & EI & 2002 & -0.62806766\\\\\n",
       "\t B & EI & 2003 & -0.06541961\\\\\n",
       "\t B & EI & 2004 &  0.11646677\\\\\n",
       "\t B & EI & 2005 &  1.22502873\\\\\n",
       "\t B & EI & 2006 &  1.30363015\\\\\n",
       "\t B & EI & 2007 &  1.27358726\\\\\n",
       "\t B & EI & 2008 & -0.46603081\\\\\n",
       "\t B & EI & 2009 &  1.72418989\\\\\n",
       "\t B & EI & 2010 & -1.41534621\\\\\n",
       "\t B & EI & 2011 & -0.13289187\\\\\n",
       "\t B & EI & 2012 & -1.51970932\\\\\n",
       "\t B & EI & 2013 &  1.29490381\\\\\n",
       "\t B & EI & 2014 & -1.16691601\\\\\n",
       "\\end{tabular}\n"
      ],
      "text/markdown": [
       "\n",
       "A tibble: 45 × 4\n",
       "\n",
       "| product &lt;chr&gt; | country &lt;chr&gt; | year &lt;int&gt; | production &lt;dbl&gt; |\n",
       "|---|---|---|---|\n",
       "| A | AI | 2000 | -0.10036442 |\n",
       "| A | AI | 2001 | -0.90747509 |\n",
       "| A | AI | 2002 | -0.40145148 |\n",
       "| A | AI | 2003 | -0.81486839 |\n",
       "| A | AI | 2004 |  1.12426940 |\n",
       "| A | AI | 2005 |  1.66027485 |\n",
       "| A | AI | 2006 |  0.15510180 |\n",
       "| A | AI | 2007 |  0.34522012 |\n",
       "| A | AI | 2008 | -0.22103465 |\n",
       "| A | AI | 2009 | -1.38497303 |\n",
       "| A | AI | 2010 |  1.09422449 |\n",
       "| A | AI | 2011 | -1.25620171 |\n",
       "| A | AI | 2012 |  0.46203357 |\n",
       "| A | AI | 2013 |  0.99500803 |\n",
       "| A | AI | 2014 |  0.02339508 |\n",
       "| B | AI | 2000 |  0.40861087 |\n",
       "| B | AI | 2001 |  1.16635544 |\n",
       "| B | AI | 2002 | -0.18321987 |\n",
       "| B | AI | 2003 | -0.48290724 |\n",
       "| B | AI | 2004 |  0.83682544 |\n",
       "| B | AI | 2005 | -1.60240682 |\n",
       "| B | AI | 2006 |  0.71674004 |\n",
       "| B | AI | 2007 |  0.50615087 |\n",
       "| B | AI | 2008 | -1.57621352 |\n",
       "| B | AI | 2009 | -0.12872297 |\n",
       "| B | AI | 2010 |  0.71608035 |\n",
       "| B | AI | 2011 | -1.70924118 |\n",
       "| B | AI | 2012 | -0.93039795 |\n",
       "| B | AI | 2013 | -2.35878306 |\n",
       "| B | AI | 2014 | -0.27662414 |\n",
       "| B | EI | 2000 | -0.34756108 |\n",
       "| B | EI | 2001 |  1.59080833 |\n",
       "| B | EI | 2002 | -0.62806766 |\n",
       "| B | EI | 2003 | -0.06541961 |\n",
       "| B | EI | 2004 |  0.11646677 |\n",
       "| B | EI | 2005 |  1.22502873 |\n",
       "| B | EI | 2006 |  1.30363015 |\n",
       "| B | EI | 2007 |  1.27358726 |\n",
       "| B | EI | 2008 | -0.46603081 |\n",
       "| B | EI | 2009 |  1.72418989 |\n",
       "| B | EI | 2010 | -1.41534621 |\n",
       "| B | EI | 2011 | -0.13289187 |\n",
       "| B | EI | 2012 | -1.51970932 |\n",
       "| B | EI | 2013 |  1.29490381 |\n",
       "| B | EI | 2014 | -1.16691601 |\n",
       "\n"
      ],
      "text/plain": [
       "   product country year production \n",
       "1  A       AI      2000 -0.10036442\n",
       "2  A       AI      2001 -0.90747509\n",
       "3  A       AI      2002 -0.40145148\n",
       "4  A       AI      2003 -0.81486839\n",
       "5  A       AI      2004  1.12426940\n",
       "6  A       AI      2005  1.66027485\n",
       "7  A       AI      2006  0.15510180\n",
       "8  A       AI      2007  0.34522012\n",
       "9  A       AI      2008 -0.22103465\n",
       "10 A       AI      2009 -1.38497303\n",
       "11 A       AI      2010  1.09422449\n",
       "12 A       AI      2011 -1.25620171\n",
       "13 A       AI      2012  0.46203357\n",
       "14 A       AI      2013  0.99500803\n",
       "15 A       AI      2014  0.02339508\n",
       "16 B       AI      2000  0.40861087\n",
       "17 B       AI      2001  1.16635544\n",
       "18 B       AI      2002 -0.18321987\n",
       "19 B       AI      2003 -0.48290724\n",
       "20 B       AI      2004  0.83682544\n",
       "21 B       AI      2005 -1.60240682\n",
       "22 B       AI      2006  0.71674004\n",
       "23 B       AI      2007  0.50615087\n",
       "24 B       AI      2008 -1.57621352\n",
       "25 B       AI      2009 -0.12872297\n",
       "26 B       AI      2010  0.71608035\n",
       "27 B       AI      2011 -1.70924118\n",
       "28 B       AI      2012 -0.93039795\n",
       "29 B       AI      2013 -2.35878306\n",
       "30 B       AI      2014 -0.27662414\n",
       "31 B       EI      2000 -0.34756108\n",
       "32 B       EI      2001  1.59080833\n",
       "33 B       EI      2002 -0.62806766\n",
       "34 B       EI      2003 -0.06541961\n",
       "35 B       EI      2004  0.11646677\n",
       "36 B       EI      2005  1.22502873\n",
       "37 B       EI      2006  1.30363015\n",
       "38 B       EI      2007  1.27358726\n",
       "39 B       EI      2008 -0.46603081\n",
       "40 B       EI      2009  1.72418989\n",
       "41 B       EI      2010 -1.41534621\n",
       "42 B       EI      2011 -0.13289187\n",
       "43 B       EI      2012 -1.51970932\n",
       "44 B       EI      2013  1.29490381\n",
       "45 B       EI      2014 -1.16691601"
      ]
     },
     "metadata": {},
     "output_type": "display_data"
    }
   ],
   "source": [
    "p"
   ]
  },
  {
   "cell_type": "code",
   "execution_count": 118,
   "id": "43630d5d",
   "metadata": {
    "scrolled": true
   },
   "outputs": [
    {
     "data": {
      "text/html": [
       "<table class=\"dataframe\">\n",
       "<caption>A tibble: 36 × 3</caption>\n",
       "<thead>\n",
       "\t<tr><th scope=col>x</th><th scope=col>y</th><th scope=col>z</th></tr>\n",
       "\t<tr><th scope=col>&lt;int&gt;</th><th scope=col>&lt;int&gt;</th><th scope=col>&lt;int&gt;</th></tr>\n",
       "</thead>\n",
       "<tbody>\n",
       "\t<tr><td>1</td><td>4</td><td>10</td></tr>\n",
       "\t<tr><td>1</td><td>4</td><td>11</td></tr>\n",
       "\t<tr><td>1</td><td>4</td><td>12</td></tr>\n",
       "\t<tr><td>1</td><td>5</td><td>10</td></tr>\n",
       "\t<tr><td>1</td><td>5</td><td>11</td></tr>\n",
       "\t<tr><td>1</td><td>5</td><td>12</td></tr>\n",
       "\t<tr><td>1</td><td>6</td><td>10</td></tr>\n",
       "\t<tr><td>1</td><td>6</td><td>11</td></tr>\n",
       "\t<tr><td>1</td><td>6</td><td>12</td></tr>\n",
       "\t<tr><td>1</td><td>7</td><td>10</td></tr>\n",
       "\t<tr><td>1</td><td>7</td><td>11</td></tr>\n",
       "\t<tr><td>1</td><td>7</td><td>12</td></tr>\n",
       "\t<tr><td>2</td><td>4</td><td>10</td></tr>\n",
       "\t<tr><td>2</td><td>4</td><td>11</td></tr>\n",
       "\t<tr><td>2</td><td>4</td><td>12</td></tr>\n",
       "\t<tr><td>2</td><td>5</td><td>10</td></tr>\n",
       "\t<tr><td>2</td><td>5</td><td>11</td></tr>\n",
       "\t<tr><td>2</td><td>5</td><td>12</td></tr>\n",
       "\t<tr><td>2</td><td>6</td><td>10</td></tr>\n",
       "\t<tr><td>2</td><td>6</td><td>11</td></tr>\n",
       "\t<tr><td>2</td><td>6</td><td>12</td></tr>\n",
       "\t<tr><td>2</td><td>7</td><td>10</td></tr>\n",
       "\t<tr><td>2</td><td>7</td><td>11</td></tr>\n",
       "\t<tr><td>2</td><td>7</td><td>12</td></tr>\n",
       "\t<tr><td>3</td><td>4</td><td>10</td></tr>\n",
       "\t<tr><td>3</td><td>4</td><td>11</td></tr>\n",
       "\t<tr><td>3</td><td>4</td><td>12</td></tr>\n",
       "\t<tr><td>3</td><td>5</td><td>10</td></tr>\n",
       "\t<tr><td>3</td><td>5</td><td>11</td></tr>\n",
       "\t<tr><td>3</td><td>5</td><td>12</td></tr>\n",
       "\t<tr><td>3</td><td>6</td><td>10</td></tr>\n",
       "\t<tr><td>3</td><td>6</td><td>11</td></tr>\n",
       "\t<tr><td>3</td><td>6</td><td>12</td></tr>\n",
       "\t<tr><td>3</td><td>7</td><td>10</td></tr>\n",
       "\t<tr><td>3</td><td>7</td><td>11</td></tr>\n",
       "\t<tr><td>3</td><td>7</td><td>12</td></tr>\n",
       "</tbody>\n",
       "</table>\n"
      ],
      "text/latex": [
       "A tibble: 36 × 3\n",
       "\\begin{tabular}{lll}\n",
       " x & y & z\\\\\n",
       " <int> & <int> & <int>\\\\\n",
       "\\hline\n",
       "\t 1 & 4 & 10\\\\\n",
       "\t 1 & 4 & 11\\\\\n",
       "\t 1 & 4 & 12\\\\\n",
       "\t 1 & 5 & 10\\\\\n",
       "\t 1 & 5 & 11\\\\\n",
       "\t 1 & 5 & 12\\\\\n",
       "\t 1 & 6 & 10\\\\\n",
       "\t 1 & 6 & 11\\\\\n",
       "\t 1 & 6 & 12\\\\\n",
       "\t 1 & 7 & 10\\\\\n",
       "\t 1 & 7 & 11\\\\\n",
       "\t 1 & 7 & 12\\\\\n",
       "\t 2 & 4 & 10\\\\\n",
       "\t 2 & 4 & 11\\\\\n",
       "\t 2 & 4 & 12\\\\\n",
       "\t 2 & 5 & 10\\\\\n",
       "\t 2 & 5 & 11\\\\\n",
       "\t 2 & 5 & 12\\\\\n",
       "\t 2 & 6 & 10\\\\\n",
       "\t 2 & 6 & 11\\\\\n",
       "\t 2 & 6 & 12\\\\\n",
       "\t 2 & 7 & 10\\\\\n",
       "\t 2 & 7 & 11\\\\\n",
       "\t 2 & 7 & 12\\\\\n",
       "\t 3 & 4 & 10\\\\\n",
       "\t 3 & 4 & 11\\\\\n",
       "\t 3 & 4 & 12\\\\\n",
       "\t 3 & 5 & 10\\\\\n",
       "\t 3 & 5 & 11\\\\\n",
       "\t 3 & 5 & 12\\\\\n",
       "\t 3 & 6 & 10\\\\\n",
       "\t 3 & 6 & 11\\\\\n",
       "\t 3 & 6 & 12\\\\\n",
       "\t 3 & 7 & 10\\\\\n",
       "\t 3 & 7 & 11\\\\\n",
       "\t 3 & 7 & 12\\\\\n",
       "\\end{tabular}\n"
      ],
      "text/markdown": [
       "\n",
       "A tibble: 36 × 3\n",
       "\n",
       "| x &lt;int&gt; | y &lt;int&gt; | z &lt;int&gt; |\n",
       "|---|---|---|\n",
       "| 1 | 4 | 10 |\n",
       "| 1 | 4 | 11 |\n",
       "| 1 | 4 | 12 |\n",
       "| 1 | 5 | 10 |\n",
       "| 1 | 5 | 11 |\n",
       "| 1 | 5 | 12 |\n",
       "| 1 | 6 | 10 |\n",
       "| 1 | 6 | 11 |\n",
       "| 1 | 6 | 12 |\n",
       "| 1 | 7 | 10 |\n",
       "| 1 | 7 | 11 |\n",
       "| 1 | 7 | 12 |\n",
       "| 2 | 4 | 10 |\n",
       "| 2 | 4 | 11 |\n",
       "| 2 | 4 | 12 |\n",
       "| 2 | 5 | 10 |\n",
       "| 2 | 5 | 11 |\n",
       "| 2 | 5 | 12 |\n",
       "| 2 | 6 | 10 |\n",
       "| 2 | 6 | 11 |\n",
       "| 2 | 6 | 12 |\n",
       "| 2 | 7 | 10 |\n",
       "| 2 | 7 | 11 |\n",
       "| 2 | 7 | 12 |\n",
       "| 3 | 4 | 10 |\n",
       "| 3 | 4 | 11 |\n",
       "| 3 | 4 | 12 |\n",
       "| 3 | 5 | 10 |\n",
       "| 3 | 5 | 11 |\n",
       "| 3 | 5 | 12 |\n",
       "| 3 | 6 | 10 |\n",
       "| 3 | 6 | 11 |\n",
       "| 3 | 6 | 12 |\n",
       "| 3 | 7 | 10 |\n",
       "| 3 | 7 | 11 |\n",
       "| 3 | 7 | 12 |\n",
       "\n"
      ],
      "text/plain": [
       "   x y z \n",
       "1  1 4 10\n",
       "2  1 4 11\n",
       "3  1 4 12\n",
       "4  1 5 10\n",
       "5  1 5 11\n",
       "6  1 5 12\n",
       "7  1 6 10\n",
       "8  1 6 11\n",
       "9  1 6 12\n",
       "10 1 7 10\n",
       "11 1 7 11\n",
       "12 1 7 12\n",
       "13 2 4 10\n",
       "14 2 4 11\n",
       "15 2 4 12\n",
       "16 2 5 10\n",
       "17 2 5 11\n",
       "18 2 5 12\n",
       "19 2 6 10\n",
       "20 2 6 11\n",
       "21 2 6 12\n",
       "22 2 7 10\n",
       "23 2 7 11\n",
       "24 2 7 12\n",
       "25 3 4 10\n",
       "26 3 4 11\n",
       "27 3 4 12\n",
       "28 3 5 10\n",
       "29 3 5 11\n",
       "30 3 5 12\n",
       "31 3 6 10\n",
       "32 3 6 11\n",
       "33 3 6 12\n",
       "34 3 7 10\n",
       "35 3 7 11\n",
       "36 3 7 12"
      ]
     },
     "metadata": {},
     "output_type": "display_data"
    }
   ],
   "source": [
    "expand_grid(x=1:3,y=4:7,z=10:12) ## 3 nested loop"
   ]
  },
  {
   "cell_type": "code",
   "execution_count": 123,
   "id": "bdaa3892",
   "metadata": {},
   "outputs": [
    {
     "data": {
      "text/html": [
       "<table class=\"dataframe\">\n",
       "<caption>A tibble: 15 × 4</caption>\n",
       "<thead>\n",
       "\t<tr><th scope=col>year</th><th scope=col>A-AI</th><th scope=col>B-AI</th><th scope=col>B-EI</th></tr>\n",
       "\t<tr><th scope=col>&lt;int&gt;</th><th scope=col>&lt;dbl&gt;</th><th scope=col>&lt;dbl&gt;</th><th scope=col>&lt;dbl&gt;</th></tr>\n",
       "</thead>\n",
       "<tbody>\n",
       "\t<tr><td>2000</td><td>-0.10036442</td><td> 0.4086109</td><td>-0.34756108</td></tr>\n",
       "\t<tr><td>2001</td><td>-0.90747509</td><td> 1.1663554</td><td> 1.59080833</td></tr>\n",
       "\t<tr><td>2002</td><td>-0.40145148</td><td>-0.1832199</td><td>-0.62806766</td></tr>\n",
       "\t<tr><td>2003</td><td>-0.81486839</td><td>-0.4829072</td><td>-0.06541961</td></tr>\n",
       "\t<tr><td>2004</td><td> 1.12426940</td><td> 0.8368254</td><td> 0.11646677</td></tr>\n",
       "\t<tr><td>2005</td><td> 1.66027485</td><td>-1.6024068</td><td> 1.22502873</td></tr>\n",
       "\t<tr><td>2006</td><td> 0.15510180</td><td> 0.7167400</td><td> 1.30363015</td></tr>\n",
       "\t<tr><td>2007</td><td> 0.34522012</td><td> 0.5061509</td><td> 1.27358726</td></tr>\n",
       "\t<tr><td>2008</td><td>-0.22103465</td><td>-1.5762135</td><td>-0.46603081</td></tr>\n",
       "\t<tr><td>2009</td><td>-1.38497303</td><td>-0.1287230</td><td> 1.72418989</td></tr>\n",
       "\t<tr><td>2010</td><td> 1.09422449</td><td> 0.7160803</td><td>-1.41534621</td></tr>\n",
       "\t<tr><td>2011</td><td>-1.25620171</td><td>-1.7092412</td><td>-0.13289187</td></tr>\n",
       "\t<tr><td>2012</td><td> 0.46203357</td><td>-0.9303980</td><td>-1.51970932</td></tr>\n",
       "\t<tr><td>2013</td><td> 0.99500803</td><td>-2.3587831</td><td> 1.29490381</td></tr>\n",
       "\t<tr><td>2014</td><td> 0.02339508</td><td>-0.2766241</td><td>-1.16691601</td></tr>\n",
       "</tbody>\n",
       "</table>\n"
      ],
      "text/latex": [
       "A tibble: 15 × 4\n",
       "\\begin{tabular}{llll}\n",
       " year & A-AI & B-AI & B-EI\\\\\n",
       " <int> & <dbl> & <dbl> & <dbl>\\\\\n",
       "\\hline\n",
       "\t 2000 & -0.10036442 &  0.4086109 & -0.34756108\\\\\n",
       "\t 2001 & -0.90747509 &  1.1663554 &  1.59080833\\\\\n",
       "\t 2002 & -0.40145148 & -0.1832199 & -0.62806766\\\\\n",
       "\t 2003 & -0.81486839 & -0.4829072 & -0.06541961\\\\\n",
       "\t 2004 &  1.12426940 &  0.8368254 &  0.11646677\\\\\n",
       "\t 2005 &  1.66027485 & -1.6024068 &  1.22502873\\\\\n",
       "\t 2006 &  0.15510180 &  0.7167400 &  1.30363015\\\\\n",
       "\t 2007 &  0.34522012 &  0.5061509 &  1.27358726\\\\\n",
       "\t 2008 & -0.22103465 & -1.5762135 & -0.46603081\\\\\n",
       "\t 2009 & -1.38497303 & -0.1287230 &  1.72418989\\\\\n",
       "\t 2010 &  1.09422449 &  0.7160803 & -1.41534621\\\\\n",
       "\t 2011 & -1.25620171 & -1.7092412 & -0.13289187\\\\\n",
       "\t 2012 &  0.46203357 & -0.9303980 & -1.51970932\\\\\n",
       "\t 2013 &  0.99500803 & -2.3587831 &  1.29490381\\\\\n",
       "\t 2014 &  0.02339508 & -0.2766241 & -1.16691601\\\\\n",
       "\\end{tabular}\n"
      ],
      "text/markdown": [
       "\n",
       "A tibble: 15 × 4\n",
       "\n",
       "| year &lt;int&gt; | A-AI &lt;dbl&gt; | B-AI &lt;dbl&gt; | B-EI &lt;dbl&gt; |\n",
       "|---|---|---|---|\n",
       "| 2000 | -0.10036442 |  0.4086109 | -0.34756108 |\n",
       "| 2001 | -0.90747509 |  1.1663554 |  1.59080833 |\n",
       "| 2002 | -0.40145148 | -0.1832199 | -0.62806766 |\n",
       "| 2003 | -0.81486839 | -0.4829072 | -0.06541961 |\n",
       "| 2004 |  1.12426940 |  0.8368254 |  0.11646677 |\n",
       "| 2005 |  1.66027485 | -1.6024068 |  1.22502873 |\n",
       "| 2006 |  0.15510180 |  0.7167400 |  1.30363015 |\n",
       "| 2007 |  0.34522012 |  0.5061509 |  1.27358726 |\n",
       "| 2008 | -0.22103465 | -1.5762135 | -0.46603081 |\n",
       "| 2009 | -1.38497303 | -0.1287230 |  1.72418989 |\n",
       "| 2010 |  1.09422449 |  0.7160803 | -1.41534621 |\n",
       "| 2011 | -1.25620171 | -1.7092412 | -0.13289187 |\n",
       "| 2012 |  0.46203357 | -0.9303980 | -1.51970932 |\n",
       "| 2013 |  0.99500803 | -2.3587831 |  1.29490381 |\n",
       "| 2014 |  0.02339508 | -0.2766241 | -1.16691601 |\n",
       "\n"
      ],
      "text/plain": [
       "   year A-AI        B-AI       B-EI       \n",
       "1  2000 -0.10036442  0.4086109 -0.34756108\n",
       "2  2001 -0.90747509  1.1663554  1.59080833\n",
       "3  2002 -0.40145148 -0.1832199 -0.62806766\n",
       "4  2003 -0.81486839 -0.4829072 -0.06541961\n",
       "5  2004  1.12426940  0.8368254  0.11646677\n",
       "6  2005  1.66027485 -1.6024068  1.22502873\n",
       "7  2006  0.15510180  0.7167400  1.30363015\n",
       "8  2007  0.34522012  0.5061509  1.27358726\n",
       "9  2008 -0.22103465 -1.5762135 -0.46603081\n",
       "10 2009 -1.38497303 -0.1287230  1.72418989\n",
       "11 2010  1.09422449  0.7160803 -1.41534621\n",
       "12 2011 -1.25620171 -1.7092412 -0.13289187\n",
       "13 2012  0.46203357 -0.9303980 -1.51970932\n",
       "14 2013  0.99500803 -2.3587831  1.29490381\n",
       "15 2014  0.02339508 -0.2766241 -1.16691601"
      ]
     },
     "metadata": {},
     "output_type": "display_data"
    }
   ],
   "source": [
    "p %>% mutate(pc=str_c(product,country,sep=\"-\")) %>%\n",
    "      select(-product,-country) %>%\n",
    "      spread(key = pc,value = production)"
   ]
  },
  {
   "cell_type": "markdown",
   "id": "e98df80e",
   "metadata": {},
   "source": [
    "# Joins in R"
   ]
  },
  {
   "cell_type": "code",
   "execution_count": 9,
   "id": "0b4dacc5",
   "metadata": {},
   "outputs": [
    {
     "ename": "ERROR",
     "evalue": "Error in left_join(df1, df2, by = \"key\"): object 'df1' not found\n",
     "output_type": "error",
     "traceback": [
      "Error in left_join(df1, df2, by = \"key\"): object 'df1' not found\nTraceback:\n",
      "1. left_join(df1, df2, by = \"key\")"
     ]
    }
   ],
   "source": [
    "# Left Join\n",
    "result <- left_join(df1, df2, by = \"key\")\n",
    "\n",
    "# Right Join\n",
    "result <- right_join(df1, df2, by = \"key\")\n",
    "\n",
    "# Inner Join\n",
    "result <- inner_join(df1, df2, by = \"key\")\n",
    "\n",
    "# Full (Outer) Join\n",
    "result <- full_join(df1, df2, by = \"key\")"
   ]
  },
  {
   "cell_type": "markdown",
   "id": "1a7844b9",
   "metadata": {},
   "source": [
    "+ The dataset warpbreaks gives the number o f warp breaks per loom , where a\n",
    "  loom corresponds to a fixed length of yarn for every combination of wool (A and B)\n",
    "  and tension ( L , M, H ) .\n",
    "  Produce a dataset with the columns tension , A, B with the means of the breaks"
   ]
  },
  {
   "cell_type": "code",
   "execution_count": 11,
   "id": "a899204d",
   "metadata": {
    "scrolled": false
   },
   "outputs": [
    {
     "data": {
      "text/html": [
       "<style>\n",
       ".list-inline {list-style: none; margin:0; padding: 0}\n",
       ".list-inline>li {display: inline-block}\n",
       ".list-inline>li:not(:last-child)::after {content: \"\\00b7\"; padding: 0 .5ex}\n",
       "</style>\n",
       "<ol class=list-inline><li>54</li><li>3</li></ol>\n"
      ],
      "text/latex": [
       "\\begin{enumerate*}\n",
       "\\item 54\n",
       "\\item 3\n",
       "\\end{enumerate*}\n"
      ],
      "text/markdown": [
       "1. 54\n",
       "2. 3\n",
       "\n",
       "\n"
      ],
      "text/plain": [
       "[1] 54  3"
      ]
     },
     "metadata": {},
     "output_type": "display_data"
    }
   ],
   "source": [
    "warpbreaks %>% dim()"
   ]
  },
  {
   "cell_type": "code",
   "execution_count": 14,
   "id": "9fb0f93b",
   "metadata": {
    "scrolled": true
   },
   "outputs": [
    {
     "data": {
      "text/html": [
       "<style>\n",
       ".list-inline {list-style: none; margin:0; padding: 0}\n",
       ".list-inline>li {display: inline-block}\n",
       ".list-inline>li:not(:last-child)::after {content: \"\\00b7\"; padding: 0 .5ex}\n",
       "</style>\n",
       "<ol class=list-inline><li>A</li><li>B</li></ol>\n",
       "\n",
       "<details>\n",
       "\t<summary style=display:list-item;cursor:pointer>\n",
       "\t\t<strong>Levels</strong>:\n",
       "\t</summary>\n",
       "\t<style>\n",
       "\t.list-inline {list-style: none; margin:0; padding: 0}\n",
       "\t.list-inline>li {display: inline-block}\n",
       "\t.list-inline>li:not(:last-child)::after {content: \"\\00b7\"; padding: 0 .5ex}\n",
       "\t</style>\n",
       "\t<ol class=list-inline><li>'A'</li><li>'B'</li></ol>\n",
       "</details>"
      ],
      "text/latex": [
       "\\begin{enumerate*}\n",
       "\\item A\n",
       "\\item B\n",
       "\\end{enumerate*}\n",
       "\n",
       "\\emph{Levels}: \\begin{enumerate*}\n",
       "\\item 'A'\n",
       "\\item 'B'\n",
       "\\end{enumerate*}\n"
      ],
      "text/markdown": [
       "1. A\n",
       "2. B\n",
       "\n",
       "\n",
       "\n",
       "**Levels**: 1. 'A'\n",
       "2. 'B'\n",
       "\n",
       "\n"
      ],
      "text/plain": [
       "[1] A B\n",
       "Levels: A B"
      ]
     },
     "metadata": {},
     "output_type": "display_data"
    }
   ],
   "source": [
    "warpbreaks$wool %>% unique()"
   ]
  },
  {
   "cell_type": "code",
   "execution_count": 15,
   "id": "df9db6ad",
   "metadata": {},
   "outputs": [
    {
     "data": {
      "text/html": [
       "<style>\n",
       ".list-inline {list-style: none; margin:0; padding: 0}\n",
       ".list-inline>li {display: inline-block}\n",
       ".list-inline>li:not(:last-child)::after {content: \"\\00b7\"; padding: 0 .5ex}\n",
       "</style>\n",
       "<ol class=list-inline><li>L</li><li>M</li><li>H</li></ol>\n",
       "\n",
       "<details>\n",
       "\t<summary style=display:list-item;cursor:pointer>\n",
       "\t\t<strong>Levels</strong>:\n",
       "\t</summary>\n",
       "\t<style>\n",
       "\t.list-inline {list-style: none; margin:0; padding: 0}\n",
       "\t.list-inline>li {display: inline-block}\n",
       "\t.list-inline>li:not(:last-child)::after {content: \"\\00b7\"; padding: 0 .5ex}\n",
       "\t</style>\n",
       "\t<ol class=list-inline><li>'L'</li><li>'M'</li><li>'H'</li></ol>\n",
       "</details>"
      ],
      "text/latex": [
       "\\begin{enumerate*}\n",
       "\\item L\n",
       "\\item M\n",
       "\\item H\n",
       "\\end{enumerate*}\n",
       "\n",
       "\\emph{Levels}: \\begin{enumerate*}\n",
       "\\item 'L'\n",
       "\\item 'M'\n",
       "\\item 'H'\n",
       "\\end{enumerate*}\n"
      ],
      "text/markdown": [
       "1. L\n",
       "2. M\n",
       "3. H\n",
       "\n",
       "\n",
       "\n",
       "**Levels**: 1. 'L'\n",
       "2. 'M'\n",
       "3. 'H'\n",
       "\n",
       "\n"
      ],
      "text/plain": [
       "[1] L M H\n",
       "Levels: L M H"
      ]
     },
     "metadata": {},
     "output_type": "display_data"
    }
   ],
   "source": [
    "warpbreaks$tension %>% unique()"
   ]
  },
  {
   "cell_type": "code",
   "execution_count": 12,
   "id": "7e1f4690",
   "metadata": {
    "scrolled": true
   },
   "outputs": [
    {
     "data": {
      "text/html": [
       "<table class=\"dataframe\">\n",
       "<caption>A data.frame: 5 × 3</caption>\n",
       "<thead>\n",
       "\t<tr><th scope=col>breaks</th><th scope=col>wool</th><th scope=col>tension</th></tr>\n",
       "\t<tr><th scope=col>&lt;dbl&gt;</th><th scope=col>&lt;fct&gt;</th><th scope=col>&lt;fct&gt;</th></tr>\n",
       "</thead>\n",
       "<tbody>\n",
       "\t<tr><td>26</td><td>A</td><td>L</td></tr>\n",
       "\t<tr><td>30</td><td>A</td><td>L</td></tr>\n",
       "\t<tr><td>54</td><td>A</td><td>L</td></tr>\n",
       "\t<tr><td>25</td><td>A</td><td>L</td></tr>\n",
       "\t<tr><td>70</td><td>A</td><td>L</td></tr>\n",
       "</tbody>\n",
       "</table>\n"
      ],
      "text/latex": [
       "A data.frame: 5 × 3\n",
       "\\begin{tabular}{lll}\n",
       " breaks & wool & tension\\\\\n",
       " <dbl> & <fct> & <fct>\\\\\n",
       "\\hline\n",
       "\t 26 & A & L\\\\\n",
       "\t 30 & A & L\\\\\n",
       "\t 54 & A & L\\\\\n",
       "\t 25 & A & L\\\\\n",
       "\t 70 & A & L\\\\\n",
       "\\end{tabular}\n"
      ],
      "text/markdown": [
       "\n",
       "A data.frame: 5 × 3\n",
       "\n",
       "| breaks &lt;dbl&gt; | wool &lt;fct&gt; | tension &lt;fct&gt; |\n",
       "|---|---|---|\n",
       "| 26 | A | L |\n",
       "| 30 | A | L |\n",
       "| 54 | A | L |\n",
       "| 25 | A | L |\n",
       "| 70 | A | L |\n",
       "\n"
      ],
      "text/plain": [
       "  breaks wool tension\n",
       "1 26     A    L      \n",
       "2 30     A    L      \n",
       "3 54     A    L      \n",
       "4 25     A    L      \n",
       "5 70     A    L      "
      ]
     },
     "metadata": {},
     "output_type": "display_data"
    }
   ],
   "source": [
    "warpbreaks %>% slice(1:5)"
   ]
  },
  {
   "cell_type": "code",
   "execution_count": 18,
   "id": "3b1f821d",
   "metadata": {},
   "outputs": [
    {
     "name": "stderr",
     "output_type": "stream",
     "text": [
      "\u001b[1m\u001b[22m`summarise()` has grouped output by 'wool'. You can override using the `.groups`\n",
      "argument.\n"
     ]
    },
    {
     "data": {
      "text/html": [
       "<table class=\"dataframe\">\n",
       "<caption>A tibble: 3 × 3</caption>\n",
       "<thead>\n",
       "\t<tr><th scope=col>tension</th><th scope=col>A</th><th scope=col>B</th></tr>\n",
       "\t<tr><th scope=col>&lt;fct&gt;</th><th scope=col>&lt;dbl&gt;</th><th scope=col>&lt;dbl&gt;</th></tr>\n",
       "</thead>\n",
       "<tbody>\n",
       "\t<tr><td>L</td><td>44.55556</td><td>28.22222</td></tr>\n",
       "\t<tr><td>M</td><td>24.00000</td><td>28.77778</td></tr>\n",
       "\t<tr><td>H</td><td>24.55556</td><td>18.77778</td></tr>\n",
       "</tbody>\n",
       "</table>\n"
      ],
      "text/latex": [
       "A tibble: 3 × 3\n",
       "\\begin{tabular}{lll}\n",
       " tension & A & B\\\\\n",
       " <fct> & <dbl> & <dbl>\\\\\n",
       "\\hline\n",
       "\t L & 44.55556 & 28.22222\\\\\n",
       "\t M & 24.00000 & 28.77778\\\\\n",
       "\t H & 24.55556 & 18.77778\\\\\n",
       "\\end{tabular}\n"
      ],
      "text/markdown": [
       "\n",
       "A tibble: 3 × 3\n",
       "\n",
       "| tension &lt;fct&gt; | A &lt;dbl&gt; | B &lt;dbl&gt; |\n",
       "|---|---|---|\n",
       "| L | 44.55556 | 28.22222 |\n",
       "| M | 24.00000 | 28.77778 |\n",
       "| H | 24.55556 | 18.77778 |\n",
       "\n"
      ],
      "text/plain": [
       "  tension A        B       \n",
       "1 L       44.55556 28.22222\n",
       "2 M       24.00000 28.77778\n",
       "3 H       24.55556 18.77778"
      ]
     },
     "metadata": {},
     "output_type": "display_data"
    }
   ],
   "source": [
    "warpbreaks %>% group_by(wool,tension) %>% summarise(avg=mean(breaks)) %>%\n",
    "  spread(key=wool,value=avg)"
   ]
  }
 ],
 "metadata": {
  "kernelspec": {
   "display_name": "R",
   "language": "R",
   "name": "ir"
  },
  "language_info": {
   "codemirror_mode": "r",
   "file_extension": ".r",
   "mimetype": "text/x-r-source",
   "name": "R",
   "pygments_lexer": "r",
   "version": "4.2.2"
  }
 },
 "nbformat": 4,
 "nbformat_minor": 5
}

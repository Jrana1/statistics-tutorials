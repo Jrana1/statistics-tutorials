{
 "cells": [
  {
   "cell_type": "markdown",
   "id": "d14d5262",
   "metadata": {},
   "source": [
    " <h1 style=\"color:blue;text-align:center\">Sheet II</h1>"
   ]
  },
  {
   "cell_type": "markdown",
   "id": "26e9cc7a",
   "metadata": {},
   "source": [
    " <h4 style=\"color:green;text-align:center\">Exercise 1</h4>"
   ]
  },
  {
   "cell_type": "code",
   "execution_count": 11,
   "id": "75f65631",
   "metadata": {},
   "outputs": [
    {
     "name": "stderr",
     "output_type": "stream",
     "text": [
      "Installing package into ‘/home/jrana/R/x86_64-pc-linux-gnu-library/4.2’\n",
      "(as ‘lib’ is unspecified)\n",
      "\n"
     ]
    }
   ],
   "source": [
    "install.packages(\"dplyr\")"
   ]
  },
  {
   "cell_type": "code",
   "execution_count": 12,
   "id": "96b3ed03",
   "metadata": {
    "scrolled": true
   },
   "outputs": [],
   "source": [
    "library(\"dplyr\")"
   ]
  },
  {
   "cell_type": "code",
   "execution_count": 3,
   "id": "bd679a08",
   "metadata": {},
   "outputs": [],
   "source": [
    "s1 <- tibble(\n",
    "student = c(\"Adam\",\"Bernd\",\"Christian\",\"Doris\"),\n",
    "algebra = c(NA, 5, 3, 4),\n",
    "analysis = c(2, NA, 1,3),\n",
    "diskrete.math = c(3,NA,2,4),\n",
    ")\n",
    "s2 <- tibble(\n",
    "name = rep(c(\"Adam\", \"Bernd\", \"Christian\", \"Doris\"), each = 2),\n",
    "type = rep(c(\"height\", \"weight\"), 4),\n",
    "measure = c(1.83, 81, 1.75, 71, 1.69, 55, 1.57, 62))\n",
    "s3 <- tibble(\n",
    "name = c(\"Adam\", \"Bernd\", \"Christian\", \"Doris\"),\n",
    "ratio = c(\"81/1.83\", \"71/1.75\", \"55/1.69\", \"62/1.57\"))"
   ]
  },
  {
   "cell_type": "code",
   "execution_count": 10,
   "id": "b90b81c2",
   "metadata": {
    "scrolled": true
   },
   "outputs": [
    {
     "data": {
      "text/html": [
       "<table class=\"dataframe\">\n",
       "<caption>A tibble: 4 × 4</caption>\n",
       "<thead>\n",
       "\t<tr><th scope=col>student</th><th scope=col>algebra</th><th scope=col>analysis</th><th scope=col>diskrete.math</th></tr>\n",
       "\t<tr><th scope=col>&lt;chr&gt;</th><th scope=col>&lt;dbl&gt;</th><th scope=col>&lt;dbl&gt;</th><th scope=col>&lt;dbl&gt;</th></tr>\n",
       "</thead>\n",
       "<tbody>\n",
       "\t<tr><td>Adam     </td><td>NA</td><td> 2</td><td> 3</td></tr>\n",
       "\t<tr><td>Bernd    </td><td> 5</td><td>NA</td><td>NA</td></tr>\n",
       "\t<tr><td>Christian</td><td> 3</td><td> 1</td><td> 2</td></tr>\n",
       "\t<tr><td>Doris    </td><td> 4</td><td> 3</td><td> 4</td></tr>\n",
       "</tbody>\n",
       "</table>\n"
      ],
      "text/latex": [
       "A tibble: 4 × 4\n",
       "\\begin{tabular}{llll}\n",
       " student & algebra & analysis & diskrete.math\\\\\n",
       " <chr> & <dbl> & <dbl> & <dbl>\\\\\n",
       "\\hline\n",
       "\t Adam      & NA &  2 &  3\\\\\n",
       "\t Bernd     &  5 & NA & NA\\\\\n",
       "\t Christian &  3 &  1 &  2\\\\\n",
       "\t Doris     &  4 &  3 &  4\\\\\n",
       "\\end{tabular}\n"
      ],
      "text/markdown": [
       "\n",
       "A tibble: 4 × 4\n",
       "\n",
       "| student &lt;chr&gt; | algebra &lt;dbl&gt; | analysis &lt;dbl&gt; | diskrete.math &lt;dbl&gt; |\n",
       "|---|---|---|---|\n",
       "| Adam      | NA |  2 |  3 |\n",
       "| Bernd     |  5 | NA | NA |\n",
       "| Christian |  3 |  1 |  2 |\n",
       "| Doris     |  4 |  3 |  4 |\n",
       "\n"
      ],
      "text/plain": [
       "  student   algebra analysis diskrete.math\n",
       "1 Adam      NA       2        3           \n",
       "2 Bernd      5      NA       NA           \n",
       "3 Christian  3       1        2           \n",
       "4 Doris      4       3        4           "
      ]
     },
     "metadata": {},
     "output_type": "display_data"
    }
   ],
   "source": [
    "s1"
   ]
  },
  {
   "cell_type": "code",
   "execution_count": 5,
   "id": "317cc1f7",
   "metadata": {
    "scrolled": true
   },
   "outputs": [
    {
     "data": {
      "text/html": [
       "<table class=\"dataframe\">\n",
       "<caption>A tibble: 8 × 3</caption>\n",
       "<thead>\n",
       "\t<tr><th scope=col>name</th><th scope=col>type</th><th scope=col>measure</th></tr>\n",
       "\t<tr><th scope=col>&lt;chr&gt;</th><th scope=col>&lt;chr&gt;</th><th scope=col>&lt;dbl&gt;</th></tr>\n",
       "</thead>\n",
       "<tbody>\n",
       "\t<tr><td>Adam     </td><td>height</td><td> 1.83</td></tr>\n",
       "\t<tr><td>Adam     </td><td>weight</td><td>81.00</td></tr>\n",
       "\t<tr><td>Bernd    </td><td>height</td><td> 1.75</td></tr>\n",
       "\t<tr><td>Bernd    </td><td>weight</td><td>71.00</td></tr>\n",
       "\t<tr><td>Christian</td><td>height</td><td> 1.69</td></tr>\n",
       "\t<tr><td>Christian</td><td>weight</td><td>55.00</td></tr>\n",
       "\t<tr><td>Doris    </td><td>height</td><td> 1.57</td></tr>\n",
       "\t<tr><td>Doris    </td><td>weight</td><td>62.00</td></tr>\n",
       "</tbody>\n",
       "</table>\n"
      ],
      "text/latex": [
       "A tibble: 8 × 3\n",
       "\\begin{tabular}{lll}\n",
       " name & type & measure\\\\\n",
       " <chr> & <chr> & <dbl>\\\\\n",
       "\\hline\n",
       "\t Adam      & height &  1.83\\\\\n",
       "\t Adam      & weight & 81.00\\\\\n",
       "\t Bernd     & height &  1.75\\\\\n",
       "\t Bernd     & weight & 71.00\\\\\n",
       "\t Christian & height &  1.69\\\\\n",
       "\t Christian & weight & 55.00\\\\\n",
       "\t Doris     & height &  1.57\\\\\n",
       "\t Doris     & weight & 62.00\\\\\n",
       "\\end{tabular}\n"
      ],
      "text/markdown": [
       "\n",
       "A tibble: 8 × 3\n",
       "\n",
       "| name &lt;chr&gt; | type &lt;chr&gt; | measure &lt;dbl&gt; |\n",
       "|---|---|---|\n",
       "| Adam      | height |  1.83 |\n",
       "| Adam      | weight | 81.00 |\n",
       "| Bernd     | height |  1.75 |\n",
       "| Bernd     | weight | 71.00 |\n",
       "| Christian | height |  1.69 |\n",
       "| Christian | weight | 55.00 |\n",
       "| Doris     | height |  1.57 |\n",
       "| Doris     | weight | 62.00 |\n",
       "\n"
      ],
      "text/plain": [
       "  name      type   measure\n",
       "1 Adam      height  1.83  \n",
       "2 Adam      weight 81.00  \n",
       "3 Bernd     height  1.75  \n",
       "4 Bernd     weight 71.00  \n",
       "5 Christian height  1.69  \n",
       "6 Christian weight 55.00  \n",
       "7 Doris     height  1.57  \n",
       "8 Doris     weight 62.00  "
      ]
     },
     "metadata": {},
     "output_type": "display_data"
    }
   ],
   "source": [
    "s2"
   ]
  },
  {
   "cell_type": "code",
   "execution_count": 6,
   "id": "3d0578e4",
   "metadata": {
    "scrolled": true
   },
   "outputs": [
    {
     "data": {
      "text/html": [
       "<table class=\"dataframe\">\n",
       "<caption>A tibble: 4 × 2</caption>\n",
       "<thead>\n",
       "\t<tr><th scope=col>name</th><th scope=col>ratio</th></tr>\n",
       "\t<tr><th scope=col>&lt;chr&gt;</th><th scope=col>&lt;chr&gt;</th></tr>\n",
       "</thead>\n",
       "<tbody>\n",
       "\t<tr><td>Adam     </td><td>81/1.83</td></tr>\n",
       "\t<tr><td>Bernd    </td><td>71/1.75</td></tr>\n",
       "\t<tr><td>Christian</td><td>55/1.69</td></tr>\n",
       "\t<tr><td>Doris    </td><td>62/1.57</td></tr>\n",
       "</tbody>\n",
       "</table>\n"
      ],
      "text/latex": [
       "A tibble: 4 × 2\n",
       "\\begin{tabular}{ll}\n",
       " name & ratio\\\\\n",
       " <chr> & <chr>\\\\\n",
       "\\hline\n",
       "\t Adam      & 81/1.83\\\\\n",
       "\t Bernd     & 71/1.75\\\\\n",
       "\t Christian & 55/1.69\\\\\n",
       "\t Doris     & 62/1.57\\\\\n",
       "\\end{tabular}\n"
      ],
      "text/markdown": [
       "\n",
       "A tibble: 4 × 2\n",
       "\n",
       "| name &lt;chr&gt; | ratio &lt;chr&gt; |\n",
       "|---|---|\n",
       "| Adam      | 81/1.83 |\n",
       "| Bernd     | 71/1.75 |\n",
       "| Christian | 55/1.69 |\n",
       "| Doris     | 62/1.57 |\n",
       "\n"
      ],
      "text/plain": [
       "  name      ratio  \n",
       "1 Adam      81/1.83\n",
       "2 Bernd     71/1.75\n",
       "3 Christian 55/1.69\n",
       "4 Doris     62/1.57"
      ]
     },
     "metadata": {},
     "output_type": "display_data"
    }
   ],
   "source": [
    "s3"
   ]
  },
  {
   "cell_type": "markdown",
   "id": "cd115aef",
   "metadata": {},
   "source": [
    "## s1\n",
    " + contains 3 variables\n",
    "   + name, exam, grade\n",
    " + 36 values and 12 observations  \n",
    " "
   ]
  },
  {
   "cell_type": "markdown",
   "id": "2e0cc4aa",
   "metadata": {},
   "source": [
    "## s2 & s3\n",
    " + contains 12 values\n",
    " + three variables\n",
    "   + name, type, measure\n",
    " + 3 observation for every student  "
   ]
  },
  {
   "cell_type": "markdown",
   "id": "55635ebb",
   "metadata": {},
   "source": [
    "## why are these datasets not tidy?\n",
    "  + **s1**\n",
    "     + column headers are values of the variable exam, not variable name.\n",
    "  + **s2**\n",
    "    + the variable weight and height are stored both in cols and rows\n",
    "  + **s3**\n",
    "    + the values of weight and height are stored in one column"
   ]
  },
  {
   "cell_type": "code",
   "execution_count": 13,
   "id": "8599243e",
   "metadata": {
    "scrolled": true
   },
   "outputs": [
    {
     "name": "stderr",
     "output_type": "stream",
     "text": [
      "Installing package into ‘/home/jrana/R/x86_64-pc-linux-gnu-library/4.2’\n",
      "(as ‘lib’ is unspecified)\n",
      "\n"
     ]
    }
   ],
   "source": [
    "install.packages(\"tidyr\")"
   ]
  },
  {
   "cell_type": "code",
   "execution_count": 14,
   "id": "d7d44f9d",
   "metadata": {},
   "outputs": [],
   "source": [
    "library(\"tidyr\")"
   ]
  },
  {
   "cell_type": "markdown",
   "id": "efc487d1",
   "metadata": {},
   "source": [
    "## Make a tidy version of all datasets."
   ]
  },
  {
   "cell_type": "code",
   "execution_count": 21,
   "id": "f3d5071e",
   "metadata": {},
   "outputs": [
    {
     "data": {
      "text/html": [
       "<table class=\"dataframe\">\n",
       "<caption>A tibble: 4 × 4</caption>\n",
       "<thead>\n",
       "\t<tr><th scope=col>student</th><th scope=col>algebra</th><th scope=col>analysis</th><th scope=col>diskrete.math</th></tr>\n",
       "\t<tr><th scope=col>&lt;chr&gt;</th><th scope=col>&lt;dbl&gt;</th><th scope=col>&lt;dbl&gt;</th><th scope=col>&lt;dbl&gt;</th></tr>\n",
       "</thead>\n",
       "<tbody>\n",
       "\t<tr><td>Adam     </td><td>NA</td><td> 2</td><td> 3</td></tr>\n",
       "\t<tr><td>Bernd    </td><td> 5</td><td>NA</td><td>NA</td></tr>\n",
       "\t<tr><td>Christian</td><td> 3</td><td> 1</td><td> 2</td></tr>\n",
       "\t<tr><td>Doris    </td><td> 4</td><td> 3</td><td> 4</td></tr>\n",
       "</tbody>\n",
       "</table>\n"
      ],
      "text/latex": [
       "A tibble: 4 × 4\n",
       "\\begin{tabular}{llll}\n",
       " student & algebra & analysis & diskrete.math\\\\\n",
       " <chr> & <dbl> & <dbl> & <dbl>\\\\\n",
       "\\hline\n",
       "\t Adam      & NA &  2 &  3\\\\\n",
       "\t Bernd     &  5 & NA & NA\\\\\n",
       "\t Christian &  3 &  1 &  2\\\\\n",
       "\t Doris     &  4 &  3 &  4\\\\\n",
       "\\end{tabular}\n"
      ],
      "text/markdown": [
       "\n",
       "A tibble: 4 × 4\n",
       "\n",
       "| student &lt;chr&gt; | algebra &lt;dbl&gt; | analysis &lt;dbl&gt; | diskrete.math &lt;dbl&gt; |\n",
       "|---|---|---|---|\n",
       "| Adam      | NA |  2 |  3 |\n",
       "| Bernd     |  5 | NA | NA |\n",
       "| Christian |  3 |  1 |  2 |\n",
       "| Doris     |  4 |  3 |  4 |\n",
       "\n"
      ],
      "text/plain": [
       "  student   algebra analysis diskrete.math\n",
       "1 Adam      NA       2        3           \n",
       "2 Bernd      5      NA       NA           \n",
       "3 Christian  3       1        2           \n",
       "4 Doris      4       3        4           "
      ]
     },
     "metadata": {},
     "output_type": "display_data"
    }
   ],
   "source": [
    "s1"
   ]
  },
  {
   "cell_type": "code",
   "execution_count": 18,
   "id": "1efdb7f3",
   "metadata": {
    "scrolled": true
   },
   "outputs": [
    {
     "data": {
      "text/html": [
       "<table class=\"dataframe\">\n",
       "<caption>A tibble: 12 × 3</caption>\n",
       "<thead>\n",
       "\t<tr><th scope=col>student</th><th scope=col>exam</th><th scope=col>grade</th></tr>\n",
       "\t<tr><th scope=col>&lt;chr&gt;</th><th scope=col>&lt;chr&gt;</th><th scope=col>&lt;dbl&gt;</th></tr>\n",
       "</thead>\n",
       "<tbody>\n",
       "\t<tr><td>Adam     </td><td>algebra      </td><td>NA</td></tr>\n",
       "\t<tr><td>Bernd    </td><td>algebra      </td><td> 5</td></tr>\n",
       "\t<tr><td>Christian</td><td>algebra      </td><td> 3</td></tr>\n",
       "\t<tr><td>Doris    </td><td>algebra      </td><td> 4</td></tr>\n",
       "\t<tr><td>Adam     </td><td>analysis     </td><td> 2</td></tr>\n",
       "\t<tr><td>Bernd    </td><td>analysis     </td><td>NA</td></tr>\n",
       "\t<tr><td>Christian</td><td>analysis     </td><td> 1</td></tr>\n",
       "\t<tr><td>Doris    </td><td>analysis     </td><td> 3</td></tr>\n",
       "\t<tr><td>Adam     </td><td>diskrete.math</td><td> 3</td></tr>\n",
       "\t<tr><td>Bernd    </td><td>diskrete.math</td><td>NA</td></tr>\n",
       "\t<tr><td>Christian</td><td>diskrete.math</td><td> 2</td></tr>\n",
       "\t<tr><td>Doris    </td><td>diskrete.math</td><td> 4</td></tr>\n",
       "</tbody>\n",
       "</table>\n"
      ],
      "text/latex": [
       "A tibble: 12 × 3\n",
       "\\begin{tabular}{lll}\n",
       " student & exam & grade\\\\\n",
       " <chr> & <chr> & <dbl>\\\\\n",
       "\\hline\n",
       "\t Adam      & algebra       & NA\\\\\n",
       "\t Bernd     & algebra       &  5\\\\\n",
       "\t Christian & algebra       &  3\\\\\n",
       "\t Doris     & algebra       &  4\\\\\n",
       "\t Adam      & analysis      &  2\\\\\n",
       "\t Bernd     & analysis      & NA\\\\\n",
       "\t Christian & analysis      &  1\\\\\n",
       "\t Doris     & analysis      &  3\\\\\n",
       "\t Adam      & diskrete.math &  3\\\\\n",
       "\t Bernd     & diskrete.math & NA\\\\\n",
       "\t Christian & diskrete.math &  2\\\\\n",
       "\t Doris     & diskrete.math &  4\\\\\n",
       "\\end{tabular}\n"
      ],
      "text/markdown": [
       "\n",
       "A tibble: 12 × 3\n",
       "\n",
       "| student &lt;chr&gt; | exam &lt;chr&gt; | grade &lt;dbl&gt; |\n",
       "|---|---|---|\n",
       "| Adam      | algebra       | NA |\n",
       "| Bernd     | algebra       |  5 |\n",
       "| Christian | algebra       |  3 |\n",
       "| Doris     | algebra       |  4 |\n",
       "| Adam      | analysis      |  2 |\n",
       "| Bernd     | analysis      | NA |\n",
       "| Christian | analysis      |  1 |\n",
       "| Doris     | analysis      |  3 |\n",
       "| Adam      | diskrete.math |  3 |\n",
       "| Bernd     | diskrete.math | NA |\n",
       "| Christian | diskrete.math |  2 |\n",
       "| Doris     | diskrete.math |  4 |\n",
       "\n"
      ],
      "text/plain": [
       "   student   exam          grade\n",
       "1  Adam      algebra       NA   \n",
       "2  Bernd     algebra        5   \n",
       "3  Christian algebra        3   \n",
       "4  Doris     algebra        4   \n",
       "5  Adam      analysis       2   \n",
       "6  Bernd     analysis      NA   \n",
       "7  Christian analysis       1   \n",
       "8  Doris     analysis       3   \n",
       "9  Adam      diskrete.math  3   \n",
       "10 Bernd     diskrete.math NA   \n",
       "11 Christian diskrete.math  2   \n",
       "12 Doris     diskrete.math  4   "
      ]
     },
     "metadata": {},
     "output_type": "display_data"
    }
   ],
   "source": [
    "s1  %>% gather(\"algebra\",\"analysis\",\"diskrete.math\",\n",
    "               key=\"exam\",value=\"grade\")->s1_new\n",
    "s1_new"
   ]
  },
  {
   "cell_type": "code",
   "execution_count": 19,
   "id": "e7b1f4d2",
   "metadata": {},
   "outputs": [
    {
     "data": {
      "text/html": [
       "<style>\n",
       ".list-inline {list-style: none; margin:0; padding: 0}\n",
       ".list-inline>li {display: inline-block}\n",
       ".list-inline>li:not(:last-child)::after {content: \"\\00b7\"; padding: 0 .5ex}\n",
       "</style>\n",
       "<ol class=list-inline><li>12</li><li>3</li></ol>\n"
      ],
      "text/latex": [
       "\\begin{enumerate*}\n",
       "\\item 12\n",
       "\\item 3\n",
       "\\end{enumerate*}\n"
      ],
      "text/markdown": [
       "1. 12\n",
       "2. 3\n",
       "\n",
       "\n"
      ],
      "text/plain": [
       "[1] 12  3"
      ]
     },
     "metadata": {},
     "output_type": "display_data"
    }
   ],
   "source": [
    "dim(s1_new)"
   ]
  },
  {
   "cell_type": "code",
   "execution_count": 20,
   "id": "d5494555",
   "metadata": {},
   "outputs": [
    {
     "data": {
      "text/html": [
       "<table class=\"dataframe\">\n",
       "<caption>A tibble: 8 × 3</caption>\n",
       "<thead>\n",
       "\t<tr><th scope=col>name</th><th scope=col>type</th><th scope=col>measure</th></tr>\n",
       "\t<tr><th scope=col>&lt;chr&gt;</th><th scope=col>&lt;chr&gt;</th><th scope=col>&lt;dbl&gt;</th></tr>\n",
       "</thead>\n",
       "<tbody>\n",
       "\t<tr><td>Adam     </td><td>height</td><td> 1.83</td></tr>\n",
       "\t<tr><td>Adam     </td><td>weight</td><td>81.00</td></tr>\n",
       "\t<tr><td>Bernd    </td><td>height</td><td> 1.75</td></tr>\n",
       "\t<tr><td>Bernd    </td><td>weight</td><td>71.00</td></tr>\n",
       "\t<tr><td>Christian</td><td>height</td><td> 1.69</td></tr>\n",
       "\t<tr><td>Christian</td><td>weight</td><td>55.00</td></tr>\n",
       "\t<tr><td>Doris    </td><td>height</td><td> 1.57</td></tr>\n",
       "\t<tr><td>Doris    </td><td>weight</td><td>62.00</td></tr>\n",
       "</tbody>\n",
       "</table>\n"
      ],
      "text/latex": [
       "A tibble: 8 × 3\n",
       "\\begin{tabular}{lll}\n",
       " name & type & measure\\\\\n",
       " <chr> & <chr> & <dbl>\\\\\n",
       "\\hline\n",
       "\t Adam      & height &  1.83\\\\\n",
       "\t Adam      & weight & 81.00\\\\\n",
       "\t Bernd     & height &  1.75\\\\\n",
       "\t Bernd     & weight & 71.00\\\\\n",
       "\t Christian & height &  1.69\\\\\n",
       "\t Christian & weight & 55.00\\\\\n",
       "\t Doris     & height &  1.57\\\\\n",
       "\t Doris     & weight & 62.00\\\\\n",
       "\\end{tabular}\n"
      ],
      "text/markdown": [
       "\n",
       "A tibble: 8 × 3\n",
       "\n",
       "| name &lt;chr&gt; | type &lt;chr&gt; | measure &lt;dbl&gt; |\n",
       "|---|---|---|\n",
       "| Adam      | height |  1.83 |\n",
       "| Adam      | weight | 81.00 |\n",
       "| Bernd     | height |  1.75 |\n",
       "| Bernd     | weight | 71.00 |\n",
       "| Christian | height |  1.69 |\n",
       "| Christian | weight | 55.00 |\n",
       "| Doris     | height |  1.57 |\n",
       "| Doris     | weight | 62.00 |\n",
       "\n"
      ],
      "text/plain": [
       "  name      type   measure\n",
       "1 Adam      height  1.83  \n",
       "2 Adam      weight 81.00  \n",
       "3 Bernd     height  1.75  \n",
       "4 Bernd     weight 71.00  \n",
       "5 Christian height  1.69  \n",
       "6 Christian weight 55.00  \n",
       "7 Doris     height  1.57  \n",
       "8 Doris     weight 62.00  "
      ]
     },
     "metadata": {},
     "output_type": "display_data"
    }
   ],
   "source": [
    "s2"
   ]
  },
  {
   "cell_type": "code",
   "execution_count": 18,
   "id": "d4195af2",
   "metadata": {
    "scrolled": false
   },
   "outputs": [
    {
     "data": {
      "text/html": [
       "<table class=\"dataframe\">\n",
       "<caption>A tibble: 4 × 3</caption>\n",
       "<thead>\n",
       "\t<tr><th scope=col>name</th><th scope=col>height</th><th scope=col>weight</th></tr>\n",
       "\t<tr><th scope=col>&lt;chr&gt;</th><th scope=col>&lt;dbl&gt;</th><th scope=col>&lt;dbl&gt;</th></tr>\n",
       "</thead>\n",
       "<tbody>\n",
       "\t<tr><td>Adam     </td><td>1.83</td><td>81</td></tr>\n",
       "\t<tr><td>Bernd    </td><td>1.75</td><td>71</td></tr>\n",
       "\t<tr><td>Christian</td><td>1.69</td><td>55</td></tr>\n",
       "\t<tr><td>Doris    </td><td>1.57</td><td>62</td></tr>\n",
       "</tbody>\n",
       "</table>\n"
      ],
      "text/latex": [
       "A tibble: 4 × 3\n",
       "\\begin{tabular}{lll}\n",
       " name & height & weight\\\\\n",
       " <chr> & <dbl> & <dbl>\\\\\n",
       "\\hline\n",
       "\t Adam      & 1.83 & 81\\\\\n",
       "\t Bernd     & 1.75 & 71\\\\\n",
       "\t Christian & 1.69 & 55\\\\\n",
       "\t Doris     & 1.57 & 62\\\\\n",
       "\\end{tabular}\n"
      ],
      "text/markdown": [
       "\n",
       "A tibble: 4 × 3\n",
       "\n",
       "| name &lt;chr&gt; | height &lt;dbl&gt; | weight &lt;dbl&gt; |\n",
       "|---|---|---|\n",
       "| Adam      | 1.83 | 81 |\n",
       "| Bernd     | 1.75 | 71 |\n",
       "| Christian | 1.69 | 55 |\n",
       "| Doris     | 1.57 | 62 |\n",
       "\n"
      ],
      "text/plain": [
       "  name      height weight\n",
       "1 Adam      1.83   81    \n",
       "2 Bernd     1.75   71    \n",
       "3 Christian 1.69   55    \n",
       "4 Doris     1.57   62    "
      ]
     },
     "metadata": {},
     "output_type": "display_data"
    }
   ],
   "source": [
    "s2 %>% spread(key=type, value=measure)"
   ]
  },
  {
   "cell_type": "code",
   "execution_count": 22,
   "id": "0eb14f7e",
   "metadata": {
    "scrolled": true
   },
   "outputs": [
    {
     "data": {
      "text/html": [
       "<table class=\"dataframe\">\n",
       "<caption>A tibble: 4 × 2</caption>\n",
       "<thead>\n",
       "\t<tr><th scope=col>name</th><th scope=col>ratio</th></tr>\n",
       "\t<tr><th scope=col>&lt;chr&gt;</th><th scope=col>&lt;chr&gt;</th></tr>\n",
       "</thead>\n",
       "<tbody>\n",
       "\t<tr><td>Adam     </td><td>81/1.83</td></tr>\n",
       "\t<tr><td>Bernd    </td><td>71/1.75</td></tr>\n",
       "\t<tr><td>Christian</td><td>55/1.69</td></tr>\n",
       "\t<tr><td>Doris    </td><td>62/1.57</td></tr>\n",
       "</tbody>\n",
       "</table>\n"
      ],
      "text/latex": [
       "A tibble: 4 × 2\n",
       "\\begin{tabular}{ll}\n",
       " name & ratio\\\\\n",
       " <chr> & <chr>\\\\\n",
       "\\hline\n",
       "\t Adam      & 81/1.83\\\\\n",
       "\t Bernd     & 71/1.75\\\\\n",
       "\t Christian & 55/1.69\\\\\n",
       "\t Doris     & 62/1.57\\\\\n",
       "\\end{tabular}\n"
      ],
      "text/markdown": [
       "\n",
       "A tibble: 4 × 2\n",
       "\n",
       "| name &lt;chr&gt; | ratio &lt;chr&gt; |\n",
       "|---|---|\n",
       "| Adam      | 81/1.83 |\n",
       "| Bernd     | 71/1.75 |\n",
       "| Christian | 55/1.69 |\n",
       "| Doris     | 62/1.57 |\n",
       "\n"
      ],
      "text/plain": [
       "  name      ratio  \n",
       "1 Adam      81/1.83\n",
       "2 Bernd     71/1.75\n",
       "3 Christian 55/1.69\n",
       "4 Doris     62/1.57"
      ]
     },
     "metadata": {},
     "output_type": "display_data"
    }
   ],
   "source": [
    "s3"
   ]
  },
  {
   "cell_type": "code",
   "execution_count": 25,
   "id": "d753a2c3",
   "metadata": {
    "scrolled": true
   },
   "outputs": [
    {
     "data": {
      "text/html": [
       "<table class=\"dataframe\">\n",
       "<caption>A tibble: 4 × 3</caption>\n",
       "<thead>\n",
       "\t<tr><th scope=col>name</th><th scope=col>weight</th><th scope=col>height</th></tr>\n",
       "\t<tr><th scope=col>&lt;chr&gt;</th><th scope=col>&lt;chr&gt;</th><th scope=col>&lt;chr&gt;</th></tr>\n",
       "</thead>\n",
       "<tbody>\n",
       "\t<tr><td>Adam     </td><td>81</td><td>1.83</td></tr>\n",
       "\t<tr><td>Bernd    </td><td>71</td><td>1.75</td></tr>\n",
       "\t<tr><td>Christian</td><td>55</td><td>1.69</td></tr>\n",
       "\t<tr><td>Doris    </td><td>62</td><td>1.57</td></tr>\n",
       "</tbody>\n",
       "</table>\n"
      ],
      "text/latex": [
       "A tibble: 4 × 3\n",
       "\\begin{tabular}{lll}\n",
       " name & weight & height\\\\\n",
       " <chr> & <chr> & <chr>\\\\\n",
       "\\hline\n",
       "\t Adam      & 81 & 1.83\\\\\n",
       "\t Bernd     & 71 & 1.75\\\\\n",
       "\t Christian & 55 & 1.69\\\\\n",
       "\t Doris     & 62 & 1.57\\\\\n",
       "\\end{tabular}\n"
      ],
      "text/markdown": [
       "\n",
       "A tibble: 4 × 3\n",
       "\n",
       "| name &lt;chr&gt; | weight &lt;chr&gt; | height &lt;chr&gt; |\n",
       "|---|---|---|\n",
       "| Adam      | 81 | 1.83 |\n",
       "| Bernd     | 71 | 1.75 |\n",
       "| Christian | 55 | 1.69 |\n",
       "| Doris     | 62 | 1.57 |\n",
       "\n"
      ],
      "text/plain": [
       "  name      weight height\n",
       "1 Adam      81     1.83  \n",
       "2 Bernd     71     1.75  \n",
       "3 Christian 55     1.69  \n",
       "4 Doris     62     1.57  "
      ]
     },
     "metadata": {},
     "output_type": "display_data"
    }
   ],
   "source": [
    "s3 %>% separate(col = ratio, into=c(\"weight\",\"height\"),sep = \"/\")->s3_nw\n",
    "s3_nw"
   ]
  },
  {
   "cell_type": "code",
   "execution_count": 28,
   "id": "3699cd0f",
   "metadata": {
    "scrolled": true
   },
   "outputs": [
    {
     "data": {
      "text/html": [
       "<table class=\"dataframe\">\n",
       "<caption>A tibble: 4 × 2</caption>\n",
       "<thead>\n",
       "\t<tr><th scope=col>name</th><th scope=col>ratio</th></tr>\n",
       "\t<tr><th scope=col>&lt;chr&gt;</th><th scope=col>&lt;chr&gt;</th></tr>\n",
       "</thead>\n",
       "<tbody>\n",
       "\t<tr><td>Adam     </td><td>81-1.83</td></tr>\n",
       "\t<tr><td>Bernd    </td><td>71-1.75</td></tr>\n",
       "\t<tr><td>Christian</td><td>55-1.69</td></tr>\n",
       "\t<tr><td>Doris    </td><td>62-1.57</td></tr>\n",
       "</tbody>\n",
       "</table>\n"
      ],
      "text/latex": [
       "A tibble: 4 × 2\n",
       "\\begin{tabular}{ll}\n",
       " name & ratio\\\\\n",
       " <chr> & <chr>\\\\\n",
       "\\hline\n",
       "\t Adam      & 81-1.83\\\\\n",
       "\t Bernd     & 71-1.75\\\\\n",
       "\t Christian & 55-1.69\\\\\n",
       "\t Doris     & 62-1.57\\\\\n",
       "\\end{tabular}\n"
      ],
      "text/markdown": [
       "\n",
       "A tibble: 4 × 2\n",
       "\n",
       "| name &lt;chr&gt; | ratio &lt;chr&gt; |\n",
       "|---|---|\n",
       "| Adam      | 81-1.83 |\n",
       "| Bernd     | 71-1.75 |\n",
       "| Christian | 55-1.69 |\n",
       "| Doris     | 62-1.57 |\n",
       "\n"
      ],
      "text/plain": [
       "  name      ratio  \n",
       "1 Adam      81-1.83\n",
       "2 Bernd     71-1.75\n",
       "3 Christian 55-1.69\n",
       "4 Doris     62-1.57"
      ]
     },
     "metadata": {},
     "output_type": "display_data"
    }
   ],
   "source": [
    "s3_nw %>% unite(col=\"ratio\",weight,height,sep=\"-\")"
   ]
  },
  {
   "cell_type": "markdown",
   "id": "6cad4190",
   "metadata": {},
   "source": [
    "## some more examples of <code style=\"color:green\">gather()</code>, <code style=\"color:green\">seperate()</code>, <code style=\"color:green\">spread()</code>,<code style=\"color:green\">unite()</code>"
   ]
  },
  {
   "cell_type": "code",
   "execution_count": 31,
   "id": "8ed01423",
   "metadata": {
    "scrolled": false
   },
   "outputs": [
    {
     "data": {
      "text/html": [
       "<table class=\"dataframe\">\n",
       "<caption>A tibble: 6 × 4</caption>\n",
       "<thead>\n",
       "\t<tr><th scope=col>country</th><th scope=col>year</th><th scope=col>cases</th><th scope=col>population</th></tr>\n",
       "\t<tr><th scope=col>&lt;chr&gt;</th><th scope=col>&lt;dbl&gt;</th><th scope=col>&lt;dbl&gt;</th><th scope=col>&lt;dbl&gt;</th></tr>\n",
       "</thead>\n",
       "<tbody>\n",
       "\t<tr><td>Afghanistan</td><td>1999</td><td>   745</td><td>  19987071</td></tr>\n",
       "\t<tr><td>Afghanistan</td><td>2000</td><td>  2666</td><td>  20595360</td></tr>\n",
       "\t<tr><td>Brazil     </td><td>1999</td><td> 37737</td><td> 172006362</td></tr>\n",
       "\t<tr><td>Brazil     </td><td>2000</td><td> 80488</td><td> 174504898</td></tr>\n",
       "\t<tr><td>China      </td><td>1999</td><td>212258</td><td>1272915272</td></tr>\n",
       "\t<tr><td>China      </td><td>2000</td><td>213766</td><td>1280428583</td></tr>\n",
       "</tbody>\n",
       "</table>\n"
      ],
      "text/latex": [
       "A tibble: 6 × 4\n",
       "\\begin{tabular}{llll}\n",
       " country & year & cases & population\\\\\n",
       " <chr> & <dbl> & <dbl> & <dbl>\\\\\n",
       "\\hline\n",
       "\t Afghanistan & 1999 &    745 &   19987071\\\\\n",
       "\t Afghanistan & 2000 &   2666 &   20595360\\\\\n",
       "\t Brazil      & 1999 &  37737 &  172006362\\\\\n",
       "\t Brazil      & 2000 &  80488 &  174504898\\\\\n",
       "\t China       & 1999 & 212258 & 1272915272\\\\\n",
       "\t China       & 2000 & 213766 & 1280428583\\\\\n",
       "\\end{tabular}\n"
      ],
      "text/markdown": [
       "\n",
       "A tibble: 6 × 4\n",
       "\n",
       "| country &lt;chr&gt; | year &lt;dbl&gt; | cases &lt;dbl&gt; | population &lt;dbl&gt; |\n",
       "|---|---|---|---|\n",
       "| Afghanistan | 1999 |    745 |   19987071 |\n",
       "| Afghanistan | 2000 |   2666 |   20595360 |\n",
       "| Brazil      | 1999 |  37737 |  172006362 |\n",
       "| Brazil      | 2000 |  80488 |  174504898 |\n",
       "| China       | 1999 | 212258 | 1272915272 |\n",
       "| China       | 2000 | 213766 | 1280428583 |\n",
       "\n"
      ],
      "text/plain": [
       "  country     year cases  population\n",
       "1 Afghanistan 1999    745   19987071\n",
       "2 Afghanistan 2000   2666   20595360\n",
       "3 Brazil      1999  37737  172006362\n",
       "4 Brazil      2000  80488  174504898\n",
       "5 China       1999 212258 1272915272\n",
       "6 China       2000 213766 1280428583"
      ]
     },
     "metadata": {},
     "output_type": "display_data"
    }
   ],
   "source": [
    "table1"
   ]
  },
  {
   "cell_type": "code",
   "execution_count": 41,
   "id": "fe030056",
   "metadata": {
    "scrolled": true
   },
   "outputs": [
    {
     "data": {
      "text/html": [
       "<table class=\"dataframe\">\n",
       "<caption>A tibble: 3 × 3</caption>\n",
       "<thead>\n",
       "\t<tr><th scope=col>country</th><th scope=col>1999</th><th scope=col>2000</th></tr>\n",
       "\t<tr><th scope=col>&lt;chr&gt;</th><th scope=col>&lt;dbl&gt;</th><th scope=col>&lt;dbl&gt;</th></tr>\n",
       "</thead>\n",
       "<tbody>\n",
       "\t<tr><td>Afghanistan</td><td>   745</td><td>  2666</td></tr>\n",
       "\t<tr><td>Brazil     </td><td> 37737</td><td> 80488</td></tr>\n",
       "\t<tr><td>China      </td><td>212258</td><td>213766</td></tr>\n",
       "</tbody>\n",
       "</table>\n"
      ],
      "text/latex": [
       "A tibble: 3 × 3\n",
       "\\begin{tabular}{lll}\n",
       " country & 1999 & 2000\\\\\n",
       " <chr> & <dbl> & <dbl>\\\\\n",
       "\\hline\n",
       "\t Afghanistan &    745 &   2666\\\\\n",
       "\t Brazil      &  37737 &  80488\\\\\n",
       "\t China       & 212258 & 213766\\\\\n",
       "\\end{tabular}\n"
      ],
      "text/markdown": [
       "\n",
       "A tibble: 3 × 3\n",
       "\n",
       "| country &lt;chr&gt; | 1999 &lt;dbl&gt; | 2000 &lt;dbl&gt; |\n",
       "|---|---|---|\n",
       "| Afghanistan |    745 |   2666 |\n",
       "| Brazil      |  37737 |  80488 |\n",
       "| China       | 212258 | 213766 |\n",
       "\n"
      ],
      "text/plain": [
       "  country     1999   2000  \n",
       "1 Afghanistan    745   2666\n",
       "2 Brazil       37737  80488\n",
       "3 China       212258 213766"
      ]
     },
     "metadata": {},
     "output_type": "display_data"
    }
   ],
   "source": [
    "table1 %>% select(-population) %>% spread(key=year,value=cases)"
   ]
  },
  {
   "cell_type": "code",
   "execution_count": 42,
   "id": "456bde3e",
   "metadata": {
    "scrolled": true
   },
   "outputs": [
    {
     "data": {
      "text/html": [
       "<table class=\"dataframe\">\n",
       "<caption>A tibble: 3 × 3</caption>\n",
       "<thead>\n",
       "\t<tr><th scope=col>country</th><th scope=col>1999</th><th scope=col>2000</th></tr>\n",
       "\t<tr><th scope=col>&lt;chr&gt;</th><th scope=col>&lt;dbl&gt;</th><th scope=col>&lt;dbl&gt;</th></tr>\n",
       "</thead>\n",
       "<tbody>\n",
       "\t<tr><td>Afghanistan</td><td>  19987071</td><td>  20595360</td></tr>\n",
       "\t<tr><td>Brazil     </td><td> 172006362</td><td> 174504898</td></tr>\n",
       "\t<tr><td>China      </td><td>1272915272</td><td>1280428583</td></tr>\n",
       "</tbody>\n",
       "</table>\n"
      ],
      "text/latex": [
       "A tibble: 3 × 3\n",
       "\\begin{tabular}{lll}\n",
       " country & 1999 & 2000\\\\\n",
       " <chr> & <dbl> & <dbl>\\\\\n",
       "\\hline\n",
       "\t Afghanistan &   19987071 &   20595360\\\\\n",
       "\t Brazil      &  172006362 &  174504898\\\\\n",
       "\t China       & 1272915272 & 1280428583\\\\\n",
       "\\end{tabular}\n"
      ],
      "text/markdown": [
       "\n",
       "A tibble: 3 × 3\n",
       "\n",
       "| country &lt;chr&gt; | 1999 &lt;dbl&gt; | 2000 &lt;dbl&gt; |\n",
       "|---|---|---|\n",
       "| Afghanistan |   19987071 |   20595360 |\n",
       "| Brazil      |  172006362 |  174504898 |\n",
       "| China       | 1272915272 | 1280428583 |\n",
       "\n"
      ],
      "text/plain": [
       "  country     1999       2000      \n",
       "1 Afghanistan   19987071   20595360\n",
       "2 Brazil       172006362  174504898\n",
       "3 China       1272915272 1280428583"
      ]
     },
     "metadata": {},
     "output_type": "display_data"
    }
   ],
   "source": [
    "table1 %>% select(-cases) %>% spread(key=year,value=population)"
   ]
  },
  {
   "cell_type": "markdown",
   "id": "a3815084",
   "metadata": {},
   "source": [
    "## table1 > table2"
   ]
  },
  {
   "cell_type": "code",
   "execution_count": 46,
   "id": "ebfff26c",
   "metadata": {
    "scrolled": true
   },
   "outputs": [
    {
     "data": {
      "text/html": [
       "<table class=\"dataframe\">\n",
       "<caption>A tibble: 12 × 4</caption>\n",
       "<thead>\n",
       "\t<tr><th scope=col>country</th><th scope=col>year</th><th scope=col>type</th><th scope=col>count</th></tr>\n",
       "\t<tr><th scope=col>&lt;chr&gt;</th><th scope=col>&lt;dbl&gt;</th><th scope=col>&lt;chr&gt;</th><th scope=col>&lt;dbl&gt;</th></tr>\n",
       "</thead>\n",
       "<tbody>\n",
       "\t<tr><td>Afghanistan</td><td>1999</td><td>cases     </td><td>       745</td></tr>\n",
       "\t<tr><td>Afghanistan</td><td>2000</td><td>cases     </td><td>      2666</td></tr>\n",
       "\t<tr><td>Afghanistan</td><td>1999</td><td>population</td><td>  19987071</td></tr>\n",
       "\t<tr><td>Afghanistan</td><td>2000</td><td>population</td><td>  20595360</td></tr>\n",
       "\t<tr><td>Brazil     </td><td>1999</td><td>cases     </td><td>     37737</td></tr>\n",
       "\t<tr><td>Brazil     </td><td>2000</td><td>cases     </td><td>     80488</td></tr>\n",
       "\t<tr><td>Brazil     </td><td>1999</td><td>population</td><td> 172006362</td></tr>\n",
       "\t<tr><td>Brazil     </td><td>2000</td><td>population</td><td> 174504898</td></tr>\n",
       "\t<tr><td>China      </td><td>1999</td><td>cases     </td><td>    212258</td></tr>\n",
       "\t<tr><td>China      </td><td>2000</td><td>cases     </td><td>    213766</td></tr>\n",
       "\t<tr><td>China      </td><td>1999</td><td>population</td><td>1272915272</td></tr>\n",
       "\t<tr><td>China      </td><td>2000</td><td>population</td><td>1280428583</td></tr>\n",
       "</tbody>\n",
       "</table>\n"
      ],
      "text/latex": [
       "A tibble: 12 × 4\n",
       "\\begin{tabular}{llll}\n",
       " country & year & type & count\\\\\n",
       " <chr> & <dbl> & <chr> & <dbl>\\\\\n",
       "\\hline\n",
       "\t Afghanistan & 1999 & cases      &        745\\\\\n",
       "\t Afghanistan & 2000 & cases      &       2666\\\\\n",
       "\t Afghanistan & 1999 & population &   19987071\\\\\n",
       "\t Afghanistan & 2000 & population &   20595360\\\\\n",
       "\t Brazil      & 1999 & cases      &      37737\\\\\n",
       "\t Brazil      & 2000 & cases      &      80488\\\\\n",
       "\t Brazil      & 1999 & population &  172006362\\\\\n",
       "\t Brazil      & 2000 & population &  174504898\\\\\n",
       "\t China       & 1999 & cases      &     212258\\\\\n",
       "\t China       & 2000 & cases      &     213766\\\\\n",
       "\t China       & 1999 & population & 1272915272\\\\\n",
       "\t China       & 2000 & population & 1280428583\\\\\n",
       "\\end{tabular}\n"
      ],
      "text/markdown": [
       "\n",
       "A tibble: 12 × 4\n",
       "\n",
       "| country &lt;chr&gt; | year &lt;dbl&gt; | type &lt;chr&gt; | count &lt;dbl&gt; |\n",
       "|---|---|---|---|\n",
       "| Afghanistan | 1999 | cases      |        745 |\n",
       "| Afghanistan | 2000 | cases      |       2666 |\n",
       "| Afghanistan | 1999 | population |   19987071 |\n",
       "| Afghanistan | 2000 | population |   20595360 |\n",
       "| Brazil      | 1999 | cases      |      37737 |\n",
       "| Brazil      | 2000 | cases      |      80488 |\n",
       "| Brazil      | 1999 | population |  172006362 |\n",
       "| Brazil      | 2000 | population |  174504898 |\n",
       "| China       | 1999 | cases      |     212258 |\n",
       "| China       | 2000 | cases      |     213766 |\n",
       "| China       | 1999 | population | 1272915272 |\n",
       "| China       | 2000 | population | 1280428583 |\n",
       "\n"
      ],
      "text/plain": [
       "   country     year type       count     \n",
       "1  Afghanistan 1999 cases             745\n",
       "2  Afghanistan 2000 cases            2666\n",
       "3  Afghanistan 1999 population   19987071\n",
       "4  Afghanistan 2000 population   20595360\n",
       "5  Brazil      1999 cases           37737\n",
       "6  Brazil      2000 cases           80488\n",
       "7  Brazil      1999 population  172006362\n",
       "8  Brazil      2000 population  174504898\n",
       "9  China       1999 cases          212258\n",
       "10 China       2000 cases          213766\n",
       "11 China       1999 population 1272915272\n",
       "12 China       2000 population 1280428583"
      ]
     },
     "metadata": {},
     "output_type": "display_data"
    }
   ],
   "source": [
    "table1 %>% gather(cases,population,key=\"type\",value=\"count\") %>% arrange(country)"
   ]
  },
  {
   "cell_type": "code",
   "execution_count": 43,
   "id": "4f729c1d",
   "metadata": {
    "scrolled": false
   },
   "outputs": [
    {
     "data": {
      "text/html": [
       "<table class=\"dataframe\">\n",
       "<caption>A tibble: 12 × 4</caption>\n",
       "<thead>\n",
       "\t<tr><th scope=col>country</th><th scope=col>year</th><th scope=col>type</th><th scope=col>count</th></tr>\n",
       "\t<tr><th scope=col>&lt;chr&gt;</th><th scope=col>&lt;dbl&gt;</th><th scope=col>&lt;chr&gt;</th><th scope=col>&lt;dbl&gt;</th></tr>\n",
       "</thead>\n",
       "<tbody>\n",
       "\t<tr><td>Afghanistan</td><td>1999</td><td>cases     </td><td>       745</td></tr>\n",
       "\t<tr><td>Afghanistan</td><td>1999</td><td>population</td><td>  19987071</td></tr>\n",
       "\t<tr><td>Afghanistan</td><td>2000</td><td>cases     </td><td>      2666</td></tr>\n",
       "\t<tr><td>Afghanistan</td><td>2000</td><td>population</td><td>  20595360</td></tr>\n",
       "\t<tr><td>Brazil     </td><td>1999</td><td>cases     </td><td>     37737</td></tr>\n",
       "\t<tr><td>Brazil     </td><td>1999</td><td>population</td><td> 172006362</td></tr>\n",
       "\t<tr><td>Brazil     </td><td>2000</td><td>cases     </td><td>     80488</td></tr>\n",
       "\t<tr><td>Brazil     </td><td>2000</td><td>population</td><td> 174504898</td></tr>\n",
       "\t<tr><td>China      </td><td>1999</td><td>cases     </td><td>    212258</td></tr>\n",
       "\t<tr><td>China      </td><td>1999</td><td>population</td><td>1272915272</td></tr>\n",
       "\t<tr><td>China      </td><td>2000</td><td>cases     </td><td>    213766</td></tr>\n",
       "\t<tr><td>China      </td><td>2000</td><td>population</td><td>1280428583</td></tr>\n",
       "</tbody>\n",
       "</table>\n"
      ],
      "text/latex": [
       "A tibble: 12 × 4\n",
       "\\begin{tabular}{llll}\n",
       " country & year & type & count\\\\\n",
       " <chr> & <dbl> & <chr> & <dbl>\\\\\n",
       "\\hline\n",
       "\t Afghanistan & 1999 & cases      &        745\\\\\n",
       "\t Afghanistan & 1999 & population &   19987071\\\\\n",
       "\t Afghanistan & 2000 & cases      &       2666\\\\\n",
       "\t Afghanistan & 2000 & population &   20595360\\\\\n",
       "\t Brazil      & 1999 & cases      &      37737\\\\\n",
       "\t Brazil      & 1999 & population &  172006362\\\\\n",
       "\t Brazil      & 2000 & cases      &      80488\\\\\n",
       "\t Brazil      & 2000 & population &  174504898\\\\\n",
       "\t China       & 1999 & cases      &     212258\\\\\n",
       "\t China       & 1999 & population & 1272915272\\\\\n",
       "\t China       & 2000 & cases      &     213766\\\\\n",
       "\t China       & 2000 & population & 1280428583\\\\\n",
       "\\end{tabular}\n"
      ],
      "text/markdown": [
       "\n",
       "A tibble: 12 × 4\n",
       "\n",
       "| country &lt;chr&gt; | year &lt;dbl&gt; | type &lt;chr&gt; | count &lt;dbl&gt; |\n",
       "|---|---|---|---|\n",
       "| Afghanistan | 1999 | cases      |        745 |\n",
       "| Afghanistan | 1999 | population |   19987071 |\n",
       "| Afghanistan | 2000 | cases      |       2666 |\n",
       "| Afghanistan | 2000 | population |   20595360 |\n",
       "| Brazil      | 1999 | cases      |      37737 |\n",
       "| Brazil      | 1999 | population |  172006362 |\n",
       "| Brazil      | 2000 | cases      |      80488 |\n",
       "| Brazil      | 2000 | population |  174504898 |\n",
       "| China       | 1999 | cases      |     212258 |\n",
       "| China       | 1999 | population | 1272915272 |\n",
       "| China       | 2000 | cases      |     213766 |\n",
       "| China       | 2000 | population | 1280428583 |\n",
       "\n"
      ],
      "text/plain": [
       "   country     year type       count     \n",
       "1  Afghanistan 1999 cases             745\n",
       "2  Afghanistan 1999 population   19987071\n",
       "3  Afghanistan 2000 cases            2666\n",
       "4  Afghanistan 2000 population   20595360\n",
       "5  Brazil      1999 cases           37737\n",
       "6  Brazil      1999 population  172006362\n",
       "7  Brazil      2000 cases           80488\n",
       "8  Brazil      2000 population  174504898\n",
       "9  China       1999 cases          212258\n",
       "10 China       1999 population 1272915272\n",
       "11 China       2000 cases          213766\n",
       "12 China       2000 population 1280428583"
      ]
     },
     "metadata": {},
     "output_type": "display_data"
    }
   ],
   "source": [
    "table2"
   ]
  },
  {
   "cell_type": "markdown",
   "id": "b0f98230",
   "metadata": {},
   "source": [
    "## table2 > table1"
   ]
  },
  {
   "cell_type": "code",
   "execution_count": 48,
   "id": "c1504fdc",
   "metadata": {},
   "outputs": [
    {
     "data": {
      "text/html": [
       "<table class=\"dataframe\">\n",
       "<caption>A tibble: 6 × 4</caption>\n",
       "<thead>\n",
       "\t<tr><th scope=col>country</th><th scope=col>year</th><th scope=col>cases</th><th scope=col>population</th></tr>\n",
       "\t<tr><th scope=col>&lt;chr&gt;</th><th scope=col>&lt;dbl&gt;</th><th scope=col>&lt;dbl&gt;</th><th scope=col>&lt;dbl&gt;</th></tr>\n",
       "</thead>\n",
       "<tbody>\n",
       "\t<tr><td>Afghanistan</td><td>1999</td><td>   745</td><td>  19987071</td></tr>\n",
       "\t<tr><td>Afghanistan</td><td>2000</td><td>  2666</td><td>  20595360</td></tr>\n",
       "\t<tr><td>Brazil     </td><td>1999</td><td> 37737</td><td> 172006362</td></tr>\n",
       "\t<tr><td>Brazil     </td><td>2000</td><td> 80488</td><td> 174504898</td></tr>\n",
       "\t<tr><td>China      </td><td>1999</td><td>212258</td><td>1272915272</td></tr>\n",
       "\t<tr><td>China      </td><td>2000</td><td>213766</td><td>1280428583</td></tr>\n",
       "</tbody>\n",
       "</table>\n"
      ],
      "text/latex": [
       "A tibble: 6 × 4\n",
       "\\begin{tabular}{llll}\n",
       " country & year & cases & population\\\\\n",
       " <chr> & <dbl> & <dbl> & <dbl>\\\\\n",
       "\\hline\n",
       "\t Afghanistan & 1999 &    745 &   19987071\\\\\n",
       "\t Afghanistan & 2000 &   2666 &   20595360\\\\\n",
       "\t Brazil      & 1999 &  37737 &  172006362\\\\\n",
       "\t Brazil      & 2000 &  80488 &  174504898\\\\\n",
       "\t China       & 1999 & 212258 & 1272915272\\\\\n",
       "\t China       & 2000 & 213766 & 1280428583\\\\\n",
       "\\end{tabular}\n"
      ],
      "text/markdown": [
       "\n",
       "A tibble: 6 × 4\n",
       "\n",
       "| country &lt;chr&gt; | year &lt;dbl&gt; | cases &lt;dbl&gt; | population &lt;dbl&gt; |\n",
       "|---|---|---|---|\n",
       "| Afghanistan | 1999 |    745 |   19987071 |\n",
       "| Afghanistan | 2000 |   2666 |   20595360 |\n",
       "| Brazil      | 1999 |  37737 |  172006362 |\n",
       "| Brazil      | 2000 |  80488 |  174504898 |\n",
       "| China       | 1999 | 212258 | 1272915272 |\n",
       "| China       | 2000 | 213766 | 1280428583 |\n",
       "\n"
      ],
      "text/plain": [
       "  country     year cases  population\n",
       "1 Afghanistan 1999    745   19987071\n",
       "2 Afghanistan 2000   2666   20595360\n",
       "3 Brazil      1999  37737  172006362\n",
       "4 Brazil      2000  80488  174504898\n",
       "5 China       1999 212258 1272915272\n",
       "6 China       2000 213766 1280428583"
      ]
     },
     "metadata": {},
     "output_type": "display_data"
    }
   ],
   "source": [
    "table2 %>% spread(key =type,value=count )"
   ]
  },
  {
   "cell_type": "code",
   "execution_count": 33,
   "id": "a41df13e",
   "metadata": {
    "scrolled": false
   },
   "outputs": [
    {
     "data": {
      "text/html": [
       "<table class=\"dataframe\">\n",
       "<caption>A tibble: 6 × 3</caption>\n",
       "<thead>\n",
       "\t<tr><th scope=col>country</th><th scope=col>year</th><th scope=col>rate</th></tr>\n",
       "\t<tr><th scope=col>&lt;chr&gt;</th><th scope=col>&lt;dbl&gt;</th><th scope=col>&lt;chr&gt;</th></tr>\n",
       "</thead>\n",
       "<tbody>\n",
       "\t<tr><td>Afghanistan</td><td>1999</td><td>745/19987071     </td></tr>\n",
       "\t<tr><td>Afghanistan</td><td>2000</td><td>2666/20595360    </td></tr>\n",
       "\t<tr><td>Brazil     </td><td>1999</td><td>37737/172006362  </td></tr>\n",
       "\t<tr><td>Brazil     </td><td>2000</td><td>80488/174504898  </td></tr>\n",
       "\t<tr><td>China      </td><td>1999</td><td>212258/1272915272</td></tr>\n",
       "\t<tr><td>China      </td><td>2000</td><td>213766/1280428583</td></tr>\n",
       "</tbody>\n",
       "</table>\n"
      ],
      "text/latex": [
       "A tibble: 6 × 3\n",
       "\\begin{tabular}{lll}\n",
       " country & year & rate\\\\\n",
       " <chr> & <dbl> & <chr>\\\\\n",
       "\\hline\n",
       "\t Afghanistan & 1999 & 745/19987071     \\\\\n",
       "\t Afghanistan & 2000 & 2666/20595360    \\\\\n",
       "\t Brazil      & 1999 & 37737/172006362  \\\\\n",
       "\t Brazil      & 2000 & 80488/174504898  \\\\\n",
       "\t China       & 1999 & 212258/1272915272\\\\\n",
       "\t China       & 2000 & 213766/1280428583\\\\\n",
       "\\end{tabular}\n"
      ],
      "text/markdown": [
       "\n",
       "A tibble: 6 × 3\n",
       "\n",
       "| country &lt;chr&gt; | year &lt;dbl&gt; | rate &lt;chr&gt; |\n",
       "|---|---|---|\n",
       "| Afghanistan | 1999 | 745/19987071      |\n",
       "| Afghanistan | 2000 | 2666/20595360     |\n",
       "| Brazil      | 1999 | 37737/172006362   |\n",
       "| Brazil      | 2000 | 80488/174504898   |\n",
       "| China       | 1999 | 212258/1272915272 |\n",
       "| China       | 2000 | 213766/1280428583 |\n",
       "\n"
      ],
      "text/plain": [
       "  country     year rate             \n",
       "1 Afghanistan 1999 745/19987071     \n",
       "2 Afghanistan 2000 2666/20595360    \n",
       "3 Brazil      1999 37737/172006362  \n",
       "4 Brazil      2000 80488/174504898  \n",
       "5 China       1999 212258/1272915272\n",
       "6 China       2000 213766/1280428583"
      ]
     },
     "metadata": {},
     "output_type": "display_data"
    }
   ],
   "source": [
    "table3"
   ]
  },
  {
   "cell_type": "code",
   "execution_count": 51,
   "id": "a8cc3546",
   "metadata": {},
   "outputs": [
    {
     "data": {
      "text/html": [
       "<table class=\"dataframe\">\n",
       "<caption>A tibble: 6 × 4</caption>\n",
       "<thead>\n",
       "\t<tr><th scope=col>country</th><th scope=col>year</th><th scope=col>cases</th><th scope=col>population</th></tr>\n",
       "\t<tr><th scope=col>&lt;chr&gt;</th><th scope=col>&lt;dbl&gt;</th><th scope=col>&lt;chr&gt;</th><th scope=col>&lt;chr&gt;</th></tr>\n",
       "</thead>\n",
       "<tbody>\n",
       "\t<tr><td>Afghanistan</td><td>1999</td><td>745   </td><td>19987071  </td></tr>\n",
       "\t<tr><td>Afghanistan</td><td>2000</td><td>2666  </td><td>20595360  </td></tr>\n",
       "\t<tr><td>Brazil     </td><td>1999</td><td>37737 </td><td>172006362 </td></tr>\n",
       "\t<tr><td>Brazil     </td><td>2000</td><td>80488 </td><td>174504898 </td></tr>\n",
       "\t<tr><td>China      </td><td>1999</td><td>212258</td><td>1272915272</td></tr>\n",
       "\t<tr><td>China      </td><td>2000</td><td>213766</td><td>1280428583</td></tr>\n",
       "</tbody>\n",
       "</table>\n"
      ],
      "text/latex": [
       "A tibble: 6 × 4\n",
       "\\begin{tabular}{llll}\n",
       " country & year & cases & population\\\\\n",
       " <chr> & <dbl> & <chr> & <chr>\\\\\n",
       "\\hline\n",
       "\t Afghanistan & 1999 & 745    & 19987071  \\\\\n",
       "\t Afghanistan & 2000 & 2666   & 20595360  \\\\\n",
       "\t Brazil      & 1999 & 37737  & 172006362 \\\\\n",
       "\t Brazil      & 2000 & 80488  & 174504898 \\\\\n",
       "\t China       & 1999 & 212258 & 1272915272\\\\\n",
       "\t China       & 2000 & 213766 & 1280428583\\\\\n",
       "\\end{tabular}\n"
      ],
      "text/markdown": [
       "\n",
       "A tibble: 6 × 4\n",
       "\n",
       "| country &lt;chr&gt; | year &lt;dbl&gt; | cases &lt;chr&gt; | population &lt;chr&gt; |\n",
       "|---|---|---|---|\n",
       "| Afghanistan | 1999 | 745    | 19987071   |\n",
       "| Afghanistan | 2000 | 2666   | 20595360   |\n",
       "| Brazil      | 1999 | 37737  | 172006362  |\n",
       "| Brazil      | 2000 | 80488  | 174504898  |\n",
       "| China       | 1999 | 212258 | 1272915272 |\n",
       "| China       | 2000 | 213766 | 1280428583 |\n",
       "\n"
      ],
      "text/plain": [
       "  country     year cases  population\n",
       "1 Afghanistan 1999 745    19987071  \n",
       "2 Afghanistan 2000 2666   20595360  \n",
       "3 Brazil      1999 37737  172006362 \n",
       "4 Brazil      2000 80488  174504898 \n",
       "5 China       1999 212258 1272915272\n",
       "6 China       2000 213766 1280428583"
      ]
     },
     "metadata": {},
     "output_type": "display_data"
    }
   ],
   "source": [
    "table3 %>% separate(col = rate,into=c(\"cases\",\"population\"),sep=\"/\")"
   ]
  },
  {
   "cell_type": "code",
   "execution_count": 34,
   "id": "7cfcdb9e",
   "metadata": {
    "scrolled": true
   },
   "outputs": [
    {
     "data": {
      "text/html": [
       "<table class=\"dataframe\">\n",
       "<caption>A tibble: 3 × 3</caption>\n",
       "<thead>\n",
       "\t<tr><th scope=col>country</th><th scope=col>1999</th><th scope=col>2000</th></tr>\n",
       "\t<tr><th scope=col>&lt;chr&gt;</th><th scope=col>&lt;dbl&gt;</th><th scope=col>&lt;dbl&gt;</th></tr>\n",
       "</thead>\n",
       "<tbody>\n",
       "\t<tr><td>Afghanistan</td><td>   745</td><td>  2666</td></tr>\n",
       "\t<tr><td>Brazil     </td><td> 37737</td><td> 80488</td></tr>\n",
       "\t<tr><td>China      </td><td>212258</td><td>213766</td></tr>\n",
       "</tbody>\n",
       "</table>\n"
      ],
      "text/latex": [
       "A tibble: 3 × 3\n",
       "\\begin{tabular}{lll}\n",
       " country & 1999 & 2000\\\\\n",
       " <chr> & <dbl> & <dbl>\\\\\n",
       "\\hline\n",
       "\t Afghanistan &    745 &   2666\\\\\n",
       "\t Brazil      &  37737 &  80488\\\\\n",
       "\t China       & 212258 & 213766\\\\\n",
       "\\end{tabular}\n"
      ],
      "text/markdown": [
       "\n",
       "A tibble: 3 × 3\n",
       "\n",
       "| country &lt;chr&gt; | 1999 &lt;dbl&gt; | 2000 &lt;dbl&gt; |\n",
       "|---|---|---|\n",
       "| Afghanistan |    745 |   2666 |\n",
       "| Brazil      |  37737 |  80488 |\n",
       "| China       | 212258 | 213766 |\n",
       "\n"
      ],
      "text/plain": [
       "  country     1999   2000  \n",
       "1 Afghanistan    745   2666\n",
       "2 Brazil       37737  80488\n",
       "3 China       212258 213766"
      ]
     },
     "metadata": {},
     "output_type": "display_data"
    }
   ],
   "source": [
    "table4a"
   ]
  },
  {
   "cell_type": "code",
   "execution_count": 35,
   "id": "59d7e42b",
   "metadata": {
    "scrolled": true
   },
   "outputs": [
    {
     "data": {
      "text/html": [
       "<table class=\"dataframe\">\n",
       "<caption>A tibble: 3 × 3</caption>\n",
       "<thead>\n",
       "\t<tr><th scope=col>country</th><th scope=col>1999</th><th scope=col>2000</th></tr>\n",
       "\t<tr><th scope=col>&lt;chr&gt;</th><th scope=col>&lt;dbl&gt;</th><th scope=col>&lt;dbl&gt;</th></tr>\n",
       "</thead>\n",
       "<tbody>\n",
       "\t<tr><td>Afghanistan</td><td>  19987071</td><td>  20595360</td></tr>\n",
       "\t<tr><td>Brazil     </td><td> 172006362</td><td> 174504898</td></tr>\n",
       "\t<tr><td>China      </td><td>1272915272</td><td>1280428583</td></tr>\n",
       "</tbody>\n",
       "</table>\n"
      ],
      "text/latex": [
       "A tibble: 3 × 3\n",
       "\\begin{tabular}{lll}\n",
       " country & 1999 & 2000\\\\\n",
       " <chr> & <dbl> & <dbl>\\\\\n",
       "\\hline\n",
       "\t Afghanistan &   19987071 &   20595360\\\\\n",
       "\t Brazil      &  172006362 &  174504898\\\\\n",
       "\t China       & 1272915272 & 1280428583\\\\\n",
       "\\end{tabular}\n"
      ],
      "text/markdown": [
       "\n",
       "A tibble: 3 × 3\n",
       "\n",
       "| country &lt;chr&gt; | 1999 &lt;dbl&gt; | 2000 &lt;dbl&gt; |\n",
       "|---|---|---|\n",
       "| Afghanistan |   19987071 |   20595360 |\n",
       "| Brazil      |  172006362 |  174504898 |\n",
       "| China       | 1272915272 | 1280428583 |\n",
       "\n"
      ],
      "text/plain": [
       "  country     1999       2000      \n",
       "1 Afghanistan   19987071   20595360\n",
       "2 Brazil       172006362  174504898\n",
       "3 China       1272915272 1280428583"
      ]
     },
     "metadata": {},
     "output_type": "display_data"
    }
   ],
   "source": [
    "table4b"
   ]
  },
  {
   "cell_type": "code",
   "execution_count": 36,
   "id": "a07be5b4",
   "metadata": {
    "scrolled": true
   },
   "outputs": [
    {
     "data": {
      "text/html": [
       "<table class=\"dataframe\">\n",
       "<caption>A tibble: 6 × 4</caption>\n",
       "<thead>\n",
       "\t<tr><th scope=col>country</th><th scope=col>century</th><th scope=col>year</th><th scope=col>rate</th></tr>\n",
       "\t<tr><th scope=col>&lt;chr&gt;</th><th scope=col>&lt;chr&gt;</th><th scope=col>&lt;chr&gt;</th><th scope=col>&lt;chr&gt;</th></tr>\n",
       "</thead>\n",
       "<tbody>\n",
       "\t<tr><td>Afghanistan</td><td>19</td><td>99</td><td>745/19987071     </td></tr>\n",
       "\t<tr><td>Afghanistan</td><td>20</td><td>00</td><td>2666/20595360    </td></tr>\n",
       "\t<tr><td>Brazil     </td><td>19</td><td>99</td><td>37737/172006362  </td></tr>\n",
       "\t<tr><td>Brazil     </td><td>20</td><td>00</td><td>80488/174504898  </td></tr>\n",
       "\t<tr><td>China      </td><td>19</td><td>99</td><td>212258/1272915272</td></tr>\n",
       "\t<tr><td>China      </td><td>20</td><td>00</td><td>213766/1280428583</td></tr>\n",
       "</tbody>\n",
       "</table>\n"
      ],
      "text/latex": [
       "A tibble: 6 × 4\n",
       "\\begin{tabular}{llll}\n",
       " country & century & year & rate\\\\\n",
       " <chr> & <chr> & <chr> & <chr>\\\\\n",
       "\\hline\n",
       "\t Afghanistan & 19 & 99 & 745/19987071     \\\\\n",
       "\t Afghanistan & 20 & 00 & 2666/20595360    \\\\\n",
       "\t Brazil      & 19 & 99 & 37737/172006362  \\\\\n",
       "\t Brazil      & 20 & 00 & 80488/174504898  \\\\\n",
       "\t China       & 19 & 99 & 212258/1272915272\\\\\n",
       "\t China       & 20 & 00 & 213766/1280428583\\\\\n",
       "\\end{tabular}\n"
      ],
      "text/markdown": [
       "\n",
       "A tibble: 6 × 4\n",
       "\n",
       "| country &lt;chr&gt; | century &lt;chr&gt; | year &lt;chr&gt; | rate &lt;chr&gt; |\n",
       "|---|---|---|---|\n",
       "| Afghanistan | 19 | 99 | 745/19987071      |\n",
       "| Afghanistan | 20 | 00 | 2666/20595360     |\n",
       "| Brazil      | 19 | 99 | 37737/172006362   |\n",
       "| Brazil      | 20 | 00 | 80488/174504898   |\n",
       "| China       | 19 | 99 | 212258/1272915272 |\n",
       "| China       | 20 | 00 | 213766/1280428583 |\n",
       "\n"
      ],
      "text/plain": [
       "  country     century year rate             \n",
       "1 Afghanistan 19      99   745/19987071     \n",
       "2 Afghanistan 20      00   2666/20595360    \n",
       "3 Brazil      19      99   37737/172006362  \n",
       "4 Brazil      20      00   80488/174504898  \n",
       "5 China       19      99   212258/1272915272\n",
       "6 China       20      00   213766/1280428583"
      ]
     },
     "metadata": {},
     "output_type": "display_data"
    }
   ],
   "source": [
    "table5"
   ]
  },
  {
   "cell_type": "markdown",
   "id": "9c86d36c",
   "metadata": {},
   "source": [
    " <h4 style=\"color:green;text-align:center\">Exercise 2</h4>"
   ]
  },
  {
   "cell_type": "markdown",
   "id": "f7d6d830",
   "metadata": {},
   "source": [
    "+ Calculate the value of $sin(log( \\sqrt{5 + 3}))$ directly and using the % >\n",
    "   %-operator."
   ]
  },
  {
   "cell_type": "code",
   "execution_count": 53,
   "id": "b65cf67f",
   "metadata": {
    "scrolled": false
   },
   "outputs": [
    {
     "data": {
      "text/html": [
       "0.862262842167567"
      ],
      "text/latex": [
       "0.862262842167567"
      ],
      "text/markdown": [
       "0.862262842167567"
      ],
      "text/plain": [
       "[1] 0.8622628"
      ]
     },
     "metadata": {},
     "output_type": "display_data"
    }
   ],
   "source": [
    "sin(log(sqrt(5+3))) ## nested"
   ]
  },
  {
   "cell_type": "code",
   "execution_count": 58,
   "id": "c31080fb",
   "metadata": {
    "scrolled": true
   },
   "outputs": [
    {
     "data": {
      "text/html": [
       "0.862262842167567"
      ],
      "text/latex": [
       "0.862262842167567"
      ],
      "text/markdown": [
       "0.862262842167567"
      ],
      "text/plain": [
       "[1] 0.8622628"
      ]
     },
     "metadata": {},
     "output_type": "display_data"
    }
   ],
   "source": [
    "c(5+3) %>% sum() %>% sqrt() %>% log() %>% sin() ## using %>% operator"
   ]
  },
  {
   "cell_type": "markdown",
   "id": "7c9254d3",
   "metadata": {},
   "source": [
    "+ Define a vector v with values 0.5,1,1.5,...,5 and calculate the by 2\n",
    "  digits rounded sum of the logarithms of the squared values of v\n",
    "  with nested operations and using the % > %-operator."
   ]
  },
  {
   "cell_type": "code",
   "execution_count": 65,
   "id": "f1ed94fe",
   "metadata": {},
   "outputs": [
    {
     "data": {
      "text/html": [
       "<style>\n",
       ".list-inline {list-style: none; margin:0; padding: 0}\n",
       ".list-inline>li {display: inline-block}\n",
       ".list-inline>li:not(:last-child)::after {content: \"\\00b7\"; padding: 0 .5ex}\n",
       "</style>\n",
       "<ol class=list-inline><li>0.5</li><li>1</li><li>1.5</li><li>2</li><li>2.5</li><li>3</li><li>3.5</li><li>4</li><li>4.5</li><li>5</li></ol>\n"
      ],
      "text/latex": [
       "\\begin{enumerate*}\n",
       "\\item 0.5\n",
       "\\item 1\n",
       "\\item 1.5\n",
       "\\item 2\n",
       "\\item 2.5\n",
       "\\item 3\n",
       "\\item 3.5\n",
       "\\item 4\n",
       "\\item 4.5\n",
       "\\item 5\n",
       "\\end{enumerate*}\n"
      ],
      "text/markdown": [
       "1. 0.5\n",
       "2. 1\n",
       "3. 1.5\n",
       "4. 2\n",
       "5. 2.5\n",
       "6. 3\n",
       "7. 3.5\n",
       "8. 4\n",
       "9. 4.5\n",
       "10. 5\n",
       "\n",
       "\n"
      ],
      "text/plain": [
       " [1] 0.5 1.0 1.5 2.0 2.5 3.0 3.5 4.0 4.5 5.0"
      ]
     },
     "metadata": {},
     "output_type": "display_data"
    }
   ],
   "source": [
    "v<-seq(from = 0.5 ,to=5,by=0.5)\n",
    "v"
   ]
  },
  {
   "cell_type": "code",
   "execution_count": 70,
   "id": "ea8dd1c8",
   "metadata": {
    "scrolled": true
   },
   "outputs": [
    {
     "data": {
      "text/html": [
       "7.1"
      ],
      "text/latex": [
       "7.1"
      ],
      "text/markdown": [
       "7.1"
      ],
      "text/plain": [
       "[1] 7.1"
      ]
     },
     "metadata": {},
     "output_type": "display_data"
    }
   ],
   "source": [
    "round(sum(log10(v**2)),2) ## nested"
   ]
  },
  {
   "cell_type": "code",
   "execution_count": 71,
   "id": "1b1f6aae",
   "metadata": {},
   "outputs": [],
   "source": [
    "myfun<-function(vec){\n",
    "    return(vec**2)\n",
    "}"
   ]
  },
  {
   "cell_type": "code",
   "execution_count": 72,
   "id": "4b18c7cd",
   "metadata": {
    "scrolled": true
   },
   "outputs": [
    {
     "data": {
      "text/html": [
       "4"
      ],
      "text/latex": [
       "4"
      ],
      "text/markdown": [
       "4"
      ],
      "text/plain": [
       "[1] 4"
      ]
     },
     "metadata": {},
     "output_type": "display_data"
    }
   ],
   "source": [
    "myfun(2)"
   ]
  },
  {
   "cell_type": "code",
   "execution_count": 73,
   "id": "cfa18fdb",
   "metadata": {},
   "outputs": [
    {
     "data": {
      "text/html": [
       "<style>\n",
       ".list-inline {list-style: none; margin:0; padding: 0}\n",
       ".list-inline>li {display: inline-block}\n",
       ".list-inline>li:not(:last-child)::after {content: \"\\00b7\"; padding: 0 .5ex}\n",
       "</style>\n",
       "<ol class=list-inline><li>4</li><li>9</li><li>16</li></ol>\n"
      ],
      "text/latex": [
       "\\begin{enumerate*}\n",
       "\\item 4\n",
       "\\item 9\n",
       "\\item 16\n",
       "\\end{enumerate*}\n"
      ],
      "text/markdown": [
       "1. 4\n",
       "2. 9\n",
       "3. 16\n",
       "\n",
       "\n"
      ],
      "text/plain": [
       "[1]  4  9 16"
      ]
     },
     "metadata": {},
     "output_type": "display_data"
    }
   ],
   "source": [
    "myfun(c(2,3,4))"
   ]
  },
  {
   "cell_type": "code",
   "execution_count": 76,
   "id": "45c86f99",
   "metadata": {
    "scrolled": false
   },
   "outputs": [
    {
     "data": {
      "text/html": [
       "7.1"
      ],
      "text/latex": [
       "7.1"
      ],
      "text/markdown": [
       "7.1"
      ],
      "text/plain": [
       "[1] 7.1"
      ]
     },
     "metadata": {},
     "output_type": "display_data"
    }
   ],
   "source": [
    "v %>% myfun() %>% log10() %>% sum() %>% round(2) ## using %>% op"
   ]
  },
  {
   "cell_type": "markdown",
   "id": "f4a9fa4f",
   "metadata": {},
   "source": [
    " <h4 style=\"color:green;text-align:center\">Exercise 3</h4>"
   ]
  },
  {
   "cell_type": "markdown",
   "id": "0ab401f7",
   "metadata": {},
   "source": [
    "Create a tibble df with the data of 10 students, i.e. with 10 rows and\n",
    "the columns id (values 1,2,..., 10), sex (values are “f” and “m”, age\n",
    "(integer values between 20 and 35) and score1 (integer values between\n",
    "0 and 25). You can choose arbitrary values in the columns. If you do\n",
    "not like coding the values by hand you can use:"
   ]
  },
  {
   "cell_type": "code",
   "execution_count": 93,
   "id": "726fdfec",
   "metadata": {
    "scrolled": true
   },
   "outputs": [
    {
     "data": {
      "text/html": [
       "<table class=\"dataframe\">\n",
       "<caption>A tibble: 10 × 4</caption>\n",
       "<thead>\n",
       "\t<tr><th scope=col>id</th><th scope=col>sex</th><th scope=col>age</th><th scope=col>score1</th></tr>\n",
       "\t<tr><th scope=col>&lt;int&gt;</th><th scope=col>&lt;chr&gt;</th><th scope=col>&lt;dbl&gt;</th><th scope=col>&lt;dbl&gt;</th></tr>\n",
       "</thead>\n",
       "<tbody>\n",
       "\t<tr><td> 1</td><td>M</td><td>29</td><td>22</td></tr>\n",
       "\t<tr><td> 2</td><td>F</td><td>25</td><td>12</td></tr>\n",
       "\t<tr><td> 3</td><td>F</td><td>27</td><td> 3</td></tr>\n",
       "\t<tr><td> 4</td><td>M</td><td>22</td><td>12</td></tr>\n",
       "\t<tr><td> 5</td><td>M</td><td>24</td><td>16</td></tr>\n",
       "\t<tr><td> 6</td><td>M</td><td>22</td><td>21</td></tr>\n",
       "\t<tr><td> 7</td><td>F</td><td>26</td><td>23</td></tr>\n",
       "\t<tr><td> 8</td><td>F</td><td>29</td><td>22</td></tr>\n",
       "\t<tr><td> 9</td><td>M</td><td>35</td><td>14</td></tr>\n",
       "\t<tr><td>10</td><td>M</td><td>32</td><td>24</td></tr>\n",
       "</tbody>\n",
       "</table>\n"
      ],
      "text/latex": [
       "A tibble: 10 × 4\n",
       "\\begin{tabular}{llll}\n",
       " id & sex & age & score1\\\\\n",
       " <int> & <chr> & <dbl> & <dbl>\\\\\n",
       "\\hline\n",
       "\t  1 & M & 29 & 22\\\\\n",
       "\t  2 & F & 25 & 12\\\\\n",
       "\t  3 & F & 27 &  3\\\\\n",
       "\t  4 & M & 22 & 12\\\\\n",
       "\t  5 & M & 24 & 16\\\\\n",
       "\t  6 & M & 22 & 21\\\\\n",
       "\t  7 & F & 26 & 23\\\\\n",
       "\t  8 & F & 29 & 22\\\\\n",
       "\t  9 & M & 35 & 14\\\\\n",
       "\t 10 & M & 32 & 24\\\\\n",
       "\\end{tabular}\n"
      ],
      "text/markdown": [
       "\n",
       "A tibble: 10 × 4\n",
       "\n",
       "| id &lt;int&gt; | sex &lt;chr&gt; | age &lt;dbl&gt; | score1 &lt;dbl&gt; |\n",
       "|---|---|---|---|\n",
       "|  1 | M | 29 | 22 |\n",
       "|  2 | F | 25 | 12 |\n",
       "|  3 | F | 27 |  3 |\n",
       "|  4 | M | 22 | 12 |\n",
       "|  5 | M | 24 | 16 |\n",
       "|  6 | M | 22 | 21 |\n",
       "|  7 | F | 26 | 23 |\n",
       "|  8 | F | 29 | 22 |\n",
       "|  9 | M | 35 | 14 |\n",
       "| 10 | M | 32 | 24 |\n",
       "\n"
      ],
      "text/plain": [
       "   id sex age score1\n",
       "1   1 M   29  22    \n",
       "2   2 F   25  12    \n",
       "3   3 F   27   3    \n",
       "4   4 M   22  12    \n",
       "5   5 M   24  16    \n",
       "6   6 M   22  21    \n",
       "7   7 F   26  23    \n",
       "8   8 F   29  22    \n",
       "9   9 M   35  14    \n",
       "10 10 M   32  24    "
      ]
     },
     "metadata": {},
     "output_type": "display_data"
    }
   ],
   "source": [
    "df<-tibble(id=1:10,sex=sample(x=c(\"F\",\"M\"),size=10,replace=T),\n",
    "          age=round(runif(10,20,35)),\n",
    "          score1=round(runif(10,0,25))\n",
    "          )\n",
    "df"
   ]
  },
  {
   "cell_type": "markdown",
   "id": "abb3c434",
   "metadata": {},
   "source": [
    "+ Select the date of all male students"
   ]
  },
  {
   "cell_type": "code",
   "execution_count": 94,
   "id": "90edcfcb",
   "metadata": {
    "scrolled": true
   },
   "outputs": [
    {
     "data": {
      "text/html": [
       "<table class=\"dataframe\">\n",
       "<caption>A tibble: 6 × 4</caption>\n",
       "<thead>\n",
       "\t<tr><th scope=col>id</th><th scope=col>sex</th><th scope=col>age</th><th scope=col>score1</th></tr>\n",
       "\t<tr><th scope=col>&lt;int&gt;</th><th scope=col>&lt;chr&gt;</th><th scope=col>&lt;dbl&gt;</th><th scope=col>&lt;dbl&gt;</th></tr>\n",
       "</thead>\n",
       "<tbody>\n",
       "\t<tr><td> 1</td><td>M</td><td>29</td><td>22</td></tr>\n",
       "\t<tr><td> 4</td><td>M</td><td>22</td><td>12</td></tr>\n",
       "\t<tr><td> 5</td><td>M</td><td>24</td><td>16</td></tr>\n",
       "\t<tr><td> 6</td><td>M</td><td>22</td><td>21</td></tr>\n",
       "\t<tr><td> 9</td><td>M</td><td>35</td><td>14</td></tr>\n",
       "\t<tr><td>10</td><td>M</td><td>32</td><td>24</td></tr>\n",
       "</tbody>\n",
       "</table>\n"
      ],
      "text/latex": [
       "A tibble: 6 × 4\n",
       "\\begin{tabular}{llll}\n",
       " id & sex & age & score1\\\\\n",
       " <int> & <chr> & <dbl> & <dbl>\\\\\n",
       "\\hline\n",
       "\t  1 & M & 29 & 22\\\\\n",
       "\t  4 & M & 22 & 12\\\\\n",
       "\t  5 & M & 24 & 16\\\\\n",
       "\t  6 & M & 22 & 21\\\\\n",
       "\t  9 & M & 35 & 14\\\\\n",
       "\t 10 & M & 32 & 24\\\\\n",
       "\\end{tabular}\n"
      ],
      "text/markdown": [
       "\n",
       "A tibble: 6 × 4\n",
       "\n",
       "| id &lt;int&gt; | sex &lt;chr&gt; | age &lt;dbl&gt; | score1 &lt;dbl&gt; |\n",
       "|---|---|---|---|\n",
       "|  1 | M | 29 | 22 |\n",
       "|  4 | M | 22 | 12 |\n",
       "|  5 | M | 24 | 16 |\n",
       "|  6 | M | 22 | 21 |\n",
       "|  9 | M | 35 | 14 |\n",
       "| 10 | M | 32 | 24 |\n",
       "\n"
      ],
      "text/plain": [
       "  id sex age score1\n",
       "1  1 M   29  22    \n",
       "2  4 M   22  12    \n",
       "3  5 M   24  16    \n",
       "4  6 M   22  21    \n",
       "5  9 M   35  14    \n",
       "6 10 M   32  24    "
      ]
     },
     "metadata": {},
     "output_type": "display_data"
    }
   ],
   "source": [
    "df %>% filter(sex==\"M\")"
   ]
  },
  {
   "cell_type": "markdown",
   "id": "1e662873",
   "metadata": {},
   "source": [
    "+ Add the data of a new student with id = 11, sex = “m”, age =\n",
    "   25 and score1 = 4."
   ]
  },
  {
   "cell_type": "code",
   "execution_count": 95,
   "id": "679b4972",
   "metadata": {
    "scrolled": false
   },
   "outputs": [
    {
     "data": {
      "text/html": [
       "<table class=\"dataframe\">\n",
       "<caption>A tibble: 11 × 4</caption>\n",
       "<thead>\n",
       "\t<tr><th scope=col>id</th><th scope=col>sex</th><th scope=col>age</th><th scope=col>score1</th></tr>\n",
       "\t<tr><th scope=col>&lt;dbl&gt;</th><th scope=col>&lt;chr&gt;</th><th scope=col>&lt;dbl&gt;</th><th scope=col>&lt;dbl&gt;</th></tr>\n",
       "</thead>\n",
       "<tbody>\n",
       "\t<tr><td> 1</td><td>M</td><td>29</td><td>22</td></tr>\n",
       "\t<tr><td> 2</td><td>F</td><td>25</td><td>12</td></tr>\n",
       "\t<tr><td> 3</td><td>F</td><td>27</td><td> 3</td></tr>\n",
       "\t<tr><td> 4</td><td>M</td><td>22</td><td>12</td></tr>\n",
       "\t<tr><td> 5</td><td>M</td><td>24</td><td>16</td></tr>\n",
       "\t<tr><td> 6</td><td>M</td><td>22</td><td>21</td></tr>\n",
       "\t<tr><td> 7</td><td>F</td><td>26</td><td>23</td></tr>\n",
       "\t<tr><td> 8</td><td>F</td><td>29</td><td>22</td></tr>\n",
       "\t<tr><td> 9</td><td>M</td><td>35</td><td>14</td></tr>\n",
       "\t<tr><td>10</td><td>M</td><td>32</td><td>24</td></tr>\n",
       "\t<tr><td>11</td><td>M</td><td>25</td><td> 4</td></tr>\n",
       "</tbody>\n",
       "</table>\n"
      ],
      "text/latex": [
       "A tibble: 11 × 4\n",
       "\\begin{tabular}{llll}\n",
       " id & sex & age & score1\\\\\n",
       " <dbl> & <chr> & <dbl> & <dbl>\\\\\n",
       "\\hline\n",
       "\t  1 & M & 29 & 22\\\\\n",
       "\t  2 & F & 25 & 12\\\\\n",
       "\t  3 & F & 27 &  3\\\\\n",
       "\t  4 & M & 22 & 12\\\\\n",
       "\t  5 & M & 24 & 16\\\\\n",
       "\t  6 & M & 22 & 21\\\\\n",
       "\t  7 & F & 26 & 23\\\\\n",
       "\t  8 & F & 29 & 22\\\\\n",
       "\t  9 & M & 35 & 14\\\\\n",
       "\t 10 & M & 32 & 24\\\\\n",
       "\t 11 & M & 25 &  4\\\\\n",
       "\\end{tabular}\n"
      ],
      "text/markdown": [
       "\n",
       "A tibble: 11 × 4\n",
       "\n",
       "| id &lt;dbl&gt; | sex &lt;chr&gt; | age &lt;dbl&gt; | score1 &lt;dbl&gt; |\n",
       "|---|---|---|---|\n",
       "|  1 | M | 29 | 22 |\n",
       "|  2 | F | 25 | 12 |\n",
       "|  3 | F | 27 |  3 |\n",
       "|  4 | M | 22 | 12 |\n",
       "|  5 | M | 24 | 16 |\n",
       "|  6 | M | 22 | 21 |\n",
       "|  7 | F | 26 | 23 |\n",
       "|  8 | F | 29 | 22 |\n",
       "|  9 | M | 35 | 14 |\n",
       "| 10 | M | 32 | 24 |\n",
       "| 11 | M | 25 |  4 |\n",
       "\n"
      ],
      "text/plain": [
       "   id sex age score1\n",
       "1   1 M   29  22    \n",
       "2   2 F   25  12    \n",
       "3   3 F   27   3    \n",
       "4   4 M   22  12    \n",
       "5   5 M   24  16    \n",
       "6   6 M   22  21    \n",
       "7   7 F   26  23    \n",
       "8   8 F   29  22    \n",
       "9   9 M   35  14    \n",
       "10 10 M   32  24    \n",
       "11 11 M   25   4    "
      ]
     },
     "metadata": {},
     "output_type": "display_data"
    }
   ],
   "source": [
    "add_row(.data=df,id=11,sex='M',age=25,score1=4 )->df\n",
    "df"
   ]
  },
  {
   "cell_type": "markdown",
   "id": "4de99ea5",
   "metadata": {},
   "source": [
    "+ Add two columns score2 and score3 with random integer numbers\n",
    "  between 0 and 25."
   ]
  },
  {
   "cell_type": "code",
   "execution_count": 96,
   "id": "030261de",
   "metadata": {
    "scrolled": false
   },
   "outputs": [
    {
     "data": {
      "text/html": [
       "<table class=\"dataframe\">\n",
       "<caption>A tibble: 11 × 6</caption>\n",
       "<thead>\n",
       "\t<tr><th scope=col>id</th><th scope=col>sex</th><th scope=col>age</th><th scope=col>score1</th><th scope=col>score2</th><th scope=col>score3</th></tr>\n",
       "\t<tr><th scope=col>&lt;dbl&gt;</th><th scope=col>&lt;chr&gt;</th><th scope=col>&lt;dbl&gt;</th><th scope=col>&lt;dbl&gt;</th><th scope=col>&lt;int&gt;</th><th scope=col>&lt;int&gt;</th></tr>\n",
       "</thead>\n",
       "<tbody>\n",
       "\t<tr><td> 1</td><td>M</td><td>29</td><td>22</td><td>15</td><td>20</td></tr>\n",
       "\t<tr><td> 2</td><td>F</td><td>25</td><td>12</td><td> 9</td><td>13</td></tr>\n",
       "\t<tr><td> 3</td><td>F</td><td>27</td><td> 3</td><td>13</td><td> 0</td></tr>\n",
       "\t<tr><td> 4</td><td>M</td><td>22</td><td>12</td><td>20</td><td> 6</td></tr>\n",
       "\t<tr><td> 5</td><td>M</td><td>24</td><td>16</td><td> 3</td><td>17</td></tr>\n",
       "\t<tr><td> 6</td><td>M</td><td>22</td><td>21</td><td>12</td><td>12</td></tr>\n",
       "\t<tr><td> 7</td><td>F</td><td>26</td><td>23</td><td> 3</td><td>13</td></tr>\n",
       "\t<tr><td> 8</td><td>F</td><td>29</td><td>22</td><td> 4</td><td>18</td></tr>\n",
       "\t<tr><td> 9</td><td>M</td><td>35</td><td>14</td><td>19</td><td>17</td></tr>\n",
       "\t<tr><td>10</td><td>M</td><td>32</td><td>24</td><td>16</td><td> 0</td></tr>\n",
       "\t<tr><td>11</td><td>M</td><td>25</td><td> 4</td><td> 3</td><td>14</td></tr>\n",
       "</tbody>\n",
       "</table>\n"
      ],
      "text/latex": [
       "A tibble: 11 × 6\n",
       "\\begin{tabular}{llllll}\n",
       " id & sex & age & score1 & score2 & score3\\\\\n",
       " <dbl> & <chr> & <dbl> & <dbl> & <int> & <int>\\\\\n",
       "\\hline\n",
       "\t  1 & M & 29 & 22 & 15 & 20\\\\\n",
       "\t  2 & F & 25 & 12 &  9 & 13\\\\\n",
       "\t  3 & F & 27 &  3 & 13 &  0\\\\\n",
       "\t  4 & M & 22 & 12 & 20 &  6\\\\\n",
       "\t  5 & M & 24 & 16 &  3 & 17\\\\\n",
       "\t  6 & M & 22 & 21 & 12 & 12\\\\\n",
       "\t  7 & F & 26 & 23 &  3 & 13\\\\\n",
       "\t  8 & F & 29 & 22 &  4 & 18\\\\\n",
       "\t  9 & M & 35 & 14 & 19 & 17\\\\\n",
       "\t 10 & M & 32 & 24 & 16 &  0\\\\\n",
       "\t 11 & M & 25 &  4 &  3 & 14\\\\\n",
       "\\end{tabular}\n"
      ],
      "text/markdown": [
       "\n",
       "A tibble: 11 × 6\n",
       "\n",
       "| id &lt;dbl&gt; | sex &lt;chr&gt; | age &lt;dbl&gt; | score1 &lt;dbl&gt; | score2 &lt;int&gt; | score3 &lt;int&gt; |\n",
       "|---|---|---|---|---|---|\n",
       "|  1 | M | 29 | 22 | 15 | 20 |\n",
       "|  2 | F | 25 | 12 |  9 | 13 |\n",
       "|  3 | F | 27 |  3 | 13 |  0 |\n",
       "|  4 | M | 22 | 12 | 20 |  6 |\n",
       "|  5 | M | 24 | 16 |  3 | 17 |\n",
       "|  6 | M | 22 | 21 | 12 | 12 |\n",
       "|  7 | F | 26 | 23 |  3 | 13 |\n",
       "|  8 | F | 29 | 22 |  4 | 18 |\n",
       "|  9 | M | 35 | 14 | 19 | 17 |\n",
       "| 10 | M | 32 | 24 | 16 |  0 |\n",
       "| 11 | M | 25 |  4 |  3 | 14 |\n",
       "\n"
      ],
      "text/plain": [
       "   id sex age score1 score2 score3\n",
       "1   1 M   29  22     15     20    \n",
       "2   2 F   25  12      9     13    \n",
       "3   3 F   27   3     13      0    \n",
       "4   4 M   22  12     20      6    \n",
       "5   5 M   24  16      3     17    \n",
       "6   6 M   22  21     12     12    \n",
       "7   7 F   26  23      3     13    \n",
       "8   8 F   29  22      4     18    \n",
       "9   9 M   35  14     19     17    \n",
       "10 10 M   32  24     16      0    \n",
       "11 11 M   25   4      3     14    "
      ]
     },
     "metadata": {},
     "output_type": "display_data"
    }
   ],
   "source": [
    "df %>% mutate(\"score2\"=sample(x = 0:25,size=11,replace=T),\n",
    "              \"score3\"=sample(x = 0:25,size=11,replace=T)\n",
    "             ) -> df\n",
    "df"
   ]
  },
  {
   "cell_type": "markdown",
   "id": "4cf27c32",
   "metadata": {},
   "source": [
    "+ Add a column containing sum of all scores."
   ]
  },
  {
   "cell_type": "code",
   "execution_count": 110,
   "id": "a2db8414",
   "metadata": {
    "scrolled": false
   },
   "outputs": [
    {
     "data": {
      "text/html": [
       "<table class=\"dataframe\">\n",
       "<caption>A tibble: 11 × 7</caption>\n",
       "<thead>\n",
       "\t<tr><th scope=col>id</th><th scope=col>sex</th><th scope=col>age</th><th scope=col>score1</th><th scope=col>score2</th><th scope=col>score3</th><th scope=col>total</th></tr>\n",
       "\t<tr><th scope=col>&lt;dbl&gt;</th><th scope=col>&lt;chr&gt;</th><th scope=col>&lt;dbl&gt;</th><th scope=col>&lt;dbl&gt;</th><th scope=col>&lt;int&gt;</th><th scope=col>&lt;int&gt;</th><th scope=col>&lt;dbl&gt;</th></tr>\n",
       "</thead>\n",
       "<tbody>\n",
       "\t<tr><td> 1</td><td>M</td><td>29</td><td>22</td><td>15</td><td>20</td><td>57</td></tr>\n",
       "\t<tr><td> 2</td><td>F</td><td>25</td><td>12</td><td> 9</td><td>13</td><td>34</td></tr>\n",
       "\t<tr><td> 3</td><td>F</td><td>27</td><td> 3</td><td>13</td><td> 0</td><td>16</td></tr>\n",
       "\t<tr><td> 4</td><td>M</td><td>22</td><td>12</td><td>20</td><td> 6</td><td>38</td></tr>\n",
       "\t<tr><td> 5</td><td>M</td><td>24</td><td>16</td><td> 3</td><td>17</td><td>36</td></tr>\n",
       "\t<tr><td> 6</td><td>M</td><td>22</td><td>21</td><td>12</td><td>12</td><td>45</td></tr>\n",
       "\t<tr><td> 7</td><td>F</td><td>26</td><td>23</td><td> 3</td><td>13</td><td>39</td></tr>\n",
       "\t<tr><td> 8</td><td>F</td><td>29</td><td>22</td><td> 4</td><td>18</td><td>44</td></tr>\n",
       "\t<tr><td> 9</td><td>M</td><td>35</td><td>14</td><td>19</td><td>17</td><td>50</td></tr>\n",
       "\t<tr><td>10</td><td>M</td><td>32</td><td>24</td><td>16</td><td> 0</td><td>40</td></tr>\n",
       "\t<tr><td>11</td><td>M</td><td>25</td><td> 4</td><td> 3</td><td>14</td><td>21</td></tr>\n",
       "</tbody>\n",
       "</table>\n"
      ],
      "text/latex": [
       "A tibble: 11 × 7\n",
       "\\begin{tabular}{lllllll}\n",
       " id & sex & age & score1 & score2 & score3 & total\\\\\n",
       " <dbl> & <chr> & <dbl> & <dbl> & <int> & <int> & <dbl>\\\\\n",
       "\\hline\n",
       "\t  1 & M & 29 & 22 & 15 & 20 & 57\\\\\n",
       "\t  2 & F & 25 & 12 &  9 & 13 & 34\\\\\n",
       "\t  3 & F & 27 &  3 & 13 &  0 & 16\\\\\n",
       "\t  4 & M & 22 & 12 & 20 &  6 & 38\\\\\n",
       "\t  5 & M & 24 & 16 &  3 & 17 & 36\\\\\n",
       "\t  6 & M & 22 & 21 & 12 & 12 & 45\\\\\n",
       "\t  7 & F & 26 & 23 &  3 & 13 & 39\\\\\n",
       "\t  8 & F & 29 & 22 &  4 & 18 & 44\\\\\n",
       "\t  9 & M & 35 & 14 & 19 & 17 & 50\\\\\n",
       "\t 10 & M & 32 & 24 & 16 &  0 & 40\\\\\n",
       "\t 11 & M & 25 &  4 &  3 & 14 & 21\\\\\n",
       "\\end{tabular}\n"
      ],
      "text/markdown": [
       "\n",
       "A tibble: 11 × 7\n",
       "\n",
       "| id &lt;dbl&gt; | sex &lt;chr&gt; | age &lt;dbl&gt; | score1 &lt;dbl&gt; | score2 &lt;int&gt; | score3 &lt;int&gt; | total &lt;dbl&gt; |\n",
       "|---|---|---|---|---|---|---|\n",
       "|  1 | M | 29 | 22 | 15 | 20 | 57 |\n",
       "|  2 | F | 25 | 12 |  9 | 13 | 34 |\n",
       "|  3 | F | 27 |  3 | 13 |  0 | 16 |\n",
       "|  4 | M | 22 | 12 | 20 |  6 | 38 |\n",
       "|  5 | M | 24 | 16 |  3 | 17 | 36 |\n",
       "|  6 | M | 22 | 21 | 12 | 12 | 45 |\n",
       "|  7 | F | 26 | 23 |  3 | 13 | 39 |\n",
       "|  8 | F | 29 | 22 |  4 | 18 | 44 |\n",
       "|  9 | M | 35 | 14 | 19 | 17 | 50 |\n",
       "| 10 | M | 32 | 24 | 16 |  0 | 40 |\n",
       "| 11 | M | 25 |  4 |  3 | 14 | 21 |\n",
       "\n"
      ],
      "text/plain": [
       "   id sex age score1 score2 score3 total\n",
       "1   1 M   29  22     15     20     57   \n",
       "2   2 F   25  12      9     13     34   \n",
       "3   3 F   27   3     13      0     16   \n",
       "4   4 M   22  12     20      6     38   \n",
       "5   5 M   24  16      3     17     36   \n",
       "6   6 M   22  21     12     12     45   \n",
       "7   7 F   26  23      3     13     39   \n",
       "8   8 F   29  22      4     18     44   \n",
       "9   9 M   35  14     19     17     50   \n",
       "10 10 M   32  24     16      0     40   \n",
       "11 11 M   25   4      3     14     21   "
      ]
     },
     "metadata": {},
     "output_type": "display_data"
    }
   ],
   "source": [
    "df %>% mutate(\"total\"=score1+score2+score3) ->df\n",
    "df"
   ]
  },
  {
   "cell_type": "markdown",
   "id": "5a395abf",
   "metadata": {},
   "source": [
    " + Add a column which denote the grades according to the scheme\n",
    " </br>\n",
    "$$ \n",
    "grad =\n",
    "\\begin{cases}\n",
    "    5 & \\text{if} & \\text{total} \\leq 37 \\\\\n",
    "    4 & \\text{if} & 45 \\ge \\text{total} > 37 \\\\\n",
    "    3 & \\text{if} & 55 \\ge \\text{total} > 45 \\\\\n",
    "    2 & \\text{if} & 65 \\ge \\text{total} > 55 \\\\\n",
    "    1 & \\text{if} & \\text{total} \\ge 65 \\\\\n",
    "\\end{cases}\n",
    "$$"
   ]
  },
  {
   "cell_type": "code",
   "execution_count": 113,
   "id": "f2247acd",
   "metadata": {},
   "outputs": [
    {
     "data": {
      "text/html": [
       "<table class=\"dataframe\">\n",
       "<caption>A tibble: 11 × 8</caption>\n",
       "<thead>\n",
       "\t<tr><th scope=col>id</th><th scope=col>sex</th><th scope=col>age</th><th scope=col>score1</th><th scope=col>score2</th><th scope=col>score3</th><th scope=col>total</th><th scope=col>grad</th></tr>\n",
       "\t<tr><th scope=col>&lt;dbl&gt;</th><th scope=col>&lt;chr&gt;</th><th scope=col>&lt;dbl&gt;</th><th scope=col>&lt;dbl&gt;</th><th scope=col>&lt;int&gt;</th><th scope=col>&lt;int&gt;</th><th scope=col>&lt;dbl&gt;</th><th scope=col>&lt;dbl&gt;</th></tr>\n",
       "</thead>\n",
       "<tbody>\n",
       "\t<tr><td> 1</td><td>M</td><td>29</td><td>22</td><td>15</td><td>20</td><td>57</td><td>2</td></tr>\n",
       "\t<tr><td> 2</td><td>F</td><td>25</td><td>12</td><td> 9</td><td>13</td><td>34</td><td>5</td></tr>\n",
       "\t<tr><td> 3</td><td>F</td><td>27</td><td> 3</td><td>13</td><td> 0</td><td>16</td><td>5</td></tr>\n",
       "\t<tr><td> 4</td><td>M</td><td>22</td><td>12</td><td>20</td><td> 6</td><td>38</td><td>4</td></tr>\n",
       "\t<tr><td> 5</td><td>M</td><td>24</td><td>16</td><td> 3</td><td>17</td><td>36</td><td>5</td></tr>\n",
       "\t<tr><td> 6</td><td>M</td><td>22</td><td>21</td><td>12</td><td>12</td><td>45</td><td>4</td></tr>\n",
       "\t<tr><td> 7</td><td>F</td><td>26</td><td>23</td><td> 3</td><td>13</td><td>39</td><td>4</td></tr>\n",
       "\t<tr><td> 8</td><td>F</td><td>29</td><td>22</td><td> 4</td><td>18</td><td>44</td><td>4</td></tr>\n",
       "\t<tr><td> 9</td><td>M</td><td>35</td><td>14</td><td>19</td><td>17</td><td>50</td><td>3</td></tr>\n",
       "\t<tr><td>10</td><td>M</td><td>32</td><td>24</td><td>16</td><td> 0</td><td>40</td><td>4</td></tr>\n",
       "\t<tr><td>11</td><td>M</td><td>25</td><td> 4</td><td> 3</td><td>14</td><td>21</td><td>5</td></tr>\n",
       "</tbody>\n",
       "</table>\n"
      ],
      "text/latex": [
       "A tibble: 11 × 8\n",
       "\\begin{tabular}{llllllll}\n",
       " id & sex & age & score1 & score2 & score3 & total & grad\\\\\n",
       " <dbl> & <chr> & <dbl> & <dbl> & <int> & <int> & <dbl> & <dbl>\\\\\n",
       "\\hline\n",
       "\t  1 & M & 29 & 22 & 15 & 20 & 57 & 2\\\\\n",
       "\t  2 & F & 25 & 12 &  9 & 13 & 34 & 5\\\\\n",
       "\t  3 & F & 27 &  3 & 13 &  0 & 16 & 5\\\\\n",
       "\t  4 & M & 22 & 12 & 20 &  6 & 38 & 4\\\\\n",
       "\t  5 & M & 24 & 16 &  3 & 17 & 36 & 5\\\\\n",
       "\t  6 & M & 22 & 21 & 12 & 12 & 45 & 4\\\\\n",
       "\t  7 & F & 26 & 23 &  3 & 13 & 39 & 4\\\\\n",
       "\t  8 & F & 29 & 22 &  4 & 18 & 44 & 4\\\\\n",
       "\t  9 & M & 35 & 14 & 19 & 17 & 50 & 3\\\\\n",
       "\t 10 & M & 32 & 24 & 16 &  0 & 40 & 4\\\\\n",
       "\t 11 & M & 25 &  4 &  3 & 14 & 21 & 5\\\\\n",
       "\\end{tabular}\n"
      ],
      "text/markdown": [
       "\n",
       "A tibble: 11 × 8\n",
       "\n",
       "| id &lt;dbl&gt; | sex &lt;chr&gt; | age &lt;dbl&gt; | score1 &lt;dbl&gt; | score2 &lt;int&gt; | score3 &lt;int&gt; | total &lt;dbl&gt; | grad &lt;dbl&gt; |\n",
       "|---|---|---|---|---|---|---|---|\n",
       "|  1 | M | 29 | 22 | 15 | 20 | 57 | 2 |\n",
       "|  2 | F | 25 | 12 |  9 | 13 | 34 | 5 |\n",
       "|  3 | F | 27 |  3 | 13 |  0 | 16 | 5 |\n",
       "|  4 | M | 22 | 12 | 20 |  6 | 38 | 4 |\n",
       "|  5 | M | 24 | 16 |  3 | 17 | 36 | 5 |\n",
       "|  6 | M | 22 | 21 | 12 | 12 | 45 | 4 |\n",
       "|  7 | F | 26 | 23 |  3 | 13 | 39 | 4 |\n",
       "|  8 | F | 29 | 22 |  4 | 18 | 44 | 4 |\n",
       "|  9 | M | 35 | 14 | 19 | 17 | 50 | 3 |\n",
       "| 10 | M | 32 | 24 | 16 |  0 | 40 | 4 |\n",
       "| 11 | M | 25 |  4 |  3 | 14 | 21 | 5 |\n",
       "\n"
      ],
      "text/plain": [
       "   id sex age score1 score2 score3 total grad\n",
       "1   1 M   29  22     15     20     57    2   \n",
       "2   2 F   25  12      9     13     34    5   \n",
       "3   3 F   27   3     13      0     16    5   \n",
       "4   4 M   22  12     20      6     38    4   \n",
       "5   5 M   24  16      3     17     36    5   \n",
       "6   6 M   22  21     12     12     45    4   \n",
       "7   7 F   26  23      3     13     39    4   \n",
       "8   8 F   29  22      4     18     44    4   \n",
       "9   9 M   35  14     19     17     50    3   \n",
       "10 10 M   32  24     16      0     40    4   \n",
       "11 11 M   25   4      3     14     21    5   "
      ]
     },
     "metadata": {},
     "output_type": "display_data"
    }
   ],
   "source": [
    "df %>% mutate(\"grad\" = case_when(\n",
    "    total <= 37 ~ 5,\n",
    "    total > 37 & total <= 45 ~ 4,\n",
    "    total > 45 & total <= 55 ~ 3,\n",
    "    total > 55 & total <= 65 ~ 2,\n",
    "    total > 65 ~ 1\n",
    "  )) ->df\n",
    "df"
   ]
  },
  {
   "cell_type": "markdown",
   "id": "c0f78ec7",
   "metadata": {},
   "source": [
    "+ Find the values of the variables id, sex and grade sorted by the\n",
    "   values of sex of all students who have passed"
   ]
  },
  {
   "cell_type": "code",
   "execution_count": 117,
   "id": "453793e8",
   "metadata": {
    "scrolled": true
   },
   "outputs": [
    {
     "data": {
      "text/html": [
       "<table class=\"dataframe\">\n",
       "<caption>A tibble: 9 × 3</caption>\n",
       "<thead>\n",
       "\t<tr><th scope=col>id</th><th scope=col>sex</th><th scope=col>grad</th></tr>\n",
       "\t<tr><th scope=col>&lt;dbl&gt;</th><th scope=col>&lt;chr&gt;</th><th scope=col>&lt;dbl&gt;</th></tr>\n",
       "</thead>\n",
       "<tbody>\n",
       "\t<tr><td> 2</td><td>F</td><td>5</td></tr>\n",
       "\t<tr><td> 3</td><td>F</td><td>5</td></tr>\n",
       "\t<tr><td> 7</td><td>F</td><td>4</td></tr>\n",
       "\t<tr><td> 8</td><td>F</td><td>4</td></tr>\n",
       "\t<tr><td> 4</td><td>M</td><td>4</td></tr>\n",
       "\t<tr><td> 5</td><td>M</td><td>5</td></tr>\n",
       "\t<tr><td> 6</td><td>M</td><td>4</td></tr>\n",
       "\t<tr><td>10</td><td>M</td><td>4</td></tr>\n",
       "\t<tr><td>11</td><td>M</td><td>5</td></tr>\n",
       "</tbody>\n",
       "</table>\n"
      ],
      "text/latex": [
       "A tibble: 9 × 3\n",
       "\\begin{tabular}{lll}\n",
       " id & sex & grad\\\\\n",
       " <dbl> & <chr> & <dbl>\\\\\n",
       "\\hline\n",
       "\t  2 & F & 5\\\\\n",
       "\t  3 & F & 5\\\\\n",
       "\t  7 & F & 4\\\\\n",
       "\t  8 & F & 4\\\\\n",
       "\t  4 & M & 4\\\\\n",
       "\t  5 & M & 5\\\\\n",
       "\t  6 & M & 4\\\\\n",
       "\t 10 & M & 4\\\\\n",
       "\t 11 & M & 5\\\\\n",
       "\\end{tabular}\n"
      ],
      "text/markdown": [
       "\n",
       "A tibble: 9 × 3\n",
       "\n",
       "| id &lt;dbl&gt; | sex &lt;chr&gt; | grad &lt;dbl&gt; |\n",
       "|---|---|---|\n",
       "|  2 | F | 5 |\n",
       "|  3 | F | 5 |\n",
       "|  7 | F | 4 |\n",
       "|  8 | F | 4 |\n",
       "|  4 | M | 4 |\n",
       "|  5 | M | 5 |\n",
       "|  6 | M | 4 |\n",
       "| 10 | M | 4 |\n",
       "| 11 | M | 5 |\n",
       "\n"
      ],
      "text/plain": [
       "  id sex grad\n",
       "1  2 F   5   \n",
       "2  3 F   5   \n",
       "3  7 F   4   \n",
       "4  8 F   4   \n",
       "5  4 M   4   \n",
       "6  5 M   5   \n",
       "7  6 M   4   \n",
       "8 10 M   4   \n",
       "9 11 M   5   "
      ]
     },
     "metadata": {},
     "output_type": "display_data"
    }
   ],
   "source": [
    "df %>% filter(grad>=4) %>% select(id,sex,grad) %>% arrange(sex)"
   ]
  },
  {
   "cell_type": "markdown",
   "id": "c7108503",
   "metadata": {},
   "source": [
    "+ Calculate the mean, minimum, maximum and median of the vari-\n",
    "  able sum of scores grouped by the variable sex."
   ]
  },
  {
   "cell_type": "code",
   "execution_count": 118,
   "id": "239af03d",
   "metadata": {
    "scrolled": true
   },
   "outputs": [
    {
     "data": {
      "text/html": [
       "<table class=\"dataframe\">\n",
       "<caption>A tibble: 2 × 5</caption>\n",
       "<thead>\n",
       "\t<tr><th scope=col>sex</th><th scope=col>mean</th><th scope=col>min</th><th scope=col>max</th><th scope=col>mid</th></tr>\n",
       "\t<tr><th scope=col>&lt;chr&gt;</th><th scope=col>&lt;dbl&gt;</th><th scope=col>&lt;dbl&gt;</th><th scope=col>&lt;dbl&gt;</th><th scope=col>&lt;dbl&gt;</th></tr>\n",
       "</thead>\n",
       "<tbody>\n",
       "\t<tr><td>F</td><td>33.25</td><td>16</td><td>44</td><td>36.5</td></tr>\n",
       "\t<tr><td>M</td><td>41.00</td><td>21</td><td>57</td><td>40.0</td></tr>\n",
       "</tbody>\n",
       "</table>\n"
      ],
      "text/latex": [
       "A tibble: 2 × 5\n",
       "\\begin{tabular}{lllll}\n",
       " sex & mean & min & max & mid\\\\\n",
       " <chr> & <dbl> & <dbl> & <dbl> & <dbl>\\\\\n",
       "\\hline\n",
       "\t F & 33.25 & 16 & 44 & 36.5\\\\\n",
       "\t M & 41.00 & 21 & 57 & 40.0\\\\\n",
       "\\end{tabular}\n"
      ],
      "text/markdown": [
       "\n",
       "A tibble: 2 × 5\n",
       "\n",
       "| sex &lt;chr&gt; | mean &lt;dbl&gt; | min &lt;dbl&gt; | max &lt;dbl&gt; | mid &lt;dbl&gt; |\n",
       "|---|---|---|---|---|\n",
       "| F | 33.25 | 16 | 44 | 36.5 |\n",
       "| M | 41.00 | 21 | 57 | 40.0 |\n",
       "\n"
      ],
      "text/plain": [
       "  sex mean  min max mid \n",
       "1 F   33.25 16  44  36.5\n",
       "2 M   41.00 21  57  40.0"
      ]
     },
     "metadata": {},
     "output_type": "display_data"
    }
   ],
   "source": [
    "df %>% group_by(sex) %>% summarise(\n",
    "    mean=mean(total),\n",
    "    min=min(total),\n",
    "    max=max(total),\n",
    "    mid=median(total)\n",
    ")"
   ]
  },
  {
   "cell_type": "code",
   "execution_count": 120,
   "id": "91dd9af4",
   "metadata": {},
   "outputs": [],
   "source": [
    "df %>% group_by(sex) -> df_groupd"
   ]
  },
  {
   "cell_type": "code",
   "execution_count": 121,
   "id": "ae7e997d",
   "metadata": {
    "scrolled": true
   },
   "outputs": [
    {
     "data": {
      "text/html": [
       "<ol>\n",
       "\t<li><table class=\"dataframe\">\n",
       "<caption>A tibble: 4 × 8</caption>\n",
       "<thead>\n",
       "\t<tr><th scope=col>id</th><th scope=col>sex</th><th scope=col>age</th><th scope=col>score1</th><th scope=col>score2</th><th scope=col>score3</th><th scope=col>total</th><th scope=col>grad</th></tr>\n",
       "\t<tr><th scope=col>&lt;dbl&gt;</th><th scope=col>&lt;chr&gt;</th><th scope=col>&lt;dbl&gt;</th><th scope=col>&lt;dbl&gt;</th><th scope=col>&lt;int&gt;</th><th scope=col>&lt;int&gt;</th><th scope=col>&lt;dbl&gt;</th><th scope=col>&lt;dbl&gt;</th></tr>\n",
       "</thead>\n",
       "<tbody>\n",
       "\t<tr><td>2</td><td>F</td><td>25</td><td>12</td><td> 9</td><td>13</td><td>34</td><td>5</td></tr>\n",
       "\t<tr><td>3</td><td>F</td><td>27</td><td> 3</td><td>13</td><td> 0</td><td>16</td><td>5</td></tr>\n",
       "\t<tr><td>7</td><td>F</td><td>26</td><td>23</td><td> 3</td><td>13</td><td>39</td><td>4</td></tr>\n",
       "\t<tr><td>8</td><td>F</td><td>29</td><td>22</td><td> 4</td><td>18</td><td>44</td><td>4</td></tr>\n",
       "</tbody>\n",
       "</table>\n",
       "</li>\n",
       "\t<li><table class=\"dataframe\">\n",
       "<caption>A tibble: 7 × 8</caption>\n",
       "<thead>\n",
       "\t<tr><th scope=col>id</th><th scope=col>sex</th><th scope=col>age</th><th scope=col>score1</th><th scope=col>score2</th><th scope=col>score3</th><th scope=col>total</th><th scope=col>grad</th></tr>\n",
       "\t<tr><th scope=col>&lt;dbl&gt;</th><th scope=col>&lt;chr&gt;</th><th scope=col>&lt;dbl&gt;</th><th scope=col>&lt;dbl&gt;</th><th scope=col>&lt;int&gt;</th><th scope=col>&lt;int&gt;</th><th scope=col>&lt;dbl&gt;</th><th scope=col>&lt;dbl&gt;</th></tr>\n",
       "</thead>\n",
       "<tbody>\n",
       "\t<tr><td> 1</td><td>M</td><td>29</td><td>22</td><td>15</td><td>20</td><td>57</td><td>2</td></tr>\n",
       "\t<tr><td> 4</td><td>M</td><td>22</td><td>12</td><td>20</td><td> 6</td><td>38</td><td>4</td></tr>\n",
       "\t<tr><td> 5</td><td>M</td><td>24</td><td>16</td><td> 3</td><td>17</td><td>36</td><td>5</td></tr>\n",
       "\t<tr><td> 6</td><td>M</td><td>22</td><td>21</td><td>12</td><td>12</td><td>45</td><td>4</td></tr>\n",
       "\t<tr><td> 9</td><td>M</td><td>35</td><td>14</td><td>19</td><td>17</td><td>50</td><td>3</td></tr>\n",
       "\t<tr><td>10</td><td>M</td><td>32</td><td>24</td><td>16</td><td> 0</td><td>40</td><td>4</td></tr>\n",
       "\t<tr><td>11</td><td>M</td><td>25</td><td> 4</td><td> 3</td><td>14</td><td>21</td><td>5</td></tr>\n",
       "</tbody>\n",
       "</table>\n",
       "</li>\n",
       "</ol>\n"
      ],
      "text/latex": [
       "\\begin{enumerate}\n",
       "\\item A tibble: 4 × 8\n",
       "\\begin{tabular}{llllllll}\n",
       " id & sex & age & score1 & score2 & score3 & total & grad\\\\\n",
       " <dbl> & <chr> & <dbl> & <dbl> & <int> & <int> & <dbl> & <dbl>\\\\\n",
       "\\hline\n",
       "\t 2 & F & 25 & 12 &  9 & 13 & 34 & 5\\\\\n",
       "\t 3 & F & 27 &  3 & 13 &  0 & 16 & 5\\\\\n",
       "\t 7 & F & 26 & 23 &  3 & 13 & 39 & 4\\\\\n",
       "\t 8 & F & 29 & 22 &  4 & 18 & 44 & 4\\\\\n",
       "\\end{tabular}\n",
       "\n",
       "\\item A tibble: 7 × 8\n",
       "\\begin{tabular}{llllllll}\n",
       " id & sex & age & score1 & score2 & score3 & total & grad\\\\\n",
       " <dbl> & <chr> & <dbl> & <dbl> & <int> & <int> & <dbl> & <dbl>\\\\\n",
       "\\hline\n",
       "\t  1 & M & 29 & 22 & 15 & 20 & 57 & 2\\\\\n",
       "\t  4 & M & 22 & 12 & 20 &  6 & 38 & 4\\\\\n",
       "\t  5 & M & 24 & 16 &  3 & 17 & 36 & 5\\\\\n",
       "\t  6 & M & 22 & 21 & 12 & 12 & 45 & 4\\\\\n",
       "\t  9 & M & 35 & 14 & 19 & 17 & 50 & 3\\\\\n",
       "\t 10 & M & 32 & 24 & 16 &  0 & 40 & 4\\\\\n",
       "\t 11 & M & 25 &  4 &  3 & 14 & 21 & 5\\\\\n",
       "\\end{tabular}\n",
       "\n",
       "\\end{enumerate}\n"
      ],
      "text/markdown": [
       "1. \n",
       "A tibble: 4 × 8\n",
       "\n",
       "| id &lt;dbl&gt; | sex &lt;chr&gt; | age &lt;dbl&gt; | score1 &lt;dbl&gt; | score2 &lt;int&gt; | score3 &lt;int&gt; | total &lt;dbl&gt; | grad &lt;dbl&gt; |\n",
       "|---|---|---|---|---|---|---|---|\n",
       "| 2 | F | 25 | 12 |  9 | 13 | 34 | 5 |\n",
       "| 3 | F | 27 |  3 | 13 |  0 | 16 | 5 |\n",
       "| 7 | F | 26 | 23 |  3 | 13 | 39 | 4 |\n",
       "| 8 | F | 29 | 22 |  4 | 18 | 44 | 4 |\n",
       "\n",
       "\n",
       "2. \n",
       "A tibble: 7 × 8\n",
       "\n",
       "| id &lt;dbl&gt; | sex &lt;chr&gt; | age &lt;dbl&gt; | score1 &lt;dbl&gt; | score2 &lt;int&gt; | score3 &lt;int&gt; | total &lt;dbl&gt; | grad &lt;dbl&gt; |\n",
       "|---|---|---|---|---|---|---|---|\n",
       "|  1 | M | 29 | 22 | 15 | 20 | 57 | 2 |\n",
       "|  4 | M | 22 | 12 | 20 |  6 | 38 | 4 |\n",
       "|  5 | M | 24 | 16 |  3 | 17 | 36 | 5 |\n",
       "|  6 | M | 22 | 21 | 12 | 12 | 45 | 4 |\n",
       "|  9 | M | 35 | 14 | 19 | 17 | 50 | 3 |\n",
       "| 10 | M | 32 | 24 | 16 |  0 | 40 | 4 |\n",
       "| 11 | M | 25 |  4 |  3 | 14 | 21 | 5 |\n",
       "\n",
       "\n",
       "\n",
       "\n"
      ],
      "text/plain": [
       "<list_of<\n",
       "  tbl_df<\n",
       "    id    : double\n",
       "    sex   : character\n",
       "    age   : double\n",
       "    score1: double\n",
       "    score2: integer\n",
       "    score3: integer\n",
       "    total : double\n",
       "    grad  : double\n",
       "  >\n",
       ">[2]>\n",
       "[[1]]\n",
       "\u001b[90m# A tibble: 4 × 8\u001b[39m\n",
       "     id sex     age score1 score2 score3 total  grad\n",
       "  \u001b[3m\u001b[90m<dbl>\u001b[39m\u001b[23m \u001b[3m\u001b[90m<chr>\u001b[39m\u001b[23m \u001b[3m\u001b[90m<dbl>\u001b[39m\u001b[23m  \u001b[3m\u001b[90m<dbl>\u001b[39m\u001b[23m  \u001b[3m\u001b[90m<int>\u001b[39m\u001b[23m  \u001b[3m\u001b[90m<int>\u001b[39m\u001b[23m \u001b[3m\u001b[90m<dbl>\u001b[39m\u001b[23m \u001b[3m\u001b[90m<dbl>\u001b[39m\u001b[23m\n",
       "\u001b[90m1\u001b[39m     2 F        25     12      9     13    34     5\n",
       "\u001b[90m2\u001b[39m     3 F        27      3     13      0    16     5\n",
       "\u001b[90m3\u001b[39m     7 F        26     23      3     13    39     4\n",
       "\u001b[90m4\u001b[39m     8 F        29     22      4     18    44     4\n",
       "\n",
       "[[2]]\n",
       "\u001b[90m# A tibble: 7 × 8\u001b[39m\n",
       "     id sex     age score1 score2 score3 total  grad\n",
       "  \u001b[3m\u001b[90m<dbl>\u001b[39m\u001b[23m \u001b[3m\u001b[90m<chr>\u001b[39m\u001b[23m \u001b[3m\u001b[90m<dbl>\u001b[39m\u001b[23m  \u001b[3m\u001b[90m<dbl>\u001b[39m\u001b[23m  \u001b[3m\u001b[90m<int>\u001b[39m\u001b[23m  \u001b[3m\u001b[90m<int>\u001b[39m\u001b[23m \u001b[3m\u001b[90m<dbl>\u001b[39m\u001b[23m \u001b[3m\u001b[90m<dbl>\u001b[39m\u001b[23m\n",
       "\u001b[90m1\u001b[39m     1 M        29     22     15     20    57     2\n",
       "\u001b[90m2\u001b[39m     4 M        22     12     20      6    38     4\n",
       "\u001b[90m3\u001b[39m     5 M        24     16      3     17    36     5\n",
       "\u001b[90m4\u001b[39m     6 M        22     21     12     12    45     4\n",
       "\u001b[90m5\u001b[39m     9 M        35     14     19     17    50     3\n",
       "\u001b[90m6\u001b[39m    10 M        32     24     16      0    40     4\n",
       "\u001b[90m7\u001b[39m    11 M        25      4      3     14    21     5\n"
      ]
     },
     "metadata": {},
     "output_type": "display_data"
    }
   ],
   "source": [
    "df_groupd %>% group_split()"
   ]
  },
  {
   "cell_type": "markdown",
   "id": "7c10008d",
   "metadata": {},
   "source": [
    " <h4 style=\"color:green;text-align:center\">Exercise 4</h4>"
   ]
  },
  {
   "cell_type": "code",
   "execution_count": 124,
   "id": "c2ebab0c",
   "metadata": {
    "scrolled": false
   },
   "outputs": [
    {
     "data": {
      "text/html": [
       "<table class=\"dataframe\">\n",
       "<caption>A tibble: 6 × 7</caption>\n",
       "<thead>\n",
       "\t<tr><th scope=col>stud.id</th><th scope=col>group</th><th scope=col>ex1</th><th scope=col>ex2</th><th scope=col>ex3</th><th scope=col>ex4</th><th scope=col>ex5</th></tr>\n",
       "\t<tr><th scope=col>&lt;int&gt;</th><th scope=col>&lt;chr&gt;</th><th scope=col>&lt;int&gt;</th><th scope=col>&lt;int&gt;</th><th scope=col>&lt;int&gt;</th><th scope=col>&lt;int&gt;</th><th scope=col>&lt;int&gt;</th></tr>\n",
       "</thead>\n",
       "<tbody>\n",
       "\t<tr><td>1</td><td>C</td><td>4</td><td>4</td><td>1</td><td> 7</td><td>9</td></tr>\n",
       "\t<tr><td>2</td><td>C</td><td>7</td><td>4</td><td>2</td><td> 3</td><td>3</td></tr>\n",
       "\t<tr><td>3</td><td>B</td><td>5</td><td>6</td><td>6</td><td> 8</td><td>9</td></tr>\n",
       "\t<tr><td>4</td><td>A</td><td>4</td><td>8</td><td>6</td><td>10</td><td>4</td></tr>\n",
       "\t<tr><td>5</td><td>A</td><td>1</td><td>8</td><td>7</td><td> 9</td><td>8</td></tr>\n",
       "\t<tr><td>6</td><td>C</td><td>9</td><td>3</td><td>3</td><td> 5</td><td>3</td></tr>\n",
       "</tbody>\n",
       "</table>\n"
      ],
      "text/latex": [
       "A tibble: 6 × 7\n",
       "\\begin{tabular}{lllllll}\n",
       " stud.id & group & ex1 & ex2 & ex3 & ex4 & ex5\\\\\n",
       " <int> & <chr> & <int> & <int> & <int> & <int> & <int>\\\\\n",
       "\\hline\n",
       "\t 1 & C & 4 & 4 & 1 &  7 & 9\\\\\n",
       "\t 2 & C & 7 & 4 & 2 &  3 & 3\\\\\n",
       "\t 3 & B & 5 & 6 & 6 &  8 & 9\\\\\n",
       "\t 4 & A & 4 & 8 & 6 & 10 & 4\\\\\n",
       "\t 5 & A & 1 & 8 & 7 &  9 & 8\\\\\n",
       "\t 6 & C & 9 & 3 & 3 &  5 & 3\\\\\n",
       "\\end{tabular}\n"
      ],
      "text/markdown": [
       "\n",
       "A tibble: 6 × 7\n",
       "\n",
       "| stud.id &lt;int&gt; | group &lt;chr&gt; | ex1 &lt;int&gt; | ex2 &lt;int&gt; | ex3 &lt;int&gt; | ex4 &lt;int&gt; | ex5 &lt;int&gt; |\n",
       "|---|---|---|---|---|---|---|\n",
       "| 1 | C | 4 | 4 | 1 |  7 | 9 |\n",
       "| 2 | C | 7 | 4 | 2 |  3 | 3 |\n",
       "| 3 | B | 5 | 6 | 6 |  8 | 9 |\n",
       "| 4 | A | 4 | 8 | 6 | 10 | 4 |\n",
       "| 5 | A | 1 | 8 | 7 |  9 | 8 |\n",
       "| 6 | C | 9 | 3 | 3 |  5 | 3 |\n",
       "\n"
      ],
      "text/plain": [
       "  stud.id group ex1 ex2 ex3 ex4 ex5\n",
       "1 1       C     4   4   1    7  9  \n",
       "2 2       C     7   4   2    3  3  \n",
       "3 3       B     5   6   6    8  9  \n",
       "4 4       A     4   8   6   10  4  \n",
       "5 5       A     1   8   7    9  8  \n",
       "6 6       C     9   3   3    5  3  "
      ]
     },
     "metadata": {},
     "output_type": "display_data"
    }
   ],
   "source": [
    "no <- 30\n",
    "df <- tibble(\n",
    "stud.id = 1:no,\n",
    "group = sample(x=c(\"A\",\"B\",\"C\"), size=no, replace = TRUE),\n",
    "ex1 = sample(x=1:10, size=no, replace = TRUE),\n",
    "ex2= sample(x=1:10, size=no, replace = TRUE),\n",
    "ex3 = sample(x=1:10, size=no, replace = TRUE),\n",
    "ex4 = sample(x=1:10, size=no, replace = TRUE),\n",
    "ex5 = sample(x=1:10, size=no, replace = TRUE)\n",
    ")\n",
    "df %>% slice(1:6)"
   ]
  },
  {
   "cell_type": "markdown",
   "id": "9e9583d4",
   "metadata": {},
   "source": [
    "+ Apply n() and count() to get the number of students in the dif-\n",
    "  ferent groups. What are the difference between n() and count()?"
   ]
  },
  {
   "cell_type": "code",
   "execution_count": 131,
   "id": "59c0d09f",
   "metadata": {
    "scrolled": true
   },
   "outputs": [
    {
     "data": {
      "text/html": [
       "<table class=\"dataframe\">\n",
       "<caption>A tibble: 3 × 2</caption>\n",
       "<thead>\n",
       "\t<tr><th scope=col>group</th><th scope=col>cnt</th></tr>\n",
       "\t<tr><th scope=col>&lt;chr&gt;</th><th scope=col>&lt;int&gt;</th></tr>\n",
       "</thead>\n",
       "<tbody>\n",
       "\t<tr><td>A</td><td> 9</td></tr>\n",
       "\t<tr><td>B</td><td> 9</td></tr>\n",
       "\t<tr><td>C</td><td>12</td></tr>\n",
       "</tbody>\n",
       "</table>\n"
      ],
      "text/latex": [
       "A tibble: 3 × 2\n",
       "\\begin{tabular}{ll}\n",
       " group & cnt\\\\\n",
       " <chr> & <int>\\\\\n",
       "\\hline\n",
       "\t A &  9\\\\\n",
       "\t B &  9\\\\\n",
       "\t C & 12\\\\\n",
       "\\end{tabular}\n"
      ],
      "text/markdown": [
       "\n",
       "A tibble: 3 × 2\n",
       "\n",
       "| group &lt;chr&gt; | cnt &lt;int&gt; |\n",
       "|---|---|\n",
       "| A |  9 |\n",
       "| B |  9 |\n",
       "| C | 12 |\n",
       "\n"
      ],
      "text/plain": [
       "  group cnt\n",
       "1 A      9 \n",
       "2 B      9 \n",
       "3 C     12 "
      ]
     },
     "metadata": {},
     "output_type": "display_data"
    }
   ],
   "source": [
    "df %>% group_by(group) %>% summarise(cnt=n())"
   ]
  },
  {
   "cell_type": "code",
   "execution_count": 133,
   "id": "0cf96b6b",
   "metadata": {
    "scrolled": false
   },
   "outputs": [
    {
     "data": {
      "text/html": [
       "<table class=\"dataframe\">\n",
       "<caption>A tibble: 3 × 2</caption>\n",
       "<thead>\n",
       "\t<tr><th scope=col>group</th><th scope=col>n</th></tr>\n",
       "\t<tr><th scope=col>&lt;chr&gt;</th><th scope=col>&lt;int&gt;</th></tr>\n",
       "</thead>\n",
       "<tbody>\n",
       "\t<tr><td>A</td><td> 9</td></tr>\n",
       "\t<tr><td>B</td><td> 9</td></tr>\n",
       "\t<tr><td>C</td><td>12</td></tr>\n",
       "</tbody>\n",
       "</table>\n"
      ],
      "text/latex": [
       "A tibble: 3 × 2\n",
       "\\begin{tabular}{ll}\n",
       " group & n\\\\\n",
       " <chr> & <int>\\\\\n",
       "\\hline\n",
       "\t A &  9\\\\\n",
       "\t B &  9\\\\\n",
       "\t C & 12\\\\\n",
       "\\end{tabular}\n"
      ],
      "text/markdown": [
       "\n",
       "A tibble: 3 × 2\n",
       "\n",
       "| group &lt;chr&gt; | n &lt;int&gt; |\n",
       "|---|---|\n",
       "| A |  9 |\n",
       "| B |  9 |\n",
       "| C | 12 |\n",
       "\n"
      ],
      "text/plain": [
       "  group n \n",
       "1 A      9\n",
       "2 B      9\n",
       "3 C     12"
      ]
     },
     "metadata": {},
     "output_type": "display_data"
    }
   ],
   "source": [
    "df %>% count(group) # first group by then count num of obs in each group"
   ]
  },
  {
   "cell_type": "markdown",
   "id": "c973b997",
   "metadata": {},
   "source": [
    "+ add the variables sum.scores and mean.scores containing the sum\n",
    "    and the of the scores in the exercises for every student by apply-\n",
    "    ing the the functions sum() and mean(). What is the result if\n",
    "    rowwise() is appplied before the mutate()?"
   ]
  },
  {
   "cell_type": "code",
   "execution_count": 144,
   "id": "dc3d16bc",
   "metadata": {
    "scrolled": true
   },
   "outputs": [
    {
     "data": {
      "text/html": [
       "<table class=\"dataframe\">\n",
       "<caption>A tibble: 30 × 9</caption>\n",
       "<thead>\n",
       "\t<tr><th scope=col>stud.id</th><th scope=col>group</th><th scope=col>ex1</th><th scope=col>ex2</th><th scope=col>ex3</th><th scope=col>ex4</th><th scope=col>ex5</th><th scope=col>sum.scores</th><th scope=col>mean.scores</th></tr>\n",
       "\t<tr><th scope=col>&lt;int&gt;</th><th scope=col>&lt;chr&gt;</th><th scope=col>&lt;int&gt;</th><th scope=col>&lt;int&gt;</th><th scope=col>&lt;int&gt;</th><th scope=col>&lt;int&gt;</th><th scope=col>&lt;int&gt;</th><th scope=col>&lt;int&gt;</th><th scope=col>&lt;dbl&gt;</th></tr>\n",
       "</thead>\n",
       "<tbody>\n",
       "\t<tr><td> 1</td><td>C</td><td> 4</td><td> 4</td><td> 1</td><td> 7</td><td> 9</td><td>910</td><td>6.066667</td></tr>\n",
       "\t<tr><td> 2</td><td>C</td><td> 7</td><td> 4</td><td> 2</td><td> 3</td><td> 3</td><td>910</td><td>6.066667</td></tr>\n",
       "\t<tr><td> 3</td><td>B</td><td> 5</td><td> 6</td><td> 6</td><td> 8</td><td> 9</td><td>910</td><td>6.066667</td></tr>\n",
       "\t<tr><td> 4</td><td>A</td><td> 4</td><td> 8</td><td> 6</td><td>10</td><td> 4</td><td>910</td><td>6.066667</td></tr>\n",
       "\t<tr><td> 5</td><td>A</td><td> 1</td><td> 8</td><td> 7</td><td> 9</td><td> 8</td><td>910</td><td>6.066667</td></tr>\n",
       "\t<tr><td> 6</td><td>C</td><td> 9</td><td> 3</td><td> 3</td><td> 5</td><td> 3</td><td>910</td><td>6.066667</td></tr>\n",
       "\t<tr><td> 7</td><td>A</td><td> 2</td><td> 4</td><td> 6</td><td> 8</td><td> 7</td><td>910</td><td>6.066667</td></tr>\n",
       "\t<tr><td> 8</td><td>C</td><td> 7</td><td> 6</td><td>10</td><td> 3</td><td> 2</td><td>910</td><td>6.066667</td></tr>\n",
       "\t<tr><td> 9</td><td>A</td><td> 3</td><td> 4</td><td> 8</td><td> 6</td><td> 6</td><td>910</td><td>6.066667</td></tr>\n",
       "\t<tr><td>10</td><td>A</td><td> 3</td><td> 8</td><td> 9</td><td> 2</td><td> 5</td><td>910</td><td>6.066667</td></tr>\n",
       "\t<tr><td>11</td><td>C</td><td> 8</td><td> 1</td><td> 6</td><td> 3</td><td> 5</td><td>910</td><td>6.066667</td></tr>\n",
       "\t<tr><td>12</td><td>A</td><td> 7</td><td> 7</td><td> 8</td><td>10</td><td> 4</td><td>910</td><td>6.066667</td></tr>\n",
       "\t<tr><td>13</td><td>C</td><td> 8</td><td>10</td><td> 7</td><td> 4</td><td> 3</td><td>910</td><td>6.066667</td></tr>\n",
       "\t<tr><td>14</td><td>B</td><td> 8</td><td> 6</td><td> 6</td><td> 2</td><td> 5</td><td>910</td><td>6.066667</td></tr>\n",
       "\t<tr><td>15</td><td>A</td><td> 7</td><td> 9</td><td> 3</td><td> 9</td><td> 9</td><td>910</td><td>6.066667</td></tr>\n",
       "\t<tr><td>16</td><td>B</td><td> 3</td><td> 1</td><td> 7</td><td>10</td><td>10</td><td>910</td><td>6.066667</td></tr>\n",
       "\t<tr><td>17</td><td>C</td><td> 8</td><td>10</td><td> 4</td><td> 8</td><td> 6</td><td>910</td><td>6.066667</td></tr>\n",
       "\t<tr><td>18</td><td>C</td><td> 6</td><td> 1</td><td>10</td><td> 6</td><td> 1</td><td>910</td><td>6.066667</td></tr>\n",
       "\t<tr><td>19</td><td>C</td><td> 6</td><td> 6</td><td> 7</td><td> 3</td><td> 1</td><td>910</td><td>6.066667</td></tr>\n",
       "\t<tr><td>20</td><td>A</td><td> 9</td><td>10</td><td>10</td><td>10</td><td> 8</td><td>910</td><td>6.066667</td></tr>\n",
       "\t<tr><td>21</td><td>C</td><td>10</td><td> 6</td><td> 6</td><td> 5</td><td> 2</td><td>910</td><td>6.066667</td></tr>\n",
       "\t<tr><td>22</td><td>B</td><td> 9</td><td> 5</td><td> 6</td><td> 8</td><td> 7</td><td>910</td><td>6.066667</td></tr>\n",
       "\t<tr><td>23</td><td>B</td><td> 9</td><td> 8</td><td> 6</td><td> 2</td><td> 8</td><td>910</td><td>6.066667</td></tr>\n",
       "\t<tr><td>24</td><td>B</td><td> 7</td><td> 8</td><td> 6</td><td> 9</td><td> 1</td><td>910</td><td>6.066667</td></tr>\n",
       "\t<tr><td>25</td><td>C</td><td> 7</td><td> 7</td><td> 9</td><td>10</td><td> 9</td><td>910</td><td>6.066667</td></tr>\n",
       "\t<tr><td>26</td><td>B</td><td> 4</td><td> 7</td><td> 6</td><td>10</td><td>10</td><td>910</td><td>6.066667</td></tr>\n",
       "\t<tr><td>27</td><td>C</td><td> 7</td><td> 9</td><td> 5</td><td> 4</td><td> 2</td><td>910</td><td>6.066667</td></tr>\n",
       "\t<tr><td>28</td><td>B</td><td> 6</td><td> 2</td><td> 7</td><td> 2</td><td> 5</td><td>910</td><td>6.066667</td></tr>\n",
       "\t<tr><td>29</td><td>A</td><td>10</td><td> 7</td><td> 7</td><td> 4</td><td> 8</td><td>910</td><td>6.066667</td></tr>\n",
       "\t<tr><td>30</td><td>B</td><td>10</td><td> 3</td><td> 4</td><td> 6</td><td> 4</td><td>910</td><td>6.066667</td></tr>\n",
       "</tbody>\n",
       "</table>\n"
      ],
      "text/latex": [
       "A tibble: 30 × 9\n",
       "\\begin{tabular}{lllllllll}\n",
       " stud.id & group & ex1 & ex2 & ex3 & ex4 & ex5 & sum.scores & mean.scores\\\\\n",
       " <int> & <chr> & <int> & <int> & <int> & <int> & <int> & <int> & <dbl>\\\\\n",
       "\\hline\n",
       "\t  1 & C &  4 &  4 &  1 &  7 &  9 & 910 & 6.066667\\\\\n",
       "\t  2 & C &  7 &  4 &  2 &  3 &  3 & 910 & 6.066667\\\\\n",
       "\t  3 & B &  5 &  6 &  6 &  8 &  9 & 910 & 6.066667\\\\\n",
       "\t  4 & A &  4 &  8 &  6 & 10 &  4 & 910 & 6.066667\\\\\n",
       "\t  5 & A &  1 &  8 &  7 &  9 &  8 & 910 & 6.066667\\\\\n",
       "\t  6 & C &  9 &  3 &  3 &  5 &  3 & 910 & 6.066667\\\\\n",
       "\t  7 & A &  2 &  4 &  6 &  8 &  7 & 910 & 6.066667\\\\\n",
       "\t  8 & C &  7 &  6 & 10 &  3 &  2 & 910 & 6.066667\\\\\n",
       "\t  9 & A &  3 &  4 &  8 &  6 &  6 & 910 & 6.066667\\\\\n",
       "\t 10 & A &  3 &  8 &  9 &  2 &  5 & 910 & 6.066667\\\\\n",
       "\t 11 & C &  8 &  1 &  6 &  3 &  5 & 910 & 6.066667\\\\\n",
       "\t 12 & A &  7 &  7 &  8 & 10 &  4 & 910 & 6.066667\\\\\n",
       "\t 13 & C &  8 & 10 &  7 &  4 &  3 & 910 & 6.066667\\\\\n",
       "\t 14 & B &  8 &  6 &  6 &  2 &  5 & 910 & 6.066667\\\\\n",
       "\t 15 & A &  7 &  9 &  3 &  9 &  9 & 910 & 6.066667\\\\\n",
       "\t 16 & B &  3 &  1 &  7 & 10 & 10 & 910 & 6.066667\\\\\n",
       "\t 17 & C &  8 & 10 &  4 &  8 &  6 & 910 & 6.066667\\\\\n",
       "\t 18 & C &  6 &  1 & 10 &  6 &  1 & 910 & 6.066667\\\\\n",
       "\t 19 & C &  6 &  6 &  7 &  3 &  1 & 910 & 6.066667\\\\\n",
       "\t 20 & A &  9 & 10 & 10 & 10 &  8 & 910 & 6.066667\\\\\n",
       "\t 21 & C & 10 &  6 &  6 &  5 &  2 & 910 & 6.066667\\\\\n",
       "\t 22 & B &  9 &  5 &  6 &  8 &  7 & 910 & 6.066667\\\\\n",
       "\t 23 & B &  9 &  8 &  6 &  2 &  8 & 910 & 6.066667\\\\\n",
       "\t 24 & B &  7 &  8 &  6 &  9 &  1 & 910 & 6.066667\\\\\n",
       "\t 25 & C &  7 &  7 &  9 & 10 &  9 & 910 & 6.066667\\\\\n",
       "\t 26 & B &  4 &  7 &  6 & 10 & 10 & 910 & 6.066667\\\\\n",
       "\t 27 & C &  7 &  9 &  5 &  4 &  2 & 910 & 6.066667\\\\\n",
       "\t 28 & B &  6 &  2 &  7 &  2 &  5 & 910 & 6.066667\\\\\n",
       "\t 29 & A & 10 &  7 &  7 &  4 &  8 & 910 & 6.066667\\\\\n",
       "\t 30 & B & 10 &  3 &  4 &  6 &  4 & 910 & 6.066667\\\\\n",
       "\\end{tabular}\n"
      ],
      "text/markdown": [
       "\n",
       "A tibble: 30 × 9\n",
       "\n",
       "| stud.id &lt;int&gt; | group &lt;chr&gt; | ex1 &lt;int&gt; | ex2 &lt;int&gt; | ex3 &lt;int&gt; | ex4 &lt;int&gt; | ex5 &lt;int&gt; | sum.scores &lt;int&gt; | mean.scores &lt;dbl&gt; |\n",
       "|---|---|---|---|---|---|---|---|---|\n",
       "|  1 | C |  4 |  4 |  1 |  7 |  9 | 910 | 6.066667 |\n",
       "|  2 | C |  7 |  4 |  2 |  3 |  3 | 910 | 6.066667 |\n",
       "|  3 | B |  5 |  6 |  6 |  8 |  9 | 910 | 6.066667 |\n",
       "|  4 | A |  4 |  8 |  6 | 10 |  4 | 910 | 6.066667 |\n",
       "|  5 | A |  1 |  8 |  7 |  9 |  8 | 910 | 6.066667 |\n",
       "|  6 | C |  9 |  3 |  3 |  5 |  3 | 910 | 6.066667 |\n",
       "|  7 | A |  2 |  4 |  6 |  8 |  7 | 910 | 6.066667 |\n",
       "|  8 | C |  7 |  6 | 10 |  3 |  2 | 910 | 6.066667 |\n",
       "|  9 | A |  3 |  4 |  8 |  6 |  6 | 910 | 6.066667 |\n",
       "| 10 | A |  3 |  8 |  9 |  2 |  5 | 910 | 6.066667 |\n",
       "| 11 | C |  8 |  1 |  6 |  3 |  5 | 910 | 6.066667 |\n",
       "| 12 | A |  7 |  7 |  8 | 10 |  4 | 910 | 6.066667 |\n",
       "| 13 | C |  8 | 10 |  7 |  4 |  3 | 910 | 6.066667 |\n",
       "| 14 | B |  8 |  6 |  6 |  2 |  5 | 910 | 6.066667 |\n",
       "| 15 | A |  7 |  9 |  3 |  9 |  9 | 910 | 6.066667 |\n",
       "| 16 | B |  3 |  1 |  7 | 10 | 10 | 910 | 6.066667 |\n",
       "| 17 | C |  8 | 10 |  4 |  8 |  6 | 910 | 6.066667 |\n",
       "| 18 | C |  6 |  1 | 10 |  6 |  1 | 910 | 6.066667 |\n",
       "| 19 | C |  6 |  6 |  7 |  3 |  1 | 910 | 6.066667 |\n",
       "| 20 | A |  9 | 10 | 10 | 10 |  8 | 910 | 6.066667 |\n",
       "| 21 | C | 10 |  6 |  6 |  5 |  2 | 910 | 6.066667 |\n",
       "| 22 | B |  9 |  5 |  6 |  8 |  7 | 910 | 6.066667 |\n",
       "| 23 | B |  9 |  8 |  6 |  2 |  8 | 910 | 6.066667 |\n",
       "| 24 | B |  7 |  8 |  6 |  9 |  1 | 910 | 6.066667 |\n",
       "| 25 | C |  7 |  7 |  9 | 10 |  9 | 910 | 6.066667 |\n",
       "| 26 | B |  4 |  7 |  6 | 10 | 10 | 910 | 6.066667 |\n",
       "| 27 | C |  7 |  9 |  5 |  4 |  2 | 910 | 6.066667 |\n",
       "| 28 | B |  6 |  2 |  7 |  2 |  5 | 910 | 6.066667 |\n",
       "| 29 | A | 10 |  7 |  7 |  4 |  8 | 910 | 6.066667 |\n",
       "| 30 | B | 10 |  3 |  4 |  6 |  4 | 910 | 6.066667 |\n",
       "\n"
      ],
      "text/plain": [
       "   stud.id group ex1 ex2 ex3 ex4 ex5 sum.scores mean.scores\n",
       "1   1      C      4   4   1   7   9  910        6.066667   \n",
       "2   2      C      7   4   2   3   3  910        6.066667   \n",
       "3   3      B      5   6   6   8   9  910        6.066667   \n",
       "4   4      A      4   8   6  10   4  910        6.066667   \n",
       "5   5      A      1   8   7   9   8  910        6.066667   \n",
       "6   6      C      9   3   3   5   3  910        6.066667   \n",
       "7   7      A      2   4   6   8   7  910        6.066667   \n",
       "8   8      C      7   6  10   3   2  910        6.066667   \n",
       "9   9      A      3   4   8   6   6  910        6.066667   \n",
       "10 10      A      3   8   9   2   5  910        6.066667   \n",
       "11 11      C      8   1   6   3   5  910        6.066667   \n",
       "12 12      A      7   7   8  10   4  910        6.066667   \n",
       "13 13      C      8  10   7   4   3  910        6.066667   \n",
       "14 14      B      8   6   6   2   5  910        6.066667   \n",
       "15 15      A      7   9   3   9   9  910        6.066667   \n",
       "16 16      B      3   1   7  10  10  910        6.066667   \n",
       "17 17      C      8  10   4   8   6  910        6.066667   \n",
       "18 18      C      6   1  10   6   1  910        6.066667   \n",
       "19 19      C      6   6   7   3   1  910        6.066667   \n",
       "20 20      A      9  10  10  10   8  910        6.066667   \n",
       "21 21      C     10   6   6   5   2  910        6.066667   \n",
       "22 22      B      9   5   6   8   7  910        6.066667   \n",
       "23 23      B      9   8   6   2   8  910        6.066667   \n",
       "24 24      B      7   8   6   9   1  910        6.066667   \n",
       "25 25      C      7   7   9  10   9  910        6.066667   \n",
       "26 26      B      4   7   6  10  10  910        6.066667   \n",
       "27 27      C      7   9   5   4   2  910        6.066667   \n",
       "28 28      B      6   2   7   2   5  910        6.066667   \n",
       "29 29      A     10   7   7   4   8  910        6.066667   \n",
       "30 30      B     10   3   4   6   4  910        6.066667   "
      ]
     },
     "metadata": {},
     "output_type": "display_data"
    }
   ],
   "source": [
    "df %>% mutate( sum.scores=sum(c(ex1,ex2,ex3,ex4,ex5)),\n",
    "               mean.scores=mean(c(ex1,ex2,ex3,ex4,ex5))\n",
    "             )"
   ]
  },
  {
   "cell_type": "code",
   "execution_count": 136,
   "id": "c53e1f43",
   "metadata": {
    "scrolled": true
   },
   "outputs": [
    {
     "data": {
      "text/html": [
       "910"
      ],
      "text/latex": [
       "910"
      ],
      "text/markdown": [
       "910"
      ],
      "text/plain": [
       "[1] 910"
      ]
     },
     "metadata": {},
     "output_type": "display_data"
    }
   ],
   "source": [
    "sum(df$ex1) + sum(df$ex2) + sum(df$ex3) + sum(df$ex4) + sum(df$ex5)"
   ]
  },
  {
   "cell_type": "code",
   "execution_count": 150,
   "id": "42823af8",
   "metadata": {},
   "outputs": [
    {
     "data": {
      "text/html": [
       "6.06666666666667"
      ],
      "text/latex": [
       "6.06666666666667"
      ],
      "text/markdown": [
       "6.06666666666667"
      ],
      "text/plain": [
       "[1] 6.066667"
      ]
     },
     "metadata": {},
     "output_type": "display_data"
    }
   ],
   "source": [
    "len<-length(c(df$ex1,df$ex2,df$ex3,df$ex4,df$ex5))\n",
    "total<-sum(c(df$ex1,df$ex2,df$ex3,df$ex4,df$ex5))\n",
    "total/len"
   ]
  },
  {
   "cell_type": "code",
   "execution_count": 146,
   "id": "e5248b00",
   "metadata": {
    "scrolled": true
   },
   "outputs": [
    {
     "data": {
      "text/html": [
       "<table class=\"dataframe\">\n",
       "<caption>A rowwise_df: 30 × 9</caption>\n",
       "<thead>\n",
       "\t<tr><th scope=col>stud.id</th><th scope=col>group</th><th scope=col>ex1</th><th scope=col>ex2</th><th scope=col>ex3</th><th scope=col>ex4</th><th scope=col>ex5</th><th scope=col>sum.scores</th><th scope=col>mean.scores</th></tr>\n",
       "\t<tr><th scope=col>&lt;int&gt;</th><th scope=col>&lt;chr&gt;</th><th scope=col>&lt;int&gt;</th><th scope=col>&lt;int&gt;</th><th scope=col>&lt;int&gt;</th><th scope=col>&lt;int&gt;</th><th scope=col>&lt;int&gt;</th><th scope=col>&lt;int&gt;</th><th scope=col>&lt;dbl&gt;</th></tr>\n",
       "</thead>\n",
       "<tbody>\n",
       "\t<tr><td> 1</td><td>C</td><td> 4</td><td> 4</td><td> 1</td><td> 7</td><td> 9</td><td>25</td><td>5.0</td></tr>\n",
       "\t<tr><td> 2</td><td>C</td><td> 7</td><td> 4</td><td> 2</td><td> 3</td><td> 3</td><td>19</td><td>3.8</td></tr>\n",
       "\t<tr><td> 3</td><td>B</td><td> 5</td><td> 6</td><td> 6</td><td> 8</td><td> 9</td><td>34</td><td>6.8</td></tr>\n",
       "\t<tr><td> 4</td><td>A</td><td> 4</td><td> 8</td><td> 6</td><td>10</td><td> 4</td><td>32</td><td>6.4</td></tr>\n",
       "\t<tr><td> 5</td><td>A</td><td> 1</td><td> 8</td><td> 7</td><td> 9</td><td> 8</td><td>33</td><td>6.6</td></tr>\n",
       "\t<tr><td> 6</td><td>C</td><td> 9</td><td> 3</td><td> 3</td><td> 5</td><td> 3</td><td>23</td><td>4.6</td></tr>\n",
       "\t<tr><td> 7</td><td>A</td><td> 2</td><td> 4</td><td> 6</td><td> 8</td><td> 7</td><td>27</td><td>5.4</td></tr>\n",
       "\t<tr><td> 8</td><td>C</td><td> 7</td><td> 6</td><td>10</td><td> 3</td><td> 2</td><td>28</td><td>5.6</td></tr>\n",
       "\t<tr><td> 9</td><td>A</td><td> 3</td><td> 4</td><td> 8</td><td> 6</td><td> 6</td><td>27</td><td>5.4</td></tr>\n",
       "\t<tr><td>10</td><td>A</td><td> 3</td><td> 8</td><td> 9</td><td> 2</td><td> 5</td><td>27</td><td>5.4</td></tr>\n",
       "\t<tr><td>11</td><td>C</td><td> 8</td><td> 1</td><td> 6</td><td> 3</td><td> 5</td><td>23</td><td>4.6</td></tr>\n",
       "\t<tr><td>12</td><td>A</td><td> 7</td><td> 7</td><td> 8</td><td>10</td><td> 4</td><td>36</td><td>7.2</td></tr>\n",
       "\t<tr><td>13</td><td>C</td><td> 8</td><td>10</td><td> 7</td><td> 4</td><td> 3</td><td>32</td><td>6.4</td></tr>\n",
       "\t<tr><td>14</td><td>B</td><td> 8</td><td> 6</td><td> 6</td><td> 2</td><td> 5</td><td>27</td><td>5.4</td></tr>\n",
       "\t<tr><td>15</td><td>A</td><td> 7</td><td> 9</td><td> 3</td><td> 9</td><td> 9</td><td>37</td><td>7.4</td></tr>\n",
       "\t<tr><td>16</td><td>B</td><td> 3</td><td> 1</td><td> 7</td><td>10</td><td>10</td><td>31</td><td>6.2</td></tr>\n",
       "\t<tr><td>17</td><td>C</td><td> 8</td><td>10</td><td> 4</td><td> 8</td><td> 6</td><td>36</td><td>7.2</td></tr>\n",
       "\t<tr><td>18</td><td>C</td><td> 6</td><td> 1</td><td>10</td><td> 6</td><td> 1</td><td>24</td><td>4.8</td></tr>\n",
       "\t<tr><td>19</td><td>C</td><td> 6</td><td> 6</td><td> 7</td><td> 3</td><td> 1</td><td>23</td><td>4.6</td></tr>\n",
       "\t<tr><td>20</td><td>A</td><td> 9</td><td>10</td><td>10</td><td>10</td><td> 8</td><td>47</td><td>9.4</td></tr>\n",
       "\t<tr><td>21</td><td>C</td><td>10</td><td> 6</td><td> 6</td><td> 5</td><td> 2</td><td>29</td><td>5.8</td></tr>\n",
       "\t<tr><td>22</td><td>B</td><td> 9</td><td> 5</td><td> 6</td><td> 8</td><td> 7</td><td>35</td><td>7.0</td></tr>\n",
       "\t<tr><td>23</td><td>B</td><td> 9</td><td> 8</td><td> 6</td><td> 2</td><td> 8</td><td>33</td><td>6.6</td></tr>\n",
       "\t<tr><td>24</td><td>B</td><td> 7</td><td> 8</td><td> 6</td><td> 9</td><td> 1</td><td>31</td><td>6.2</td></tr>\n",
       "\t<tr><td>25</td><td>C</td><td> 7</td><td> 7</td><td> 9</td><td>10</td><td> 9</td><td>42</td><td>8.4</td></tr>\n",
       "\t<tr><td>26</td><td>B</td><td> 4</td><td> 7</td><td> 6</td><td>10</td><td>10</td><td>37</td><td>7.4</td></tr>\n",
       "\t<tr><td>27</td><td>C</td><td> 7</td><td> 9</td><td> 5</td><td> 4</td><td> 2</td><td>27</td><td>5.4</td></tr>\n",
       "\t<tr><td>28</td><td>B</td><td> 6</td><td> 2</td><td> 7</td><td> 2</td><td> 5</td><td>22</td><td>4.4</td></tr>\n",
       "\t<tr><td>29</td><td>A</td><td>10</td><td> 7</td><td> 7</td><td> 4</td><td> 8</td><td>36</td><td>7.2</td></tr>\n",
       "\t<tr><td>30</td><td>B</td><td>10</td><td> 3</td><td> 4</td><td> 6</td><td> 4</td><td>27</td><td>5.4</td></tr>\n",
       "</tbody>\n",
       "</table>\n"
      ],
      "text/latex": [
       "A rowwise\\_df: 30 × 9\n",
       "\\begin{tabular}{lllllllll}\n",
       " stud.id & group & ex1 & ex2 & ex3 & ex4 & ex5 & sum.scores & mean.scores\\\\\n",
       " <int> & <chr> & <int> & <int> & <int> & <int> & <int> & <int> & <dbl>\\\\\n",
       "\\hline\n",
       "\t  1 & C &  4 &  4 &  1 &  7 &  9 & 25 & 5.0\\\\\n",
       "\t  2 & C &  7 &  4 &  2 &  3 &  3 & 19 & 3.8\\\\\n",
       "\t  3 & B &  5 &  6 &  6 &  8 &  9 & 34 & 6.8\\\\\n",
       "\t  4 & A &  4 &  8 &  6 & 10 &  4 & 32 & 6.4\\\\\n",
       "\t  5 & A &  1 &  8 &  7 &  9 &  8 & 33 & 6.6\\\\\n",
       "\t  6 & C &  9 &  3 &  3 &  5 &  3 & 23 & 4.6\\\\\n",
       "\t  7 & A &  2 &  4 &  6 &  8 &  7 & 27 & 5.4\\\\\n",
       "\t  8 & C &  7 &  6 & 10 &  3 &  2 & 28 & 5.6\\\\\n",
       "\t  9 & A &  3 &  4 &  8 &  6 &  6 & 27 & 5.4\\\\\n",
       "\t 10 & A &  3 &  8 &  9 &  2 &  5 & 27 & 5.4\\\\\n",
       "\t 11 & C &  8 &  1 &  6 &  3 &  5 & 23 & 4.6\\\\\n",
       "\t 12 & A &  7 &  7 &  8 & 10 &  4 & 36 & 7.2\\\\\n",
       "\t 13 & C &  8 & 10 &  7 &  4 &  3 & 32 & 6.4\\\\\n",
       "\t 14 & B &  8 &  6 &  6 &  2 &  5 & 27 & 5.4\\\\\n",
       "\t 15 & A &  7 &  9 &  3 &  9 &  9 & 37 & 7.4\\\\\n",
       "\t 16 & B &  3 &  1 &  7 & 10 & 10 & 31 & 6.2\\\\\n",
       "\t 17 & C &  8 & 10 &  4 &  8 &  6 & 36 & 7.2\\\\\n",
       "\t 18 & C &  6 &  1 & 10 &  6 &  1 & 24 & 4.8\\\\\n",
       "\t 19 & C &  6 &  6 &  7 &  3 &  1 & 23 & 4.6\\\\\n",
       "\t 20 & A &  9 & 10 & 10 & 10 &  8 & 47 & 9.4\\\\\n",
       "\t 21 & C & 10 &  6 &  6 &  5 &  2 & 29 & 5.8\\\\\n",
       "\t 22 & B &  9 &  5 &  6 &  8 &  7 & 35 & 7.0\\\\\n",
       "\t 23 & B &  9 &  8 &  6 &  2 &  8 & 33 & 6.6\\\\\n",
       "\t 24 & B &  7 &  8 &  6 &  9 &  1 & 31 & 6.2\\\\\n",
       "\t 25 & C &  7 &  7 &  9 & 10 &  9 & 42 & 8.4\\\\\n",
       "\t 26 & B &  4 &  7 &  6 & 10 & 10 & 37 & 7.4\\\\\n",
       "\t 27 & C &  7 &  9 &  5 &  4 &  2 & 27 & 5.4\\\\\n",
       "\t 28 & B &  6 &  2 &  7 &  2 &  5 & 22 & 4.4\\\\\n",
       "\t 29 & A & 10 &  7 &  7 &  4 &  8 & 36 & 7.2\\\\\n",
       "\t 30 & B & 10 &  3 &  4 &  6 &  4 & 27 & 5.4\\\\\n",
       "\\end{tabular}\n"
      ],
      "text/markdown": [
       "\n",
       "A rowwise_df: 30 × 9\n",
       "\n",
       "| stud.id &lt;int&gt; | group &lt;chr&gt; | ex1 &lt;int&gt; | ex2 &lt;int&gt; | ex3 &lt;int&gt; | ex4 &lt;int&gt; | ex5 &lt;int&gt; | sum.scores &lt;int&gt; | mean.scores &lt;dbl&gt; |\n",
       "|---|---|---|---|---|---|---|---|---|\n",
       "|  1 | C |  4 |  4 |  1 |  7 |  9 | 25 | 5.0 |\n",
       "|  2 | C |  7 |  4 |  2 |  3 |  3 | 19 | 3.8 |\n",
       "|  3 | B |  5 |  6 |  6 |  8 |  9 | 34 | 6.8 |\n",
       "|  4 | A |  4 |  8 |  6 | 10 |  4 | 32 | 6.4 |\n",
       "|  5 | A |  1 |  8 |  7 |  9 |  8 | 33 | 6.6 |\n",
       "|  6 | C |  9 |  3 |  3 |  5 |  3 | 23 | 4.6 |\n",
       "|  7 | A |  2 |  4 |  6 |  8 |  7 | 27 | 5.4 |\n",
       "|  8 | C |  7 |  6 | 10 |  3 |  2 | 28 | 5.6 |\n",
       "|  9 | A |  3 |  4 |  8 |  6 |  6 | 27 | 5.4 |\n",
       "| 10 | A |  3 |  8 |  9 |  2 |  5 | 27 | 5.4 |\n",
       "| 11 | C |  8 |  1 |  6 |  3 |  5 | 23 | 4.6 |\n",
       "| 12 | A |  7 |  7 |  8 | 10 |  4 | 36 | 7.2 |\n",
       "| 13 | C |  8 | 10 |  7 |  4 |  3 | 32 | 6.4 |\n",
       "| 14 | B |  8 |  6 |  6 |  2 |  5 | 27 | 5.4 |\n",
       "| 15 | A |  7 |  9 |  3 |  9 |  9 | 37 | 7.4 |\n",
       "| 16 | B |  3 |  1 |  7 | 10 | 10 | 31 | 6.2 |\n",
       "| 17 | C |  8 | 10 |  4 |  8 |  6 | 36 | 7.2 |\n",
       "| 18 | C |  6 |  1 | 10 |  6 |  1 | 24 | 4.8 |\n",
       "| 19 | C |  6 |  6 |  7 |  3 |  1 | 23 | 4.6 |\n",
       "| 20 | A |  9 | 10 | 10 | 10 |  8 | 47 | 9.4 |\n",
       "| 21 | C | 10 |  6 |  6 |  5 |  2 | 29 | 5.8 |\n",
       "| 22 | B |  9 |  5 |  6 |  8 |  7 | 35 | 7.0 |\n",
       "| 23 | B |  9 |  8 |  6 |  2 |  8 | 33 | 6.6 |\n",
       "| 24 | B |  7 |  8 |  6 |  9 |  1 | 31 | 6.2 |\n",
       "| 25 | C |  7 |  7 |  9 | 10 |  9 | 42 | 8.4 |\n",
       "| 26 | B |  4 |  7 |  6 | 10 | 10 | 37 | 7.4 |\n",
       "| 27 | C |  7 |  9 |  5 |  4 |  2 | 27 | 5.4 |\n",
       "| 28 | B |  6 |  2 |  7 |  2 |  5 | 22 | 4.4 |\n",
       "| 29 | A | 10 |  7 |  7 |  4 |  8 | 36 | 7.2 |\n",
       "| 30 | B | 10 |  3 |  4 |  6 |  4 | 27 | 5.4 |\n",
       "\n"
      ],
      "text/plain": [
       "   stud.id group ex1 ex2 ex3 ex4 ex5 sum.scores mean.scores\n",
       "1   1      C      4   4   1   7   9  25         5.0        \n",
       "2   2      C      7   4   2   3   3  19         3.8        \n",
       "3   3      B      5   6   6   8   9  34         6.8        \n",
       "4   4      A      4   8   6  10   4  32         6.4        \n",
       "5   5      A      1   8   7   9   8  33         6.6        \n",
       "6   6      C      9   3   3   5   3  23         4.6        \n",
       "7   7      A      2   4   6   8   7  27         5.4        \n",
       "8   8      C      7   6  10   3   2  28         5.6        \n",
       "9   9      A      3   4   8   6   6  27         5.4        \n",
       "10 10      A      3   8   9   2   5  27         5.4        \n",
       "11 11      C      8   1   6   3   5  23         4.6        \n",
       "12 12      A      7   7   8  10   4  36         7.2        \n",
       "13 13      C      8  10   7   4   3  32         6.4        \n",
       "14 14      B      8   6   6   2   5  27         5.4        \n",
       "15 15      A      7   9   3   9   9  37         7.4        \n",
       "16 16      B      3   1   7  10  10  31         6.2        \n",
       "17 17      C      8  10   4   8   6  36         7.2        \n",
       "18 18      C      6   1  10   6   1  24         4.8        \n",
       "19 19      C      6   6   7   3   1  23         4.6        \n",
       "20 20      A      9  10  10  10   8  47         9.4        \n",
       "21 21      C     10   6   6   5   2  29         5.8        \n",
       "22 22      B      9   5   6   8   7  35         7.0        \n",
       "23 23      B      9   8   6   2   8  33         6.6        \n",
       "24 24      B      7   8   6   9   1  31         6.2        \n",
       "25 25      C      7   7   9  10   9  42         8.4        \n",
       "26 26      B      4   7   6  10  10  37         7.4        \n",
       "27 27      C      7   9   5   4   2  27         5.4        \n",
       "28 28      B      6   2   7   2   5  22         4.4        \n",
       "29 29      A     10   7   7   4   8  36         7.2        \n",
       "30 30      B     10   3   4   6   4  27         5.4        "
      ]
     },
     "metadata": {},
     "output_type": "display_data"
    }
   ],
   "source": [
    "df %>%  rowwise() %>% mutate( sum.scores=sum(c(ex1,ex2,ex3,ex4,ex5)),\n",
    "               mean.scores=mean(c(ex1,ex2,ex3,ex4,ex5))\n",
    "             )"
   ]
  },
  {
   "cell_type": "markdown",
   "id": "d5fbb37e",
   "metadata": {},
   "source": [
    " <h4 style=\"color:green;text-align:center\">Exercise 5</h4>"
   ]
  },
  {
   "cell_type": "code",
   "execution_count": 154,
   "id": "3048572f",
   "metadata": {
    "scrolled": false
   },
   "outputs": [
    {
     "name": "stderr",
     "output_type": "stream",
     "text": [
      "Installing package into ‘/home/jrana/R/x86_64-pc-linux-gnu-library/4.2’\n",
      "(as ‘lib’ is unspecified)\n",
      "\n"
     ]
    }
   ],
   "source": [
    "install.packages(\"nycflights13\")\n",
    "library(nycflights13)"
   ]
  },
  {
   "cell_type": "code",
   "execution_count": 160,
   "id": "407ffe47",
   "metadata": {},
   "outputs": [],
   "source": [
    "df<-flights"
   ]
  },
  {
   "cell_type": "markdown",
   "id": "92cd54d2",
   "metadata": {},
   "source": [
    "+ Load the libraries tidyverse and nycflight13 and inspect the vari-\n",
    "  able of flights."
   ]
  },
  {
   "cell_type": "code",
   "execution_count": 161,
   "id": "a4ab3318",
   "metadata": {
    "scrolled": true
   },
   "outputs": [
    {
     "data": {
      "text/html": [
       "<table class=\"dataframe\">\n",
       "<caption>A tibble: 10 × 19</caption>\n",
       "<thead>\n",
       "\t<tr><th scope=col>year</th><th scope=col>month</th><th scope=col>day</th><th scope=col>dep_time</th><th scope=col>sched_dep_time</th><th scope=col>dep_delay</th><th scope=col>arr_time</th><th scope=col>sched_arr_time</th><th scope=col>arr_delay</th><th scope=col>carrier</th><th scope=col>flight</th><th scope=col>tailnum</th><th scope=col>origin</th><th scope=col>dest</th><th scope=col>air_time</th><th scope=col>distance</th><th scope=col>hour</th><th scope=col>minute</th><th scope=col>time_hour</th></tr>\n",
       "\t<tr><th scope=col>&lt;int&gt;</th><th scope=col>&lt;int&gt;</th><th scope=col>&lt;int&gt;</th><th scope=col>&lt;int&gt;</th><th scope=col>&lt;int&gt;</th><th scope=col>&lt;dbl&gt;</th><th scope=col>&lt;int&gt;</th><th scope=col>&lt;int&gt;</th><th scope=col>&lt;dbl&gt;</th><th scope=col>&lt;chr&gt;</th><th scope=col>&lt;int&gt;</th><th scope=col>&lt;chr&gt;</th><th scope=col>&lt;chr&gt;</th><th scope=col>&lt;chr&gt;</th><th scope=col>&lt;dbl&gt;</th><th scope=col>&lt;dbl&gt;</th><th scope=col>&lt;dbl&gt;</th><th scope=col>&lt;dbl&gt;</th><th scope=col>&lt;dttm&gt;</th></tr>\n",
       "</thead>\n",
       "<tbody>\n",
       "\t<tr><td>2013</td><td>1</td><td>1</td><td>517</td><td>515</td><td> 2</td><td> 830</td><td> 819</td><td> 11</td><td>UA</td><td>1545</td><td>N14228</td><td>EWR</td><td>IAH</td><td>227</td><td>1400</td><td>5</td><td>15</td><td>2013-01-01 05:00:00</td></tr>\n",
       "\t<tr><td>2013</td><td>1</td><td>1</td><td>533</td><td>529</td><td> 4</td><td> 850</td><td> 830</td><td> 20</td><td>UA</td><td>1714</td><td>N24211</td><td>LGA</td><td>IAH</td><td>227</td><td>1416</td><td>5</td><td>29</td><td>2013-01-01 05:00:00</td></tr>\n",
       "\t<tr><td>2013</td><td>1</td><td>1</td><td>542</td><td>540</td><td> 2</td><td> 923</td><td> 850</td><td> 33</td><td>AA</td><td>1141</td><td>N619AA</td><td>JFK</td><td>MIA</td><td>160</td><td>1089</td><td>5</td><td>40</td><td>2013-01-01 05:00:00</td></tr>\n",
       "\t<tr><td>2013</td><td>1</td><td>1</td><td>544</td><td>545</td><td>-1</td><td>1004</td><td>1022</td><td>-18</td><td>B6</td><td> 725</td><td>N804JB</td><td>JFK</td><td>BQN</td><td>183</td><td>1576</td><td>5</td><td>45</td><td>2013-01-01 05:00:00</td></tr>\n",
       "\t<tr><td>2013</td><td>1</td><td>1</td><td>554</td><td>600</td><td>-6</td><td> 812</td><td> 837</td><td>-25</td><td>DL</td><td> 461</td><td>N668DN</td><td>LGA</td><td>ATL</td><td>116</td><td> 762</td><td>6</td><td> 0</td><td>2013-01-01 06:00:00</td></tr>\n",
       "\t<tr><td>2013</td><td>1</td><td>1</td><td>554</td><td>558</td><td>-4</td><td> 740</td><td> 728</td><td> 12</td><td>UA</td><td>1696</td><td>N39463</td><td>EWR</td><td>ORD</td><td>150</td><td> 719</td><td>5</td><td>58</td><td>2013-01-01 05:00:00</td></tr>\n",
       "\t<tr><td>2013</td><td>1</td><td>1</td><td>555</td><td>600</td><td>-5</td><td> 913</td><td> 854</td><td> 19</td><td>B6</td><td> 507</td><td>N516JB</td><td>EWR</td><td>FLL</td><td>158</td><td>1065</td><td>6</td><td> 0</td><td>2013-01-01 06:00:00</td></tr>\n",
       "\t<tr><td>2013</td><td>1</td><td>1</td><td>557</td><td>600</td><td>-3</td><td> 709</td><td> 723</td><td>-14</td><td>EV</td><td>5708</td><td>N829AS</td><td>LGA</td><td>IAD</td><td> 53</td><td> 229</td><td>6</td><td> 0</td><td>2013-01-01 06:00:00</td></tr>\n",
       "\t<tr><td>2013</td><td>1</td><td>1</td><td>557</td><td>600</td><td>-3</td><td> 838</td><td> 846</td><td> -8</td><td>B6</td><td>  79</td><td>N593JB</td><td>JFK</td><td>MCO</td><td>140</td><td> 944</td><td>6</td><td> 0</td><td>2013-01-01 06:00:00</td></tr>\n",
       "\t<tr><td>2013</td><td>1</td><td>1</td><td>558</td><td>600</td><td>-2</td><td> 753</td><td> 745</td><td>  8</td><td>AA</td><td> 301</td><td>N3ALAA</td><td>LGA</td><td>ORD</td><td>138</td><td> 733</td><td>6</td><td> 0</td><td>2013-01-01 06:00:00</td></tr>\n",
       "</tbody>\n",
       "</table>\n"
      ],
      "text/latex": [
       "A tibble: 10 × 19\n",
       "\\begin{tabular}{lllllllllllllllllll}\n",
       " year & month & day & dep\\_time & sched\\_dep\\_time & dep\\_delay & arr\\_time & sched\\_arr\\_time & arr\\_delay & carrier & flight & tailnum & origin & dest & air\\_time & distance & hour & minute & time\\_hour\\\\\n",
       " <int> & <int> & <int> & <int> & <int> & <dbl> & <int> & <int> & <dbl> & <chr> & <int> & <chr> & <chr> & <chr> & <dbl> & <dbl> & <dbl> & <dbl> & <dttm>\\\\\n",
       "\\hline\n",
       "\t 2013 & 1 & 1 & 517 & 515 &  2 &  830 &  819 &  11 & UA & 1545 & N14228 & EWR & IAH & 227 & 1400 & 5 & 15 & 2013-01-01 05:00:00\\\\\n",
       "\t 2013 & 1 & 1 & 533 & 529 &  4 &  850 &  830 &  20 & UA & 1714 & N24211 & LGA & IAH & 227 & 1416 & 5 & 29 & 2013-01-01 05:00:00\\\\\n",
       "\t 2013 & 1 & 1 & 542 & 540 &  2 &  923 &  850 &  33 & AA & 1141 & N619AA & JFK & MIA & 160 & 1089 & 5 & 40 & 2013-01-01 05:00:00\\\\\n",
       "\t 2013 & 1 & 1 & 544 & 545 & -1 & 1004 & 1022 & -18 & B6 &  725 & N804JB & JFK & BQN & 183 & 1576 & 5 & 45 & 2013-01-01 05:00:00\\\\\n",
       "\t 2013 & 1 & 1 & 554 & 600 & -6 &  812 &  837 & -25 & DL &  461 & N668DN & LGA & ATL & 116 &  762 & 6 &  0 & 2013-01-01 06:00:00\\\\\n",
       "\t 2013 & 1 & 1 & 554 & 558 & -4 &  740 &  728 &  12 & UA & 1696 & N39463 & EWR & ORD & 150 &  719 & 5 & 58 & 2013-01-01 05:00:00\\\\\n",
       "\t 2013 & 1 & 1 & 555 & 600 & -5 &  913 &  854 &  19 & B6 &  507 & N516JB & EWR & FLL & 158 & 1065 & 6 &  0 & 2013-01-01 06:00:00\\\\\n",
       "\t 2013 & 1 & 1 & 557 & 600 & -3 &  709 &  723 & -14 & EV & 5708 & N829AS & LGA & IAD &  53 &  229 & 6 &  0 & 2013-01-01 06:00:00\\\\\n",
       "\t 2013 & 1 & 1 & 557 & 600 & -3 &  838 &  846 &  -8 & B6 &   79 & N593JB & JFK & MCO & 140 &  944 & 6 &  0 & 2013-01-01 06:00:00\\\\\n",
       "\t 2013 & 1 & 1 & 558 & 600 & -2 &  753 &  745 &   8 & AA &  301 & N3ALAA & LGA & ORD & 138 &  733 & 6 &  0 & 2013-01-01 06:00:00\\\\\n",
       "\\end{tabular}\n"
      ],
      "text/markdown": [
       "\n",
       "A tibble: 10 × 19\n",
       "\n",
       "| year &lt;int&gt; | month &lt;int&gt; | day &lt;int&gt; | dep_time &lt;int&gt; | sched_dep_time &lt;int&gt; | dep_delay &lt;dbl&gt; | arr_time &lt;int&gt; | sched_arr_time &lt;int&gt; | arr_delay &lt;dbl&gt; | carrier &lt;chr&gt; | flight &lt;int&gt; | tailnum &lt;chr&gt; | origin &lt;chr&gt; | dest &lt;chr&gt; | air_time &lt;dbl&gt; | distance &lt;dbl&gt; | hour &lt;dbl&gt; | minute &lt;dbl&gt; | time_hour &lt;dttm&gt; |\n",
       "|---|---|---|---|---|---|---|---|---|---|---|---|---|---|---|---|---|---|---|\n",
       "| 2013 | 1 | 1 | 517 | 515 |  2 |  830 |  819 |  11 | UA | 1545 | N14228 | EWR | IAH | 227 | 1400 | 5 | 15 | 2013-01-01 05:00:00 |\n",
       "| 2013 | 1 | 1 | 533 | 529 |  4 |  850 |  830 |  20 | UA | 1714 | N24211 | LGA | IAH | 227 | 1416 | 5 | 29 | 2013-01-01 05:00:00 |\n",
       "| 2013 | 1 | 1 | 542 | 540 |  2 |  923 |  850 |  33 | AA | 1141 | N619AA | JFK | MIA | 160 | 1089 | 5 | 40 | 2013-01-01 05:00:00 |\n",
       "| 2013 | 1 | 1 | 544 | 545 | -1 | 1004 | 1022 | -18 | B6 |  725 | N804JB | JFK | BQN | 183 | 1576 | 5 | 45 | 2013-01-01 05:00:00 |\n",
       "| 2013 | 1 | 1 | 554 | 600 | -6 |  812 |  837 | -25 | DL |  461 | N668DN | LGA | ATL | 116 |  762 | 6 |  0 | 2013-01-01 06:00:00 |\n",
       "| 2013 | 1 | 1 | 554 | 558 | -4 |  740 |  728 |  12 | UA | 1696 | N39463 | EWR | ORD | 150 |  719 | 5 | 58 | 2013-01-01 05:00:00 |\n",
       "| 2013 | 1 | 1 | 555 | 600 | -5 |  913 |  854 |  19 | B6 |  507 | N516JB | EWR | FLL | 158 | 1065 | 6 |  0 | 2013-01-01 06:00:00 |\n",
       "| 2013 | 1 | 1 | 557 | 600 | -3 |  709 |  723 | -14 | EV | 5708 | N829AS | LGA | IAD |  53 |  229 | 6 |  0 | 2013-01-01 06:00:00 |\n",
       "| 2013 | 1 | 1 | 557 | 600 | -3 |  838 |  846 |  -8 | B6 |   79 | N593JB | JFK | MCO | 140 |  944 | 6 |  0 | 2013-01-01 06:00:00 |\n",
       "| 2013 | 1 | 1 | 558 | 600 | -2 |  753 |  745 |   8 | AA |  301 | N3ALAA | LGA | ORD | 138 |  733 | 6 |  0 | 2013-01-01 06:00:00 |\n",
       "\n"
      ],
      "text/plain": [
       "   year month day dep_time sched_dep_time dep_delay arr_time sched_arr_time\n",
       "1  2013 1     1   517      515             2         830      819          \n",
       "2  2013 1     1   533      529             4         850      830          \n",
       "3  2013 1     1   542      540             2         923      850          \n",
       "4  2013 1     1   544      545            -1        1004     1022          \n",
       "5  2013 1     1   554      600            -6         812      837          \n",
       "6  2013 1     1   554      558            -4         740      728          \n",
       "7  2013 1     1   555      600            -5         913      854          \n",
       "8  2013 1     1   557      600            -3         709      723          \n",
       "9  2013 1     1   557      600            -3         838      846          \n",
       "10 2013 1     1   558      600            -2         753      745          \n",
       "   arr_delay carrier flight tailnum origin dest air_time distance hour minute\n",
       "1   11       UA      1545   N14228  EWR    IAH  227      1400     5    15    \n",
       "2   20       UA      1714   N24211  LGA    IAH  227      1416     5    29    \n",
       "3   33       AA      1141   N619AA  JFK    MIA  160      1089     5    40    \n",
       "4  -18       B6       725   N804JB  JFK    BQN  183      1576     5    45    \n",
       "5  -25       DL       461   N668DN  LGA    ATL  116       762     6     0    \n",
       "6   12       UA      1696   N39463  EWR    ORD  150       719     5    58    \n",
       "7   19       B6       507   N516JB  EWR    FLL  158      1065     6     0    \n",
       "8  -14       EV      5708   N829AS  LGA    IAD   53       229     6     0    \n",
       "9   -8       B6        79   N593JB  JFK    MCO  140       944     6     0    \n",
       "10   8       AA       301   N3ALAA  LGA    ORD  138       733     6     0    \n",
       "   time_hour          \n",
       "1  2013-01-01 05:00:00\n",
       "2  2013-01-01 05:00:00\n",
       "3  2013-01-01 05:00:00\n",
       "4  2013-01-01 05:00:00\n",
       "5  2013-01-01 06:00:00\n",
       "6  2013-01-01 05:00:00\n",
       "7  2013-01-01 06:00:00\n",
       "8  2013-01-01 06:00:00\n",
       "9  2013-01-01 06:00:00\n",
       "10 2013-01-01 06:00:00"
      ]
     },
     "metadata": {},
     "output_type": "display_data"
    }
   ],
   "source": [
    "df %>% slice(1:10)"
   ]
  },
  {
   "cell_type": "code",
   "execution_count": 162,
   "id": "f2846beb",
   "metadata": {
    "scrolled": true
   },
   "outputs": [
    {
     "data": {
      "text/html": [
       "<style>\n",
       ".list-inline {list-style: none; margin:0; padding: 0}\n",
       ".list-inline>li {display: inline-block}\n",
       ".list-inline>li:not(:last-child)::after {content: \"\\00b7\"; padding: 0 .5ex}\n",
       "</style>\n",
       "<ol class=list-inline><li>336776</li><li>19</li></ol>\n"
      ],
      "text/latex": [
       "\\begin{enumerate*}\n",
       "\\item 336776\n",
       "\\item 19\n",
       "\\end{enumerate*}\n"
      ],
      "text/markdown": [
       "1. 336776\n",
       "2. 19\n",
       "\n",
       "\n"
      ],
      "text/plain": [
       "[1] 336776     19"
      ]
     },
     "metadata": {},
     "output_type": "display_data"
    }
   ],
   "source": [
    "dim(df)"
   ]
  },
  {
   "cell_type": "code",
   "execution_count": 163,
   "id": "d2b2be52",
   "metadata": {
    "scrolled": true
   },
   "outputs": [
    {
     "data": {
      "text/html": [
       "<style>\n",
       ".list-inline {list-style: none; margin:0; padding: 0}\n",
       ".list-inline>li {display: inline-block}\n",
       ".list-inline>li:not(:last-child)::after {content: \"\\00b7\"; padding: 0 .5ex}\n",
       "</style>\n",
       "<ol class=list-inline><li>'year'</li><li>'month'</li><li>'day'</li><li>'dep_time'</li><li>'sched_dep_time'</li><li>'dep_delay'</li><li>'arr_time'</li><li>'sched_arr_time'</li><li>'arr_delay'</li><li>'carrier'</li><li>'flight'</li><li>'tailnum'</li><li>'origin'</li><li>'dest'</li><li>'air_time'</li><li>'distance'</li><li>'hour'</li><li>'minute'</li><li>'time_hour'</li></ol>\n"
      ],
      "text/latex": [
       "\\begin{enumerate*}\n",
       "\\item 'year'\n",
       "\\item 'month'\n",
       "\\item 'day'\n",
       "\\item 'dep\\_time'\n",
       "\\item 'sched\\_dep\\_time'\n",
       "\\item 'dep\\_delay'\n",
       "\\item 'arr\\_time'\n",
       "\\item 'sched\\_arr\\_time'\n",
       "\\item 'arr\\_delay'\n",
       "\\item 'carrier'\n",
       "\\item 'flight'\n",
       "\\item 'tailnum'\n",
       "\\item 'origin'\n",
       "\\item 'dest'\n",
       "\\item 'air\\_time'\n",
       "\\item 'distance'\n",
       "\\item 'hour'\n",
       "\\item 'minute'\n",
       "\\item 'time\\_hour'\n",
       "\\end{enumerate*}\n"
      ],
      "text/markdown": [
       "1. 'year'\n",
       "2. 'month'\n",
       "3. 'day'\n",
       "4. 'dep_time'\n",
       "5. 'sched_dep_time'\n",
       "6. 'dep_delay'\n",
       "7. 'arr_time'\n",
       "8. 'sched_arr_time'\n",
       "9. 'arr_delay'\n",
       "10. 'carrier'\n",
       "11. 'flight'\n",
       "12. 'tailnum'\n",
       "13. 'origin'\n",
       "14. 'dest'\n",
       "15. 'air_time'\n",
       "16. 'distance'\n",
       "17. 'hour'\n",
       "18. 'minute'\n",
       "19. 'time_hour'\n",
       "\n",
       "\n"
      ],
      "text/plain": [
       " [1] \"year\"           \"month\"          \"day\"            \"dep_time\"      \n",
       " [5] \"sched_dep_time\" \"dep_delay\"      \"arr_time\"       \"sched_arr_time\"\n",
       " [9] \"arr_delay\"      \"carrier\"        \"flight\"         \"tailnum\"       \n",
       "[13] \"origin\"         \"dest\"           \"air_time\"       \"distance\"      \n",
       "[17] \"hour\"           \"minute\"         \"time_hour\"     "
      ]
     },
     "metadata": {},
     "output_type": "display_data"
    }
   ],
   "source": [
    "names(df)"
   ]
  },
  {
   "cell_type": "markdown",
   "id": "b16d3da1",
   "metadata": {},
   "source": [
    "## check for null values"
   ]
  },
  {
   "cell_type": "code",
   "execution_count": 164,
   "id": "6622c468",
   "metadata": {
    "scrolled": true
   },
   "outputs": [
    {
     "data": {
      "text/html": [
       "<style>\n",
       ".dl-inline {width: auto; margin:0; padding: 0}\n",
       ".dl-inline>dt, .dl-inline>dd {float: none; width: auto; display: inline-block}\n",
       ".dl-inline>dt::after {content: \":\\0020\"; padding-right: .5ex}\n",
       ".dl-inline>dt:not(:first-of-type) {padding-left: .5ex}\n",
       "</style><dl class=dl-inline><dt>year</dt><dd>0</dd><dt>month</dt><dd>0</dd><dt>day</dt><dd>0</dd><dt>dep_time</dt><dd>8255</dd><dt>sched_dep_time</dt><dd>0</dd><dt>dep_delay</dt><dd>8255</dd><dt>arr_time</dt><dd>8713</dd><dt>sched_arr_time</dt><dd>0</dd><dt>arr_delay</dt><dd>9430</dd><dt>carrier</dt><dd>0</dd><dt>flight</dt><dd>0</dd><dt>tailnum</dt><dd>2512</dd><dt>origin</dt><dd>0</dd><dt>dest</dt><dd>0</dd><dt>air_time</dt><dd>9430</dd><dt>distance</dt><dd>0</dd><dt>hour</dt><dd>0</dd><dt>minute</dt><dd>0</dd><dt>time_hour</dt><dd>0</dd></dl>\n"
      ],
      "text/latex": [
       "\\begin{description*}\n",
       "\\item[year] 0\n",
       "\\item[month] 0\n",
       "\\item[day] 0\n",
       "\\item[dep\\textbackslash{}\\_time] 8255\n",
       "\\item[sched\\textbackslash{}\\_dep\\textbackslash{}\\_time] 0\n",
       "\\item[dep\\textbackslash{}\\_delay] 8255\n",
       "\\item[arr\\textbackslash{}\\_time] 8713\n",
       "\\item[sched\\textbackslash{}\\_arr\\textbackslash{}\\_time] 0\n",
       "\\item[arr\\textbackslash{}\\_delay] 9430\n",
       "\\item[carrier] 0\n",
       "\\item[flight] 0\n",
       "\\item[tailnum] 2512\n",
       "\\item[origin] 0\n",
       "\\item[dest] 0\n",
       "\\item[air\\textbackslash{}\\_time] 9430\n",
       "\\item[distance] 0\n",
       "\\item[hour] 0\n",
       "\\item[minute] 0\n",
       "\\item[time\\textbackslash{}\\_hour] 0\n",
       "\\end{description*}\n"
      ],
      "text/markdown": [
       "year\n",
       ":   0month\n",
       ":   0day\n",
       ":   0dep_time\n",
       ":   8255sched_dep_time\n",
       ":   0dep_delay\n",
       ":   8255arr_time\n",
       ":   8713sched_arr_time\n",
       ":   0arr_delay\n",
       ":   9430carrier\n",
       ":   0flight\n",
       ":   0tailnum\n",
       ":   2512origin\n",
       ":   0dest\n",
       ":   0air_time\n",
       ":   9430distance\n",
       ":   0hour\n",
       ":   0minute\n",
       ":   0time_hour\n",
       ":   0\n",
       "\n"
      ],
      "text/plain": [
       "          year          month            day       dep_time sched_dep_time \n",
       "             0              0              0           8255              0 \n",
       "     dep_delay       arr_time sched_arr_time      arr_delay        carrier \n",
       "          8255           8713              0           9430              0 \n",
       "        flight        tailnum         origin           dest       air_time \n",
       "             0           2512              0              0           9430 \n",
       "      distance           hour         minute      time_hour \n",
       "             0              0              0              0 "
      ]
     },
     "metadata": {},
     "output_type": "display_data"
    }
   ],
   "source": [
    "colSums(is.na(df))"
   ]
  },
  {
   "cell_type": "code",
   "execution_count": 165,
   "id": "d6bf7a88",
   "metadata": {
    "scrolled": true
   },
   "outputs": [
    {
     "data": {
      "text/html": [
       "0"
      ],
      "text/latex": [
       "0"
      ],
      "text/markdown": [
       "0"
      ],
      "text/plain": [
       "[1] 0"
      ]
     },
     "metadata": {},
     "output_type": "display_data"
    }
   ],
   "source": [
    "sum(is.na(df$year))"
   ]
  },
  {
   "cell_type": "code",
   "execution_count": 166,
   "id": "b41e7f9b",
   "metadata": {
    "scrolled": true
   },
   "outputs": [
    {
     "data": {
      "text/html": [
       "9430"
      ],
      "text/latex": [
       "9430"
      ],
      "text/markdown": [
       "9430"
      ],
      "text/plain": [
       "[1] 9430"
      ]
     },
     "metadata": {},
     "output_type": "display_data"
    }
   ],
   "source": [
    "sum(is.na(df$air_time))\n"
   ]
  },
  {
   "cell_type": "code",
   "execution_count": 169,
   "id": "c12b40cf",
   "metadata": {
    "scrolled": true
   },
   "outputs": [
    {
     "name": "stdout",
     "output_type": "stream",
     "text": [
      "tibble [336,776 × 19] (S3: tbl_df/tbl/data.frame)\n",
      " $ year          : int [1:336776] 2013 2013 2013 2013 2013 2013 2013 2013 2013 2013 ...\n",
      " $ month         : int [1:336776] 1 1 1 1 1 1 1 1 1 1 ...\n",
      " $ day           : int [1:336776] 1 1 1 1 1 1 1 1 1 1 ...\n",
      " $ dep_time      : int [1:336776] 517 533 542 544 554 554 555 557 557 558 ...\n",
      " $ sched_dep_time: int [1:336776] 515 529 540 545 600 558 600 600 600 600 ...\n",
      " $ dep_delay     : num [1:336776] 2 4 2 -1 -6 -4 -5 -3 -3 -2 ...\n",
      " $ arr_time      : int [1:336776] 830 850 923 1004 812 740 913 709 838 753 ...\n",
      " $ sched_arr_time: int [1:336776] 819 830 850 1022 837 728 854 723 846 745 ...\n",
      " $ arr_delay     : num [1:336776] 11 20 33 -18 -25 12 19 -14 -8 8 ...\n",
      " $ carrier       : chr [1:336776] \"UA\" \"UA\" \"AA\" \"B6\" ...\n",
      " $ flight        : int [1:336776] 1545 1714 1141 725 461 1696 507 5708 79 301 ...\n",
      " $ tailnum       : chr [1:336776] \"N14228\" \"N24211\" \"N619AA\" \"N804JB\" ...\n",
      " $ origin        : chr [1:336776] \"EWR\" \"LGA\" \"JFK\" \"JFK\" ...\n",
      " $ dest          : chr [1:336776] \"IAH\" \"IAH\" \"MIA\" \"BQN\" ...\n",
      " $ air_time      : num [1:336776] 227 227 160 183 116 150 158 53 140 138 ...\n",
      " $ distance      : num [1:336776] 1400 1416 1089 1576 762 ...\n",
      " $ hour          : num [1:336776] 5 5 5 5 6 5 6 6 6 6 ...\n",
      " $ minute        : num [1:336776] 15 29 40 45 0 58 0 0 0 0 ...\n",
      " $ time_hour     : POSIXct[1:336776], format: \"2013-01-01 05:00:00\" \"2013-01-01 05:00:00\" ...\n",
      "NULL\n"
     ]
    }
   ],
   "source": [
    "print(str(df))"
   ]
  },
  {
   "cell_type": "code",
   "execution_count": 172,
   "id": "2d1cf412",
   "metadata": {
    "scrolled": true
   },
   "outputs": [
    {
     "data": {
      "text/html": [
       "<table class=\"dataframe\">\n",
       "<caption>A tibble: 16 × 2</caption>\n",
       "<thead>\n",
       "\t<tr><th scope=col>.</th><th scope=col>n</th></tr>\n",
       "\t<tr><th scope=col>&lt;chr&gt;</th><th scope=col>&lt;int&gt;</th></tr>\n",
       "</thead>\n",
       "<tbody>\n",
       "\t<tr><td>9E</td><td>18460</td></tr>\n",
       "\t<tr><td>AA</td><td>32729</td></tr>\n",
       "\t<tr><td>AS</td><td>  714</td></tr>\n",
       "\t<tr><td>B6</td><td>54635</td></tr>\n",
       "\t<tr><td>DL</td><td>48110</td></tr>\n",
       "\t<tr><td>EV</td><td>54173</td></tr>\n",
       "\t<tr><td>F9</td><td>  685</td></tr>\n",
       "\t<tr><td>FL</td><td> 3260</td></tr>\n",
       "\t<tr><td>HA</td><td>  342</td></tr>\n",
       "\t<tr><td>MQ</td><td>26397</td></tr>\n",
       "\t<tr><td>OO</td><td>   32</td></tr>\n",
       "\t<tr><td>UA</td><td>58665</td></tr>\n",
       "\t<tr><td>US</td><td>20536</td></tr>\n",
       "\t<tr><td>VX</td><td> 5162</td></tr>\n",
       "\t<tr><td>WN</td><td>12275</td></tr>\n",
       "\t<tr><td>YV</td><td>  601</td></tr>\n",
       "</tbody>\n",
       "</table>\n"
      ],
      "text/latex": [
       "A tibble: 16 × 2\n",
       "\\begin{tabular}{ll}\n",
       " . & n\\\\\n",
       " <chr> & <int>\\\\\n",
       "\\hline\n",
       "\t 9E & 18460\\\\\n",
       "\t AA & 32729\\\\\n",
       "\t AS &   714\\\\\n",
       "\t B6 & 54635\\\\\n",
       "\t DL & 48110\\\\\n",
       "\t EV & 54173\\\\\n",
       "\t F9 &   685\\\\\n",
       "\t FL &  3260\\\\\n",
       "\t HA &   342\\\\\n",
       "\t MQ & 26397\\\\\n",
       "\t OO &    32\\\\\n",
       "\t UA & 58665\\\\\n",
       "\t US & 20536\\\\\n",
       "\t VX &  5162\\\\\n",
       "\t WN & 12275\\\\\n",
       "\t YV &   601\\\\\n",
       "\\end{tabular}\n"
      ],
      "text/markdown": [
       "\n",
       "A tibble: 16 × 2\n",
       "\n",
       "| . &lt;chr&gt; | n &lt;int&gt; |\n",
       "|---|---|\n",
       "| 9E | 18460 |\n",
       "| AA | 32729 |\n",
       "| AS |   714 |\n",
       "| B6 | 54635 |\n",
       "| DL | 48110 |\n",
       "| EV | 54173 |\n",
       "| F9 |   685 |\n",
       "| FL |  3260 |\n",
       "| HA |   342 |\n",
       "| MQ | 26397 |\n",
       "| OO |    32 |\n",
       "| UA | 58665 |\n",
       "| US | 20536 |\n",
       "| VX |  5162 |\n",
       "| WN | 12275 |\n",
       "| YV |   601 |\n",
       "\n"
      ],
      "text/plain": [
       "   .  n    \n",
       "1  9E 18460\n",
       "2  AA 32729\n",
       "3  AS   714\n",
       "4  B6 54635\n",
       "5  DL 48110\n",
       "6  EV 54173\n",
       "7  F9   685\n",
       "8  FL  3260\n",
       "9  HA   342\n",
       "10 MQ 26397\n",
       "11 OO    32\n",
       "12 UA 58665\n",
       "13 US 20536\n",
       "14 VX  5162\n",
       "15 WN 12275\n",
       "16 YV   601"
      ]
     },
     "metadata": {},
     "output_type": "display_data"
    }
   ],
   "source": [
    "df$carrier %>% table() %>% as_tibble()"
   ]
  },
  {
   "cell_type": "markdown",
   "id": "958abb09",
   "metadata": {},
   "source": [
    "+ Find all flights with more than 2 hours arrival delay."
   ]
  },
  {
   "cell_type": "code",
   "execution_count": 176,
   "id": "a04470d8",
   "metadata": {
    "scrolled": true
   },
   "outputs": [
    {
     "data": {
      "text/html": [
       "<table class=\"dataframe\">\n",
       "<caption>A tibble: 19464 × 1</caption>\n",
       "<thead>\n",
       "\t<tr><th scope=col>value</th></tr>\n",
       "\t<tr><th scope=col>&lt;dbl&gt;</th></tr>\n",
       "</thead>\n",
       "<tbody>\n",
       "\t<tr><td>137</td></tr>\n",
       "\t<tr><td>851</td></tr>\n",
       "\t<tr><td>123</td></tr>\n",
       "\t<tr><td>145</td></tr>\n",
       "\t<tr><td>127</td></tr>\n",
       "\t<tr><td>125</td></tr>\n",
       "\t<tr><td> NA</td></tr>\n",
       "\t<tr><td> NA</td></tr>\n",
       "\t<tr><td>136</td></tr>\n",
       "\t<tr><td>123</td></tr>\n",
       "\t<tr><td>123</td></tr>\n",
       "\t<tr><td> NA</td></tr>\n",
       "\t<tr><td>138</td></tr>\n",
       "\t<tr><td> NA</td></tr>\n",
       "\t<tr><td>338</td></tr>\n",
       "\t<tr><td>263</td></tr>\n",
       "\t<tr><td>127</td></tr>\n",
       "\t<tr><td>151</td></tr>\n",
       "\t<tr><td>166</td></tr>\n",
       "\t<tr><td> NA</td></tr>\n",
       "\t<tr><td>174</td></tr>\n",
       "\t<tr><td> NA</td></tr>\n",
       "\t<tr><td>222</td></tr>\n",
       "\t<tr><td>123</td></tr>\n",
       "\t<tr><td> NA</td></tr>\n",
       "\t<tr><td>250</td></tr>\n",
       "\t<tr><td>142</td></tr>\n",
       "\t<tr><td>246</td></tr>\n",
       "\t<tr><td>127</td></tr>\n",
       "\t<tr><td>191</td></tr>\n",
       "\t<tr><td>⋮</td></tr>\n",
       "\t<tr><td> NA</td></tr>\n",
       "\t<tr><td> NA</td></tr>\n",
       "\t<tr><td>134</td></tr>\n",
       "\t<tr><td>137</td></tr>\n",
       "\t<tr><td>208</td></tr>\n",
       "\t<tr><td> NA</td></tr>\n",
       "\t<tr><td>236</td></tr>\n",
       "\t<tr><td>181</td></tr>\n",
       "\t<tr><td>141</td></tr>\n",
       "\t<tr><td>124</td></tr>\n",
       "\t<tr><td>183</td></tr>\n",
       "\t<tr><td> NA</td></tr>\n",
       "\t<tr><td> NA</td></tr>\n",
       "\t<tr><td> NA</td></tr>\n",
       "\t<tr><td> NA</td></tr>\n",
       "\t<tr><td>131</td></tr>\n",
       "\t<tr><td>129</td></tr>\n",
       "\t<tr><td>272</td></tr>\n",
       "\t<tr><td>137</td></tr>\n",
       "\t<tr><td>121</td></tr>\n",
       "\t<tr><td>174</td></tr>\n",
       "\t<tr><td>136</td></tr>\n",
       "\t<tr><td>194</td></tr>\n",
       "\t<tr><td>130</td></tr>\n",
       "\t<tr><td> NA</td></tr>\n",
       "\t<tr><td> NA</td></tr>\n",
       "\t<tr><td> NA</td></tr>\n",
       "\t<tr><td> NA</td></tr>\n",
       "\t<tr><td> NA</td></tr>\n",
       "\t<tr><td> NA</td></tr>\n",
       "</tbody>\n",
       "</table>\n"
      ],
      "text/latex": [
       "A tibble: 19464 × 1\n",
       "\\begin{tabular}{l}\n",
       " value\\\\\n",
       " <dbl>\\\\\n",
       "\\hline\n",
       "\t 137\\\\\n",
       "\t 851\\\\\n",
       "\t 123\\\\\n",
       "\t 145\\\\\n",
       "\t 127\\\\\n",
       "\t 125\\\\\n",
       "\t  NA\\\\\n",
       "\t  NA\\\\\n",
       "\t 136\\\\\n",
       "\t 123\\\\\n",
       "\t 123\\\\\n",
       "\t  NA\\\\\n",
       "\t 138\\\\\n",
       "\t  NA\\\\\n",
       "\t 338\\\\\n",
       "\t 263\\\\\n",
       "\t 127\\\\\n",
       "\t 151\\\\\n",
       "\t 166\\\\\n",
       "\t  NA\\\\\n",
       "\t 174\\\\\n",
       "\t  NA\\\\\n",
       "\t 222\\\\\n",
       "\t 123\\\\\n",
       "\t  NA\\\\\n",
       "\t 250\\\\\n",
       "\t 142\\\\\n",
       "\t 246\\\\\n",
       "\t 127\\\\\n",
       "\t 191\\\\\n",
       "\t ⋮\\\\\n",
       "\t  NA\\\\\n",
       "\t  NA\\\\\n",
       "\t 134\\\\\n",
       "\t 137\\\\\n",
       "\t 208\\\\\n",
       "\t  NA\\\\\n",
       "\t 236\\\\\n",
       "\t 181\\\\\n",
       "\t 141\\\\\n",
       "\t 124\\\\\n",
       "\t 183\\\\\n",
       "\t  NA\\\\\n",
       "\t  NA\\\\\n",
       "\t  NA\\\\\n",
       "\t  NA\\\\\n",
       "\t 131\\\\\n",
       "\t 129\\\\\n",
       "\t 272\\\\\n",
       "\t 137\\\\\n",
       "\t 121\\\\\n",
       "\t 174\\\\\n",
       "\t 136\\\\\n",
       "\t 194\\\\\n",
       "\t 130\\\\\n",
       "\t  NA\\\\\n",
       "\t  NA\\\\\n",
       "\t  NA\\\\\n",
       "\t  NA\\\\\n",
       "\t  NA\\\\\n",
       "\t  NA\\\\\n",
       "\\end{tabular}\n"
      ],
      "text/markdown": [
       "\n",
       "A tibble: 19464 × 1\n",
       "\n",
       "| value &lt;dbl&gt; |\n",
       "|---|\n",
       "| 137 |\n",
       "| 851 |\n",
       "| 123 |\n",
       "| 145 |\n",
       "| 127 |\n",
       "| 125 |\n",
       "|  NA |\n",
       "|  NA |\n",
       "| 136 |\n",
       "| 123 |\n",
       "| 123 |\n",
       "|  NA |\n",
       "| 138 |\n",
       "|  NA |\n",
       "| 338 |\n",
       "| 263 |\n",
       "| 127 |\n",
       "| 151 |\n",
       "| 166 |\n",
       "|  NA |\n",
       "| 174 |\n",
       "|  NA |\n",
       "| 222 |\n",
       "| 123 |\n",
       "|  NA |\n",
       "| 250 |\n",
       "| 142 |\n",
       "| 246 |\n",
       "| 127 |\n",
       "| 191 |\n",
       "| ⋮ |\n",
       "|  NA |\n",
       "|  NA |\n",
       "| 134 |\n",
       "| 137 |\n",
       "| 208 |\n",
       "|  NA |\n",
       "| 236 |\n",
       "| 181 |\n",
       "| 141 |\n",
       "| 124 |\n",
       "| 183 |\n",
       "|  NA |\n",
       "|  NA |\n",
       "|  NA |\n",
       "|  NA |\n",
       "| 131 |\n",
       "| 129 |\n",
       "| 272 |\n",
       "| 137 |\n",
       "| 121 |\n",
       "| 174 |\n",
       "| 136 |\n",
       "| 194 |\n",
       "| 130 |\n",
       "|  NA |\n",
       "|  NA |\n",
       "|  NA |\n",
       "|  NA |\n",
       "|  NA |\n",
       "|  NA |\n",
       "\n"
      ],
      "text/plain": [
       "      value\n",
       "1     137  \n",
       "2     851  \n",
       "3     123  \n",
       "4     145  \n",
       "5     127  \n",
       "6     125  \n",
       "7      NA  \n",
       "8      NA  \n",
       "9     136  \n",
       "10    123  \n",
       "11    123  \n",
       "12     NA  \n",
       "13    138  \n",
       "14     NA  \n",
       "15    338  \n",
       "16    263  \n",
       "17    127  \n",
       "18    151  \n",
       "19    166  \n",
       "20     NA  \n",
       "21    174  \n",
       "22     NA  \n",
       "23    222  \n",
       "24    123  \n",
       "25     NA  \n",
       "26    250  \n",
       "27    142  \n",
       "28    246  \n",
       "29    127  \n",
       "30    191  \n",
       "⋮     ⋮    \n",
       "19435  NA  \n",
       "19436  NA  \n",
       "19437 134  \n",
       "19438 137  \n",
       "19439 208  \n",
       "19440  NA  \n",
       "19441 236  \n",
       "19442 181  \n",
       "19443 141  \n",
       "19444 124  \n",
       "19445 183  \n",
       "19446  NA  \n",
       "19447  NA  \n",
       "19448  NA  \n",
       "19449  NA  \n",
       "19450 131  \n",
       "19451 129  \n",
       "19452 272  \n",
       "19453 137  \n",
       "19454 121  \n",
       "19455 174  \n",
       "19456 136  \n",
       "19457 194  \n",
       "19458 130  \n",
       "19459  NA  \n",
       "19460  NA  \n",
       "19461  NA  \n",
       "19462  NA  \n",
       "19463  NA  \n",
       "19464  NA  "
      ]
     },
     "metadata": {},
     "output_type": "display_data"
    }
   ],
   "source": [
    "df$arr_delay[df$arr_delay>2*60] %>% as_tibble()"
   ]
  },
  {
   "cell_type": "code",
   "execution_count": 178,
   "id": "db8c0615",
   "metadata": {
    "scrolled": true
   },
   "outputs": [
    {
     "data": {
      "text/html": [
       "<table class=\"dataframe\">\n",
       "<caption>A tibble: 10 × 19</caption>\n",
       "<thead>\n",
       "\t<tr><th scope=col>year</th><th scope=col>month</th><th scope=col>day</th><th scope=col>dep_time</th><th scope=col>sched_dep_time</th><th scope=col>dep_delay</th><th scope=col>arr_time</th><th scope=col>sched_arr_time</th><th scope=col>arr_delay</th><th scope=col>carrier</th><th scope=col>flight</th><th scope=col>tailnum</th><th scope=col>origin</th><th scope=col>dest</th><th scope=col>air_time</th><th scope=col>distance</th><th scope=col>hour</th><th scope=col>minute</th><th scope=col>time_hour</th></tr>\n",
       "\t<tr><th scope=col>&lt;int&gt;</th><th scope=col>&lt;int&gt;</th><th scope=col>&lt;int&gt;</th><th scope=col>&lt;int&gt;</th><th scope=col>&lt;int&gt;</th><th scope=col>&lt;dbl&gt;</th><th scope=col>&lt;int&gt;</th><th scope=col>&lt;int&gt;</th><th scope=col>&lt;dbl&gt;</th><th scope=col>&lt;chr&gt;</th><th scope=col>&lt;int&gt;</th><th scope=col>&lt;chr&gt;</th><th scope=col>&lt;chr&gt;</th><th scope=col>&lt;chr&gt;</th><th scope=col>&lt;dbl&gt;</th><th scope=col>&lt;dbl&gt;</th><th scope=col>&lt;dbl&gt;</th><th scope=col>&lt;dbl&gt;</th><th scope=col>&lt;dttm&gt;</th></tr>\n",
       "</thead>\n",
       "<tbody>\n",
       "\t<tr><td>2013</td><td>1</td><td>1</td><td> 811</td><td> 630</td><td>101</td><td>1047</td><td> 830</td><td>137</td><td>MQ</td><td>4576</td><td>N531MQ</td><td>LGA</td><td>CLT</td><td>118</td><td> 544</td><td> 6</td><td>30</td><td>2013-01-01 06:00:00</td></tr>\n",
       "\t<tr><td>2013</td><td>1</td><td>1</td><td> 848</td><td>1835</td><td>853</td><td>1001</td><td>1950</td><td>851</td><td>MQ</td><td>3944</td><td>N942MQ</td><td>JFK</td><td>BWI</td><td> 41</td><td> 184</td><td>18</td><td>35</td><td>2013-01-01 18:00:00</td></tr>\n",
       "\t<tr><td>2013</td><td>1</td><td>1</td><td> 957</td><td> 733</td><td>144</td><td>1056</td><td> 853</td><td>123</td><td>UA</td><td> 856</td><td>N534UA</td><td>EWR</td><td>BOS</td><td> 37</td><td> 200</td><td> 7</td><td>33</td><td>2013-01-01 07:00:00</td></tr>\n",
       "\t<tr><td>2013</td><td>1</td><td>1</td><td>1114</td><td> 900</td><td>134</td><td>1447</td><td>1222</td><td>145</td><td>UA</td><td>1086</td><td>N76502</td><td>LGA</td><td>IAH</td><td>248</td><td>1416</td><td> 9</td><td> 0</td><td>2013-01-01 09:00:00</td></tr>\n",
       "\t<tr><td>2013</td><td>1</td><td>1</td><td>1505</td><td>1310</td><td>115</td><td>1638</td><td>1431</td><td>127</td><td>EV</td><td>4497</td><td>N17984</td><td>EWR</td><td>RIC</td><td> 63</td><td> 277</td><td>13</td><td>10</td><td>2013-01-01 13:00:00</td></tr>\n",
       "\t<tr><td>2013</td><td>1</td><td>1</td><td>1525</td><td>1340</td><td>105</td><td>1831</td><td>1626</td><td>125</td><td>B6</td><td> 525</td><td>N231JB</td><td>EWR</td><td>MCO</td><td>152</td><td> 937</td><td>13</td><td>40</td><td>2013-01-01 13:00:00</td></tr>\n",
       "\t<tr><td>2013</td><td>1</td><td>1</td><td>1549</td><td>1445</td><td> 64</td><td>1912</td><td>1656</td><td>136</td><td>EV</td><td>4181</td><td>N21197</td><td>EWR</td><td>MCI</td><td>234</td><td>1092</td><td>14</td><td>45</td><td>2013-01-01 14:00:00</td></tr>\n",
       "\t<tr><td>2013</td><td>1</td><td>1</td><td>1558</td><td>1359</td><td>119</td><td>1718</td><td>1515</td><td>123</td><td>EV</td><td>5712</td><td>N826AS</td><td>JFK</td><td>IAD</td><td> 53</td><td> 228</td><td>13</td><td>59</td><td>2013-01-01 13:00:00</td></tr>\n",
       "\t<tr><td>2013</td><td>1</td><td>1</td><td>1732</td><td>1630</td><td> 62</td><td>2028</td><td>1825</td><td>123</td><td>EV</td><td>4092</td><td>N16911</td><td>EWR</td><td>DAY</td><td>119</td><td> 533</td><td>16</td><td>30</td><td>2013-01-01 16:00:00</td></tr>\n",
       "\t<tr><td>2013</td><td>1</td><td>1</td><td>1803</td><td>1620</td><td>103</td><td>2008</td><td>1750</td><td>138</td><td>MQ</td><td>4622</td><td>N504MQ</td><td>LGA</td><td>BNA</td><td>154</td><td> 764</td><td>16</td><td>20</td><td>2013-01-01 16:00:00</td></tr>\n",
       "</tbody>\n",
       "</table>\n"
      ],
      "text/latex": [
       "A tibble: 10 × 19\n",
       "\\begin{tabular}{lllllllllllllllllll}\n",
       " year & month & day & dep\\_time & sched\\_dep\\_time & dep\\_delay & arr\\_time & sched\\_arr\\_time & arr\\_delay & carrier & flight & tailnum & origin & dest & air\\_time & distance & hour & minute & time\\_hour\\\\\n",
       " <int> & <int> & <int> & <int> & <int> & <dbl> & <int> & <int> & <dbl> & <chr> & <int> & <chr> & <chr> & <chr> & <dbl> & <dbl> & <dbl> & <dbl> & <dttm>\\\\\n",
       "\\hline\n",
       "\t 2013 & 1 & 1 &  811 &  630 & 101 & 1047 &  830 & 137 & MQ & 4576 & N531MQ & LGA & CLT & 118 &  544 &  6 & 30 & 2013-01-01 06:00:00\\\\\n",
       "\t 2013 & 1 & 1 &  848 & 1835 & 853 & 1001 & 1950 & 851 & MQ & 3944 & N942MQ & JFK & BWI &  41 &  184 & 18 & 35 & 2013-01-01 18:00:00\\\\\n",
       "\t 2013 & 1 & 1 &  957 &  733 & 144 & 1056 &  853 & 123 & UA &  856 & N534UA & EWR & BOS &  37 &  200 &  7 & 33 & 2013-01-01 07:00:00\\\\\n",
       "\t 2013 & 1 & 1 & 1114 &  900 & 134 & 1447 & 1222 & 145 & UA & 1086 & N76502 & LGA & IAH & 248 & 1416 &  9 &  0 & 2013-01-01 09:00:00\\\\\n",
       "\t 2013 & 1 & 1 & 1505 & 1310 & 115 & 1638 & 1431 & 127 & EV & 4497 & N17984 & EWR & RIC &  63 &  277 & 13 & 10 & 2013-01-01 13:00:00\\\\\n",
       "\t 2013 & 1 & 1 & 1525 & 1340 & 105 & 1831 & 1626 & 125 & B6 &  525 & N231JB & EWR & MCO & 152 &  937 & 13 & 40 & 2013-01-01 13:00:00\\\\\n",
       "\t 2013 & 1 & 1 & 1549 & 1445 &  64 & 1912 & 1656 & 136 & EV & 4181 & N21197 & EWR & MCI & 234 & 1092 & 14 & 45 & 2013-01-01 14:00:00\\\\\n",
       "\t 2013 & 1 & 1 & 1558 & 1359 & 119 & 1718 & 1515 & 123 & EV & 5712 & N826AS & JFK & IAD &  53 &  228 & 13 & 59 & 2013-01-01 13:00:00\\\\\n",
       "\t 2013 & 1 & 1 & 1732 & 1630 &  62 & 2028 & 1825 & 123 & EV & 4092 & N16911 & EWR & DAY & 119 &  533 & 16 & 30 & 2013-01-01 16:00:00\\\\\n",
       "\t 2013 & 1 & 1 & 1803 & 1620 & 103 & 2008 & 1750 & 138 & MQ & 4622 & N504MQ & LGA & BNA & 154 &  764 & 16 & 20 & 2013-01-01 16:00:00\\\\\n",
       "\\end{tabular}\n"
      ],
      "text/markdown": [
       "\n",
       "A tibble: 10 × 19\n",
       "\n",
       "| year &lt;int&gt; | month &lt;int&gt; | day &lt;int&gt; | dep_time &lt;int&gt; | sched_dep_time &lt;int&gt; | dep_delay &lt;dbl&gt; | arr_time &lt;int&gt; | sched_arr_time &lt;int&gt; | arr_delay &lt;dbl&gt; | carrier &lt;chr&gt; | flight &lt;int&gt; | tailnum &lt;chr&gt; | origin &lt;chr&gt; | dest &lt;chr&gt; | air_time &lt;dbl&gt; | distance &lt;dbl&gt; | hour &lt;dbl&gt; | minute &lt;dbl&gt; | time_hour &lt;dttm&gt; |\n",
       "|---|---|---|---|---|---|---|---|---|---|---|---|---|---|---|---|---|---|---|\n",
       "| 2013 | 1 | 1 |  811 |  630 | 101 | 1047 |  830 | 137 | MQ | 4576 | N531MQ | LGA | CLT | 118 |  544 |  6 | 30 | 2013-01-01 06:00:00 |\n",
       "| 2013 | 1 | 1 |  848 | 1835 | 853 | 1001 | 1950 | 851 | MQ | 3944 | N942MQ | JFK | BWI |  41 |  184 | 18 | 35 | 2013-01-01 18:00:00 |\n",
       "| 2013 | 1 | 1 |  957 |  733 | 144 | 1056 |  853 | 123 | UA |  856 | N534UA | EWR | BOS |  37 |  200 |  7 | 33 | 2013-01-01 07:00:00 |\n",
       "| 2013 | 1 | 1 | 1114 |  900 | 134 | 1447 | 1222 | 145 | UA | 1086 | N76502 | LGA | IAH | 248 | 1416 |  9 |  0 | 2013-01-01 09:00:00 |\n",
       "| 2013 | 1 | 1 | 1505 | 1310 | 115 | 1638 | 1431 | 127 | EV | 4497 | N17984 | EWR | RIC |  63 |  277 | 13 | 10 | 2013-01-01 13:00:00 |\n",
       "| 2013 | 1 | 1 | 1525 | 1340 | 105 | 1831 | 1626 | 125 | B6 |  525 | N231JB | EWR | MCO | 152 |  937 | 13 | 40 | 2013-01-01 13:00:00 |\n",
       "| 2013 | 1 | 1 | 1549 | 1445 |  64 | 1912 | 1656 | 136 | EV | 4181 | N21197 | EWR | MCI | 234 | 1092 | 14 | 45 | 2013-01-01 14:00:00 |\n",
       "| 2013 | 1 | 1 | 1558 | 1359 | 119 | 1718 | 1515 | 123 | EV | 5712 | N826AS | JFK | IAD |  53 |  228 | 13 | 59 | 2013-01-01 13:00:00 |\n",
       "| 2013 | 1 | 1 | 1732 | 1630 |  62 | 2028 | 1825 | 123 | EV | 4092 | N16911 | EWR | DAY | 119 |  533 | 16 | 30 | 2013-01-01 16:00:00 |\n",
       "| 2013 | 1 | 1 | 1803 | 1620 | 103 | 2008 | 1750 | 138 | MQ | 4622 | N504MQ | LGA | BNA | 154 |  764 | 16 | 20 | 2013-01-01 16:00:00 |\n",
       "\n"
      ],
      "text/plain": [
       "   year month day dep_time sched_dep_time dep_delay arr_time sched_arr_time\n",
       "1  2013 1     1    811      630           101       1047      830          \n",
       "2  2013 1     1    848     1835           853       1001     1950          \n",
       "3  2013 1     1    957      733           144       1056      853          \n",
       "4  2013 1     1   1114      900           134       1447     1222          \n",
       "5  2013 1     1   1505     1310           115       1638     1431          \n",
       "6  2013 1     1   1525     1340           105       1831     1626          \n",
       "7  2013 1     1   1549     1445            64       1912     1656          \n",
       "8  2013 1     1   1558     1359           119       1718     1515          \n",
       "9  2013 1     1   1732     1630            62       2028     1825          \n",
       "10 2013 1     1   1803     1620           103       2008     1750          \n",
       "   arr_delay carrier flight tailnum origin dest air_time distance hour minute\n",
       "1  137       MQ      4576   N531MQ  LGA    CLT  118       544      6   30    \n",
       "2  851       MQ      3944   N942MQ  JFK    BWI   41       184     18   35    \n",
       "3  123       UA       856   N534UA  EWR    BOS   37       200      7   33    \n",
       "4  145       UA      1086   N76502  LGA    IAH  248      1416      9    0    \n",
       "5  127       EV      4497   N17984  EWR    RIC   63       277     13   10    \n",
       "6  125       B6       525   N231JB  EWR    MCO  152       937     13   40    \n",
       "7  136       EV      4181   N21197  EWR    MCI  234      1092     14   45    \n",
       "8  123       EV      5712   N826AS  JFK    IAD   53       228     13   59    \n",
       "9  123       EV      4092   N16911  EWR    DAY  119       533     16   30    \n",
       "10 138       MQ      4622   N504MQ  LGA    BNA  154       764     16   20    \n",
       "   time_hour          \n",
       "1  2013-01-01 06:00:00\n",
       "2  2013-01-01 18:00:00\n",
       "3  2013-01-01 07:00:00\n",
       "4  2013-01-01 09:00:00\n",
       "5  2013-01-01 13:00:00\n",
       "6  2013-01-01 13:00:00\n",
       "7  2013-01-01 14:00:00\n",
       "8  2013-01-01 13:00:00\n",
       "9  2013-01-01 16:00:00\n",
       "10 2013-01-01 16:00:00"
      ]
     },
     "metadata": {},
     "output_type": "display_data"
    }
   ],
   "source": [
    "df %>% filter(arr_delay>2*60) %>% slice(1:10)"
   ]
  },
  {
   "cell_type": "markdown",
   "id": "26ccbaa2",
   "metadata": {},
   "source": [
    "+ Find all flights with more tahn 2 hours arrival delay and no de-\n",
    "  parture delay."
   ]
  },
  {
   "cell_type": "code",
   "execution_count": 180,
   "id": "8c853f0d",
   "metadata": {},
   "outputs": [
    {
     "data": {
      "text/html": [
       "<table class=\"dataframe\">\n",
       "<caption>A tibble: 10 × 19</caption>\n",
       "<thead>\n",
       "\t<tr><th scope=col>year</th><th scope=col>month</th><th scope=col>day</th><th scope=col>dep_time</th><th scope=col>sched_dep_time</th><th scope=col>dep_delay</th><th scope=col>arr_time</th><th scope=col>sched_arr_time</th><th scope=col>arr_delay</th><th scope=col>carrier</th><th scope=col>flight</th><th scope=col>tailnum</th><th scope=col>origin</th><th scope=col>dest</th><th scope=col>air_time</th><th scope=col>distance</th><th scope=col>hour</th><th scope=col>minute</th><th scope=col>time_hour</th></tr>\n",
       "\t<tr><th scope=col>&lt;int&gt;</th><th scope=col>&lt;int&gt;</th><th scope=col>&lt;int&gt;</th><th scope=col>&lt;int&gt;</th><th scope=col>&lt;int&gt;</th><th scope=col>&lt;dbl&gt;</th><th scope=col>&lt;int&gt;</th><th scope=col>&lt;int&gt;</th><th scope=col>&lt;dbl&gt;</th><th scope=col>&lt;chr&gt;</th><th scope=col>&lt;int&gt;</th><th scope=col>&lt;chr&gt;</th><th scope=col>&lt;chr&gt;</th><th scope=col>&lt;chr&gt;</th><th scope=col>&lt;dbl&gt;</th><th scope=col>&lt;dbl&gt;</th><th scope=col>&lt;dbl&gt;</th><th scope=col>&lt;dbl&gt;</th><th scope=col>&lt;dttm&gt;</th></tr>\n",
       "</thead>\n",
       "<tbody>\n",
       "\t<tr><td>2013</td><td> 1</td><td>27</td><td>1419</td><td>1420</td><td>-1</td><td>1754</td><td>1550</td><td>124</td><td>MQ</td><td>3728</td><td>N1EAMQ</td><td>EWR</td><td>ORD</td><td>135</td><td> 719</td><td>14</td><td>20</td><td>2013-01-27 14:00:00</td></tr>\n",
       "\t<tr><td>2013</td><td>10</td><td> 7</td><td>1350</td><td>1350</td><td> 0</td><td>1736</td><td>1526</td><td>130</td><td>EV</td><td>5181</td><td>N611QX</td><td>LGA</td><td>MSN</td><td>117</td><td> 812</td><td>13</td><td>50</td><td>2013-10-07 13:00:00</td></tr>\n",
       "\t<tr><td>2013</td><td>10</td><td> 7</td><td>1357</td><td>1359</td><td>-2</td><td>1858</td><td>1654</td><td>124</td><td>AA</td><td>1151</td><td>N3CMAA</td><td>LGA</td><td>DFW</td><td>192</td><td>1389</td><td>13</td><td>59</td><td>2013-10-07 13:00:00</td></tr>\n",
       "\t<tr><td>2013</td><td>10</td><td>16</td><td> 657</td><td> 700</td><td>-3</td><td>1258</td><td>1056</td><td>122</td><td>B6</td><td>   3</td><td>N703JB</td><td>JFK</td><td>SJU</td><td>225</td><td>1598</td><td> 7</td><td> 0</td><td>2013-10-16 07:00:00</td></tr>\n",
       "\t<tr><td>2013</td><td>11</td><td> 1</td><td> 658</td><td> 700</td><td>-2</td><td>1329</td><td>1015</td><td>194</td><td>VX</td><td> 399</td><td>N629VA</td><td>JFK</td><td>LAX</td><td>336</td><td>2475</td><td> 7</td><td> 0</td><td>2013-11-01 07:00:00</td></tr>\n",
       "\t<tr><td>2013</td><td> 3</td><td>18</td><td>1844</td><td>1847</td><td>-3</td><td>  39</td><td>2219</td><td>140</td><td>UA</td><td> 389</td><td>N560UA</td><td>JFK</td><td>SFO</td><td>386</td><td>2586</td><td>18</td><td>47</td><td>2013-03-18 18:00:00</td></tr>\n",
       "\t<tr><td>2013</td><td> 4</td><td>17</td><td>1635</td><td>1640</td><td>-5</td><td>2049</td><td>1845</td><td>124</td><td>MQ</td><td>4540</td><td>N721MQ</td><td>LGA</td><td>DTW</td><td>130</td><td> 502</td><td>16</td><td>40</td><td>2013-04-17 16:00:00</td></tr>\n",
       "\t<tr><td>2013</td><td> 4</td><td>18</td><td> 558</td><td> 600</td><td>-2</td><td>1149</td><td> 850</td><td>179</td><td>AA</td><td> 707</td><td>N3EXAA</td><td>LGA</td><td>DFW</td><td>234</td><td>1389</td><td> 6</td><td> 0</td><td>2013-04-18 06:00:00</td></tr>\n",
       "\t<tr><td>2013</td><td> 4</td><td>18</td><td> 655</td><td> 700</td><td>-5</td><td>1213</td><td> 950</td><td>143</td><td>AA</td><td>2083</td><td>N565AA</td><td>EWR</td><td>DFW</td><td>230</td><td>1372</td><td> 7</td><td> 0</td><td>2013-04-18 07:00:00</td></tr>\n",
       "\t<tr><td>2013</td><td> 5</td><td>22</td><td>1827</td><td>1830</td><td>-3</td><td>2217</td><td>2010</td><td>127</td><td>MQ</td><td>4674</td><td>N518MQ</td><td>LGA</td><td>CLE</td><td> 90</td><td> 419</td><td>18</td><td>30</td><td>2013-05-22 18:00:00</td></tr>\n",
       "</tbody>\n",
       "</table>\n"
      ],
      "text/latex": [
       "A tibble: 10 × 19\n",
       "\\begin{tabular}{lllllllllllllllllll}\n",
       " year & month & day & dep\\_time & sched\\_dep\\_time & dep\\_delay & arr\\_time & sched\\_arr\\_time & arr\\_delay & carrier & flight & tailnum & origin & dest & air\\_time & distance & hour & minute & time\\_hour\\\\\n",
       " <int> & <int> & <int> & <int> & <int> & <dbl> & <int> & <int> & <dbl> & <chr> & <int> & <chr> & <chr> & <chr> & <dbl> & <dbl> & <dbl> & <dbl> & <dttm>\\\\\n",
       "\\hline\n",
       "\t 2013 &  1 & 27 & 1419 & 1420 & -1 & 1754 & 1550 & 124 & MQ & 3728 & N1EAMQ & EWR & ORD & 135 &  719 & 14 & 20 & 2013-01-27 14:00:00\\\\\n",
       "\t 2013 & 10 &  7 & 1350 & 1350 &  0 & 1736 & 1526 & 130 & EV & 5181 & N611QX & LGA & MSN & 117 &  812 & 13 & 50 & 2013-10-07 13:00:00\\\\\n",
       "\t 2013 & 10 &  7 & 1357 & 1359 & -2 & 1858 & 1654 & 124 & AA & 1151 & N3CMAA & LGA & DFW & 192 & 1389 & 13 & 59 & 2013-10-07 13:00:00\\\\\n",
       "\t 2013 & 10 & 16 &  657 &  700 & -3 & 1258 & 1056 & 122 & B6 &    3 & N703JB & JFK & SJU & 225 & 1598 &  7 &  0 & 2013-10-16 07:00:00\\\\\n",
       "\t 2013 & 11 &  1 &  658 &  700 & -2 & 1329 & 1015 & 194 & VX &  399 & N629VA & JFK & LAX & 336 & 2475 &  7 &  0 & 2013-11-01 07:00:00\\\\\n",
       "\t 2013 &  3 & 18 & 1844 & 1847 & -3 &   39 & 2219 & 140 & UA &  389 & N560UA & JFK & SFO & 386 & 2586 & 18 & 47 & 2013-03-18 18:00:00\\\\\n",
       "\t 2013 &  4 & 17 & 1635 & 1640 & -5 & 2049 & 1845 & 124 & MQ & 4540 & N721MQ & LGA & DTW & 130 &  502 & 16 & 40 & 2013-04-17 16:00:00\\\\\n",
       "\t 2013 &  4 & 18 &  558 &  600 & -2 & 1149 &  850 & 179 & AA &  707 & N3EXAA & LGA & DFW & 234 & 1389 &  6 &  0 & 2013-04-18 06:00:00\\\\\n",
       "\t 2013 &  4 & 18 &  655 &  700 & -5 & 1213 &  950 & 143 & AA & 2083 & N565AA & EWR & DFW & 230 & 1372 &  7 &  0 & 2013-04-18 07:00:00\\\\\n",
       "\t 2013 &  5 & 22 & 1827 & 1830 & -3 & 2217 & 2010 & 127 & MQ & 4674 & N518MQ & LGA & CLE &  90 &  419 & 18 & 30 & 2013-05-22 18:00:00\\\\\n",
       "\\end{tabular}\n"
      ],
      "text/markdown": [
       "\n",
       "A tibble: 10 × 19\n",
       "\n",
       "| year &lt;int&gt; | month &lt;int&gt; | day &lt;int&gt; | dep_time &lt;int&gt; | sched_dep_time &lt;int&gt; | dep_delay &lt;dbl&gt; | arr_time &lt;int&gt; | sched_arr_time &lt;int&gt; | arr_delay &lt;dbl&gt; | carrier &lt;chr&gt; | flight &lt;int&gt; | tailnum &lt;chr&gt; | origin &lt;chr&gt; | dest &lt;chr&gt; | air_time &lt;dbl&gt; | distance &lt;dbl&gt; | hour &lt;dbl&gt; | minute &lt;dbl&gt; | time_hour &lt;dttm&gt; |\n",
       "|---|---|---|---|---|---|---|---|---|---|---|---|---|---|---|---|---|---|---|\n",
       "| 2013 |  1 | 27 | 1419 | 1420 | -1 | 1754 | 1550 | 124 | MQ | 3728 | N1EAMQ | EWR | ORD | 135 |  719 | 14 | 20 | 2013-01-27 14:00:00 |\n",
       "| 2013 | 10 |  7 | 1350 | 1350 |  0 | 1736 | 1526 | 130 | EV | 5181 | N611QX | LGA | MSN | 117 |  812 | 13 | 50 | 2013-10-07 13:00:00 |\n",
       "| 2013 | 10 |  7 | 1357 | 1359 | -2 | 1858 | 1654 | 124 | AA | 1151 | N3CMAA | LGA | DFW | 192 | 1389 | 13 | 59 | 2013-10-07 13:00:00 |\n",
       "| 2013 | 10 | 16 |  657 |  700 | -3 | 1258 | 1056 | 122 | B6 |    3 | N703JB | JFK | SJU | 225 | 1598 |  7 |  0 | 2013-10-16 07:00:00 |\n",
       "| 2013 | 11 |  1 |  658 |  700 | -2 | 1329 | 1015 | 194 | VX |  399 | N629VA | JFK | LAX | 336 | 2475 |  7 |  0 | 2013-11-01 07:00:00 |\n",
       "| 2013 |  3 | 18 | 1844 | 1847 | -3 |   39 | 2219 | 140 | UA |  389 | N560UA | JFK | SFO | 386 | 2586 | 18 | 47 | 2013-03-18 18:00:00 |\n",
       "| 2013 |  4 | 17 | 1635 | 1640 | -5 | 2049 | 1845 | 124 | MQ | 4540 | N721MQ | LGA | DTW | 130 |  502 | 16 | 40 | 2013-04-17 16:00:00 |\n",
       "| 2013 |  4 | 18 |  558 |  600 | -2 | 1149 |  850 | 179 | AA |  707 | N3EXAA | LGA | DFW | 234 | 1389 |  6 |  0 | 2013-04-18 06:00:00 |\n",
       "| 2013 |  4 | 18 |  655 |  700 | -5 | 1213 |  950 | 143 | AA | 2083 | N565AA | EWR | DFW | 230 | 1372 |  7 |  0 | 2013-04-18 07:00:00 |\n",
       "| 2013 |  5 | 22 | 1827 | 1830 | -3 | 2217 | 2010 | 127 | MQ | 4674 | N518MQ | LGA | CLE |  90 |  419 | 18 | 30 | 2013-05-22 18:00:00 |\n",
       "\n"
      ],
      "text/plain": [
       "   year month day dep_time sched_dep_time dep_delay arr_time sched_arr_time\n",
       "1  2013  1    27  1419     1420           -1        1754     1550          \n",
       "2  2013 10     7  1350     1350            0        1736     1526          \n",
       "3  2013 10     7  1357     1359           -2        1858     1654          \n",
       "4  2013 10    16   657      700           -3        1258     1056          \n",
       "5  2013 11     1   658      700           -2        1329     1015          \n",
       "6  2013  3    18  1844     1847           -3          39     2219          \n",
       "7  2013  4    17  1635     1640           -5        2049     1845          \n",
       "8  2013  4    18   558      600           -2        1149      850          \n",
       "9  2013  4    18   655      700           -5        1213      950          \n",
       "10 2013  5    22  1827     1830           -3        2217     2010          \n",
       "   arr_delay carrier flight tailnum origin dest air_time distance hour minute\n",
       "1  124       MQ      3728   N1EAMQ  EWR    ORD  135       719     14   20    \n",
       "2  130       EV      5181   N611QX  LGA    MSN  117       812     13   50    \n",
       "3  124       AA      1151   N3CMAA  LGA    DFW  192      1389     13   59    \n",
       "4  122       B6         3   N703JB  JFK    SJU  225      1598      7    0    \n",
       "5  194       VX       399   N629VA  JFK    LAX  336      2475      7    0    \n",
       "6  140       UA       389   N560UA  JFK    SFO  386      2586     18   47    \n",
       "7  124       MQ      4540   N721MQ  LGA    DTW  130       502     16   40    \n",
       "8  179       AA       707   N3EXAA  LGA    DFW  234      1389      6    0    \n",
       "9  143       AA      2083   N565AA  EWR    DFW  230      1372      7    0    \n",
       "10 127       MQ      4674   N518MQ  LGA    CLE   90       419     18   30    \n",
       "   time_hour          \n",
       "1  2013-01-27 14:00:00\n",
       "2  2013-10-07 13:00:00\n",
       "3  2013-10-07 13:00:00\n",
       "4  2013-10-16 07:00:00\n",
       "5  2013-11-01 07:00:00\n",
       "6  2013-03-18 18:00:00\n",
       "7  2013-04-17 16:00:00\n",
       "8  2013-04-18 06:00:00\n",
       "9  2013-04-18 07:00:00\n",
       "10 2013-05-22 18:00:00"
      ]
     },
     "metadata": {},
     "output_type": "display_data"
    }
   ],
   "source": [
    "df %>% filter(arr_delay>2*60 & dep_delay<=0) %>% slice(1:10)"
   ]
  },
  {
   "cell_type": "markdown",
   "id": "bea7cd5b",
   "metadata": {},
   "source": [
    "+ Find all flights from United, American and Delta with no arrival\n",
    "   delay."
   ]
  },
  {
   "cell_type": "code",
   "execution_count": 182,
   "id": "591b5a87",
   "metadata": {
    "scrolled": true
   },
   "outputs": [
    {
     "data": {
      "text/html": [
       "<style>\n",
       ".list-inline {list-style: none; margin:0; padding: 0}\n",
       ".list-inline>li {display: inline-block}\n",
       ".list-inline>li:not(:last-child)::after {content: \"\\00b7\"; padding: 0 .5ex}\n",
       "</style>\n",
       "<ol class=list-inline><li>'UA'</li><li>'AA'</li><li>'B6'</li><li>'DL'</li><li>'EV'</li><li>'MQ'</li><li>'US'</li><li>'WN'</li><li>'VX'</li><li>'FL'</li><li>'AS'</li><li>'9E'</li><li>'F9'</li><li>'HA'</li><li>'YV'</li><li>'OO'</li></ol>\n"
      ],
      "text/latex": [
       "\\begin{enumerate*}\n",
       "\\item 'UA'\n",
       "\\item 'AA'\n",
       "\\item 'B6'\n",
       "\\item 'DL'\n",
       "\\item 'EV'\n",
       "\\item 'MQ'\n",
       "\\item 'US'\n",
       "\\item 'WN'\n",
       "\\item 'VX'\n",
       "\\item 'FL'\n",
       "\\item 'AS'\n",
       "\\item '9E'\n",
       "\\item 'F9'\n",
       "\\item 'HA'\n",
       "\\item 'YV'\n",
       "\\item 'OO'\n",
       "\\end{enumerate*}\n"
      ],
      "text/markdown": [
       "1. 'UA'\n",
       "2. 'AA'\n",
       "3. 'B6'\n",
       "4. 'DL'\n",
       "5. 'EV'\n",
       "6. 'MQ'\n",
       "7. 'US'\n",
       "8. 'WN'\n",
       "9. 'VX'\n",
       "10. 'FL'\n",
       "11. 'AS'\n",
       "12. '9E'\n",
       "13. 'F9'\n",
       "14. 'HA'\n",
       "15. 'YV'\n",
       "16. 'OO'\n",
       "\n",
       "\n"
      ],
      "text/plain": [
       " [1] \"UA\" \"AA\" \"B6\" \"DL\" \"EV\" \"MQ\" \"US\" \"WN\" \"VX\" \"FL\" \"AS\" \"9E\" \"F9\" \"HA\" \"YV\"\n",
       "[16] \"OO\""
      ]
     },
     "metadata": {},
     "output_type": "display_data"
    }
   ],
   "source": [
    "df$carrier  %>% unique()"
   ]
  },
  {
   "cell_type": "code",
   "execution_count": 183,
   "id": "ff1f487d",
   "metadata": {
    "scrolled": true
   },
   "outputs": [
    {
     "data": {
      "text/html": [
       "<table class=\"dataframe\">\n",
       "<caption>A tibble: 10 × 19</caption>\n",
       "<thead>\n",
       "\t<tr><th scope=col>year</th><th scope=col>month</th><th scope=col>day</th><th scope=col>dep_time</th><th scope=col>sched_dep_time</th><th scope=col>dep_delay</th><th scope=col>arr_time</th><th scope=col>sched_arr_time</th><th scope=col>arr_delay</th><th scope=col>carrier</th><th scope=col>flight</th><th scope=col>tailnum</th><th scope=col>origin</th><th scope=col>dest</th><th scope=col>air_time</th><th scope=col>distance</th><th scope=col>hour</th><th scope=col>minute</th><th scope=col>time_hour</th></tr>\n",
       "\t<tr><th scope=col>&lt;int&gt;</th><th scope=col>&lt;int&gt;</th><th scope=col>&lt;int&gt;</th><th scope=col>&lt;int&gt;</th><th scope=col>&lt;int&gt;</th><th scope=col>&lt;dbl&gt;</th><th scope=col>&lt;int&gt;</th><th scope=col>&lt;int&gt;</th><th scope=col>&lt;dbl&gt;</th><th scope=col>&lt;chr&gt;</th><th scope=col>&lt;int&gt;</th><th scope=col>&lt;chr&gt;</th><th scope=col>&lt;chr&gt;</th><th scope=col>&lt;chr&gt;</th><th scope=col>&lt;dbl&gt;</th><th scope=col>&lt;dbl&gt;</th><th scope=col>&lt;dbl&gt;</th><th scope=col>&lt;dbl&gt;</th><th scope=col>&lt;dttm&gt;</th></tr>\n",
       "</thead>\n",
       "<tbody>\n",
       "\t<tr><td>2013</td><td>1</td><td>1</td><td>554</td><td>600</td><td>-6</td><td>812</td><td>837</td><td>-25</td><td>DL</td><td> 461</td><td>N668DN</td><td>LGA</td><td>ATL</td><td>116</td><td> 762</td><td>6</td><td> 0</td><td>2013-01-01 06:00:00</td></tr>\n",
       "\t<tr><td>2013</td><td>1</td><td>1</td><td>554</td><td>558</td><td>-4</td><td>740</td><td>728</td><td> 12</td><td>UA</td><td>1696</td><td>N39463</td><td>EWR</td><td>ORD</td><td>150</td><td> 719</td><td>5</td><td>58</td><td>2013-01-01 05:00:00</td></tr>\n",
       "\t<tr><td>2013</td><td>1</td><td>1</td><td>558</td><td>600</td><td>-2</td><td>753</td><td>745</td><td>  8</td><td>AA</td><td> 301</td><td>N3ALAA</td><td>LGA</td><td>ORD</td><td>138</td><td> 733</td><td>6</td><td> 0</td><td>2013-01-01 06:00:00</td></tr>\n",
       "\t<tr><td>2013</td><td>1</td><td>1</td><td>558</td><td>600</td><td>-2</td><td>924</td><td>917</td><td>  7</td><td>UA</td><td> 194</td><td>N29129</td><td>JFK</td><td>LAX</td><td>345</td><td>2475</td><td>6</td><td> 0</td><td>2013-01-01 06:00:00</td></tr>\n",
       "\t<tr><td>2013</td><td>1</td><td>1</td><td>558</td><td>600</td><td>-2</td><td>923</td><td>937</td><td>-14</td><td>UA</td><td>1124</td><td>N53441</td><td>EWR</td><td>SFO</td><td>361</td><td>2565</td><td>6</td><td> 0</td><td>2013-01-01 06:00:00</td></tr>\n",
       "\t<tr><td>2013</td><td>1</td><td>1</td><td>559</td><td>600</td><td>-1</td><td>941</td><td>910</td><td> 31</td><td>AA</td><td> 707</td><td>N3DUAA</td><td>LGA</td><td>DFW</td><td>257</td><td>1389</td><td>6</td><td> 0</td><td>2013-01-01 06:00:00</td></tr>\n",
       "\t<tr><td>2013</td><td>1</td><td>1</td><td>559</td><td>600</td><td>-1</td><td>854</td><td>902</td><td> -8</td><td>UA</td><td>1187</td><td>N76515</td><td>EWR</td><td>LAS</td><td>337</td><td>2227</td><td>6</td><td> 0</td><td>2013-01-01 06:00:00</td></tr>\n",
       "\t<tr><td>2013</td><td>1</td><td>1</td><td>602</td><td>610</td><td>-8</td><td>812</td><td>820</td><td> -8</td><td>DL</td><td>1919</td><td>N971DL</td><td>LGA</td><td>MSP</td><td>170</td><td>1020</td><td>6</td><td>10</td><td>2013-01-01 06:00:00</td></tr>\n",
       "\t<tr><td>2013</td><td>1</td><td>1</td><td>606</td><td>610</td><td>-4</td><td>858</td><td>910</td><td>-12</td><td>AA</td><td>1895</td><td>N633AA</td><td>EWR</td><td>MIA</td><td>152</td><td>1085</td><td>6</td><td>10</td><td>2013-01-01 06:00:00</td></tr>\n",
       "\t<tr><td>2013</td><td>1</td><td>1</td><td>606</td><td>610</td><td>-4</td><td>837</td><td>845</td><td> -8</td><td>DL</td><td>1743</td><td>N3739P</td><td>JFK</td><td>ATL</td><td>128</td><td> 760</td><td>6</td><td>10</td><td>2013-01-01 06:00:00</td></tr>\n",
       "</tbody>\n",
       "</table>\n"
      ],
      "text/latex": [
       "A tibble: 10 × 19\n",
       "\\begin{tabular}{lllllllllllllllllll}\n",
       " year & month & day & dep\\_time & sched\\_dep\\_time & dep\\_delay & arr\\_time & sched\\_arr\\_time & arr\\_delay & carrier & flight & tailnum & origin & dest & air\\_time & distance & hour & minute & time\\_hour\\\\\n",
       " <int> & <int> & <int> & <int> & <int> & <dbl> & <int> & <int> & <dbl> & <chr> & <int> & <chr> & <chr> & <chr> & <dbl> & <dbl> & <dbl> & <dbl> & <dttm>\\\\\n",
       "\\hline\n",
       "\t 2013 & 1 & 1 & 554 & 600 & -6 & 812 & 837 & -25 & DL &  461 & N668DN & LGA & ATL & 116 &  762 & 6 &  0 & 2013-01-01 06:00:00\\\\\n",
       "\t 2013 & 1 & 1 & 554 & 558 & -4 & 740 & 728 &  12 & UA & 1696 & N39463 & EWR & ORD & 150 &  719 & 5 & 58 & 2013-01-01 05:00:00\\\\\n",
       "\t 2013 & 1 & 1 & 558 & 600 & -2 & 753 & 745 &   8 & AA &  301 & N3ALAA & LGA & ORD & 138 &  733 & 6 &  0 & 2013-01-01 06:00:00\\\\\n",
       "\t 2013 & 1 & 1 & 558 & 600 & -2 & 924 & 917 &   7 & UA &  194 & N29129 & JFK & LAX & 345 & 2475 & 6 &  0 & 2013-01-01 06:00:00\\\\\n",
       "\t 2013 & 1 & 1 & 558 & 600 & -2 & 923 & 937 & -14 & UA & 1124 & N53441 & EWR & SFO & 361 & 2565 & 6 &  0 & 2013-01-01 06:00:00\\\\\n",
       "\t 2013 & 1 & 1 & 559 & 600 & -1 & 941 & 910 &  31 & AA &  707 & N3DUAA & LGA & DFW & 257 & 1389 & 6 &  0 & 2013-01-01 06:00:00\\\\\n",
       "\t 2013 & 1 & 1 & 559 & 600 & -1 & 854 & 902 &  -8 & UA & 1187 & N76515 & EWR & LAS & 337 & 2227 & 6 &  0 & 2013-01-01 06:00:00\\\\\n",
       "\t 2013 & 1 & 1 & 602 & 610 & -8 & 812 & 820 &  -8 & DL & 1919 & N971DL & LGA & MSP & 170 & 1020 & 6 & 10 & 2013-01-01 06:00:00\\\\\n",
       "\t 2013 & 1 & 1 & 606 & 610 & -4 & 858 & 910 & -12 & AA & 1895 & N633AA & EWR & MIA & 152 & 1085 & 6 & 10 & 2013-01-01 06:00:00\\\\\n",
       "\t 2013 & 1 & 1 & 606 & 610 & -4 & 837 & 845 &  -8 & DL & 1743 & N3739P & JFK & ATL & 128 &  760 & 6 & 10 & 2013-01-01 06:00:00\\\\\n",
       "\\end{tabular}\n"
      ],
      "text/markdown": [
       "\n",
       "A tibble: 10 × 19\n",
       "\n",
       "| year &lt;int&gt; | month &lt;int&gt; | day &lt;int&gt; | dep_time &lt;int&gt; | sched_dep_time &lt;int&gt; | dep_delay &lt;dbl&gt; | arr_time &lt;int&gt; | sched_arr_time &lt;int&gt; | arr_delay &lt;dbl&gt; | carrier &lt;chr&gt; | flight &lt;int&gt; | tailnum &lt;chr&gt; | origin &lt;chr&gt; | dest &lt;chr&gt; | air_time &lt;dbl&gt; | distance &lt;dbl&gt; | hour &lt;dbl&gt; | minute &lt;dbl&gt; | time_hour &lt;dttm&gt; |\n",
       "|---|---|---|---|---|---|---|---|---|---|---|---|---|---|---|---|---|---|---|\n",
       "| 2013 | 1 | 1 | 554 | 600 | -6 | 812 | 837 | -25 | DL |  461 | N668DN | LGA | ATL | 116 |  762 | 6 |  0 | 2013-01-01 06:00:00 |\n",
       "| 2013 | 1 | 1 | 554 | 558 | -4 | 740 | 728 |  12 | UA | 1696 | N39463 | EWR | ORD | 150 |  719 | 5 | 58 | 2013-01-01 05:00:00 |\n",
       "| 2013 | 1 | 1 | 558 | 600 | -2 | 753 | 745 |   8 | AA |  301 | N3ALAA | LGA | ORD | 138 |  733 | 6 |  0 | 2013-01-01 06:00:00 |\n",
       "| 2013 | 1 | 1 | 558 | 600 | -2 | 924 | 917 |   7 | UA |  194 | N29129 | JFK | LAX | 345 | 2475 | 6 |  0 | 2013-01-01 06:00:00 |\n",
       "| 2013 | 1 | 1 | 558 | 600 | -2 | 923 | 937 | -14 | UA | 1124 | N53441 | EWR | SFO | 361 | 2565 | 6 |  0 | 2013-01-01 06:00:00 |\n",
       "| 2013 | 1 | 1 | 559 | 600 | -1 | 941 | 910 |  31 | AA |  707 | N3DUAA | LGA | DFW | 257 | 1389 | 6 |  0 | 2013-01-01 06:00:00 |\n",
       "| 2013 | 1 | 1 | 559 | 600 | -1 | 854 | 902 |  -8 | UA | 1187 | N76515 | EWR | LAS | 337 | 2227 | 6 |  0 | 2013-01-01 06:00:00 |\n",
       "| 2013 | 1 | 1 | 602 | 610 | -8 | 812 | 820 |  -8 | DL | 1919 | N971DL | LGA | MSP | 170 | 1020 | 6 | 10 | 2013-01-01 06:00:00 |\n",
       "| 2013 | 1 | 1 | 606 | 610 | -4 | 858 | 910 | -12 | AA | 1895 | N633AA | EWR | MIA | 152 | 1085 | 6 | 10 | 2013-01-01 06:00:00 |\n",
       "| 2013 | 1 | 1 | 606 | 610 | -4 | 837 | 845 |  -8 | DL | 1743 | N3739P | JFK | ATL | 128 |  760 | 6 | 10 | 2013-01-01 06:00:00 |\n",
       "\n"
      ],
      "text/plain": [
       "   year month day dep_time sched_dep_time dep_delay arr_time sched_arr_time\n",
       "1  2013 1     1   554      600            -6        812      837           \n",
       "2  2013 1     1   554      558            -4        740      728           \n",
       "3  2013 1     1   558      600            -2        753      745           \n",
       "4  2013 1     1   558      600            -2        924      917           \n",
       "5  2013 1     1   558      600            -2        923      937           \n",
       "6  2013 1     1   559      600            -1        941      910           \n",
       "7  2013 1     1   559      600            -1        854      902           \n",
       "8  2013 1     1   602      610            -8        812      820           \n",
       "9  2013 1     1   606      610            -4        858      910           \n",
       "10 2013 1     1   606      610            -4        837      845           \n",
       "   arr_delay carrier flight tailnum origin dest air_time distance hour minute\n",
       "1  -25       DL       461   N668DN  LGA    ATL  116       762     6     0    \n",
       "2   12       UA      1696   N39463  EWR    ORD  150       719     5    58    \n",
       "3    8       AA       301   N3ALAA  LGA    ORD  138       733     6     0    \n",
       "4    7       UA       194   N29129  JFK    LAX  345      2475     6     0    \n",
       "5  -14       UA      1124   N53441  EWR    SFO  361      2565     6     0    \n",
       "6   31       AA       707   N3DUAA  LGA    DFW  257      1389     6     0    \n",
       "7   -8       UA      1187   N76515  EWR    LAS  337      2227     6     0    \n",
       "8   -8       DL      1919   N971DL  LGA    MSP  170      1020     6    10    \n",
       "9  -12       AA      1895   N633AA  EWR    MIA  152      1085     6    10    \n",
       "10  -8       DL      1743   N3739P  JFK    ATL  128       760     6    10    \n",
       "   time_hour          \n",
       "1  2013-01-01 06:00:00\n",
       "2  2013-01-01 05:00:00\n",
       "3  2013-01-01 06:00:00\n",
       "4  2013-01-01 06:00:00\n",
       "5  2013-01-01 06:00:00\n",
       "6  2013-01-01 06:00:00\n",
       "7  2013-01-01 06:00:00\n",
       "8  2013-01-01 06:00:00\n",
       "9  2013-01-01 06:00:00\n",
       "10 2013-01-01 06:00:00"
      ]
     },
     "metadata": {},
     "output_type": "display_data"
    }
   ],
   "source": [
    "df %>% filter(carrier %in% c(\"AA\",\"DL\",\"UA\") & dep_delay<=0) %>% \n",
    "                                            slice(1:10)"
   ]
  },
  {
   "cell_type": "markdown",
   "id": "00ee8a6e",
   "metadata": {},
   "source": [
    "+ Find all flights from United, American and Delta in the month May with more than 5 hours arrival delay sorted by carrier and\n",
    "  flight number."
   ]
  },
  {
   "cell_type": "code",
   "execution_count": 185,
   "id": "a917db7f",
   "metadata": {},
   "outputs": [
    {
     "data": {
      "text/html": [
       "<style>\n",
       ".list-inline {list-style: none; margin:0; padding: 0}\n",
       ".list-inline>li {display: inline-block}\n",
       ".list-inline>li:not(:last-child)::after {content: \"\\00b7\"; padding: 0 .5ex}\n",
       "</style>\n",
       "<ol class=list-inline><li>1</li><li>10</li><li>11</li><li>12</li><li>2</li><li>3</li><li>4</li><li>5</li><li>6</li><li>7</li><li>8</li><li>9</li></ol>\n"
      ],
      "text/latex": [
       "\\begin{enumerate*}\n",
       "\\item 1\n",
       "\\item 10\n",
       "\\item 11\n",
       "\\item 12\n",
       "\\item 2\n",
       "\\item 3\n",
       "\\item 4\n",
       "\\item 5\n",
       "\\item 6\n",
       "\\item 7\n",
       "\\item 8\n",
       "\\item 9\n",
       "\\end{enumerate*}\n"
      ],
      "text/markdown": [
       "1. 1\n",
       "2. 10\n",
       "3. 11\n",
       "4. 12\n",
       "5. 2\n",
       "6. 3\n",
       "7. 4\n",
       "8. 5\n",
       "9. 6\n",
       "10. 7\n",
       "11. 8\n",
       "12. 9\n",
       "\n",
       "\n"
      ],
      "text/plain": [
       " [1]  1 10 11 12  2  3  4  5  6  7  8  9"
      ]
     },
     "metadata": {},
     "output_type": "display_data"
    }
   ],
   "source": [
    "df$month %>% unique()"
   ]
  },
  {
   "cell_type": "code",
   "execution_count": 190,
   "id": "c5af8c30",
   "metadata": {
    "scrolled": true
   },
   "outputs": [
    {
     "data": {
      "text/html": [
       "<table class=\"dataframe\">\n",
       "<caption>A tibble: 10 × 19</caption>\n",
       "<thead>\n",
       "\t<tr><th scope=col>year</th><th scope=col>month</th><th scope=col>day</th><th scope=col>dep_time</th><th scope=col>sched_dep_time</th><th scope=col>dep_delay</th><th scope=col>arr_time</th><th scope=col>sched_arr_time</th><th scope=col>arr_delay</th><th scope=col>carrier</th><th scope=col>flight</th><th scope=col>tailnum</th><th scope=col>origin</th><th scope=col>dest</th><th scope=col>air_time</th><th scope=col>distance</th><th scope=col>hour</th><th scope=col>minute</th><th scope=col>time_hour</th></tr>\n",
       "\t<tr><th scope=col>&lt;int&gt;</th><th scope=col>&lt;int&gt;</th><th scope=col>&lt;int&gt;</th><th scope=col>&lt;int&gt;</th><th scope=col>&lt;int&gt;</th><th scope=col>&lt;dbl&gt;</th><th scope=col>&lt;int&gt;</th><th scope=col>&lt;int&gt;</th><th scope=col>&lt;dbl&gt;</th><th scope=col>&lt;chr&gt;</th><th scope=col>&lt;int&gt;</th><th scope=col>&lt;chr&gt;</th><th scope=col>&lt;chr&gt;</th><th scope=col>&lt;chr&gt;</th><th scope=col>&lt;dbl&gt;</th><th scope=col>&lt;dbl&gt;</th><th scope=col>&lt;dbl&gt;</th><th scope=col>&lt;dbl&gt;</th><th scope=col>&lt;dttm&gt;</th></tr>\n",
       "</thead>\n",
       "<tbody>\n",
       "\t<tr><td>2013</td><td>5</td><td>19</td><td> 713</td><td>1700</td><td>853</td><td>1007</td><td>1955</td><td>852</td><td>AA</td><td> 257</td><td>N3HEAA</td><td>JFK</td><td>LAS</td><td>323</td><td>2248</td><td>17</td><td> 0</td><td>2013-05-19 17:00:00</td></tr>\n",
       "\t<tr><td>2013</td><td>5</td><td>23</td><td>2246</td><td>1500</td><td>466</td><td>  13</td><td>1645</td><td>448</td><td>AA</td><td> 341</td><td>N424AA</td><td>LGA</td><td>ORD</td><td>121</td><td> 733</td><td>15</td><td> 0</td><td>2013-05-23 15:00:00</td></tr>\n",
       "\t<tr><td>2013</td><td>5</td><td> 9</td><td>1839</td><td>1015</td><td>504</td><td>2123</td><td>1310</td><td>493</td><td>AA</td><td> 731</td><td>N3BEAA</td><td>LGA</td><td>DFW</td><td>197</td><td>1389</td><td>10</td><td>15</td><td>2013-05-09 10:00:00</td></tr>\n",
       "\t<tr><td>2013</td><td>5</td><td>16</td><td>2233</td><td>1340</td><td>533</td><td>  59</td><td>1640</td><td>499</td><td>AA</td><td> 753</td><td>N3ERAA</td><td>LGA</td><td>DFW</td><td>184</td><td>1389</td><td>13</td><td>40</td><td>2013-05-16 13:00:00</td></tr>\n",
       "\t<tr><td>2013</td><td>5</td><td>23</td><td>2136</td><td>1545</td><td>351</td><td> 113</td><td>1901</td><td>372</td><td>DL</td><td> 141</td><td>N371NW</td><td>JFK</td><td>FLL</td><td>152</td><td>1069</td><td>15</td><td>45</td><td>2013-05-23 15:00:00</td></tr>\n",
       "\t<tr><td>2013</td><td>5</td><td>17</td><td>2113</td><td>1259</td><td>494</td><td>2345</td><td>1530</td><td>495</td><td>DL</td><td> 781</td><td>N960DL</td><td>LGA</td><td>ATL</td><td> 93</td><td> 762</td><td>12</td><td>59</td><td>2013-05-17 12:00:00</td></tr>\n",
       "\t<tr><td>2013</td><td>5</td><td>19</td><td> 241</td><td>2000</td><td>401</td><td> 355</td><td>2130</td><td>385</td><td>DL</td><td> 985</td><td>N326US</td><td>JFK</td><td>BOS</td><td> 35</td><td> 187</td><td>20</td><td> 0</td><td>2013-05-19 20:00:00</td></tr>\n",
       "\t<tr><td>2013</td><td>5</td><td>25</td><td>1825</td><td>1159</td><td>386</td><td>2100</td><td>1454</td><td>366</td><td>DL</td><td>1174</td><td>N900DE</td><td>LGA</td><td>PBI</td><td>127</td><td>1035</td><td>11</td><td>59</td><td>2013-05-25 11:00:00</td></tr>\n",
       "\t<tr><td>2013</td><td>5</td><td>23</td><td>2042</td><td>1625</td><td>257</td><td>2340</td><td>1835</td><td>305</td><td>DL</td><td>1619</td><td>N377NW</td><td>LGA</td><td>MSP</td><td>143</td><td>1020</td><td>16</td><td>25</td><td>2013-05-23 16:00:00</td></tr>\n",
       "\t<tr><td>2013</td><td>5</td><td>18</td><td>1809</td><td>1200</td><td>369</td><td>2034</td><td>1432</td><td>362</td><td>DL</td><td>1947</td><td>N963DL</td><td>LGA</td><td>ATL</td><td>104</td><td> 762</td><td>12</td><td> 0</td><td>2013-05-18 12:00:00</td></tr>\n",
       "</tbody>\n",
       "</table>\n"
      ],
      "text/latex": [
       "A tibble: 10 × 19\n",
       "\\begin{tabular}{lllllllllllllllllll}\n",
       " year & month & day & dep\\_time & sched\\_dep\\_time & dep\\_delay & arr\\_time & sched\\_arr\\_time & arr\\_delay & carrier & flight & tailnum & origin & dest & air\\_time & distance & hour & minute & time\\_hour\\\\\n",
       " <int> & <int> & <int> & <int> & <int> & <dbl> & <int> & <int> & <dbl> & <chr> & <int> & <chr> & <chr> & <chr> & <dbl> & <dbl> & <dbl> & <dbl> & <dttm>\\\\\n",
       "\\hline\n",
       "\t 2013 & 5 & 19 &  713 & 1700 & 853 & 1007 & 1955 & 852 & AA &  257 & N3HEAA & JFK & LAS & 323 & 2248 & 17 &  0 & 2013-05-19 17:00:00\\\\\n",
       "\t 2013 & 5 & 23 & 2246 & 1500 & 466 &   13 & 1645 & 448 & AA &  341 & N424AA & LGA & ORD & 121 &  733 & 15 &  0 & 2013-05-23 15:00:00\\\\\n",
       "\t 2013 & 5 &  9 & 1839 & 1015 & 504 & 2123 & 1310 & 493 & AA &  731 & N3BEAA & LGA & DFW & 197 & 1389 & 10 & 15 & 2013-05-09 10:00:00\\\\\n",
       "\t 2013 & 5 & 16 & 2233 & 1340 & 533 &   59 & 1640 & 499 & AA &  753 & N3ERAA & LGA & DFW & 184 & 1389 & 13 & 40 & 2013-05-16 13:00:00\\\\\n",
       "\t 2013 & 5 & 23 & 2136 & 1545 & 351 &  113 & 1901 & 372 & DL &  141 & N371NW & JFK & FLL & 152 & 1069 & 15 & 45 & 2013-05-23 15:00:00\\\\\n",
       "\t 2013 & 5 & 17 & 2113 & 1259 & 494 & 2345 & 1530 & 495 & DL &  781 & N960DL & LGA & ATL &  93 &  762 & 12 & 59 & 2013-05-17 12:00:00\\\\\n",
       "\t 2013 & 5 & 19 &  241 & 2000 & 401 &  355 & 2130 & 385 & DL &  985 & N326US & JFK & BOS &  35 &  187 & 20 &  0 & 2013-05-19 20:00:00\\\\\n",
       "\t 2013 & 5 & 25 & 1825 & 1159 & 386 & 2100 & 1454 & 366 & DL & 1174 & N900DE & LGA & PBI & 127 & 1035 & 11 & 59 & 2013-05-25 11:00:00\\\\\n",
       "\t 2013 & 5 & 23 & 2042 & 1625 & 257 & 2340 & 1835 & 305 & DL & 1619 & N377NW & LGA & MSP & 143 & 1020 & 16 & 25 & 2013-05-23 16:00:00\\\\\n",
       "\t 2013 & 5 & 18 & 1809 & 1200 & 369 & 2034 & 1432 & 362 & DL & 1947 & N963DL & LGA & ATL & 104 &  762 & 12 &  0 & 2013-05-18 12:00:00\\\\\n",
       "\\end{tabular}\n"
      ],
      "text/markdown": [
       "\n",
       "A tibble: 10 × 19\n",
       "\n",
       "| year &lt;int&gt; | month &lt;int&gt; | day &lt;int&gt; | dep_time &lt;int&gt; | sched_dep_time &lt;int&gt; | dep_delay &lt;dbl&gt; | arr_time &lt;int&gt; | sched_arr_time &lt;int&gt; | arr_delay &lt;dbl&gt; | carrier &lt;chr&gt; | flight &lt;int&gt; | tailnum &lt;chr&gt; | origin &lt;chr&gt; | dest &lt;chr&gt; | air_time &lt;dbl&gt; | distance &lt;dbl&gt; | hour &lt;dbl&gt; | minute &lt;dbl&gt; | time_hour &lt;dttm&gt; |\n",
       "|---|---|---|---|---|---|---|---|---|---|---|---|---|---|---|---|---|---|---|\n",
       "| 2013 | 5 | 19 |  713 | 1700 | 853 | 1007 | 1955 | 852 | AA |  257 | N3HEAA | JFK | LAS | 323 | 2248 | 17 |  0 | 2013-05-19 17:00:00 |\n",
       "| 2013 | 5 | 23 | 2246 | 1500 | 466 |   13 | 1645 | 448 | AA |  341 | N424AA | LGA | ORD | 121 |  733 | 15 |  0 | 2013-05-23 15:00:00 |\n",
       "| 2013 | 5 |  9 | 1839 | 1015 | 504 | 2123 | 1310 | 493 | AA |  731 | N3BEAA | LGA | DFW | 197 | 1389 | 10 | 15 | 2013-05-09 10:00:00 |\n",
       "| 2013 | 5 | 16 | 2233 | 1340 | 533 |   59 | 1640 | 499 | AA |  753 | N3ERAA | LGA | DFW | 184 | 1389 | 13 | 40 | 2013-05-16 13:00:00 |\n",
       "| 2013 | 5 | 23 | 2136 | 1545 | 351 |  113 | 1901 | 372 | DL |  141 | N371NW | JFK | FLL | 152 | 1069 | 15 | 45 | 2013-05-23 15:00:00 |\n",
       "| 2013 | 5 | 17 | 2113 | 1259 | 494 | 2345 | 1530 | 495 | DL |  781 | N960DL | LGA | ATL |  93 |  762 | 12 | 59 | 2013-05-17 12:00:00 |\n",
       "| 2013 | 5 | 19 |  241 | 2000 | 401 |  355 | 2130 | 385 | DL |  985 | N326US | JFK | BOS |  35 |  187 | 20 |  0 | 2013-05-19 20:00:00 |\n",
       "| 2013 | 5 | 25 | 1825 | 1159 | 386 | 2100 | 1454 | 366 | DL | 1174 | N900DE | LGA | PBI | 127 | 1035 | 11 | 59 | 2013-05-25 11:00:00 |\n",
       "| 2013 | 5 | 23 | 2042 | 1625 | 257 | 2340 | 1835 | 305 | DL | 1619 | N377NW | LGA | MSP | 143 | 1020 | 16 | 25 | 2013-05-23 16:00:00 |\n",
       "| 2013 | 5 | 18 | 1809 | 1200 | 369 | 2034 | 1432 | 362 | DL | 1947 | N963DL | LGA | ATL | 104 |  762 | 12 |  0 | 2013-05-18 12:00:00 |\n",
       "\n"
      ],
      "text/plain": [
       "   year month day dep_time sched_dep_time dep_delay arr_time sched_arr_time\n",
       "1  2013 5     19   713     1700           853       1007     1955          \n",
       "2  2013 5     23  2246     1500           466         13     1645          \n",
       "3  2013 5      9  1839     1015           504       2123     1310          \n",
       "4  2013 5     16  2233     1340           533         59     1640          \n",
       "5  2013 5     23  2136     1545           351        113     1901          \n",
       "6  2013 5     17  2113     1259           494       2345     1530          \n",
       "7  2013 5     19   241     2000           401        355     2130          \n",
       "8  2013 5     25  1825     1159           386       2100     1454          \n",
       "9  2013 5     23  2042     1625           257       2340     1835          \n",
       "10 2013 5     18  1809     1200           369       2034     1432          \n",
       "   arr_delay carrier flight tailnum origin dest air_time distance hour minute\n",
       "1  852       AA       257   N3HEAA  JFK    LAS  323      2248     17    0    \n",
       "2  448       AA       341   N424AA  LGA    ORD  121       733     15    0    \n",
       "3  493       AA       731   N3BEAA  LGA    DFW  197      1389     10   15    \n",
       "4  499       AA       753   N3ERAA  LGA    DFW  184      1389     13   40    \n",
       "5  372       DL       141   N371NW  JFK    FLL  152      1069     15   45    \n",
       "6  495       DL       781   N960DL  LGA    ATL   93       762     12   59    \n",
       "7  385       DL       985   N326US  JFK    BOS   35       187     20    0    \n",
       "8  366       DL      1174   N900DE  LGA    PBI  127      1035     11   59    \n",
       "9  305       DL      1619   N377NW  LGA    MSP  143      1020     16   25    \n",
       "10 362       DL      1947   N963DL  LGA    ATL  104       762     12    0    \n",
       "   time_hour          \n",
       "1  2013-05-19 17:00:00\n",
       "2  2013-05-23 15:00:00\n",
       "3  2013-05-09 10:00:00\n",
       "4  2013-05-16 13:00:00\n",
       "5  2013-05-23 15:00:00\n",
       "6  2013-05-17 12:00:00\n",
       "7  2013-05-19 20:00:00\n",
       "8  2013-05-25 11:00:00\n",
       "9  2013-05-23 16:00:00\n",
       "10 2013-05-18 12:00:00"
      ]
     },
     "metadata": {},
     "output_type": "display_data"
    }
   ],
   "source": [
    "df %>% filter(\n",
    "    carrier %in% c(\"AA\",\"DL\",\"UA\") &\n",
    "    month==5 & \n",
    "    arr_delay>5*60) %>% arrange(carrier,flight) %>% slice(1:10)"
   ]
  },
  {
   "cell_type": "markdown",
   "id": "68cfac57",
   "metadata": {},
   "source": [
    "+ Add a column speed which denotes the average speed of the flight\n",
    "   and determine the carrier, flight of the top 10 values of speed."
   ]
  },
  {
   "cell_type": "code",
   "execution_count": 196,
   "id": "4cc4dd1b",
   "metadata": {
    "scrolled": false
   },
   "outputs": [
    {
     "data": {
      "text/html": [
       "<table class=\"dataframe\">\n",
       "<caption>A tibble: 15 × 20</caption>\n",
       "<thead>\n",
       "\t<tr><th scope=col>year</th><th scope=col>month</th><th scope=col>day</th><th scope=col>dep_time</th><th scope=col>sched_dep_time</th><th scope=col>dep_delay</th><th scope=col>arr_time</th><th scope=col>sched_arr_time</th><th scope=col>arr_delay</th><th scope=col>carrier</th><th scope=col>flight</th><th scope=col>tailnum</th><th scope=col>origin</th><th scope=col>dest</th><th scope=col>air_time</th><th scope=col>distance</th><th scope=col>hour</th><th scope=col>minute</th><th scope=col>time_hour</th><th scope=col>speed</th></tr>\n",
       "\t<tr><th scope=col>&lt;int&gt;</th><th scope=col>&lt;int&gt;</th><th scope=col>&lt;int&gt;</th><th scope=col>&lt;int&gt;</th><th scope=col>&lt;int&gt;</th><th scope=col>&lt;dbl&gt;</th><th scope=col>&lt;int&gt;</th><th scope=col>&lt;int&gt;</th><th scope=col>&lt;dbl&gt;</th><th scope=col>&lt;chr&gt;</th><th scope=col>&lt;int&gt;</th><th scope=col>&lt;chr&gt;</th><th scope=col>&lt;chr&gt;</th><th scope=col>&lt;chr&gt;</th><th scope=col>&lt;dbl&gt;</th><th scope=col>&lt;dbl&gt;</th><th scope=col>&lt;dbl&gt;</th><th scope=col>&lt;dbl&gt;</th><th scope=col>&lt;dttm&gt;</th><th scope=col>&lt;dbl&gt;</th></tr>\n",
       "</thead>\n",
       "<tbody>\n",
       "\t<tr><td>2013</td><td> 5</td><td>25</td><td>1709</td><td>1700</td><td>  9</td><td>1923</td><td>1937</td><td>-14</td><td>DL</td><td>1499</td><td>N666DN</td><td>LGA</td><td>ATL</td><td> 65</td><td> 762</td><td>17</td><td> 0</td><td>2013-05-25 17:00:00</td><td>703.3846</td></tr>\n",
       "\t<tr><td>2013</td><td> 7</td><td> 2</td><td>1558</td><td>1513</td><td> 45</td><td>1745</td><td>1719</td><td> 26</td><td>EV</td><td>4667</td><td>N17196</td><td>EWR</td><td>MSP</td><td> 93</td><td>1008</td><td>15</td><td>13</td><td>2013-07-02 15:00:00</td><td>650.3226</td></tr>\n",
       "\t<tr><td>2013</td><td> 5</td><td>13</td><td>2040</td><td>2025</td><td> 15</td><td>2225</td><td>2226</td><td> -1</td><td>EV</td><td>4292</td><td>N14568</td><td>EWR</td><td>GSP</td><td> 55</td><td> 594</td><td>20</td><td>25</td><td>2013-05-13 20:00:00</td><td>648.0000</td></tr>\n",
       "\t<tr><td>2013</td><td> 3</td><td>23</td><td>1914</td><td>1910</td><td>  4</td><td>2045</td><td>2043</td><td>  2</td><td>EV</td><td>3805</td><td>N12567</td><td>EWR</td><td>BNA</td><td> 70</td><td> 748</td><td>19</td><td>10</td><td>2013-03-23 19:00:00</td><td>641.1429</td></tr>\n",
       "\t<tr><td>2013</td><td> 1</td><td>12</td><td>1559</td><td>1600</td><td> -1</td><td>1849</td><td>1917</td><td>-28</td><td>DL</td><td>1902</td><td>N956DL</td><td>LGA</td><td>PBI</td><td>105</td><td>1035</td><td>16</td><td> 0</td><td>2013-01-12 16:00:00</td><td>591.4286</td></tr>\n",
       "\t<tr><td>2013</td><td>11</td><td>17</td><td> 650</td><td> 655</td><td> -5</td><td>1059</td><td>1150</td><td>-51</td><td>DL</td><td> 315</td><td>N3768 </td><td>JFK</td><td>SJU</td><td>170</td><td>1598</td><td> 6</td><td>55</td><td>2013-11-17 06:00:00</td><td>564.0000</td></tr>\n",
       "\t<tr><td>2013</td><td> 2</td><td>21</td><td>2355</td><td>2358</td><td> -3</td><td> 412</td><td> 438</td><td>-26</td><td>B6</td><td> 707</td><td>N779JB</td><td>JFK</td><td>SJU</td><td>172</td><td>1598</td><td>23</td><td>58</td><td>2013-02-21 23:00:00</td><td>557.4419</td></tr>\n",
       "\t<tr><td>2013</td><td>11</td><td>17</td><td> 759</td><td> 800</td><td> -1</td><td>1212</td><td>1255</td><td>-43</td><td>AA</td><td> 936</td><td>N5FFAA</td><td>JFK</td><td>STT</td><td>175</td><td>1623</td><td> 8</td><td> 0</td><td>2013-11-17 08:00:00</td><td>556.4571</td></tr>\n",
       "\t<tr><td>2013</td><td>11</td><td>16</td><td>2003</td><td>1925</td><td> 38</td><td>  17</td><td>  36</td><td>-19</td><td>DL</td><td> 347</td><td>N3773D</td><td>JFK</td><td>SJU</td><td>173</td><td>1598</td><td>19</td><td>25</td><td>2013-11-16 19:00:00</td><td>554.2197</td></tr>\n",
       "\t<tr><td>2013</td><td>11</td><td>16</td><td>2349</td><td>2359</td><td>-10</td><td> 402</td><td> 440</td><td>-38</td><td>B6</td><td>1503</td><td>N571JB</td><td>JFK</td><td>SJU</td><td>173</td><td>1598</td><td>23</td><td>59</td><td>2013-11-16 23:00:00</td><td>554.2197</td></tr>\n",
       "\t<tr><td>2013</td><td>11</td><td>17</td><td> 851</td><td> 855</td><td> -4</td><td>1307</td><td>1345</td><td>-38</td><td>DL</td><td> 301</td><td>N624AG</td><td>JFK</td><td>SJU</td><td>173</td><td>1598</td><td> 8</td><td>55</td><td>2013-11-17 08:00:00</td><td>554.2197</td></tr>\n",
       "\t<tr><td>2013</td><td>11</td><td>17</td><td>1926</td><td>1925</td><td>  1</td><td>   7</td><td>  39</td><td>-32</td><td>DL</td><td> 347</td><td>N382DA</td><td>JFK</td><td>SJU</td><td>173</td><td>1598</td><td>19</td><td>25</td><td>2013-11-17 19:00:00</td><td>554.2197</td></tr>\n",
       "\t<tr><td>2013</td><td>12</td><td> 5</td><td>1858</td><td>1900</td><td> -2</td><td>2313</td><td>2359</td><td>-46</td><td>AA</td><td>1029</td><td>N617AA</td><td>JFK</td><td>SJU</td><td>173</td><td>1598</td><td>19</td><td> 0</td><td>2013-12-05 19:00:00</td><td>554.2197</td></tr>\n",
       "\t<tr><td>2013</td><td> 2</td><td>10</td><td>1658</td><td>1700</td><td> -2</td><td>2125</td><td>2204</td><td>-39</td><td>DL</td><td> 329</td><td>N371DA</td><td>JFK</td><td>SJU</td><td>173</td><td>1598</td><td>17</td><td> 0</td><td>2013-02-10 17:00:00</td><td>554.2197</td></tr>\n",
       "\t<tr><td>2013</td><td> 2</td><td>10</td><td>1958</td><td>1855</td><td> 63</td><td>  31</td><td>2355</td><td> 36</td><td>AA</td><td>1613</td><td>N625AA</td><td>JFK</td><td>SJU</td><td>173</td><td>1598</td><td>18</td><td>55</td><td>2013-02-10 18:00:00</td><td>554.2197</td></tr>\n",
       "</tbody>\n",
       "</table>\n"
      ],
      "text/latex": [
       "A tibble: 15 × 20\n",
       "\\begin{tabular}{llllllllllllllllllll}\n",
       " year & month & day & dep\\_time & sched\\_dep\\_time & dep\\_delay & arr\\_time & sched\\_arr\\_time & arr\\_delay & carrier & flight & tailnum & origin & dest & air\\_time & distance & hour & minute & time\\_hour & speed\\\\\n",
       " <int> & <int> & <int> & <int> & <int> & <dbl> & <int> & <int> & <dbl> & <chr> & <int> & <chr> & <chr> & <chr> & <dbl> & <dbl> & <dbl> & <dbl> & <dttm> & <dbl>\\\\\n",
       "\\hline\n",
       "\t 2013 &  5 & 25 & 1709 & 1700 &   9 & 1923 & 1937 & -14 & DL & 1499 & N666DN & LGA & ATL &  65 &  762 & 17 &  0 & 2013-05-25 17:00:00 & 703.3846\\\\\n",
       "\t 2013 &  7 &  2 & 1558 & 1513 &  45 & 1745 & 1719 &  26 & EV & 4667 & N17196 & EWR & MSP &  93 & 1008 & 15 & 13 & 2013-07-02 15:00:00 & 650.3226\\\\\n",
       "\t 2013 &  5 & 13 & 2040 & 2025 &  15 & 2225 & 2226 &  -1 & EV & 4292 & N14568 & EWR & GSP &  55 &  594 & 20 & 25 & 2013-05-13 20:00:00 & 648.0000\\\\\n",
       "\t 2013 &  3 & 23 & 1914 & 1910 &   4 & 2045 & 2043 &   2 & EV & 3805 & N12567 & EWR & BNA &  70 &  748 & 19 & 10 & 2013-03-23 19:00:00 & 641.1429\\\\\n",
       "\t 2013 &  1 & 12 & 1559 & 1600 &  -1 & 1849 & 1917 & -28 & DL & 1902 & N956DL & LGA & PBI & 105 & 1035 & 16 &  0 & 2013-01-12 16:00:00 & 591.4286\\\\\n",
       "\t 2013 & 11 & 17 &  650 &  655 &  -5 & 1059 & 1150 & -51 & DL &  315 & N3768  & JFK & SJU & 170 & 1598 &  6 & 55 & 2013-11-17 06:00:00 & 564.0000\\\\\n",
       "\t 2013 &  2 & 21 & 2355 & 2358 &  -3 &  412 &  438 & -26 & B6 &  707 & N779JB & JFK & SJU & 172 & 1598 & 23 & 58 & 2013-02-21 23:00:00 & 557.4419\\\\\n",
       "\t 2013 & 11 & 17 &  759 &  800 &  -1 & 1212 & 1255 & -43 & AA &  936 & N5FFAA & JFK & STT & 175 & 1623 &  8 &  0 & 2013-11-17 08:00:00 & 556.4571\\\\\n",
       "\t 2013 & 11 & 16 & 2003 & 1925 &  38 &   17 &   36 & -19 & DL &  347 & N3773D & JFK & SJU & 173 & 1598 & 19 & 25 & 2013-11-16 19:00:00 & 554.2197\\\\\n",
       "\t 2013 & 11 & 16 & 2349 & 2359 & -10 &  402 &  440 & -38 & B6 & 1503 & N571JB & JFK & SJU & 173 & 1598 & 23 & 59 & 2013-11-16 23:00:00 & 554.2197\\\\\n",
       "\t 2013 & 11 & 17 &  851 &  855 &  -4 & 1307 & 1345 & -38 & DL &  301 & N624AG & JFK & SJU & 173 & 1598 &  8 & 55 & 2013-11-17 08:00:00 & 554.2197\\\\\n",
       "\t 2013 & 11 & 17 & 1926 & 1925 &   1 &    7 &   39 & -32 & DL &  347 & N382DA & JFK & SJU & 173 & 1598 & 19 & 25 & 2013-11-17 19:00:00 & 554.2197\\\\\n",
       "\t 2013 & 12 &  5 & 1858 & 1900 &  -2 & 2313 & 2359 & -46 & AA & 1029 & N617AA & JFK & SJU & 173 & 1598 & 19 &  0 & 2013-12-05 19:00:00 & 554.2197\\\\\n",
       "\t 2013 &  2 & 10 & 1658 & 1700 &  -2 & 2125 & 2204 & -39 & DL &  329 & N371DA & JFK & SJU & 173 & 1598 & 17 &  0 & 2013-02-10 17:00:00 & 554.2197\\\\\n",
       "\t 2013 &  2 & 10 & 1958 & 1855 &  63 &   31 & 2355 &  36 & AA & 1613 & N625AA & JFK & SJU & 173 & 1598 & 18 & 55 & 2013-02-10 18:00:00 & 554.2197\\\\\n",
       "\\end{tabular}\n"
      ],
      "text/markdown": [
       "\n",
       "A tibble: 15 × 20\n",
       "\n",
       "| year &lt;int&gt; | month &lt;int&gt; | day &lt;int&gt; | dep_time &lt;int&gt; | sched_dep_time &lt;int&gt; | dep_delay &lt;dbl&gt; | arr_time &lt;int&gt; | sched_arr_time &lt;int&gt; | arr_delay &lt;dbl&gt; | carrier &lt;chr&gt; | flight &lt;int&gt; | tailnum &lt;chr&gt; | origin &lt;chr&gt; | dest &lt;chr&gt; | air_time &lt;dbl&gt; | distance &lt;dbl&gt; | hour &lt;dbl&gt; | minute &lt;dbl&gt; | time_hour &lt;dttm&gt; | speed &lt;dbl&gt; |\n",
       "|---|---|---|---|---|---|---|---|---|---|---|---|---|---|---|---|---|---|---|---|\n",
       "| 2013 |  5 | 25 | 1709 | 1700 |   9 | 1923 | 1937 | -14 | DL | 1499 | N666DN | LGA | ATL |  65 |  762 | 17 |  0 | 2013-05-25 17:00:00 | 703.3846 |\n",
       "| 2013 |  7 |  2 | 1558 | 1513 |  45 | 1745 | 1719 |  26 | EV | 4667 | N17196 | EWR | MSP |  93 | 1008 | 15 | 13 | 2013-07-02 15:00:00 | 650.3226 |\n",
       "| 2013 |  5 | 13 | 2040 | 2025 |  15 | 2225 | 2226 |  -1 | EV | 4292 | N14568 | EWR | GSP |  55 |  594 | 20 | 25 | 2013-05-13 20:00:00 | 648.0000 |\n",
       "| 2013 |  3 | 23 | 1914 | 1910 |   4 | 2045 | 2043 |   2 | EV | 3805 | N12567 | EWR | BNA |  70 |  748 | 19 | 10 | 2013-03-23 19:00:00 | 641.1429 |\n",
       "| 2013 |  1 | 12 | 1559 | 1600 |  -1 | 1849 | 1917 | -28 | DL | 1902 | N956DL | LGA | PBI | 105 | 1035 | 16 |  0 | 2013-01-12 16:00:00 | 591.4286 |\n",
       "| 2013 | 11 | 17 |  650 |  655 |  -5 | 1059 | 1150 | -51 | DL |  315 | N3768  | JFK | SJU | 170 | 1598 |  6 | 55 | 2013-11-17 06:00:00 | 564.0000 |\n",
       "| 2013 |  2 | 21 | 2355 | 2358 |  -3 |  412 |  438 | -26 | B6 |  707 | N779JB | JFK | SJU | 172 | 1598 | 23 | 58 | 2013-02-21 23:00:00 | 557.4419 |\n",
       "| 2013 | 11 | 17 |  759 |  800 |  -1 | 1212 | 1255 | -43 | AA |  936 | N5FFAA | JFK | STT | 175 | 1623 |  8 |  0 | 2013-11-17 08:00:00 | 556.4571 |\n",
       "| 2013 | 11 | 16 | 2003 | 1925 |  38 |   17 |   36 | -19 | DL |  347 | N3773D | JFK | SJU | 173 | 1598 | 19 | 25 | 2013-11-16 19:00:00 | 554.2197 |\n",
       "| 2013 | 11 | 16 | 2349 | 2359 | -10 |  402 |  440 | -38 | B6 | 1503 | N571JB | JFK | SJU | 173 | 1598 | 23 | 59 | 2013-11-16 23:00:00 | 554.2197 |\n",
       "| 2013 | 11 | 17 |  851 |  855 |  -4 | 1307 | 1345 | -38 | DL |  301 | N624AG | JFK | SJU | 173 | 1598 |  8 | 55 | 2013-11-17 08:00:00 | 554.2197 |\n",
       "| 2013 | 11 | 17 | 1926 | 1925 |   1 |    7 |   39 | -32 | DL |  347 | N382DA | JFK | SJU | 173 | 1598 | 19 | 25 | 2013-11-17 19:00:00 | 554.2197 |\n",
       "| 2013 | 12 |  5 | 1858 | 1900 |  -2 | 2313 | 2359 | -46 | AA | 1029 | N617AA | JFK | SJU | 173 | 1598 | 19 |  0 | 2013-12-05 19:00:00 | 554.2197 |\n",
       "| 2013 |  2 | 10 | 1658 | 1700 |  -2 | 2125 | 2204 | -39 | DL |  329 | N371DA | JFK | SJU | 173 | 1598 | 17 |  0 | 2013-02-10 17:00:00 | 554.2197 |\n",
       "| 2013 |  2 | 10 | 1958 | 1855 |  63 |   31 | 2355 |  36 | AA | 1613 | N625AA | JFK | SJU | 173 | 1598 | 18 | 55 | 2013-02-10 18:00:00 | 554.2197 |\n",
       "\n"
      ],
      "text/plain": [
       "   year month day dep_time sched_dep_time dep_delay arr_time sched_arr_time\n",
       "1  2013  5    25  1709     1700             9       1923     1937          \n",
       "2  2013  7     2  1558     1513            45       1745     1719          \n",
       "3  2013  5    13  2040     2025            15       2225     2226          \n",
       "4  2013  3    23  1914     1910             4       2045     2043          \n",
       "5  2013  1    12  1559     1600            -1       1849     1917          \n",
       "6  2013 11    17   650      655            -5       1059     1150          \n",
       "7  2013  2    21  2355     2358            -3        412      438          \n",
       "8  2013 11    17   759      800            -1       1212     1255          \n",
       "9  2013 11    16  2003     1925            38         17       36          \n",
       "10 2013 11    16  2349     2359           -10        402      440          \n",
       "11 2013 11    17   851      855            -4       1307     1345          \n",
       "12 2013 11    17  1926     1925             1          7       39          \n",
       "13 2013 12     5  1858     1900            -2       2313     2359          \n",
       "14 2013  2    10  1658     1700            -2       2125     2204          \n",
       "15 2013  2    10  1958     1855            63         31     2355          \n",
       "   arr_delay carrier flight tailnum origin dest air_time distance hour minute\n",
       "1  -14       DL      1499   N666DN  LGA    ATL   65       762     17    0    \n",
       "2   26       EV      4667   N17196  EWR    MSP   93      1008     15   13    \n",
       "3   -1       EV      4292   N14568  EWR    GSP   55       594     20   25    \n",
       "4    2       EV      3805   N12567  EWR    BNA   70       748     19   10    \n",
       "5  -28       DL      1902   N956DL  LGA    PBI  105      1035     16    0    \n",
       "6  -51       DL       315   N3768   JFK    SJU  170      1598      6   55    \n",
       "7  -26       B6       707   N779JB  JFK    SJU  172      1598     23   58    \n",
       "8  -43       AA       936   N5FFAA  JFK    STT  175      1623      8    0    \n",
       "9  -19       DL       347   N3773D  JFK    SJU  173      1598     19   25    \n",
       "10 -38       B6      1503   N571JB  JFK    SJU  173      1598     23   59    \n",
       "11 -38       DL       301   N624AG  JFK    SJU  173      1598      8   55    \n",
       "12 -32       DL       347   N382DA  JFK    SJU  173      1598     19   25    \n",
       "13 -46       AA      1029   N617AA  JFK    SJU  173      1598     19    0    \n",
       "14 -39       DL       329   N371DA  JFK    SJU  173      1598     17    0    \n",
       "15  36       AA      1613   N625AA  JFK    SJU  173      1598     18   55    \n",
       "   time_hour           speed   \n",
       "1  2013-05-25 17:00:00 703.3846\n",
       "2  2013-07-02 15:00:00 650.3226\n",
       "3  2013-05-13 20:00:00 648.0000\n",
       "4  2013-03-23 19:00:00 641.1429\n",
       "5  2013-01-12 16:00:00 591.4286\n",
       "6  2013-11-17 06:00:00 564.0000\n",
       "7  2013-02-21 23:00:00 557.4419\n",
       "8  2013-11-17 08:00:00 556.4571\n",
       "9  2013-11-16 19:00:00 554.2197\n",
       "10 2013-11-16 23:00:00 554.2197\n",
       "11 2013-11-17 08:00:00 554.2197\n",
       "12 2013-11-17 19:00:00 554.2197\n",
       "13 2013-12-05 19:00:00 554.2197\n",
       "14 2013-02-10 17:00:00 554.2197\n",
       "15 2013-02-10 18:00:00 554.2197"
      ]
     },
     "metadata": {},
     "output_type": "display_data"
    }
   ],
   "source": [
    "df %>% mutate(speed=distance/air_time*60) %>%\n",
    "        arrange(desc(speed)) %>% unique()  %>% top_n(n = 10,speed)"
   ]
  },
  {
   "cell_type": "markdown",
   "id": "8a9712dd",
   "metadata": {},
   "source": [
    "+ Find a list of carriers with a column ratio which denotes the number of flights with arr delay less than 10 minutes to the total\n",
    "    number of flights. The list should be sorted by ratio."
   ]
  }
 ],
 "metadata": {
  "kernelspec": {
   "display_name": "R",
   "language": "R",
   "name": "ir"
  },
  "language_info": {
   "codemirror_mode": "r",
   "file_extension": ".r",
   "mimetype": "text/x-r-source",
   "name": "R",
   "pygments_lexer": "r",
   "version": "4.2.2"
  }
 },
 "nbformat": 4,
 "nbformat_minor": 5
}

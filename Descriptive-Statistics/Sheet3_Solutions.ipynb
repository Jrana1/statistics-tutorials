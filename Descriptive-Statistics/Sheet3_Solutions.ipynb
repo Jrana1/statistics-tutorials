{
 "cells": [
  {
   "cell_type": "markdown",
   "id": "3b49c849",
   "metadata": {},
   "source": [
    "<h1 style=\"color:blue;text-align:center\">Sheet III</h1>\n",
    "<h2 style=\"color:blue;text-align:center\">Descriptive Statistics - Frequency Tables and\n",
    "Distributions</h2>"
   ]
  },
  {
   "cell_type": "markdown",
   "id": "24c9060c",
   "metadata": {},
   "source": [
    "<h3 style=\"color:green;text-align:center\">Exercise 1</h3>"
   ]
  },
  {
   "cell_type": "markdown",
   "id": "2831e0a8",
   "metadata": {},
   "source": [
    "Consider the results of the national elections in Germany in 2013 and\n",
    "2017:"
   ]
  },
  {
   "cell_type": "markdown",
   "id": "6671d49b",
   "metadata": {},
   "source": [
    "\n",
    "| Party | Results 2013 (%) |Results 2017 (%)|\n",
    "|-------|------------------|----------------|\n",
    "| CDU | 26,8% |34,1%|\n",
    "| SPD | 20,5% | 25,7% |\n",
    "| AfD | 12,6% | 4,7% |\n",
    "| FDP | 10,7% | 4,8% |\n",
    "| DIE LINKE | 9,2% | 8,6% |\n",
    "| GRUENE | 8,9% | 8,4% |\n",
    "| CSU | 6,2% | 7,4% |\n",
    "| Others | 5,0% | 6,2% |"
   ]
  },
  {
   "cell_type": "markdown",
   "id": "35dddff2",
   "metadata": {},
   "source": [
    "Summarize the results of 2017 in a pie and abar chart. Compare the\n",
    "results in 2013 and 2017 with an appropriate bar chart."
   ]
  },
  {
   "cell_type": "markdown",
   "id": "fb5fc5f6",
   "metadata": {},
   "source": [
    "**Answer**: The table shows the relative frequencies of each party. We\n",
    "can draw a pie chart and a barplot with the parties on the x-axis and the\n",
    "relative frequencies on the y-axis. To compare the ersults in 2013 and\n",
    "in 2017 we can show the differences in proportion of votes in barplot."
   ]
  },
  {
   "cell_type": "code",
   "execution_count": 1,
   "id": "954f8154",
   "metadata": {},
   "outputs": [
    {
     "name": "stderr",
     "output_type": "stream",
     "text": [
      "Installing package into ‘/home/jrana/R/x86_64-pc-linux-gnu-library/4.2’\n",
      "(as ‘lib’ is unspecified)\n",
      "\n",
      "\n",
      "Attaching package: ‘dplyr’\n",
      "\n",
      "\n",
      "The following objects are masked from ‘package:stats’:\n",
      "\n",
      "    filter, lag\n",
      "\n",
      "\n",
      "The following objects are masked from ‘package:base’:\n",
      "\n",
      "    intersect, setdiff, setequal, union\n",
      "\n",
      "\n"
     ]
    }
   ],
   "source": [
    "install.packages(\"dplyr\")\n",
    "library(\"dplyr\")"
   ]
  },
  {
   "cell_type": "code",
   "execution_count": 2,
   "id": "a382f9f6",
   "metadata": {
    "scrolled": true
   },
   "outputs": [
    {
     "data": {
      "text/html": [
       "<table class=\"dataframe\">\n",
       "<caption>A tibble: 8 × 4</caption>\n",
       "<thead>\n",
       "\t<tr><th scope=col>res_2013</th><th scope=col>res_2017</th><th scope=col>diff</th><th scope=col>party</th></tr>\n",
       "\t<tr><th scope=col>&lt;dbl&gt;</th><th scope=col>&lt;dbl&gt;</th><th scope=col>&lt;dbl&gt;</th><th scope=col>&lt;chr&gt;</th></tr>\n",
       "</thead>\n",
       "<tbody>\n",
       "\t<tr><td>0.268</td><td>0.341</td><td> 0.073</td><td>CDU      </td></tr>\n",
       "\t<tr><td>0.205</td><td>0.257</td><td> 0.052</td><td>SPD      </td></tr>\n",
       "\t<tr><td>0.126</td><td>0.047</td><td>-0.079</td><td>AFD      </td></tr>\n",
       "\t<tr><td>0.107</td><td>0.048</td><td>-0.059</td><td>FDP      </td></tr>\n",
       "\t<tr><td>0.092</td><td>0.086</td><td>-0.006</td><td>Die Linke</td></tr>\n",
       "\t<tr><td>0.089</td><td>0.084</td><td>-0.005</td><td>Gruene   </td></tr>\n",
       "\t<tr><td>0.062</td><td>0.074</td><td> 0.012</td><td>CSU      </td></tr>\n",
       "\t<tr><td>0.050</td><td>0.062</td><td> 0.012</td><td>Others   </td></tr>\n",
       "</tbody>\n",
       "</table>\n"
      ],
      "text/latex": [
       "A tibble: 8 × 4\n",
       "\\begin{tabular}{llll}\n",
       " res\\_2013 & res\\_2017 & diff & party\\\\\n",
       " <dbl> & <dbl> & <dbl> & <chr>\\\\\n",
       "\\hline\n",
       "\t 0.268 & 0.341 &  0.073 & CDU      \\\\\n",
       "\t 0.205 & 0.257 &  0.052 & SPD      \\\\\n",
       "\t 0.126 & 0.047 & -0.079 & AFD      \\\\\n",
       "\t 0.107 & 0.048 & -0.059 & FDP      \\\\\n",
       "\t 0.092 & 0.086 & -0.006 & Die Linke\\\\\n",
       "\t 0.089 & 0.084 & -0.005 & Gruene   \\\\\n",
       "\t 0.062 & 0.074 &  0.012 & CSU      \\\\\n",
       "\t 0.050 & 0.062 &  0.012 & Others   \\\\\n",
       "\\end{tabular}\n"
      ],
      "text/markdown": [
       "\n",
       "A tibble: 8 × 4\n",
       "\n",
       "| res_2013 &lt;dbl&gt; | res_2017 &lt;dbl&gt; | diff &lt;dbl&gt; | party &lt;chr&gt; |\n",
       "|---|---|---|---|\n",
       "| 0.268 | 0.341 |  0.073 | CDU       |\n",
       "| 0.205 | 0.257 |  0.052 | SPD       |\n",
       "| 0.126 | 0.047 | -0.079 | AFD       |\n",
       "| 0.107 | 0.048 | -0.059 | FDP       |\n",
       "| 0.092 | 0.086 | -0.006 | Die Linke |\n",
       "| 0.089 | 0.084 | -0.005 | Gruene    |\n",
       "| 0.062 | 0.074 |  0.012 | CSU       |\n",
       "| 0.050 | 0.062 |  0.012 | Others    |\n",
       "\n"
      ],
      "text/plain": [
       "  res_2013 res_2017 diff   party    \n",
       "1 0.268    0.341     0.073 CDU      \n",
       "2 0.205    0.257     0.052 SPD      \n",
       "3 0.126    0.047    -0.079 AFD      \n",
       "4 0.107    0.048    -0.059 FDP      \n",
       "5 0.092    0.086    -0.006 Die Linke\n",
       "6 0.089    0.084    -0.005 Gruene   \n",
       "7 0.062    0.074     0.012 CSU      \n",
       "8 0.050    0.062     0.012 Others   "
      ]
     },
     "metadata": {},
     "output_type": "display_data"
    }
   ],
   "source": [
    "df <- tibble (\n",
    "res_2013 = c ( 0.268 , 0.205 , 0.126 , 0.107 , 0.092 \n",
    "    , 0.089 ,0.062 , 0.05 ) ,\n",
    "res_2017= c ( 0.341 , 0.257 , 0.047 , 0.048 , 0.086 \n",
    "             , 0.084 , 0.074 , 0.062 ) ,\n",
    "diff=res_2017-res_2013,    \n",
    "party = c ( \"CDU\" , \"SPD\" ,\"AFD\" , \"FDP\" , \n",
    "           \"Die Linke\" , \"Gruene\" , \"CSU\" , \"Others\" ) ,\n",
    ")\n",
    "df"
   ]
  },
  {
   "cell_type": "markdown",
   "id": "493f580c",
   "metadata": {},
   "source": [
    "## pie chart"
   ]
  },
  {
   "cell_type": "code",
   "execution_count": 4,
   "id": "ac006973",
   "metadata": {},
   "outputs": [],
   "source": [
    "par(mar=c(2,2,0.5,0.5),mfrow=c(3,1),cex=.45)"
   ]
  },
  {
   "cell_type": "code",
   "execution_count": 5,
   "id": "b35e00fc",
   "metadata": {
    "scrolled": true
   },
   "outputs": [
    {
     "data": {
      "image/png": "[encoded data removed]",
      "text/plain": [
       "plot without title"
      ]
     },
     "metadata": {
      "image/png": {
       "height": 420,
       "width": 420
      }
     },
     "output_type": "display_data"
    }
   ],
   "source": [
    "pie(df$res_2013,labels = paste(df$party,\"\n",
    "(\",df$res_2013*100,\"%\",\")\"))"
   ]
  },
  {
   "cell_type": "markdown",
   "id": "bfdf2265",
   "metadata": {},
   "source": [
    "## barplot"
   ]
  },
  {
   "cell_type": "code",
   "execution_count": 6,
   "id": "6b655a9c",
   "metadata": {
    "scrolled": true
   },
   "outputs": [
    {
     "data": {
      "image/png": "[encoded data removed]",
      "text/plain": [
       "plot without title"
      ]
     },
     "metadata": {
      "image/png": {
       "height": 420,
       "width": 420
      }
     },
     "output_type": "display_data"
    }
   ],
   "source": [
    "barplot(df$res_2017,names.arg=df$party,\n",
    "       ylim=c(0,0.7),xlab=\"Parties\",ylab=\"2017 Vote %\"\n",
    "       ,las=2,col=\"purple\"\n",
    "       )"
   ]
  },
  {
   "cell_type": "code",
   "execution_count": 7,
   "id": "5823ff32",
   "metadata": {
    "scrolled": true
   },
   "outputs": [
    {
     "data": {
      "image/png": "[encoded data removed]",
      "text/plain": [
       "plot without title"
      ]
     },
     "metadata": {
      "image/png": {
       "height": 420,
       "width": 420
      }
     },
     "output_type": "display_data"
    }
   ],
   "source": [
    "barplot(df$diff,names.arg=df$party,\n",
    "       ylim=c(-0.1,0.1),xlab=\"Parties\",\n",
    "        ylab=\"diff to 2013 in %\"\n",
    "       ,las=2,col=\"green\"\n",
    "       )"
   ]
  },
  {
   "cell_type": "markdown",
   "id": "ea8e7fd6",
   "metadata": {},
   "source": [
    "<h3 style=\"color:green;text-align:center\">Exercise 2</h3>"
   ]
  },
  {
   "cell_type": "code",
   "execution_count": null,
   "id": "e4d739a1",
   "metadata": {},
   "outputs": [],
   "source": []
  },
  {
   "cell_type": "markdown",
   "id": "4f09670f",
   "metadata": {},
   "source": [
    "he data shown in the list are the times in milliseconds it took one of\n",
    "us to move the mouse over a small target in a series of 20 trials. The\n",
    "times are sorted from shortest to longest.\n",
    "568, 577, 581, 640, 641, 645, 657, 673, 696, 703, 720, 728, 729, 777, 808,\n",
    "824, 825, 865, 875, 1007"
   ]
  },
  {
   "cell_type": "code",
   "execution_count": 8,
   "id": "dc1e11e5",
   "metadata": {
    "scrolled": false
   },
   "outputs": [
    {
     "data": {
      "text/html": [
       "<table class=\"dataframe\">\n",
       "<caption>A tibble: 5 × 1</caption>\n",
       "<thead>\n",
       "\t<tr><th scope=col>vals</th></tr>\n",
       "\t<tr><th scope=col>&lt;dbl&gt;</th></tr>\n",
       "</thead>\n",
       "<tbody>\n",
       "\t<tr><td>568</td></tr>\n",
       "\t<tr><td>577</td></tr>\n",
       "\t<tr><td>581</td></tr>\n",
       "\t<tr><td>640</td></tr>\n",
       "\t<tr><td>641</td></tr>\n",
       "</tbody>\n",
       "</table>\n"
      ],
      "text/latex": [
       "A tibble: 5 × 1\n",
       "\\begin{tabular}{l}\n",
       " vals\\\\\n",
       " <dbl>\\\\\n",
       "\\hline\n",
       "\t 568\\\\\n",
       "\t 577\\\\\n",
       "\t 581\\\\\n",
       "\t 640\\\\\n",
       "\t 641\\\\\n",
       "\\end{tabular}\n"
      ],
      "text/markdown": [
       "\n",
       "A tibble: 5 × 1\n",
       "\n",
       "| vals &lt;dbl&gt; |\n",
       "|---|\n",
       "| 568 |\n",
       "| 577 |\n",
       "| 581 |\n",
       "| 640 |\n",
       "| 641 |\n",
       "\n"
      ],
      "text/plain": [
       "  vals\n",
       "1 568 \n",
       "2 577 \n",
       "3 581 \n",
       "4 640 \n",
       "5 641 "
      ]
     },
     "metadata": {},
     "output_type": "display_data"
    }
   ],
   "source": [
    "df<-tibble(vals=c(568, 577, 581, 640, 641, 645, 657, 673, 696, 703, 720, 728, 729, 777, 808,\n",
    "824, 825, 865, 875, 1007))\n",
    "df %>% slice(1:5)"
   ]
  },
  {
   "cell_type": "markdown",
   "id": "2d4757c1",
   "metadata": {},
   "source": [
    "+ (a) Compute and draw the cumulative frequency distribution."
   ]
  },
  {
   "cell_type": "code",
   "execution_count": 9,
   "id": "89991cbd",
   "metadata": {
    "scrolled": false
   },
   "outputs": [
    {
     "data": {
      "text/html": [
       "<table class=\"dataframe\">\n",
       "<caption>A tibble: 20 × 4</caption>\n",
       "<thead>\n",
       "\t<tr><th scope=col>vals</th><th scope=col>abs.freq</th><th scope=col>rel.freq</th><th scope=col>cum.rel.freq</th></tr>\n",
       "\t<tr><th scope=col>&lt;dbl&gt;</th><th scope=col>&lt;int&gt;</th><th scope=col>&lt;dbl&gt;</th><th scope=col>&lt;dbl&gt;</th></tr>\n",
       "</thead>\n",
       "<tbody>\n",
       "\t<tr><td> 568</td><td>1</td><td>0.05</td><td>0.05</td></tr>\n",
       "\t<tr><td> 577</td><td>1</td><td>0.05</td><td>0.10</td></tr>\n",
       "\t<tr><td> 581</td><td>1</td><td>0.05</td><td>0.15</td></tr>\n",
       "\t<tr><td> 640</td><td>1</td><td>0.05</td><td>0.20</td></tr>\n",
       "\t<tr><td> 641</td><td>1</td><td>0.05</td><td>0.25</td></tr>\n",
       "\t<tr><td> 645</td><td>1</td><td>0.05</td><td>0.30</td></tr>\n",
       "\t<tr><td> 657</td><td>1</td><td>0.05</td><td>0.35</td></tr>\n",
       "\t<tr><td> 673</td><td>1</td><td>0.05</td><td>0.40</td></tr>\n",
       "\t<tr><td> 696</td><td>1</td><td>0.05</td><td>0.45</td></tr>\n",
       "\t<tr><td> 703</td><td>1</td><td>0.05</td><td>0.50</td></tr>\n",
       "\t<tr><td> 720</td><td>1</td><td>0.05</td><td>0.55</td></tr>\n",
       "\t<tr><td> 728</td><td>1</td><td>0.05</td><td>0.60</td></tr>\n",
       "\t<tr><td> 729</td><td>1</td><td>0.05</td><td>0.65</td></tr>\n",
       "\t<tr><td> 777</td><td>1</td><td>0.05</td><td>0.70</td></tr>\n",
       "\t<tr><td> 808</td><td>1</td><td>0.05</td><td>0.75</td></tr>\n",
       "\t<tr><td> 824</td><td>1</td><td>0.05</td><td>0.80</td></tr>\n",
       "\t<tr><td> 825</td><td>1</td><td>0.05</td><td>0.85</td></tr>\n",
       "\t<tr><td> 865</td><td>1</td><td>0.05</td><td>0.90</td></tr>\n",
       "\t<tr><td> 875</td><td>1</td><td>0.05</td><td>0.95</td></tr>\n",
       "\t<tr><td>1007</td><td>1</td><td>0.05</td><td>1.00</td></tr>\n",
       "</tbody>\n",
       "</table>\n"
      ],
      "text/latex": [
       "A tibble: 20 × 4\n",
       "\\begin{tabular}{llll}\n",
       " vals & abs.freq & rel.freq & cum.rel.freq\\\\\n",
       " <dbl> & <int> & <dbl> & <dbl>\\\\\n",
       "\\hline\n",
       "\t  568 & 1 & 0.05 & 0.05\\\\\n",
       "\t  577 & 1 & 0.05 & 0.10\\\\\n",
       "\t  581 & 1 & 0.05 & 0.15\\\\\n",
       "\t  640 & 1 & 0.05 & 0.20\\\\\n",
       "\t  641 & 1 & 0.05 & 0.25\\\\\n",
       "\t  645 & 1 & 0.05 & 0.30\\\\\n",
       "\t  657 & 1 & 0.05 & 0.35\\\\\n",
       "\t  673 & 1 & 0.05 & 0.40\\\\\n",
       "\t  696 & 1 & 0.05 & 0.45\\\\\n",
       "\t  703 & 1 & 0.05 & 0.50\\\\\n",
       "\t  720 & 1 & 0.05 & 0.55\\\\\n",
       "\t  728 & 1 & 0.05 & 0.60\\\\\n",
       "\t  729 & 1 & 0.05 & 0.65\\\\\n",
       "\t  777 & 1 & 0.05 & 0.70\\\\\n",
       "\t  808 & 1 & 0.05 & 0.75\\\\\n",
       "\t  824 & 1 & 0.05 & 0.80\\\\\n",
       "\t  825 & 1 & 0.05 & 0.85\\\\\n",
       "\t  865 & 1 & 0.05 & 0.90\\\\\n",
       "\t  875 & 1 & 0.05 & 0.95\\\\\n",
       "\t 1007 & 1 & 0.05 & 1.00\\\\\n",
       "\\end{tabular}\n"
      ],
      "text/markdown": [
       "\n",
       "A tibble: 20 × 4\n",
       "\n",
       "| vals &lt;dbl&gt; | abs.freq &lt;int&gt; | rel.freq &lt;dbl&gt; | cum.rel.freq &lt;dbl&gt; |\n",
       "|---|---|---|---|\n",
       "|  568 | 1 | 0.05 | 0.05 |\n",
       "|  577 | 1 | 0.05 | 0.10 |\n",
       "|  581 | 1 | 0.05 | 0.15 |\n",
       "|  640 | 1 | 0.05 | 0.20 |\n",
       "|  641 | 1 | 0.05 | 0.25 |\n",
       "|  645 | 1 | 0.05 | 0.30 |\n",
       "|  657 | 1 | 0.05 | 0.35 |\n",
       "|  673 | 1 | 0.05 | 0.40 |\n",
       "|  696 | 1 | 0.05 | 0.45 |\n",
       "|  703 | 1 | 0.05 | 0.50 |\n",
       "|  720 | 1 | 0.05 | 0.55 |\n",
       "|  728 | 1 | 0.05 | 0.60 |\n",
       "|  729 | 1 | 0.05 | 0.65 |\n",
       "|  777 | 1 | 0.05 | 0.70 |\n",
       "|  808 | 1 | 0.05 | 0.75 |\n",
       "|  824 | 1 | 0.05 | 0.80 |\n",
       "|  825 | 1 | 0.05 | 0.85 |\n",
       "|  865 | 1 | 0.05 | 0.90 |\n",
       "|  875 | 1 | 0.05 | 0.95 |\n",
       "| 1007 | 1 | 0.05 | 1.00 |\n",
       "\n"
      ],
      "text/plain": [
       "   vals abs.freq rel.freq cum.rel.freq\n",
       "1   568 1        0.05     0.05        \n",
       "2   577 1        0.05     0.10        \n",
       "3   581 1        0.05     0.15        \n",
       "4   640 1        0.05     0.20        \n",
       "5   641 1        0.05     0.25        \n",
       "6   645 1        0.05     0.30        \n",
       "7   657 1        0.05     0.35        \n",
       "8   673 1        0.05     0.40        \n",
       "9   696 1        0.05     0.45        \n",
       "10  703 1        0.05     0.50        \n",
       "11  720 1        0.05     0.55        \n",
       "12  728 1        0.05     0.60        \n",
       "13  729 1        0.05     0.65        \n",
       "14  777 1        0.05     0.70        \n",
       "15  808 1        0.05     0.75        \n",
       "16  824 1        0.05     0.80        \n",
       "17  825 1        0.05     0.85        \n",
       "18  865 1        0.05     0.90        \n",
       "19  875 1        0.05     0.95        \n",
       "20 1007 1        0.05     1.00        "
      ]
     },
     "metadata": {},
     "output_type": "display_data"
    }
   ],
   "source": [
    "df %>% count(vals) %>% ## count(vals) -> first group_by vals and then find count\n",
    "    mutate(\n",
    "        abs.freq=n,\n",
    "        rel.freq=abs.freq/nrow(df),\n",
    "        cum.rel.freq=cumsum(rel.freq)\n",
    "          ) %>% select(-n)"
   ]
  },
  {
   "cell_type": "code",
   "execution_count": 10,
   "id": "afce09bb",
   "metadata": {},
   "outputs": [
    {
     "data": {
      "image/png": "[encoded data removed]",
      "text/plain": [
       "Plot with title “ungroupedData”"
      ]
     },
     "metadata": {
      "image/png": {
       "height": 420,
       "width": 420
      }
     },
     "output_type": "display_data"
    }
   ],
   "source": [
    "plot.ecdf(df$vals,xlab=\"time\",ylab=\"H(x)\",main=\"ungroupedData\")"
   ]
  },
  {
   "cell_type": "markdown",
   "id": "35955dca",
   "metadata": {},
   "source": [
    "+ Compute and draw the cumulative frequency distribution."
   ]
  },
  {
   "cell_type": "code",
   "execution_count": 11,
   "id": "541e08e6",
   "metadata": {
    "scrolled": true
   },
   "outputs": [
    {
     "name": "stdout",
     "output_type": "stream",
     "text": [
      "Empirical CDF \n",
      "Call: ecdf(df$vals)\n",
      " x[1:20] =    568,    577,    581,  ...,    875,   1007\n"
     ]
    }
   ],
   "source": [
    "H<-ecdf(df$vals) # ecdf=Empirical Cumulative Distribution Function\n",
    "print(H)"
   ]
  },
  {
   "cell_type": "code",
   "execution_count": 12,
   "id": "21c03c31",
   "metadata": {
    "scrolled": true
   },
   "outputs": [
    {
     "data": {
      "text/html": [
       "0.7"
      ],
      "text/latex": [
       "0.7"
      ],
      "text/markdown": [
       "0.7"
      ],
      "text/plain": [
       "[1] 0.7"
      ]
     },
     "metadata": {},
     "output_type": "display_data"
    }
   ],
   "source": [
    "H(800) # less equal 800"
   ]
  },
  {
   "cell_type": "code",
   "execution_count": 12,
   "id": "dc419f6d",
   "metadata": {
    "scrolled": true
   },
   "outputs": [
    {
     "data": {
      "text/html": [
       "0.45"
      ],
      "text/latex": [
       "0.45"
      ],
      "text/markdown": [
       "0.45"
      ],
      "text/plain": [
       "[1] 0.45"
      ]
     },
     "metadata": {},
     "output_type": "display_data"
    }
   ],
   "source": [
    " 1-H(725) # greater than 725"
   ]
  },
  {
   "cell_type": "code",
   "execution_count": 13,
   "id": "d4899ec1",
   "metadata": {
    "scrolled": true
   },
   "outputs": [
    {
     "data": {
      "text/html": [
       "0.45"
      ],
      "text/latex": [
       "0.45"
      ],
      "text/markdown": [
       "0.45"
      ],
      "text/plain": [
       "[1] 0.45"
      ]
     },
     "metadata": {},
     "output_type": "display_data"
    }
   ],
   "source": [
    "H(777)-H(642) #>642, <=777"
   ]
  },
  {
   "cell_type": "code",
   "execution_count": 14,
   "id": "fa9da832",
   "metadata": {
    "scrolled": true
   },
   "outputs": [
    {
     "data": {
      "text/html": [
       "0.05"
      ],
      "text/latex": [
       "0.05"
      ],
      "text/markdown": [
       "0.05"
      ],
      "text/plain": [
       "[1] 0.05"
      ]
     },
     "metadata": {},
     "output_type": "display_data"
    }
   ],
   "source": [
    "H(696) - H(695) ## equal to 696"
   ]
  },
  {
   "cell_type": "markdown",
   "id": "ab71edce",
   "metadata": {},
   "source": [
    "### grouped data"
   ]
  },
  {
   "cell_type": "code",
   "execution_count": 15,
   "id": "9f4fa5de",
   "metadata": {
    "scrolled": true
   },
   "outputs": [
    {
     "data": {
      "text/html": [
       "20"
      ],
      "text/latex": [
       "20"
      ],
      "text/markdown": [
       "20"
      ],
      "text/plain": [
       "[1] 20"
      ]
     },
     "metadata": {},
     "output_type": "display_data"
    }
   ],
   "source": [
    "length(df$vals)"
   ]
  },
  {
   "cell_type": "markdown",
   "id": "52728499",
   "metadata": {},
   "source": [
    "+ Consider the following classes (500, 600], (600, 700], (700, 800],\n",
    "  (800, 900], (900, 1000], (1000, 1100].\n",
    "   + Compute the grouped frequency distribution and draw the\n",
    "      histogram and the distribution function."
   ]
  },
  {
   "cell_type": "code",
   "execution_count": 17,
   "id": "28ee6e80",
   "metadata": {
    "scrolled": true
   },
   "outputs": [
    {
     "data": {
      "text/html": [
       "<table class=\"dataframe\">\n",
       "<caption>A tibble: 5 × 4</caption>\n",
       "<thead>\n",
       "\t<tr><th scope=col>value</th><th scope=col>abs.freq</th><th scope=col>rel.freq</th><th scope=col>cum.rel.freq</th></tr>\n",
       "\t<tr><th scope=col>&lt;fct&gt;</th><th scope=col>&lt;int&gt;</th><th scope=col>&lt;dbl&gt;</th><th scope=col>&lt;dbl&gt;</th></tr>\n",
       "</thead>\n",
       "<tbody>\n",
       "\t<tr><td>class1(500-600)  </td><td>3</td><td>0.15</td><td>0.15</td></tr>\n",
       "\t<tr><td>class2(600-700)  </td><td>6</td><td>0.30</td><td>0.45</td></tr>\n",
       "\t<tr><td>class3(700-800)  </td><td>5</td><td>0.25</td><td>0.70</td></tr>\n",
       "\t<tr><td>class4(800-900)  </td><td>5</td><td>0.25</td><td>0.95</td></tr>\n",
       "\t<tr><td>class6(1000-1100)</td><td>1</td><td>0.05</td><td>1.00</td></tr>\n",
       "</tbody>\n",
       "</table>\n"
      ],
      "text/latex": [
       "A tibble: 5 × 4\n",
       "\\begin{tabular}{llll}\n",
       " value & abs.freq & rel.freq & cum.rel.freq\\\\\n",
       " <fct> & <int> & <dbl> & <dbl>\\\\\n",
       "\\hline\n",
       "\t class1(500-600)   & 3 & 0.15 & 0.15\\\\\n",
       "\t class2(600-700)   & 6 & 0.30 & 0.45\\\\\n",
       "\t class3(700-800)   & 5 & 0.25 & 0.70\\\\\n",
       "\t class4(800-900)   & 5 & 0.25 & 0.95\\\\\n",
       "\t class6(1000-1100) & 1 & 0.05 & 1.00\\\\\n",
       "\\end{tabular}\n"
      ],
      "text/markdown": [
       "\n",
       "A tibble: 5 × 4\n",
       "\n",
       "| value &lt;fct&gt; | abs.freq &lt;int&gt; | rel.freq &lt;dbl&gt; | cum.rel.freq &lt;dbl&gt; |\n",
       "|---|---|---|---|\n",
       "| class1(500-600)   | 3 | 0.15 | 0.15 |\n",
       "| class2(600-700)   | 6 | 0.30 | 0.45 |\n",
       "| class3(700-800)   | 5 | 0.25 | 0.70 |\n",
       "| class4(800-900)   | 5 | 0.25 | 0.95 |\n",
       "| class6(1000-1100) | 1 | 0.05 | 1.00 |\n",
       "\n"
      ],
      "text/plain": [
       "  value             abs.freq rel.freq cum.rel.freq\n",
       "1 class1(500-600)   3        0.15     0.15        \n",
       "2 class2(600-700)   6        0.30     0.45        \n",
       "3 class3(700-800)   5        0.25     0.70        \n",
       "4 class4(800-900)   5        0.25     0.95        \n",
       "5 class6(1000-1100) 1        0.05     1.00        "
      ]
     },
     "metadata": {},
     "output_type": "display_data"
    }
   ],
   "source": [
    "bounds<-c(500,600,700,800,900,1000,1100)\n",
    "classes=c(\"class1(500-600)\",\"class2(600-700)\",\"class3(700-800)\",\"class4(800-900)\",\n",
    " \"class5(900-1000)\",\"class6(1000-1100)\")\n",
    "cut(df$vals,breaks=bounds,labels = classes) %>% as_tibble() %>%\n",
    "     count(value) %>%\n",
    "     mutate(abs.freq=n)  %>% unique() %>%\n",
    "     mutate(rel.freq=abs.freq/sum(abs.freq),cum.rel.freq=cumsum(rel.freq)) %>% select(-n)"
   ]
  },
  {
   "cell_type": "markdown",
   "id": "6525bb27",
   "metadata": {},
   "source": [
    "### histogram"
   ]
  },
  {
   "cell_type": "code",
   "execution_count": 20,
   "id": "6bc460c1",
   "metadata": {},
   "outputs": [
    {
     "data": {
      "text/html": [
       "<table class=\"dataframe\">\n",
       "<caption>A tibble: 5 × 2</caption>\n",
       "<thead>\n",
       "\t<tr><th scope=col>value</th><th scope=col>n</th></tr>\n",
       "\t<tr><th scope=col>&lt;fct&gt;</th><th scope=col>&lt;int&gt;</th></tr>\n",
       "</thead>\n",
       "<tbody>\n",
       "\t<tr><td>class1(500-600)  </td><td>3</td></tr>\n",
       "\t<tr><td>class2(600-700)  </td><td>6</td></tr>\n",
       "\t<tr><td>class3(700-800)  </td><td>5</td></tr>\n",
       "\t<tr><td>class4(800-900)  </td><td>5</td></tr>\n",
       "\t<tr><td>class6(1000-1100)</td><td>1</td></tr>\n",
       "</tbody>\n",
       "</table>\n"
      ],
      "text/latex": [
       "A tibble: 5 × 2\n",
       "\\begin{tabular}{ll}\n",
       " value & n\\\\\n",
       " <fct> & <int>\\\\\n",
       "\\hline\n",
       "\t class1(500-600)   & 3\\\\\n",
       "\t class2(600-700)   & 6\\\\\n",
       "\t class3(700-800)   & 5\\\\\n",
       "\t class4(800-900)   & 5\\\\\n",
       "\t class6(1000-1100) & 1\\\\\n",
       "\\end{tabular}\n"
      ],
      "text/markdown": [
       "\n",
       "A tibble: 5 × 2\n",
       "\n",
       "| value &lt;fct&gt; | n &lt;int&gt; |\n",
       "|---|---|\n",
       "| class1(500-600)   | 3 |\n",
       "| class2(600-700)   | 6 |\n",
       "| class3(700-800)   | 5 |\n",
       "| class4(800-900)   | 5 |\n",
       "| class6(1000-1100) | 1 |\n",
       "\n"
      ],
      "text/plain": [
       "  value             n\n",
       "1 class1(500-600)   3\n",
       "2 class2(600-700)   6\n",
       "3 class3(700-800)   5\n",
       "4 class4(800-900)   5\n",
       "5 class6(1000-1100) 1"
      ]
     },
     "metadata": {},
     "output_type": "display_data"
    }
   ],
   "source": [
    "grouped_data<-cut(df$vals,breaks=bounds,labels = classes) %>% as_tibble() %>%\n",
    "     count(value)\n",
    "grouped_data"
   ]
  },
  {
   "cell_type": "code",
   "execution_count": 18,
   "id": "f4c2a42d",
   "metadata": {},
   "outputs": [
    {
     "data": {
      "image/png": "[encoded data removed]",
      "text/plain": [
       "Plot with title “Histogram for grouped data”"
      ]
     },
     "metadata": {
      "image/png": {
       "height": 420,
       "width": 420
      }
     },
     "output_type": "display_data"
    }
   ],
   "source": [
    "hist(df$vals,breaks=bounds,xlab=\"times(classes)\",main=\"Histogram for grouped data\",col=\"green\")"
   ]
  },
  {
   "cell_type": "code",
   "execution_count": 21,
   "id": "a3de2a1c",
   "metadata": {
    "scrolled": true
   },
   "outputs": [
    {
     "data": {
      "image/png": "[encoded data removed]",
      "text/plain": [
       "Plot with title “Histogram of grouped Data”"
      ]
     },
     "metadata": {
      "image/png": {
       "height": 420,
       "width": 420
      }
     },
     "output_type": "display_data"
    }
   ],
   "source": [
    "his<-barplot(height=grouped_data$n,names.arg=grouped_data$value,las=2,col=\"blue\",\n",
    "       main=\"Histogram of grouped Data\",\n",
    "       xlab=\"Classes\",\n",
    "       ylab=\"counts\"\n",
    "       )\n",
    "#text(his, grouped_data$n, \n",
    " #    labels = grouped_data$n, pos = 3, cex = 0.8, col = \"black\")\n"
   ]
  },
  {
   "cell_type": "code",
   "execution_count": 22,
   "id": "b17f4ce9",
   "metadata": {},
   "outputs": [
    {
     "data": {
      "image/png": "[encoded data removed]",
      "text/plain": [
       "Plot with title “groupedData”"
      ]
     },
     "metadata": {
      "image/png": {
       "height": 420,
       "width": 420
      }
     },
     "output_type": "display_data"
    }
   ],
   "source": [
    "plot.ecdf(cut(df$vals,breaks=bounds,labels=bounds[-1]) %>% as.integer(),\n",
    "          xlab=\"time\",ylab=\"H(x)\",main=\"groupedData\")"
   ]
  },
  {
   "cell_type": "code",
   "execution_count": 23,
   "id": "9cc8d6b9",
   "metadata": {},
   "outputs": [
    {
     "data": {
      "text/html": [
       "<style>\n",
       ".list-inline {list-style: none; margin:0; padding: 0}\n",
       ".list-inline>li {display: inline-block}\n",
       ".list-inline>li:not(:last-child)::after {content: \"\\00b7\"; padding: 0 .5ex}\n",
       "</style>\n",
       "<ol class=list-inline><li>600</li><li>600</li><li>600</li><li>700</li><li>700</li><li>700</li><li>700</li><li>700</li><li>700</li><li>800</li><li>800</li><li>800</li><li>800</li><li>800</li><li>900</li><li>900</li><li>900</li><li>900</li><li>900</li><li>1100</li></ol>\n",
       "\n",
       "<details>\n",
       "\t<summary style=display:list-item;cursor:pointer>\n",
       "\t\t<strong>Levels</strong>:\n",
       "\t</summary>\n",
       "\t<style>\n",
       "\t.list-inline {list-style: none; margin:0; padding: 0}\n",
       "\t.list-inline>li {display: inline-block}\n",
       "\t.list-inline>li:not(:last-child)::after {content: \"\\00b7\"; padding: 0 .5ex}\n",
       "\t</style>\n",
       "\t<ol class=list-inline><li>'600'</li><li>'700'</li><li>'800'</li><li>'900'</li><li>'1000'</li><li>'1100'</li></ol>\n",
       "</details>"
      ],
      "text/latex": [
       "\\begin{enumerate*}\n",
       "\\item 600\n",
       "\\item 600\n",
       "\\item 600\n",
       "\\item 700\n",
       "\\item 700\n",
       "\\item 700\n",
       "\\item 700\n",
       "\\item 700\n",
       "\\item 700\n",
       "\\item 800\n",
       "\\item 800\n",
       "\\item 800\n",
       "\\item 800\n",
       "\\item 800\n",
       "\\item 900\n",
       "\\item 900\n",
       "\\item 900\n",
       "\\item 900\n",
       "\\item 900\n",
       "\\item 1100\n",
       "\\end{enumerate*}\n",
       "\n",
       "\\emph{Levels}: \\begin{enumerate*}\n",
       "\\item '600'\n",
       "\\item '700'\n",
       "\\item '800'\n",
       "\\item '900'\n",
       "\\item '1000'\n",
       "\\item '1100'\n",
       "\\end{enumerate*}\n"
      ],
      "text/markdown": [
       "1. 600\n",
       "2. 600\n",
       "3. 600\n",
       "4. 700\n",
       "5. 700\n",
       "6. 700\n",
       "7. 700\n",
       "8. 700\n",
       "9. 700\n",
       "10. 800\n",
       "11. 800\n",
       "12. 800\n",
       "13. 800\n",
       "14. 800\n",
       "15. 900\n",
       "16. 900\n",
       "17. 900\n",
       "18. 900\n",
       "19. 900\n",
       "20. 1100\n",
       "\n",
       "\n",
       "\n",
       "**Levels**: 1. '600'\n",
       "2. '700'\n",
       "3. '800'\n",
       "4. '900'\n",
       "5. '1000'\n",
       "6. '1100'\n",
       "\n",
       "\n"
      ],
      "text/plain": [
       " [1] 600  600  600  700  700  700  700  700  700  800  800  800  800  800  900 \n",
       "[16] 900  900  900  900  1100\n",
       "Levels: 600 700 800 900 1000 1100"
      ]
     },
     "metadata": {},
     "output_type": "display_data"
    }
   ],
   "source": [
    "cut_times<-cut(df$vals,breaks=bounds,labels=bounds[-1])\n",
    "\n",
    "cut_times"
   ]
  },
  {
   "cell_type": "code",
   "execution_count": 24,
   "id": "a3c80766",
   "metadata": {
    "scrolled": true
   },
   "outputs": [
    {
     "data": {
      "text/html": [
       "<table class=\"dataframe\">\n",
       "<caption>A tibble: 5 × 4</caption>\n",
       "<thead>\n",
       "\t<tr><th scope=col>upper_bound</th><th scope=col>n</th><th scope=col>rel.freq</th><th scope=col>cum.rel.freq</th></tr>\n",
       "\t<tr><th scope=col>&lt;dbl&gt;</th><th scope=col>&lt;int&gt;</th><th scope=col>&lt;dbl&gt;</th><th scope=col>&lt;dbl&gt;</th></tr>\n",
       "</thead>\n",
       "<tbody>\n",
       "\t<tr><td> 600</td><td>3</td><td>0.15</td><td>0.15</td></tr>\n",
       "\t<tr><td> 700</td><td>6</td><td>0.30</td><td>0.45</td></tr>\n",
       "\t<tr><td> 800</td><td>5</td><td>0.25</td><td>0.70</td></tr>\n",
       "\t<tr><td> 900</td><td>5</td><td>0.25</td><td>0.95</td></tr>\n",
       "\t<tr><td>1100</td><td>1</td><td>0.05</td><td>1.00</td></tr>\n",
       "</tbody>\n",
       "</table>\n"
      ],
      "text/latex": [
       "A tibble: 5 × 4\n",
       "\\begin{tabular}{llll}\n",
       " upper\\_bound & n & rel.freq & cum.rel.freq\\\\\n",
       " <dbl> & <int> & <dbl> & <dbl>\\\\\n",
       "\\hline\n",
       "\t  600 & 3 & 0.15 & 0.15\\\\\n",
       "\t  700 & 6 & 0.30 & 0.45\\\\\n",
       "\t  800 & 5 & 0.25 & 0.70\\\\\n",
       "\t  900 & 5 & 0.25 & 0.95\\\\\n",
       "\t 1100 & 1 & 0.05 & 1.00\\\\\n",
       "\\end{tabular}\n"
      ],
      "text/markdown": [
       "\n",
       "A tibble: 5 × 4\n",
       "\n",
       "| upper_bound &lt;dbl&gt; | n &lt;int&gt; | rel.freq &lt;dbl&gt; | cum.rel.freq &lt;dbl&gt; |\n",
       "|---|---|---|---|\n",
       "|  600 | 3 | 0.15 | 0.15 |\n",
       "|  700 | 6 | 0.30 | 0.45 |\n",
       "|  800 | 5 | 0.25 | 0.70 |\n",
       "|  900 | 5 | 0.25 | 0.95 |\n",
       "| 1100 | 1 | 0.05 | 1.00 |\n",
       "\n"
      ],
      "text/plain": [
       "  upper_bound n rel.freq cum.rel.freq\n",
       "1  600        3 0.15     0.15        \n",
       "2  700        6 0.30     0.45        \n",
       "3  800        5 0.25     0.70        \n",
       "4  900        5 0.25     0.95        \n",
       "5 1100        1 0.05     1.00        "
      ]
     },
     "metadata": {},
     "output_type": "display_data"
    }
   ],
   "source": [
    "tibble(upper_bound=cut_times %>% as.character() %>% as.numeric()) %>%\n",
    "   count(upper_bound) %>% mutate(rel.freq=n/length(cut_times)) %>% \n",
    "     mutate(cum.rel.freq=cumsum(rel.freq))"
   ]
  },
  {
   "cell_type": "markdown",
   "id": "649a79ec",
   "metadata": {},
   "source": [
    "+ The classes are now (500, 600], (600, 900],(1000, 1200]. Mention\n",
    "  that the classes have different width. Compute the grouped fre-\n",
    "  quency distribution and draw the histogram. Can you interpret\n",
    "  the y-values in the diagram? Draw the distribution function, too."
   ]
  },
  {
   "cell_type": "code",
   "execution_count": 25,
   "id": "8ae00a2b",
   "metadata": {
    "scrolled": true
   },
   "outputs": [
    {
     "data": {
      "text/html": [
       "<table class=\"dataframe\">\n",
       "<caption>A tibble: 3 × 4</caption>\n",
       "<thead>\n",
       "\t<tr><th scope=col>value</th><th scope=col>abs.freq</th><th scope=col>rel.freq</th><th scope=col>cum.rel.freq</th></tr>\n",
       "\t<tr><th scope=col>&lt;fct&gt;</th><th scope=col>&lt;int&gt;</th><th scope=col>&lt;dbl&gt;</th><th scope=col>&lt;dbl&gt;</th></tr>\n",
       "</thead>\n",
       "<tbody>\n",
       "\t<tr><td>class1</td><td> 3</td><td>0.15</td><td>0.15</td></tr>\n",
       "\t<tr><td>class2</td><td>16</td><td>0.80</td><td>0.95</td></tr>\n",
       "\t<tr><td>class4</td><td> 1</td><td>0.05</td><td>1.00</td></tr>\n",
       "</tbody>\n",
       "</table>\n"
      ],
      "text/latex": [
       "A tibble: 3 × 4\n",
       "\\begin{tabular}{llll}\n",
       " value & abs.freq & rel.freq & cum.rel.freq\\\\\n",
       " <fct> & <int> & <dbl> & <dbl>\\\\\n",
       "\\hline\n",
       "\t class1 &  3 & 0.15 & 0.15\\\\\n",
       "\t class2 & 16 & 0.80 & 0.95\\\\\n",
       "\t class4 &  1 & 0.05 & 1.00\\\\\n",
       "\\end{tabular}\n"
      ],
      "text/markdown": [
       "\n",
       "A tibble: 3 × 4\n",
       "\n",
       "| value &lt;fct&gt; | abs.freq &lt;int&gt; | rel.freq &lt;dbl&gt; | cum.rel.freq &lt;dbl&gt; |\n",
       "|---|---|---|---|\n",
       "| class1 |  3 | 0.15 | 0.15 |\n",
       "| class2 | 16 | 0.80 | 0.95 |\n",
       "| class4 |  1 | 0.05 | 1.00 |\n",
       "\n"
      ],
      "text/plain": [
       "  value  abs.freq rel.freq cum.rel.freq\n",
       "1 class1  3       0.15     0.15        \n",
       "2 class2 16       0.80     0.95        \n",
       "3 class4  1       0.05     1.00        "
      ]
     },
     "metadata": {},
     "output_type": "display_data"
    }
   ],
   "source": [
    "bounds<-c(500,600,900,1000,1200)\n",
    "\n",
    "cut(df$vals,breaks=bounds,labels=c(\"class1\",\"class2\",\"class3\",\"class4\")) %>% as_tibble() %>%\n",
    "     count(value) %>%\n",
    "     mutate(abs.freq=n)  %>% unique() %>%\n",
    "     mutate(rel.freq=abs.freq/sum(abs.freq),cum.rel.freq=cumsum(rel.freq)) %>% select(-n)"
   ]
  },
  {
   "cell_type": "code",
   "execution_count": 26,
   "id": "71a73f28",
   "metadata": {},
   "outputs": [
    {
     "data": {
      "text/html": [
       "<table class=\"dataframe\">\n",
       "<caption>A tibble: 3 × 2</caption>\n",
       "<thead>\n",
       "\t<tr><th scope=col>value</th><th scope=col>n</th></tr>\n",
       "\t<tr><th scope=col>&lt;fct&gt;</th><th scope=col>&lt;int&gt;</th></tr>\n",
       "</thead>\n",
       "<tbody>\n",
       "\t<tr><td>class1</td><td> 3</td></tr>\n",
       "\t<tr><td>class2</td><td>16</td></tr>\n",
       "\t<tr><td>class4</td><td> 1</td></tr>\n",
       "</tbody>\n",
       "</table>\n"
      ],
      "text/latex": [
       "A tibble: 3 × 2\n",
       "\\begin{tabular}{ll}\n",
       " value & n\\\\\n",
       " <fct> & <int>\\\\\n",
       "\\hline\n",
       "\t class1 &  3\\\\\n",
       "\t class2 & 16\\\\\n",
       "\t class4 &  1\\\\\n",
       "\\end{tabular}\n"
      ],
      "text/markdown": [
       "\n",
       "A tibble: 3 × 2\n",
       "\n",
       "| value &lt;fct&gt; | n &lt;int&gt; |\n",
       "|---|---|\n",
       "| class1 |  3 |\n",
       "| class2 | 16 |\n",
       "| class4 |  1 |\n",
       "\n"
      ],
      "text/plain": [
       "  value  n \n",
       "1 class1  3\n",
       "2 class2 16\n",
       "3 class4  1"
      ]
     },
     "metadata": {},
     "output_type": "display_data"
    }
   ],
   "source": [
    "grouped_data<-cut(df$vals,breaks=bounds,labels=c(\"class1\",\"class2\",\"class3\",\"class4\")) %>% as_tibble() %>%\n",
    "     count(value)\n",
    "grouped_data"
   ]
  },
  {
   "cell_type": "code",
   "execution_count": 27,
   "id": "c5513c29",
   "metadata": {},
   "outputs": [
    {
     "data": {
      "image/png": "[encoded data removed]",
      "text/plain": [
       "Plot with title “Histogram for grouped data”"
      ]
     },
     "metadata": {
      "image/png": {
       "height": 420,
       "width": 420
      }
     },
     "output_type": "display_data"
    }
   ],
   "source": [
    "hist(df$vals,breaks=bounds,xlab=\"times(classes)\",main=\"Histogram for grouped data\",col=\"orange\")"
   ]
  },
  {
   "cell_type": "code",
   "execution_count": 28,
   "id": "51c3912f",
   "metadata": {
    "scrolled": true
   },
   "outputs": [
    {
     "data": {
      "image/png": "[encoded data removed]",
      "text/plain": [
       "Plot with title “Histogram of grouped Data”"
      ]
     },
     "metadata": {
      "image/png": {
       "height": 420,
       "width": 420
      }
     },
     "output_type": "display_data"
    }
   ],
   "source": [
    "his<-barplot(height=grouped_data$n,names.arg=grouped_data$value,las=2,col=\"red\",\n",
    "       main=\"Histogram of grouped Data\",\n",
    "       xlab=\"Classes\",\n",
    "       ylab=\"counts\")"
   ]
  },
  {
   "cell_type": "code",
   "execution_count": null,
   "id": "19f3a470",
   "metadata": {},
   "outputs": [],
   "source": []
  },
  {
   "cell_type": "code",
   "execution_count": 29,
   "id": "f62ef7e0",
   "metadata": {},
   "outputs": [
    {
     "data": {
      "image/png": "[encoded data removed]",
      "text/plain": [
       "Plot with title “groupedData”"
      ]
     },
     "metadata": {
      "image/png": {
       "height": 420,
       "width": 420
      }
     },
     "output_type": "display_data"
    }
   ],
   "source": [
    "plot.ecdf(cut(df$vals,breaks=bounds,labels=bounds[-1]) %>% as.integer(),\n",
    "          xlab=\"time\",ylab=\"H(x)\",main=\"groupedData\")"
   ]
  },
  {
   "cell_type": "markdown",
   "id": "a8a3702e",
   "metadata": {},
   "source": [
    "## Descriptive Statistics - Measures"
   ]
  },
  {
   "cell_type": "markdown",
   "id": "2cca1a57",
   "metadata": {},
   "source": [
    "<h3 style=\"color:green;text-align:center\">Exercise 1</h3>"
   ]
  },
  {
   "cell_type": "markdown",
   "id": "84346385",
   "metadata": {},
   "source": [
    "#### Make up data sets with 5 numbers each that have:\n",
    " +  the same mean but different standard deviations."
   ]
  },
  {
   "cell_type": "code",
   "execution_count": 43,
   "id": "989c7431",
   "metadata": {},
   "outputs": [],
   "source": [
    "myfun<-function(){\n",
    "    \n",
    "    s1<-sample(x = 1:10,size=5,replace=T)\n",
    "    s2<-sample(x = 1:10,size=5,replace=T)\n",
    "\n",
    "    while(T){\n",
    "        if(mean(s1)==mean(s2) && sd(s1)!=sd(s2)){\n",
    "          return(c(s1,s2))  \n",
    "        }\n",
    "        s1<-sample(x = 1:10,size=5,replace=T)\n",
    "        s2<-sample(x = 1:10,size=5,replace=T)\n",
    "    }\n",
    "    \n",
    "}"
   ]
  },
  {
   "cell_type": "code",
   "execution_count": 44,
   "id": "eb784f49",
   "metadata": {
    "scrolled": true
   },
   "outputs": [
    {
     "data": {
      "text/html": [
       "<style>\n",
       ".list-inline {list-style: none; margin:0; padding: 0}\n",
       ".list-inline>li {display: inline-block}\n",
       ".list-inline>li:not(:last-child)::after {content: \"\\00b7\"; padding: 0 .5ex}\n",
       "</style>\n",
       "<ol class=list-inline><li>10</li><li>1</li><li>3</li><li>5</li><li>9</li><li>9</li><li>8</li><li>3</li><li>6</li><li>2</li></ol>\n"
      ],
      "text/latex": [
       "\\begin{enumerate*}\n",
       "\\item 10\n",
       "\\item 1\n",
       "\\item 3\n",
       "\\item 5\n",
       "\\item 9\n",
       "\\item 9\n",
       "\\item 8\n",
       "\\item 3\n",
       "\\item 6\n",
       "\\item 2\n",
       "\\end{enumerate*}\n"
      ],
      "text/markdown": [
       "1. 10\n",
       "2. 1\n",
       "3. 3\n",
       "4. 5\n",
       "5. 9\n",
       "6. 9\n",
       "7. 8\n",
       "8. 3\n",
       "9. 6\n",
       "10. 2\n",
       "\n",
       "\n"
      ],
      "text/plain": [
       " [1] 10  1  3  5  9  9  8  3  6  2"
      ]
     },
     "metadata": {},
     "output_type": "display_data"
    }
   ],
   "source": [
    "res<-myfun()\n",
    "res"
   ]
  },
  {
   "cell_type": "code",
   "execution_count": 45,
   "id": "b4b65c88",
   "metadata": {
    "scrolled": true
   },
   "outputs": [
    {
     "data": {
      "text/html": [
       "5.6"
      ],
      "text/latex": [
       "5.6"
      ],
      "text/markdown": [
       "5.6"
      ],
      "text/plain": [
       "[1] 5.6"
      ]
     },
     "metadata": {},
     "output_type": "display_data"
    }
   ],
   "source": [
    "res[1:5] %>% mean()"
   ]
  },
  {
   "cell_type": "code",
   "execution_count": 42,
   "id": "531fda4c",
   "metadata": {},
   "outputs": [
    {
     "data": {
      "text/html": [
       "<style>\n",
       ".list-inline {list-style: none; margin:0; padding: 0}\n",
       ".list-inline>li {display: inline-block}\n",
       ".list-inline>li:not(:last-child)::after {content: \"\\00b7\"; padding: 0 .5ex}\n",
       "</style>\n",
       "<ol class=list-inline><li>2</li><li>6</li><li>9</li><li>4</li><li>9</li></ol>\n"
      ],
      "text/latex": [
       "\\begin{enumerate*}\n",
       "\\item 2\n",
       "\\item 6\n",
       "\\item 9\n",
       "\\item 4\n",
       "\\item 9\n",
       "\\end{enumerate*}\n"
      ],
      "text/markdown": [
       "1. 2\n",
       "2. 6\n",
       "3. 9\n",
       "4. 4\n",
       "5. 9\n",
       "\n",
       "\n"
      ],
      "text/plain": [
       "[1] 2 6 9 4 9"
      ]
     },
     "metadata": {},
     "output_type": "display_data"
    }
   ],
   "source": [
    "res[1:5]"
   ]
  },
  {
   "cell_type": "code",
   "execution_count": 46,
   "id": "73841737",
   "metadata": {
    "scrolled": true
   },
   "outputs": [
    {
     "data": {
      "text/html": [
       "5.6"
      ],
      "text/latex": [
       "5.6"
      ],
      "text/markdown": [
       "5.6"
      ],
      "text/plain": [
       "[1] 5.6"
      ]
     },
     "metadata": {},
     "output_type": "display_data"
    }
   ],
   "source": [
    "res[6:10] %>% mean()"
   ]
  },
  {
   "cell_type": "code",
   "execution_count": 47,
   "id": "d14b274a",
   "metadata": {},
   "outputs": [
    {
     "data": {
      "text/html": [
       "3.04959013639538"
      ],
      "text/latex": [
       "3.04959013639538"
      ],
      "text/markdown": [
       "3.04959013639538"
      ],
      "text/plain": [
       "[1] 3.04959"
      ]
     },
     "metadata": {},
     "output_type": "display_data"
    }
   ],
   "source": [
    "res[6:10] %>% sd()"
   ]
  },
  {
   "cell_type": "code",
   "execution_count": 48,
   "id": "3faca7f9",
   "metadata": {},
   "outputs": [
    {
     "data": {
      "text/html": [
       "3.84707681233427"
      ],
      "text/latex": [
       "3.84707681233427"
      ],
      "text/markdown": [
       "3.84707681233427"
      ],
      "text/plain": [
       "[1] 3.847077"
      ]
     },
     "metadata": {},
     "output_type": "display_data"
    }
   ],
   "source": [
    "res[1:5] %>% sd()"
   ]
  },
  {
   "cell_type": "markdown",
   "id": "96d48d8f",
   "metadata": {},
   "source": [
    "+ the same mean but different medians.\n"
   ]
  },
  {
   "cell_type": "code",
   "execution_count": 49,
   "id": "75636b04",
   "metadata": {},
   "outputs": [],
   "source": [
    "myfun<-function(){\n",
    "    \n",
    "    s1<-sample(x = 1:10,size=5,replace=T)\n",
    "    s2<-sample(x = 1:10,size=5,replace=T)\n",
    "\n",
    "    while(T){\n",
    "        if(mean(s1)==mean(s2) && median(s1)!=median(s2)){\n",
    "          return(c(s1,s2))  \n",
    "        }\n",
    "        s1<-sample(x = 1:10,size=5,replace=T)\n",
    "        s2<-sample(x = 1:10,size=5,replace=T)\n",
    "    }\n",
    "    \n",
    "}"
   ]
  },
  {
   "cell_type": "code",
   "execution_count": 50,
   "id": "2670f03a",
   "metadata": {
    "scrolled": true
   },
   "outputs": [
    {
     "data": {
      "text/html": [
       "<style>\n",
       ".list-inline {list-style: none; margin:0; padding: 0}\n",
       ".list-inline>li {display: inline-block}\n",
       ".list-inline>li:not(:last-child)::after {content: \"\\00b7\"; padding: 0 .5ex}\n",
       "</style>\n",
       "<ol class=list-inline><li>9</li><li>2</li><li>10</li><li>3</li><li>3</li><li>10</li><li>1</li><li>2</li><li>7</li><li>7</li></ol>\n"
      ],
      "text/latex": [
       "\\begin{enumerate*}\n",
       "\\item 9\n",
       "\\item 2\n",
       "\\item 10\n",
       "\\item 3\n",
       "\\item 3\n",
       "\\item 10\n",
       "\\item 1\n",
       "\\item 2\n",
       "\\item 7\n",
       "\\item 7\n",
       "\\end{enumerate*}\n"
      ],
      "text/markdown": [
       "1. 9\n",
       "2. 2\n",
       "3. 10\n",
       "4. 3\n",
       "5. 3\n",
       "6. 10\n",
       "7. 1\n",
       "8. 2\n",
       "9. 7\n",
       "10. 7\n",
       "\n",
       "\n"
      ],
      "text/plain": [
       " [1]  9  2 10  3  3 10  1  2  7  7"
      ]
     },
     "metadata": {},
     "output_type": "display_data"
    }
   ],
   "source": [
    "res<-myfun()\n",
    "res"
   ]
  },
  {
   "cell_type": "code",
   "execution_count": 51,
   "id": "71595d47",
   "metadata": {
    "scrolled": true
   },
   "outputs": [
    {
     "data": {
      "text/html": [
       "5.4"
      ],
      "text/latex": [
       "5.4"
      ],
      "text/markdown": [
       "5.4"
      ],
      "text/plain": [
       "[1] 5.4"
      ]
     },
     "metadata": {},
     "output_type": "display_data"
    }
   ],
   "source": [
    "res[6:10] %>% mean()"
   ]
  },
  {
   "cell_type": "code",
   "execution_count": 52,
   "id": "9fd62e21",
   "metadata": {
    "scrolled": true
   },
   "outputs": [
    {
     "data": {
      "text/html": [
       "5.4"
      ],
      "text/latex": [
       "5.4"
      ],
      "text/markdown": [
       "5.4"
      ],
      "text/plain": [
       "[1] 5.4"
      ]
     },
     "metadata": {},
     "output_type": "display_data"
    }
   ],
   "source": [
    "res[1:5] %>% mean()"
   ]
  },
  {
   "cell_type": "code",
   "execution_count": 53,
   "id": "9f13b61e",
   "metadata": {},
   "outputs": [
    {
     "data": {
      "text/html": [
       "7"
      ],
      "text/latex": [
       "7"
      ],
      "text/markdown": [
       "7"
      ],
      "text/plain": [
       "[1] 7"
      ]
     },
     "metadata": {},
     "output_type": "display_data"
    }
   ],
   "source": [
    "res[6:10] %>% median()"
   ]
  },
  {
   "cell_type": "code",
   "execution_count": 54,
   "id": "0206c492",
   "metadata": {},
   "outputs": [
    {
     "data": {
      "text/html": [
       "3"
      ],
      "text/latex": [
       "3"
      ],
      "text/markdown": [
       "3"
      ],
      "text/plain": [
       "[1] 3"
      ]
     },
     "metadata": {},
     "output_type": "display_data"
    }
   ],
   "source": [
    "res[1:5] %>% median()"
   ]
  },
  {
   "cell_type": "markdown",
   "id": "452cc4c3",
   "metadata": {},
   "source": [
    "<h3 style=\"color:green;text-align:center\">Exercise 2</h3>"
   ]
  },
  {
   "cell_type": "markdown",
   "id": "b8c7345e",
   "metadata": {},
   "source": [
    "\n",
    " $$\\text{geometric mean:} \\sqrt[\\leftroot{20} \\uproot{5} n]{\\prod_{i=1}^n}x_i$$"
   ]
  },
  {
   "cell_type": "markdown",
   "id": "346bc436",
   "metadata": {},
   "source": [
    "Consider a stock portfolio that began with a value of 1000 $ and had\n",
    "annual returns of 13%, 22%, 12%, -5%, and -13%."
   ]
  },
  {
   "cell_type": "markdown",
   "id": "0fcac882",
   "metadata": {},
   "source": [
    "+ Compute the value after each of the five years."
   ]
  },
  {
   "cell_type": "code",
   "execution_count": 60,
   "id": "2d0496de",
   "metadata": {
    "scrolled": true
   },
   "outputs": [
    {
     "data": {
      "text/html": [
       "<table class=\"dataframe\">\n",
       "<caption>A tibble: 5 × 2</caption>\n",
       "<thead>\n",
       "\t<tr><th scope=col>year</th><th scope=col>annual_ret</th></tr>\n",
       "\t<tr><th scope=col>&lt;int&gt;</th><th scope=col>&lt;dbl&gt;</th></tr>\n",
       "</thead>\n",
       "<tbody>\n",
       "\t<tr><td>1</td><td> 0.13</td></tr>\n",
       "\t<tr><td>2</td><td> 0.22</td></tr>\n",
       "\t<tr><td>3</td><td> 0.12</td></tr>\n",
       "\t<tr><td>4</td><td>-0.05</td></tr>\n",
       "\t<tr><td>5</td><td>-0.13</td></tr>\n",
       "</tbody>\n",
       "</table>\n"
      ],
      "text/latex": [
       "A tibble: 5 × 2\n",
       "\\begin{tabular}{ll}\n",
       " year & annual\\_ret\\\\\n",
       " <int> & <dbl>\\\\\n",
       "\\hline\n",
       "\t 1 &  0.13\\\\\n",
       "\t 2 &  0.22\\\\\n",
       "\t 3 &  0.12\\\\\n",
       "\t 4 & -0.05\\\\\n",
       "\t 5 & -0.13\\\\\n",
       "\\end{tabular}\n"
      ],
      "text/markdown": [
       "\n",
       "A tibble: 5 × 2\n",
       "\n",
       "| year &lt;int&gt; | annual_ret &lt;dbl&gt; |\n",
       "|---|---|\n",
       "| 1 |  0.13 |\n",
       "| 2 |  0.22 |\n",
       "| 3 |  0.12 |\n",
       "| 4 | -0.05 |\n",
       "| 5 | -0.13 |\n",
       "\n"
      ],
      "text/plain": [
       "  year annual_ret\n",
       "1 1     0.13     \n",
       "2 2     0.22     \n",
       "3 3     0.12     \n",
       "4 4    -0.05     \n",
       "5 5    -0.13     "
      ]
     },
     "metadata": {},
     "output_type": "display_data"
    }
   ],
   "source": [
    "annual_ret<-c(0.13,0.22,0.12,-0.05,-0.13)\n",
    "df<-tibble(year=1:5,annual_ret=annual_ret)\n",
    "df"
   ]
  },
  {
   "cell_type": "code",
   "execution_count": 76,
   "id": "993b3b70",
   "metadata": {
    "scrolled": true
   },
   "outputs": [
    {
     "data": {
      "text/html": [
       "<table class=\"dataframe\">\n",
       "<caption>A tibble: 5 × 4</caption>\n",
       "<thead>\n",
       "\t<tr><th scope=col>year</th><th scope=col>annual_ret</th><th scope=col>rate</th><th scope=col>value</th></tr>\n",
       "\t<tr><th scope=col>&lt;int&gt;</th><th scope=col>&lt;dbl&gt;</th><th scope=col>&lt;dbl&gt;</th><th scope=col>&lt;dbl&gt;</th></tr>\n",
       "</thead>\n",
       "<tbody>\n",
       "\t<tr><td>1</td><td> 0.13</td><td>1.13</td><td>1130.000</td></tr>\n",
       "\t<tr><td>2</td><td> 0.22</td><td>1.22</td><td>1378.600</td></tr>\n",
       "\t<tr><td>3</td><td> 0.12</td><td>1.12</td><td>1544.032</td></tr>\n",
       "\t<tr><td>4</td><td>-0.05</td><td>0.95</td><td>1466.830</td></tr>\n",
       "\t<tr><td>5</td><td>-0.13</td><td>0.87</td><td>1276.142</td></tr>\n",
       "</tbody>\n",
       "</table>\n"
      ],
      "text/latex": [
       "A tibble: 5 × 4\n",
       "\\begin{tabular}{llll}\n",
       " year & annual\\_ret & rate & value\\\\\n",
       " <int> & <dbl> & <dbl> & <dbl>\\\\\n",
       "\\hline\n",
       "\t 1 &  0.13 & 1.13 & 1130.000\\\\\n",
       "\t 2 &  0.22 & 1.22 & 1378.600\\\\\n",
       "\t 3 &  0.12 & 1.12 & 1544.032\\\\\n",
       "\t 4 & -0.05 & 0.95 & 1466.830\\\\\n",
       "\t 5 & -0.13 & 0.87 & 1276.142\\\\\n",
       "\\end{tabular}\n"
      ],
      "text/markdown": [
       "\n",
       "A tibble: 5 × 4\n",
       "\n",
       "| year &lt;int&gt; | annual_ret &lt;dbl&gt; | rate &lt;dbl&gt; | value &lt;dbl&gt; |\n",
       "|---|---|---|---|\n",
       "| 1 |  0.13 | 1.13 | 1130.000 |\n",
       "| 2 |  0.22 | 1.22 | 1378.600 |\n",
       "| 3 |  0.12 | 1.12 | 1544.032 |\n",
       "| 4 | -0.05 | 0.95 | 1466.830 |\n",
       "| 5 | -0.13 | 0.87 | 1276.142 |\n",
       "\n"
      ],
      "text/plain": [
       "  year annual_ret rate value   \n",
       "1 1     0.13      1.13 1130.000\n",
       "2 2     0.22      1.22 1378.600\n",
       "3 3     0.12      1.12 1544.032\n",
       "4 4    -0.05      0.95 1466.830\n",
       "5 5    -0.13      0.87 1276.142"
      ]
     },
     "metadata": {},
     "output_type": "display_data"
    }
   ],
   "source": [
    "df %>% mutate(rate=1+annual_ret) %>% mutate(value=1000*cumprod(1+annual_ret)) ->tmp\n",
    "tmp"
   ]
  },
  {
   "cell_type": "code",
   "execution_count": 68,
   "id": "30f08c31",
   "metadata": {
    "scrolled": true
   },
   "outputs": [
    {
     "data": {
      "text/html": [
       "1130"
      ],
      "text/latex": [
       "1130"
      ],
      "text/markdown": [
       "1130"
      ],
      "text/plain": [
       "[1] 1130"
      ]
     },
     "metadata": {},
     "output_type": "display_data"
    }
   ],
   "source": [
    "## after first 5 years value:\n",
    "1000*1.13\n"
   ]
  },
  {
   "cell_type": "code",
   "execution_count": 72,
   "id": "59750310",
   "metadata": {},
   "outputs": [
    {
     "data": {
      "text/html": [
       "1130"
      ],
      "text/latex": [
       "1130"
      ],
      "text/markdown": [
       "1130"
      ],
      "text/plain": [
       "[1] 1130"
      ]
     },
     "metadata": {},
     "output_type": "display_data"
    }
   ],
   "source": [
    "1000 + 1000*(13/100)"
   ]
  },
  {
   "cell_type": "code",
   "execution_count": 73,
   "id": "1ae5ac89",
   "metadata": {},
   "outputs": [
    {
     "data": {
      "text/html": [
       "1378.6"
      ],
      "text/latex": [
       "1378.6"
      ],
      "text/markdown": [
       "1378.6"
      ],
      "text/plain": [
       "[1] 1378.6"
      ]
     },
     "metadata": {},
     "output_type": "display_data"
    }
   ],
   "source": [
    "1130 + 1130*(22/100)"
   ]
  },
  {
   "cell_type": "code",
   "execution_count": 69,
   "id": "902a9d0e",
   "metadata": {
    "scrolled": true
   },
   "outputs": [
    {
     "data": {
      "text/html": [
       "1378.6"
      ],
      "text/latex": [
       "1378.6"
      ],
      "text/markdown": [
       "1378.6"
      ],
      "text/plain": [
       "[1] 1378.6"
      ]
     },
     "metadata": {},
     "output_type": "display_data"
    }
   ],
   "source": [
    "## after second 5 years value:\n",
    "1130*1.22"
   ]
  },
  {
   "cell_type": "code",
   "execution_count": 71,
   "id": "ea1d36dc",
   "metadata": {},
   "outputs": [
    {
     "data": {
      "text/html": [
       "1544.032"
      ],
      "text/latex": [
       "1544.032"
      ],
      "text/markdown": [
       "1544.032"
      ],
      "text/plain": [
       "[1] 1544.032"
      ]
     },
     "metadata": {},
     "output_type": "display_data"
    }
   ],
   "source": [
    "## after third 5 years value:\n",
    "1378.6*1.12"
   ]
  },
  {
   "cell_type": "code",
   "execution_count": 74,
   "id": "f149ecb5",
   "metadata": {},
   "outputs": [
    {
     "data": {
      "text/html": [
       "0.2"
      ],
      "text/latex": [
       "0.2"
      ],
      "text/markdown": [
       "0.2"
      ],
      "text/plain": [
       "[1] 0.2"
      ]
     },
     "metadata": {},
     "output_type": "display_data"
    }
   ],
   "source": [
    "1/5"
   ]
  },
  {
   "cell_type": "markdown",
   "id": "1ce333e9",
   "metadata": {},
   "source": [
    "+ Compute the annual rate of return"
   ]
  },
  {
   "cell_type": "code",
   "execution_count": 80,
   "id": "8ed171c2",
   "metadata": {},
   "outputs": [
    {
     "data": {
      "text/html": [
       "1.04997710903325"
      ],
      "text/latex": [
       "1.04997710903325"
      ],
      "text/markdown": [
       "1.04997710903325"
      ],
      "text/plain": [
       "[1] 1.049977"
      ]
     },
     "metadata": {},
     "output_type": "display_data"
    }
   ],
   "source": [
    "# annual rate of return = (geometric mean-1)*100\n",
    "\n",
    "gm<-prod(tmp$rate)**(1/5)\n",
    "gm"
   ]
  },
  {
   "cell_type": "code",
   "execution_count": 81,
   "id": "8aa04fa9",
   "metadata": {},
   "outputs": [],
   "source": [
    "annual_rate_return<-(gm-1)*100"
   ]
  },
  {
   "cell_type": "code",
   "execution_count": 82,
   "id": "e7215ea8",
   "metadata": {
    "scrolled": true
   },
   "outputs": [
    {
     "data": {
      "text/html": [
       "4.99771090332475"
      ],
      "text/latex": [
       "4.99771090332475"
      ],
      "text/markdown": [
       "4.99771090332475"
      ],
      "text/plain": [
       "[1] 4.997711"
      ]
     },
     "metadata": {},
     "output_type": "display_data"
    }
   ],
   "source": [
    "annual_rate_return"
   ]
  },
  {
   "cell_type": "code",
   "execution_count": 83,
   "id": "643f8047",
   "metadata": {
    "scrolled": true
   },
   "outputs": [
    {
     "data": {
      "text/html": [
       "1339.77079112642"
      ],
      "text/latex": [
       "1339.77079112642"
      ],
      "text/markdown": [
       "1339.77079112642"
      ],
      "text/plain": [
       "[1] 1339.771"
      ]
     },
     "metadata": {},
     "output_type": "display_data"
    }
   ],
   "source": [
    "# return after 6 years\n",
    "1276*gm"
   ]
  },
  {
   "cell_type": "code",
   "execution_count": 84,
   "id": "80aea7e9",
   "metadata": {
    "scrolled": true
   },
   "outputs": [
    {
     "data": {
      "text/html": [
       "1406.88300530424"
      ],
      "text/latex": [
       "1406.88300530424"
      ],
      "text/markdown": [
       "1406.88300530424"
      ],
      "text/plain": [
       "[1] 1406.883"
      ]
     },
     "metadata": {},
     "output_type": "display_data"
    }
   ],
   "source": [
    "# return after 7 years\n",
    "1276.14*gm**2"
   ]
  },
  {
   "cell_type": "code",
   "execution_count": 85,
   "id": "b25d6e9d",
   "metadata": {},
   "outputs": [
    {
     "data": {
      "text/html": [
       "1477.19495065735"
      ],
      "text/latex": [
       "1477.19495065735"
      ],
      "text/markdown": [
       "1477.19495065735"
      ],
      "text/plain": [
       "[1] 1477.195"
      ]
     },
     "metadata": {},
     "output_type": "display_data"
    }
   ],
   "source": [
    "# return after 7 years\n",
    "1276.14*gm**3"
   ]
  },
  {
   "cell_type": "markdown",
   "id": "851e1fa5",
   "metadata": {},
   "source": [
    "<h3 style=\"color:green;text-align:center\">Exercise 3</h3>"
   ]
  },
  {
   "cell_type": "markdown",
   "id": "4e7f020d",
   "metadata": {},
   "source": [
    "## Given are the observations 4, 3, 2, 4, 10. Calculate the"
   ]
  },
  {
   "cell_type": "code",
   "execution_count": 93,
   "id": "1d248e2f",
   "metadata": {
    "scrolled": true
   },
   "outputs": [
    {
     "data": {
      "text/html": [
       "<table class=\"dataframe\">\n",
       "<caption>A tibble: 1 × 4</caption>\n",
       "<thead>\n",
       "\t<tr><th scope=col>mean</th><th scope=col>median</th><th scope=col>q_20</th><th scope=col>trimmed_mean_40</th></tr>\n",
       "\t<tr><th scope=col>&lt;dbl&gt;</th><th scope=col>&lt;dbl&gt;</th><th scope=col>&lt;dbl&gt;</th><th scope=col>&lt;dbl&gt;</th></tr>\n",
       "</thead>\n",
       "<tbody>\n",
       "\t<tr><td>4.6</td><td>4</td><td>2.5</td><td>3.666667</td></tr>\n",
       "</tbody>\n",
       "</table>\n"
      ],
      "text/latex": [
       "A tibble: 1 × 4\n",
       "\\begin{tabular}{llll}\n",
       " mean & median & q\\_20 & trimmed\\_mean\\_40\\\\\n",
       " <dbl> & <dbl> & <dbl> & <dbl>\\\\\n",
       "\\hline\n",
       "\t 4.6 & 4 & 2.5 & 3.666667\\\\\n",
       "\\end{tabular}\n"
      ],
      "text/markdown": [
       "\n",
       "A tibble: 1 × 4\n",
       "\n",
       "| mean &lt;dbl&gt; | median &lt;dbl&gt; | q_20 &lt;dbl&gt; | trimmed_mean_40 &lt;dbl&gt; |\n",
       "|---|---|---|---|\n",
       "| 4.6 | 4 | 2.5 | 3.666667 |\n",
       "\n"
      ],
      "text/plain": [
       "  mean median q_20 trimmed_mean_40\n",
       "1 4.6  4      2.5  3.666667       "
      ]
     },
     "metadata": {},
     "output_type": "display_data"
    }
   ],
   "source": [
    "# mean,median,quantile, trimm mean\n",
    "c(4,3,2,4,10) %>% as_tibble() %>% summarise(\n",
    "        mean=mean(value),\n",
    "        median=median(value),\n",
    "        q_20=quantile(value,p=0.2,type=2),\n",
    "        trimmed_mean_40=mean(value,trim=0.2)\n",
    "      )"
   ]
  },
  {
   "cell_type": "code",
   "execution_count": 95,
   "id": "fa7a40c4",
   "metadata": {
    "scrolled": true
   },
   "outputs": [
    {
     "data": {
      "text/html": [
       "<table class=\"dataframe\">\n",
       "<caption>A tibble: 1 × 1</caption>\n",
       "<thead>\n",
       "\t<tr><th scope=col>value</th></tr>\n",
       "\t<tr><th scope=col>&lt;dbl&gt;</th></tr>\n",
       "</thead>\n",
       "<tbody>\n",
       "\t<tr><td>4</td></tr>\n",
       "</tbody>\n",
       "</table>\n"
      ],
      "text/latex": [
       "A tibble: 1 × 1\n",
       "\\begin{tabular}{l}\n",
       " value\\\\\n",
       " <dbl>\\\\\n",
       "\\hline\n",
       "\t 4\\\\\n",
       "\\end{tabular}\n"
      ],
      "text/markdown": [
       "\n",
       "A tibble: 1 × 1\n",
       "\n",
       "| value &lt;dbl&gt; |\n",
       "|---|\n",
       "| 4 |\n",
       "\n"
      ],
      "text/plain": [
       "  value\n",
       "1 4    "
      ]
     },
     "metadata": {},
     "output_type": "display_data"
    }
   ],
   "source": [
    "## mode\n",
    "c(4,3,2,4,10) %>% as_tibble() %>%\n",
    "         count(value) %>%\n",
    "         arrange(desc(n)) %>%\n",
    "         select(value) %>%\n",
    "         slice(1)->mode\n",
    "mode\n"
   ]
  },
  {
   "cell_type": "code",
   "execution_count": 101,
   "id": "63b6dcbf",
   "metadata": {},
   "outputs": [
    {
     "data": {
      "text/plain": [
       "values\n",
       "  2   3   4  10 Sum \n",
       "  1   1   2   1   5 "
      ]
     },
     "metadata": {},
     "output_type": "display_data"
    }
   ],
   "source": [
    "table(values) %>% addmargins()"
   ]
  },
  {
   "cell_type": "code",
   "execution_count": 98,
   "id": "867f401f",
   "metadata": {},
   "outputs": [
    {
     "data": {
      "text/html": [
       "2"
      ],
      "text/latex": [
       "2"
      ],
      "text/markdown": [
       "2"
      ],
      "text/plain": [
       "[1] 2"
      ]
     },
     "metadata": {},
     "output_type": "display_data"
    }
   ],
   "source": [
    "## another way to calculate mode\n",
    "\n",
    "values<-c(4,3,2,4,10)\n",
    "\n",
    "unique(values)[which.max(table(values))]"
   ]
  },
  {
   "cell_type": "markdown",
   "id": "61203dca",
   "metadata": {},
   "source": [
    "<h3 style=\"color:green;text-align:center\">Exercise 4</h3>"
   ]
  },
  {
   "cell_type": "code",
   "execution_count": 103,
   "id": "4c4b0596",
   "metadata": {
    "scrolled": true
   },
   "outputs": [
    {
     "data": {
      "text/html": [
       "<table class=\"dataframe\">\n",
       "<caption>A tibble: 8 × 2</caption>\n",
       "<thead>\n",
       "\t<tr><th scope=col>val</th><th scope=col>abs.freq</th></tr>\n",
       "\t<tr><th scope=col>&lt;int&gt;</th><th scope=col>&lt;dbl&gt;</th></tr>\n",
       "</thead>\n",
       "<tbody>\n",
       "\t<tr><td>1</td><td>5</td></tr>\n",
       "\t<tr><td>2</td><td>4</td></tr>\n",
       "\t<tr><td>3</td><td>1</td></tr>\n",
       "\t<tr><td>4</td><td>7</td></tr>\n",
       "\t<tr><td>5</td><td>2</td></tr>\n",
       "\t<tr><td>6</td><td>3</td></tr>\n",
       "\t<tr><td>7</td><td>1</td></tr>\n",
       "\t<tr><td>8</td><td>2</td></tr>\n",
       "</tbody>\n",
       "</table>\n"
      ],
      "text/latex": [
       "A tibble: 8 × 2\n",
       "\\begin{tabular}{ll}\n",
       " val & abs.freq\\\\\n",
       " <int> & <dbl>\\\\\n",
       "\\hline\n",
       "\t 1 & 5\\\\\n",
       "\t 2 & 4\\\\\n",
       "\t 3 & 1\\\\\n",
       "\t 4 & 7\\\\\n",
       "\t 5 & 2\\\\\n",
       "\t 6 & 3\\\\\n",
       "\t 7 & 1\\\\\n",
       "\t 8 & 2\\\\\n",
       "\\end{tabular}\n"
      ],
      "text/markdown": [
       "\n",
       "A tibble: 8 × 2\n",
       "\n",
       "| val &lt;int&gt; | abs.freq &lt;dbl&gt; |\n",
       "|---|---|\n",
       "| 1 | 5 |\n",
       "| 2 | 4 |\n",
       "| 3 | 1 |\n",
       "| 4 | 7 |\n",
       "| 5 | 2 |\n",
       "| 6 | 3 |\n",
       "| 7 | 1 |\n",
       "| 8 | 2 |\n",
       "\n"
      ],
      "text/plain": [
       "  val abs.freq\n",
       "1 1   5       \n",
       "2 2   4       \n",
       "3 3   1       \n",
       "4 4   7       \n",
       "5 5   2       \n",
       "6 6   3       \n",
       "7 7   1       \n",
       "8 8   2       "
      ]
     },
     "metadata": {},
     "output_type": "display_data"
    }
   ],
   "source": [
    "df<-tibble(val=1:8,abs.freq=c(5,4,1,7,2,3,1,2))\n",
    "df"
   ]
  },
  {
   "cell_type": "code",
   "execution_count": 105,
   "id": "74785cfa",
   "metadata": {},
   "outputs": [
    {
     "data": {
      "text/html": [
       "3.8"
      ],
      "text/latex": [
       "3.8"
      ],
      "text/markdown": [
       "3.8"
      ],
      "text/plain": [
       "[1] 3.8"
      ]
     },
     "metadata": {},
     "output_type": "display_data"
    }
   ],
   "source": [
    "## arithmetic mean\n",
    "df %>% mutate(val_mal_freq=val*abs.freq) %>% select(val_mal_freq) %>% sum()/sum(df$abs.freq)"
   ]
  },
  {
   "cell_type": "code",
   "execution_count": 109,
   "id": "75876a35",
   "metadata": {},
   "outputs": [
    {
     "data": {
      "text/html": [
       "3.099"
      ],
      "text/latex": [
       "3.099"
      ],
      "text/markdown": [
       "3.099"
      ],
      "text/plain": [
       "[1] 3.099"
      ]
     },
     "metadata": {},
     "output_type": "display_data"
    }
   ],
   "source": [
    "## geometric mean\n",
    "df %>% mutate(val_hoch_freq=val**abs.freq) %>% select(val_hoch_freq) %>% prod() -> prod\n",
    "\n",
    "gm<-prod**(1/25)\n",
    "gm %>% round(3)"
   ]
  },
  {
   "cell_type": "code",
   "execution_count": 111,
   "id": "540cad6b",
   "metadata": {},
   "outputs": [
    {
     "data": {
      "text/html": [
       "2.409"
      ],
      "text/latex": [
       "2.409"
      ],
      "text/markdown": [
       "2.409"
      ],
      "text/plain": [
       "[1] 2.409"
      ]
     },
     "metadata": {},
     "output_type": "display_data"
    }
   ],
   "source": [
    "## harmonic mean\n",
    "df %>% mutate(freq_div_val=abs.freq/val) %>% select(freq_div_val) %>% sum()->total\n",
    "hm<-(25/total) %>% round(3)\n",
    "hm"
   ]
  },
  {
   "cell_type": "code",
   "execution_count": 112,
   "id": "183a3a88",
   "metadata": {
    "scrolled": true
   },
   "outputs": [
    {
     "data": {
      "text/plain": [
       ".\n",
       "1 2 3 4 5 6 7 8 \n",
       "5 4 1 7 2 3 1 2 "
      ]
     },
     "metadata": {},
     "output_type": "display_data"
    }
   ],
   "source": [
    "## 20 % trimm mean\n",
    "\n",
    "values<-c( rep(1,5),rep(2,4),3,rep(4,7),rep(5,2),rep(6,3),7,8,8 )\n",
    "values %>% table()"
   ]
  },
  {
   "cell_type": "code",
   "execution_count": 114,
   "id": "32737f88",
   "metadata": {},
   "outputs": [
    {
     "data": {
      "text/html": [
       "3.667"
      ],
      "text/latex": [
       "3.667"
      ],
      "text/markdown": [
       "3.667"
      ],
      "text/plain": [
       "[1] 3.667"
      ]
     },
     "metadata": {},
     "output_type": "display_data"
    }
   ],
   "source": [
    "mean(values,trim=0.1) %>% round(3)"
   ]
  },
  {
   "cell_type": "markdown",
   "id": "b6ade6fe",
   "metadata": {},
   "source": [
    "<h3 style=\"color:green;text-align:center\">Exercise 5</h3>"
   ]
  },
  {
   "cell_type": "markdown",
   "id": "6fea2405",
   "metadata": {},
   "source": [
    "+ Generate a random sample of size n from 1, 2, ..., 20 and determine\n",
    "  the empirical distribution function"
   ]
  },
  {
   "cell_type": "code",
   "execution_count": 159,
   "id": "77bbdab6",
   "metadata": {
    "scrolled": true
   },
   "outputs": [
    {
     "data": {
      "text/html": [
       "<style>\n",
       ".list-inline {list-style: none; margin:0; padding: 0}\n",
       ".list-inline>li {display: inline-block}\n",
       ".list-inline>li:not(:last-child)::after {content: \"\\00b7\"; padding: 0 .5ex}\n",
       "</style>\n",
       "<ol class=list-inline><li>18</li><li>4</li><li>9</li><li>15</li><li>7</li><li>10</li><li>13</li><li>19</li><li>8</li><li>5</li></ol>\n"
      ],
      "text/latex": [
       "\\begin{enumerate*}\n",
       "\\item 18\n",
       "\\item 4\n",
       "\\item 9\n",
       "\\item 15\n",
       "\\item 7\n",
       "\\item 10\n",
       "\\item 13\n",
       "\\item 19\n",
       "\\item 8\n",
       "\\item 5\n",
       "\\end{enumerate*}\n"
      ],
      "text/markdown": [
       "1. 18\n",
       "2. 4\n",
       "3. 9\n",
       "4. 15\n",
       "5. 7\n",
       "6. 10\n",
       "7. 13\n",
       "8. 19\n",
       "9. 8\n",
       "10. 5\n",
       "\n",
       "\n"
      ],
      "text/plain": [
       " [1] 18  4  9 15  7 10 13 19  8  5"
      ]
     },
     "metadata": {},
     "output_type": "display_data"
    }
   ],
   "source": [
    "smple<-sample(1:20,size=10,replace=T)\n",
    "smple"
   ]
  },
  {
   "cell_type": "code",
   "execution_count": 163,
   "id": "305e0ab1",
   "metadata": {
    "scrolled": true
   },
   "outputs": [
    {
     "data": {
      "text/html": [
       "<table class=\"dataframe\">\n",
       "<caption>A tibble: 10 × 3</caption>\n",
       "<thead>\n",
       "\t<tr><th scope=col>obs</th><th scope=col>n</th><th scope=col>cum.rel.freq</th></tr>\n",
       "\t<tr><th scope=col>&lt;int&gt;</th><th scope=col>&lt;int&gt;</th><th scope=col>&lt;dbl&gt;</th></tr>\n",
       "</thead>\n",
       "<tbody>\n",
       "\t<tr><td> 4</td><td>1</td><td>0.1</td></tr>\n",
       "\t<tr><td> 5</td><td>1</td><td>0.2</td></tr>\n",
       "\t<tr><td> 7</td><td>1</td><td>0.3</td></tr>\n",
       "\t<tr><td> 8</td><td>1</td><td>0.4</td></tr>\n",
       "\t<tr><td> 9</td><td>1</td><td>0.5</td></tr>\n",
       "\t<tr><td>10</td><td>1</td><td>0.6</td></tr>\n",
       "\t<tr><td>13</td><td>1</td><td>0.7</td></tr>\n",
       "\t<tr><td>15</td><td>1</td><td>0.8</td></tr>\n",
       "\t<tr><td>18</td><td>1</td><td>0.9</td></tr>\n",
       "\t<tr><td>19</td><td>1</td><td>1.0</td></tr>\n",
       "</tbody>\n",
       "</table>\n"
      ],
      "text/latex": [
       "A tibble: 10 × 3\n",
       "\\begin{tabular}{lll}\n",
       " obs & n & cum.rel.freq\\\\\n",
       " <int> & <int> & <dbl>\\\\\n",
       "\\hline\n",
       "\t  4 & 1 & 0.1\\\\\n",
       "\t  5 & 1 & 0.2\\\\\n",
       "\t  7 & 1 & 0.3\\\\\n",
       "\t  8 & 1 & 0.4\\\\\n",
       "\t  9 & 1 & 0.5\\\\\n",
       "\t 10 & 1 & 0.6\\\\\n",
       "\t 13 & 1 & 0.7\\\\\n",
       "\t 15 & 1 & 0.8\\\\\n",
       "\t 18 & 1 & 0.9\\\\\n",
       "\t 19 & 1 & 1.0\\\\\n",
       "\\end{tabular}\n"
      ],
      "text/markdown": [
       "\n",
       "A tibble: 10 × 3\n",
       "\n",
       "| obs &lt;int&gt; | n &lt;int&gt; | cum.rel.freq &lt;dbl&gt; |\n",
       "|---|---|---|\n",
       "|  4 | 1 | 0.1 |\n",
       "|  5 | 1 | 0.2 |\n",
       "|  7 | 1 | 0.3 |\n",
       "|  8 | 1 | 0.4 |\n",
       "|  9 | 1 | 0.5 |\n",
       "| 10 | 1 | 0.6 |\n",
       "| 13 | 1 | 0.7 |\n",
       "| 15 | 1 | 0.8 |\n",
       "| 18 | 1 | 0.9 |\n",
       "| 19 | 1 | 1.0 |\n",
       "\n"
      ],
      "text/plain": [
       "   obs n cum.rel.freq\n",
       "1   4  1 0.1         \n",
       "2   5  1 0.2         \n",
       "3   7  1 0.3         \n",
       "4   8  1 0.4         \n",
       "5   9  1 0.5         \n",
       "6  10  1 0.6         \n",
       "7  13  1 0.7         \n",
       "8  15  1 0.8         \n",
       "9  18  1 0.9         \n",
       "10 19  1 1.0         "
      ]
     },
     "metadata": {},
     "output_type": "display_data"
    }
   ],
   "source": [
    "tibble(obs=smple) %>% count(obs) %>% mutate(cum.rel.freq=cumsum(n)/sum(n))->emp.dist\n",
    "emp.dist"
   ]
  },
  {
   "cell_type": "markdown",
   "id": "8a9699bc",
   "metadata": {},
   "source": [
    "+ Determine a R function to find quantile according to the definition\n",
    "  given in the lecture."
   ]
  },
  {
   "cell_type": "code",
   "execution_count": 164,
   "id": "83568a8a",
   "metadata": {},
   "outputs": [],
   "source": [
    "my.quantile<-function(x,p){\n",
    "    \n",
    "    x_sort<-sort(x)\n",
    "    return(x_sort[ceiling(length(x)*p)])\n",
    "}"
   ]
  },
  {
   "cell_type": "code",
   "execution_count": 169,
   "id": "b35fa654",
   "metadata": {
    "scrolled": true
   },
   "outputs": [
    {
     "data": {
      "text/html": [
       "<style>\n",
       ".list-inline {list-style: none; margin:0; padding: 0}\n",
       ".list-inline>li {display: inline-block}\n",
       ".list-inline>li:not(:last-child)::after {content: \"\\00b7\"; padding: 0 .5ex}\n",
       "</style>\n",
       "<ol class=list-inline><li>7</li><li>9</li><li>15</li><li>19</li></ol>\n"
      ],
      "text/latex": [
       "\\begin{enumerate*}\n",
       "\\item 7\n",
       "\\item 9\n",
       "\\item 15\n",
       "\\item 19\n",
       "\\end{enumerate*}\n"
      ],
      "text/markdown": [
       "1. 7\n",
       "2. 9\n",
       "3. 15\n",
       "4. 19\n",
       "\n",
       "\n"
      ],
      "text/plain": [
       "[1]  7  9 15 19"
      ]
     },
     "metadata": {},
     "output_type": "display_data"
    }
   ],
   "source": [
    "my.quantile(smple,seq(0.25,1,by=0.25))"
   ]
  },
  {
   "cell_type": "code",
   "execution_count": 170,
   "id": "7800f082",
   "metadata": {},
   "outputs": [
    {
     "data": {
      "text/html": [
       "<style>\n",
       ".dl-inline {width: auto; margin:0; padding: 0}\n",
       ".dl-inline>dt, .dl-inline>dd {float: none; width: auto; display: inline-block}\n",
       ".dl-inline>dt::after {content: \":\\0020\"; padding-right: .5ex}\n",
       ".dl-inline>dt:not(:first-of-type) {padding-left: .5ex}\n",
       "</style><dl class=dl-inline><dt>25%</dt><dd>7.25</dd><dt>50%</dt><dd>9.5</dd><dt>75%</dt><dd>14.5</dd><dt>100%</dt><dd>19</dd></dl>\n"
      ],
      "text/latex": [
       "\\begin{description*}\n",
       "\\item[25\\textbackslash{}\\%] 7.25\n",
       "\\item[50\\textbackslash{}\\%] 9.5\n",
       "\\item[75\\textbackslash{}\\%] 14.5\n",
       "\\item[100\\textbackslash{}\\%] 19\n",
       "\\end{description*}\n"
      ],
      "text/markdown": [
       "25%\n",
       ":   7.2550%\n",
       ":   9.575%\n",
       ":   14.5100%\n",
       ":   19\n",
       "\n"
      ],
      "text/plain": [
       "  25%   50%   75%  100% \n",
       " 7.25  9.50 14.50 19.00 "
      ]
     },
     "metadata": {},
     "output_type": "display_data"
    }
   ],
   "source": [
    "quantile(smple,p=c(seq(0.25,1,by=0.25)),type=7)"
   ]
  },
  {
   "cell_type": "markdown",
   "id": "e8a30ac7",
   "metadata": {},
   "source": [
    "<h3 style=\"color:green;text-align:center\">Exercise 6</h3>"
   ]
  },
  {
   "cell_type": "markdown",
   "id": "517ab160",
   "metadata": {},
   "source": [
    "An experiment compared the ability of three groups of participants to\n",
    "remember briefly-presented chess positions. The data are shown below.\n",
    "The numbers represent the number of pieces correctly remembered from\n",
    "three chess positions.\n",
    "Compare the performance for each group by computing mean, median,\n",
    "min, max, quartiles, interquartile range, variance. Create side-by-side\n",
    "box plots for these three groups. What can you say about the differ\u0002ences between these groups from the box plots?"
   ]
  },
  {
   "cell_type": "code",
   "execution_count": 116,
   "id": "0e5e59c9",
   "metadata": {
    "scrolled": true
   },
   "outputs": [
    {
     "data": {
      "text/html": [
       "<table class=\"dataframe\">\n",
       "<caption>A tibble: 30 × 2</caption>\n",
       "<thead>\n",
       "\t<tr><th scope=col>type</th><th scope=col>res</th></tr>\n",
       "\t<tr><th scope=col>&lt;chr&gt;</th><th scope=col>&lt;dbl&gt;</th></tr>\n",
       "</thead>\n",
       "<tbody>\n",
       "\t<tr><td>non-player</td><td>22.1</td></tr>\n",
       "\t<tr><td>non-player</td><td>22.3</td></tr>\n",
       "\t<tr><td>non-player</td><td>26.2</td></tr>\n",
       "\t<tr><td>non-player</td><td>29.6</td></tr>\n",
       "\t<tr><td>non-player</td><td>31.7</td></tr>\n",
       "\t<tr><td>non-player</td><td>33.5</td></tr>\n",
       "\t<tr><td>non-player</td><td>38.9</td></tr>\n",
       "\t<tr><td>non-player</td><td>39.7</td></tr>\n",
       "\t<tr><td>non-player</td><td>43.2</td></tr>\n",
       "\t<tr><td>non-player</td><td>43.2</td></tr>\n",
       "\t<tr><td>beginner  </td><td>32.5</td></tr>\n",
       "\t<tr><td>beginner  </td><td>37.1</td></tr>\n",
       "\t<tr><td>beginner  </td><td>39.1</td></tr>\n",
       "\t<tr><td>beginner  </td><td>40.5</td></tr>\n",
       "\t<tr><td>beginner  </td><td>45.5</td></tr>\n",
       "\t<tr><td>beginner  </td><td>51.3</td></tr>\n",
       "\t<tr><td>beginner  </td><td>52.6</td></tr>\n",
       "\t<tr><td>beginner  </td><td>55.7</td></tr>\n",
       "\t<tr><td>beginner  </td><td>55.9</td></tr>\n",
       "\t<tr><td>beginner  </td><td>57.7</td></tr>\n",
       "\t<tr><td>tournament</td><td>40.1</td></tr>\n",
       "\t<tr><td>tournament</td><td>45.6</td></tr>\n",
       "\t<tr><td>tournament</td><td>51.2</td></tr>\n",
       "\t<tr><td>tournament</td><td>56.4</td></tr>\n",
       "\t<tr><td>tournament</td><td>58.1</td></tr>\n",
       "\t<tr><td>tournament</td><td>71.1</td></tr>\n",
       "\t<tr><td>tournament</td><td>74.9</td></tr>\n",
       "\t<tr><td>tournament</td><td>75.9</td></tr>\n",
       "\t<tr><td>tournament</td><td>80.3</td></tr>\n",
       "\t<tr><td>tournament</td><td>85.3</td></tr>\n",
       "</tbody>\n",
       "</table>\n"
      ],
      "text/latex": [
       "A tibble: 30 × 2\n",
       "\\begin{tabular}{ll}\n",
       " type & res\\\\\n",
       " <chr> & <dbl>\\\\\n",
       "\\hline\n",
       "\t non-player & 22.1\\\\\n",
       "\t non-player & 22.3\\\\\n",
       "\t non-player & 26.2\\\\\n",
       "\t non-player & 29.6\\\\\n",
       "\t non-player & 31.7\\\\\n",
       "\t non-player & 33.5\\\\\n",
       "\t non-player & 38.9\\\\\n",
       "\t non-player & 39.7\\\\\n",
       "\t non-player & 43.2\\\\\n",
       "\t non-player & 43.2\\\\\n",
       "\t beginner   & 32.5\\\\\n",
       "\t beginner   & 37.1\\\\\n",
       "\t beginner   & 39.1\\\\\n",
       "\t beginner   & 40.5\\\\\n",
       "\t beginner   & 45.5\\\\\n",
       "\t beginner   & 51.3\\\\\n",
       "\t beginner   & 52.6\\\\\n",
       "\t beginner   & 55.7\\\\\n",
       "\t beginner   & 55.9\\\\\n",
       "\t beginner   & 57.7\\\\\n",
       "\t tournament & 40.1\\\\\n",
       "\t tournament & 45.6\\\\\n",
       "\t tournament & 51.2\\\\\n",
       "\t tournament & 56.4\\\\\n",
       "\t tournament & 58.1\\\\\n",
       "\t tournament & 71.1\\\\\n",
       "\t tournament & 74.9\\\\\n",
       "\t tournament & 75.9\\\\\n",
       "\t tournament & 80.3\\\\\n",
       "\t tournament & 85.3\\\\\n",
       "\\end{tabular}\n"
      ],
      "text/markdown": [
       "\n",
       "A tibble: 30 × 2\n",
       "\n",
       "| type &lt;chr&gt; | res &lt;dbl&gt; |\n",
       "|---|---|\n",
       "| non-player | 22.1 |\n",
       "| non-player | 22.3 |\n",
       "| non-player | 26.2 |\n",
       "| non-player | 29.6 |\n",
       "| non-player | 31.7 |\n",
       "| non-player | 33.5 |\n",
       "| non-player | 38.9 |\n",
       "| non-player | 39.7 |\n",
       "| non-player | 43.2 |\n",
       "| non-player | 43.2 |\n",
       "| beginner   | 32.5 |\n",
       "| beginner   | 37.1 |\n",
       "| beginner   | 39.1 |\n",
       "| beginner   | 40.5 |\n",
       "| beginner   | 45.5 |\n",
       "| beginner   | 51.3 |\n",
       "| beginner   | 52.6 |\n",
       "| beginner   | 55.7 |\n",
       "| beginner   | 55.9 |\n",
       "| beginner   | 57.7 |\n",
       "| tournament | 40.1 |\n",
       "| tournament | 45.6 |\n",
       "| tournament | 51.2 |\n",
       "| tournament | 56.4 |\n",
       "| tournament | 58.1 |\n",
       "| tournament | 71.1 |\n",
       "| tournament | 74.9 |\n",
       "| tournament | 75.9 |\n",
       "| tournament | 80.3 |\n",
       "| tournament | 85.3 |\n",
       "\n"
      ],
      "text/plain": [
       "   type       res \n",
       "1  non-player 22.1\n",
       "2  non-player 22.3\n",
       "3  non-player 26.2\n",
       "4  non-player 29.6\n",
       "5  non-player 31.7\n",
       "6  non-player 33.5\n",
       "7  non-player 38.9\n",
       "8  non-player 39.7\n",
       "9  non-player 43.2\n",
       "10 non-player 43.2\n",
       "11 beginner   32.5\n",
       "12 beginner   37.1\n",
       "13 beginner   39.1\n",
       "14 beginner   40.5\n",
       "15 beginner   45.5\n",
       "16 beginner   51.3\n",
       "17 beginner   52.6\n",
       "18 beginner   55.7\n",
       "19 beginner   55.9\n",
       "20 beginner   57.7\n",
       "21 tournament 40.1\n",
       "22 tournament 45.6\n",
       "23 tournament 51.2\n",
       "24 tournament 56.4\n",
       "25 tournament 58.1\n",
       "26 tournament 71.1\n",
       "27 tournament 74.9\n",
       "28 tournament 75.9\n",
       "29 tournament 80.3\n",
       "30 tournament 85.3"
      ]
     },
     "metadata": {},
     "output_type": "display_data"
    }
   ],
   "source": [
    "\n",
    "data1 <- tibble(\n",
    "    type = c(rep(\"non-player\",10), rep(\"beginner\",10),rep(\"tournament\",10)),\n",
    "    res = c(22.1,22.3,26.2,29.6,31.7,33.5,38.9,39.7,43.2,43.2,\n",
    "            32.5,37.1,39.1,40.5,45.5,51.3,52.6,55.7,55.9,57.7,\n",
    "            40.1,45.6,51.2,56.4,58.1,71.1,74.9,75.9,80.3,85.3))\n",
    "data1"
   ]
  },
  {
   "cell_type": "code",
   "execution_count": 120,
   "id": "9e456106",
   "metadata": {
    "scrolled": true
   },
   "outputs": [
    {
     "data": {
      "text/html": [
       "<table class=\"dataframe\">\n",
       "<caption>A tibble: 3 × 9</caption>\n",
       "<thead>\n",
       "\t<tr><th scope=col>type</th><th scope=col>mean</th><th scope=col>median</th><th scope=col>max</th><th scope=col>min</th><th scope=col>q1</th><th scope=col>q2</th><th scope=col>q3</th><th scope=col>IQR</th></tr>\n",
       "\t<tr><th scope=col>&lt;chr&gt;</th><th scope=col>&lt;dbl&gt;</th><th scope=col>&lt;dbl&gt;</th><th scope=col>&lt;dbl&gt;</th><th scope=col>&lt;dbl&gt;</th><th scope=col>&lt;dbl&gt;</th><th scope=col>&lt;dbl&gt;</th><th scope=col>&lt;dbl&gt;</th><th scope=col>&lt;dbl&gt;</th></tr>\n",
       "</thead>\n",
       "<tbody>\n",
       "\t<tr><td>beginner  </td><td>46.79</td><td>48.4</td><td>57.7</td><td>32.5</td><td>39.45</td><td>48.4</td><td>54.925</td><td>15.475</td></tr>\n",
       "\t<tr><td>non-player</td><td>33.04</td><td>32.6</td><td>43.2</td><td>22.1</td><td>27.05</td><td>32.6</td><td>39.500</td><td>12.450</td></tr>\n",
       "\t<tr><td>tournament</td><td>63.89</td><td>64.6</td><td>85.3</td><td>40.1</td><td>52.50</td><td>64.6</td><td>75.650</td><td>23.150</td></tr>\n",
       "</tbody>\n",
       "</table>\n"
      ],
      "text/latex": [
       "A tibble: 3 × 9\n",
       "\\begin{tabular}{lllllllll}\n",
       " type & mean & median & max & min & q1 & q2 & q3 & IQR\\\\\n",
       " <chr> & <dbl> & <dbl> & <dbl> & <dbl> & <dbl> & <dbl> & <dbl> & <dbl>\\\\\n",
       "\\hline\n",
       "\t beginner   & 46.79 & 48.4 & 57.7 & 32.5 & 39.45 & 48.4 & 54.925 & 15.475\\\\\n",
       "\t non-player & 33.04 & 32.6 & 43.2 & 22.1 & 27.05 & 32.6 & 39.500 & 12.450\\\\\n",
       "\t tournament & 63.89 & 64.6 & 85.3 & 40.1 & 52.50 & 64.6 & 75.650 & 23.150\\\\\n",
       "\\end{tabular}\n"
      ],
      "text/markdown": [
       "\n",
       "A tibble: 3 × 9\n",
       "\n",
       "| type &lt;chr&gt; | mean &lt;dbl&gt; | median &lt;dbl&gt; | max &lt;dbl&gt; | min &lt;dbl&gt; | q1 &lt;dbl&gt; | q2 &lt;dbl&gt; | q3 &lt;dbl&gt; | IQR &lt;dbl&gt; |\n",
       "|---|---|---|---|---|---|---|---|---|\n",
       "| beginner   | 46.79 | 48.4 | 57.7 | 32.5 | 39.45 | 48.4 | 54.925 | 15.475 |\n",
       "| non-player | 33.04 | 32.6 | 43.2 | 22.1 | 27.05 | 32.6 | 39.500 | 12.450 |\n",
       "| tournament | 63.89 | 64.6 | 85.3 | 40.1 | 52.50 | 64.6 | 75.650 | 23.150 |\n",
       "\n"
      ],
      "text/plain": [
       "  type       mean  median max  min  q1    q2   q3     IQR   \n",
       "1 beginner   46.79 48.4   57.7 32.5 39.45 48.4 54.925 15.475\n",
       "2 non-player 33.04 32.6   43.2 22.1 27.05 32.6 39.500 12.450\n",
       "3 tournament 63.89 64.6   85.3 40.1 52.50 64.6 75.650 23.150"
      ]
     },
     "metadata": {},
     "output_type": "display_data"
    }
   ],
   "source": [
    "data1 %>% group_by(type) %>% summarise(\n",
    "    \n",
    "        mean=mean(res),\n",
    "        median=median(res),\n",
    "        max=max(res),\n",
    "        min=min(res),\n",
    "        q1=quantile(res,p=0.25,type=7),\n",
    "        q2=quantile(res,p=0.5,type=7),\n",
    "        q3=quantile(res,p=0.75,type=7),\n",
    "        IQR=q3-q1\n",
    "\n",
    ") "
   ]
  },
  {
   "cell_type": "markdown",
   "id": "067e0f02",
   "metadata": {},
   "source": [
    "![](https://www.wellbeingatschool.org.nz/sites/default/files/W@S_boxplot-labels.png)"
   ]
  },
  {
   "cell_type": "code",
   "execution_count": 125,
   "id": "1b63a1aa",
   "metadata": {
    "scrolled": true
   },
   "outputs": [
    {
     "data": {
      "image/png": "[encoded data removed]",
      "text/plain": [
       "Plot with title “result group by type of players”"
      ]
     },
     "metadata": {
      "image/png": {
       "height": 420,
       "width": 420
      }
     },
     "output_type": "display_data"
    }
   ],
   "source": [
    "## boxplot\n",
    "data1 %>% boxplot(res~type,data=.,col=c(\"red\",\"blue\",\"purple\"),horizontal = T,xlab=\"results\",ylab=\"type of players\",\n",
    "                 main=\"result group by type of players\"\n",
    "                 )\n"
   ]
  },
  {
   "cell_type": "code",
   "execution_count": 126,
   "id": "c8b0faac",
   "metadata": {
    "scrolled": false
   },
   "outputs": [
    {
     "data": {
      "image/png": "[encoded data removed]",
      "text/plain": [
       "Plot with title “result group by type of players”"
      ]
     },
     "metadata": {
      "image/png": {
       "height": 420,
       "width": 420
      }
     },
     "output_type": "display_data"
    }
   ],
   "source": [
    "## another way\n",
    "\n",
    "boxplot(data1$res~data1$type,col=c(\"red\",\"blue\",\"purple\"),horizontal = T,xlab=\"results\",ylab=\"type of players\",\n",
    "                 main=\"result group by type of players\"\n",
    "                 )"
   ]
  },
  {
   "cell_type": "markdown",
   "id": "e8fcec20",
   "metadata": {},
   "source": [
    "![](https://www.statology.org/wp-content/uploads/2021/01/skew7.png)"
   ]
  },
  {
   "cell_type": "markdown",
   "id": "497a33dc",
   "metadata": {},
   "source": [
    "<img src=\"Screenshot from 2023-11-05 10-21-44.png\">"
   ]
  },
  {
   "cell_type": "markdown",
   "id": "1db4f08d",
   "metadata": {},
   "source": [
    "<h3 style=\"color:green;text-align:center\">Exercise 7</h3>"
   ]
  },
  {
   "cell_type": "markdown",
   "id": "3826eccd",
   "metadata": {},
   "source": [
    "Exercise 3.1 from Heumann, Schomaker: Introduction to Statistics and\n",
    "Data Analysis, page 63\n",
    "A hiking entusiast has a app for his smartphone which summarizes his\n",
    "hikes by using a GPS device. The distance hiked (in km) and maximum\n",
    "altitude (in m) for the last 10 hikes:\n",
    "+ Distance | 12.5 29.9 14.8 18.7 7.6 16.2 16.5 27.4 12.1 17.5\n",
    "+ Altitude | 342 1245 502 555 398 670 796 912 238 466"
   ]
  },
  {
   "cell_type": "code",
   "execution_count": 127,
   "id": "618c289b",
   "metadata": {},
   "outputs": [],
   "source": [
    "dis<-c(12.5 ,29.9, 14.8 ,18.7, 7.6, 16.2, 16.5, 27.4, 12.1, 17.5)\n",
    "alt<-c(342, 1245 ,502, 555, 398, 670, 796, 912, 238, 466)"
   ]
  },
  {
   "cell_type": "markdown",
   "id": "1e1b5a27",
   "metadata": {},
   "source": [
    "+ Calculate the arithmetic mean and median for both distance and\n",
    "  altitude."
   ]
  },
  {
   "cell_type": "code",
   "execution_count": 128,
   "id": "80a53d05",
   "metadata": {
    "scrolled": true
   },
   "outputs": [
    {
     "data": {
      "text/html": [
       "17.32"
      ],
      "text/latex": [
       "17.32"
      ],
      "text/markdown": [
       "17.32"
      ],
      "text/plain": [
       "[1] 17.32"
      ]
     },
     "metadata": {},
     "output_type": "display_data"
    }
   ],
   "source": [
    "mean(dis)"
   ]
  },
  {
   "cell_type": "code",
   "execution_count": 129,
   "id": "29b52ee8",
   "metadata": {},
   "outputs": [
    {
     "data": {
      "text/html": [
       "612.4"
      ],
      "text/latex": [
       "612.4"
      ],
      "text/markdown": [
       "612.4"
      ],
      "text/plain": [
       "[1] 612.4"
      ]
     },
     "metadata": {},
     "output_type": "display_data"
    }
   ],
   "source": [
    "mean(alt)"
   ]
  },
  {
   "cell_type": "code",
   "execution_count": 130,
   "id": "676ce5e2",
   "metadata": {
    "scrolled": true
   },
   "outputs": [
    {
     "data": {
      "text/html": [
       "16.35"
      ],
      "text/latex": [
       "16.35"
      ],
      "text/markdown": [
       "16.35"
      ],
      "text/plain": [
       "[1] 16.35"
      ]
     },
     "metadata": {},
     "output_type": "display_data"
    }
   ],
   "source": [
    "median(dis)"
   ]
  },
  {
   "cell_type": "code",
   "execution_count": 131,
   "id": "b5888130",
   "metadata": {},
   "outputs": [
    {
     "data": {
      "text/html": [
       "528.5"
      ],
      "text/latex": [
       "528.5"
      ],
      "text/markdown": [
       "528.5"
      ],
      "text/plain": [
       "[1] 528.5"
      ]
     },
     "metadata": {},
     "output_type": "display_data"
    }
   ],
   "source": [
    "median(alt)"
   ]
  },
  {
   "cell_type": "markdown",
   "id": "47178350",
   "metadata": {},
   "source": [
    "+ Calculate the interquartile range and standard deviation for both\n",
    "   variables. Compare the variability of both variables.\n"
   ]
  },
  {
   "cell_type": "code",
   "execution_count": 133,
   "id": "ed8e35ce",
   "metadata": {
    "scrolled": true
   },
   "outputs": [
    {
     "data": {
      "text/html": [
       "<strong>75%:</strong> 5.325"
      ],
      "text/latex": [
       "\\textbf{75\\textbackslash{}\\%:} 5.325"
      ],
      "text/markdown": [
       "**75%:** 5.325"
      ],
      "text/plain": [
       "  75% \n",
       "5.325 "
      ]
     },
     "metadata": {},
     "output_type": "display_data"
    }
   ],
   "source": [
    "q1_dis=quantile(dis,p=0.25,type=7)\n",
    "q3_dis=quantile(dis,p=0.75,type=7)\n",
    "IQR=q3_dis-q1_dis\n",
    "IQR"
   ]
  },
  {
   "cell_type": "code",
   "execution_count": 135,
   "id": "50703828",
   "metadata": {},
   "outputs": [
    {
     "data": {
      "text/html": [
       "<strong>75%:</strong> -396.6"
      ],
      "text/latex": [
       "\\textbf{75\\textbackslash{}\\%:} -396.6"
      ],
      "text/markdown": [
       "**75%:** -396.6"
      ],
      "text/plain": [
       "   75% \n",
       "-396.6 "
      ]
     },
     "metadata": {},
     "output_type": "display_data"
    }
   ],
   "source": [
    "q1_alt=quantile(alt,p=0.25,type=7)\n",
    "q3_alt=quantile(dis,p=0.75,type=7)\n",
    "IQR=q3_alt-q1_alt\n",
    "IQR"
   ]
  },
  {
   "cell_type": "code",
   "execution_count": 137,
   "id": "bc225ab4",
   "metadata": {
    "scrolled": true
   },
   "outputs": [
    {
     "data": {
      "image/png": "[encoded data removed]",
      "text/plain": [
       "plot without title"
      ]
     },
     "metadata": {
      "image/png": {
       "height": 420,
       "width": 420
      }
     },
     "output_type": "display_data"
    }
   ],
   "source": [
    "boxplot(dis,horizontal = T)"
   ]
  },
  {
   "cell_type": "code",
   "execution_count": 138,
   "id": "125dc1b3",
   "metadata": {
    "scrolled": true
   },
   "outputs": [
    {
     "data": {
      "image/png": "[encoded data removed]",
      "text/plain": [
       "plot without title"
      ]
     },
     "metadata": {
      "image/png": {
       "height": 420,
       "width": 420
      }
     },
     "output_type": "display_data"
    }
   ],
   "source": [
    "boxplot(alt,horizontal = T)"
   ]
  },
  {
   "cell_type": "markdown",
   "id": "1c0f407e",
   "metadata": {},
   "source": [
    "<h3 style=\"color:green;text-align:center\">Exercise 8</h3>"
   ]
  },
  {
   "cell_type": "markdown",
   "id": "e0658a75",
   "metadata": {},
   "source": [
    " The data set mpg of the ggplot package contains a subset of the fuel\n",
    "economy data that the EPA makes available on http://fueleconomy.gov.\n",
    "It contains only models which had a new release every year between\n",
    "1999 and 2008 - this was used as a proxy for the popularity of the car.\n"
   ]
  },
  {
   "cell_type": "markdown",
   "id": "b358500a",
   "metadata": {},
   "source": [
    "+ Inspect the description of the data set using the ?mpg() command.\n"
   ]
  },
  {
   "cell_type": "code",
   "execution_count": 140,
   "id": "9ff4c0c9",
   "metadata": {
    "scrolled": true
   },
   "outputs": [
    {
     "name": "stderr",
     "output_type": "stream",
     "text": [
      "Installing package into ‘/home/jrana/R/x86_64-pc-linux-gnu-library/4.2’\n",
      "(as ‘lib’ is unspecified)\n",
      "\n"
     ]
    }
   ],
   "source": [
    "install.packages(\"ggplot2\")\n",
    "library(\"ggplot2\")"
   ]
  },
  {
   "cell_type": "code",
   "execution_count": 145,
   "id": "e26c51ca",
   "metadata": {},
   "outputs": [
    {
     "data": {
      "text/html": [
       "<table class=\"dataframe\">\n",
       "<caption>A tibble: 234 × 2</caption>\n",
       "<thead>\n",
       "\t<tr><th scope=col>hwy</th><th scope=col>displ</th></tr>\n",
       "\t<tr><th scope=col>&lt;int&gt;</th><th scope=col>&lt;dbl&gt;</th></tr>\n",
       "</thead>\n",
       "<tbody>\n",
       "\t<tr><td>29</td><td>1.8</td></tr>\n",
       "\t<tr><td>29</td><td>1.8</td></tr>\n",
       "\t<tr><td>31</td><td>2.0</td></tr>\n",
       "\t<tr><td>30</td><td>2.0</td></tr>\n",
       "\t<tr><td>26</td><td>2.8</td></tr>\n",
       "\t<tr><td>26</td><td>2.8</td></tr>\n",
       "\t<tr><td>27</td><td>3.1</td></tr>\n",
       "\t<tr><td>26</td><td>1.8</td></tr>\n",
       "\t<tr><td>25</td><td>1.8</td></tr>\n",
       "\t<tr><td>28</td><td>2.0</td></tr>\n",
       "\t<tr><td>27</td><td>2.0</td></tr>\n",
       "\t<tr><td>25</td><td>2.8</td></tr>\n",
       "\t<tr><td>25</td><td>2.8</td></tr>\n",
       "\t<tr><td>25</td><td>3.1</td></tr>\n",
       "\t<tr><td>25</td><td>3.1</td></tr>\n",
       "\t<tr><td>24</td><td>2.8</td></tr>\n",
       "\t<tr><td>25</td><td>3.1</td></tr>\n",
       "\t<tr><td>23</td><td>4.2</td></tr>\n",
       "\t<tr><td>20</td><td>5.3</td></tr>\n",
       "\t<tr><td>15</td><td>5.3</td></tr>\n",
       "\t<tr><td>20</td><td>5.3</td></tr>\n",
       "\t<tr><td>17</td><td>5.7</td></tr>\n",
       "\t<tr><td>17</td><td>6.0</td></tr>\n",
       "\t<tr><td>26</td><td>5.7</td></tr>\n",
       "\t<tr><td>23</td><td>5.7</td></tr>\n",
       "\t<tr><td>26</td><td>6.2</td></tr>\n",
       "\t<tr><td>25</td><td>6.2</td></tr>\n",
       "\t<tr><td>24</td><td>7.0</td></tr>\n",
       "\t<tr><td>19</td><td>5.3</td></tr>\n",
       "\t<tr><td>14</td><td>5.3</td></tr>\n",
       "\t<tr><td>⋮</td><td>⋮</td></tr>\n",
       "\t<tr><td>19</td><td>3.4</td></tr>\n",
       "\t<tr><td>18</td><td>4.0</td></tr>\n",
       "\t<tr><td>20</td><td>4.0</td></tr>\n",
       "\t<tr><td>29</td><td>2.0</td></tr>\n",
       "\t<tr><td>26</td><td>2.0</td></tr>\n",
       "\t<tr><td>29</td><td>2.0</td></tr>\n",
       "\t<tr><td>29</td><td>2.0</td></tr>\n",
       "\t<tr><td>24</td><td>2.8</td></tr>\n",
       "\t<tr><td>44</td><td>1.9</td></tr>\n",
       "\t<tr><td>29</td><td>2.0</td></tr>\n",
       "\t<tr><td>26</td><td>2.0</td></tr>\n",
       "\t<tr><td>29</td><td>2.0</td></tr>\n",
       "\t<tr><td>29</td><td>2.0</td></tr>\n",
       "\t<tr><td>29</td><td>2.5</td></tr>\n",
       "\t<tr><td>29</td><td>2.5</td></tr>\n",
       "\t<tr><td>23</td><td>2.8</td></tr>\n",
       "\t<tr><td>24</td><td>2.8</td></tr>\n",
       "\t<tr><td>44</td><td>1.9</td></tr>\n",
       "\t<tr><td>41</td><td>1.9</td></tr>\n",
       "\t<tr><td>29</td><td>2.0</td></tr>\n",
       "\t<tr><td>26</td><td>2.0</td></tr>\n",
       "\t<tr><td>28</td><td>2.5</td></tr>\n",
       "\t<tr><td>29</td><td>2.5</td></tr>\n",
       "\t<tr><td>29</td><td>1.8</td></tr>\n",
       "\t<tr><td>29</td><td>1.8</td></tr>\n",
       "\t<tr><td>28</td><td>2.0</td></tr>\n",
       "\t<tr><td>29</td><td>2.0</td></tr>\n",
       "\t<tr><td>26</td><td>2.8</td></tr>\n",
       "\t<tr><td>26</td><td>2.8</td></tr>\n",
       "\t<tr><td>26</td><td>3.6</td></tr>\n",
       "</tbody>\n",
       "</table>\n"
      ],
      "text/latex": [
       "A tibble: 234 × 2\n",
       "\\begin{tabular}{ll}\n",
       " hwy & displ\\\\\n",
       " <int> & <dbl>\\\\\n",
       "\\hline\n",
       "\t 29 & 1.8\\\\\n",
       "\t 29 & 1.8\\\\\n",
       "\t 31 & 2.0\\\\\n",
       "\t 30 & 2.0\\\\\n",
       "\t 26 & 2.8\\\\\n",
       "\t 26 & 2.8\\\\\n",
       "\t 27 & 3.1\\\\\n",
       "\t 26 & 1.8\\\\\n",
       "\t 25 & 1.8\\\\\n",
       "\t 28 & 2.0\\\\\n",
       "\t 27 & 2.0\\\\\n",
       "\t 25 & 2.8\\\\\n",
       "\t 25 & 2.8\\\\\n",
       "\t 25 & 3.1\\\\\n",
       "\t 25 & 3.1\\\\\n",
       "\t 24 & 2.8\\\\\n",
       "\t 25 & 3.1\\\\\n",
       "\t 23 & 4.2\\\\\n",
       "\t 20 & 5.3\\\\\n",
       "\t 15 & 5.3\\\\\n",
       "\t 20 & 5.3\\\\\n",
       "\t 17 & 5.7\\\\\n",
       "\t 17 & 6.0\\\\\n",
       "\t 26 & 5.7\\\\\n",
       "\t 23 & 5.7\\\\\n",
       "\t 26 & 6.2\\\\\n",
       "\t 25 & 6.2\\\\\n",
       "\t 24 & 7.0\\\\\n",
       "\t 19 & 5.3\\\\\n",
       "\t 14 & 5.3\\\\\n",
       "\t ⋮ & ⋮\\\\\n",
       "\t 19 & 3.4\\\\\n",
       "\t 18 & 4.0\\\\\n",
       "\t 20 & 4.0\\\\\n",
       "\t 29 & 2.0\\\\\n",
       "\t 26 & 2.0\\\\\n",
       "\t 29 & 2.0\\\\\n",
       "\t 29 & 2.0\\\\\n",
       "\t 24 & 2.8\\\\\n",
       "\t 44 & 1.9\\\\\n",
       "\t 29 & 2.0\\\\\n",
       "\t 26 & 2.0\\\\\n",
       "\t 29 & 2.0\\\\\n",
       "\t 29 & 2.0\\\\\n",
       "\t 29 & 2.5\\\\\n",
       "\t 29 & 2.5\\\\\n",
       "\t 23 & 2.8\\\\\n",
       "\t 24 & 2.8\\\\\n",
       "\t 44 & 1.9\\\\\n",
       "\t 41 & 1.9\\\\\n",
       "\t 29 & 2.0\\\\\n",
       "\t 26 & 2.0\\\\\n",
       "\t 28 & 2.5\\\\\n",
       "\t 29 & 2.5\\\\\n",
       "\t 29 & 1.8\\\\\n",
       "\t 29 & 1.8\\\\\n",
       "\t 28 & 2.0\\\\\n",
       "\t 29 & 2.0\\\\\n",
       "\t 26 & 2.8\\\\\n",
       "\t 26 & 2.8\\\\\n",
       "\t 26 & 3.6\\\\\n",
       "\\end{tabular}\n"
      ],
      "text/markdown": [
       "\n",
       "A tibble: 234 × 2\n",
       "\n",
       "| hwy &lt;int&gt; | displ &lt;dbl&gt; |\n",
       "|---|---|\n",
       "| 29 | 1.8 |\n",
       "| 29 | 1.8 |\n",
       "| 31 | 2.0 |\n",
       "| 30 | 2.0 |\n",
       "| 26 | 2.8 |\n",
       "| 26 | 2.8 |\n",
       "| 27 | 3.1 |\n",
       "| 26 | 1.8 |\n",
       "| 25 | 1.8 |\n",
       "| 28 | 2.0 |\n",
       "| 27 | 2.0 |\n",
       "| 25 | 2.8 |\n",
       "| 25 | 2.8 |\n",
       "| 25 | 3.1 |\n",
       "| 25 | 3.1 |\n",
       "| 24 | 2.8 |\n",
       "| 25 | 3.1 |\n",
       "| 23 | 4.2 |\n",
       "| 20 | 5.3 |\n",
       "| 15 | 5.3 |\n",
       "| 20 | 5.3 |\n",
       "| 17 | 5.7 |\n",
       "| 17 | 6.0 |\n",
       "| 26 | 5.7 |\n",
       "| 23 | 5.7 |\n",
       "| 26 | 6.2 |\n",
       "| 25 | 6.2 |\n",
       "| 24 | 7.0 |\n",
       "| 19 | 5.3 |\n",
       "| 14 | 5.3 |\n",
       "| ⋮ | ⋮ |\n",
       "| 19 | 3.4 |\n",
       "| 18 | 4.0 |\n",
       "| 20 | 4.0 |\n",
       "| 29 | 2.0 |\n",
       "| 26 | 2.0 |\n",
       "| 29 | 2.0 |\n",
       "| 29 | 2.0 |\n",
       "| 24 | 2.8 |\n",
       "| 44 | 1.9 |\n",
       "| 29 | 2.0 |\n",
       "| 26 | 2.0 |\n",
       "| 29 | 2.0 |\n",
       "| 29 | 2.0 |\n",
       "| 29 | 2.5 |\n",
       "| 29 | 2.5 |\n",
       "| 23 | 2.8 |\n",
       "| 24 | 2.8 |\n",
       "| 44 | 1.9 |\n",
       "| 41 | 1.9 |\n",
       "| 29 | 2.0 |\n",
       "| 26 | 2.0 |\n",
       "| 28 | 2.5 |\n",
       "| 29 | 2.5 |\n",
       "| 29 | 1.8 |\n",
       "| 29 | 1.8 |\n",
       "| 28 | 2.0 |\n",
       "| 29 | 2.0 |\n",
       "| 26 | 2.8 |\n",
       "| 26 | 2.8 |\n",
       "| 26 | 3.6 |\n",
       "\n"
      ],
      "text/plain": [
       "    hwy displ\n",
       "1   29  1.8  \n",
       "2   29  1.8  \n",
       "3   31  2.0  \n",
       "4   30  2.0  \n",
       "5   26  2.8  \n",
       "6   26  2.8  \n",
       "7   27  3.1  \n",
       "8   26  1.8  \n",
       "9   25  1.8  \n",
       "10  28  2.0  \n",
       "11  27  2.0  \n",
       "12  25  2.8  \n",
       "13  25  2.8  \n",
       "14  25  3.1  \n",
       "15  25  3.1  \n",
       "16  24  2.8  \n",
       "17  25  3.1  \n",
       "18  23  4.2  \n",
       "19  20  5.3  \n",
       "20  15  5.3  \n",
       "21  20  5.3  \n",
       "22  17  5.7  \n",
       "23  17  6.0  \n",
       "24  26  5.7  \n",
       "25  23  5.7  \n",
       "26  26  6.2  \n",
       "27  25  6.2  \n",
       "28  24  7.0  \n",
       "29  19  5.3  \n",
       "30  14  5.3  \n",
       "⋮   ⋮   ⋮    \n",
       "205 19  3.4  \n",
       "206 18  4.0  \n",
       "207 20  4.0  \n",
       "208 29  2.0  \n",
       "209 26  2.0  \n",
       "210 29  2.0  \n",
       "211 29  2.0  \n",
       "212 24  2.8  \n",
       "213 44  1.9  \n",
       "214 29  2.0  \n",
       "215 26  2.0  \n",
       "216 29  2.0  \n",
       "217 29  2.0  \n",
       "218 29  2.5  \n",
       "219 29  2.5  \n",
       "220 23  2.8  \n",
       "221 24  2.8  \n",
       "222 44  1.9  \n",
       "223 41  1.9  \n",
       "224 29  2.0  \n",
       "225 26  2.0  \n",
       "226 28  2.5  \n",
       "227 29  2.5  \n",
       "228 29  1.8  \n",
       "229 29  1.8  \n",
       "230 28  2.0  \n",
       "231 29  2.0  \n",
       "232 26  2.8  \n",
       "233 26  2.8  \n",
       "234 26  3.6  "
      ]
     },
     "metadata": {},
     "output_type": "display_data"
    }
   ],
   "source": [
    "mpg %>% select(hwy,displ) ->df\n",
    "df"
   ]
  },
  {
   "cell_type": "markdown",
   "id": "27fefc17",
   "metadata": {},
   "source": [
    "+ Select only the variables displ (engine displacement) and hwy\n",
    "  (highway miles per gallon) from the data set. Group the val\u0002ues of the variable displ into the the groups “low” (1    displ <\n",
    "  3), “medium” (3 ≤ displ < 5) and “big” (5 ≤ displ < 8). Use the cut() command to do this. Add a column displ class which\n",
    "  denotes the belonging to one of the groups"
   ]
  },
  {
   "cell_type": "code",
   "execution_count": 150,
   "id": "63308baf",
   "metadata": {
    "scrolled": true
   },
   "outputs": [
    {
     "data": {
      "text/html": [
       "<style>\n",
       ".list-inline {list-style: none; margin:0; padding: 0}\n",
       ".list-inline>li {display: inline-block}\n",
       ".list-inline>li:not(:last-child)::after {content: \"\\00b7\"; padding: 0 .5ex}\n",
       "</style>\n",
       "<ol class=list-inline><li>low</li><li>low</li><li>low</li><li>low</li><li>low</li><li>low</li><li>medium</li><li>low</li><li>low</li><li>low</li><li>low</li><li>low</li><li>low</li><li>medium</li><li>medium</li><li>low</li><li>medium</li><li>medium</li><li>big</li><li>big</li><li>big</li><li>big</li><li>big</li><li>big</li><li>big</li><li>big</li><li>big</li><li>big</li><li>big</li><li>big</li><li>big</li><li>big</li><li>low</li><li>low</li><li>medium</li><li>medium</li><li>medium</li><li>low</li><li>low</li><li>medium</li><li>medium</li><li>medium</li><li>medium</li><li>medium</li><li>medium</li><li>medium</li><li>medium</li><li>medium</li><li>medium</li><li>medium</li><li>medium</li><li>medium</li><li>medium</li><li>medium</li><li>medium</li><li>big</li><li>big</li><li>medium</li><li>medium</li><li>medium</li><li>medium</li><li>big</li><li>big</li><li>big</li><li>medium</li><li>medium</li><li>medium</li><li>medium</li><li>medium</li><li>medium</li><li>big</li><li>big</li><li>big</li><li>big</li><li>medium</li><li>big</li><li>big</li><li>medium</li><li>medium</li><li>medium</li><li>medium</li><li>medium</li><li>medium</li><li>medium</li><li>medium</li><li>medium</li><li>medium</li><li>medium</li><li>big</li><li>big</li><li>medium</li><li>medium</li><li>medium</li><li>medium</li><li>medium</li><li>medium</li><li>medium</li><li>medium</li><li>big</li><li>low</li><li>low</li><li>low</li><li>low</li><li>low</li><li>low</li><li>low</li><li>low</li><li>low</li><li>low</li><li>low</li><li>low</li><li>low</li><li>low</li><li>low</li><li>medium</li><li>low</li><li>low</li><li>low</li><li>low</li><li>low</li><li>low</li><li>low</li><li>low</li><li>medium</li><li>medium</li><li>medium</li><li>medium</li><li>medium</li><li>big</li><li>big</li><li>medium</li><li>medium</li><li>medium</li><li>medium</li><li>big</li><li>big</li><li>big</li><li>medium</li><li>medium</li><li>medium</li><li>medium</li><li>low</li><li>low</li><li>low</li><li>low</li><li>medium</li><li>medium</li><li>low</li><li>low</li><li>medium</li><li>medium</li><li>medium</li><li>medium</li><li>big</li><li>medium</li><li>medium</li><li>medium</li><li>medium</li><li>big</li><li>low</li><li>low</li><li>low</li><li>low</li><li>low</li><li>low</li><li>low</li><li>low</li><li>low</li><li>low</li><li>low</li><li>low</li><li>low</li><li>low</li><li>low</li><li>low</li><li>medium</li><li>medium</li><li>medium</li><li>medium</li><li>low</li><li>low</li><li>low</li><li>low</li><li>low</li><li>low</li><li>medium</li><li>low</li><li>low</li><li>low</li><li>low</li><li>low</li><li>low</li><li>medium</li><li>low</li><li>low</li><li>low</li><li>low</li><li>low</li><li>medium</li><li>big</li><li>low</li><li>low</li><li>low</li><li>medium</li><li>medium</li><li>medium</li><li>medium</li><li>low</li><li>low</li><li>low</li><li>low</li><li>low</li><li>low</li><li>low</li><li>low</li><li>low</li><li>low</li><li>low</li><li>low</li><li>low</li><li>low</li><li>low</li><li>low</li><li>low</li><li>low</li><li>low</li><li>low</li><li>low</li><li>low</li><li>low</li><li>low</li><li>low</li><li>low</li><li>medium</li></ol>\n",
       "\n",
       "<details>\n",
       "\t<summary style=display:list-item;cursor:pointer>\n",
       "\t\t<strong>Levels</strong>:\n",
       "\t</summary>\n",
       "\t<style>\n",
       "\t.list-inline {list-style: none; margin:0; padding: 0}\n",
       "\t.list-inline>li {display: inline-block}\n",
       "\t.list-inline>li:not(:last-child)::after {content: \"\\00b7\"; padding: 0 .5ex}\n",
       "\t</style>\n",
       "\t<ol class=list-inline><li>'low'</li><li>'medium'</li><li>'big'</li></ol>\n",
       "</details>"
      ],
      "text/latex": [
       "\\begin{enumerate*}\n",
       "\\item low\n",
       "\\item low\n",
       "\\item low\n",
       "\\item low\n",
       "\\item low\n",
       "\\item low\n",
       "\\item medium\n",
       "\\item low\n",
       "\\item low\n",
       "\\item low\n",
       "\\item low\n",
       "\\item low\n",
       "\\item low\n",
       "\\item medium\n",
       "\\item medium\n",
       "\\item low\n",
       "\\item medium\n",
       "\\item medium\n",
       "\\item big\n",
       "\\item big\n",
       "\\item big\n",
       "\\item big\n",
       "\\item big\n",
       "\\item big\n",
       "\\item big\n",
       "\\item big\n",
       "\\item big\n",
       "\\item big\n",
       "\\item big\n",
       "\\item big\n",
       "\\item big\n",
       "\\item big\n",
       "\\item low\n",
       "\\item low\n",
       "\\item medium\n",
       "\\item medium\n",
       "\\item medium\n",
       "\\item low\n",
       "\\item low\n",
       "\\item medium\n",
       "\\item medium\n",
       "\\item medium\n",
       "\\item medium\n",
       "\\item medium\n",
       "\\item medium\n",
       "\\item medium\n",
       "\\item medium\n",
       "\\item medium\n",
       "\\item medium\n",
       "\\item medium\n",
       "\\item medium\n",
       "\\item medium\n",
       "\\item medium\n",
       "\\item medium\n",
       "\\item medium\n",
       "\\item big\n",
       "\\item big\n",
       "\\item medium\n",
       "\\item medium\n",
       "\\item medium\n",
       "\\item medium\n",
       "\\item big\n",
       "\\item big\n",
       "\\item big\n",
       "\\item medium\n",
       "\\item medium\n",
       "\\item medium\n",
       "\\item medium\n",
       "\\item medium\n",
       "\\item medium\n",
       "\\item big\n",
       "\\item big\n",
       "\\item big\n",
       "\\item big\n",
       "\\item medium\n",
       "\\item big\n",
       "\\item big\n",
       "\\item medium\n",
       "\\item medium\n",
       "\\item medium\n",
       "\\item medium\n",
       "\\item medium\n",
       "\\item medium\n",
       "\\item medium\n",
       "\\item medium\n",
       "\\item medium\n",
       "\\item medium\n",
       "\\item medium\n",
       "\\item big\n",
       "\\item big\n",
       "\\item medium\n",
       "\\item medium\n",
       "\\item medium\n",
       "\\item medium\n",
       "\\item medium\n",
       "\\item medium\n",
       "\\item medium\n",
       "\\item medium\n",
       "\\item big\n",
       "\\item low\n",
       "\\item low\n",
       "\\item low\n",
       "\\item low\n",
       "\\item low\n",
       "\\item low\n",
       "\\item low\n",
       "\\item low\n",
       "\\item low\n",
       "\\item low\n",
       "\\item low\n",
       "\\item low\n",
       "\\item low\n",
       "\\item low\n",
       "\\item low\n",
       "\\item medium\n",
       "\\item low\n",
       "\\item low\n",
       "\\item low\n",
       "\\item low\n",
       "\\item low\n",
       "\\item low\n",
       "\\item low\n",
       "\\item low\n",
       "\\item medium\n",
       "\\item medium\n",
       "\\item medium\n",
       "\\item medium\n",
       "\\item medium\n",
       "\\item big\n",
       "\\item big\n",
       "\\item medium\n",
       "\\item medium\n",
       "\\item medium\n",
       "\\item medium\n",
       "\\item big\n",
       "\\item big\n",
       "\\item big\n",
       "\\item medium\n",
       "\\item medium\n",
       "\\item medium\n",
       "\\item medium\n",
       "\\item low\n",
       "\\item low\n",
       "\\item low\n",
       "\\item low\n",
       "\\item medium\n",
       "\\item medium\n",
       "\\item low\n",
       "\\item low\n",
       "\\item medium\n",
       "\\item medium\n",
       "\\item medium\n",
       "\\item medium\n",
       "\\item big\n",
       "\\item medium\n",
       "\\item medium\n",
       "\\item medium\n",
       "\\item medium\n",
       "\\item big\n",
       "\\item low\n",
       "\\item low\n",
       "\\item low\n",
       "\\item low\n",
       "\\item low\n",
       "\\item low\n",
       "\\item low\n",
       "\\item low\n",
       "\\item low\n",
       "\\item low\n",
       "\\item low\n",
       "\\item low\n",
       "\\item low\n",
       "\\item low\n",
       "\\item low\n",
       "\\item low\n",
       "\\item medium\n",
       "\\item medium\n",
       "\\item medium\n",
       "\\item medium\n",
       "\\item low\n",
       "\\item low\n",
       "\\item low\n",
       "\\item low\n",
       "\\item low\n",
       "\\item low\n",
       "\\item medium\n",
       "\\item low\n",
       "\\item low\n",
       "\\item low\n",
       "\\item low\n",
       "\\item low\n",
       "\\item low\n",
       "\\item medium\n",
       "\\item low\n",
       "\\item low\n",
       "\\item low\n",
       "\\item low\n",
       "\\item low\n",
       "\\item medium\n",
       "\\item big\n",
       "\\item low\n",
       "\\item low\n",
       "\\item low\n",
       "\\item medium\n",
       "\\item medium\n",
       "\\item medium\n",
       "\\item medium\n",
       "\\item low\n",
       "\\item low\n",
       "\\item low\n",
       "\\item low\n",
       "\\item low\n",
       "\\item low\n",
       "\\item low\n",
       "\\item low\n",
       "\\item low\n",
       "\\item low\n",
       "\\item low\n",
       "\\item low\n",
       "\\item low\n",
       "\\item low\n",
       "\\item low\n",
       "\\item low\n",
       "\\item low\n",
       "\\item low\n",
       "\\item low\n",
       "\\item low\n",
       "\\item low\n",
       "\\item low\n",
       "\\item low\n",
       "\\item low\n",
       "\\item low\n",
       "\\item low\n",
       "\\item medium\n",
       "\\end{enumerate*}\n",
       "\n",
       "\\emph{Levels}: \\begin{enumerate*}\n",
       "\\item 'low'\n",
       "\\item 'medium'\n",
       "\\item 'big'\n",
       "\\end{enumerate*}\n"
      ],
      "text/markdown": [
       "1. low\n",
       "2. low\n",
       "3. low\n",
       "4. low\n",
       "5. low\n",
       "6. low\n",
       "7. medium\n",
       "8. low\n",
       "9. low\n",
       "10. low\n",
       "11. low\n",
       "12. low\n",
       "13. low\n",
       "14. medium\n",
       "15. medium\n",
       "16. low\n",
       "17. medium\n",
       "18. medium\n",
       "19. big\n",
       "20. big\n",
       "21. big\n",
       "22. big\n",
       "23. big\n",
       "24. big\n",
       "25. big\n",
       "26. big\n",
       "27. big\n",
       "28. big\n",
       "29. big\n",
       "30. big\n",
       "31. big\n",
       "32. big\n",
       "33. low\n",
       "34. low\n",
       "35. medium\n",
       "36. medium\n",
       "37. medium\n",
       "38. low\n",
       "39. low\n",
       "40. medium\n",
       "41. medium\n",
       "42. medium\n",
       "43. medium\n",
       "44. medium\n",
       "45. medium\n",
       "46. medium\n",
       "47. medium\n",
       "48. medium\n",
       "49. medium\n",
       "50. medium\n",
       "51. medium\n",
       "52. medium\n",
       "53. medium\n",
       "54. medium\n",
       "55. medium\n",
       "56. big\n",
       "57. big\n",
       "58. medium\n",
       "59. medium\n",
       "60. medium\n",
       "61. medium\n",
       "62. big\n",
       "63. big\n",
       "64. big\n",
       "65. medium\n",
       "66. medium\n",
       "67. medium\n",
       "68. medium\n",
       "69. medium\n",
       "70. medium\n",
       "71. big\n",
       "72. big\n",
       "73. big\n",
       "74. big\n",
       "75. medium\n",
       "76. big\n",
       "77. big\n",
       "78. medium\n",
       "79. medium\n",
       "80. medium\n",
       "81. medium\n",
       "82. medium\n",
       "83. medium\n",
       "84. medium\n",
       "85. medium\n",
       "86. medium\n",
       "87. medium\n",
       "88. medium\n",
       "89. big\n",
       "90. big\n",
       "91. medium\n",
       "92. medium\n",
       "93. medium\n",
       "94. medium\n",
       "95. medium\n",
       "96. medium\n",
       "97. medium\n",
       "98. medium\n",
       "99. big\n",
       "100. low\n",
       "101. low\n",
       "102. low\n",
       "103. low\n",
       "104. low\n",
       "105. low\n",
       "106. low\n",
       "107. low\n",
       "108. low\n",
       "109. low\n",
       "110. low\n",
       "111. low\n",
       "112. low\n",
       "113. low\n",
       "114. low\n",
       "115. medium\n",
       "116. low\n",
       "117. low\n",
       "118. low\n",
       "119. low\n",
       "120. low\n",
       "121. low\n",
       "122. low\n",
       "123. low\n",
       "124. medium\n",
       "125. medium\n",
       "126. medium\n",
       "127. medium\n",
       "128. medium\n",
       "129. big\n",
       "130. big\n",
       "131. medium\n",
       "132. medium\n",
       "133. medium\n",
       "134. medium\n",
       "135. big\n",
       "136. big\n",
       "137. big\n",
       "138. medium\n",
       "139. medium\n",
       "140. medium\n",
       "141. medium\n",
       "142. low\n",
       "143. low\n",
       "144. low\n",
       "145. low\n",
       "146. medium\n",
       "147. medium\n",
       "148. low\n",
       "149. low\n",
       "150. medium\n",
       "151. medium\n",
       "152. medium\n",
       "153. medium\n",
       "154. big\n",
       "155. medium\n",
       "156. medium\n",
       "157. medium\n",
       "158. medium\n",
       "159. big\n",
       "160. low\n",
       "161. low\n",
       "162. low\n",
       "163. low\n",
       "164. low\n",
       "165. low\n",
       "166. low\n",
       "167. low\n",
       "168. low\n",
       "169. low\n",
       "170. low\n",
       "171. low\n",
       "172. low\n",
       "173. low\n",
       "174. low\n",
       "175. low\n",
       "176. medium\n",
       "177. medium\n",
       "178. medium\n",
       "179. medium\n",
       "180. low\n",
       "181. low\n",
       "182. low\n",
       "183. low\n",
       "184. low\n",
       "185. low\n",
       "186. medium\n",
       "187. low\n",
       "188. low\n",
       "189. low\n",
       "190. low\n",
       "191. low\n",
       "192. low\n",
       "193. medium\n",
       "194. low\n",
       "195. low\n",
       "196. low\n",
       "197. low\n",
       "198. low\n",
       "199. medium\n",
       "200. big\n",
       "201. low\n",
       "202. low\n",
       "203. low\n",
       "204. medium\n",
       "205. medium\n",
       "206. medium\n",
       "207. medium\n",
       "208. low\n",
       "209. low\n",
       "210. low\n",
       "211. low\n",
       "212. low\n",
       "213. low\n",
       "214. low\n",
       "215. low\n",
       "216. low\n",
       "217. low\n",
       "218. low\n",
       "219. low\n",
       "220. low\n",
       "221. low\n",
       "222. low\n",
       "223. low\n",
       "224. low\n",
       "225. low\n",
       "226. low\n",
       "227. low\n",
       "228. low\n",
       "229. low\n",
       "230. low\n",
       "231. low\n",
       "232. low\n",
       "233. low\n",
       "234. medium\n",
       "\n",
       "\n",
       "\n",
       "**Levels**: 1. 'low'\n",
       "2. 'medium'\n",
       "3. 'big'\n",
       "\n",
       "\n"
      ],
      "text/plain": [
       "  [1] low    low    low    low    low    low    medium low    low    low   \n",
       " [11] low    low    low    medium medium low    medium medium big    big   \n",
       " [21] big    big    big    big    big    big    big    big    big    big   \n",
       " [31] big    big    low    low    medium medium medium low    low    medium\n",
       " [41] medium medium medium medium medium medium medium medium medium medium\n",
       " [51] medium medium medium medium medium big    big    medium medium medium\n",
       " [61] medium big    big    big    medium medium medium medium medium medium\n",
       " [71] big    big    big    big    medium big    big    medium medium medium\n",
       " [81] medium medium medium medium medium medium medium medium big    big   \n",
       " [91] medium medium medium medium medium medium medium medium big    low   \n",
       "[101] low    low    low    low    low    low    low    low    low    low   \n",
       "[111] low    low    low    low    medium low    low    low    low    low   \n",
       "[121] low    low    low    medium medium medium medium medium big    big   \n",
       "[131] medium medium medium medium big    big    big    medium medium medium\n",
       "[141] medium low    low    low    low    medium medium low    low    medium\n",
       "[151] medium medium medium big    medium medium medium medium big    low   \n",
       "[161] low    low    low    low    low    low    low    low    low    low   \n",
       "[171] low    low    low    low    low    medium medium medium medium low   \n",
       "[181] low    low    low    low    low    medium low    low    low    low   \n",
       "[191] low    low    medium low    low    low    low    low    medium big   \n",
       "[201] low    low    low    medium medium medium medium low    low    low   \n",
       "[211] low    low    low    low    low    low    low    low    low    low   \n",
       "[221] low    low    low    low    low    low    low    low    low    low   \n",
       "[231] low    low    low    medium\n",
       "Levels: low medium big"
      ]
     },
     "metadata": {},
     "output_type": "display_data"
    }
   ],
   "source": [
    "bounds<-c(1,3,5,8)\n",
    "\n",
    "displ_class<-cut(df$displ,breaks=bounds,labels=c(\"low\",\"medium\",\"big\"))\n",
    "displ_class"
   ]
  },
  {
   "cell_type": "code",
   "execution_count": 154,
   "id": "70677b71",
   "metadata": {},
   "outputs": [
    {
     "data": {
      "text/html": [
       "<table class=\"dataframe\">\n",
       "<caption>A tibble: 234 × 3</caption>\n",
       "<thead>\n",
       "\t<tr><th scope=col>hwy</th><th scope=col>displ</th><th scope=col>displ_class</th></tr>\n",
       "\t<tr><th scope=col>&lt;int&gt;</th><th scope=col>&lt;dbl&gt;</th><th scope=col>&lt;fct&gt;</th></tr>\n",
       "</thead>\n",
       "<tbody>\n",
       "\t<tr><td>29</td><td>1.8</td><td>low   </td></tr>\n",
       "\t<tr><td>29</td><td>1.8</td><td>low   </td></tr>\n",
       "\t<tr><td>31</td><td>2.0</td><td>low   </td></tr>\n",
       "\t<tr><td>30</td><td>2.0</td><td>low   </td></tr>\n",
       "\t<tr><td>26</td><td>2.8</td><td>low   </td></tr>\n",
       "\t<tr><td>26</td><td>2.8</td><td>low   </td></tr>\n",
       "\t<tr><td>27</td><td>3.1</td><td>medium</td></tr>\n",
       "\t<tr><td>26</td><td>1.8</td><td>low   </td></tr>\n",
       "\t<tr><td>25</td><td>1.8</td><td>low   </td></tr>\n",
       "\t<tr><td>28</td><td>2.0</td><td>low   </td></tr>\n",
       "\t<tr><td>27</td><td>2.0</td><td>low   </td></tr>\n",
       "\t<tr><td>25</td><td>2.8</td><td>low   </td></tr>\n",
       "\t<tr><td>25</td><td>2.8</td><td>low   </td></tr>\n",
       "\t<tr><td>25</td><td>3.1</td><td>medium</td></tr>\n",
       "\t<tr><td>25</td><td>3.1</td><td>medium</td></tr>\n",
       "\t<tr><td>24</td><td>2.8</td><td>low   </td></tr>\n",
       "\t<tr><td>25</td><td>3.1</td><td>medium</td></tr>\n",
       "\t<tr><td>23</td><td>4.2</td><td>medium</td></tr>\n",
       "\t<tr><td>20</td><td>5.3</td><td>big   </td></tr>\n",
       "\t<tr><td>15</td><td>5.3</td><td>big   </td></tr>\n",
       "\t<tr><td>20</td><td>5.3</td><td>big   </td></tr>\n",
       "\t<tr><td>17</td><td>5.7</td><td>big   </td></tr>\n",
       "\t<tr><td>17</td><td>6.0</td><td>big   </td></tr>\n",
       "\t<tr><td>26</td><td>5.7</td><td>big   </td></tr>\n",
       "\t<tr><td>23</td><td>5.7</td><td>big   </td></tr>\n",
       "\t<tr><td>26</td><td>6.2</td><td>big   </td></tr>\n",
       "\t<tr><td>25</td><td>6.2</td><td>big   </td></tr>\n",
       "\t<tr><td>24</td><td>7.0</td><td>big   </td></tr>\n",
       "\t<tr><td>19</td><td>5.3</td><td>big   </td></tr>\n",
       "\t<tr><td>14</td><td>5.3</td><td>big   </td></tr>\n",
       "\t<tr><td>⋮</td><td>⋮</td><td>⋮</td></tr>\n",
       "\t<tr><td>19</td><td>3.4</td><td>medium</td></tr>\n",
       "\t<tr><td>18</td><td>4.0</td><td>medium</td></tr>\n",
       "\t<tr><td>20</td><td>4.0</td><td>medium</td></tr>\n",
       "\t<tr><td>29</td><td>2.0</td><td>low   </td></tr>\n",
       "\t<tr><td>26</td><td>2.0</td><td>low   </td></tr>\n",
       "\t<tr><td>29</td><td>2.0</td><td>low   </td></tr>\n",
       "\t<tr><td>29</td><td>2.0</td><td>low   </td></tr>\n",
       "\t<tr><td>24</td><td>2.8</td><td>low   </td></tr>\n",
       "\t<tr><td>44</td><td>1.9</td><td>low   </td></tr>\n",
       "\t<tr><td>29</td><td>2.0</td><td>low   </td></tr>\n",
       "\t<tr><td>26</td><td>2.0</td><td>low   </td></tr>\n",
       "\t<tr><td>29</td><td>2.0</td><td>low   </td></tr>\n",
       "\t<tr><td>29</td><td>2.0</td><td>low   </td></tr>\n",
       "\t<tr><td>29</td><td>2.5</td><td>low   </td></tr>\n",
       "\t<tr><td>29</td><td>2.5</td><td>low   </td></tr>\n",
       "\t<tr><td>23</td><td>2.8</td><td>low   </td></tr>\n",
       "\t<tr><td>24</td><td>2.8</td><td>low   </td></tr>\n",
       "\t<tr><td>44</td><td>1.9</td><td>low   </td></tr>\n",
       "\t<tr><td>41</td><td>1.9</td><td>low   </td></tr>\n",
       "\t<tr><td>29</td><td>2.0</td><td>low   </td></tr>\n",
       "\t<tr><td>26</td><td>2.0</td><td>low   </td></tr>\n",
       "\t<tr><td>28</td><td>2.5</td><td>low   </td></tr>\n",
       "\t<tr><td>29</td><td>2.5</td><td>low   </td></tr>\n",
       "\t<tr><td>29</td><td>1.8</td><td>low   </td></tr>\n",
       "\t<tr><td>29</td><td>1.8</td><td>low   </td></tr>\n",
       "\t<tr><td>28</td><td>2.0</td><td>low   </td></tr>\n",
       "\t<tr><td>29</td><td>2.0</td><td>low   </td></tr>\n",
       "\t<tr><td>26</td><td>2.8</td><td>low   </td></tr>\n",
       "\t<tr><td>26</td><td>2.8</td><td>low   </td></tr>\n",
       "\t<tr><td>26</td><td>3.6</td><td>medium</td></tr>\n",
       "</tbody>\n",
       "</table>\n"
      ],
      "text/latex": [
       "A tibble: 234 × 3\n",
       "\\begin{tabular}{lll}\n",
       " hwy & displ & displ\\_class\\\\\n",
       " <int> & <dbl> & <fct>\\\\\n",
       "\\hline\n",
       "\t 29 & 1.8 & low   \\\\\n",
       "\t 29 & 1.8 & low   \\\\\n",
       "\t 31 & 2.0 & low   \\\\\n",
       "\t 30 & 2.0 & low   \\\\\n",
       "\t 26 & 2.8 & low   \\\\\n",
       "\t 26 & 2.8 & low   \\\\\n",
       "\t 27 & 3.1 & medium\\\\\n",
       "\t 26 & 1.8 & low   \\\\\n",
       "\t 25 & 1.8 & low   \\\\\n",
       "\t 28 & 2.0 & low   \\\\\n",
       "\t 27 & 2.0 & low   \\\\\n",
       "\t 25 & 2.8 & low   \\\\\n",
       "\t 25 & 2.8 & low   \\\\\n",
       "\t 25 & 3.1 & medium\\\\\n",
       "\t 25 & 3.1 & medium\\\\\n",
       "\t 24 & 2.8 & low   \\\\\n",
       "\t 25 & 3.1 & medium\\\\\n",
       "\t 23 & 4.2 & medium\\\\\n",
       "\t 20 & 5.3 & big   \\\\\n",
       "\t 15 & 5.3 & big   \\\\\n",
       "\t 20 & 5.3 & big   \\\\\n",
       "\t 17 & 5.7 & big   \\\\\n",
       "\t 17 & 6.0 & big   \\\\\n",
       "\t 26 & 5.7 & big   \\\\\n",
       "\t 23 & 5.7 & big   \\\\\n",
       "\t 26 & 6.2 & big   \\\\\n",
       "\t 25 & 6.2 & big   \\\\\n",
       "\t 24 & 7.0 & big   \\\\\n",
       "\t 19 & 5.3 & big   \\\\\n",
       "\t 14 & 5.3 & big   \\\\\n",
       "\t ⋮ & ⋮ & ⋮\\\\\n",
       "\t 19 & 3.4 & medium\\\\\n",
       "\t 18 & 4.0 & medium\\\\\n",
       "\t 20 & 4.0 & medium\\\\\n",
       "\t 29 & 2.0 & low   \\\\\n",
       "\t 26 & 2.0 & low   \\\\\n",
       "\t 29 & 2.0 & low   \\\\\n",
       "\t 29 & 2.0 & low   \\\\\n",
       "\t 24 & 2.8 & low   \\\\\n",
       "\t 44 & 1.9 & low   \\\\\n",
       "\t 29 & 2.0 & low   \\\\\n",
       "\t 26 & 2.0 & low   \\\\\n",
       "\t 29 & 2.0 & low   \\\\\n",
       "\t 29 & 2.0 & low   \\\\\n",
       "\t 29 & 2.5 & low   \\\\\n",
       "\t 29 & 2.5 & low   \\\\\n",
       "\t 23 & 2.8 & low   \\\\\n",
       "\t 24 & 2.8 & low   \\\\\n",
       "\t 44 & 1.9 & low   \\\\\n",
       "\t 41 & 1.9 & low   \\\\\n",
       "\t 29 & 2.0 & low   \\\\\n",
       "\t 26 & 2.0 & low   \\\\\n",
       "\t 28 & 2.5 & low   \\\\\n",
       "\t 29 & 2.5 & low   \\\\\n",
       "\t 29 & 1.8 & low   \\\\\n",
       "\t 29 & 1.8 & low   \\\\\n",
       "\t 28 & 2.0 & low   \\\\\n",
       "\t 29 & 2.0 & low   \\\\\n",
       "\t 26 & 2.8 & low   \\\\\n",
       "\t 26 & 2.8 & low   \\\\\n",
       "\t 26 & 3.6 & medium\\\\\n",
       "\\end{tabular}\n"
      ],
      "text/markdown": [
       "\n",
       "A tibble: 234 × 3\n",
       "\n",
       "| hwy &lt;int&gt; | displ &lt;dbl&gt; | displ_class &lt;fct&gt; |\n",
       "|---|---|---|\n",
       "| 29 | 1.8 | low    |\n",
       "| 29 | 1.8 | low    |\n",
       "| 31 | 2.0 | low    |\n",
       "| 30 | 2.0 | low    |\n",
       "| 26 | 2.8 | low    |\n",
       "| 26 | 2.8 | low    |\n",
       "| 27 | 3.1 | medium |\n",
       "| 26 | 1.8 | low    |\n",
       "| 25 | 1.8 | low    |\n",
       "| 28 | 2.0 | low    |\n",
       "| 27 | 2.0 | low    |\n",
       "| 25 | 2.8 | low    |\n",
       "| 25 | 2.8 | low    |\n",
       "| 25 | 3.1 | medium |\n",
       "| 25 | 3.1 | medium |\n",
       "| 24 | 2.8 | low    |\n",
       "| 25 | 3.1 | medium |\n",
       "| 23 | 4.2 | medium |\n",
       "| 20 | 5.3 | big    |\n",
       "| 15 | 5.3 | big    |\n",
       "| 20 | 5.3 | big    |\n",
       "| 17 | 5.7 | big    |\n",
       "| 17 | 6.0 | big    |\n",
       "| 26 | 5.7 | big    |\n",
       "| 23 | 5.7 | big    |\n",
       "| 26 | 6.2 | big    |\n",
       "| 25 | 6.2 | big    |\n",
       "| 24 | 7.0 | big    |\n",
       "| 19 | 5.3 | big    |\n",
       "| 14 | 5.3 | big    |\n",
       "| ⋮ | ⋮ | ⋮ |\n",
       "| 19 | 3.4 | medium |\n",
       "| 18 | 4.0 | medium |\n",
       "| 20 | 4.0 | medium |\n",
       "| 29 | 2.0 | low    |\n",
       "| 26 | 2.0 | low    |\n",
       "| 29 | 2.0 | low    |\n",
       "| 29 | 2.0 | low    |\n",
       "| 24 | 2.8 | low    |\n",
       "| 44 | 1.9 | low    |\n",
       "| 29 | 2.0 | low    |\n",
       "| 26 | 2.0 | low    |\n",
       "| 29 | 2.0 | low    |\n",
       "| 29 | 2.0 | low    |\n",
       "| 29 | 2.5 | low    |\n",
       "| 29 | 2.5 | low    |\n",
       "| 23 | 2.8 | low    |\n",
       "| 24 | 2.8 | low    |\n",
       "| 44 | 1.9 | low    |\n",
       "| 41 | 1.9 | low    |\n",
       "| 29 | 2.0 | low    |\n",
       "| 26 | 2.0 | low    |\n",
       "| 28 | 2.5 | low    |\n",
       "| 29 | 2.5 | low    |\n",
       "| 29 | 1.8 | low    |\n",
       "| 29 | 1.8 | low    |\n",
       "| 28 | 2.0 | low    |\n",
       "| 29 | 2.0 | low    |\n",
       "| 26 | 2.8 | low    |\n",
       "| 26 | 2.8 | low    |\n",
       "| 26 | 3.6 | medium |\n",
       "\n"
      ],
      "text/plain": [
       "    hwy displ displ_class\n",
       "1   29  1.8   low        \n",
       "2   29  1.8   low        \n",
       "3   31  2.0   low        \n",
       "4   30  2.0   low        \n",
       "5   26  2.8   low        \n",
       "6   26  2.8   low        \n",
       "7   27  3.1   medium     \n",
       "8   26  1.8   low        \n",
       "9   25  1.8   low        \n",
       "10  28  2.0   low        \n",
       "11  27  2.0   low        \n",
       "12  25  2.8   low        \n",
       "13  25  2.8   low        \n",
       "14  25  3.1   medium     \n",
       "15  25  3.1   medium     \n",
       "16  24  2.8   low        \n",
       "17  25  3.1   medium     \n",
       "18  23  4.2   medium     \n",
       "19  20  5.3   big        \n",
       "20  15  5.3   big        \n",
       "21  20  5.3   big        \n",
       "22  17  5.7   big        \n",
       "23  17  6.0   big        \n",
       "24  26  5.7   big        \n",
       "25  23  5.7   big        \n",
       "26  26  6.2   big        \n",
       "27  25  6.2   big        \n",
       "28  24  7.0   big        \n",
       "29  19  5.3   big        \n",
       "30  14  5.3   big        \n",
       "⋮   ⋮   ⋮     ⋮          \n",
       "205 19  3.4   medium     \n",
       "206 18  4.0   medium     \n",
       "207 20  4.0   medium     \n",
       "208 29  2.0   low        \n",
       "209 26  2.0   low        \n",
       "210 29  2.0   low        \n",
       "211 29  2.0   low        \n",
       "212 24  2.8   low        \n",
       "213 44  1.9   low        \n",
       "214 29  2.0   low        \n",
       "215 26  2.0   low        \n",
       "216 29  2.0   low        \n",
       "217 29  2.0   low        \n",
       "218 29  2.5   low        \n",
       "219 29  2.5   low        \n",
       "220 23  2.8   low        \n",
       "221 24  2.8   low        \n",
       "222 44  1.9   low        \n",
       "223 41  1.9   low        \n",
       "224 29  2.0   low        \n",
       "225 26  2.0   low        \n",
       "226 28  2.5   low        \n",
       "227 29  2.5   low        \n",
       "228 29  1.8   low        \n",
       "229 29  1.8   low        \n",
       "230 28  2.0   low        \n",
       "231 29  2.0   low        \n",
       "232 26  2.8   low        \n",
       "233 26  2.8   low        \n",
       "234 26  3.6   medium     "
      ]
     },
     "metadata": {},
     "output_type": "display_data"
    }
   ],
   "source": [
    "df %>% mutate(displ_class=displ_class) ->df\n",
    "df"
   ]
  },
  {
   "cell_type": "markdown",
   "id": "6ac148eb",
   "metadata": {},
   "source": [
    "+ Calculate the mean, minimum, maximum and the three quartile of\n",
    "  the variable hwy depending on the values of displ and depending\n",
    "   on displ class.\n"
   ]
  },
  {
   "cell_type": "code",
   "execution_count": 155,
   "id": "6e4cdbc7",
   "metadata": {
    "scrolled": true
   },
   "outputs": [
    {
     "data": {
      "text/html": [
       "<table class=\"dataframe\">\n",
       "<caption>A tibble: 35 × 9</caption>\n",
       "<thead>\n",
       "\t<tr><th scope=col>displ</th><th scope=col>mean</th><th scope=col>median</th><th scope=col>max</th><th scope=col>min</th><th scope=col>q1</th><th scope=col>q2</th><th scope=col>q3</th><th scope=col>IQR</th></tr>\n",
       "\t<tr><th scope=col>&lt;dbl&gt;</th><th scope=col>&lt;dbl&gt;</th><th scope=col>&lt;dbl&gt;</th><th scope=col>&lt;int&gt;</th><th scope=col>&lt;int&gt;</th><th scope=col>&lt;dbl&gt;</th><th scope=col>&lt;dbl&gt;</th><th scope=col>&lt;dbl&gt;</th><th scope=col>&lt;dbl&gt;</th></tr>\n",
       "</thead>\n",
       "<tbody>\n",
       "\t<tr><td>1.6</td><td>31.60000</td><td>32.0</td><td>33</td><td>29</td><td>32.00</td><td>32.0</td><td>32.00</td><td>0.00</td></tr>\n",
       "\t<tr><td>1.8</td><td>31.64286</td><td>31.5</td><td>37</td><td>25</td><td>29.00</td><td>31.5</td><td>35.00</td><td>6.00</td></tr>\n",
       "\t<tr><td>1.9</td><td>43.00000</td><td>44.0</td><td>44</td><td>41</td><td>42.50</td><td>44.0</td><td>44.00</td><td>1.50</td></tr>\n",
       "\t<tr><td>2.0</td><td>28.23810</td><td>29.0</td><td>31</td><td>26</td><td>27.00</td><td>29.0</td><td>29.00</td><td>2.00</td></tr>\n",
       "\t<tr><td>2.2</td><td>27.33333</td><td>27.0</td><td>29</td><td>26</td><td>26.25</td><td>27.0</td><td>28.50</td><td>2.25</td></tr>\n",
       "\t<tr><td>2.4</td><td>28.84615</td><td>30.0</td><td>31</td><td>24</td><td>27.00</td><td>30.0</td><td>31.00</td><td>4.00</td></tr>\n",
       "\t<tr><td>2.5</td><td>26.80000</td><td>26.0</td><td>32</td><td>23</td><td>25.00</td><td>26.0</td><td>28.25</td><td>3.25</td></tr>\n",
       "\t<tr><td>2.7</td><td>21.75000</td><td>21.0</td><td>24</td><td>20</td><td>20.00</td><td>21.0</td><td>24.00</td><td>4.00</td></tr>\n",
       "\t<tr><td>2.8</td><td>24.90000</td><td>25.0</td><td>26</td><td>23</td><td>24.00</td><td>25.0</td><td>26.00</td><td>2.00</td></tr>\n",
       "\t<tr><td>3.0</td><td>25.12500</td><td>26.0</td><td>26</td><td>22</td><td>24.75</td><td>26.0</td><td>26.00</td><td>1.25</td></tr>\n",
       "\t<tr><td>3.1</td><td>25.66667</td><td>25.5</td><td>27</td><td>25</td><td>25.00</td><td>25.5</td><td>26.00</td><td>1.00</td></tr>\n",
       "\t<tr><td>3.3</td><td>22.00000</td><td>22.0</td><td>28</td><td>17</td><td>17.00</td><td>22.0</td><td>24.00</td><td>7.00</td></tr>\n",
       "\t<tr><td>3.4</td><td>18.00000</td><td>18.0</td><td>19</td><td>17</td><td>17.00</td><td>18.0</td><td>19.00</td><td>2.00</td></tr>\n",
       "\t<tr><td>3.5</td><td>27.00000</td><td>27.0</td><td>29</td><td>25</td><td>26.00</td><td>27.0</td><td>28.00</td><td>2.00</td></tr>\n",
       "\t<tr><td>3.6</td><td>26.00000</td><td>26.0</td><td>26</td><td>26</td><td>26.00</td><td>26.0</td><td>26.00</td><td>0.00</td></tr>\n",
       "\t<tr><td>3.7</td><td>18.66667</td><td>19.0</td><td>19</td><td>18</td><td>18.50</td><td>19.0</td><td>19.00</td><td>0.50</td></tr>\n",
       "\t<tr><td>3.8</td><td>24.75000</td><td>25.5</td><td>28</td><td>21</td><td>22.75</td><td>25.5</td><td>26.25</td><td>3.50</td></tr>\n",
       "\t<tr><td>3.9</td><td>17.00000</td><td>17.0</td><td>17</td><td>17</td><td>17.00</td><td>17.0</td><td>17.00</td><td>0.00</td></tr>\n",
       "\t<tr><td>4.0</td><td>19.60000</td><td>19.0</td><td>26</td><td>15</td><td>17.50</td><td>19.0</td><td>20.00</td><td>2.50</td></tr>\n",
       "\t<tr><td>4.2</td><td>18.75000</td><td>17.5</td><td>23</td><td>17</td><td>17.00</td><td>17.5</td><td>19.25</td><td>2.25</td></tr>\n",
       "\t<tr><td>4.4</td><td>18.00000</td><td>18.0</td><td>18</td><td>18</td><td>18.00</td><td>18.0</td><td>18.00</td><td>0.00</td></tr>\n",
       "\t<tr><td>4.6</td><td>18.81818</td><td>19.0</td><td>23</td><td>15</td><td>16.50</td><td>19.0</td><td>21.50</td><td>5.00</td></tr>\n",
       "\t<tr><td>4.7</td><td>15.64706</td><td>17.0</td><td>19</td><td>12</td><td>12.00</td><td>17.0</td><td>17.00</td><td>5.00</td></tr>\n",
       "\t<tr><td>5.0</td><td>17.00000</td><td>17.0</td><td>17</td><td>17</td><td>17.00</td><td>17.0</td><td>17.00</td><td>0.00</td></tr>\n",
       "\t<tr><td>5.2</td><td>15.80000</td><td>16.0</td><td>17</td><td>15</td><td>15.00</td><td>16.0</td><td>16.00</td><td>1.00</td></tr>\n",
       "\t<tr><td>5.3</td><td>18.83333</td><td>19.5</td><td>25</td><td>14</td><td>16.00</td><td>19.5</td><td>20.00</td><td>4.00</td></tr>\n",
       "\t<tr><td>5.4</td><td>17.25000</td><td>17.0</td><td>20</td><td>15</td><td>16.75</td><td>17.0</td><td>18.00</td><td>1.25</td></tr>\n",
       "\t<tr><td>5.6</td><td>18.00000</td><td>18.0</td><td>18</td><td>18</td><td>18.00</td><td>18.0</td><td>18.00</td><td>0.00</td></tr>\n",
       "\t<tr><td>5.7</td><td>19.00000</td><td>18.0</td><td>26</td><td>15</td><td>17.00</td><td>18.0</td><td>19.25</td><td>2.25</td></tr>\n",
       "\t<tr><td>5.9</td><td>15.00000</td><td>15.0</td><td>15</td><td>15</td><td>15.00</td><td>15.0</td><td>15.00</td><td>0.00</td></tr>\n",
       "\t<tr><td>6.0</td><td>17.00000</td><td>17.0</td><td>17</td><td>17</td><td>17.00</td><td>17.0</td><td>17.00</td><td>0.00</td></tr>\n",
       "\t<tr><td>6.1</td><td>14.00000</td><td>14.0</td><td>14</td><td>14</td><td>14.00</td><td>14.0</td><td>14.00</td><td>0.00</td></tr>\n",
       "\t<tr><td>6.2</td><td>25.50000</td><td>25.5</td><td>26</td><td>25</td><td>25.25</td><td>25.5</td><td>25.75</td><td>0.50</td></tr>\n",
       "\t<tr><td>6.5</td><td>17.00000</td><td>17.0</td><td>17</td><td>17</td><td>17.00</td><td>17.0</td><td>17.00</td><td>0.00</td></tr>\n",
       "\t<tr><td>7.0</td><td>24.00000</td><td>24.0</td><td>24</td><td>24</td><td>24.00</td><td>24.0</td><td>24.00</td><td>0.00</td></tr>\n",
       "</tbody>\n",
       "</table>\n"
      ],
      "text/latex": [
       "A tibble: 35 × 9\n",
       "\\begin{tabular}{lllllllll}\n",
       " displ & mean & median & max & min & q1 & q2 & q3 & IQR\\\\\n",
       " <dbl> & <dbl> & <dbl> & <int> & <int> & <dbl> & <dbl> & <dbl> & <dbl>\\\\\n",
       "\\hline\n",
       "\t 1.6 & 31.60000 & 32.0 & 33 & 29 & 32.00 & 32.0 & 32.00 & 0.00\\\\\n",
       "\t 1.8 & 31.64286 & 31.5 & 37 & 25 & 29.00 & 31.5 & 35.00 & 6.00\\\\\n",
       "\t 1.9 & 43.00000 & 44.0 & 44 & 41 & 42.50 & 44.0 & 44.00 & 1.50\\\\\n",
       "\t 2.0 & 28.23810 & 29.0 & 31 & 26 & 27.00 & 29.0 & 29.00 & 2.00\\\\\n",
       "\t 2.2 & 27.33333 & 27.0 & 29 & 26 & 26.25 & 27.0 & 28.50 & 2.25\\\\\n",
       "\t 2.4 & 28.84615 & 30.0 & 31 & 24 & 27.00 & 30.0 & 31.00 & 4.00\\\\\n",
       "\t 2.5 & 26.80000 & 26.0 & 32 & 23 & 25.00 & 26.0 & 28.25 & 3.25\\\\\n",
       "\t 2.7 & 21.75000 & 21.0 & 24 & 20 & 20.00 & 21.0 & 24.00 & 4.00\\\\\n",
       "\t 2.8 & 24.90000 & 25.0 & 26 & 23 & 24.00 & 25.0 & 26.00 & 2.00\\\\\n",
       "\t 3.0 & 25.12500 & 26.0 & 26 & 22 & 24.75 & 26.0 & 26.00 & 1.25\\\\\n",
       "\t 3.1 & 25.66667 & 25.5 & 27 & 25 & 25.00 & 25.5 & 26.00 & 1.00\\\\\n",
       "\t 3.3 & 22.00000 & 22.0 & 28 & 17 & 17.00 & 22.0 & 24.00 & 7.00\\\\\n",
       "\t 3.4 & 18.00000 & 18.0 & 19 & 17 & 17.00 & 18.0 & 19.00 & 2.00\\\\\n",
       "\t 3.5 & 27.00000 & 27.0 & 29 & 25 & 26.00 & 27.0 & 28.00 & 2.00\\\\\n",
       "\t 3.6 & 26.00000 & 26.0 & 26 & 26 & 26.00 & 26.0 & 26.00 & 0.00\\\\\n",
       "\t 3.7 & 18.66667 & 19.0 & 19 & 18 & 18.50 & 19.0 & 19.00 & 0.50\\\\\n",
       "\t 3.8 & 24.75000 & 25.5 & 28 & 21 & 22.75 & 25.5 & 26.25 & 3.50\\\\\n",
       "\t 3.9 & 17.00000 & 17.0 & 17 & 17 & 17.00 & 17.0 & 17.00 & 0.00\\\\\n",
       "\t 4.0 & 19.60000 & 19.0 & 26 & 15 & 17.50 & 19.0 & 20.00 & 2.50\\\\\n",
       "\t 4.2 & 18.75000 & 17.5 & 23 & 17 & 17.00 & 17.5 & 19.25 & 2.25\\\\\n",
       "\t 4.4 & 18.00000 & 18.0 & 18 & 18 & 18.00 & 18.0 & 18.00 & 0.00\\\\\n",
       "\t 4.6 & 18.81818 & 19.0 & 23 & 15 & 16.50 & 19.0 & 21.50 & 5.00\\\\\n",
       "\t 4.7 & 15.64706 & 17.0 & 19 & 12 & 12.00 & 17.0 & 17.00 & 5.00\\\\\n",
       "\t 5.0 & 17.00000 & 17.0 & 17 & 17 & 17.00 & 17.0 & 17.00 & 0.00\\\\\n",
       "\t 5.2 & 15.80000 & 16.0 & 17 & 15 & 15.00 & 16.0 & 16.00 & 1.00\\\\\n",
       "\t 5.3 & 18.83333 & 19.5 & 25 & 14 & 16.00 & 19.5 & 20.00 & 4.00\\\\\n",
       "\t 5.4 & 17.25000 & 17.0 & 20 & 15 & 16.75 & 17.0 & 18.00 & 1.25\\\\\n",
       "\t 5.6 & 18.00000 & 18.0 & 18 & 18 & 18.00 & 18.0 & 18.00 & 0.00\\\\\n",
       "\t 5.7 & 19.00000 & 18.0 & 26 & 15 & 17.00 & 18.0 & 19.25 & 2.25\\\\\n",
       "\t 5.9 & 15.00000 & 15.0 & 15 & 15 & 15.00 & 15.0 & 15.00 & 0.00\\\\\n",
       "\t 6.0 & 17.00000 & 17.0 & 17 & 17 & 17.00 & 17.0 & 17.00 & 0.00\\\\\n",
       "\t 6.1 & 14.00000 & 14.0 & 14 & 14 & 14.00 & 14.0 & 14.00 & 0.00\\\\\n",
       "\t 6.2 & 25.50000 & 25.5 & 26 & 25 & 25.25 & 25.5 & 25.75 & 0.50\\\\\n",
       "\t 6.5 & 17.00000 & 17.0 & 17 & 17 & 17.00 & 17.0 & 17.00 & 0.00\\\\\n",
       "\t 7.0 & 24.00000 & 24.0 & 24 & 24 & 24.00 & 24.0 & 24.00 & 0.00\\\\\n",
       "\\end{tabular}\n"
      ],
      "text/markdown": [
       "\n",
       "A tibble: 35 × 9\n",
       "\n",
       "| displ &lt;dbl&gt; | mean &lt;dbl&gt; | median &lt;dbl&gt; | max &lt;int&gt; | min &lt;int&gt; | q1 &lt;dbl&gt; | q2 &lt;dbl&gt; | q3 &lt;dbl&gt; | IQR &lt;dbl&gt; |\n",
       "|---|---|---|---|---|---|---|---|---|\n",
       "| 1.6 | 31.60000 | 32.0 | 33 | 29 | 32.00 | 32.0 | 32.00 | 0.00 |\n",
       "| 1.8 | 31.64286 | 31.5 | 37 | 25 | 29.00 | 31.5 | 35.00 | 6.00 |\n",
       "| 1.9 | 43.00000 | 44.0 | 44 | 41 | 42.50 | 44.0 | 44.00 | 1.50 |\n",
       "| 2.0 | 28.23810 | 29.0 | 31 | 26 | 27.00 | 29.0 | 29.00 | 2.00 |\n",
       "| 2.2 | 27.33333 | 27.0 | 29 | 26 | 26.25 | 27.0 | 28.50 | 2.25 |\n",
       "| 2.4 | 28.84615 | 30.0 | 31 | 24 | 27.00 | 30.0 | 31.00 | 4.00 |\n",
       "| 2.5 | 26.80000 | 26.0 | 32 | 23 | 25.00 | 26.0 | 28.25 | 3.25 |\n",
       "| 2.7 | 21.75000 | 21.0 | 24 | 20 | 20.00 | 21.0 | 24.00 | 4.00 |\n",
       "| 2.8 | 24.90000 | 25.0 | 26 | 23 | 24.00 | 25.0 | 26.00 | 2.00 |\n",
       "| 3.0 | 25.12500 | 26.0 | 26 | 22 | 24.75 | 26.0 | 26.00 | 1.25 |\n",
       "| 3.1 | 25.66667 | 25.5 | 27 | 25 | 25.00 | 25.5 | 26.00 | 1.00 |\n",
       "| 3.3 | 22.00000 | 22.0 | 28 | 17 | 17.00 | 22.0 | 24.00 | 7.00 |\n",
       "| 3.4 | 18.00000 | 18.0 | 19 | 17 | 17.00 | 18.0 | 19.00 | 2.00 |\n",
       "| 3.5 | 27.00000 | 27.0 | 29 | 25 | 26.00 | 27.0 | 28.00 | 2.00 |\n",
       "| 3.6 | 26.00000 | 26.0 | 26 | 26 | 26.00 | 26.0 | 26.00 | 0.00 |\n",
       "| 3.7 | 18.66667 | 19.0 | 19 | 18 | 18.50 | 19.0 | 19.00 | 0.50 |\n",
       "| 3.8 | 24.75000 | 25.5 | 28 | 21 | 22.75 | 25.5 | 26.25 | 3.50 |\n",
       "| 3.9 | 17.00000 | 17.0 | 17 | 17 | 17.00 | 17.0 | 17.00 | 0.00 |\n",
       "| 4.0 | 19.60000 | 19.0 | 26 | 15 | 17.50 | 19.0 | 20.00 | 2.50 |\n",
       "| 4.2 | 18.75000 | 17.5 | 23 | 17 | 17.00 | 17.5 | 19.25 | 2.25 |\n",
       "| 4.4 | 18.00000 | 18.0 | 18 | 18 | 18.00 | 18.0 | 18.00 | 0.00 |\n",
       "| 4.6 | 18.81818 | 19.0 | 23 | 15 | 16.50 | 19.0 | 21.50 | 5.00 |\n",
       "| 4.7 | 15.64706 | 17.0 | 19 | 12 | 12.00 | 17.0 | 17.00 | 5.00 |\n",
       "| 5.0 | 17.00000 | 17.0 | 17 | 17 | 17.00 | 17.0 | 17.00 | 0.00 |\n",
       "| 5.2 | 15.80000 | 16.0 | 17 | 15 | 15.00 | 16.0 | 16.00 | 1.00 |\n",
       "| 5.3 | 18.83333 | 19.5 | 25 | 14 | 16.00 | 19.5 | 20.00 | 4.00 |\n",
       "| 5.4 | 17.25000 | 17.0 | 20 | 15 | 16.75 | 17.0 | 18.00 | 1.25 |\n",
       "| 5.6 | 18.00000 | 18.0 | 18 | 18 | 18.00 | 18.0 | 18.00 | 0.00 |\n",
       "| 5.7 | 19.00000 | 18.0 | 26 | 15 | 17.00 | 18.0 | 19.25 | 2.25 |\n",
       "| 5.9 | 15.00000 | 15.0 | 15 | 15 | 15.00 | 15.0 | 15.00 | 0.00 |\n",
       "| 6.0 | 17.00000 | 17.0 | 17 | 17 | 17.00 | 17.0 | 17.00 | 0.00 |\n",
       "| 6.1 | 14.00000 | 14.0 | 14 | 14 | 14.00 | 14.0 | 14.00 | 0.00 |\n",
       "| 6.2 | 25.50000 | 25.5 | 26 | 25 | 25.25 | 25.5 | 25.75 | 0.50 |\n",
       "| 6.5 | 17.00000 | 17.0 | 17 | 17 | 17.00 | 17.0 | 17.00 | 0.00 |\n",
       "| 7.0 | 24.00000 | 24.0 | 24 | 24 | 24.00 | 24.0 | 24.00 | 0.00 |\n",
       "\n"
      ],
      "text/plain": [
       "   displ mean     median max min q1    q2   q3    IQR \n",
       "1  1.6   31.60000 32.0   33  29  32.00 32.0 32.00 0.00\n",
       "2  1.8   31.64286 31.5   37  25  29.00 31.5 35.00 6.00\n",
       "3  1.9   43.00000 44.0   44  41  42.50 44.0 44.00 1.50\n",
       "4  2.0   28.23810 29.0   31  26  27.00 29.0 29.00 2.00\n",
       "5  2.2   27.33333 27.0   29  26  26.25 27.0 28.50 2.25\n",
       "6  2.4   28.84615 30.0   31  24  27.00 30.0 31.00 4.00\n",
       "7  2.5   26.80000 26.0   32  23  25.00 26.0 28.25 3.25\n",
       "8  2.7   21.75000 21.0   24  20  20.00 21.0 24.00 4.00\n",
       "9  2.8   24.90000 25.0   26  23  24.00 25.0 26.00 2.00\n",
       "10 3.0   25.12500 26.0   26  22  24.75 26.0 26.00 1.25\n",
       "11 3.1   25.66667 25.5   27  25  25.00 25.5 26.00 1.00\n",
       "12 3.3   22.00000 22.0   28  17  17.00 22.0 24.00 7.00\n",
       "13 3.4   18.00000 18.0   19  17  17.00 18.0 19.00 2.00\n",
       "14 3.5   27.00000 27.0   29  25  26.00 27.0 28.00 2.00\n",
       "15 3.6   26.00000 26.0   26  26  26.00 26.0 26.00 0.00\n",
       "16 3.7   18.66667 19.0   19  18  18.50 19.0 19.00 0.50\n",
       "17 3.8   24.75000 25.5   28  21  22.75 25.5 26.25 3.50\n",
       "18 3.9   17.00000 17.0   17  17  17.00 17.0 17.00 0.00\n",
       "19 4.0   19.60000 19.0   26  15  17.50 19.0 20.00 2.50\n",
       "20 4.2   18.75000 17.5   23  17  17.00 17.5 19.25 2.25\n",
       "21 4.4   18.00000 18.0   18  18  18.00 18.0 18.00 0.00\n",
       "22 4.6   18.81818 19.0   23  15  16.50 19.0 21.50 5.00\n",
       "23 4.7   15.64706 17.0   19  12  12.00 17.0 17.00 5.00\n",
       "24 5.0   17.00000 17.0   17  17  17.00 17.0 17.00 0.00\n",
       "25 5.2   15.80000 16.0   17  15  15.00 16.0 16.00 1.00\n",
       "26 5.3   18.83333 19.5   25  14  16.00 19.5 20.00 4.00\n",
       "27 5.4   17.25000 17.0   20  15  16.75 17.0 18.00 1.25\n",
       "28 5.6   18.00000 18.0   18  18  18.00 18.0 18.00 0.00\n",
       "29 5.7   19.00000 18.0   26  15  17.00 18.0 19.25 2.25\n",
       "30 5.9   15.00000 15.0   15  15  15.00 15.0 15.00 0.00\n",
       "31 6.0   17.00000 17.0   17  17  17.00 17.0 17.00 0.00\n",
       "32 6.1   14.00000 14.0   14  14  14.00 14.0 14.00 0.00\n",
       "33 6.2   25.50000 25.5   26  25  25.25 25.5 25.75 0.50\n",
       "34 6.5   17.00000 17.0   17  17  17.00 17.0 17.00 0.00\n",
       "35 7.0   24.00000 24.0   24  24  24.00 24.0 24.00 0.00"
      ]
     },
     "metadata": {},
     "output_type": "display_data"
    }
   ],
   "source": [
    "df %>% group_by(displ) %>% summarise(\n",
    "    \n",
    "        mean=mean(hwy),\n",
    "        median=median(hwy),\n",
    "        max=max(hwy),\n",
    "        min=min(hwy),\n",
    "        q1=quantile(hwy,p=0.25,type=7),\n",
    "        q2=quantile(hwy,p=0.5,type=7),\n",
    "        q3=quantile(hwy,p=0.75,type=7),\n",
    "        IQR=q3-q1\n",
    "\n",
    ") "
   ]
  },
  {
   "cell_type": "code",
   "execution_count": 156,
   "id": "3b8c6b09",
   "metadata": {
    "scrolled": true
   },
   "outputs": [
    {
     "data": {
      "text/html": [
       "<table class=\"dataframe\">\n",
       "<caption>A tibble: 3 × 9</caption>\n",
       "<thead>\n",
       "\t<tr><th scope=col>displ_class</th><th scope=col>mean</th><th scope=col>median</th><th scope=col>max</th><th scope=col>min</th><th scope=col>q1</th><th scope=col>q2</th><th scope=col>q3</th><th scope=col>IQR</th></tr>\n",
       "\t<tr><th scope=col>&lt;fct&gt;</th><th scope=col>&lt;dbl&gt;</th><th scope=col>&lt;dbl&gt;</th><th scope=col>&lt;int&gt;</th><th scope=col>&lt;int&gt;</th><th scope=col>&lt;dbl&gt;</th><th scope=col>&lt;dbl&gt;</th><th scope=col>&lt;dbl&gt;</th><th scope=col>&lt;dbl&gt;</th></tr>\n",
       "</thead>\n",
       "<tbody>\n",
       "\t<tr><td>low   </td><td>27.98148</td><td>27</td><td>44</td><td>20</td><td>26.00</td><td>27</td><td>29.00</td><td>3.0</td></tr>\n",
       "\t<tr><td>medium</td><td>20.11111</td><td>19</td><td>29</td><td>12</td><td>17.00</td><td>19</td><td>24.00</td><td>7.0</td></tr>\n",
       "\t<tr><td>big   </td><td>18.13889</td><td>17</td><td>26</td><td>14</td><td>15.75</td><td>17</td><td>19.25</td><td>3.5</td></tr>\n",
       "</tbody>\n",
       "</table>\n"
      ],
      "text/latex": [
       "A tibble: 3 × 9\n",
       "\\begin{tabular}{lllllllll}\n",
       " displ\\_class & mean & median & max & min & q1 & q2 & q3 & IQR\\\\\n",
       " <fct> & <dbl> & <dbl> & <int> & <int> & <dbl> & <dbl> & <dbl> & <dbl>\\\\\n",
       "\\hline\n",
       "\t low    & 27.98148 & 27 & 44 & 20 & 26.00 & 27 & 29.00 & 3.0\\\\\n",
       "\t medium & 20.11111 & 19 & 29 & 12 & 17.00 & 19 & 24.00 & 7.0\\\\\n",
       "\t big    & 18.13889 & 17 & 26 & 14 & 15.75 & 17 & 19.25 & 3.5\\\\\n",
       "\\end{tabular}\n"
      ],
      "text/markdown": [
       "\n",
       "A tibble: 3 × 9\n",
       "\n",
       "| displ_class &lt;fct&gt; | mean &lt;dbl&gt; | median &lt;dbl&gt; | max &lt;int&gt; | min &lt;int&gt; | q1 &lt;dbl&gt; | q2 &lt;dbl&gt; | q3 &lt;dbl&gt; | IQR &lt;dbl&gt; |\n",
       "|---|---|---|---|---|---|---|---|---|\n",
       "| low    | 27.98148 | 27 | 44 | 20 | 26.00 | 27 | 29.00 | 3.0 |\n",
       "| medium | 20.11111 | 19 | 29 | 12 | 17.00 | 19 | 24.00 | 7.0 |\n",
       "| big    | 18.13889 | 17 | 26 | 14 | 15.75 | 17 | 19.25 | 3.5 |\n",
       "\n"
      ],
      "text/plain": [
       "  displ_class mean     median max min q1    q2 q3    IQR\n",
       "1 low         27.98148 27     44  20  26.00 27 29.00 3.0\n",
       "2 medium      20.11111 19     29  12  17.00 19 24.00 7.0\n",
       "3 big         18.13889 17     26  14  15.75 17 19.25 3.5"
      ]
     },
     "metadata": {},
     "output_type": "display_data"
    }
   ],
   "source": [
    "df %>% group_by(displ_class) %>% summarise(\n",
    "    \n",
    "        mean=mean(hwy),\n",
    "        median=median(hwy),\n",
    "        max=max(hwy),\n",
    "        min=min(hwy),\n",
    "        q1=quantile(hwy,p=0.25,type=7),\n",
    "        q2=quantile(hwy,p=0.5,type=7),\n",
    "        q3=quantile(hwy,p=0.75,type=7),\n",
    "        IQR=q3-q1\n",
    "\n",
    ") "
   ]
  },
  {
   "cell_type": "markdown",
   "id": "15902673",
   "metadata": {},
   "source": [
    "+ Draw boxplots of the variable hwy grouped by displ resp. displ class\n",
    "  and interpret the results."
   ]
  },
  {
   "cell_type": "code",
   "execution_count": 157,
   "id": "1135742e",
   "metadata": {
    "scrolled": true
   },
   "outputs": [
    {
     "data": {
      "image/png": "[encoded data removed]",
      "text/plain": [
       "plot without title"
      ]
     },
     "metadata": {
      "image/png": {
       "height": 420,
       "width": 420
      }
     },
     "output_type": "display_data"
    }
   ],
   "source": [
    "df %>% boxplot(hwy~displ_class,data=.,col=c(\"green\",\"purple\",\"blue\"),horizontal = T)"
   ]
  },
  {
   "cell_type": "code",
   "execution_count": 158,
   "id": "28e6e5b6",
   "metadata": {},
   "outputs": [
    {
     "data": {
      "image/png": "[encoded data removed]",
      "text/plain": [
       "plot without title"
      ]
     },
     "metadata": {
      "image/png": {
       "height": 420,
       "width": 420
      }
     },
     "output_type": "display_data"
    }
   ],
   "source": [
    "boxplot(df$hwy~df$displ)"
   ]
  }
 ],
 "metadata": {
  "kernelspec": {
   "display_name": "R",
   "language": "R",
   "name": "ir"
  },
  "language_info": {
   "codemirror_mode": "r",
   "file_extension": ".r",
   "mimetype": "text/x-r-source",
   "name": "R",
   "pygments_lexer": "r",
   "version": "4.2.2"
  }
 },
 "nbformat": 4,
 "nbformat_minor": 5
}

{
 "cells": [
  {
   "cell_type": "markdown",
   "id": "328764bd",
   "metadata": {},
   "source": [
    "<h1 style=\"color:blue;text-align:center\">Statistical Inference</h1>"
   ]
  },
  {
   "cell_type": "markdown",
   "id": "6a31a8fb",
   "metadata": {},
   "source": [
    "<h3 style=\"color:blue;text-align:center\">Excercise 1</h3>"
   ]
  },
  {
   "cell_type": "markdown",
   "id": "c249949e",
   "metadata": {},
   "source": [
    "In an urn there is an unknown number N of balls numbered from 1\n",
    "to N . The number of N should be estimated. A ball from the urn is\n",
    "used for this purpose and his number is noted. Describe the random\n",
    "variable X= the number of the drawn ball."
   ]
  },
  {
   "cell_type": "markdown",
   "id": "4ff0b2b9",
   "metadata": {},
   "source": [
    "+ (a) Determine the distribution of X depending on N . Calculate the\n",
    "   expected value and variance of X."
   ]
  },
  {
   "cell_type": "code",
   "execution_count": 2,
   "id": "0e16cbb6",
   "metadata": {},
   "outputs": [],
   "source": [
    "#P(x=k) is uniformly distributed for k={1,.....,N}"
   ]
  },
  {
   "cell_type": "markdown",
   "id": "939cdada",
   "metadata": {},
   "source": [
    "Expected value, $E(x)=\\frac{N+1}{2}$ and Variance, $V(x)=\\frac{(N-1+1)^2-1}{12}=\\frac{N^2-1}{12}$"
   ]
  },
  {
   "cell_type": "markdown",
   "id": "843b9dc7",
   "metadata": {},
   "source": [
    "+ (b) Show that T (X) = 2X − 1 is an unbiased estimator for N is."
   ]
  },
  {
   "cell_type": "markdown",
   "id": "b1b42339",
   "metadata": {},
   "source": [
    "$E(T(X))$<br>\n",
    "$=E(2X-1)$<br>\n",
    "$=2E(X)-1$<br>\n",
    "$=2\\cdot \\frac{N+1}{2}-1$<br>\n",
    "$=N+1-1$<br>\n",
    "$=N$<br>\n",
    "so we can say $T(X)=2X-1$  is an unbiased estimator for N.\n"
   ]
  },
  {
   "cell_type": "markdown",
   "id": "e6c05e16",
   "metadata": {},
   "source": [
    "+ Calculate for N = 4 and N = 5 the probability for N to be exactly\n",
    "  estimated at T ."
   ]
  },
  {
   "cell_type": "markdown",
   "id": "0bf24395",
   "metadata": {},
   "source": [
    "$T(X)=N$<br>\n",
    "$\\rightarrow 2X-1=N$<br>\n",
    "$\\rightarrow 2X=N+1$<br>\n",
    "$\\rightarrow X=\\frac{N+1}{2}$<br>\n",
    "+ if $N=4$ then $X=\\frac{5}{2}$ which is not an Integer so its   probability is 0 \n",
    "+ if $N=5$ then $X=\\frac{6}{2}=3$\n"
   ]
  },
  {
   "cell_type": "markdown",
   "id": "2f9e234d",
   "metadata": {},
   "source": [
    "+ (d) Calculate the variance of T ."
   ]
  },
  {
   "cell_type": "markdown",
   "id": "866f2701",
   "metadata": {},
   "source": [
    "$V(T(X))$<br>\n",
    "$=V(2X-1)$<br>\n",
    "$=2^2V(X)$<br>\n",
    "$=4\\frac{N^2-1}{12}$<br>\n",
    "$=\\frac{N^2-1}{3}$<br>\n",
    "\n",
    "\n",
    "\n"
   ]
  },
  {
   "cell_type": "markdown",
   "id": "9a28d99c",
   "metadata": {},
   "source": [
    "<h1 style=\"color:blue;text-align:center\">Confidence Intervals</h1>"
   ]
  },
  {
   "cell_type": "markdown",
   "id": "815a7659",
   "metadata": {},
   "source": [
    "<h3 style=\"color:blue;text-align:center\">Excercise 2</h3>"
   ]
  },
  {
   "cell_type": "markdown",
   "id": "e35996f2",
   "metadata": {},
   "source": [
    "A population is known to be normally distributed with a standard\n",
    "deviation of 2.8."
   ]
  },
  {
   "cell_type": "markdown",
   "id": "fa0be74a",
   "metadata": {},
   "source": [
    "+ (a) Compute the 95% confidence interval on the mean based on the\n",
    "  following sample of nine: 8, 9, 10, 13, 14, 16, 17, 20, 21.\n"
   ]
  },
  {
   "cell_type": "code",
   "execution_count": null,
   "id": "f7ba1388",
   "metadata": {},
   "outputs": [],
   "source": []
  },
  {
   "cell_type": "markdown",
   "id": "7b972a98",
   "metadata": {},
   "source": []
  }
 ],
 "metadata": {
  "kernelspec": {
   "display_name": "R",
   "language": "R",
   "name": "ir"
  },
  "language_info": {
   "codemirror_mode": "r",
   "file_extension": ".r",
   "mimetype": "text/x-r-source",
   "name": "R",
   "pygments_lexer": "r",
   "version": "4.2.2"
  }
 },
 "nbformat": 4,
 "nbformat_minor": 5
}

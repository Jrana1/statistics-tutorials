{
 "cells": [
  {
   "cell_type": "markdown",
   "id": "90966a13",
   "metadata": {},
   "source": [
    "<h1 style=\"color:blue;text-align:center\">Statistical Inference</h1>"
   ]
  },
  {
   "cell_type": "markdown",
   "id": "1cad3436",
   "metadata": {},
   "source": [
    "<h3 style=\"color:blue;text-align:center\">Excercise 1</h3>"
   ]
  },
  {
   "cell_type": "markdown",
   "id": "dc750211",
   "metadata": {},
   "source": [
    "In an urn there is an unknown number N of balls numbered from 1\n",
    "to N . The number of N should be estimated. A ball from the urn is\n",
    "used for this purpose and his number is noted. Describe the random\n",
    "variable X= the number of the drawn ball."
   ]
  },
  {
   "cell_type": "markdown",
   "id": "c5c34a1d",
   "metadata": {},
   "source": [
    "+ (a) Determine the distribution of X depending on N . Calculate the\n",
    "   expected value and variance of X."
   ]
  },
  {
   "cell_type": "code",
   "execution_count": 2,
   "id": "d4274543",
   "metadata": {},
   "outputs": [],
   "source": [
    "#P(x=k) is uniformly distributed for k={1,.....,N}"
   ]
  },
  {
   "cell_type": "markdown",
   "id": "a01e6edd",
   "metadata": {},
   "source": [
    "Expected value, $E(x)=\\frac{N+1}{2}$ and Variance, $V(x)=\\frac{(N-1+1)^2-1}{12}=\\frac{N^2-1}{12}$"
   ]
  },
  {
   "cell_type": "markdown",
   "id": "c6c92e38",
   "metadata": {},
   "source": [
    "+ (b) Show that T (X) = 2X − 1 is an unbiased estimator for N is."
   ]
  },
  {
   "cell_type": "markdown",
   "id": "9abd99c4",
   "metadata": {},
   "source": [
    "$E(T(X))$<br>\n",
    "$=E(2X-1)$<br>\n",
    "$=2E(X)-1$<br>\n",
    "$=2\\cdot \\frac{N+1}{2}-1$<br>\n",
    "$=N+1-1$<br>\n",
    "$=N$<br>\n",
    "so we can say $T(X)=2X-1$  is an unbiased estimator for N.\n"
   ]
  },
  {
   "cell_type": "markdown",
   "id": "fa2af188",
   "metadata": {},
   "source": [
    "+ Calculate for N = 4 and N = 5 the probability for N to be exactly\n",
    "  estimated at T ."
   ]
  },
  {
   "cell_type": "markdown",
   "id": "e7020daf",
   "metadata": {},
   "source": [
    "$T(X)=N$<br>\n",
    "$\\rightarrow 2X-1=N$<br>\n",
    "$\\rightarrow 2X=N+1$<br>\n",
    "$\\rightarrow X=\\frac{N+1}{2}$<br>\n",
    "+ if $N=4$ then $X=\\frac{5}{2}$ which is not an Integer so its   probability is 0 \n",
    "+ if $N=5$ then $X=\\frac{6}{2}=3$\n"
   ]
  },
  {
   "cell_type": "markdown",
   "id": "349640af",
   "metadata": {},
   "source": [
    "+ (d) Calculate the variance of T ."
   ]
  },
  {
   "cell_type": "markdown",
   "id": "8c3a1e33",
   "metadata": {},
   "source": [
    "$V(T(X))$<br>\n",
    "$=V(2X-1)$<br>\n",
    "$=2^2V(X)$<br>\n",
    "$=4\\frac{N^2-1}{12}$<br>\n",
    "$=\\frac{N^2-1}{3}$<br>\n",
    "\n",
    "\n",
    "\n"
   ]
  },
  {
   "cell_type": "markdown",
   "id": "7ff71037",
   "metadata": {},
   "source": [
    "<h1 style=\"color:blue;text-align:center\">Confidence Intervals</h1>"
   ]
  },
  {
   "cell_type": "markdown",
   "id": "58de0d02",
   "metadata": {},
   "source": [
    "<h3 style=\"color:blue;text-align:center\">Excercise 2</h3>"
   ]
  },
  {
   "cell_type": "markdown",
   "id": "a7c90e1d",
   "metadata": {},
   "source": [
    "A population is known to be normally distributed with a standard\n",
    "deviation of 2.8."
   ]
  },
  {
   "cell_type": "markdown",
   "id": "c02a9cc3",
   "metadata": {},
   "source": [
    "+ (a) Compute the 95% confidence interval on the mean based on the\n",
    "  following sample of nine: 8, 9, 10, 13, 14, 16, 17, 20, 21.\n"
   ]
  },
  {
   "cell_type": "markdown",
   "id": "9287fc8a",
   "metadata": {},
   "source": [
    "as **standard deviation** of the population is given we have to use the following formula for **mean**.\n",
    "$$\\left[X(n) - \\mu_{1-\\frac{\\alpha}{2}}\\cdot\\frac{\\sigma}{\\sqrt{n}},X(n) + \\mu_{1-\\frac{\\alpha}{2}}\\cdot\\frac{\\sigma}{\\sqrt{n}}\\right]$$"
   ]
  },
  {
   "cell_type": "code",
   "execution_count": 16,
   "id": "358a4b0c",
   "metadata": {},
   "outputs": [],
   "source": [
    "X<-c(8, 9, 10, 13, 14, 16, 17, 20, 21)\n",
    "n<-length(X)\n",
    "mean_X<-mean(X) # X(n)\n",
    "sigma<-2.8\n",
    "alpha<-1-0.95"
   ]
  },
  {
   "cell_type": "code",
   "execution_count": 6,
   "id": "03585e6f",
   "metadata": {},
   "outputs": [
    {
     "data": {
      "text/html": [
       "<style>\n",
       ".list-inline {list-style: none; margin:0; padding: 0}\n",
       ".list-inline>li {display: inline-block}\n",
       ".list-inline>li:not(:last-child)::after {content: \"\\00b7\"; padding: 0 .5ex}\n",
       "</style>\n",
       "<ol class=list-inline><li>12.3929225033182</li><li>16.0515219411263</li></ol>\n"
      ],
      "text/latex": [
       "\\begin{enumerate*}\n",
       "\\item 12.3929225033182\n",
       "\\item 16.0515219411263\n",
       "\\end{enumerate*}\n"
      ],
      "text/markdown": [
       "1. 12.3929225033182\n",
       "2. 16.0515219411263\n",
       "\n",
       "\n"
      ],
      "text/plain": [
       "[1] 12.39292 16.05152"
      ]
     },
     "metadata": {},
     "output_type": "display_data"
    }
   ],
   "source": [
    "c(mean_X-qnorm(1-alpha/2)*( sigma/sqrt(n) ),\n",
    "       mean_X+qnorm(1-alpha/2)*( sigma/sqrt(n) ))"
   ]
  },
  {
   "cell_type": "markdown",
   "id": "fbb85397",
   "metadata": {},
   "source": [
    "+ (b) Now compute the 99% confidence interval using the same data."
   ]
  },
  {
   "cell_type": "code",
   "execution_count": 7,
   "id": "e2faee51",
   "metadata": {},
   "outputs": [],
   "source": [
    "alpha<-1-0.99"
   ]
  },
  {
   "cell_type": "code",
   "execution_count": 8,
   "id": "17c5227e",
   "metadata": {},
   "outputs": [
    {
     "data": {
      "text/html": [
       "<style>\n",
       ".list-inline {list-style: none; margin:0; padding: 0}\n",
       ".list-inline>li {display: inline-block}\n",
       ".list-inline>li:not(:last-child)::after {content: \"\\00b7\"; padding: 0 .5ex}\n",
       "</style>\n",
       "<ol class=list-inline><li>11.8181148722432</li><li>16.6263295722012</li></ol>\n"
      ],
      "text/latex": [
       "\\begin{enumerate*}\n",
       "\\item 11.8181148722432\n",
       "\\item 16.6263295722012\n",
       "\\end{enumerate*}\n"
      ],
      "text/markdown": [
       "1. 11.8181148722432\n",
       "2. 16.6263295722012\n",
       "\n",
       "\n"
      ],
      "text/plain": [
       "[1] 11.81811 16.62633"
      ]
     },
     "metadata": {},
     "output_type": "display_data"
    }
   ],
   "source": [
    "c(mean_X-qnorm(1-alpha/2)*( sigma/sqrt(n) ),\n",
    "       mean_X+qnorm(1-alpha/2)*( sigma/sqrt(n) ))"
   ]
  },
  {
   "cell_type": "markdown",
   "id": "51e4c467",
   "metadata": {},
   "source": [
    "#### solution using <code>z.test()</code> function."
   ]
  },
  {
   "cell_type": "code",
   "execution_count": 13,
   "id": "ecbae452",
   "metadata": {},
   "outputs": [],
   "source": [
    "library(TeachingDemos)"
   ]
  },
  {
   "cell_type": "code",
   "execution_count": 19,
   "id": "49313616",
   "metadata": {
    "scrolled": true
   },
   "outputs": [
    {
     "data": {
      "text/html": [
       "<style>\n",
       ".list-inline {list-style: none; margin:0; padding: 0}\n",
       ".list-inline>li {display: inline-block}\n",
       ".list-inline>li:not(:last-child)::after {content: \"\\00b7\"; padding: 0 .5ex}\n",
       "</style>\n",
       "<ol class=list-inline><li>12.3929225033182</li><li>16.0515219411263</li></ol>\n"
      ],
      "text/latex": [
       "\\begin{enumerate*}\n",
       "\\item 12.3929225033182\n",
       "\\item 16.0515219411263\n",
       "\\end{enumerate*}\n"
      ],
      "text/markdown": [
       "1. 12.3929225033182\n",
       "2. 16.0515219411263\n",
       "\n",
       "\n"
      ],
      "text/plain": [
       "[1] 12.39292 16.05152\n",
       "attr(,\"conf.level\")\n",
       "[1] 0.95"
      ]
     },
     "metadata": {},
     "output_type": "display_data"
    }
   ],
   "source": [
    "z.test(x = X,alternative = 'two.sided',\n",
    "       sd = sigma,conf.level = 0.95)$conf.int"
   ]
  },
  {
   "cell_type": "code",
   "execution_count": 20,
   "id": "d5d0cce2",
   "metadata": {},
   "outputs": [
    {
     "data": {
      "text/html": [
       "<style>\n",
       ".list-inline {list-style: none; margin:0; padding: 0}\n",
       ".list-inline>li {display: inline-block}\n",
       ".list-inline>li:not(:last-child)::after {content: \"\\00b7\"; padding: 0 .5ex}\n",
       "</style>\n",
       "<ol class=list-inline><li>11.8181148722432</li><li>16.6263295722012</li></ol>\n"
      ],
      "text/latex": [
       "\\begin{enumerate*}\n",
       "\\item 11.8181148722432\n",
       "\\item 16.6263295722012\n",
       "\\end{enumerate*}\n"
      ],
      "text/markdown": [
       "1. 11.8181148722432\n",
       "2. 16.6263295722012\n",
       "\n",
       "\n"
      ],
      "text/plain": [
       "[1] 11.81811 16.62633\n",
       "attr(,\"conf.level\")\n",
       "[1] 0.99"
      ]
     },
     "metadata": {},
     "output_type": "display_data"
    }
   ],
   "source": [
    "z.test(x = X,alternative = 'two.sided',\n",
    "       sd = sigma,conf.level = 0.99)$conf.int"
   ]
  },
  {
   "cell_type": "markdown",
   "id": "f4845074",
   "metadata": {},
   "source": [
    "<h3 style=\"color:blue;text-align:center\">Excercise 3</h3>"
   ]
  },
  {
   "cell_type": "markdown",
   "id": "341630d3",
   "metadata": {},
   "source": [
    "You take a sample of 22 from a population of test scores, and the mean\n",
    "of your sample is 60."
   ]
  },
  {
   "cell_type": "markdown",
   "id": "12c4c8b8",
   "metadata": {},
   "source": [
    "+ (a) You know the standard deviation of the population is 10. What\n",
    "  is the 99% confidence interval on the population mean?"
   ]
  },
  {
   "cell_type": "code",
   "execution_count": 10,
   "id": "5f0a8217",
   "metadata": {},
   "outputs": [],
   "source": [
    "# as sd of population is known\n",
    "n<-22\n",
    "sm_mean<-60\n",
    "alpha<-1-0.99\n",
    "sigma<-10"
   ]
  },
  {
   "cell_type": "code",
   "execution_count": 11,
   "id": "942e9126",
   "metadata": {},
   "outputs": [
    {
     "data": {
      "text/html": [
       "<style>\n",
       ".list-inline {list-style: none; margin:0; padding: 0}\n",
       ".list-inline>li {display: inline-block}\n",
       ".list-inline>li:not(:last-child)::after {content: \"\\00b7\"; padding: 0 .5ex}\n",
       "</style>\n",
       "<ol class=list-inline><li>54.508313472736</li><li>65.491686527264</li></ol>\n"
      ],
      "text/latex": [
       "\\begin{enumerate*}\n",
       "\\item 54.508313472736\n",
       "\\item 65.491686527264\n",
       "\\end{enumerate*}\n"
      ],
      "text/markdown": [
       "1. 54.508313472736\n",
       "2. 65.491686527264\n",
       "\n",
       "\n"
      ],
      "text/plain": [
       "[1] 54.50831 65.49169"
      ]
     },
     "metadata": {},
     "output_type": "display_data"
    }
   ],
   "source": [
    "c(sm_mean-qnorm(1-alpha/2)*( sigma/sqrt(n) ),\n",
    "       sm_mean+qnorm(1-alpha/2)*( sigma/sqrt(n) ))"
   ]
  },
  {
   "cell_type": "markdown",
   "id": "a26d7ad6",
   "metadata": {},
   "source": [
    "+ (b) Now assume that you do not know the population standard deviation, but the standard deviation in your sample is 10. What is\n",
    "   the 99% confidence interval on the mean now?"
   ]
  },
  {
   "cell_type": "markdown",
   "id": "a1d41573",
   "metadata": {},
   "source": [
    "as sd of the population is not know in this case we have to use the following formula for **mean**,\n",
    "$$\\left[X(n) - t_{1-\\frac{\\alpha}{2};n-1}\\cdot\\frac{s(n)}{\\sqrt{n}},X(n) + t_{1-\\frac{\\alpha}{2};n-1}\\cdot\\frac{s(n)}{\\sqrt{n}}\\right]$$"
   ]
  },
  {
   "cell_type": "code",
   "execution_count": 21,
   "id": "db24d675",
   "metadata": {},
   "outputs": [],
   "source": [
    "# population sd is not known but sample sd is known\n",
    "n<-22\n",
    "sm_mean<-60\n",
    "alpha<-1-0.99\n",
    "sm_sigma<-10"
   ]
  },
  {
   "cell_type": "code",
   "execution_count": 22,
   "id": "df64ddbf",
   "metadata": {
    "scrolled": true
   },
   "outputs": [
    {
     "data": {
      "text/html": [
       "<style>\n",
       ".list-inline {list-style: none; margin:0; padding: 0}\n",
       ".list-inline>li {display: inline-block}\n",
       ".list-inline>li:not(:last-child)::after {content: \"\\00b7\"; padding: 0 .5ex}\n",
       "</style>\n",
       "<ol class=list-inline><li>53.9635211396918</li><li>66.0364788603082</li></ol>\n"
      ],
      "text/latex": [
       "\\begin{enumerate*}\n",
       "\\item 53.9635211396918\n",
       "\\item 66.0364788603082\n",
       "\\end{enumerate*}\n"
      ],
      "text/markdown": [
       "1. 53.9635211396918\n",
       "2. 66.0364788603082\n",
       "\n",
       "\n"
      ],
      "text/plain": [
       "[1] 53.96352 66.03648"
      ]
     },
     "metadata": {},
     "output_type": "display_data"
    }
   ],
   "source": [
    "c(sm_mean-qt(1-alpha/2,n-1)*( sm_sigma/sqrt(n) ),\n",
    "       sm_mean+qt(1-alpha/2,n-1)*( sm_sigma/sqrt(n) ))"
   ]
  },
  {
   "cell_type": "markdown",
   "id": "270d575b",
   "metadata": {},
   "source": [
    "<h3 style=\"color:blue;text-align:center\">Excercise 4</h3>"
   ]
  },
  {
   "cell_type": "markdown",
   "id": "05a6f447",
   "metadata": {},
   "source": [
    "Calculate for the below given sample from a normally distributed pop-\n",
    "ulation the 95% confidence intervals"
   ]
  },
  {
   "cell_type": "markdown",
   "id": "63c18f3e",
   "metadata": {},
   "source": [
    "+ (a) for the mean, if the standard deviation is 2"
   ]
  },
  {
   "cell_type": "code",
   "execution_count": 52,
   "id": "ebf30a15",
   "metadata": {},
   "outputs": [],
   "source": [
    "sm<-c(247.4, 249.0, 248.5, 247.5, 250.6, 252.2, 253.4, 248.3, 251.4, 246.9,\n",
    "249.8, 250.6, 252.7, 250.6, 250.6, 252.5, 249.4, 250.6, 247.0, 249.4)\n",
    "n<-length(sm)\n",
    "sm_mean<-mean(sm)\n",
    "alpha<-1-0.95\n",
    "sigma<-2"
   ]
  },
  {
   "cell_type": "code",
   "execution_count": 53,
   "id": "cf7f3512",
   "metadata": {
    "scrolled": true
   },
   "outputs": [
    {
     "data": {
      "text/html": [
       "<style>\n",
       ".list-inline {list-style: none; margin:0; padding: 0}\n",
       ".list-inline>li {display: inline-block}\n",
       ".list-inline>li:not(:last-child)::after {content: \"\\00b7\"; padding: 0 .5ex}\n",
       "</style>\n",
       "<ol class=list-inline><li>249.043477459423</li><li>250.796522540577</li></ol>\n"
      ],
      "text/latex": [
       "\\begin{enumerate*}\n",
       "\\item 249.043477459423\n",
       "\\item 250.796522540577\n",
       "\\end{enumerate*}\n"
      ],
      "text/markdown": [
       "1. 249.043477459423\n",
       "2. 250.796522540577\n",
       "\n",
       "\n"
      ],
      "text/plain": [
       "[1] 249.0435 250.7965"
      ]
     },
     "metadata": {},
     "output_type": "display_data"
    }
   ],
   "source": [
    "c(sm_mean-qnorm(1-alpha/2)*( sigma/sqrt(n) ),\n",
    "       sm_mean+qnorm(1-alpha/2)*( sigma/sqrt(n) ))"
   ]
  },
  {
   "cell_type": "code",
   "execution_count": 54,
   "id": "fa562ed0",
   "metadata": {
    "scrolled": true
   },
   "outputs": [
    {
     "data": {
      "text/html": [
       "<style>\n",
       ".list-inline {list-style: none; margin:0; padding: 0}\n",
       ".list-inline>li {display: inline-block}\n",
       ".list-inline>li:not(:last-child)::after {content: \"\\00b7\"; padding: 0 .5ex}\n",
       "</style>\n",
       "<ol class=list-inline><li>249.043477459423</li><li>250.796522540577</li></ol>\n"
      ],
      "text/latex": [
       "\\begin{enumerate*}\n",
       "\\item 249.043477459423\n",
       "\\item 250.796522540577\n",
       "\\end{enumerate*}\n"
      ],
      "text/markdown": [
       "1. 249.043477459423\n",
       "2. 250.796522540577\n",
       "\n",
       "\n"
      ],
      "text/plain": [
       "[1] 249.0435 250.7965\n",
       "attr(,\"conf.level\")\n",
       "[1] 0.95"
      ]
     },
     "metadata": {},
     "output_type": "display_data"
    }
   ],
   "source": [
    "z.test(x = sm,alternative = 'two.sided',\n",
    "       sd = sigma,conf.level = 0.95)$conf.int"
   ]
  },
  {
   "cell_type": "markdown",
   "id": "219f2d5b",
   "metadata": {},
   "source": [
    "+ (b) for the mean, if the standard deviation is unknown"
   ]
  },
  {
   "cell_type": "code",
   "execution_count": 55,
   "id": "1586fee7",
   "metadata": {},
   "outputs": [
    {
     "data": {
      "text/html": [
       "1.9479003540925"
      ],
      "text/latex": [
       "1.9479003540925"
      ],
      "text/markdown": [
       "1.9479003540925"
      ],
      "text/plain": [
       "[1] 1.9479"
      ]
     },
     "metadata": {},
     "output_type": "display_data"
    }
   ],
   "source": [
    "n<-length(sm)\n",
    "sm_mean<-mean(sm)\n",
    "alpha<-1-0.95\n",
    "sm_sigma<-sd(sm)\n",
    "sm_sigma"
   ]
  },
  {
   "cell_type": "code",
   "execution_count": 56,
   "id": "12825796",
   "metadata": {},
   "outputs": [
    {
     "data": {
      "text/html": [
       "<style>\n",
       ".list-inline {list-style: none; margin:0; padding: 0}\n",
       ".list-inline>li {display: inline-block}\n",
       ".list-inline>li:not(:last-child)::after {content: \"\\00b7\"; padding: 0 .5ex}\n",
       "</style>\n",
       "<ol class=list-inline><li>249.008354572014</li><li>250.831645427986</li></ol>\n"
      ],
      "text/latex": [
       "\\begin{enumerate*}\n",
       "\\item 249.008354572014\n",
       "\\item 250.831645427986\n",
       "\\end{enumerate*}\n"
      ],
      "text/markdown": [
       "1. 249.008354572014\n",
       "2. 250.831645427986\n",
       "\n",
       "\n"
      ],
      "text/plain": [
       "[1] 249.0084 250.8316"
      ]
     },
     "metadata": {},
     "output_type": "display_data"
    }
   ],
   "source": [
    "# population sd is not known\n",
    "c(sm_mean-qt(1-alpha/2,n-1)*( sm_sigma/sqrt(n) ),\n",
    "       sm_mean+qt(1-alpha/2,n-1)*( sm_sigma/sqrt(n) ))"
   ]
  },
  {
   "cell_type": "markdown",
   "id": "699fcc4c",
   "metadata": {},
   "source": [
    "+ (c) for the variance, if the mean is 250"
   ]
  },
  {
   "cell_type": "markdown",
   "id": "77a5e353",
   "metadata": {},
   "source": [
    "formula for **variance**,\n",
    "$$\\left[\\frac{Q_n}{\\chi^2_{n,1-\\frac{\\alpha}{2}}},\\frac{Q_n}{\\chi^2_{n,\\frac{\\alpha}{2}}}\\right] $$ <br>\n",
    "where,\n",
    "$$ Q_n=\\sum_{i=1}^n(x_i-\\mu_0)^2 $$"
   ]
  },
  {
   "cell_type": "code",
   "execution_count": 49,
   "id": "29ba8013",
   "metadata": {},
   "outputs": [
    {
     "name": "stderr",
     "output_type": "stream",
     "text": [
      "── \u001b[1mAttaching core tidyverse packages\u001b[22m ──────────────────────────────── tidyverse 2.0.0 ──\n",
      "\u001b[32m✔\u001b[39m \u001b[34mdplyr    \u001b[39m 1.1.4     \u001b[32m✔\u001b[39m \u001b[34mreadr    \u001b[39m 2.1.4\n",
      "\u001b[32m✔\u001b[39m \u001b[34mforcats  \u001b[39m 1.0.0     \u001b[32m✔\u001b[39m \u001b[34mstringr  \u001b[39m 1.5.1\n",
      "\u001b[32m✔\u001b[39m \u001b[34mggplot2  \u001b[39m 3.4.4     \u001b[32m✔\u001b[39m \u001b[34mtibble   \u001b[39m 3.2.1\n",
      "\u001b[32m✔\u001b[39m \u001b[34mlubridate\u001b[39m 1.9.3     \u001b[32m✔\u001b[39m \u001b[34mtidyr    \u001b[39m 1.3.0\n",
      "\u001b[32m✔\u001b[39m \u001b[34mpurrr    \u001b[39m 1.0.2     \n",
      "── \u001b[1mConflicts\u001b[22m ────────────────────────────────────────────────── tidyverse_conflicts() ──\n",
      "\u001b[31m✖\u001b[39m \u001b[34mdplyr\u001b[39m::\u001b[32mfilter()\u001b[39m masks \u001b[34mstats\u001b[39m::filter()\n",
      "\u001b[31m✖\u001b[39m \u001b[34mdplyr\u001b[39m::\u001b[32mlag()\u001b[39m    masks \u001b[34mstats\u001b[39m::lag()\n",
      "\u001b[36mℹ\u001b[39m Use the conflicted package (\u001b[3m\u001b[34m<http://conflicted.r-lib.org/>\u001b[39m\u001b[23m) to force all conflicts to become errors\n"
     ]
    }
   ],
   "source": [
    "library(tidyverse)"
   ]
  },
  {
   "cell_type": "code",
   "execution_count": 66,
   "id": "7b15248f",
   "metadata": {},
   "outputs": [
    {
     "data": {
      "text/html": [
       "72.22"
      ],
      "text/latex": [
       "72.22"
      ],
      "text/markdown": [
       "72.22"
      ],
      "text/plain": [
       "[1] 72.22"
      ]
     },
     "metadata": {},
     "output_type": "display_data"
    }
   ],
   "source": [
    "(sm-mu)**2 %>% sum() %>% round(2) # q_n"
   ]
  },
  {
   "cell_type": "code",
   "execution_count": 62,
   "id": "bd304a12",
   "metadata": {},
   "outputs": [],
   "source": [
    "n<-length(sm)\n",
    "mu<-250\n",
    "Q_n<-sum( (sm-mu)**2 )\n",
    "alpha<-1-0.95"
   ]
  },
  {
   "cell_type": "code",
   "execution_count": 65,
   "id": "7a78a45c",
   "metadata": {},
   "outputs": [
    {
     "data": {
      "text/html": [
       "<style>\n",
       ".list-inline {list-style: none; margin:0; padding: 0}\n",
       ".list-inline>li {display: inline-block}\n",
       ".list-inline>li:not(:last-child)::after {content: \"\\00b7\"; padding: 0 .5ex}\n",
       "</style>\n",
       "<ol class=list-inline><li>2.11357421246778</li><li>7.5301507944754</li></ol>\n"
      ],
      "text/latex": [
       "\\begin{enumerate*}\n",
       "\\item 2.11357421246778\n",
       "\\item 7.5301507944754\n",
       "\\end{enumerate*}\n"
      ],
      "text/markdown": [
       "1. 2.11357421246778\n",
       "2. 7.5301507944754\n",
       "\n",
       "\n"
      ],
      "text/plain": [
       "[1] 2.113574 7.530151"
      ]
     },
     "metadata": {},
     "output_type": "display_data"
    }
   ],
   "source": [
    "b"
   ]
  },
  {
   "cell_type": "markdown",
   "id": "61911fa3",
   "metadata": {},
   "source": [
    "+ (d) for the variance, if the mean is unknown"
   ]
  },
  {
   "cell_type": "markdown",
   "id": "6ddc252f",
   "metadata": {},
   "source": [
    "formula for **variance**,\n",
    "$$\\left[\\frac{(n-1)s^2}{\\chi^2_{n-1,1-\\frac{\\alpha}{2}}},\\frac{(n-1)s^2}{\\chi^2_{n-1,\\frac{\\alpha}{2}}}\\right] $$"
   ]
  },
  {
   "cell_type": "code",
   "execution_count": 67,
   "id": "3505ce06",
   "metadata": {},
   "outputs": [],
   "source": [
    "s<-sd(sm)"
   ]
  },
  {
   "cell_type": "code",
   "execution_count": 69,
   "id": "1b7f267c",
   "metadata": {},
   "outputs": [
    {
     "data": {
      "text/html": [
       "<style>\n",
       ".list-inline {list-style: none; margin:0; padding: 0}\n",
       ".list-inline>li {display: inline-block}\n",
       ".list-inline>li:not(:last-child)::after {content: \"\\00b7\"; padding: 0 .5ex}\n",
       "</style>\n",
       "<ol class=list-inline><li>2.19442599312444</li><li>8.09429816312522</li></ol>\n"
      ],
      "text/latex": [
       "\\begin{enumerate*}\n",
       "\\item 2.19442599312444\n",
       "\\item 8.09429816312522\n",
       "\\end{enumerate*}\n"
      ],
      "text/markdown": [
       "1. 2.19442599312444\n",
       "2. 8.09429816312522\n",
       "\n",
       "\n"
      ],
      "text/plain": [
       "[1] 2.194426 8.094298"
      ]
     },
     "metadata": {},
     "output_type": "display_data"
    }
   ],
   "source": [
    "c(  ((n-1)*s**2)/qchisq(p =(1-alpha/2),n-1 ),\n",
    "    ((n-1)*s**2)/qchisq(p =(alpha/2),n-1 ) )"
   ]
  },
  {
   "cell_type": "markdown",
   "id": "70385e62",
   "metadata": {},
   "source": [
    "<h3 style=\"color:blue;text-align:center\">Excercise 5</h3>"
   ]
  },
  {
   "cell_type": "markdown",
   "id": "cd7e1ca6",
   "metadata": {},
   "source": [
    "At a telemarketing firm, the length of a telephone solicitation (in sec-\n",
    "onds) is a normally distributed random variable with mean µ and stan-\n",
    "dard deviation σ, both unknown. A sample of 51 calls has mean length\n",
    "300 and standard deviation 60."
   ]
  },
  {
   "cell_type": "markdown",
   "id": "68a9f8b7",
   "metadata": {},
   "source": [
    "+ (a) Construct the 95% confidence upper bound for µ."
   ]
  },
  {
   "cell_type": "code",
   "execution_count": 98,
   "id": "f669949f",
   "metadata": {},
   "outputs": [],
   "source": [
    "n<-51\n",
    "sm_mean<-300\n",
    "sm_sigma<-60\n",
    "alpha<-0.05"
   ]
  },
  {
   "cell_type": "code",
   "execution_count": 88,
   "id": "0142eef7",
   "metadata": {
    "scrolled": false
   },
   "outputs": [
    {
     "data": {
      "text/html": [
       "314.08041857675"
      ],
      "text/latex": [
       "314.08041857675"
      ],
      "text/markdown": [
       "314.08041857675"
      ],
      "text/plain": [
       "[1] 314.0804"
      ]
     },
     "metadata": {},
     "output_type": "display_data"
    }
   ],
   "source": [
    "## upper bound for mu\n",
    "sm_mean + qt(1-alpha,n-1)*(sm_sigma/sqrt(n))"
   ]
  },
  {
   "cell_type": "markdown",
   "id": "6d3acb6e",
   "metadata": {},
   "source": [
    "+ (b) Construct the 95% confidence lower bound for σ."
   ]
  },
  {
   "cell_type": "code",
   "execution_count": 94,
   "id": "53d720e4",
   "metadata": {},
   "outputs": [
    {
     "data": {
      "text/html": [
       "67.505"
      ],
      "text/latex": [
       "67.505"
      ],
      "text/markdown": [
       "67.505"
      ],
      "text/plain": [
       "[1] 67.505"
      ]
     },
     "metadata": {},
     "output_type": "display_data"
    }
   ],
   "source": [
    "qchisq(1-alpha,n-1) %>% round(3)"
   ]
  },
  {
   "cell_type": "code",
   "execution_count": 100,
   "id": "61f47882",
   "metadata": {
    "scrolled": true
   },
   "outputs": [
    {
     "data": {
      "text/html": [
       "51.6379394613144"
      ],
      "text/latex": [
       "51.6379394613144"
      ],
      "text/markdown": [
       "51.6379394613144"
      ],
      "text/plain": [
       "[1] 51.63794"
      ]
     },
     "metadata": {},
     "output_type": "display_data"
    }
   ],
   "source": [
    "sqrt( ( (n-1)*sm_sigma**2 ) / qchisq(p = 1-alpha,n-1) )"
   ]
  },
  {
   "cell_type": "markdown",
   "id": "2aba347d",
   "metadata": {},
   "source": [
    "<h3 style=\"color:blue;text-align:center\">Excercise 6</h3>"
   ]
  },
  {
   "cell_type": "markdown",
   "id": "1cef71ce",
   "metadata": {},
   "source": [
    "At a certain farm the weight of a peach (in ounces) at harvest time\n",
    "is a normally distributed random variable with standard deviation 0.5.\n",
    "How many peaches must be sampled to estimate the mean weight with\n",
    "a margin of error ±0.2 and with 95% confidence."
   ]
  },
  {
   "cell_type": "markdown",
   "id": "e539dd5a",
   "metadata": {},
   "source": [
    "$$\\left[X(n) - \\overbrace{\\mu_{1-\\frac{\\alpha}{2}}\\cdot\\frac{\\sigma}{\\sqrt{n}}}^{\\text{margin of error}},X(n) + \\underbrace{\\mu_{1-\\frac{\\alpha}{2}}\\cdot\\frac{\\sigma}{\\sqrt{n}}}_{\\text{margin of error}}\\right]$$"
   ]
  },
  {
   "cell_type": "code",
   "execution_count": 103,
   "id": "712959f8",
   "metadata": {},
   "outputs": [
    {
     "data": {
      "text/html": [
       "25"
      ],
      "text/latex": [
       "25"
      ],
      "text/markdown": [
       "25"
      ],
      "text/plain": [
       "[1] 25"
      ]
     },
     "metadata": {},
     "output_type": "display_data"
    }
   ],
   "source": [
    "sigma<-0.5\n",
    "alpha<-0.05\n",
    "# qnorm(1-alpha/2)*sigma/sqrt(n)=0.2  find n\n",
    "# oder, sigma/sqrt(n) = 0.2/qnorm(1-alpha/2)\n",
    "# oder, sigma/0.2/qnorm(1-alpha/2) = sqrt(n)\n",
    "# oder,  n = ( sigma/ (0.2/qnorm(1-alpha/2) ) )**2\n",
    "n <- ( sigma/(0.2/qnorm(1-alpha/2)) )**2\n",
    "n %>% ceiling()"
   ]
  },
  {
   "cell_type": "markdown",
   "id": "61ca0a82",
   "metadata": {},
   "source": [
    "## formula for **Proportion** or **Probability** or **Binomial distribution**"
   ]
  },
  {
   "cell_type": "markdown",
   "id": "f977001c",
   "metadata": {},
   "source": [
    "$$\\left[ \\hat{p} - \\overbrace{\\mu_{1-\\frac{\\alpha}{2}}\\cdot \\sqrt{ \\frac{\\hat{p}(1-\\hat{p})}{n}}}^{\\text{margin of error}}, \\hat{p} + \\mu_{1-\\frac{\\alpha}{2}}\\cdot \\sqrt{ \\frac{\\hat{p}(1-\\hat{p})}{n}} \\right]$$<br>\n",
    "where $$\\hat{p}=\\frac{x}{n}$$ <br>\n",
    "  + $\\hat{p}$ can be called as **proportion** or **relative frequency** or **probabilty**.\n",
    "  + n is total number of observations.\n",
    "  + x is number of occurances of a specific event from total n events\n"
   ]
  },
  {
   "cell_type": "markdown",
   "id": "ef1e25e0",
   "metadata": {},
   "source": [
    "<h3 style=\"color:blue;text-align:center\">Excercise 7</h3>"
   ]
  },
  {
   "cell_type": "markdown",
   "id": "a7f60360",
   "metadata": {},
   "source": [
    "You read about a survey in a newspaper and find that 70% of the 250\n",
    "people sampled prefer candidate A."
   ]
  },
  {
   "cell_type": "markdown",
   "id": "28368e98",
   "metadata": {},
   "source": [
    "+ (a) Compute the 95% confidence interval."
   ]
  },
  {
   "cell_type": "code",
   "execution_count": 107,
   "id": "dc564638",
   "metadata": {},
   "outputs": [],
   "source": [
    "p.hat<-0.7\n",
    "n<-250\n",
    "alpha<-1-0.95\n",
    "x<-n*p.hat # x is the number of people who voted for candidate from 250 \n"
   ]
  },
  {
   "cell_type": "code",
   "execution_count": 119,
   "id": "4795dff9",
   "metadata": {
    "scrolled": true
   },
   "outputs": [
    {
     "data": {
      "text/html": [
       "<style>\n",
       ".list-inline {list-style: none; margin:0; padding: 0}\n",
       ".list-inline>li {display: inline-block}\n",
       ".list-inline>li:not(:last-child)::after {content: \"\\00b7\"; padding: 0 .5ex}\n",
       "</style>\n",
       "<ol class=list-inline><li>0.6432</li><li>0.7568</li></ol>\n"
      ],
      "text/latex": [
       "\\begin{enumerate*}\n",
       "\\item 0.6432\n",
       "\\item 0.7568\n",
       "\\end{enumerate*}\n"
      ],
      "text/markdown": [
       "1. 0.6432\n",
       "2. 0.7568\n",
       "\n",
       "\n"
      ],
      "text/plain": [
       "[1] 0.6432 0.7568"
      ]
     },
     "metadata": {},
     "output_type": "display_data"
    }
   ],
   "source": [
    "# approximation\n",
    "\n",
    " c(p.hat - qnorm(1-alpha/2)*sqrt(p.hat*(1-p.hat)/n),\n",
    "  p.hat + qnorm(1-alpha/2)*sqrt(p.hat*(1-p.hat)/n)) %>% round(4)"
   ]
  },
  {
   "cell_type": "code",
   "execution_count": 122,
   "id": "1915713c",
   "metadata": {
    "scrolled": true
   },
   "outputs": [
    {
     "data": {
      "text/html": [
       "<style>\n",
       ".list-inline {list-style: none; margin:0; padding: 0}\n",
       ".list-inline>li {display: inline-block}\n",
       ".list-inline>li:not(:last-child)::after {content: \"\\00b7\"; padding: 0 .5ex}\n",
       "</style>\n",
       "<ol class=list-inline><li>0.6391</li><li>0.7561</li></ol>\n"
      ],
      "text/latex": [
       "\\begin{enumerate*}\n",
       "\\item 0.6391\n",
       "\\item 0.7561\n",
       "\\end{enumerate*}\n"
      ],
      "text/markdown": [
       "1. 0.6391\n",
       "2. 0.7561\n",
       "\n",
       "\n"
      ],
      "text/plain": [
       "[1] 0.6391 0.7561\n",
       "attr(,\"conf.level\")\n",
       "[1] 0.95"
      ]
     },
     "metadata": {},
     "output_type": "display_data"
    }
   ],
   "source": [
    "## exact\n",
    "binom.test(x = x,n = n,p = p.hat,alternative = 'two.sided',conf.level = \n",
    "          0.95)$conf.int %>% round(4)"
   ]
  },
  {
   "cell_type": "markdown",
   "id": "ec49f6f3",
   "metadata": {},
   "source": [
    "<h3 style=\"color:blue;text-align:center\">Excercise 8</h3>"
   ]
  },
  {
   "cell_type": "markdown",
   "id": "2ec8d80b",
   "metadata": {},
   "source": [
    "A researcher was interested in knowing how many people in the city\n",
    "supported a new tax. He sampled 100 people from the city and found\n",
    "that 40% of these people supported the tax. What is the upper limit of\n",
    "the 95% (one-side) confidence interval on the population proportion?"
   ]
  },
  {
   "cell_type": "code",
   "execution_count": 125,
   "id": "30a4c949",
   "metadata": {
    "scrolled": true
   },
   "outputs": [
    {
     "data": {
      "text/html": [
       "0.48"
      ],
      "text/latex": [
       "0.48"
      ],
      "text/markdown": [
       "0.48"
      ],
      "text/plain": [
       "[1] 0.48"
      ]
     },
     "metadata": {},
     "output_type": "display_data"
    }
   ],
   "source": [
    "n<-100\n",
    "p.hat<-0.4\n",
    "alpha<-0.05\n",
    "# upper limit of the 95% (one-side) confidence interval \n",
    "# approx\n",
    "(p.hat + qnorm(1-alpha)*sqrt(p.hat*(1-p.hat)/n)) %>% round(2)"
   ]
  },
  {
   "cell_type": "code",
   "execution_count": 130,
   "id": "e1b5e373",
   "metadata": {
    "scrolled": true
   },
   "outputs": [
    {
     "data": {
      "text/html": [
       "0.49"
      ],
      "text/latex": [
       "0.49"
      ],
      "text/markdown": [
       "0.49"
      ],
      "text/plain": [
       "[1] 0.49"
      ]
     },
     "metadata": {},
     "output_type": "display_data"
    }
   ],
   "source": [
    "## exact\n",
    "binom.test(x = p.hat*n,n =n, p = p.hat,alternative = 'less'\n",
    "           ,conf.level =1-alpha )$conf.int[2] %>% round(2)"
   ]
  },
  {
   "cell_type": "markdown",
   "id": "dd7f3bc9",
   "metadata": {},
   "source": [
    "<h3 style=\"color:blue;text-align:center\">Excercise 9</h3>"
   ]
  },
  {
   "cell_type": "code",
   "execution_count": null,
   "id": "e8afd204",
   "metadata": {},
   "outputs": [],
   "source": []
  },
  {
   "cell_type": "markdown",
   "id": "dfb689c8",
   "metadata": {},
   "source": [
    "An advertising agency wants to construct a 99% confidence lower bound\n",
    "for the proportion of dentists who recommend a certain brand of tooth-\n",
    "paste. The margin of error is to be 0.02. How large should the sample\n",
    "be?"
   ]
  },
  {
   "cell_type": "code",
   "execution_count": 135,
   "id": "ad49e829",
   "metadata": {},
   "outputs": [],
   "source": [
    "alpha<-0.01\n",
    "m.e<-0.02\n",
    "## find sample size or n\n",
    "## but what is the value of p.hat?"
   ]
  },
  {
   "cell_type": "markdown",
   "id": "5f0e7cdd",
   "metadata": {},
   "source": [
    "$$\\mu_{1-\\alpha}\\cdot \\sqrt{ \\frac{\\hat{p}(1-\\hat{p})}{n}}=0.02$$<br>\n",
    "we have to find $\\hat{p}$ for which the function $y=\\hat{p}(1-\\hat{p})$ is maximum.<br>\n",
    "$y=\\hat{p}-\\hat{p}^2$<br>\n",
    "$\\frac{dy}{d\\hat{p}}=1-2\\hat{p}$<br>\n",
    "at null point we know $\\frac{dy}{d\\hat{p}}=0$ <br>\n",
    "or $$1-2\\hat{p}=0$$<br>\n",
    "   $$\\hat{p}=\\frac{1}{2}$$"
   ]
  },
  {
   "cell_type": "code",
   "execution_count": 141,
   "id": "36ef8ee0",
   "metadata": {},
   "outputs": [
    {
     "data": {
      "text/html": [
       "3382.43401940896"
      ],
      "text/latex": [
       "3382.43401940896"
      ],
      "text/markdown": [
       "3382.43401940896"
      ],
      "text/plain": [
       "[1] 3382.434"
      ]
     },
     "metadata": {},
     "output_type": "display_data"
    }
   ],
   "source": [
    "## p.hat=1/5\n",
    "# p.hat(1-p.hat) = 1/2*1/2=1/4\n",
    "# so\n",
    "# qnorm(1-alpha/2)*sqrt( (1/4)/n) = m.e\n",
    "# => sqrt( (1/4)/n) = (m.e) / qnorm(1-alpha)\n",
    "# => (1/4)/n = ( (m.e) / qnorm(1-alpha) )**2\n",
    "# => (1/4)/( (m.e) / qnorm(1-alpha) )**2 = n\n",
    "n<- (1/4)/( (m.e) / qnorm(1-alpha) )**2\n",
    "n "
   ]
  },
  {
   "cell_type": "markdown",
   "id": "2d4e5f81",
   "metadata": {},
   "source": [
    "<h3 style=\"color:blue;text-align:center\">Excercise 10</h3>"
   ]
  },
  {
   "cell_type": "markdown",
   "id": "30aea674",
   "metadata": {},
   "source": [
    "The interval [45.6, 47.8] is a symmetric 99% confidence interval for the\n",
    "unknown parameter µ based on a sample $x_1 , \\cdots , x_{10}$ from a normal\n",
    "distribution $N (\\mu, \\sigma^2 )$ with unknown σ. Calculate the sample mean x̄\n",
    "and the sample standard deviation s."
   ]
  },
  {
   "cell_type": "code",
   "execution_count": 148,
   "id": "8bc35109",
   "metadata": {
    "scrolled": true
   },
   "outputs": [
    {
     "data": {
      "text/html": [
       "46.7"
      ],
      "text/latex": [
       "46.7"
      ],
      "text/markdown": [
       "46.7"
      ],
      "text/plain": [
       "[1] 46.7"
      ]
     },
     "metadata": {},
     "output_type": "display_data"
    }
   ],
   "source": [
    "n<-10\n",
    "## as symmetric, mean=(upper bound + lower bound)/2\n",
    "l<-45.6\n",
    "u<-47.8\n",
    "sm_mean<-(l+u)/2\n",
    "sm_mean"
   ]
  },
  {
   "cell_type": "code",
   "execution_count": null,
   "id": "552e91b0",
   "metadata": {},
   "outputs": [],
   "source": [
    "# sample sd\n",
    "# we know"
   ]
  },
  {
   "cell_type": "markdown",
   "id": "5f436c9c",
   "metadata": {},
   "source": [
    "$$\\left[X(n) - t_{1-\\frac{\\alpha}{2};n-1}\\cdot\\frac{s(n)}{\\sqrt{n}},X(n) + t_{1-\\frac{\\alpha}{2};n-1}\\cdot\\frac{s(n)}{\\sqrt{n}}\\right]$$"
   ]
  },
  {
   "cell_type": "markdown",
   "id": "d87959f4",
   "metadata": {},
   "source": [
    "or,\n",
    "$$X(n) - t_{(1-\\frac{\\alpha}{2});(n-1)}\\cdot\\frac{s(n)}{\\sqrt{n}}=\\text{lower bound}$$<br>\n",
    "we have to find s(n)."
   ]
  },
  {
   "cell_type": "code",
   "execution_count": 158,
   "id": "a183bdb5",
   "metadata": {},
   "outputs": [],
   "source": [
    "n<-10\n",
    "sm_mean<-sm_mean\n",
    "alpha<-0.01"
   ]
  },
  {
   "cell_type": "code",
   "execution_count": 161,
   "id": "f5eb3bd8",
   "metadata": {},
   "outputs": [
    {
     "data": {
      "text/html": [
       "1.07"
      ],
      "text/latex": [
       "1.07"
      ],
      "text/markdown": [
       "1.07"
      ],
      "text/plain": [
       "[1] 1.07"
      ]
     },
     "metadata": {},
     "output_type": "display_data"
    }
   ],
   "source": [
    "# sm_mean - qt(1-alpha/2,n-1)*s/sqrt(n) = l\n",
    "#=> sm_mean - l = qt(1-alpha/2,n-1)*s/sqrt(n) \n",
    "#=> (sm_mean - l)*sqrt(n)  = qt(1-alpha/2,n-1)*s\n",
    "#=> (sm_mean - l)*sqrt(n)/ qt(1-alpha/2,n-1) = s\n",
    "s<- ((sm_mean - l)*sqrt(n)) / qt(1-alpha/2,n-1)\n",
    "s %>% round(2)"
   ]
  },
  {
   "cell_type": "markdown",
   "id": "504f044c",
   "metadata": {},
   "source": [
    "<h3 style=\"color:blue;text-align:center\">Excercise 11</h3>"
   ]
  },
  {
   "cell_type": "markdown",
   "id": "9137cd27",
   "metadata": {},
   "source": [
    "The waiting time at the pay desk of a certain supermarket is normally\n",
    "distributed with mean waiting time µ and known standard deviation\n",
    "σ = 1, 8 minutes. A confidence interval for the mean waiting time\n",
    "(in minutes) for this supermarket is [5.12; 8.32]. If the sample size is\n",
    "n = 10, what is then the confidence level?"
   ]
  },
  {
   "cell_type": "code",
   "execution_count": 167,
   "id": "73bc6c79",
   "metadata": {},
   "outputs": [],
   "source": [
    "u<-8.32\n",
    "l<-5.12\n",
    "len_of_interval<-u-l\n",
    "n<-10\n",
    "sigma<-1.8\n",
    "# find alpha"
   ]
  },
  {
   "cell_type": "markdown",
   "id": "f14d4e46",
   "metadata": {},
   "source": [
    "as $$u=X(n) + t_{(1-\\frac{\\alpha}{2});(n-1)}\\cdot\\frac{s(n)}{\\sqrt{n}}$$<br> and\n",
    "$$l=X(n) - t_{(1-\\frac{\\alpha}{2});(n-1)}\\cdot\\frac{s(n)}{\\sqrt{n}}$$<br> so \n",
    "$$u-l=2\\cdot t_{(1-\\frac{\\alpha}{2});(n-1)}\\cdot\\frac{s(n)}{\\sqrt{n}}$$<br>\n",
    "or \n",
    "$$\\text{len of interval}=2\\cdot t_{(1-\\frac{\\alpha}{2});(n-1)}\\cdot\\frac{s(n)}{\\sqrt{n}}$$<br>"
   ]
  },
  {
   "cell_type": "code",
   "execution_count": 171,
   "id": "697e49eb",
   "metadata": {},
   "outputs": [
    {
     "data": {
      "text/html": [
       "0.997529946557939"
      ],
      "text/latex": [
       "0.997529946557939"
      ],
      "text/markdown": [
       "0.997529946557939"
      ],
      "text/plain": [
       "[1] 0.9975299"
      ]
     },
     "metadata": {},
     "output_type": "display_data"
    }
   ],
   "source": [
    "pnorm(len_of_interval / (2*(sigma/sqrt(n))))"
   ]
  },
  {
   "cell_type": "code",
   "execution_count": 179,
   "id": "2fc7b44b",
   "metadata": {},
   "outputs": [
    {
     "data": {
      "text/html": [
       "0.005"
      ],
      "text/latex": [
       "0.005"
      ],
      "text/markdown": [
       "0.005"
      ],
      "text/plain": [
       "[1] 0.005"
      ]
     },
     "metadata": {},
     "output_type": "display_data"
    }
   ],
   "source": [
    "## len_of_interval = qnorm(1-alpha/2)\n",
    "##=> (len_of_interval) / 2*(sigma/sqrt(n))\n",
    "##=> pnorm((len_of_interval) / 2*(sigma/sqrt(n)))=1-alpha/2\n",
    "##=> alpha/2 = 1 - pnorm((len_of_interval) / 2*(sigma/sqrt(n)))\n",
    "##=> alpha = (1 - pnorm((len_of_interval) / 2*(sigma/sqrt(n))))/2\n",
    "alpha <- (1 - pnorm(len_of_interval / (2*(sigma/sqrt(n)))))*2\n",
    "alpha<-alpha %>% round(3)\n",
    "alpha"
   ]
  },
  {
   "cell_type": "code",
   "execution_count": 181,
   "id": "cd056867",
   "metadata": {},
   "outputs": [
    {
     "data": {
      "text/html": [
       "99.5"
      ],
      "text/latex": [
       "99.5"
      ],
      "text/markdown": [
       "99.5"
      ],
      "text/plain": [
       "[1] 99.5"
      ]
     },
     "metadata": {},
     "output_type": "display_data"
    }
   ],
   "source": [
    "c.i<-1-alpha\n",
    "c.i*100"
   ]
  }
 ],
 "metadata": {
  "kernelspec": {
   "display_name": "R",
   "language": "R",
   "name": "ir"
  },
  "language_info": {
   "codemirror_mode": "r",
   "file_extension": ".r",
   "mimetype": "text/x-r-source",
   "name": "R",
   "pygments_lexer": "r",
   "version": "4.2.2"
  }
 },
 "nbformat": 4,
 "nbformat_minor": 5
}

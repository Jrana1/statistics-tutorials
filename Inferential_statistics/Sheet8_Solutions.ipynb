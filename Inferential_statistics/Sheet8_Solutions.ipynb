{
 "cells": [
  {
   "cell_type": "markdown",
   "id": "d64d8bbf",
   "metadata": {},
   "source": [
    "<h1 style=\"color:blue;text-align:center\">Hypothesis Testing</h1>"
   ]
  },
  {
   "cell_type": "code",
   "execution_count": 1,
   "id": "834ff4f7",
   "metadata": {
    "scrolled": true
   },
   "outputs": [
    {
     "name": "stderr",
     "output_type": "stream",
     "text": [
      "── \u001b[1mAttaching core tidyverse packages\u001b[22m ──────────────────────────────── tidyverse 2.0.0 ──\n",
      "\u001b[32m✔\u001b[39m \u001b[34mdplyr    \u001b[39m 1.1.4     \u001b[32m✔\u001b[39m \u001b[34mreadr    \u001b[39m 2.1.4\n",
      "\u001b[32m✔\u001b[39m \u001b[34mforcats  \u001b[39m 1.0.0     \u001b[32m✔\u001b[39m \u001b[34mstringr  \u001b[39m 1.5.1\n",
      "\u001b[32m✔\u001b[39m \u001b[34mggplot2  \u001b[39m 3.4.4     \u001b[32m✔\u001b[39m \u001b[34mtibble   \u001b[39m 3.2.1\n",
      "\u001b[32m✔\u001b[39m \u001b[34mlubridate\u001b[39m 1.9.3     \u001b[32m✔\u001b[39m \u001b[34mtidyr    \u001b[39m 1.3.0\n",
      "\u001b[32m✔\u001b[39m \u001b[34mpurrr    \u001b[39m 1.0.2     \n",
      "── \u001b[1mConflicts\u001b[22m ────────────────────────────────────────────────── tidyverse_conflicts() ──\n",
      "\u001b[31m✖\u001b[39m \u001b[34mdplyr\u001b[39m::\u001b[32mfilter()\u001b[39m masks \u001b[34mstats\u001b[39m::filter()\n",
      "\u001b[31m✖\u001b[39m \u001b[34mdplyr\u001b[39m::\u001b[32mlag()\u001b[39m    masks \u001b[34mstats\u001b[39m::lag()\n",
      "\u001b[36mℹ\u001b[39m Use the conflicted package (\u001b[3m\u001b[34m<http://conflicted.r-lib.org/>\u001b[39m\u001b[23m) to force all conflicts to become errors\n"
     ]
    }
   ],
   "source": [
    "library(tidyverse)"
   ]
  },
  {
   "cell_type": "markdown",
   "id": "03592773",
   "metadata": {},
   "source": [
    "<h3 style=\"color:blue;text-align:center\">Exercise 1</h3>"
   ]
  },
  {
   "cell_type": "markdown",
   "id": "6de2ad9d",
   "metadata": {},
   "source": [
    "A tire manufacturer claims that its tires will last no less than an average\n",
    "of 50,000 km before they need to be replaced. A consumer group wishes\n",
    "to challenge this claim."
   ]
  },
  {
   "cell_type": "markdown",
   "id": "d84c8dd0",
   "metadata": {},
   "source": [
    "+ (a) Clearly define the parameter of interest in this problem."
   ]
  },
  {
   "cell_type": "code",
   "execution_count": null,
   "id": "d18ccc7e",
   "metadata": {},
   "outputs": [],
   "source": [
    "# avg life time of tires"
   ]
  },
  {
   "cell_type": "markdown",
   "id": "007d5380",
   "metadata": {},
   "source": [
    "+ (b) State $H_0$ and $H_1$ in terms of this parameter."
   ]
  },
  {
   "cell_type": "markdown",
   "id": "0c9abca0",
   "metadata": {},
   "source": [
    "$H_0:\\mu \\geq50, H_1: u<50$"
   ]
  },
  {
   "cell_type": "markdown",
   "id": "f54a7490",
   "metadata": {},
   "source": [
    "+ (c) In the context of the problem, state what it means to make a type\n",
    "I and type II error."
   ]
  },
  {
   "cell_type": "markdown",
   "id": "e5389e16",
   "metadata": {},
   "source": [
    "+ **Type I error:** rejecting the manufacturer’s claim when in fact it is true.\n",
    "+ **Type II error:** not rejecting the manufacturer’s claim when in fact\n",
    "   it is false."
   ]
  },
  {
   "cell_type": "markdown",
   "id": "67a849d0",
   "metadata": {},
   "source": [
    "+ (d) Suppose we set the significance level of the test at 10%, what does this number mean?"
   ]
  },
  {
   "cell_type": "code",
   "execution_count": null,
   "id": "93a83c0f",
   "metadata": {},
   "outputs": [],
   "source": [
    "## the probability of making type I error is 10%."
   ]
  },
  {
   "cell_type": "markdown",
   "id": "85789e01",
   "metadata": {},
   "source": [
    "<h3 style=\"color:blue;text-align:center\">Exercise 4</h3>"
   ]
  },
  {
   "cell_type": "markdown",
   "id": "25a5bd23",
   "metadata": {},
   "source": [
    "A vaccine that is currently used to immunize people against a certain\n",
    "infection has an 80% success rate. That is, 80% of individuals who\n",
    "receive this vaccine will develop immunity against the infection. A\n",
    "manufacturer of a new vaccine claims that its vaccine has a higher\n",
    "success rate."
   ]
  },
  {
   "cell_type": "markdown",
   "id": "4ade0705",
   "metadata": {},
   "source": [
    "+ (a) Define the parameter of interest."
   ]
  },
  {
   "cell_type": "code",
   "execution_count": null,
   "id": "9a78834e",
   "metadata": {},
   "outputs": [],
   "source": [
    "# p= proportion of people who will develope immunity against the infection\n",
    "# after getting the vaccine"
   ]
  },
  {
   "cell_type": "markdown",
   "id": "17ceb870",
   "metadata": {},
   "source": [
    "+ Suppose in a clinical trial, 200 people received the new vaccine.\n",
    "    Of these, 172 became immune to the infection. Based on this,\n",
    "    can we say that the new vaccine is indeed more effective than the\n",
    "    current one? What is the corresponding Null-Hypothesis? Test\n",
    "    at a 5% significance level and state your conclusion in the context\n",
    "    of the problem."
   ]
  },
  {
   "cell_type": "code",
   "execution_count": 7,
   "id": "134232d5",
   "metadata": {},
   "outputs": [
    {
     "data": {
      "text/html": [
       "2.12132034355964"
      ],
      "text/latex": [
       "2.12132034355964"
      ],
      "text/markdown": [
       "2.12132034355964"
      ],
      "text/plain": [
       "[1] 2.12132"
      ]
     },
     "metadata": {},
     "output_type": "display_data"
    }
   ],
   "source": [
    "# H0: p<=0.8, H1: p>0.8\n",
    "p0<-0.8\n",
    "n<-200\n",
    "x<-172\n",
    "p<-x/n\n",
    "alpha<-0.05\n",
    "## approx\n",
    "z_score<- (p-p0)/ sqrt( (p0*(1-p0))/n )\n",
    "z_score"
   ]
  },
  {
   "cell_type": "code",
   "execution_count": 8,
   "id": "6be2395c",
   "metadata": {},
   "outputs": [
    {
     "data": {
      "text/html": [
       "TRUE"
      ],
      "text/latex": [
       "TRUE"
      ],
      "text/markdown": [
       "TRUE"
      ],
      "text/plain": [
       "[1] TRUE"
      ]
     },
     "metadata": {},
     "output_type": "display_data"
    }
   ],
   "source": [
    "# reject H0 if z_score > qnorm(1-alpha)\n",
    "z_score > qnorm(1-alpha)"
   ]
  },
  {
   "cell_type": "code",
   "execution_count": null,
   "id": "a8343337",
   "metadata": {},
   "outputs": [],
   "source": [
    "## so we reject H0, that's mean the new vaccine provides more immunity than\n",
    "# than the old one"
   ]
  },
  {
   "cell_type": "code",
   "execution_count": 9,
   "id": "deef6ad6",
   "metadata": {},
   "outputs": [
    {
     "data": {
      "text/html": [
       "0.0169474267623447"
      ],
      "text/latex": [
       "0.0169474267623447"
      ],
      "text/markdown": [
       "0.0169474267623447"
      ],
      "text/plain": [
       "[1] 0.01694743"
      ]
     },
     "metadata": {},
     "output_type": "display_data"
    }
   ],
   "source": [
    "p_val<-1 - pnorm(z_score)\n",
    "p_val"
   ]
  },
  {
   "cell_type": "markdown",
   "id": "4d591123",
   "metadata": {},
   "source": [
    "**Decision:** Since the p-value 0.0170 is smaller than the given sig-\n",
    "nificance level of 0.05, the null hypothesis is rejected. We can\n",
    "conclude that the new vaccine is indeed more effective than the\n",
    "current one."
   ]
  },
  {
   "cell_type": "markdown",
   "id": "e8458f57",
   "metadata": {},
   "source": [
    "+ (c) In making the above conclusion, which type of error are you risking, type I or type II?"
   ]
  },
  {
   "cell_type": "code",
   "execution_count": 2,
   "id": "7892475a",
   "metadata": {},
   "outputs": [],
   "source": [
    "library(TeachingDemos)"
   ]
  },
  {
   "cell_type": "code",
   "execution_count": null,
   "id": "ab4de3df",
   "metadata": {},
   "outputs": [],
   "source": [
    "## type I error as we are rejecting the Null-Hypothesis"
   ]
  },
  {
   "cell_type": "code",
   "execution_count": 11,
   "id": "6179040a",
   "metadata": {
    "scrolled": true
   },
   "outputs": [
    {
     "data": {
      "text/plain": [
       "\n",
       "\tExact binomial test\n",
       "\n",
       "data:  x and n\n",
       "number of successes = 172, number of trials = 200, p-value = 0.01793\n",
       "alternative hypothesis: true probability of success is greater than 0.8\n",
       "95 percent confidence interval:\n",
       " 0.8131255 1.0000000\n",
       "sample estimates:\n",
       "probability of success \n",
       "                  0.86 \n"
      ]
     },
     "metadata": {},
     "output_type": "display_data"
    }
   ],
   "source": [
    "## exact test\n",
    "binom.test(x = x, p = p0,n = n,alternative = 'greater',\n",
    "           conf.level = 1-alpha)"
   ]
  },
  {
   "cell_type": "markdown",
   "id": "d8c97bf2",
   "metadata": {},
   "source": [
    "<h3 style=\"color:blue;text-align:center\">Exercise 5</h3>"
   ]
  },
  {
   "cell_type": "markdown",
   "id": "77bcc6a4",
   "metadata": {},
   "source": [
    "A magician uses a coin. You believe that the coin is biased, but you\n",
    "are not sure if it will come up heads or tails more often. You watch the\n",
    "magician flip the coin and record what percentage of the time the coin\n",
    "comes up heads."
   ]
  },
  {
   "cell_type": "markdown",
   "id": "5bf527b5",
   "metadata": {},
   "source": [
    "+ (a) Is this a one-tailed or two-tailed test?"
   ]
  },
  {
   "cell_type": "code",
   "execution_count": null,
   "id": "57e392d5",
   "metadata": {},
   "outputs": [],
   "source": [
    "# H0 : p=1/2, H1: p!=1/2\n",
    "# it is a two-sided test"
   ]
  },
  {
   "cell_type": "markdown",
   "id": "f393381c",
   "metadata": {},
   "source": [
    "+ (b) Assuming that the coin is fair, what is the probability that out of 30 flips, it would come up one side 23 or more times?"
   ]
  },
  {
   "cell_type": "code",
   "execution_count": 23,
   "id": "9e13747f",
   "metadata": {
    "scrolled": true
   },
   "outputs": [
    {
     "data": {
      "text/html": [
       "0.0052228793501854"
      ],
      "text/latex": [
       "0.0052228793501854"
      ],
      "text/markdown": [
       "0.0052228793501854"
      ],
      "text/plain": [
       "[1] 0.005222879"
      ]
     },
     "metadata": {},
     "output_type": "display_data"
    }
   ],
   "source": [
    "n<-30\n",
    "p<-1/2\n",
    "# X ~ B(n=n,p=p)\n",
    "# find (X>=23 or X<7)\n",
    "1-pbinom(q = 22,size=n,prob = p) + pbinom(q=7,size = n,prob = p)"
   ]
  },
  {
   "cell_type": "markdown",
   "id": "19e1334a",
   "metadata": {},
   "source": [
    "+ (c) Can you reject the null hypothesis at the 0.05 level? What about\n",
    "  at the 0.01 level?"
   ]
  },
  {
   "cell_type": "code",
   "execution_count": null,
   "id": "0d0a0ddc",
   "metadata": {},
   "outputs": [],
   "source": [
    "# as p_val=0.0052228793501854 which is less than both 0.05 and 0.01\n",
    "# we reject H0 in both cases"
   ]
  },
  {
   "cell_type": "markdown",
   "id": "f9ac815c",
   "metadata": {},
   "source": [
    "<h3 style=\"color:blue;text-align:center\">Exercise 6</h3>"
   ]
  },
  {
   "cell_type": "markdown",
   "id": "27885fbf",
   "metadata": {},
   "source": [
    "A bag of potato chips of a certain brand has an advertised weight of 250\n",
    "grams. Actually, the weight (in grams) is a random variable. Suppose\n",
    "that a sample of 81 bags has mean 248 and standard deviation 5. At\n",
    "the 0.05 significance level, conduct the following tests and calculate the\n",
    "p-values."
   ]
  },
  {
   "cell_type": "markdown",
   "id": "18fbc0a9",
   "metadata": {},
   "source": [
    "+ (a) $H_0: \\mu>=250, H_1: \\mu <250$"
   ]
  },
  {
   "cell_type": "code",
   "execution_count": 3,
   "id": "c1062eaf",
   "metadata": {},
   "outputs": [
    {
     "data": {
      "text/html": [
       "-3.6"
      ],
      "text/latex": [
       "-3.6"
      ],
      "text/markdown": [
       "-3.6"
      ],
      "text/plain": [
       "[1] -3.6"
      ]
     },
     "metadata": {},
     "output_type": "display_data"
    }
   ],
   "source": [
    "n<-81\n",
    "mu0<-250\n",
    "mu<-248\n",
    "s<-5\n",
    "alpha<-0.05\n",
    "z_score<-( mu-mu0 ) / ( s/sqrt(n) )\n",
    "z_score"
   ]
  },
  {
   "cell_type": "code",
   "execution_count": 4,
   "id": "5447bbaf",
   "metadata": {},
   "outputs": [
    {
     "data": {
      "text/html": [
       "1.66412457858967"
      ],
      "text/latex": [
       "1.66412457858967"
      ],
      "text/markdown": [
       "1.66412457858967"
      ],
      "text/plain": [
       "[1] 1.664125"
      ]
     },
     "metadata": {},
     "output_type": "display_data"
    }
   ],
   "source": [
    "qt(1-alpha,n-1)"
   ]
  },
  {
   "cell_type": "code",
   "execution_count": 6,
   "id": "257993a5",
   "metadata": {
    "scrolled": true
   },
   "outputs": [
    {
     "data": {
      "text/html": [
       "0.000275073857185508"
      ],
      "text/latex": [
       "0.000275073857185508"
      ],
      "text/markdown": [
       "0.000275073857185508"
      ],
      "text/plain": [
       "[1] 0.0002750739"
      ]
     },
     "metadata": {},
     "output_type": "display_data"
    }
   ],
   "source": [
    "p_val<-pt(z_score,n-1)\n",
    "p_val"
   ]
  },
  {
   "cell_type": "markdown",
   "id": "a44d77bb",
   "metadata": {},
   "source": [
    "+ (b) $H_0: \\sigma>=7, H_1: \\sigma <7$"
   ]
  },
  {
   "cell_type": "code",
   "execution_count": 11,
   "id": "262a0f61",
   "metadata": {},
   "outputs": [
    {
     "data": {
      "text/html": [
       "40.8163265306122"
      ],
      "text/latex": [
       "40.8163265306122"
      ],
      "text/markdown": [
       "40.8163265306122"
      ],
      "text/plain": [
       "[1] 40.81633"
      ]
     },
     "metadata": {},
     "output_type": "display_data"
    }
   ],
   "source": [
    "n<-81\n",
    "s<-5\n",
    "sd0<-7\n",
    "z_score<- ( (n-1)*s**2 ) /sd0**2\n",
    "z_score "
   ]
  },
  {
   "cell_type": "code",
   "execution_count": 12,
   "id": "0fd3eb7d",
   "metadata": {
    "scrolled": true
   },
   "outputs": [
    {
     "data": {
      "text/html": [
       "60.3914783886895"
      ],
      "text/latex": [
       "60.3914783886895"
      ],
      "text/markdown": [
       "60.3914783886895"
      ],
      "text/plain": [
       "[1] 60.39148"
      ]
     },
     "metadata": {},
     "output_type": "display_data"
    }
   ],
   "source": [
    "qchisq(alpha,n-1)"
   ]
  },
  {
   "cell_type": "code",
   "execution_count": 13,
   "id": "e02b9ad7",
   "metadata": {
    "scrolled": true
   },
   "outputs": [
    {
     "data": {
      "text/html": [
       "8.08186114073781e-05"
      ],
      "text/latex": [
       "8.08186114073781e-05"
      ],
      "text/markdown": [
       "8.08186114073781e-05"
      ],
      "text/plain": [
       "[1] 8.081861e-05"
      ]
     },
     "metadata": {},
     "output_type": "display_data"
    }
   ],
   "source": [
    "p_val<-pchisq(z_score,n-1)\n",
    "p_val"
   ]
  },
  {
   "cell_type": "markdown",
   "id": "476d7036",
   "metadata": {},
   "source": [
    "<h3 style=\"color:blue;text-align:center\">Exercise 7</h3>"
   ]
  },
  {
   "cell_type": "markdown",
   "id": "c6505212",
   "metadata": {},
   "source": [
    "The length of a certain machined part is supposed to be 10 centimeters.\n",
    "In fact, due to imperfections in the manufacturing process, the actual\n",
    "length is a random variable. The standard deviation is due to inherent\n",
    "factors in the process, which remain fairly stable over time. From\n",
    "historical data, the standard deviation is known with a high degree\n",
    "of accuracy to be 0.3. The mean, on the other hand, may be set by\n",
    "adjusting various parameters in the process and hence may change to\n",
    "an unknown value fairly frequently. We are interested in testing"
   ]
  },
  {
   "cell_type": "markdown",
   "id": "003eb50a",
   "metadata": {},
   "source": [
    "$H_0: \\mu=10, H_1: \\mu \\neq 10$"
   ]
  },
  {
   "cell_type": "markdown",
   "id": "c447a631",
   "metadata": {},
   "source": [
    "+ (a) Suppose that a sample of 100 parts has mean 10.1. Perform the\n",
    "  test at the 0.1 level of significance."
   ]
  },
  {
   "cell_type": "code",
   "execution_count": 14,
   "id": "3e68fe9f",
   "metadata": {},
   "outputs": [
    {
     "data": {
      "text/html": [
       "3.33333333333332"
      ],
      "text/latex": [
       "3.33333333333332"
      ],
      "text/markdown": [
       "3.33333333333332"
      ],
      "text/plain": [
       "[1] 3.333333"
      ]
     },
     "metadata": {},
     "output_type": "display_data"
    }
   ],
   "source": [
    "n<-100\n",
    "mu<-10.10\n",
    "mu0<-10\n",
    "sigma<-0.3\n",
    "alpha<-0.1\n",
    "z_score<-( mu - mu0) / (sigma/sqrt(n))\n",
    "z_score"
   ]
  },
  {
   "cell_type": "code",
   "execution_count": 16,
   "id": "9fceadbd",
   "metadata": {
    "scrolled": true
   },
   "outputs": [
    {
     "data": {
      "text/html": [
       "TRUE"
      ],
      "text/latex": [
       "TRUE"
      ],
      "text/markdown": [
       "TRUE"
      ],
      "text/plain": [
       "[1] TRUE"
      ]
     },
     "metadata": {},
     "output_type": "display_data"
    }
   ],
   "source": [
    "# for two sided test rejection region\n",
    "z_score < qnorm(alpha/2) | z_score > qnorm(1-alpha/2)\n",
    "# so reject H0"
   ]
  },
  {
   "cell_type": "markdown",
   "id": "f693222e",
   "metadata": {},
   "source": [
    "+ (b) Compute the p-value for the data."
   ]
  },
  {
   "cell_type": "code",
   "execution_count": 18,
   "id": "73e524db",
   "metadata": {},
   "outputs": [
    {
     "data": {
      "text/html": [
       "0.000858120666393751"
      ],
      "text/latex": [
       "0.000858120666393751"
      ],
      "text/markdown": [
       "0.000858120666393751"
      ],
      "text/plain": [
       "[1] 0.0008581207"
      ]
     },
     "metadata": {},
     "output_type": "display_data"
    }
   ],
   "source": [
    "p_val<-1-pnorm(abs(z_score)) + pnorm(-abs(z_score))\n",
    "p_val"
   ]
  }
 ],
 "metadata": {
  "kernelspec": {
   "display_name": "R",
   "language": "R",
   "name": "ir"
  },
  "language_info": {
   "codemirror_mode": "r",
   "file_extension": ".r",
   "mimetype": "text/x-r-source",
   "name": "R",
   "pygments_lexer": "r",
   "version": "4.2.2"
  }
 },
 "nbformat": 4,
 "nbformat_minor": 5
}

{
 "cells": [
  {
   "cell_type": "markdown",
   "id": "3479f736",
   "metadata": {},
   "source": [
    "<h1 style=\"color:blue;text-align:center\">Two Samples Tests</h1>"
   ]
  },
  {
   "cell_type": "markdown",
   "id": "f6360f12",
   "metadata": {},
   "source": [
    "<h3 style=\"color:green;text-align:center\">Exercise 1</h3>"
   ]
  },
  {
   "cell_type": "markdown",
   "id": "97894071",
   "metadata": {},
   "source": [
    "Two machines produce screw-nuts. The diameters of the screw-nuts\n",
    "from machine 1 resp. 1 are normally distributed with standard deviation $\\sigma_1$ = 0.5 resp. $\\sigma_2$ = 0.6 and unknown means $\\mu_1$ resp $\\mu_2$. Two\n",
    "sample are drawn:<br>\n",
    "  + M1: 5.46, 5.34, 4.34, 4.82, 4.4, 5.12, 5.69, 5.53, 4.77, 5.82 <br>\n",
    "  + M2: 5.45, 5.31, 4.11, 4.69, 4.18, 5.05, 5.72, 5.54, 4.62, 5.89, 5.6, 5.19,3.31, 4.43, 5.3, 4.09"
   ]
  },
  {
   "cell_type": "markdown",
   "id": "9b8dc00f",
   "metadata": {},
   "source": [
    "Test the hypotheses µ1 ≥ µ2 at level α = 0.05"
   ]
  },
  {
   "cell_type": "code",
   "execution_count": 4,
   "id": "49440689",
   "metadata": {},
   "outputs": [
    {
     "name": "stderr",
     "output_type": "stream",
     "text": [
      "── \u001b[1mAttaching core tidyverse packages\u001b[22m ──────────────────────────────── tidyverse 2.0.0 ──\n",
      "\u001b[32m✔\u001b[39m \u001b[34mdplyr    \u001b[39m 1.1.4     \u001b[32m✔\u001b[39m \u001b[34mreadr    \u001b[39m 2.1.4\n",
      "\u001b[32m✔\u001b[39m \u001b[34mforcats  \u001b[39m 1.0.0     \u001b[32m✔\u001b[39m \u001b[34mstringr  \u001b[39m 1.5.1\n",
      "\u001b[32m✔\u001b[39m \u001b[34mggplot2  \u001b[39m 3.4.4     \u001b[32m✔\u001b[39m \u001b[34mtibble   \u001b[39m 3.2.1\n",
      "\u001b[32m✔\u001b[39m \u001b[34mlubridate\u001b[39m 1.9.3     \u001b[32m✔\u001b[39m \u001b[34mtidyr    \u001b[39m 1.3.0\n",
      "\u001b[32m✔\u001b[39m \u001b[34mpurrr    \u001b[39m 1.0.2     \n",
      "── \u001b[1mConflicts\u001b[22m ────────────────────────────────────────────────── tidyverse_conflicts() ──\n",
      "\u001b[31m✖\u001b[39m \u001b[34mdplyr\u001b[39m::\u001b[32mfilter()\u001b[39m masks \u001b[34mstats\u001b[39m::filter()\n",
      "\u001b[31m✖\u001b[39m \u001b[34mdplyr\u001b[39m::\u001b[32mlag()\u001b[39m    masks \u001b[34mstats\u001b[39m::lag()\n",
      "\u001b[36mℹ\u001b[39m Use the conflicted package (\u001b[3m\u001b[34m<http://conflicted.r-lib.org/>\u001b[39m\u001b[23m) to force all conflicts to become errors\n"
     ]
    }
   ],
   "source": [
    "library(tidyverse)\n",
    "library(TeachingDemos)"
   ]
  },
  {
   "cell_type": "code",
   "execution_count": 15,
   "id": "58fb9fb5",
   "metadata": {},
   "outputs": [],
   "source": [
    "m1<-c(5.46, 5.34, 4.34, 4.82, 4.4, 5.12, 5.69, 5.53, 4.77, 5.82)\n",
    "m2<-c(5.45, 5.31, 4.11, 4.69, 4.18, 5.05, 5.72, 5.54, 4.62, 5.89, 5.6, 5.19,3.31, 4.43, 5.3, 4.09)\n",
    "sigma1<-0.5\n",
    "sigma2<-0.6\n",
    "alpha<-0.05"
   ]
  },
  {
   "cell_type": "markdown",
   "id": "c6792390",
   "metadata": {},
   "source": [
    "$$z=\\frac{ \\mu_1 - \\mu_2 }{ \\sqrt{ \\frac{\\sigma_1^2}{n_1^2} + \\frac{\\sigma_2^2}{n_2^2} } }$$"
   ]
  },
  {
   "cell_type": "code",
   "execution_count": 16,
   "id": "2ef08c3c",
   "metadata": {},
   "outputs": [
    {
     "data": {
      "text/html": [
       "1.02778248774012"
      ],
      "text/latex": [
       "1.02778248774012"
      ],
      "text/markdown": [
       "1.02778248774012"
      ],
      "text/plain": [
       "[1] 1.027782"
      ]
     },
     "metadata": {},
     "output_type": "display_data"
    }
   ],
   "source": [
    "z_score<- ( mean(m1) - mean(m2) )/\n",
    "            sqrt(sigma1**2/length(m1) + \n",
    "                 sigma2**2/length(m2))\n",
    "z_score"
   ]
  },
  {
   "cell_type": "code",
   "execution_count": 17,
   "id": "2a1674bf",
   "metadata": {},
   "outputs": [
    {
     "data": {
      "text/html": [
       "FALSE"
      ],
      "text/latex": [
       "FALSE"
      ],
      "text/markdown": [
       "FALSE"
      ],
      "text/plain": [
       "[1] FALSE"
      ]
     },
     "metadata": {},
     "output_type": "display_data"
    }
   ],
   "source": [
    "## one sided test.\n",
    "# reject H0 if z_score < qnorm(alpha)\n",
    "z_score < qnorm(alpha)"
   ]
  },
  {
   "cell_type": "markdown",
   "id": "9cf9de37",
   "metadata": {},
   "source": [
    "+ do not reject $H_0$"
   ]
  },
  {
   "cell_type": "code",
   "execution_count": 18,
   "id": "5b72cfdb",
   "metadata": {},
   "outputs": [
    {
     "data": {
      "text/html": [
       "0.847973922138453"
      ],
      "text/latex": [
       "0.847973922138453"
      ],
      "text/markdown": [
       "0.847973922138453"
      ],
      "text/plain": [
       "[1] 0.8479739"
      ]
     },
     "metadata": {},
     "output_type": "display_data"
    }
   ],
   "source": [
    "p_val<-pnorm(z_score)\n",
    "p_val"
   ]
  },
  {
   "cell_type": "markdown",
   "id": "5ec2cca9",
   "metadata": {},
   "source": [
    "<h3 style=\"color:green;text-align:center\">Exercise 2</h3>"
   ]
  },
  {
   "cell_type": "markdown",
   "id": "30b22aa3",
   "metadata": {},
   "source": [
    "To test two training methods A and B for javelin throw, 60 untrained\n",
    "physical education students were randomly divided into two groups of\n",
    "m=25 and n=35 students, respectively. Before the start of the training\n",
    "phase First, a performance test was conducted and for each student\n",
    "the distance of the best of two throws was noted. After completion of\n",
    "the training phase, during which the students in group 1 were method\n",
    "A and the students of group 2 were trained according to method B,\n",
    "was trained, a corresponding performance test was performed. The following results were obtained for the differences between the values\n",
    "obtained in the second and the first performance test:"
   ]
  },
  {
   "cell_type": "markdown",
   "id": "1f9c6edb",
   "metadata": {},
   "source": [
    "+ group 1:\n",
    "    + 7.06, 11.84, 9.28, 7.92, 13.5, 3.98, 3.82, 7.34, 8.7, 9.24, 4.86, 3.32,12.78, 12, 5.24, 11.4, 6.56, 9.04, 7.72, 9.26, 7.88, 8.6, 9.3, 8.42, 8.54"
   ]
  },
  {
   "cell_type": "markdown",
   "id": "c0a50ad6",
   "metadata": {},
   "source": [
    "+ Group 2:\n",
    "   + 8.68, 6, 6.3, 10.24, 10.88, 5.36, 7.82, 4.7, 9.02, 9.78, 6.9, 5.8, 13.56,10.32, 13.3, 11.38, 7.94, 10.74, 13.68, 14.92, 7.42, 10.36, 10.54,5.22, 13.74, 12.98, 10.34, 10.02, 17.8, 13.04, 5.2, 9.4, 11.18, 12.68,12.36"
   ]
  },
  {
   "cell_type": "markdown",
   "id": "5e0f9490",
   "metadata": {},
   "source": [
    "Which hypothesis do you have to test if you want to show that the\n",
    "Method B is better than Method A? Perform an corresponding test at\n",
    "the level α = 0.05. Assume that the values obtained are a realization\n",
    "of independent in the group i $N(\\mu_i , \\sigma_i^2 )$-distributed random variables (i=1,2)"
   ]
  },
  {
   "cell_type": "code",
   "execution_count": 20,
   "id": "a6d9c1d7",
   "metadata": {},
   "outputs": [],
   "source": [
    "# 2 samples unpaired t-test\n",
    "# as sd's are not known\n",
    "s1<-c(7.06, 11.84, 9.28, 7.92, 13.5, 3.98, 3.82, 7.34, 8.7, 9.24, 4.86, 3.32,\n",
    "12.78, 12, 5.24, 11.4, 6.56, 9.04, 7.72, 9.26, 7.88, 8.6, 9.3, 8.42, 8.54)\n",
    "s2<-c(8.68, 6, 6.3, 10.24, 10.88, 5.36, 7.82, 4.7, 9.02, 9.78, 6.9, 5.8, 13.56,\n",
    "10.32, 13.3, 11.38, 7.94, 10.74, 13.68, 14.92, 7.42, 10.36, 10.54,\n",
    "5.22, 13.74, 12.98, 10.34, 10.02, 17.8, 13.04, 5.2, 9.4, 11.18, 12.68,\n",
    "12.36)\n",
    "m<-25\n",
    "n<-35\n",
    "alpha<-0.05"
   ]
  },
  {
   "cell_type": "code",
   "execution_count": 22,
   "id": "e8bb1b5d",
   "metadata": {
    "scrolled": true
   },
   "outputs": [
    {
     "data": {
      "text/plain": [
       "\n",
       "\tTwo Sample t-test\n",
       "\n",
       "data:  s1 and s2\n",
       "t = -2.1444, df = 58, p-value = 0.0181\n",
       "alternative hypothesis: true difference in means is less than 0\n",
       "95 percent confidence interval:\n",
       "       -Inf -0.3714405\n",
       "sample estimates:\n",
       "mean of x mean of y \n",
       " 8.304000  9.988571 \n"
      ]
     },
     "metadata": {},
     "output_type": "display_data"
    }
   ],
   "source": [
    "# H0: mu.s1>=mu.s2, H1: mu.s1<mu.s2\n",
    "# if both s1 and s2 has same variance\n",
    "\n",
    "t.test(x = s1,y = s2,mu=0,\n",
    "       paired = F,alternative = 'less'\n",
    "       ,var.equal = T,conf.level = 1-alpha)"
   ]
  },
  {
   "cell_type": "code",
   "execution_count": null,
   "id": "0f9d9f06",
   "metadata": {},
   "outputs": [],
   "source": [
    "# reject H0 as p_val < alpha"
   ]
  },
  {
   "cell_type": "code",
   "execution_count": 23,
   "id": "750487b0",
   "metadata": {
    "scrolled": true
   },
   "outputs": [
    {
     "data": {
      "text/plain": [
       "\n",
       "\tWelch Two Sample t-test\n",
       "\n",
       "data:  s1 and s2\n",
       "t = -2.2004, df = 55.976, p-value = 0.01596\n",
       "alternative hypothesis: true difference in means is less than 0\n",
       "95 percent confidence interval:\n",
       "       -Inf -0.4041207\n",
       "sample estimates:\n",
       "mean of x mean of y \n",
       " 8.304000  9.988571 \n"
      ]
     },
     "metadata": {},
     "output_type": "display_data"
    }
   ],
   "source": [
    "# if both s1 and s2 do not have same variance\n",
    "\n",
    "t.test(x = s1,y = s2,mu=0,\n",
    "       paired = F,alternative = 'less'\n",
    "       ,var.equal = F,conf.level = 1-alpha)"
   ]
  },
  {
   "cell_type": "code",
   "execution_count": null,
   "id": "e60e2187",
   "metadata": {},
   "outputs": [],
   "source": [
    "# still reject H0. As p_val<0.05"
   ]
  },
  {
   "cell_type": "markdown",
   "id": "ac03752d",
   "metadata": {},
   "source": [
    "<h3 style=\"color:green;text-align:center\">Exercise 3</h3>"
   ]
  },
  {
   "cell_type": "markdown",
   "id": "017b86be",
   "metadata": {},
   "source": [
    "A (hypothetical) experiment is conducted on the effect of alcohol on\n",
    "perceptual motor ability. Ten subjects are each tested twice, once after\n",
    "having two drinks and once after having two glasses of water. The two\n",
    "tests were on two different days to give the alcohol a chance to wear\n",
    "off. Half of the subjects were given alcohol first and half were given\n",
    "water first. The scores of the 10 subjects are shown below. The first\n",
    "number for each subject is their performance in the ”water” condition.\n",
    "Higher scores reflect better performance. Test to see if alcohol had a\n",
    "significant effect. Report the t and p values."
   ]
  },
  {
   "cell_type": "code",
   "execution_count": 25,
   "id": "2fa46d7b",
   "metadata": {},
   "outputs": [],
   "source": [
    "# | Person | 1  2  3  4  5  6  7  8  9  10         |\n",
    "#---------------------------------------------------\n",
    "# |wather  | 16, 15, 11, 20, 19, 14, 13, 15, 14, 16 |\n",
    "#---------------------------------------------------\n",
    "# |alcohol | 13, 13, 10, 18, 17, 11, 10, 15, 11, 16"
   ]
  },
  {
   "cell_type": "markdown",
   "id": "54510a95",
   "metadata": {},
   "source": [
    "Assume that the values obtained are a realization of independent in\n",
    "the group i $N(\\mu_i , \\sigma_i^2 )$-distributed random variables (i=1,2)."
   ]
  },
  {
   "cell_type": "code",
   "execution_count": 26,
   "id": "12b7088b",
   "metadata": {},
   "outputs": [],
   "source": [
    "# H0: mu=0, H1 m!=0\n",
    "# two paired sample t-test \n",
    "w<-c(16, 15, 11, 20, 19, 14, 13, 15, 14, 16 )\n",
    "a<-c(13, 13, 10, 18, 17, 11, 10, 15, 11, 16)\n",
    "alpha<-0.05"
   ]
  },
  {
   "cell_type": "code",
   "execution_count": 28,
   "id": "d03f2537",
   "metadata": {
    "scrolled": true
   },
   "outputs": [
    {
     "data": {
      "text/plain": [
       "\n",
       "\tPaired t-test\n",
       "\n",
       "data:  w and a\n",
       "t = 5.0186, df = 9, p-value = 0.0007205\n",
       "alternative hypothesis: true mean difference is not equal to 0\n",
       "95 percent confidence interval:\n",
       " 1.043561 2.756439\n",
       "sample estimates:\n",
       "mean difference \n",
       "            1.9 \n"
      ]
     },
     "metadata": {},
     "output_type": "display_data"
    }
   ],
   "source": [
    "# equal var\n",
    "t.test(x=w,y=a,alternative = 'two.sided',\n",
    "       var.equal = T,paired = T,\n",
    "       mu=0,conf.level = 1-alpha\n",
    "      )"
   ]
  },
  {
   "cell_type": "code",
   "execution_count": null,
   "id": "b2c5c95b",
   "metadata": {},
   "outputs": [],
   "source": [
    "# reject H0 as p-val is less then 0.05"
   ]
  },
  {
   "cell_type": "code",
   "execution_count": 29,
   "id": "45f5fe32",
   "metadata": {
    "scrolled": true
   },
   "outputs": [
    {
     "data": {
      "text/plain": [
       "\n",
       "\tPaired t-test\n",
       "\n",
       "data:  w and a\n",
       "t = 5.0186, df = 9, p-value = 0.0007205\n",
       "alternative hypothesis: true mean difference is not equal to 0\n",
       "95 percent confidence interval:\n",
       " 1.043561 2.756439\n",
       "sample estimates:\n",
       "mean difference \n",
       "            1.9 \n"
      ]
     },
     "metadata": {},
     "output_type": "display_data"
    }
   ],
   "source": [
    "# diff var\n",
    "t.test(x=w,y=a,alternative = 'two.sided',\n",
    "       var.equal = T,paired = T,\n",
    "       mu=0,conf.level = 1-alpha\n",
    "      )"
   ]
  },
  {
   "cell_type": "code",
   "execution_count": null,
   "id": "f08e56d5",
   "metadata": {},
   "outputs": [],
   "source": [
    "# still reject the H0"
   ]
  }
 ],
 "metadata": {
  "kernelspec": {
   "display_name": "R",
   "language": "R",
   "name": "ir"
  },
  "language_info": {
   "codemirror_mode": "r",
   "file_extension": ".r",
   "mimetype": "text/x-r-source",
   "name": "R",
   "pygments_lexer": "r",
   "version": "4.2.2"
  }
 },
 "nbformat": 4,
 "nbformat_minor": 5
}

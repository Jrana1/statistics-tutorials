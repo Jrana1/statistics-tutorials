{
 "cells": [
  {
   "cell_type": "markdown",
   "id": "cccc39a1",
   "metadata": {},
   "source": [
    "<h1 style=\"color:blue;text-align:center\">Sheet 6 (Probablity)<h1>"
   ]
  },
  {
   "cell_type": "markdown",
   "id": "2f5f2d92",
   "metadata": {},
   "source": [
    "<h2 style=\"color:green;text-align:center\">Discrete Random Variables and Distributions<h2>"
   ]
  },
  {
   "cell_type": "markdown",
   "id": "26071c79",
   "metadata": {},
   "source": [
    "<h2 style=\"color:purple;text-align:center\">Exercise 1<h2>"
   ]
  },
  {
   "cell_type": "markdown",
   "id": "59869be3",
   "metadata": {},
   "source": [
    "Suppose that two fair, standard dice are tossed and the sequence of\n",
    "scores $(X_1 , X_2 )$ recorded. Let $Y = X_1 + X_2$ , denote the sum of the\n",
    "scores, $U = min(X_1 , X_2 )$, the minimum score, and $V = max(X_1 , X_2 )$\n",
    "the maximum score."
   ]
  },
  {
   "cell_type": "markdown",
   "id": "23e6ec79",
   "metadata": {},
   "source": [
    "+ Find the probability density function of $(X_1 , X_2 )$"
   ]
  },
  {
   "cell_type": "code",
   "execution_count": null,
   "id": "e6c0f7ae",
   "metadata": {},
   "outputs": [],
   "source": [
    "# P(X=(x1,x2))=(i,j)=1/36, where i,j in {1:6}"
   ]
  },
  {
   "cell_type": "markdown",
   "id": "aea59059",
   "metadata": {},
   "source": [
    "+ Find the probability density function of Y"
   ]
  },
  {
   "cell_type": "code",
   "execution_count": 1,
   "id": "2464623c",
   "metadata": {},
   "outputs": [
    {
     "name": "stderr",
     "output_type": "stream",
     "text": [
      "── \u001b[1mAttaching core tidyverse packages\u001b[22m ────────────────────────────────────────────────────────────────────────── tidyverse 2.0.0 ──\n",
      "\u001b[32m✔\u001b[39m \u001b[34mdplyr    \u001b[39m 1.1.4     \u001b[32m✔\u001b[39m \u001b[34mreadr    \u001b[39m 2.1.4\n",
      "\u001b[32m✔\u001b[39m \u001b[34mforcats  \u001b[39m 1.0.0     \u001b[32m✔\u001b[39m \u001b[34mstringr  \u001b[39m 1.5.1\n",
      "\u001b[32m✔\u001b[39m \u001b[34mggplot2  \u001b[39m 3.4.4     \u001b[32m✔\u001b[39m \u001b[34mtibble   \u001b[39m 3.2.1\n",
      "\u001b[32m✔\u001b[39m \u001b[34mlubridate\u001b[39m 1.9.3     \u001b[32m✔\u001b[39m \u001b[34mtidyr    \u001b[39m 1.3.0\n",
      "\u001b[32m✔\u001b[39m \u001b[34mpurrr    \u001b[39m 1.0.2     \n",
      "── \u001b[1mConflicts\u001b[22m ──────────────────────────────────────────────────────────────────────────────────────────── tidyverse_conflicts() ──\n",
      "\u001b[31m✖\u001b[39m \u001b[34mdplyr\u001b[39m::\u001b[32mfilter()\u001b[39m masks \u001b[34mstats\u001b[39m::filter()\n",
      "\u001b[31m✖\u001b[39m \u001b[34mdplyr\u001b[39m::\u001b[32mlag()\u001b[39m    masks \u001b[34mstats\u001b[39m::lag()\n",
      "\u001b[36mℹ\u001b[39m Use the conflicted package (\u001b[3m\u001b[34m<http://conflicted.r-lib.org/>\u001b[39m\u001b[23m) to force all conflicts to become errors\n"
     ]
    }
   ],
   "source": [
    "library(tidyverse)"
   ]
  },
  {
   "cell_type": "code",
   "execution_count": 2,
   "id": "8e77a666",
   "metadata": {
    "scrolled": true
   },
   "outputs": [
    {
     "data": {
      "text/html": [
       "<table class=\"dataframe\">\n",
       "<caption>A tibble: 36 × 2</caption>\n",
       "<thead>\n",
       "\t<tr><th scope=col>x1</th><th scope=col>x2</th></tr>\n",
       "\t<tr><th scope=col>&lt;int&gt;</th><th scope=col>&lt;int&gt;</th></tr>\n",
       "</thead>\n",
       "<tbody>\n",
       "\t<tr><td>1</td><td>1</td></tr>\n",
       "\t<tr><td>1</td><td>2</td></tr>\n",
       "\t<tr><td>1</td><td>3</td></tr>\n",
       "\t<tr><td>1</td><td>4</td></tr>\n",
       "\t<tr><td>1</td><td>5</td></tr>\n",
       "\t<tr><td>1</td><td>6</td></tr>\n",
       "\t<tr><td>2</td><td>1</td></tr>\n",
       "\t<tr><td>2</td><td>2</td></tr>\n",
       "\t<tr><td>2</td><td>3</td></tr>\n",
       "\t<tr><td>2</td><td>4</td></tr>\n",
       "\t<tr><td>2</td><td>5</td></tr>\n",
       "\t<tr><td>2</td><td>6</td></tr>\n",
       "\t<tr><td>3</td><td>1</td></tr>\n",
       "\t<tr><td>3</td><td>2</td></tr>\n",
       "\t<tr><td>3</td><td>3</td></tr>\n",
       "\t<tr><td>3</td><td>4</td></tr>\n",
       "\t<tr><td>3</td><td>5</td></tr>\n",
       "\t<tr><td>3</td><td>6</td></tr>\n",
       "\t<tr><td>4</td><td>1</td></tr>\n",
       "\t<tr><td>4</td><td>2</td></tr>\n",
       "\t<tr><td>4</td><td>3</td></tr>\n",
       "\t<tr><td>4</td><td>4</td></tr>\n",
       "\t<tr><td>4</td><td>5</td></tr>\n",
       "\t<tr><td>4</td><td>6</td></tr>\n",
       "\t<tr><td>5</td><td>1</td></tr>\n",
       "\t<tr><td>5</td><td>2</td></tr>\n",
       "\t<tr><td>5</td><td>3</td></tr>\n",
       "\t<tr><td>5</td><td>4</td></tr>\n",
       "\t<tr><td>5</td><td>5</td></tr>\n",
       "\t<tr><td>5</td><td>6</td></tr>\n",
       "\t<tr><td>6</td><td>1</td></tr>\n",
       "\t<tr><td>6</td><td>2</td></tr>\n",
       "\t<tr><td>6</td><td>3</td></tr>\n",
       "\t<tr><td>6</td><td>4</td></tr>\n",
       "\t<tr><td>6</td><td>5</td></tr>\n",
       "\t<tr><td>6</td><td>6</td></tr>\n",
       "</tbody>\n",
       "</table>\n"
      ],
      "text/latex": [
       "A tibble: 36 × 2\n",
       "\\begin{tabular}{ll}\n",
       " x1 & x2\\\\\n",
       " <int> & <int>\\\\\n",
       "\\hline\n",
       "\t 1 & 1\\\\\n",
       "\t 1 & 2\\\\\n",
       "\t 1 & 3\\\\\n",
       "\t 1 & 4\\\\\n",
       "\t 1 & 5\\\\\n",
       "\t 1 & 6\\\\\n",
       "\t 2 & 1\\\\\n",
       "\t 2 & 2\\\\\n",
       "\t 2 & 3\\\\\n",
       "\t 2 & 4\\\\\n",
       "\t 2 & 5\\\\\n",
       "\t 2 & 6\\\\\n",
       "\t 3 & 1\\\\\n",
       "\t 3 & 2\\\\\n",
       "\t 3 & 3\\\\\n",
       "\t 3 & 4\\\\\n",
       "\t 3 & 5\\\\\n",
       "\t 3 & 6\\\\\n",
       "\t 4 & 1\\\\\n",
       "\t 4 & 2\\\\\n",
       "\t 4 & 3\\\\\n",
       "\t 4 & 4\\\\\n",
       "\t 4 & 5\\\\\n",
       "\t 4 & 6\\\\\n",
       "\t 5 & 1\\\\\n",
       "\t 5 & 2\\\\\n",
       "\t 5 & 3\\\\\n",
       "\t 5 & 4\\\\\n",
       "\t 5 & 5\\\\\n",
       "\t 5 & 6\\\\\n",
       "\t 6 & 1\\\\\n",
       "\t 6 & 2\\\\\n",
       "\t 6 & 3\\\\\n",
       "\t 6 & 4\\\\\n",
       "\t 6 & 5\\\\\n",
       "\t 6 & 6\\\\\n",
       "\\end{tabular}\n"
      ],
      "text/markdown": [
       "\n",
       "A tibble: 36 × 2\n",
       "\n",
       "| x1 &lt;int&gt; | x2 &lt;int&gt; |\n",
       "|---|---|\n",
       "| 1 | 1 |\n",
       "| 1 | 2 |\n",
       "| 1 | 3 |\n",
       "| 1 | 4 |\n",
       "| 1 | 5 |\n",
       "| 1 | 6 |\n",
       "| 2 | 1 |\n",
       "| 2 | 2 |\n",
       "| 2 | 3 |\n",
       "| 2 | 4 |\n",
       "| 2 | 5 |\n",
       "| 2 | 6 |\n",
       "| 3 | 1 |\n",
       "| 3 | 2 |\n",
       "| 3 | 3 |\n",
       "| 3 | 4 |\n",
       "| 3 | 5 |\n",
       "| 3 | 6 |\n",
       "| 4 | 1 |\n",
       "| 4 | 2 |\n",
       "| 4 | 3 |\n",
       "| 4 | 4 |\n",
       "| 4 | 5 |\n",
       "| 4 | 6 |\n",
       "| 5 | 1 |\n",
       "| 5 | 2 |\n",
       "| 5 | 3 |\n",
       "| 5 | 4 |\n",
       "| 5 | 5 |\n",
       "| 5 | 6 |\n",
       "| 6 | 1 |\n",
       "| 6 | 2 |\n",
       "| 6 | 3 |\n",
       "| 6 | 4 |\n",
       "| 6 | 5 |\n",
       "| 6 | 6 |\n",
       "\n"
      ],
      "text/plain": [
       "   x1 x2\n",
       "1  1  1 \n",
       "2  1  2 \n",
       "3  1  3 \n",
       "4  1  4 \n",
       "5  1  5 \n",
       "6  1  6 \n",
       "7  2  1 \n",
       "8  2  2 \n",
       "9  2  3 \n",
       "10 2  4 \n",
       "11 2  5 \n",
       "12 2  6 \n",
       "13 3  1 \n",
       "14 3  2 \n",
       "15 3  3 \n",
       "16 3  4 \n",
       "17 3  5 \n",
       "18 3  6 \n",
       "19 4  1 \n",
       "20 4  2 \n",
       "21 4  3 \n",
       "22 4  4 \n",
       "23 4  5 \n",
       "24 4  6 \n",
       "25 5  1 \n",
       "26 5  2 \n",
       "27 5  3 \n",
       "28 5  4 \n",
       "29 5  5 \n",
       "30 5  6 \n",
       "31 6  1 \n",
       "32 6  2 \n",
       "33 6  3 \n",
       "34 6  4 \n",
       "35 6  5 \n",
       "36 6  6 "
      ]
     },
     "metadata": {},
     "output_type": "display_data"
    }
   ],
   "source": [
    "expand_grid(x1=1:6,x2=1:6)"
   ]
  },
  {
   "cell_type": "code",
   "execution_count": 3,
   "id": "4c7c0a65",
   "metadata": {
    "scrolled": true
   },
   "outputs": [
    {
     "data": {
      "text/html": [
       "<table class=\"dataframe\">\n",
       "<caption>A tibble: 36 × 3</caption>\n",
       "<thead>\n",
       "\t<tr><th scope=col>x1</th><th scope=col>x2</th><th scope=col>y</th></tr>\n",
       "\t<tr><th scope=col>&lt;int&gt;</th><th scope=col>&lt;int&gt;</th><th scope=col>&lt;int&gt;</th></tr>\n",
       "</thead>\n",
       "<tbody>\n",
       "\t<tr><td>1</td><td>1</td><td> 2</td></tr>\n",
       "\t<tr><td>1</td><td>2</td><td> 3</td></tr>\n",
       "\t<tr><td>1</td><td>3</td><td> 4</td></tr>\n",
       "\t<tr><td>1</td><td>4</td><td> 5</td></tr>\n",
       "\t<tr><td>1</td><td>5</td><td> 6</td></tr>\n",
       "\t<tr><td>1</td><td>6</td><td> 7</td></tr>\n",
       "\t<tr><td>2</td><td>1</td><td> 3</td></tr>\n",
       "\t<tr><td>2</td><td>2</td><td> 4</td></tr>\n",
       "\t<tr><td>2</td><td>3</td><td> 5</td></tr>\n",
       "\t<tr><td>2</td><td>4</td><td> 6</td></tr>\n",
       "\t<tr><td>2</td><td>5</td><td> 7</td></tr>\n",
       "\t<tr><td>2</td><td>6</td><td> 8</td></tr>\n",
       "\t<tr><td>3</td><td>1</td><td> 4</td></tr>\n",
       "\t<tr><td>3</td><td>2</td><td> 5</td></tr>\n",
       "\t<tr><td>3</td><td>3</td><td> 6</td></tr>\n",
       "\t<tr><td>3</td><td>4</td><td> 7</td></tr>\n",
       "\t<tr><td>3</td><td>5</td><td> 8</td></tr>\n",
       "\t<tr><td>3</td><td>6</td><td> 9</td></tr>\n",
       "\t<tr><td>4</td><td>1</td><td> 5</td></tr>\n",
       "\t<tr><td>4</td><td>2</td><td> 6</td></tr>\n",
       "\t<tr><td>4</td><td>3</td><td> 7</td></tr>\n",
       "\t<tr><td>4</td><td>4</td><td> 8</td></tr>\n",
       "\t<tr><td>4</td><td>5</td><td> 9</td></tr>\n",
       "\t<tr><td>4</td><td>6</td><td>10</td></tr>\n",
       "\t<tr><td>5</td><td>1</td><td> 6</td></tr>\n",
       "\t<tr><td>5</td><td>2</td><td> 7</td></tr>\n",
       "\t<tr><td>5</td><td>3</td><td> 8</td></tr>\n",
       "\t<tr><td>5</td><td>4</td><td> 9</td></tr>\n",
       "\t<tr><td>5</td><td>5</td><td>10</td></tr>\n",
       "\t<tr><td>5</td><td>6</td><td>11</td></tr>\n",
       "\t<tr><td>6</td><td>1</td><td> 7</td></tr>\n",
       "\t<tr><td>6</td><td>2</td><td> 8</td></tr>\n",
       "\t<tr><td>6</td><td>3</td><td> 9</td></tr>\n",
       "\t<tr><td>6</td><td>4</td><td>10</td></tr>\n",
       "\t<tr><td>6</td><td>5</td><td>11</td></tr>\n",
       "\t<tr><td>6</td><td>6</td><td>12</td></tr>\n",
       "</tbody>\n",
       "</table>\n"
      ],
      "text/latex": [
       "A tibble: 36 × 3\n",
       "\\begin{tabular}{lll}\n",
       " x1 & x2 & y\\\\\n",
       " <int> & <int> & <int>\\\\\n",
       "\\hline\n",
       "\t 1 & 1 &  2\\\\\n",
       "\t 1 & 2 &  3\\\\\n",
       "\t 1 & 3 &  4\\\\\n",
       "\t 1 & 4 &  5\\\\\n",
       "\t 1 & 5 &  6\\\\\n",
       "\t 1 & 6 &  7\\\\\n",
       "\t 2 & 1 &  3\\\\\n",
       "\t 2 & 2 &  4\\\\\n",
       "\t 2 & 3 &  5\\\\\n",
       "\t 2 & 4 &  6\\\\\n",
       "\t 2 & 5 &  7\\\\\n",
       "\t 2 & 6 &  8\\\\\n",
       "\t 3 & 1 &  4\\\\\n",
       "\t 3 & 2 &  5\\\\\n",
       "\t 3 & 3 &  6\\\\\n",
       "\t 3 & 4 &  7\\\\\n",
       "\t 3 & 5 &  8\\\\\n",
       "\t 3 & 6 &  9\\\\\n",
       "\t 4 & 1 &  5\\\\\n",
       "\t 4 & 2 &  6\\\\\n",
       "\t 4 & 3 &  7\\\\\n",
       "\t 4 & 4 &  8\\\\\n",
       "\t 4 & 5 &  9\\\\\n",
       "\t 4 & 6 & 10\\\\\n",
       "\t 5 & 1 &  6\\\\\n",
       "\t 5 & 2 &  7\\\\\n",
       "\t 5 & 3 &  8\\\\\n",
       "\t 5 & 4 &  9\\\\\n",
       "\t 5 & 5 & 10\\\\\n",
       "\t 5 & 6 & 11\\\\\n",
       "\t 6 & 1 &  7\\\\\n",
       "\t 6 & 2 &  8\\\\\n",
       "\t 6 & 3 &  9\\\\\n",
       "\t 6 & 4 & 10\\\\\n",
       "\t 6 & 5 & 11\\\\\n",
       "\t 6 & 6 & 12\\\\\n",
       "\\end{tabular}\n"
      ],
      "text/markdown": [
       "\n",
       "A tibble: 36 × 3\n",
       "\n",
       "| x1 &lt;int&gt; | x2 &lt;int&gt; | y &lt;int&gt; |\n",
       "|---|---|---|\n",
       "| 1 | 1 |  2 |\n",
       "| 1 | 2 |  3 |\n",
       "| 1 | 3 |  4 |\n",
       "| 1 | 4 |  5 |\n",
       "| 1 | 5 |  6 |\n",
       "| 1 | 6 |  7 |\n",
       "| 2 | 1 |  3 |\n",
       "| 2 | 2 |  4 |\n",
       "| 2 | 3 |  5 |\n",
       "| 2 | 4 |  6 |\n",
       "| 2 | 5 |  7 |\n",
       "| 2 | 6 |  8 |\n",
       "| 3 | 1 |  4 |\n",
       "| 3 | 2 |  5 |\n",
       "| 3 | 3 |  6 |\n",
       "| 3 | 4 |  7 |\n",
       "| 3 | 5 |  8 |\n",
       "| 3 | 6 |  9 |\n",
       "| 4 | 1 |  5 |\n",
       "| 4 | 2 |  6 |\n",
       "| 4 | 3 |  7 |\n",
       "| 4 | 4 |  8 |\n",
       "| 4 | 5 |  9 |\n",
       "| 4 | 6 | 10 |\n",
       "| 5 | 1 |  6 |\n",
       "| 5 | 2 |  7 |\n",
       "| 5 | 3 |  8 |\n",
       "| 5 | 4 |  9 |\n",
       "| 5 | 5 | 10 |\n",
       "| 5 | 6 | 11 |\n",
       "| 6 | 1 |  7 |\n",
       "| 6 | 2 |  8 |\n",
       "| 6 | 3 |  9 |\n",
       "| 6 | 4 | 10 |\n",
       "| 6 | 5 | 11 |\n",
       "| 6 | 6 | 12 |\n",
       "\n"
      ],
      "text/plain": [
       "   x1 x2 y \n",
       "1  1  1   2\n",
       "2  1  2   3\n",
       "3  1  3   4\n",
       "4  1  4   5\n",
       "5  1  5   6\n",
       "6  1  6   7\n",
       "7  2  1   3\n",
       "8  2  2   4\n",
       "9  2  3   5\n",
       "10 2  4   6\n",
       "11 2  5   7\n",
       "12 2  6   8\n",
       "13 3  1   4\n",
       "14 3  2   5\n",
       "15 3  3   6\n",
       "16 3  4   7\n",
       "17 3  5   8\n",
       "18 3  6   9\n",
       "19 4  1   5\n",
       "20 4  2   6\n",
       "21 4  3   7\n",
       "22 4  4   8\n",
       "23 4  5   9\n",
       "24 4  6  10\n",
       "25 5  1   6\n",
       "26 5  2   7\n",
       "27 5  3   8\n",
       "28 5  4   9\n",
       "29 5  5  10\n",
       "30 5  6  11\n",
       "31 6  1   7\n",
       "32 6  2   8\n",
       "33 6  3   9\n",
       "34 6  4  10\n",
       "35 6  5  11\n",
       "36 6  6  12"
      ]
     },
     "metadata": {},
     "output_type": "display_data"
    }
   ],
   "source": [
    "expand_grid(x1=1:6,x2=1:6) %>% mutate(y=x1+x2)"
   ]
  },
  {
   "cell_type": "code",
   "execution_count": 4,
   "id": "20a232dc",
   "metadata": {
    "scrolled": true
   },
   "outputs": [
    {
     "data": {
      "text/html": [
       "<table class=\"dataframe\">\n",
       "<caption>A tibble: 11 × 2</caption>\n",
       "<thead>\n",
       "\t<tr><th scope=col>y</th><th scope=col>n</th></tr>\n",
       "\t<tr><th scope=col>&lt;int&gt;</th><th scope=col>&lt;int&gt;</th></tr>\n",
       "</thead>\n",
       "<tbody>\n",
       "\t<tr><td> 2</td><td>1</td></tr>\n",
       "\t<tr><td> 3</td><td>2</td></tr>\n",
       "\t<tr><td> 4</td><td>3</td></tr>\n",
       "\t<tr><td> 5</td><td>4</td></tr>\n",
       "\t<tr><td> 6</td><td>5</td></tr>\n",
       "\t<tr><td> 7</td><td>6</td></tr>\n",
       "\t<tr><td> 8</td><td>5</td></tr>\n",
       "\t<tr><td> 9</td><td>4</td></tr>\n",
       "\t<tr><td>10</td><td>3</td></tr>\n",
       "\t<tr><td>11</td><td>2</td></tr>\n",
       "\t<tr><td>12</td><td>1</td></tr>\n",
       "</tbody>\n",
       "</table>\n"
      ],
      "text/latex": [
       "A tibble: 11 × 2\n",
       "\\begin{tabular}{ll}\n",
       " y & n\\\\\n",
       " <int> & <int>\\\\\n",
       "\\hline\n",
       "\t  2 & 1\\\\\n",
       "\t  3 & 2\\\\\n",
       "\t  4 & 3\\\\\n",
       "\t  5 & 4\\\\\n",
       "\t  6 & 5\\\\\n",
       "\t  7 & 6\\\\\n",
       "\t  8 & 5\\\\\n",
       "\t  9 & 4\\\\\n",
       "\t 10 & 3\\\\\n",
       "\t 11 & 2\\\\\n",
       "\t 12 & 1\\\\\n",
       "\\end{tabular}\n"
      ],
      "text/markdown": [
       "\n",
       "A tibble: 11 × 2\n",
       "\n",
       "| y &lt;int&gt; | n &lt;int&gt; |\n",
       "|---|---|\n",
       "|  2 | 1 |\n",
       "|  3 | 2 |\n",
       "|  4 | 3 |\n",
       "|  5 | 4 |\n",
       "|  6 | 5 |\n",
       "|  7 | 6 |\n",
       "|  8 | 5 |\n",
       "|  9 | 4 |\n",
       "| 10 | 3 |\n",
       "| 11 | 2 |\n",
       "| 12 | 1 |\n",
       "\n"
      ],
      "text/plain": [
       "   y  n\n",
       "1   2 1\n",
       "2   3 2\n",
       "3   4 3\n",
       "4   5 4\n",
       "5   6 5\n",
       "6   7 6\n",
       "7   8 5\n",
       "8   9 4\n",
       "9  10 3\n",
       "10 11 2\n",
       "11 12 1"
      ]
     },
     "metadata": {},
     "output_type": "display_data"
    }
   ],
   "source": [
    "expand_grid(x1=1:6,x2=1:6) %>% mutate(y=x1+x2) %>% count(y)"
   ]
  },
  {
   "cell_type": "code",
   "execution_count": 5,
   "id": "64820e86",
   "metadata": {
    "scrolled": true
   },
   "outputs": [
    {
     "data": {
      "text/html": [
       "<table class=\"dataframe\">\n",
       "<caption>A tibble: 11 × 3</caption>\n",
       "<thead>\n",
       "\t<tr><th scope=col>y</th><th scope=col>n</th><th scope=col>prob</th></tr>\n",
       "\t<tr><th scope=col>&lt;int&gt;</th><th scope=col>&lt;int&gt;</th><th scope=col>&lt;dbl&gt;</th></tr>\n",
       "</thead>\n",
       "<tbody>\n",
       "\t<tr><td> 2</td><td>1</td><td>0.02777778</td></tr>\n",
       "\t<tr><td> 3</td><td>2</td><td>0.05555556</td></tr>\n",
       "\t<tr><td> 4</td><td>3</td><td>0.08333333</td></tr>\n",
       "\t<tr><td> 5</td><td>4</td><td>0.11111111</td></tr>\n",
       "\t<tr><td> 6</td><td>5</td><td>0.13888889</td></tr>\n",
       "\t<tr><td> 7</td><td>6</td><td>0.16666667</td></tr>\n",
       "\t<tr><td> 8</td><td>5</td><td>0.13888889</td></tr>\n",
       "\t<tr><td> 9</td><td>4</td><td>0.11111111</td></tr>\n",
       "\t<tr><td>10</td><td>3</td><td>0.08333333</td></tr>\n",
       "\t<tr><td>11</td><td>2</td><td>0.05555556</td></tr>\n",
       "\t<tr><td>12</td><td>1</td><td>0.02777778</td></tr>\n",
       "</tbody>\n",
       "</table>\n"
      ],
      "text/latex": [
       "A tibble: 11 × 3\n",
       "\\begin{tabular}{lll}\n",
       " y & n & prob\\\\\n",
       " <int> & <int> & <dbl>\\\\\n",
       "\\hline\n",
       "\t  2 & 1 & 0.02777778\\\\\n",
       "\t  3 & 2 & 0.05555556\\\\\n",
       "\t  4 & 3 & 0.08333333\\\\\n",
       "\t  5 & 4 & 0.11111111\\\\\n",
       "\t  6 & 5 & 0.13888889\\\\\n",
       "\t  7 & 6 & 0.16666667\\\\\n",
       "\t  8 & 5 & 0.13888889\\\\\n",
       "\t  9 & 4 & 0.11111111\\\\\n",
       "\t 10 & 3 & 0.08333333\\\\\n",
       "\t 11 & 2 & 0.05555556\\\\\n",
       "\t 12 & 1 & 0.02777778\\\\\n",
       "\\end{tabular}\n"
      ],
      "text/markdown": [
       "\n",
       "A tibble: 11 × 3\n",
       "\n",
       "| y &lt;int&gt; | n &lt;int&gt; | prob &lt;dbl&gt; |\n",
       "|---|---|---|\n",
       "|  2 | 1 | 0.02777778 |\n",
       "|  3 | 2 | 0.05555556 |\n",
       "|  4 | 3 | 0.08333333 |\n",
       "|  5 | 4 | 0.11111111 |\n",
       "|  6 | 5 | 0.13888889 |\n",
       "|  7 | 6 | 0.16666667 |\n",
       "|  8 | 5 | 0.13888889 |\n",
       "|  9 | 4 | 0.11111111 |\n",
       "| 10 | 3 | 0.08333333 |\n",
       "| 11 | 2 | 0.05555556 |\n",
       "| 12 | 1 | 0.02777778 |\n",
       "\n"
      ],
      "text/plain": [
       "   y  n prob      \n",
       "1   2 1 0.02777778\n",
       "2   3 2 0.05555556\n",
       "3   4 3 0.08333333\n",
       "4   5 4 0.11111111\n",
       "5   6 5 0.13888889\n",
       "6   7 6 0.16666667\n",
       "7   8 5 0.13888889\n",
       "8   9 4 0.11111111\n",
       "9  10 3 0.08333333\n",
       "10 11 2 0.05555556\n",
       "11 12 1 0.02777778"
      ]
     },
     "metadata": {},
     "output_type": "display_data"
    }
   ],
   "source": [
    "expand_grid(x1=1:6,x2=1:6) %>% mutate(y=x1+x2) %>% count(y) %>% mutate(prob=n/36)"
   ]
  },
  {
   "cell_type": "markdown",
   "id": "10733a7c",
   "metadata": {},
   "source": [
    "+ Find the probability density function of U."
   ]
  },
  {
   "cell_type": "code",
   "execution_count": 6,
   "id": "eb1b820d",
   "metadata": {
    "scrolled": true
   },
   "outputs": [
    {
     "data": {
      "text/html": [
       "<table class=\"dataframe\">\n",
       "<caption>A rowwise_df: 6 × 3</caption>\n",
       "<thead>\n",
       "\t<tr><th scope=col>u</th><th scope=col>n</th><th scope=col>prob</th></tr>\n",
       "\t<tr><th scope=col>&lt;int&gt;</th><th scope=col>&lt;int&gt;</th><th scope=col>&lt;dbl&gt;</th></tr>\n",
       "</thead>\n",
       "<tbody>\n",
       "\t<tr><td>1</td><td>11</td><td>0.30555556</td></tr>\n",
       "\t<tr><td>2</td><td> 9</td><td>0.25000000</td></tr>\n",
       "\t<tr><td>3</td><td> 7</td><td>0.19444444</td></tr>\n",
       "\t<tr><td>4</td><td> 5</td><td>0.13888889</td></tr>\n",
       "\t<tr><td>5</td><td> 3</td><td>0.08333333</td></tr>\n",
       "\t<tr><td>6</td><td> 1</td><td>0.02777778</td></tr>\n",
       "</tbody>\n",
       "</table>\n"
      ],
      "text/latex": [
       "A rowwise\\_df: 6 × 3\n",
       "\\begin{tabular}{lll}\n",
       " u & n & prob\\\\\n",
       " <int> & <int> & <dbl>\\\\\n",
       "\\hline\n",
       "\t 1 & 11 & 0.30555556\\\\\n",
       "\t 2 &  9 & 0.25000000\\\\\n",
       "\t 3 &  7 & 0.19444444\\\\\n",
       "\t 4 &  5 & 0.13888889\\\\\n",
       "\t 5 &  3 & 0.08333333\\\\\n",
       "\t 6 &  1 & 0.02777778\\\\\n",
       "\\end{tabular}\n"
      ],
      "text/markdown": [
       "\n",
       "A rowwise_df: 6 × 3\n",
       "\n",
       "| u &lt;int&gt; | n &lt;int&gt; | prob &lt;dbl&gt; |\n",
       "|---|---|---|\n",
       "| 1 | 11 | 0.30555556 |\n",
       "| 2 |  9 | 0.25000000 |\n",
       "| 3 |  7 | 0.19444444 |\n",
       "| 4 |  5 | 0.13888889 |\n",
       "| 5 |  3 | 0.08333333 |\n",
       "| 6 |  1 | 0.02777778 |\n",
       "\n"
      ],
      "text/plain": [
       "  u n  prob      \n",
       "1 1 11 0.30555556\n",
       "2 2  9 0.25000000\n",
       "3 3  7 0.19444444\n",
       "4 4  5 0.13888889\n",
       "5 5  3 0.08333333\n",
       "6 6  1 0.02777778"
      ]
     },
     "metadata": {},
     "output_type": "display_data"
    }
   ],
   "source": [
    "expand_grid(x1=1:6,x2=1:6) %>% rowwise() %>% mutate(u=min(x1,x2)) %>% \n",
    "                     count(u) %>% mutate(prob=n/36)"
   ]
  },
  {
   "cell_type": "markdown",
   "id": "3f2e4337",
   "metadata": {},
   "source": [
    "+ Find the probability density function of V ."
   ]
  },
  {
   "cell_type": "code",
   "execution_count": 7,
   "id": "753f294a",
   "metadata": {
    "scrolled": true
   },
   "outputs": [
    {
     "data": {
      "text/html": [
       "<table class=\"dataframe\">\n",
       "<caption>A rowwise_df: 6 × 3</caption>\n",
       "<thead>\n",
       "\t<tr><th scope=col>v</th><th scope=col>n</th><th scope=col>prob</th></tr>\n",
       "\t<tr><th scope=col>&lt;int&gt;</th><th scope=col>&lt;int&gt;</th><th scope=col>&lt;dbl&gt;</th></tr>\n",
       "</thead>\n",
       "<tbody>\n",
       "\t<tr><td>1</td><td> 1</td><td>0.02777778</td></tr>\n",
       "\t<tr><td>2</td><td> 3</td><td>0.08333333</td></tr>\n",
       "\t<tr><td>3</td><td> 5</td><td>0.13888889</td></tr>\n",
       "\t<tr><td>4</td><td> 7</td><td>0.19444444</td></tr>\n",
       "\t<tr><td>5</td><td> 9</td><td>0.25000000</td></tr>\n",
       "\t<tr><td>6</td><td>11</td><td>0.30555556</td></tr>\n",
       "</tbody>\n",
       "</table>\n"
      ],
      "text/latex": [
       "A rowwise\\_df: 6 × 3\n",
       "\\begin{tabular}{lll}\n",
       " v & n & prob\\\\\n",
       " <int> & <int> & <dbl>\\\\\n",
       "\\hline\n",
       "\t 1 &  1 & 0.02777778\\\\\n",
       "\t 2 &  3 & 0.08333333\\\\\n",
       "\t 3 &  5 & 0.13888889\\\\\n",
       "\t 4 &  7 & 0.19444444\\\\\n",
       "\t 5 &  9 & 0.25000000\\\\\n",
       "\t 6 & 11 & 0.30555556\\\\\n",
       "\\end{tabular}\n"
      ],
      "text/markdown": [
       "\n",
       "A rowwise_df: 6 × 3\n",
       "\n",
       "| v &lt;int&gt; | n &lt;int&gt; | prob &lt;dbl&gt; |\n",
       "|---|---|---|\n",
       "| 1 |  1 | 0.02777778 |\n",
       "| 2 |  3 | 0.08333333 |\n",
       "| 3 |  5 | 0.13888889 |\n",
       "| 4 |  7 | 0.19444444 |\n",
       "| 5 |  9 | 0.25000000 |\n",
       "| 6 | 11 | 0.30555556 |\n",
       "\n"
      ],
      "text/plain": [
       "  v n  prob      \n",
       "1 1  1 0.02777778\n",
       "2 2  3 0.08333333\n",
       "3 3  5 0.13888889\n",
       "4 4  7 0.19444444\n",
       "5 5  9 0.25000000\n",
       "6 6 11 0.30555556"
      ]
     },
     "metadata": {},
     "output_type": "display_data"
    }
   ],
   "source": [
    "expand_grid(x1=1:6,x2=1:6) %>% rowwise() %>% mutate(v=max(x1,x2)) %>% \n",
    "                     count(v) %>% mutate(prob=n/36)"
   ]
  },
  {
   "cell_type": "markdown",
   "id": "e6c7043c",
   "metadata": {},
   "source": [
    "+ Find the probability density function of $(U, V )$."
   ]
  },
  {
   "cell_type": "code",
   "execution_count": 8,
   "id": "ab637149",
   "metadata": {
    "scrolled": true
   },
   "outputs": [
    {
     "data": {
      "text/html": [
       "<table class=\"dataframe\">\n",
       "<caption>A rowwise_df: 21 × 4</caption>\n",
       "<thead>\n",
       "\t<tr><th scope=col>v</th><th scope=col>u</th><th scope=col>n</th><th scope=col>prob</th></tr>\n",
       "\t<tr><th scope=col>&lt;int&gt;</th><th scope=col>&lt;int&gt;</th><th scope=col>&lt;int&gt;</th><th scope=col>&lt;dbl&gt;</th></tr>\n",
       "</thead>\n",
       "<tbody>\n",
       "\t<tr><td>1</td><td>1</td><td>1</td><td>0.02777778</td></tr>\n",
       "\t<tr><td>2</td><td>1</td><td>2</td><td>0.05555556</td></tr>\n",
       "\t<tr><td>2</td><td>2</td><td>1</td><td>0.02777778</td></tr>\n",
       "\t<tr><td>3</td><td>1</td><td>2</td><td>0.05555556</td></tr>\n",
       "\t<tr><td>3</td><td>2</td><td>2</td><td>0.05555556</td></tr>\n",
       "\t<tr><td>3</td><td>3</td><td>1</td><td>0.02777778</td></tr>\n",
       "\t<tr><td>4</td><td>1</td><td>2</td><td>0.05555556</td></tr>\n",
       "\t<tr><td>4</td><td>2</td><td>2</td><td>0.05555556</td></tr>\n",
       "\t<tr><td>4</td><td>3</td><td>2</td><td>0.05555556</td></tr>\n",
       "\t<tr><td>4</td><td>4</td><td>1</td><td>0.02777778</td></tr>\n",
       "\t<tr><td>5</td><td>1</td><td>2</td><td>0.05555556</td></tr>\n",
       "\t<tr><td>5</td><td>2</td><td>2</td><td>0.05555556</td></tr>\n",
       "\t<tr><td>5</td><td>3</td><td>2</td><td>0.05555556</td></tr>\n",
       "\t<tr><td>5</td><td>4</td><td>2</td><td>0.05555556</td></tr>\n",
       "\t<tr><td>5</td><td>5</td><td>1</td><td>0.02777778</td></tr>\n",
       "\t<tr><td>6</td><td>1</td><td>2</td><td>0.05555556</td></tr>\n",
       "\t<tr><td>6</td><td>2</td><td>2</td><td>0.05555556</td></tr>\n",
       "\t<tr><td>6</td><td>3</td><td>2</td><td>0.05555556</td></tr>\n",
       "\t<tr><td>6</td><td>4</td><td>2</td><td>0.05555556</td></tr>\n",
       "\t<tr><td>6</td><td>5</td><td>2</td><td>0.05555556</td></tr>\n",
       "\t<tr><td>6</td><td>6</td><td>1</td><td>0.02777778</td></tr>\n",
       "</tbody>\n",
       "</table>\n"
      ],
      "text/latex": [
       "A rowwise\\_df: 21 × 4\n",
       "\\begin{tabular}{llll}\n",
       " v & u & n & prob\\\\\n",
       " <int> & <int> & <int> & <dbl>\\\\\n",
       "\\hline\n",
       "\t 1 & 1 & 1 & 0.02777778\\\\\n",
       "\t 2 & 1 & 2 & 0.05555556\\\\\n",
       "\t 2 & 2 & 1 & 0.02777778\\\\\n",
       "\t 3 & 1 & 2 & 0.05555556\\\\\n",
       "\t 3 & 2 & 2 & 0.05555556\\\\\n",
       "\t 3 & 3 & 1 & 0.02777778\\\\\n",
       "\t 4 & 1 & 2 & 0.05555556\\\\\n",
       "\t 4 & 2 & 2 & 0.05555556\\\\\n",
       "\t 4 & 3 & 2 & 0.05555556\\\\\n",
       "\t 4 & 4 & 1 & 0.02777778\\\\\n",
       "\t 5 & 1 & 2 & 0.05555556\\\\\n",
       "\t 5 & 2 & 2 & 0.05555556\\\\\n",
       "\t 5 & 3 & 2 & 0.05555556\\\\\n",
       "\t 5 & 4 & 2 & 0.05555556\\\\\n",
       "\t 5 & 5 & 1 & 0.02777778\\\\\n",
       "\t 6 & 1 & 2 & 0.05555556\\\\\n",
       "\t 6 & 2 & 2 & 0.05555556\\\\\n",
       "\t 6 & 3 & 2 & 0.05555556\\\\\n",
       "\t 6 & 4 & 2 & 0.05555556\\\\\n",
       "\t 6 & 5 & 2 & 0.05555556\\\\\n",
       "\t 6 & 6 & 1 & 0.02777778\\\\\n",
       "\\end{tabular}\n"
      ],
      "text/markdown": [
       "\n",
       "A rowwise_df: 21 × 4\n",
       "\n",
       "| v &lt;int&gt; | u &lt;int&gt; | n &lt;int&gt; | prob &lt;dbl&gt; |\n",
       "|---|---|---|---|\n",
       "| 1 | 1 | 1 | 0.02777778 |\n",
       "| 2 | 1 | 2 | 0.05555556 |\n",
       "| 2 | 2 | 1 | 0.02777778 |\n",
       "| 3 | 1 | 2 | 0.05555556 |\n",
       "| 3 | 2 | 2 | 0.05555556 |\n",
       "| 3 | 3 | 1 | 0.02777778 |\n",
       "| 4 | 1 | 2 | 0.05555556 |\n",
       "| 4 | 2 | 2 | 0.05555556 |\n",
       "| 4 | 3 | 2 | 0.05555556 |\n",
       "| 4 | 4 | 1 | 0.02777778 |\n",
       "| 5 | 1 | 2 | 0.05555556 |\n",
       "| 5 | 2 | 2 | 0.05555556 |\n",
       "| 5 | 3 | 2 | 0.05555556 |\n",
       "| 5 | 4 | 2 | 0.05555556 |\n",
       "| 5 | 5 | 1 | 0.02777778 |\n",
       "| 6 | 1 | 2 | 0.05555556 |\n",
       "| 6 | 2 | 2 | 0.05555556 |\n",
       "| 6 | 3 | 2 | 0.05555556 |\n",
       "| 6 | 4 | 2 | 0.05555556 |\n",
       "| 6 | 5 | 2 | 0.05555556 |\n",
       "| 6 | 6 | 1 | 0.02777778 |\n",
       "\n"
      ],
      "text/plain": [
       "   v u n prob      \n",
       "1  1 1 1 0.02777778\n",
       "2  2 1 2 0.05555556\n",
       "3  2 2 1 0.02777778\n",
       "4  3 1 2 0.05555556\n",
       "5  3 2 2 0.05555556\n",
       "6  3 3 1 0.02777778\n",
       "7  4 1 2 0.05555556\n",
       "8  4 2 2 0.05555556\n",
       "9  4 3 2 0.05555556\n",
       "10 4 4 1 0.02777778\n",
       "11 5 1 2 0.05555556\n",
       "12 5 2 2 0.05555556\n",
       "13 5 3 2 0.05555556\n",
       "14 5 4 2 0.05555556\n",
       "15 5 5 1 0.02777778\n",
       "16 6 1 2 0.05555556\n",
       "17 6 2 2 0.05555556\n",
       "18 6 3 2 0.05555556\n",
       "19 6 4 2 0.05555556\n",
       "20 6 5 2 0.05555556\n",
       "21 6 6 1 0.02777778"
      ]
     },
     "metadata": {},
     "output_type": "display_data"
    }
   ],
   "source": [
    "expand_grid(x1=1:6,x2=1:6) %>% rowwise() %>% mutate(v=max(x1,x2),u=min(x1,x2)) %>% \n",
    "                     count(v,u) %>% mutate(prob=n/36)"
   ]
  },
  {
   "cell_type": "markdown",
   "id": "d6d8bcce",
   "metadata": {},
   "source": [
    "<h2 style=\"color:purple;text-align:center\">Exercise 2<h2>"
   ]
  },
  {
   "cell_type": "markdown",
   "id": "d22f76b8",
   "metadata": {},
   "source": [
    "R offers for a large number of probability distributions functions. The\n",
    "commands for each distribution are prepended with a letter to indicate\n",
    "the functionality\n",
    "   +  “d” returns the height of the probability density function\n",
    "   + “p” returns the cumulative density function\n",
    "   + “q” returns the inverse cumulative density function (quantiles)\n",
    "   + “r” returns randomly generated numbers\n"
   ]
  },
  {
   "cell_type": "markdown",
   "id": "c854a78e",
   "metadata": {},
   "source": [
    "Consider an urn with 100 balls, where are 30 balls of them are red. 20\n",
    "balls are randomly drawn and let X be the number of red drawn balls."
   ]
  },
  {
   "cell_type": "markdown",
   "id": "d7d367b8",
   "metadata": {},
   "source": [
    "+ Determine the distribution of X if the balls are drawn with resp.\n",
    "   without replacement."
   ]
  },
  {
   "cell_type": "markdown",
   "id": "1db8081f",
   "metadata": {},
   "source": [
    "## without replacement."
   ]
  },
  {
   "cell_type": "code",
   "execution_count": null,
   "id": "f6a166c2",
   "metadata": {},
   "outputs": [],
   "source": [
    "# B~(n=20,prob=30/100) # binomial distribution"
   ]
  },
  {
   "cell_type": "markdown",
   "id": "6f69fe11",
   "metadata": {},
   "source": [
    "+ Plot the density of X."
   ]
  },
  {
   "cell_type": "code",
   "execution_count": 12,
   "id": "e8cbc9f7",
   "metadata": {
    "scrolled": true
   },
   "outputs": [
    {
     "data": {
      "text/html": [
       "<style>\n",
       ".list-inline {list-style: none; margin:0; padding: 0}\n",
       ".list-inline>li {display: inline-block}\n",
       ".list-inline>li:not(:last-child)::after {content: \"\\00b7\"; padding: 0 .5ex}\n",
       "</style>\n",
       "<ol class=list-inline><li>-10</li><li>-9</li><li>-8</li><li>-7</li><li>-6</li><li>-5</li><li>-4</li><li>-3</li><li>-2</li><li>-1</li><li>0</li><li>1</li><li>2</li><li>3</li><li>4</li><li>5</li><li>6</li><li>7</li><li>8</li><li>9</li><li>10</li></ol>\n"
      ],
      "text/latex": [
       "\\begin{enumerate*}\n",
       "\\item -10\n",
       "\\item -9\n",
       "\\item -8\n",
       "\\item -7\n",
       "\\item -6\n",
       "\\item -5\n",
       "\\item -4\n",
       "\\item -3\n",
       "\\item -2\n",
       "\\item -1\n",
       "\\item 0\n",
       "\\item 1\n",
       "\\item 2\n",
       "\\item 3\n",
       "\\item 4\n",
       "\\item 5\n",
       "\\item 6\n",
       "\\item 7\n",
       "\\item 8\n",
       "\\item 9\n",
       "\\item 10\n",
       "\\end{enumerate*}\n"
      ],
      "text/markdown": [
       "1. -10\n",
       "2. -9\n",
       "3. -8\n",
       "4. -7\n",
       "5. -6\n",
       "6. -5\n",
       "7. -4\n",
       "8. -3\n",
       "9. -2\n",
       "10. -1\n",
       "11. 0\n",
       "12. 1\n",
       "13. 2\n",
       "14. 3\n",
       "15. 4\n",
       "16. 5\n",
       "17. 6\n",
       "18. 7\n",
       "19. 8\n",
       "20. 9\n",
       "21. 10\n",
       "\n",
       "\n"
      ],
      "text/plain": [
       " [1] -10  -9  -8  -7  -6  -5  -4  -3  -2  -1   0   1   2   3   4   5   6   7   8\n",
       "[20]   9  10"
      ]
     },
     "metadata": {},
     "output_type": "display_data"
    }
   ],
   "source": [
    "x=seq(-10,10)\n",
    "x"
   ]
  },
  {
   "cell_type": "code",
   "execution_count": 13,
   "id": "0735d8d0",
   "metadata": {
    "scrolled": true
   },
   "outputs": [
    {
     "data": {
      "image/png": "[encoded data removed]",
      "text/plain": [
       "plot without title"
      ]
     },
     "metadata": {
      "image/png": {
       "height": 420,
       "width": 420
      }
     },
     "output_type": "display_data"
    }
   ],
   "source": [
    "plot(x,dbinom(x,size=20,prob=30/100))"
   ]
  },
  {
   "cell_type": "code",
   "execution_count": 14,
   "id": "2ff2576a",
   "metadata": {
    "scrolled": true
   },
   "outputs": [
    {
     "data": {
      "image/png": "[encoded data removed]",
      "text/plain": [
       "plot without title"
      ]
     },
     "metadata": {
      "image/png": {
       "height": 420,
       "width": 420
      }
     },
     "output_type": "display_data"
    }
   ],
   "source": [
    "plot(x,dbinom(x,size=20,prob=30/100),type='l')"
   ]
  },
  {
   "cell_type": "markdown",
   "id": "e762fef5",
   "metadata": {},
   "source": [
    "+ Generate a sample of size 20 of values of X."
   ]
  },
  {
   "cell_type": "code",
   "execution_count": 15,
   "id": "22eba58a",
   "metadata": {
    "scrolled": true
   },
   "outputs": [
    {
     "data": {
      "text/html": [
       "<style>\n",
       ".list-inline {list-style: none; margin:0; padding: 0}\n",
       ".list-inline>li {display: inline-block}\n",
       ".list-inline>li:not(:last-child)::after {content: \"\\00b7\"; padding: 0 .5ex}\n",
       "</style>\n",
       "<ol class=list-inline><li>2</li><li>8</li><li>5</li><li>5</li><li>6</li><li>5</li><li>6</li><li>5</li><li>6</li><li>8</li><li>6</li><li>6</li><li>10</li><li>9</li><li>3</li><li>5</li><li>4</li><li>4</li><li>7</li><li>8</li></ol>\n"
      ],
      "text/latex": [
       "\\begin{enumerate*}\n",
       "\\item 2\n",
       "\\item 8\n",
       "\\item 5\n",
       "\\item 5\n",
       "\\item 6\n",
       "\\item 5\n",
       "\\item 6\n",
       "\\item 5\n",
       "\\item 6\n",
       "\\item 8\n",
       "\\item 6\n",
       "\\item 6\n",
       "\\item 10\n",
       "\\item 9\n",
       "\\item 3\n",
       "\\item 5\n",
       "\\item 4\n",
       "\\item 4\n",
       "\\item 7\n",
       "\\item 8\n",
       "\\end{enumerate*}\n"
      ],
      "text/markdown": [
       "1. 2\n",
       "2. 8\n",
       "3. 5\n",
       "4. 5\n",
       "5. 6\n",
       "6. 5\n",
       "7. 6\n",
       "8. 5\n",
       "9. 6\n",
       "10. 8\n",
       "11. 6\n",
       "12. 6\n",
       "13. 10\n",
       "14. 9\n",
       "15. 3\n",
       "16. 5\n",
       "17. 4\n",
       "18. 4\n",
       "19. 7\n",
       "20. 8\n",
       "\n",
       "\n"
      ],
      "text/plain": [
       " [1]  2  8  5  5  6  5  6  5  6  8  6  6 10  9  3  5  4  4  7  8"
      ]
     },
     "metadata": {},
     "output_type": "display_data"
    }
   ],
   "source": [
    "rbinom(n = 20,size=20,prob=30/100)"
   ]
  },
  {
   "cell_type": "markdown",
   "id": "b6b5a5d6",
   "metadata": {},
   "source": [
    "+ Compute $P (5 < X < 15)$."
   ]
  },
  {
   "cell_type": "code",
   "execution_count": 16,
   "id": "09a120be",
   "metadata": {
    "scrolled": true
   },
   "outputs": [
    {
     "data": {
      "text/html": [
       "0.583586230530565"
      ],
      "text/latex": [
       "0.583586230530565"
      ],
      "text/markdown": [
       "0.583586230530565"
      ],
      "text/plain": [
       "[1] 0.5835862"
      ]
     },
     "metadata": {},
     "output_type": "display_data"
    }
   ],
   "source": [
    "pbinom(q = 14,size=20,prob=30/100) - pbinom(q = 5,size=20,prob=30/100)"
   ]
  },
  {
   "cell_type": "markdown",
   "id": "68a36032",
   "metadata": {},
   "source": [
    "# or"
   ]
  },
  {
   "cell_type": "code",
   "execution_count": 17,
   "id": "11143a62",
   "metadata": {
    "scrolled": true
   },
   "outputs": [
    {
     "data": {
      "text/html": [
       "0.583586230530565"
      ],
      "text/latex": [
       "0.583586230530565"
      ],
      "text/markdown": [
       "0.583586230530565"
      ],
      "text/plain": [
       "[1] 0.5835862"
      ]
     },
     "metadata": {},
     "output_type": "display_data"
    }
   ],
   "source": [
    "sum(dbinom(6:14,size=20,prob=30/100))"
   ]
  },
  {
   "cell_type": "markdown",
   "id": "bf5b547b",
   "metadata": {},
   "source": [
    "+ Determine the 25% quantile, the median and the 75% quantile of\n",
    "  X."
   ]
  },
  {
   "cell_type": "code",
   "execution_count": 18,
   "id": "c116ce28",
   "metadata": {
    "scrolled": true
   },
   "outputs": [
    {
     "data": {
      "text/html": [
       "<style>\n",
       ".list-inline {list-style: none; margin:0; padding: 0}\n",
       ".list-inline>li {display: inline-block}\n",
       ".list-inline>li:not(:last-child)::after {content: \"\\00b7\"; padding: 0 .5ex}\n",
       "</style>\n",
       "<ol class=list-inline><li>5</li><li>7</li></ol>\n"
      ],
      "text/latex": [
       "\\begin{enumerate*}\n",
       "\\item 5\n",
       "\\item 7\n",
       "\\end{enumerate*}\n"
      ],
      "text/markdown": [
       "1. 5\n",
       "2. 7\n",
       "\n",
       "\n"
      ],
      "text/plain": [
       "[1] 5 7"
      ]
     },
     "metadata": {},
     "output_type": "display_data"
    }
   ],
   "source": [
    "qbinom(c(0.25,0.75),size=20,prob=30/100)"
   ]
  },
  {
   "cell_type": "markdown",
   "id": "2cb9c976",
   "metadata": {},
   "source": [
    "# With Replacement"
   ]
  },
  {
   "cell_type": "code",
   "execution_count": null,
   "id": "61350bb9",
   "metadata": {},
   "outputs": [],
   "source": [
    "## H~(n=20,M=30,N=100) hyper geometrical distributionb"
   ]
  },
  {
   "cell_type": "code",
   "execution_count": 21,
   "id": "65c1e1d6",
   "metadata": {
    "scrolled": true
   },
   "outputs": [
    {
     "data": {
      "image/png": "[encoded data removed]",
      "text/plain": [
       "plot without title"
      ]
     },
     "metadata": {
      "image/png": {
       "height": 420,
       "width": 420
      }
     },
     "output_type": "display_data"
    }
   ],
   "source": [
    "plot(x,dhyper(x = x,m=30,n=70,k=20),type='l')"
   ]
  },
  {
   "cell_type": "code",
   "execution_count": 23,
   "id": "e793344f",
   "metadata": {
    "scrolled": true
   },
   "outputs": [
    {
     "data": {
      "text/html": [
       "<style>\n",
       ".list-inline {list-style: none; margin:0; padding: 0}\n",
       ".list-inline>li {display: inline-block}\n",
       ".list-inline>li:not(:last-child)::after {content: \"\\00b7\"; padding: 0 .5ex}\n",
       "</style>\n",
       "<ol class=list-inline><li>7</li><li>6</li><li>6</li><li>5</li><li>5</li><li>3</li><li>8</li><li>4</li><li>5</li><li>5</li><li>4</li><li>8</li><li>8</li><li>8</li><li>4</li><li>7</li><li>5</li><li>8</li><li>7</li><li>7</li></ol>\n"
      ],
      "text/latex": [
       "\\begin{enumerate*}\n",
       "\\item 7\n",
       "\\item 6\n",
       "\\item 6\n",
       "\\item 5\n",
       "\\item 5\n",
       "\\item 3\n",
       "\\item 8\n",
       "\\item 4\n",
       "\\item 5\n",
       "\\item 5\n",
       "\\item 4\n",
       "\\item 8\n",
       "\\item 8\n",
       "\\item 8\n",
       "\\item 4\n",
       "\\item 7\n",
       "\\item 5\n",
       "\\item 8\n",
       "\\item 7\n",
       "\\item 7\n",
       "\\end{enumerate*}\n"
      ],
      "text/markdown": [
       "1. 7\n",
       "2. 6\n",
       "3. 6\n",
       "4. 5\n",
       "5. 5\n",
       "6. 3\n",
       "7. 8\n",
       "8. 4\n",
       "9. 5\n",
       "10. 5\n",
       "11. 4\n",
       "12. 8\n",
       "13. 8\n",
       "14. 8\n",
       "15. 4\n",
       "16. 7\n",
       "17. 5\n",
       "18. 8\n",
       "19. 7\n",
       "20. 7\n",
       "\n",
       "\n"
      ],
      "text/plain": [
       " [1] 7 6 6 5 5 3 8 4 5 5 4 8 8 8 4 7 5 8 7 7"
      ]
     },
     "metadata": {},
     "output_type": "display_data"
    }
   ],
   "source": [
    "rhyper(20,m=30,n=70,k=20) # random sample of size 20"
   ]
  },
  {
   "cell_type": "code",
   "execution_count": 25,
   "id": "28423fd7",
   "metadata": {
    "scrolled": true
   },
   "outputs": [
    {
     "data": {
      "text/html": [
       "0.599007442644728"
      ],
      "text/latex": [
       "0.599007442644728"
      ],
      "text/markdown": [
       "0.599007442644728"
      ],
      "text/plain": [
       "[1] 0.5990074"
      ]
     },
     "metadata": {},
     "output_type": "display_data"
    }
   ],
   "source": [
    "phyper(14,m=30,n=70,k=20) - phyper(5,m=30,n=70,k=20) # p(15>x>5)"
   ]
  },
  {
   "cell_type": "markdown",
   "id": "243f683f",
   "metadata": {},
   "source": [
    "# or"
   ]
  },
  {
   "cell_type": "code",
   "execution_count": 26,
   "id": "15c5aa20",
   "metadata": {},
   "outputs": [
    {
     "data": {
      "text/html": [
       "0.599007442644728"
      ],
      "text/latex": [
       "0.599007442644728"
      ],
      "text/markdown": [
       "0.599007442644728"
      ],
      "text/plain": [
       "[1] 0.5990074"
      ]
     },
     "metadata": {},
     "output_type": "display_data"
    }
   ],
   "source": [
    "sum(dhyper(6:14,m=30,n=70,k=20))"
   ]
  },
  {
   "cell_type": "markdown",
   "id": "96e48f00",
   "metadata": {},
   "source": [
    "<h2 style=\"color:purple;text-align:center\">Exercise 3<h2>"
   ]
  },
  {
   "cell_type": "markdown",
   "id": "374a29e7",
   "metadata": {},
   "source": [
    "+ In a game a player can bet $1$ doller on any of the numbers $1, 2, 3, 4, 5$ and\n",
    "      6 Three dice are rolled. If the players number appears k times, where $k ≥ 1$, the           player gets $k$ doller back plus the original stack of 1 doller. Over the\n",
    "      long run, how many cents per game a player expects to win or lose\n",
    "      playing this game?"
   ]
  },
  {
   "cell_type": "code",
   "execution_count": 35,
   "id": "21f49366",
   "metadata": {
    "scrolled": true
   },
   "outputs": [
    {
     "data": {
      "text/html": [
       "<table class=\"dataframe\">\n",
       "<caption>A tibble: 4 × 4</caption>\n",
       "<thead>\n",
       "\t<tr><th scope=col>x</th><th scope=col>earn</th><th scope=col>prob</th><th scope=col>prob.mul.earn</th></tr>\n",
       "\t<tr><th scope=col>&lt;int&gt;</th><th scope=col>&lt;dbl&gt;</th><th scope=col>&lt;dbl&gt;</th><th scope=col>&lt;dbl&gt;</th></tr>\n",
       "</thead>\n",
       "<tbody>\n",
       "\t<tr><td>0</td><td>-1</td><td>0.57870370</td><td>-0.57870370</td></tr>\n",
       "\t<tr><td>1</td><td> 1</td><td>0.34722222</td><td> 0.34722222</td></tr>\n",
       "\t<tr><td>2</td><td> 2</td><td>0.06944444</td><td> 0.13888889</td></tr>\n",
       "\t<tr><td>3</td><td> 3</td><td>0.00462963</td><td> 0.01388889</td></tr>\n",
       "</tbody>\n",
       "</table>\n"
      ],
      "text/latex": [
       "A tibble: 4 × 4\n",
       "\\begin{tabular}{llll}\n",
       " x & earn & prob & prob.mul.earn\\\\\n",
       " <int> & <dbl> & <dbl> & <dbl>\\\\\n",
       "\\hline\n",
       "\t 0 & -1 & 0.57870370 & -0.57870370\\\\\n",
       "\t 1 &  1 & 0.34722222 &  0.34722222\\\\\n",
       "\t 2 &  2 & 0.06944444 &  0.13888889\\\\\n",
       "\t 3 &  3 & 0.00462963 &  0.01388889\\\\\n",
       "\\end{tabular}\n"
      ],
      "text/markdown": [
       "\n",
       "A tibble: 4 × 4\n",
       "\n",
       "| x &lt;int&gt; | earn &lt;dbl&gt; | prob &lt;dbl&gt; | prob.mul.earn &lt;dbl&gt; |\n",
       "|---|---|---|---|\n",
       "| 0 | -1 | 0.57870370 | -0.57870370 |\n",
       "| 1 |  1 | 0.34722222 |  0.34722222 |\n",
       "| 2 |  2 | 0.06944444 |  0.13888889 |\n",
       "| 3 |  3 | 0.00462963 |  0.01388889 |\n",
       "\n"
      ],
      "text/plain": [
       "  x earn prob       prob.mul.earn\n",
       "1 0 -1   0.57870370 -0.57870370  \n",
       "2 1  1   0.34722222  0.34722222  \n",
       "3 2  2   0.06944444  0.13888889  \n",
       "4 3  3   0.00462963  0.01388889  "
      ]
     },
     "metadata": {},
     "output_type": "display_data"
    }
   ],
   "source": [
    "tibble(x=0:3,earn=if_else(x==0,-1,x),prob=dbinom(x,size=3,prob=1/6)) %>% \n",
    "       mutate(prob.mul.earn=prob*earn)"
   ]
  },
  {
   "cell_type": "code",
   "execution_count": 32,
   "id": "58545922",
   "metadata": {
    "scrolled": true
   },
   "outputs": [
    {
     "data": {
      "text/html": [
       "<table class=\"dataframe\">\n",
       "<caption>A tibble: 4 × 1</caption>\n",
       "<thead>\n",
       "\t<tr><th scope=col>prob.mul.earn</th></tr>\n",
       "\t<tr><th scope=col>&lt;dbl&gt;</th></tr>\n",
       "</thead>\n",
       "<tbody>\n",
       "\t<tr><td>-0.57870370</td></tr>\n",
       "\t<tr><td> 0.34722222</td></tr>\n",
       "\t<tr><td> 0.13888889</td></tr>\n",
       "\t<tr><td> 0.01388889</td></tr>\n",
       "</tbody>\n",
       "</table>\n"
      ],
      "text/latex": [
       "A tibble: 4 × 1\n",
       "\\begin{tabular}{l}\n",
       " prob.mul.earn\\\\\n",
       " <dbl>\\\\\n",
       "\\hline\n",
       "\t -0.57870370\\\\\n",
       "\t  0.34722222\\\\\n",
       "\t  0.13888889\\\\\n",
       "\t  0.01388889\\\\\n",
       "\\end{tabular}\n"
      ],
      "text/markdown": [
       "\n",
       "A tibble: 4 × 1\n",
       "\n",
       "| prob.mul.earn &lt;dbl&gt; |\n",
       "|---|\n",
       "| -0.57870370 |\n",
       "|  0.34722222 |\n",
       "|  0.13888889 |\n",
       "|  0.01388889 |\n",
       "\n"
      ],
      "text/plain": [
       "  prob.mul.earn\n",
       "1 -0.57870370  \n",
       "2  0.34722222  \n",
       "3  0.13888889  \n",
       "4  0.01388889  "
      ]
     },
     "metadata": {},
     "output_type": "display_data"
    }
   ],
   "source": [
    "tibble(x=0:3,earn=if_else(x==0,-1,x),prob=dbinom(x,size=3,prob=1/6)) %>% \n",
    "       mutate(prob.mul.earn=prob*earn) %>% select(prob.mul.earn) "
   ]
  },
  {
   "cell_type": "code",
   "execution_count": 34,
   "id": "f6c0c6d2",
   "metadata": {},
   "outputs": [
    {
     "data": {
      "text/html": [
       "-0.0787037037037038"
      ],
      "text/latex": [
       "-0.0787037037037038"
      ],
      "text/markdown": [
       "-0.0787037037037038"
      ],
      "text/plain": [
       "[1] -0.0787037"
      ]
     },
     "metadata": {},
     "output_type": "display_data"
    }
   ],
   "source": [
    "tibble(x=0:3,earn=if_else(x==0,-1,x),prob=dbinom(x,size=3,prob=1/6)) %>% \n",
    "       mutate(prob.mul.earn=prob*earn) %>% select(prob.mul.earn) %>% sum() -> expected_value\n",
    "expected_value"
   ]
  },
  {
   "cell_type": "markdown",
   "id": "c634838d",
   "metadata": {},
   "source": [
    "+ Consider the following random experiment: A fair die is rolled. Then,\n",
    "  a fair coin is flipped many times according to the score of the die. The\n",
    "   number of times heads occur is counted with the random variable X."
   ]
  },
  {
   "cell_type": "markdown",
   "id": "d820bc7a",
   "metadata": {},
   "source": [
    "+ Determine the density of the random variable X. What are the\n",
    "  expected value and variance of X?"
   ]
  },
  {
   "cell_type": "code",
   "execution_count": null,
   "id": "3e962a35",
   "metadata": {},
   "outputs": [],
   "source": [
    "## P(S=x) = 1/6 where s={1:6}\n",
    "# if S=s then random variable X is B~(n=s, prob=1/2) for coins\n",
    "## we have to find P(X=x|S=s)-> probability of head given that score"
   ]
  },
  {
   "cell_type": "code",
   "execution_count": 36,
   "id": "f4cf0ce7",
   "metadata": {
    "scrolled": true
   },
   "outputs": [
    {
     "data": {
      "text/html": [
       "<table class=\"dataframe\">\n",
       "<caption>A tibble: 42 × 2</caption>\n",
       "<thead>\n",
       "\t<tr><th scope=col>score</th><th scope=col>heads</th></tr>\n",
       "\t<tr><th scope=col>&lt;int&gt;</th><th scope=col>&lt;int&gt;</th></tr>\n",
       "</thead>\n",
       "<tbody>\n",
       "\t<tr><td>1</td><td>0</td></tr>\n",
       "\t<tr><td>1</td><td>1</td></tr>\n",
       "\t<tr><td>1</td><td>2</td></tr>\n",
       "\t<tr><td>1</td><td>3</td></tr>\n",
       "\t<tr><td>1</td><td>4</td></tr>\n",
       "\t<tr><td>1</td><td>5</td></tr>\n",
       "\t<tr><td>1</td><td>6</td></tr>\n",
       "\t<tr><td>2</td><td>0</td></tr>\n",
       "\t<tr><td>2</td><td>1</td></tr>\n",
       "\t<tr><td>2</td><td>2</td></tr>\n",
       "\t<tr><td>2</td><td>3</td></tr>\n",
       "\t<tr><td>2</td><td>4</td></tr>\n",
       "\t<tr><td>2</td><td>5</td></tr>\n",
       "\t<tr><td>2</td><td>6</td></tr>\n",
       "\t<tr><td>3</td><td>0</td></tr>\n",
       "\t<tr><td>3</td><td>1</td></tr>\n",
       "\t<tr><td>3</td><td>2</td></tr>\n",
       "\t<tr><td>3</td><td>3</td></tr>\n",
       "\t<tr><td>3</td><td>4</td></tr>\n",
       "\t<tr><td>3</td><td>5</td></tr>\n",
       "\t<tr><td>3</td><td>6</td></tr>\n",
       "\t<tr><td>4</td><td>0</td></tr>\n",
       "\t<tr><td>4</td><td>1</td></tr>\n",
       "\t<tr><td>4</td><td>2</td></tr>\n",
       "\t<tr><td>4</td><td>3</td></tr>\n",
       "\t<tr><td>4</td><td>4</td></tr>\n",
       "\t<tr><td>4</td><td>5</td></tr>\n",
       "\t<tr><td>4</td><td>6</td></tr>\n",
       "\t<tr><td>5</td><td>0</td></tr>\n",
       "\t<tr><td>5</td><td>1</td></tr>\n",
       "\t<tr><td>5</td><td>2</td></tr>\n",
       "\t<tr><td>5</td><td>3</td></tr>\n",
       "\t<tr><td>5</td><td>4</td></tr>\n",
       "\t<tr><td>5</td><td>5</td></tr>\n",
       "\t<tr><td>5</td><td>6</td></tr>\n",
       "\t<tr><td>6</td><td>0</td></tr>\n",
       "\t<tr><td>6</td><td>1</td></tr>\n",
       "\t<tr><td>6</td><td>2</td></tr>\n",
       "\t<tr><td>6</td><td>3</td></tr>\n",
       "\t<tr><td>6</td><td>4</td></tr>\n",
       "\t<tr><td>6</td><td>5</td></tr>\n",
       "\t<tr><td>6</td><td>6</td></tr>\n",
       "</tbody>\n",
       "</table>\n"
      ],
      "text/latex": [
       "A tibble: 42 × 2\n",
       "\\begin{tabular}{ll}\n",
       " score & heads\\\\\n",
       " <int> & <int>\\\\\n",
       "\\hline\n",
       "\t 1 & 0\\\\\n",
       "\t 1 & 1\\\\\n",
       "\t 1 & 2\\\\\n",
       "\t 1 & 3\\\\\n",
       "\t 1 & 4\\\\\n",
       "\t 1 & 5\\\\\n",
       "\t 1 & 6\\\\\n",
       "\t 2 & 0\\\\\n",
       "\t 2 & 1\\\\\n",
       "\t 2 & 2\\\\\n",
       "\t 2 & 3\\\\\n",
       "\t 2 & 4\\\\\n",
       "\t 2 & 5\\\\\n",
       "\t 2 & 6\\\\\n",
       "\t 3 & 0\\\\\n",
       "\t 3 & 1\\\\\n",
       "\t 3 & 2\\\\\n",
       "\t 3 & 3\\\\\n",
       "\t 3 & 4\\\\\n",
       "\t 3 & 5\\\\\n",
       "\t 3 & 6\\\\\n",
       "\t 4 & 0\\\\\n",
       "\t 4 & 1\\\\\n",
       "\t 4 & 2\\\\\n",
       "\t 4 & 3\\\\\n",
       "\t 4 & 4\\\\\n",
       "\t 4 & 5\\\\\n",
       "\t 4 & 6\\\\\n",
       "\t 5 & 0\\\\\n",
       "\t 5 & 1\\\\\n",
       "\t 5 & 2\\\\\n",
       "\t 5 & 3\\\\\n",
       "\t 5 & 4\\\\\n",
       "\t 5 & 5\\\\\n",
       "\t 5 & 6\\\\\n",
       "\t 6 & 0\\\\\n",
       "\t 6 & 1\\\\\n",
       "\t 6 & 2\\\\\n",
       "\t 6 & 3\\\\\n",
       "\t 6 & 4\\\\\n",
       "\t 6 & 5\\\\\n",
       "\t 6 & 6\\\\\n",
       "\\end{tabular}\n"
      ],
      "text/markdown": [
       "\n",
       "A tibble: 42 × 2\n",
       "\n",
       "| score &lt;int&gt; | heads &lt;int&gt; |\n",
       "|---|---|\n",
       "| 1 | 0 |\n",
       "| 1 | 1 |\n",
       "| 1 | 2 |\n",
       "| 1 | 3 |\n",
       "| 1 | 4 |\n",
       "| 1 | 5 |\n",
       "| 1 | 6 |\n",
       "| 2 | 0 |\n",
       "| 2 | 1 |\n",
       "| 2 | 2 |\n",
       "| 2 | 3 |\n",
       "| 2 | 4 |\n",
       "| 2 | 5 |\n",
       "| 2 | 6 |\n",
       "| 3 | 0 |\n",
       "| 3 | 1 |\n",
       "| 3 | 2 |\n",
       "| 3 | 3 |\n",
       "| 3 | 4 |\n",
       "| 3 | 5 |\n",
       "| 3 | 6 |\n",
       "| 4 | 0 |\n",
       "| 4 | 1 |\n",
       "| 4 | 2 |\n",
       "| 4 | 3 |\n",
       "| 4 | 4 |\n",
       "| 4 | 5 |\n",
       "| 4 | 6 |\n",
       "| 5 | 0 |\n",
       "| 5 | 1 |\n",
       "| 5 | 2 |\n",
       "| 5 | 3 |\n",
       "| 5 | 4 |\n",
       "| 5 | 5 |\n",
       "| 5 | 6 |\n",
       "| 6 | 0 |\n",
       "| 6 | 1 |\n",
       "| 6 | 2 |\n",
       "| 6 | 3 |\n",
       "| 6 | 4 |\n",
       "| 6 | 5 |\n",
       "| 6 | 6 |\n",
       "\n"
      ],
      "text/plain": [
       "   score heads\n",
       "1  1     0    \n",
       "2  1     1    \n",
       "3  1     2    \n",
       "4  1     3    \n",
       "5  1     4    \n",
       "6  1     5    \n",
       "7  1     6    \n",
       "8  2     0    \n",
       "9  2     1    \n",
       "10 2     2    \n",
       "11 2     3    \n",
       "12 2     4    \n",
       "13 2     5    \n",
       "14 2     6    \n",
       "15 3     0    \n",
       "16 3     1    \n",
       "17 3     2    \n",
       "18 3     3    \n",
       "19 3     4    \n",
       "20 3     5    \n",
       "21 3     6    \n",
       "22 4     0    \n",
       "23 4     1    \n",
       "24 4     2    \n",
       "25 4     3    \n",
       "26 4     4    \n",
       "27 4     5    \n",
       "28 4     6    \n",
       "29 5     0    \n",
       "30 5     1    \n",
       "31 5     2    \n",
       "32 5     3    \n",
       "33 5     4    \n",
       "34 5     5    \n",
       "35 5     6    \n",
       "36 6     0    \n",
       "37 6     1    \n",
       "38 6     2    \n",
       "39 6     3    \n",
       "40 6     4    \n",
       "41 6     5    \n",
       "42 6     6    "
      ]
     },
     "metadata": {},
     "output_type": "display_data"
    }
   ],
   "source": [
    "expand_grid(score=1:6,heads=0:6)  ## get all the possible combination between score and heads"
   ]
  },
  {
   "cell_type": "code",
   "execution_count": 41,
   "id": "76e9658b",
   "metadata": {
    "scrolled": true
   },
   "outputs": [
    {
     "data": {
      "text/html": [
       "<table class=\"dataframe\">\n",
       "<caption>A grouped_df: 42 × 3</caption>\n",
       "<thead>\n",
       "\t<tr><th scope=col>score</th><th scope=col>heads</th><th scope=col>prob.heads.given.score</th></tr>\n",
       "\t<tr><th scope=col>&lt;int&gt;</th><th scope=col>&lt;int&gt;</th><th scope=col>&lt;dbl&gt;</th></tr>\n",
       "</thead>\n",
       "<tbody>\n",
       "\t<tr><td>1</td><td>0</td><td>0.500000</td></tr>\n",
       "\t<tr><td>1</td><td>1</td><td>0.500000</td></tr>\n",
       "\t<tr><td>1</td><td>2</td><td>0.000000</td></tr>\n",
       "\t<tr><td>1</td><td>3</td><td>0.000000</td></tr>\n",
       "\t<tr><td>1</td><td>4</td><td>0.000000</td></tr>\n",
       "\t<tr><td>1</td><td>5</td><td>0.000000</td></tr>\n",
       "\t<tr><td>1</td><td>6</td><td>0.000000</td></tr>\n",
       "\t<tr><td>2</td><td>0</td><td>0.250000</td></tr>\n",
       "\t<tr><td>2</td><td>1</td><td>0.500000</td></tr>\n",
       "\t<tr><td>2</td><td>2</td><td>0.250000</td></tr>\n",
       "\t<tr><td>2</td><td>3</td><td>0.000000</td></tr>\n",
       "\t<tr><td>2</td><td>4</td><td>0.000000</td></tr>\n",
       "\t<tr><td>2</td><td>5</td><td>0.000000</td></tr>\n",
       "\t<tr><td>2</td><td>6</td><td>0.000000</td></tr>\n",
       "\t<tr><td>3</td><td>0</td><td>0.125000</td></tr>\n",
       "\t<tr><td>3</td><td>1</td><td>0.375000</td></tr>\n",
       "\t<tr><td>3</td><td>2</td><td>0.375000</td></tr>\n",
       "\t<tr><td>3</td><td>3</td><td>0.125000</td></tr>\n",
       "\t<tr><td>3</td><td>4</td><td>0.000000</td></tr>\n",
       "\t<tr><td>3</td><td>5</td><td>0.000000</td></tr>\n",
       "\t<tr><td>3</td><td>6</td><td>0.000000</td></tr>\n",
       "\t<tr><td>4</td><td>0</td><td>0.062500</td></tr>\n",
       "\t<tr><td>4</td><td>1</td><td>0.250000</td></tr>\n",
       "\t<tr><td>4</td><td>2</td><td>0.375000</td></tr>\n",
       "\t<tr><td>4</td><td>3</td><td>0.250000</td></tr>\n",
       "\t<tr><td>4</td><td>4</td><td>0.062500</td></tr>\n",
       "\t<tr><td>4</td><td>5</td><td>0.000000</td></tr>\n",
       "\t<tr><td>4</td><td>6</td><td>0.000000</td></tr>\n",
       "\t<tr><td>5</td><td>0</td><td>0.031250</td></tr>\n",
       "\t<tr><td>5</td><td>1</td><td>0.156250</td></tr>\n",
       "\t<tr><td>5</td><td>2</td><td>0.312500</td></tr>\n",
       "\t<tr><td>5</td><td>3</td><td>0.312500</td></tr>\n",
       "\t<tr><td>5</td><td>4</td><td>0.156250</td></tr>\n",
       "\t<tr><td>5</td><td>5</td><td>0.031250</td></tr>\n",
       "\t<tr><td>5</td><td>6</td><td>0.000000</td></tr>\n",
       "\t<tr><td>6</td><td>0</td><td>0.015625</td></tr>\n",
       "\t<tr><td>6</td><td>1</td><td>0.093750</td></tr>\n",
       "\t<tr><td>6</td><td>2</td><td>0.234375</td></tr>\n",
       "\t<tr><td>6</td><td>3</td><td>0.312500</td></tr>\n",
       "\t<tr><td>6</td><td>4</td><td>0.234375</td></tr>\n",
       "\t<tr><td>6</td><td>5</td><td>0.093750</td></tr>\n",
       "\t<tr><td>6</td><td>6</td><td>0.015625</td></tr>\n",
       "</tbody>\n",
       "</table>\n"
      ],
      "text/latex": [
       "A grouped\\_df: 42 × 3\n",
       "\\begin{tabular}{lll}\n",
       " score & heads & prob.heads.given.score\\\\\n",
       " <int> & <int> & <dbl>\\\\\n",
       "\\hline\n",
       "\t 1 & 0 & 0.500000\\\\\n",
       "\t 1 & 1 & 0.500000\\\\\n",
       "\t 1 & 2 & 0.000000\\\\\n",
       "\t 1 & 3 & 0.000000\\\\\n",
       "\t 1 & 4 & 0.000000\\\\\n",
       "\t 1 & 5 & 0.000000\\\\\n",
       "\t 1 & 6 & 0.000000\\\\\n",
       "\t 2 & 0 & 0.250000\\\\\n",
       "\t 2 & 1 & 0.500000\\\\\n",
       "\t 2 & 2 & 0.250000\\\\\n",
       "\t 2 & 3 & 0.000000\\\\\n",
       "\t 2 & 4 & 0.000000\\\\\n",
       "\t 2 & 5 & 0.000000\\\\\n",
       "\t 2 & 6 & 0.000000\\\\\n",
       "\t 3 & 0 & 0.125000\\\\\n",
       "\t 3 & 1 & 0.375000\\\\\n",
       "\t 3 & 2 & 0.375000\\\\\n",
       "\t 3 & 3 & 0.125000\\\\\n",
       "\t 3 & 4 & 0.000000\\\\\n",
       "\t 3 & 5 & 0.000000\\\\\n",
       "\t 3 & 6 & 0.000000\\\\\n",
       "\t 4 & 0 & 0.062500\\\\\n",
       "\t 4 & 1 & 0.250000\\\\\n",
       "\t 4 & 2 & 0.375000\\\\\n",
       "\t 4 & 3 & 0.250000\\\\\n",
       "\t 4 & 4 & 0.062500\\\\\n",
       "\t 4 & 5 & 0.000000\\\\\n",
       "\t 4 & 6 & 0.000000\\\\\n",
       "\t 5 & 0 & 0.031250\\\\\n",
       "\t 5 & 1 & 0.156250\\\\\n",
       "\t 5 & 2 & 0.312500\\\\\n",
       "\t 5 & 3 & 0.312500\\\\\n",
       "\t 5 & 4 & 0.156250\\\\\n",
       "\t 5 & 5 & 0.031250\\\\\n",
       "\t 5 & 6 & 0.000000\\\\\n",
       "\t 6 & 0 & 0.015625\\\\\n",
       "\t 6 & 1 & 0.093750\\\\\n",
       "\t 6 & 2 & 0.234375\\\\\n",
       "\t 6 & 3 & 0.312500\\\\\n",
       "\t 6 & 4 & 0.234375\\\\\n",
       "\t 6 & 5 & 0.093750\\\\\n",
       "\t 6 & 6 & 0.015625\\\\\n",
       "\\end{tabular}\n"
      ],
      "text/markdown": [
       "\n",
       "A grouped_df: 42 × 3\n",
       "\n",
       "| score &lt;int&gt; | heads &lt;int&gt; | prob.heads.given.score &lt;dbl&gt; |\n",
       "|---|---|---|\n",
       "| 1 | 0 | 0.500000 |\n",
       "| 1 | 1 | 0.500000 |\n",
       "| 1 | 2 | 0.000000 |\n",
       "| 1 | 3 | 0.000000 |\n",
       "| 1 | 4 | 0.000000 |\n",
       "| 1 | 5 | 0.000000 |\n",
       "| 1 | 6 | 0.000000 |\n",
       "| 2 | 0 | 0.250000 |\n",
       "| 2 | 1 | 0.500000 |\n",
       "| 2 | 2 | 0.250000 |\n",
       "| 2 | 3 | 0.000000 |\n",
       "| 2 | 4 | 0.000000 |\n",
       "| 2 | 5 | 0.000000 |\n",
       "| 2 | 6 | 0.000000 |\n",
       "| 3 | 0 | 0.125000 |\n",
       "| 3 | 1 | 0.375000 |\n",
       "| 3 | 2 | 0.375000 |\n",
       "| 3 | 3 | 0.125000 |\n",
       "| 3 | 4 | 0.000000 |\n",
       "| 3 | 5 | 0.000000 |\n",
       "| 3 | 6 | 0.000000 |\n",
       "| 4 | 0 | 0.062500 |\n",
       "| 4 | 1 | 0.250000 |\n",
       "| 4 | 2 | 0.375000 |\n",
       "| 4 | 3 | 0.250000 |\n",
       "| 4 | 4 | 0.062500 |\n",
       "| 4 | 5 | 0.000000 |\n",
       "| 4 | 6 | 0.000000 |\n",
       "| 5 | 0 | 0.031250 |\n",
       "| 5 | 1 | 0.156250 |\n",
       "| 5 | 2 | 0.312500 |\n",
       "| 5 | 3 | 0.312500 |\n",
       "| 5 | 4 | 0.156250 |\n",
       "| 5 | 5 | 0.031250 |\n",
       "| 5 | 6 | 0.000000 |\n",
       "| 6 | 0 | 0.015625 |\n",
       "| 6 | 1 | 0.093750 |\n",
       "| 6 | 2 | 0.234375 |\n",
       "| 6 | 3 | 0.312500 |\n",
       "| 6 | 4 | 0.234375 |\n",
       "| 6 | 5 | 0.093750 |\n",
       "| 6 | 6 | 0.015625 |\n",
       "\n"
      ],
      "text/plain": [
       "   score heads prob.heads.given.score\n",
       "1  1     0     0.500000              \n",
       "2  1     1     0.500000              \n",
       "3  1     2     0.000000              \n",
       "4  1     3     0.000000              \n",
       "5  1     4     0.000000              \n",
       "6  1     5     0.000000              \n",
       "7  1     6     0.000000              \n",
       "8  2     0     0.250000              \n",
       "9  2     1     0.500000              \n",
       "10 2     2     0.250000              \n",
       "11 2     3     0.000000              \n",
       "12 2     4     0.000000              \n",
       "13 2     5     0.000000              \n",
       "14 2     6     0.000000              \n",
       "15 3     0     0.125000              \n",
       "16 3     1     0.375000              \n",
       "17 3     2     0.375000              \n",
       "18 3     3     0.125000              \n",
       "19 3     4     0.000000              \n",
       "20 3     5     0.000000              \n",
       "21 3     6     0.000000              \n",
       "22 4     0     0.062500              \n",
       "23 4     1     0.250000              \n",
       "24 4     2     0.375000              \n",
       "25 4     3     0.250000              \n",
       "26 4     4     0.062500              \n",
       "27 4     5     0.000000              \n",
       "28 4     6     0.000000              \n",
       "29 5     0     0.031250              \n",
       "30 5     1     0.156250              \n",
       "31 5     2     0.312500              \n",
       "32 5     3     0.312500              \n",
       "33 5     4     0.156250              \n",
       "34 5     5     0.031250              \n",
       "35 5     6     0.000000              \n",
       "36 6     0     0.015625              \n",
       "37 6     1     0.093750              \n",
       "38 6     2     0.234375              \n",
       "39 6     3     0.312500              \n",
       "40 6     4     0.234375              \n",
       "41 6     5     0.093750              \n",
       "42 6     6     0.015625              "
      ]
     },
     "metadata": {},
     "output_type": "display_data"
    }
   ],
   "source": [
    "# find prob of heads given that score has already been occured\n",
    "   \n",
    "expand_grid(score=1:6,heads=0:6) %>% group_by(heads,score) %>%\n",
    "     mutate(prob.heads.given.score=sum(dbinom(heads,size=score,prob=1/2))) \n",
    "\n",
    "        "
   ]
  },
  {
   "cell_type": "code",
   "execution_count": 43,
   "id": "c2ba9e8f",
   "metadata": {
    "scrolled": true
   },
   "outputs": [
    {
     "data": {
      "text/html": [
       "<table class=\"dataframe\">\n",
       "<caption>A grouped_df: 42 × 4</caption>\n",
       "<thead>\n",
       "\t<tr><th scope=col>score</th><th scope=col>heads</th><th scope=col>prob.heads.given.score</th><th scope=col>prob.score</th></tr>\n",
       "\t<tr><th scope=col>&lt;int&gt;</th><th scope=col>&lt;int&gt;</th><th scope=col>&lt;dbl&gt;</th><th scope=col>&lt;dbl&gt;</th></tr>\n",
       "</thead>\n",
       "<tbody>\n",
       "\t<tr><td>1</td><td>0</td><td>0.500000</td><td>0.1666667</td></tr>\n",
       "\t<tr><td>1</td><td>1</td><td>0.500000</td><td>0.1666667</td></tr>\n",
       "\t<tr><td>1</td><td>2</td><td>0.000000</td><td>0.1666667</td></tr>\n",
       "\t<tr><td>1</td><td>3</td><td>0.000000</td><td>0.1666667</td></tr>\n",
       "\t<tr><td>1</td><td>4</td><td>0.000000</td><td>0.1666667</td></tr>\n",
       "\t<tr><td>1</td><td>5</td><td>0.000000</td><td>0.1666667</td></tr>\n",
       "\t<tr><td>1</td><td>6</td><td>0.000000</td><td>0.1666667</td></tr>\n",
       "\t<tr><td>2</td><td>0</td><td>0.250000</td><td>0.1666667</td></tr>\n",
       "\t<tr><td>2</td><td>1</td><td>0.500000</td><td>0.1666667</td></tr>\n",
       "\t<tr><td>2</td><td>2</td><td>0.250000</td><td>0.1666667</td></tr>\n",
       "\t<tr><td>2</td><td>3</td><td>0.000000</td><td>0.1666667</td></tr>\n",
       "\t<tr><td>2</td><td>4</td><td>0.000000</td><td>0.1666667</td></tr>\n",
       "\t<tr><td>2</td><td>5</td><td>0.000000</td><td>0.1666667</td></tr>\n",
       "\t<tr><td>2</td><td>6</td><td>0.000000</td><td>0.1666667</td></tr>\n",
       "\t<tr><td>3</td><td>0</td><td>0.125000</td><td>0.1666667</td></tr>\n",
       "\t<tr><td>3</td><td>1</td><td>0.375000</td><td>0.1666667</td></tr>\n",
       "\t<tr><td>3</td><td>2</td><td>0.375000</td><td>0.1666667</td></tr>\n",
       "\t<tr><td>3</td><td>3</td><td>0.125000</td><td>0.1666667</td></tr>\n",
       "\t<tr><td>3</td><td>4</td><td>0.000000</td><td>0.1666667</td></tr>\n",
       "\t<tr><td>3</td><td>5</td><td>0.000000</td><td>0.1666667</td></tr>\n",
       "\t<tr><td>3</td><td>6</td><td>0.000000</td><td>0.1666667</td></tr>\n",
       "\t<tr><td>4</td><td>0</td><td>0.062500</td><td>0.1666667</td></tr>\n",
       "\t<tr><td>4</td><td>1</td><td>0.250000</td><td>0.1666667</td></tr>\n",
       "\t<tr><td>4</td><td>2</td><td>0.375000</td><td>0.1666667</td></tr>\n",
       "\t<tr><td>4</td><td>3</td><td>0.250000</td><td>0.1666667</td></tr>\n",
       "\t<tr><td>4</td><td>4</td><td>0.062500</td><td>0.1666667</td></tr>\n",
       "\t<tr><td>4</td><td>5</td><td>0.000000</td><td>0.1666667</td></tr>\n",
       "\t<tr><td>4</td><td>6</td><td>0.000000</td><td>0.1666667</td></tr>\n",
       "\t<tr><td>5</td><td>0</td><td>0.031250</td><td>0.1666667</td></tr>\n",
       "\t<tr><td>5</td><td>1</td><td>0.156250</td><td>0.1666667</td></tr>\n",
       "\t<tr><td>5</td><td>2</td><td>0.312500</td><td>0.1666667</td></tr>\n",
       "\t<tr><td>5</td><td>3</td><td>0.312500</td><td>0.1666667</td></tr>\n",
       "\t<tr><td>5</td><td>4</td><td>0.156250</td><td>0.1666667</td></tr>\n",
       "\t<tr><td>5</td><td>5</td><td>0.031250</td><td>0.1666667</td></tr>\n",
       "\t<tr><td>5</td><td>6</td><td>0.000000</td><td>0.1666667</td></tr>\n",
       "\t<tr><td>6</td><td>0</td><td>0.015625</td><td>0.1666667</td></tr>\n",
       "\t<tr><td>6</td><td>1</td><td>0.093750</td><td>0.1666667</td></tr>\n",
       "\t<tr><td>6</td><td>2</td><td>0.234375</td><td>0.1666667</td></tr>\n",
       "\t<tr><td>6</td><td>3</td><td>0.312500</td><td>0.1666667</td></tr>\n",
       "\t<tr><td>6</td><td>4</td><td>0.234375</td><td>0.1666667</td></tr>\n",
       "\t<tr><td>6</td><td>5</td><td>0.093750</td><td>0.1666667</td></tr>\n",
       "\t<tr><td>6</td><td>6</td><td>0.015625</td><td>0.1666667</td></tr>\n",
       "</tbody>\n",
       "</table>\n"
      ],
      "text/latex": [
       "A grouped\\_df: 42 × 4\n",
       "\\begin{tabular}{llll}\n",
       " score & heads & prob.heads.given.score & prob.score\\\\\n",
       " <int> & <int> & <dbl> & <dbl>\\\\\n",
       "\\hline\n",
       "\t 1 & 0 & 0.500000 & 0.1666667\\\\\n",
       "\t 1 & 1 & 0.500000 & 0.1666667\\\\\n",
       "\t 1 & 2 & 0.000000 & 0.1666667\\\\\n",
       "\t 1 & 3 & 0.000000 & 0.1666667\\\\\n",
       "\t 1 & 4 & 0.000000 & 0.1666667\\\\\n",
       "\t 1 & 5 & 0.000000 & 0.1666667\\\\\n",
       "\t 1 & 6 & 0.000000 & 0.1666667\\\\\n",
       "\t 2 & 0 & 0.250000 & 0.1666667\\\\\n",
       "\t 2 & 1 & 0.500000 & 0.1666667\\\\\n",
       "\t 2 & 2 & 0.250000 & 0.1666667\\\\\n",
       "\t 2 & 3 & 0.000000 & 0.1666667\\\\\n",
       "\t 2 & 4 & 0.000000 & 0.1666667\\\\\n",
       "\t 2 & 5 & 0.000000 & 0.1666667\\\\\n",
       "\t 2 & 6 & 0.000000 & 0.1666667\\\\\n",
       "\t 3 & 0 & 0.125000 & 0.1666667\\\\\n",
       "\t 3 & 1 & 0.375000 & 0.1666667\\\\\n",
       "\t 3 & 2 & 0.375000 & 0.1666667\\\\\n",
       "\t 3 & 3 & 0.125000 & 0.1666667\\\\\n",
       "\t 3 & 4 & 0.000000 & 0.1666667\\\\\n",
       "\t 3 & 5 & 0.000000 & 0.1666667\\\\\n",
       "\t 3 & 6 & 0.000000 & 0.1666667\\\\\n",
       "\t 4 & 0 & 0.062500 & 0.1666667\\\\\n",
       "\t 4 & 1 & 0.250000 & 0.1666667\\\\\n",
       "\t 4 & 2 & 0.375000 & 0.1666667\\\\\n",
       "\t 4 & 3 & 0.250000 & 0.1666667\\\\\n",
       "\t 4 & 4 & 0.062500 & 0.1666667\\\\\n",
       "\t 4 & 5 & 0.000000 & 0.1666667\\\\\n",
       "\t 4 & 6 & 0.000000 & 0.1666667\\\\\n",
       "\t 5 & 0 & 0.031250 & 0.1666667\\\\\n",
       "\t 5 & 1 & 0.156250 & 0.1666667\\\\\n",
       "\t 5 & 2 & 0.312500 & 0.1666667\\\\\n",
       "\t 5 & 3 & 0.312500 & 0.1666667\\\\\n",
       "\t 5 & 4 & 0.156250 & 0.1666667\\\\\n",
       "\t 5 & 5 & 0.031250 & 0.1666667\\\\\n",
       "\t 5 & 6 & 0.000000 & 0.1666667\\\\\n",
       "\t 6 & 0 & 0.015625 & 0.1666667\\\\\n",
       "\t 6 & 1 & 0.093750 & 0.1666667\\\\\n",
       "\t 6 & 2 & 0.234375 & 0.1666667\\\\\n",
       "\t 6 & 3 & 0.312500 & 0.1666667\\\\\n",
       "\t 6 & 4 & 0.234375 & 0.1666667\\\\\n",
       "\t 6 & 5 & 0.093750 & 0.1666667\\\\\n",
       "\t 6 & 6 & 0.015625 & 0.1666667\\\\\n",
       "\\end{tabular}\n"
      ],
      "text/markdown": [
       "\n",
       "A grouped_df: 42 × 4\n",
       "\n",
       "| score &lt;int&gt; | heads &lt;int&gt; | prob.heads.given.score &lt;dbl&gt; | prob.score &lt;dbl&gt; |\n",
       "|---|---|---|---|\n",
       "| 1 | 0 | 0.500000 | 0.1666667 |\n",
       "| 1 | 1 | 0.500000 | 0.1666667 |\n",
       "| 1 | 2 | 0.000000 | 0.1666667 |\n",
       "| 1 | 3 | 0.000000 | 0.1666667 |\n",
       "| 1 | 4 | 0.000000 | 0.1666667 |\n",
       "| 1 | 5 | 0.000000 | 0.1666667 |\n",
       "| 1 | 6 | 0.000000 | 0.1666667 |\n",
       "| 2 | 0 | 0.250000 | 0.1666667 |\n",
       "| 2 | 1 | 0.500000 | 0.1666667 |\n",
       "| 2 | 2 | 0.250000 | 0.1666667 |\n",
       "| 2 | 3 | 0.000000 | 0.1666667 |\n",
       "| 2 | 4 | 0.000000 | 0.1666667 |\n",
       "| 2 | 5 | 0.000000 | 0.1666667 |\n",
       "| 2 | 6 | 0.000000 | 0.1666667 |\n",
       "| 3 | 0 | 0.125000 | 0.1666667 |\n",
       "| 3 | 1 | 0.375000 | 0.1666667 |\n",
       "| 3 | 2 | 0.375000 | 0.1666667 |\n",
       "| 3 | 3 | 0.125000 | 0.1666667 |\n",
       "| 3 | 4 | 0.000000 | 0.1666667 |\n",
       "| 3 | 5 | 0.000000 | 0.1666667 |\n",
       "| 3 | 6 | 0.000000 | 0.1666667 |\n",
       "| 4 | 0 | 0.062500 | 0.1666667 |\n",
       "| 4 | 1 | 0.250000 | 0.1666667 |\n",
       "| 4 | 2 | 0.375000 | 0.1666667 |\n",
       "| 4 | 3 | 0.250000 | 0.1666667 |\n",
       "| 4 | 4 | 0.062500 | 0.1666667 |\n",
       "| 4 | 5 | 0.000000 | 0.1666667 |\n",
       "| 4 | 6 | 0.000000 | 0.1666667 |\n",
       "| 5 | 0 | 0.031250 | 0.1666667 |\n",
       "| 5 | 1 | 0.156250 | 0.1666667 |\n",
       "| 5 | 2 | 0.312500 | 0.1666667 |\n",
       "| 5 | 3 | 0.312500 | 0.1666667 |\n",
       "| 5 | 4 | 0.156250 | 0.1666667 |\n",
       "| 5 | 5 | 0.031250 | 0.1666667 |\n",
       "| 5 | 6 | 0.000000 | 0.1666667 |\n",
       "| 6 | 0 | 0.015625 | 0.1666667 |\n",
       "| 6 | 1 | 0.093750 | 0.1666667 |\n",
       "| 6 | 2 | 0.234375 | 0.1666667 |\n",
       "| 6 | 3 | 0.312500 | 0.1666667 |\n",
       "| 6 | 4 | 0.234375 | 0.1666667 |\n",
       "| 6 | 5 | 0.093750 | 0.1666667 |\n",
       "| 6 | 6 | 0.015625 | 0.1666667 |\n",
       "\n"
      ],
      "text/plain": [
       "   score heads prob.heads.given.score prob.score\n",
       "1  1     0     0.500000               0.1666667 \n",
       "2  1     1     0.500000               0.1666667 \n",
       "3  1     2     0.000000               0.1666667 \n",
       "4  1     3     0.000000               0.1666667 \n",
       "5  1     4     0.000000               0.1666667 \n",
       "6  1     5     0.000000               0.1666667 \n",
       "7  1     6     0.000000               0.1666667 \n",
       "8  2     0     0.250000               0.1666667 \n",
       "9  2     1     0.500000               0.1666667 \n",
       "10 2     2     0.250000               0.1666667 \n",
       "11 2     3     0.000000               0.1666667 \n",
       "12 2     4     0.000000               0.1666667 \n",
       "13 2     5     0.000000               0.1666667 \n",
       "14 2     6     0.000000               0.1666667 \n",
       "15 3     0     0.125000               0.1666667 \n",
       "16 3     1     0.375000               0.1666667 \n",
       "17 3     2     0.375000               0.1666667 \n",
       "18 3     3     0.125000               0.1666667 \n",
       "19 3     4     0.000000               0.1666667 \n",
       "20 3     5     0.000000               0.1666667 \n",
       "21 3     6     0.000000               0.1666667 \n",
       "22 4     0     0.062500               0.1666667 \n",
       "23 4     1     0.250000               0.1666667 \n",
       "24 4     2     0.375000               0.1666667 \n",
       "25 4     3     0.250000               0.1666667 \n",
       "26 4     4     0.062500               0.1666667 \n",
       "27 4     5     0.000000               0.1666667 \n",
       "28 4     6     0.000000               0.1666667 \n",
       "29 5     0     0.031250               0.1666667 \n",
       "30 5     1     0.156250               0.1666667 \n",
       "31 5     2     0.312500               0.1666667 \n",
       "32 5     3     0.312500               0.1666667 \n",
       "33 5     4     0.156250               0.1666667 \n",
       "34 5     5     0.031250               0.1666667 \n",
       "35 5     6     0.000000               0.1666667 \n",
       "36 6     0     0.015625               0.1666667 \n",
       "37 6     1     0.093750               0.1666667 \n",
       "38 6     2     0.234375               0.1666667 \n",
       "39 6     3     0.312500               0.1666667 \n",
       "40 6     4     0.234375               0.1666667 \n",
       "41 6     5     0.093750               0.1666667 \n",
       "42 6     6     0.015625               0.1666667 "
      ]
     },
     "metadata": {},
     "output_type": "display_data"
    }
   ],
   "source": [
    "## find prob of heads and score\n",
    "expand_grid(score=1:6,heads=0:6) %>% group_by(heads,score) %>%\n",
    "     mutate(prob.heads.given.score=sum(dbinom(heads,size=score,prob=1/2)),prob.score=1/6) \n",
    "                  # as prob of any score is alws 1/6"
   ]
  },
  {
   "cell_type": "code",
   "execution_count": 48,
   "id": "f23c136f",
   "metadata": {
    "scrolled": true
   },
   "outputs": [
    {
     "data": {
      "text/html": [
       "<table class=\"dataframe\">\n",
       "<caption>A grouped_df: 42 × 5</caption>\n",
       "<thead>\n",
       "\t<tr><th scope=col>score</th><th scope=col>heads</th><th scope=col>prob.heads.given.score</th><th scope=col>prob.score</th><th scope=col>prob.heads.and.score</th></tr>\n",
       "\t<tr><th scope=col>&lt;int&gt;</th><th scope=col>&lt;int&gt;</th><th scope=col>&lt;dbl&gt;</th><th scope=col>&lt;dbl&gt;</th><th scope=col>&lt;dbl&gt;</th></tr>\n",
       "</thead>\n",
       "<tbody>\n",
       "\t<tr><td>1</td><td>0</td><td>0.500000</td><td>0.1666667</td><td>0.083333333</td></tr>\n",
       "\t<tr><td>1</td><td>1</td><td>0.500000</td><td>0.1666667</td><td>0.083333333</td></tr>\n",
       "\t<tr><td>1</td><td>2</td><td>0.000000</td><td>0.1666667</td><td>0.000000000</td></tr>\n",
       "\t<tr><td>1</td><td>3</td><td>0.000000</td><td>0.1666667</td><td>0.000000000</td></tr>\n",
       "\t<tr><td>1</td><td>4</td><td>0.000000</td><td>0.1666667</td><td>0.000000000</td></tr>\n",
       "\t<tr><td>1</td><td>5</td><td>0.000000</td><td>0.1666667</td><td>0.000000000</td></tr>\n",
       "\t<tr><td>1</td><td>6</td><td>0.000000</td><td>0.1666667</td><td>0.000000000</td></tr>\n",
       "\t<tr><td>2</td><td>0</td><td>0.250000</td><td>0.1666667</td><td>0.041666667</td></tr>\n",
       "\t<tr><td>2</td><td>1</td><td>0.500000</td><td>0.1666667</td><td>0.083333333</td></tr>\n",
       "\t<tr><td>2</td><td>2</td><td>0.250000</td><td>0.1666667</td><td>0.041666667</td></tr>\n",
       "\t<tr><td>2</td><td>3</td><td>0.000000</td><td>0.1666667</td><td>0.000000000</td></tr>\n",
       "\t<tr><td>2</td><td>4</td><td>0.000000</td><td>0.1666667</td><td>0.000000000</td></tr>\n",
       "\t<tr><td>2</td><td>5</td><td>0.000000</td><td>0.1666667</td><td>0.000000000</td></tr>\n",
       "\t<tr><td>2</td><td>6</td><td>0.000000</td><td>0.1666667</td><td>0.000000000</td></tr>\n",
       "\t<tr><td>3</td><td>0</td><td>0.125000</td><td>0.1666667</td><td>0.020833333</td></tr>\n",
       "\t<tr><td>3</td><td>1</td><td>0.375000</td><td>0.1666667</td><td>0.062500000</td></tr>\n",
       "\t<tr><td>3</td><td>2</td><td>0.375000</td><td>0.1666667</td><td>0.062500000</td></tr>\n",
       "\t<tr><td>3</td><td>3</td><td>0.125000</td><td>0.1666667</td><td>0.020833333</td></tr>\n",
       "\t<tr><td>3</td><td>4</td><td>0.000000</td><td>0.1666667</td><td>0.000000000</td></tr>\n",
       "\t<tr><td>3</td><td>5</td><td>0.000000</td><td>0.1666667</td><td>0.000000000</td></tr>\n",
       "\t<tr><td>3</td><td>6</td><td>0.000000</td><td>0.1666667</td><td>0.000000000</td></tr>\n",
       "\t<tr><td>4</td><td>0</td><td>0.062500</td><td>0.1666667</td><td>0.010416667</td></tr>\n",
       "\t<tr><td>4</td><td>1</td><td>0.250000</td><td>0.1666667</td><td>0.041666667</td></tr>\n",
       "\t<tr><td>4</td><td>2</td><td>0.375000</td><td>0.1666667</td><td>0.062500000</td></tr>\n",
       "\t<tr><td>4</td><td>3</td><td>0.250000</td><td>0.1666667</td><td>0.041666667</td></tr>\n",
       "\t<tr><td>4</td><td>4</td><td>0.062500</td><td>0.1666667</td><td>0.010416667</td></tr>\n",
       "\t<tr><td>4</td><td>5</td><td>0.000000</td><td>0.1666667</td><td>0.000000000</td></tr>\n",
       "\t<tr><td>4</td><td>6</td><td>0.000000</td><td>0.1666667</td><td>0.000000000</td></tr>\n",
       "\t<tr><td>5</td><td>0</td><td>0.031250</td><td>0.1666667</td><td>0.005208333</td></tr>\n",
       "\t<tr><td>5</td><td>1</td><td>0.156250</td><td>0.1666667</td><td>0.026041667</td></tr>\n",
       "\t<tr><td>5</td><td>2</td><td>0.312500</td><td>0.1666667</td><td>0.052083333</td></tr>\n",
       "\t<tr><td>5</td><td>3</td><td>0.312500</td><td>0.1666667</td><td>0.052083333</td></tr>\n",
       "\t<tr><td>5</td><td>4</td><td>0.156250</td><td>0.1666667</td><td>0.026041667</td></tr>\n",
       "\t<tr><td>5</td><td>5</td><td>0.031250</td><td>0.1666667</td><td>0.005208333</td></tr>\n",
       "\t<tr><td>5</td><td>6</td><td>0.000000</td><td>0.1666667</td><td>0.000000000</td></tr>\n",
       "\t<tr><td>6</td><td>0</td><td>0.015625</td><td>0.1666667</td><td>0.002604167</td></tr>\n",
       "\t<tr><td>6</td><td>1</td><td>0.093750</td><td>0.1666667</td><td>0.015625000</td></tr>\n",
       "\t<tr><td>6</td><td>2</td><td>0.234375</td><td>0.1666667</td><td>0.039062500</td></tr>\n",
       "\t<tr><td>6</td><td>3</td><td>0.312500</td><td>0.1666667</td><td>0.052083333</td></tr>\n",
       "\t<tr><td>6</td><td>4</td><td>0.234375</td><td>0.1666667</td><td>0.039062500</td></tr>\n",
       "\t<tr><td>6</td><td>5</td><td>0.093750</td><td>0.1666667</td><td>0.015625000</td></tr>\n",
       "\t<tr><td>6</td><td>6</td><td>0.015625</td><td>0.1666667</td><td>0.002604167</td></tr>\n",
       "</tbody>\n",
       "</table>\n"
      ],
      "text/latex": [
       "A grouped\\_df: 42 × 5\n",
       "\\begin{tabular}{lllll}\n",
       " score & heads & prob.heads.given.score & prob.score & prob.heads.and.score\\\\\n",
       " <int> & <int> & <dbl> & <dbl> & <dbl>\\\\\n",
       "\\hline\n",
       "\t 1 & 0 & 0.500000 & 0.1666667 & 0.083333333\\\\\n",
       "\t 1 & 1 & 0.500000 & 0.1666667 & 0.083333333\\\\\n",
       "\t 1 & 2 & 0.000000 & 0.1666667 & 0.000000000\\\\\n",
       "\t 1 & 3 & 0.000000 & 0.1666667 & 0.000000000\\\\\n",
       "\t 1 & 4 & 0.000000 & 0.1666667 & 0.000000000\\\\\n",
       "\t 1 & 5 & 0.000000 & 0.1666667 & 0.000000000\\\\\n",
       "\t 1 & 6 & 0.000000 & 0.1666667 & 0.000000000\\\\\n",
       "\t 2 & 0 & 0.250000 & 0.1666667 & 0.041666667\\\\\n",
       "\t 2 & 1 & 0.500000 & 0.1666667 & 0.083333333\\\\\n",
       "\t 2 & 2 & 0.250000 & 0.1666667 & 0.041666667\\\\\n",
       "\t 2 & 3 & 0.000000 & 0.1666667 & 0.000000000\\\\\n",
       "\t 2 & 4 & 0.000000 & 0.1666667 & 0.000000000\\\\\n",
       "\t 2 & 5 & 0.000000 & 0.1666667 & 0.000000000\\\\\n",
       "\t 2 & 6 & 0.000000 & 0.1666667 & 0.000000000\\\\\n",
       "\t 3 & 0 & 0.125000 & 0.1666667 & 0.020833333\\\\\n",
       "\t 3 & 1 & 0.375000 & 0.1666667 & 0.062500000\\\\\n",
       "\t 3 & 2 & 0.375000 & 0.1666667 & 0.062500000\\\\\n",
       "\t 3 & 3 & 0.125000 & 0.1666667 & 0.020833333\\\\\n",
       "\t 3 & 4 & 0.000000 & 0.1666667 & 0.000000000\\\\\n",
       "\t 3 & 5 & 0.000000 & 0.1666667 & 0.000000000\\\\\n",
       "\t 3 & 6 & 0.000000 & 0.1666667 & 0.000000000\\\\\n",
       "\t 4 & 0 & 0.062500 & 0.1666667 & 0.010416667\\\\\n",
       "\t 4 & 1 & 0.250000 & 0.1666667 & 0.041666667\\\\\n",
       "\t 4 & 2 & 0.375000 & 0.1666667 & 0.062500000\\\\\n",
       "\t 4 & 3 & 0.250000 & 0.1666667 & 0.041666667\\\\\n",
       "\t 4 & 4 & 0.062500 & 0.1666667 & 0.010416667\\\\\n",
       "\t 4 & 5 & 0.000000 & 0.1666667 & 0.000000000\\\\\n",
       "\t 4 & 6 & 0.000000 & 0.1666667 & 0.000000000\\\\\n",
       "\t 5 & 0 & 0.031250 & 0.1666667 & 0.005208333\\\\\n",
       "\t 5 & 1 & 0.156250 & 0.1666667 & 0.026041667\\\\\n",
       "\t 5 & 2 & 0.312500 & 0.1666667 & 0.052083333\\\\\n",
       "\t 5 & 3 & 0.312500 & 0.1666667 & 0.052083333\\\\\n",
       "\t 5 & 4 & 0.156250 & 0.1666667 & 0.026041667\\\\\n",
       "\t 5 & 5 & 0.031250 & 0.1666667 & 0.005208333\\\\\n",
       "\t 5 & 6 & 0.000000 & 0.1666667 & 0.000000000\\\\\n",
       "\t 6 & 0 & 0.015625 & 0.1666667 & 0.002604167\\\\\n",
       "\t 6 & 1 & 0.093750 & 0.1666667 & 0.015625000\\\\\n",
       "\t 6 & 2 & 0.234375 & 0.1666667 & 0.039062500\\\\\n",
       "\t 6 & 3 & 0.312500 & 0.1666667 & 0.052083333\\\\\n",
       "\t 6 & 4 & 0.234375 & 0.1666667 & 0.039062500\\\\\n",
       "\t 6 & 5 & 0.093750 & 0.1666667 & 0.015625000\\\\\n",
       "\t 6 & 6 & 0.015625 & 0.1666667 & 0.002604167\\\\\n",
       "\\end{tabular}\n"
      ],
      "text/markdown": [
       "\n",
       "A grouped_df: 42 × 5\n",
       "\n",
       "| score &lt;int&gt; | heads &lt;int&gt; | prob.heads.given.score &lt;dbl&gt; | prob.score &lt;dbl&gt; | prob.heads.and.score &lt;dbl&gt; |\n",
       "|---|---|---|---|---|\n",
       "| 1 | 0 | 0.500000 | 0.1666667 | 0.083333333 |\n",
       "| 1 | 1 | 0.500000 | 0.1666667 | 0.083333333 |\n",
       "| 1 | 2 | 0.000000 | 0.1666667 | 0.000000000 |\n",
       "| 1 | 3 | 0.000000 | 0.1666667 | 0.000000000 |\n",
       "| 1 | 4 | 0.000000 | 0.1666667 | 0.000000000 |\n",
       "| 1 | 5 | 0.000000 | 0.1666667 | 0.000000000 |\n",
       "| 1 | 6 | 0.000000 | 0.1666667 | 0.000000000 |\n",
       "| 2 | 0 | 0.250000 | 0.1666667 | 0.041666667 |\n",
       "| 2 | 1 | 0.500000 | 0.1666667 | 0.083333333 |\n",
       "| 2 | 2 | 0.250000 | 0.1666667 | 0.041666667 |\n",
       "| 2 | 3 | 0.000000 | 0.1666667 | 0.000000000 |\n",
       "| 2 | 4 | 0.000000 | 0.1666667 | 0.000000000 |\n",
       "| 2 | 5 | 0.000000 | 0.1666667 | 0.000000000 |\n",
       "| 2 | 6 | 0.000000 | 0.1666667 | 0.000000000 |\n",
       "| 3 | 0 | 0.125000 | 0.1666667 | 0.020833333 |\n",
       "| 3 | 1 | 0.375000 | 0.1666667 | 0.062500000 |\n",
       "| 3 | 2 | 0.375000 | 0.1666667 | 0.062500000 |\n",
       "| 3 | 3 | 0.125000 | 0.1666667 | 0.020833333 |\n",
       "| 3 | 4 | 0.000000 | 0.1666667 | 0.000000000 |\n",
       "| 3 | 5 | 0.000000 | 0.1666667 | 0.000000000 |\n",
       "| 3 | 6 | 0.000000 | 0.1666667 | 0.000000000 |\n",
       "| 4 | 0 | 0.062500 | 0.1666667 | 0.010416667 |\n",
       "| 4 | 1 | 0.250000 | 0.1666667 | 0.041666667 |\n",
       "| 4 | 2 | 0.375000 | 0.1666667 | 0.062500000 |\n",
       "| 4 | 3 | 0.250000 | 0.1666667 | 0.041666667 |\n",
       "| 4 | 4 | 0.062500 | 0.1666667 | 0.010416667 |\n",
       "| 4 | 5 | 0.000000 | 0.1666667 | 0.000000000 |\n",
       "| 4 | 6 | 0.000000 | 0.1666667 | 0.000000000 |\n",
       "| 5 | 0 | 0.031250 | 0.1666667 | 0.005208333 |\n",
       "| 5 | 1 | 0.156250 | 0.1666667 | 0.026041667 |\n",
       "| 5 | 2 | 0.312500 | 0.1666667 | 0.052083333 |\n",
       "| 5 | 3 | 0.312500 | 0.1666667 | 0.052083333 |\n",
       "| 5 | 4 | 0.156250 | 0.1666667 | 0.026041667 |\n",
       "| 5 | 5 | 0.031250 | 0.1666667 | 0.005208333 |\n",
       "| 5 | 6 | 0.000000 | 0.1666667 | 0.000000000 |\n",
       "| 6 | 0 | 0.015625 | 0.1666667 | 0.002604167 |\n",
       "| 6 | 1 | 0.093750 | 0.1666667 | 0.015625000 |\n",
       "| 6 | 2 | 0.234375 | 0.1666667 | 0.039062500 |\n",
       "| 6 | 3 | 0.312500 | 0.1666667 | 0.052083333 |\n",
       "| 6 | 4 | 0.234375 | 0.1666667 | 0.039062500 |\n",
       "| 6 | 5 | 0.093750 | 0.1666667 | 0.015625000 |\n",
       "| 6 | 6 | 0.015625 | 0.1666667 | 0.002604167 |\n",
       "\n"
      ],
      "text/plain": [
       "   score heads prob.heads.given.score prob.score prob.heads.and.score\n",
       "1  1     0     0.500000               0.1666667  0.083333333         \n",
       "2  1     1     0.500000               0.1666667  0.083333333         \n",
       "3  1     2     0.000000               0.1666667  0.000000000         \n",
       "4  1     3     0.000000               0.1666667  0.000000000         \n",
       "5  1     4     0.000000               0.1666667  0.000000000         \n",
       "6  1     5     0.000000               0.1666667  0.000000000         \n",
       "7  1     6     0.000000               0.1666667  0.000000000         \n",
       "8  2     0     0.250000               0.1666667  0.041666667         \n",
       "9  2     1     0.500000               0.1666667  0.083333333         \n",
       "10 2     2     0.250000               0.1666667  0.041666667         \n",
       "11 2     3     0.000000               0.1666667  0.000000000         \n",
       "12 2     4     0.000000               0.1666667  0.000000000         \n",
       "13 2     5     0.000000               0.1666667  0.000000000         \n",
       "14 2     6     0.000000               0.1666667  0.000000000         \n",
       "15 3     0     0.125000               0.1666667  0.020833333         \n",
       "16 3     1     0.375000               0.1666667  0.062500000         \n",
       "17 3     2     0.375000               0.1666667  0.062500000         \n",
       "18 3     3     0.125000               0.1666667  0.020833333         \n",
       "19 3     4     0.000000               0.1666667  0.000000000         \n",
       "20 3     5     0.000000               0.1666667  0.000000000         \n",
       "21 3     6     0.000000               0.1666667  0.000000000         \n",
       "22 4     0     0.062500               0.1666667  0.010416667         \n",
       "23 4     1     0.250000               0.1666667  0.041666667         \n",
       "24 4     2     0.375000               0.1666667  0.062500000         \n",
       "25 4     3     0.250000               0.1666667  0.041666667         \n",
       "26 4     4     0.062500               0.1666667  0.010416667         \n",
       "27 4     5     0.000000               0.1666667  0.000000000         \n",
       "28 4     6     0.000000               0.1666667  0.000000000         \n",
       "29 5     0     0.031250               0.1666667  0.005208333         \n",
       "30 5     1     0.156250               0.1666667  0.026041667         \n",
       "31 5     2     0.312500               0.1666667  0.052083333         \n",
       "32 5     3     0.312500               0.1666667  0.052083333         \n",
       "33 5     4     0.156250               0.1666667  0.026041667         \n",
       "34 5     5     0.031250               0.1666667  0.005208333         \n",
       "35 5     6     0.000000               0.1666667  0.000000000         \n",
       "36 6     0     0.015625               0.1666667  0.002604167         \n",
       "37 6     1     0.093750               0.1666667  0.015625000         \n",
       "38 6     2     0.234375               0.1666667  0.039062500         \n",
       "39 6     3     0.312500               0.1666667  0.052083333         \n",
       "40 6     4     0.234375               0.1666667  0.039062500         \n",
       "41 6     5     0.093750               0.1666667  0.015625000         \n",
       "42 6     6     0.015625               0.1666667  0.002604167         "
      ]
     },
     "metadata": {},
     "output_type": "display_data"
    }
   ],
   "source": [
    "expand_grid(score=1:6,heads=0:6) %>% group_by(heads,score) %>%\n",
    "     mutate(prob.heads.given.score=sum(dbinom(heads,size=score,prob=1/2)),prob.score=1/6) %>%\n",
    "     mutate(prob.heads.and.score=prob.score*prob.heads.given.score) %>%\n",
    "     unique()  "
   ]
  },
  {
   "cell_type": "code",
   "execution_count": 57,
   "id": "05e26cb9",
   "metadata": {
    "scrolled": true
   },
   "outputs": [],
   "source": [
    "## get total probability of each score for example for 0, for 1 till 6\n",
    "expand_grid(score=1:6,heads=0:6) %>% group_by(heads,score) %>%\n",
    "     mutate(prob.heads.given.score=sum(dbinom(heads,size=score,prob=1/2)),prob.score=1/6) %>%\n",
    "       mutate(prob.heads.and.score=prob.score*prob.heads.given.score) %>% group_by(heads) %>%\n",
    "       mutate(prob.heads=sum(prob.heads.and.score),prob.score.given.heads=prob.heads.and.score/prob.heads)->tmp\n",
    "    "
   ]
  },
  {
   "cell_type": "code",
   "execution_count": 62,
   "id": "1e93219b",
   "metadata": {
    "scrolled": false
   },
   "outputs": [
    {
     "data": {
      "text/html": [
       "<table class=\"dataframe\">\n",
       "<caption>A grouped_df: 7 × 2</caption>\n",
       "<thead>\n",
       "\t<tr><th scope=col>heads</th><th scope=col>prob.heads</th></tr>\n",
       "\t<tr><th scope=col>&lt;int&gt;</th><th scope=col>&lt;dbl&gt;</th></tr>\n",
       "</thead>\n",
       "<tbody>\n",
       "\t<tr><td>0</td><td>0.164062500</td></tr>\n",
       "\t<tr><td>1</td><td>0.312500000</td></tr>\n",
       "\t<tr><td>2</td><td>0.257812500</td></tr>\n",
       "\t<tr><td>3</td><td>0.166666667</td></tr>\n",
       "\t<tr><td>4</td><td>0.075520833</td></tr>\n",
       "\t<tr><td>5</td><td>0.020833333</td></tr>\n",
       "\t<tr><td>6</td><td>0.002604167</td></tr>\n",
       "</tbody>\n",
       "</table>\n"
      ],
      "text/latex": [
       "A grouped\\_df: 7 × 2\n",
       "\\begin{tabular}{ll}\n",
       " heads & prob.heads\\\\\n",
       " <int> & <dbl>\\\\\n",
       "\\hline\n",
       "\t 0 & 0.164062500\\\\\n",
       "\t 1 & 0.312500000\\\\\n",
       "\t 2 & 0.257812500\\\\\n",
       "\t 3 & 0.166666667\\\\\n",
       "\t 4 & 0.075520833\\\\\n",
       "\t 5 & 0.020833333\\\\\n",
       "\t 6 & 0.002604167\\\\\n",
       "\\end{tabular}\n"
      ],
      "text/markdown": [
       "\n",
       "A grouped_df: 7 × 2\n",
       "\n",
       "| heads &lt;int&gt; | prob.heads &lt;dbl&gt; |\n",
       "|---|---|\n",
       "| 0 | 0.164062500 |\n",
       "| 1 | 0.312500000 |\n",
       "| 2 | 0.257812500 |\n",
       "| 3 | 0.166666667 |\n",
       "| 4 | 0.075520833 |\n",
       "| 5 | 0.020833333 |\n",
       "| 6 | 0.002604167 |\n",
       "\n"
      ],
      "text/plain": [
       "  heads prob.heads \n",
       "1 0     0.164062500\n",
       "2 1     0.312500000\n",
       "3 2     0.257812500\n",
       "4 3     0.166666667\n",
       "5 4     0.075520833\n",
       "6 5     0.020833333\n",
       "7 6     0.002604167"
      ]
     },
     "metadata": {},
     "output_type": "display_data"
    }
   ],
   "source": [
    "tmp %>% select(heads,prob.heads) %>% unique()->dh\n",
    "dh"
   ]
  },
  {
   "cell_type": "code",
   "execution_count": 70,
   "id": "8b7f81b7",
   "metadata": {},
   "outputs": [
    {
     "data": {
      "text/html": [
       "1.75"
      ],
      "text/latex": [
       "1.75"
      ],
      "text/markdown": [
       "1.75"
      ],
      "text/plain": [
       "[1] 1.75"
      ]
     },
     "metadata": {},
     "output_type": "display_data"
    }
   ],
   "source": [
    "sum(dh$heads*dh$prob.heads)->E.X\n",
    "E.X"
   ]
  },
  {
   "cell_type": "code",
   "execution_count": 69,
   "id": "6893788f",
   "metadata": {
    "scrolled": true
   },
   "outputs": [
    {
     "data": {
      "text/html": [
       "<style>\n",
       ".list-inline {list-style: none; margin:0; padding: 0}\n",
       ".list-inline>li {display: inline-block}\n",
       ".list-inline>li:not(:last-child)::after {content: \"\\00b7\"; padding: 0 .5ex}\n",
       "</style>\n",
       "<ol class=list-inline><li>0</li><li>0.3125</li><li>0.515625</li><li>0.5</li><li>0.302083333333333</li><li>0.104166666666667</li><li>0.015625</li></ol>\n"
      ],
      "text/latex": [
       "\\begin{enumerate*}\n",
       "\\item 0\n",
       "\\item 0.3125\n",
       "\\item 0.515625\n",
       "\\item 0.5\n",
       "\\item 0.302083333333333\n",
       "\\item 0.104166666666667\n",
       "\\item 0.015625\n",
       "\\end{enumerate*}\n"
      ],
      "text/markdown": [
       "1. 0\n",
       "2. 0.3125\n",
       "3. 0.515625\n",
       "4. 0.5\n",
       "5. 0.302083333333333\n",
       "6. 0.104166666666667\n",
       "7. 0.015625\n",
       "\n",
       "\n"
      ],
      "text/plain": [
       "[1] 0.0000000 0.3125000 0.5156250 0.5000000 0.3020833 0.1041667 0.0156250"
      ]
     },
     "metadata": {},
     "output_type": "display_data"
    }
   ],
   "source": [
    "dh$heads*dh$prob.heads"
   ]
  },
  {
   "cell_type": "code",
   "execution_count": 71,
   "id": "9112c7b8",
   "metadata": {
    "scrolled": true
   },
   "outputs": [
    {
     "data": {
      "text/html": [
       "4.66666666666667"
      ],
      "text/latex": [
       "4.66666666666667"
      ],
      "text/markdown": [
       "4.66666666666667"
      ],
      "text/plain": [
       "[1] 4.666667"
      ]
     },
     "metadata": {},
     "output_type": "display_data"
    }
   ],
   "source": [
    "E.X2<-sum(dh$heads**2*dh$prob.heads)\n",
    "E.X2"
   ]
  },
  {
   "cell_type": "code",
   "execution_count": 72,
   "id": "d9a024e6",
   "metadata": {},
   "outputs": [
    {
     "data": {
      "text/html": [
       "1.60416666666667"
      ],
      "text/latex": [
       "1.60416666666667"
      ],
      "text/markdown": [
       "1.60416666666667"
      ],
      "text/plain": [
       "[1] 1.604167"
      ]
     },
     "metadata": {},
     "output_type": "display_data"
    }
   ],
   "source": [
    "V.X=E.X2-E.X**2\n",
    "V.X"
   ]
  },
  {
   "cell_type": "markdown",
   "id": "e075a0b1",
   "metadata": {},
   "source": [
    "Consider a lottery of 20 tickets. Among the tickets there is are 1 first\n",
    "prize, 4 second prizes and 15 rivets. 5 tickets are drawn from the lottery\n",
    "drum. Determine the probability that\n",
    " + (a) 2 rivets have been drawn.\n",
    " + (b) 2 rivets, 2 second prizes and the first prize were drawn.\n",
    " + (c) the 5th ticket drawn is the first ticket which is not a rivet."
   ]
  },
  {
   "cell_type": "markdown",
   "id": "950f5f98",
   "metadata": {},
   "source": [
    "# without replacement"
   ]
  },
  {
   "cell_type": "code",
   "execution_count": 85,
   "id": "6c7caf3d",
   "metadata": {
    "collapsed": true
   },
   "outputs": [
    {
     "data": {
      "text/html": [
       "0.088"
      ],
      "text/latex": [
       "0.088"
      ],
      "text/markdown": [
       "0.088"
      ],
      "text/plain": [
       "[1] 0.088"
      ]
     },
     "metadata": {},
     "output_type": "display_data"
    }
   ],
   "source": [
    "# (a)\n",
    "# p(X=2)\n",
    "dbinom(2,size=5,prob=15/20) %>% round(3)\n",
    "# or"
   ]
  },
  {
   "cell_type": "code",
   "execution_count": 82,
   "id": "f3c796b4",
   "metadata": {},
   "outputs": [
    {
     "data": {
      "text/html": [
       "0.088"
      ],
      "text/latex": [
       "0.088"
      ],
      "text/markdown": [
       "0.088"
      ],
      "text/plain": [
       "[1] 0.088"
      ]
     },
     "metadata": {},
     "output_type": "display_data"
    }
   ],
   "source": [
    "(choose(5,2)*(15/20)**2*(5/20)**3) %>% round(3)"
   ]
  },
  {
   "cell_type": "code",
   "execution_count": 88,
   "id": "88b7c625",
   "metadata": {},
   "outputs": [
    {
     "data": {
      "text/html": [
       "0.03375"
      ],
      "text/latex": [
       "0.03375"
      ],
      "text/markdown": [
       "0.03375"
      ],
      "text/plain": [
       "[1] 0.03375"
      ]
     },
     "metadata": {},
     "output_type": "display_data"
    }
   ],
   "source": [
    "# (b)\n",
    "# P(X_r=2,X_s=2,X_f=1)\n",
    "( (factorial(5))/(factorial(2)*factorial(2)*factorial(1)) )*(15/20)**2*(4/20)**2*(1/20)\n",
    "# or"
   ]
  },
  {
   "cell_type": "code",
   "execution_count": 87,
   "id": "ce1a6fed",
   "metadata": {
    "scrolled": true
   },
   "outputs": [
    {
     "data": {
      "text/html": [
       "0.03375"
      ],
      "text/latex": [
       "0.03375"
      ],
      "text/markdown": [
       "0.03375"
      ],
      "text/plain": [
       "[1] 0.03375"
      ]
     },
     "metadata": {},
     "output_type": "display_data"
    }
   ],
   "source": [
    "dmultinom(x=c(2,2,1),size=5,prob=c(15/20,4/20,1/20))"
   ]
  },
  {
   "cell_type": "code",
   "execution_count": 92,
   "id": "2000294f",
   "metadata": {},
   "outputs": [
    {
     "data": {
      "text/html": [
       "0.0791015625"
      ],
      "text/latex": [
       "0.0791015625"
      ],
      "text/markdown": [
       "0.0791015625"
      ],
      "text/plain": [
       "[1] 0.07910156"
      ]
     },
     "metadata": {},
     "output_type": "display_data"
    }
   ],
   "source": [
    "# (c)\n",
    "# P(U=5) \n",
    "## first four trial are rivets so prob is,\n",
    "#(15/20)**4\n",
    "## the fith trial is not a rivet so prob is,\n",
    "#(5/20)\n",
    "\n",
    "# so \n",
    "((15/20)**4)*(5/20)\n"
   ]
  },
  {
   "cell_type": "markdown",
   "id": "637e2c3c",
   "metadata": {},
   "source": [
    "# with replacement"
   ]
  },
  {
   "cell_type": "code",
   "execution_count": 95,
   "id": "35db9d98",
   "metadata": {},
   "outputs": [
    {
     "data": {
      "text/html": [
       "0.0677244582043344"
      ],
      "text/latex": [
       "0.0677244582043344"
      ],
      "text/markdown": [
       "0.0677244582043344"
      ],
      "text/plain": [
       "[1] 0.06772446"
      ]
     },
     "metadata": {},
     "output_type": "display_data"
    }
   ],
   "source": [
    "# (a)\n",
    "( choose(15,2)*choose(5,3) )/choose(20,5)"
   ]
  },
  {
   "cell_type": "code",
   "execution_count": 96,
   "id": "9c2edea4",
   "metadata": {},
   "outputs": [
    {
     "data": {
      "text/html": [
       "0.0406346749226006"
      ],
      "text/latex": [
       "0.0406346749226006"
      ],
      "text/markdown": [
       "0.0406346749226006"
      ],
      "text/plain": [
       "[1] 0.04063467"
      ]
     },
     "metadata": {},
     "output_type": "display_data"
    }
   ],
   "source": [
    "# (b)\n",
    "( choose(15,2)*choose(4,2) *choose(1,1))/choose(20,5)"
   ]
  },
  {
   "cell_type": "code",
   "execution_count": 97,
   "id": "b7afb412",
   "metadata": {
    "scrolled": true
   },
   "outputs": [
    {
     "data": {
      "text/html": [
       "0.0880417956656347"
      ],
      "text/latex": [
       "0.0880417956656347"
      ],
      "text/markdown": [
       "0.0880417956656347"
      ],
      "text/plain": [
       "[1] 0.0880418"
      ]
     },
     "metadata": {},
     "output_type": "display_data"
    }
   ],
   "source": [
    "# (c)\n",
    "\n",
    "(choose(15,4)/choose(20,4))*(5/16)"
   ]
  },
  {
   "cell_type": "markdown",
   "id": "b71e9005",
   "metadata": {},
   "source": [
    "<h3 style=\"color:blue;text-align:center\">Normal Distributions<h3>"
   ]
  },
  {
   "cell_type": "markdown",
   "id": "f3b170b8",
   "metadata": {},
   "source": [
    "<h2 style=\"color:purple;text-align:center\">Exercise 1<h2>\n"
   ]
  }
 ],
 "metadata": {
  "kernelspec": {
   "display_name": "R",
   "language": "R",
   "name": "ir"
  },
  "language_info": {
   "codemirror_mode": "r",
   "file_extension": ".r",
   "mimetype": "text/x-r-source",
   "name": "R",
   "pygments_lexer": "r",
   "version": "4.2.2"
  }
 },
 "nbformat": 4,
 "nbformat_minor": 5
}

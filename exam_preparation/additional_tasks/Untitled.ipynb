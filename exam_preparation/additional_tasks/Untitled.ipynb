{
 "cells": [
  {
   "cell_type": "markdown",
   "id": "41a5c7bf",
   "metadata": {},
   "source": [
    "<h1 style=\"color:green;text-align:center\">Additional Tasks WS 23</h1>"
   ]
  },
  {
   "cell_type": "markdown",
   "id": "13446848",
   "metadata": {},
   "source": [
    "<h3 style=\"color:blue;text-align:right\">Descriptive Statistics</h3>"
   ]
  },
  {
   "cell_type": "code",
   "execution_count": 1,
   "id": "f2e3b922",
   "metadata": {},
   "outputs": [],
   "source": [
    "import pandas as pd\n",
    "import numpy as np\n",
    "import matplotlib.pyplot as plt"
   ]
  },
  {
   "cell_type": "markdown",
   "id": "29b94323",
   "metadata": {},
   "source": [
    "+ (a) Import “corona.csv”"
   ]
  },
  {
   "cell_type": "code",
   "execution_count": 4,
   "id": "71a29939",
   "metadata": {
    "scrolled": true
   },
   "outputs": [
    {
     "data": {
      "text/html": [
       "<div>\n",
       "<style scoped>\n",
       "    .dataframe tbody tr th:only-of-type {\n",
       "        vertical-align: middle;\n",
       "    }\n",
       "\n",
       "    .dataframe tbody tr th {\n",
       "        vertical-align: top;\n",
       "    }\n",
       "\n",
       "    .dataframe thead th {\n",
       "        text-align: right;\n",
       "    }\n",
       "</style>\n",
       "<table border=\"1\" class=\"dataframe\">\n",
       "  <thead>\n",
       "    <tr style=\"text-align: right;\">\n",
       "      <th></th>\n",
       "      <th>continent</th>\n",
       "      <th>location</th>\n",
       "      <th>year</th>\n",
       "      <th>month</th>\n",
       "      <th>day</th>\n",
       "      <th>total_cases</th>\n",
       "      <th>new_cases</th>\n",
       "      <th>total_deaths</th>\n",
       "      <th>new_deaths</th>\n",
       "      <th>reproduction_rate</th>\n",
       "      <th>population</th>\n",
       "    </tr>\n",
       "  </thead>\n",
       "  <tbody>\n",
       "    <tr>\n",
       "      <th>0</th>\n",
       "      <td>Asia</td>\n",
       "      <td>Afghanistan</td>\n",
       "      <td>2020</td>\n",
       "      <td>1</td>\n",
       "      <td>23</td>\n",
       "      <td>NaN</td>\n",
       "      <td>0.0</td>\n",
       "      <td>NaN</td>\n",
       "      <td>0.0</td>\n",
       "      <td>NaN</td>\n",
       "      <td>38928341.0</td>\n",
       "    </tr>\n",
       "    <tr>\n",
       "      <th>1</th>\n",
       "      <td>Asia</td>\n",
       "      <td>Afghanistan</td>\n",
       "      <td>2020</td>\n",
       "      <td>1</td>\n",
       "      <td>24</td>\n",
       "      <td>NaN</td>\n",
       "      <td>0.0</td>\n",
       "      <td>NaN</td>\n",
       "      <td>0.0</td>\n",
       "      <td>NaN</td>\n",
       "      <td>38928341.0</td>\n",
       "    </tr>\n",
       "    <tr>\n",
       "      <th>2</th>\n",
       "      <td>Asia</td>\n",
       "      <td>Afghanistan</td>\n",
       "      <td>2020</td>\n",
       "      <td>1</td>\n",
       "      <td>25</td>\n",
       "      <td>NaN</td>\n",
       "      <td>0.0</td>\n",
       "      <td>NaN</td>\n",
       "      <td>0.0</td>\n",
       "      <td>NaN</td>\n",
       "      <td>38928341.0</td>\n",
       "    </tr>\n",
       "    <tr>\n",
       "      <th>3</th>\n",
       "      <td>Asia</td>\n",
       "      <td>Afghanistan</td>\n",
       "      <td>2020</td>\n",
       "      <td>1</td>\n",
       "      <td>26</td>\n",
       "      <td>NaN</td>\n",
       "      <td>0.0</td>\n",
       "      <td>NaN</td>\n",
       "      <td>0.0</td>\n",
       "      <td>NaN</td>\n",
       "      <td>38928341.0</td>\n",
       "    </tr>\n",
       "    <tr>\n",
       "      <th>4</th>\n",
       "      <td>Asia</td>\n",
       "      <td>Afghanistan</td>\n",
       "      <td>2020</td>\n",
       "      <td>1</td>\n",
       "      <td>27</td>\n",
       "      <td>NaN</td>\n",
       "      <td>0.0</td>\n",
       "      <td>NaN</td>\n",
       "      <td>0.0</td>\n",
       "      <td>NaN</td>\n",
       "      <td>38928341.0</td>\n",
       "    </tr>\n",
       "  </tbody>\n",
       "</table>\n",
       "</div>"
      ],
      "text/plain": [
       "  continent     location  year  month  day  total_cases  new_cases  \\\n",
       "0      Asia  Afghanistan  2020      1   23          NaN        0.0   \n",
       "1      Asia  Afghanistan  2020      1   24          NaN        0.0   \n",
       "2      Asia  Afghanistan  2020      1   25          NaN        0.0   \n",
       "3      Asia  Afghanistan  2020      1   26          NaN        0.0   \n",
       "4      Asia  Afghanistan  2020      1   27          NaN        0.0   \n",
       "\n",
       "   total_deaths  new_deaths  reproduction_rate  population  \n",
       "0           NaN         0.0                NaN  38928341.0  \n",
       "1           NaN         0.0                NaN  38928341.0  \n",
       "2           NaN         0.0                NaN  38928341.0  \n",
       "3           NaN         0.0                NaN  38928341.0  \n",
       "4           NaN         0.0                NaN  38928341.0  "
      ]
     },
     "execution_count": 4,
     "metadata": {},
     "output_type": "execute_result"
    }
   ],
   "source": [
    "df=pd.read_csv('corona.csv')\n",
    "df.head(5)"
   ]
  },
  {
   "cell_type": "code",
   "execution_count": 5,
   "id": "f07d1e88",
   "metadata": {},
   "outputs": [
    {
     "data": {
      "text/plain": [
       "(62392, 11)"
      ]
     },
     "execution_count": 5,
     "metadata": {},
     "output_type": "execute_result"
    }
   ],
   "source": [
    "## nums col and rows\n",
    "df.shape"
   ]
  },
  {
   "cell_type": "code",
   "execution_count": 6,
   "id": "0c8785a7",
   "metadata": {
    "scrolled": true
   },
   "outputs": [
    {
     "name": "stdout",
     "output_type": "stream",
     "text": [
      "<class 'pandas.core.frame.DataFrame'>\n",
      "RangeIndex: 62392 entries, 0 to 62391\n",
      "Data columns (total 11 columns):\n",
      " #   Column             Non-Null Count  Dtype  \n",
      "---  ------             --------------  -----  \n",
      " 0   continent          61739 non-null  object \n",
      " 1   location           62392 non-null  object \n",
      " 2   year               62392 non-null  int64  \n",
      " 3   month              62392 non-null  int64  \n",
      " 4   day                62392 non-null  int64  \n",
      " 5   total_cases        53424 non-null  float64\n",
      " 6   new_cases          62267 non-null  float64\n",
      " 7   total_deaths       45442 non-null  float64\n",
      " 8   new_deaths         62267 non-null  float64\n",
      " 9   reproduction_rate  41259 non-null  float64\n",
      " 10  population         62066 non-null  float64\n",
      "dtypes: float64(6), int64(3), object(2)\n",
      "memory usage: 5.2+ MB\n"
     ]
    }
   ],
   "source": [
    "## general info about the dataset\n",
    "df.info()"
   ]
  },
  {
   "cell_type": "code",
   "execution_count": 7,
   "id": "086d31d1",
   "metadata": {
    "scrolled": true
   },
   "outputs": [
    {
     "data": {
      "text/plain": [
       "continent              653\n",
       "location                 0\n",
       "year                     0\n",
       "month                    0\n",
       "day                      0\n",
       "total_cases           8968\n",
       "new_cases              125\n",
       "total_deaths         16950\n",
       "new_deaths             125\n",
       "reproduction_rate    21133\n",
       "population             326\n",
       "dtype: int64"
      ]
     },
     "execution_count": 7,
     "metadata": {},
     "output_type": "execute_result"
    }
   ],
   "source": [
    "## there are some columns with null values. let's see which column contains how many null values\n",
    "df.isnull().sum()"
   ]
  },
  {
   "cell_type": "markdown",
   "id": "170637c3",
   "metadata": {},
   "source": [
    "+ (b) Specify type and scale of all variables"
   ]
  },
  {
   "cell_type": "code",
   "execution_count": null,
   "id": "7dc3f44c",
   "metadata": {},
   "outputs": [],
   "source": [
    "#  |  variable name                                                                 |      type       |   scale    | \n",
    "#-------------------------------------------------------------------------------------------------------------------\n",
    "#  | continent,location                                                             |   qualitative   |   nominal   |\n",
    "#-----------------------------------------------------------------------------------------------------------------------\n",
    "# | year, month, day                                                                |   quantitative  | interval    |\n",
    "#---------------------------------------------------------------------------------------------------------------------\n",
    "# |total_cases, new_cases, total_deaths, new_deaths, reproduction_rate, population  |  quantitative   | ratio      |\n",
    "#----------------------------------------------------------------------------------------------------------------------"
   ]
  },
  {
   "cell_type": "markdown",
   "id": "4b328206",
   "metadata": {},
   "source": [
    "+ (c) New cases and new deaths: october, germany"
   ]
  },
  {
   "cell_type": "code",
   "execution_count": 13,
   "id": "413ee426",
   "metadata": {
    "scrolled": true
   },
   "outputs": [
    {
     "data": {
      "text/html": [
       "<div>\n",
       "<style scoped>\n",
       "    .dataframe tbody tr th:only-of-type {\n",
       "        vertical-align: middle;\n",
       "    }\n",
       "\n",
       "    .dataframe tbody tr th {\n",
       "        vertical-align: top;\n",
       "    }\n",
       "\n",
       "    .dataframe thead th {\n",
       "        text-align: right;\n",
       "    }\n",
       "</style>\n",
       "<table border=\"1\" class=\"dataframe\">\n",
       "  <thead>\n",
       "    <tr style=\"text-align: right;\">\n",
       "      <th></th>\n",
       "      <th>new_cases</th>\n",
       "      <th>new_deaths</th>\n",
       "    </tr>\n",
       "  </thead>\n",
       "  <tbody>\n",
       "    <tr>\n",
       "      <th>21118</th>\n",
       "      <td>2626.0</td>\n",
       "      <td>14.0</td>\n",
       "    </tr>\n",
       "    <tr>\n",
       "      <th>21119</th>\n",
       "      <td>2835.0</td>\n",
       "      <td>9.0</td>\n",
       "    </tr>\n",
       "    <tr>\n",
       "      <th>21120</th>\n",
       "      <td>1653.0</td>\n",
       "      <td>13.0</td>\n",
       "    </tr>\n",
       "    <tr>\n",
       "      <th>21121</th>\n",
       "      <td>1546.0</td>\n",
       "      <td>2.0</td>\n",
       "    </tr>\n",
       "    <tr>\n",
       "      <th>21122</th>\n",
       "      <td>3100.0</td>\n",
       "      <td>21.0</td>\n",
       "    </tr>\n",
       "    <tr>\n",
       "      <th>21123</th>\n",
       "      <td>2454.0</td>\n",
       "      <td>12.0</td>\n",
       "    </tr>\n",
       "    <tr>\n",
       "      <th>21124</th>\n",
       "      <td>4010.0</td>\n",
       "      <td>16.0</td>\n",
       "    </tr>\n",
       "  </tbody>\n",
       "</table>\n",
       "</div>"
      ],
      "text/plain": [
       "       new_cases  new_deaths\n",
       "21118     2626.0        14.0\n",
       "21119     2835.0         9.0\n",
       "21120     1653.0        13.0\n",
       "21121     1546.0         2.0\n",
       "21122     3100.0        21.0\n",
       "21123     2454.0        12.0\n",
       "21124     4010.0        16.0"
      ]
     },
     "execution_count": 13,
     "metadata": {},
     "output_type": "execute_result"
    }
   ],
   "source": [
    "df[(df['month']==10) & (df['location']=='Germany')][['new_cases','new_deaths']].head(7)"
   ]
  },
  {
   "cell_type": "markdown",
   "id": "3ab78ad1",
   "metadata": {},
   "source": [
    "+ (d) Number of new cases and new deaths in every country per month"
   ]
  },
  {
   "cell_type": "code",
   "execution_count": 22,
   "id": "022f977b",
   "metadata": {},
   "outputs": [
    {
     "name": "stdout",
     "output_type": "stream",
     "text": [
      "                   new_cases  new_deaths\n",
      "month location                          \n",
      "1     Austria            0.0         0.0\n",
      "      France             5.0         0.0\n",
      "      Germany            5.0         0.0\n",
      "      Italy              2.0         0.0\n",
      "      Netherlands        0.0         0.0\n",
      "...                      ...         ...\n",
      "12    Germany       280898.0      5412.0\n",
      "      Italy         242158.0      8944.0\n",
      "      Netherlands    91637.0       681.0\n",
      "      Spain          82388.0      2555.0\n",
      "      Switzerland    46759.0      1170.0\n",
      "\n",
      "[84 rows x 2 columns]\n"
     ]
    }
   ],
   "source": [
    "print(df[df['location'].isin([\"Germany\",\"Spain\", \"France\", \"Italy\", \"Austria\",\n",
    "                         \"Netherlands\", \"Switzerland\"])].groupby(['month','location'])[['new_cases','new_deaths']].sum())"
   ]
  },
  {
   "cell_type": "markdown",
   "id": "be8808e0",
   "metadata": {},
   "source": [
    "+ (e) Max, min, mean and median of new cases and new deaths per month"
   ]
  },
  {
   "cell_type": "code",
   "execution_count": 27,
   "id": "dde7ed02",
   "metadata": {
    "scrolled": true
   },
   "outputs": [
    {
     "data": {
      "text/html": [
       "<div>\n",
       "<style scoped>\n",
       "    .dataframe tbody tr th:only-of-type {\n",
       "        vertical-align: middle;\n",
       "    }\n",
       "\n",
       "    .dataframe tbody tr th {\n",
       "        vertical-align: top;\n",
       "    }\n",
       "\n",
       "    .dataframe thead th {\n",
       "        text-align: right;\n",
       "    }\n",
       "</style>\n",
       "<table border=\"1\" class=\"dataframe\">\n",
       "  <thead>\n",
       "    <tr style=\"text-align: right;\">\n",
       "      <th></th>\n",
       "      <th>month</th>\n",
       "      <th>1</th>\n",
       "      <th>2</th>\n",
       "      <th>3</th>\n",
       "      <th>4</th>\n",
       "      <th>5</th>\n",
       "      <th>6</th>\n",
       "      <th>7</th>\n",
       "      <th>8</th>\n",
       "      <th>9</th>\n",
       "      <th>10</th>\n",
       "      <th>11</th>\n",
       "      <th>12</th>\n",
       "    </tr>\n",
       "  </thead>\n",
       "  <tbody>\n",
       "    <tr>\n",
       "      <th rowspan=\"8\" valign=\"top\">new_cases</th>\n",
       "      <th>count</th>\n",
       "      <td>1720.000000</td>\n",
       "      <td>5539.000000</td>\n",
       "      <td>5921.000000</td>\n",
       "      <td>5730.000000</td>\n",
       "      <td>5921.000000</td>\n",
       "      <td>5730.000000</td>\n",
       "      <td>5921.000000</td>\n",
       "      <td>5921.000000</td>\n",
       "      <td>5730.000000</td>\n",
       "      <td>5921.000000</td>\n",
       "      <td>5730.000000</td>\n",
       "      <td>2.483000e+03</td>\n",
       "    </tr>\n",
       "    <tr>\n",
       "      <th>mean</th>\n",
       "      <td>10.897674</td>\n",
       "      <td>27.472829</td>\n",
       "      <td>266.939706</td>\n",
       "      <td>836.749040</td>\n",
       "      <td>982.660024</td>\n",
       "      <td>1486.798255</td>\n",
       "      <td>2413.295052</td>\n",
       "      <td>2671.609525</td>\n",
       "      <td>2965.529843</td>\n",
       "      <td>4092.280020</td>\n",
       "      <td>5993.461780</td>\n",
       "      <td>7.227998e+03</td>\n",
       "    </tr>\n",
       "    <tr>\n",
       "      <th>std</th>\n",
       "      <td>135.196188</td>\n",
       "      <td>385.609667</td>\n",
       "      <td>2683.831521</td>\n",
       "      <td>6204.722070</td>\n",
       "      <td>7169.943937</td>\n",
       "      <td>10867.549304</td>\n",
       "      <td>17819.839548</td>\n",
       "      <td>19588.621231</td>\n",
       "      <td>21806.527092</td>\n",
       "      <td>29730.295365</td>\n",
       "      <td>43191.750004</td>\n",
       "      <td>5.728134e+04</td>\n",
       "    </tr>\n",
       "    <tr>\n",
       "      <th>min</th>\n",
       "      <td>0.000000</td>\n",
       "      <td>0.000000</td>\n",
       "      <td>-28.000000</td>\n",
       "      <td>-10034.000000</td>\n",
       "      <td>-1583.000000</td>\n",
       "      <td>-766.000000</td>\n",
       "      <td>-110.000000</td>\n",
       "      <td>-1348.000000</td>\n",
       "      <td>-7953.000000</td>\n",
       "      <td>0.000000</td>\n",
       "      <td>-1.000000</td>\n",
       "      <td>-3.050000e+02</td>\n",
       "    </tr>\n",
       "    <tr>\n",
       "      <th>25%</th>\n",
       "      <td>0.000000</td>\n",
       "      <td>0.000000</td>\n",
       "      <td>0.000000</td>\n",
       "      <td>0.000000</td>\n",
       "      <td>0.000000</td>\n",
       "      <td>0.000000</td>\n",
       "      <td>1.000000</td>\n",
       "      <td>2.000000</td>\n",
       "      <td>2.000000</td>\n",
       "      <td>2.000000</td>\n",
       "      <td>3.000000</td>\n",
       "      <td>3.000000e+00</td>\n",
       "    </tr>\n",
       "    <tr>\n",
       "      <th>50%</th>\n",
       "      <td>0.000000</td>\n",
       "      <td>0.000000</td>\n",
       "      <td>1.000000</td>\n",
       "      <td>13.000000</td>\n",
       "      <td>15.000000</td>\n",
       "      <td>23.000000</td>\n",
       "      <td>44.000000</td>\n",
       "      <td>65.000000</td>\n",
       "      <td>71.000000</td>\n",
       "      <td>92.000000</td>\n",
       "      <td>130.000000</td>\n",
       "      <td>1.680000e+02</td>\n",
       "    </tr>\n",
       "    <tr>\n",
       "      <th>75%</th>\n",
       "      <td>0.000000</td>\n",
       "      <td>0.000000</td>\n",
       "      <td>16.000000</td>\n",
       "      <td>116.000000</td>\n",
       "      <td>171.000000</td>\n",
       "      <td>283.000000</td>\n",
       "      <td>388.000000</td>\n",
       "      <td>403.000000</td>\n",
       "      <td>568.000000</td>\n",
       "      <td>861.000000</td>\n",
       "      <td>1332.750000</td>\n",
       "      <td>1.519000e+03</td>\n",
       "    </tr>\n",
       "    <tr>\n",
       "      <th>max</th>\n",
       "      <td>2651.000000</td>\n",
       "      <td>15153.000000</td>\n",
       "      <td>76877.000000</td>\n",
       "      <td>96838.000000</td>\n",
       "      <td>136994.000000</td>\n",
       "      <td>191533.000000</td>\n",
       "      <td>291509.000000</td>\n",
       "      <td>305797.000000</td>\n",
       "      <td>363652.000000</td>\n",
       "      <td>570176.000000</td>\n",
       "      <td>672318.000000</td>\n",
       "      <td>1.489020e+06</td>\n",
       "    </tr>\n",
       "    <tr>\n",
       "      <th rowspan=\"8\" valign=\"top\">new_deaths</th>\n",
       "      <th>count</th>\n",
       "      <td>1720.000000</td>\n",
       "      <td>5539.000000</td>\n",
       "      <td>5921.000000</td>\n",
       "      <td>5730.000000</td>\n",
       "      <td>5921.000000</td>\n",
       "      <td>5730.000000</td>\n",
       "      <td>5921.000000</td>\n",
       "      <td>5921.000000</td>\n",
       "      <td>5730.000000</td>\n",
       "      <td>5921.000000</td>\n",
       "      <td>5730.000000</td>\n",
       "      <td>2.483000e+03</td>\n",
       "    </tr>\n",
       "    <tr>\n",
       "      <th>mean</th>\n",
       "      <td>0.227907</td>\n",
       "      <td>0.985376</td>\n",
       "      <td>14.002027</td>\n",
       "      <td>67.130541</td>\n",
       "      <td>46.601250</td>\n",
       "      <td>46.709599</td>\n",
       "      <td>56.438102</td>\n",
       "      <td>59.268367</td>\n",
       "      <td>57.224782</td>\n",
       "      <td>61.212971</td>\n",
       "      <td>95.057592</td>\n",
       "      <td>1.158220e+02</td>\n",
       "    </tr>\n",
       "    <tr>\n",
       "      <th>std</th>\n",
       "      <td>2.804743</td>\n",
       "      <td>10.968238</td>\n",
       "      <td>150.014455</td>\n",
       "      <td>500.063829</td>\n",
       "      <td>352.427611</td>\n",
       "      <td>345.135050</td>\n",
       "      <td>419.555289</td>\n",
       "      <td>440.002765</td>\n",
       "      <td>423.962874</td>\n",
       "      <td>444.938826</td>\n",
       "      <td>683.862034</td>\n",
       "      <td>8.357097e+02</td>\n",
       "    </tr>\n",
       "    <tr>\n",
       "      <th>min</th>\n",
       "      <td>0.000000</td>\n",
       "      <td>0.000000</td>\n",
       "      <td>-5.000000</td>\n",
       "      <td>-31.000000</td>\n",
       "      <td>-1918.000000</td>\n",
       "      <td>-31.000000</td>\n",
       "      <td>-18.000000</td>\n",
       "      <td>-443.000000</td>\n",
       "      <td>-31.000000</td>\n",
       "      <td>-106.000000</td>\n",
       "      <td>-7.000000</td>\n",
       "      <td>-4.300000e+01</td>\n",
       "    </tr>\n",
       "    <tr>\n",
       "      <th>25%</th>\n",
       "      <td>0.000000</td>\n",
       "      <td>0.000000</td>\n",
       "      <td>0.000000</td>\n",
       "      <td>0.000000</td>\n",
       "      <td>0.000000</td>\n",
       "      <td>0.000000</td>\n",
       "      <td>0.000000</td>\n",
       "      <td>0.000000</td>\n",
       "      <td>0.000000</td>\n",
       "      <td>0.000000</td>\n",
       "      <td>0.000000</td>\n",
       "      <td>0.000000e+00</td>\n",
       "    </tr>\n",
       "    <tr>\n",
       "      <th>50%</th>\n",
       "      <td>0.000000</td>\n",
       "      <td>0.000000</td>\n",
       "      <td>0.000000</td>\n",
       "      <td>0.000000</td>\n",
       "      <td>0.000000</td>\n",
       "      <td>0.000000</td>\n",
       "      <td>0.000000</td>\n",
       "      <td>1.000000</td>\n",
       "      <td>1.000000</td>\n",
       "      <td>1.000000</td>\n",
       "      <td>1.000000</td>\n",
       "      <td>1.000000e+00</td>\n",
       "    </tr>\n",
       "    <tr>\n",
       "      <th>75%</th>\n",
       "      <td>0.000000</td>\n",
       "      <td>0.000000</td>\n",
       "      <td>0.000000</td>\n",
       "      <td>4.000000</td>\n",
       "      <td>4.000000</td>\n",
       "      <td>5.000000</td>\n",
       "      <td>6.000000</td>\n",
       "      <td>6.000000</td>\n",
       "      <td>7.000000</td>\n",
       "      <td>11.000000</td>\n",
       "      <td>21.000000</td>\n",
       "      <td>2.450000e+01</td>\n",
       "    </tr>\n",
       "    <tr>\n",
       "      <th>max</th>\n",
       "      <td>49.000000</td>\n",
       "      <td>253.000000</td>\n",
       "      <td>4751.000000</td>\n",
       "      <td>8365.000000</td>\n",
       "      <td>6543.000000</td>\n",
       "      <td>6721.000000</td>\n",
       "      <td>9905.000000</td>\n",
       "      <td>10131.000000</td>\n",
       "      <td>9333.000000</td>\n",
       "      <td>8687.000000</td>\n",
       "      <td>12778.000000</td>\n",
       "      <td>1.291200e+04</td>\n",
       "    </tr>\n",
       "  </tbody>\n",
       "</table>\n",
       "</div>"
      ],
      "text/plain": [
       "month                      1             2             3             4   \\\n",
       "new_cases  count  1720.000000   5539.000000   5921.000000   5730.000000   \n",
       "           mean     10.897674     27.472829    266.939706    836.749040   \n",
       "           std     135.196188    385.609667   2683.831521   6204.722070   \n",
       "           min       0.000000      0.000000    -28.000000 -10034.000000   \n",
       "           25%       0.000000      0.000000      0.000000      0.000000   \n",
       "           50%       0.000000      0.000000      1.000000     13.000000   \n",
       "           75%       0.000000      0.000000     16.000000    116.000000   \n",
       "           max    2651.000000  15153.000000  76877.000000  96838.000000   \n",
       "new_deaths count  1720.000000   5539.000000   5921.000000   5730.000000   \n",
       "           mean      0.227907      0.985376     14.002027     67.130541   \n",
       "           std       2.804743     10.968238    150.014455    500.063829   \n",
       "           min       0.000000      0.000000     -5.000000    -31.000000   \n",
       "           25%       0.000000      0.000000      0.000000      0.000000   \n",
       "           50%       0.000000      0.000000      0.000000      0.000000   \n",
       "           75%       0.000000      0.000000      0.000000      4.000000   \n",
       "           max      49.000000    253.000000   4751.000000   8365.000000   \n",
       "\n",
       "month                        5              6              7              8   \\\n",
       "new_cases  count    5921.000000    5730.000000    5921.000000    5921.000000   \n",
       "           mean      982.660024    1486.798255    2413.295052    2671.609525   \n",
       "           std      7169.943937   10867.549304   17819.839548   19588.621231   \n",
       "           min     -1583.000000    -766.000000    -110.000000   -1348.000000   \n",
       "           25%         0.000000       0.000000       1.000000       2.000000   \n",
       "           50%        15.000000      23.000000      44.000000      65.000000   \n",
       "           75%       171.000000     283.000000     388.000000     403.000000   \n",
       "           max    136994.000000  191533.000000  291509.000000  305797.000000   \n",
       "new_deaths count    5921.000000    5730.000000    5921.000000    5921.000000   \n",
       "           mean       46.601250      46.709599      56.438102      59.268367   \n",
       "           std       352.427611     345.135050     419.555289     440.002765   \n",
       "           min     -1918.000000     -31.000000     -18.000000    -443.000000   \n",
       "           25%         0.000000       0.000000       0.000000       0.000000   \n",
       "           50%         0.000000       0.000000       0.000000       1.000000   \n",
       "           75%         4.000000       5.000000       6.000000       6.000000   \n",
       "           max      6543.000000    6721.000000    9905.000000   10131.000000   \n",
       "\n",
       "month                        9              10             11            12  \n",
       "new_cases  count    5730.000000    5921.000000    5730.000000  2.483000e+03  \n",
       "           mean     2965.529843    4092.280020    5993.461780  7.227998e+03  \n",
       "           std     21806.527092   29730.295365   43191.750004  5.728134e+04  \n",
       "           min     -7953.000000       0.000000      -1.000000 -3.050000e+02  \n",
       "           25%         2.000000       2.000000       3.000000  3.000000e+00  \n",
       "           50%        71.000000      92.000000     130.000000  1.680000e+02  \n",
       "           75%       568.000000     861.000000    1332.750000  1.519000e+03  \n",
       "           max    363652.000000  570176.000000  672318.000000  1.489020e+06  \n",
       "new_deaths count    5730.000000    5921.000000    5730.000000  2.483000e+03  \n",
       "           mean       57.224782      61.212971      95.057592  1.158220e+02  \n",
       "           std       423.962874     444.938826     683.862034  8.357097e+02  \n",
       "           min       -31.000000    -106.000000      -7.000000 -4.300000e+01  \n",
       "           25%         0.000000       0.000000       0.000000  0.000000e+00  \n",
       "           50%         1.000000       1.000000       1.000000  1.000000e+00  \n",
       "           75%         7.000000      11.000000      21.000000  2.450000e+01  \n",
       "           max      9333.000000    8687.000000   12778.000000  1.291200e+04  "
      ]
     },
     "execution_count": 27,
     "metadata": {},
     "output_type": "execute_result"
    }
   ],
   "source": [
    "df.groupby('month')[['new_cases','new_deaths']].describe().T"
   ]
  },
  {
   "cell_type": "markdown",
   "id": "33e7bdae",
   "metadata": {},
   "source": [
    "+ (e) 7 Day incidences in germany 2020"
   ]
  },
  {
   "cell_type": "code",
   "execution_count": 29,
   "id": "24b92545",
   "metadata": {
    "scrolled": true
   },
   "outputs": [
    {
     "data": {
      "text/plain": [
       "0        False\n",
       "1        False\n",
       "2        False\n",
       "3        False\n",
       "4        False\n",
       "         ...  \n",
       "62387    False\n",
       "62388    False\n",
       "62389    False\n",
       "62390    False\n",
       "62391    False\n",
       "Name: location, Length: 62392, dtype: bool"
      ]
     },
     "execution_count": 29,
     "metadata": {},
     "output_type": "execute_result"
    }
   ],
   "source": [
    "df['location']=='Germany'"
   ]
  },
  {
   "cell_type": "markdown",
   "id": "86739845",
   "metadata": {},
   "source": [
    "+ 7. Linear regression new deaths = a + b * new cases in Germany\n",
    "  + (a) Parameter a, b \n",
    "  + (b) Scatterplot\n",
    "  + (c) Coefficient of correlation, coefficient of determination\n",
    "  + (d) Prediction for 20000 new cases\n",
    "  + (e) Interpretation of the coefficients"
   ]
  },
  {
   "cell_type": "code",
   "execution_count": 33,
   "id": "327ea47b",
   "metadata": {
    "scrolled": true
   },
   "outputs": [
    {
     "data": {
      "text/plain": [
       "125"
      ]
     },
     "execution_count": 33,
     "metadata": {},
     "output_type": "execute_result"
    }
   ],
   "source": [
    "df['new_deaths'].isnull().sum()"
   ]
  },
  {
   "cell_type": "code",
   "execution_count": 35,
   "id": "73730a07",
   "metadata": {},
   "outputs": [],
   "source": [
    "## reomve null values\n",
    "Y= df['new_deaths'].dropna()"
   ]
  },
  {
   "cell_type": "code",
   "execution_count": 36,
   "id": "79b3ed39",
   "metadata": {},
   "outputs": [
    {
     "data": {
      "text/plain": [
       "0"
      ]
     },
     "execution_count": 36,
     "metadata": {},
     "output_type": "execute_result"
    }
   ],
   "source": [
    "Y.isnull().sum()"
   ]
  },
  {
   "cell_type": "code",
   "execution_count": 32,
   "id": "57581249",
   "metadata": {
    "scrolled": true
   },
   "outputs": [
    {
     "data": {
      "text/plain": [
       "125"
      ]
     },
     "execution_count": 32,
     "metadata": {},
     "output_type": "execute_result"
    }
   ],
   "source": [
    "df['new_cases'].isnull().sum()"
   ]
  },
  {
   "cell_type": "code",
   "execution_count": 37,
   "id": "856642e9",
   "metadata": {},
   "outputs": [],
   "source": [
    "X= df['new_cases'].dropna()"
   ]
  },
  {
   "cell_type": "code",
   "execution_count": 38,
   "id": "896e6e2d",
   "metadata": {
    "scrolled": true
   },
   "outputs": [
    {
     "data": {
      "text/plain": [
       "0"
      ]
     },
     "execution_count": 38,
     "metadata": {},
     "output_type": "execute_result"
    }
   ],
   "source": [
    "X.isnull().sum()"
   ]
  },
  {
   "cell_type": "code",
   "execution_count": 39,
   "id": "961183cb",
   "metadata": {},
   "outputs": [],
   "source": [
    "import seaborn as sns"
   ]
  },
  {
   "cell_type": "code",
   "execution_count": 40,
   "id": "830c4010",
   "metadata": {
    "scrolled": true
   },
   "outputs": [
    {
     "name": "stderr",
     "output_type": "stream",
     "text": [
      "/home/jrana/anaconda3/lib/python3.9/site-packages/seaborn/_decorators.py:36: FutureWarning: Pass the following variables as keyword args: x, y. From version 0.12, the only valid positional argument will be `data`, and passing other arguments without an explicit keyword will result in an error or misinterpretation.\n",
      "  warnings.warn(\n"
     ]
    },
    {
     "data": {
      "text/plain": [
       "<AxesSubplot:xlabel='new_cases', ylabel='new_deaths'>"
      ]
     },
     "execution_count": 40,
     "metadata": {},
     "output_type": "execute_result"
    },
    {
     "data": {
      "image/png": "[encoded data removed]",
      "text/plain": [
       "<Figure size 640x480 with 1 Axes>"
      ]
     },
     "metadata": {},
     "output_type": "display_data"
    }
   ],
   "source": [
    "sns.scatterplot(X,Y,)"
   ]
  },
  {
   "cell_type": "code",
   "execution_count": 47,
   "id": "632500dd",
   "metadata": {
    "scrolled": true
   },
   "outputs": [
    {
     "data": {
      "image/png": "[encoded data removed]",
      "text/plain": [
       "<Figure size 640x480 with 2 Axes>"
      ]
     },
     "metadata": {},
     "output_type": "display_data"
    }
   ],
   "source": [
    "sns.heatmap(pd.DataFrame({'X':X,'Y':Y}).corr())\n",
    "plt.show()"
   ]
  },
  {
   "cell_type": "code",
   "execution_count": 48,
   "id": "22bc2d84",
   "metadata": {},
   "outputs": [],
   "source": [
    "from sklearn.model_selection import train_test_split\n",
    "from sklearn.linear_model import LinearRegression"
   ]
  },
  {
   "cell_type": "code",
   "execution_count": 53,
   "id": "3909f7d9",
   "metadata": {},
   "outputs": [
    {
     "data": {
      "text/plain": [
       "((62267,), (62267,))"
      ]
     },
     "execution_count": 53,
     "metadata": {},
     "output_type": "execute_result"
    }
   ],
   "source": [
    "X.shape,Y.shape"
   ]
  },
  {
   "cell_type": "code",
   "execution_count": 61,
   "id": "2e3a0680",
   "metadata": {
    "scrolled": false
   },
   "outputs": [
    {
     "data": {
      "text/html": [
       "<div>\n",
       "<style scoped>\n",
       "    .dataframe tbody tr th:only-of-type {\n",
       "        vertical-align: middle;\n",
       "    }\n",
       "\n",
       "    .dataframe tbody tr th {\n",
       "        vertical-align: top;\n",
       "    }\n",
       "\n",
       "    .dataframe thead th {\n",
       "        text-align: right;\n",
       "    }\n",
       "</style>\n",
       "<table border=\"1\" class=\"dataframe\">\n",
       "  <thead>\n",
       "    <tr style=\"text-align: right;\">\n",
       "      <th></th>\n",
       "      <th>Country/Region</th>\n",
       "      <th>month</th>\n",
       "      <th>year</th>\n",
       "      <th>1</th>\n",
       "      <th>2</th>\n",
       "      <th>3</th>\n",
       "      <th>4</th>\n",
       "      <th>5</th>\n",
       "      <th>6</th>\n",
       "      <th>7</th>\n",
       "      <th>...</th>\n",
       "      <th>22</th>\n",
       "      <th>23</th>\n",
       "      <th>24</th>\n",
       "      <th>25</th>\n",
       "      <th>26</th>\n",
       "      <th>27</th>\n",
       "      <th>28</th>\n",
       "      <th>29</th>\n",
       "      <th>30</th>\n",
       "      <th>31</th>\n",
       "    </tr>\n",
       "  </thead>\n",
       "  <tbody>\n",
       "    <tr>\n",
       "      <th>0</th>\n",
       "      <td>Germany</td>\n",
       "      <td>3</td>\n",
       "      <td>20</td>\n",
       "      <td>130/0</td>\n",
       "      <td>159/0</td>\n",
       "      <td>196/0</td>\n",
       "      <td>262/0</td>\n",
       "      <td>482/0</td>\n",
       "      <td>670/0</td>\n",
       "      <td>799/0</td>\n",
       "      <td>...</td>\n",
       "      <td>24873/94</td>\n",
       "      <td>29056/123</td>\n",
       "      <td>32986/157</td>\n",
       "      <td>37323/206</td>\n",
       "      <td>43938/267</td>\n",
       "      <td>50871/342</td>\n",
       "      <td>57695/433</td>\n",
       "      <td>62095/533</td>\n",
       "      <td>66885/645</td>\n",
       "      <td>71808/775</td>\n",
       "    </tr>\n",
       "    <tr>\n",
       "      <th>1</th>\n",
       "      <td>Spain</td>\n",
       "      <td>3</td>\n",
       "      <td>20</td>\n",
       "      <td>84/0</td>\n",
       "      <td>120/0</td>\n",
       "      <td>165/1</td>\n",
       "      <td>222/2</td>\n",
       "      <td>259/3</td>\n",
       "      <td>400/5</td>\n",
       "      <td>500/10</td>\n",
       "      <td>...</td>\n",
       "      <td>28768/1772</td>\n",
       "      <td>35136/2311</td>\n",
       "      <td>39885/2808</td>\n",
       "      <td>49515/3647</td>\n",
       "      <td>57786/4365</td>\n",
       "      <td>65719/5138</td>\n",
       "      <td>73235/5982</td>\n",
       "      <td>80110/6803</td>\n",
       "      <td>87956/7716</td>\n",
       "      <td>95923/8464</td>\n",
       "    </tr>\n",
       "  </tbody>\n",
       "</table>\n",
       "<p>2 rows × 34 columns</p>\n",
       "</div>"
      ],
      "text/plain": [
       "  Country/Region  month  year      1      2      3      4      5      6  \\\n",
       "0        Germany      3    20  130/0  159/0  196/0  262/0  482/0  670/0   \n",
       "1          Spain      3    20   84/0  120/0  165/1  222/2  259/3  400/5   \n",
       "\n",
       "        7  ...          22          23          24          25          26  \\\n",
       "0   799/0  ...    24873/94   29056/123   32986/157   37323/206   43938/267   \n",
       "1  500/10  ...  28768/1772  35136/2311  39885/2808  49515/3647  57786/4365   \n",
       "\n",
       "           27          28          29          30          31  \n",
       "0   50871/342   57695/433   62095/533   66885/645   71808/775  \n",
       "1  65719/5138  73235/5982  80110/6803  87956/7716  95923/8464  \n",
       "\n",
       "[2 rows x 34 columns]"
      ]
     },
     "execution_count": 61,
     "metadata": {},
     "output_type": "execute_result"
    }
   ],
   "source": [
    "tmp=pd.read_csv('corona_march_2020.csv')\n",
    "tmp.head(5)"
   ]
  },
  {
   "cell_type": "code",
   "execution_count": 69,
   "id": "3c1c1cab",
   "metadata": {
    "scrolled": true
   },
   "outputs": [
    {
     "data": {
      "text/html": [
       "<div>\n",
       "<style scoped>\n",
       "    .dataframe tbody tr th:only-of-type {\n",
       "        vertical-align: middle;\n",
       "    }\n",
       "\n",
       "    .dataframe tbody tr th {\n",
       "        vertical-align: top;\n",
       "    }\n",
       "\n",
       "    .dataframe thead th {\n",
       "        text-align: right;\n",
       "    }\n",
       "</style>\n",
       "<table border=\"1\" class=\"dataframe\">\n",
       "  <thead>\n",
       "    <tr style=\"text-align: right;\">\n",
       "      <th></th>\n",
       "      <th>Country/Region</th>\n",
       "      <th>month</th>\n",
       "      <th>year</th>\n",
       "      <th>day</th>\n",
       "      <th>value</th>\n",
       "    </tr>\n",
       "  </thead>\n",
       "  <tbody>\n",
       "    <tr>\n",
       "      <th>0</th>\n",
       "      <td>Germany</td>\n",
       "      <td>3</td>\n",
       "      <td>20</td>\n",
       "      <td>1</td>\n",
       "      <td>130/0</td>\n",
       "    </tr>\n",
       "    <tr>\n",
       "      <th>1</th>\n",
       "      <td>Spain</td>\n",
       "      <td>3</td>\n",
       "      <td>20</td>\n",
       "      <td>1</td>\n",
       "      <td>84/0</td>\n",
       "    </tr>\n",
       "    <tr>\n",
       "      <th>2</th>\n",
       "      <td>Germany</td>\n",
       "      <td>3</td>\n",
       "      <td>20</td>\n",
       "      <td>2</td>\n",
       "      <td>159/0</td>\n",
       "    </tr>\n",
       "    <tr>\n",
       "      <th>3</th>\n",
       "      <td>Spain</td>\n",
       "      <td>3</td>\n",
       "      <td>20</td>\n",
       "      <td>2</td>\n",
       "      <td>120/0</td>\n",
       "    </tr>\n",
       "    <tr>\n",
       "      <th>4</th>\n",
       "      <td>Germany</td>\n",
       "      <td>3</td>\n",
       "      <td>20</td>\n",
       "      <td>3</td>\n",
       "      <td>196/0</td>\n",
       "    </tr>\n",
       "    <tr>\n",
       "      <th>...</th>\n",
       "      <td>...</td>\n",
       "      <td>...</td>\n",
       "      <td>...</td>\n",
       "      <td>...</td>\n",
       "      <td>...</td>\n",
       "    </tr>\n",
       "    <tr>\n",
       "      <th>57</th>\n",
       "      <td>Spain</td>\n",
       "      <td>3</td>\n",
       "      <td>20</td>\n",
       "      <td>29</td>\n",
       "      <td>80110/6803</td>\n",
       "    </tr>\n",
       "    <tr>\n",
       "      <th>58</th>\n",
       "      <td>Germany</td>\n",
       "      <td>3</td>\n",
       "      <td>20</td>\n",
       "      <td>30</td>\n",
       "      <td>66885/645</td>\n",
       "    </tr>\n",
       "    <tr>\n",
       "      <th>59</th>\n",
       "      <td>Spain</td>\n",
       "      <td>3</td>\n",
       "      <td>20</td>\n",
       "      <td>30</td>\n",
       "      <td>87956/7716</td>\n",
       "    </tr>\n",
       "    <tr>\n",
       "      <th>60</th>\n",
       "      <td>Germany</td>\n",
       "      <td>3</td>\n",
       "      <td>20</td>\n",
       "      <td>31</td>\n",
       "      <td>71808/775</td>\n",
       "    </tr>\n",
       "    <tr>\n",
       "      <th>61</th>\n",
       "      <td>Spain</td>\n",
       "      <td>3</td>\n",
       "      <td>20</td>\n",
       "      <td>31</td>\n",
       "      <td>95923/8464</td>\n",
       "    </tr>\n",
       "  </tbody>\n",
       "</table>\n",
       "<p>62 rows × 5 columns</p>\n",
       "</div>"
      ],
      "text/plain": [
       "   Country/Region  month  year day       value\n",
       "0         Germany      3    20   1       130/0\n",
       "1           Spain      3    20   1        84/0\n",
       "2         Germany      3    20   2       159/0\n",
       "3           Spain      3    20   2       120/0\n",
       "4         Germany      3    20   3       196/0\n",
       "..            ...    ...   ...  ..         ...\n",
       "57          Spain      3    20  29  80110/6803\n",
       "58        Germany      3    20  30   66885/645\n",
       "59          Spain      3    20  30  87956/7716\n",
       "60        Germany      3    20  31   71808/775\n",
       "61          Spain      3    20  31  95923/8464\n",
       "\n",
       "[62 rows x 5 columns]"
      ]
     },
     "execution_count": 69,
     "metadata": {},
     "output_type": "execute_result"
    }
   ],
   "source": [
    "\n",
    "# Assuming your DataFrame is named df\n",
    "# Melt the DataFrame to reshape it\n",
    "melted_df = pd.melt(tmp, id_vars=['Country/Region', 'month', 'year'],\n",
    "                    var_name='day', value_name='value')\n",
    "\n",
    "melted_df\n"
   ]
  },
  {
   "cell_type": "code",
   "execution_count": 79,
   "id": "6c220e1f",
   "metadata": {},
   "outputs": [],
   "source": [
    "def fun(x):\n",
    "    print('yo',x[0],x[1])"
   ]
  },
  {
   "cell_type": "code",
   "execution_count": 80,
   "id": "266c4971",
   "metadata": {},
   "outputs": [
    {
     "name": "stdout",
     "output_type": "stream",
     "text": [
      "yo 130 0\n",
      "yo 84 0\n",
      "yo 159 0\n",
      "yo 120 0\n",
      "yo 196 0\n",
      "yo 165 1\n",
      "yo 262 0\n",
      "yo 222 2\n",
      "yo 482 0\n",
      "yo 259 3\n",
      "yo 670 0\n",
      "yo 400 5\n",
      "yo 799 0\n",
      "yo 500 10\n",
      "yo 1040 0\n",
      "yo 673 17\n",
      "yo 1176 2\n",
      "yo 1073 28\n",
      "yo 1457 2\n",
      "yo 1695 35\n",
      "yo 1908 3\n",
      "yo 2277 54\n",
      "yo 2078 3\n",
      "yo 2277 55\n",
      "yo 3675 7\n",
      "yo 5232 133\n",
      "yo 4585 9\n",
      "yo 6391 195\n",
      "yo 5795 11\n",
      "yo 7798 289\n",
      "yo 7272 17\n",
      "yo 9942 342\n",
      "yo 9257 24\n",
      "yo 11748 533\n",
      "yo 12327 28\n",
      "yo 13910 623\n",
      "yo 15320 44\n",
      "yo 17963 830\n",
      "yo 19848 67\n",
      "yo 20410 1043\n",
      "yo 22213 84\n",
      "yo 25374 1375\n",
      "yo 24873 94\n",
      "yo 28768 1772\n",
      "yo 29056 123\n",
      "yo 35136 2311\n",
      "yo 32986 157\n",
      "yo 39885 2808\n",
      "yo 37323 206\n",
      "yo 49515 3647\n",
      "yo 43938 267\n",
      "yo 57786 4365\n",
      "yo 50871 342\n",
      "yo 65719 5138\n",
      "yo 57695 433\n",
      "yo 73235 5982\n",
      "yo 62095 533\n",
      "yo 80110 6803\n",
      "yo 66885 645\n",
      "yo 87956 7716\n",
      "yo 71808 775\n",
      "yo 95923 8464\n"
     ]
    },
    {
     "data": {
      "text/plain": [
       "0     None\n",
       "1     None\n",
       "2     None\n",
       "3     None\n",
       "4     None\n",
       "      ... \n",
       "57    None\n",
       "58    None\n",
       "59    None\n",
       "60    None\n",
       "61    None\n",
       "Name: value, Length: 62, dtype: object"
      ]
     },
     "execution_count": 80,
     "metadata": {},
     "output_type": "execute_result"
    }
   ],
   "source": [
    "melted_df['value'].str.split('/')[0.apply(fun)"
   ]
  }
 ],
 "metadata": {
  "kernelspec": {
   "display_name": "Python 3 (ipykernel)",
   "language": "python",
   "name": "python3"
  },
  "language_info": {
   "codemirror_mode": {
    "name": "ipython",
    "version": 3
   },
   "file_extension": ".py",
   "mimetype": "text/x-python",
   "name": "python",
   "nbconvert_exporter": "python",
   "pygments_lexer": "ipython3",
   "version": "3.9.13"
  }
 },
 "nbformat": 4,
 "nbformat_minor": 5
}

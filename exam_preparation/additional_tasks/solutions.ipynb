{
 "cells": [
  {
   "cell_type": "markdown",
   "id": "4c90f606",
   "metadata": {},
   "source": [
    "<h1 style=\"color:blue;text-align:center\">Descriptive Statistics</h1>"
   ]
  },
  {
   "cell_type": "markdown",
   "id": "1950693f",
   "metadata": {},
   "source": [
    "+ (a) Import “corona.csv”."
   ]
  },
  {
   "cell_type": "code",
   "execution_count": 2,
   "id": "9c473ad1",
   "metadata": {
    "scrolled": true
   },
   "outputs": [
    {
     "name": "stderr",
     "output_type": "stream",
     "text": [
      "── \u001b[1mAttaching core tidyverse packages\u001b[22m ──────────────────────────────── tidyverse 2.0.0 ──\n",
      "\u001b[32m✔\u001b[39m \u001b[34mdplyr    \u001b[39m 1.1.4     \u001b[32m✔\u001b[39m \u001b[34mreadr    \u001b[39m 2.1.4\n",
      "\u001b[32m✔\u001b[39m \u001b[34mforcats  \u001b[39m 1.0.0     \u001b[32m✔\u001b[39m \u001b[34mstringr  \u001b[39m 1.5.1\n",
      "\u001b[32m✔\u001b[39m \u001b[34mggplot2  \u001b[39m 3.4.4     \u001b[32m✔\u001b[39m \u001b[34mtibble   \u001b[39m 3.2.1\n",
      "\u001b[32m✔\u001b[39m \u001b[34mlubridate\u001b[39m 1.9.3     \u001b[32m✔\u001b[39m \u001b[34mtidyr    \u001b[39m 1.3.0\n",
      "\u001b[32m✔\u001b[39m \u001b[34mpurrr    \u001b[39m 1.0.2     \n",
      "── \u001b[1mConflicts\u001b[22m ────────────────────────────────────────────────── tidyverse_conflicts() ──\n",
      "\u001b[31m✖\u001b[39m \u001b[34mdplyr\u001b[39m::\u001b[32mfilter()\u001b[39m masks \u001b[34mstats\u001b[39m::filter()\n",
      "\u001b[31m✖\u001b[39m \u001b[34mdplyr\u001b[39m::\u001b[32mlag()\u001b[39m    masks \u001b[34mstats\u001b[39m::lag()\n",
      "\u001b[36mℹ\u001b[39m Use the conflicted package (\u001b[3m\u001b[34m<http://conflicted.r-lib.org/>\u001b[39m\u001b[23m) to force all conflicts to become errors\n"
     ]
    }
   ],
   "source": [
    "library(tidyverse)"
   ]
  },
  {
   "cell_type": "code",
   "execution_count": 3,
   "id": "feca09ff",
   "metadata": {
    "scrolled": true
   },
   "outputs": [
    {
     "name": "stderr",
     "output_type": "stream",
     "text": [
      "\u001b[1mRows: \u001b[22m\u001b[34m62392\u001b[39m \u001b[1mColumns: \u001b[22m\u001b[34m11\u001b[39m\n",
      "\u001b[36m──\u001b[39m \u001b[1mColumn specification\u001b[22m \u001b[36m────────────────────────────────────────────────────────────────\u001b[39m\n",
      "\u001b[1mDelimiter:\u001b[22m \",\"\n",
      "\u001b[31mchr\u001b[39m (2): continent, location\n",
      "\u001b[32mdbl\u001b[39m (9): year, month, day, total_cases, new_cases, total_deaths, new_deaths,...\n",
      "\n",
      "\u001b[36mℹ\u001b[39m Use `spec()` to retrieve the full column specification for this data.\n",
      "\u001b[36mℹ\u001b[39m Specify the column types or set `show_col_types = FALSE` to quiet this message.\n"
     ]
    },
    {
     "data": {
      "text/html": [
       "<table class=\"dataframe\">\n",
       "<caption>A tibble: 5 × 11</caption>\n",
       "<thead>\n",
       "\t<tr><th scope=col>continent</th><th scope=col>location</th><th scope=col>year</th><th scope=col>month</th><th scope=col>day</th><th scope=col>total_cases</th><th scope=col>new_cases</th><th scope=col>total_deaths</th><th scope=col>new_deaths</th><th scope=col>reproduction_rate</th><th scope=col>population</th></tr>\n",
       "\t<tr><th scope=col>&lt;chr&gt;</th><th scope=col>&lt;chr&gt;</th><th scope=col>&lt;dbl&gt;</th><th scope=col>&lt;dbl&gt;</th><th scope=col>&lt;dbl&gt;</th><th scope=col>&lt;dbl&gt;</th><th scope=col>&lt;dbl&gt;</th><th scope=col>&lt;dbl&gt;</th><th scope=col>&lt;dbl&gt;</th><th scope=col>&lt;dbl&gt;</th><th scope=col>&lt;dbl&gt;</th></tr>\n",
       "</thead>\n",
       "<tbody>\n",
       "\t<tr><td>Asia</td><td>Afghanistan</td><td>2020</td><td>1</td><td>23</td><td>NA</td><td>0</td><td>NA</td><td>0</td><td>NA</td><td>38928341</td></tr>\n",
       "\t<tr><td>Asia</td><td>Afghanistan</td><td>2020</td><td>1</td><td>24</td><td>NA</td><td>0</td><td>NA</td><td>0</td><td>NA</td><td>38928341</td></tr>\n",
       "\t<tr><td>Asia</td><td>Afghanistan</td><td>2020</td><td>1</td><td>25</td><td>NA</td><td>0</td><td>NA</td><td>0</td><td>NA</td><td>38928341</td></tr>\n",
       "\t<tr><td>Asia</td><td>Afghanistan</td><td>2020</td><td>1</td><td>26</td><td>NA</td><td>0</td><td>NA</td><td>0</td><td>NA</td><td>38928341</td></tr>\n",
       "\t<tr><td>Asia</td><td>Afghanistan</td><td>2020</td><td>1</td><td>27</td><td>NA</td><td>0</td><td>NA</td><td>0</td><td>NA</td><td>38928341</td></tr>\n",
       "</tbody>\n",
       "</table>\n"
      ],
      "text/latex": [
       "A tibble: 5 × 11\n",
       "\\begin{tabular}{lllllllllll}\n",
       " continent & location & year & month & day & total\\_cases & new\\_cases & total\\_deaths & new\\_deaths & reproduction\\_rate & population\\\\\n",
       " <chr> & <chr> & <dbl> & <dbl> & <dbl> & <dbl> & <dbl> & <dbl> & <dbl> & <dbl> & <dbl>\\\\\n",
       "\\hline\n",
       "\t Asia & Afghanistan & 2020 & 1 & 23 & NA & 0 & NA & 0 & NA & 38928341\\\\\n",
       "\t Asia & Afghanistan & 2020 & 1 & 24 & NA & 0 & NA & 0 & NA & 38928341\\\\\n",
       "\t Asia & Afghanistan & 2020 & 1 & 25 & NA & 0 & NA & 0 & NA & 38928341\\\\\n",
       "\t Asia & Afghanistan & 2020 & 1 & 26 & NA & 0 & NA & 0 & NA & 38928341\\\\\n",
       "\t Asia & Afghanistan & 2020 & 1 & 27 & NA & 0 & NA & 0 & NA & 38928341\\\\\n",
       "\\end{tabular}\n"
      ],
      "text/markdown": [
       "\n",
       "A tibble: 5 × 11\n",
       "\n",
       "| continent &lt;chr&gt; | location &lt;chr&gt; | year &lt;dbl&gt; | month &lt;dbl&gt; | day &lt;dbl&gt; | total_cases &lt;dbl&gt; | new_cases &lt;dbl&gt; | total_deaths &lt;dbl&gt; | new_deaths &lt;dbl&gt; | reproduction_rate &lt;dbl&gt; | population &lt;dbl&gt; |\n",
       "|---|---|---|---|---|---|---|---|---|---|---|\n",
       "| Asia | Afghanistan | 2020 | 1 | 23 | NA | 0 | NA | 0 | NA | 38928341 |\n",
       "| Asia | Afghanistan | 2020 | 1 | 24 | NA | 0 | NA | 0 | NA | 38928341 |\n",
       "| Asia | Afghanistan | 2020 | 1 | 25 | NA | 0 | NA | 0 | NA | 38928341 |\n",
       "| Asia | Afghanistan | 2020 | 1 | 26 | NA | 0 | NA | 0 | NA | 38928341 |\n",
       "| Asia | Afghanistan | 2020 | 1 | 27 | NA | 0 | NA | 0 | NA | 38928341 |\n",
       "\n"
      ],
      "text/plain": [
       "  continent location    year month day total_cases new_cases total_deaths\n",
       "1 Asia      Afghanistan 2020 1     23  NA          0         NA          \n",
       "2 Asia      Afghanistan 2020 1     24  NA          0         NA          \n",
       "3 Asia      Afghanistan 2020 1     25  NA          0         NA          \n",
       "4 Asia      Afghanistan 2020 1     26  NA          0         NA          \n",
       "5 Asia      Afghanistan 2020 1     27  NA          0         NA          \n",
       "  new_deaths reproduction_rate population\n",
       "1 0          NA                38928341  \n",
       "2 0          NA                38928341  \n",
       "3 0          NA                38928341  \n",
       "4 0          NA                38928341  \n",
       "5 0          NA                38928341  "
      ]
     },
     "metadata": {},
     "output_type": "display_data"
    }
   ],
   "source": [
    "df<-read_csv('corona.csv') %>% as_tibble()\n",
    "df %>% head(5)"
   ]
  },
  {
   "cell_type": "code",
   "execution_count": 4,
   "id": "ff23154e",
   "metadata": {
    "scrolled": true
   },
   "outputs": [
    {
     "name": "stdout",
     "output_type": "stream",
     "text": [
      "tibble [62,392 × 11] (S3: tbl_df/tbl/data.frame)\n",
      " $ continent        : chr [1:62392] \"Asia\" \"Asia\" \"Asia\" \"Asia\" ...\n",
      " $ location         : chr [1:62392] \"Afghanistan\" \"Afghanistan\" \"Afghanistan\" \"Afghanistan\" ...\n",
      " $ year             : num [1:62392] 2020 2020 2020 2020 2020 2020 2020 2020 2020 2020 ...\n",
      " $ month            : num [1:62392] 1 1 1 1 1 1 1 1 1 2 ...\n",
      " $ day              : num [1:62392] 23 24 25 26 27 28 29 30 31 1 ...\n",
      " $ total_cases      : num [1:62392] NA NA NA NA NA NA NA NA NA NA ...\n",
      " $ new_cases        : num [1:62392] 0 0 0 0 0 0 0 0 0 0 ...\n",
      " $ total_deaths     : num [1:62392] NA NA NA NA NA NA NA NA NA NA ...\n",
      " $ new_deaths       : num [1:62392] 0 0 0 0 0 0 0 0 0 0 ...\n",
      " $ reproduction_rate: num [1:62392] NA NA NA NA NA NA NA NA NA NA ...\n",
      " $ population       : num [1:62392] 38928341 38928341 38928341 38928341 38928341 ...\n"
     ]
    }
   ],
   "source": [
    "df %>% str()"
   ]
  },
  {
   "cell_type": "code",
   "execution_count": 5,
   "id": "676311da",
   "metadata": {
    "scrolled": true
   },
   "outputs": [
    {
     "data": {
      "text/html": [
       "<style>\n",
       ".list-inline {list-style: none; margin:0; padding: 0}\n",
       ".list-inline>li {display: inline-block}\n",
       ".list-inline>li:not(:last-child)::after {content: \"\\00b7\"; padding: 0 .5ex}\n",
       "</style>\n",
       "<ol class=list-inline><li>'Asia'</li><li>'Europe'</li><li>'Africa'</li><li>'North America'</li><li>'South America'</li><li>'Oceania'</li><li>NA</li></ol>\n"
      ],
      "text/latex": [
       "\\begin{enumerate*}\n",
       "\\item 'Asia'\n",
       "\\item 'Europe'\n",
       "\\item 'Africa'\n",
       "\\item 'North America'\n",
       "\\item 'South America'\n",
       "\\item 'Oceania'\n",
       "\\item NA\n",
       "\\end{enumerate*}\n"
      ],
      "text/markdown": [
       "1. 'Asia'\n",
       "2. 'Europe'\n",
       "3. 'Africa'\n",
       "4. 'North America'\n",
       "5. 'South America'\n",
       "6. 'Oceania'\n",
       "7. NA\n",
       "\n",
       "\n"
      ],
      "text/plain": [
       "[1] \"Asia\"          \"Europe\"        \"Africa\"        \"North America\"\n",
       "[5] \"South America\" \"Oceania\"       NA             "
      ]
     },
     "metadata": {},
     "output_type": "display_data"
    }
   ],
   "source": [
    "df$continent %>% unique()"
   ]
  },
  {
   "cell_type": "code",
   "execution_count": 7,
   "id": "fbb6976d",
   "metadata": {},
   "outputs": [
    {
     "data": {
      "text/html": [
       "192"
      ],
      "text/latex": [
       "192"
      ],
      "text/markdown": [
       "192"
      ],
      "text/plain": [
       "[1] 192"
      ]
     },
     "metadata": {},
     "output_type": "display_data"
    }
   ],
   "source": [
    "df$location %>% unique() %>% length()"
   ]
  },
  {
   "cell_type": "code",
   "execution_count": 8,
   "id": "e4b01a1c",
   "metadata": {},
   "outputs": [
    {
     "data": {
      "text/html": [
       "2020"
      ],
      "text/latex": [
       "2020"
      ],
      "text/markdown": [
       "2020"
      ],
      "text/plain": [
       "[1] 2020"
      ]
     },
     "metadata": {},
     "output_type": "display_data"
    }
   ],
   "source": [
    "df$year %>% unique()"
   ]
  }
 ],
 "metadata": {
  "kernelspec": {
   "display_name": "R",
   "language": "R",
   "name": "ir"
  },
  "language_info": {
   "codemirror_mode": "r",
   "file_extension": ".r",
   "mimetype": "text/x-r-source",
   "name": "R",
   "pygments_lexer": "r",
   "version": "4.2.2"
  }
 },
 "nbformat": 4,
 "nbformat_minor": 5
}

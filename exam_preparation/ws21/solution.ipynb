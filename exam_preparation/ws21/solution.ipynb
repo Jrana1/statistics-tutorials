{
 "cells": [
  {
   "cell_type": "markdown",
   "id": "aa4697b9",
   "metadata": {},
   "source": [
    "##  Descriptive Statistics\n",
    "+ 1. \n",
    "    + (a) Import the file melanoma.csv as a tibble called melanoma.\n",
    "    + (b) Determine type and scale of all variables. You find a description\n",
    "        of the dataset in the file melanoma description.pdf\n",
    "    + (c) Change the values of the variables sex, status, ulcer to strings describing their values and add a new variable live.status describing whether the patient is alive or dead.\n",
    "    + (d) Create a contingency table for the variables sex and live.status.\n",
    "    + (e) Evaluate the relative risks to survive at least 3 years for the variable sex and interpret the values.\n",
    "    + (f) Create a summary describing the distribution of the variable age\n",
    "       containing min, max, mean, the three quartiles depending on the\n",
    "          variable sex.\n",
    "    + (g) Create side by side boxplots for the age of persons depending on\n",
    "       their sex and interpret the diagram.\n",
    "    + (h) The csv file add.data.melanoma.csv contains data from anotherstudy. Import the dataset as a tibble called add.data.melanoma.\n",
    "    + (i) Is this dataset tidy?"
   ]
  },
  {
   "cell_type": "code",
   "execution_count": 1,
   "id": "39a02fc7",
   "metadata": {},
   "outputs": [
    {
     "name": "stderr",
     "output_type": "stream",
     "text": [
      "── \u001b[1mAttaching core tidyverse packages\u001b[22m ──────────────────────────────── tidyverse 2.0.0 ──\n",
      "\u001b[32m✔\u001b[39m \u001b[34mdplyr    \u001b[39m 1.1.4     \u001b[32m✔\u001b[39m \u001b[34mreadr    \u001b[39m 2.1.4\n",
      "\u001b[32m✔\u001b[39m \u001b[34mforcats  \u001b[39m 1.0.0     \u001b[32m✔\u001b[39m \u001b[34mstringr  \u001b[39m 1.5.1\n",
      "\u001b[32m✔\u001b[39m \u001b[34mggplot2  \u001b[39m 3.4.4     \u001b[32m✔\u001b[39m \u001b[34mtibble   \u001b[39m 3.2.1\n",
      "\u001b[32m✔\u001b[39m \u001b[34mlubridate\u001b[39m 1.9.3     \u001b[32m✔\u001b[39m \u001b[34mtidyr    \u001b[39m 1.3.0\n",
      "\u001b[32m✔\u001b[39m \u001b[34mpurrr    \u001b[39m 1.0.2     \n",
      "── \u001b[1mConflicts\u001b[22m ────────────────────────────────────────────────── tidyverse_conflicts() ──\n",
      "\u001b[31m✖\u001b[39m \u001b[34mdplyr\u001b[39m::\u001b[32mfilter()\u001b[39m masks \u001b[34mstats\u001b[39m::filter()\n",
      "\u001b[31m✖\u001b[39m \u001b[34mdplyr\u001b[39m::\u001b[32mlag()\u001b[39m    masks \u001b[34mstats\u001b[39m::lag()\n",
      "\u001b[36mℹ\u001b[39m Use the conflicted package (\u001b[3m\u001b[34m<http://conflicted.r-lib.org/>\u001b[39m\u001b[23m) to force all conflicts to become errors\n"
     ]
    }
   ],
   "source": [
    "library(tidyverse)"
   ]
  },
  {
   "cell_type": "code",
   "execution_count": 2,
   "id": "931523c4",
   "metadata": {
    "scrolled": true
   },
   "outputs": [
    {
     "data": {
      "text/html": [
       "<table class=\"dataframe\">\n",
       "<caption>A tibble: 5 × 7</caption>\n",
       "<thead>\n",
       "\t<tr><th scope=col>time</th><th scope=col>status</th><th scope=col>sex</th><th scope=col>age</th><th scope=col>year</th><th scope=col>thickness</th><th scope=col>ulcer</th></tr>\n",
       "\t<tr><th scope=col>&lt;int&gt;</th><th scope=col>&lt;int&gt;</th><th scope=col>&lt;int&gt;</th><th scope=col>&lt;int&gt;</th><th scope=col>&lt;int&gt;</th><th scope=col>&lt;dbl&gt;</th><th scope=col>&lt;int&gt;</th></tr>\n",
       "</thead>\n",
       "<tbody>\n",
       "\t<tr><td> 10</td><td>3</td><td>1</td><td>76</td><td>1972</td><td> 6.76</td><td>1</td></tr>\n",
       "\t<tr><td> 30</td><td>3</td><td>1</td><td>56</td><td>1968</td><td> 0.65</td><td>0</td></tr>\n",
       "\t<tr><td> 35</td><td>2</td><td>1</td><td>41</td><td>1977</td><td> 1.34</td><td>0</td></tr>\n",
       "\t<tr><td> 99</td><td>3</td><td>0</td><td>71</td><td>1968</td><td> 2.90</td><td>0</td></tr>\n",
       "\t<tr><td>185</td><td>1</td><td>1</td><td>52</td><td>1965</td><td>12.08</td><td>1</td></tr>\n",
       "</tbody>\n",
       "</table>\n"
      ],
      "text/latex": [
       "A tibble: 5 × 7\n",
       "\\begin{tabular}{lllllll}\n",
       " time & status & sex & age & year & thickness & ulcer\\\\\n",
       " <int> & <int> & <int> & <int> & <int> & <dbl> & <int>\\\\\n",
       "\\hline\n",
       "\t  10 & 3 & 1 & 76 & 1972 &  6.76 & 1\\\\\n",
       "\t  30 & 3 & 1 & 56 & 1968 &  0.65 & 0\\\\\n",
       "\t  35 & 2 & 1 & 41 & 1977 &  1.34 & 0\\\\\n",
       "\t  99 & 3 & 0 & 71 & 1968 &  2.90 & 0\\\\\n",
       "\t 185 & 1 & 1 & 52 & 1965 & 12.08 & 1\\\\\n",
       "\\end{tabular}\n"
      ],
      "text/markdown": [
       "\n",
       "A tibble: 5 × 7\n",
       "\n",
       "| time &lt;int&gt; | status &lt;int&gt; | sex &lt;int&gt; | age &lt;int&gt; | year &lt;int&gt; | thickness &lt;dbl&gt; | ulcer &lt;int&gt; |\n",
       "|---|---|---|---|---|---|---|\n",
       "|  10 | 3 | 1 | 76 | 1972 |  6.76 | 1 |\n",
       "|  30 | 3 | 1 | 56 | 1968 |  0.65 | 0 |\n",
       "|  35 | 2 | 1 | 41 | 1977 |  1.34 | 0 |\n",
       "|  99 | 3 | 0 | 71 | 1968 |  2.90 | 0 |\n",
       "| 185 | 1 | 1 | 52 | 1965 | 12.08 | 1 |\n",
       "\n"
      ],
      "text/plain": [
       "  time status sex age year thickness ulcer\n",
       "1  10  3      1   76  1972  6.76     1    \n",
       "2  30  3      1   56  1968  0.65     0    \n",
       "3  35  2      1   41  1977  1.34     0    \n",
       "4  99  3      0   71  1968  2.90     0    \n",
       "5 185  1      1   52  1965 12.08     1    "
      ]
     },
     "metadata": {},
     "output_type": "display_data"
    }
   ],
   "source": [
    "# (a)\n",
    "df<-read.csv('melanoma.csv') %>% as_tibble()\n",
    "df %>% slice(1:5)"
   ]
  },
  {
   "cell_type": "code",
   "execution_count": 3,
   "id": "cba2ee9b",
   "metadata": {},
   "outputs": [],
   "source": [
    "# (b)\n",
    "# time: quantiative, discrete, absolute\n",
    "# status: qualitative, discrete, nominal\n",
    "# sex : qualitative ,discrete nominal\n",
    "# age : quantitative , discrete absolute\n",
    "# year: quantitative , discrete, interval\n",
    "# thickness: quantitative, continious, ratio\n",
    "# ulcer : qualtitative, discrete, nominal"
   ]
  },
  {
   "cell_type": "code",
   "execution_count": 4,
   "id": "47c083c6",
   "metadata": {
    "scrolled": true
   },
   "outputs": [
    {
     "data": {
      "text/html": [
       "<table class=\"dataframe\">\n",
       "<caption>A tibble: 10 × 8</caption>\n",
       "<thead>\n",
       "\t<tr><th scope=col>time</th><th scope=col>status</th><th scope=col>sex</th><th scope=col>age</th><th scope=col>year</th><th scope=col>thickness</th><th scope=col>ulcer</th><th scope=col>live.status</th></tr>\n",
       "\t<tr><th scope=col>&lt;int&gt;</th><th scope=col>&lt;chr&gt;</th><th scope=col>&lt;chr&gt;</th><th scope=col>&lt;int&gt;</th><th scope=col>&lt;int&gt;</th><th scope=col>&lt;dbl&gt;</th><th scope=col>&lt;chr&gt;</th><th scope=col>&lt;chr&gt;</th></tr>\n",
       "</thead>\n",
       "<tbody>\n",
       "\t<tr><td> 10</td><td>unrelated</td><td>male  </td><td>76</td><td>1972</td><td> 6.76</td><td>present</td><td>dead </td></tr>\n",
       "\t<tr><td> 30</td><td>unrelated</td><td>male  </td><td>56</td><td>1968</td><td> 0.65</td><td>absent </td><td>dead </td></tr>\n",
       "\t<tr><td> 35</td><td>alive    </td><td>male  </td><td>41</td><td>1977</td><td> 1.34</td><td>absent </td><td>alive</td></tr>\n",
       "\t<tr><td> 99</td><td>unrelated</td><td>female</td><td>71</td><td>1968</td><td> 2.90</td><td>absent </td><td>dead </td></tr>\n",
       "\t<tr><td>185</td><td>died     </td><td>male  </td><td>52</td><td>1965</td><td>12.08</td><td>present</td><td>dead </td></tr>\n",
       "\t<tr><td>204</td><td>died     </td><td>male  </td><td>28</td><td>1971</td><td> 4.84</td><td>present</td><td>dead </td></tr>\n",
       "\t<tr><td>210</td><td>died     </td><td>male  </td><td>77</td><td>1972</td><td> 5.16</td><td>present</td><td>dead </td></tr>\n",
       "\t<tr><td>232</td><td>unrelated</td><td>female</td><td>60</td><td>1974</td><td> 3.22</td><td>present</td><td>dead </td></tr>\n",
       "\t<tr><td>232</td><td>died     </td><td>male  </td><td>49</td><td>1968</td><td>12.88</td><td>present</td><td>dead </td></tr>\n",
       "\t<tr><td>279</td><td>died     </td><td>female</td><td>68</td><td>1971</td><td> 7.41</td><td>present</td><td>dead </td></tr>\n",
       "</tbody>\n",
       "</table>\n"
      ],
      "text/latex": [
       "A tibble: 10 × 8\n",
       "\\begin{tabular}{llllllll}\n",
       " time & status & sex & age & year & thickness & ulcer & live.status\\\\\n",
       " <int> & <chr> & <chr> & <int> & <int> & <dbl> & <chr> & <chr>\\\\\n",
       "\\hline\n",
       "\t  10 & unrelated & male   & 76 & 1972 &  6.76 & present & dead \\\\\n",
       "\t  30 & unrelated & male   & 56 & 1968 &  0.65 & absent  & dead \\\\\n",
       "\t  35 & alive     & male   & 41 & 1977 &  1.34 & absent  & alive\\\\\n",
       "\t  99 & unrelated & female & 71 & 1968 &  2.90 & absent  & dead \\\\\n",
       "\t 185 & died      & male   & 52 & 1965 & 12.08 & present & dead \\\\\n",
       "\t 204 & died      & male   & 28 & 1971 &  4.84 & present & dead \\\\\n",
       "\t 210 & died      & male   & 77 & 1972 &  5.16 & present & dead \\\\\n",
       "\t 232 & unrelated & female & 60 & 1974 &  3.22 & present & dead \\\\\n",
       "\t 232 & died      & male   & 49 & 1968 & 12.88 & present & dead \\\\\n",
       "\t 279 & died      & female & 68 & 1971 &  7.41 & present & dead \\\\\n",
       "\\end{tabular}\n"
      ],
      "text/markdown": [
       "\n",
       "A tibble: 10 × 8\n",
       "\n",
       "| time &lt;int&gt; | status &lt;chr&gt; | sex &lt;chr&gt; | age &lt;int&gt; | year &lt;int&gt; | thickness &lt;dbl&gt; | ulcer &lt;chr&gt; | live.status &lt;chr&gt; |\n",
       "|---|---|---|---|---|---|---|---|\n",
       "|  10 | unrelated | male   | 76 | 1972 |  6.76 | present | dead  |\n",
       "|  30 | unrelated | male   | 56 | 1968 |  0.65 | absent  | dead  |\n",
       "|  35 | alive     | male   | 41 | 1977 |  1.34 | absent  | alive |\n",
       "|  99 | unrelated | female | 71 | 1968 |  2.90 | absent  | dead  |\n",
       "| 185 | died      | male   | 52 | 1965 | 12.08 | present | dead  |\n",
       "| 204 | died      | male   | 28 | 1971 |  4.84 | present | dead  |\n",
       "| 210 | died      | male   | 77 | 1972 |  5.16 | present | dead  |\n",
       "| 232 | unrelated | female | 60 | 1974 |  3.22 | present | dead  |\n",
       "| 232 | died      | male   | 49 | 1968 | 12.88 | present | dead  |\n",
       "| 279 | died      | female | 68 | 1971 |  7.41 | present | dead  |\n",
       "\n"
      ],
      "text/plain": [
       "   time status    sex    age year thickness ulcer   live.status\n",
       "1   10  unrelated male   76  1972  6.76     present dead       \n",
       "2   30  unrelated male   56  1968  0.65     absent  dead       \n",
       "3   35  alive     male   41  1977  1.34     absent  alive      \n",
       "4   99  unrelated female 71  1968  2.90     absent  dead       \n",
       "5  185  died      male   52  1965 12.08     present dead       \n",
       "6  204  died      male   28  1971  4.84     present dead       \n",
       "7  210  died      male   77  1972  5.16     present dead       \n",
       "8  232  unrelated female 60  1974  3.22     present dead       \n",
       "9  232  died      male   49  1968 12.88     present dead       \n",
       "10 279  died      female 68  1971  7.41     present dead       "
      ]
     },
     "metadata": {},
     "output_type": "display_data"
    }
   ],
   "source": [
    "# (c)\n",
    "df %>% mutate(  \n",
    "          sex=if_else(sex==1,'male','female'), # sex in string\n",
    "          ulcer=if_else(ulcer==1,'present','absent'), # ulcer in string\n",
    "          live.status=if_else(status==2,'alive','dead'), # create new variable live.status\n",
    "          status=case_when(status==1~'died',status==2~'alive',status==3~'unrelated')\n",
    "        ) ->df\n",
    "df %>% slice(1:10)"
   ]
  },
  {
   "cell_type": "code",
   "execution_count": 5,
   "id": "0a8f6dd4",
   "metadata": {
    "scrolled": true
   },
   "outputs": [
    {
     "data": {
      "text/html": [
       "<table class=\"dataframe\">\n",
       "<caption>A table: 3 × 3 of type dbl</caption>\n",
       "<thead>\n",
       "\t<tr><th></th><th scope=col>alive</th><th scope=col>dead</th><th scope=col>Sum</th></tr>\n",
       "</thead>\n",
       "<tbody>\n",
       "\t<tr><th scope=row>female</th><td> 91</td><td>35</td><td>126</td></tr>\n",
       "\t<tr><th scope=row>male</th><td> 43</td><td>36</td><td> 79</td></tr>\n",
       "\t<tr><th scope=row>Sum</th><td>134</td><td>71</td><td>205</td></tr>\n",
       "</tbody>\n",
       "</table>\n"
      ],
      "text/latex": [
       "A table: 3 × 3 of type dbl\n",
       "\\begin{tabular}{r|lll}\n",
       "  & alive & dead & Sum\\\\\n",
       "\\hline\n",
       "\tfemale &  91 & 35 & 126\\\\\n",
       "\tmale &  43 & 36 &  79\\\\\n",
       "\tSum & 134 & 71 & 205\\\\\n",
       "\\end{tabular}\n"
      ],
      "text/markdown": [
       "\n",
       "A table: 3 × 3 of type dbl\n",
       "\n",
       "| <!--/--> | alive | dead | Sum |\n",
       "|---|---|---|---|\n",
       "| female |  91 | 35 | 126 |\n",
       "| male |  43 | 36 |  79 |\n",
       "| Sum | 134 | 71 | 205 |\n",
       "\n"
      ],
      "text/plain": [
       "        \n",
       "         alive dead Sum\n",
       "  female  91   35   126\n",
       "  male    43   36    79\n",
       "  Sum    134   71   205"
      ]
     },
     "metadata": {},
     "output_type": "display_data"
    }
   ],
   "source": [
    "# (d)\n",
    "table(df$sex,df$live.status) %>% addmargins()"
   ]
  },
  {
   "cell_type": "code",
   "execution_count": 6,
   "id": "9d01c679",
   "metadata": {
    "scrolled": true
   },
   "outputs": [
    {
     "data": {
      "text/html": [
       "<table class=\"dataframe\">\n",
       "<caption>A table: 3 × 3 of type dbl</caption>\n",
       "<thead>\n",
       "\t<tr><th></th><th scope=col>alive</th><th scope=col>dead</th><th scope=col>Sum</th></tr>\n",
       "</thead>\n",
       "<tbody>\n",
       "\t<tr><th scope=row>female</th><td> 91</td><td>19</td><td>110</td></tr>\n",
       "\t<tr><th scope=row>male</th><td> 42</td><td>15</td><td> 57</td></tr>\n",
       "\t<tr><th scope=row>Sum</th><td>133</td><td>34</td><td>167</td></tr>\n",
       "</tbody>\n",
       "</table>\n"
      ],
      "text/latex": [
       "A table: 3 × 3 of type dbl\n",
       "\\begin{tabular}{r|lll}\n",
       "  & alive & dead & Sum\\\\\n",
       "\\hline\n",
       "\tfemale &  91 & 19 & 110\\\\\n",
       "\tmale &  42 & 15 &  57\\\\\n",
       "\tSum & 133 & 34 & 167\\\\\n",
       "\\end{tabular}\n"
      ],
      "text/markdown": [
       "\n",
       "A table: 3 × 3 of type dbl\n",
       "\n",
       "| <!--/--> | alive | dead | Sum |\n",
       "|---|---|---|---|\n",
       "| female |  91 | 19 | 110 |\n",
       "| male |  42 | 15 |  57 |\n",
       "| Sum | 133 | 34 | 167 |\n",
       "\n"
      ],
      "text/plain": [
       "        \n",
       "         alive dead Sum\n",
       "  female  91   19   110\n",
       "  male    42   15    57\n",
       "  Sum    133   34   167"
      ]
     },
     "metadata": {},
     "output_type": "display_data"
    }
   ],
   "source": [
    "# (e) Evaluate the relative risks to survive at least 3 years for the variable sex and interpret the values.\n",
    "df %>% filter(time >=3*365)-> time_at_least_three_year\n",
    "table(time_at_least_three_year$sex,time_at_least_three_year$live.status) %>% addmargins()"
   ]
  },
  {
   "cell_type": "code",
   "execution_count": 7,
   "id": "d25e7de4",
   "metadata": {
    "scrolled": true
   },
   "outputs": [
    {
     "data": {
      "text/html": [
       "0.827272727272727"
      ],
      "text/latex": [
       "0.827272727272727"
      ],
      "text/markdown": [
       "0.827272727272727"
      ],
      "text/plain": [
       "[1] 0.8272727"
      ]
     },
     "metadata": {},
     "output_type": "display_data"
    },
    {
     "data": {
      "text/html": [
       "0.736842105263158"
      ],
      "text/latex": [
       "0.736842105263158"
      ],
      "text/markdown": [
       "0.736842105263158"
      ],
      "text/plain": [
       "[1] 0.7368421"
      ]
     },
     "metadata": {},
     "output_type": "display_data"
    },
    {
     "data": {
      "text/html": [
       "1.12272727272727"
      ],
      "text/latex": [
       "1.12272727272727"
      ],
      "text/markdown": [
       "1.12272727272727"
      ],
      "text/plain": [
       "[1] 1.122727"
      ]
     },
     "metadata": {},
     "output_type": "display_data"
    }
   ],
   "source": [
    "\n",
    "# relative risks for female\n",
    "# alive -> outcome, female,male->exposure\n",
    "#relative risk female\n",
    "91/(91+19) # women have a chance of 82% to survive atleast 3 years\n",
    "#relative risk male\n",
    "42/(42+15) # men have a chance of 73% to survive atleast 3 years\n",
    "# proportion between female and male\n",
    "(91/(91+19))/(42/(42+15)) # 1.12\n",
    "# interpretation: females have 1.12 higher risk to survive at least 3 years"
   ]
  },
  {
   "cell_type": "code",
   "execution_count": 8,
   "id": "2cd553b4",
   "metadata": {
    "scrolled": true
   },
   "outputs": [
    {
     "data": {
      "text/html": [
       "<table class=\"dataframe\">\n",
       "<caption>A tibble: 2 × 7</caption>\n",
       "<thead>\n",
       "\t<tr><th scope=col>sex</th><th scope=col>min</th><th scope=col>max</th><th scope=col>mean</th><th scope=col>q1</th><th scope=col>q2</th><th scope=col>q3</th></tr>\n",
       "\t<tr><th scope=col>&lt;chr&gt;</th><th scope=col>&lt;int&gt;</th><th scope=col>&lt;int&gt;</th><th scope=col>&lt;dbl&gt;</th><th scope=col>&lt;dbl&gt;</th><th scope=col>&lt;dbl&gt;</th><th scope=col>&lt;dbl&gt;</th></tr>\n",
       "</thead>\n",
       "<tbody>\n",
       "\t<tr><td>female</td><td> 4</td><td>89</td><td>51.56349</td><td>42.0</td><td>54</td><td>64.75</td></tr>\n",
       "\t<tr><td>male  </td><td>12</td><td>95</td><td>53.89873</td><td>43.5</td><td>55</td><td>66.50</td></tr>\n",
       "</tbody>\n",
       "</table>\n"
      ],
      "text/latex": [
       "A tibble: 2 × 7\n",
       "\\begin{tabular}{lllllll}\n",
       " sex & min & max & mean & q1 & q2 & q3\\\\\n",
       " <chr> & <int> & <int> & <dbl> & <dbl> & <dbl> & <dbl>\\\\\n",
       "\\hline\n",
       "\t female &  4 & 89 & 51.56349 & 42.0 & 54 & 64.75\\\\\n",
       "\t male   & 12 & 95 & 53.89873 & 43.5 & 55 & 66.50\\\\\n",
       "\\end{tabular}\n"
      ],
      "text/markdown": [
       "\n",
       "A tibble: 2 × 7\n",
       "\n",
       "| sex &lt;chr&gt; | min &lt;int&gt; | max &lt;int&gt; | mean &lt;dbl&gt; | q1 &lt;dbl&gt; | q2 &lt;dbl&gt; | q3 &lt;dbl&gt; |\n",
       "|---|---|---|---|---|---|---|\n",
       "| female |  4 | 89 | 51.56349 | 42.0 | 54 | 64.75 |\n",
       "| male   | 12 | 95 | 53.89873 | 43.5 | 55 | 66.50 |\n",
       "\n"
      ],
      "text/plain": [
       "  sex    min max mean     q1   q2 q3   \n",
       "1 female  4  89  51.56349 42.0 54 64.75\n",
       "2 male   12  95  53.89873 43.5 55 66.50"
      ]
     },
     "metadata": {},
     "output_type": "display_data"
    }
   ],
   "source": [
    "# (f) Create a summary describing the distribution of the variable age containing min, max, \n",
    "          #mean, the three quartiles depending on the variable sex.\n",
    "\n",
    "df %>% group_by(sex) %>% summarise(\n",
    "          min=min(age),\n",
    "          max=max(age),\n",
    "          mean=mean(age),\n",
    "          q1=quantile(age,probs = 0.25),\n",
    "          q2=quantile(age,probs = 0.5),\n",
    "          q3=quantile(age,probs = 0.75)\n",
    "        )"
   ]
  },
  {
   "cell_type": "code",
   "execution_count": 9,
   "id": "506c4079",
   "metadata": {
    "scrolled": true
   },
   "outputs": [
    {
     "data": {
      "image/png": "[encoded data removed]",
      "text/plain": [
       "plot without title"
      ]
     },
     "metadata": {
      "image/png": {
       "height": 420,
       "width": 420
      }
     },
     "output_type": "display_data"
    }
   ],
   "source": [
    "# (g) Create side by side boxplots for the age of persons depending on their sex and interpret the diagram.\n",
    "boxplot(df$age~df$sex,horizontal = T,col = c('blue','green'),xlab='age',ylab='sex')"
   ]
  },
  {
   "cell_type": "code",
   "execution_count": 10,
   "id": "d5fd8293",
   "metadata": {
    "scrolled": true
   },
   "outputs": [
    {
     "data": {
      "text/html": [
       "<table class=\"dataframe\">\n",
       "<caption>A tibble: 10 × 5</caption>\n",
       "<thead>\n",
       "\t<tr><th scope=col>time</th><th scope=col>status</th><th scope=col>thickness</th><th scope=col>ulcer</th><th scope=col>sex_age_year</th></tr>\n",
       "\t<tr><th scope=col>&lt;int&gt;</th><th scope=col>&lt;int&gt;</th><th scope=col>&lt;dbl&gt;</th><th scope=col>&lt;int&gt;</th><th scope=col>&lt;chr&gt;</th></tr>\n",
       "</thead>\n",
       "<tbody>\n",
       "\t<tr><td> 809</td><td>2</td><td>11.70</td><td>0</td><td>0/72/1978</td></tr>\n",
       "\t<tr><td>1687</td><td>3</td><td> 6.22</td><td>0</td><td>0/61/1990</td></tr>\n",
       "\t<tr><td>1711</td><td>3</td><td>13.98</td><td>0</td><td>0/30/1977</td></tr>\n",
       "\t<tr><td> 682</td><td>3</td><td> 5.06</td><td>0</td><td>0/72/1987</td></tr>\n",
       "\t<tr><td>1034</td><td>2</td><td>15.38</td><td>0</td><td>0/71/1977</td></tr>\n",
       "\t<tr><td> 625</td><td>1</td><td> 7.66</td><td>0</td><td>0/21/1983</td></tr>\n",
       "\t<tr><td> 248</td><td>2</td><td> 3.48</td><td>0</td><td>0/63/1988</td></tr>\n",
       "\t<tr><td>1190</td><td>1</td><td> 9.29</td><td>0</td><td>0/26/1975</td></tr>\n",
       "\t<tr><td>1979</td><td>2</td><td>10.33</td><td>0</td><td>0/77/1984</td></tr>\n",
       "\t<tr><td>1191</td><td>1</td><td>11.03</td><td>0</td><td>1/57/1980</td></tr>\n",
       "</tbody>\n",
       "</table>\n"
      ],
      "text/latex": [
       "A tibble: 10 × 5\n",
       "\\begin{tabular}{lllll}\n",
       " time & status & thickness & ulcer & sex\\_age\\_year\\\\\n",
       " <int> & <int> & <dbl> & <int> & <chr>\\\\\n",
       "\\hline\n",
       "\t  809 & 2 & 11.70 & 0 & 0/72/1978\\\\\n",
       "\t 1687 & 3 &  6.22 & 0 & 0/61/1990\\\\\n",
       "\t 1711 & 3 & 13.98 & 0 & 0/30/1977\\\\\n",
       "\t  682 & 3 &  5.06 & 0 & 0/72/1987\\\\\n",
       "\t 1034 & 2 & 15.38 & 0 & 0/71/1977\\\\\n",
       "\t  625 & 1 &  7.66 & 0 & 0/21/1983\\\\\n",
       "\t  248 & 2 &  3.48 & 0 & 0/63/1988\\\\\n",
       "\t 1190 & 1 &  9.29 & 0 & 0/26/1975\\\\\n",
       "\t 1979 & 2 & 10.33 & 0 & 0/77/1984\\\\\n",
       "\t 1191 & 1 & 11.03 & 0 & 1/57/1980\\\\\n",
       "\\end{tabular}\n"
      ],
      "text/markdown": [
       "\n",
       "A tibble: 10 × 5\n",
       "\n",
       "| time &lt;int&gt; | status &lt;int&gt; | thickness &lt;dbl&gt; | ulcer &lt;int&gt; | sex_age_year &lt;chr&gt; |\n",
       "|---|---|---|---|---|\n",
       "|  809 | 2 | 11.70 | 0 | 0/72/1978 |\n",
       "| 1687 | 3 |  6.22 | 0 | 0/61/1990 |\n",
       "| 1711 | 3 | 13.98 | 0 | 0/30/1977 |\n",
       "|  682 | 3 |  5.06 | 0 | 0/72/1987 |\n",
       "| 1034 | 2 | 15.38 | 0 | 0/71/1977 |\n",
       "|  625 | 1 |  7.66 | 0 | 0/21/1983 |\n",
       "|  248 | 2 |  3.48 | 0 | 0/63/1988 |\n",
       "| 1190 | 1 |  9.29 | 0 | 0/26/1975 |\n",
       "| 1979 | 2 | 10.33 | 0 | 0/77/1984 |\n",
       "| 1191 | 1 | 11.03 | 0 | 1/57/1980 |\n",
       "\n"
      ],
      "text/plain": [
       "   time status thickness ulcer sex_age_year\n",
       "1   809 2      11.70     0     0/72/1978   \n",
       "2  1687 3       6.22     0     0/61/1990   \n",
       "3  1711 3      13.98     0     0/30/1977   \n",
       "4   682 3       5.06     0     0/72/1987   \n",
       "5  1034 2      15.38     0     0/71/1977   \n",
       "6   625 1       7.66     0     0/21/1983   \n",
       "7   248 2       3.48     0     0/63/1988   \n",
       "8  1190 1       9.29     0     0/26/1975   \n",
       "9  1979 2      10.33     0     0/77/1984   \n",
       "10 1191 1      11.03     0     1/57/1980   "
      ]
     },
     "metadata": {},
     "output_type": "display_data"
    }
   ],
   "source": [
    "#(h) The csv file add.data.melanoma.csv contains data from anotherstudy.\n",
    "# Import the dataset as a tibble called add.data.melanoma.\n",
    "df1<-read.csv('add.data.melanoma.csv') %>% as_tibble()\n",
    "df1 %>% slice(1:10)"
   ]
  },
  {
   "cell_type": "code",
   "execution_count": 11,
   "id": "e9af11b7",
   "metadata": {
    "scrolled": true
   },
   "outputs": [
    {
     "data": {
      "text/html": [
       "<table class=\"dataframe\">\n",
       "<caption>A tibble: 10 × 7</caption>\n",
       "<thead>\n",
       "\t<tr><th scope=col>time</th><th scope=col>status</th><th scope=col>thickness</th><th scope=col>ulcer</th><th scope=col>sex</th><th scope=col>age</th><th scope=col>year</th></tr>\n",
       "\t<tr><th scope=col>&lt;int&gt;</th><th scope=col>&lt;int&gt;</th><th scope=col>&lt;dbl&gt;</th><th scope=col>&lt;int&gt;</th><th scope=col>&lt;chr&gt;</th><th scope=col>&lt;chr&gt;</th><th scope=col>&lt;chr&gt;</th></tr>\n",
       "</thead>\n",
       "<tbody>\n",
       "\t<tr><td> 809</td><td>2</td><td>11.70</td><td>0</td><td>0</td><td>72</td><td>1978</td></tr>\n",
       "\t<tr><td>1687</td><td>3</td><td> 6.22</td><td>0</td><td>0</td><td>61</td><td>1990</td></tr>\n",
       "\t<tr><td>1711</td><td>3</td><td>13.98</td><td>0</td><td>0</td><td>30</td><td>1977</td></tr>\n",
       "\t<tr><td> 682</td><td>3</td><td> 5.06</td><td>0</td><td>0</td><td>72</td><td>1987</td></tr>\n",
       "\t<tr><td>1034</td><td>2</td><td>15.38</td><td>0</td><td>0</td><td>71</td><td>1977</td></tr>\n",
       "\t<tr><td> 625</td><td>1</td><td> 7.66</td><td>0</td><td>0</td><td>21</td><td>1983</td></tr>\n",
       "\t<tr><td> 248</td><td>2</td><td> 3.48</td><td>0</td><td>0</td><td>63</td><td>1988</td></tr>\n",
       "\t<tr><td>1190</td><td>1</td><td> 9.29</td><td>0</td><td>0</td><td>26</td><td>1975</td></tr>\n",
       "\t<tr><td>1979</td><td>2</td><td>10.33</td><td>0</td><td>0</td><td>77</td><td>1984</td></tr>\n",
       "\t<tr><td>1191</td><td>1</td><td>11.03</td><td>0</td><td>1</td><td>57</td><td>1980</td></tr>\n",
       "</tbody>\n",
       "</table>\n"
      ],
      "text/latex": [
       "A tibble: 10 × 7\n",
       "\\begin{tabular}{lllllll}\n",
       " time & status & thickness & ulcer & sex & age & year\\\\\n",
       " <int> & <int> & <dbl> & <int> & <chr> & <chr> & <chr>\\\\\n",
       "\\hline\n",
       "\t  809 & 2 & 11.70 & 0 & 0 & 72 & 1978\\\\\n",
       "\t 1687 & 3 &  6.22 & 0 & 0 & 61 & 1990\\\\\n",
       "\t 1711 & 3 & 13.98 & 0 & 0 & 30 & 1977\\\\\n",
       "\t  682 & 3 &  5.06 & 0 & 0 & 72 & 1987\\\\\n",
       "\t 1034 & 2 & 15.38 & 0 & 0 & 71 & 1977\\\\\n",
       "\t  625 & 1 &  7.66 & 0 & 0 & 21 & 1983\\\\\n",
       "\t  248 & 2 &  3.48 & 0 & 0 & 63 & 1988\\\\\n",
       "\t 1190 & 1 &  9.29 & 0 & 0 & 26 & 1975\\\\\n",
       "\t 1979 & 2 & 10.33 & 0 & 0 & 77 & 1984\\\\\n",
       "\t 1191 & 1 & 11.03 & 0 & 1 & 57 & 1980\\\\\n",
       "\\end{tabular}\n"
      ],
      "text/markdown": [
       "\n",
       "A tibble: 10 × 7\n",
       "\n",
       "| time &lt;int&gt; | status &lt;int&gt; | thickness &lt;dbl&gt; | ulcer &lt;int&gt; | sex &lt;chr&gt; | age &lt;chr&gt; | year &lt;chr&gt; |\n",
       "|---|---|---|---|---|---|---|\n",
       "|  809 | 2 | 11.70 | 0 | 0 | 72 | 1978 |\n",
       "| 1687 | 3 |  6.22 | 0 | 0 | 61 | 1990 |\n",
       "| 1711 | 3 | 13.98 | 0 | 0 | 30 | 1977 |\n",
       "|  682 | 3 |  5.06 | 0 | 0 | 72 | 1987 |\n",
       "| 1034 | 2 | 15.38 | 0 | 0 | 71 | 1977 |\n",
       "|  625 | 1 |  7.66 | 0 | 0 | 21 | 1983 |\n",
       "|  248 | 2 |  3.48 | 0 | 0 | 63 | 1988 |\n",
       "| 1190 | 1 |  9.29 | 0 | 0 | 26 | 1975 |\n",
       "| 1979 | 2 | 10.33 | 0 | 0 | 77 | 1984 |\n",
       "| 1191 | 1 | 11.03 | 0 | 1 | 57 | 1980 |\n",
       "\n"
      ],
      "text/plain": [
       "   time status thickness ulcer sex age year\n",
       "1   809 2      11.70     0     0   72  1978\n",
       "2  1687 3       6.22     0     0   61  1990\n",
       "3  1711 3      13.98     0     0   30  1977\n",
       "4   682 3       5.06     0     0   72  1987\n",
       "5  1034 2      15.38     0     0   71  1977\n",
       "6   625 1       7.66     0     0   21  1983\n",
       "7   248 2       3.48     0     0   63  1988\n",
       "8  1190 1       9.29     0     0   26  1975\n",
       "9  1979 2      10.33     0     0   77  1984\n",
       "10 1191 1      11.03     0     1   57  1980"
      ]
     },
     "metadata": {},
     "output_type": "display_data"
    }
   ],
   "source": [
    "# (i) Is this dataset tidy?\n",
    "# not tidy. bcz the col sex_age_year contains three infos at the same time. so we have to seperate that col into \n",
    "# 3 cols\n",
    "df1 %>% separate(col = sex_age_year,into = c('sex','age','year'),sep='/') %>% slice(1:10)"
   ]
  },
  {
   "cell_type": "markdown",
   "id": "015764d5",
   "metadata": {},
   "source": [
    "## Probability"
   ]
  },
  {
   "cell_type": "markdown",
   "id": "a28e48ca",
   "metadata": {},
   "source": [
    "2. In a computer science course the projects P1, P2, P3, P4 are offered.\n",
    "    Each of the 60 students must sign up for one of the projects offered.\n",
    "    All projects are equally popular among the students. Determine the\n",
    "    probability that\n",
    "      +  (a) exactly 15 students register for every of the four projects\n",
    "      +  (b) more than 15 students sign up for project P1.<br>\n"
   ]
  },
  {
   "cell_type": "markdown",
   "id": "db3aa94d",
   "metadata": {},
   "source": [
    "\n",
    "Assume that the number of places in the projects is unlimited:\n",
    "   **Hint**: The R functions factorial(n) and choose(n,m) evaluate n! and $  \\begin{pmatrix} n \\\\ m  \\end{pmatrix}$."
   ]
  },
  {
   "cell_type": "code",
   "execution_count": 12,
   "id": "c4c32aa6",
   "metadata": {},
   "outputs": [
    {
     "data": {
      "text/html": [
       "0.00214080408710149"
      ],
      "text/latex": [
       "0.00214080408710149"
      ],
      "text/markdown": [
       "0.00214080408710149"
      ],
      "text/plain": [
       "[1] 0.002140804"
      ]
     },
     "metadata": {},
     "output_type": "display_data"
    }
   ],
   "source": [
    "# (a)\n",
    "(factorial(60) / ( factorial(15)*factorial(15)*factorial(15)*factorial(15) ))*( \n",
    "       (1/4)**15 * (1/4)**15*(1/4)**15*(1/4)**15 )\n",
    "## multibinomial distribution"
   ]
  },
  {
   "cell_type": "code",
   "execution_count": 13,
   "id": "bbb4c647",
   "metadata": {},
   "outputs": [
    {
     "data": {
      "text/html": [
       "0.00214080408710145"
      ],
      "text/latex": [
       "0.00214080408710145"
      ],
      "text/markdown": [
       "0.00214080408710145"
      ],
      "text/plain": [
       "[1] 0.002140804"
      ]
     },
     "metadata": {},
     "output_type": "display_data"
    }
   ],
   "source": [
    "# with r function\n",
    "dmultinom(x = rep(15,times=4),size=60,prob=rep(1/4,times=4))"
   ]
  },
  {
   "cell_type": "code",
   "execution_count": 14,
   "id": "859eaee4",
   "metadata": {},
   "outputs": [
    {
     "data": {
      "text/html": [
       "0.431202725035633"
      ],
      "text/latex": [
       "0.431202725035633"
      ],
      "text/markdown": [
       "0.431202725035633"
      ],
      "text/plain": [
       "[1] 0.4312027"
      ]
     },
     "metadata": {},
     "output_type": "display_data"
    }
   ],
   "source": [
    "# (b)\n",
    "# P(X>15)\n",
    "1-pbinom(q = 15,size=60,prob = 1/4)"
   ]
  },
  {
   "cell_type": "markdown",
   "id": "f6eb67f2",
   "metadata": {},
   "source": [
    "+ Every year, an introductory computer course is held at the beginning\n",
    "    of the winter semester. From many years of experience, we know that\n",
    "    about 11% of the registered course participants do not show up for\n",
    "    the course. Since each participant needs his own computer during the\n",
    "    course, no more participants can take part in the course than there are\n",
    "    free computers. In total, there are ten rooms with 22 seats each and a\n",
    "    total of 240 first-year students. Using an approximation by the central\n",
    "    limit theorem, calculate\n",
    "\n",
    "        "
   ]
  },
  {
   "cell_type": "markdown",
   "id": "a0ca1cff",
   "metadata": {},
   "source": [
    "+ (a) the probability that all students who are present for the course will find a seat if all first-year students have registered for the course."
   ]
  },
  {
   "cell_type": "code",
   "execution_count": 25,
   "id": "6b91bcfc",
   "metadata": {
    "scrolled": true
   },
   "outputs": [
    {
     "data": {
      "text/html": [
       "0.906637829981979"
      ],
      "text/latex": [
       "0.906637829981979"
      ],
      "text/markdown": [
       "0.906637829981979"
      ],
      "text/plain": [
       "[1] 0.9066378"
      ]
     },
     "metadata": {},
     "output_type": "display_data"
    }
   ],
   "source": [
    "# 11% of the registered do not show up\n",
    "# total pcs = 10*22 == 220 seats\n",
    "# total of 240 first year students\n",
    "# central limit theorem\n",
    "# if we want to approximate a binomial distribution to a normal distribution then, \n",
    "# E(x) = n*p\n",
    "# V(x) = n*p(1-p)\n",
    "p<-1 - 0.11\n",
    "n <- 240\n",
    "# sd = sqrt(variance)\n",
    "# approximation\n",
    "pnorm(220,n*p, sqrt(n*p*(1-p)))"
   ]
  },
  {
   "cell_type": "code",
   "execution_count": 26,
   "id": "afe4b64e",
   "metadata": {},
   "outputs": [
    {
     "data": {
      "text/html": [
       "0.927354264110009"
      ],
      "text/latex": [
       "0.927354264110009"
      ],
      "text/markdown": [
       "0.927354264110009"
      ],
      "text/plain": [
       "[1] 0.9273543"
      ]
     },
     "metadata": {},
     "output_type": "display_data"
    }
   ],
   "source": [
    "# exact\n",
    "pbinom(q = 220,size = 240,prob = 0.89)"
   ]
  },
  {
   "cell_type": "markdown",
   "id": "440be02b",
   "metadata": {},
   "source": [
    "+ (b) the minimum number of computers needed so that there is at least a 99% probability that all students who show up will have a computer?\n",
    "    "
   ]
  },
  {
   "cell_type": "code",
   "execution_count": 16,
   "id": "cc7b3ac3",
   "metadata": {
    "scrolled": true
   },
   "outputs": [
    {
     "data": {
      "text/html": [
       "224.876429911637"
      ],
      "text/latex": [
       "224.876429911637"
      ],
      "text/markdown": [
       "224.876429911637"
      ],
      "text/plain": [
       "[1] 224.8764"
      ]
     },
     "metadata": {},
     "output_type": "display_data"
    }
   ],
   "source": [
    "qnorm(0.99, 240*0.89, sqrt(n*0.89*(1-0.89)))"
   ]
  },
  {
   "cell_type": "markdown",
   "id": "e7165d8a",
   "metadata": {},
   "source": [
    "+ (c) how many registrations may be accepted at most, if with probability 0.99 all students who show up for the course will find a place in the course with 220 places."
   ]
  },
  {
   "cell_type": "code",
   "execution_count": 17,
   "id": "3849481e",
   "metadata": {
    "scrolled": false
   },
   "outputs": [
    {
     "data": {
      "text/html": [
       "<table class=\"dataframe\">\n",
       "<caption>A tibble: 1 × 2</caption>\n",
       "<thead>\n",
       "\t<tr><th scope=col>n</th><th scope=col>p</th></tr>\n",
       "\t<tr><th scope=col>&lt;int&gt;</th><th scope=col>&lt;dbl&gt;</th></tr>\n",
       "</thead>\n",
       "<tbody>\n",
       "\t<tr><td>234</td><td>0.9929133</td></tr>\n",
       "</tbody>\n",
       "</table>\n"
      ],
      "text/latex": [
       "A tibble: 1 × 2\n",
       "\\begin{tabular}{ll}\n",
       " n & p\\\\\n",
       " <int> & <dbl>\\\\\n",
       "\\hline\n",
       "\t 234 & 0.9929133\\\\\n",
       "\\end{tabular}\n"
      ],
      "text/markdown": [
       "\n",
       "A tibble: 1 × 2\n",
       "\n",
       "| n &lt;int&gt; | p &lt;dbl&gt; |\n",
       "|---|---|\n",
       "| 234 | 0.9929133 |\n",
       "\n"
      ],
      "text/plain": [
       "  n   p        \n",
       "1 234 0.9929133"
      ]
     },
     "metadata": {},
     "output_type": "display_data"
    }
   ],
   "source": [
    "tibble(\n",
    "n = 220:240\n",
    "    \n",
    "p = pnorm(220, n*0.89, sqrt(n*0.89*(1-0.89)))\n",
    ") %>% filter(p>=0.99) %>% filter(n==max(n))"
   ]
  },
  {
   "cell_type": "markdown",
   "id": "8d9d66df",
   "metadata": {},
   "source": [
    "## Inferential Statistics"
   ]
  },
  {
   "cell_type": "markdown",
   "id": "cfcc5689",
   "metadata": {},
   "source": [
    "+ 4. To estimate the prevalence of a disease in a population, a random sample of size n=200 is drawn from the population and the individuals are\n",
    "  screened for for the disease. In the process, m=12 individuals are found\n",
    "  to have the disease."
   ]
  },
  {
   "cell_type": "markdown",
   "id": "ff6cac4d",
   "metadata": {},
   "source": [
    "+ (a) Show that $X =\\frac{m}{n}$is an unbiased estimator of prevalence"
   ]
  },
  {
   "cell_type": "markdown",
   "id": "4d331204",
   "metadata": {},
   "source": [
    "As this a binomial distribution, we know $E(m)=np$ and $V(m)=np(1-p)$<br>\n",
    "now, $E(X)=E(\\frac{m}{n})$<br>\n",
    "     $=\\frac{1}{n}E(m)$<br>\n",
    "     $=\\frac{1}{n}np$<br>\n",
    "     $=p$<br>\n",
    "so X is an unbiased esmtimator."
   ]
  },
  {
   "cell_type": "markdown",
   "id": "21412b16",
   "metadata": {},
   "source": [
    "+ (b) Determine the variance of the estimator X."
   ]
  },
  {
   "cell_type": "markdown",
   "id": "e2238fdb",
   "metadata": {},
   "source": [
    "$V(X)=V(\\frac{m}{n})$<br>\n",
    "$=(\\frac{1}{n})^2V(m)$<br>\n",
    "$=\\frac{1}{n^2}np(1-p)$<br>\n",
    "$=\\frac{p(1-p)}{n}$"
   ]
  },
  {
   "cell_type": "markdown",
   "id": "14c46f1f",
   "metadata": {},
   "source": [
    "+ (c) Determine an upper 95% confidence bound for prevalence from\n",
    "  the sample data."
   ]
  },
  {
   "cell_type": "code",
   "execution_count": 18,
   "id": "e1a87a3f",
   "metadata": {},
   "outputs": [
    {
     "data": {
      "text/html": [
       "0.0876217894795921"
      ],
      "text/latex": [
       "0.0876217894795921"
      ],
      "text/markdown": [
       "0.0876217894795921"
      ],
      "text/plain": [
       "[1] 0.08762179"
      ]
     },
     "metadata": {},
     "output_type": "display_data"
    }
   ],
   "source": [
    "m<-12\n",
    "n<-200\n",
    "phat <-  m/n\n",
    "alpha <- 0.05\n",
    "## aprox\n",
    "u <- phat+qnorm(1-alpha)*sqrt((phat*(1-phat)/n))\n",
    "u"
   ]
  },
  {
   "cell_type": "code",
   "execution_count": 19,
   "id": "bae24843",
   "metadata": {
    "scrolled": true
   },
   "outputs": [
    {
     "data": {
      "text/html": [
       "0.0954014177298773"
      ],
      "text/latex": [
       "0.0954014177298773"
      ],
      "text/markdown": [
       "0.0954014177298773"
      ],
      "text/plain": [
       "[1] 0.09540142"
      ]
     },
     "metadata": {},
     "output_type": "display_data"
    }
   ],
   "source": [
    "## exact\n",
    "binom.test(x = 12,n = 200,p = phat,alternative = 'less',conf.level = 0.95)$conf.int[2]"
   ]
  },
  {
   "cell_type": "markdown",
   "id": "e0c86a71",
   "metadata": {},
   "source": [
    "+  (d) What is the minimum sample size needed for the upper 95% confidence bound is 0.01 greater than the estimate. Assume that the\n",
    "    prevalence is ≤ 0.1 and use a normal approximation of the confidence bound."
   ]
  },
  {
   "cell_type": "code",
   "execution_count": 20,
   "id": "e2d6f887",
   "metadata": {
    "scrolled": true
   },
   "outputs": [
    {
     "data": {
      "text/html": [
       "2435"
      ],
      "text/latex": [
       "2435"
      ],
      "text/markdown": [
       "2435"
      ],
      "text/plain": [
       "[1] 2435"
      ]
     },
     "metadata": {},
     "output_type": "display_data"
    }
   ],
   "source": [
    "ceiling((qnorm(1-alpha)/0.01)**2*0.1*(1-0.1))\n"
   ]
  },
  {
   "cell_type": "markdown",
   "id": "ba502d13",
   "metadata": {},
   "source": [
    "5. A company produces chocolade bars with a standard weight of 100 gr.\n",
    "   As a measure of quality controls he weighs 15 bars and obtains the\n",
    "    following results: 98.32,97.26,99.85,99.52,95.73,95.56,100.49,98.19,95.16,98.26,96.46,100.23,99.76,98.58,97.43"
   ]
  },
  {
   "cell_type": "markdown",
   "id": "ed978756",
   "metadata": {},
   "source": [
    "+ (a) What is an appropriate hypothesis regarding the expected weight\n",
    "  µ for a two-sided-test?"
   ]
  },
  {
   "cell_type": "code",
   "execution_count": 21,
   "id": "21b25cc7",
   "metadata": {},
   "outputs": [],
   "source": [
    "# a) H0: m0 == 100, H1: m0 != 100"
   ]
  },
  {
   "cell_type": "markdown",
   "id": "120cdc8d",
   "metadata": {},
   "source": [
    "+ (b) If weights can be assumed to be nomally distributed, which test\n",
    "  should used to test these hypothesis?"
   ]
  },
  {
   "cell_type": "code",
   "execution_count": 22,
   "id": "a7ac6512",
   "metadata": {},
   "outputs": [],
   "source": [
    "# an appropiate test would be t -test because the sd is unknown\n",
    "# and we are testing mu"
   ]
  },
  {
   "cell_type": "markdown",
   "id": "7021ca15",
   "metadata": {},
   "source": [
    "+ (c) Conduct the test that was suggested to be used in b) at a 5%\n",
    "  level. What is your test decision. Specify the p-value."
   ]
  },
  {
   "cell_type": "code",
   "execution_count": 23,
   "id": "b3cad1fa",
   "metadata": {
    "scrolled": true
   },
   "outputs": [
    {
     "data": {
      "text/plain": [
       "\n",
       "\tOne Sample t-test\n",
       "\n",
       "data:  sample\n",
       "t = -4.306, df = 14, p-value = 0.0007251\n",
       "alternative hypothesis: true mean is not equal to 100\n",
       "95 percent confidence interval:\n",
       " 97.08371 99.02295\n",
       "sample estimates:\n",
       "mean of x \n",
       " 98.05333 \n"
      ]
     },
     "metadata": {},
     "output_type": "display_data"
    }
   ],
   "source": [
    "sample <- c(98.32,97.26,99.85,99.52,95.73,95.56,100.49,98.19,95.16,\n",
    "            98.26,96.46,100.23,99.76,98.58,97.43)\n",
    "mu0 <- 100\n",
    "alpha <- 0.05;\n",
    "t.test(x = sample, mu = mu0, alternative=\"two.sided\",\n",
    "       conf.level = 1 -alpha)\n",
    "# pvalue is = 0.0007251 which is much lower than alpha,\n",
    "# so we are rejecting the null hypothesis"
   ]
  },
  {
   "cell_type": "markdown",
   "id": "825c8291",
   "metadata": {},
   "source": [
    "+ (d) Based on the sample, the producer changes the settings in production. To check whether the correction has led to an improvement,\n",
    "    he again takes 15 chocolate bars and weighs them.\n",
    "    100.14,100.05,96.51,98.70,98.22,101.06,103.55,100.16,\n",
    "    100.60,102.85,103.15,100.66,102.52,102.09,100.84\n",
    "    What is an appropriate hypothesis for comparing the expected\n",
    "    weights of the two samples?"
   ]
  },
  {
   "cell_type": "code",
   "execution_count": 24,
   "id": "9b0d759f",
   "metadata": {
    "scrolled": true
   },
   "outputs": [
    {
     "data": {
      "text/plain": [
       "\n",
       "\tTwo Sample t-test\n",
       "\n",
       "data:  sample and sample2\n",
       "t = -3.9781, df = 28, p-value = 0.0002228\n",
       "alternative hypothesis: true difference in means is less than 0\n",
       "95 percent confidence interval:\n",
       "      -Inf -1.537796\n",
       "sample estimates:\n",
       "mean of x mean of y \n",
       " 98.05333 100.74000 \n"
      ]
     },
     "metadata": {},
     "output_type": "display_data"
    }
   ],
   "source": [
    "sample2 <- c(100.14,100.05,96.51,98.70,98.22,101.06,103.55,100.16,\n",
    "             100.60,102.85,103.15,100.66,102.52,102.09,100.84)\n",
    "# e)\n",
    "# H0: mu1 >= mu2 , H1: mu1 < mu 2  \n",
    "t.test(sample, sample2, alternative=\"less\", paired = F, var.equal =T, \n",
    "       conf.level = 1-alpha)\n",
    "# pvalue = 0.0002228 much lesser than alpha -> reject H0"
   ]
  },
  {
   "cell_type": "markdown",
   "id": "11068d02",
   "metadata": {},
   "source": [
    "  +  (e) Provide an appropriate statistical test to test the hypothesis and\n",
    "        perform at the 5% level. Assume that the variances of the populations of the two samples are equal. What is your     test decision?\n",
    "        Specify the p-value."
   ]
  }
 ],
 "metadata": {
  "kernelspec": {
   "display_name": "R",
   "language": "R",
   "name": "ir"
  },
  "language_info": {
   "codemirror_mode": "r",
   "file_extension": ".r",
   "mimetype": "text/x-r-source",
   "name": "R",
   "pygments_lexer": "r",
   "version": "4.2.2"
  }
 },
 "nbformat": 4,
 "nbformat_minor": 5
}

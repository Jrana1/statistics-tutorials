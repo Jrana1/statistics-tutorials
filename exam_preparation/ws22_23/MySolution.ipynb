{
 "cells": [
  {
   "cell_type": "markdown",
   "id": "389afa2d",
   "metadata": {},
   "source": [
    "<h1 style=\"color:blue;text-align:center\">Descriptive Statistics</h1>"
   ]
  },
  {
   "cell_type": "markdown",
   "id": "d8250d17",
   "metadata": {},
   "source": [
    "+ 1. The two files stud-data.csv and exam-data.csv contain the data of students of two study programs as well as the   results of the exams from the 3rd semester of the winter semester 21/22.\n",
    "    + mat.nr matriculation number\n",
    "    + gender sex\n",
    "    + semester current semester\n",
    "    + course course of study\n",
    "    + exam matriculation number/exams\n",
    "    + attempt number of attempt\n",
    "    + score achieved score"
   ]
  },
  {
   "cell_type": "markdown",
   "id": "d353b48a",
   "metadata": {},
   "source": [
    "+ (a) Import the files stud.data, exam.data as tibbles."
   ]
  },
  {
   "cell_type": "code",
   "execution_count": 2,
   "id": "5be3f79e",
   "metadata": {
    "scrolled": true
   },
   "outputs": [
    {
     "name": "stderr",
     "output_type": "stream",
     "text": [
      "── \u001b[1mAttaching core tidyverse packages\u001b[22m ──────────────────────────────────────────────────── tidyverse 2.0.0 ──\n",
      "\u001b[32m✔\u001b[39m \u001b[34mdplyr    \u001b[39m 1.1.4     \u001b[32m✔\u001b[39m \u001b[34mreadr    \u001b[39m 2.1.4\n",
      "\u001b[32m✔\u001b[39m \u001b[34mforcats  \u001b[39m 1.0.0     \u001b[32m✔\u001b[39m \u001b[34mstringr  \u001b[39m 1.5.1\n",
      "\u001b[32m✔\u001b[39m \u001b[34mggplot2  \u001b[39m 3.4.4     \u001b[32m✔\u001b[39m \u001b[34mtibble   \u001b[39m 3.2.1\n",
      "\u001b[32m✔\u001b[39m \u001b[34mlubridate\u001b[39m 1.9.3     \u001b[32m✔\u001b[39m \u001b[34mtidyr    \u001b[39m 1.3.0\n",
      "\u001b[32m✔\u001b[39m \u001b[34mpurrr    \u001b[39m 1.0.2     \n",
      "── \u001b[1mConflicts\u001b[22m ────────────────────────────────────────────────────────────────────── tidyverse_conflicts() ──\n",
      "\u001b[31m✖\u001b[39m \u001b[34mdplyr\u001b[39m::\u001b[32mfilter()\u001b[39m masks \u001b[34mstats\u001b[39m::filter()\n",
      "\u001b[31m✖\u001b[39m \u001b[34mdplyr\u001b[39m::\u001b[32mlag()\u001b[39m    masks \u001b[34mstats\u001b[39m::lag()\n",
      "\u001b[36mℹ\u001b[39m Use the conflicted package (\u001b[3m\u001b[34m<http://conflicted.r-lib.org/>\u001b[39m\u001b[23m) to force all conflicts to become errors\n"
     ]
    }
   ],
   "source": [
    "library(tidyverse)"
   ]
  },
  {
   "cell_type": "code",
   "execution_count": 3,
   "id": "12a1b0e7",
   "metadata": {
    "scrolled": true
   },
   "outputs": [
    {
     "data": {
      "text/html": [
       "<table class=\"dataframe\">\n",
       "<caption>A tibble: 6 × 4</caption>\n",
       "<thead>\n",
       "\t<tr><th scope=col>X</th><th scope=col>exam</th><th scope=col>attempt</th><th scope=col>score</th></tr>\n",
       "\t<tr><th scope=col>&lt;int&gt;</th><th scope=col>&lt;chr&gt;</th><th scope=col>&lt;int&gt;</th><th scope=col>&lt;int&gt;</th></tr>\n",
       "</thead>\n",
       "<tbody>\n",
       "\t<tr><td>1</td><td>516647/Mathematics      </td><td>1</td><td>75</td></tr>\n",
       "\t<tr><td>2</td><td>193841/Data Bases       </td><td>2</td><td>49</td></tr>\n",
       "\t<tr><td>3</td><td>326761/Computer Networks</td><td>2</td><td>75</td></tr>\n",
       "\t<tr><td>4</td><td>230275/Data Bases       </td><td>1</td><td>73</td></tr>\n",
       "\t<tr><td>5</td><td>911920/OOP              </td><td>1</td><td>55</td></tr>\n",
       "\t<tr><td>6</td><td>840873/Formal Languages </td><td>1</td><td>33</td></tr>\n",
       "</tbody>\n",
       "</table>\n"
      ],
      "text/latex": [
       "A tibble: 6 × 4\n",
       "\\begin{tabular}{llll}\n",
       " X & exam & attempt & score\\\\\n",
       " <int> & <chr> & <int> & <int>\\\\\n",
       "\\hline\n",
       "\t 1 & 516647/Mathematics       & 1 & 75\\\\\n",
       "\t 2 & 193841/Data Bases        & 2 & 49\\\\\n",
       "\t 3 & 326761/Computer Networks & 2 & 75\\\\\n",
       "\t 4 & 230275/Data Bases        & 1 & 73\\\\\n",
       "\t 5 & 911920/OOP               & 1 & 55\\\\\n",
       "\t 6 & 840873/Formal Languages  & 1 & 33\\\\\n",
       "\\end{tabular}\n"
      ],
      "text/markdown": [
       "\n",
       "A tibble: 6 × 4\n",
       "\n",
       "| X &lt;int&gt; | exam &lt;chr&gt; | attempt &lt;int&gt; | score &lt;int&gt; |\n",
       "|---|---|---|---|\n",
       "| 1 | 516647/Mathematics       | 1 | 75 |\n",
       "| 2 | 193841/Data Bases        | 2 | 49 |\n",
       "| 3 | 326761/Computer Networks | 2 | 75 |\n",
       "| 4 | 230275/Data Bases        | 1 | 73 |\n",
       "| 5 | 911920/OOP               | 1 | 55 |\n",
       "| 6 | 840873/Formal Languages  | 1 | 33 |\n",
       "\n"
      ],
      "text/plain": [
       "  X exam                     attempt score\n",
       "1 1 516647/Mathematics       1       75   \n",
       "2 2 193841/Data Bases        2       49   \n",
       "3 3 326761/Computer Networks 2       75   \n",
       "4 4 230275/Data Bases        1       73   \n",
       "5 5 911920/OOP               1       55   \n",
       "6 6 840873/Formal Languages  1       33   "
      ]
     },
     "metadata": {},
     "output_type": "display_data"
    }
   ],
   "source": [
    "df <- read.csv('exam_data.csv') %>% as_tibble()\n",
    "df %>% head()"
   ]
  },
  {
   "cell_type": "markdown",
   "id": "bbc95e69",
   "metadata": {},
   "source": [
    "+ (b) Determine the scale and type of all variables."
   ]
  },
  {
   "cell_type": "code",
   "execution_count": 86,
   "id": "55245600",
   "metadata": {},
   "outputs": [],
   "source": [
    "#-----------------------------------------------\n",
    "# | variable      |   type       |     scale   |\n",
    "#-----------------------------------------------\n",
    "# |  exam          |  qualitative |    nominal |\n",
    "# |  attempt       |  quantitative|    ratio   | \n",
    "# |  score         | quantitative |    ordinal | \n"
   ]
  },
  {
   "cell_type": "markdown",
   "id": "b28c4a22",
   "metadata": {},
   "source": [
    "+ (c) Add a variable grade that indicates the grade of the exam. The\n",
    "   grade is derived from the score as follows:\n",
    "    +  Grade 5 if score < 50\n",
    "    +  Grade 4, if 50 ≤ score < 65\n",
    "    + Grade 3, if 65 ≤ score < 80\n",
    "    +  Grade 2, if 80 ≤ score < 90\n",
    "    + Grade 1, if 90 ≤ score"
   ]
  },
  {
   "cell_type": "code",
   "execution_count": 14,
   "id": "c5392d55",
   "metadata": {
    "scrolled": true
   },
   "outputs": [
    {
     "data": {
      "text/html": [
       "<table class=\"dataframe\">\n",
       "<caption>A tibble: 6 × 5</caption>\n",
       "<thead>\n",
       "\t<tr><th scope=col>X</th><th scope=col>exam</th><th scope=col>attempt</th><th scope=col>score</th><th scope=col>grade</th></tr>\n",
       "\t<tr><th scope=col>&lt;int&gt;</th><th scope=col>&lt;chr&gt;</th><th scope=col>&lt;int&gt;</th><th scope=col>&lt;int&gt;</th><th scope=col>&lt;dbl&gt;</th></tr>\n",
       "</thead>\n",
       "<tbody>\n",
       "\t<tr><td>1</td><td>516647/Mathematics      </td><td>1</td><td>75</td><td>3</td></tr>\n",
       "\t<tr><td>2</td><td>193841/Data Bases       </td><td>2</td><td>49</td><td>5</td></tr>\n",
       "\t<tr><td>3</td><td>326761/Computer Networks</td><td>2</td><td>75</td><td>3</td></tr>\n",
       "\t<tr><td>4</td><td>230275/Data Bases       </td><td>1</td><td>73</td><td>3</td></tr>\n",
       "\t<tr><td>5</td><td>911920/OOP              </td><td>1</td><td>55</td><td>4</td></tr>\n",
       "\t<tr><td>6</td><td>840873/Formal Languages </td><td>1</td><td>33</td><td>5</td></tr>\n",
       "</tbody>\n",
       "</table>\n"
      ],
      "text/latex": [
       "A tibble: 6 × 5\n",
       "\\begin{tabular}{lllll}\n",
       " X & exam & attempt & score & grade\\\\\n",
       " <int> & <chr> & <int> & <int> & <dbl>\\\\\n",
       "\\hline\n",
       "\t 1 & 516647/Mathematics       & 1 & 75 & 3\\\\\n",
       "\t 2 & 193841/Data Bases        & 2 & 49 & 5\\\\\n",
       "\t 3 & 326761/Computer Networks & 2 & 75 & 3\\\\\n",
       "\t 4 & 230275/Data Bases        & 1 & 73 & 3\\\\\n",
       "\t 5 & 911920/OOP               & 1 & 55 & 4\\\\\n",
       "\t 6 & 840873/Formal Languages  & 1 & 33 & 5\\\\\n",
       "\\end{tabular}\n"
      ],
      "text/markdown": [
       "\n",
       "A tibble: 6 × 5\n",
       "\n",
       "| X &lt;int&gt; | exam &lt;chr&gt; | attempt &lt;int&gt; | score &lt;int&gt; | grade &lt;dbl&gt; |\n",
       "|---|---|---|---|---|\n",
       "| 1 | 516647/Mathematics       | 1 | 75 | 3 |\n",
       "| 2 | 193841/Data Bases        | 2 | 49 | 5 |\n",
       "| 3 | 326761/Computer Networks | 2 | 75 | 3 |\n",
       "| 4 | 230275/Data Bases        | 1 | 73 | 3 |\n",
       "| 5 | 911920/OOP               | 1 | 55 | 4 |\n",
       "| 6 | 840873/Formal Languages  | 1 | 33 | 5 |\n",
       "\n"
      ],
      "text/plain": [
       "  X exam                     attempt score grade\n",
       "1 1 516647/Mathematics       1       75    3    \n",
       "2 2 193841/Data Bases        2       49    5    \n",
       "3 3 326761/Computer Networks 2       75    3    \n",
       "4 4 230275/Data Bases        1       73    3    \n",
       "5 5 911920/OOP               1       55    4    \n",
       "6 6 840873/Formal Languages  1       33    5    "
      ]
     },
     "metadata": {},
     "output_type": "display_data"
    }
   ],
   "source": [
    "df %>% mutate(\n",
    "    grade=case_when(\n",
    "        score<50~5,\n",
    "        (score>=50 & score<65)~4,\n",
    "        (score>=65 & score<80)~3,\n",
    "        (score>=80 & score<90)~2,\n",
    "        score>=90~1\n",
    "    )\n",
    " )->df\n",
    "head(df)"
   ]
  },
  {
   "cell_type": "markdown",
   "id": "e0c22e1f",
   "metadata": {},
   "source": [
    "+ (d) Split the variable exam into 2 columns containing the matriculation number and the exam subject"
   ]
  },
  {
   "cell_type": "code",
   "execution_count": 16,
   "id": "3ab227c7",
   "metadata": {
    "scrolled": true
   },
   "outputs": [
    {
     "data": {
      "text/html": [
       "<table class=\"dataframe\">\n",
       "<caption>A tibble: 6 × 6</caption>\n",
       "<thead>\n",
       "\t<tr><th scope=col>X</th><th scope=col>mat.nr</th><th scope=col>subject</th><th scope=col>attempt</th><th scope=col>score</th><th scope=col>grade</th></tr>\n",
       "\t<tr><th scope=col>&lt;int&gt;</th><th scope=col>&lt;chr&gt;</th><th scope=col>&lt;chr&gt;</th><th scope=col>&lt;int&gt;</th><th scope=col>&lt;int&gt;</th><th scope=col>&lt;dbl&gt;</th></tr>\n",
       "</thead>\n",
       "<tbody>\n",
       "\t<tr><td>1</td><td>516647</td><td>Mathematics      </td><td>1</td><td>75</td><td>3</td></tr>\n",
       "\t<tr><td>2</td><td>193841</td><td>Data Bases       </td><td>2</td><td>49</td><td>5</td></tr>\n",
       "\t<tr><td>3</td><td>326761</td><td>Computer Networks</td><td>2</td><td>75</td><td>3</td></tr>\n",
       "\t<tr><td>4</td><td>230275</td><td>Data Bases       </td><td>1</td><td>73</td><td>3</td></tr>\n",
       "\t<tr><td>5</td><td>911920</td><td>OOP              </td><td>1</td><td>55</td><td>4</td></tr>\n",
       "\t<tr><td>6</td><td>840873</td><td>Formal Languages </td><td>1</td><td>33</td><td>5</td></tr>\n",
       "</tbody>\n",
       "</table>\n"
      ],
      "text/latex": [
       "A tibble: 6 × 6\n",
       "\\begin{tabular}{llllll}\n",
       " X & mat.nr & subject & attempt & score & grade\\\\\n",
       " <int> & <chr> & <chr> & <int> & <int> & <dbl>\\\\\n",
       "\\hline\n",
       "\t 1 & 516647 & Mathematics       & 1 & 75 & 3\\\\\n",
       "\t 2 & 193841 & Data Bases        & 2 & 49 & 5\\\\\n",
       "\t 3 & 326761 & Computer Networks & 2 & 75 & 3\\\\\n",
       "\t 4 & 230275 & Data Bases        & 1 & 73 & 3\\\\\n",
       "\t 5 & 911920 & OOP               & 1 & 55 & 4\\\\\n",
       "\t 6 & 840873 & Formal Languages  & 1 & 33 & 5\\\\\n",
       "\\end{tabular}\n"
      ],
      "text/markdown": [
       "\n",
       "A tibble: 6 × 6\n",
       "\n",
       "| X &lt;int&gt; | mat.nr &lt;chr&gt; | subject &lt;chr&gt; | attempt &lt;int&gt; | score &lt;int&gt; | grade &lt;dbl&gt; |\n",
       "|---|---|---|---|---|---|\n",
       "| 1 | 516647 | Mathematics       | 1 | 75 | 3 |\n",
       "| 2 | 193841 | Data Bases        | 2 | 49 | 5 |\n",
       "| 3 | 326761 | Computer Networks | 2 | 75 | 3 |\n",
       "| 4 | 230275 | Data Bases        | 1 | 73 | 3 |\n",
       "| 5 | 911920 | OOP               | 1 | 55 | 4 |\n",
       "| 6 | 840873 | Formal Languages  | 1 | 33 | 5 |\n",
       "\n"
      ],
      "text/plain": [
       "  X mat.nr subject           attempt score grade\n",
       "1 1 516647 Mathematics       1       75    3    \n",
       "2 2 193841 Data Bases        2       49    5    \n",
       "3 3 326761 Computer Networks 2       75    3    \n",
       "4 4 230275 Data Bases        1       73    3    \n",
       "5 5 911920 OOP               1       55    4    \n",
       "6 6 840873 Formal Languages  1       33    5    "
      ]
     },
     "metadata": {},
     "output_type": "display_data"
    }
   ],
   "source": [
    "df %>% separate(col = exam,into = c('mat.nr','subject'),sep = '/')->df\n",
    "head(df)"
   ]
  },
  {
   "cell_type": "markdown",
   "id": "ad5f4199",
   "metadata": {},
   "source": [
    "+ (e) Determine the total number of tests in each exam and the number\n",
    "   of students participating"
   ]
  },
  {
   "cell_type": "code",
   "execution_count": 38,
   "id": "83cbbc9b",
   "metadata": {
    "scrolled": true
   },
   "outputs": [
    {
     "data": {
      "text/html": [
       "<table class=\"dataframe\">\n",
       "<caption>A tibble: 6 × 2</caption>\n",
       "<thead>\n",
       "\t<tr><th scope=col>subject</th><th scope=col>num_of_exam</th></tr>\n",
       "\t<tr><th scope=col>&lt;chr&gt;</th><th scope=col>&lt;int&gt;</th></tr>\n",
       "</thead>\n",
       "<tbody>\n",
       "\t<tr><td>Computer Networks   </td><td>186</td></tr>\n",
       "\t<tr><td>Data Bases          </td><td>190</td></tr>\n",
       "\t<tr><td>Formal Languages    </td><td>190</td></tr>\n",
       "\t<tr><td>Mathematics         </td><td>185</td></tr>\n",
       "\t<tr><td>OOP                 </td><td>196</td></tr>\n",
       "\t<tr><td>Software Engineering</td><td>190</td></tr>\n",
       "</tbody>\n",
       "</table>\n"
      ],
      "text/latex": [
       "A tibble: 6 × 2\n",
       "\\begin{tabular}{ll}\n",
       " subject & num\\_of\\_exam\\\\\n",
       " <chr> & <int>\\\\\n",
       "\\hline\n",
       "\t Computer Networks    & 186\\\\\n",
       "\t Data Bases           & 190\\\\\n",
       "\t Formal Languages     & 190\\\\\n",
       "\t Mathematics          & 185\\\\\n",
       "\t OOP                  & 196\\\\\n",
       "\t Software Engineering & 190\\\\\n",
       "\\end{tabular}\n"
      ],
      "text/markdown": [
       "\n",
       "A tibble: 6 × 2\n",
       "\n",
       "| subject &lt;chr&gt; | num_of_exam &lt;int&gt; |\n",
       "|---|---|\n",
       "| Computer Networks    | 186 |\n",
       "| Data Bases           | 190 |\n",
       "| Formal Languages     | 190 |\n",
       "| Mathematics          | 185 |\n",
       "| OOP                  | 196 |\n",
       "| Software Engineering | 190 |\n",
       "\n"
      ],
      "text/plain": [
       "  subject              num_of_exam\n",
       "1 Computer Networks    186        \n",
       "2 Data Bases           190        \n",
       "3 Formal Languages     190        \n",
       "4 Mathematics          185        \n",
       "5 OOP                  196        \n",
       "6 Software Engineering 190        "
      ]
     },
     "metadata": {},
     "output_type": "display_data"
    }
   ],
   "source": [
    "## total number of tests in each exam\n",
    "df %>% group_by(subject) %>% summarise(num_of_exam=n()) "
   ]
  },
  {
   "cell_type": "code",
   "execution_count": 55,
   "id": "b5b70eb7",
   "metadata": {},
   "outputs": [
    {
     "data": {
      "text/html": [
       "243"
      ],
      "text/latex": [
       "243"
      ],
      "text/markdown": [
       "243"
      ],
      "text/plain": [
       "[1] 243"
      ]
     },
     "metadata": {},
     "output_type": "display_data"
    }
   ],
   "source": [
    "## total number of students\n",
    "df %>% select(mat.nr) %>% unique() %>% dim() ->dim\n",
    "dim[1]"
   ]
  },
  {
   "cell_type": "code",
   "execution_count": 17,
   "id": "a6e02b5b",
   "metadata": {
    "scrolled": true
   },
   "outputs": [
    {
     "name": "stdout",
     "output_type": "stream",
     "text": [
      "tibble [1,137 × 6] (S3: tbl_df/tbl/data.frame)\n",
      " $ X      : int [1:1137] 1 2 3 4 5 6 7 8 9 10 ...\n",
      " $ mat.nr : chr [1:1137] \"516647\" \"193841\" \"326761\" \"230275\" ...\n",
      " $ subject: chr [1:1137] \"Mathematics\" \"Data Bases\" \"Computer Networks\" \"Data Bases\" ...\n",
      " $ attempt: int [1:1137] 1 2 2 1 1 1 2 2 2 1 ...\n",
      " $ score  : int [1:1137] 75 49 75 73 55 33 56 102 26 67 ...\n",
      " $ grade  : num [1:1137] 3 5 3 3 4 5 4 1 5 3 ...\n"
     ]
    }
   ],
   "source": [
    "str(df)"
   ]
  },
  {
   "cell_type": "code",
   "execution_count": 18,
   "id": "64d04118",
   "metadata": {
    "scrolled": true
   },
   "outputs": [
    {
     "data": {
      "text/html": [
       "<style>\n",
       ".list-inline {list-style: none; margin:0; padding: 0}\n",
       ".list-inline>li {display: inline-block}\n",
       ".list-inline>li:not(:last-child)::after {content: \"\\00b7\"; padding: 0 .5ex}\n",
       "</style>\n",
       "<ol class=list-inline><li>'Mathematics'</li><li>'Data Bases'</li><li>'Computer Networks'</li><li>'OOP'</li><li>'Formal Languages'</li><li>'Software Engineering'</li></ol>\n"
      ],
      "text/latex": [
       "\\begin{enumerate*}\n",
       "\\item 'Mathematics'\n",
       "\\item 'Data Bases'\n",
       "\\item 'Computer Networks'\n",
       "\\item 'OOP'\n",
       "\\item 'Formal Languages'\n",
       "\\item 'Software Engineering'\n",
       "\\end{enumerate*}\n"
      ],
      "text/markdown": [
       "1. 'Mathematics'\n",
       "2. 'Data Bases'\n",
       "3. 'Computer Networks'\n",
       "4. 'OOP'\n",
       "5. 'Formal Languages'\n",
       "6. 'Software Engineering'\n",
       "\n",
       "\n"
      ],
      "text/plain": [
       "[1] \"Mathematics\"          \"Data Bases\"           \"Computer Networks\"   \n",
       "[4] \"OOP\"                  \"Formal Languages\"     \"Software Engineering\""
      ]
     },
     "metadata": {},
     "output_type": "display_data"
    }
   ],
   "source": [
    "df$subject %>% unique()"
   ]
  },
  {
   "cell_type": "code",
   "execution_count": 19,
   "id": "e826431f",
   "metadata": {
    "scrolled": true
   },
   "outputs": [
    {
     "data": {
      "text/html": [
       "<style>\n",
       ".list-inline {list-style: none; margin:0; padding: 0}\n",
       ".list-inline>li {display: inline-block}\n",
       ".list-inline>li:not(:last-child)::after {content: \"\\00b7\"; padding: 0 .5ex}\n",
       "</style>\n",
       "<ol class=list-inline><li>1</li><li>2</li><li>3</li></ol>\n"
      ],
      "text/latex": [
       "\\begin{enumerate*}\n",
       "\\item 1\n",
       "\\item 2\n",
       "\\item 3\n",
       "\\end{enumerate*}\n"
      ],
      "text/markdown": [
       "1. 1\n",
       "2. 2\n",
       "3. 3\n",
       "\n",
       "\n"
      ],
      "text/plain": [
       "[1] 1 2 3"
      ]
     },
     "metadata": {},
     "output_type": "display_data"
    }
   ],
   "source": [
    "df$attempt %>% unique()"
   ]
  },
  {
   "cell_type": "code",
   "execution_count": 26,
   "id": "492f5ac5",
   "metadata": {
    "scrolled": true
   },
   "outputs": [
    {
     "data": {
      "text/html": [
       "243"
      ],
      "text/latex": [
       "243"
      ],
      "text/markdown": [
       "243"
      ],
      "text/plain": [
       "[1] 243"
      ]
     },
     "metadata": {},
     "output_type": "display_data"
    },
    {
     "data": {
      "text/html": [
       "1137"
      ],
      "text/latex": [
       "1137"
      ],
      "text/markdown": [
       "1137"
      ],
      "text/plain": [
       "[1] 1137"
      ]
     },
     "metadata": {},
     "output_type": "display_data"
    }
   ],
   "source": [
    "df$mat.nr %>% unique() %>% length(); length(df$mat.nr)"
   ]
  },
  {
   "cell_type": "markdown",
   "id": "b1cbccbf",
   "metadata": {},
   "source": [
    "+ (f) For each subject, determine the absolute frequencies of the grades\n",
    "and store the result in a tibble with the variables grade, Computer\n",
    "Networks, Data Bases, Formal Languages, Mathematics, OOP and\n",
    "Software Engineering."
   ]
  },
  {
   "cell_type": "code",
   "execution_count": 60,
   "id": "faddab5d",
   "metadata": {
    "scrolled": true
   },
   "outputs": [
    {
     "name": "stderr",
     "output_type": "stream",
     "text": [
      "\u001b[1m\u001b[22m`summarise()` has grouped output by 'grade'. You can override using the `.groups` argument.\n"
     ]
    },
    {
     "data": {
      "text/html": [
       "<table class=\"dataframe\">\n",
       "<caption>A grouped_df: 5 × 7</caption>\n",
       "<thead>\n",
       "\t<tr><th scope=col>grade</th><th scope=col>Computer Networks</th><th scope=col>Data Bases</th><th scope=col>Formal Languages</th><th scope=col>Mathematics</th><th scope=col>OOP</th><th scope=col>Software Engineering</th></tr>\n",
       "\t<tr><th scope=col>&lt;dbl&gt;</th><th scope=col>&lt;int&gt;</th><th scope=col>&lt;int&gt;</th><th scope=col>&lt;int&gt;</th><th scope=col>&lt;int&gt;</th><th scope=col>&lt;int&gt;</th><th scope=col>&lt;int&gt;</th></tr>\n",
       "</thead>\n",
       "<tbody>\n",
       "\t<tr><td>1</td><td> 6</td><td>10</td><td> 4</td><td> 4</td><td> 4</td><td> 1</td></tr>\n",
       "\t<tr><td>2</td><td> 8</td><td>12</td><td> 6</td><td>16</td><td>15</td><td>19</td></tr>\n",
       "\t<tr><td>3</td><td>58</td><td>46</td><td>57</td><td>43</td><td>62</td><td>57</td></tr>\n",
       "\t<tr><td>4</td><td>53</td><td>69</td><td>75</td><td>72</td><td>69</td><td>76</td></tr>\n",
       "\t<tr><td>5</td><td>61</td><td>53</td><td>48</td><td>50</td><td>46</td><td>37</td></tr>\n",
       "</tbody>\n",
       "</table>\n"
      ],
      "text/latex": [
       "A grouped\\_df: 5 × 7\n",
       "\\begin{tabular}{lllllll}\n",
       " grade & Computer Networks & Data Bases & Formal Languages & Mathematics & OOP & Software Engineering\\\\\n",
       " <dbl> & <int> & <int> & <int> & <int> & <int> & <int>\\\\\n",
       "\\hline\n",
       "\t 1 &  6 & 10 &  4 &  4 &  4 &  1\\\\\n",
       "\t 2 &  8 & 12 &  6 & 16 & 15 & 19\\\\\n",
       "\t 3 & 58 & 46 & 57 & 43 & 62 & 57\\\\\n",
       "\t 4 & 53 & 69 & 75 & 72 & 69 & 76\\\\\n",
       "\t 5 & 61 & 53 & 48 & 50 & 46 & 37\\\\\n",
       "\\end{tabular}\n"
      ],
      "text/markdown": [
       "\n",
       "A grouped_df: 5 × 7\n",
       "\n",
       "| grade &lt;dbl&gt; | Computer Networks &lt;int&gt; | Data Bases &lt;int&gt; | Formal Languages &lt;int&gt; | Mathematics &lt;int&gt; | OOP &lt;int&gt; | Software Engineering &lt;int&gt; |\n",
       "|---|---|---|---|---|---|---|\n",
       "| 1 |  6 | 10 |  4 |  4 |  4 |  1 |\n",
       "| 2 |  8 | 12 |  6 | 16 | 15 | 19 |\n",
       "| 3 | 58 | 46 | 57 | 43 | 62 | 57 |\n",
       "| 4 | 53 | 69 | 75 | 72 | 69 | 76 |\n",
       "| 5 | 61 | 53 | 48 | 50 | 46 | 37 |\n",
       "\n"
      ],
      "text/plain": [
       "  grade Computer Networks Data Bases Formal Languages Mathematics OOP\n",
       "1 1      6                10          4                4           4 \n",
       "2 2      8                12          6               16          15 \n",
       "3 3     58                46         57               43          62 \n",
       "4 4     53                69         75               72          69 \n",
       "5 5     61                53         48               50          46 \n",
       "  Software Engineering\n",
       "1  1                  \n",
       "2 19                  \n",
       "3 57                  \n",
       "4 76                  \n",
       "5 37                  "
      ]
     },
     "metadata": {},
     "output_type": "display_data"
    }
   ],
   "source": [
    "df %>% group_by(grade,subject) %>% summarise(count=n()) %>% spread(key = subject,value = count)"
   ]
  },
  {
   "cell_type": "markdown",
   "id": "b8f6a634",
   "metadata": {},
   "source": [
    "+ (g) For each subject, determine the minimum, maximum, the three\n",
    "  quartiles, the mean of the variable score, the number of participants and the dropout rates."
   ]
  },
  {
   "cell_type": "code",
   "execution_count": 67,
   "id": "7edaab44",
   "metadata": {
    "scrolled": true
   },
   "outputs": [
    {
     "data": {
      "text/html": [
       "<table class=\"dataframe\">\n",
       "<caption>A tibble: 6 × 9</caption>\n",
       "<thead>\n",
       "\t<tr><th scope=col>subject</th><th scope=col>min</th><th scope=col>max</th><th scope=col>q1</th><th scope=col>q2</th><th scope=col>q3</th><th scope=col>mean</th><th scope=col>n</th><th scope=col>drop_out_rate</th></tr>\n",
       "\t<tr><th scope=col>&lt;chr&gt;</th><th scope=col>&lt;int&gt;</th><th scope=col>&lt;int&gt;</th><th scope=col>&lt;dbl&gt;</th><th scope=col>&lt;dbl&gt;</th><th scope=col>&lt;dbl&gt;</th><th scope=col>&lt;dbl&gt;</th><th scope=col>&lt;int&gt;</th><th scope=col>&lt;dbl&gt;</th></tr>\n",
       "</thead>\n",
       "<tbody>\n",
       "\t<tr><td>Computer Networks   </td><td>29</td><td>108</td><td>48.00</td><td>60.0</td><td>70.75</td><td>59.41398</td><td>186</td><td>0.6720430</td></tr>\n",
       "\t<tr><td>Data Bases          </td><td> 9</td><td> 95</td><td>49.00</td><td>59.5</td><td>71.00</td><td>60.31579</td><td>190</td><td>0.7210526</td></tr>\n",
       "\t<tr><td>Formal Languages    </td><td>18</td><td> 97</td><td>49.25</td><td>59.0</td><td>68.00</td><td>58.90000</td><td>190</td><td>0.7473684</td></tr>\n",
       "\t<tr><td>Mathematics         </td><td>19</td><td>102</td><td>49.00</td><td>57.0</td><td>70.00</td><td>58.61622</td><td>185</td><td>0.7297297</td></tr>\n",
       "\t<tr><td>OOP                 </td><td>22</td><td>102</td><td>50.00</td><td>61.0</td><td>69.00</td><td>60.34694</td><td>196</td><td>0.7653061</td></tr>\n",
       "\t<tr><td>Software Engineering</td><td>24</td><td> 94</td><td>52.00</td><td>60.0</td><td>71.75</td><td>61.15263</td><td>190</td><td>0.8052632</td></tr>\n",
       "</tbody>\n",
       "</table>\n"
      ],
      "text/latex": [
       "A tibble: 6 × 9\n",
       "\\begin{tabular}{lllllllll}\n",
       " subject & min & max & q1 & q2 & q3 & mean & n & drop\\_out\\_rate\\\\\n",
       " <chr> & <int> & <int> & <dbl> & <dbl> & <dbl> & <dbl> & <int> & <dbl>\\\\\n",
       "\\hline\n",
       "\t Computer Networks    & 29 & 108 & 48.00 & 60.0 & 70.75 & 59.41398 & 186 & 0.6720430\\\\\n",
       "\t Data Bases           &  9 &  95 & 49.00 & 59.5 & 71.00 & 60.31579 & 190 & 0.7210526\\\\\n",
       "\t Formal Languages     & 18 &  97 & 49.25 & 59.0 & 68.00 & 58.90000 & 190 & 0.7473684\\\\\n",
       "\t Mathematics          & 19 & 102 & 49.00 & 57.0 & 70.00 & 58.61622 & 185 & 0.7297297\\\\\n",
       "\t OOP                  & 22 & 102 & 50.00 & 61.0 & 69.00 & 60.34694 & 196 & 0.7653061\\\\\n",
       "\t Software Engineering & 24 &  94 & 52.00 & 60.0 & 71.75 & 61.15263 & 190 & 0.8052632\\\\\n",
       "\\end{tabular}\n"
      ],
      "text/markdown": [
       "\n",
       "A tibble: 6 × 9\n",
       "\n",
       "| subject &lt;chr&gt; | min &lt;int&gt; | max &lt;int&gt; | q1 &lt;dbl&gt; | q2 &lt;dbl&gt; | q3 &lt;dbl&gt; | mean &lt;dbl&gt; | n &lt;int&gt; | drop_out_rate &lt;dbl&gt; |\n",
       "|---|---|---|---|---|---|---|---|---|\n",
       "| Computer Networks    | 29 | 108 | 48.00 | 60.0 | 70.75 | 59.41398 | 186 | 0.6720430 |\n",
       "| Data Bases           |  9 |  95 | 49.00 | 59.5 | 71.00 | 60.31579 | 190 | 0.7210526 |\n",
       "| Formal Languages     | 18 |  97 | 49.25 | 59.0 | 68.00 | 58.90000 | 190 | 0.7473684 |\n",
       "| Mathematics          | 19 | 102 | 49.00 | 57.0 | 70.00 | 58.61622 | 185 | 0.7297297 |\n",
       "| OOP                  | 22 | 102 | 50.00 | 61.0 | 69.00 | 60.34694 | 196 | 0.7653061 |\n",
       "| Software Engineering | 24 |  94 | 52.00 | 60.0 | 71.75 | 61.15263 | 190 | 0.8052632 |\n",
       "\n"
      ],
      "text/plain": [
       "  subject              min max q1    q2   q3    mean     n   drop_out_rate\n",
       "1 Computer Networks    29  108 48.00 60.0 70.75 59.41398 186 0.6720430    \n",
       "2 Data Bases            9   95 49.00 59.5 71.00 60.31579 190 0.7210526    \n",
       "3 Formal Languages     18   97 49.25 59.0 68.00 58.90000 190 0.7473684    \n",
       "4 Mathematics          19  102 49.00 57.0 70.00 58.61622 185 0.7297297    \n",
       "5 OOP                  22  102 50.00 61.0 69.00 60.34694 196 0.7653061    \n",
       "6 Software Engineering 24   94 52.00 60.0 71.75 61.15263 190 0.8052632    "
      ]
     },
     "metadata": {},
     "output_type": "display_data"
    }
   ],
   "source": [
    "df %>% mutate(fail=if_else(grade<=4,1,0)) %>% group_by(subject) %>% summarise( \n",
    "      min=min(score),\n",
    "      max=max(score),\n",
    "      q1=quantile(score,0.25),\n",
    "      q2=quantile(score,0.5),\n",
    "      q3=quantile(score,0.75),\n",
    "      mean=mean(score),\n",
    "      n=n(),\n",
    "      drop_out_rate=sum(fail)/n\n",
    "      \n",
    ")"
   ]
  },
  {
   "cell_type": "markdown",
   "id": "81a20bca",
   "metadata": {},
   "source": [
    "+ (h) Create side by side boxplots of the score for each subject and\n",
    "   interpret the results"
   ]
  },
  {
   "cell_type": "code",
   "execution_count": 70,
   "id": "95c0773d",
   "metadata": {
    "scrolled": true
   },
   "outputs": [
    {
     "data": {
      "image/png": "[encoded data removed]",
      "text/plain": [
       "plot without title"
      ]
     },
     "metadata": {
      "image/png": {
       "height": 420,
       "width": 420
      }
     },
     "output_type": "display_data"
    }
   ],
   "source": [
    "boxplot(df$score~df$subject,horizontal = T,xlab = 'score',ylab='subjects')"
   ]
  },
  {
   "cell_type": "markdown",
   "id": "8c54fb96",
   "metadata": {},
   "source": [
    "+ (i) Determine the contingency table of the variables attempt and grade and determine the indifference table and     chi-square value.."
   ]
  },
  {
   "cell_type": "code",
   "execution_count": 75,
   "id": "47e4d7b1",
   "metadata": {
    "scrolled": true
   },
   "outputs": [
    {
     "data": {
      "text/html": [
       "<table class=\"dataframe\">\n",
       "<caption>A table: 4 × 6 of type dbl</caption>\n",
       "<thead>\n",
       "\t<tr><th></th><th scope=col>1</th><th scope=col>2</th><th scope=col>3</th><th scope=col>4</th><th scope=col>5</th><th scope=col>Sum</th></tr>\n",
       "</thead>\n",
       "<tbody>\n",
       "\t<tr><th scope=row>1</th><td>14</td><td>49</td><td>206</td><td>226</td><td>184</td><td> 679</td></tr>\n",
       "\t<tr><th scope=row>2</th><td>14</td><td>21</td><td> 84</td><td>142</td><td> 84</td><td> 345</td></tr>\n",
       "\t<tr><th scope=row>3</th><td> 1</td><td> 6</td><td> 33</td><td> 46</td><td> 27</td><td> 113</td></tr>\n",
       "\t<tr><th scope=row>Sum</th><td>29</td><td>76</td><td>323</td><td>414</td><td>295</td><td>1137</td></tr>\n",
       "</tbody>\n",
       "</table>\n"
      ],
      "text/latex": [
       "A table: 4 × 6 of type dbl\n",
       "\\begin{tabular}{r|llllll}\n",
       "  & 1 & 2 & 3 & 4 & 5 & Sum\\\\\n",
       "\\hline\n",
       "\t1 & 14 & 49 & 206 & 226 & 184 &  679\\\\\n",
       "\t2 & 14 & 21 &  84 & 142 &  84 &  345\\\\\n",
       "\t3 &  1 &  6 &  33 &  46 &  27 &  113\\\\\n",
       "\tSum & 29 & 76 & 323 & 414 & 295 & 1137\\\\\n",
       "\\end{tabular}\n"
      ],
      "text/markdown": [
       "\n",
       "A table: 4 × 6 of type dbl\n",
       "\n",
       "| <!--/--> | 1 | 2 | 3 | 4 | 5 | Sum |\n",
       "|---|---|---|---|---|---|---|\n",
       "| 1 | 14 | 49 | 206 | 226 | 184 |  679 |\n",
       "| 2 | 14 | 21 |  84 | 142 |  84 |  345 |\n",
       "| 3 |  1 |  6 |  33 |  46 |  27 |  113 |\n",
       "| Sum | 29 | 76 | 323 | 414 | 295 | 1137 |\n",
       "\n"
      ],
      "text/plain": [
       "     \n",
       "      1  2  3   4   5   Sum \n",
       "  1   14 49 206 226 184  679\n",
       "  2   14 21  84 142  84  345\n",
       "  3    1  6  33  46  27  113\n",
       "  Sum 29 76 323 414 295 1137"
      ]
     },
     "metadata": {},
     "output_type": "display_data"
    }
   ],
   "source": [
    "# con table\n",
    "table(df$attempt,df$grade) %>% addmargins()"
   ]
  },
  {
   "cell_type": "code",
   "execution_count": 83,
   "id": "d4a814ca",
   "metadata": {
    "scrolled": true
   },
   "outputs": [
    {
     "name": "stderr",
     "output_type": "stream",
     "text": [
      "Warning message in chisq.test(df$attempt, df$grade):\n",
      "“Chi-squared approximation may be incorrect”\n"
     ]
    },
    {
     "data": {
      "text/html": [
       "<strong>X-squared:</strong> 14.0512358182684"
      ],
      "text/latex": [
       "\\textbf{X-squared:} 14.0512358182684"
      ],
      "text/markdown": [
       "**X-squared:** 14.0512358182684"
      ],
      "text/plain": [
       "X-squared \n",
       " 14.05124 "
      ]
     },
     "metadata": {},
     "output_type": "display_data"
    }
   ],
   "source": [
    "# chi.sq\n",
    "test.result<-chisq.test(df$attempt,df$grade)\n",
    "test.result$statistic"
   ]
  },
  {
   "cell_type": "code",
   "execution_count": 85,
   "id": "a4c0bbba",
   "metadata": {
    "scrolled": true
   },
   "outputs": [
    {
     "data": {
      "text/html": [
       "<table class=\"dataframe\">\n",
       "<caption>A matrix: 4 × 6 of type dbl</caption>\n",
       "<thead>\n",
       "\t<tr><th></th><th scope=col>1</th><th scope=col>2</th><th scope=col>3</th><th scope=col>4</th><th scope=col>5</th><th scope=col>Sum</th></tr>\n",
       "</thead>\n",
       "<tbody>\n",
       "\t<tr><th scope=row>1</th><td>17.318382</td><td>45.38610</td><td>192.89094</td><td>247.23483</td><td>176.16974</td><td> 679</td></tr>\n",
       "\t<tr><th scope=row>2</th><td> 8.799472</td><td>23.06069</td><td> 98.00792</td><td>125.62005</td><td> 89.51187</td><td> 345</td></tr>\n",
       "\t<tr><th scope=row>3</th><td> 2.882146</td><td> 7.55321</td><td> 32.10114</td><td> 41.14512</td><td> 29.31838</td><td> 113</td></tr>\n",
       "\t<tr><th scope=row>Sum</th><td>29.000000</td><td>76.00000</td><td>323.00000</td><td>414.00000</td><td>295.00000</td><td>1137</td></tr>\n",
       "</tbody>\n",
       "</table>\n"
      ],
      "text/latex": [
       "A matrix: 4 × 6 of type dbl\n",
       "\\begin{tabular}{r|llllll}\n",
       "  & 1 & 2 & 3 & 4 & 5 & Sum\\\\\n",
       "\\hline\n",
       "\t1 & 17.318382 & 45.38610 & 192.89094 & 247.23483 & 176.16974 &  679\\\\\n",
       "\t2 &  8.799472 & 23.06069 &  98.00792 & 125.62005 &  89.51187 &  345\\\\\n",
       "\t3 &  2.882146 &  7.55321 &  32.10114 &  41.14512 &  29.31838 &  113\\\\\n",
       "\tSum & 29.000000 & 76.00000 & 323.00000 & 414.00000 & 295.00000 & 1137\\\\\n",
       "\\end{tabular}\n"
      ],
      "text/markdown": [
       "\n",
       "A matrix: 4 × 6 of type dbl\n",
       "\n",
       "| <!--/--> | 1 | 2 | 3 | 4 | 5 | Sum |\n",
       "|---|---|---|---|---|---|---|\n",
       "| 1 | 17.318382 | 45.38610 | 192.89094 | 247.23483 | 176.16974 |  679 |\n",
       "| 2 |  8.799472 | 23.06069 |  98.00792 | 125.62005 |  89.51187 |  345 |\n",
       "| 3 |  2.882146 |  7.55321 |  32.10114 |  41.14512 |  29.31838 |  113 |\n",
       "| Sum | 29.000000 | 76.00000 | 323.00000 | 414.00000 | 295.00000 | 1137 |\n",
       "\n"
      ],
      "text/plain": [
       "          df$grade\n",
       "df$attempt 1         2        3         4         5         Sum \n",
       "       1   17.318382 45.38610 192.89094 247.23483 176.16974  679\n",
       "       2    8.799472 23.06069  98.00792 125.62005  89.51187  345\n",
       "       3    2.882146  7.55321  32.10114  41.14512  29.31838  113\n",
       "       Sum 29.000000 76.00000 323.00000 414.00000 295.00000 1137"
      ]
     },
     "metadata": {},
     "output_type": "display_data"
    }
   ],
   "source": [
    "test.result$expected %>% addmargins()"
   ]
  },
  {
   "cell_type": "markdown",
   "id": "da4c3548",
   "metadata": {},
   "source": [
    "\n",
    "<h1 style=\"color:blue;text-align:center\">Probability</h1>"
   ]
  },
  {
   "cell_type": "markdown",
   "id": "487d60e2",
   "metadata": {},
   "source": [
    "+ 3. The weight of bags of grain can be assumed to be a random variable\n",
    "    with expected value 50 kg and standard deviation 2 kg. The price for\n",
    "    one kilogram grain, which a farmer achieves, is 0.53 Euro per kg. 300\n",
    "    bags of grain fit into a truck. Let X be the price a farmer can obtain\n",
    "    for a fully loaded truck.\n",
    "    You can assume that the weights of bags are independent and identically distributed random variables."
   ]
  },
  {
   "cell_type": "markdown",
   "id": "fd8117fd",
   "metadata": {},
   "source": [
    "+ (a) Determine an approximate distribution of the random variable X."
   ]
  },
  {
   "cell_type": "code",
   "execution_count": null,
   "id": "d83e4728",
   "metadata": {},
   "outputs": [],
   "source": [
    "# X ~ N(mu=50*0.53*300,sd=2*0.53*300) approximately normal distribution"
   ]
  },
  {
   "cell_type": "markdown",
   "id": "6771752d",
   "metadata": {},
   "source": [
    "+ (b) Find the probability that X is bigger than 8000 Euro."
   ]
  },
  {
   "cell_type": "code",
   "execution_count": 93,
   "id": "2f9cacc1",
   "metadata": {},
   "outputs": [
    {
     "data": {
      "text/html": [
       "0.3833609570603"
      ],
      "text/latex": [
       "0.3833609570603"
      ],
      "text/markdown": [
       "0.3833609570603"
      ],
      "text/plain": [
       "[1] 0.383361"
      ]
     },
     "metadata": {},
     "output_type": "display_data"
    }
   ],
   "source": [
    "mu<-50*0.53*300\n",
    "sd<-2*(0.53**2)*300\n",
    "1- pnorm(8000,mean=mu,sd=sd)"
   ]
  }
 ],
 "metadata": {
  "kernelspec": {
   "display_name": "R",
   "language": "R",
   "name": "ir"
  },
  "language_info": {
   "codemirror_mode": "r",
   "file_extension": ".r",
   "mimetype": "text/x-r-source",
   "name": "R",
   "pygments_lexer": "r",
   "version": "4.2.2"
  }
 },
 "nbformat": 4,
 "nbformat_minor": 5
}

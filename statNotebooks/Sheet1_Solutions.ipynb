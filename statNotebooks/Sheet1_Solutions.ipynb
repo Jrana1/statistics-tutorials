{
 "cells": [
  {
   "cell_type": "markdown",
   "id": "f712c845",
   "metadata": {},
   "source": [
    "<h1 style=\"color:green;text-align:center\">Basic terms and definitions</h1>"
   ]
  },
  {
   "cell_type": "markdown",
   "id": "fe027cee",
   "metadata": {},
   "source": [
    "**Qualitative** \n",
    "  + categorical(large, medium, small)\n",
    "  + non-numeric\n",
    "  + can not be sorted/ordered in a logical way\n",
    "  + **example** gender, eye color, religion\n",
    "  </br>\n",
    "\n",
    "  "
   ]
  },
  {
   "cell_type": "markdown",
   "id": "cd498e40",
   "metadata": {},
   "source": [
    "**Quantitative**\n",
    "  + can be measured in terms of numbers\n",
    "  + can be sorted in a logical way\n",
    "  + **example** age, height,width"
   ]
  },
  {
   "cell_type": "markdown",
   "id": "9463f79f",
   "metadata": {},
   "source": [
    "**Discrete**\n",
    "  + only a finite number of values\n",
    "  + can be counted\n",
    "  + **example** number of cats in a neighbourhood can be counted but can not be measured "
   ]
  },
  {
   "cell_type": "markdown",
   "id": "2e2c90d8",
   "metadata": {},
   "source": [
    "**Continuous**\n",
    "  + takes on any value in a certain range\n",
    "  + can be measured\n",
    "  + **example** speed of a car, width, len, tem"
   ]
  },
  {
   "cell_type": "markdown",
   "id": "1f2ceb68",
   "metadata": {},
   "source": [
    "**N.B** **Qualitative** variables are **Discrete** but **Quantitative** can be either **Discrete** or **Continuous**"
   ]
  },
  {
   "cell_type": "markdown",
   "id": "7808c398",
   "metadata": {},
   "source": [
    "**Level of measurement(Scales)**\n",
    "   + **Nominal** \n",
    "     + Qualitative/categorical\n",
    "     + order does no matter\n",
    "     + can't be sorted\n",
    "     + **example** Name, color, labels, gender\n",
    "   + **Ordinal**\n",
    "     + Ranking/Placement\n",
    "     + Order does matter\n",
    "     + Diff can not be measured\n",
    "     + **example** cgpa is ranked from 1-4, military rankings, consumer satisfication rankings\n",
    "   + **Interval**\n",
    "     + Order does matter\n",
    "     + Diff can be measured\n",
    "     + Ratio can not be measured\n",
    "     + No 'True' or 0 starting point\n",
    "     + **example** dates of events, Temp in Celsius\n",
    "   + **Ratio**\n",
    "     + Order does matter\n",
    "     + Diff can be measured\n",
    "     + Ratio can  be measured\n",
    "     + 'True' or 0 starting point\n",
    "     + **example** length, Temp in Kelvin,amount of money"
   ]
  },
  {
   "cell_type": "markdown",
   "id": "d8050f04",
   "metadata": {},
   "source": [
    "<h1 style=\"color:green;text-align:center\">Introduction to R and RStudio</h1>"
   ]
  },
  {
   "cell_type": "markdown",
   "id": "f330c19d",
   "metadata": {},
   "source": [
    "<h3 style=\"color:blue;text-align:center\">Exercise 1</h3>"
   ]
  },
  {
   "cell_type": "markdown",
   "id": "f09ac0cb",
   "metadata": {},
   "source": [
    "+ the sum of 52.3, 74.8, 3.17\n"
   ]
  },
  {
   "cell_type": "code",
   "execution_count": 2,
   "id": "fd466234",
   "metadata": {},
   "outputs": [
    {
     "data": {
      "text/html": [
       "130.27"
      ],
      "text/latex": [
       "130.27"
      ],
      "text/markdown": [
       "130.27"
      ],
      "text/plain": [
       "[1] 130.27"
      ]
     },
     "metadata": {},
     "output_type": "display_data"
    }
   ],
   "source": [
    " 52.3 + 74.8 + 3.17"
   ]
  },
  {
   "cell_type": "markdown",
   "id": "b82cc28a",
   "metadata": {},
   "source": [
    " ## Math functions in R  "
   ]
  },
  {
   "cell_type": "markdown",
   "id": "850eec5e",
   "metadata": {},
   "source": [
    "   + \n",
    "        + <code>abs()</code>: Compute the absolute value of a number.\n",
    "        + <code>sqrt()</code>: Calculate the square root of a number.\n",
    "        + <code>exp()</code>: Compute the exponential function, e^x.\n",
    "        + <code>log()</code>: Compute the natural logarithm (base e) of a number.\n",
    "        + <code>log10()</code>: Compute the base-10 logarithm of a number.\n",
    "        + <code>log2()</code>: Compute the base-2 logarithm of a number.\n",
    "        + <code>cos()</code>: Calculate the cosine of an angle in radians.\n",
    "        + <code>sin()</code>: Calculate the sine of an angle in radians.\n",
    "        + <code>tan()</code>: Calculate the tangent of an angle in radians.\n",
    "        + <code>acos()</code>: Calculate the arccosine (inverse cosine) of a value.\n",
    "        + <code>asin()</code>: Calculate the arcsine (inverse sine) of a value.\n",
    "        + <code>atan()</code>: Calculate the arctangent (inverse tangent) of a value.\n",
    "        + <code>atan2()</code>: Calculate the arctangent of y/x, taking both coordinates into account.\n",
    "        + <code>cospi()</code>: Calculate the cosine of an angle in degrees.\n",
    "        + <code>sinpi()</code>: Calculate the sine of an angle in degrees.\n",
    "        + <code>tanpi()</code>: Calculate the tangent of an angle in degrees.\n",
    "        + <code>floor()</code>: Round down to the nearest integer.\n",
    "        + <code>ceiling()</code>: Round up to the nearest integer.\n",
    "        + <code>round()</code>: Round to the nearest integer.\n",
    "        + <code>trunc()</code>: Truncate decimal parts (remove fractional part).\n",
    "        + <code>sign()</code>: Determine the sign of a number (positive, negative, or zero).\n",
    "        + <code>max()</code>: Find the maximum value in a vector or set of values.\n",
    "        + <code>min()</code>: Find the minimum value in a vector or set of values.\n",
    "        + <code>sum()</code>: Calculate the sum of all elements in a vector.\n",
    "        + <code>prod()</code>: Calculate the product of all elements in a vector.\n",
    "        + <code>mean()</code>: Calculate the mean (average) of a vector of values.\n",
    "        + <code>median()</code>: Calculate the median (middle value) of a vector.\n",
    "        + <code>var()</code>: Calculate the variance of a vector of values.\n",
    "        + <code>sd()</code>: Calculate the standard deviation of a vector of values.\n",
    "        + <code>cor()</code>: Calculate the correlation coefficient between two vectors.\n",
    "        + <code>cov()</code>: Calculate the covariance between two vectors.\n",
    "\n"
   ]
  },
  {
   "cell_type": "code",
   "execution_count": 3,
   "id": "aabd4bc5",
   "metadata": {},
   "outputs": [
    {
     "data": {
      "text/html": [
       "12"
      ],
      "text/latex": [
       "12"
      ],
      "text/markdown": [
       "12"
      ],
      "text/plain": [
       "[1] 12"
      ]
     },
     "metadata": {},
     "output_type": "display_data"
    }
   ],
   "source": [
    "# the square root of 144\n",
    "sqrt(144)"
   ]
  },
  {
   "cell_type": "code",
   "execution_count": 8,
   "id": "c77b0e27",
   "metadata": {},
   "outputs": [
    {
     "data": {
      "text/html": [
       "1"
      ],
      "text/latex": [
       "1"
      ],
      "text/markdown": [
       "1"
      ],
      "text/plain": [
       "[1] 1"
      ]
     },
     "metadata": {},
     "output_type": "display_data"
    }
   ],
   "source": [
    "# test\n",
    "sin(pi/2)"
   ]
  },
  {
   "cell_type": "code",
   "execution_count": 6,
   "id": "7359996c",
   "metadata": {},
   "outputs": [
    {
     "data": {
      "text/html": [
       "1.62707391364765"
      ],
      "text/latex": [
       "1.62707391364765"
      ],
      "text/markdown": [
       "1.62707391364765"
      ],
      "text/plain": [
       "[1] 1.627074"
      ]
     },
     "metadata": {},
     "output_type": "display_data"
    }
   ],
   "source": [
    "# the 10-based logarithm of 200 multiplied with sin of π/4\n",
    "log10(200)*sin((pi/4))"
   ]
  },
  {
   "cell_type": "code",
   "execution_count": 9,
   "id": "a8695a0d",
   "metadata": {},
   "outputs": [
    {
     "data": {
      "text/html": [
       "<style>\n",
       ".list-inline {list-style: none; margin:0; padding: 0}\n",
       ".list-inline>li {display: inline-block}\n",
       ".list-inline>li:not(:last-child)::after {content: \"\\00b7\"; padding: 0 .5ex}\n",
       "</style>\n",
       "<ol class=list-inline><li>1</li><li>4</li><li>22</li><li>42</li><li>44</li></ol>\n"
      ],
      "text/latex": [
       "\\begin{enumerate*}\n",
       "\\item 1\n",
       "\\item 4\n",
       "\\item 22\n",
       "\\item 42\n",
       "\\item 44\n",
       "\\end{enumerate*}\n"
      ],
      "text/markdown": [
       "1. 1\n",
       "2. 4\n",
       "3. 22\n",
       "4. 42\n",
       "5. 44\n",
       "\n",
       "\n"
      ],
      "text/plain": [
       "[1]  1  4 22 42 44"
      ]
     },
     "metadata": {},
     "output_type": "display_data"
    }
   ],
   "source": [
    "# the cumulative sum of the numbers 1,3,18,20,2 (use the cumsum() command)\n",
    "vec<-c(1,3,18,20,2)\n",
    "cumsum(vec)"
   ]
  },
  {
   "cell_type": "markdown",
   "id": "cfc24d7e",
   "metadata": {},
   "source": [
    "+ Find 10 numbers between 0 and 20 rounded to the nearest integer\n",
    "  value (hint use the command <code>sample()</code> or a combination of  the\n",
    "  commands <code>round()</code> and <code>runif()</code>"
   ]
  },
  {
   "cell_type": "markdown",
   "id": "d00b13e9",
   "metadata": {},
   "source": [
    " using <code>sample()</code>"
   ]
  },
  {
   "cell_type": "code",
   "execution_count": 21,
   "id": "6d7f9633",
   "metadata": {},
   "outputs": [
    {
     "data": {
      "text/html": [
       "<style>\n",
       ".list-inline {list-style: none; margin:0; padding: 0}\n",
       ".list-inline>li {display: inline-block}\n",
       ".list-inline>li:not(:last-child)::after {content: \"\\00b7\"; padding: 0 .5ex}\n",
       "</style>\n",
       "<ol class=list-inline><li>0</li><li>1</li><li>2</li><li>3</li><li>4</li><li>5</li><li>6</li><li>7</li><li>8</li><li>9</li><li>10</li><li>11</li><li>12</li><li>13</li><li>14</li><li>15</li><li>16</li><li>17</li><li>18</li><li>19</li><li>20</li></ol>\n"
      ],
      "text/latex": [
       "\\begin{enumerate*}\n",
       "\\item 0\n",
       "\\item 1\n",
       "\\item 2\n",
       "\\item 3\n",
       "\\item 4\n",
       "\\item 5\n",
       "\\item 6\n",
       "\\item 7\n",
       "\\item 8\n",
       "\\item 9\n",
       "\\item 10\n",
       "\\item 11\n",
       "\\item 12\n",
       "\\item 13\n",
       "\\item 14\n",
       "\\item 15\n",
       "\\item 16\n",
       "\\item 17\n",
       "\\item 18\n",
       "\\item 19\n",
       "\\item 20\n",
       "\\end{enumerate*}\n"
      ],
      "text/markdown": [
       "1. 0\n",
       "2. 1\n",
       "3. 2\n",
       "4. 3\n",
       "5. 4\n",
       "6. 5\n",
       "7. 6\n",
       "8. 7\n",
       "9. 8\n",
       "10. 9\n",
       "11. 10\n",
       "12. 11\n",
       "13. 12\n",
       "14. 13\n",
       "15. 14\n",
       "16. 15\n",
       "17. 16\n",
       "18. 17\n",
       "19. 18\n",
       "20. 19\n",
       "21. 20\n",
       "\n",
       "\n"
      ],
      "text/plain": [
       " [1]  0  1  2  3  4  5  6  7  8  9 10 11 12 13 14 15 16 17 18 19 20"
      ]
     },
     "metadata": {},
     "output_type": "display_data"
    }
   ],
   "source": [
    "c(0:20)"
   ]
  },
  {
   "cell_type": "code",
   "execution_count": 11,
   "id": "b1db3482",
   "metadata": {},
   "outputs": [
    {
     "data": {
      "text/html": [
       "<style>\n",
       ".list-inline {list-style: none; margin:0; padding: 0}\n",
       ".list-inline>li {display: inline-block}\n",
       ".list-inline>li:not(:last-child)::after {content: \"\\00b7\"; padding: 0 .5ex}\n",
       "</style>\n",
       "<ol class=list-inline><li>12</li><li>8</li><li>4</li><li>9</li><li>10</li><li>0</li><li>6</li><li>18</li><li>15</li><li>20</li></ol>\n"
      ],
      "text/latex": [
       "\\begin{enumerate*}\n",
       "\\item 12\n",
       "\\item 8\n",
       "\\item 4\n",
       "\\item 9\n",
       "\\item 10\n",
       "\\item 0\n",
       "\\item 6\n",
       "\\item 18\n",
       "\\item 15\n",
       "\\item 20\n",
       "\\end{enumerate*}\n"
      ],
      "text/markdown": [
       "1. 12\n",
       "2. 8\n",
       "3. 4\n",
       "4. 9\n",
       "5. 10\n",
       "6. 0\n",
       "7. 6\n",
       "8. 18\n",
       "9. 15\n",
       "10. 20\n",
       "\n",
       "\n"
      ],
      "text/plain": [
       " [1] 12  8  4  9 10  0  6 18 15 20"
      ]
     },
     "metadata": {},
     "output_type": "display_data"
    }
   ],
   "source": [
    "sample(x=c(0:20),size = 10,replace = F)"
   ]
  },
  {
   "cell_type": "markdown",
   "id": "c9d4a39f",
   "metadata": {},
   "source": [
    "using <code>runif()</code>"
   ]
  },
  {
   "cell_type": "code",
   "execution_count": 16,
   "id": "b8db91e5",
   "metadata": {
    "scrolled": true
   },
   "outputs": [
    {
     "data": {
      "text/html": [
       "<style>\n",
       ".list-inline {list-style: none; margin:0; padding: 0}\n",
       ".list-inline>li {display: inline-block}\n",
       ".list-inline>li:not(:last-child)::after {content: \"\\00b7\"; padding: 0 .5ex}\n",
       "</style>\n",
       "<ol class=list-inline><li>2.68411754164845</li><li>9.08004242694005</li><li>6.48323894012719</li><li>8.1227572564967</li><li>9.98008915688843</li><li>2.46913866372779</li><li>8.98737626615912</li><li>5.61209798557684</li><li>4.18034312548116</li><li>8.4738403884694</li></ol>\n"
      ],
      "text/latex": [
       "\\begin{enumerate*}\n",
       "\\item 2.68411754164845\n",
       "\\item 9.08004242694005\n",
       "\\item 6.48323894012719\n",
       "\\item 8.1227572564967\n",
       "\\item 9.98008915688843\n",
       "\\item 2.46913866372779\n",
       "\\item 8.98737626615912\n",
       "\\item 5.61209798557684\n",
       "\\item 4.18034312548116\n",
       "\\item 8.4738403884694\n",
       "\\end{enumerate*}\n"
      ],
      "text/markdown": [
       "1. 2.68411754164845\n",
       "2. 9.08004242694005\n",
       "3. 6.48323894012719\n",
       "4. 8.1227572564967\n",
       "5. 9.98008915688843\n",
       "6. 2.46913866372779\n",
       "7. 8.98737626615912\n",
       "8. 5.61209798557684\n",
       "9. 4.18034312548116\n",
       "10. 8.4738403884694\n",
       "\n",
       "\n"
      ],
      "text/plain": [
       " [1] 2.684118 9.080042 6.483239 8.122757 9.980089 2.469139 8.987376 5.612098\n",
       " [9] 4.180343 8.473840"
      ]
     },
     "metadata": {},
     "output_type": "display_data"
    }
   ],
   "source": [
    "sm<-runif(n=10,min = 0,max=10)\n",
    "sm"
   ]
  },
  {
   "cell_type": "code",
   "execution_count": 20,
   "id": "abc7d4bf",
   "metadata": {},
   "outputs": [
    {
     "data": {
      "text/html": [
       "<style>\n",
       ".list-inline {list-style: none; margin:0; padding: 0}\n",
       ".list-inline>li {display: inline-block}\n",
       ".list-inline>li:not(:last-child)::after {content: \"\\00b7\"; padding: 0 .5ex}\n",
       "</style>\n",
       "<ol class=list-inline><li>3</li><li>9</li><li>6</li><li>8</li><li>10</li><li>2</li><li>9</li><li>6</li><li>4</li><li>8</li></ol>\n"
      ],
      "text/latex": [
       "\\begin{enumerate*}\n",
       "\\item 3\n",
       "\\item 9\n",
       "\\item 6\n",
       "\\item 8\n",
       "\\item 10\n",
       "\\item 2\n",
       "\\item 9\n",
       "\\item 6\n",
       "\\item 4\n",
       "\\item 8\n",
       "\\end{enumerate*}\n"
      ],
      "text/markdown": [
       "1. 3\n",
       "2. 9\n",
       "3. 6\n",
       "4. 8\n",
       "5. 10\n",
       "6. 2\n",
       "7. 9\n",
       "8. 6\n",
       "9. 4\n",
       "10. 8\n",
       "\n",
       "\n"
      ],
      "text/plain": [
       " [1]  3  9  6  8 10  2  9  6  4  8"
      ]
     },
     "metadata": {},
     "output_type": "display_data"
    }
   ],
   "source": [
    "round(sm,0)"
   ]
  },
  {
   "cell_type": "code",
   "execution_count": 26,
   "id": "851cd9d4",
   "metadata": {},
   "outputs": [],
   "source": [
    "help(runif) # to get docum"
   ]
  },
  {
   "cell_type": "markdown",
   "id": "50d488cc",
   "metadata": {},
   "source": [
    "<h3 style=\"color:blue;text-align:center\">Exercise 2</h3>"
   ]
  },
  {
   "cell_type": "markdown",
   "id": "7437a429",
   "metadata": {},
   "source": [
    "+ Assign the number 5 to x and the number 10 to y.\n"
   ]
  },
  {
   "cell_type": "code",
   "execution_count": 27,
   "id": "9ebd8536",
   "metadata": {},
   "outputs": [],
   "source": [
    "x<-5\n",
    "y<-10"
   ]
  },
  {
   "cell_type": "markdown",
   "id": "4eef7328",
   "metadata": {},
   "source": [
    "+ Calculate the product of x and y.\n"
   ]
  },
  {
   "cell_type": "code",
   "execution_count": 28,
   "id": "62510b95",
   "metadata": {},
   "outputs": [
    {
     "name": "stdout",
     "output_type": "stream",
     "text": [
      "[1] 50\n"
     ]
    }
   ],
   "source": [
    "print(x*y)"
   ]
  },
  {
   "cell_type": "markdown",
   "id": "385a2ed4",
   "metadata": {},
   "source": [
    "+ Store the result in a new variable z."
   ]
  },
  {
   "cell_type": "code",
   "execution_count": 29,
   "id": "87e20498",
   "metadata": {},
   "outputs": [],
   "source": [
    "z<-x*y"
   ]
  },
  {
   "cell_type": "markdown",
   "id": "d65cec5f",
   "metadata": {},
   "source": [
    "+ Inspect workspace"
   ]
  },
  {
   "cell_type": "code",
   "execution_count": 30,
   "id": "f2efa6c6",
   "metadata": {},
   "outputs": [
    {
     "data": {
      "text/html": [
       "<style>\n",
       ".list-inline {list-style: none; margin:0; padding: 0}\n",
       ".list-inline>li {display: inline-block}\n",
       ".list-inline>li:not(:last-child)::after {content: \"\\00b7\"; padding: 0 .5ex}\n",
       "</style>\n",
       "<ol class=list-inline><li>'sm'</li><li>'vec'</li><li>'x'</li><li>'y'</li><li>'z'</li></ol>\n"
      ],
      "text/latex": [
       "\\begin{enumerate*}\n",
       "\\item 'sm'\n",
       "\\item 'vec'\n",
       "\\item 'x'\n",
       "\\item 'y'\n",
       "\\item 'z'\n",
       "\\end{enumerate*}\n"
      ],
      "text/markdown": [
       "1. 'sm'\n",
       "2. 'vec'\n",
       "3. 'x'\n",
       "4. 'y'\n",
       "5. 'z'\n",
       "\n",
       "\n"
      ],
      "text/plain": [
       "[1] \"sm\"  \"vec\" \"x\"   \"y\"   \"z\"  "
      ]
     },
     "metadata": {},
     "output_type": "display_data"
    }
   ],
   "source": [
    "ls()"
   ]
  },
  {
   "cell_type": "markdown",
   "id": "814086f3",
   "metadata": {},
   "source": [
    "+ Make a vector myvec of the objects x,y,z."
   ]
  },
  {
   "cell_type": "code",
   "execution_count": 32,
   "id": "7fb888a7",
   "metadata": {
    "scrolled": false
   },
   "outputs": [
    {
     "data": {
      "text/html": [
       "<style>\n",
       ".list-inline {list-style: none; margin:0; padding: 0}\n",
       ".list-inline>li {display: inline-block}\n",
       ".list-inline>li:not(:last-child)::after {content: \"\\00b7\"; padding: 0 .5ex}\n",
       "</style>\n",
       "<ol class=list-inline><li>5</li><li>10</li><li>50</li></ol>\n"
      ],
      "text/latex": [
       "\\begin{enumerate*}\n",
       "\\item 5\n",
       "\\item 10\n",
       "\\item 50\n",
       "\\end{enumerate*}\n"
      ],
      "text/markdown": [
       "1. 5\n",
       "2. 10\n",
       "3. 50\n",
       "\n",
       "\n"
      ],
      "text/plain": [
       "[1]  5 10 50"
      ]
     },
     "metadata": {},
     "output_type": "display_data"
    }
   ],
   "source": [
    "myvec<-c(x,y,z)\n",
    "myvec"
   ]
  },
  {
   "cell_type": "markdown",
   "id": "0c7876bc",
   "metadata": {},
   "source": [
    "+ Find the minimum, the maximum and the mean of the vector"
   ]
  },
  {
   "cell_type": "code",
   "execution_count": 34,
   "id": "f8474355",
   "metadata": {},
   "outputs": [
    {
     "name": "stdout",
     "output_type": "stream",
     "text": [
      "[1] 5\n",
      "[1] 50\n",
      "[1] 21.66667\n"
     ]
    }
   ],
   "source": [
    "print(min(myvec)) # find min\n",
    "print(max(myvec)) # find max\n",
    "print(mean(myvec)) # find mean\n"
   ]
  },
  {
   "cell_type": "markdown",
   "id": "52280b56",
   "metadata": {},
   "source": [
    "+ Remove myvec from the workspace"
   ]
  },
  {
   "cell_type": "code",
   "execution_count": 35,
   "id": "7ae0d62a",
   "metadata": {},
   "outputs": [],
   "source": [
    "rm(x) # remove only one var"
   ]
  },
  {
   "cell_type": "code",
   "execution_count": 36,
   "id": "668d152e",
   "metadata": {
    "scrolled": true
   },
   "outputs": [
    {
     "data": {
      "text/html": [
       "<style>\n",
       ".list-inline {list-style: none; margin:0; padding: 0}\n",
       ".list-inline>li {display: inline-block}\n",
       ".list-inline>li:not(:last-child)::after {content: \"\\00b7\"; padding: 0 .5ex}\n",
       "</style>\n",
       "<ol class=list-inline><li>'myvec'</li><li>'sm'</li><li>'vec'</li><li>'y'</li><li>'z'</li></ol>\n"
      ],
      "text/latex": [
       "\\begin{enumerate*}\n",
       "\\item 'myvec'\n",
       "\\item 'sm'\n",
       "\\item 'vec'\n",
       "\\item 'y'\n",
       "\\item 'z'\n",
       "\\end{enumerate*}\n"
      ],
      "text/markdown": [
       "1. 'myvec'\n",
       "2. 'sm'\n",
       "3. 'vec'\n",
       "4. 'y'\n",
       "5. 'z'\n",
       "\n",
       "\n"
      ],
      "text/plain": [
       "[1] \"myvec\" \"sm\"    \"vec\"   \"y\"     \"z\"    "
      ]
     },
     "metadata": {},
     "output_type": "display_data"
    }
   ],
   "source": [
    "ls()"
   ]
  },
  {
   "cell_type": "code",
   "execution_count": 37,
   "id": "542b0fc5",
   "metadata": {},
   "outputs": [],
   "source": [
    "rm(y,z) # remove multiple vars"
   ]
  },
  {
   "cell_type": "code",
   "execution_count": 38,
   "id": "15bcf98c",
   "metadata": {},
   "outputs": [
    {
     "data": {
      "text/html": [
       "<style>\n",
       ".list-inline {list-style: none; margin:0; padding: 0}\n",
       ".list-inline>li {display: inline-block}\n",
       ".list-inline>li:not(:last-child)::after {content: \"\\00b7\"; padding: 0 .5ex}\n",
       "</style>\n",
       "<ol class=list-inline><li>'myvec'</li><li>'sm'</li><li>'vec'</li></ol>\n"
      ],
      "text/latex": [
       "\\begin{enumerate*}\n",
       "\\item 'myvec'\n",
       "\\item 'sm'\n",
       "\\item 'vec'\n",
       "\\end{enumerate*}\n"
      ],
      "text/markdown": [
       "1. 'myvec'\n",
       "2. 'sm'\n",
       "3. 'vec'\n",
       "\n",
       "\n"
      ],
      "text/plain": [
       "[1] \"myvec\" \"sm\"    \"vec\"  "
      ]
     },
     "metadata": {},
     "output_type": "display_data"
    }
   ],
   "source": [
    "ls()"
   ]
  },
  {
   "cell_type": "markdown",
   "id": "c751e270",
   "metadata": {},
   "source": [
    "<h3 style=\"color:blue;text-align:center\">Exercise 3</h3>"
   ]
  },
  {
   "cell_type": "markdown",
   "id": "70c862c8",
   "metadata": {},
   "source": [
    "The numbers below are the first ten days of rainfall in a year\n",
    "0.1 0.5 2.3 1.1 11.3 14.7 23.4 15.7 0 0.9"
   ]
  },
  {
   "cell_type": "markdown",
   "id": "d5e67bc5",
   "metadata": {},
   "source": [
    "+ Read them into a vector using the c() command."
   ]
  },
  {
   "cell_type": "code",
   "execution_count": 40,
   "id": "2dccf2fb",
   "metadata": {},
   "outputs": [
    {
     "data": {
      "text/html": [
       "<style>\n",
       ".list-inline {list-style: none; margin:0; padding: 0}\n",
       ".list-inline>li {display: inline-block}\n",
       ".list-inline>li:not(:last-child)::after {content: \"\\00b7\"; padding: 0 .5ex}\n",
       "</style>\n",
       "<ol class=list-inline><li>0.1</li><li>0.5</li><li>2.3</li><li>1.1</li><li>11.3</li><li>14.7</li><li>23.4</li><li>15.7</li><li>0</li><li>0.9</li></ol>\n"
      ],
      "text/latex": [
       "\\begin{enumerate*}\n",
       "\\item 0.1\n",
       "\\item 0.5\n",
       "\\item 2.3\n",
       "\\item 1.1\n",
       "\\item 11.3\n",
       "\\item 14.7\n",
       "\\item 23.4\n",
       "\\item 15.7\n",
       "\\item 0\n",
       "\\item 0.9\n",
       "\\end{enumerate*}\n"
      ],
      "text/markdown": [
       "1. 0.1\n",
       "2. 0.5\n",
       "3. 2.3\n",
       "4. 1.1\n",
       "5. 11.3\n",
       "6. 14.7\n",
       "7. 23.4\n",
       "8. 15.7\n",
       "9. 0\n",
       "10. 0.9\n",
       "\n",
       "\n"
      ],
      "text/plain": [
       " [1]  0.1  0.5  2.3  1.1 11.3 14.7 23.4 15.7  0.0  0.9"
      ]
     },
     "metadata": {},
     "output_type": "display_data"
    }
   ],
   "source": [
    "rf<-c( 0.1, 0.5 ,2.3 ,1.1 ,11.3 ,14.7, 23.4 ,15.7, 0 ,0.9)\n",
    "rf"
   ]
  },
  {
   "cell_type": "markdown",
   "id": "c5436721",
   "metadata": {},
   "source": [
    "+ Calulate the mean and the standard deviation.\n"
   ]
  },
  {
   "cell_type": "code",
   "execution_count": 41,
   "id": "75e04294",
   "metadata": {},
   "outputs": [
    {
     "name": "stdout",
     "output_type": "stream",
     "text": [
      "mean =  7 and sd =  8.53359374602648"
     ]
    }
   ],
   "source": [
    "mn<-mean(rf)\n",
    "sd<-sd(rf)\n",
    "cat(paste(\"mean = \",mn,\"and sd = \",sd))"
   ]
  },
  {
   "cell_type": "markdown",
   "id": "902f52fa",
   "metadata": {},
   "source": [
    "+ Calculate the cumulative rainfall over these ten days. What is\n",
    "   total sum of the rainfall?\n"
   ]
  },
  {
   "cell_type": "code",
   "execution_count": 43,
   "id": "b8c75501",
   "metadata": {
    "scrolled": true
   },
   "outputs": [
    {
     "data": {
      "text/html": [
       "<style>\n",
       ".list-inline {list-style: none; margin:0; padding: 0}\n",
       ".list-inline>li {display: inline-block}\n",
       ".list-inline>li:not(:last-child)::after {content: \"\\00b7\"; padding: 0 .5ex}\n",
       "</style>\n",
       "<ol class=list-inline><li>0.1</li><li>0.6</li><li>2.9</li><li>4</li><li>15.3</li><li>30</li><li>53.4</li><li>69.1</li><li>69.1</li><li>70</li></ol>\n"
      ],
      "text/latex": [
       "\\begin{enumerate*}\n",
       "\\item 0.1\n",
       "\\item 0.6\n",
       "\\item 2.9\n",
       "\\item 4\n",
       "\\item 15.3\n",
       "\\item 30\n",
       "\\item 53.4\n",
       "\\item 69.1\n",
       "\\item 69.1\n",
       "\\item 70\n",
       "\\end{enumerate*}\n"
      ],
      "text/markdown": [
       "1. 0.1\n",
       "2. 0.6\n",
       "3. 2.9\n",
       "4. 4\n",
       "5. 15.3\n",
       "6. 30\n",
       "7. 53.4\n",
       "8. 69.1\n",
       "9. 69.1\n",
       "10. 70\n",
       "\n",
       "\n"
      ],
      "text/plain": [
       " [1]  0.1  0.6  2.9  4.0 15.3 30.0 53.4 69.1 69.1 70.0"
      ]
     },
     "metadata": {},
     "output_type": "display_data"
    }
   ],
   "source": [
    "cumsum(rf) "
   ]
  },
  {
   "cell_type": "code",
   "execution_count": 44,
   "id": "b7317752",
   "metadata": {
    "scrolled": false
   },
   "outputs": [
    {
     "data": {
      "text/html": [
       "70"
      ],
      "text/latex": [
       "70"
      ],
      "text/markdown": [
       "70"
      ],
      "text/plain": [
       "[1] 70"
      ]
     },
     "metadata": {},
     "output_type": "display_data"
    }
   ],
   "source": [
    "sum(rf)"
   ]
  },
  {
   "cell_type": "markdown",
   "id": "2e33a329",
   "metadata": {},
   "source": [
    "+ Which day saw the highest rainfall? Find an appropriate R com\u0002mand.\n"
   ]
  },
  {
   "cell_type": "code",
   "execution_count": 46,
   "id": "30f505bb",
   "metadata": {},
   "outputs": [
    {
     "data": {
      "text/html": [
       "<style>\n",
       ".list-inline {list-style: none; margin:0; padding: 0}\n",
       ".list-inline>li {display: inline-block}\n",
       ".list-inline>li:not(:last-child)::after {content: \"\\00b7\"; padding: 0 .5ex}\n",
       "</style>\n",
       "<ol class=list-inline><li>FALSE</li><li>FALSE</li><li>FALSE</li><li>FALSE</li><li>FALSE</li><li>FALSE</li><li>TRUE</li><li>FALSE</li><li>FALSE</li><li>FALSE</li></ol>\n"
      ],
      "text/latex": [
       "\\begin{enumerate*}\n",
       "\\item FALSE\n",
       "\\item FALSE\n",
       "\\item FALSE\n",
       "\\item FALSE\n",
       "\\item FALSE\n",
       "\\item FALSE\n",
       "\\item TRUE\n",
       "\\item FALSE\n",
       "\\item FALSE\n",
       "\\item FALSE\n",
       "\\end{enumerate*}\n"
      ],
      "text/markdown": [
       "1. FALSE\n",
       "2. FALSE\n",
       "3. FALSE\n",
       "4. FALSE\n",
       "5. FALSE\n",
       "6. FALSE\n",
       "7. TRUE\n",
       "8. FALSE\n",
       "9. FALSE\n",
       "10. FALSE\n",
       "\n",
       "\n"
      ],
      "text/plain": [
       " [1] FALSE FALSE FALSE FALSE FALSE FALSE  TRUE FALSE FALSE FALSE"
      ]
     },
     "metadata": {},
     "output_type": "display_data"
    }
   ],
   "source": [
    "rf==max(rf)"
   ]
  },
  {
   "cell_type": "code",
   "execution_count": 45,
   "id": "e47f9207",
   "metadata": {
    "scrolled": false
   },
   "outputs": [
    {
     "data": {
      "text/html": [
       "7"
      ],
      "text/latex": [
       "7"
      ],
      "text/markdown": [
       "7"
      ],
      "text/plain": [
       "[1] 7"
      ]
     },
     "metadata": {},
     "output_type": "display_data"
    }
   ],
   "source": [
    "which(rf==max(rf))"
   ]
  },
  {
   "cell_type": "markdown",
   "id": "26d6d288",
   "metadata": {},
   "source": [
    "+ Take a subset of the rainfall data where rain is larger than 10"
   ]
  },
  {
   "cell_type": "code",
   "execution_count": 47,
   "id": "9fea0c22",
   "metadata": {
    "scrolled": true
   },
   "outputs": [
    {
     "data": {
      "text/html": [
       "<style>\n",
       ".list-inline {list-style: none; margin:0; padding: 0}\n",
       ".list-inline>li {display: inline-block}\n",
       ".list-inline>li:not(:last-child)::after {content: \"\\00b7\"; padding: 0 .5ex}\n",
       "</style>\n",
       "<ol class=list-inline><li>FALSE</li><li>FALSE</li><li>FALSE</li><li>FALSE</li><li>TRUE</li><li>TRUE</li><li>TRUE</li><li>TRUE</li><li>FALSE</li><li>FALSE</li></ol>\n"
      ],
      "text/latex": [
       "\\begin{enumerate*}\n",
       "\\item FALSE\n",
       "\\item FALSE\n",
       "\\item FALSE\n",
       "\\item FALSE\n",
       "\\item TRUE\n",
       "\\item TRUE\n",
       "\\item TRUE\n",
       "\\item TRUE\n",
       "\\item FALSE\n",
       "\\item FALSE\n",
       "\\end{enumerate*}\n"
      ],
      "text/markdown": [
       "1. FALSE\n",
       "2. FALSE\n",
       "3. FALSE\n",
       "4. FALSE\n",
       "5. TRUE\n",
       "6. TRUE\n",
       "7. TRUE\n",
       "8. TRUE\n",
       "9. FALSE\n",
       "10. FALSE\n",
       "\n",
       "\n"
      ],
      "text/plain": [
       " [1] FALSE FALSE FALSE FALSE  TRUE  TRUE  TRUE  TRUE FALSE FALSE"
      ]
     },
     "metadata": {},
     "output_type": "display_data"
    }
   ],
   "source": [
    "rf>10"
   ]
  },
  {
   "cell_type": "code",
   "execution_count": 49,
   "id": "bf3a6100",
   "metadata": {},
   "outputs": [
    {
     "data": {
      "text/html": [
       "<style>\n",
       ".list-inline {list-style: none; margin:0; padding: 0}\n",
       ".list-inline>li {display: inline-block}\n",
       ".list-inline>li:not(:last-child)::after {content: \"\\00b7\"; padding: 0 .5ex}\n",
       "</style>\n",
       "<ol class=list-inline><li>11.3</li><li>14.7</li><li>23.4</li><li>15.7</li></ol>\n"
      ],
      "text/latex": [
       "\\begin{enumerate*}\n",
       "\\item 11.3\n",
       "\\item 14.7\n",
       "\\item 23.4\n",
       "\\item 15.7\n",
       "\\end{enumerate*}\n"
      ],
      "text/markdown": [
       "1. 11.3\n",
       "2. 14.7\n",
       "3. 23.4\n",
       "4. 15.7\n",
       "\n",
       "\n"
      ],
      "text/plain": [
       "[1] 11.3 14.7 23.4 15.7"
      ]
     },
     "metadata": {},
     "output_type": "display_data"
    }
   ],
   "source": [
    "rf[rf>10]"
   ]
  },
  {
   "cell_type": "markdown",
   "id": "81a5d709",
   "metadata": {},
   "source": [
    "+ What is mean rainfall for days where the rainfall was at least 5?"
   ]
  },
  {
   "cell_type": "code",
   "execution_count": 50,
   "id": "8293cf9e",
   "metadata": {
    "scrolled": true
   },
   "outputs": [
    {
     "data": {
      "text/html": [
       "<style>\n",
       ".list-inline {list-style: none; margin:0; padding: 0}\n",
       ".list-inline>li {display: inline-block}\n",
       ".list-inline>li:not(:last-child)::after {content: \"\\00b7\"; padding: 0 .5ex}\n",
       "</style>\n",
       "<ol class=list-inline><li>FALSE</li><li>FALSE</li><li>FALSE</li><li>FALSE</li><li>TRUE</li><li>TRUE</li><li>TRUE</li><li>TRUE</li><li>FALSE</li><li>FALSE</li></ol>\n"
      ],
      "text/latex": [
       "\\begin{enumerate*}\n",
       "\\item FALSE\n",
       "\\item FALSE\n",
       "\\item FALSE\n",
       "\\item FALSE\n",
       "\\item TRUE\n",
       "\\item TRUE\n",
       "\\item TRUE\n",
       "\\item TRUE\n",
       "\\item FALSE\n",
       "\\item FALSE\n",
       "\\end{enumerate*}\n"
      ],
      "text/markdown": [
       "1. FALSE\n",
       "2. FALSE\n",
       "3. FALSE\n",
       "4. FALSE\n",
       "5. TRUE\n",
       "6. TRUE\n",
       "7. TRUE\n",
       "8. TRUE\n",
       "9. FALSE\n",
       "10. FALSE\n",
       "\n",
       "\n"
      ],
      "text/plain": [
       " [1] FALSE FALSE FALSE FALSE  TRUE  TRUE  TRUE  TRUE FALSE FALSE"
      ]
     },
     "metadata": {},
     "output_type": "display_data"
    }
   ],
   "source": [
    "rf>=5"
   ]
  },
  {
   "cell_type": "code",
   "execution_count": 51,
   "id": "eafe739f",
   "metadata": {},
   "outputs": [
    {
     "data": {
      "text/html": [
       "<style>\n",
       ".list-inline {list-style: none; margin:0; padding: 0}\n",
       ".list-inline>li {display: inline-block}\n",
       ".list-inline>li:not(:last-child)::after {content: \"\\00b7\"; padding: 0 .5ex}\n",
       "</style>\n",
       "<ol class=list-inline><li>11.3</li><li>14.7</li><li>23.4</li><li>15.7</li></ol>\n"
      ],
      "text/latex": [
       "\\begin{enumerate*}\n",
       "\\item 11.3\n",
       "\\item 14.7\n",
       "\\item 23.4\n",
       "\\item 15.7\n",
       "\\end{enumerate*}\n"
      ],
      "text/markdown": [
       "1. 11.3\n",
       "2. 14.7\n",
       "3. 23.4\n",
       "4. 15.7\n",
       "\n",
       "\n"
      ],
      "text/plain": [
       "[1] 11.3 14.7 23.4 15.7"
      ]
     },
     "metadata": {},
     "output_type": "display_data"
    }
   ],
   "source": [
    "rf[rf>=5]"
   ]
  },
  {
   "cell_type": "code",
   "execution_count": 52,
   "id": "3fac4dfb",
   "metadata": {
    "scrolled": true
   },
   "outputs": [
    {
     "data": {
      "text/html": [
       "16.275"
      ],
      "text/latex": [
       "16.275"
      ],
      "text/markdown": [
       "16.275"
      ],
      "text/plain": [
       "[1] 16.275"
      ]
     },
     "metadata": {},
     "output_type": "display_data"
    }
   ],
   "source": [
    "mean(rf[rf>=5])"
   ]
  },
  {
   "cell_type": "markdown",
   "id": "183609a6",
   "metadata": {},
   "source": [
    "+ Subset the vector where it is either exactly 0 or 1.1 and find the\n",
    "   corresponding days.\n"
   ]
  },
  {
   "cell_type": "code",
   "execution_count": 54,
   "id": "b4b2c1ea",
   "metadata": {},
   "outputs": [
    {
     "data": {
      "text/html": [
       "<style>\n",
       ".list-inline {list-style: none; margin:0; padding: 0}\n",
       ".list-inline>li {display: inline-block}\n",
       ".list-inline>li:not(:last-child)::after {content: \"\\00b7\"; padding: 0 .5ex}\n",
       "</style>\n",
       "<ol class=list-inline><li>1.1</li><li>0</li></ol>\n"
      ],
      "text/latex": [
       "\\begin{enumerate*}\n",
       "\\item 1.1\n",
       "\\item 0\n",
       "\\end{enumerate*}\n"
      ],
      "text/markdown": [
       "1. 1.1\n",
       "2. 0\n",
       "\n",
       "\n"
      ],
      "text/plain": [
       "[1] 1.1 0.0"
      ]
     },
     "metadata": {},
     "output_type": "display_data"
    }
   ],
   "source": [
    "rf[rf==0 | rf==1.1]"
   ]
  },
  {
   "cell_type": "markdown",
   "id": "f40adcc0",
   "metadata": {},
   "source": [
    "+ Alternative"
   ]
  },
  {
   "cell_type": "code",
   "execution_count": 55,
   "id": "26f03ec5",
   "metadata": {
    "scrolled": true
   },
   "outputs": [
    {
     "data": {
      "text/html": [
       "<style>\n",
       ".list-inline {list-style: none; margin:0; padding: 0}\n",
       ".list-inline>li {display: inline-block}\n",
       ".list-inline>li:not(:last-child)::after {content: \"\\00b7\"; padding: 0 .5ex}\n",
       "</style>\n",
       "<ol class=list-inline><li>FALSE</li><li>FALSE</li><li>FALSE</li><li>TRUE</li><li>FALSE</li><li>FALSE</li><li>FALSE</li><li>FALSE</li><li>TRUE</li><li>FALSE</li></ol>\n"
      ],
      "text/latex": [
       "\\begin{enumerate*}\n",
       "\\item FALSE\n",
       "\\item FALSE\n",
       "\\item FALSE\n",
       "\\item TRUE\n",
       "\\item FALSE\n",
       "\\item FALSE\n",
       "\\item FALSE\n",
       "\\item FALSE\n",
       "\\item TRUE\n",
       "\\item FALSE\n",
       "\\end{enumerate*}\n"
      ],
      "text/markdown": [
       "1. FALSE\n",
       "2. FALSE\n",
       "3. FALSE\n",
       "4. TRUE\n",
       "5. FALSE\n",
       "6. FALSE\n",
       "7. FALSE\n",
       "8. FALSE\n",
       "9. TRUE\n",
       "10. FALSE\n",
       "\n",
       "\n"
      ],
      "text/plain": [
       " [1] FALSE FALSE FALSE  TRUE FALSE FALSE FALSE FALSE  TRUE FALSE"
      ]
     },
     "metadata": {},
     "output_type": "display_data"
    }
   ],
   "source": [
    "rf %in% c(0,1.1)"
   ]
  },
  {
   "cell_type": "code",
   "execution_count": 56,
   "id": "5f6a1a1c",
   "metadata": {},
   "outputs": [
    {
     "data": {
      "text/html": [
       "<style>\n",
       ".list-inline {list-style: none; margin:0; padding: 0}\n",
       ".list-inline>li {display: inline-block}\n",
       ".list-inline>li:not(:last-child)::after {content: \"\\00b7\"; padding: 0 .5ex}\n",
       "</style>\n",
       "<ol class=list-inline><li>1.1</li><li>0</li></ol>\n"
      ],
      "text/latex": [
       "\\begin{enumerate*}\n",
       "\\item 1.1\n",
       "\\item 0\n",
       "\\end{enumerate*}\n"
      ],
      "text/markdown": [
       "1. 1.1\n",
       "2. 0\n",
       "\n",
       "\n"
      ],
      "text/plain": [
       "[1] 1.1 0.0"
      ]
     },
     "metadata": {},
     "output_type": "display_data"
    }
   ],
   "source": [
    "rf[rf %in% c(0,1.1)]"
   ]
  },
  {
   "cell_type": "code",
   "execution_count": 59,
   "id": "e5900560",
   "metadata": {},
   "outputs": [
    {
     "data": {
      "text/html": [
       "<style>\n",
       ".list-inline {list-style: none; margin:0; padding: 0}\n",
       ".list-inline>li {display: inline-block}\n",
       ".list-inline>li:not(:last-child)::after {content: \"\\00b7\"; padding: 0 .5ex}\n",
       "</style>\n",
       "<ol class=list-inline><li>4</li><li>9</li></ol>\n"
      ],
      "text/latex": [
       "\\begin{enumerate*}\n",
       "\\item 4\n",
       "\\item 9\n",
       "\\end{enumerate*}\n"
      ],
      "text/markdown": [
       "1. 4\n",
       "2. 9\n",
       "\n",
       "\n"
      ],
      "text/plain": [
       "[1] 4 9"
      ]
     },
     "metadata": {},
     "output_type": "display_data"
    }
   ],
   "source": [
    "which(rf %in% c(0,1.1)) # gives indexs (corresponding days)"
   ]
  },
  {
   "cell_type": "markdown",
   "id": "208e4944",
   "metadata": {},
   "source": [
    "<h3 style=\"color:blue;text-align:center\">Exercise 4</h3>"
   ]
  },
  {
   "cell_type": "markdown",
   "id": "87f95904",
   "metadata": {},
   "source": [
    "The length of five cylinders are 2.5, 3.4, 4.8, 3.1, 1.7 and their diameters\n",
    "are 0.7, 0.4, 0.5, 0.5, 0.9.\n"
   ]
  },
  {
   "cell_type": "markdown",
   "id": "f30d1cd0",
   "metadata": {},
   "source": [
    "+ Read these vectors into two vectors with appropriate names."
   ]
  },
  {
   "cell_type": "code",
   "execution_count": 62,
   "id": "3035b68f",
   "metadata": {},
   "outputs": [
    {
     "data": {
      "text/html": [
       "<style>\n",
       ".list-inline {list-style: none; margin:0; padding: 0}\n",
       ".list-inline>li {display: inline-block}\n",
       ".list-inline>li:not(:last-child)::after {content: \"\\00b7\"; padding: 0 .5ex}\n",
       "</style>\n",
       "<ol class=list-inline><li>0.35</li><li>0.2</li><li>0.25</li><li>0.25</li><li>0.45</li></ol>\n"
      ],
      "text/latex": [
       "\\begin{enumerate*}\n",
       "\\item 0.35\n",
       "\\item 0.2\n",
       "\\item 0.25\n",
       "\\item 0.25\n",
       "\\item 0.45\n",
       "\\end{enumerate*}\n"
      ],
      "text/markdown": [
       "1. 0.35\n",
       "2. 0.2\n",
       "3. 0.25\n",
       "4. 0.25\n",
       "5. 0.45\n",
       "\n",
       "\n"
      ],
      "text/plain": [
       "[1] 0.35 0.20 0.25 0.25 0.45"
      ]
     },
     "metadata": {},
     "output_type": "display_data"
    }
   ],
   "source": [
    "len<-c(2.5, 3.4, 4.8, 3.1, 1.7) # h\n",
    "diam<-c(0.7, 0.4, 0.5, 0.5, 0.9) # d \n",
    "r = diam/2 # as we need rad to calculate vol\n",
    "r"
   ]
  },
  {
   "cell_type": "markdown",
   "id": "08075533",
   "metadata": {},
   "source": [
    "Formula to calculate the Vol of a Cylinder, $$ V=\\pi r^2h $$\n",
    "where $r=\\frac{diam}{2}$"
   ]
  },
  {
   "cell_type": "code",
   "execution_count": 63,
   "id": "f3b84bee",
   "metadata": {
    "scrolled": false
   },
   "outputs": [
    {
     "data": {
      "text/html": [
       "<style>\n",
       ".list-inline {list-style: none; margin:0; padding: 0}\n",
       ".list-inline>li {display: inline-block}\n",
       ".list-inline>li:not(:last-child)::after {content: \"\\00b7\"; padding: 0 .5ex}\n",
       "</style>\n",
       "<ol class=list-inline><li>0.962112750161874</li><li>0.427256600888212</li><li>0.942477796076938</li><li>0.608683576633022</li><li>1.08149327099829</li></ol>\n"
      ],
      "text/latex": [
       "\\begin{enumerate*}\n",
       "\\item 0.962112750161874\n",
       "\\item 0.427256600888212\n",
       "\\item 0.942477796076938\n",
       "\\item 0.608683576633022\n",
       "\\item 1.08149327099829\n",
       "\\end{enumerate*}\n"
      ],
      "text/markdown": [
       "1. 0.962112750161874\n",
       "2. 0.427256600888212\n",
       "3. 0.942477796076938\n",
       "4. 0.608683576633022\n",
       "5. 1.08149327099829\n",
       "\n",
       "\n"
      ],
      "text/plain": [
       "[1] 0.9621128 0.4272566 0.9424778 0.6086836 1.0814933"
      ]
     },
     "metadata": {},
     "output_type": "display_data"
    }
   ],
   "source": [
    "vols<- pi * r**2 * len\n",
    "vols"
   ]
  },
  {
   "cell_type": "markdown",
   "id": "1a0bfe45",
   "metadata": {},
   "source": [
    "+ Assume the values are given in centimeter. Recalculate the vol\u0002umes       so that their units are cubic millime"
   ]
  },
  {
   "cell_type": "code",
   "execution_count": 66,
   "id": "a8b529ed",
   "metadata": {},
   "outputs": [
    {
     "data": {
      "text/html": [
       "<style>\n",
       ".list-inline {list-style: none; margin:0; padding: 0}\n",
       ".list-inline>li {display: inline-block}\n",
       ".list-inline>li:not(:last-child)::after {content: \"\\00b7\"; padding: 0 .5ex}\n",
       "</style>\n",
       "<ol class=list-inline><li>9.62112750161874</li><li>4.27256600888212</li><li>9.42477796076938</li><li>6.08683576633022</li><li>10.8149327099829</li></ol>\n"
      ],
      "text/latex": [
       "\\begin{enumerate*}\n",
       "\\item 9.62112750161874\n",
       "\\item 4.27256600888212\n",
       "\\item 9.42477796076938\n",
       "\\item 6.08683576633022\n",
       "\\item 10.8149327099829\n",
       "\\end{enumerate*}\n"
      ],
      "text/markdown": [
       "1. 9.62112750161874\n",
       "2. 4.27256600888212\n",
       "3. 9.42477796076938\n",
       "4. 6.08683576633022\n",
       "5. 10.8149327099829\n",
       "\n",
       "\n"
      ],
      "text/plain": [
       "[1]  9.621128  4.272566  9.424778  6.086836 10.814933"
      ]
     },
     "metadata": {},
     "output_type": "display_data"
    }
   ],
   "source": [
    "vol.cm<-(pi * r**2 * len) * 10\n",
    "vol.cm"
   ]
  },
  {
   "cell_type": "markdown",
   "id": "17d61fb2",
   "metadata": {},
   "source": [
    "<h3 style=\"color:blue;text-align:center\">Exercise 5</h3>"
   ]
  },
  {
   "cell_type": "markdown",
   "id": "10aa2211",
   "metadata": {},
   "source": [
    "Inspect the R commands <code>union()</code>, <code>setdiff()</code> and <code>intersect()</code> implying set\n",
    "operations. Make two vectors\n",
    "<code>x <- c(1,2,3,4,5)</code>\n",
    "    <code> y <- c(3,5,7,9)</code>\n"
   ]
  },
  {
   "cell_type": "code",
   "execution_count": 67,
   "id": "200a89af",
   "metadata": {},
   "outputs": [],
   "source": [
    "x <- c(1,2,3,4,5)\n",
    "y <- c(3,5,7,9)"
   ]
  },
  {
   "cell_type": "code",
   "execution_count": 68,
   "id": "cdfc9696",
   "metadata": {
    "scrolled": true
   },
   "outputs": [
    {
     "name": "stdout",
     "output_type": "stream",
     "text": [
      "1 2 3 4 5"
     ]
    }
   ],
   "source": [
    "cat(x)"
   ]
  },
  {
   "cell_type": "code",
   "execution_count": 69,
   "id": "15bc7374",
   "metadata": {},
   "outputs": [
    {
     "name": "stdout",
     "output_type": "stream",
     "text": [
      "3 5 7 9"
     ]
    }
   ],
   "source": [
    "cat(y)"
   ]
  },
  {
   "cell_type": "markdown",
   "id": "14860568",
   "metadata": {},
   "source": [
    "+ Find values that are contained in both x and y."
   ]
  },
  {
   "cell_type": "code",
   "execution_count": 70,
   "id": "c1fab2c8",
   "metadata": {
    "scrolled": true
   },
   "outputs": [
    {
     "data": {
      "text/html": [
       "<style>\n",
       ".list-inline {list-style: none; margin:0; padding: 0}\n",
       ".list-inline>li {display: inline-block}\n",
       ".list-inline>li:not(:last-child)::after {content: \"\\00b7\"; padding: 0 .5ex}\n",
       "</style>\n",
       "<ol class=list-inline><li>3</li><li>5</li></ol>\n"
      ],
      "text/latex": [
       "\\begin{enumerate*}\n",
       "\\item 3\n",
       "\\item 5\n",
       "\\end{enumerate*}\n"
      ],
      "text/markdown": [
       "1. 3\n",
       "2. 5\n",
       "\n",
       "\n"
      ],
      "text/plain": [
       "[1] 3 5"
      ]
     },
     "metadata": {},
     "output_type": "display_data"
    }
   ],
   "source": [
    "intersect(x,y)"
   ]
  },
  {
   "cell_type": "markdown",
   "id": "9ddffd9e",
   "metadata": {},
   "source": [
    "+ Find values that are in x but not y and vice versa"
   ]
  },
  {
   "cell_type": "code",
   "execution_count": 71,
   "id": "520190f2",
   "metadata": {
    "scrolled": true
   },
   "outputs": [
    {
     "data": {
      "text/html": [
       "<style>\n",
       ".list-inline {list-style: none; margin:0; padding: 0}\n",
       ".list-inline>li {display: inline-block}\n",
       ".list-inline>li:not(:last-child)::after {content: \"\\00b7\"; padding: 0 .5ex}\n",
       "</style>\n",
       "<ol class=list-inline><li>1</li><li>2</li><li>4</li></ol>\n"
      ],
      "text/latex": [
       "\\begin{enumerate*}\n",
       "\\item 1\n",
       "\\item 2\n",
       "\\item 4\n",
       "\\end{enumerate*}\n"
      ],
      "text/markdown": [
       "1. 1\n",
       "2. 2\n",
       "3. 4\n",
       "\n",
       "\n"
      ],
      "text/plain": [
       "[1] 1 2 4"
      ]
     },
     "metadata": {},
     "output_type": "display_data"
    }
   ],
   "source": [
    "setdiff(x,y)"
   ]
  },
  {
   "cell_type": "code",
   "execution_count": 72,
   "id": "d7dab57f",
   "metadata": {
    "scrolled": true
   },
   "outputs": [
    {
     "data": {
      "text/html": [
       "<style>\n",
       ".list-inline {list-style: none; margin:0; padding: 0}\n",
       ".list-inline>li {display: inline-block}\n",
       ".list-inline>li:not(:last-child)::after {content: \"\\00b7\"; padding: 0 .5ex}\n",
       "</style>\n",
       "<ol class=list-inline><li>7</li><li>9</li></ol>\n"
      ],
      "text/latex": [
       "\\begin{enumerate*}\n",
       "\\item 7\n",
       "\\item 9\n",
       "\\end{enumerate*}\n"
      ],
      "text/markdown": [
       "1. 7\n",
       "2. 9\n",
       "\n",
       "\n"
      ],
      "text/plain": [
       "[1] 7 9"
      ]
     },
     "metadata": {},
     "output_type": "display_data"
    }
   ],
   "source": [
    "setdiff(y,x)"
   ]
  },
  {
   "cell_type": "markdown",
   "id": "a35c7cc7",
   "metadata": {},
   "source": [
    "+ Construct a vector that contains all values contained in either x\n",
    "   or y. Compare the result with <code>c(x,y)</code>"
   ]
  },
  {
   "cell_type": "code",
   "execution_count": 73,
   "id": "b88559ee",
   "metadata": {
    "scrolled": true
   },
   "outputs": [
    {
     "data": {
      "text/html": [
       "<style>\n",
       ".list-inline {list-style: none; margin:0; padding: 0}\n",
       ".list-inline>li {display: inline-block}\n",
       ".list-inline>li:not(:last-child)::after {content: \"\\00b7\"; padding: 0 .5ex}\n",
       "</style>\n",
       "<ol class=list-inline><li>1</li><li>2</li><li>3</li><li>4</li><li>5</li><li>7</li><li>9</li></ol>\n"
      ],
      "text/latex": [
       "\\begin{enumerate*}\n",
       "\\item 1\n",
       "\\item 2\n",
       "\\item 3\n",
       "\\item 4\n",
       "\\item 5\n",
       "\\item 7\n",
       "\\item 9\n",
       "\\end{enumerate*}\n"
      ],
      "text/markdown": [
       "1. 1\n",
       "2. 2\n",
       "3. 3\n",
       "4. 4\n",
       "5. 5\n",
       "6. 7\n",
       "7. 9\n",
       "\n",
       "\n"
      ],
      "text/plain": [
       "[1] 1 2 3 4 5 7 9"
      ]
     },
     "metadata": {},
     "output_type": "display_data"
    }
   ],
   "source": [
    "union(x,y)"
   ]
  },
  {
   "cell_type": "code",
   "execution_count": 74,
   "id": "d8d7eb03",
   "metadata": {},
   "outputs": [
    {
     "data": {
      "text/html": [
       "<style>\n",
       ".list-inline {list-style: none; margin:0; padding: 0}\n",
       ".list-inline>li {display: inline-block}\n",
       ".list-inline>li:not(:last-child)::after {content: \"\\00b7\"; padding: 0 .5ex}\n",
       "</style>\n",
       "<ol class=list-inline><li>1</li><li>2</li><li>3</li><li>4</li><li>5</li><li>3</li><li>5</li><li>7</li><li>9</li></ol>\n"
      ],
      "text/latex": [
       "\\begin{enumerate*}\n",
       "\\item 1\n",
       "\\item 2\n",
       "\\item 3\n",
       "\\item 4\n",
       "\\item 5\n",
       "\\item 3\n",
       "\\item 5\n",
       "\\item 7\n",
       "\\item 9\n",
       "\\end{enumerate*}\n"
      ],
      "text/markdown": [
       "1. 1\n",
       "2. 2\n",
       "3. 3\n",
       "4. 4\n",
       "5. 5\n",
       "6. 3\n",
       "7. 5\n",
       "8. 7\n",
       "9. 9\n",
       "\n",
       "\n"
      ],
      "text/plain": [
       "[1] 1 2 3 4 5 3 5 7 9"
      ]
     },
     "metadata": {},
     "output_type": "display_data"
    }
   ],
   "source": [
    "c(x,y) # compare"
   ]
  },
  {
   "cell_type": "code",
   "execution_count": 76,
   "id": "9f27752a",
   "metadata": {
    "scrolled": true
   },
   "outputs": [
    {
     "data": {
      "text/html": [
       "<style>\n",
       ".list-inline {list-style: none; margin:0; padding: 0}\n",
       ".list-inline>li {display: inline-block}\n",
       ".list-inline>li:not(:last-child)::after {content: \"\\00b7\"; padding: 0 .5ex}\n",
       "</style>\n",
       "<ol class=list-inline><li>2</li><li>4</li><li>6</li><li>8</li><li>10</li></ol>\n"
      ],
      "text/latex": [
       "\\begin{enumerate*}\n",
       "\\item 2\n",
       "\\item 4\n",
       "\\item 6\n",
       "\\item 8\n",
       "\\item 10\n",
       "\\end{enumerate*}\n"
      ],
      "text/markdown": [
       "1. 2\n",
       "2. 4\n",
       "3. 6\n",
       "4. 8\n",
       "5. 10\n",
       "\n",
       "\n"
      ],
      "text/plain": [
       "[1]  2  4  6  8 10"
      ]
     },
     "metadata": {},
     "output_type": "display_data"
    }
   ],
   "source": [
    "seq(from=2,to = 10,by=2)"
   ]
  },
  {
   "cell_type": "code",
   "execution_count": 80,
   "id": "50809221",
   "metadata": {},
   "outputs": [
    {
     "data": {
      "text/html": [
       "<style>\n",
       ".list-inline {list-style: none; margin:0; padding: 0}\n",
       ".list-inline>li {display: inline-block}\n",
       ".list-inline>li:not(:last-child)::after {content: \"\\00b7\"; padding: 0 .5ex}\n",
       "</style>\n",
       "<ol class=list-inline><li>'rep'</li><li>'rep'</li><li>'rep'</li><li>'rep'</li><li>'rep'</li><li>'rep'</li><li>'rep'</li><li>'rep'</li><li>'rep'</li><li>'rep'</li></ol>\n"
      ],
      "text/latex": [
       "\\begin{enumerate*}\n",
       "\\item 'rep'\n",
       "\\item 'rep'\n",
       "\\item 'rep'\n",
       "\\item 'rep'\n",
       "\\item 'rep'\n",
       "\\item 'rep'\n",
       "\\item 'rep'\n",
       "\\item 'rep'\n",
       "\\item 'rep'\n",
       "\\item 'rep'\n",
       "\\end{enumerate*}\n"
      ],
      "text/markdown": [
       "1. 'rep'\n",
       "2. 'rep'\n",
       "3. 'rep'\n",
       "4. 'rep'\n",
       "5. 'rep'\n",
       "6. 'rep'\n",
       "7. 'rep'\n",
       "8. 'rep'\n",
       "9. 'rep'\n",
       "10. 'rep'\n",
       "\n",
       "\n"
      ],
      "text/plain": [
       " [1] \"rep\" \"rep\" \"rep\" \"rep\" \"rep\" \"rep\" \"rep\" \"rep\" \"rep\" \"rep\""
      ]
     },
     "metadata": {},
     "output_type": "display_data"
    }
   ],
   "source": [
    "rep(x = \"rep\",times=10)"
   ]
  },
  {
   "cell_type": "code",
   "execution_count": 81,
   "id": "78a9b0bb",
   "metadata": {},
   "outputs": [
    {
     "data": {
      "text/html": [
       "<style>\n",
       ".list-inline {list-style: none; margin:0; padding: 0}\n",
       ".list-inline>li {display: inline-block}\n",
       ".list-inline>li:not(:last-child)::after {content: \"\\00b7\"; padding: 0 .5ex}\n",
       "</style>\n",
       "<ol class=list-inline><li>2</li><li>4</li><li>6</li><li>8</li><li>10</li><li>2</li><li>4</li><li>6</li><li>8</li><li>10</li><li>2</li><li>4</li><li>6</li><li>8</li><li>10</li><li>2</li><li>4</li><li>6</li><li>8</li><li>10</li><li>2</li><li>4</li><li>6</li><li>8</li><li>10</li><li>2</li><li>4</li><li>6</li><li>8</li><li>10</li><li>2</li><li>4</li><li>6</li><li>8</li><li>10</li><li>2</li><li>4</li><li>6</li><li>8</li><li>10</li><li>2</li><li>4</li><li>6</li><li>8</li><li>10</li><li>2</li><li>4</li><li>6</li><li>8</li><li>10</li></ol>\n"
      ],
      "text/latex": [
       "\\begin{enumerate*}\n",
       "\\item 2\n",
       "\\item 4\n",
       "\\item 6\n",
       "\\item 8\n",
       "\\item 10\n",
       "\\item 2\n",
       "\\item 4\n",
       "\\item 6\n",
       "\\item 8\n",
       "\\item 10\n",
       "\\item 2\n",
       "\\item 4\n",
       "\\item 6\n",
       "\\item 8\n",
       "\\item 10\n",
       "\\item 2\n",
       "\\item 4\n",
       "\\item 6\n",
       "\\item 8\n",
       "\\item 10\n",
       "\\item 2\n",
       "\\item 4\n",
       "\\item 6\n",
       "\\item 8\n",
       "\\item 10\n",
       "\\item 2\n",
       "\\item 4\n",
       "\\item 6\n",
       "\\item 8\n",
       "\\item 10\n",
       "\\item 2\n",
       "\\item 4\n",
       "\\item 6\n",
       "\\item 8\n",
       "\\item 10\n",
       "\\item 2\n",
       "\\item 4\n",
       "\\item 6\n",
       "\\item 8\n",
       "\\item 10\n",
       "\\item 2\n",
       "\\item 4\n",
       "\\item 6\n",
       "\\item 8\n",
       "\\item 10\n",
       "\\item 2\n",
       "\\item 4\n",
       "\\item 6\n",
       "\\item 8\n",
       "\\item 10\n",
       "\\end{enumerate*}\n"
      ],
      "text/markdown": [
       "1. 2\n",
       "2. 4\n",
       "3. 6\n",
       "4. 8\n",
       "5. 10\n",
       "6. 2\n",
       "7. 4\n",
       "8. 6\n",
       "9. 8\n",
       "10. 10\n",
       "11. 2\n",
       "12. 4\n",
       "13. 6\n",
       "14. 8\n",
       "15. 10\n",
       "16. 2\n",
       "17. 4\n",
       "18. 6\n",
       "19. 8\n",
       "20. 10\n",
       "21. 2\n",
       "22. 4\n",
       "23. 6\n",
       "24. 8\n",
       "25. 10\n",
       "26. 2\n",
       "27. 4\n",
       "28. 6\n",
       "29. 8\n",
       "30. 10\n",
       "31. 2\n",
       "32. 4\n",
       "33. 6\n",
       "34. 8\n",
       "35. 10\n",
       "36. 2\n",
       "37. 4\n",
       "38. 6\n",
       "39. 8\n",
       "40. 10\n",
       "41. 2\n",
       "42. 4\n",
       "43. 6\n",
       "44. 8\n",
       "45. 10\n",
       "46. 2\n",
       "47. 4\n",
       "48. 6\n",
       "49. 8\n",
       "50. 10\n",
       "\n",
       "\n"
      ],
      "text/plain": [
       " [1]  2  4  6  8 10  2  4  6  8 10  2  4  6  8 10  2  4  6  8 10  2  4  6  8 10\n",
       "[26]  2  4  6  8 10  2  4  6  8 10  2  4  6  8 10  2  4  6  8 10  2  4  6  8 10"
      ]
     },
     "metadata": {},
     "output_type": "display_data"
    }
   ],
   "source": [
    "rep(seq(from=2,to = 10,by=2),times=10)"
   ]
  },
  {
   "cell_type": "markdown",
   "id": "ca420e55",
   "metadata": {},
   "source": [
    "## Matrices in R"
   ]
  },
  {
   "cell_type": "code",
   "execution_count": 1,
   "id": "5e687831",
   "metadata": {
    "scrolled": false
   },
   "outputs": [
    {
     "data": {
      "text/html": [
       "<table class=\"dataframe\">\n",
       "<caption>A matrix: 3 × 2 of type dbl</caption>\n",
       "<tbody>\n",
       "\t<tr><td>1</td><td>4</td></tr>\n",
       "\t<tr><td>2</td><td>5</td></tr>\n",
       "\t<tr><td>3</td><td>6</td></tr>\n",
       "</tbody>\n",
       "</table>\n"
      ],
      "text/latex": [
       "A matrix: 3 × 2 of type dbl\n",
       "\\begin{tabular}{ll}\n",
       "\t 1 & 4\\\\\n",
       "\t 2 & 5\\\\\n",
       "\t 3 & 6\\\\\n",
       "\\end{tabular}\n"
      ],
      "text/markdown": [
       "\n",
       "A matrix: 3 × 2 of type dbl\n",
       "\n",
       "| 1 | 4 |\n",
       "| 2 | 5 |\n",
       "| 3 | 6 |\n",
       "\n"
      ],
      "text/plain": [
       "     [,1] [,2]\n",
       "[1,] 1    4   \n",
       "[2,] 2    5   \n",
       "[3,] 3    6   "
      ]
     },
     "metadata": {},
     "output_type": "display_data"
    }
   ],
   "source": [
    "# Create a matrix\n",
    "mat <- matrix(c(1,2,3,4,5,6), nrow = 3, ncol = 2)\n",
    "mat"
   ]
  },
  {
   "cell_type": "code",
   "execution_count": 12,
   "id": "bd030f04",
   "metadata": {
    "scrolled": true
   },
   "outputs": [
    {
     "data": {
      "text/html": [
       "<table class=\"dataframe\">\n",
       "<caption>A matrix: 3 × 3 of type dbl</caption>\n",
       "<tbody>\n",
       "\t<tr><td>1</td><td>4</td><td>7</td></tr>\n",
       "\t<tr><td>2</td><td>5</td><td>8</td></tr>\n",
       "\t<tr><td>3</td><td>6</td><td>9</td></tr>\n",
       "</tbody>\n",
       "</table>\n"
      ],
      "text/latex": [
       "A matrix: 3 × 3 of type dbl\n",
       "\\begin{tabular}{lll}\n",
       "\t 1 & 4 & 7\\\\\n",
       "\t 2 & 5 & 8\\\\\n",
       "\t 3 & 6 & 9\\\\\n",
       "\\end{tabular}\n"
      ],
      "text/markdown": [
       "\n",
       "A matrix: 3 × 3 of type dbl\n",
       "\n",
       "| 1 | 4 | 7 |\n",
       "| 2 | 5 | 8 |\n",
       "| 3 | 6 | 9 |\n",
       "\n"
      ],
      "text/plain": [
       "     [,1] [,2] [,3]\n",
       "[1,] 1    4    7   \n",
       "[2,] 2    5    8   \n",
       "[3,] 3    6    9   "
      ]
     },
     "metadata": {},
     "output_type": "display_data"
    }
   ],
   "source": [
    "mat <- matrix(c(1,2,3,4,5,6,7,8,9), nrow = 3, ncol = 3)\n",
    "mat"
   ]
  },
  {
   "cell_type": "markdown",
   "id": "c6bf78f0",
   "metadata": {},
   "source": [
    "## Access Matrix Items"
   ]
  },
  {
   "cell_type": "code",
   "execution_count": 3,
   "id": "b05217a2",
   "metadata": {
    "scrolled": true
   },
   "outputs": [
    {
     "data": {
      "text/html": [
       "<table class=\"dataframe\">\n",
       "<caption>A matrix: 3 × 3 of type dbl</caption>\n",
       "<tbody>\n",
       "\t<tr><td>1</td><td>4</td><td>7</td></tr>\n",
       "\t<tr><td>2</td><td>5</td><td>8</td></tr>\n",
       "\t<tr><td>3</td><td>6</td><td>9</td></tr>\n",
       "</tbody>\n",
       "</table>\n"
      ],
      "text/latex": [
       "A matrix: 3 × 3 of type dbl\n",
       "\\begin{tabular}{lll}\n",
       "\t 1 & 4 & 7\\\\\n",
       "\t 2 & 5 & 8\\\\\n",
       "\t 3 & 6 & 9\\\\\n",
       "\\end{tabular}\n"
      ],
      "text/markdown": [
       "\n",
       "A matrix: 3 × 3 of type dbl\n",
       "\n",
       "| 1 | 4 | 7 |\n",
       "| 2 | 5 | 8 |\n",
       "| 3 | 6 | 9 |\n",
       "\n"
      ],
      "text/plain": [
       "     [,1] [,2] [,3]\n",
       "[1,] 1    4    7   \n",
       "[2,] 2    5    8   \n",
       "[3,] 3    6    9   "
      ]
     },
     "metadata": {},
     "output_type": "display_data"
    }
   ],
   "source": [
    "mat[,]## access all rows and cols"
   ]
  },
  {
   "cell_type": "code",
   "execution_count": 4,
   "id": "b71b933f",
   "metadata": {},
   "outputs": [
    {
     "data": {
      "text/html": [
       "<style>\n",
       ".list-inline {list-style: none; margin:0; padding: 0}\n",
       ".list-inline>li {display: inline-block}\n",
       ".list-inline>li:not(:last-child)::after {content: \"\\00b7\"; padding: 0 .5ex}\n",
       "</style>\n",
       "<ol class=list-inline><li>1</li><li>4</li><li>7</li></ol>\n"
      ],
      "text/latex": [
       "\\begin{enumerate*}\n",
       "\\item 1\n",
       "\\item 4\n",
       "\\item 7\n",
       "\\end{enumerate*}\n"
      ],
      "text/markdown": [
       "1. 1\n",
       "2. 4\n",
       "3. 7\n",
       "\n",
       "\n"
      ],
      "text/plain": [
       "[1] 1 4 7"
      ]
     },
     "metadata": {},
     "output_type": "display_data"
    }
   ],
   "source": [
    "mat[1,] ## access only first row"
   ]
  },
  {
   "cell_type": "code",
   "execution_count": 5,
   "id": "49be0b52",
   "metadata": {},
   "outputs": [
    {
     "data": {
      "text/html": [
       "<style>\n",
       ".list-inline {list-style: none; margin:0; padding: 0}\n",
       ".list-inline>li {display: inline-block}\n",
       ".list-inline>li:not(:last-child)::after {content: \"\\00b7\"; padding: 0 .5ex}\n",
       "</style>\n",
       "<ol class=list-inline><li>4</li><li>5</li><li>6</li></ol>\n"
      ],
      "text/latex": [
       "\\begin{enumerate*}\n",
       "\\item 4\n",
       "\\item 5\n",
       "\\item 6\n",
       "\\end{enumerate*}\n"
      ],
      "text/markdown": [
       "1. 4\n",
       "2. 5\n",
       "3. 6\n",
       "\n",
       "\n"
      ],
      "text/plain": [
       "[1] 4 5 6"
      ]
     },
     "metadata": {},
     "output_type": "display_data"
    }
   ],
   "source": [
    "mat[,2] ## access only 2nd colb"
   ]
  },
  {
   "cell_type": "code",
   "execution_count": 6,
   "id": "a3a339cf",
   "metadata": {
    "scrolled": true
   },
   "outputs": [
    {
     "data": {
      "text/html": [
       "<table class=\"dataframe\">\n",
       "<caption>A matrix: 2 × 2 of type dbl</caption>\n",
       "<tbody>\n",
       "\t<tr><td>4</td><td>7</td></tr>\n",
       "\t<tr><td>5</td><td>8</td></tr>\n",
       "</tbody>\n",
       "</table>\n"
      ],
      "text/latex": [
       "A matrix: 2 × 2 of type dbl\n",
       "\\begin{tabular}{ll}\n",
       "\t 4 & 7\\\\\n",
       "\t 5 & 8\\\\\n",
       "\\end{tabular}\n"
      ],
      "text/markdown": [
       "\n",
       "A matrix: 2 × 2 of type dbl\n",
       "\n",
       "| 4 | 7 |\n",
       "| 5 | 8 |\n",
       "\n"
      ],
      "text/plain": [
       "     [,1] [,2]\n",
       "[1,] 4    7   \n",
       "[2,] 5    8   "
      ]
     },
     "metadata": {},
     "output_type": "display_data"
    }
   ],
   "source": [
    "mat[1:2,2:3] ## access 1st and 2nd rows and 2nd and 3rd cols"
   ]
  },
  {
   "cell_type": "code",
   "execution_count": 7,
   "id": "2faa7f86",
   "metadata": {
    "scrolled": true
   },
   "outputs": [
    {
     "data": {
      "text/html": [
       "<table class=\"dataframe\">\n",
       "<caption>A matrix: 2 × 2 of type dbl</caption>\n",
       "<tbody>\n",
       "\t<tr><td>4</td><td>7</td></tr>\n",
       "\t<tr><td>6</td><td>9</td></tr>\n",
       "</tbody>\n",
       "</table>\n"
      ],
      "text/latex": [
       "A matrix: 2 × 2 of type dbl\n",
       "\\begin{tabular}{ll}\n",
       "\t 4 & 7\\\\\n",
       "\t 6 & 9\\\\\n",
       "\\end{tabular}\n"
      ],
      "text/markdown": [
       "\n",
       "A matrix: 2 × 2 of type dbl\n",
       "\n",
       "| 4 | 7 |\n",
       "| 6 | 9 |\n",
       "\n"
      ],
      "text/plain": [
       "     [,1] [,2]\n",
       "[1,] 4    7   \n",
       "[2,] 6    9   "
      ]
     },
     "metadata": {},
     "output_type": "display_data"
    }
   ],
   "source": [
    "mat[c(T,F,T),c(F,T,T)]   ## boolean as indexs"
   ]
  },
  {
   "cell_type": "markdown",
   "id": "de359e73",
   "metadata": {},
   "source": [
    "## add new column"
   ]
  },
  {
   "cell_type": "code",
   "execution_count": 8,
   "id": "5ee24819",
   "metadata": {
    "scrolled": true
   },
   "outputs": [
    {
     "data": {
      "text/html": [
       "<table class=\"dataframe\">\n",
       "<caption>A matrix: 3 × 3 of type dbl</caption>\n",
       "<tbody>\n",
       "\t<tr><td>1</td><td>4</td><td>7</td></tr>\n",
       "\t<tr><td>2</td><td>5</td><td>8</td></tr>\n",
       "\t<tr><td>3</td><td>6</td><td>9</td></tr>\n",
       "</tbody>\n",
       "</table>\n"
      ],
      "text/latex": [
       "A matrix: 3 × 3 of type dbl\n",
       "\\begin{tabular}{lll}\n",
       "\t 1 & 4 & 7\\\\\n",
       "\t 2 & 5 & 8\\\\\n",
       "\t 3 & 6 & 9\\\\\n",
       "\\end{tabular}\n"
      ],
      "text/markdown": [
       "\n",
       "A matrix: 3 × 3 of type dbl\n",
       "\n",
       "| 1 | 4 | 7 |\n",
       "| 2 | 5 | 8 |\n",
       "| 3 | 6 | 9 |\n",
       "\n"
      ],
      "text/plain": [
       "     [,1] [,2] [,3]\n",
       "[1,] 1    4    7   \n",
       "[2,] 2    5    8   \n",
       "[3,] 3    6    9   "
      ]
     },
     "metadata": {},
     "output_type": "display_data"
    }
   ],
   "source": [
    "mat"
   ]
  },
  {
   "cell_type": "code",
   "execution_count": 13,
   "id": "85f3d443",
   "metadata": {},
   "outputs": [
    {
     "data": {
      "text/html": [
       "<style>\n",
       ".list-inline {list-style: none; margin:0; padding: 0}\n",
       ".list-inline>li {display: inline-block}\n",
       ".list-inline>li:not(:last-child)::after {content: \"\\00b7\"; padding: 0 .5ex}\n",
       "</style>\n",
       "<ol class=list-inline><li>3</li><li>3</li></ol>\n"
      ],
      "text/latex": [
       "\\begin{enumerate*}\n",
       "\\item 3\n",
       "\\item 3\n",
       "\\end{enumerate*}\n"
      ],
      "text/markdown": [
       "1. 3\n",
       "2. 3\n",
       "\n",
       "\n"
      ],
      "text/plain": [
       "[1] 3 3"
      ]
     },
     "metadata": {},
     "output_type": "display_data"
    }
   ],
   "source": [
    "dim(mat) ## get number of row and cols in mat"
   ]
  },
  {
   "cell_type": "code",
   "execution_count": 16,
   "id": "018afeb9",
   "metadata": {
    "scrolled": true
   },
   "outputs": [
    {
     "data": {
      "text/html": [
       "<table class=\"dataframe\">\n",
       "<caption>A matrix: 3 × 5 of type dbl</caption>\n",
       "<thead>\n",
       "\t<tr><th scope=col></th><th scope=col></th><th scope=col></th><th scope=col>new_col</th><th scope=col></th></tr>\n",
       "</thead>\n",
       "<tbody>\n",
       "\t<tr><td>1</td><td>4</td><td>7</td><td>0</td><td>0</td></tr>\n",
       "\t<tr><td>2</td><td>5</td><td>8</td><td>0</td><td>0</td></tr>\n",
       "\t<tr><td>3</td><td>6</td><td>9</td><td>0</td><td>0</td></tr>\n",
       "</tbody>\n",
       "</table>\n"
      ],
      "text/latex": [
       "A matrix: 3 × 5 of type dbl\n",
       "\\begin{tabular}{lllll}\n",
       "  &  &  & new\\_col & \\\\\n",
       "\\hline\n",
       "\t 1 & 4 & 7 & 0 & 0\\\\\n",
       "\t 2 & 5 & 8 & 0 & 0\\\\\n",
       "\t 3 & 6 & 9 & 0 & 0\\\\\n",
       "\\end{tabular}\n"
      ],
      "text/markdown": [
       "\n",
       "A matrix: 3 × 5 of type dbl\n",
       "\n",
       "| <!----> | <!----> | <!----> | new_col | <!----> |\n",
       "|---|---|---|---|---|\n",
       "| 1 | 4 | 7 | 0 | 0 |\n",
       "| 2 | 5 | 8 | 0 | 0 |\n",
       "| 3 | 6 | 9 | 0 | 0 |\n",
       "\n"
      ],
      "text/plain": [
       "           new_col  \n",
       "[1,] 1 4 7 0       0\n",
       "[2,] 2 5 8 0       0\n",
       "[3,] 3 6 9 0       0"
      ]
     },
     "metadata": {},
     "output_type": "display_data"
    }
   ],
   "source": [
    "mat<-cbind(mat,c(0,0,0)) ## add new col\n",
    "mat"
   ]
  },
  {
   "cell_type": "code",
   "execution_count": 15,
   "id": "9c48245b",
   "metadata": {
    "scrolled": true
   },
   "outputs": [
    {
     "data": {
      "text/html": [
       "<style>\n",
       ".list-inline {list-style: none; margin:0; padding: 0}\n",
       ".list-inline>li {display: inline-block}\n",
       ".list-inline>li:not(:last-child)::after {content: \"\\00b7\"; padding: 0 .5ex}\n",
       "</style>\n",
       "<ol class=list-inline><li>3</li><li>4</li></ol>\n"
      ],
      "text/latex": [
       "\\begin{enumerate*}\n",
       "\\item 3\n",
       "\\item 4\n",
       "\\end{enumerate*}\n"
      ],
      "text/markdown": [
       "1. 3\n",
       "2. 4\n",
       "\n",
       "\n"
      ],
      "text/plain": [
       "[1] 3 4"
      ]
     },
     "metadata": {},
     "output_type": "display_data"
    }
   ],
   "source": [
    "dim(mat)"
   ]
  },
  {
   "cell_type": "markdown",
   "id": "e0f3c535",
   "metadata": {},
   "source": [
    "## remove a specific col"
   ]
  },
  {
   "cell_type": "code",
   "execution_count": 18,
   "id": "92d6f99a",
   "metadata": {
    "scrolled": true
   },
   "outputs": [
    {
     "data": {
      "text/html": [
       "<table class=\"dataframe\">\n",
       "<caption>A matrix: 3 × 4 of type dbl</caption>\n",
       "<thead>\n",
       "\t<tr><th scope=col></th><th scope=col></th><th scope=col></th><th scope=col></th></tr>\n",
       "</thead>\n",
       "<tbody>\n",
       "\t<tr><td>1</td><td>4</td><td>7</td><td>0</td></tr>\n",
       "\t<tr><td>2</td><td>5</td><td>8</td><td>0</td></tr>\n",
       "\t<tr><td>3</td><td>6</td><td>9</td><td>0</td></tr>\n",
       "</tbody>\n",
       "</table>\n"
      ],
      "text/latex": [
       "A matrix: 3 × 4 of type dbl\n",
       "\\begin{tabular}{llll}\n",
       "  &  &  & \\\\\n",
       "\\hline\n",
       "\t 1 & 4 & 7 & 0\\\\\n",
       "\t 2 & 5 & 8 & 0\\\\\n",
       "\t 3 & 6 & 9 & 0\\\\\n",
       "\\end{tabular}\n"
      ],
      "text/markdown": [
       "\n",
       "A matrix: 3 × 4 of type dbl\n",
       "\n",
       "| <!----> | <!----> | <!----> | <!----> |\n",
       "|---|---|---|---|\n",
       "| 1 | 4 | 7 | 0 |\n",
       "| 2 | 5 | 8 | 0 |\n",
       "| 3 | 6 | 9 | 0 |\n",
       "\n"
      ],
      "text/plain": [
       "            \n",
       "[1,] 1 4 7 0\n",
       "[2,] 2 5 8 0\n",
       "[3,] 3 6 9 0"
      ]
     },
     "metadata": {},
     "output_type": "display_data"
    }
   ],
   "source": [
    "mat<-mat[,-4] # remove col 4 or give all cols except col 4\n",
    "mat"
   ]
  },
  {
   "cell_type": "markdown",
   "id": "d80cbfc2",
   "metadata": {},
   "source": [
    "## add new row"
   ]
  },
  {
   "cell_type": "code",
   "execution_count": 20,
   "id": "c47929ba",
   "metadata": {
    "scrolled": true
   },
   "outputs": [
    {
     "name": "stderr",
     "output_type": "stream",
     "text": [
      "Warning message in rbind(mat, c(-1, -1, -1)):\n",
      "“number of columns of result is not a multiple of vector length (arg 2)”\n"
     ]
    },
    {
     "data": {
      "text/html": [
       "<table class=\"dataframe\">\n",
       "<caption>A matrix: 4 × 4 of type dbl</caption>\n",
       "<thead>\n",
       "\t<tr><th scope=col></th><th scope=col></th><th scope=col></th><th scope=col></th></tr>\n",
       "</thead>\n",
       "<tbody>\n",
       "\t<tr><td> 1</td><td> 4</td><td> 7</td><td> 0</td></tr>\n",
       "\t<tr><td> 2</td><td> 5</td><td> 8</td><td> 0</td></tr>\n",
       "\t<tr><td> 3</td><td> 6</td><td> 9</td><td> 0</td></tr>\n",
       "\t<tr><td>-1</td><td>-1</td><td>-1</td><td>-1</td></tr>\n",
       "</tbody>\n",
       "</table>\n"
      ],
      "text/latex": [
       "A matrix: 4 × 4 of type dbl\n",
       "\\begin{tabular}{llll}\n",
       "  &  &  & \\\\\n",
       "\\hline\n",
       "\t  1 &  4 &  7 &  0\\\\\n",
       "\t  2 &  5 &  8 &  0\\\\\n",
       "\t  3 &  6 &  9 &  0\\\\\n",
       "\t -1 & -1 & -1 & -1\\\\\n",
       "\\end{tabular}\n"
      ],
      "text/markdown": [
       "\n",
       "A matrix: 4 × 4 of type dbl\n",
       "\n",
       "| <!----> | <!----> | <!----> | <!----> |\n",
       "|---|---|---|---|\n",
       "|  1 |  4 |  7 |  0 |\n",
       "|  2 |  5 |  8 |  0 |\n",
       "|  3 |  6 |  9 |  0 |\n",
       "| -1 | -1 | -1 | -1 |\n",
       "\n"
      ],
      "text/plain": [
       "                \n",
       "[1,]  1  4  7  0\n",
       "[2,]  2  5  8  0\n",
       "[3,]  3  6  9  0\n",
       "[4,] -1 -1 -1 -1"
      ]
     },
     "metadata": {},
     "output_type": "display_data"
    }
   ],
   "source": [
    "rbind(mat,c(-1,-1,-1)) ## ??"
   ]
  },
  {
   "cell_type": "code",
   "execution_count": 22,
   "id": "80986e62",
   "metadata": {},
   "outputs": [
    {
     "data": {
      "text/html": [
       "<table class=\"dataframe\">\n",
       "<caption>A matrix: 4 × 4 of type dbl</caption>\n",
       "<thead>\n",
       "\t<tr><th scope=col></th><th scope=col></th><th scope=col></th><th scope=col></th></tr>\n",
       "</thead>\n",
       "<tbody>\n",
       "\t<tr><td> 1</td><td> 4</td><td> 7</td><td> 0</td></tr>\n",
       "\t<tr><td> 2</td><td> 5</td><td> 8</td><td> 0</td></tr>\n",
       "\t<tr><td> 3</td><td> 6</td><td> 9</td><td> 0</td></tr>\n",
       "\t<tr><td>-1</td><td>-1</td><td>-1</td><td>-1</td></tr>\n",
       "</tbody>\n",
       "</table>\n"
      ],
      "text/latex": [
       "A matrix: 4 × 4 of type dbl\n",
       "\\begin{tabular}{llll}\n",
       "  &  &  & \\\\\n",
       "\\hline\n",
       "\t  1 &  4 &  7 &  0\\\\\n",
       "\t  2 &  5 &  8 &  0\\\\\n",
       "\t  3 &  6 &  9 &  0\\\\\n",
       "\t -1 & -1 & -1 & -1\\\\\n",
       "\\end{tabular}\n"
      ],
      "text/markdown": [
       "\n",
       "A matrix: 4 × 4 of type dbl\n",
       "\n",
       "| <!----> | <!----> | <!----> | <!----> |\n",
       "|---|---|---|---|\n",
       "|  1 |  4 |  7 |  0 |\n",
       "|  2 |  5 |  8 |  0 |\n",
       "|  3 |  6 |  9 |  0 |\n",
       "| -1 | -1 | -1 | -1 |\n",
       "\n"
      ],
      "text/plain": [
       "                \n",
       "[1,]  1  4  7  0\n",
       "[2,]  2  5  8  0\n",
       "[3,]  3  6  9  0\n",
       "[4,] -1 -1 -1 -1"
      ]
     },
     "metadata": {},
     "output_type": "display_data"
    }
   ],
   "source": [
    "mat<-rbind(mat,c(-1,-1,-1,-1))\n",
    "mat"
   ]
  },
  {
   "cell_type": "code",
   "execution_count": 23,
   "id": "617ecd18",
   "metadata": {},
   "outputs": [
    {
     "data": {
      "text/html": [
       "<style>\n",
       ".list-inline {list-style: none; margin:0; padding: 0}\n",
       ".list-inline>li {display: inline-block}\n",
       ".list-inline>li:not(:last-child)::after {content: \"\\00b7\"; padding: 0 .5ex}\n",
       "</style>\n",
       "<ol class=list-inline><li>4</li><li>4</li></ol>\n"
      ],
      "text/latex": [
       "\\begin{enumerate*}\n",
       "\\item 4\n",
       "\\item 4\n",
       "\\end{enumerate*}\n"
      ],
      "text/markdown": [
       "1. 4\n",
       "2. 4\n",
       "\n",
       "\n"
      ],
      "text/plain": [
       "[1] 4 4"
      ]
     },
     "metadata": {},
     "output_type": "display_data"
    }
   ],
   "source": [
    "dim(mat)"
   ]
  },
  {
   "cell_type": "markdown",
   "id": "915fe314",
   "metadata": {},
   "source": [
    "## find rows and cols sum"
   ]
  },
  {
   "cell_type": "code",
   "execution_count": 24,
   "id": "a12b7a6b",
   "metadata": {
    "scrolled": true
   },
   "outputs": [
    {
     "data": {
      "text/html": [
       "<style>\n",
       ".list-inline {list-style: none; margin:0; padding: 0}\n",
       ".list-inline>li {display: inline-block}\n",
       ".list-inline>li:not(:last-child)::after {content: \"\\00b7\"; padding: 0 .5ex}\n",
       "</style>\n",
       "<ol class=list-inline><li>12</li><li>15</li><li>18</li><li>-4</li></ol>\n"
      ],
      "text/latex": [
       "\\begin{enumerate*}\n",
       "\\item 12\n",
       "\\item 15\n",
       "\\item 18\n",
       "\\item -4\n",
       "\\end{enumerate*}\n"
      ],
      "text/markdown": [
       "1. 12\n",
       "2. 15\n",
       "3. 18\n",
       "4. -4\n",
       "\n",
       "\n"
      ],
      "text/plain": [
       "[1] 12 15 18 -4"
      ]
     },
     "metadata": {},
     "output_type": "display_data"
    }
   ],
   "source": [
    "rowSums(mat)"
   ]
  },
  {
   "cell_type": "code",
   "execution_count": 25,
   "id": "75455622",
   "metadata": {
    "scrolled": true
   },
   "outputs": [
    {
     "data": {
      "text/html": [
       "<style>\n",
       ".dl-inline {width: auto; margin:0; padding: 0}\n",
       ".dl-inline>dt, .dl-inline>dd {float: none; width: auto; display: inline-block}\n",
       ".dl-inline>dt::after {content: \":\\0020\"; padding-right: .5ex}\n",
       ".dl-inline>dt:not(:first-of-type) {padding-left: .5ex}\n",
       "</style><dl class=dl-inline><dt>1</dt><dd>5</dd><dt>2</dt><dd>14</dd><dt>3</dt><dd>23</dd><dt>4</dt><dd>-1</dd></dl>\n"
      ],
      "text/latex": [
       "\\begin{description*}\n",
       "\\item[1] 5\n",
       "\\item[2] 14\n",
       "\\item[3] 23\n",
       "\\item[4] -1\n",
       "\\end{description*}\n"
      ],
      "text/markdown": [
       "1\n",
       ":   52\n",
       ":   143\n",
       ":   234\n",
       ":   -1\n",
       "\n"
      ],
      "text/plain": [
       "            \n",
       " 5 14 23 -1 "
      ]
     },
     "metadata": {},
     "output_type": "display_data"
    }
   ],
   "source": [
    "colSums(mat)"
   ]
  },
  {
   "cell_type": "code",
   "execution_count": 27,
   "id": "f9218b73",
   "metadata": {},
   "outputs": [
    {
     "data": {
      "text/html": [
       "'double'"
      ],
      "text/latex": [
       "'double'"
      ],
      "text/markdown": [
       "'double'"
      ],
      "text/plain": [
       "[1] \"double\""
      ]
     },
     "metadata": {},
     "output_type": "display_data"
    }
   ],
   "source": [
    "typeof(colSums(mat)) # check type"
   ]
  },
  {
   "cell_type": "markdown",
   "id": "15b8ad1b",
   "metadata": {},
   "source": [
    "<h3 style=\"color:blue;text-align:center\">Exercise 6</h3>"
   ]
  },
  {
   "cell_type": "markdown",
   "id": "d1910f13",
   "metadata": {},
   "source": [
    "Construct a matrix with 8 rows and 10 columns. The first row should\n",
    "contain the numbers 0, 2, 4, ..., 18 and the other rows should random\n",
    "integer numbers between 0 and 10. Use runif() to create the random\n",
    "numbers and as.integer() to transform to integers."
   ]
  },
  {
   "cell_type": "code",
   "execution_count": 32,
   "id": "91d17300",
   "metadata": {},
   "outputs": [],
   "source": [
    "mat<-matrix(c(seq(from=0,to=18,by=2),as.integer(runif(n = 70,min = 10,max=80))) \n",
    "            ,nrow=8,ncol=10,byrow=T)"
   ]
  },
  {
   "cell_type": "code",
   "execution_count": 29,
   "id": "34f9bda9",
   "metadata": {},
   "outputs": [
    {
     "data": {
      "text/html": [
       "10"
      ],
      "text/latex": [
       "10"
      ],
      "text/markdown": [
       "10"
      ],
      "text/plain": [
       "[1] 10"
      ]
     },
     "metadata": {},
     "output_type": "display_data"
    }
   ],
   "source": [
    "length(seq(from=0,to=18,by=2))"
   ]
  },
  {
   "cell_type": "code",
   "execution_count": 33,
   "id": "0faaedc3",
   "metadata": {
    "scrolled": true
   },
   "outputs": [
    {
     "data": {
      "text/html": [
       "<table class=\"dataframe\">\n",
       "<caption>A matrix: 8 × 10 of type dbl</caption>\n",
       "<tbody>\n",
       "\t<tr><td> 0</td><td> 2</td><td> 4</td><td> 6</td><td> 8</td><td>10</td><td>12</td><td>14</td><td>16</td><td>18</td></tr>\n",
       "\t<tr><td>21</td><td>11</td><td>23</td><td>44</td><td>61</td><td>21</td><td>16</td><td>44</td><td>58</td><td>57</td></tr>\n",
       "\t<tr><td>76</td><td>33</td><td>52</td><td>52</td><td>35</td><td>55</td><td>10</td><td>71</td><td>28</td><td>67</td></tr>\n",
       "\t<tr><td>25</td><td>10</td><td>51</td><td>39</td><td>72</td><td>44</td><td>31</td><td>28</td><td>15</td><td>67</td></tr>\n",
       "\t<tr><td>30</td><td>68</td><td>62</td><td>77</td><td>49</td><td>77</td><td>70</td><td>65</td><td>50</td><td>28</td></tr>\n",
       "\t<tr><td>24</td><td>40</td><td>73</td><td>38</td><td>75</td><td>33</td><td>75</td><td>40</td><td>38</td><td>78</td></tr>\n",
       "\t<tr><td>29</td><td>23</td><td>78</td><td>32</td><td>23</td><td>18</td><td>26</td><td>66</td><td>26</td><td>62</td></tr>\n",
       "\t<tr><td>59</td><td>54</td><td>55</td><td>10</td><td>48</td><td>51</td><td>18</td><td>13</td><td>18</td><td>12</td></tr>\n",
       "</tbody>\n",
       "</table>\n"
      ],
      "text/latex": [
       "A matrix: 8 × 10 of type dbl\n",
       "\\begin{tabular}{llllllllll}\n",
       "\t  0 &  2 &  4 &  6 &  8 & 10 & 12 & 14 & 16 & 18\\\\\n",
       "\t 21 & 11 & 23 & 44 & 61 & 21 & 16 & 44 & 58 & 57\\\\\n",
       "\t 76 & 33 & 52 & 52 & 35 & 55 & 10 & 71 & 28 & 67\\\\\n",
       "\t 25 & 10 & 51 & 39 & 72 & 44 & 31 & 28 & 15 & 67\\\\\n",
       "\t 30 & 68 & 62 & 77 & 49 & 77 & 70 & 65 & 50 & 28\\\\\n",
       "\t 24 & 40 & 73 & 38 & 75 & 33 & 75 & 40 & 38 & 78\\\\\n",
       "\t 29 & 23 & 78 & 32 & 23 & 18 & 26 & 66 & 26 & 62\\\\\n",
       "\t 59 & 54 & 55 & 10 & 48 & 51 & 18 & 13 & 18 & 12\\\\\n",
       "\\end{tabular}\n"
      ],
      "text/markdown": [
       "\n",
       "A matrix: 8 × 10 of type dbl\n",
       "\n",
       "|  0 |  2 |  4 |  6 |  8 | 10 | 12 | 14 | 16 | 18 |\n",
       "| 21 | 11 | 23 | 44 | 61 | 21 | 16 | 44 | 58 | 57 |\n",
       "| 76 | 33 | 52 | 52 | 35 | 55 | 10 | 71 | 28 | 67 |\n",
       "| 25 | 10 | 51 | 39 | 72 | 44 | 31 | 28 | 15 | 67 |\n",
       "| 30 | 68 | 62 | 77 | 49 | 77 | 70 | 65 | 50 | 28 |\n",
       "| 24 | 40 | 73 | 38 | 75 | 33 | 75 | 40 | 38 | 78 |\n",
       "| 29 | 23 | 78 | 32 | 23 | 18 | 26 | 66 | 26 | 62 |\n",
       "| 59 | 54 | 55 | 10 | 48 | 51 | 18 | 13 | 18 | 12 |\n",
       "\n"
      ],
      "text/plain": [
       "     [,1] [,2] [,3] [,4] [,5] [,6] [,7] [,8] [,9] [,10]\n",
       "[1,]  0    2    4    6    8   10   12   14   16   18   \n",
       "[2,] 21   11   23   44   61   21   16   44   58   57   \n",
       "[3,] 76   33   52   52   35   55   10   71   28   67   \n",
       "[4,] 25   10   51   39   72   44   31   28   15   67   \n",
       "[5,] 30   68   62   77   49   77   70   65   50   28   \n",
       "[6,] 24   40   73   38   75   33   75   40   38   78   \n",
       "[7,] 29   23   78   32   23   18   26   66   26   62   \n",
       "[8,] 59   54   55   10   48   51   18   13   18   12   "
      ]
     },
     "metadata": {},
     "output_type": "display_data"
    }
   ],
   "source": [
    "mat"
   ]
  },
  {
   "cell_type": "markdown",
   "id": "0485de96",
   "metadata": {},
   "source": [
    "+ Calculate the row means of this matrix (use rowMeans()) and the\n",
    "   standard deviation across the row means."
   ]
  },
  {
   "cell_type": "code",
   "execution_count": 34,
   "id": "3aa454f1",
   "metadata": {
    "scrolled": true
   },
   "outputs": [
    {
     "data": {
      "text/html": [
       "<style>\n",
       ".list-inline {list-style: none; margin:0; padding: 0}\n",
       ".list-inline>li {display: inline-block}\n",
       ".list-inline>li:not(:last-child)::after {content: \"\\00b7\"; padding: 0 .5ex}\n",
       "</style>\n",
       "<ol class=list-inline><li>9</li><li>35.6</li><li>47.9</li><li>38.2</li><li>57.6</li><li>51.4</li><li>38.3</li><li>33.8</li></ol>\n"
      ],
      "text/latex": [
       "\\begin{enumerate*}\n",
       "\\item 9\n",
       "\\item 35.6\n",
       "\\item 47.9\n",
       "\\item 38.2\n",
       "\\item 57.6\n",
       "\\item 51.4\n",
       "\\item 38.3\n",
       "\\item 33.8\n",
       "\\end{enumerate*}\n"
      ],
      "text/markdown": [
       "1. 9\n",
       "2. 35.6\n",
       "3. 47.9\n",
       "4. 38.2\n",
       "5. 57.6\n",
       "6. 51.4\n",
       "7. 38.3\n",
       "8. 33.8\n",
       "\n",
       "\n"
      ],
      "text/plain": [
       "[1]  9.0 35.6 47.9 38.2 57.6 51.4 38.3 33.8"
      ]
     },
     "metadata": {},
     "output_type": "display_data"
    }
   ],
   "source": [
    "rowMeans(mat)"
   ]
  },
  {
   "cell_type": "code",
   "execution_count": 36,
   "id": "4585845a",
   "metadata": {
    "scrolled": true
   },
   "outputs": [
    {
     "data": {
      "text/html": [
       "35.6"
      ],
      "text/latex": [
       "35.6"
      ],
      "text/markdown": [
       "35.6"
      ],
      "text/plain": [
       "[1] 35.6"
      ]
     },
     "metadata": {},
     "output_type": "display_data"
    }
   ],
   "source": [
    "mean(mat[2,])"
   ]
  },
  {
   "cell_type": "code",
   "execution_count": 37,
   "id": "4cd14653",
   "metadata": {},
   "outputs": [
    {
     "data": {
      "text/html": [
       "14.7292469015125"
      ],
      "text/latex": [
       "14.7292469015125"
      ],
      "text/markdown": [
       "14.7292469015125"
      ],
      "text/plain": [
       "[1] 14.72925"
      ]
     },
     "metadata": {},
     "output_type": "display_data"
    }
   ],
   "source": [
    "sd(rowMeans(mat))"
   ]
  },
  {
   "cell_type": "markdown",
   "id": "93d14e1d",
   "metadata": {},
   "source": [
    "+ Store the rows 2,3,..,8 in a other matrix and calculate the column\n",
    "    means (use colMeans()). Use the command hist() to create a\n",
    "   histogram of the column means."
   ]
  },
  {
   "cell_type": "code",
   "execution_count": 40,
   "id": "636c9259",
   "metadata": {
    "scrolled": true
   },
   "outputs": [
    {
     "data": {
      "text/html": [
       "<table class=\"dataframe\">\n",
       "<caption>A matrix: 7 × 10 of type dbl</caption>\n",
       "<tbody>\n",
       "\t<tr><td>21</td><td>11</td><td>23</td><td>44</td><td>61</td><td>21</td><td>16</td><td>44</td><td>58</td><td>57</td></tr>\n",
       "\t<tr><td>76</td><td>33</td><td>52</td><td>52</td><td>35</td><td>55</td><td>10</td><td>71</td><td>28</td><td>67</td></tr>\n",
       "\t<tr><td>25</td><td>10</td><td>51</td><td>39</td><td>72</td><td>44</td><td>31</td><td>28</td><td>15</td><td>67</td></tr>\n",
       "\t<tr><td>30</td><td>68</td><td>62</td><td>77</td><td>49</td><td>77</td><td>70</td><td>65</td><td>50</td><td>28</td></tr>\n",
       "\t<tr><td>24</td><td>40</td><td>73</td><td>38</td><td>75</td><td>33</td><td>75</td><td>40</td><td>38</td><td>78</td></tr>\n",
       "\t<tr><td>29</td><td>23</td><td>78</td><td>32</td><td>23</td><td>18</td><td>26</td><td>66</td><td>26</td><td>62</td></tr>\n",
       "\t<tr><td>59</td><td>54</td><td>55</td><td>10</td><td>48</td><td>51</td><td>18</td><td>13</td><td>18</td><td>12</td></tr>\n",
       "</tbody>\n",
       "</table>\n"
      ],
      "text/latex": [
       "A matrix: 7 × 10 of type dbl\n",
       "\\begin{tabular}{llllllllll}\n",
       "\t 21 & 11 & 23 & 44 & 61 & 21 & 16 & 44 & 58 & 57\\\\\n",
       "\t 76 & 33 & 52 & 52 & 35 & 55 & 10 & 71 & 28 & 67\\\\\n",
       "\t 25 & 10 & 51 & 39 & 72 & 44 & 31 & 28 & 15 & 67\\\\\n",
       "\t 30 & 68 & 62 & 77 & 49 & 77 & 70 & 65 & 50 & 28\\\\\n",
       "\t 24 & 40 & 73 & 38 & 75 & 33 & 75 & 40 & 38 & 78\\\\\n",
       "\t 29 & 23 & 78 & 32 & 23 & 18 & 26 & 66 & 26 & 62\\\\\n",
       "\t 59 & 54 & 55 & 10 & 48 & 51 & 18 & 13 & 18 & 12\\\\\n",
       "\\end{tabular}\n"
      ],
      "text/markdown": [
       "\n",
       "A matrix: 7 × 10 of type dbl\n",
       "\n",
       "| 21 | 11 | 23 | 44 | 61 | 21 | 16 | 44 | 58 | 57 |\n",
       "| 76 | 33 | 52 | 52 | 35 | 55 | 10 | 71 | 28 | 67 |\n",
       "| 25 | 10 | 51 | 39 | 72 | 44 | 31 | 28 | 15 | 67 |\n",
       "| 30 | 68 | 62 | 77 | 49 | 77 | 70 | 65 | 50 | 28 |\n",
       "| 24 | 40 | 73 | 38 | 75 | 33 | 75 | 40 | 38 | 78 |\n",
       "| 29 | 23 | 78 | 32 | 23 | 18 | 26 | 66 | 26 | 62 |\n",
       "| 59 | 54 | 55 | 10 | 48 | 51 | 18 | 13 | 18 | 12 |\n",
       "\n"
      ],
      "text/plain": [
       "     [,1] [,2] [,3] [,4] [,5] [,6] [,7] [,8] [,9] [,10]\n",
       "[1,] 21   11   23   44   61   21   16   44   58   57   \n",
       "[2,] 76   33   52   52   35   55   10   71   28   67   \n",
       "[3,] 25   10   51   39   72   44   31   28   15   67   \n",
       "[4,] 30   68   62   77   49   77   70   65   50   28   \n",
       "[5,] 24   40   73   38   75   33   75   40   38   78   \n",
       "[6,] 29   23   78   32   23   18   26   66   26   62   \n",
       "[7,] 59   54   55   10   48   51   18   13   18   12   "
      ]
     },
     "metadata": {},
     "output_type": "display_data"
    }
   ],
   "source": [
    "sub_mat<-mat[2:nrow(mat),]\n",
    "sub_mat"
   ]
  },
  {
   "cell_type": "code",
   "execution_count": 41,
   "id": "0c65ee43",
   "metadata": {
    "scrolled": true
   },
   "outputs": [
    {
     "data": {
      "text/html": [
       "<style>\n",
       ".list-inline {list-style: none; margin:0; padding: 0}\n",
       ".list-inline>li {display: inline-block}\n",
       ".list-inline>li:not(:last-child)::after {content: \"\\00b7\"; padding: 0 .5ex}\n",
       "</style>\n",
       "<ol class=list-inline><li>37.7142857142857</li><li>34.1428571428571</li><li>56.2857142857143</li><li>41.7142857142857</li><li>51.8571428571429</li><li>42.7142857142857</li><li>35.1428571428571</li><li>46.7142857142857</li><li>33.2857142857143</li><li>53</li></ol>\n"
      ],
      "text/latex": [
       "\\begin{enumerate*}\n",
       "\\item 37.7142857142857\n",
       "\\item 34.1428571428571\n",
       "\\item 56.2857142857143\n",
       "\\item 41.7142857142857\n",
       "\\item 51.8571428571429\n",
       "\\item 42.7142857142857\n",
       "\\item 35.1428571428571\n",
       "\\item 46.7142857142857\n",
       "\\item 33.2857142857143\n",
       "\\item 53\n",
       "\\end{enumerate*}\n"
      ],
      "text/markdown": [
       "1. 37.7142857142857\n",
       "2. 34.1428571428571\n",
       "3. 56.2857142857143\n",
       "4. 41.7142857142857\n",
       "5. 51.8571428571429\n",
       "6. 42.7142857142857\n",
       "7. 35.1428571428571\n",
       "8. 46.7142857142857\n",
       "9. 33.2857142857143\n",
       "10. 53\n",
       "\n",
       "\n"
      ],
      "text/plain": [
       " [1] 37.71429 34.14286 56.28571 41.71429 51.85714 42.71429 35.14286 46.71429\n",
       " [9] 33.28571 53.00000"
      ]
     },
     "metadata": {},
     "output_type": "display_data"
    }
   ],
   "source": [
    "colMeans(sub_mat)"
   ]
  },
  {
   "cell_type": "code",
   "execution_count": 44,
   "id": "6091cbfd",
   "metadata": {
    "scrolled": false
   },
   "outputs": [
    {
     "data": {
      "image/png": "[encoded data removed]",
      "text/plain": [
       "Plot with title “Histogram”"
      ]
     },
     "metadata": {
      "image/png": {
       "height": 420,
       "width": 420
      }
     },
     "output_type": "display_data"
    }
   ],
   "source": [
    "hist(colMeans(sub_mat),xlab = \"Means\",main = \"Histogram\")"
   ]
  },
  {
   "cell_type": "markdown",
   "id": "4b098f46",
   "metadata": {},
   "source": [
    "<h3 style=\"color:blue;text-align:center\">Exercise 7</h3>"
   ]
  },
  {
   "cell_type": "code",
   "execution_count": 1,
   "id": "64deebfd",
   "metadata": {
    "scrolled": false
   },
   "outputs": [
    {
     "name": "stderr",
     "output_type": "stream",
     "text": [
      "Installing package into ‘/home/jrana/R/x86_64-pc-linux-gnu-library/4.2’\n",
      "(as ‘lib’ is unspecified)\n",
      "\n"
     ]
    }
   ],
   "source": [
    "install.packages('ggplot2')"
   ]
  },
  {
   "cell_type": "code",
   "execution_count": 3,
   "id": "7480c422",
   "metadata": {},
   "outputs": [],
   "source": [
    "library('ggplot2')\n"
   ]
  },
  {
   "cell_type": "code",
   "execution_count": 5,
   "id": "635545fb",
   "metadata": {
    "scrolled": true
   },
   "outputs": [
    {
     "data": {
      "text/html": [
       "<style>\n",
       ".list-inline {list-style: none; margin:0; padding: 0}\n",
       ".list-inline>li {display: inline-block}\n",
       ".list-inline>li:not(:last-child)::after {content: \"\\00b7\"; padding: 0 .5ex}\n",
       "</style>\n",
       "<ol class=list-inline><li>234</li><li>11</li></ol>\n"
      ],
      "text/latex": [
       "\\begin{enumerate*}\n",
       "\\item 234\n",
       "\\item 11\n",
       "\\end{enumerate*}\n"
      ],
      "text/markdown": [
       "1. 234\n",
       "2. 11\n",
       "\n",
       "\n"
      ],
      "text/plain": [
       "[1] 234  11"
      ]
     },
     "metadata": {},
     "output_type": "display_data"
    }
   ],
   "source": [
    "dim(mpg)"
   ]
  },
  {
   "cell_type": "code",
   "execution_count": 16,
   "id": "97d5bed4",
   "metadata": {},
   "outputs": [
    {
     "data": {
      "text/html": [
       "<table class=\"dataframe\">\n",
       "<caption>A tibble: 5 × 11</caption>\n",
       "<thead>\n",
       "\t<tr><th scope=col>manufacturer</th><th scope=col>model</th><th scope=col>displ</th><th scope=col>year</th><th scope=col>cyl</th><th scope=col>trans</th><th scope=col>drv</th><th scope=col>cty</th><th scope=col>hwy</th><th scope=col>fl</th><th scope=col>class</th></tr>\n",
       "\t<tr><th scope=col>&lt;chr&gt;</th><th scope=col>&lt;chr&gt;</th><th scope=col>&lt;dbl&gt;</th><th scope=col>&lt;int&gt;</th><th scope=col>&lt;int&gt;</th><th scope=col>&lt;chr&gt;</th><th scope=col>&lt;chr&gt;</th><th scope=col>&lt;int&gt;</th><th scope=col>&lt;int&gt;</th><th scope=col>&lt;chr&gt;</th><th scope=col>&lt;chr&gt;</th></tr>\n",
       "</thead>\n",
       "<tbody>\n",
       "\t<tr><td>audi</td><td>a4</td><td>1.8</td><td>1999</td><td>4</td><td>auto(l5)  </td><td>f</td><td>18</td><td>29</td><td>p</td><td>compact</td></tr>\n",
       "\t<tr><td>audi</td><td>a4</td><td>1.8</td><td>1999</td><td>4</td><td>manual(m5)</td><td>f</td><td>21</td><td>29</td><td>p</td><td>compact</td></tr>\n",
       "\t<tr><td>audi</td><td>a4</td><td>2.0</td><td>2008</td><td>4</td><td>manual(m6)</td><td>f</td><td>20</td><td>31</td><td>p</td><td>compact</td></tr>\n",
       "\t<tr><td>audi</td><td>a4</td><td>2.0</td><td>2008</td><td>4</td><td>auto(av)  </td><td>f</td><td>21</td><td>30</td><td>p</td><td>compact</td></tr>\n",
       "\t<tr><td>audi</td><td>a4</td><td>2.8</td><td>1999</td><td>6</td><td>auto(l5)  </td><td>f</td><td>16</td><td>26</td><td>p</td><td>compact</td></tr>\n",
       "</tbody>\n",
       "</table>\n"
      ],
      "text/latex": [
       "A tibble: 5 × 11\n",
       "\\begin{tabular}{lllllllllll}\n",
       " manufacturer & model & displ & year & cyl & trans & drv & cty & hwy & fl & class\\\\\n",
       " <chr> & <chr> & <dbl> & <int> & <int> & <chr> & <chr> & <int> & <int> & <chr> & <chr>\\\\\n",
       "\\hline\n",
       "\t audi & a4 & 1.8 & 1999 & 4 & auto(l5)   & f & 18 & 29 & p & compact\\\\\n",
       "\t audi & a4 & 1.8 & 1999 & 4 & manual(m5) & f & 21 & 29 & p & compact\\\\\n",
       "\t audi & a4 & 2.0 & 2008 & 4 & manual(m6) & f & 20 & 31 & p & compact\\\\\n",
       "\t audi & a4 & 2.0 & 2008 & 4 & auto(av)   & f & 21 & 30 & p & compact\\\\\n",
       "\t audi & a4 & 2.8 & 1999 & 6 & auto(l5)   & f & 16 & 26 & p & compact\\\\\n",
       "\\end{tabular}\n"
      ],
      "text/markdown": [
       "\n",
       "A tibble: 5 × 11\n",
       "\n",
       "| manufacturer &lt;chr&gt; | model &lt;chr&gt; | displ &lt;dbl&gt; | year &lt;int&gt; | cyl &lt;int&gt; | trans &lt;chr&gt; | drv &lt;chr&gt; | cty &lt;int&gt; | hwy &lt;int&gt; | fl &lt;chr&gt; | class &lt;chr&gt; |\n",
       "|---|---|---|---|---|---|---|---|---|---|---|\n",
       "| audi | a4 | 1.8 | 1999 | 4 | auto(l5)   | f | 18 | 29 | p | compact |\n",
       "| audi | a4 | 1.8 | 1999 | 4 | manual(m5) | f | 21 | 29 | p | compact |\n",
       "| audi | a4 | 2.0 | 2008 | 4 | manual(m6) | f | 20 | 31 | p | compact |\n",
       "| audi | a4 | 2.0 | 2008 | 4 | auto(av)   | f | 21 | 30 | p | compact |\n",
       "| audi | a4 | 2.8 | 1999 | 6 | auto(l5)   | f | 16 | 26 | p | compact |\n",
       "\n"
      ],
      "text/plain": [
       "  manufacturer model displ year cyl trans      drv cty hwy fl class  \n",
       "1 audi         a4    1.8   1999 4   auto(l5)   f   18  29  p  compact\n",
       "2 audi         a4    1.8   1999 4   manual(m5) f   21  29  p  compact\n",
       "3 audi         a4    2.0   2008 4   manual(m6) f   20  31  p  compact\n",
       "4 audi         a4    2.0   2008 4   auto(av)   f   21  30  p  compact\n",
       "5 audi         a4    2.8   1999 6   auto(l5)   f   16  26  p  compact"
      ]
     },
     "metadata": {},
     "output_type": "display_data"
    }
   ],
   "source": [
    "mpg %>% slice(1:5)"
   ]
  },
  {
   "cell_type": "code",
   "execution_count": 6,
   "id": "2e4fe352",
   "metadata": {
    "scrolled": true
   },
   "outputs": [
    {
     "data": {
      "text/html": [
       "<style>\n",
       ".list-inline {list-style: none; margin:0; padding: 0}\n",
       ".list-inline>li {display: inline-block}\n",
       ".list-inline>li:not(:last-child)::after {content: \"\\00b7\"; padding: 0 .5ex}\n",
       "</style>\n",
       "<ol class=list-inline><li>'manufacturer'</li><li>'model'</li><li>'displ'</li><li>'year'</li><li>'cyl'</li><li>'trans'</li><li>'drv'</li><li>'cty'</li><li>'hwy'</li><li>'fl'</li><li>'class'</li></ol>\n"
      ],
      "text/latex": [
       "\\begin{enumerate*}\n",
       "\\item 'manufacturer'\n",
       "\\item 'model'\n",
       "\\item 'displ'\n",
       "\\item 'year'\n",
       "\\item 'cyl'\n",
       "\\item 'trans'\n",
       "\\item 'drv'\n",
       "\\item 'cty'\n",
       "\\item 'hwy'\n",
       "\\item 'fl'\n",
       "\\item 'class'\n",
       "\\end{enumerate*}\n"
      ],
      "text/markdown": [
       "1. 'manufacturer'\n",
       "2. 'model'\n",
       "3. 'displ'\n",
       "4. 'year'\n",
       "5. 'cyl'\n",
       "6. 'trans'\n",
       "7. 'drv'\n",
       "8. 'cty'\n",
       "9. 'hwy'\n",
       "10. 'fl'\n",
       "11. 'class'\n",
       "\n",
       "\n"
      ],
      "text/plain": [
       " [1] \"manufacturer\" \"model\"        \"displ\"        \"year\"         \"cyl\"         \n",
       " [6] \"trans\"        \"drv\"          \"cty\"          \"hwy\"          \"fl\"          \n",
       "[11] \"class\"       "
      ]
     },
     "metadata": {},
     "output_type": "display_data"
    }
   ],
   "source": [
    "names(mpg)"
   ]
  },
  {
   "cell_type": "code",
   "execution_count": 10,
   "id": "32fed6ff",
   "metadata": {
    "scrolled": true
   },
   "outputs": [
    {
     "name": "stderr",
     "output_type": "stream",
     "text": [
      "Installing package into ‘/home/jrana/R/x86_64-pc-linux-gnu-library/4.2’\n",
      "(as ‘lib’ is unspecified)\n",
      "\n"
     ]
    }
   ],
   "source": [
    "install.packages(\"dplyr\")\n"
   ]
  },
  {
   "cell_type": "code",
   "execution_count": 11,
   "id": "c2085274",
   "metadata": {
    "scrolled": true
   },
   "outputs": [
    {
     "name": "stderr",
     "output_type": "stream",
     "text": [
      "\n",
      "Attaching package: ‘dplyr’\n",
      "\n",
      "\n",
      "The following objects are masked from ‘package:stats’:\n",
      "\n",
      "    filter, lag\n",
      "\n",
      "\n",
      "The following objects are masked from ‘package:base’:\n",
      "\n",
      "    intersect, setdiff, setequal, union\n",
      "\n",
      "\n"
     ]
    }
   ],
   "source": [
    "library(\"dplyr\")"
   ]
  },
  {
   "cell_type": "code",
   "execution_count": 19,
   "id": "2340f2fc",
   "metadata": {
    "scrolled": true
   },
   "outputs": [
    {
     "data": {
      "text/html": [
       "<table class=\"dataframe\">\n",
       "<caption>A tibble: 11 × 4</caption>\n",
       "<thead>\n",
       "\t<tr><th scope=col>var_name</th><th scope=col>type</th><th scope=col>level</th><th scope=col>dc</th></tr>\n",
       "\t<tr><th scope=col>&lt;chr&gt;</th><th scope=col>&lt;chr&gt;</th><th scope=col>&lt;chr&gt;</th><th scope=col>&lt;chr&gt;</th></tr>\n",
       "</thead>\n",
       "<tbody>\n",
       "\t<tr><td>manufacturer</td><td>qualitative </td><td>nominal </td><td>discrete </td></tr>\n",
       "\t<tr><td>model       </td><td>qualitative </td><td>nominal </td><td>discrete </td></tr>\n",
       "\t<tr><td>displ       </td><td>quantitative</td><td>ratio   </td><td>continous</td></tr>\n",
       "\t<tr><td>year        </td><td>quantitative</td><td>interval</td><td>discrete </td></tr>\n",
       "\t<tr><td>cyl         </td><td>quantitative</td><td>ratio   </td><td>discrete </td></tr>\n",
       "\t<tr><td>trans       </td><td>qualitative </td><td>nominal </td><td>discrete </td></tr>\n",
       "\t<tr><td>drv         </td><td>qualitative </td><td>nominal </td><td>discrete </td></tr>\n",
       "\t<tr><td>cty         </td><td>quantitative</td><td>ratio   </td><td>continous</td></tr>\n",
       "\t<tr><td>hwy         </td><td>quantitative</td><td>ratio   </td><td>continous</td></tr>\n",
       "\t<tr><td>fl          </td><td>qualitative </td><td>nominal </td><td>discrete </td></tr>\n",
       "\t<tr><td>class       </td><td>qualitative </td><td>nominal </td><td>discrete </td></tr>\n",
       "</tbody>\n",
       "</table>\n"
      ],
      "text/latex": [
       "A tibble: 11 × 4\n",
       "\\begin{tabular}{llll}\n",
       " var\\_name & type & level & dc\\\\\n",
       " <chr> & <chr> & <chr> & <chr>\\\\\n",
       "\\hline\n",
       "\t manufacturer & qualitative  & nominal  & discrete \\\\\n",
       "\t model        & qualitative  & nominal  & discrete \\\\\n",
       "\t displ        & quantitative & ratio    & continous\\\\\n",
       "\t year         & quantitative & interval & discrete \\\\\n",
       "\t cyl          & quantitative & ratio    & discrete \\\\\n",
       "\t trans        & qualitative  & nominal  & discrete \\\\\n",
       "\t drv          & qualitative  & nominal  & discrete \\\\\n",
       "\t cty          & quantitative & ratio    & continous\\\\\n",
       "\t hwy          & quantitative & ratio    & continous\\\\\n",
       "\t fl           & qualitative  & nominal  & discrete \\\\\n",
       "\t class        & qualitative  & nominal  & discrete \\\\\n",
       "\\end{tabular}\n"
      ],
      "text/markdown": [
       "\n",
       "A tibble: 11 × 4\n",
       "\n",
       "| var_name &lt;chr&gt; | type &lt;chr&gt; | level &lt;chr&gt; | dc &lt;chr&gt; |\n",
       "|---|---|---|---|\n",
       "| manufacturer | qualitative  | nominal  | discrete  |\n",
       "| model        | qualitative  | nominal  | discrete  |\n",
       "| displ        | quantitative | ratio    | continous |\n",
       "| year         | quantitative | interval | discrete  |\n",
       "| cyl          | quantitative | ratio    | discrete  |\n",
       "| trans        | qualitative  | nominal  | discrete  |\n",
       "| drv          | qualitative  | nominal  | discrete  |\n",
       "| cty          | quantitative | ratio    | continous |\n",
       "| hwy          | quantitative | ratio    | continous |\n",
       "| fl           | qualitative  | nominal  | discrete  |\n",
       "| class        | qualitative  | nominal  | discrete  |\n",
       "\n"
      ],
      "text/plain": [
       "   var_name     type         level    dc       \n",
       "1  manufacturer qualitative  nominal  discrete \n",
       "2  model        qualitative  nominal  discrete \n",
       "3  displ        quantitative ratio    continous\n",
       "4  year         quantitative interval discrete \n",
       "5  cyl          quantitative ratio    discrete \n",
       "6  trans        qualitative  nominal  discrete \n",
       "7  drv          qualitative  nominal  discrete \n",
       "8  cty          quantitative ratio    continous\n",
       "9  hwy          quantitative ratio    continous\n",
       "10 fl           qualitative  nominal  discrete \n",
       "11 class        qualitative  nominal  discrete "
      ]
     },
     "metadata": {},
     "output_type": "display_data"
    }
   ],
   "source": [
    "df<-tibble(\"var_name\"=names(mpg),\n",
    "           \"type\"=c(\"qualitative\",\"qualitative\",\"quantitative\",\"quantitative\"\n",
    "                   ,\"quantitative\",\"qualitative\",\"qualitative\",\"quantitative\",\"quantitative\"\n",
    "                   ,\"qualitative\",\"qualitative\"),\n",
    "            \"level\"=c(\"nominal\",\"nominal\",\"ratio\",\"interval\",\"ratio\",\n",
    "                      \"nominal\",\"nominal\",\"ratio\",\"ratio\",\"nominal\",\"nominal\"),\n",
    "            \"dc\"=c(\"discrete\",\"discrete\",\"continous\",\"discrete\",\"discrete\",\"discrete\",\n",
    "                  \"discrete\",\"continous\",\"continous\",\"discrete\",\"discrete\")\n",
    "          )\n",
    "df"
   ]
  },
  {
   "cell_type": "markdown",
   "id": "69d92bec",
   "metadata": {},
   "source": [
    "<h3 style=\"color:blue;text-align:center\">Exercise 8</h3>"
   ]
  },
  {
   "cell_type": "markdown",
   "id": "a15d480e",
   "metadata": {},
   "source": [
    "## Lists"
   ]
  },
  {
   "cell_type": "code",
   "execution_count": 22,
   "id": "e7c9ec19",
   "metadata": {},
   "outputs": [
    {
     "data": {
      "text/html": [
       "<ol>\n",
       "\t<li><style>\n",
       ".list-inline {list-style: none; margin:0; padding: 0}\n",
       ".list-inline>li {display: inline-block}\n",
       ".list-inline>li:not(:last-child)::after {content: \"\\00b7\"; padding: 0 .5ex}\n",
       "</style>\n",
       "<ol class=list-inline><li>1</li><li>2</li><li>3</li><li>4</li></ol>\n",
       "</li>\n",
       "\t<li><style>\n",
       ".list-inline {list-style: none; margin:0; padding: 0}\n",
       ".list-inline>li {display: inline-block}\n",
       ".list-inline>li:not(:last-child)::after {content: \"\\00b7\"; padding: 0 .5ex}\n",
       "</style>\n",
       "<ol class=list-inline><li>'Debi'</li><li>'Sandeep'</li><li>'Subham'</li><li>'Shiba'</li></ol>\n",
       "</li>\n",
       "\t<li><style>\n",
       ".list-inline {list-style: none; margin:0; padding: 0}\n",
       ".list-inline>li {display: inline-block}\n",
       ".list-inline>li:not(:last-child)::after {content: \"\\00b7\"; padding: 0 .5ex}\n",
       "</style>\n",
       "<ol class=list-inline><li>1</li><li>2</li></ol>\n",
       "</li>\n",
       "</ol>\n"
      ],
      "text/latex": [
       "\\begin{enumerate}\n",
       "\\item \\begin{enumerate*}\n",
       "\\item 1\n",
       "\\item 2\n",
       "\\item 3\n",
       "\\item 4\n",
       "\\end{enumerate*}\n",
       "\n",
       "\\item \\begin{enumerate*}\n",
       "\\item 'Debi'\n",
       "\\item 'Sandeep'\n",
       "\\item 'Subham'\n",
       "\\item 'Shiba'\n",
       "\\end{enumerate*}\n",
       "\n",
       "\\item \\begin{enumerate*}\n",
       "\\item 1\n",
       "\\item 2\n",
       "\\end{enumerate*}\n",
       "\n",
       "\\end{enumerate}\n"
      ],
      "text/markdown": [
       "1. 1. 1\n",
       "2. 2\n",
       "3. 3\n",
       "4. 4\n",
       "\n",
       "\n",
       "\n",
       "2. 1. 'Debi'\n",
       "2. 'Sandeep'\n",
       "3. 'Subham'\n",
       "4. 'Shiba'\n",
       "\n",
       "\n",
       "\n",
       "3. 1. 1\n",
       "2. 2\n",
       "\n",
       "\n",
       "\n",
       "\n",
       "\n"
      ],
      "text/plain": [
       "[[1]]\n",
       "[1] 1 2 3 4\n",
       "\n",
       "[[2]]\n",
       "[1] \"Debi\"    \"Sandeep\" \"Subham\"  \"Shiba\"  \n",
       "\n",
       "[[3]]\n",
       "[1] 1 2\n"
      ]
     },
     "metadata": {},
     "output_type": "display_data"
    }
   ],
   "source": [
    "id = c(1, 2, 3, 4)\n",
    "name = c(\"Debi\", \"Sandeep\", \"Subham\", \"Shiba\")\n",
    "n=c(1,2)\n",
    "ls = list(id, name, n)\n",
    "ls"
   ]
  },
  {
   "cell_type": "code",
   "execution_count": 23,
   "id": "c0cd8d03",
   "metadata": {
    "scrolled": true
   },
   "outputs": [
    {
     "name": "stdout",
     "output_type": "stream",
     "text": [
      "[[1]]\n",
      "[1] 1 2 3 4\n",
      "\n",
      "[[2]]\n",
      "[1] \"Debi\"    \"Sandeep\" \"Subham\"  \"Shiba\"  \n",
      "\n",
      "[[3]]\n",
      "[1] 1 2\n",
      "\n"
     ]
    }
   ],
   "source": [
    "print(ls)"
   ]
  },
  {
   "cell_type": "code",
   "execution_count": 24,
   "id": "255a5847",
   "metadata": {
    "scrolled": true
   },
   "outputs": [
    {
     "data": {
      "text/html": [
       "<dl>\n",
       "\t<dt>$id</dt>\n",
       "\t\t<dd><style>\n",
       ".list-inline {list-style: none; margin:0; padding: 0}\n",
       ".list-inline>li {display: inline-block}\n",
       ".list-inline>li:not(:last-child)::after {content: \"\\00b7\"; padding: 0 .5ex}\n",
       "</style>\n",
       "<ol class=list-inline><li>1</li><li>2</li><li>3</li><li>4</li></ol>\n",
       "</dd>\n",
       "\t<dt>$name</dt>\n",
       "\t\t<dd><style>\n",
       ".list-inline {list-style: none; margin:0; padding: 0}\n",
       ".list-inline>li {display: inline-block}\n",
       ".list-inline>li:not(:last-child)::after {content: \"\\00b7\"; padding: 0 .5ex}\n",
       "</style>\n",
       "<ol class=list-inline><li>'Debi'</li><li>'Sandeep'</li><li>'Subham'</li><li>'Shiba'</li></ol>\n",
       "</dd>\n",
       "\t<dt>$n</dt>\n",
       "\t\t<dd><style>\n",
       ".list-inline {list-style: none; margin:0; padding: 0}\n",
       ".list-inline>li {display: inline-block}\n",
       ".list-inline>li:not(:last-child)::after {content: \"\\00b7\"; padding: 0 .5ex}\n",
       "</style>\n",
       "<ol class=list-inline><li>1</li><li>2</li></ol>\n",
       "</dd>\n",
       "</dl>\n"
      ],
      "text/latex": [
       "\\begin{description}\n",
       "\\item[\\$id] \\begin{enumerate*}\n",
       "\\item 1\n",
       "\\item 2\n",
       "\\item 3\n",
       "\\item 4\n",
       "\\end{enumerate*}\n",
       "\n",
       "\\item[\\$name] \\begin{enumerate*}\n",
       "\\item 'Debi'\n",
       "\\item 'Sandeep'\n",
       "\\item 'Subham'\n",
       "\\item 'Shiba'\n",
       "\\end{enumerate*}\n",
       "\n",
       "\\item[\\$n] \\begin{enumerate*}\n",
       "\\item 1\n",
       "\\item 2\n",
       "\\end{enumerate*}\n",
       "\n",
       "\\end{description}\n"
      ],
      "text/markdown": [
       "$id\n",
       ":   1. 1\n",
       "2. 2\n",
       "3. 3\n",
       "4. 4\n",
       "\n",
       "\n",
       "\n",
       "$name\n",
       ":   1. 'Debi'\n",
       "2. 'Sandeep'\n",
       "3. 'Subham'\n",
       "4. 'Shiba'\n",
       "\n",
       "\n",
       "\n",
       "$n\n",
       ":   1. 1\n",
       "2. 2\n",
       "\n",
       "\n",
       "\n",
       "\n",
       "\n"
      ],
      "text/plain": [
       "$id\n",
       "[1] 1 2 3 4\n",
       "\n",
       "$name\n",
       "[1] \"Debi\"    \"Sandeep\" \"Subham\"  \"Shiba\"  \n",
       "\n",
       "$n\n",
       "[1] 1 2\n"
      ]
     },
     "metadata": {},
     "output_type": "display_data"
    }
   ],
   "source": [
    "ls = list(\"id\"=id, \"name\"=name, \"n\"=n)\n",
    "ls"
   ]
  },
  {
   "cell_type": "code",
   "execution_count": 25,
   "id": "cf84a922",
   "metadata": {
    "scrolled": true
   },
   "outputs": [
    {
     "data": {
      "text/html": [
       "<style>\n",
       ".list-inline {list-style: none; margin:0; padding: 0}\n",
       ".list-inline>li {display: inline-block}\n",
       ".list-inline>li:not(:last-child)::after {content: \"\\00b7\"; padding: 0 .5ex}\n",
       "</style>\n",
       "<ol class=list-inline><li>1</li><li>2</li><li>3</li><li>4</li></ol>\n"
      ],
      "text/latex": [
       "\\begin{enumerate*}\n",
       "\\item 1\n",
       "\\item 2\n",
       "\\item 3\n",
       "\\item 4\n",
       "\\end{enumerate*}\n"
      ],
      "text/markdown": [
       "1. 1\n",
       "2. 2\n",
       "3. 3\n",
       "4. 4\n",
       "\n",
       "\n"
      ],
      "text/plain": [
       "[1] 1 2 3 4"
      ]
     },
     "metadata": {},
     "output_type": "display_data"
    }
   ],
   "source": [
    "ls[[1]]"
   ]
  },
  {
   "cell_type": "code",
   "execution_count": 26,
   "id": "6bc07e59",
   "metadata": {
    "scrolled": true
   },
   "outputs": [
    {
     "data": {
      "text/html": [
       "2"
      ],
      "text/latex": [
       "2"
      ],
      "text/markdown": [
       "2"
      ],
      "text/plain": [
       "[1] 2"
      ]
     },
     "metadata": {},
     "output_type": "display_data"
    }
   ],
   "source": [
    "ls[[1]][2]"
   ]
  },
  {
   "cell_type": "code",
   "execution_count": 27,
   "id": "13197de5",
   "metadata": {},
   "outputs": [],
   "source": [
    "# Modifying inner level component\n",
    "ls[[1]][5] = 9\n",
    "ls[[2]][5] = \"xyz\""
   ]
  },
  {
   "cell_type": "code",
   "execution_count": 28,
   "id": "f3c059b5",
   "metadata": {},
   "outputs": [
    {
     "data": {
      "text/html": [
       "<dl>\n",
       "\t<dt>$id</dt>\n",
       "\t\t<dd><style>\n",
       ".list-inline {list-style: none; margin:0; padding: 0}\n",
       ".list-inline>li {display: inline-block}\n",
       ".list-inline>li:not(:last-child)::after {content: \"\\00b7\"; padding: 0 .5ex}\n",
       "</style>\n",
       "<ol class=list-inline><li>1</li><li>2</li><li>3</li><li>4</li><li>9</li></ol>\n",
       "</dd>\n",
       "\t<dt>$name</dt>\n",
       "\t\t<dd><style>\n",
       ".list-inline {list-style: none; margin:0; padding: 0}\n",
       ".list-inline>li {display: inline-block}\n",
       ".list-inline>li:not(:last-child)::after {content: \"\\00b7\"; padding: 0 .5ex}\n",
       "</style>\n",
       "<ol class=list-inline><li>'Debi'</li><li>'Sandeep'</li><li>'Subham'</li><li>'Shiba'</li><li>'xyz'</li></ol>\n",
       "</dd>\n",
       "\t<dt>$n</dt>\n",
       "\t\t<dd><style>\n",
       ".list-inline {list-style: none; margin:0; padding: 0}\n",
       ".list-inline>li {display: inline-block}\n",
       ".list-inline>li:not(:last-child)::after {content: \"\\00b7\"; padding: 0 .5ex}\n",
       "</style>\n",
       "<ol class=list-inline><li>1</li><li>2</li></ol>\n",
       "</dd>\n",
       "</dl>\n"
      ],
      "text/latex": [
       "\\begin{description}\n",
       "\\item[\\$id] \\begin{enumerate*}\n",
       "\\item 1\n",
       "\\item 2\n",
       "\\item 3\n",
       "\\item 4\n",
       "\\item 9\n",
       "\\end{enumerate*}\n",
       "\n",
       "\\item[\\$name] \\begin{enumerate*}\n",
       "\\item 'Debi'\n",
       "\\item 'Sandeep'\n",
       "\\item 'Subham'\n",
       "\\item 'Shiba'\n",
       "\\item 'xyz'\n",
       "\\end{enumerate*}\n",
       "\n",
       "\\item[\\$n] \\begin{enumerate*}\n",
       "\\item 1\n",
       "\\item 2\n",
       "\\end{enumerate*}\n",
       "\n",
       "\\end{description}\n"
      ],
      "text/markdown": [
       "$id\n",
       ":   1. 1\n",
       "2. 2\n",
       "3. 3\n",
       "4. 4\n",
       "5. 9\n",
       "\n",
       "\n",
       "\n",
       "$name\n",
       ":   1. 'Debi'\n",
       "2. 'Sandeep'\n",
       "3. 'Subham'\n",
       "4. 'Shiba'\n",
       "5. 'xyz'\n",
       "\n",
       "\n",
       "\n",
       "$n\n",
       ":   1. 1\n",
       "2. 2\n",
       "\n",
       "\n",
       "\n",
       "\n",
       "\n"
      ],
      "text/plain": [
       "$id\n",
       "[1] 1 2 3 4 9\n",
       "\n",
       "$name\n",
       "[1] \"Debi\"    \"Sandeep\" \"Subham\"  \"Shiba\"   \"xyz\"    \n",
       "\n",
       "$n\n",
       "[1] 1 2\n"
      ]
     },
     "metadata": {},
     "output_type": "display_data"
    }
   ],
   "source": [
    "ls"
   ]
  }
 ],
 "metadata": {
  "kernelspec": {
   "display_name": "R",
   "language": "R",
   "name": "ir"
  },
  "language_info": {
   "codemirror_mode": "r",
   "file_extension": ".r",
   "mimetype": "text/x-r-source",
   "name": "R",
   "pygments_lexer": "r",
   "version": "4.2.2"
  }
 },
 "nbformat": 4,
 "nbformat_minor": 5
}
